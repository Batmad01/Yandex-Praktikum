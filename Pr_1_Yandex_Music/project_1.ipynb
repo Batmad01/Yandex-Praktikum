{
 "cells": [
  {
   "cell_type": "markdown",
   "metadata": {
    "id": "E0vqbgi9ay0H"
   },
   "source": [
    "# Яндекс.Музыка"
   ]
  },
  {
   "cell_type": "markdown",
   "metadata": {
    "id": "VUC88oWjTJw2"
   },
   "source": [
    "Сравнение Москвы и Петербурга окружено мифами. Например:\n",
    " * Москва — мегаполис, подчинённый жёсткому ритму рабочей недели;\n",
    " * Петербург — культурная столица, со своими вкусами.\n",
    "\n",
    "На данных Яндекс.Музыки мы сравним поведение пользователей двух столиц.\n",
    "\n",
    "**Цель исследования** — проверить три гипотезы:\n",
    "1. Активность пользователей зависит от дня недели. Причём в Москве и Петербурге это проявляется по-разному.\n",
    "2. В понедельник утром в Москве преобладают одни жанры, а в Петербурге — другие. Так же и вечером пятницы преобладают разные жанры — в зависимости от города. \n",
    "3. Москва и Петербург предпочитают разные жанры музыки. В Москве чаще слушают поп-музыку, в Петербурге — русский рэп.\n",
    "\n",
    "**Ход исследования**\n",
    " \n",
    "Таким образом, исследование пройдёт в три этапа:\n",
    " 1. Обзор данных.\n",
    " 2. Предобработка данных.\n",
    " 3. Проверка гипотез.\n",
    "\n"
   ]
  },
  {
   "cell_type": "markdown",
   "metadata": {
    "id": "Ml1hmfXC_Zcs"
   },
   "source": [
    "## Обзор данных"
   ]
  },
  {
   "cell_type": "markdown",
   "metadata": {
    "id": "57eAOGIz_Zcs"
   },
   "source": [
    "Составим первое представление о данных Яндекс.Музыки"
   ]
  },
  {
   "cell_type": "code",
   "execution_count": 1,
   "metadata": {
    "id": "AXN7PHPN_Zcs"
   },
   "outputs": [],
   "source": [
    "# импорт библиотеки pandas\n",
    "import pandas as pd"
   ]
  },
  {
   "cell_type": "code",
   "execution_count": 2,
   "metadata": {
    "id": "fFVu7vqh_Zct"
   },
   "outputs": [],
   "source": [
    "# чтение файла с данными и сохранение в df\n",
    "df = pd.read_csv('D:/Datasets/yandex_music_project.csv')"
   ]
  },
  {
   "cell_type": "code",
   "execution_count": 3,
   "metadata": {
    "id": "oWTVX3gW_Zct"
   },
   "outputs": [
    {
     "data": {
      "text/html": [
       "<div>\n",
       "<style scoped>\n",
       "    .dataframe tbody tr th:only-of-type {\n",
       "        vertical-align: middle;\n",
       "    }\n",
       "\n",
       "    .dataframe tbody tr th {\n",
       "        vertical-align: top;\n",
       "    }\n",
       "\n",
       "    .dataframe thead th {\n",
       "        text-align: right;\n",
       "    }\n",
       "</style>\n",
       "<table border=\"1\" class=\"dataframe\">\n",
       "  <thead>\n",
       "    <tr style=\"text-align: right;\">\n",
       "      <th></th>\n",
       "      <th>userID</th>\n",
       "      <th>Track</th>\n",
       "      <th>artist</th>\n",
       "      <th>genre</th>\n",
       "      <th>City</th>\n",
       "      <th>time</th>\n",
       "      <th>Day</th>\n",
       "    </tr>\n",
       "  </thead>\n",
       "  <tbody>\n",
       "    <tr>\n",
       "      <th>0</th>\n",
       "      <td>FFB692EC</td>\n",
       "      <td>Kamigata To Boots</td>\n",
       "      <td>The Mass Missile</td>\n",
       "      <td>rock</td>\n",
       "      <td>Saint-Petersburg</td>\n",
       "      <td>20:28:33</td>\n",
       "      <td>Wednesday</td>\n",
       "    </tr>\n",
       "    <tr>\n",
       "      <th>1</th>\n",
       "      <td>55204538</td>\n",
       "      <td>Delayed Because of Accident</td>\n",
       "      <td>Andreas Rönnberg</td>\n",
       "      <td>rock</td>\n",
       "      <td>Moscow</td>\n",
       "      <td>14:07:09</td>\n",
       "      <td>Friday</td>\n",
       "    </tr>\n",
       "    <tr>\n",
       "      <th>2</th>\n",
       "      <td>20EC38</td>\n",
       "      <td>Funiculì funiculà</td>\n",
       "      <td>Mario Lanza</td>\n",
       "      <td>pop</td>\n",
       "      <td>Saint-Petersburg</td>\n",
       "      <td>20:58:07</td>\n",
       "      <td>Wednesday</td>\n",
       "    </tr>\n",
       "    <tr>\n",
       "      <th>3</th>\n",
       "      <td>A3DD03C9</td>\n",
       "      <td>Dragons in the Sunset</td>\n",
       "      <td>Fire + Ice</td>\n",
       "      <td>folk</td>\n",
       "      <td>Saint-Petersburg</td>\n",
       "      <td>08:37:09</td>\n",
       "      <td>Monday</td>\n",
       "    </tr>\n",
       "    <tr>\n",
       "      <th>4</th>\n",
       "      <td>E2DC1FAE</td>\n",
       "      <td>Soul People</td>\n",
       "      <td>Space Echo</td>\n",
       "      <td>dance</td>\n",
       "      <td>Moscow</td>\n",
       "      <td>08:34:34</td>\n",
       "      <td>Monday</td>\n",
       "    </tr>\n",
       "    <tr>\n",
       "      <th>5</th>\n",
       "      <td>842029A1</td>\n",
       "      <td>Преданная</td>\n",
       "      <td>IMPERVTOR</td>\n",
       "      <td>rusrap</td>\n",
       "      <td>Saint-Petersburg</td>\n",
       "      <td>13:09:41</td>\n",
       "      <td>Friday</td>\n",
       "    </tr>\n",
       "    <tr>\n",
       "      <th>6</th>\n",
       "      <td>4CB90AA5</td>\n",
       "      <td>True</td>\n",
       "      <td>Roman Messer</td>\n",
       "      <td>dance</td>\n",
       "      <td>Moscow</td>\n",
       "      <td>13:00:07</td>\n",
       "      <td>Wednesday</td>\n",
       "    </tr>\n",
       "    <tr>\n",
       "      <th>7</th>\n",
       "      <td>F03E1C1F</td>\n",
       "      <td>Feeling This Way</td>\n",
       "      <td>Polina Griffith</td>\n",
       "      <td>dance</td>\n",
       "      <td>Moscow</td>\n",
       "      <td>20:47:49</td>\n",
       "      <td>Wednesday</td>\n",
       "    </tr>\n",
       "    <tr>\n",
       "      <th>8</th>\n",
       "      <td>8FA1D3BE</td>\n",
       "      <td>И вновь продолжается бой</td>\n",
       "      <td>NaN</td>\n",
       "      <td>ruspop</td>\n",
       "      <td>Moscow</td>\n",
       "      <td>09:17:40</td>\n",
       "      <td>Friday</td>\n",
       "    </tr>\n",
       "    <tr>\n",
       "      <th>9</th>\n",
       "      <td>E772D5C0</td>\n",
       "      <td>Pessimist</td>\n",
       "      <td>NaN</td>\n",
       "      <td>dance</td>\n",
       "      <td>Saint-Petersburg</td>\n",
       "      <td>21:20:49</td>\n",
       "      <td>Wednesday</td>\n",
       "    </tr>\n",
       "  </tbody>\n",
       "</table>\n",
       "</div>"
      ],
      "text/plain": [
       "     userID                        Track            artist   genre  \\\n",
       "0  FFB692EC            Kamigata To Boots  The Mass Missile    rock   \n",
       "1  55204538  Delayed Because of Accident  Andreas Rönnberg    rock   \n",
       "2    20EC38            Funiculì funiculà       Mario Lanza     pop   \n",
       "3  A3DD03C9        Dragons in the Sunset        Fire + Ice    folk   \n",
       "4  E2DC1FAE                  Soul People        Space Echo   dance   \n",
       "5  842029A1                    Преданная         IMPERVTOR  rusrap   \n",
       "6  4CB90AA5                         True      Roman Messer   dance   \n",
       "7  F03E1C1F             Feeling This Way   Polina Griffith   dance   \n",
       "8  8FA1D3BE     И вновь продолжается бой               NaN  ruspop   \n",
       "9  E772D5C0                    Pessimist               NaN   dance   \n",
       "\n",
       "             City        time        Day  \n",
       "0  Saint-Petersburg  20:28:33  Wednesday  \n",
       "1            Moscow  14:07:09     Friday  \n",
       "2  Saint-Petersburg  20:58:07  Wednesday  \n",
       "3  Saint-Petersburg  08:37:09     Monday  \n",
       "4            Moscow  08:34:34     Monday  \n",
       "5  Saint-Petersburg  13:09:41     Friday  \n",
       "6            Moscow  13:00:07  Wednesday  \n",
       "7            Moscow  20:47:49  Wednesday  \n",
       "8            Moscow  09:17:40     Friday  \n",
       "9  Saint-Petersburg  21:20:49  Wednesday  "
      ]
     },
     "execution_count": 3,
     "metadata": {},
     "output_type": "execute_result"
    }
   ],
   "source": [
    "# получение первых 10 строк таблицы df\n",
    "df.head(10)"
   ]
  },
  {
   "cell_type": "code",
   "execution_count": 4,
   "metadata": {
    "id": "DSf2kIb-_Zct"
   },
   "outputs": [
    {
     "name": "stdout",
     "output_type": "stream",
     "text": [
      "<class 'pandas.core.frame.DataFrame'>\n",
      "RangeIndex: 65079 entries, 0 to 65078\n",
      "Data columns (total 7 columns):\n",
      " #   Column    Non-Null Count  Dtype \n",
      "---  ------    --------------  ----- \n",
      " 0     userID  65079 non-null  object\n",
      " 1   Track     63848 non-null  object\n",
      " 2   artist    57876 non-null  object\n",
      " 3   genre     63881 non-null  object\n",
      " 4     City    65079 non-null  object\n",
      " 5   time      65079 non-null  object\n",
      " 6   Day       65079 non-null  object\n",
      "dtypes: object(7)\n",
      "memory usage: 3.5+ MB\n"
     ]
    }
   ],
   "source": [
    "# получение общей информации о данных в таблице df\n",
    "df.info()"
   ]
  },
  {
   "cell_type": "markdown",
   "metadata": {
    "id": "TaQ2Iwbr_Zct"
   },
   "source": [
    "Итак, в таблице семь столбцов. Тип данных во всех столбцах — `object`.\n",
    "\n",
    "Согласно документации к данным:\n",
    "* `userID` — идентификатор пользователя;\n",
    "* `Track` — название трека;  \n",
    "* `artist` — имя исполнителя;\n",
    "* `genre` — название жанра;\n",
    "* `City` — город пользователя;\n",
    "* `time` — время начала прослушивания;\n",
    "* `Day` — день недели.\n",
    "\n",
    "В названиях колонок видны три нарушения стиля:\n",
    "1. Строчные буквы сочетаются с прописными.\n",
    "2. Встречаются пробелы.\n",
    "3. Написание двух слов слитно.\n",
    "\n",
    "Количество значений в столбцах различается. Значит, в данных есть пропущенные значения.\n"
   ]
  },
  {
   "cell_type": "markdown",
   "metadata": {
    "id": "MCB6-dXG_Zct"
   },
   "source": [
    "**Выводы**\n",
    "\n",
    "В каждой строке таблицы — данные о прослушанном треке. Часть колонок описывает саму композицию: название, исполнителя и жанр. Остальные данные рассказывают о пользователе: из какого он города, когда он слушал музыку. \n",
    "\n",
    "Предварительно можно утверждать, что, данных достаточно для проверки гипотез. Но встречаются пропуски в данных, а в названиях колонок — расхождения с хорошим стилем.\n",
    "\n",
    "Чтобы двигаться дальше, нужно устранить проблемы в данных."
   ]
  },
  {
   "cell_type": "markdown",
   "metadata": {
    "id": "SjYF6Ub9_Zct"
   },
   "source": [
    "## Предобработка данных"
   ]
  },
  {
   "cell_type": "markdown",
   "metadata": {},
   "source": [
    "Исправим стиль в заголовках столбцов, исключим пропуски. Затем проверим данные на дубликаты."
   ]
  },
  {
   "cell_type": "markdown",
   "metadata": {
    "id": "dIaKXr29_Zct"
   },
   "source": [
    "### Стиль заголовков"
   ]
  },
  {
   "cell_type": "markdown",
   "metadata": {},
   "source": [
    "Выведем на экран названия столбцов:"
   ]
  },
  {
   "cell_type": "code",
   "execution_count": 5,
   "metadata": {
    "id": "oKOTdF_Q_Zct",
    "scrolled": true
   },
   "outputs": [
    {
     "data": {
      "text/plain": [
       "Index(['  userID', 'Track', 'artist', 'genre', '  City  ', 'time', 'Day'], dtype='object')"
      ]
     },
     "execution_count": 5,
     "metadata": {},
     "output_type": "execute_result"
    }
   ],
   "source": [
    "# перечень названий столбцов таблицы df\n",
    "df.columns"
   ]
  },
  {
   "cell_type": "markdown",
   "metadata": {
    "id": "zj5534cv_Zct"
   },
   "source": [
    "Приведем названия колонок к хорошему стилю:"
   ]
  },
  {
   "cell_type": "code",
   "execution_count": 6,
   "metadata": {
    "id": "ISlFqs5y_Zct"
   },
   "outputs": [],
   "source": [
    "# переименование столбцов\n",
    "df = df.rename(columns={'  userID': 'user_id', \n",
    "                        'Track': 'track', \n",
    "                        '  City  ': 'city', \n",
    "                        'Day': 'day'})"
   ]
  },
  {
   "cell_type": "markdown",
   "metadata": {
    "id": "1dqbh00J_Zct"
   },
   "source": [
    "Проверим результат"
   ]
  },
  {
   "cell_type": "code",
   "execution_count": 7,
   "metadata": {
    "id": "d4NOAmTW_Zct"
   },
   "outputs": [
    {
     "data": {
      "text/plain": [
       "Index(['user_id', 'track', 'artist', 'genre', 'city', 'time', 'day'], dtype='object')"
      ]
     },
     "execution_count": 7,
     "metadata": {},
     "output_type": "execute_result"
    }
   ],
   "source": [
    "# проверка результатов - перечень названий столбцов\n",
    "df.columns"
   ]
  },
  {
   "cell_type": "markdown",
   "metadata": {},
   "source": [
    "**Выводы**\n",
    "\n",
    "Со столбцами можно работать 😊"
   ]
  },
  {
   "cell_type": "markdown",
   "metadata": {
    "id": "5ISfbcfY_Zct"
   },
   "source": [
    "### Пропуски значений"
   ]
  },
  {
   "cell_type": "markdown",
   "metadata": {},
   "source": [
    "Считаем пропуски в таблице"
   ]
  },
  {
   "cell_type": "code",
   "execution_count": 8,
   "metadata": {
    "id": "RskX29qr_Zct"
   },
   "outputs": [
    {
     "data": {
      "text/plain": [
       "user_id       0\n",
       "track      1231\n",
       "artist     7203\n",
       "genre      1198\n",
       "city          0\n",
       "time          0\n",
       "day           0\n",
       "dtype: int64"
      ]
     },
     "execution_count": 8,
     "metadata": {},
     "output_type": "execute_result"
    }
   ],
   "source": [
    "# подсчёт пропусков\n",
    "df.isna().sum()"
   ]
  },
  {
   "cell_type": "markdown",
   "metadata": {
    "id": "qubhgnlO_Zct"
   },
   "source": [
    "Не все пропущенные значения влияют на исследование. Так в `track` и `artist` пропуски не важны для нашей работы. Достаточно заменить их явными обозначениями.\n",
    "\n",
    "Но пропуски в `genre` могут помешать сравнению музыкальных вкусов в Москве и Санкт-Петербурге. На практике было бы правильно установить причину пропусков и восстановить данные. Такой возможности нет в учебном проекте. Придётся:\n",
    "* заполнить и эти пропуски явными обозначениями,\n",
    "* оценить, насколько они повредят расчётам. "
   ]
  },
  {
   "cell_type": "markdown",
   "metadata": {
    "id": "fSv2laPA_Zct"
   },
   "source": [
    "Заменим пропущенные значения в столбцах `track`, `artist` и `genre` на строку `'unknown'`. Для этого создадим список `columns_to_replace`, переберём его элементы циклом `for` и для каждого столбца выполним замену пропущенных значений:"
   ]
  },
  {
   "cell_type": "code",
   "execution_count": 9,
   "metadata": {
    "id": "KplB5qWs_Zct"
   },
   "outputs": [],
   "source": [
    "# перебор названий столбцов в цикле и замена пропущенных значений на 'unknown'\n",
    "columns_to_replace = ['track', 'artist' , 'genre']\n",
    "for column in columns_to_replace:\n",
    "    df[column] = df[column].fillna('unknown')"
   ]
  },
  {
   "cell_type": "markdown",
   "metadata": {
    "id": "Ilsm-MZo_Zct"
   },
   "source": [
    "Убедимся, что в таблице не осталось пропусков"
   ]
  },
  {
   "cell_type": "code",
   "execution_count": 10,
   "metadata": {
    "id": "Tq4nYRX4_Zct"
   },
   "outputs": [
    {
     "data": {
      "text/plain": [
       "user_id    0\n",
       "track      0\n",
       "artist     0\n",
       "genre      0\n",
       "city       0\n",
       "time       0\n",
       "day        0\n",
       "dtype: int64"
      ]
     },
     "execution_count": 10,
     "metadata": {},
     "output_type": "execute_result"
    }
   ],
   "source": [
    "# подсчёт пропусков\n",
    "df.isna().sum()"
   ]
  },
  {
   "cell_type": "markdown",
   "metadata": {
    "id": "BWKRtBJ3_Zct"
   },
   "source": [
    "### Дубликаты"
   ]
  },
  {
   "cell_type": "code",
   "execution_count": 11,
   "metadata": {
    "id": "36eES_S0_Zct"
   },
   "outputs": [
    {
     "data": {
      "text/plain": [
       "3826"
      ]
     },
     "execution_count": 11,
     "metadata": {},
     "output_type": "execute_result"
    }
   ],
   "source": [
    "# подсчёт явных дубликатов\n",
    "df.duplicated().sum()"
   ]
  },
  {
   "cell_type": "markdown",
   "metadata": {
    "id": "Ot25h6XR_Zct"
   },
   "source": [
    "Удалим явные дубликаты:"
   ]
  },
  {
   "cell_type": "code",
   "execution_count": 12,
   "metadata": {
    "id": "exFHq6tt_Zct"
   },
   "outputs": [],
   "source": [
    "# удаление явных дубликатов (с удалением старых индексов и формированием новых)\n",
    "df = df.drop_duplicates().reset_index(drop=True)"
   ]
  },
  {
   "cell_type": "code",
   "execution_count": 13,
   "metadata": {
    "id": "-8PuNWQ0_Zct"
   },
   "outputs": [
    {
     "data": {
      "text/plain": [
       "0"
      ]
     },
     "execution_count": 13,
     "metadata": {},
     "output_type": "execute_result"
    }
   ],
   "source": [
    "# проверка на отсутствие дубликатов\n",
    "df.duplicated().sum()"
   ]
  },
  {
   "cell_type": "markdown",
   "metadata": {
    "id": "QlFBsxAr_Zct"
   },
   "source": [
    "Теперь избавимся от неявных дубликатов в колонке `genre`."
   ]
  },
  {
   "cell_type": "markdown",
   "metadata": {
    "id": "eSjWwsOh_Zct"
   },
   "source": [
    "Выведем на экран список уникальных названий жанров, отсортированный в алфавитном порядке."
   ]
  },
  {
   "cell_type": "code",
   "execution_count": 14,
   "metadata": {
    "id": "JIUcqzZN_Zct"
   },
   "outputs": [
    {
     "data": {
      "text/plain": [
       "array(['acid', 'acoustic', 'action', 'adult', 'africa', 'afrikaans',\n",
       "       'alternative', 'alternativepunk', 'ambient', 'americana',\n",
       "       'animated', 'anime', 'arabesk', 'arabic', 'arena',\n",
       "       'argentinetango', 'art', 'audiobook', 'author', 'avantgarde',\n",
       "       'axé', 'baile', 'balkan', 'beats', 'bigroom', 'black', 'bluegrass',\n",
       "       'blues', 'bollywood', 'bossa', 'brazilian', 'breakbeat', 'breaks',\n",
       "       'broadway', 'cantautori', 'cantopop', 'canzone', 'caribbean',\n",
       "       'caucasian', 'celtic', 'chamber', 'chanson', 'children', 'chill',\n",
       "       'chinese', 'choral', 'christian', 'christmas', 'classical',\n",
       "       'classicmetal', 'club', 'colombian', 'comedy', 'conjazz',\n",
       "       'contemporary', 'country', 'cuban', 'dance', 'dancehall',\n",
       "       'dancepop', 'dark', 'death', 'deep', 'deutschrock', 'deutschspr',\n",
       "       'dirty', 'disco', 'dnb', 'documentary', 'downbeat', 'downtempo',\n",
       "       'drum', 'dub', 'dubstep', 'eastern', 'easy', 'electronic',\n",
       "       'electropop', 'emo', 'entehno', 'epicmetal', 'estrada', 'ethnic',\n",
       "       'eurofolk', 'european', 'experimental', 'extrememetal', 'fado',\n",
       "       'fairytail', 'film', 'fitness', 'flamenco', 'folk', 'folklore',\n",
       "       'folkmetal', 'folkrock', 'folktronica', 'forró', 'frankreich',\n",
       "       'französisch', 'french', 'funk', 'future', 'gangsta', 'garage',\n",
       "       'german', 'ghazal', 'gitarre', 'glitch', 'gospel', 'gothic',\n",
       "       'grime', 'grunge', 'gypsy', 'handsup', \"hard'n'heavy\", 'hardcore',\n",
       "       'hardstyle', 'hardtechno', 'hip', 'hip-hop', 'hiphop',\n",
       "       'historisch', 'holiday', 'hop', 'horror', 'house', 'hymn', 'idm',\n",
       "       'independent', 'indian', 'indie', 'indipop', 'industrial',\n",
       "       'inspirational', 'instrumental', 'international', 'irish', 'jam',\n",
       "       'japanese', 'jazz', 'jewish', 'jpop', 'jungle', 'k-pop',\n",
       "       'karadeniz', 'karaoke', 'kayokyoku', 'korean', 'laiko', 'latin',\n",
       "       'latino', 'leftfield', 'local', 'lounge', 'loungeelectronic',\n",
       "       'lovers', 'malaysian', 'mandopop', 'marschmusik', 'meditative',\n",
       "       'mediterranean', 'melodic', 'metal', 'metalcore', 'mexican',\n",
       "       'middle', 'minimal', 'miscellaneous', 'modern', 'mood', 'mpb',\n",
       "       'muslim', 'native', 'neoklassik', 'neue', 'new', 'newage',\n",
       "       'newwave', 'nu', 'nujazz', 'numetal', 'oceania', 'old', 'opera',\n",
       "       'orchestral', 'other', 'piano', 'podcasts', 'pop', 'popdance',\n",
       "       'popelectronic', 'popeurodance', 'poprussian', 'post',\n",
       "       'posthardcore', 'postrock', 'power', 'progmetal', 'progressive',\n",
       "       'psychedelic', 'punjabi', 'punk', 'quebecois', 'ragga', 'ram',\n",
       "       'rancheras', 'rap', 'rave', 'reggae', 'reggaeton', 'regional',\n",
       "       'relax', 'religious', 'retro', 'rhythm', 'rnb', 'rnr', 'rock',\n",
       "       'rockabilly', 'rockalternative', 'rockindie', 'rockother',\n",
       "       'romance', 'roots', 'ruspop', 'rusrap', 'rusrock', 'russian',\n",
       "       'salsa', 'samba', 'scenic', 'schlager', 'self', 'sertanejo',\n",
       "       'shanson', 'shoegazing', 'showtunes', 'singer', 'ska', 'skarock',\n",
       "       'slow', 'smooth', 'soft', 'soul', 'soulful', 'sound', 'soundtrack',\n",
       "       'southern', 'specialty', 'speech', 'spiritual', 'sport',\n",
       "       'stonerrock', 'surf', 'swing', 'synthpop', 'synthrock',\n",
       "       'sängerportrait', 'tango', 'tanzorchester', 'taraftar', 'tatar',\n",
       "       'tech', 'techno', 'teen', 'thrash', 'top', 'traditional',\n",
       "       'tradjazz', 'trance', 'tribal', 'trip', 'triphop', 'tropical',\n",
       "       'türk', 'türkçe', 'ukrrock', 'unknown', 'urban', 'uzbek',\n",
       "       'variété', 'vi', 'videogame', 'vocal', 'western', 'world',\n",
       "       'worldbeat', 'ïîï', 'электроника'], dtype=object)"
      ]
     },
     "execution_count": 14,
     "metadata": {},
     "output_type": "execute_result"
    }
   ],
   "source": [
    "# Просмотр уникальных названий жанров\n",
    "df['genre'].sort_values().unique()"
   ]
  },
  {
   "cell_type": "markdown",
   "metadata": {
    "id": "qej-Qmuo_Zct"
   },
   "source": [
    "Мы видим следующие неявные дубликаты:\n",
    "* *hip*,\n",
    "* *hop*,\n",
    "* *hip-hop*.\n",
    "\n",
    "Чтобы очистить от них таблицу, напишем функцию `replace_wrong_genres()` с двумя параметрами: \n",
    "* `wrong_genres` — список дубликатов,\n",
    "* `correct_genre` — строка с правильным значением.\n",
    "\n",
    "Функция должна исправить колонку `genre` в таблице `df`: заменить каждое значение из списка `wrong_genres` на значение из `correct_genre`."
   ]
  },
  {
   "cell_type": "code",
   "execution_count": 15,
   "metadata": {
    "id": "ErNDkmns_Zct"
   },
   "outputs": [],
   "source": [
    "# Функция для замены неявных дубликатов\n",
    "def replace_wrong_genres(wrong_genres,correct_genre):\n",
    "    for wrong_genre in wrong_genres:\n",
    "        df['genre'] = df['genre'].replace(wrong_genres,correct_genre) "
   ]
  },
  {
   "cell_type": "code",
   "execution_count": 16,
   "metadata": {
    "id": "YN5i2hpmSo09"
   },
   "outputs": [],
   "source": [
    "# Устранение неявных дубликатов\n",
    "duplicates = ['hip', 'hop', 'hip-hop']\n",
    "name = 'hiphop'\n",
    "replace_wrong_genres(duplicates, name)"
   ]
  },
  {
   "cell_type": "markdown",
   "metadata": {},
   "source": [
    "Проверим, сработала ли функция"
   ]
  },
  {
   "cell_type": "code",
   "execution_count": 17,
   "metadata": {
    "id": "wvixALnFG15m"
   },
   "outputs": [
    {
     "data": {
      "text/plain": [
       "array(['acid', 'acoustic', 'action', 'adult', 'africa', 'afrikaans',\n",
       "       'alternative', 'alternativepunk', 'ambient', 'americana',\n",
       "       'animated', 'anime', 'arabesk', 'arabic', 'arena',\n",
       "       'argentinetango', 'art', 'audiobook', 'author', 'avantgarde',\n",
       "       'axé', 'baile', 'balkan', 'beats', 'bigroom', 'black', 'bluegrass',\n",
       "       'blues', 'bollywood', 'bossa', 'brazilian', 'breakbeat', 'breaks',\n",
       "       'broadway', 'cantautori', 'cantopop', 'canzone', 'caribbean',\n",
       "       'caucasian', 'celtic', 'chamber', 'chanson', 'children', 'chill',\n",
       "       'chinese', 'choral', 'christian', 'christmas', 'classical',\n",
       "       'classicmetal', 'club', 'colombian', 'comedy', 'conjazz',\n",
       "       'contemporary', 'country', 'cuban', 'dance', 'dancehall',\n",
       "       'dancepop', 'dark', 'death', 'deep', 'deutschrock', 'deutschspr',\n",
       "       'dirty', 'disco', 'dnb', 'documentary', 'downbeat', 'downtempo',\n",
       "       'drum', 'dub', 'dubstep', 'eastern', 'easy', 'electronic',\n",
       "       'electropop', 'emo', 'entehno', 'epicmetal', 'estrada', 'ethnic',\n",
       "       'eurofolk', 'european', 'experimental', 'extrememetal', 'fado',\n",
       "       'fairytail', 'film', 'fitness', 'flamenco', 'folk', 'folklore',\n",
       "       'folkmetal', 'folkrock', 'folktronica', 'forró', 'frankreich',\n",
       "       'französisch', 'french', 'funk', 'future', 'gangsta', 'garage',\n",
       "       'german', 'ghazal', 'gitarre', 'glitch', 'gospel', 'gothic',\n",
       "       'grime', 'grunge', 'gypsy', 'handsup', \"hard'n'heavy\", 'hardcore',\n",
       "       'hardstyle', 'hardtechno', 'hiphop', 'historisch', 'holiday',\n",
       "       'horror', 'house', 'hymn', 'idm', 'independent', 'indian', 'indie',\n",
       "       'indipop', 'industrial', 'inspirational', 'instrumental',\n",
       "       'international', 'irish', 'jam', 'japanese', 'jazz', 'jewish',\n",
       "       'jpop', 'jungle', 'k-pop', 'karadeniz', 'karaoke', 'kayokyoku',\n",
       "       'korean', 'laiko', 'latin', 'latino', 'leftfield', 'local',\n",
       "       'lounge', 'loungeelectronic', 'lovers', 'malaysian', 'mandopop',\n",
       "       'marschmusik', 'meditative', 'mediterranean', 'melodic', 'metal',\n",
       "       'metalcore', 'mexican', 'middle', 'minimal', 'miscellaneous',\n",
       "       'modern', 'mood', 'mpb', 'muslim', 'native', 'neoklassik', 'neue',\n",
       "       'new', 'newage', 'newwave', 'nu', 'nujazz', 'numetal', 'oceania',\n",
       "       'old', 'opera', 'orchestral', 'other', 'piano', 'podcasts', 'pop',\n",
       "       'popdance', 'popelectronic', 'popeurodance', 'poprussian', 'post',\n",
       "       'posthardcore', 'postrock', 'power', 'progmetal', 'progressive',\n",
       "       'psychedelic', 'punjabi', 'punk', 'quebecois', 'ragga', 'ram',\n",
       "       'rancheras', 'rap', 'rave', 'reggae', 'reggaeton', 'regional',\n",
       "       'relax', 'religious', 'retro', 'rhythm', 'rnb', 'rnr', 'rock',\n",
       "       'rockabilly', 'rockalternative', 'rockindie', 'rockother',\n",
       "       'romance', 'roots', 'ruspop', 'rusrap', 'rusrock', 'russian',\n",
       "       'salsa', 'samba', 'scenic', 'schlager', 'self', 'sertanejo',\n",
       "       'shanson', 'shoegazing', 'showtunes', 'singer', 'ska', 'skarock',\n",
       "       'slow', 'smooth', 'soft', 'soul', 'soulful', 'sound', 'soundtrack',\n",
       "       'southern', 'specialty', 'speech', 'spiritual', 'sport',\n",
       "       'stonerrock', 'surf', 'swing', 'synthpop', 'synthrock',\n",
       "       'sängerportrait', 'tango', 'tanzorchester', 'taraftar', 'tatar',\n",
       "       'tech', 'techno', 'teen', 'thrash', 'top', 'traditional',\n",
       "       'tradjazz', 'trance', 'tribal', 'trip', 'triphop', 'tropical',\n",
       "       'türk', 'türkçe', 'ukrrock', 'unknown', 'urban', 'uzbek',\n",
       "       'variété', 'vi', 'videogame', 'vocal', 'western', 'world',\n",
       "       'worldbeat', 'ïîï', 'электроника'], dtype=object)"
      ]
     },
     "execution_count": 17,
     "metadata": {},
     "output_type": "execute_result"
    }
   ],
   "source": [
    "# Проверка на неявные дубликаты\n",
    "df['genre'].sort_values().unique()"
   ]
  },
  {
   "cell_type": "markdown",
   "metadata": {
    "id": "jz6a9-7HQUDd"
   },
   "source": [
    "**Выводы**\n",
    "\n",
    "Предобработка обнаружила три проблемы в данных:\n",
    "\n",
    "- нарушения в стиле заголовков,\n",
    "- пропущенные значения,\n",
    "- дубликаты — явные и неявные.\n",
    "\n",
    "Мы исправили заголовки, чтобы упростить работу с таблицей. Без дубликатов исследование станет более точным.\n",
    "\n",
    "Пропущенные значения мы заменили на `'unknown'`. Ещё предстоит увидеть, не повредят ли исследованию пропуски в колонке `genre`.\n",
    "\n",
    "Теперь можно перейти к проверке гипотез. "
   ]
  },
  {
   "cell_type": "markdown",
   "metadata": {
    "id": "WttZHXH0SqKk"
   },
   "source": [
    "## Проверка гипотез"
   ]
  },
  {
   "cell_type": "markdown",
   "metadata": {
    "id": "Im936VVi_Zcu"
   },
   "source": [
    "### Сравнение поведения пользователей двух столиц"
   ]
  },
  {
   "cell_type": "markdown",
   "metadata": {
    "id": "nwt_MuaL_Zcu"
   },
   "source": [
    "Первая гипотеза утверждает, что пользователи по-разному слушают музыку в Москве и Санкт-Петербурге. Проверим это предположение по данным о трёх днях недели — понедельнике, среде и пятнице. Для этого:\n",
    "\n",
    "* Разделим пользователей Москвы и Санкт-Петербурга\n",
    "* Сравним, сколько треков послушала каждая группа пользователей в понедельник, среду и пятницу.\n"
   ]
  },
  {
   "cell_type": "code",
   "execution_count": 18,
   "metadata": {
    "id": "0_Qs96oh_Zcu"
   },
   "outputs": [
    {
     "data": {
      "text/plain": [
       "city\n",
       "Moscow              42741\n",
       "Saint-Petersburg    18512\n",
       "Name: track, dtype: int64"
      ]
     },
     "metadata": {},
     "output_type": "display_data"
    }
   ],
   "source": [
    "# Подсчёт прослушиваний в каждом городе\n",
    "display(df.groupby('city')['track'].count())"
   ]
  },
  {
   "cell_type": "markdown",
   "metadata": {
    "id": "dzli3w8o_Zcu"
   },
   "source": [
    "В Москве прослушиваний больше, чем в Петербурге. Из этого не следует, что московские пользователи чаще слушают музыку. Просто самих пользователей в Москве больше.\n",
    "\n",
    "Теперь сгруппируем данные по дню недели и подсчитаем прослушивания в понедельник, среду и пятницу."
   ]
  },
  {
   "cell_type": "code",
   "execution_count": 19,
   "metadata": {
    "id": "uZMKjiJz_Zcu"
   },
   "outputs": [
    {
     "data": {
      "text/plain": [
       "day\n",
       "Friday       21840\n",
       "Monday       21354\n",
       "Wednesday    18059\n",
       "Name: user_id, dtype: int64"
      ]
     },
     "execution_count": 19,
     "metadata": {},
     "output_type": "execute_result"
    }
   ],
   "source": [
    "# Подсчёт прослушиваний в каждый из трёх дней\n",
    "play_count_by_day = df.groupby('day')['user_id'].count()\n",
    "play_count_by_day"
   ]
  },
  {
   "cell_type": "markdown",
   "metadata": {
    "id": "cC2tNrlL_Zcu"
   },
   "source": [
    "В среднем пользователи из двух городов менее активны по средам. Но картина может измениться, если рассмотреть каждый город в отдельности."
   ]
  },
  {
   "cell_type": "markdown",
   "metadata": {
    "id": "POzs8bGa_Zcu"
   },
   "source": [
    "Создадим функцию `number_tracks()`, которая посчитает прослушивания для заданного дня и города. Ей понадобятся два параметра:\n",
    "* день недели,\n",
    "* название города.\n",
    "\n",
    "В функции сохраним в переменную строки исходной таблицы, у которых значение:\n",
    "  * в колонке `day` равно параметру `day`,\n",
    "  * в колонке `city` равно параметру `city`.\n",
    "\n",
    "Для этого примените последовательную фильтрацию с логической индексацией.\n",
    "\n",
    "Затем посчитаем значения в столбце `user_id` получившейся таблицы. Результат сохраним в новую переменную. Вернём эту переменную из функции."
   ]
  },
  {
   "cell_type": "code",
   "execution_count": 20,
   "metadata": {
    "id": "Nz3GdQB1_Zcu"
   },
   "outputs": [],
   "source": [
    "def number_tracks(day, city):\n",
    "    track_list = df[df['day'] == day]\n",
    "    track_list = track_list[track_list['city'] == city]\n",
    "    track_list_count = track_list['user_id'].count()\n",
    "    return(track_list_count)"
   ]
  },
  {
   "cell_type": "markdown",
   "metadata": {
    "id": "ytf7xFrFJQ2r"
   },
   "source": [
    "Вызовем `number_tracks()` шесть раз, меняя значение параметров — так, чтобы получить данные для каждого города в каждый из трёх дней."
   ]
  },
  {
   "cell_type": "code",
   "execution_count": 21,
   "metadata": {
    "id": "rJcRATNQ_Zcu"
   },
   "outputs": [
    {
     "data": {
      "text/plain": [
       "15740"
      ]
     },
     "execution_count": 21,
     "metadata": {},
     "output_type": "execute_result"
    }
   ],
   "source": [
    "# количество прослушиваний в Москве по понедельникам\n",
    "number_tracks('Monday', 'Moscow')"
   ]
  },
  {
   "cell_type": "code",
   "execution_count": 22,
   "metadata": {
    "id": "hq_ncZ5T_Zcu"
   },
   "outputs": [
    {
     "data": {
      "text/plain": [
       "5614"
      ]
     },
     "execution_count": 22,
     "metadata": {},
     "output_type": "execute_result"
    }
   ],
   "source": [
    "# количество прослушиваний в Санкт-Петербурге по понедельникам\n",
    "number_tracks('Monday', 'Saint-Petersburg')"
   ]
  },
  {
   "cell_type": "code",
   "execution_count": 23,
   "metadata": {
    "id": "_NTy2VPU_Zcu"
   },
   "outputs": [
    {
     "data": {
      "text/plain": [
       "11056"
      ]
     },
     "execution_count": 23,
     "metadata": {},
     "output_type": "execute_result"
    }
   ],
   "source": [
    "# количество прослушиваний в Москве по средам\n",
    "number_tracks('Wednesday', 'Moscow')"
   ]
  },
  {
   "cell_type": "code",
   "execution_count": 24,
   "metadata": {
    "id": "j2y3TAwo_Zcu"
   },
   "outputs": [
    {
     "data": {
      "text/plain": [
       "7003"
      ]
     },
     "execution_count": 24,
     "metadata": {},
     "output_type": "execute_result"
    }
   ],
   "source": [
    "# количество прослушиваний в Санкт-Петербурге по средам\n",
    "number_tracks('Wednesday', 'Saint-Petersburg')"
   ]
  },
  {
   "cell_type": "code",
   "execution_count": 25,
   "metadata": {
    "id": "vYDw5u_K_Zcu"
   },
   "outputs": [
    {
     "data": {
      "text/plain": [
       "15945"
      ]
     },
     "execution_count": 25,
     "metadata": {},
     "output_type": "execute_result"
    }
   ],
   "source": [
    "# количество прослушиваний в Москве по пятницам\n",
    "number_tracks('Friday', 'Moscow')"
   ]
  },
  {
   "cell_type": "code",
   "execution_count": 26,
   "metadata": {
    "id": "8_yzFtW3_Zcu"
   },
   "outputs": [
    {
     "data": {
      "text/plain": [
       "5895"
      ]
     },
     "execution_count": 26,
     "metadata": {},
     "output_type": "execute_result"
    }
   ],
   "source": [
    "# количество прослушиваний в Санкт-Петербурге по пятницам\n",
    "number_tracks('Friday', 'Saint-Petersburg')"
   ]
  },
  {
   "cell_type": "markdown",
   "metadata": {
    "id": "7QXffbO-_Zcu"
   },
   "source": [
    "Создадим c помощью конструктора `pd.DataFrame` таблицу, где\n",
    "* названия колонок — `['city', 'monday', 'wednesday', 'friday']`;\n",
    "* данные — результаты, которые мы получили с помощью `number_tracks`."
   ]
  },
  {
   "cell_type": "code",
   "execution_count": 27,
   "metadata": {
    "id": "APAcLpOr_Zcu"
   },
   "outputs": [
    {
     "data": {
      "text/html": [
       "<div>\n",
       "<style scoped>\n",
       "    .dataframe tbody tr th:only-of-type {\n",
       "        vertical-align: middle;\n",
       "    }\n",
       "\n",
       "    .dataframe tbody tr th {\n",
       "        vertical-align: top;\n",
       "    }\n",
       "\n",
       "    .dataframe thead th {\n",
       "        text-align: right;\n",
       "    }\n",
       "</style>\n",
       "<table border=\"1\" class=\"dataframe\">\n",
       "  <thead>\n",
       "    <tr style=\"text-align: right;\">\n",
       "      <th></th>\n",
       "      <th>city</th>\n",
       "      <th>monday</th>\n",
       "      <th>wednesday</th>\n",
       "      <th>friday</th>\n",
       "    </tr>\n",
       "  </thead>\n",
       "  <tbody>\n",
       "    <tr>\n",
       "      <th>0</th>\n",
       "      <td>Moscow</td>\n",
       "      <td>15740</td>\n",
       "      <td>11056</td>\n",
       "      <td>15945</td>\n",
       "    </tr>\n",
       "    <tr>\n",
       "      <th>1</th>\n",
       "      <td>Saint-Petersburg</td>\n",
       "      <td>5614</td>\n",
       "      <td>7003</td>\n",
       "      <td>5895</td>\n",
       "    </tr>\n",
       "  </tbody>\n",
       "</table>\n",
       "</div>"
      ],
      "text/plain": [
       "               city  monday  wednesday  friday\n",
       "0            Moscow   15740      11056   15945\n",
       "1  Saint-Petersburg    5614       7003    5895"
      ]
     },
     "execution_count": 27,
     "metadata": {},
     "output_type": "execute_result"
    }
   ],
   "source": [
    "# Таблица с результатами\n",
    "data = [['Moscow', 15740, 11056, 15945],\n",
    "       ['Saint-Petersburg', 5614, 7003, 5895]]\n",
    "columns = ['city', 'monday', 'wednesday', 'friday']\n",
    "number_tracks_results = pd.DataFrame(data=data, columns=columns)\n",
    "number_tracks_results"
   ]
  },
  {
   "cell_type": "markdown",
   "metadata": {
    "id": "-EgPIHYu_Zcu"
   },
   "source": [
    "**Выводы**\n",
    "\n",
    "Данные показывают разницу поведения пользователей:\n",
    "\n",
    "- В Москве пик прослушиваний приходится на понедельник и пятницу, а в среду заметен спад.\n",
    "- В Петербурге, наоборот, больше слушают музыку по средам. Активность в понедельник и пятницу здесь почти в равной мере уступает среде.\n",
    "\n",
    "Значит, данные говорят в пользу первой гипотезы."
   ]
  },
  {
   "cell_type": "markdown",
   "metadata": {
    "id": "atZAxtq4_Zcu"
   },
   "source": [
    "### Музыка в начале и в конце недели"
   ]
  },
  {
   "cell_type": "markdown",
   "metadata": {
    "id": "eXrQqXFH_Zcu"
   },
   "source": [
    "Согласно второй гипотезе, утром в понедельник в Москве преобладают одни жанры, а в Петербурге — другие. Так же и вечером пятницы преобладают разные жанры — в зависимости от города."
   ]
  },
  {
   "cell_type": "markdown",
   "metadata": {
    "id": "S8UcW6Hw_Zcu"
   },
   "source": [
    "Сохраним таблицы с данными в две переменные:\n",
    "* по Москве — в `moscow_general`;\n",
    "* по Санкт-Петербургу — в `spb_general`."
   ]
  },
  {
   "cell_type": "code",
   "execution_count": 28,
   "metadata": {
    "id": "qeaFfM_P_Zcu"
   },
   "outputs": [],
   "source": [
    "# получение таблицы moscow_general из тех строк таблицы df, \n",
    "# для которых значение в столбце 'city' равно 'Moscow'\n",
    "moscow_general = df[df['city'] == 'Moscow']"
   ]
  },
  {
   "cell_type": "code",
   "execution_count": 29,
   "metadata": {
    "id": "ORaVRKto_Zcu"
   },
   "outputs": [],
   "source": [
    "# получение таблицы spb_general из тех строк таблицы df,\n",
    "# для которых значение в столбце 'city' равно 'Saint-Petersburg'\n",
    "spb_general = df[df['city'] == 'Saint-Petersburg']"
   ]
  },
  {
   "cell_type": "markdown",
   "metadata": {
    "id": "MEJV-CX2_Zcu"
   },
   "source": [
    "Создадим функцию `genre_weekday()` с четырьмя параметрами:\n",
    "* таблица (датафрейм) с данными,\n",
    "* день недели,\n",
    "* начальная временная метка в формате 'hh:mm', \n",
    "* последняя временная метка в формате 'hh:mm'.\n",
    "\n",
    "Функция вернёт информацию о топ-10 жанров тех треков, которые прослушивали в указанный день, в промежутке между двумя отметками времени."
   ]
  },
  {
   "cell_type": "code",
   "execution_count": 30,
   "metadata": {
    "id": "laJT9BYl_Zcu"
   },
   "outputs": [],
   "source": [
    "def genre_weekday(table, day, time1, time2): #1\n",
    "    genre_df = table[table['day'] == day]\n",
    "    genre_df = genre_df[genre_df['time'] > time1]\n",
    "    genre_df = genre_df[genre_df['time'] < time2]\n",
    "    genre_df_count = genre_df.groupby('genre')['user_id'].count() #2\n",
    "    genre_df_sorted = genre_df_count.sort_values(ascending=False) #3\n",
    "    return(genre_df_sorted.head(10)) #4\n",
    "    "
   ]
  },
  {
   "cell_type": "markdown",
   "metadata": {
    "id": "la2s2_PF_Zcu"
   },
   "source": [
    "Cравним результаты функции `genre_weekday()` для Москвы и Санкт-Петербурга в понедельник утром (с 7:00 до 11:00) и в пятницу вечером (с 17:00 до 23:00):"
   ]
  },
  {
   "cell_type": "code",
   "execution_count": 31,
   "metadata": {},
   "outputs": [
    {
     "data": {
      "text/plain": [
       "genre\n",
       "pop            781\n",
       "dance          549\n",
       "electronic     480\n",
       "rock           474\n",
       "hiphop         286\n",
       "ruspop         186\n",
       "world          181\n",
       "rusrap         175\n",
       "alternative    164\n",
       "unknown        161\n",
       "Name: user_id, dtype: int64"
      ]
     },
     "execution_count": 31,
     "metadata": {},
     "output_type": "execute_result"
    }
   ],
   "source": [
    "# вызов функции для утра понедельника в Москве\n",
    "genre_weekday(moscow_general, 'Monday', '07:00', '11:00')"
   ]
  },
  {
   "cell_type": "code",
   "execution_count": 32,
   "metadata": {
    "id": "kwUcHPdy_Zcu"
   },
   "outputs": [
    {
     "data": {
      "text/plain": [
       "genre\n",
       "pop            218\n",
       "dance          182\n",
       "rock           162\n",
       "electronic     147\n",
       "hiphop          80\n",
       "ruspop          64\n",
       "alternative     58\n",
       "rusrap          55\n",
       "jazz            44\n",
       "classical       40\n",
       "Name: user_id, dtype: int64"
      ]
     },
     "execution_count": 32,
     "metadata": {},
     "output_type": "execute_result"
    }
   ],
   "source": [
    "# вызов функции для утра понедельника в Петербурге \n",
    "genre_weekday(spb_general, 'Monday', '07:00', '11:00')"
   ]
  },
  {
   "cell_type": "code",
   "execution_count": 33,
   "metadata": {
    "id": "EzXVRE1o_Zcu"
   },
   "outputs": [
    {
     "data": {
      "text/plain": [
       "genre\n",
       "pop            713\n",
       "rock           517\n",
       "dance          495\n",
       "electronic     482\n",
       "hiphop         273\n",
       "world          208\n",
       "ruspop         170\n",
       "alternative    163\n",
       "classical      163\n",
       "rusrap         142\n",
       "Name: user_id, dtype: int64"
      ]
     },
     "execution_count": 33,
     "metadata": {},
     "output_type": "execute_result"
    }
   ],
   "source": [
    "# вызов функции для вечера пятницы в Москве\n",
    "genre_weekday(moscow_general, 'Friday', '17:00', '23:00')"
   ]
  },
  {
   "cell_type": "code",
   "execution_count": 34,
   "metadata": {
    "id": "JZaEKu5v_Zcu"
   },
   "outputs": [
    {
     "data": {
      "text/plain": [
       "genre\n",
       "pop            256\n",
       "electronic     216\n",
       "rock           216\n",
       "dance          210\n",
       "hiphop          97\n",
       "alternative     63\n",
       "jazz            61\n",
       "classical       60\n",
       "rusrap          59\n",
       "world           54\n",
       "Name: user_id, dtype: int64"
      ]
     },
     "execution_count": 34,
     "metadata": {},
     "output_type": "execute_result"
    }
   ],
   "source": [
    "# вызов функции для вечера пятницы в Петербурге\n",
    "genre_weekday(spb_general, 'Friday', '17:00', '23:00')"
   ]
  },
  {
   "cell_type": "markdown",
   "metadata": {
    "id": "wrCe4MNX_Zcu"
   },
   "source": [
    "**Выводы**\n",
    "\n",
    "Если сравнить топ-10 жанров в понедельник утром, можно сделать такие выводы:\n",
    "\n",
    "1. В Москве и Петербурге слушают похожую музыку. Единственное отличие — в московский рейтинг вошёл жанр “world”, а в петербургский — джаз и классика.\n",
    "\n",
    "2. В Москве пропущенных значений оказалось так много, что значение `'unknown'` заняло десятое место среди самых популярных жанров. Значит, пропущенные значения занимают существенную долю в данных и угрожают достоверности исследования.\n",
    "\n",
    "Вечер пятницы не меняет эту картину. Некоторые жанры поднимаются немного выше, другие спускаются, но в целом топ-10 остаётся тем же самым.\n",
    "\n",
    "Таким образом, вторая гипотеза подтвердилась лишь частично:\n",
    "* Пользователи слушают похожую музыку в начале недели и в конце.\n",
    "* Разница между Москвой и Петербургом не слишком выражена. В Москве чаще слушают русскую популярную музыку, в Петербурге — джаз.\n",
    "\n",
    "Однако пропуски в данных ставят под сомнение этот результат. В Москве их так много, что рейтинг топ-10 мог бы выглядеть иначе, если бы не утерянные  данные о жанрах."
   ]
  },
  {
   "cell_type": "markdown",
   "metadata": {
    "id": "JolODAqr_Zcu"
   },
   "source": [
    "### Жанровые предпочтения в Москве и Петербурге\n",
    "\n",
    "Гипотеза: Петербург — столица рэпа, музыку этого жанра там слушают чаще, чем в Москве.  А Москва — город контрастов, в котором, тем не менее, преобладает поп-музыка."
   ]
  },
  {
   "cell_type": "markdown",
   "metadata": {
    "id": "DlegSvaT_Zcu"
   },
   "source": [
    "Сгруппируем таблицу `moscow_general` по жанру и посчитаем прослушивания треков каждого жанра методом `count()`. Затем отсортируем результат в порядке убывания и сохраним его в таблице `moscow_genres`."
   ]
  },
  {
   "cell_type": "code",
   "execution_count": 35,
   "metadata": {
    "id": "r19lIPke_Zcu"
   },
   "outputs": [],
   "source": [
    "moscow_general = moscow_general.groupby('genre')['user_id'].count()\n",
    "moscow_genres = moscow_general.sort_values(ascending=False)"
   ]
  },
  {
   "cell_type": "code",
   "execution_count": 36,
   "metadata": {
    "id": "WhCSooF8_Zcv"
   },
   "outputs": [
    {
     "data": {
      "text/plain": [
       "genre\n",
       "pop            5892\n",
       "dance          4435\n",
       "rock           3965\n",
       "electronic     3786\n",
       "hiphop         2096\n",
       "classical      1616\n",
       "world          1432\n",
       "alternative    1379\n",
       "ruspop         1372\n",
       "rusrap         1161\n",
       "Name: user_id, dtype: int64"
      ]
     },
     "execution_count": 36,
     "metadata": {},
     "output_type": "execute_result"
    }
   ],
   "source": [
    "# просмотр первых 10 строк moscow_genres\n",
    "moscow_genres.head(10)"
   ]
  },
  {
   "cell_type": "markdown",
   "metadata": {
    "id": "cnPG2vnN_Zcv"
   },
   "source": [
    "Теперь то же и для Петербурга."
   ]
  },
  {
   "cell_type": "code",
   "execution_count": 37,
   "metadata": {
    "id": "gluLIpE7_Zcv"
   },
   "outputs": [],
   "source": [
    "spb_general = spb_general.groupby('genre')['user_id'].count()\n",
    "spb_genres = spb_general.sort_values(ascending=False)"
   ]
  },
  {
   "cell_type": "code",
   "execution_count": 38,
   "metadata": {
    "id": "uaGJHjVU_Zcv"
   },
   "outputs": [
    {
     "data": {
      "text/plain": [
       "genre\n",
       "pop            2431\n",
       "dance          1932\n",
       "rock           1879\n",
       "electronic     1736\n",
       "hiphop          960\n",
       "alternative     649\n",
       "classical       646\n",
       "rusrap          564\n",
       "ruspop          538\n",
       "world           515\n",
       "Name: user_id, dtype: int64"
      ]
     },
     "execution_count": 38,
     "metadata": {},
     "output_type": "execute_result"
    }
   ],
   "source": [
    "# просмотр первых 10 строк spb_genres\n",
    "spb_genres.head(10)"
   ]
  },
  {
   "cell_type": "markdown",
   "metadata": {
    "id": "RY51YJYu_Zcv"
   },
   "source": [
    "**Выводы**"
   ]
  },
  {
   "cell_type": "markdown",
   "metadata": {
    "id": "nVhnJEm__Zcv"
   },
   "source": [
    "Гипотеза частично подтвердилась:\n",
    "* Поп-музыка — самый популярный жанр в Москве, как и предполагала гипотеза. Более того, в топ-10 жанров встречается близкий жанр — русская популярная музыка.\n",
    "* Вопреки ожиданиям, рэп одинаково популярен в Москве и Петербурге. \n"
   ]
  },
  {
   "cell_type": "markdown",
   "metadata": {
    "id": "ykKQ0N65_Zcv"
   },
   "source": [
    "## Итоги исследования"
   ]
  },
  {
   "cell_type": "markdown",
   "metadata": {
    "id": "tjUwbHb3_Zcv"
   },
   "source": [
    "Были проверены три гипотезы и установлено:\n",
    "\n",
    "1. День недели по-разному влияет на активность пользователей в Москве и Петербурге. \n",
    "\n",
    "Первая гипотеза полностью подтвердилась.\n",
    "\n",
    "2. Музыкальные предпочтения \n",
    "не сильно меняются в течение недели — будь то Москва или Петербург. Небольшие различия заметны в начале недели, по понедельникам:\n",
    "* в Москве слушают музыку жанра “world”,\n",
    "* в Петербурге — джаз и классику.\n",
    "\n",
    "Таким образом, вторая гипотеза подтвердилась лишь отчасти. Этот результат мог оказаться иным, если бы не пропуски в данных.\n",
    "\n",
    "3. Во вкусах пользователей Москвы и Петербурга больше общего, чем различий. Вопреки ожиданиям, предпочтения жанров в Петербурге напоминают московские.\n",
    "\n",
    "Третья гипотеза не подтвердилась. Если различия в предпочтениях и существуют, на основной массе пользователей они незаметны."
   ]
  }
 ],
 "metadata": {
  "ExecuteTimeLog": [
   {
    "duration": 423,
    "start_time": "2021-08-13T08:30:54.606Z"
   },
   {
    "duration": 357,
    "start_time": "2021-08-13T08:31:17.823Z"
   },
   {
    "duration": 998,
    "start_time": "2021-08-13T08:31:32.553Z"
   },
   {
    "duration": 190,
    "start_time": "2021-08-13T08:31:33.555Z"
   },
   {
    "duration": 3,
    "start_time": "2021-08-13T08:31:48.481Z"
   },
   {
    "duration": 194,
    "start_time": "2021-08-13T08:31:48.486Z"
   },
   {
    "duration": 25,
    "start_time": "2021-08-13T08:31:48.683Z"
   },
   {
    "duration": 8,
    "start_time": "2021-08-13T08:31:48.710Z"
   },
   {
    "duration": 7,
    "start_time": "2021-08-13T08:31:48.720Z"
   },
   {
    "duration": 27,
    "start_time": "2021-08-13T08:31:48.729Z"
   },
   {
    "duration": 6,
    "start_time": "2021-08-13T08:31:48.758Z"
   },
   {
    "duration": 7,
    "start_time": "2021-08-13T08:31:48.768Z"
   },
   {
    "duration": 11,
    "start_time": "2021-08-13T08:31:48.777Z"
   },
   {
    "duration": 8,
    "start_time": "2021-08-13T08:31:48.790Z"
   },
   {
    "duration": 9,
    "start_time": "2021-08-13T08:31:48.800Z"
   },
   {
    "duration": 6,
    "start_time": "2021-08-13T08:31:48.812Z"
   },
   {
    "duration": 4,
    "start_time": "2021-08-13T08:31:48.821Z"
   },
   {
    "duration": 28,
    "start_time": "2021-08-13T08:31:48.828Z"
   },
   {
    "duration": 5,
    "start_time": "2021-08-13T08:31:48.858Z"
   },
   {
    "duration": 8,
    "start_time": "2021-08-13T08:31:48.866Z"
   },
   {
    "duration": 7,
    "start_time": "2021-08-13T08:31:48.876Z"
   },
   {
    "duration": 7,
    "start_time": "2021-08-13T08:31:48.885Z"
   },
   {
    "duration": 10,
    "start_time": "2021-08-13T08:31:48.894Z"
   },
   {
    "duration": 6,
    "start_time": "2021-08-13T08:31:48.906Z"
   },
   {
    "duration": 11,
    "start_time": "2021-08-13T08:31:48.914Z"
   },
   {
    "duration": 28,
    "start_time": "2021-08-13T08:31:48.927Z"
   },
   {
    "duration": 3,
    "start_time": "2021-08-13T08:31:48.961Z"
   },
   {
    "duration": 15,
    "start_time": "2021-08-13T08:31:48.966Z"
   },
   {
    "duration": 6,
    "start_time": "2021-08-13T08:31:48.983Z"
   },
   {
    "duration": 11,
    "start_time": "2021-08-13T08:31:48.992Z"
   },
   {
    "duration": 7,
    "start_time": "2021-08-13T08:31:49.005Z"
   },
   {
    "duration": 11,
    "start_time": "2021-08-13T08:31:49.014Z"
   },
   {
    "duration": 12,
    "start_time": "2021-08-13T08:31:49.027Z"
   },
   {
    "duration": 14,
    "start_time": "2021-08-13T08:31:49.041Z"
   },
   {
    "duration": 16,
    "start_time": "2021-08-13T08:31:49.057Z"
   },
   {
    "duration": 14,
    "start_time": "2021-08-13T08:31:49.075Z"
   },
   {
    "duration": 13,
    "start_time": "2021-08-13T08:31:49.091Z"
   },
   {
    "duration": 10,
    "start_time": "2021-08-13T08:31:49.106Z"
   },
   {
    "duration": 12,
    "start_time": "2021-08-13T08:31:49.118Z"
   },
   {
    "duration": 7,
    "start_time": "2021-08-13T08:31:49.132Z"
   },
   {
    "duration": 9,
    "start_time": "2021-08-13T08:31:49.141Z"
   },
   {
    "duration": 8,
    "start_time": "2021-08-13T08:31:49.152Z"
   },
   {
    "duration": 16,
    "start_time": "2021-08-13T08:32:23.683Z"
   },
   {
    "duration": 16,
    "start_time": "2021-08-13T08:32:35.544Z"
   },
   {
    "duration": 135,
    "start_time": "2021-08-13T08:32:38.771Z"
   },
   {
    "duration": 16,
    "start_time": "2021-08-13T08:32:41.415Z"
   },
   {
    "duration": 32,
    "start_time": "2021-08-13T08:33:37.683Z"
   },
   {
    "duration": 375,
    "start_time": "2021-08-13T08:39:31.310Z"
   },
   {
    "duration": 6,
    "start_time": "2021-08-13T08:39:39.899Z"
   },
   {
    "duration": 5,
    "start_time": "2021-08-13T08:39:49.223Z"
   },
   {
    "duration": 5,
    "start_time": "2021-08-13T08:43:45.696Z"
   },
   {
    "duration": 5,
    "start_time": "2021-08-13T08:44:33.335Z"
   },
   {
    "duration": 5,
    "start_time": "2021-08-13T08:46:33.716Z"
   },
   {
    "duration": 910,
    "start_time": "2021-08-13T08:46:49.209Z"
   },
   {
    "duration": -666,
    "start_time": "2021-08-13T08:46:50.787Z"
   },
   {
    "duration": 24,
    "start_time": "2021-08-13T08:47:21.056Z"
   },
   {
    "duration": 6,
    "start_time": "2021-08-13T08:47:22.271Z"
   },
   {
    "duration": 23,
    "start_time": "2021-08-13T08:47:36.841Z"
   },
   {
    "duration": 5,
    "start_time": "2021-08-13T08:47:37.591Z"
   },
   {
    "duration": 31,
    "start_time": "2021-08-13T08:49:06.599Z"
   },
   {
    "duration": 19,
    "start_time": "2021-08-13T08:52:06.121Z"
   },
   {
    "duration": 35,
    "start_time": "2021-08-13T08:52:11.782Z"
   },
   {
    "duration": 30,
    "start_time": "2021-08-13T08:53:45.045Z"
   },
   {
    "duration": 22,
    "start_time": "2021-08-13T08:53:48.836Z"
   },
   {
    "duration": 31,
    "start_time": "2021-08-13T08:53:49.778Z"
   },
   {
    "duration": 84,
    "start_time": "2021-08-13T08:54:20.730Z"
   },
   {
    "duration": 84,
    "start_time": "2021-08-13T08:55:11.372Z"
   },
   {
    "duration": 575,
    "start_time": "2021-08-13T08:55:12.003Z"
   },
   {
    "duration": 363,
    "start_time": "2021-08-13T08:55:26.476Z"
   },
   {
    "duration": 368,
    "start_time": "2021-08-13T08:57:38.536Z"
   },
   {
    "duration": 358,
    "start_time": "2021-08-13T08:57:39.068Z"
   },
   {
    "duration": 353,
    "start_time": "2021-08-13T08:58:22.929Z"
   },
   {
    "duration": 3,
    "start_time": "2021-08-13T08:58:26.865Z"
   },
   {
    "duration": 365,
    "start_time": "2021-08-13T08:58:28.550Z"
   },
   {
    "duration": 413,
    "start_time": "2021-08-13T08:58:37.979Z"
   },
   {
    "duration": 350,
    "start_time": "2021-08-13T08:58:49.170Z"
   },
   {
    "duration": 3,
    "start_time": "2021-08-13T08:59:07.000Z"
   },
   {
    "duration": 205,
    "start_time": "2021-08-13T08:59:07.006Z"
   },
   {
    "duration": 22,
    "start_time": "2021-08-13T08:59:07.214Z"
   },
   {
    "duration": 65,
    "start_time": "2021-08-13T08:59:07.240Z"
   },
   {
    "duration": 6,
    "start_time": "2021-08-13T08:59:07.308Z"
   },
   {
    "duration": 48,
    "start_time": "2021-08-13T08:59:07.316Z"
   },
   {
    "duration": 6,
    "start_time": "2021-08-13T08:59:07.366Z"
   },
   {
    "duration": 39,
    "start_time": "2021-08-13T08:59:07.374Z"
   },
   {
    "duration": 54,
    "start_time": "2021-08-13T08:59:07.417Z"
   },
   {
    "duration": 31,
    "start_time": "2021-08-13T08:59:07.474Z"
   },
   {
    "duration": 149,
    "start_time": "2021-08-13T08:59:07.508Z"
   },
   {
    "duration": 4,
    "start_time": "2021-08-13T08:59:07.660Z"
   },
   {
    "duration": 98,
    "start_time": "2021-08-13T08:59:07.666Z"
   },
   {
    "duration": 2,
    "start_time": "2021-08-13T08:59:07.766Z"
   },
   {
    "duration": 14,
    "start_time": "2021-08-13T08:59:07.770Z"
   },
   {
    "duration": 12,
    "start_time": "2021-08-13T08:59:07.786Z"
   },
   {
    "duration": 13,
    "start_time": "2021-08-13T08:59:07.800Z"
   },
   {
    "duration": 12,
    "start_time": "2021-08-13T08:59:07.815Z"
   },
   {
    "duration": 27,
    "start_time": "2021-08-13T08:59:07.829Z"
   },
   {
    "duration": 20,
    "start_time": "2021-08-13T08:59:07.858Z"
   },
   {
    "duration": 10,
    "start_time": "2021-08-13T08:59:07.881Z"
   },
   {
    "duration": 19,
    "start_time": "2021-08-13T08:59:07.893Z"
   },
   {
    "duration": 11,
    "start_time": "2021-08-13T08:59:07.914Z"
   },
   {
    "duration": 25,
    "start_time": "2021-08-13T08:59:07.927Z"
   },
   {
    "duration": 23,
    "start_time": "2021-08-13T08:59:07.955Z"
   },
   {
    "duration": 25,
    "start_time": "2021-08-13T08:59:07.981Z"
   },
   {
    "duration": 6,
    "start_time": "2021-08-13T08:59:08.010Z"
   },
   {
    "duration": 11,
    "start_time": "2021-08-13T08:59:08.018Z"
   },
   {
    "duration": 10,
    "start_time": "2021-08-13T08:59:08.031Z"
   },
   {
    "duration": 13,
    "start_time": "2021-08-13T08:59:08.044Z"
   },
   {
    "duration": 20,
    "start_time": "2021-08-13T08:59:08.059Z"
   },
   {
    "duration": 7,
    "start_time": "2021-08-13T08:59:08.081Z"
   },
   {
    "duration": 12,
    "start_time": "2021-08-13T08:59:08.090Z"
   },
   {
    "duration": 6,
    "start_time": "2021-08-13T08:59:08.104Z"
   },
   {
    "duration": 5,
    "start_time": "2021-08-13T08:59:08.112Z"
   },
   {
    "duration": 5,
    "start_time": "2021-08-13T08:59:08.120Z"
   },
   {
    "duration": 8,
    "start_time": "2021-08-13T08:59:08.127Z"
   },
   {
    "duration": 8,
    "start_time": "2021-08-13T08:59:08.137Z"
   },
   {
    "duration": 88,
    "start_time": "2021-08-13T08:59:33.199Z"
   },
   {
    "duration": 80,
    "start_time": "2021-08-13T08:59:34.806Z"
   },
   {
    "duration": 10,
    "start_time": "2021-08-13T09:03:03.313Z"
   },
   {
    "duration": 355,
    "start_time": "2021-08-13T09:05:55.677Z"
   },
   {
    "duration": 368,
    "start_time": "2021-08-13T09:06:12.569Z"
   },
   {
    "duration": 395,
    "start_time": "2021-08-13T09:06:34.155Z"
   },
   {
    "duration": 9,
    "start_time": "2021-08-13T09:06:39.561Z"
   },
   {
    "duration": 124,
    "start_time": "2021-08-13T09:09:03.206Z"
   },
   {
    "duration": 10,
    "start_time": "2021-08-13T09:12:52.717Z"
   },
   {
    "duration": 8,
    "start_time": "2021-08-13T09:16:21.459Z"
   },
   {
    "duration": 53,
    "start_time": "2021-08-13T09:17:42.200Z"
   },
   {
    "duration": 53,
    "start_time": "2021-08-13T09:17:44.945Z"
   },
   {
    "duration": 54,
    "start_time": "2021-08-13T09:17:52.808Z"
   },
   {
    "duration": 94,
    "start_time": "2021-08-13T09:18:57.013Z"
   },
   {
    "duration": 101,
    "start_time": "2021-08-13T09:19:01.332Z"
   },
   {
    "duration": 94,
    "start_time": "2021-08-13T09:19:36.997Z"
   },
   {
    "duration": 1460,
    "start_time": "2021-08-13T09:20:05.035Z"
   },
   {
    "duration": 75,
    "start_time": "2021-08-13T09:20:19.425Z"
   },
   {
    "duration": 499,
    "start_time": "2021-08-13T09:40:06.053Z"
   },
   {
    "duration": 4,
    "start_time": "2021-08-13T09:40:15.471Z"
   },
   {
    "duration": 10,
    "start_time": "2021-08-13T09:40:16.261Z"
   },
   {
    "duration": 14,
    "start_time": "2021-08-13T09:43:36.639Z"
   },
   {
    "duration": 6,
    "start_time": "2021-08-13T09:43:50.229Z"
   },
   {
    "duration": 14,
    "start_time": "2021-08-13T09:43:56.406Z"
   },
   {
    "duration": 6,
    "start_time": "2021-08-13T09:43:57.306Z"
   },
   {
    "duration": 3,
    "start_time": "2021-08-13T09:44:39.065Z"
   },
   {
    "duration": 208,
    "start_time": "2021-08-13T09:44:39.071Z"
   },
   {
    "duration": 15,
    "start_time": "2021-08-13T09:44:39.282Z"
   },
   {
    "duration": 43,
    "start_time": "2021-08-13T09:44:39.300Z"
   },
   {
    "duration": 13,
    "start_time": "2021-08-13T09:44:39.346Z"
   },
   {
    "duration": 30,
    "start_time": "2021-08-13T09:44:39.361Z"
   },
   {
    "duration": 5,
    "start_time": "2021-08-13T09:44:39.393Z"
   },
   {
    "duration": 59,
    "start_time": "2021-08-13T09:44:39.400Z"
   },
   {
    "duration": 24,
    "start_time": "2021-08-13T09:44:39.463Z"
   },
   {
    "duration": 31,
    "start_time": "2021-08-13T09:44:39.489Z"
   },
   {
    "duration": 111,
    "start_time": "2021-08-13T09:44:39.522Z"
   },
   {
    "duration": 103,
    "start_time": "2021-08-13T09:44:39.635Z"
   },
   {
    "duration": 87,
    "start_time": "2021-08-13T09:44:39.741Z"
   },
   {
    "duration": 71,
    "start_time": "2021-08-13T09:44:39.831Z"
   },
   {
    "duration": 3,
    "start_time": "2021-08-13T09:44:39.904Z"
   },
   {
    "duration": 19,
    "start_time": "2021-08-13T09:44:39.909Z"
   },
   {
    "duration": 6,
    "start_time": "2021-08-13T09:44:39.931Z"
   },
   {
    "duration": 6,
    "start_time": "2021-08-13T09:44:39.956Z"
   },
   {
    "duration": 15,
    "start_time": "2021-08-13T09:44:39.964Z"
   },
   {
    "duration": 10,
    "start_time": "2021-08-13T09:44:39.981Z"
   },
   {
    "duration": 15,
    "start_time": "2021-08-13T09:44:39.993Z"
   },
   {
    "duration": 13,
    "start_time": "2021-08-13T09:44:40.011Z"
   },
   {
    "duration": 14,
    "start_time": "2021-08-13T09:44:40.026Z"
   },
   {
    "duration": 7,
    "start_time": "2021-08-13T09:44:40.043Z"
   },
   {
    "duration": 19,
    "start_time": "2021-08-13T09:44:40.052Z"
   },
   {
    "duration": 17,
    "start_time": "2021-08-13T09:44:40.074Z"
   },
   {
    "duration": 8,
    "start_time": "2021-08-13T09:44:40.096Z"
   },
   {
    "duration": 15,
    "start_time": "2021-08-13T09:44:40.107Z"
   },
   {
    "duration": 16,
    "start_time": "2021-08-13T09:44:40.124Z"
   },
   {
    "duration": 18,
    "start_time": "2021-08-13T09:44:40.142Z"
   },
   {
    "duration": 16,
    "start_time": "2021-08-13T09:44:40.162Z"
   },
   {
    "duration": 7,
    "start_time": "2021-08-13T09:44:40.180Z"
   },
   {
    "duration": 18,
    "start_time": "2021-08-13T09:44:40.189Z"
   },
   {
    "duration": 12,
    "start_time": "2021-08-13T09:44:40.209Z"
   },
   {
    "duration": 10,
    "start_time": "2021-08-13T09:44:40.224Z"
   },
   {
    "duration": 12,
    "start_time": "2021-08-13T09:44:40.236Z"
   },
   {
    "duration": 8,
    "start_time": "2021-08-13T09:44:40.250Z"
   },
   {
    "duration": 11,
    "start_time": "2021-08-13T09:44:40.260Z"
   },
   {
    "duration": 4,
    "start_time": "2021-08-13T09:48:24.312Z"
   },
   {
    "duration": 194,
    "start_time": "2021-08-13T09:48:24.318Z"
   },
   {
    "duration": 14,
    "start_time": "2021-08-13T09:48:24.515Z"
   },
   {
    "duration": 44,
    "start_time": "2021-08-13T09:48:24.532Z"
   },
   {
    "duration": 5,
    "start_time": "2021-08-13T09:48:24.579Z"
   },
   {
    "duration": 32,
    "start_time": "2021-08-13T09:48:24.586Z"
   },
   {
    "duration": 5,
    "start_time": "2021-08-13T09:48:24.620Z"
   },
   {
    "duration": 59,
    "start_time": "2021-08-13T09:48:24.627Z"
   },
   {
    "duration": 27,
    "start_time": "2021-08-13T09:48:24.690Z"
   },
   {
    "duration": 45,
    "start_time": "2021-08-13T09:48:24.720Z"
   },
   {
    "duration": 97,
    "start_time": "2021-08-13T09:48:24.767Z"
   },
   {
    "duration": 101,
    "start_time": "2021-08-13T09:48:24.867Z"
   },
   {
    "duration": 73,
    "start_time": "2021-08-13T09:48:24.970Z"
   },
   {
    "duration": 58,
    "start_time": "2021-08-13T09:48:25.056Z"
   },
   {
    "duration": 4,
    "start_time": "2021-08-13T09:48:25.117Z"
   },
   {
    "duration": 50,
    "start_time": "2021-08-13T09:48:25.123Z"
   },
   {
    "duration": 6,
    "start_time": "2021-08-13T09:48:25.175Z"
   },
   {
    "duration": 8,
    "start_time": "2021-08-13T09:48:25.182Z"
   },
   {
    "duration": 6,
    "start_time": "2021-08-13T09:48:25.192Z"
   },
   {
    "duration": 6,
    "start_time": "2021-08-13T09:48:25.200Z"
   },
   {
    "duration": 12,
    "start_time": "2021-08-13T09:48:25.208Z"
   },
   {
    "duration": 6,
    "start_time": "2021-08-13T09:48:25.222Z"
   },
   {
    "duration": 37,
    "start_time": "2021-08-13T09:48:25.230Z"
   },
   {
    "duration": 10,
    "start_time": "2021-08-13T09:48:25.269Z"
   },
   {
    "duration": 8,
    "start_time": "2021-08-13T09:48:25.281Z"
   },
   {
    "duration": 20,
    "start_time": "2021-08-13T09:48:25.291Z"
   },
   {
    "duration": 9,
    "start_time": "2021-08-13T09:48:25.316Z"
   },
   {
    "duration": 7,
    "start_time": "2021-08-13T09:48:25.327Z"
   },
   {
    "duration": 9,
    "start_time": "2021-08-13T09:48:25.336Z"
   },
   {
    "duration": 8,
    "start_time": "2021-08-13T09:48:25.347Z"
   },
   {
    "duration": 8,
    "start_time": "2021-08-13T09:48:25.357Z"
   },
   {
    "duration": 13,
    "start_time": "2021-08-13T09:48:25.367Z"
   },
   {
    "duration": 8,
    "start_time": "2021-08-13T09:48:25.382Z"
   },
   {
    "duration": 5,
    "start_time": "2021-08-13T09:48:25.393Z"
   },
   {
    "duration": 7,
    "start_time": "2021-08-13T09:48:25.400Z"
   },
   {
    "duration": 9,
    "start_time": "2021-08-13T09:48:25.409Z"
   },
   {
    "duration": 10,
    "start_time": "2021-08-13T09:48:25.421Z"
   },
   {
    "duration": 7,
    "start_time": "2021-08-13T09:48:25.433Z"
   },
   {
    "duration": 56,
    "start_time": "2021-08-13T09:50:36.410Z"
   },
   {
    "duration": 6,
    "start_time": "2021-08-13T09:51:11.099Z"
   },
   {
    "duration": 6,
    "start_time": "2021-08-13T09:51:15.337Z"
   },
   {
    "duration": 4,
    "start_time": "2021-08-13T09:51:19.079Z"
   },
   {
    "duration": 199,
    "start_time": "2021-08-13T09:51:19.086Z"
   },
   {
    "duration": 16,
    "start_time": "2021-08-13T09:51:19.288Z"
   },
   {
    "duration": 49,
    "start_time": "2021-08-13T09:51:19.307Z"
   },
   {
    "duration": 6,
    "start_time": "2021-08-13T09:51:19.358Z"
   },
   {
    "duration": 32,
    "start_time": "2021-08-13T09:51:19.366Z"
   },
   {
    "duration": 5,
    "start_time": "2021-08-13T09:51:19.400Z"
   },
   {
    "duration": 57,
    "start_time": "2021-08-13T09:51:19.409Z"
   },
   {
    "duration": 25,
    "start_time": "2021-08-13T09:51:19.469Z"
   },
   {
    "duration": 29,
    "start_time": "2021-08-13T09:51:19.497Z"
   },
   {
    "duration": 109,
    "start_time": "2021-08-13T09:51:19.528Z"
   },
   {
    "duration": 95,
    "start_time": "2021-08-13T09:51:19.640Z"
   },
   {
    "duration": 84,
    "start_time": "2021-08-13T09:51:19.737Z"
   },
   {
    "duration": 67,
    "start_time": "2021-08-13T09:51:19.824Z"
   },
   {
    "duration": 4,
    "start_time": "2021-08-13T09:51:19.893Z"
   },
   {
    "duration": 32,
    "start_time": "2021-08-13T09:51:19.899Z"
   },
   {
    "duration": 24,
    "start_time": "2021-08-13T09:51:19.933Z"
   },
   {
    "duration": 3,
    "start_time": "2021-08-13T09:51:19.959Z"
   },
   {
    "duration": 8,
    "start_time": "2021-08-13T09:51:19.964Z"
   },
   {
    "duration": 12,
    "start_time": "2021-08-13T09:51:19.980Z"
   },
   {
    "duration": 16,
    "start_time": "2021-08-13T09:51:19.994Z"
   },
   {
    "duration": 17,
    "start_time": "2021-08-13T09:51:20.012Z"
   },
   {
    "duration": 11,
    "start_time": "2021-08-13T09:51:20.034Z"
   },
   {
    "duration": 15,
    "start_time": "2021-08-13T09:51:20.048Z"
   },
   {
    "duration": 26,
    "start_time": "2021-08-13T09:51:20.065Z"
   },
   {
    "duration": 14,
    "start_time": "2021-08-13T09:51:20.094Z"
   },
   {
    "duration": 15,
    "start_time": "2021-08-13T09:51:20.110Z"
   },
   {
    "duration": 9,
    "start_time": "2021-08-13T09:51:20.128Z"
   },
   {
    "duration": 18,
    "start_time": "2021-08-13T09:51:20.140Z"
   },
   {
    "duration": 14,
    "start_time": "2021-08-13T09:51:20.160Z"
   },
   {
    "duration": 15,
    "start_time": "2021-08-13T09:51:20.176Z"
   },
   {
    "duration": 12,
    "start_time": "2021-08-13T09:51:20.194Z"
   },
   {
    "duration": 14,
    "start_time": "2021-08-13T09:51:20.209Z"
   },
   {
    "duration": 17,
    "start_time": "2021-08-13T09:51:20.225Z"
   },
   {
    "duration": 12,
    "start_time": "2021-08-13T09:51:20.244Z"
   },
   {
    "duration": 16,
    "start_time": "2021-08-13T09:51:20.259Z"
   },
   {
    "duration": 11,
    "start_time": "2021-08-13T09:51:20.277Z"
   },
   {
    "duration": 14,
    "start_time": "2021-08-13T09:51:20.290Z"
   },
   {
    "duration": 55,
    "start_time": "2021-08-13T09:52:33.462Z"
   },
   {
    "duration": 4,
    "start_time": "2021-08-13T09:53:24.305Z"
   },
   {
    "duration": 218,
    "start_time": "2021-08-13T09:53:24.312Z"
   },
   {
    "duration": 22,
    "start_time": "2021-08-13T09:53:24.533Z"
   },
   {
    "duration": 42,
    "start_time": "2021-08-13T09:53:24.559Z"
   },
   {
    "duration": 19,
    "start_time": "2021-08-13T09:53:24.604Z"
   },
   {
    "duration": 36,
    "start_time": "2021-08-13T09:53:24.625Z"
   },
   {
    "duration": 17,
    "start_time": "2021-08-13T09:53:24.664Z"
   },
   {
    "duration": 40,
    "start_time": "2021-08-13T09:53:24.685Z"
   },
   {
    "duration": 33,
    "start_time": "2021-08-13T09:53:24.728Z"
   },
   {
    "duration": 40,
    "start_time": "2021-08-13T09:53:24.763Z"
   },
   {
    "duration": 113,
    "start_time": "2021-08-13T09:53:24.806Z"
   },
   {
    "duration": 103,
    "start_time": "2021-08-13T09:53:24.921Z"
   },
   {
    "duration": 91,
    "start_time": "2021-08-13T09:53:25.027Z"
   },
   {
    "duration": 77,
    "start_time": "2021-08-13T09:53:25.121Z"
   },
   {
    "duration": 4,
    "start_time": "2021-08-13T09:53:25.201Z"
   },
   {
    "duration": 51,
    "start_time": "2021-08-13T09:53:25.208Z"
   },
   {
    "duration": 58,
    "start_time": "2021-08-13T09:53:25.262Z"
   },
   {
    "duration": 3,
    "start_time": "2021-08-13T09:53:25.322Z"
   },
   {
    "duration": 16,
    "start_time": "2021-08-13T09:53:25.327Z"
   },
   {
    "duration": 3,
    "start_time": "2021-08-13T09:53:25.356Z"
   },
   {
    "duration": 7,
    "start_time": "2021-08-13T09:53:25.362Z"
   },
   {
    "duration": 8,
    "start_time": "2021-08-13T09:53:25.371Z"
   },
   {
    "duration": 5,
    "start_time": "2021-08-13T09:53:25.384Z"
   },
   {
    "duration": 10,
    "start_time": "2021-08-13T09:53:25.392Z"
   },
   {
    "duration": 10,
    "start_time": "2021-08-13T09:53:25.405Z"
   },
   {
    "duration": 10,
    "start_time": "2021-08-13T09:53:25.418Z"
   },
   {
    "duration": 25,
    "start_time": "2021-08-13T09:53:25.431Z"
   },
   {
    "duration": 8,
    "start_time": "2021-08-13T09:53:25.458Z"
   },
   {
    "duration": 11,
    "start_time": "2021-08-13T09:53:25.468Z"
   },
   {
    "duration": 7,
    "start_time": "2021-08-13T09:53:25.482Z"
   },
   {
    "duration": 10,
    "start_time": "2021-08-13T09:53:25.491Z"
   },
   {
    "duration": 7,
    "start_time": "2021-08-13T09:53:25.503Z"
   },
   {
    "duration": 9,
    "start_time": "2021-08-13T09:53:25.512Z"
   },
   {
    "duration": 9,
    "start_time": "2021-08-13T09:53:25.523Z"
   },
   {
    "duration": 21,
    "start_time": "2021-08-13T09:53:25.535Z"
   },
   {
    "duration": 9,
    "start_time": "2021-08-13T09:53:25.559Z"
   },
   {
    "duration": 13,
    "start_time": "2021-08-13T09:53:25.570Z"
   },
   {
    "duration": 9,
    "start_time": "2021-08-13T09:53:25.585Z"
   },
   {
    "duration": 5,
    "start_time": "2021-08-13T09:54:20.594Z"
   },
   {
    "duration": 3,
    "start_time": "2021-08-13T09:54:24.779Z"
   },
   {
    "duration": 199,
    "start_time": "2021-08-13T09:54:24.785Z"
   },
   {
    "duration": 16,
    "start_time": "2021-08-13T09:54:24.986Z"
   },
   {
    "duration": 50,
    "start_time": "2021-08-13T09:54:25.005Z"
   },
   {
    "duration": 5,
    "start_time": "2021-08-13T09:54:25.058Z"
   },
   {
    "duration": 28,
    "start_time": "2021-08-13T09:54:25.066Z"
   },
   {
    "duration": 6,
    "start_time": "2021-08-13T09:54:25.096Z"
   },
   {
    "duration": 64,
    "start_time": "2021-08-13T09:54:25.104Z"
   },
   {
    "duration": 23,
    "start_time": "2021-08-13T09:54:25.172Z"
   },
   {
    "duration": 31,
    "start_time": "2021-08-13T09:54:25.198Z"
   },
   {
    "duration": 106,
    "start_time": "2021-08-13T09:54:25.231Z"
   },
   {
    "duration": 106,
    "start_time": "2021-08-13T09:54:25.340Z"
   },
   {
    "duration": 75,
    "start_time": "2021-08-13T09:54:25.456Z"
   },
   {
    "duration": 69,
    "start_time": "2021-08-13T09:54:25.534Z"
   },
   {
    "duration": 4,
    "start_time": "2021-08-13T09:54:25.606Z"
   },
   {
    "duration": 49,
    "start_time": "2021-08-13T09:54:25.613Z"
   },
   {
    "duration": 6,
    "start_time": "2021-08-13T09:54:25.664Z"
   },
   {
    "duration": 15,
    "start_time": "2021-08-13T09:54:25.673Z"
   },
   {
    "duration": 18,
    "start_time": "2021-08-13T09:54:25.691Z"
   },
   {
    "duration": 16,
    "start_time": "2021-08-13T09:54:25.712Z"
   },
   {
    "duration": 15,
    "start_time": "2021-08-13T09:54:25.736Z"
   },
   {
    "duration": 18,
    "start_time": "2021-08-13T09:54:25.753Z"
   },
   {
    "duration": 16,
    "start_time": "2021-08-13T09:54:25.774Z"
   },
   {
    "duration": 19,
    "start_time": "2021-08-13T09:54:25.792Z"
   },
   {
    "duration": 23,
    "start_time": "2021-08-13T09:54:25.813Z"
   },
   {
    "duration": 25,
    "start_time": "2021-08-13T09:54:25.838Z"
   },
   {
    "duration": 15,
    "start_time": "2021-08-13T09:54:25.867Z"
   },
   {
    "duration": 16,
    "start_time": "2021-08-13T09:54:25.884Z"
   },
   {
    "duration": 19,
    "start_time": "2021-08-13T09:54:25.902Z"
   },
   {
    "duration": 20,
    "start_time": "2021-08-13T09:54:25.923Z"
   },
   {
    "duration": 28,
    "start_time": "2021-08-13T09:54:25.945Z"
   },
   {
    "duration": 16,
    "start_time": "2021-08-13T09:54:25.976Z"
   },
   {
    "duration": 27,
    "start_time": "2021-08-13T09:54:25.994Z"
   },
   {
    "duration": 17,
    "start_time": "2021-08-13T09:54:26.023Z"
   },
   {
    "duration": 30,
    "start_time": "2021-08-13T09:54:26.043Z"
   },
   {
    "duration": 24,
    "start_time": "2021-08-13T09:54:26.075Z"
   },
   {
    "duration": 24,
    "start_time": "2021-08-13T09:54:26.101Z"
   },
   {
    "duration": 14,
    "start_time": "2021-08-13T09:54:26.127Z"
   },
   {
    "duration": 60,
    "start_time": "2021-08-13T09:55:04.942Z"
   },
   {
    "duration": 22,
    "start_time": "2021-08-13T09:56:16.877Z"
   },
   {
    "duration": 58,
    "start_time": "2021-08-13T09:56:17.702Z"
   },
   {
    "duration": 6,
    "start_time": "2021-08-13T09:56:22.461Z"
   },
   {
    "duration": 3,
    "start_time": "2021-08-13T09:56:27.463Z"
   },
   {
    "duration": 203,
    "start_time": "2021-08-13T09:56:27.468Z"
   },
   {
    "duration": 16,
    "start_time": "2021-08-13T09:56:27.674Z"
   },
   {
    "duration": 43,
    "start_time": "2021-08-13T09:56:27.693Z"
   },
   {
    "duration": 18,
    "start_time": "2021-08-13T09:56:27.739Z"
   },
   {
    "duration": 27,
    "start_time": "2021-08-13T09:56:27.759Z"
   },
   {
    "duration": 5,
    "start_time": "2021-08-13T09:56:27.788Z"
   },
   {
    "duration": 62,
    "start_time": "2021-08-13T09:56:27.795Z"
   },
   {
    "duration": 22,
    "start_time": "2021-08-13T09:56:27.861Z"
   },
   {
    "duration": 33,
    "start_time": "2021-08-13T09:56:27.886Z"
   },
   {
    "duration": 102,
    "start_time": "2021-08-13T09:56:27.921Z"
   },
   {
    "duration": 97,
    "start_time": "2021-08-13T09:56:28.025Z"
   },
   {
    "duration": 84,
    "start_time": "2021-08-13T09:56:28.124Z"
   },
   {
    "duration": 67,
    "start_time": "2021-08-13T09:56:28.210Z"
   },
   {
    "duration": 4,
    "start_time": "2021-08-13T09:56:28.279Z"
   },
   {
    "duration": 26,
    "start_time": "2021-08-13T09:56:28.285Z"
   },
   {
    "duration": 6,
    "start_time": "2021-08-13T09:56:28.313Z"
   },
   {
    "duration": 35,
    "start_time": "2021-08-13T09:56:28.321Z"
   },
   {
    "duration": 15,
    "start_time": "2021-08-13T09:56:28.358Z"
   },
   {
    "duration": 7,
    "start_time": "2021-08-13T09:56:28.375Z"
   },
   {
    "duration": 6,
    "start_time": "2021-08-13T09:56:28.384Z"
   },
   {
    "duration": 10,
    "start_time": "2021-08-13T09:56:28.392Z"
   },
   {
    "duration": 8,
    "start_time": "2021-08-13T09:56:28.404Z"
   },
   {
    "duration": 10,
    "start_time": "2021-08-13T09:56:28.415Z"
   },
   {
    "duration": 7,
    "start_time": "2021-08-13T09:56:28.428Z"
   },
   {
    "duration": 18,
    "start_time": "2021-08-13T09:56:28.437Z"
   },
   {
    "duration": 4,
    "start_time": "2021-08-13T09:56:28.460Z"
   },
   {
    "duration": 9,
    "start_time": "2021-08-13T09:56:28.466Z"
   },
   {
    "duration": 6,
    "start_time": "2021-08-13T09:56:28.477Z"
   },
   {
    "duration": 6,
    "start_time": "2021-08-13T09:56:28.485Z"
   },
   {
    "duration": 9,
    "start_time": "2021-08-13T09:56:28.493Z"
   },
   {
    "duration": 8,
    "start_time": "2021-08-13T09:56:28.504Z"
   },
   {
    "duration": 12,
    "start_time": "2021-08-13T09:56:28.514Z"
   },
   {
    "duration": 11,
    "start_time": "2021-08-13T09:56:28.528Z"
   },
   {
    "duration": 10,
    "start_time": "2021-08-13T09:56:28.557Z"
   },
   {
    "duration": 8,
    "start_time": "2021-08-13T09:56:28.569Z"
   },
   {
    "duration": 7,
    "start_time": "2021-08-13T09:56:28.579Z"
   },
   {
    "duration": 6,
    "start_time": "2021-08-13T09:56:28.588Z"
   },
   {
    "duration": 59,
    "start_time": "2021-08-13T10:00:22.623Z"
   },
   {
    "duration": 4,
    "start_time": "2021-08-13T10:00:32.957Z"
   },
   {
    "duration": 210,
    "start_time": "2021-08-13T10:00:32.963Z"
   },
   {
    "duration": 14,
    "start_time": "2021-08-13T10:00:33.176Z"
   },
   {
    "duration": 36,
    "start_time": "2021-08-13T10:00:33.193Z"
   },
   {
    "duration": 6,
    "start_time": "2021-08-13T10:00:33.231Z"
   },
   {
    "duration": 27,
    "start_time": "2021-08-13T10:00:33.255Z"
   },
   {
    "duration": 6,
    "start_time": "2021-08-13T10:00:33.285Z"
   },
   {
    "duration": 64,
    "start_time": "2021-08-13T10:00:33.293Z"
   },
   {
    "duration": 22,
    "start_time": "2021-08-13T10:00:33.361Z"
   },
   {
    "duration": 29,
    "start_time": "2021-08-13T10:00:33.386Z"
   },
   {
    "duration": 107,
    "start_time": "2021-08-13T10:00:33.417Z"
   },
   {
    "duration": 96,
    "start_time": "2021-08-13T10:00:33.526Z"
   },
   {
    "duration": 84,
    "start_time": "2021-08-13T10:00:33.624Z"
   },
   {
    "duration": 68,
    "start_time": "2021-08-13T10:00:33.710Z"
   },
   {
    "duration": 4,
    "start_time": "2021-08-13T10:00:33.780Z"
   },
   {
    "duration": 25,
    "start_time": "2021-08-13T10:00:33.786Z"
   },
   {
    "duration": 76,
    "start_time": "2021-08-13T10:00:33.813Z"
   },
   {
    "duration": 2,
    "start_time": "2021-08-13T10:00:33.892Z"
   },
   {
    "duration": 8,
    "start_time": "2021-08-13T10:00:33.896Z"
   },
   {
    "duration": 8,
    "start_time": "2021-08-13T10:00:33.906Z"
   },
   {
    "duration": 15,
    "start_time": "2021-08-13T10:00:33.916Z"
   },
   {
    "duration": 23,
    "start_time": "2021-08-13T10:00:33.933Z"
   },
   {
    "duration": 3,
    "start_time": "2021-08-13T10:00:33.958Z"
   },
   {
    "duration": 14,
    "start_time": "2021-08-13T10:00:33.963Z"
   },
   {
    "duration": 7,
    "start_time": "2021-08-13T10:00:33.980Z"
   },
   {
    "duration": 12,
    "start_time": "2021-08-13T10:00:33.989Z"
   },
   {
    "duration": 6,
    "start_time": "2021-08-13T10:00:34.008Z"
   },
   {
    "duration": 8,
    "start_time": "2021-08-13T10:00:34.017Z"
   },
   {
    "duration": 8,
    "start_time": "2021-08-13T10:00:34.027Z"
   },
   {
    "duration": 7,
    "start_time": "2021-08-13T10:00:34.055Z"
   },
   {
    "duration": 15,
    "start_time": "2021-08-13T10:00:34.065Z"
   },
   {
    "duration": 8,
    "start_time": "2021-08-13T10:00:34.083Z"
   },
   {
    "duration": 13,
    "start_time": "2021-08-13T10:00:34.093Z"
   },
   {
    "duration": 10,
    "start_time": "2021-08-13T10:00:34.108Z"
   },
   {
    "duration": 12,
    "start_time": "2021-08-13T10:00:34.120Z"
   },
   {
    "duration": 7,
    "start_time": "2021-08-13T10:00:34.135Z"
   },
   {
    "duration": 6,
    "start_time": "2021-08-13T10:00:34.145Z"
   },
   {
    "duration": 5,
    "start_time": "2021-08-13T10:00:34.156Z"
   },
   {
    "duration": 21,
    "start_time": "2021-08-13T10:08:19.189Z"
   },
   {
    "duration": 2616,
    "start_time": "2021-08-13T10:08:27.039Z"
   },
   {
    "duration": 22,
    "start_time": "2021-08-13T10:08:34.135Z"
   },
   {
    "duration": 395,
    "start_time": "2021-08-13T10:09:19.589Z"
   },
   {
    "duration": 35,
    "start_time": "2021-08-13T10:09:25.848Z"
   },
   {
    "duration": 31,
    "start_time": "2021-08-13T10:09:28.722Z"
   },
   {
    "duration": 35,
    "start_time": "2021-08-13T10:09:38.357Z"
   },
   {
    "duration": 37,
    "start_time": "2021-08-13T10:09:45.393Z"
   },
   {
    "duration": 38,
    "start_time": "2021-08-13T10:09:48.099Z"
   },
   {
    "duration": 35,
    "start_time": "2021-08-13T10:10:46.424Z"
   },
   {
    "duration": 366,
    "start_time": "2021-08-13T10:24:46.834Z"
   },
   {
    "duration": 3,
    "start_time": "2021-08-13T10:26:12.341Z"
   },
   {
    "duration": 214,
    "start_time": "2021-08-13T10:26:12.346Z"
   },
   {
    "duration": 16,
    "start_time": "2021-08-13T10:26:12.563Z"
   },
   {
    "duration": 32,
    "start_time": "2021-08-13T10:26:12.582Z"
   },
   {
    "duration": 6,
    "start_time": "2021-08-13T10:26:12.616Z"
   },
   {
    "duration": 50,
    "start_time": "2021-08-13T10:26:12.624Z"
   },
   {
    "duration": 4,
    "start_time": "2021-08-13T10:26:12.677Z"
   },
   {
    "duration": 32,
    "start_time": "2021-08-13T10:26:12.684Z"
   },
   {
    "duration": 46,
    "start_time": "2021-08-13T10:26:12.720Z"
   },
   {
    "duration": 30,
    "start_time": "2021-08-13T10:26:12.769Z"
   },
   {
    "duration": 106,
    "start_time": "2021-08-13T10:26:12.803Z"
   },
   {
    "duration": 103,
    "start_time": "2021-08-13T10:26:12.912Z"
   },
   {
    "duration": 87,
    "start_time": "2021-08-13T10:26:13.017Z"
   },
   {
    "duration": 62,
    "start_time": "2021-08-13T10:26:13.106Z"
   },
   {
    "duration": 3,
    "start_time": "2021-08-13T10:26:13.171Z"
   },
   {
    "duration": 23,
    "start_time": "2021-08-13T10:26:13.177Z"
   },
   {
    "duration": 84,
    "start_time": "2021-08-13T10:26:13.202Z"
   },
   {
    "duration": 34,
    "start_time": "2021-08-13T10:26:13.288Z"
   },
   {
    "duration": 365,
    "start_time": "2021-08-13T10:26:13.324Z"
   },
   {
    "duration": -659,
    "start_time": "2021-08-13T10:26:14.351Z"
   },
   {
    "duration": -661,
    "start_time": "2021-08-13T10:26:14.355Z"
   },
   {
    "duration": -660,
    "start_time": "2021-08-13T10:26:14.356Z"
   },
   {
    "duration": -661,
    "start_time": "2021-08-13T10:26:14.359Z"
   },
   {
    "duration": -663,
    "start_time": "2021-08-13T10:26:14.363Z"
   },
   {
    "duration": -663,
    "start_time": "2021-08-13T10:26:14.366Z"
   },
   {
    "duration": -667,
    "start_time": "2021-08-13T10:26:14.371Z"
   },
   {
    "duration": -665,
    "start_time": "2021-08-13T10:26:14.372Z"
   },
   {
    "duration": -668,
    "start_time": "2021-08-13T10:26:14.377Z"
   },
   {
    "duration": -667,
    "start_time": "2021-08-13T10:26:14.378Z"
   },
   {
    "duration": -670,
    "start_time": "2021-08-13T10:26:14.383Z"
   },
   {
    "duration": -670,
    "start_time": "2021-08-13T10:26:14.385Z"
   },
   {
    "duration": -674,
    "start_time": "2021-08-13T10:26:14.391Z"
   },
   {
    "duration": -693,
    "start_time": "2021-08-13T10:26:14.412Z"
   },
   {
    "duration": -691,
    "start_time": "2021-08-13T10:26:14.413Z"
   },
   {
    "duration": -693,
    "start_time": "2021-08-13T10:26:14.417Z"
   },
   {
    "duration": -694,
    "start_time": "2021-08-13T10:26:14.420Z"
   },
   {
    "duration": -694,
    "start_time": "2021-08-13T10:26:14.422Z"
   },
   {
    "duration": -696,
    "start_time": "2021-08-13T10:26:14.426Z"
   },
   {
    "duration": 23,
    "start_time": "2021-08-13T10:27:55.873Z"
   },
   {
    "duration": 30,
    "start_time": "2021-08-13T10:28:59.715Z"
   },
   {
    "duration": 6,
    "start_time": "2021-08-13T10:29:45.506Z"
   },
   {
    "duration": 352,
    "start_time": "2021-08-13T10:30:52.355Z"
   },
   {
    "duration": 4,
    "start_time": "2021-08-13T10:31:14.054Z"
   },
   {
    "duration": 219,
    "start_time": "2021-08-13T10:31:14.060Z"
   },
   {
    "duration": 16,
    "start_time": "2021-08-13T10:31:14.282Z"
   },
   {
    "duration": 52,
    "start_time": "2021-08-13T10:31:14.300Z"
   },
   {
    "duration": 5,
    "start_time": "2021-08-13T10:31:14.357Z"
   },
   {
    "duration": 25,
    "start_time": "2021-08-13T10:31:14.364Z"
   },
   {
    "duration": 5,
    "start_time": "2021-08-13T10:31:14.391Z"
   },
   {
    "duration": 60,
    "start_time": "2021-08-13T10:31:14.399Z"
   },
   {
    "duration": 22,
    "start_time": "2021-08-13T10:31:14.464Z"
   },
   {
    "duration": 32,
    "start_time": "2021-08-13T10:31:14.489Z"
   },
   {
    "duration": 106,
    "start_time": "2021-08-13T10:31:14.524Z"
   },
   {
    "duration": 104,
    "start_time": "2021-08-13T10:31:14.632Z"
   },
   {
    "duration": 83,
    "start_time": "2021-08-13T10:31:14.738Z"
   },
   {
    "duration": 68,
    "start_time": "2021-08-13T10:31:14.823Z"
   },
   {
    "duration": 6,
    "start_time": "2021-08-13T10:31:14.894Z"
   },
   {
    "duration": 28,
    "start_time": "2021-08-13T10:31:14.902Z"
   },
   {
    "duration": 60,
    "start_time": "2021-08-13T10:31:14.957Z"
   },
   {
    "duration": 60,
    "start_time": "2021-08-13T10:31:15.021Z"
   },
   {
    "duration": 7,
    "start_time": "2021-08-13T10:31:15.084Z"
   },
   {
    "duration": 6,
    "start_time": "2021-08-13T10:31:15.094Z"
   },
   {
    "duration": 14,
    "start_time": "2021-08-13T10:31:15.103Z"
   },
   {
    "duration": 7,
    "start_time": "2021-08-13T10:31:15.119Z"
   },
   {
    "duration": 17,
    "start_time": "2021-08-13T10:31:15.128Z"
   },
   {
    "duration": 10,
    "start_time": "2021-08-13T10:31:15.148Z"
   },
   {
    "duration": 17,
    "start_time": "2021-08-13T10:31:15.161Z"
   },
   {
    "duration": 12,
    "start_time": "2021-08-13T10:31:15.180Z"
   },
   {
    "duration": 4,
    "start_time": "2021-08-13T10:31:15.199Z"
   },
   {
    "duration": 10,
    "start_time": "2021-08-13T10:31:15.206Z"
   },
   {
    "duration": 37,
    "start_time": "2021-08-13T10:31:15.219Z"
   },
   {
    "duration": 6,
    "start_time": "2021-08-13T10:31:15.259Z"
   },
   {
    "duration": 15,
    "start_time": "2021-08-13T10:31:15.268Z"
   },
   {
    "duration": 17,
    "start_time": "2021-08-13T10:31:15.286Z"
   },
   {
    "duration": 49,
    "start_time": "2021-08-13T10:31:15.307Z"
   },
   {
    "duration": 8,
    "start_time": "2021-08-13T10:31:15.360Z"
   },
   {
    "duration": 7,
    "start_time": "2021-08-13T10:31:15.372Z"
   },
   {
    "duration": 6,
    "start_time": "2021-08-13T10:31:15.382Z"
   },
   {
    "duration": 10,
    "start_time": "2021-08-13T10:31:15.390Z"
   },
   {
    "duration": 54,
    "start_time": "2021-08-13T10:31:15.402Z"
   },
   {
    "duration": 6,
    "start_time": "2021-08-13T10:31:58.534Z"
   },
   {
    "duration": 5,
    "start_time": "2021-08-13T10:32:01.984Z"
   },
   {
    "duration": 5,
    "start_time": "2021-08-13T10:32:08.701Z"
   },
   {
    "duration": 4,
    "start_time": "2021-08-13T10:32:12.397Z"
   },
   {
    "duration": 199,
    "start_time": "2021-08-13T10:32:12.403Z"
   },
   {
    "duration": 15,
    "start_time": "2021-08-13T10:32:12.605Z"
   },
   {
    "duration": 52,
    "start_time": "2021-08-13T10:32:12.622Z"
   },
   {
    "duration": 21,
    "start_time": "2021-08-13T10:32:12.677Z"
   },
   {
    "duration": 31,
    "start_time": "2021-08-13T10:32:12.700Z"
   },
   {
    "duration": 9,
    "start_time": "2021-08-13T10:32:12.734Z"
   },
   {
    "duration": 43,
    "start_time": "2021-08-13T10:32:12.746Z"
   },
   {
    "duration": 33,
    "start_time": "2021-08-13T10:32:12.792Z"
   },
   {
    "duration": 44,
    "start_time": "2021-08-13T10:32:12.827Z"
   },
   {
    "duration": 101,
    "start_time": "2021-08-13T10:32:12.873Z"
   },
   {
    "duration": 99,
    "start_time": "2021-08-13T10:32:12.977Z"
   },
   {
    "duration": 87,
    "start_time": "2021-08-13T10:32:13.079Z"
   },
   {
    "duration": 55,
    "start_time": "2021-08-13T10:32:13.169Z"
   },
   {
    "duration": 15,
    "start_time": "2021-08-13T10:32:13.226Z"
   },
   {
    "duration": 35,
    "start_time": "2021-08-13T10:32:13.243Z"
   },
   {
    "duration": 63,
    "start_time": "2021-08-13T10:32:13.280Z"
   },
   {
    "duration": 35,
    "start_time": "2021-08-13T10:32:13.356Z"
   },
   {
    "duration": 19,
    "start_time": "2021-08-13T10:32:13.393Z"
   },
   {
    "duration": 15,
    "start_time": "2021-08-13T10:32:13.414Z"
   },
   {
    "duration": 28,
    "start_time": "2021-08-13T10:32:13.431Z"
   },
   {
    "duration": 27,
    "start_time": "2021-08-13T10:32:13.461Z"
   },
   {
    "duration": 15,
    "start_time": "2021-08-13T10:32:13.493Z"
   },
   {
    "duration": 11,
    "start_time": "2021-08-13T10:32:13.510Z"
   },
   {
    "duration": 11,
    "start_time": "2021-08-13T10:32:13.523Z"
   },
   {
    "duration": 11,
    "start_time": "2021-08-13T10:32:13.537Z"
   },
   {
    "duration": 10,
    "start_time": "2021-08-13T10:32:13.550Z"
   },
   {
    "duration": 12,
    "start_time": "2021-08-13T10:32:13.562Z"
   },
   {
    "duration": 7,
    "start_time": "2021-08-13T10:32:13.576Z"
   },
   {
    "duration": 14,
    "start_time": "2021-08-13T10:32:13.585Z"
   },
   {
    "duration": 8,
    "start_time": "2021-08-13T10:32:13.602Z"
   },
   {
    "duration": 8,
    "start_time": "2021-08-13T10:32:13.612Z"
   },
   {
    "duration": 14,
    "start_time": "2021-08-13T10:32:13.623Z"
   },
   {
    "duration": 9,
    "start_time": "2021-08-13T10:32:13.640Z"
   },
   {
    "duration": 8,
    "start_time": "2021-08-13T10:32:13.652Z"
   },
   {
    "duration": 12,
    "start_time": "2021-08-13T10:32:13.662Z"
   },
   {
    "duration": 9,
    "start_time": "2021-08-13T10:32:13.676Z"
   },
   {
    "duration": 10,
    "start_time": "2021-08-13T10:32:13.687Z"
   },
   {
    "duration": 9,
    "start_time": "2021-08-13T10:33:14.851Z"
   },
   {
    "duration": 388,
    "start_time": "2021-08-13T10:33:23.461Z"
   },
   {
    "duration": 353,
    "start_time": "2021-08-13T10:33:41.561Z"
   },
   {
    "duration": 4,
    "start_time": "2021-08-13T10:34:39.617Z"
   },
   {
    "duration": 202,
    "start_time": "2021-08-13T10:34:39.625Z"
   },
   {
    "duration": 24,
    "start_time": "2021-08-13T10:34:39.830Z"
   },
   {
    "duration": 60,
    "start_time": "2021-08-13T10:34:39.857Z"
   },
   {
    "duration": 18,
    "start_time": "2021-08-13T10:34:39.920Z"
   },
   {
    "duration": 42,
    "start_time": "2021-08-13T10:34:39.941Z"
   },
   {
    "duration": 13,
    "start_time": "2021-08-13T10:34:39.986Z"
   },
   {
    "duration": 47,
    "start_time": "2021-08-13T10:34:40.003Z"
   },
   {
    "duration": 39,
    "start_time": "2021-08-13T10:34:40.053Z"
   },
   {
    "duration": 30,
    "start_time": "2021-08-13T10:34:40.095Z"
   },
   {
    "duration": 108,
    "start_time": "2021-08-13T10:34:40.127Z"
   },
   {
    "duration": 98,
    "start_time": "2021-08-13T10:34:40.237Z"
   },
   {
    "duration": 90,
    "start_time": "2021-08-13T10:34:40.338Z"
   },
   {
    "duration": 77,
    "start_time": "2021-08-13T10:34:40.431Z"
   },
   {
    "duration": 17,
    "start_time": "2021-08-13T10:34:40.510Z"
   },
   {
    "duration": 41,
    "start_time": "2021-08-13T10:34:40.529Z"
   },
   {
    "duration": 111,
    "start_time": "2021-08-13T10:34:40.572Z"
   },
   {
    "duration": 105,
    "start_time": "2021-08-13T10:34:40.685Z"
   },
   {
    "duration": 8,
    "start_time": "2021-08-13T10:34:40.793Z"
   },
   {
    "duration": 56,
    "start_time": "2021-08-13T10:34:40.804Z"
   },
   {
    "duration": 24,
    "start_time": "2021-08-13T10:34:40.863Z"
   },
   {
    "duration": 23,
    "start_time": "2021-08-13T10:34:40.890Z"
   },
   {
    "duration": 13,
    "start_time": "2021-08-13T10:34:40.920Z"
   },
   {
    "duration": 23,
    "start_time": "2021-08-13T10:34:40.958Z"
   },
   {
    "duration": 17,
    "start_time": "2021-08-13T10:34:40.984Z"
   },
   {
    "duration": 52,
    "start_time": "2021-08-13T10:34:41.004Z"
   },
   {
    "duration": 23,
    "start_time": "2021-08-13T10:34:41.058Z"
   },
   {
    "duration": 15,
    "start_time": "2021-08-13T10:34:41.084Z"
   },
   {
    "duration": 15,
    "start_time": "2021-08-13T10:34:41.101Z"
   },
   {
    "duration": 38,
    "start_time": "2021-08-13T10:34:41.119Z"
   },
   {
    "duration": 29,
    "start_time": "2021-08-13T10:34:41.160Z"
   },
   {
    "duration": 20,
    "start_time": "2021-08-13T10:34:41.192Z"
   },
   {
    "duration": 41,
    "start_time": "2021-08-13T10:34:41.215Z"
   },
   {
    "duration": 15,
    "start_time": "2021-08-13T10:34:41.259Z"
   },
   {
    "duration": 20,
    "start_time": "2021-08-13T10:34:41.276Z"
   },
   {
    "duration": 18,
    "start_time": "2021-08-13T10:34:41.298Z"
   },
   {
    "duration": 20,
    "start_time": "2021-08-13T10:34:41.318Z"
   },
   {
    "duration": 22,
    "start_time": "2021-08-13T10:34:41.340Z"
   },
   {
    "duration": 985,
    "start_time": "2021-08-13T10:35:04.950Z"
   },
   {
    "duration": 359,
    "start_time": "2021-08-13T10:37:09.542Z"
   },
   {
    "duration": 361,
    "start_time": "2021-08-13T10:37:18.698Z"
   },
   {
    "duration": 4,
    "start_time": "2021-08-13T10:37:25.992Z"
   },
   {
    "duration": 185,
    "start_time": "2021-08-13T10:37:25.998Z"
   },
   {
    "duration": 15,
    "start_time": "2021-08-13T10:37:26.186Z"
   },
   {
    "duration": 52,
    "start_time": "2021-08-13T10:37:26.204Z"
   },
   {
    "duration": 6,
    "start_time": "2021-08-13T10:37:26.258Z"
   },
   {
    "duration": 18,
    "start_time": "2021-08-13T10:37:26.266Z"
   },
   {
    "duration": 6,
    "start_time": "2021-08-13T10:37:26.286Z"
   },
   {
    "duration": 64,
    "start_time": "2021-08-13T10:37:26.294Z"
   },
   {
    "duration": 22,
    "start_time": "2021-08-13T10:37:26.362Z"
   },
   {
    "duration": 29,
    "start_time": "2021-08-13T10:37:26.387Z"
   },
   {
    "duration": 112,
    "start_time": "2021-08-13T10:37:26.418Z"
   },
   {
    "duration": 142,
    "start_time": "2021-08-13T10:37:26.533Z"
   },
   {
    "duration": 118,
    "start_time": "2021-08-13T10:37:26.679Z"
   },
   {
    "duration": 107,
    "start_time": "2021-08-13T10:37:26.800Z"
   },
   {
    "duration": 6,
    "start_time": "2021-08-13T10:37:26.910Z"
   },
   {
    "duration": 53,
    "start_time": "2021-08-13T10:37:26.919Z"
   },
   {
    "duration": 86,
    "start_time": "2021-08-13T10:37:26.975Z"
   },
   {
    "duration": 34,
    "start_time": "2021-08-13T10:37:27.063Z"
   },
   {
    "duration": 3,
    "start_time": "2021-08-13T10:37:32.659Z"
   },
   {
    "duration": 24,
    "start_time": "2021-08-13T10:37:32.664Z"
   },
   {
    "duration": 7,
    "start_time": "2021-08-13T10:37:32.691Z"
   },
   {
    "duration": 6,
    "start_time": "2021-08-13T10:37:32.700Z"
   },
   {
    "duration": 6,
    "start_time": "2021-08-13T10:37:32.709Z"
   },
   {
    "duration": 8,
    "start_time": "2021-08-13T10:37:32.717Z"
   },
   {
    "duration": 8,
    "start_time": "2021-08-13T10:37:32.728Z"
   },
   {
    "duration": 14,
    "start_time": "2021-08-13T10:37:32.742Z"
   },
   {
    "duration": 5,
    "start_time": "2021-08-13T10:37:32.760Z"
   },
   {
    "duration": 7,
    "start_time": "2021-08-13T10:37:32.768Z"
   },
   {
    "duration": 8,
    "start_time": "2021-08-13T10:37:32.777Z"
   },
   {
    "duration": 13,
    "start_time": "2021-08-13T10:37:32.788Z"
   },
   {
    "duration": 7,
    "start_time": "2021-08-13T10:37:32.804Z"
   },
   {
    "duration": 13,
    "start_time": "2021-08-13T10:37:32.814Z"
   },
   {
    "duration": 7,
    "start_time": "2021-08-13T10:37:32.830Z"
   },
   {
    "duration": 18,
    "start_time": "2021-08-13T10:37:32.840Z"
   },
   {
    "duration": 6,
    "start_time": "2021-08-13T10:37:32.860Z"
   },
   {
    "duration": 7,
    "start_time": "2021-08-13T10:37:32.869Z"
   },
   {
    "duration": 31,
    "start_time": "2021-08-13T10:37:32.879Z"
   },
   {
    "duration": 367,
    "start_time": "2021-08-13T10:37:32.912Z"
   },
   {
    "duration": 417,
    "start_time": "2021-08-13T10:38:20.229Z"
   },
   {
    "duration": 349,
    "start_time": "2021-08-13T10:38:23.422Z"
   },
   {
    "duration": 4,
    "start_time": "2021-08-13T10:38:26.626Z"
   },
   {
    "duration": 202,
    "start_time": "2021-08-13T10:38:26.632Z"
   },
   {
    "duration": 20,
    "start_time": "2021-08-13T10:38:26.837Z"
   },
   {
    "duration": 40,
    "start_time": "2021-08-13T10:38:26.860Z"
   },
   {
    "duration": 12,
    "start_time": "2021-08-13T10:38:26.902Z"
   },
   {
    "duration": 40,
    "start_time": "2021-08-13T10:38:26.916Z"
   },
   {
    "duration": 6,
    "start_time": "2021-08-13T10:38:26.958Z"
   },
   {
    "duration": 34,
    "start_time": "2021-08-13T10:38:26.966Z"
   },
   {
    "duration": 23,
    "start_time": "2021-08-13T10:38:27.004Z"
   },
   {
    "duration": 58,
    "start_time": "2021-08-13T10:38:27.030Z"
   },
   {
    "duration": 118,
    "start_time": "2021-08-13T10:38:27.091Z"
   },
   {
    "duration": 102,
    "start_time": "2021-08-13T10:38:27.212Z"
   },
   {
    "duration": 88,
    "start_time": "2021-08-13T10:38:27.316Z"
   },
   {
    "duration": 62,
    "start_time": "2021-08-13T10:38:27.407Z"
   },
   {
    "duration": 4,
    "start_time": "2021-08-13T10:38:27.472Z"
   },
   {
    "duration": 24,
    "start_time": "2021-08-13T10:38:27.478Z"
   },
   {
    "duration": 83,
    "start_time": "2021-08-13T10:38:27.504Z"
   },
   {
    "duration": 79,
    "start_time": "2021-08-13T10:38:27.590Z"
   },
   {
    "duration": 7,
    "start_time": "2021-08-13T10:38:27.672Z"
   },
   {
    "duration": 7,
    "start_time": "2021-08-13T10:38:27.681Z"
   },
   {
    "duration": 14,
    "start_time": "2021-08-13T10:38:27.691Z"
   },
   {
    "duration": 54,
    "start_time": "2021-08-13T10:38:27.708Z"
   },
   {
    "duration": 8,
    "start_time": "2021-08-13T10:38:27.765Z"
   },
   {
    "duration": 6,
    "start_time": "2021-08-13T10:38:27.776Z"
   },
   {
    "duration": 10,
    "start_time": "2021-08-13T10:38:27.784Z"
   },
   {
    "duration": 10,
    "start_time": "2021-08-13T10:38:27.796Z"
   },
   {
    "duration": 8,
    "start_time": "2021-08-13T10:38:27.811Z"
   },
   {
    "duration": 9,
    "start_time": "2021-08-13T10:38:27.858Z"
   },
   {
    "duration": 16,
    "start_time": "2021-08-13T10:38:27.870Z"
   },
   {
    "duration": 10,
    "start_time": "2021-08-13T10:38:27.889Z"
   },
   {
    "duration": 15,
    "start_time": "2021-08-13T10:38:27.901Z"
   },
   {
    "duration": 3,
    "start_time": "2021-08-13T10:38:27.956Z"
   },
   {
    "duration": 11,
    "start_time": "2021-08-13T10:38:27.961Z"
   },
   {
    "duration": 9,
    "start_time": "2021-08-13T10:38:27.974Z"
   },
   {
    "duration": 7,
    "start_time": "2021-08-13T10:38:27.985Z"
   },
   {
    "duration": 6,
    "start_time": "2021-08-13T10:38:27.994Z"
   },
   {
    "duration": 11,
    "start_time": "2021-08-13T10:38:28.002Z"
   },
   {
    "duration": 42,
    "start_time": "2021-08-13T10:38:28.015Z"
   },
   {
    "duration": 6,
    "start_time": "2021-08-13T10:40:00.122Z"
   },
   {
    "duration": 42,
    "start_time": "2021-08-13T10:45:59.603Z"
   },
   {
    "duration": 84,
    "start_time": "2021-08-13T10:48:19.757Z"
   },
   {
    "duration": 347,
    "start_time": "2021-08-13T11:01:41.298Z"
   },
   {
    "duration": 4,
    "start_time": "2021-08-13T11:01:45.525Z"
   },
   {
    "duration": 198,
    "start_time": "2021-08-13T11:01:45.531Z"
   },
   {
    "duration": 23,
    "start_time": "2021-08-13T11:01:45.732Z"
   },
   {
    "duration": 41,
    "start_time": "2021-08-13T11:01:45.758Z"
   },
   {
    "duration": 14,
    "start_time": "2021-08-13T11:01:45.801Z"
   },
   {
    "duration": 43,
    "start_time": "2021-08-13T11:01:45.817Z"
   },
   {
    "duration": 5,
    "start_time": "2021-08-13T11:01:45.863Z"
   },
   {
    "duration": 51,
    "start_time": "2021-08-13T11:01:45.870Z"
   },
   {
    "duration": 39,
    "start_time": "2021-08-13T11:01:45.924Z"
   },
   {
    "duration": 30,
    "start_time": "2021-08-13T11:01:45.966Z"
   },
   {
    "duration": 92,
    "start_time": "2021-08-13T11:01:45.998Z"
   },
   {
    "duration": 101,
    "start_time": "2021-08-13T11:01:46.094Z"
   },
   {
    "duration": 81,
    "start_time": "2021-08-13T11:01:46.197Z"
   },
   {
    "duration": 76,
    "start_time": "2021-08-13T11:01:46.281Z"
   },
   {
    "duration": 4,
    "start_time": "2021-08-13T11:01:46.359Z"
   },
   {
    "duration": 31,
    "start_time": "2021-08-13T11:01:46.365Z"
   },
   {
    "duration": 68,
    "start_time": "2021-08-13T11:01:46.399Z"
   },
   {
    "duration": 33,
    "start_time": "2021-08-13T11:01:46.470Z"
   },
   {
    "duration": 67,
    "start_time": "2021-08-13T11:01:46.505Z"
   },
   {
    "duration": 111,
    "start_time": "2021-08-13T11:01:46.574Z"
   },
   {
    "duration": -661,
    "start_time": "2021-08-13T11:01:47.349Z"
   },
   {
    "duration": -662,
    "start_time": "2021-08-13T11:01:47.351Z"
   },
   {
    "duration": -662,
    "start_time": "2021-08-13T11:01:47.353Z"
   },
   {
    "duration": -661,
    "start_time": "2021-08-13T11:01:47.354Z"
   },
   {
    "duration": -665,
    "start_time": "2021-08-13T11:01:47.359Z"
   },
   {
    "duration": -664,
    "start_time": "2021-08-13T11:01:47.360Z"
   },
   {
    "duration": -666,
    "start_time": "2021-08-13T11:01:47.363Z"
   },
   {
    "duration": -667,
    "start_time": "2021-08-13T11:01:47.365Z"
   },
   {
    "duration": -666,
    "start_time": "2021-08-13T11:01:47.366Z"
   },
   {
    "duration": -666,
    "start_time": "2021-08-13T11:01:47.367Z"
   },
   {
    "duration": -666,
    "start_time": "2021-08-13T11:01:47.368Z"
   },
   {
    "duration": -667,
    "start_time": "2021-08-13T11:01:47.371Z"
   },
   {
    "duration": -667,
    "start_time": "2021-08-13T11:01:47.372Z"
   },
   {
    "duration": -666,
    "start_time": "2021-08-13T11:01:47.373Z"
   },
   {
    "duration": -667,
    "start_time": "2021-08-13T11:01:47.375Z"
   },
   {
    "duration": -669,
    "start_time": "2021-08-13T11:01:47.378Z"
   },
   {
    "duration": -668,
    "start_time": "2021-08-13T11:01:47.379Z"
   },
   {
    "duration": -668,
    "start_time": "2021-08-13T11:01:47.380Z"
   },
   {
    "duration": 354,
    "start_time": "2021-08-13T11:01:53.693Z"
   },
   {
    "duration": 420,
    "start_time": "2021-08-13T11:02:32.589Z"
   },
   {
    "duration": 5,
    "start_time": "2021-08-13T11:03:35.306Z"
   },
   {
    "duration": 368,
    "start_time": "2021-08-13T11:03:39.890Z"
   },
   {
    "duration": 22,
    "start_time": "2021-08-13T11:03:56.341Z"
   },
   {
    "duration": 20,
    "start_time": "2021-08-13T11:04:16.005Z"
   },
   {
    "duration": 19,
    "start_time": "2021-08-13T11:04:18.330Z"
   },
   {
    "duration": 17,
    "start_time": "2021-08-13T11:04:19.638Z"
   },
   {
    "duration": 20,
    "start_time": "2021-08-13T11:04:20.516Z"
   },
   {
    "duration": 32,
    "start_time": "2021-08-13T11:04:21.275Z"
   },
   {
    "duration": 361,
    "start_time": "2021-08-13T11:04:31.718Z"
   },
   {
    "duration": 442,
    "start_time": "2021-08-13T11:05:07.417Z"
   },
   {
    "duration": 13,
    "start_time": "2021-08-13T11:08:18.590Z"
   },
   {
    "duration": 29,
    "start_time": "2021-08-13T11:10:44.508Z"
   },
   {
    "duration": 125,
    "start_time": "2021-08-13T11:11:11.090Z"
   },
   {
    "duration": 27,
    "start_time": "2021-08-13T11:11:32.125Z"
   },
   {
    "duration": 12,
    "start_time": "2021-08-13T11:11:42.095Z"
   },
   {
    "duration": 17,
    "start_time": "2021-08-13T11:11:44.880Z"
   },
   {
    "duration": 6,
    "start_time": "2021-08-13T11:19:45.991Z"
   },
   {
    "duration": -663,
    "start_time": "2021-08-13T11:21:06.322Z"
   },
   {
    "duration": 6,
    "start_time": "2021-08-13T11:21:41.831Z"
   },
   {
    "duration": 4,
    "start_time": "2021-08-13T11:21:43.487Z"
   },
   {
    "duration": 194,
    "start_time": "2021-08-13T11:21:43.494Z"
   },
   {
    "duration": 14,
    "start_time": "2021-08-13T11:21:43.691Z"
   },
   {
    "duration": 50,
    "start_time": "2021-08-13T11:21:43.708Z"
   },
   {
    "duration": 4,
    "start_time": "2021-08-13T11:21:43.760Z"
   },
   {
    "duration": 29,
    "start_time": "2021-08-13T11:21:43.766Z"
   },
   {
    "duration": 4,
    "start_time": "2021-08-13T11:21:43.798Z"
   },
   {
    "duration": 57,
    "start_time": "2021-08-13T11:21:43.804Z"
   },
   {
    "duration": 23,
    "start_time": "2021-08-13T11:21:43.864Z"
   },
   {
    "duration": 29,
    "start_time": "2021-08-13T11:21:43.890Z"
   },
   {
    "duration": 110,
    "start_time": "2021-08-13T11:21:43.922Z"
   },
   {
    "duration": 105,
    "start_time": "2021-08-13T11:21:44.034Z"
   },
   {
    "duration": 81,
    "start_time": "2021-08-13T11:21:44.141Z"
   },
   {
    "duration": 65,
    "start_time": "2021-08-13T11:21:44.224Z"
   },
   {
    "duration": 4,
    "start_time": "2021-08-13T11:21:44.291Z"
   },
   {
    "duration": 26,
    "start_time": "2021-08-13T11:21:44.297Z"
   },
   {
    "duration": 77,
    "start_time": "2021-08-13T11:21:44.325Z"
   },
   {
    "duration": 55,
    "start_time": "2021-08-13T11:21:44.405Z"
   },
   {
    "duration": 42,
    "start_time": "2021-08-13T11:21:44.463Z"
   },
   {
    "duration": 5,
    "start_time": "2021-08-13T11:21:44.555Z"
   },
   {
    "duration": 30,
    "start_time": "2021-08-13T11:21:44.563Z"
   },
   {
    "duration": 65,
    "start_time": "2021-08-13T11:21:44.595Z"
   },
   {
    "duration": 19,
    "start_time": "2021-08-13T11:21:44.663Z"
   },
   {
    "duration": 72,
    "start_time": "2021-08-13T11:21:44.685Z"
   },
   {
    "duration": 20,
    "start_time": "2021-08-13T11:21:44.760Z"
   },
   {
    "duration": 75,
    "start_time": "2021-08-13T11:21:44.783Z"
   },
   {
    "duration": 18,
    "start_time": "2021-08-13T11:21:44.865Z"
   },
   {
    "duration": 70,
    "start_time": "2021-08-13T11:21:44.886Z"
   },
   {
    "duration": 14,
    "start_time": "2021-08-13T11:21:44.958Z"
   },
   {
    "duration": 5,
    "start_time": "2021-08-13T11:21:44.974Z"
   },
   {
    "duration": 9988,
    "start_time": "2021-08-13T11:21:44.981Z"
   },
   {
    "duration": -665,
    "start_time": "2021-08-13T11:21:55.636Z"
   },
   {
    "duration": -667,
    "start_time": "2021-08-13T11:21:55.640Z"
   },
   {
    "duration": -668,
    "start_time": "2021-08-13T11:21:55.642Z"
   },
   {
    "duration": -667,
    "start_time": "2021-08-13T11:21:55.643Z"
   },
   {
    "duration": -667,
    "start_time": "2021-08-13T11:21:55.644Z"
   },
   {
    "duration": -667,
    "start_time": "2021-08-13T11:21:55.646Z"
   },
   {
    "duration": -667,
    "start_time": "2021-08-13T11:21:55.647Z"
   },
   {
    "duration": 6,
    "start_time": "2021-08-13T11:22:23.842Z"
   },
   {
    "duration": 4,
    "start_time": "2021-08-13T11:27:04.946Z"
   },
   {
    "duration": 204,
    "start_time": "2021-08-13T11:27:04.952Z"
   },
   {
    "duration": 15,
    "start_time": "2021-08-13T11:27:05.160Z"
   },
   {
    "duration": 49,
    "start_time": "2021-08-13T11:27:05.179Z"
   },
   {
    "duration": 14,
    "start_time": "2021-08-13T11:27:05.231Z"
   },
   {
    "duration": 51,
    "start_time": "2021-08-13T11:27:05.247Z"
   },
   {
    "duration": 10,
    "start_time": "2021-08-13T11:27:05.300Z"
   },
   {
    "duration": 42,
    "start_time": "2021-08-13T11:27:05.313Z"
   },
   {
    "duration": 42,
    "start_time": "2021-08-13T11:27:05.358Z"
   },
   {
    "duration": 37,
    "start_time": "2021-08-13T11:27:05.402Z"
   },
   {
    "duration": 99,
    "start_time": "2021-08-13T11:27:05.441Z"
   },
   {
    "duration": 91,
    "start_time": "2021-08-13T11:27:05.542Z"
   },
   {
    "duration": 86,
    "start_time": "2021-08-13T11:27:05.636Z"
   },
   {
    "duration": 63,
    "start_time": "2021-08-13T11:27:05.725Z"
   },
   {
    "duration": 12,
    "start_time": "2021-08-13T11:27:05.790Z"
   },
   {
    "duration": 34,
    "start_time": "2021-08-13T11:27:05.804Z"
   },
   {
    "duration": 64,
    "start_time": "2021-08-13T11:27:05.841Z"
   },
   {
    "duration": 54,
    "start_time": "2021-08-13T11:27:05.907Z"
   },
   {
    "duration": 44,
    "start_time": "2021-08-13T11:27:05.963Z"
   },
   {
    "duration": 4,
    "start_time": "2021-08-13T11:27:06.010Z"
   },
   {
    "duration": 44,
    "start_time": "2021-08-13T11:27:06.017Z"
   },
   {
    "duration": 19,
    "start_time": "2021-08-13T11:27:06.063Z"
   },
   {
    "duration": 40,
    "start_time": "2021-08-13T11:27:06.086Z"
   },
   {
    "duration": 24,
    "start_time": "2021-08-13T11:27:06.128Z"
   },
   {
    "duration": 28,
    "start_time": "2021-08-13T11:27:06.155Z"
   },
   {
    "duration": 31,
    "start_time": "2021-08-13T11:27:06.185Z"
   },
   {
    "duration": 35,
    "start_time": "2021-08-13T11:27:06.219Z"
   },
   {
    "duration": 33,
    "start_time": "2021-08-13T11:27:06.257Z"
   },
   {
    "duration": 32,
    "start_time": "2021-08-13T11:27:06.293Z"
   },
   {
    "duration": 26,
    "start_time": "2021-08-13T11:27:06.328Z"
   },
   {
    "duration": -662,
    "start_time": "2021-08-13T11:27:16.084Z"
   },
   {
    "duration": -665,
    "start_time": "2021-08-13T11:27:16.088Z"
   },
   {
    "duration": -666,
    "start_time": "2021-08-13T11:27:16.090Z"
   },
   {
    "duration": -665,
    "start_time": "2021-08-13T11:27:16.091Z"
   },
   {
    "duration": -666,
    "start_time": "2021-08-13T11:27:16.093Z"
   },
   {
    "duration": -665,
    "start_time": "2021-08-13T11:27:16.094Z"
   },
   {
    "duration": -668,
    "start_time": "2021-08-13T11:27:16.098Z"
   },
   {
    "duration": -668,
    "start_time": "2021-08-13T11:27:16.099Z"
   },
   {
    "duration": 8796,
    "start_time": "2021-08-13T11:27:17.625Z"
   },
   {
    "duration": 8995,
    "start_time": "2021-08-13T11:29:35.644Z"
   },
   {
    "duration": 9406,
    "start_time": "2021-08-13T11:34:40.143Z"
   },
   {
    "duration": 9004,
    "start_time": "2021-08-13T11:36:40.156Z"
   },
   {
    "duration": 3,
    "start_time": "2021-08-13T11:37:06.889Z"
   },
   {
    "duration": 194,
    "start_time": "2021-08-13T11:37:06.895Z"
   },
   {
    "duration": 16,
    "start_time": "2021-08-13T11:37:07.092Z"
   },
   {
    "duration": 59,
    "start_time": "2021-08-13T11:37:07.111Z"
   },
   {
    "duration": 14,
    "start_time": "2021-08-13T11:37:07.172Z"
   },
   {
    "duration": 27,
    "start_time": "2021-08-13T11:37:07.189Z"
   },
   {
    "duration": 5,
    "start_time": "2021-08-13T11:37:07.218Z"
   },
   {
    "duration": 55,
    "start_time": "2021-08-13T11:37:07.227Z"
   },
   {
    "duration": 25,
    "start_time": "2021-08-13T11:37:07.285Z"
   },
   {
    "duration": 45,
    "start_time": "2021-08-13T11:37:07.313Z"
   },
   {
    "duration": 97,
    "start_time": "2021-08-13T11:37:07.360Z"
   },
   {
    "duration": 100,
    "start_time": "2021-08-13T11:37:07.459Z"
   },
   {
    "duration": 75,
    "start_time": "2021-08-13T11:37:07.562Z"
   },
   {
    "duration": 72,
    "start_time": "2021-08-13T11:37:07.639Z"
   },
   {
    "duration": 8,
    "start_time": "2021-08-13T11:37:07.714Z"
   },
   {
    "duration": 46,
    "start_time": "2021-08-13T11:37:07.724Z"
   },
   {
    "duration": 58,
    "start_time": "2021-08-13T11:37:07.773Z"
   },
   {
    "duration": 53,
    "start_time": "2021-08-13T11:37:07.833Z"
   },
   {
    "duration": 70,
    "start_time": "2021-08-13T11:37:07.889Z"
   },
   {
    "duration": 5,
    "start_time": "2021-08-13T11:37:07.961Z"
   },
   {
    "duration": 40,
    "start_time": "2021-08-13T11:37:07.968Z"
   },
   {
    "duration": 49,
    "start_time": "2021-08-13T11:37:08.011Z"
   },
   {
    "duration": 19,
    "start_time": "2021-08-13T11:37:08.064Z"
   },
   {
    "duration": 17,
    "start_time": "2021-08-13T11:37:08.086Z"
   },
   {
    "duration": 59,
    "start_time": "2021-08-13T11:37:08.105Z"
   },
   {
    "duration": 21,
    "start_time": "2021-08-13T11:37:08.167Z"
   },
   {
    "duration": 17,
    "start_time": "2021-08-13T11:37:08.191Z"
   },
   {
    "duration": 48,
    "start_time": "2021-08-13T11:37:08.210Z"
   },
   {
    "duration": 13,
    "start_time": "2021-08-13T11:37:08.260Z"
   },
   {
    "duration": 7,
    "start_time": "2021-08-13T11:37:08.276Z"
   },
   {
    "duration": 1156,
    "start_time": "2021-08-13T11:37:08.285Z"
   },
   {
    "duration": -663,
    "start_time": "2021-08-13T11:37:10.107Z"
   },
   {
    "duration": -664,
    "start_time": "2021-08-13T11:37:10.109Z"
   },
   {
    "duration": -664,
    "start_time": "2021-08-13T11:37:10.111Z"
   },
   {
    "duration": -667,
    "start_time": "2021-08-13T11:37:10.115Z"
   },
   {
    "duration": -668,
    "start_time": "2021-08-13T11:37:10.117Z"
   },
   {
    "duration": -668,
    "start_time": "2021-08-13T11:37:10.118Z"
   },
   {
    "duration": -670,
    "start_time": "2021-08-13T11:37:10.122Z"
   },
   {
    "duration": 19,
    "start_time": "2021-08-13T11:40:31.490Z"
   },
   {
    "duration": 755,
    "start_time": "2021-08-13T11:42:44.466Z"
   },
   {
    "duration": 16,
    "start_time": "2021-08-13T11:43:15.577Z"
   },
   {
    "duration": 10,
    "start_time": "2021-08-13T11:43:39.379Z"
   },
   {
    "duration": 365,
    "start_time": "2021-08-13T11:43:55.114Z"
   },
   {
    "duration": 355,
    "start_time": "2021-08-13T11:44:09.687Z"
   },
   {
    "duration": 4,
    "start_time": "2021-08-13T11:44:15.339Z"
   },
   {
    "duration": 191,
    "start_time": "2021-08-13T11:44:15.346Z"
   },
   {
    "duration": 21,
    "start_time": "2021-08-13T11:44:15.540Z"
   },
   {
    "duration": 36,
    "start_time": "2021-08-13T11:44:15.565Z"
   },
   {
    "duration": 9,
    "start_time": "2021-08-13T11:44:15.604Z"
   },
   {
    "duration": 54,
    "start_time": "2021-08-13T11:44:15.615Z"
   },
   {
    "duration": 14,
    "start_time": "2021-08-13T11:44:15.671Z"
   },
   {
    "duration": 32,
    "start_time": "2021-08-13T11:44:15.690Z"
   },
   {
    "duration": 41,
    "start_time": "2021-08-13T11:44:15.726Z"
   },
   {
    "duration": 31,
    "start_time": "2021-08-13T11:44:15.769Z"
   },
   {
    "duration": 107,
    "start_time": "2021-08-13T11:44:15.802Z"
   },
   {
    "duration": 112,
    "start_time": "2021-08-13T11:44:15.912Z"
   },
   {
    "duration": 92,
    "start_time": "2021-08-13T11:44:16.027Z"
   },
   {
    "duration": 72,
    "start_time": "2021-08-13T11:44:16.122Z"
   },
   {
    "duration": 10,
    "start_time": "2021-08-13T11:44:16.197Z"
   },
   {
    "duration": 38,
    "start_time": "2021-08-13T11:44:16.209Z"
   },
   {
    "duration": 64,
    "start_time": "2021-08-13T11:44:16.249Z"
   },
   {
    "duration": 53,
    "start_time": "2021-08-13T11:44:16.316Z"
   },
   {
    "duration": 50,
    "start_time": "2021-08-13T11:44:16.372Z"
   },
   {
    "duration": 5,
    "start_time": "2021-08-13T11:44:16.425Z"
   },
   {
    "duration": 30,
    "start_time": "2021-08-13T11:44:16.456Z"
   },
   {
    "duration": 24,
    "start_time": "2021-08-13T11:44:16.489Z"
   },
   {
    "duration": 44,
    "start_time": "2021-08-13T11:44:16.520Z"
   },
   {
    "duration": 24,
    "start_time": "2021-08-13T11:44:16.567Z"
   },
   {
    "duration": 37,
    "start_time": "2021-08-13T11:44:16.593Z"
   },
   {
    "duration": 36,
    "start_time": "2021-08-13T11:44:16.632Z"
   },
   {
    "duration": 13,
    "start_time": "2021-08-13T11:44:16.671Z"
   },
   {
    "duration": 75,
    "start_time": "2021-08-13T11:44:16.687Z"
   },
   {
    "duration": 14,
    "start_time": "2021-08-13T11:44:16.764Z"
   },
   {
    "duration": 6,
    "start_time": "2021-08-13T11:44:16.781Z"
   },
   {
    "duration": 81,
    "start_time": "2021-08-13T11:44:16.789Z"
   },
   {
    "duration": 3,
    "start_time": "2021-08-13T11:44:16.873Z"
   },
   {
    "duration": 14,
    "start_time": "2021-08-13T11:44:16.878Z"
   },
   {
    "duration": 10,
    "start_time": "2021-08-13T11:44:16.895Z"
   },
   {
    "duration": 49,
    "start_time": "2021-08-13T11:44:16.908Z"
   },
   {
    "duration": 10,
    "start_time": "2021-08-13T11:44:16.959Z"
   },
   {
    "duration": 12,
    "start_time": "2021-08-13T11:44:16.971Z"
   },
   {
    "duration": 10,
    "start_time": "2021-08-13T11:44:16.985Z"
   },
   {
    "duration": 356,
    "start_time": "2021-08-13T11:44:24.882Z"
   },
   {
    "duration": 362,
    "start_time": "2021-08-13T11:44:44.443Z"
   },
   {
    "duration": 4,
    "start_time": "2021-08-13T11:44:55.091Z"
   },
   {
    "duration": 194,
    "start_time": "2021-08-13T11:44:55.097Z"
   },
   {
    "duration": 15,
    "start_time": "2021-08-13T11:44:55.294Z"
   },
   {
    "duration": 50,
    "start_time": "2021-08-13T11:44:55.312Z"
   },
   {
    "duration": 14,
    "start_time": "2021-08-13T11:44:55.364Z"
   },
   {
    "duration": 26,
    "start_time": "2021-08-13T11:44:55.381Z"
   },
   {
    "duration": 14,
    "start_time": "2021-08-13T11:44:55.409Z"
   },
   {
    "duration": 48,
    "start_time": "2021-08-13T11:44:55.425Z"
   },
   {
    "duration": 39,
    "start_time": "2021-08-13T11:44:55.477Z"
   },
   {
    "duration": 35,
    "start_time": "2021-08-13T11:44:55.519Z"
   },
   {
    "duration": 104,
    "start_time": "2021-08-13T11:44:55.556Z"
   },
   {
    "duration": 119,
    "start_time": "2021-08-13T11:44:55.663Z"
   },
   {
    "duration": 94,
    "start_time": "2021-08-13T11:44:55.784Z"
   },
   {
    "duration": 77,
    "start_time": "2021-08-13T11:44:55.881Z"
   },
   {
    "duration": 4,
    "start_time": "2021-08-13T11:44:55.960Z"
   },
   {
    "duration": 26,
    "start_time": "2021-08-13T11:44:55.967Z"
   },
   {
    "duration": 87,
    "start_time": "2021-08-13T11:44:55.996Z"
   },
   {
    "duration": 90,
    "start_time": "2021-08-13T11:44:56.085Z"
   },
   {
    "duration": 98,
    "start_time": "2021-08-13T11:44:56.177Z"
   },
   {
    "duration": 5,
    "start_time": "2021-08-13T11:44:56.277Z"
   },
   {
    "duration": 85,
    "start_time": "2021-08-13T11:44:56.284Z"
   },
   {
    "duration": 20,
    "start_time": "2021-08-13T11:44:56.371Z"
   },
   {
    "duration": 72,
    "start_time": "2021-08-13T11:44:56.393Z"
   },
   {
    "duration": 17,
    "start_time": "2021-08-13T11:44:56.468Z"
   },
   {
    "duration": 75,
    "start_time": "2021-08-13T11:44:56.487Z"
   },
   {
    "duration": 19,
    "start_time": "2021-08-13T11:44:56.564Z"
   },
   {
    "duration": 12,
    "start_time": "2021-08-13T11:44:56.587Z"
   },
   {
    "duration": 18,
    "start_time": "2021-08-13T11:44:56.657Z"
   },
   {
    "duration": 14,
    "start_time": "2021-08-13T11:44:56.677Z"
   },
   {
    "duration": 6,
    "start_time": "2021-08-13T11:44:56.693Z"
   },
   {
    "duration": 21,
    "start_time": "2021-08-13T11:44:56.756Z"
   },
   {
    "duration": 3,
    "start_time": "2021-08-13T11:44:56.780Z"
   },
   {
    "duration": 14,
    "start_time": "2021-08-13T11:44:56.785Z"
   },
   {
    "duration": 8,
    "start_time": "2021-08-13T11:44:56.802Z"
   },
   {
    "duration": 45,
    "start_time": "2021-08-13T11:44:56.812Z"
   },
   {
    "duration": 10,
    "start_time": "2021-08-13T11:44:56.859Z"
   },
   {
    "duration": 9,
    "start_time": "2021-08-13T11:44:56.872Z"
   },
   {
    "duration": 6,
    "start_time": "2021-08-13T11:44:56.884Z"
   },
   {
    "duration": 4,
    "start_time": "2021-08-13T11:45:07.600Z"
   },
   {
    "duration": 193,
    "start_time": "2021-08-13T11:45:07.606Z"
   },
   {
    "duration": 16,
    "start_time": "2021-08-13T11:45:07.801Z"
   },
   {
    "duration": 46,
    "start_time": "2021-08-13T11:45:07.819Z"
   },
   {
    "duration": 16,
    "start_time": "2021-08-13T11:45:07.868Z"
   },
   {
    "duration": 27,
    "start_time": "2021-08-13T11:45:07.886Z"
   },
   {
    "duration": 6,
    "start_time": "2021-08-13T11:45:07.915Z"
   },
   {
    "duration": 54,
    "start_time": "2021-08-13T11:45:07.923Z"
   },
   {
    "duration": 22,
    "start_time": "2021-08-13T11:45:07.981Z"
   },
   {
    "duration": 49,
    "start_time": "2021-08-13T11:45:08.006Z"
   },
   {
    "duration": 79,
    "start_time": "2021-08-13T11:45:08.058Z"
   },
   {
    "duration": 102,
    "start_time": "2021-08-13T11:45:08.139Z"
   },
   {
    "duration": 102,
    "start_time": "2021-08-13T11:45:08.255Z"
   },
   {
    "duration": 106,
    "start_time": "2021-08-13T11:45:08.359Z"
   },
   {
    "duration": 4,
    "start_time": "2021-08-13T11:45:08.468Z"
   },
   {
    "duration": 81,
    "start_time": "2021-08-13T11:45:08.474Z"
   },
   {
    "duration": 104,
    "start_time": "2021-08-13T11:45:08.557Z"
   },
   {
    "duration": 35,
    "start_time": "2021-08-13T11:45:08.664Z"
   },
   {
    "duration": 104,
    "start_time": "2021-08-13T11:45:08.757Z"
   },
   {
    "duration": 5,
    "start_time": "2021-08-13T11:45:08.863Z"
   },
   {
    "duration": 36,
    "start_time": "2021-08-13T11:45:08.870Z"
   },
   {
    "duration": 61,
    "start_time": "2021-08-13T11:45:08.908Z"
   },
   {
    "duration": 19,
    "start_time": "2021-08-13T11:45:08.971Z"
   },
   {
    "duration": 72,
    "start_time": "2021-08-13T11:45:08.992Z"
   },
   {
    "duration": 22,
    "start_time": "2021-08-13T11:45:09.066Z"
   },
   {
    "duration": 76,
    "start_time": "2021-08-13T11:45:09.090Z"
   },
   {
    "duration": 12,
    "start_time": "2021-08-13T11:45:09.171Z"
   },
   {
    "duration": 72,
    "start_time": "2021-08-13T11:45:09.186Z"
   },
   {
    "duration": 14,
    "start_time": "2021-08-13T11:45:09.260Z"
   },
   {
    "duration": 6,
    "start_time": "2021-08-13T11:45:09.277Z"
   },
   {
    "duration": 85,
    "start_time": "2021-08-13T11:45:09.286Z"
   },
   {
    "duration": 4,
    "start_time": "2021-08-13T11:45:09.373Z"
   },
   {
    "duration": 10,
    "start_time": "2021-08-13T11:45:09.380Z"
   },
   {
    "duration": 10,
    "start_time": "2021-08-13T11:45:09.392Z"
   },
   {
    "duration": 8,
    "start_time": "2021-08-13T11:45:09.405Z"
   },
   {
    "duration": 11,
    "start_time": "2021-08-13T11:45:09.415Z"
   },
   {
    "duration": 10,
    "start_time": "2021-08-13T11:45:09.428Z"
   },
   {
    "duration": 3,
    "start_time": "2021-08-13T11:45:09.455Z"
   },
   {
    "duration": 8,
    "start_time": "2021-08-13T11:45:39.484Z"
   },
   {
    "duration": 16,
    "start_time": "2021-08-13T11:45:47.111Z"
   },
   {
    "duration": 3,
    "start_time": "2021-08-13T11:45:54.752Z"
   },
   {
    "duration": 199,
    "start_time": "2021-08-13T11:45:54.758Z"
   },
   {
    "duration": 16,
    "start_time": "2021-08-13T11:45:54.960Z"
   },
   {
    "duration": 58,
    "start_time": "2021-08-13T11:45:54.978Z"
   },
   {
    "duration": 20,
    "start_time": "2021-08-13T11:45:55.038Z"
   },
   {
    "duration": 40,
    "start_time": "2021-08-13T11:45:55.061Z"
   },
   {
    "duration": 5,
    "start_time": "2021-08-13T11:45:55.103Z"
   },
   {
    "duration": 51,
    "start_time": "2021-08-13T11:45:55.110Z"
   },
   {
    "duration": 41,
    "start_time": "2021-08-13T11:45:55.166Z"
   },
   {
    "duration": 40,
    "start_time": "2021-08-13T11:45:55.210Z"
   },
   {
    "duration": 93,
    "start_time": "2021-08-13T11:45:55.253Z"
   },
   {
    "duration": 92,
    "start_time": "2021-08-13T11:45:55.348Z"
   },
   {
    "duration": 79,
    "start_time": "2021-08-13T11:45:55.442Z"
   },
   {
    "duration": 74,
    "start_time": "2021-08-13T11:45:55.524Z"
   },
   {
    "duration": 12,
    "start_time": "2021-08-13T11:45:55.601Z"
   },
   {
    "duration": 42,
    "start_time": "2021-08-13T11:45:55.616Z"
   },
   {
    "duration": 79,
    "start_time": "2021-08-13T11:45:55.660Z"
   },
   {
    "duration": 51,
    "start_time": "2021-08-13T11:45:55.741Z"
   },
   {
    "duration": 45,
    "start_time": "2021-08-13T11:45:55.795Z"
   },
   {
    "duration": 5,
    "start_time": "2021-08-13T11:45:55.856Z"
   },
   {
    "duration": 54,
    "start_time": "2021-08-13T11:45:55.863Z"
   },
   {
    "duration": 19,
    "start_time": "2021-08-13T11:45:55.919Z"
   },
   {
    "duration": 34,
    "start_time": "2021-08-13T11:45:55.940Z"
   },
   {
    "duration": 33,
    "start_time": "2021-08-13T11:45:55.977Z"
   },
   {
    "duration": 40,
    "start_time": "2021-08-13T11:45:56.012Z"
   },
   {
    "duration": 23,
    "start_time": "2021-08-13T11:45:56.054Z"
   },
   {
    "duration": 13,
    "start_time": "2021-08-13T11:45:56.082Z"
   },
   {
    "duration": 40,
    "start_time": "2021-08-13T11:45:56.097Z"
   },
   {
    "duration": 17,
    "start_time": "2021-08-13T11:45:56.139Z"
   },
   {
    "duration": 11,
    "start_time": "2021-08-13T11:45:56.159Z"
   },
   {
    "duration": 69,
    "start_time": "2021-08-13T11:45:56.173Z"
   },
   {
    "duration": 3,
    "start_time": "2021-08-13T11:45:56.244Z"
   },
   {
    "duration": 19,
    "start_time": "2021-08-13T11:45:56.250Z"
   },
   {
    "duration": 19,
    "start_time": "2021-08-13T11:45:56.271Z"
   },
   {
    "duration": 29,
    "start_time": "2021-08-13T11:45:56.292Z"
   },
   {
    "duration": 20,
    "start_time": "2021-08-13T11:45:56.324Z"
   },
   {
    "duration": 20,
    "start_time": "2021-08-13T11:45:56.346Z"
   },
   {
    "duration": 20,
    "start_time": "2021-08-13T11:45:56.369Z"
   },
   {
    "duration": 3,
    "start_time": "2021-08-13T11:46:14.685Z"
   },
   {
    "duration": 197,
    "start_time": "2021-08-13T11:46:14.691Z"
   },
   {
    "duration": 15,
    "start_time": "2021-08-13T11:46:14.891Z"
   },
   {
    "duration": 47,
    "start_time": "2021-08-13T11:46:14.909Z"
   },
   {
    "duration": 5,
    "start_time": "2021-08-13T11:46:14.958Z"
   },
   {
    "duration": 26,
    "start_time": "2021-08-13T11:46:14.965Z"
   },
   {
    "duration": 5,
    "start_time": "2021-08-13T11:46:14.993Z"
   },
   {
    "duration": 71,
    "start_time": "2021-08-13T11:46:15.000Z"
   },
   {
    "duration": 26,
    "start_time": "2021-08-13T11:46:15.076Z"
   },
   {
    "duration": 51,
    "start_time": "2021-08-13T11:46:15.105Z"
   },
   {
    "duration": 82,
    "start_time": "2021-08-13T11:46:15.158Z"
   },
   {
    "duration": 104,
    "start_time": "2021-08-13T11:46:15.242Z"
   },
   {
    "duration": 73,
    "start_time": "2021-08-13T11:46:15.357Z"
   },
   {
    "duration": 141,
    "start_time": "2021-08-13T11:46:15.433Z"
   },
   {
    "duration": 5,
    "start_time": "2021-08-13T11:46:15.577Z"
   },
   {
    "duration": 80,
    "start_time": "2021-08-13T11:46:15.585Z"
   },
   {
    "duration": 196,
    "start_time": "2021-08-13T11:46:15.668Z"
   },
   {
    "duration": 95,
    "start_time": "2021-08-13T11:46:15.866Z"
   },
   {
    "duration": 15,
    "start_time": "2021-08-13T11:46:15.963Z"
   },
   {
    "duration": 4,
    "start_time": "2021-08-13T11:46:15.981Z"
   },
   {
    "duration": 79,
    "start_time": "2021-08-13T11:46:15.987Z"
   },
   {
    "duration": 17,
    "start_time": "2021-08-13T11:46:16.068Z"
   },
   {
    "duration": 71,
    "start_time": "2021-08-13T11:46:16.088Z"
   },
   {
    "duration": 18,
    "start_time": "2021-08-13T11:46:16.161Z"
   },
   {
    "duration": 77,
    "start_time": "2021-08-13T11:46:16.181Z"
   },
   {
    "duration": 20,
    "start_time": "2021-08-13T11:46:16.260Z"
   },
   {
    "duration": 13,
    "start_time": "2021-08-13T11:46:16.284Z"
   },
   {
    "duration": 17,
    "start_time": "2021-08-13T11:46:16.355Z"
   },
   {
    "duration": 13,
    "start_time": "2021-08-13T11:46:16.375Z"
   },
   {
    "duration": 6,
    "start_time": "2021-08-13T11:46:16.390Z"
   },
   {
    "duration": 102,
    "start_time": "2021-08-13T11:46:16.398Z"
   },
   {
    "duration": 54,
    "start_time": "2021-08-13T11:46:16.502Z"
   },
   {
    "duration": 4,
    "start_time": "2021-08-13T11:46:16.558Z"
   },
   {
    "duration": 10,
    "start_time": "2021-08-13T11:46:16.564Z"
   },
   {
    "duration": 9,
    "start_time": "2021-08-13T11:46:16.577Z"
   },
   {
    "duration": 8,
    "start_time": "2021-08-13T11:46:16.588Z"
   },
   {
    "duration": 7,
    "start_time": "2021-08-13T11:46:16.598Z"
   },
   {
    "duration": 12,
    "start_time": "2021-08-13T11:46:16.607Z"
   },
   {
    "duration": 3,
    "start_time": "2021-08-13T11:47:28.620Z"
   },
   {
    "duration": 186,
    "start_time": "2021-08-13T11:47:28.626Z"
   },
   {
    "duration": 15,
    "start_time": "2021-08-13T11:47:28.815Z"
   },
   {
    "duration": 49,
    "start_time": "2021-08-13T11:47:28.833Z"
   },
   {
    "duration": 5,
    "start_time": "2021-08-13T11:47:28.885Z"
   },
   {
    "duration": 33,
    "start_time": "2021-08-13T11:47:28.892Z"
   },
   {
    "duration": 6,
    "start_time": "2021-08-13T11:47:28.928Z"
   },
   {
    "duration": 36,
    "start_time": "2021-08-13T11:47:28.958Z"
   },
   {
    "duration": 56,
    "start_time": "2021-08-13T11:47:29.001Z"
   },
   {
    "duration": 30,
    "start_time": "2021-08-13T11:47:29.060Z"
   },
   {
    "duration": 101,
    "start_time": "2021-08-13T11:47:29.093Z"
   },
   {
    "duration": 105,
    "start_time": "2021-08-13T11:47:29.196Z"
   },
   {
    "duration": 77,
    "start_time": "2021-08-13T11:47:29.303Z"
   },
   {
    "duration": 58,
    "start_time": "2021-08-13T11:47:29.382Z"
   },
   {
    "duration": 4,
    "start_time": "2021-08-13T11:47:29.456Z"
   },
   {
    "duration": 31,
    "start_time": "2021-08-13T11:47:29.462Z"
   },
   {
    "duration": 69,
    "start_time": "2021-08-13T11:47:29.495Z"
   },
   {
    "duration": 37,
    "start_time": "2021-08-13T11:47:29.566Z"
   },
   {
    "duration": 14,
    "start_time": "2021-08-13T11:47:29.605Z"
   },
   {
    "duration": 37,
    "start_time": "2021-08-13T11:47:29.621Z"
   },
   {
    "duration": 29,
    "start_time": "2021-08-13T11:47:29.661Z"
   },
   {
    "duration": 19,
    "start_time": "2021-08-13T11:47:29.692Z"
   },
   {
    "duration": 45,
    "start_time": "2021-08-13T11:47:29.713Z"
   },
   {
    "duration": 18,
    "start_time": "2021-08-13T11:47:29.761Z"
   },
   {
    "duration": 76,
    "start_time": "2021-08-13T11:47:29.781Z"
   },
   {
    "duration": 21,
    "start_time": "2021-08-13T11:47:29.859Z"
   },
   {
    "duration": 12,
    "start_time": "2021-08-13T11:47:29.884Z"
   },
   {
    "duration": 69,
    "start_time": "2021-08-13T11:47:29.898Z"
   },
   {
    "duration": 14,
    "start_time": "2021-08-13T11:47:29.969Z"
   },
   {
    "duration": 5,
    "start_time": "2021-08-13T11:47:29.985Z"
   },
   {
    "duration": 63,
    "start_time": "2021-08-13T11:47:29.993Z"
   },
   {
    "duration": 31,
    "start_time": "2021-08-13T11:47:30.058Z"
   },
   {
    "duration": 20,
    "start_time": "2021-08-13T11:47:30.091Z"
   },
   {
    "duration": 43,
    "start_time": "2021-08-13T11:47:30.113Z"
   },
   {
    "duration": 3,
    "start_time": "2021-08-13T11:47:30.158Z"
   },
   {
    "duration": 18,
    "start_time": "2021-08-13T11:47:30.163Z"
   },
   {
    "duration": 15,
    "start_time": "2021-08-13T11:47:30.183Z"
   },
   {
    "duration": 19,
    "start_time": "2021-08-13T11:47:30.201Z"
   },
   {
    "duration": 11,
    "start_time": "2021-08-13T11:47:42.361Z"
   },
   {
    "duration": 213,
    "start_time": "2021-08-13T11:47:42.375Z"
   },
   {
    "duration": 17,
    "start_time": "2021-08-13T11:47:42.591Z"
   },
   {
    "duration": 55,
    "start_time": "2021-08-13T11:47:42.610Z"
   },
   {
    "duration": 7,
    "start_time": "2021-08-13T11:47:42.669Z"
   },
   {
    "duration": 33,
    "start_time": "2021-08-13T11:47:42.679Z"
   },
   {
    "duration": 7,
    "start_time": "2021-08-13T11:47:42.714Z"
   },
   {
    "duration": 72,
    "start_time": "2021-08-13T11:47:42.724Z"
   },
   {
    "duration": 23,
    "start_time": "2021-08-13T11:47:42.802Z"
   },
   {
    "duration": 52,
    "start_time": "2021-08-13T11:47:42.828Z"
   },
   {
    "duration": 135,
    "start_time": "2021-08-13T11:47:42.883Z"
   },
   {
    "duration": 111,
    "start_time": "2021-08-13T11:47:43.021Z"
   },
   {
    "duration": 84,
    "start_time": "2021-08-13T11:47:43.135Z"
   },
   {
    "duration": 72,
    "start_time": "2021-08-13T11:47:43.221Z"
   },
   {
    "duration": 5,
    "start_time": "2021-08-13T11:47:43.296Z"
   },
   {
    "duration": 35,
    "start_time": "2021-08-13T11:47:43.303Z"
   },
   {
    "duration": 118,
    "start_time": "2021-08-13T11:47:43.340Z"
   },
   {
    "duration": 99,
    "start_time": "2021-08-13T11:47:43.461Z"
   },
   {
    "duration": 15,
    "start_time": "2021-08-13T11:47:43.563Z"
   },
   {
    "duration": 14,
    "start_time": "2021-08-13T11:47:43.580Z"
   },
   {
    "duration": 74,
    "start_time": "2021-08-13T11:47:43.597Z"
   },
   {
    "duration": 19,
    "start_time": "2021-08-13T11:47:43.673Z"
   },
   {
    "duration": 75,
    "start_time": "2021-08-13T11:47:43.695Z"
   },
   {
    "duration": 22,
    "start_time": "2021-08-13T11:47:43.772Z"
   },
   {
    "duration": 74,
    "start_time": "2021-08-13T11:47:43.797Z"
   },
   {
    "duration": 19,
    "start_time": "2021-08-13T11:47:43.874Z"
   },
   {
    "duration": 63,
    "start_time": "2021-08-13T11:47:43.898Z"
   },
   {
    "duration": 27,
    "start_time": "2021-08-13T11:47:43.963Z"
   },
   {
    "duration": 69,
    "start_time": "2021-08-13T11:47:43.993Z"
   },
   {
    "duration": 5,
    "start_time": "2021-08-13T11:47:44.065Z"
   },
   {
    "duration": 103,
    "start_time": "2021-08-13T11:47:44.073Z"
   },
   {
    "duration": 3,
    "start_time": "2021-08-13T11:47:44.179Z"
   },
   {
    "duration": 71,
    "start_time": "2021-08-13T11:47:44.185Z"
   },
   {
    "duration": 13,
    "start_time": "2021-08-13T11:47:44.258Z"
   },
   {
    "duration": 17,
    "start_time": "2021-08-13T11:47:44.273Z"
   },
   {
    "duration": 11,
    "start_time": "2021-08-13T11:47:44.293Z"
   },
   {
    "duration": 93,
    "start_time": "2021-08-13T11:47:44.307Z"
   },
   {
    "duration": 9,
    "start_time": "2021-08-13T11:47:44.403Z"
   },
   {
    "duration": 3,
    "start_time": "2021-08-13T11:49:02.160Z"
   },
   {
    "duration": 224,
    "start_time": "2021-08-13T11:49:02.165Z"
   },
   {
    "duration": 15,
    "start_time": "2021-08-13T11:49:02.392Z"
   },
   {
    "duration": 50,
    "start_time": "2021-08-13T11:49:02.410Z"
   },
   {
    "duration": 21,
    "start_time": "2021-08-13T11:49:02.462Z"
   },
   {
    "duration": 39,
    "start_time": "2021-08-13T11:49:02.485Z"
   },
   {
    "duration": 6,
    "start_time": "2021-08-13T11:49:02.526Z"
   },
   {
    "duration": 47,
    "start_time": "2021-08-13T11:49:02.534Z"
   },
   {
    "duration": 25,
    "start_time": "2021-08-13T11:49:02.586Z"
   },
   {
    "duration": 43,
    "start_time": "2021-08-13T11:49:02.614Z"
   },
   {
    "duration": 87,
    "start_time": "2021-08-13T11:49:02.660Z"
   },
   {
    "duration": 100,
    "start_time": "2021-08-13T11:49:02.756Z"
   },
   {
    "duration": 76,
    "start_time": "2021-08-13T11:49:02.858Z"
   },
   {
    "duration": 70,
    "start_time": "2021-08-13T11:49:02.936Z"
   },
   {
    "duration": 4,
    "start_time": "2021-08-13T11:49:03.009Z"
   },
   {
    "duration": 42,
    "start_time": "2021-08-13T11:49:03.016Z"
   },
   {
    "duration": 57,
    "start_time": "2021-08-13T11:49:03.060Z"
   },
   {
    "duration": 56,
    "start_time": "2021-08-13T11:49:03.120Z"
   },
   {
    "duration": 15,
    "start_time": "2021-08-13T11:49:03.178Z"
   },
   {
    "duration": 5,
    "start_time": "2021-08-13T11:49:03.195Z"
   },
   {
    "duration": 53,
    "start_time": "2021-08-13T11:49:03.203Z"
   },
   {
    "duration": 20,
    "start_time": "2021-08-13T11:49:03.258Z"
   },
   {
    "duration": 26,
    "start_time": "2021-08-13T11:49:03.280Z"
   },
   {
    "duration": 19,
    "start_time": "2021-08-13T11:49:03.309Z"
   },
   {
    "duration": 46,
    "start_time": "2021-08-13T11:49:03.330Z"
   },
   {
    "duration": 19,
    "start_time": "2021-08-13T11:49:03.379Z"
   },
   {
    "duration": 13,
    "start_time": "2021-08-13T11:49:03.404Z"
   },
   {
    "duration": 55,
    "start_time": "2021-08-13T11:49:03.420Z"
   },
   {
    "duration": 17,
    "start_time": "2021-08-13T11:49:03.477Z"
   },
   {
    "duration": 8,
    "start_time": "2021-08-13T11:49:03.496Z"
   },
   {
    "duration": 43,
    "start_time": "2021-08-13T11:49:03.506Z"
   },
   {
    "duration": 17,
    "start_time": "2021-08-13T11:49:03.551Z"
   },
   {
    "duration": 22,
    "start_time": "2021-08-13T11:49:03.570Z"
   },
   {
    "duration": 15,
    "start_time": "2021-08-13T11:49:03.595Z"
   },
   {
    "duration": 2,
    "start_time": "2021-08-13T11:49:03.613Z"
   },
   {
    "duration": 38,
    "start_time": "2021-08-13T11:49:03.618Z"
   },
   {
    "duration": 6,
    "start_time": "2021-08-13T11:49:03.658Z"
   },
   {
    "duration": 29,
    "start_time": "2021-08-13T11:49:03.666Z"
   },
   {
    "duration": 356,
    "start_time": "2021-08-13T11:52:55.295Z"
   },
   {
    "duration": 4,
    "start_time": "2021-08-13T11:53:18.302Z"
   },
   {
    "duration": 184,
    "start_time": "2021-08-13T11:53:18.309Z"
   },
   {
    "duration": 16,
    "start_time": "2021-08-13T11:53:18.496Z"
   },
   {
    "duration": 43,
    "start_time": "2021-08-13T11:53:18.514Z"
   },
   {
    "duration": 8,
    "start_time": "2021-08-13T11:53:18.559Z"
   },
   {
    "duration": 24,
    "start_time": "2021-08-13T11:53:18.570Z"
   },
   {
    "duration": 5,
    "start_time": "2021-08-13T11:53:18.596Z"
   },
   {
    "duration": 62,
    "start_time": "2021-08-13T11:53:18.602Z"
   },
   {
    "duration": 22,
    "start_time": "2021-08-13T11:53:18.668Z"
   },
   {
    "duration": 30,
    "start_time": "2021-08-13T11:53:18.693Z"
   },
   {
    "duration": 107,
    "start_time": "2021-08-13T11:53:18.726Z"
   },
   {
    "duration": 108,
    "start_time": "2021-08-13T11:53:18.836Z"
   },
   {
    "duration": 74,
    "start_time": "2021-08-13T11:53:18.955Z"
   },
   {
    "duration": 70,
    "start_time": "2021-08-13T11:53:19.031Z"
   },
   {
    "duration": 4,
    "start_time": "2021-08-13T11:53:19.104Z"
   },
   {
    "duration": 31,
    "start_time": "2021-08-13T11:53:19.110Z"
   },
   {
    "duration": 66,
    "start_time": "2021-08-13T11:53:19.143Z"
   },
   {
    "duration": 61,
    "start_time": "2021-08-13T11:53:19.211Z"
   },
   {
    "duration": 16,
    "start_time": "2021-08-13T11:53:19.274Z"
   },
   {
    "duration": 4,
    "start_time": "2021-08-13T11:53:19.292Z"
   },
   {
    "duration": 32,
    "start_time": "2021-08-13T11:53:19.298Z"
   },
   {
    "duration": 42,
    "start_time": "2021-08-13T11:53:19.332Z"
   },
   {
    "duration": 20,
    "start_time": "2021-08-13T11:53:19.376Z"
   },
   {
    "duration": 68,
    "start_time": "2021-08-13T11:53:19.399Z"
   },
   {
    "duration": 20,
    "start_time": "2021-08-13T11:53:19.469Z"
   },
   {
    "duration": 71,
    "start_time": "2021-08-13T11:53:19.492Z"
   },
   {
    "duration": 12,
    "start_time": "2021-08-13T11:53:19.568Z"
   },
   {
    "duration": 74,
    "start_time": "2021-08-13T11:53:19.582Z"
   },
   {
    "duration": 14,
    "start_time": "2021-08-13T11:53:19.659Z"
   },
   {
    "duration": 5,
    "start_time": "2021-08-13T11:53:19.676Z"
   },
   {
    "duration": 87,
    "start_time": "2021-08-13T11:53:19.684Z"
   },
   {
    "duration": 17,
    "start_time": "2021-08-13T11:53:19.773Z"
   },
   {
    "duration": 77,
    "start_time": "2021-08-13T11:53:19.793Z"
   },
   {
    "duration": 16,
    "start_time": "2021-08-13T11:53:19.872Z"
   },
   {
    "duration": 353,
    "start_time": "2021-08-13T11:53:19.891Z"
   },
   {
    "duration": -661,
    "start_time": "2021-08-13T11:53:20.908Z"
   },
   {
    "duration": -660,
    "start_time": "2021-08-13T11:53:20.909Z"
   },
   {
    "duration": -664,
    "start_time": "2021-08-13T11:53:20.915Z"
   },
   {
    "duration": 20,
    "start_time": "2021-08-13T11:53:43.441Z"
   },
   {
    "duration": 6,
    "start_time": "2021-08-13T11:53:59.071Z"
   },
   {
    "duration": 16,
    "start_time": "2021-08-13T11:54:36.204Z"
   },
   {
    "duration": 507,
    "start_time": "2021-08-13T11:55:10.145Z"
   },
   {
    "duration": 378,
    "start_time": "2021-08-13T11:55:12.253Z"
   },
   {
    "duration": 3,
    "start_time": "2021-08-13T11:55:19.736Z"
   },
   {
    "duration": 205,
    "start_time": "2021-08-13T11:55:19.742Z"
   },
   {
    "duration": 16,
    "start_time": "2021-08-13T11:55:19.950Z"
   },
   {
    "duration": 34,
    "start_time": "2021-08-13T11:55:19.968Z"
   },
   {
    "duration": 6,
    "start_time": "2021-08-13T11:55:20.004Z"
   },
   {
    "duration": 57,
    "start_time": "2021-08-13T11:55:20.013Z"
   },
   {
    "duration": 6,
    "start_time": "2021-08-13T11:55:20.073Z"
   },
   {
    "duration": 42,
    "start_time": "2021-08-13T11:55:20.082Z"
   },
   {
    "duration": 45,
    "start_time": "2021-08-13T11:55:20.130Z"
   },
   {
    "duration": 31,
    "start_time": "2021-08-13T11:55:20.179Z"
   },
   {
    "duration": 113,
    "start_time": "2021-08-13T11:55:20.213Z"
   },
   {
    "duration": 107,
    "start_time": "2021-08-13T11:55:20.329Z"
   },
   {
    "duration": 89,
    "start_time": "2021-08-13T11:55:20.439Z"
   },
   {
    "duration": 72,
    "start_time": "2021-08-13T11:55:20.531Z"
   },
   {
    "duration": 9,
    "start_time": "2021-08-13T11:55:20.606Z"
   },
   {
    "duration": 40,
    "start_time": "2021-08-13T11:55:20.617Z"
   },
   {
    "duration": 65,
    "start_time": "2021-08-13T11:55:20.660Z"
   },
   {
    "duration": 59,
    "start_time": "2021-08-13T11:55:20.727Z"
   },
   {
    "duration": 68,
    "start_time": "2021-08-13T11:55:20.789Z"
   },
   {
    "duration": 4,
    "start_time": "2021-08-13T11:55:20.860Z"
   },
   {
    "duration": 103,
    "start_time": "2021-08-13T11:55:20.866Z"
   },
   {
    "duration": 84,
    "start_time": "2021-08-13T11:55:20.972Z"
   },
   {
    "duration": 27,
    "start_time": "2021-08-13T11:55:21.060Z"
   },
   {
    "duration": 82,
    "start_time": "2021-08-13T11:55:21.090Z"
   },
   {
    "duration": 83,
    "start_time": "2021-08-13T11:55:21.175Z"
   },
   {
    "duration": 29,
    "start_time": "2021-08-13T11:55:21.261Z"
   },
   {
    "duration": 70,
    "start_time": "2021-08-13T11:55:21.298Z"
   },
   {
    "duration": 24,
    "start_time": "2021-08-13T11:55:21.372Z"
   },
   {
    "duration": 74,
    "start_time": "2021-08-13T11:55:21.399Z"
   },
   {
    "duration": 9,
    "start_time": "2021-08-13T11:55:21.476Z"
   },
   {
    "duration": 99,
    "start_time": "2021-08-13T11:55:21.488Z"
   },
   {
    "duration": 68,
    "start_time": "2021-08-13T11:55:21.590Z"
   },
   {
    "duration": 22,
    "start_time": "2021-08-13T11:55:21.661Z"
   },
   {
    "duration": 15,
    "start_time": "2021-08-13T11:55:21.686Z"
   },
   {
    "duration": 393,
    "start_time": "2021-08-13T11:55:21.757Z"
   },
   {
    "duration": -665,
    "start_time": "2021-08-13T11:55:22.817Z"
   },
   {
    "duration": -668,
    "start_time": "2021-08-13T11:55:22.821Z"
   },
   {
    "duration": -669,
    "start_time": "2021-08-13T11:55:22.823Z"
   },
   {
    "duration": 14,
    "start_time": "2021-08-13T11:56:32.259Z"
   },
   {
    "duration": 7,
    "start_time": "2021-08-13T11:56:34.669Z"
   },
   {
    "duration": 366,
    "start_time": "2021-08-13T11:57:02.470Z"
   },
   {
    "duration": 12,
    "start_time": "2021-08-13T11:57:04.457Z"
   },
   {
    "duration": 7,
    "start_time": "2021-08-13T11:57:05.988Z"
   },
   {
    "duration": 854,
    "start_time": "2021-08-14T08:21:54.146Z"
   },
   {
    "duration": 331,
    "start_time": "2021-08-14T08:26:22.570Z"
   },
   {
    "duration": 710,
    "start_time": "2021-08-14T08:34:37.427Z"
   },
   {
    "duration": 630,
    "start_time": "2021-08-14T09:07:16.133Z"
   },
   {
    "duration": 131,
    "start_time": "2021-08-14T09:07:16.765Z"
   },
   {
    "duration": 17,
    "start_time": "2021-08-14T09:07:16.898Z"
   },
   {
    "duration": 25,
    "start_time": "2021-08-14T09:07:16.917Z"
   },
   {
    "duration": 4,
    "start_time": "2021-08-14T09:07:16.944Z"
   },
   {
    "duration": 47,
    "start_time": "2021-08-14T09:07:16.950Z"
   },
   {
    "duration": 4,
    "start_time": "2021-08-14T09:07:16.998Z"
   },
   {
    "duration": 25,
    "start_time": "2021-08-14T09:07:17.005Z"
   },
   {
    "duration": 17,
    "start_time": "2021-08-14T09:07:17.032Z"
   },
   {
    "duration": 39,
    "start_time": "2021-08-14T09:07:17.050Z"
   },
   {
    "duration": 54,
    "start_time": "2021-08-14T09:07:17.091Z"
   },
   {
    "duration": 77,
    "start_time": "2021-08-14T09:07:17.147Z"
   },
   {
    "duration": 60,
    "start_time": "2021-08-14T09:07:17.226Z"
   },
   {
    "duration": 39,
    "start_time": "2021-08-14T09:07:17.287Z"
   },
   {
    "duration": 2,
    "start_time": "2021-08-14T09:07:17.328Z"
   },
   {
    "duration": 17,
    "start_time": "2021-08-14T09:07:17.332Z"
   },
   {
    "duration": 60,
    "start_time": "2021-08-14T09:07:17.350Z"
   },
   {
    "duration": 25,
    "start_time": "2021-08-14T09:07:17.411Z"
   },
   {
    "duration": 11,
    "start_time": "2021-08-14T09:07:17.438Z"
   },
   {
    "duration": 3,
    "start_time": "2021-08-14T09:07:17.451Z"
   },
   {
    "duration": 44,
    "start_time": "2021-08-14T09:07:17.456Z"
   },
   {
    "duration": 14,
    "start_time": "2021-08-14T09:07:17.502Z"
   },
   {
    "duration": 15,
    "start_time": "2021-08-14T09:07:17.519Z"
   },
   {
    "duration": 15,
    "start_time": "2021-08-14T09:07:17.535Z"
   },
   {
    "duration": 44,
    "start_time": "2021-08-14T09:07:17.551Z"
   },
   {
    "duration": 14,
    "start_time": "2021-08-14T09:07:17.596Z"
   },
   {
    "duration": 15,
    "start_time": "2021-08-14T09:07:17.612Z"
   },
   {
    "duration": 15,
    "start_time": "2021-08-14T09:07:17.629Z"
   },
   {
    "duration": 8,
    "start_time": "2021-08-14T09:07:17.646Z"
   },
   {
    "duration": 29,
    "start_time": "2021-08-14T09:07:17.656Z"
   },
   {
    "duration": 20,
    "start_time": "2021-08-14T09:07:17.687Z"
   },
   {
    "duration": 13,
    "start_time": "2021-08-14T09:07:17.709Z"
   },
   {
    "duration": 16,
    "start_time": "2021-08-14T09:07:17.724Z"
   },
   {
    "duration": 49,
    "start_time": "2021-08-14T09:07:17.742Z"
   },
   {
    "duration": 11,
    "start_time": "2021-08-14T09:07:17.792Z"
   },
   {
    "duration": 5,
    "start_time": "2021-08-14T09:07:17.805Z"
   },
   {
    "duration": 10,
    "start_time": "2021-08-14T09:07:17.811Z"
   },
   {
    "duration": 4,
    "start_time": "2021-08-14T09:07:17.822Z"
   },
   {
    "duration": 3,
    "start_time": "2021-08-14T09:12:24.383Z"
   },
   {
    "duration": 160,
    "start_time": "2021-08-14T09:12:24.388Z"
   },
   {
    "duration": 10,
    "start_time": "2021-08-14T09:12:24.550Z"
   },
   {
    "duration": 33,
    "start_time": "2021-08-14T09:12:24.562Z"
   },
   {
    "duration": 3,
    "start_time": "2021-08-14T09:12:24.597Z"
   },
   {
    "duration": 22,
    "start_time": "2021-08-14T09:12:24.602Z"
   },
   {
    "duration": 3,
    "start_time": "2021-08-14T09:12:24.626Z"
   },
   {
    "duration": 24,
    "start_time": "2021-08-14T09:12:24.632Z"
   },
   {
    "duration": 17,
    "start_time": "2021-08-14T09:12:24.684Z"
   },
   {
    "duration": 26,
    "start_time": "2021-08-14T09:12:24.703Z"
   },
   {
    "duration": 74,
    "start_time": "2021-08-14T09:12:24.731Z"
   },
   {
    "duration": 61,
    "start_time": "2021-08-14T09:12:24.807Z"
   },
   {
    "duration": 64,
    "start_time": "2021-08-14T09:12:24.870Z"
   },
   {
    "duration": 59,
    "start_time": "2021-08-14T09:12:24.936Z"
   },
   {
    "duration": 4,
    "start_time": "2021-08-14T09:12:24.997Z"
   },
   {
    "duration": 27,
    "start_time": "2021-08-14T09:12:25.003Z"
   },
   {
    "duration": 43,
    "start_time": "2021-08-14T09:12:25.032Z"
   },
   {
    "duration": 29,
    "start_time": "2021-08-14T09:12:25.085Z"
   },
   {
    "duration": 11,
    "start_time": "2021-08-14T09:12:25.116Z"
   },
   {
    "duration": 3,
    "start_time": "2021-08-14T09:12:25.129Z"
   },
   {
    "duration": 21,
    "start_time": "2021-08-14T09:12:25.134Z"
   },
   {
    "duration": 41,
    "start_time": "2021-08-14T09:12:25.156Z"
   },
   {
    "duration": 16,
    "start_time": "2021-08-14T09:12:25.200Z"
   },
   {
    "duration": 14,
    "start_time": "2021-08-14T09:12:25.218Z"
   },
   {
    "duration": 15,
    "start_time": "2021-08-14T09:12:25.234Z"
   },
   {
    "duration": 15,
    "start_time": "2021-08-14T09:12:25.284Z"
   },
   {
    "duration": 9,
    "start_time": "2021-08-14T09:12:25.301Z"
   },
   {
    "duration": 13,
    "start_time": "2021-08-14T09:12:25.312Z"
   },
   {
    "duration": 10,
    "start_time": "2021-08-14T09:12:25.327Z"
   },
   {
    "duration": 5,
    "start_time": "2021-08-14T09:12:25.339Z"
   },
   {
    "duration": 58,
    "start_time": "2021-08-14T09:12:25.346Z"
   },
   {
    "duration": 14,
    "start_time": "2021-08-14T09:12:25.406Z"
   },
   {
    "duration": 16,
    "start_time": "2021-08-14T09:12:25.422Z"
   },
   {
    "duration": 11,
    "start_time": "2021-08-14T09:12:25.439Z"
   },
   {
    "duration": 35,
    "start_time": "2021-08-14T09:12:25.451Z"
   },
   {
    "duration": 4,
    "start_time": "2021-08-14T09:12:25.487Z"
   },
   {
    "duration": 8,
    "start_time": "2021-08-14T09:12:25.493Z"
   },
   {
    "duration": 4,
    "start_time": "2021-08-14T09:12:25.503Z"
   },
   {
    "duration": 758,
    "start_time": "2021-08-14T09:56:07.320Z"
   },
   {
    "duration": 170,
    "start_time": "2021-08-14T09:56:08.080Z"
   },
   {
    "duration": 25,
    "start_time": "2021-08-14T09:56:08.253Z"
   },
   {
    "duration": 35,
    "start_time": "2021-08-14T09:56:08.280Z"
   },
   {
    "duration": 5,
    "start_time": "2021-08-14T09:56:08.317Z"
   },
   {
    "duration": 53,
    "start_time": "2021-08-14T09:56:08.324Z"
   },
   {
    "duration": 8,
    "start_time": "2021-08-14T09:56:08.380Z"
   },
   {
    "duration": 43,
    "start_time": "2021-08-14T09:56:08.392Z"
   },
   {
    "duration": 36,
    "start_time": "2021-08-14T09:56:08.438Z"
   },
   {
    "duration": 29,
    "start_time": "2021-08-14T09:56:08.476Z"
   },
   {
    "duration": 111,
    "start_time": "2021-08-14T09:56:08.507Z"
   },
   {
    "duration": 104,
    "start_time": "2021-08-14T09:56:08.621Z"
   },
   {
    "duration": 81,
    "start_time": "2021-08-14T09:56:08.727Z"
   },
   {
    "duration": 65,
    "start_time": "2021-08-14T09:56:08.810Z"
   },
   {
    "duration": 4,
    "start_time": "2021-08-14T09:56:08.877Z"
   },
   {
    "duration": 33,
    "start_time": "2021-08-14T09:56:08.883Z"
   },
   {
    "duration": 67,
    "start_time": "2021-08-14T09:56:08.918Z"
   },
   {
    "duration": 31,
    "start_time": "2021-08-14T09:56:08.987Z"
   },
   {
    "duration": 36,
    "start_time": "2021-08-14T09:56:09.021Z"
   },
   {
    "duration": 5,
    "start_time": "2021-08-14T09:56:09.060Z"
   },
   {
    "duration": 29,
    "start_time": "2021-08-14T09:56:09.067Z"
   },
   {
    "duration": 18,
    "start_time": "2021-08-14T09:56:09.098Z"
   },
   {
    "duration": 45,
    "start_time": "2021-08-14T09:56:09.121Z"
   },
   {
    "duration": 17,
    "start_time": "2021-08-14T09:56:09.170Z"
   },
   {
    "duration": 20,
    "start_time": "2021-08-14T09:56:09.190Z"
   },
   {
    "duration": 51,
    "start_time": "2021-08-14T09:56:09.212Z"
   },
   {
    "duration": 12,
    "start_time": "2021-08-14T09:56:09.265Z"
   },
   {
    "duration": 17,
    "start_time": "2021-08-14T09:56:09.279Z"
   },
   {
    "duration": 12,
    "start_time": "2021-08-14T09:56:09.298Z"
   },
   {
    "duration": 9,
    "start_time": "2021-08-14T09:56:09.312Z"
   },
   {
    "duration": 26,
    "start_time": "2021-08-14T09:56:09.355Z"
   },
   {
    "duration": 17,
    "start_time": "2021-08-14T09:56:09.383Z"
   },
   {
    "duration": 22,
    "start_time": "2021-08-14T09:56:09.402Z"
   },
   {
    "duration": 18,
    "start_time": "2021-08-14T09:56:09.456Z"
   },
   {
    "duration": 15,
    "start_time": "2021-08-14T09:56:09.476Z"
   },
   {
    "duration": 6,
    "start_time": "2021-08-14T09:56:09.493Z"
   },
   {
    "duration": 16,
    "start_time": "2021-08-14T09:56:09.501Z"
   },
   {
    "duration": 38,
    "start_time": "2021-08-14T09:56:09.519Z"
   },
   {
    "duration": 43,
    "start_time": "2021-08-14T10:00:40.354Z"
   },
   {
    "duration": 98,
    "start_time": "2021-08-14T11:24:06.458Z"
   },
   {
    "duration": 351,
    "start_time": "2021-08-14T13:10:10.186Z"
   },
   {
    "duration": 861,
    "start_time": "2021-08-14T13:10:13.313Z"
   },
   {
    "duration": 222,
    "start_time": "2021-08-14T13:10:14.178Z"
   },
   {
    "duration": 30,
    "start_time": "2021-08-14T13:10:14.404Z"
   },
   {
    "duration": 51,
    "start_time": "2021-08-14T13:10:14.436Z"
   },
   {
    "duration": 5,
    "start_time": "2021-08-14T13:10:14.489Z"
   },
   {
    "duration": 24,
    "start_time": "2021-08-14T13:10:14.496Z"
   },
   {
    "duration": 8,
    "start_time": "2021-08-14T13:10:14.523Z"
   },
   {
    "duration": 69,
    "start_time": "2021-08-14T13:10:14.533Z"
   },
   {
    "duration": 21,
    "start_time": "2021-08-14T13:10:14.606Z"
   },
   {
    "duration": 27,
    "start_time": "2021-08-14T13:10:14.630Z"
   },
   {
    "duration": 76,
    "start_time": "2021-08-14T13:10:14.683Z"
   },
   {
    "duration": 106,
    "start_time": "2021-08-14T13:10:14.761Z"
   },
   {
    "duration": 71,
    "start_time": "2021-08-14T13:10:14.869Z"
   },
   {
    "duration": 76,
    "start_time": "2021-08-14T13:10:14.943Z"
   },
   {
    "duration": 4,
    "start_time": "2021-08-14T13:10:15.022Z"
   },
   {
    "duration": 27,
    "start_time": "2021-08-14T13:10:15.028Z"
   },
   {
    "duration": 83,
    "start_time": "2021-08-14T13:10:15.057Z"
   },
   {
    "duration": 42,
    "start_time": "2021-08-14T13:10:15.143Z"
   },
   {
    "duration": 19,
    "start_time": "2021-08-14T13:10:15.188Z"
   },
   {
    "duration": 7,
    "start_time": "2021-08-14T13:10:15.210Z"
   },
   {
    "duration": 24,
    "start_time": "2021-08-14T13:10:15.220Z"
   },
   {
    "duration": 47,
    "start_time": "2021-08-14T13:10:15.247Z"
   },
   {
    "duration": 19,
    "start_time": "2021-08-14T13:10:15.296Z"
   },
   {
    "duration": 18,
    "start_time": "2021-08-14T13:10:15.317Z"
   },
   {
    "duration": 56,
    "start_time": "2021-08-14T13:10:15.337Z"
   },
   {
    "duration": 17,
    "start_time": "2021-08-14T13:10:15.396Z"
   },
   {
    "duration": 12,
    "start_time": "2021-08-14T13:10:15.418Z"
   },
   {
    "duration": 14,
    "start_time": "2021-08-14T13:10:15.432Z"
   },
   {
    "duration": 40,
    "start_time": "2021-08-14T13:10:15.448Z"
   },
   {
    "duration": 6,
    "start_time": "2021-08-14T13:10:15.490Z"
   },
   {
    "duration": 28,
    "start_time": "2021-08-14T13:10:15.498Z"
   },
   {
    "duration": 16,
    "start_time": "2021-08-14T13:10:15.528Z"
   },
   {
    "duration": 53,
    "start_time": "2021-08-14T13:10:15.546Z"
   },
   {
    "duration": 15,
    "start_time": "2021-08-14T13:10:15.601Z"
   },
   {
    "duration": 14,
    "start_time": "2021-08-14T13:10:15.618Z"
   },
   {
    "duration": 6,
    "start_time": "2021-08-14T13:10:15.634Z"
   },
   {
    "duration": 47,
    "start_time": "2021-08-14T13:10:15.642Z"
   },
   {
    "duration": 6,
    "start_time": "2021-08-14T13:10:15.691Z"
   },
   {
    "duration": 454,
    "start_time": "2021-08-24T14:33:17.774Z"
   },
   {
    "duration": 768,
    "start_time": "2021-08-24T14:33:20.798Z"
   },
   {
    "duration": 192,
    "start_time": "2021-08-24T14:33:21.569Z"
   },
   {
    "duration": 26,
    "start_time": "2021-08-24T14:33:21.764Z"
   },
   {
    "duration": 35,
    "start_time": "2021-08-24T14:33:21.793Z"
   },
   {
    "duration": 5,
    "start_time": "2021-08-24T14:33:21.855Z"
   },
   {
    "duration": 26,
    "start_time": "2021-08-24T14:33:21.863Z"
   },
   {
    "duration": 26,
    "start_time": "2021-08-24T14:33:21.892Z"
   },
   {
    "duration": 49,
    "start_time": "2021-08-24T14:33:21.921Z"
   },
   {
    "duration": 28,
    "start_time": "2021-08-24T14:33:21.974Z"
   },
   {
    "duration": 39,
    "start_time": "2021-08-24T14:33:22.007Z"
   },
   {
    "duration": 99,
    "start_time": "2021-08-24T14:33:22.048Z"
   },
   {
    "duration": 112,
    "start_time": "2021-08-24T14:33:22.149Z"
   },
   {
    "duration": 75,
    "start_time": "2021-08-24T14:33:22.263Z"
   },
   {
    "duration": 57,
    "start_time": "2021-08-24T14:33:22.354Z"
   },
   {
    "duration": 3,
    "start_time": "2021-08-24T14:33:22.414Z"
   },
   {
    "duration": 46,
    "start_time": "2021-08-24T14:33:22.419Z"
   },
   {
    "duration": 81,
    "start_time": "2021-08-24T14:33:22.467Z"
   },
   {
    "duration": 16,
    "start_time": "2021-08-24T14:33:22.550Z"
   },
   {
    "duration": 15,
    "start_time": "2021-08-24T14:33:22.568Z"
   },
   {
    "duration": 12,
    "start_time": "2021-08-24T14:33:22.585Z"
   },
   {
    "duration": 47,
    "start_time": "2021-08-24T14:33:22.599Z"
   },
   {
    "duration": 19,
    "start_time": "2021-08-24T14:33:22.654Z"
   },
   {
    "duration": 21,
    "start_time": "2021-08-24T14:33:22.675Z"
   },
   {
    "duration": 20,
    "start_time": "2021-08-24T14:33:22.698Z"
   },
   {
    "duration": 53,
    "start_time": "2021-08-24T14:33:22.721Z"
   },
   {
    "duration": 22,
    "start_time": "2021-08-24T14:33:22.776Z"
   },
   {
    "duration": 13,
    "start_time": "2021-08-24T14:33:22.803Z"
   },
   {
    "duration": 45,
    "start_time": "2021-08-24T14:33:22.819Z"
   },
   {
    "duration": 12,
    "start_time": "2021-08-24T14:33:22.866Z"
   },
   {
    "duration": 16,
    "start_time": "2021-08-24T14:33:22.881Z"
   },
   {
    "duration": 49,
    "start_time": "2021-08-24T14:33:22.900Z"
   },
   {
    "duration": 24,
    "start_time": "2021-08-24T14:33:22.951Z"
   },
   {
    "duration": 22,
    "start_time": "2021-08-24T14:33:22.977Z"
   },
   {
    "duration": 16,
    "start_time": "2021-08-24T14:33:23.001Z"
   },
   {
    "duration": 45,
    "start_time": "2021-08-24T14:33:23.019Z"
   },
   {
    "duration": 8,
    "start_time": "2021-08-24T14:33:23.067Z"
   },
   {
    "duration": 27,
    "start_time": "2021-08-24T14:33:23.078Z"
   },
   {
    "duration": 15,
    "start_time": "2021-08-24T14:33:23.107Z"
   },
   {
    "duration": 3,
    "start_time": "2021-08-24T14:33:42.096Z"
   },
   {
    "duration": 193,
    "start_time": "2021-08-24T14:33:42.101Z"
   },
   {
    "duration": 17,
    "start_time": "2021-08-24T14:33:42.297Z"
   },
   {
    "duration": 51,
    "start_time": "2021-08-24T14:33:42.317Z"
   },
   {
    "duration": 5,
    "start_time": "2021-08-24T14:33:42.371Z"
   },
   {
    "duration": 24,
    "start_time": "2021-08-24T14:33:42.379Z"
   },
   {
    "duration": 6,
    "start_time": "2021-08-24T14:33:42.406Z"
   },
   {
    "duration": 69,
    "start_time": "2021-08-24T14:33:42.414Z"
   },
   {
    "duration": 23,
    "start_time": "2021-08-24T14:33:42.487Z"
   },
   {
    "duration": 54,
    "start_time": "2021-08-24T14:33:42.513Z"
   },
   {
    "duration": 96,
    "start_time": "2021-08-24T14:33:42.569Z"
   },
   {
    "duration": 107,
    "start_time": "2021-08-24T14:33:42.668Z"
   },
   {
    "duration": 86,
    "start_time": "2021-08-24T14:33:42.778Z"
   },
   {
    "duration": 56,
    "start_time": "2021-08-24T14:33:42.867Z"
   },
   {
    "duration": 28,
    "start_time": "2021-08-24T14:33:42.926Z"
   },
   {
    "duration": 22,
    "start_time": "2021-08-24T14:33:42.956Z"
   },
   {
    "duration": 76,
    "start_time": "2021-08-24T14:33:42.980Z"
   },
   {
    "duration": 16,
    "start_time": "2021-08-24T14:33:43.058Z"
   },
   {
    "duration": 14,
    "start_time": "2021-08-24T14:33:43.077Z"
   },
   {
    "duration": 6,
    "start_time": "2021-08-24T14:33:43.094Z"
   },
   {
    "duration": 62,
    "start_time": "2021-08-24T14:33:43.103Z"
   },
   {
    "duration": 22,
    "start_time": "2021-08-24T14:33:43.168Z"
   },
   {
    "duration": 21,
    "start_time": "2021-08-24T14:33:43.193Z"
   },
   {
    "duration": 54,
    "start_time": "2021-08-24T14:33:43.217Z"
   },
   {
    "duration": 35,
    "start_time": "2021-08-24T14:33:43.274Z"
   },
   {
    "duration": 45,
    "start_time": "2021-08-24T14:33:43.312Z"
   },
   {
    "duration": 12,
    "start_time": "2021-08-24T14:33:43.362Z"
   },
   {
    "duration": 17,
    "start_time": "2021-08-24T14:33:43.377Z"
   },
   {
    "duration": 17,
    "start_time": "2021-08-24T14:33:43.397Z"
   },
   {
    "duration": 38,
    "start_time": "2021-08-24T14:33:43.416Z"
   },
   {
    "duration": 41,
    "start_time": "2021-08-24T14:33:43.457Z"
   },
   {
    "duration": 17,
    "start_time": "2021-08-24T14:33:43.501Z"
   },
   {
    "duration": 39,
    "start_time": "2021-08-24T14:33:43.521Z"
   },
   {
    "duration": 16,
    "start_time": "2021-08-24T14:33:43.562Z"
   },
   {
    "duration": 17,
    "start_time": "2021-08-24T14:33:43.580Z"
   },
   {
    "duration": 9,
    "start_time": "2021-08-24T14:33:43.600Z"
   },
   {
    "duration": 15,
    "start_time": "2021-08-24T14:33:43.611Z"
   },
   {
    "duration": 7,
    "start_time": "2021-08-24T14:33:43.654Z"
   }
  ],
  "colab": {
   "collapsed_sections": [
    "E0vqbgi9ay0H",
    "VUC88oWjTJw2"
   ],
   "name": "yandex_music_project_2021.2.ipynb",
   "provenance": []
  },
  "kernelspec": {
   "display_name": "Python 3",
   "language": "python",
   "name": "python3"
  },
  "language_info": {
   "codemirror_mode": {
    "name": "ipython",
    "version": 3
   },
   "file_extension": ".py",
   "mimetype": "text/x-python",
   "name": "python",
   "nbconvert_exporter": "python",
   "pygments_lexer": "ipython3",
   "version": "3.8.8"
  },
  "toc": {
   "base_numbering": 1,
   "nav_menu": {},
   "number_sections": true,
   "sideBar": true,
   "skip_h1_title": true,
   "title_cell": "Table of Contents",
   "title_sidebar": "Contents",
   "toc_cell": false,
   "toc_position": {
    "height": "calc(100% - 180px)",
    "left": "10px",
    "top": "150px",
    "width": "334px"
   },
   "toc_section_display": true,
   "toc_window_display": true
  }
 },
 "nbformat": 4,
 "nbformat_minor": 1
}
