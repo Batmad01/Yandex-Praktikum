{
 "cells": [
  {
   "cell_type": "markdown",
   "metadata": {},
   "source": [
    "# Игры — Формирование модели монетизации"
   ]
  },
  {
   "cell_type": "markdown",
   "metadata": {},
   "source": [
    "### Постановка цели"
   ]
  },
  {
   "cell_type": "markdown",
   "metadata": {},
   "source": [
    "**Цель исследования** - сформировать новую модель монетизации мобильной игры `Космические братья`"
   ]
  },
  {
   "cell_type": "markdown",
   "metadata": {},
   "source": [
    "Стоит учитывать хрупкий баланс между заработком с рекламы и уровнем удовлетворенности пользователей:\n",
    "- Пользователь разозлится и уйдёт, если начать показывать ему рекламу раньше, чем игра его затянет.\n",
    "- Но чем позже создатели игры включат рекламу, тем меньше они заработают. "
   ]
  },
  {
   "cell_type": "markdown",
   "metadata": {},
   "source": [
    "### Декомпозиция проекта"
   ]
  },
  {
   "cell_type": "markdown",
   "metadata": {},
   "source": [
    "В проекте нужно определить оптимальное время для запуска рекламы. \n",
    "\n",
    "Распишем последовательность выполнения проекта для достижения поставленной цели:\n",
    "* Загрузка данных, их изучение и предобработка.\n",
    "\n",
    "\n",
    "* Проведение исследовательского анализа данных:\n",
    "    * Сравнить количество побед над первым противником и реализацией проектов по разработке орбитальной сборки спутников, чтобы определить, каким образом игроки чаще всего заканчивают первый уровень.\n",
    "    * Узнать, сколько игрокам в среднем требуется построить зданий (и каких) для победы над первым противником или для завершения проекта.\n",
    "    * Определить, какие источники привлекают больше всего пользователей и какие из них наиболее выгодны в расчёте на одного привлеченного клиента. \n",
    "    \n",
    "    \n",
    "* Расчёт прибыли для модели показа рекламы на экране выбора постройки при учёте прибыльности одного показа в 0.07 единиц. Сравнение прибыли с пользователей, привлеченных разными источниками. \n",
    "    \n",
    "\n",
    "* Проверка статистических гипотез:\n",
    "\n",
    "    1 - Гипотеза о различии времени прохождения уровня между пользователями, которые заканчивают уровень через реализацию проекта, и пользователями, которые заканчивают уровень победой над другим игроком.\n",
    "    \n",
    "    2 - Гипотеза о различии дохода с пользователей, привлеченных источниками `facebook_ads` и `youtube_channel_reklama`.\n",
    "    \n",
    "    \n",
    "* Подведение итогов по проекту.\n",
    "\n",
    "\n",
    "* Создание дашборда.\n",
    "\n",
    "\n",
    "* Оформление презентации по проекту."
   ]
  },
  {
   "cell_type": "markdown",
   "metadata": {},
   "source": [
    "### Описание данных"
   ]
  },
  {
   "cell_type": "markdown",
   "metadata": {},
   "source": [
    "Основной датасет содержит данные о событиях, совершенных в мобильной игре «Космические братья». В ней пользователи строят свою космическую программу и пытаются преуспеть в нелёгком деле колонизации галактики.\n",
    "\n",
    "Основная монетизация игры — только планируется. Но предполагается, что в приложении будет происходить показ рекламы на экране с выбором типа объекта для постройки.\n",
    "\n",
    "В датасете представлены данные по игре пользователей на первом уровне. Завершение первого уровня требует от игрока выполнения одного из двух условий:\n",
    "\n",
    "- Победа над первым врагом\n",
    "- Реализация проекта - разработка орбитальной сборки спутников\n",
    "\n",
    "В датасете содержатся данные первых пользователей приложения — когорты пользователей, которые начали пользоваться приложением в период с 4 по 10 мая включительно."
   ]
  },
  {
   "cell_type": "markdown",
   "metadata": {},
   "source": [
    "**Датасет - game_actions**\n",
    "\n",
    "- `event_datetime` — время события;\n",
    "- `event` — одно из трёх событий:\n",
    "    1. `building` — объект построен,\n",
    "    2. `finished_stage_1` — первый уровень завершён,\n",
    "    3. `project` — проект завершён;\n",
    "- `building_type` — один из трёх типов здания:\n",
    "    1. `assembly_shop` — сборочный цех,\n",
    "    2. `spaceport` — космопорт,\n",
    "    3. `research_center` — исследовательский центр;\n",
    "- `user_id` — идентификатор пользователя;\n",
    "- `project_type` — тип реализованного проекта;"
   ]
  },
  {
   "cell_type": "markdown",
   "metadata": {},
   "source": [
    "**Датасет - ad_cost**\n",
    "\n",
    "- `day` - день, в который был совершен клик по объявлению\n",
    "- `source` - источник трафика\n",
    "- `cost` - стоимость кликов"
   ]
  },
  {
   "cell_type": "markdown",
   "metadata": {},
   "source": [
    "**Датасет - user_source**\n",
    "\n",
    "- `user_id` - идентификатор пользователя\n",
    "- `source` - источников, с которого пришёл пользователь, установивший приложение"
   ]
  },
  {
   "cell_type": "markdown",
   "metadata": {},
   "source": [
    "# Материалы"
   ]
  },
  {
   "cell_type": "markdown",
   "metadata": {},
   "source": [
    "`Дашборд` - https://public.tableau.com/app/profile/dmitriy5709/viz/Final_project_dashboard_16599597062410/Dashboard1?publish=yes"
   ]
  },
  {
   "cell_type": "markdown",
   "metadata": {},
   "source": [
    "## Загрузка данных и подготовка их к анализу"
   ]
  },
  {
   "cell_type": "markdown",
   "metadata": {},
   "source": [
    "### Загрузка и обзор данных"
   ]
  },
  {
   "cell_type": "code",
   "execution_count": 1,
   "metadata": {},
   "outputs": [],
   "source": [
    "#Импорт библиотек\n",
    "import pandas as pd\n",
    "from matplotlib import pyplot as plt\n",
    "import numpy as np\n",
    "from IPython.display import display\n",
    "import warnings\n",
    "import seaborn as sns\n",
    "import plotly.express as px\n",
    "from itertools import combinations\n",
    "from scipy import stats as st\n",
    "\n",
    "# отключение уведомлений об ошибке при замене исходного набора данных\n",
    "warnings.filterwarnings('ignore')\n",
    "warnings.simplefilter('ignore')\n",
    "\n",
    "# показ всех колонок датафрейма\n",
    "pd.options.display.max_columns = None"
   ]
  },
  {
   "cell_type": "code",
   "execution_count": 2,
   "metadata": {},
   "outputs": [
    {
     "data": {
      "text/html": [
       "<div>\n",
       "<style scoped>\n",
       "    .dataframe tbody tr th:only-of-type {\n",
       "        vertical-align: middle;\n",
       "    }\n",
       "\n",
       "    .dataframe tbody tr th {\n",
       "        vertical-align: top;\n",
       "    }\n",
       "\n",
       "    .dataframe thead th {\n",
       "        text-align: right;\n",
       "    }\n",
       "</style>\n",
       "<table border=\"1\" class=\"dataframe\">\n",
       "  <thead>\n",
       "    <tr style=\"text-align: right;\">\n",
       "      <th></th>\n",
       "      <th>event_datetime</th>\n",
       "      <th>event</th>\n",
       "      <th>building_type</th>\n",
       "      <th>user_id</th>\n",
       "      <th>project_type</th>\n",
       "    </tr>\n",
       "  </thead>\n",
       "  <tbody>\n",
       "    <tr>\n",
       "      <th>0</th>\n",
       "      <td>2020-05-04 00:00:01</td>\n",
       "      <td>building</td>\n",
       "      <td>assembly_shop</td>\n",
       "      <td>55e92310-cb8e-4754-b622-597e124b03de</td>\n",
       "      <td>NaN</td>\n",
       "    </tr>\n",
       "    <tr>\n",
       "      <th>1</th>\n",
       "      <td>2020-05-04 00:00:03</td>\n",
       "      <td>building</td>\n",
       "      <td>assembly_shop</td>\n",
       "      <td>c07b1c10-f477-44dc-81dc-ec82254b1347</td>\n",
       "      <td>NaN</td>\n",
       "    </tr>\n",
       "    <tr>\n",
       "      <th>2</th>\n",
       "      <td>2020-05-04 00:00:16</td>\n",
       "      <td>building</td>\n",
       "      <td>assembly_shop</td>\n",
       "      <td>6edd42cc-e753-4ff6-a947-2107cd560710</td>\n",
       "      <td>NaN</td>\n",
       "    </tr>\n",
       "    <tr>\n",
       "      <th>3</th>\n",
       "      <td>2020-05-04 00:00:16</td>\n",
       "      <td>building</td>\n",
       "      <td>assembly_shop</td>\n",
       "      <td>92c69003-d60a-444a-827f-8cc51bf6bf4c</td>\n",
       "      <td>NaN</td>\n",
       "    </tr>\n",
       "    <tr>\n",
       "      <th>4</th>\n",
       "      <td>2020-05-04 00:00:35</td>\n",
       "      <td>building</td>\n",
       "      <td>assembly_shop</td>\n",
       "      <td>cdc6bb92-0ccb-4490-9866-ef142f09139d</td>\n",
       "      <td>NaN</td>\n",
       "    </tr>\n",
       "  </tbody>\n",
       "</table>\n",
       "</div>"
      ],
      "text/plain": [
       "        event_datetime     event  building_type  \\\n",
       "0  2020-05-04 00:00:01  building  assembly_shop   \n",
       "1  2020-05-04 00:00:03  building  assembly_shop   \n",
       "2  2020-05-04 00:00:16  building  assembly_shop   \n",
       "3  2020-05-04 00:00:16  building  assembly_shop   \n",
       "4  2020-05-04 00:00:35  building  assembly_shop   \n",
       "\n",
       "                                user_id project_type  \n",
       "0  55e92310-cb8e-4754-b622-597e124b03de          NaN  \n",
       "1  c07b1c10-f477-44dc-81dc-ec82254b1347          NaN  \n",
       "2  6edd42cc-e753-4ff6-a947-2107cd560710          NaN  \n",
       "3  92c69003-d60a-444a-827f-8cc51bf6bf4c          NaN  \n",
       "4  cdc6bb92-0ccb-4490-9866-ef142f09139d          NaN  "
      ]
     },
     "metadata": {},
     "output_type": "display_data"
    },
    {
     "data": {
      "text/html": [
       "<div>\n",
       "<style scoped>\n",
       "    .dataframe tbody tr th:only-of-type {\n",
       "        vertical-align: middle;\n",
       "    }\n",
       "\n",
       "    .dataframe tbody tr th {\n",
       "        vertical-align: top;\n",
       "    }\n",
       "\n",
       "    .dataframe thead th {\n",
       "        text-align: right;\n",
       "    }\n",
       "</style>\n",
       "<table border=\"1\" class=\"dataframe\">\n",
       "  <thead>\n",
       "    <tr style=\"text-align: right;\">\n",
       "      <th></th>\n",
       "      <th>source</th>\n",
       "      <th>day</th>\n",
       "      <th>cost</th>\n",
       "    </tr>\n",
       "  </thead>\n",
       "  <tbody>\n",
       "    <tr>\n",
       "      <th>0</th>\n",
       "      <td>facebook_ads</td>\n",
       "      <td>2020-05-03</td>\n",
       "      <td>935.882786</td>\n",
       "    </tr>\n",
       "    <tr>\n",
       "      <th>1</th>\n",
       "      <td>facebook_ads</td>\n",
       "      <td>2020-05-04</td>\n",
       "      <td>548.354480</td>\n",
       "    </tr>\n",
       "    <tr>\n",
       "      <th>2</th>\n",
       "      <td>facebook_ads</td>\n",
       "      <td>2020-05-05</td>\n",
       "      <td>260.185754</td>\n",
       "    </tr>\n",
       "    <tr>\n",
       "      <th>3</th>\n",
       "      <td>facebook_ads</td>\n",
       "      <td>2020-05-06</td>\n",
       "      <td>177.982200</td>\n",
       "    </tr>\n",
       "    <tr>\n",
       "      <th>4</th>\n",
       "      <td>facebook_ads</td>\n",
       "      <td>2020-05-07</td>\n",
       "      <td>111.766796</td>\n",
       "    </tr>\n",
       "  </tbody>\n",
       "</table>\n",
       "</div>"
      ],
      "text/plain": [
       "         source         day        cost\n",
       "0  facebook_ads  2020-05-03  935.882786\n",
       "1  facebook_ads  2020-05-04  548.354480\n",
       "2  facebook_ads  2020-05-05  260.185754\n",
       "3  facebook_ads  2020-05-06  177.982200\n",
       "4  facebook_ads  2020-05-07  111.766796"
      ]
     },
     "metadata": {},
     "output_type": "display_data"
    },
    {
     "data": {
      "text/html": [
       "<div>\n",
       "<style scoped>\n",
       "    .dataframe tbody tr th:only-of-type {\n",
       "        vertical-align: middle;\n",
       "    }\n",
       "\n",
       "    .dataframe tbody tr th {\n",
       "        vertical-align: top;\n",
       "    }\n",
       "\n",
       "    .dataframe thead th {\n",
       "        text-align: right;\n",
       "    }\n",
       "</style>\n",
       "<table border=\"1\" class=\"dataframe\">\n",
       "  <thead>\n",
       "    <tr style=\"text-align: right;\">\n",
       "      <th></th>\n",
       "      <th>user_id</th>\n",
       "      <th>source</th>\n",
       "    </tr>\n",
       "  </thead>\n",
       "  <tbody>\n",
       "    <tr>\n",
       "      <th>0</th>\n",
       "      <td>0001f83c-c6ac-4621-b7f0-8a28b283ac30</td>\n",
       "      <td>facebook_ads</td>\n",
       "    </tr>\n",
       "    <tr>\n",
       "      <th>1</th>\n",
       "      <td>00151b4f-ba38-44a8-a650-d7cf130a0105</td>\n",
       "      <td>yandex_direct</td>\n",
       "    </tr>\n",
       "    <tr>\n",
       "      <th>2</th>\n",
       "      <td>001aaea6-3d14-43f1-8ca8-7f48820f17aa</td>\n",
       "      <td>youtube_channel_reklama</td>\n",
       "    </tr>\n",
       "    <tr>\n",
       "      <th>3</th>\n",
       "      <td>001d39dc-366c-4021-9604-6a3b9ff01e25</td>\n",
       "      <td>instagram_new_adverts</td>\n",
       "    </tr>\n",
       "    <tr>\n",
       "      <th>4</th>\n",
       "      <td>002f508f-67b6-479f-814b-b05f00d4e995</td>\n",
       "      <td>facebook_ads</td>\n",
       "    </tr>\n",
       "  </tbody>\n",
       "</table>\n",
       "</div>"
      ],
      "text/plain": [
       "                                user_id                   source\n",
       "0  0001f83c-c6ac-4621-b7f0-8a28b283ac30             facebook_ads\n",
       "1  00151b4f-ba38-44a8-a650-d7cf130a0105            yandex_direct\n",
       "2  001aaea6-3d14-43f1-8ca8-7f48820f17aa  youtube_channel_reklama\n",
       "3  001d39dc-366c-4021-9604-6a3b9ff01e25    instagram_new_adverts\n",
       "4  002f508f-67b6-479f-814b-b05f00d4e995             facebook_ads"
      ]
     },
     "metadata": {},
     "output_type": "display_data"
    }
   ],
   "source": [
    "# загружаем файлы в переменные и выводим на экран первые 5 строк\n",
    "ad_costs = pd.read_csv('D:/Datasets/final/ad_costs.csv')\n",
    "game_actions = pd.read_csv('D:/Datasets/final/game_actions.csv')\n",
    "user_source = pd.read_csv('D:/Datasets/final/user_source.csv')\n",
    "\n",
    "main_tables = [game_actions, ad_costs, user_source]\n",
    "\n",
    "for table in main_tables:\n",
    "    display(table.head())"
   ]
  },
  {
   "cell_type": "markdown",
   "metadata": {},
   "source": [
    "Посмотрим данные подробнее"
   ]
  },
  {
   "cell_type": "code",
   "execution_count": 3,
   "metadata": {},
   "outputs": [
    {
     "name": "stdout",
     "output_type": "stream",
     "text": [
      "<class 'pandas.core.frame.DataFrame'>\n",
      "RangeIndex: 135640 entries, 0 to 135639\n",
      "Data columns (total 5 columns):\n",
      " #   Column          Non-Null Count   Dtype \n",
      "---  ------          --------------   ----- \n",
      " 0   event_datetime  135640 non-null  object\n",
      " 1   event           135640 non-null  object\n",
      " 2   building_type   127957 non-null  object\n",
      " 3   user_id         135640 non-null  object\n",
      " 4   project_type    1866 non-null    object\n",
      "dtypes: object(5)\n",
      "memory usage: 5.2+ MB\n"
     ]
    },
    {
     "data": {
      "text/plain": [
       "None"
      ]
     },
     "metadata": {},
     "output_type": "display_data"
    },
    {
     "name": "stdout",
     "output_type": "stream",
     "text": [
      "<class 'pandas.core.frame.DataFrame'>\n",
      "RangeIndex: 28 entries, 0 to 27\n",
      "Data columns (total 3 columns):\n",
      " #   Column  Non-Null Count  Dtype  \n",
      "---  ------  --------------  -----  \n",
      " 0   source  28 non-null     object \n",
      " 1   day     28 non-null     object \n",
      " 2   cost    28 non-null     float64\n",
      "dtypes: float64(1), object(2)\n",
      "memory usage: 800.0+ bytes\n"
     ]
    },
    {
     "data": {
      "text/plain": [
       "None"
      ]
     },
     "metadata": {},
     "output_type": "display_data"
    },
    {
     "name": "stdout",
     "output_type": "stream",
     "text": [
      "<class 'pandas.core.frame.DataFrame'>\n",
      "RangeIndex: 13576 entries, 0 to 13575\n",
      "Data columns (total 2 columns):\n",
      " #   Column   Non-Null Count  Dtype \n",
      "---  ------   --------------  ----- \n",
      " 0   user_id  13576 non-null  object\n",
      " 1   source   13576 non-null  object\n",
      "dtypes: object(2)\n",
      "memory usage: 212.2+ KB\n"
     ]
    },
    {
     "data": {
      "text/plain": [
       "None"
      ]
     },
     "metadata": {},
     "output_type": "display_data"
    }
   ],
   "source": [
    "for table in main_tables:\n",
    "    display(table.info())"
   ]
  },
  {
   "cell_type": "markdown",
   "metadata": {},
   "source": [
    "Практически все столбцы в таблицах имеют тип `object`, только в столбце cost таблицы ad_costs тип `float`.\n",
    "\n",
    "Есть пропуски в столбцах `building_type` и `project_type` таблицы game_actions. Посмотрим их подробнее."
   ]
  },
  {
   "cell_type": "code",
   "execution_count": 4,
   "metadata": {},
   "outputs": [
    {
     "data": {
      "text/html": [
       "<div>\n",
       "<style scoped>\n",
       "    .dataframe tbody tr th:only-of-type {\n",
       "        vertical-align: middle;\n",
       "    }\n",
       "\n",
       "    .dataframe tbody tr th {\n",
       "        vertical-align: top;\n",
       "    }\n",
       "\n",
       "    .dataframe thead th {\n",
       "        text-align: right;\n",
       "    }\n",
       "</style>\n",
       "<table border=\"1\" class=\"dataframe\">\n",
       "  <thead>\n",
       "    <tr style=\"text-align: right;\">\n",
       "      <th></th>\n",
       "      <th>event_datetime</th>\n",
       "      <th>event</th>\n",
       "      <th>building_type</th>\n",
       "      <th>user_id</th>\n",
       "      <th>project_type</th>\n",
       "    </tr>\n",
       "  </thead>\n",
       "  <tbody>\n",
       "    <tr>\n",
       "      <th>6659</th>\n",
       "      <td>2020-05-04 19:47:29</td>\n",
       "      <td>finished_stage_1</td>\n",
       "      <td>NaN</td>\n",
       "      <td>ced7b368-818f-48f6-9461-2346de0892c5</td>\n",
       "      <td>NaN</td>\n",
       "    </tr>\n",
       "    <tr>\n",
       "      <th>13134</th>\n",
       "      <td>2020-05-05 13:22:09</td>\n",
       "      <td>finished_stage_1</td>\n",
       "      <td>NaN</td>\n",
       "      <td>7ef7fc89-2779-46ea-b328-9e5035b83af5</td>\n",
       "      <td>NaN</td>\n",
       "    </tr>\n",
       "    <tr>\n",
       "      <th>15274</th>\n",
       "      <td>2020-05-05 18:54:37</td>\n",
       "      <td>finished_stage_1</td>\n",
       "      <td>NaN</td>\n",
       "      <td>70db22b3-c2f4-43bc-94ea-51c8d2904a29</td>\n",
       "      <td>NaN</td>\n",
       "    </tr>\n",
       "    <tr>\n",
       "      <th>16284</th>\n",
       "      <td>2020-05-05 21:27:29</td>\n",
       "      <td>finished_stage_1</td>\n",
       "      <td>NaN</td>\n",
       "      <td>903fc9ef-ba97-4b12-9d5c-ac8d602fbd8b</td>\n",
       "      <td>NaN</td>\n",
       "    </tr>\n",
       "    <tr>\n",
       "      <th>19650</th>\n",
       "      <td>2020-05-06 06:02:22</td>\n",
       "      <td>finished_stage_1</td>\n",
       "      <td>NaN</td>\n",
       "      <td>58e077ba-feb1-4556-a5a0-d96bd04efa39</td>\n",
       "      <td>NaN</td>\n",
       "    </tr>\n",
       "    <tr>\n",
       "      <th>...</th>\n",
       "      <td>...</td>\n",
       "      <td>...</td>\n",
       "      <td>...</td>\n",
       "      <td>...</td>\n",
       "      <td>...</td>\n",
       "    </tr>\n",
       "    <tr>\n",
       "      <th>135632</th>\n",
       "      <td>2020-06-04 15:50:38</td>\n",
       "      <td>finished_stage_1</td>\n",
       "      <td>NaN</td>\n",
       "      <td>22cce310-fe10-41a2-941b-9c3d63327fea</td>\n",
       "      <td>NaN</td>\n",
       "    </tr>\n",
       "    <tr>\n",
       "      <th>135633</th>\n",
       "      <td>2020-06-04 17:56:14</td>\n",
       "      <td>finished_stage_1</td>\n",
       "      <td>NaN</td>\n",
       "      <td>d477dde8-7c22-4f23-9c4f-4ec31a1aa4c8</td>\n",
       "      <td>NaN</td>\n",
       "    </tr>\n",
       "    <tr>\n",
       "      <th>135636</th>\n",
       "      <td>2020-06-05 02:25:12</td>\n",
       "      <td>finished_stage_1</td>\n",
       "      <td>NaN</td>\n",
       "      <td>515c1952-99aa-4bca-a7ea-d0449eb5385a</td>\n",
       "      <td>NaN</td>\n",
       "    </tr>\n",
       "    <tr>\n",
       "      <th>135638</th>\n",
       "      <td>2020-06-05 12:12:27</td>\n",
       "      <td>finished_stage_1</td>\n",
       "      <td>NaN</td>\n",
       "      <td>32572adb-900f-4b5d-a453-1eb1e6d88d8b</td>\n",
       "      <td>NaN</td>\n",
       "    </tr>\n",
       "    <tr>\n",
       "      <th>135639</th>\n",
       "      <td>2020-06-05 12:32:49</td>\n",
       "      <td>finished_stage_1</td>\n",
       "      <td>NaN</td>\n",
       "      <td>f21d179f-1c4b-437e-b9c6-ab1976907195</td>\n",
       "      <td>NaN</td>\n",
       "    </tr>\n",
       "  </tbody>\n",
       "</table>\n",
       "<p>7683 rows × 5 columns</p>\n",
       "</div>"
      ],
      "text/plain": [
       "             event_datetime             event building_type  \\\n",
       "6659    2020-05-04 19:47:29  finished_stage_1           NaN   \n",
       "13134   2020-05-05 13:22:09  finished_stage_1           NaN   \n",
       "15274   2020-05-05 18:54:37  finished_stage_1           NaN   \n",
       "16284   2020-05-05 21:27:29  finished_stage_1           NaN   \n",
       "19650   2020-05-06 06:02:22  finished_stage_1           NaN   \n",
       "...                     ...               ...           ...   \n",
       "135632  2020-06-04 15:50:38  finished_stage_1           NaN   \n",
       "135633  2020-06-04 17:56:14  finished_stage_1           NaN   \n",
       "135636  2020-06-05 02:25:12  finished_stage_1           NaN   \n",
       "135638  2020-06-05 12:12:27  finished_stage_1           NaN   \n",
       "135639  2020-06-05 12:32:49  finished_stage_1           NaN   \n",
       "\n",
       "                                     user_id project_type  \n",
       "6659    ced7b368-818f-48f6-9461-2346de0892c5          NaN  \n",
       "13134   7ef7fc89-2779-46ea-b328-9e5035b83af5          NaN  \n",
       "15274   70db22b3-c2f4-43bc-94ea-51c8d2904a29          NaN  \n",
       "16284   903fc9ef-ba97-4b12-9d5c-ac8d602fbd8b          NaN  \n",
       "19650   58e077ba-feb1-4556-a5a0-d96bd04efa39          NaN  \n",
       "...                                      ...          ...  \n",
       "135632  22cce310-fe10-41a2-941b-9c3d63327fea          NaN  \n",
       "135633  d477dde8-7c22-4f23-9c4f-4ec31a1aa4c8          NaN  \n",
       "135636  515c1952-99aa-4bca-a7ea-d0449eb5385a          NaN  \n",
       "135638  32572adb-900f-4b5d-a453-1eb1e6d88d8b          NaN  \n",
       "135639  f21d179f-1c4b-437e-b9c6-ab1976907195          NaN  \n",
       "\n",
       "[7683 rows x 5 columns]"
      ]
     },
     "execution_count": 4,
     "metadata": {},
     "output_type": "execute_result"
    }
   ],
   "source": [
    "game_actions[game_actions['building_type'].isna()]"
   ]
  },
  {
   "cell_type": "code",
   "execution_count": 5,
   "metadata": {},
   "outputs": [
    {
     "data": {
      "text/plain": [
       "7683"
      ]
     },
     "execution_count": 5,
     "metadata": {},
     "output_type": "execute_result"
    }
   ],
   "source": [
    "game_actions.query('event != \"building\"')['event'].count()"
   ]
  },
  {
   "cell_type": "markdown",
   "metadata": {},
   "source": [
    "По пропускам в столбце `building_type` можем сделать вывод, что пропуски являются те события, когда игроки не строили зданий, то есть события выполнения проекта или завершения уровня"
   ]
  },
  {
   "cell_type": "code",
   "execution_count": 6,
   "metadata": {
    "scrolled": false
   },
   "outputs": [
    {
     "data": {
      "text/html": [
       "<div>\n",
       "<style scoped>\n",
       "    .dataframe tbody tr th:only-of-type {\n",
       "        vertical-align: middle;\n",
       "    }\n",
       "\n",
       "    .dataframe tbody tr th {\n",
       "        vertical-align: top;\n",
       "    }\n",
       "\n",
       "    .dataframe thead th {\n",
       "        text-align: right;\n",
       "    }\n",
       "</style>\n",
       "<table border=\"1\" class=\"dataframe\">\n",
       "  <thead>\n",
       "    <tr style=\"text-align: right;\">\n",
       "      <th></th>\n",
       "      <th>event_datetime</th>\n",
       "      <th>event</th>\n",
       "      <th>building_type</th>\n",
       "      <th>user_id</th>\n",
       "      <th>project_type</th>\n",
       "    </tr>\n",
       "  </thead>\n",
       "  <tbody>\n",
       "    <tr>\n",
       "      <th>47121</th>\n",
       "      <td>2020-05-08 18:10:25</td>\n",
       "      <td>project</td>\n",
       "      <td>NaN</td>\n",
       "      <td>e3c66498-9d45-4000-9392-f81e6796e7da</td>\n",
       "      <td>satellite_orbital_assembly</td>\n",
       "    </tr>\n",
       "    <tr>\n",
       "      <th>57398</th>\n",
       "      <td>2020-05-09 13:49:11</td>\n",
       "      <td>project</td>\n",
       "      <td>NaN</td>\n",
       "      <td>936e7af6-8338-4703-a1df-fc6c3f5b8e34</td>\n",
       "      <td>satellite_orbital_assembly</td>\n",
       "    </tr>\n",
       "    <tr>\n",
       "      <th>58797</th>\n",
       "      <td>2020-05-09 16:19:33</td>\n",
       "      <td>project</td>\n",
       "      <td>NaN</td>\n",
       "      <td>a4491c86-c498-4f74-a56e-65c136d0e9a1</td>\n",
       "      <td>satellite_orbital_assembly</td>\n",
       "    </tr>\n",
       "    <tr>\n",
       "      <th>61174</th>\n",
       "      <td>2020-05-09 20:29:01</td>\n",
       "      <td>project</td>\n",
       "      <td>NaN</td>\n",
       "      <td>85d9e675-562b-4329-8bbd-14d3b39096be</td>\n",
       "      <td>satellite_orbital_assembly</td>\n",
       "    </tr>\n",
       "    <tr>\n",
       "      <th>63770</th>\n",
       "      <td>2020-05-10 00:57:47</td>\n",
       "      <td>project</td>\n",
       "      <td>NaN</td>\n",
       "      <td>1889ca71-3c57-4e61-9ea6-a711971bbf0a</td>\n",
       "      <td>satellite_orbital_assembly</td>\n",
       "    </tr>\n",
       "    <tr>\n",
       "      <th>...</th>\n",
       "      <td>...</td>\n",
       "      <td>...</td>\n",
       "      <td>...</td>\n",
       "      <td>...</td>\n",
       "      <td>...</td>\n",
       "    </tr>\n",
       "    <tr>\n",
       "      <th>135602</th>\n",
       "      <td>2020-06-02 03:04:42</td>\n",
       "      <td>project</td>\n",
       "      <td>NaN</td>\n",
       "      <td>9d98001c-7e14-40d7-896e-46b3047365fd</td>\n",
       "      <td>satellite_orbital_assembly</td>\n",
       "    </tr>\n",
       "    <tr>\n",
       "      <th>135603</th>\n",
       "      <td>2020-06-02 06:21:03</td>\n",
       "      <td>project</td>\n",
       "      <td>NaN</td>\n",
       "      <td>df4a1e13-eba9-4928-a7cf-ee303d6f80f9</td>\n",
       "      <td>satellite_orbital_assembly</td>\n",
       "    </tr>\n",
       "    <tr>\n",
       "      <th>135609</th>\n",
       "      <td>2020-06-02 17:17:28</td>\n",
       "      <td>project</td>\n",
       "      <td>NaN</td>\n",
       "      <td>82e46f34-e243-4728-8e20-2e171fc33ea4</td>\n",
       "      <td>satellite_orbital_assembly</td>\n",
       "    </tr>\n",
       "    <tr>\n",
       "      <th>135617</th>\n",
       "      <td>2020-06-03 09:46:04</td>\n",
       "      <td>project</td>\n",
       "      <td>NaN</td>\n",
       "      <td>fe032991-71e0-48c5-889f-4c3805ba4c9b</td>\n",
       "      <td>satellite_orbital_assembly</td>\n",
       "    </tr>\n",
       "    <tr>\n",
       "      <th>135630</th>\n",
       "      <td>2020-06-04 08:29:42</td>\n",
       "      <td>project</td>\n",
       "      <td>NaN</td>\n",
       "      <td>d477dde8-7c22-4f23-9c4f-4ec31a1aa4c8</td>\n",
       "      <td>satellite_orbital_assembly</td>\n",
       "    </tr>\n",
       "  </tbody>\n",
       "</table>\n",
       "<p>1866 rows × 5 columns</p>\n",
       "</div>"
      ],
      "text/plain": [
       "             event_datetime    event building_type  \\\n",
       "47121   2020-05-08 18:10:25  project           NaN   \n",
       "57398   2020-05-09 13:49:11  project           NaN   \n",
       "58797   2020-05-09 16:19:33  project           NaN   \n",
       "61174   2020-05-09 20:29:01  project           NaN   \n",
       "63770   2020-05-10 00:57:47  project           NaN   \n",
       "...                     ...      ...           ...   \n",
       "135602  2020-06-02 03:04:42  project           NaN   \n",
       "135603  2020-06-02 06:21:03  project           NaN   \n",
       "135609  2020-06-02 17:17:28  project           NaN   \n",
       "135617  2020-06-03 09:46:04  project           NaN   \n",
       "135630  2020-06-04 08:29:42  project           NaN   \n",
       "\n",
       "                                     user_id                project_type  \n",
       "47121   e3c66498-9d45-4000-9392-f81e6796e7da  satellite_orbital_assembly  \n",
       "57398   936e7af6-8338-4703-a1df-fc6c3f5b8e34  satellite_orbital_assembly  \n",
       "58797   a4491c86-c498-4f74-a56e-65c136d0e9a1  satellite_orbital_assembly  \n",
       "61174   85d9e675-562b-4329-8bbd-14d3b39096be  satellite_orbital_assembly  \n",
       "63770   1889ca71-3c57-4e61-9ea6-a711971bbf0a  satellite_orbital_assembly  \n",
       "...                                      ...                         ...  \n",
       "135602  9d98001c-7e14-40d7-896e-46b3047365fd  satellite_orbital_assembly  \n",
       "135603  df4a1e13-eba9-4928-a7cf-ee303d6f80f9  satellite_orbital_assembly  \n",
       "135609  82e46f34-e243-4728-8e20-2e171fc33ea4  satellite_orbital_assembly  \n",
       "135617  fe032991-71e0-48c5-889f-4c3805ba4c9b  satellite_orbital_assembly  \n",
       "135630  d477dde8-7c22-4f23-9c4f-4ec31a1aa4c8  satellite_orbital_assembly  \n",
       "\n",
       "[1866 rows x 5 columns]"
      ]
     },
     "execution_count": 6,
     "metadata": {},
     "output_type": "execute_result"
    }
   ],
   "source": [
    "game_actions.query('event == \"project\"')"
   ]
  },
  {
   "cell_type": "code",
   "execution_count": 7,
   "metadata": {},
   "outputs": [
    {
     "data": {
      "text/html": [
       "<div>\n",
       "<style scoped>\n",
       "    .dataframe tbody tr th:only-of-type {\n",
       "        vertical-align: middle;\n",
       "    }\n",
       "\n",
       "    .dataframe tbody tr th {\n",
       "        vertical-align: top;\n",
       "    }\n",
       "\n",
       "    .dataframe thead th {\n",
       "        text-align: right;\n",
       "    }\n",
       "</style>\n",
       "<table border=\"1\" class=\"dataframe\">\n",
       "  <thead>\n",
       "    <tr style=\"text-align: right;\">\n",
       "      <th></th>\n",
       "      <th>event_datetime</th>\n",
       "      <th>event</th>\n",
       "      <th>building_type</th>\n",
       "      <th>user_id</th>\n",
       "      <th>project_type</th>\n",
       "    </tr>\n",
       "  </thead>\n",
       "  <tbody>\n",
       "    <tr>\n",
       "      <th>135635</th>\n",
       "      <td>2020-06-05 00:08:06</td>\n",
       "      <td>building</td>\n",
       "      <td>research_center</td>\n",
       "      <td>f21d179f-1c4b-437e-b9c6-ab1976907195</td>\n",
       "      <td>NaN</td>\n",
       "    </tr>\n",
       "    <tr>\n",
       "      <th>135636</th>\n",
       "      <td>2020-06-05 02:25:12</td>\n",
       "      <td>finished_stage_1</td>\n",
       "      <td>NaN</td>\n",
       "      <td>515c1952-99aa-4bca-a7ea-d0449eb5385a</td>\n",
       "      <td>NaN</td>\n",
       "    </tr>\n",
       "    <tr>\n",
       "      <th>135637</th>\n",
       "      <td>2020-06-05 08:57:52</td>\n",
       "      <td>building</td>\n",
       "      <td>research_center</td>\n",
       "      <td>ed3e7d02-8a96-4be7-9998-e9813ff9c316</td>\n",
       "      <td>NaN</td>\n",
       "    </tr>\n",
       "    <tr>\n",
       "      <th>135638</th>\n",
       "      <td>2020-06-05 12:12:27</td>\n",
       "      <td>finished_stage_1</td>\n",
       "      <td>NaN</td>\n",
       "      <td>32572adb-900f-4b5d-a453-1eb1e6d88d8b</td>\n",
       "      <td>NaN</td>\n",
       "    </tr>\n",
       "    <tr>\n",
       "      <th>135639</th>\n",
       "      <td>2020-06-05 12:32:49</td>\n",
       "      <td>finished_stage_1</td>\n",
       "      <td>NaN</td>\n",
       "      <td>f21d179f-1c4b-437e-b9c6-ab1976907195</td>\n",
       "      <td>NaN</td>\n",
       "    </tr>\n",
       "  </tbody>\n",
       "</table>\n",
       "</div>"
      ],
      "text/plain": [
       "             event_datetime             event    building_type  \\\n",
       "135635  2020-06-05 00:08:06          building  research_center   \n",
       "135636  2020-06-05 02:25:12  finished_stage_1              NaN   \n",
       "135637  2020-06-05 08:57:52          building  research_center   \n",
       "135638  2020-06-05 12:12:27  finished_stage_1              NaN   \n",
       "135639  2020-06-05 12:32:49  finished_stage_1              NaN   \n",
       "\n",
       "                                     user_id project_type  \n",
       "135635  f21d179f-1c4b-437e-b9c6-ab1976907195          NaN  \n",
       "135636  515c1952-99aa-4bca-a7ea-d0449eb5385a          NaN  \n",
       "135637  ed3e7d02-8a96-4be7-9998-e9813ff9c316          NaN  \n",
       "135638  32572adb-900f-4b5d-a453-1eb1e6d88d8b          NaN  \n",
       "135639  f21d179f-1c4b-437e-b9c6-ab1976907195          NaN  "
      ]
     },
     "execution_count": 7,
     "metadata": {},
     "output_type": "execute_result"
    }
   ],
   "source": [
    "game_actions.query('event != \"project\"').tail()"
   ]
  },
  {
   "cell_type": "markdown",
   "metadata": {},
   "source": [
    "А вот и все наши события с проектами! Все остальные пропуски в колонке `project_type` логично объясняются тем, что событие проекта просто не происходило"
   ]
  },
  {
   "cell_type": "markdown",
   "metadata": {},
   "source": [
    "### Предобработка данных"
   ]
  },
  {
   "cell_type": "markdown",
   "metadata": {},
   "source": [
    "#### Обработка дубликатов"
   ]
  },
  {
   "cell_type": "markdown",
   "metadata": {},
   "source": [
    "Обработаем явные дубликаты в таблицах game_actions и user_source"
   ]
  },
  {
   "cell_type": "code",
   "execution_count": 8,
   "metadata": {},
   "outputs": [
    {
     "name": "stdout",
     "output_type": "stream",
     "text": [
      "Количество дубликатов в таблице game_actions: 1\n",
      "Количество дубликатов в таблице user_source: 0\n"
     ]
    }
   ],
   "source": [
    "print('Количество дубликатов в таблице game_actions:', game_actions.duplicated().sum())\n",
    "print('Количество дубликатов в таблице user_source:', user_source.duplicated().sum())"
   ]
  },
  {
   "cell_type": "markdown",
   "metadata": {},
   "source": [
    "Удалим найденный дубликат:"
   ]
  },
  {
   "cell_type": "code",
   "execution_count": 9,
   "metadata": {},
   "outputs": [],
   "source": [
    "game_actions = game_actions.drop_duplicates()"
   ]
  },
  {
   "cell_type": "markdown",
   "metadata": {},
   "source": [
    "Теперь посмотрим на неявные дубликаты в тех же таблицах "
   ]
  },
  {
   "cell_type": "code",
   "execution_count": 10,
   "metadata": {
    "scrolled": false
   },
   "outputs": [
    {
     "data": {
      "text/html": [
       "<div>\n",
       "<style scoped>\n",
       "    .dataframe tbody tr th:only-of-type {\n",
       "        vertical-align: middle;\n",
       "    }\n",
       "\n",
       "    .dataframe tbody tr th {\n",
       "        vertical-align: top;\n",
       "    }\n",
       "\n",
       "    .dataframe thead th {\n",
       "        text-align: right;\n",
       "    }\n",
       "</style>\n",
       "<table border=\"1\" class=\"dataframe\">\n",
       "  <thead>\n",
       "    <tr style=\"text-align: right;\">\n",
       "      <th></th>\n",
       "      <th>event_datetime</th>\n",
       "      <th>event</th>\n",
       "      <th>building_type</th>\n",
       "      <th>user_id</th>\n",
       "      <th>project_type</th>\n",
       "    </tr>\n",
       "  </thead>\n",
       "  <tbody>\n",
       "  </tbody>\n",
       "</table>\n",
       "</div>"
      ],
      "text/plain": [
       "Empty DataFrame\n",
       "Columns: [event_datetime, event, building_type, user_id, project_type]\n",
       "Index: []"
      ]
     },
     "metadata": {},
     "output_type": "display_data"
    },
    {
     "data": {
      "text/html": [
       "<div>\n",
       "<style scoped>\n",
       "    .dataframe tbody tr th:only-of-type {\n",
       "        vertical-align: middle;\n",
       "    }\n",
       "\n",
       "    .dataframe tbody tr th {\n",
       "        vertical-align: top;\n",
       "    }\n",
       "\n",
       "    .dataframe thead th {\n",
       "        text-align: right;\n",
       "    }\n",
       "</style>\n",
       "<table border=\"1\" class=\"dataframe\">\n",
       "  <thead>\n",
       "    <tr style=\"text-align: right;\">\n",
       "      <th></th>\n",
       "      <th>user_id</th>\n",
       "      <th>source</th>\n",
       "    </tr>\n",
       "  </thead>\n",
       "  <tbody>\n",
       "  </tbody>\n",
       "</table>\n",
       "</div>"
      ],
      "text/plain": [
       "Empty DataFrame\n",
       "Columns: [user_id, source]\n",
       "Index: []"
      ]
     },
     "execution_count": 10,
     "metadata": {},
     "output_type": "execute_result"
    }
   ],
   "source": [
    "display(game_actions[game_actions[['event_datetime', 'user_id']].duplicated()])\n",
    "user_source[user_source['user_id'].duplicated()]"
   ]
  },
  {
   "cell_type": "markdown",
   "metadata": {},
   "source": [
    "**Вывод**\n",
    "\n",
    "Неявные дубликаты не найдены, а явные обработаны"
   ]
  },
  {
   "cell_type": "markdown",
   "metadata": {},
   "source": [
    "#### Изменение типов данных"
   ]
  },
  {
   "cell_type": "markdown",
   "metadata": {},
   "source": [
    "Изменим тип данных в столбце event_datetime  на `datetime`"
   ]
  },
  {
   "cell_type": "code",
   "execution_count": 11,
   "metadata": {},
   "outputs": [],
   "source": [
    "game_actions['event_datetime'] = pd.to_datetime(game_actions['event_datetime'])"
   ]
  },
  {
   "cell_type": "markdown",
   "metadata": {},
   "source": [
    "### Обработка пропусков"
   ]
  },
  {
   "cell_type": "markdown",
   "metadata": {},
   "source": [
    "Заполним пропуски в колонках `building_type` и `project_type` значениями None, чтобы в дальнейшем было проще вести анализ"
   ]
  },
  {
   "cell_type": "code",
   "execution_count": 12,
   "metadata": {},
   "outputs": [],
   "source": [
    "game_actions['building_type'] = game_actions['building_type'].fillna('None')\n",
    "game_actions['project_type'] = game_actions['project_type'].fillna('None')"
   ]
  },
  {
   "cell_type": "markdown",
   "metadata": {},
   "source": [
    "## Исследовательский анализ данных"
   ]
  },
  {
   "cell_type": "markdown",
   "metadata": {},
   "source": [
    "### Анализ игроков, завершивших первый уровень"
   ]
  },
  {
   "cell_type": "markdown",
   "metadata": {},
   "source": [
    "Сравним количество побед над первым противником и реализацией проектов по разработке орбитальной сборки спутников, чтобы определить, каким образом игроки чаще всего заканчивают первый уровень."
   ]
  },
  {
   "cell_type": "code",
   "execution_count": 13,
   "metadata": {
    "scrolled": true
   },
   "outputs": [
    {
     "name": "stdout",
     "output_type": "stream",
     "text": [
      "Количество пользователей, закончивших через проект: 1866 (32.08%)\n",
      "Количество пользователей, закончивших через победу над первым противником: 3951 (67.92%)\n"
     ]
    }
   ],
   "source": [
    "finished_users_cnt = game_actions.query('event == \"finished_stage_1\"')['event'].count()\n",
    "finished_by_project_cnt = game_actions.query('event == \"project\"')['event'].count()\n",
    "finished_by_victory_cnt = finished_users_cnt  - finished_by_project_cnt\n",
    "\n",
    "print('Количество пользователей, закончивших через проект: {} ({:.2%})'.format(finished_by_project_cnt, finished_by_project_cnt/finished_users_cnt))\n",
    "print('Количество пользователей, закончивших через победу над первым противником: {} ({:.2%})'.format(finished_by_victory_cnt, finished_by_victory_cnt/finished_users_cnt))"
   ]
  },
  {
   "cell_type": "markdown",
   "metadata": {},
   "source": [
    "**Выводы**\n",
    "\n",
    "Большинство пользователей заканчивают уровень через победу над первым противником, таких пользователей 68% от общего числа успешно завершивших уровень."
   ]
  },
  {
   "cell_type": "markdown",
   "metadata": {},
   "source": [
    "### Сколько игрокам требуется построить зданий для завершения уровня"
   ]
  },
  {
   "cell_type": "markdown",
   "metadata": {},
   "source": [
    "Узнаем, сколько игрокам в среднем требуется построить зданий (и каких) для победы над первым противником или для завершения проекта\n",
    "\n",
    "Сделаем предположение, что игроки в большинстве случаев не строили больше зданий после завершения проекта или победы над первым противником, а сразу переходили на новый уровень"
   ]
  },
  {
   "cell_type": "code",
   "execution_count": 14,
   "metadata": {},
   "outputs": [],
   "source": [
    "#нахожу id игроков, закончивших первый уровень\n",
    "finished_users_id = game_actions.query('event == \"finished_stage_1\"')['user_id']\n",
    "\n",
    "#нахожу id игроков, завершивших проект, затем создаю датасет, где будут все эти игроки\n",
    "finished_by_project_id = game_actions.query('event == \"project\"')['user_id']\n",
    "finished_by_project = game_actions[game_actions['user_id'].isin(finished_by_project_id)]\n",
    "\n",
    "#нахожу игроков, одержавших первую победу над противником и создаю сам датасет из этих пользователей\n",
    "finished_by_victory = game_actions[game_actions['user_id'].isin(finished_users_id)]\n",
    "finished_by_victory = finished_by_victory[~game_actions['user_id'].isin(finished_by_project_id)]\n",
    "\n",
    "#добавляю столбец с типом завершения уровня в датасеты\n",
    "finished_by_victory['finish_type'] = 'victory'\n",
    "finished_by_project['finish_type'] = 'project'\n",
    "\n",
    "#и объединяю эти датасаты, теперь у нас все игроки, завершившие первый уровень, с разделением по типу завершения\n",
    "finished_users = pd.concat([finished_by_victory, finished_by_project])"
   ]
  },
  {
   "cell_type": "markdown",
   "metadata": {},
   "source": [
    "Теперь строим box plot по количеству построек для разных групп игроков"
   ]
  },
  {
   "cell_type": "code",
   "execution_count": 15,
   "metadata": {},
   "outputs": [
    {
     "data": {
      "image/png": "[encoded data removed]"
     },
     "metadata": {},
     "output_type": "display_data"
    }
   ],
   "source": [
    "#табличка для графика\n",
    "plot_df = (finished_users.query('event == \"building\"')\n",
    "           .groupby(['user_id', 'building_type', 'finish_type'])['event'].agg('count')\n",
    "           .reset_index())\n",
    "\n",
    "fig = px.box(plot_df, x=\"building_type\", y=\"event\", color='finish_type', \n",
    "             title=\"Распределение построенных зданий для игроков разных групп\")\n",
    "fig.update_xaxes(title_text='Тип постройки')\n",
    "fig.update_yaxes(title_text='Количество построек')\n",
    "\n",
    "fig.show(\"png\")"
   ]
  },
  {
   "cell_type": "code",
   "execution_count": 16,
   "metadata": {},
   "outputs": [
    {
     "name": "stdout",
     "output_type": "stream",
     "text": [
      "Количество построек военных\n"
     ]
    },
    {
     "data": {
      "text/plain": [
       "spaceport          17132\n",
       "assembly_shop      16298\n",
       "research_center     3755\n",
       "Name: building_type, dtype: int64"
      ]
     },
     "metadata": {},
     "output_type": "display_data"
    },
    {
     "name": "stdout",
     "output_type": "stream",
     "text": [
      "Количество построек ученых\n"
     ]
    },
    {
     "data": {
      "text/plain": [
       "spaceport          10788\n",
       "assembly_shop       9116\n",
       "research_center     3697\n",
       "Name: building_type, dtype: int64"
      ]
     },
     "execution_count": 16,
     "metadata": {},
     "output_type": "execute_result"
    }
   ],
   "source": [
    "print('Количество построек военных')\n",
    "display(finished_by_victory.query('building_type != \"None\"')['building_type'].value_counts())\n",
    "\n",
    "print('Количество построек ученых')\n",
    "finished_by_project.query('building_type != \"None\"')['building_type'].value_counts()"
   ]
  },
  {
   "cell_type": "markdown",
   "metadata": {},
   "source": [
    "Назову пользователей, окончивших первый уровень победой над первым противником - военными, а те, кто закончил через проект - учеными.\n",
    "\n",
    "Для упрощения выводов)"
   ]
  },
  {
   "cell_type": "markdown",
   "metadata": {},
   "source": [
    "**Выводы**\n",
    "\n",
    "* Несмотря на то, что пользователи заканчивали уровень разными путями, пользователи из группы военных строили примерно такое же количество исследовательских центров, что и группа ученых (~3700 построек). При этом группа военных строила больше космопортов и сборочных цехов (17100 и 16300 против 10800 и 9100 у группы ученых). Стоит учитывать, что группа военных больше (3951), чем группа ученых (1866).\n",
    "* Если смотреть на графики количества построек по группам, то по медианным значениям оказывается, что: \n",
    "    * на одного ученого пришлось по 2 исследовательских центра, 6 космопортов и 5 сборочных цехов \n",
    "    * на одного военного пришлось всего 1 научный центр, по 4 космопорта и 4 сборочных цеха\n",
    "* Таким образом, оказывается, что ученые в среднем строят даже больше построек, чем военные. Самая большая разница, прежде всего, в количестве исследовательских центров (2 у ученых и 1 у военных, по медианным значениям) "
   ]
  },
  {
   "cell_type": "markdown",
   "metadata": {},
   "source": [
    "### Какие источники привлекают больше всего пользователей"
   ]
  },
  {
   "cell_type": "markdown",
   "metadata": {},
   "source": [
    "Посмотрим, какие источники привлекли больше всего пользователей и оказались наиболее выгодными в расчёте привлечения одного пользователя"
   ]
  },
  {
   "cell_type": "code",
   "execution_count": 17,
   "metadata": {},
   "outputs": [],
   "source": [
    "pie_plot = user_source.groupby('source', as_index=False)['user_id'].count().rename(columns={'user_id':'users_cnt'})"
   ]
  },
  {
   "cell_type": "code",
   "execution_count": 18,
   "metadata": {},
   "outputs": [
    {
     "data": {
      "image/png": "[encoded data removed]"
     },
     "metadata": {},
     "output_type": "display_data"
    }
   ],
   "source": [
    "fig = px.pie(pie_plot, values='users_cnt', names='source', title=\"Количество привлеченных игроков разными источниками\")\n",
    "fig.show(\"png\")"
   ]
  },
  {
   "cell_type": "code",
   "execution_count": 19,
   "metadata": {},
   "outputs": [
    {
     "data": {
      "text/html": [
       "<div>\n",
       "<style scoped>\n",
       "    .dataframe tbody tr th:only-of-type {\n",
       "        vertical-align: middle;\n",
       "    }\n",
       "\n",
       "    .dataframe tbody tr th {\n",
       "        vertical-align: top;\n",
       "    }\n",
       "\n",
       "    .dataframe thead th {\n",
       "        text-align: right;\n",
       "    }\n",
       "</style>\n",
       "<table border=\"1\" class=\"dataframe\">\n",
       "  <thead>\n",
       "    <tr style=\"text-align: right;\">\n",
       "      <th></th>\n",
       "      <th>source</th>\n",
       "      <th>users_cnt</th>\n",
       "    </tr>\n",
       "  </thead>\n",
       "  <tbody>\n",
       "    <tr>\n",
       "      <th>2</th>\n",
       "      <td>yandex_direct</td>\n",
       "      <td>4817</td>\n",
       "    </tr>\n",
       "    <tr>\n",
       "      <th>1</th>\n",
       "      <td>instagram_new_adverts</td>\n",
       "      <td>3347</td>\n",
       "    </tr>\n",
       "    <tr>\n",
       "      <th>0</th>\n",
       "      <td>facebook_ads</td>\n",
       "      <td>2726</td>\n",
       "    </tr>\n",
       "    <tr>\n",
       "      <th>3</th>\n",
       "      <td>youtube_channel_reklama</td>\n",
       "      <td>2686</td>\n",
       "    </tr>\n",
       "  </tbody>\n",
       "</table>\n",
       "</div>"
      ],
      "text/plain": [
       "                    source  users_cnt\n",
       "2            yandex_direct       4817\n",
       "1    instagram_new_adverts       3347\n",
       "0             facebook_ads       2726\n",
       "3  youtube_channel_reklama       2686"
      ]
     },
     "execution_count": 19,
     "metadata": {},
     "output_type": "execute_result"
    }
   ],
   "source": [
    "pie_plot.sort_values(by='users_cnt', ascending=False)"
   ]
  },
  {
   "cell_type": "code",
   "execution_count": 20,
   "metadata": {
    "scrolled": true
   },
   "outputs": [
    {
     "data": {
      "text/html": [
       "<div>\n",
       "<style scoped>\n",
       "    .dataframe tbody tr th:only-of-type {\n",
       "        vertical-align: middle;\n",
       "    }\n",
       "\n",
       "    .dataframe tbody tr th {\n",
       "        vertical-align: top;\n",
       "    }\n",
       "\n",
       "    .dataframe thead th {\n",
       "        text-align: right;\n",
       "    }\n",
       "</style>\n",
       "<table border=\"1\" class=\"dataframe\">\n",
       "  <thead>\n",
       "    <tr style=\"text-align: right;\">\n",
       "      <th></th>\n",
       "      <th>source</th>\n",
       "      <th>users_cnt</th>\n",
       "      <th>cost</th>\n",
       "      <th>one_user_cost</th>\n",
       "    </tr>\n",
       "  </thead>\n",
       "  <tbody>\n",
       "    <tr>\n",
       "      <th>3</th>\n",
       "      <td>youtube_channel_reklama</td>\n",
       "      <td>2686</td>\n",
       "      <td>1068.119204</td>\n",
       "      <td>0.4</td>\n",
       "    </tr>\n",
       "    <tr>\n",
       "      <th>2</th>\n",
       "      <td>yandex_direct</td>\n",
       "      <td>4817</td>\n",
       "      <td>2233.111449</td>\n",
       "      <td>0.5</td>\n",
       "    </tr>\n",
       "    <tr>\n",
       "      <th>1</th>\n",
       "      <td>instagram_new_adverts</td>\n",
       "      <td>3347</td>\n",
       "      <td>2161.441691</td>\n",
       "      <td>0.6</td>\n",
       "    </tr>\n",
       "    <tr>\n",
       "      <th>0</th>\n",
       "      <td>facebook_ads</td>\n",
       "      <td>2726</td>\n",
       "      <td>2140.904643</td>\n",
       "      <td>0.8</td>\n",
       "    </tr>\n",
       "  </tbody>\n",
       "</table>\n",
       "</div>"
      ],
      "text/plain": [
       "                    source  users_cnt         cost  one_user_cost\n",
       "3  youtube_channel_reklama       2686  1068.119204            0.4\n",
       "2            yandex_direct       4817  2233.111449            0.5\n",
       "1    instagram_new_adverts       3347  2161.441691            0.6\n",
       "0             facebook_ads       2726  2140.904643            0.8"
      ]
     },
     "execution_count": 20,
     "metadata": {},
     "output_type": "execute_result"
    }
   ],
   "source": [
    "#присоединяю таблицу с расходами на рекламу\n",
    "source_cost = pie_plot.merge(ad_costs.groupby('source', as_index=False)['cost'].sum(), on='source')\n",
    "\n",
    "#расчёт стоимости привлечения одного игрока\n",
    "source_cost['one_user_cost'] = round(source_cost['cost'] / source_cost['users_cnt'], 1)\n",
    "source_cost.sort_values(by='one_user_cost')"
   ]
  },
  {
   "cell_type": "markdown",
   "metadata": {},
   "source": [
    "**Выводы**\n",
    "\n",
    "* Больше всего пользователей пришло из источников `yandex_direct` (4817) и `instagram_new_adverts` (3347). На 3 и 4 местах `facebook_ads` (2726) и `youtube_channel_reklama` (2686).\n",
    "* Если брать в расчёт стоимость привлечения пользователей, то стоимость привлечения одного клиента меньше всего у источников `youtube_channel_reklama` (0.4 ед.на клиента) и `yandex_direct` (0.5 ед.на клиента)"
   ]
  },
  {
   "cell_type": "markdown",
   "metadata": {},
   "source": [
    "## Расчёт прибыли для модели показа рекламы на экране выбора постройки"
   ]
  },
  {
   "cell_type": "markdown",
   "metadata": {},
   "source": [
    "### Расчёт прибыли с рекламы при её показе на каждом экране постройки"
   ]
  },
  {
   "cell_type": "markdown",
   "metadata": {},
   "source": [
    "Рассчитаем прибыльность показа рекламы при учёте стоимости одного показа в 0.07 единиц"
   ]
  },
  {
   "cell_type": "code",
   "execution_count": 21,
   "metadata": {},
   "outputs": [],
   "source": [
    "#к таблице game_actions присоединяю таблицу с источником привлечения игрока\n",
    "user_source_action = game_actions.merge(user_source, how='left', on='user_id')\n",
    "user_source_action['income'] = 0.07\n",
    "\n",
    "#поменяю datetime на date для упрощения анализа\n",
    "user_source_action['event_datetime'] = user_source_action['event_datetime'].dt.date"
   ]
  },
  {
   "cell_type": "code",
   "execution_count": 22,
   "metadata": {
    "scrolled": false
   },
   "outputs": [
    {
     "data": {
      "image/png": "[encoded data removed]",
      "text/plain": [
       "<Figure size 864x504 with 1 Axes>"
      ]
     },
     "metadata": {
      "needs_background": "light"
     },
     "output_type": "display_data"
    }
   ],
   "source": [
    "#создаю таблицу для расчёта прибыльности разных источников привлечения игроков\n",
    "profit_cost = (user_source_action.query('event == \"building\"').groupby('source', as_index=False)['income'].sum()\n",
    "               .merge(source_cost[['source', 'cost']], on='source'))\n",
    "profit_cost['profit'] =  round(profit_cost['income'] - profit_cost['cost'])\n",
    "\n",
    "#график\n",
    "fig, ax = plt.subplots(figsize=(12,7))\n",
    "sns.set(font_scale = 1.1)\n",
    "sns.set_style(\"darkgrid\")\n",
    "plt.xticks(rotation=-45)\n",
    "\n",
    "sns.barplot(data=profit_cost, x='source', y='profit', ax=ax)\n",
    "ax.set_xlabel('Источник привлечения', fontsize = 12)\n",
    "ax.set_ylabel('Прибыль, ед.', fontsize = 12)\n",
    "ax.set_title('Прибыльность источников привлечения клиентов', fontsize = 14)\n",
    "\n",
    "plt.show()"
   ]
  },
  {
   "cell_type": "code",
   "execution_count": 23,
   "metadata": {},
   "outputs": [
    {
     "data": {
      "text/html": [
       "<div>\n",
       "<style scoped>\n",
       "    .dataframe tbody tr th:only-of-type {\n",
       "        vertical-align: middle;\n",
       "    }\n",
       "\n",
       "    .dataframe tbody tr th {\n",
       "        vertical-align: top;\n",
       "    }\n",
       "\n",
       "    .dataframe thead th {\n",
       "        text-align: right;\n",
       "    }\n",
       "</style>\n",
       "<table border=\"1\" class=\"dataframe\">\n",
       "  <thead>\n",
       "    <tr style=\"text-align: right;\">\n",
       "      <th></th>\n",
       "      <th>source</th>\n",
       "      <th>income</th>\n",
       "      <th>cost</th>\n",
       "      <th>profit</th>\n",
       "    </tr>\n",
       "  </thead>\n",
       "  <tbody>\n",
       "    <tr>\n",
       "      <th>0</th>\n",
       "      <td>facebook_ads</td>\n",
       "      <td>1829.17</td>\n",
       "      <td>2140.904643</td>\n",
       "      <td>-312.0</td>\n",
       "    </tr>\n",
       "    <tr>\n",
       "      <th>1</th>\n",
       "      <td>instagram_new_adverts</td>\n",
       "      <td>2227.05</td>\n",
       "      <td>2161.441691</td>\n",
       "      <td>66.0</td>\n",
       "    </tr>\n",
       "    <tr>\n",
       "      <th>2</th>\n",
       "      <td>yandex_direct</td>\n",
       "      <td>3152.24</td>\n",
       "      <td>2233.111449</td>\n",
       "      <td>919.0</td>\n",
       "    </tr>\n",
       "    <tr>\n",
       "      <th>3</th>\n",
       "      <td>youtube_channel_reklama</td>\n",
       "      <td>1748.46</td>\n",
       "      <td>1068.119204</td>\n",
       "      <td>680.0</td>\n",
       "    </tr>\n",
       "  </tbody>\n",
       "</table>\n",
       "</div>"
      ],
      "text/plain": [
       "                    source   income         cost  profit\n",
       "0             facebook_ads  1829.17  2140.904643  -312.0\n",
       "1    instagram_new_adverts  2227.05  2161.441691    66.0\n",
       "2            yandex_direct  3152.24  2233.111449   919.0\n",
       "3  youtube_channel_reklama  1748.46  1068.119204   680.0"
      ]
     },
     "execution_count": 23,
     "metadata": {},
     "output_type": "execute_result"
    }
   ],
   "source": [
    "profit_cost"
   ]
  },
  {
   "cell_type": "code",
   "execution_count": 24,
   "metadata": {},
   "outputs": [
    {
     "data": {
      "text/plain": [
       "1353.0"
      ]
     },
     "execution_count": 24,
     "metadata": {},
     "output_type": "execute_result"
    }
   ],
   "source": [
    "round(profit_cost['profit'].sum(), 2)"
   ]
  },
  {
   "cell_type": "markdown",
   "metadata": {},
   "source": [
    "**Выводы**\n",
    "\n",
    "* Больше всего средств принесли пользователи, пришедшие с источников `yandex_direct` (919 ед.) и `youtube_channel_reklama` (680 ед.)\n",
    "* Единственным убыточным источником стал `facebook_ads` (-312 ед.)\n",
    "* Общая прибыль со всех источников за исследуемый период составила 1353 ед. "
   ]
  },
  {
   "cell_type": "markdown",
   "metadata": {},
   "source": [
    "### Расчёт прибыли с рекламы при её показе, начиная со второй постройки"
   ]
  },
  {
   "cell_type": "markdown",
   "metadata": {},
   "source": [
    "Снова рассчитаем прибыльность показа рекламы при учёте стоимости одного показа в 0.07 единиц, но на этот раз при условии, что реклама начнёт показываться со второй постройки.\n",
    "\n",
    "Для этого сгруппирую по `user_id` и подсчитаю количество построек, вычту из него 1  постройки и затем сделаю фильтр, чтобы это количество было больше 0. Затем всё, как в предыдущем расчёте."
   ]
  },
  {
   "cell_type": "code",
   "execution_count": 25,
   "metadata": {},
   "outputs": [],
   "source": [
    "profit_cost_2  = (user_source_action.query('event == \"building\"')\n",
    "                  .groupby('user_id', as_index=False)['event'].count())\n",
    "\n",
    "profit_cost_2['event'] = profit_cost_2['event'] - 1\n",
    "profit_cost_2 = profit_cost_2.query('event > 0').rename(columns={'event':'building_cnt'})\n",
    "\n",
    "#находим доход с пользователя\n",
    "profit_cost_2['income'] = profit_cost_2['building_cnt'] * 0.07 \n",
    "\n",
    "#присоединям таблицу с источником, который привлёк игрока \n",
    "profit_cost_2 = profit_cost_2.merge(user_source, on='user_id') \n",
    "profit_cost_2 = profit_cost_2.groupby('source', as_index=False)['income'].sum()\n",
    "\n",
    "#присоединям таблицу с источником и стоимостью рекламы\n",
    "profit_cost_2 = profit_cost_2.merge(source_cost[['source', 'cost']], on='source') \n",
    "\n",
    "#считаем прибыль, которую принесли игроки, привлеченные разными источниками\n",
    "profit_cost_2['profit'] = round(profit_cost_2['income'] - profit_cost_2['cost']) "
   ]
  },
  {
   "cell_type": "code",
   "execution_count": 26,
   "metadata": {},
   "outputs": [
    {
     "data": {
      "image/png": "[encoded data removed]",
      "text/plain": [
       "<Figure size 864x504 with 1 Axes>"
      ]
     },
     "metadata": {},
     "output_type": "display_data"
    }
   ],
   "source": [
    "#график\n",
    "fig, ax = plt.subplots(figsize=(12,7))\n",
    "sns.set(font_scale = 1.1)\n",
    "sns.set_style(\"darkgrid\")\n",
    "plt.xticks(rotation=-45)\n",
    "\n",
    "sns.barplot(data=profit_cost_2, x='source', y='profit', ax=ax)\n",
    "ax.set_xlabel('Источник привлечения', fontsize = 12)\n",
    "ax.set_ylabel('Прибыль, ед.', fontsize = 12)\n",
    "ax.set_title('Прибыльность источников привлечения клиентов', fontsize = 14)\n",
    "\n",
    "plt.show()"
   ]
  },
  {
   "cell_type": "code",
   "execution_count": 27,
   "metadata": {},
   "outputs": [
    {
     "data": {
      "text/html": [
       "<div>\n",
       "<style scoped>\n",
       "    .dataframe tbody tr th:only-of-type {\n",
       "        vertical-align: middle;\n",
       "    }\n",
       "\n",
       "    .dataframe tbody tr th {\n",
       "        vertical-align: top;\n",
       "    }\n",
       "\n",
       "    .dataframe thead th {\n",
       "        text-align: right;\n",
       "    }\n",
       "</style>\n",
       "<table border=\"1\" class=\"dataframe\">\n",
       "  <thead>\n",
       "    <tr style=\"text-align: right;\">\n",
       "      <th></th>\n",
       "      <th>source</th>\n",
       "      <th>income</th>\n",
       "      <th>cost</th>\n",
       "      <th>profit</th>\n",
       "    </tr>\n",
       "  </thead>\n",
       "  <tbody>\n",
       "    <tr>\n",
       "      <th>0</th>\n",
       "      <td>facebook_ads</td>\n",
       "      <td>1638.35</td>\n",
       "      <td>2140.904643</td>\n",
       "      <td>-503.0</td>\n",
       "    </tr>\n",
       "    <tr>\n",
       "      <th>1</th>\n",
       "      <td>instagram_new_adverts</td>\n",
       "      <td>1992.76</td>\n",
       "      <td>2161.441691</td>\n",
       "      <td>-169.0</td>\n",
       "    </tr>\n",
       "    <tr>\n",
       "      <th>2</th>\n",
       "      <td>yandex_direct</td>\n",
       "      <td>2815.05</td>\n",
       "      <td>2233.111449</td>\n",
       "      <td>582.0</td>\n",
       "    </tr>\n",
       "    <tr>\n",
       "      <th>3</th>\n",
       "      <td>youtube_channel_reklama</td>\n",
       "      <td>1560.44</td>\n",
       "      <td>1068.119204</td>\n",
       "      <td>492.0</td>\n",
       "    </tr>\n",
       "  </tbody>\n",
       "</table>\n",
       "</div>"
      ],
      "text/plain": [
       "                    source   income         cost  profit\n",
       "0             facebook_ads  1638.35  2140.904643  -503.0\n",
       "1    instagram_new_adverts  1992.76  2161.441691  -169.0\n",
       "2            yandex_direct  2815.05  2233.111449   582.0\n",
       "3  youtube_channel_reklama  1560.44  1068.119204   492.0"
      ]
     },
     "execution_count": 27,
     "metadata": {},
     "output_type": "execute_result"
    }
   ],
   "source": [
    "profit_cost_2"
   ]
  },
  {
   "cell_type": "code",
   "execution_count": 28,
   "metadata": {},
   "outputs": [
    {
     "data": {
      "text/plain": [
       "402.0"
      ]
     },
     "execution_count": 28,
     "metadata": {},
     "output_type": "execute_result"
    }
   ],
   "source": [
    "round(profit_cost_2['profit'].sum(), 2)"
   ]
  },
  {
   "cell_type": "markdown",
   "metadata": {},
   "source": [
    "Чтобы удостовериться, что показ рекламы со второй постройки это граничное значение для прибыльности рекламы, посмотрим ещё на модель показа рекламы с 3 постройки:"
   ]
  },
  {
   "cell_type": "code",
   "execution_count": 29,
   "metadata": {},
   "outputs": [],
   "source": [
    "profit_cost_3  = (user_source_action.query('event == \"building\"')\n",
    "                  .groupby('user_id', as_index=False)['event'].count())\n",
    "\n",
    "profit_cost_3['event'] = profit_cost_3['event'] - 2\n",
    "profit_cost_3 = profit_cost_3.query('event > 0').rename(columns={'event':'building_cnt'})\n",
    "\n",
    "#находим доход с пользователя\n",
    "profit_cost_3['income'] = profit_cost_3['building_cnt'] * 0.07 \n",
    "\n",
    "#присоединям таблицу с источником, который привлёк игрока \n",
    "profit_cost_3 = profit_cost_3.merge(user_source, on='user_id') \n",
    "profit_cost_3 = profit_cost_3.groupby('source', as_index=False)['income'].sum()\n",
    "\n",
    "#присоединям таблицу с источником и стоимостью рекламы\n",
    "profit_cost_3 = profit_cost_3.merge(source_cost[['source', 'cost']], on='source') \n",
    "\n",
    "#считаем прибыль, которую принесли игроки, привлеченные разными источниками\n",
    "profit_cost_3['profit'] = round(profit_cost_3['income'] - profit_cost_3['cost']) "
   ]
  },
  {
   "cell_type": "code",
   "execution_count": 30,
   "metadata": {},
   "outputs": [
    {
     "data": {
      "text/html": [
       "<div>\n",
       "<style scoped>\n",
       "    .dataframe tbody tr th:only-of-type {\n",
       "        vertical-align: middle;\n",
       "    }\n",
       "\n",
       "    .dataframe tbody tr th {\n",
       "        vertical-align: top;\n",
       "    }\n",
       "\n",
       "    .dataframe thead th {\n",
       "        text-align: right;\n",
       "    }\n",
       "</style>\n",
       "<table border=\"1\" class=\"dataframe\">\n",
       "  <thead>\n",
       "    <tr style=\"text-align: right;\">\n",
       "      <th></th>\n",
       "      <th>source</th>\n",
       "      <th>income</th>\n",
       "      <th>cost</th>\n",
       "      <th>profit</th>\n",
       "    </tr>\n",
       "  </thead>\n",
       "  <tbody>\n",
       "    <tr>\n",
       "      <th>0</th>\n",
       "      <td>facebook_ads</td>\n",
       "      <td>1448.51</td>\n",
       "      <td>2140.904643</td>\n",
       "      <td>-692.0</td>\n",
       "    </tr>\n",
       "    <tr>\n",
       "      <th>1</th>\n",
       "      <td>instagram_new_adverts</td>\n",
       "      <td>1759.24</td>\n",
       "      <td>2161.441691</td>\n",
       "      <td>-402.0</td>\n",
       "    </tr>\n",
       "    <tr>\n",
       "      <th>2</th>\n",
       "      <td>yandex_direct</td>\n",
       "      <td>2479.19</td>\n",
       "      <td>2233.111449</td>\n",
       "      <td>246.0</td>\n",
       "    </tr>\n",
       "    <tr>\n",
       "      <th>3</th>\n",
       "      <td>youtube_channel_reklama</td>\n",
       "      <td>1373.33</td>\n",
       "      <td>1068.119204</td>\n",
       "      <td>305.0</td>\n",
       "    </tr>\n",
       "  </tbody>\n",
       "</table>\n",
       "</div>"
      ],
      "text/plain": [
       "                    source   income         cost  profit\n",
       "0             facebook_ads  1448.51  2140.904643  -692.0\n",
       "1    instagram_new_adverts  1759.24  2161.441691  -402.0\n",
       "2            yandex_direct  2479.19  2233.111449   246.0\n",
       "3  youtube_channel_reklama  1373.33  1068.119204   305.0"
      ]
     },
     "execution_count": 30,
     "metadata": {},
     "output_type": "execute_result"
    }
   ],
   "source": [
    "profit_cost_3"
   ]
  },
  {
   "cell_type": "code",
   "execution_count": 31,
   "metadata": {},
   "outputs": [
    {
     "data": {
      "text/plain": [
       "-543.0"
      ]
     },
     "execution_count": 31,
     "metadata": {},
     "output_type": "execute_result"
    }
   ],
   "source": [
    "round(profit_cost_3['profit'].sum(), 2)"
   ]
  },
  {
   "cell_type": "markdown",
   "metadata": {},
   "source": [
    "Действительно, мы уходим в убыток при такой модели"
   ]
  },
  {
   "cell_type": "markdown",
   "metadata": {},
   "source": [
    "**Выводы**\n",
    "\n",
    "* При показе рекламы, начиная со второй постройки два источника ушли в убыток `facebook_ads` (-503 ед.) и `instagram_new_adverts` (-169 ед.), два источника принесли прибыль `yandex_direct` (582 ед.) и `youtube_channel_reklama` (492 ед.)\n",
    "* Общая прибыль за исследуемый период составила - 402 ед.\n",
    "* Можно заметить, насколько сильно упала общая прибыль при показе рекламы, начиная со второй постройки (1353 ед. при показе с первой постройки и 402 ед. при показе со второй постройки соответственно). Таким образом -показ рекламы со второй постройки является пограничным значением, при показе рекламы с 3 постройки мы уже уйдем в убыток (что показано выше). "
   ]
  },
  {
   "cell_type": "markdown",
   "metadata": {},
   "source": [
    "## Проверка гипотез"
   ]
  },
  {
   "cell_type": "markdown",
   "metadata": {},
   "source": [
    "### Гипотеза о различии времени прохождения уровня между пользователями, которые заканчивают уровень через реализацию проекта, и пользователями, которые заканчивают уровень победой над другим игроком"
   ]
  },
  {
   "cell_type": "markdown",
   "metadata": {},
   "source": [
    "**Нулевая гипотеза** - Среднее время прохождения уровня игроками из групп военных и ученых не отличается\n",
    "\n",
    "**Альтернативная гипотеза** - Среднее время прохождения уровня игроками из групп военных и ученых отличается\n",
    "\n",
    "**Критический уровень значимости (альфа)** - 0.05"
   ]
  },
  {
   "cell_type": "code",
   "execution_count": 32,
   "metadata": {},
   "outputs": [
    {
     "data": {
      "text/html": [
       "<div>\n",
       "<style scoped>\n",
       "    .dataframe tbody tr th:only-of-type {\n",
       "        vertical-align: middle;\n",
       "    }\n",
       "\n",
       "    .dataframe tbody tr th {\n",
       "        vertical-align: top;\n",
       "    }\n",
       "\n",
       "    .dataframe thead th {\n",
       "        text-align: right;\n",
       "    }\n",
       "</style>\n",
       "<table border=\"1\" class=\"dataframe\">\n",
       "  <thead>\n",
       "    <tr style=\"text-align: right;\">\n",
       "      <th></th>\n",
       "      <th>user_id</th>\n",
       "      <th>first</th>\n",
       "      <th>last</th>\n",
       "      <th>time_diff</th>\n",
       "      <th>finish_type</th>\n",
       "    </tr>\n",
       "  </thead>\n",
       "  <tbody>\n",
       "    <tr>\n",
       "      <th>0</th>\n",
       "      <td>001d39dc-366c-4021-9604-6a3b9ff01e25</td>\n",
       "      <td>2020-05-05 21:02:05</td>\n",
       "      <td>2020-05-12 07:40:47</td>\n",
       "      <td>556722.0</td>\n",
       "      <td>victory</td>\n",
       "    </tr>\n",
       "    <tr>\n",
       "      <th>9</th>\n",
       "      <td>003ee7e8-6356-4286-a715-62f22a18d2a1</td>\n",
       "      <td>2020-05-05 08:31:04</td>\n",
       "      <td>2020-05-17 21:47:49</td>\n",
       "      <td>1084605.0</td>\n",
       "      <td>victory</td>\n",
       "    </tr>\n",
       "    <tr>\n",
       "      <th>18</th>\n",
       "      <td>004074f8-251a-4776-922c-8348dca1a2f6</td>\n",
       "      <td>2020-05-04 01:07:35</td>\n",
       "      <td>2020-05-16 19:57:40</td>\n",
       "      <td>1104605.0</td>\n",
       "      <td>victory</td>\n",
       "    </tr>\n",
       "    <tr>\n",
       "      <th>31</th>\n",
       "      <td>00464e5e-28ed-4be6-bf44-517ef7b3937b</td>\n",
       "      <td>2020-05-04 08:35:29</td>\n",
       "      <td>2020-05-15 16:02:01</td>\n",
       "      <td>977192.0</td>\n",
       "      <td>victory</td>\n",
       "    </tr>\n",
       "    <tr>\n",
       "      <th>40</th>\n",
       "      <td>0056c007-c082-43cc-bdef-afc49bca4cb9</td>\n",
       "      <td>2020-05-10 11:49:47</td>\n",
       "      <td>2020-05-16 13:48:39</td>\n",
       "      <td>525532.0</td>\n",
       "      <td>victory</td>\n",
       "    </tr>\n",
       "  </tbody>\n",
       "</table>\n",
       "</div>"
      ],
      "text/plain": [
       "                                 user_id               first  \\\n",
       "0   001d39dc-366c-4021-9604-6a3b9ff01e25 2020-05-05 21:02:05   \n",
       "9   003ee7e8-6356-4286-a715-62f22a18d2a1 2020-05-05 08:31:04   \n",
       "18  004074f8-251a-4776-922c-8348dca1a2f6 2020-05-04 01:07:35   \n",
       "31  00464e5e-28ed-4be6-bf44-517ef7b3937b 2020-05-04 08:35:29   \n",
       "40  0056c007-c082-43cc-bdef-afc49bca4cb9 2020-05-10 11:49:47   \n",
       "\n",
       "                  last  time_diff finish_type  \n",
       "0  2020-05-12 07:40:47   556722.0     victory  \n",
       "9  2020-05-17 21:47:49  1084605.0     victory  \n",
       "18 2020-05-16 19:57:40  1104605.0     victory  \n",
       "31 2020-05-15 16:02:01   977192.0     victory  \n",
       "40 2020-05-16 13:48:39   525532.0     victory  "
      ]
     },
     "execution_count": 32,
     "metadata": {},
     "output_type": "execute_result"
    }
   ],
   "source": [
    "#выделяю первое и последнее событие для каждого игрока и нахожу разницу во времени между ними\n",
    "hypothesis_1 = finished_users.groupby('user_id')['event_datetime'].agg(['first', 'last'])\n",
    "hypothesis_1['time_diff'] = hypothesis_1['last'] - hypothesis_1['first']\n",
    "\n",
    "#присоединяю столбец с типом завершения уровня\n",
    "hypothesis_1 = hypothesis_1.merge(finished_users[['user_id','finish_type']], on='user_id').drop_duplicates()\n",
    "\n",
    "#перевожу разницу во времени в секунды, чтобы можно было провести ttest\n",
    "hypothesis_1['time_diff'] = hypothesis_1['time_diff'].dt.total_seconds()\n",
    "hypothesis_1.head()"
   ]
  },
  {
   "cell_type": "markdown",
   "metadata": {},
   "source": [
    "Посмотрим, сколько требуется времени для завершения уровня игрокам из группы военных и ученых"
   ]
  },
  {
   "cell_type": "code",
   "execution_count": 33,
   "metadata": {},
   "outputs": [
    {
     "data": {
      "text/html": [
       "<div>\n",
       "<style scoped>\n",
       "    .dataframe tbody tr th:only-of-type {\n",
       "        vertical-align: middle;\n",
       "    }\n",
       "\n",
       "    .dataframe tbody tr th {\n",
       "        vertical-align: top;\n",
       "    }\n",
       "\n",
       "    .dataframe thead th {\n",
       "        text-align: right;\n",
       "    }\n",
       "</style>\n",
       "<table border=\"1\" class=\"dataframe\">\n",
       "  <thead>\n",
       "    <tr style=\"text-align: right;\">\n",
       "      <th></th>\n",
       "      <th>finish_type</th>\n",
       "      <th>time_diff</th>\n",
       "    </tr>\n",
       "  </thead>\n",
       "  <tbody>\n",
       "    <tr>\n",
       "      <th>0</th>\n",
       "      <td>project</td>\n",
       "      <td>312.761389</td>\n",
       "    </tr>\n",
       "    <tr>\n",
       "      <th>1</th>\n",
       "      <td>victory</td>\n",
       "      <td>259.026944</td>\n",
       "    </tr>\n",
       "  </tbody>\n",
       "</table>\n",
       "</div>"
      ],
      "text/plain": [
       "  finish_type   time_diff\n",
       "0     project  312.761389\n",
       "1     victory  259.026944"
      ]
     },
     "execution_count": 33,
     "metadata": {},
     "output_type": "execute_result"
    }
   ],
   "source": [
    "hypothesis_1_grouped = hypothesis_1.groupby('finish_type', as_index=False)['time_diff'].agg('median')\n",
    "hypothesis_1_grouped['time_diff'] = hypothesis_1_grouped['time_diff'] / 3600\n",
    "hypothesis_1_grouped"
   ]
  },
  {
   "cell_type": "markdown",
   "metadata": {},
   "source": [
    "Можем заметить, что время прохождения у игроков разных групп отличается. Игроки, завершающие через победу проходят уровень быстрее, а такого в идеале быть не должно. В идеале среднее время прохождения уровня между игроками разных групп должно отличаться незначительно, чтобы в игре был баланс между различными способами прохождения уровня, иначе вариант более быстрого прохождения будет становится всё более популярным, а другой вариант начнёт потихоньку вымирать."
   ]
  },
  {
   "cell_type": "code",
   "execution_count": 34,
   "metadata": {},
   "outputs": [
    {
     "name": "stdout",
     "output_type": "stream",
     "text": [
      "p-значение: 7.256845329495443e-98\n",
      "Отвергаем нулевую гипотезу\n"
     ]
    }
   ],
   "source": [
    "victory_group = hypothesis_1.query('finish_type == \"victory\"')['time_diff']\n",
    "project_group = hypothesis_1.query('finish_type == \"project\"')['time_diff']\n",
    "\n",
    "alpha = .05\n",
    "\n",
    "results = st.ttest_ind(victory_group, project_group)\n",
    "\n",
    "print('p-значение:', results.pvalue)\n",
    "\n",
    "if results.pvalue < alpha:\n",
    "    print(\"Отвергаем нулевую гипотезу\")\n",
    "else:\n",
    "    print(\"Не получилось отвергнуть нулевую гипотезу\")"
   ]
  },
  {
   "cell_type": "markdown",
   "metadata": {},
   "source": [
    "**Выводы**\n",
    "\n",
    "Отвергаем гипотезу о равенстве среднего времени прохождения уровня, так как p-value ниже критического уровня значимости (который мы задали равным 0.05).\n",
    "\n",
    "Таким образом подтвердилась альтернативная гипотеза о неравенстве среднего времени прохождения уровня между игроками разных групп."
   ]
  },
  {
   "cell_type": "markdown",
   "metadata": {},
   "source": [
    "### Гипотеза о различии дохода с пользователей, привлеченных источниками facebook_ads и youtube_channel_reklama"
   ]
  },
  {
   "cell_type": "markdown",
   "metadata": {},
   "source": [
    "**Нулевая гипотеза** - Средний доход с игроков, привлеченных источниками facebook_ads и youtube_channel_reklama не отличается\n",
    "\n",
    "**Альтернативная гипотеза** - Средний доход с игроков, привлеченных источниками facebook_ads и youtube_channel_reklama различается\n",
    "\n",
    "**Критический уровень значимости (альфа)** - 0.05"
   ]
  },
  {
   "cell_type": "code",
   "execution_count": 35,
   "metadata": {},
   "outputs": [
    {
     "data": {
      "text/html": [
       "<div>\n",
       "<style scoped>\n",
       "    .dataframe tbody tr th:only-of-type {\n",
       "        vertical-align: middle;\n",
       "    }\n",
       "\n",
       "    .dataframe tbody tr th {\n",
       "        vertical-align: top;\n",
       "    }\n",
       "\n",
       "    .dataframe thead th {\n",
       "        text-align: right;\n",
       "    }\n",
       "</style>\n",
       "<table border=\"1\" class=\"dataframe\">\n",
       "  <thead>\n",
       "    <tr style=\"text-align: right;\">\n",
       "      <th></th>\n",
       "      <th>source</th>\n",
       "      <th>income</th>\n",
       "    </tr>\n",
       "  </thead>\n",
       "  <tbody>\n",
       "    <tr>\n",
       "      <th>0</th>\n",
       "      <td>facebook_ads</td>\n",
       "      <td>1829.17</td>\n",
       "    </tr>\n",
       "    <tr>\n",
       "      <th>1</th>\n",
       "      <td>instagram_new_adverts</td>\n",
       "      <td>2227.05</td>\n",
       "    </tr>\n",
       "    <tr>\n",
       "      <th>2</th>\n",
       "      <td>yandex_direct</td>\n",
       "      <td>3152.24</td>\n",
       "    </tr>\n",
       "    <tr>\n",
       "      <th>3</th>\n",
       "      <td>youtube_channel_reklama</td>\n",
       "      <td>1748.46</td>\n",
       "    </tr>\n",
       "  </tbody>\n",
       "</table>\n",
       "</div>"
      ],
      "text/plain": [
       "                    source   income\n",
       "0             facebook_ads  1829.17\n",
       "1    instagram_new_adverts  2227.05\n",
       "2            yandex_direct  3152.24\n",
       "3  youtube_channel_reklama  1748.46"
      ]
     },
     "execution_count": 35,
     "metadata": {},
     "output_type": "execute_result"
    }
   ],
   "source": [
    "#создание таблички с доходами от рекламы с игроков, привлеченных разными источниками, так же необходимо для проведения ttest\n",
    "profit_cost_  = (user_source_action.query('event == \"building\"')\n",
    "                  .groupby('user_id', as_index=False)['event'].count())\n",
    "\n",
    "profit_cost_ = profit_cost_.rename(columns={'event':'building_cnt'})\n",
    "profit_cost_['income'] = profit_cost_['building_cnt'] * 0.07\n",
    "profit_cost_ = profit_cost_.merge(user_source, on='user_id')\n",
    "\n",
    "profit_cost_.groupby('source', as_index=False)['income'].sum()"
   ]
  },
  {
   "cell_type": "markdown",
   "metadata": {},
   "source": [
    "Доход с игроков, привлеченных источниками `facebook_ads` и `youtube_channel_reklama` различается незначительно (1829 ед. и 1748 ед. соответственно)"
   ]
  },
  {
   "cell_type": "code",
   "execution_count": 36,
   "metadata": {
    "scrolled": true
   },
   "outputs": [
    {
     "name": "stdout",
     "output_type": "stream",
     "text": [
      "p-значение: 0.006588846148210699\n",
      "Отвергаем нулевую гипотезу\n"
     ]
    }
   ],
   "source": [
    "facebook = profit_cost_.query('source == \"facebook_ads\"')['income']\n",
    "youtube = profit_cost_.query('source == \"youtube_channel_reklama\"')['income']\n",
    "\n",
    "alpha = .05\n",
    "\n",
    "results = st.ttest_ind(facebook, youtube)\n",
    "\n",
    "print('p-значение:', results.pvalue)\n",
    "\n",
    "if results.pvalue < alpha:\n",
    "    print(\"Отвергаем нулевую гипотезу\")\n",
    "else:\n",
    "    print(\"Не получилось отвергнуть нулевую гипотезу\")"
   ]
  },
  {
   "cell_type": "markdown",
   "metadata": {},
   "source": [
    "**Выводы**\n",
    "\n",
    "Отвергаем гипотезу о равенстве дохода с пользователей, привлеченных источниками `facebook_ads` и `youtube_channel_reklama`, так как p-value ниже критического уровня значимости (который мы задали равным 0.05).\n",
    "\n",
    "Таким образом подтвердилась альтернативная гипотеза о неравенстве дохода с пользователей, привлеченных разными источниками. Хотя сами значения дохода с двух источников различались незначительно, но статистически эта разница имеется."
   ]
  },
  {
   "cell_type": "markdown",
   "metadata": {},
   "source": [
    "## Выводы и рекомендации по проекту"
   ]
  },
  {
   "cell_type": "markdown",
   "metadata": {},
   "source": [
    "### Выводы"
   ]
  },
  {
   "cell_type": "markdown",
   "metadata": {},
   "source": [
    "* Большинство пользователей заканчивают уровень через победу над первым противником, таких пользователей 68% от общего числа успешно завершивших первый уровень.\n",
    "* Оказалось, что игроки из групп военных и ученых строят примерно одинаковое количество зданий (группа ученых в среднем строят даже больше). При этом значимое различие только в количестве построенных исследовательских центров (2 у ученых и 1 у военных, по медианным значениям)\n",
    "* Больше всего пользователей пришло из источников `yandex_direct` (4817) и `instagram_new_adverts` (3347). На 3 и 4 местах `facebook_ads` (2726) и `youtube_channel_reklama` (2686).\n",
    "* Для модели показа рекламы на каждом экране постройки - наибольшую прибыль принесли пользователи, пришедшие с источников `yandex_direct` (919 ед.) и `youtube_channel_reklama` (680 ед.). Общая прибыль составила за исследуемый период составила 1353 ед.\n",
    "* При показе рекламы, начиная со второй постройки два источника ушли в убыток: `facebook_ads`(-503 ед.) и `instagram_new_adverts` (-169 ед.) и два источника принесли прибыль `yandex_direct` (582 ед.) и `youtube_channel_reklama` (492 ед.). Общая прибыль за исследуемый период составила - 402 ед.\n",
    "* Границей прибыльности при показе рекламы на экране постройки является её показ со второй постройки, при показе рекламы с третьей постройки мы уже уходим в убыток.\n",
    "* Проверки гипотез показали, что среднее время прохождения первого уровня между игроками из групп, закончивших первой победой или проектом, статистически значительно различается, геймдизайнерам стоит обратить внимание на исправление этого момента, чтобы группы пвп и пве проводили примерно одинаковое время в игре. Так же мы выяснили, что доход с пользователей, привлеченных источниками `facebook_ads` и `youtube_channel_reklama` так же статистически различается."
   ]
  },
  {
   "cell_type": "markdown",
   "metadata": {},
   "source": [
    "### Рекомендации"
   ]
  },
  {
   "cell_type": "markdown",
   "metadata": {},
   "source": [
    "Можно сказать, что введение рекламы на экране постройки, начиная со второго здания является наиболее оптимальной моделью. Мы не уходим в убыток, в то же время рекламная нагрузка на пользователей меньше, чем при показе рекламы на каждом экране с выбором постройки. "
   ]
  }
 ],
 "metadata": {
  "ExecuteTimeLog": [
   {
    "duration": 1411,
    "start_time": "2022-08-06T08:23:40.679Z"
   },
   {
    "duration": 665,
    "start_time": "2022-08-06T08:24:04.561Z"
   },
   {
    "duration": 345,
    "start_time": "2022-08-06T08:30:57.324Z"
   },
   {
    "duration": 389,
    "start_time": "2022-08-06T08:31:11.060Z"
   },
   {
    "duration": 282,
    "start_time": "2022-08-06T08:31:18.608Z"
   },
   {
    "duration": 59,
    "start_time": "2022-08-06T08:31:57.161Z"
   },
   {
    "duration": 29,
    "start_time": "2022-08-06T09:00:11.367Z"
   },
   {
    "duration": 119,
    "start_time": "2022-08-06T09:08:04.519Z"
   },
   {
    "duration": 13,
    "start_time": "2022-08-06T09:08:12.533Z"
   },
   {
    "duration": 89,
    "start_time": "2022-08-06T09:10:25.514Z"
   },
   {
    "duration": 71,
    "start_time": "2022-08-06T09:10:37.331Z"
   },
   {
    "duration": 102,
    "start_time": "2022-08-06T09:10:49.113Z"
   },
   {
    "duration": 72,
    "start_time": "2022-08-06T09:11:58.603Z"
   },
   {
    "duration": 29,
    "start_time": "2022-08-06T09:12:17.997Z"
   },
   {
    "duration": 19,
    "start_time": "2022-08-06T09:12:23.780Z"
   },
   {
    "duration": 24,
    "start_time": "2022-08-06T09:12:26.453Z"
   },
   {
    "duration": 1320,
    "start_time": "2022-08-06T09:14:29.336Z"
   },
   {
    "duration": 25,
    "start_time": "2022-08-06T09:14:39.553Z"
   },
   {
    "duration": 1161,
    "start_time": "2022-08-06T09:14:47.562Z"
   },
   {
    "duration": 24,
    "start_time": "2022-08-06T09:14:51.401Z"
   },
   {
    "duration": 58,
    "start_time": "2022-08-06T09:15:22.281Z"
   },
   {
    "duration": 10,
    "start_time": "2022-08-06T09:15:53.750Z"
   },
   {
    "duration": 80,
    "start_time": "2022-08-06T09:16:20.316Z"
   },
   {
    "duration": 79,
    "start_time": "2022-08-06T09:18:47.377Z"
   },
   {
    "duration": 72,
    "start_time": "2022-08-06T09:18:52.526Z"
   },
   {
    "duration": 29,
    "start_time": "2022-08-06T09:40:41.467Z"
   },
   {
    "duration": 29,
    "start_time": "2022-08-06T09:40:52.884Z"
   },
   {
    "duration": 1250,
    "start_time": "2022-08-06T09:41:35.425Z"
   },
   {
    "duration": 13,
    "start_time": "2022-08-06T09:42:39.167Z"
   },
   {
    "duration": 108,
    "start_time": "2022-08-06T09:58:56.577Z"
   },
   {
    "duration": 19,
    "start_time": "2022-08-06T10:00:49.037Z"
   },
   {
    "duration": 11,
    "start_time": "2022-08-06T10:01:41.354Z"
   },
   {
    "duration": 19,
    "start_time": "2022-08-06T10:01:46.219Z"
   },
   {
    "duration": 13,
    "start_time": "2022-08-06T10:09:28.016Z"
   },
   {
    "duration": 17,
    "start_time": "2022-08-06T10:10:32.131Z"
   },
   {
    "duration": 13,
    "start_time": "2022-08-06T10:10:36.348Z"
   },
   {
    "duration": 16,
    "start_time": "2022-08-06T10:11:39.207Z"
   },
   {
    "duration": 45,
    "start_time": "2022-08-06T10:11:39.225Z"
   },
   {
    "duration": 19,
    "start_time": "2022-08-06T10:11:46.374Z"
   },
   {
    "duration": 15,
    "start_time": "2022-08-06T10:13:16.923Z"
   },
   {
    "duration": 28,
    "start_time": "2022-08-06T10:14:50.289Z"
   },
   {
    "duration": 11,
    "start_time": "2022-08-06T10:14:53.956Z"
   },
   {
    "duration": 16,
    "start_time": "2022-08-06T10:15:25.466Z"
   },
   {
    "duration": 10,
    "start_time": "2022-08-06T10:15:43.999Z"
   },
   {
    "duration": 30,
    "start_time": "2022-08-06T10:15:49.581Z"
   },
   {
    "duration": 16,
    "start_time": "2022-08-06T10:15:56.161Z"
   },
   {
    "duration": 1234,
    "start_time": "2022-08-06T10:19:19.117Z"
   },
   {
    "duration": 378,
    "start_time": "2022-08-06T10:19:20.353Z"
   },
   {
    "duration": 52,
    "start_time": "2022-08-06T10:19:20.734Z"
   },
   {
    "duration": 108,
    "start_time": "2022-08-06T10:19:20.788Z"
   },
   {
    "duration": 136,
    "start_time": "2022-08-06T10:19:20.899Z"
   },
   {
    "duration": 116,
    "start_time": "2022-08-06T10:19:21.038Z"
   },
   {
    "duration": 56,
    "start_time": "2022-08-06T10:19:21.156Z"
   },
   {
    "duration": 6,
    "start_time": "2022-08-06T10:19:21.215Z"
   },
   {
    "duration": 19,
    "start_time": "2022-08-06T10:19:21.223Z"
   },
   {
    "duration": 32,
    "start_time": "2022-08-06T10:19:21.244Z"
   },
   {
    "duration": 22,
    "start_time": "2022-08-06T10:19:21.278Z"
   },
   {
    "duration": 13,
    "start_time": "2022-08-06T10:19:35.347Z"
   },
   {
    "duration": 4,
    "start_time": "2022-08-06T10:22:36.350Z"
   },
   {
    "duration": 17,
    "start_time": "2022-08-06T10:22:39.570Z"
   },
   {
    "duration": 235,
    "start_time": "2022-08-06T10:23:36.797Z"
   },
   {
    "duration": 13,
    "start_time": "2022-08-06T10:23:39.907Z"
   },
   {
    "duration": 11,
    "start_time": "2022-08-06T10:23:49.804Z"
   },
   {
    "duration": 14,
    "start_time": "2022-08-06T10:23:57.011Z"
   },
   {
    "duration": 17,
    "start_time": "2022-08-06T10:24:17.507Z"
   },
   {
    "duration": 13,
    "start_time": "2022-08-06T10:24:18.071Z"
   },
   {
    "duration": 11,
    "start_time": "2022-08-06T10:24:24.749Z"
   },
   {
    "duration": 19,
    "start_time": "2022-08-06T10:25:27.619Z"
   },
   {
    "duration": 11,
    "start_time": "2022-08-06T10:25:30.346Z"
   },
   {
    "duration": 4,
    "start_time": "2022-08-06T10:25:39.154Z"
   },
   {
    "duration": 6,
    "start_time": "2022-08-06T10:25:44.983Z"
   },
   {
    "duration": 26,
    "start_time": "2022-08-06T10:25:54.144Z"
   },
   {
    "duration": 5,
    "start_time": "2022-08-06T10:26:46.706Z"
   },
   {
    "duration": 310,
    "start_time": "2022-08-06T10:26:46.714Z"
   },
   {
    "duration": 61,
    "start_time": "2022-08-06T10:26:47.026Z"
   },
   {
    "duration": 99,
    "start_time": "2022-08-06T10:26:47.090Z"
   },
   {
    "duration": 81,
    "start_time": "2022-08-06T10:26:47.192Z"
   },
   {
    "duration": 74,
    "start_time": "2022-08-06T10:26:47.274Z"
   },
   {
    "duration": 47,
    "start_time": "2022-08-06T10:26:47.350Z"
   },
   {
    "duration": 2,
    "start_time": "2022-08-06T10:26:47.399Z"
   },
   {
    "duration": 16,
    "start_time": "2022-08-06T10:26:47.403Z"
   },
   {
    "duration": 19,
    "start_time": "2022-08-06T10:26:47.421Z"
   },
   {
    "duration": 25,
    "start_time": "2022-08-06T10:26:47.469Z"
   },
   {
    "duration": 1367,
    "start_time": "2022-08-06T10:26:47.496Z"
   },
   {
    "duration": 0,
    "start_time": "2022-08-06T10:26:48.865Z"
   },
   {
    "duration": 13,
    "start_time": "2022-08-06T10:26:55.548Z"
   },
   {
    "duration": 15,
    "start_time": "2022-08-06T10:27:20.599Z"
   },
   {
    "duration": 17,
    "start_time": "2022-08-06T10:27:21.092Z"
   },
   {
    "duration": 17,
    "start_time": "2022-08-06T10:32:19.794Z"
   },
   {
    "duration": 33,
    "start_time": "2022-08-06T10:33:17.045Z"
   },
   {
    "duration": 11,
    "start_time": "2022-08-06T10:33:25.344Z"
   },
   {
    "duration": 9,
    "start_time": "2022-08-06T10:34:07.582Z"
   },
   {
    "duration": 14,
    "start_time": "2022-08-06T10:34:58.357Z"
   },
   {
    "duration": 571,
    "start_time": "2022-08-06T10:35:55.343Z"
   },
   {
    "duration": 667,
    "start_time": "2022-08-06T10:36:07.124Z"
   },
   {
    "duration": 34,
    "start_time": "2022-08-06T10:36:16.820Z"
   },
   {
    "duration": 4,
    "start_time": "2022-08-06T10:37:26.560Z"
   },
   {
    "duration": 376,
    "start_time": "2022-08-06T10:37:26.568Z"
   },
   {
    "duration": 59,
    "start_time": "2022-08-06T10:37:26.946Z"
   },
   {
    "duration": 105,
    "start_time": "2022-08-06T10:37:27.007Z"
   },
   {
    "duration": 84,
    "start_time": "2022-08-06T10:37:27.114Z"
   },
   {
    "duration": 86,
    "start_time": "2022-08-06T10:37:27.200Z"
   },
   {
    "duration": 29,
    "start_time": "2022-08-06T10:37:27.289Z"
   },
   {
    "duration": 24,
    "start_time": "2022-08-06T10:37:27.320Z"
   },
   {
    "duration": 14,
    "start_time": "2022-08-06T10:37:27.346Z"
   },
   {
    "duration": 81,
    "start_time": "2022-08-06T10:37:27.363Z"
   },
   {
    "duration": 34,
    "start_time": "2022-08-06T10:37:27.446Z"
   },
   {
    "duration": 28,
    "start_time": "2022-08-06T10:37:27.482Z"
   },
   {
    "duration": 3,
    "start_time": "2022-08-06T10:37:27.512Z"
   },
   {
    "duration": 20,
    "start_time": "2022-08-06T10:38:40.743Z"
   },
   {
    "duration": 29,
    "start_time": "2022-08-06T10:38:59.886Z"
   },
   {
    "duration": 40,
    "start_time": "2022-08-06T10:44:32.257Z"
   },
   {
    "duration": 28,
    "start_time": "2022-08-06T10:44:48.531Z"
   },
   {
    "duration": 38,
    "start_time": "2022-08-06T10:44:58.495Z"
   },
   {
    "duration": 44,
    "start_time": "2022-08-06T10:45:06.615Z"
   },
   {
    "duration": 35,
    "start_time": "2022-08-06T10:45:11.493Z"
   },
   {
    "duration": 30,
    "start_time": "2022-08-06T10:46:04.485Z"
   },
   {
    "duration": 27,
    "start_time": "2022-08-06T10:46:20.222Z"
   },
   {
    "duration": 10,
    "start_time": "2022-08-06T10:50:18.520Z"
   },
   {
    "duration": 9,
    "start_time": "2022-08-06T10:50:34.883Z"
   },
   {
    "duration": 8,
    "start_time": "2022-08-06T10:50:38.257Z"
   },
   {
    "duration": 16,
    "start_time": "2022-08-06T10:55:48.911Z"
   },
   {
    "duration": 15,
    "start_time": "2022-08-06T10:55:54.101Z"
   },
   {
    "duration": 15,
    "start_time": "2022-08-06T10:56:01.231Z"
   },
   {
    "duration": 17,
    "start_time": "2022-08-06T10:56:10.217Z"
   },
   {
    "duration": 13,
    "start_time": "2022-08-06T10:57:35.238Z"
   },
   {
    "duration": 15,
    "start_time": "2022-08-06T10:57:45.549Z"
   },
   {
    "duration": 14,
    "start_time": "2022-08-06T10:57:53.288Z"
   },
   {
    "duration": 1226,
    "start_time": "2022-08-06T10:58:00.697Z"
   },
   {
    "duration": 313,
    "start_time": "2022-08-06T10:58:01.926Z"
   },
   {
    "duration": 63,
    "start_time": "2022-08-06T10:58:02.241Z"
   },
   {
    "duration": 114,
    "start_time": "2022-08-06T10:58:02.306Z"
   },
   {
    "duration": 103,
    "start_time": "2022-08-06T10:58:02.421Z"
   },
   {
    "duration": 88,
    "start_time": "2022-08-06T10:58:02.527Z"
   },
   {
    "duration": 52,
    "start_time": "2022-08-06T10:58:02.617Z"
   },
   {
    "duration": 24,
    "start_time": "2022-08-06T10:58:02.671Z"
   },
   {
    "duration": 18,
    "start_time": "2022-08-06T10:58:02.697Z"
   },
   {
    "duration": 30,
    "start_time": "2022-08-06T10:58:07.467Z"
   },
   {
    "duration": 4,
    "start_time": "2022-08-06T11:08:41.125Z"
   },
   {
    "duration": 111,
    "start_time": "2022-08-06T11:10:08.719Z"
   },
   {
    "duration": 24,
    "start_time": "2022-08-06T11:10:46.519Z"
   },
   {
    "duration": 20,
    "start_time": "2022-08-06T11:10:55.957Z"
   },
   {
    "duration": 15,
    "start_time": "2022-08-06T11:11:09.165Z"
   },
   {
    "duration": 21,
    "start_time": "2022-08-06T11:11:15.837Z"
   },
   {
    "duration": 16,
    "start_time": "2022-08-06T11:11:17.856Z"
   },
   {
    "duration": 15,
    "start_time": "2022-08-06T11:11:36.795Z"
   },
   {
    "duration": 17,
    "start_time": "2022-08-06T11:11:52.923Z"
   },
   {
    "duration": 18,
    "start_time": "2022-08-06T11:11:56.357Z"
   },
   {
    "duration": 1297,
    "start_time": "2022-08-07T07:03:09.576Z"
   },
   {
    "duration": 671,
    "start_time": "2022-08-07T07:03:10.876Z"
   },
   {
    "duration": 62,
    "start_time": "2022-08-07T07:03:11.549Z"
   },
   {
    "duration": 94,
    "start_time": "2022-08-07T07:03:11.613Z"
   },
   {
    "duration": 91,
    "start_time": "2022-08-07T07:03:11.709Z"
   },
   {
    "duration": 70,
    "start_time": "2022-08-07T07:03:11.802Z"
   },
   {
    "duration": 45,
    "start_time": "2022-08-07T07:03:11.874Z"
   },
   {
    "duration": 17,
    "start_time": "2022-08-07T07:03:11.920Z"
   },
   {
    "duration": 14,
    "start_time": "2022-08-07T07:03:11.939Z"
   },
   {
    "duration": 4,
    "start_time": "2022-08-07T07:03:11.954Z"
   },
   {
    "duration": 12,
    "start_time": "2022-08-07T09:28:38.398Z"
   },
   {
    "duration": 4,
    "start_time": "2022-08-07T09:30:10.050Z"
   },
   {
    "duration": 15,
    "start_time": "2022-08-07T09:30:20.954Z"
   },
   {
    "duration": 13,
    "start_time": "2022-08-07T09:30:46.861Z"
   },
   {
    "duration": 4,
    "start_time": "2022-08-07T09:30:54.493Z"
   },
   {
    "duration": 8,
    "start_time": "2022-08-07T09:33:21.312Z"
   },
   {
    "duration": 11,
    "start_time": "2022-08-07T09:33:25.105Z"
   },
   {
    "duration": 8,
    "start_time": "2022-08-07T09:33:28.622Z"
   },
   {
    "duration": 7,
    "start_time": "2022-08-07T09:38:43.100Z"
   },
   {
    "duration": 14,
    "start_time": "2022-08-07T09:38:47.547Z"
   },
   {
    "duration": 9,
    "start_time": "2022-08-07T09:38:52.414Z"
   },
   {
    "duration": 9,
    "start_time": "2022-08-07T09:41:37.436Z"
   },
   {
    "duration": 11,
    "start_time": "2022-08-07T09:41:40.686Z"
   },
   {
    "duration": 18,
    "start_time": "2022-08-07T09:41:47.951Z"
   },
   {
    "duration": 26,
    "start_time": "2022-08-07T09:41:50.732Z"
   },
   {
    "duration": 8,
    "start_time": "2022-08-07T09:41:58.803Z"
   },
   {
    "duration": 19,
    "start_time": "2022-08-07T09:42:12.122Z"
   },
   {
    "duration": 111,
    "start_time": "2022-08-07T09:42:28.706Z"
   },
   {
    "duration": 45,
    "start_time": "2022-08-07T09:42:34.688Z"
   },
   {
    "duration": 34,
    "start_time": "2022-08-07T09:43:11.442Z"
   },
   {
    "duration": 45,
    "start_time": "2022-08-07T09:43:29.138Z"
   },
   {
    "duration": 77,
    "start_time": "2022-08-07T09:43:38.963Z"
   },
   {
    "duration": 31,
    "start_time": "2022-08-07T09:43:45.086Z"
   },
   {
    "duration": 21,
    "start_time": "2022-08-07T09:43:47.373Z"
   },
   {
    "duration": 9,
    "start_time": "2022-08-07T09:43:57.539Z"
   },
   {
    "duration": 36,
    "start_time": "2022-08-07T09:45:10.666Z"
   },
   {
    "duration": 17,
    "start_time": "2022-08-07T09:45:10.961Z"
   },
   {
    "duration": 52,
    "start_time": "2022-08-07T09:46:13.891Z"
   },
   {
    "duration": 15,
    "start_time": "2022-08-07T09:47:40.006Z"
   },
   {
    "duration": 15,
    "start_time": "2022-08-07T09:47:56.788Z"
   },
   {
    "duration": 14,
    "start_time": "2022-08-07T09:48:22.694Z"
   },
   {
    "duration": 11,
    "start_time": "2022-08-07T09:48:36.194Z"
   },
   {
    "duration": 12,
    "start_time": "2022-08-07T09:48:53.350Z"
   },
   {
    "duration": 8,
    "start_time": "2022-08-07T09:49:08.711Z"
   },
   {
    "duration": 7,
    "start_time": "2022-08-07T09:49:40.452Z"
   },
   {
    "duration": 7,
    "start_time": "2022-08-07T09:49:48.059Z"
   },
   {
    "duration": 6,
    "start_time": "2022-08-07T09:50:15.123Z"
   },
   {
    "duration": 8,
    "start_time": "2022-08-07T09:50:27.428Z"
   },
   {
    "duration": 20,
    "start_time": "2022-08-07T09:51:15.863Z"
   },
   {
    "duration": 19,
    "start_time": "2022-08-07T09:51:41.583Z"
   },
   {
    "duration": 21,
    "start_time": "2022-08-07T09:51:53.430Z"
   },
   {
    "duration": 19,
    "start_time": "2022-08-07T09:52:00.983Z"
   },
   {
    "duration": 4361,
    "start_time": "2022-08-07T09:52:17.493Z"
   },
   {
    "duration": 4127,
    "start_time": "2022-08-07T09:52:40.957Z"
   },
   {
    "duration": 4051,
    "start_time": "2022-08-07T09:52:47.751Z"
   },
   {
    "duration": 12,
    "start_time": "2022-08-07T09:54:44.841Z"
   },
   {
    "duration": 4159,
    "start_time": "2022-08-07T09:56:30.659Z"
   },
   {
    "duration": 10,
    "start_time": "2022-08-07T09:56:36.370Z"
   },
   {
    "duration": 15,
    "start_time": "2022-08-07T09:57:39.436Z"
   },
   {
    "duration": 15,
    "start_time": "2022-08-07T09:57:46.369Z"
   },
   {
    "duration": 11,
    "start_time": "2022-08-07T09:57:51.276Z"
   },
   {
    "duration": 11,
    "start_time": "2022-08-07T09:58:05.679Z"
   },
   {
    "duration": 11,
    "start_time": "2022-08-07T09:58:11.776Z"
   },
   {
    "duration": 9,
    "start_time": "2022-08-07T09:58:18.505Z"
   },
   {
    "duration": 9,
    "start_time": "2022-08-07T09:58:41.951Z"
   },
   {
    "duration": 6,
    "start_time": "2022-08-07T09:59:40.959Z"
   },
   {
    "duration": 11,
    "start_time": "2022-08-07T09:59:46.168Z"
   },
   {
    "duration": 11,
    "start_time": "2022-08-07T10:00:16.129Z"
   },
   {
    "duration": 12,
    "start_time": "2022-08-07T10:01:05.577Z"
   },
   {
    "duration": 11,
    "start_time": "2022-08-07T10:01:22.648Z"
   },
   {
    "duration": 13,
    "start_time": "2022-08-07T10:01:22.822Z"
   },
   {
    "duration": 10,
    "start_time": "2022-08-07T10:04:35.828Z"
   },
   {
    "duration": 11,
    "start_time": "2022-08-07T10:04:54.151Z"
   },
   {
    "duration": 3958,
    "start_time": "2022-08-07T10:08:12.826Z"
   },
   {
    "duration": 15,
    "start_time": "2022-08-07T10:08:16.786Z"
   },
   {
    "duration": 11,
    "start_time": "2022-08-07T10:08:44.509Z"
   },
   {
    "duration": 210,
    "start_time": "2022-08-07T10:08:44.696Z"
   },
   {
    "duration": 6,
    "start_time": "2022-08-07T10:08:58.447Z"
   },
   {
    "duration": 9,
    "start_time": "2022-08-07T10:09:19.149Z"
   },
   {
    "duration": 1082,
    "start_time": "2022-08-07T10:09:34.179Z"
   },
   {
    "duration": 252,
    "start_time": "2022-08-07T10:09:35.262Z"
   },
   {
    "duration": 43,
    "start_time": "2022-08-07T10:09:35.516Z"
   },
   {
    "duration": 98,
    "start_time": "2022-08-07T10:09:35.560Z"
   },
   {
    "duration": 81,
    "start_time": "2022-08-07T10:09:35.660Z"
   },
   {
    "duration": 70,
    "start_time": "2022-08-07T10:09:35.743Z"
   },
   {
    "duration": 31,
    "start_time": "2022-08-07T10:09:35.814Z"
   },
   {
    "duration": 21,
    "start_time": "2022-08-07T10:09:35.847Z"
   },
   {
    "duration": 103,
    "start_time": "2022-08-07T10:09:35.869Z"
   },
   {
    "duration": 0,
    "start_time": "2022-08-07T10:09:35.973Z"
   },
   {
    "duration": 0,
    "start_time": "2022-08-07T10:09:35.975Z"
   },
   {
    "duration": 0,
    "start_time": "2022-08-07T10:09:35.975Z"
   },
   {
    "duration": 0,
    "start_time": "2022-08-07T10:09:35.976Z"
   },
   {
    "duration": 0,
    "start_time": "2022-08-07T10:09:35.977Z"
   },
   {
    "duration": 0,
    "start_time": "2022-08-07T10:09:35.978Z"
   },
   {
    "duration": 0,
    "start_time": "2022-08-07T10:09:35.979Z"
   },
   {
    "duration": 0,
    "start_time": "2022-08-07T10:09:35.980Z"
   },
   {
    "duration": 12,
    "start_time": "2022-08-07T10:10:09.958Z"
   },
   {
    "duration": 4,
    "start_time": "2022-08-07T10:10:13.944Z"
   },
   {
    "duration": 93,
    "start_time": "2022-08-07T10:10:13.950Z"
   },
   {
    "duration": 4034,
    "start_time": "2022-08-07T10:10:14.046Z"
   },
   {
    "duration": 8,
    "start_time": "2022-08-07T10:10:18.082Z"
   },
   {
    "duration": 11,
    "start_time": "2022-08-07T10:10:18.099Z"
   },
   {
    "duration": 9,
    "start_time": "2022-08-07T10:10:18.111Z"
   },
   {
    "duration": 0,
    "start_time": "2022-08-07T10:10:18.122Z"
   },
   {
    "duration": 0,
    "start_time": "2022-08-07T10:10:18.123Z"
   },
   {
    "duration": 10,
    "start_time": "2022-08-07T10:10:41.763Z"
   },
   {
    "duration": 2008,
    "start_time": "2022-08-07T10:11:58.584Z"
   },
   {
    "duration": 14,
    "start_time": "2022-08-07T10:12:00.594Z"
   },
   {
    "duration": 9,
    "start_time": "2022-08-07T10:12:10.123Z"
   },
   {
    "duration": 7,
    "start_time": "2022-08-07T10:12:42.521Z"
   },
   {
    "duration": 8,
    "start_time": "2022-08-07T10:13:05.064Z"
   },
   {
    "duration": 6,
    "start_time": "2022-08-07T10:13:25.871Z"
   },
   {
    "duration": 17,
    "start_time": "2022-08-07T10:13:37.345Z"
   },
   {
    "duration": 21,
    "start_time": "2022-08-07T10:13:44.514Z"
   },
   {
    "duration": 12,
    "start_time": "2022-08-07T10:14:18.353Z"
   },
   {
    "duration": 11,
    "start_time": "2022-08-07T10:14:25.165Z"
   },
   {
    "duration": 18,
    "start_time": "2022-08-07T10:19:04.195Z"
   },
   {
    "duration": 15,
    "start_time": "2022-08-07T10:19:22.942Z"
   },
   {
    "duration": 11,
    "start_time": "2022-08-07T10:44:32.063Z"
   },
   {
    "duration": 15,
    "start_time": "2022-08-07T10:44:58.570Z"
   },
   {
    "duration": 19,
    "start_time": "2022-08-07T10:45:20.224Z"
   },
   {
    "duration": 18,
    "start_time": "2022-08-07T10:45:27.203Z"
   },
   {
    "duration": 16,
    "start_time": "2022-08-07T10:46:04.636Z"
   },
   {
    "duration": 11,
    "start_time": "2022-08-07T10:46:26.154Z"
   },
   {
    "duration": 11,
    "start_time": "2022-08-07T10:46:37.799Z"
   },
   {
    "duration": 13,
    "start_time": "2022-08-07T10:46:46.888Z"
   },
   {
    "duration": 9,
    "start_time": "2022-08-07T10:46:55.966Z"
   },
   {
    "duration": 13,
    "start_time": "2022-08-07T10:47:01.312Z"
   },
   {
    "duration": 11,
    "start_time": "2022-08-07T10:48:18.591Z"
   },
   {
    "duration": 9,
    "start_time": "2022-08-07T10:48:59.241Z"
   },
   {
    "duration": 18,
    "start_time": "2022-08-07T10:49:07.087Z"
   },
   {
    "duration": 23,
    "start_time": "2022-08-07T10:51:10.625Z"
   },
   {
    "duration": 24,
    "start_time": "2022-08-07T10:51:49.221Z"
   },
   {
    "duration": 29,
    "start_time": "2022-08-07T10:51:56.230Z"
   },
   {
    "duration": 23,
    "start_time": "2022-08-07T10:52:08.019Z"
   },
   {
    "duration": 30,
    "start_time": "2022-08-07T10:52:26.547Z"
   },
   {
    "duration": 37,
    "start_time": "2022-08-07T10:52:31.490Z"
   },
   {
    "duration": 27,
    "start_time": "2022-08-07T10:53:02.960Z"
   },
   {
    "duration": 752,
    "start_time": "2022-08-07T10:54:51.059Z"
   },
   {
    "duration": 25,
    "start_time": "2022-08-07T10:55:05.365Z"
   },
   {
    "duration": 798,
    "start_time": "2022-08-07T10:55:11.063Z"
   },
   {
    "duration": 26,
    "start_time": "2022-08-07T10:55:36.166Z"
   },
   {
    "duration": 31,
    "start_time": "2022-08-07T10:55:52.916Z"
   },
   {
    "duration": 28,
    "start_time": "2022-08-07T10:55:58.866Z"
   },
   {
    "duration": 32,
    "start_time": "2022-08-07T10:56:02.977Z"
   },
   {
    "duration": 11,
    "start_time": "2022-08-07T10:57:37.842Z"
   },
   {
    "duration": 23,
    "start_time": "2022-08-07T10:57:59.153Z"
   },
   {
    "duration": 26,
    "start_time": "2022-08-07T10:58:05.172Z"
   },
   {
    "duration": 29,
    "start_time": "2022-08-07T10:58:59.503Z"
   },
   {
    "duration": 54,
    "start_time": "2022-08-07T11:04:06.439Z"
   },
   {
    "duration": 120,
    "start_time": "2022-08-07T11:04:09.664Z"
   },
   {
    "duration": 82,
    "start_time": "2022-08-07T11:05:06.523Z"
   },
   {
    "duration": 459,
    "start_time": "2022-08-07T11:05:13.296Z"
   },
   {
    "duration": 24,
    "start_time": "2022-08-07T11:06:25.922Z"
   },
   {
    "duration": 72,
    "start_time": "2022-08-07T11:06:34.953Z"
   },
   {
    "duration": 16,
    "start_time": "2022-08-07T11:06:39.905Z"
   },
   {
    "duration": 3,
    "start_time": "2022-08-07T11:09:18.350Z"
   },
   {
    "duration": 13,
    "start_time": "2022-08-07T11:09:21.829Z"
   },
   {
    "duration": 5,
    "start_time": "2022-08-07T12:17:25.586Z"
   },
   {
    "duration": 11,
    "start_time": "2022-08-07T12:18:56.572Z"
   },
   {
    "duration": 12,
    "start_time": "2022-08-07T12:18:59.395Z"
   },
   {
    "duration": 8,
    "start_time": "2022-08-07T12:19:25.065Z"
   },
   {
    "duration": 9,
    "start_time": "2022-08-07T12:19:42.726Z"
   },
   {
    "duration": 40,
    "start_time": "2022-08-07T12:19:59.220Z"
   },
   {
    "duration": 33,
    "start_time": "2022-08-07T12:22:10.351Z"
   },
   {
    "duration": 41,
    "start_time": "2022-08-07T12:22:45.169Z"
   },
   {
    "duration": 1113,
    "start_time": "2022-08-07T12:22:49.371Z"
   },
   {
    "duration": 269,
    "start_time": "2022-08-07T12:22:50.486Z"
   },
   {
    "duration": 46,
    "start_time": "2022-08-07T12:22:50.756Z"
   },
   {
    "duration": 82,
    "start_time": "2022-08-07T12:22:50.803Z"
   },
   {
    "duration": 99,
    "start_time": "2022-08-07T12:22:50.886Z"
   },
   {
    "duration": 85,
    "start_time": "2022-08-07T12:22:50.986Z"
   },
   {
    "duration": 43,
    "start_time": "2022-08-07T12:22:51.073Z"
   },
   {
    "duration": 15,
    "start_time": "2022-08-07T12:22:51.118Z"
   },
   {
    "duration": 14,
    "start_time": "2022-08-07T12:22:51.135Z"
   },
   {
    "duration": 84,
    "start_time": "2022-08-07T12:22:51.151Z"
   },
   {
    "duration": 46,
    "start_time": "2022-08-07T12:22:51.237Z"
   },
   {
    "duration": 34,
    "start_time": "2022-08-07T12:22:51.285Z"
   },
   {
    "duration": 540,
    "start_time": "2022-08-07T12:22:51.321Z"
   },
   {
    "duration": 18,
    "start_time": "2022-08-07T12:22:51.899Z"
   },
   {
    "duration": 118,
    "start_time": "2022-08-07T12:22:51.918Z"
   },
   {
    "duration": 4380,
    "start_time": "2022-08-07T12:22:52.038Z"
   },
   {
    "duration": 30,
    "start_time": "2022-08-07T12:22:56.420Z"
   },
   {
    "duration": 2163,
    "start_time": "2022-08-07T12:22:56.451Z"
   },
   {
    "duration": 18,
    "start_time": "2022-08-07T12:22:58.615Z"
   },
   {
    "duration": 14,
    "start_time": "2022-08-07T12:22:58.634Z"
   },
   {
    "duration": 13,
    "start_time": "2022-08-07T12:22:58.649Z"
   },
   {
    "duration": 137,
    "start_time": "2022-08-07T12:23:27.958Z"
   },
   {
    "duration": 10,
    "start_time": "2022-08-07T12:23:43.160Z"
   },
   {
    "duration": 34,
    "start_time": "2022-08-07T12:23:45.792Z"
   },
   {
    "duration": 123,
    "start_time": "2022-08-07T12:23:46.020Z"
   },
   {
    "duration": 19,
    "start_time": "2022-08-07T12:25:09.078Z"
   },
   {
    "duration": 20,
    "start_time": "2022-08-07T12:25:30.942Z"
   },
   {
    "duration": 21,
    "start_time": "2022-08-07T12:25:43.554Z"
   },
   {
    "duration": 20,
    "start_time": "2022-08-07T12:25:49.323Z"
   },
   {
    "duration": 20,
    "start_time": "2022-08-07T12:25:54.221Z"
   },
   {
    "duration": 11,
    "start_time": "2022-08-07T12:26:24.945Z"
   },
   {
    "duration": 11,
    "start_time": "2022-08-07T12:26:49.050Z"
   },
   {
    "duration": 24,
    "start_time": "2022-08-07T12:27:31.746Z"
   },
   {
    "duration": 43,
    "start_time": "2022-08-07T12:27:32.175Z"
   },
   {
    "duration": 34,
    "start_time": "2022-08-07T12:27:35.178Z"
   },
   {
    "duration": 119,
    "start_time": "2022-08-07T12:27:35.450Z"
   },
   {
    "duration": 10,
    "start_time": "2022-08-07T12:28:34.887Z"
   },
   {
    "duration": 33,
    "start_time": "2022-08-07T12:29:08.707Z"
   },
   {
    "duration": 13,
    "start_time": "2022-08-07T14:14:59.793Z"
   },
   {
    "duration": 5845,
    "start_time": "2022-08-07T14:15:03.398Z"
   },
   {
    "duration": 30,
    "start_time": "2022-08-07T14:15:11.647Z"
   },
   {
    "duration": 35,
    "start_time": "2022-08-07T14:15:20.780Z"
   },
   {
    "duration": 13,
    "start_time": "2022-08-07T14:15:35.691Z"
   },
   {
    "duration": 10,
    "start_time": "2022-08-07T14:15:40.831Z"
   },
   {
    "duration": 38,
    "start_time": "2022-08-07T14:16:57.503Z"
   },
   {
    "duration": 32,
    "start_time": "2022-08-07T14:17:14.890Z"
   },
   {
    "duration": 6,
    "start_time": "2022-08-07T14:17:24.516Z"
   },
   {
    "duration": 32,
    "start_time": "2022-08-07T14:17:29.861Z"
   },
   {
    "duration": 1155,
    "start_time": "2022-08-07T14:17:33.775Z"
   },
   {
    "duration": 264,
    "start_time": "2022-08-07T14:17:34.933Z"
   },
   {
    "duration": 43,
    "start_time": "2022-08-07T14:17:35.201Z"
   },
   {
    "duration": 92,
    "start_time": "2022-08-07T14:17:35.246Z"
   },
   {
    "duration": 87,
    "start_time": "2022-08-07T14:17:35.340Z"
   },
   {
    "duration": 74,
    "start_time": "2022-08-07T14:17:35.429Z"
   },
   {
    "duration": 32,
    "start_time": "2022-08-07T14:17:35.504Z"
   },
   {
    "duration": 15,
    "start_time": "2022-08-07T14:17:35.537Z"
   },
   {
    "duration": 13,
    "start_time": "2022-08-07T14:17:35.553Z"
   },
   {
    "duration": 77,
    "start_time": "2022-08-07T14:17:35.567Z"
   },
   {
    "duration": 34,
    "start_time": "2022-08-07T14:17:35.646Z"
   },
   {
    "duration": 95,
    "start_time": "2022-08-07T14:17:35.682Z"
   },
   {
    "duration": 0,
    "start_time": "2022-08-07T14:17:35.778Z"
   },
   {
    "duration": 0,
    "start_time": "2022-08-07T14:17:35.780Z"
   },
   {
    "duration": 0,
    "start_time": "2022-08-07T14:17:35.781Z"
   },
   {
    "duration": 0,
    "start_time": "2022-08-07T14:17:35.782Z"
   },
   {
    "duration": 0,
    "start_time": "2022-08-07T14:17:35.783Z"
   },
   {
    "duration": 0,
    "start_time": "2022-08-07T14:17:35.784Z"
   },
   {
    "duration": 40,
    "start_time": "2022-08-07T14:18:05.538Z"
   },
   {
    "duration": 541,
    "start_time": "2022-08-07T14:18:11.170Z"
   },
   {
    "duration": 23,
    "start_time": "2022-08-07T14:18:17.338Z"
   },
   {
    "duration": 6045,
    "start_time": "2022-08-07T14:18:17.362Z"
   },
   {
    "duration": 7,
    "start_time": "2022-08-07T14:18:23.409Z"
   },
   {
    "duration": 36,
    "start_time": "2022-08-07T14:18:23.417Z"
   },
   {
    "duration": 70,
    "start_time": "2022-08-07T14:18:23.455Z"
   },
   {
    "duration": 0,
    "start_time": "2022-08-07T14:18:23.526Z"
   },
   {
    "duration": 80,
    "start_time": "2022-08-07T14:19:02.995Z"
   },
   {
    "duration": 13,
    "start_time": "2022-08-07T14:19:29.035Z"
   },
   {
    "duration": 60,
    "start_time": "2022-08-07T14:21:11.669Z"
   },
   {
    "duration": 13,
    "start_time": "2022-08-07T14:21:24.956Z"
   },
   {
    "duration": 14,
    "start_time": "2022-08-07T14:21:32.129Z"
   },
   {
    "duration": 14,
    "start_time": "2022-08-07T14:22:07.543Z"
   },
   {
    "duration": 12,
    "start_time": "2022-08-07T14:22:15.267Z"
   },
   {
    "duration": 12,
    "start_time": "2022-08-07T14:30:51.711Z"
   },
   {
    "duration": 5,
    "start_time": "2022-08-07T14:34:37.532Z"
   },
   {
    "duration": 11,
    "start_time": "2022-08-07T14:35:47.288Z"
   },
   {
    "duration": 14,
    "start_time": "2022-08-07T14:42:59.945Z"
   },
   {
    "duration": 13,
    "start_time": "2022-08-07T14:43:34.445Z"
   },
   {
    "duration": 9,
    "start_time": "2022-08-07T14:44:11.885Z"
   },
   {
    "duration": 16,
    "start_time": "2022-08-07T14:44:13.897Z"
   },
   {
    "duration": 21,
    "start_time": "2022-08-07T14:52:31.591Z"
   },
   {
    "duration": 59,
    "start_time": "2022-08-07T14:53:42.082Z"
   },
   {
    "duration": 38,
    "start_time": "2022-08-07T14:53:49.605Z"
   },
   {
    "duration": 22,
    "start_time": "2022-08-07T14:53:55.763Z"
   },
   {
    "duration": 18,
    "start_time": "2022-08-07T14:56:04.853Z"
   },
   {
    "duration": 22,
    "start_time": "2022-08-07T14:56:26.959Z"
   },
   {
    "duration": 75,
    "start_time": "2022-08-07T15:03:53.147Z"
   },
   {
    "duration": 39,
    "start_time": "2022-08-07T15:03:59.885Z"
   },
   {
    "duration": 12,
    "start_time": "2022-08-07T15:04:55.410Z"
   },
   {
    "duration": 13,
    "start_time": "2022-08-07T15:06:57.727Z"
   },
   {
    "duration": 8,
    "start_time": "2022-08-07T15:12:38.520Z"
   },
   {
    "duration": 13,
    "start_time": "2022-08-07T15:12:53.411Z"
   },
   {
    "duration": 33,
    "start_time": "2022-08-07T15:16:07.166Z"
   },
   {
    "duration": 1143,
    "start_time": "2022-08-07T15:16:39.406Z"
   },
   {
    "duration": 252,
    "start_time": "2022-08-07T15:16:40.552Z"
   },
   {
    "duration": 41,
    "start_time": "2022-08-07T15:16:40.808Z"
   },
   {
    "duration": 96,
    "start_time": "2022-08-07T15:16:40.850Z"
   },
   {
    "duration": 81,
    "start_time": "2022-08-07T15:16:40.947Z"
   },
   {
    "duration": 61,
    "start_time": "2022-08-07T15:16:41.030Z"
   },
   {
    "duration": 32,
    "start_time": "2022-08-07T15:16:41.099Z"
   },
   {
    "duration": 33,
    "start_time": "2022-08-07T15:16:41.133Z"
   },
   {
    "duration": 14,
    "start_time": "2022-08-07T15:16:41.168Z"
   },
   {
    "duration": 60,
    "start_time": "2022-08-07T15:16:41.183Z"
   },
   {
    "duration": 556,
    "start_time": "2022-08-07T15:16:41.244Z"
   },
   {
    "duration": 21,
    "start_time": "2022-08-07T15:16:41.802Z"
   },
   {
    "duration": 7,
    "start_time": "2022-08-07T15:16:41.825Z"
   },
   {
    "duration": 12,
    "start_time": "2022-08-07T15:16:41.834Z"
   },
   {
    "duration": 39,
    "start_time": "2022-08-07T15:16:41.900Z"
   },
   {
    "duration": 14,
    "start_time": "2022-08-07T15:18:40.303Z"
   },
   {
    "duration": 85,
    "start_time": "2022-08-07T15:19:21.612Z"
   },
   {
    "duration": 132,
    "start_time": "2022-08-07T15:19:37.321Z"
   },
   {
    "duration": 43,
    "start_time": "2022-08-07T15:19:52.391Z"
   },
   {
    "duration": 25,
    "start_time": "2022-08-07T15:20:28.052Z"
   },
   {
    "duration": 12,
    "start_time": "2022-08-07T15:20:30.670Z"
   },
   {
    "duration": 19,
    "start_time": "2022-08-07T15:21:22.823Z"
   },
   {
    "duration": 5,
    "start_time": "2022-08-07T15:21:24.968Z"
   },
   {
    "duration": 21,
    "start_time": "2022-08-07T15:21:32.142Z"
   },
   {
    "duration": 7,
    "start_time": "2022-08-07T15:21:32.799Z"
   },
   {
    "duration": 37,
    "start_time": "2022-08-07T15:22:28.395Z"
   },
   {
    "duration": 6,
    "start_time": "2022-08-07T15:22:32.571Z"
   },
   {
    "duration": 56,
    "start_time": "2022-08-07T15:22:55.903Z"
   },
   {
    "duration": 20,
    "start_time": "2022-08-07T15:23:03.190Z"
   },
   {
    "duration": 6,
    "start_time": "2022-08-07T15:23:04.230Z"
   },
   {
    "duration": 20,
    "start_time": "2022-08-07T15:23:20.896Z"
   },
   {
    "duration": 6,
    "start_time": "2022-08-07T15:23:21.246Z"
   },
   {
    "duration": 34,
    "start_time": "2022-08-07T15:23:26.966Z"
   },
   {
    "duration": 7,
    "start_time": "2022-08-07T15:23:32.377Z"
   },
   {
    "duration": 12,
    "start_time": "2022-08-07T15:23:49.789Z"
   },
   {
    "duration": 14,
    "start_time": "2022-08-07T15:23:54.331Z"
   },
   {
    "duration": 8,
    "start_time": "2022-08-07T15:23:56.024Z"
   },
   {
    "duration": 10,
    "start_time": "2022-08-07T15:24:03.041Z"
   },
   {
    "duration": 8,
    "start_time": "2022-08-07T15:24:08.266Z"
   },
   {
    "duration": 9,
    "start_time": "2022-08-07T15:26:49.343Z"
   },
   {
    "duration": 5,
    "start_time": "2022-08-07T15:27:00.893Z"
   },
   {
    "duration": 9,
    "start_time": "2022-08-07T15:29:27.540Z"
   },
   {
    "duration": 11,
    "start_time": "2022-08-07T15:30:28.411Z"
   },
   {
    "duration": 12,
    "start_time": "2022-08-07T15:30:30.578Z"
   },
   {
    "duration": 10,
    "start_time": "2022-08-07T15:30:48.832Z"
   },
   {
    "duration": 8,
    "start_time": "2022-08-07T15:30:51.850Z"
   },
   {
    "duration": 12,
    "start_time": "2022-08-07T15:30:56.484Z"
   },
   {
    "duration": 9,
    "start_time": "2022-08-07T15:32:43.114Z"
   },
   {
    "duration": 15,
    "start_time": "2022-08-07T15:32:57.238Z"
   },
   {
    "duration": 14,
    "start_time": "2022-08-07T15:33:04.056Z"
   },
   {
    "duration": 17,
    "start_time": "2022-08-07T15:33:12.073Z"
   },
   {
    "duration": 14,
    "start_time": "2022-08-07T15:33:42.364Z"
   },
   {
    "duration": 15,
    "start_time": "2022-08-07T15:58:06.697Z"
   },
   {
    "duration": 11,
    "start_time": "2022-08-07T15:59:43.062Z"
   },
   {
    "duration": 16,
    "start_time": "2022-08-07T16:00:12.980Z"
   },
   {
    "duration": 4,
    "start_time": "2022-08-07T16:02:18.130Z"
   },
   {
    "duration": 15,
    "start_time": "2022-08-07T16:02:20.863Z"
   },
   {
    "duration": 11,
    "start_time": "2022-08-07T16:03:13.946Z"
   },
   {
    "duration": 14,
    "start_time": "2022-08-07T16:03:16.266Z"
   },
   {
    "duration": 38,
    "start_time": "2022-08-07T16:03:32.570Z"
   },
   {
    "duration": 9,
    "start_time": "2022-08-07T16:03:43.522Z"
   },
   {
    "duration": 9,
    "start_time": "2022-08-07T16:04:36.580Z"
   },
   {
    "duration": 43,
    "start_time": "2022-08-07T16:04:57.890Z"
   },
   {
    "duration": 35,
    "start_time": "2022-08-07T16:04:59.167Z"
   },
   {
    "duration": 9,
    "start_time": "2022-08-07T16:05:03.060Z"
   },
   {
    "duration": 16,
    "start_time": "2022-08-07T16:05:05.488Z"
   },
   {
    "duration": 1158,
    "start_time": "2022-08-07T16:11:30.291Z"
   },
   {
    "duration": 285,
    "start_time": "2022-08-07T16:11:31.452Z"
   },
   {
    "duration": 61,
    "start_time": "2022-08-07T16:11:31.739Z"
   },
   {
    "duration": 80,
    "start_time": "2022-08-07T16:11:31.803Z"
   },
   {
    "duration": 91,
    "start_time": "2022-08-07T16:11:31.885Z"
   },
   {
    "duration": 84,
    "start_time": "2022-08-07T16:11:31.978Z"
   },
   {
    "duration": 43,
    "start_time": "2022-08-07T16:11:32.063Z"
   },
   {
    "duration": 15,
    "start_time": "2022-08-07T16:11:32.108Z"
   },
   {
    "duration": 14,
    "start_time": "2022-08-07T16:11:32.125Z"
   },
   {
    "duration": 80,
    "start_time": "2022-08-07T16:11:32.141Z"
   },
   {
    "duration": 527,
    "start_time": "2022-08-07T16:11:32.222Z"
   },
   {
    "duration": 71,
    "start_time": "2022-08-07T16:11:32.751Z"
   },
   {
    "duration": 7,
    "start_time": "2022-08-07T16:11:32.824Z"
   },
   {
    "duration": 97,
    "start_time": "2022-08-07T16:11:32.833Z"
   },
   {
    "duration": 8,
    "start_time": "2022-08-07T16:11:32.931Z"
   },
   {
    "duration": 31,
    "start_time": "2022-08-07T16:11:32.941Z"
   },
   {
    "duration": 73,
    "start_time": "2022-08-07T16:11:32.973Z"
   },
   {
    "duration": 15,
    "start_time": "2022-08-07T16:11:40.220Z"
   },
   {
    "duration": 47,
    "start_time": "2022-08-07T16:13:43.716Z"
   },
   {
    "duration": 46,
    "start_time": "2022-08-07T16:13:44.858Z"
   },
   {
    "duration": 16,
    "start_time": "2022-08-07T16:13:47.659Z"
   },
   {
    "duration": 71,
    "start_time": "2022-08-07T16:13:55.622Z"
   },
   {
    "duration": 18,
    "start_time": "2022-08-07T16:13:56.198Z"
   },
   {
    "duration": 68,
    "start_time": "2022-08-07T16:14:03.077Z"
   },
   {
    "duration": 20,
    "start_time": "2022-08-07T16:14:03.516Z"
   },
   {
    "duration": 72,
    "start_time": "2022-08-07T16:14:23.054Z"
   },
   {
    "duration": 14,
    "start_time": "2022-08-07T16:14:23.295Z"
   },
   {
    "duration": 135,
    "start_time": "2022-08-07T16:15:28.542Z"
   },
   {
    "duration": 33,
    "start_time": "2022-08-07T16:15:33.643Z"
   },
   {
    "duration": 58,
    "start_time": "2022-08-07T16:15:39.631Z"
   },
   {
    "duration": 10,
    "start_time": "2022-08-07T16:16:16.630Z"
   },
   {
    "duration": 37,
    "start_time": "2022-08-07T16:18:04.960Z"
   },
   {
    "duration": 18,
    "start_time": "2022-08-07T16:20:09.012Z"
   },
   {
    "duration": 58,
    "start_time": "2022-08-07T16:20:53.247Z"
   },
   {
    "duration": 21,
    "start_time": "2022-08-07T16:21:02.617Z"
   },
   {
    "duration": 19,
    "start_time": "2022-08-07T16:22:54.292Z"
   },
   {
    "duration": 22,
    "start_time": "2022-08-07T16:22:59.200Z"
   },
   {
    "duration": 70,
    "start_time": "2022-08-07T16:24:21.275Z"
   },
   {
    "duration": 53,
    "start_time": "2022-08-07T16:24:21.432Z"
   },
   {
    "duration": 29,
    "start_time": "2022-08-07T16:24:24.991Z"
   },
   {
    "duration": 283,
    "start_time": "2022-08-07T16:27:24.989Z"
   },
   {
    "duration": 143,
    "start_time": "2022-08-07T16:28:04.301Z"
   },
   {
    "duration": 211,
    "start_time": "2022-08-07T16:28:28.494Z"
   },
   {
    "duration": 126,
    "start_time": "2022-08-07T16:29:37.101Z"
   },
   {
    "duration": 161,
    "start_time": "2022-08-07T16:31:11.999Z"
   },
   {
    "duration": 165,
    "start_time": "2022-08-07T16:31:22.800Z"
   },
   {
    "duration": 173,
    "start_time": "2022-08-07T16:32:04.524Z"
   },
   {
    "duration": 8,
    "start_time": "2022-08-07T16:32:24.574Z"
   },
   {
    "duration": 4,
    "start_time": "2022-08-07T16:33:46.595Z"
   },
   {
    "duration": 4,
    "start_time": "2022-08-07T16:34:44.436Z"
   },
   {
    "duration": 256,
    "start_time": "2022-08-07T16:35:25.752Z"
   },
   {
    "duration": 174,
    "start_time": "2022-08-07T16:38:39.929Z"
   },
   {
    "duration": 250,
    "start_time": "2022-08-07T16:40:22.568Z"
   },
   {
    "duration": 37,
    "start_time": "2022-08-07T16:40:59.068Z"
   },
   {
    "duration": 174,
    "start_time": "2022-08-07T16:41:08.960Z"
   },
   {
    "duration": 1105,
    "start_time": "2022-08-07T16:41:13.248Z"
   },
   {
    "duration": 257,
    "start_time": "2022-08-07T16:41:14.355Z"
   },
   {
    "duration": 47,
    "start_time": "2022-08-07T16:41:14.613Z"
   },
   {
    "duration": 95,
    "start_time": "2022-08-07T16:41:14.662Z"
   },
   {
    "duration": 85,
    "start_time": "2022-08-07T16:41:14.758Z"
   },
   {
    "duration": 78,
    "start_time": "2022-08-07T16:41:14.844Z"
   },
   {
    "duration": 32,
    "start_time": "2022-08-07T16:41:14.924Z"
   },
   {
    "duration": 20,
    "start_time": "2022-08-07T16:41:14.957Z"
   },
   {
    "duration": 34,
    "start_time": "2022-08-07T16:41:14.979Z"
   },
   {
    "duration": 62,
    "start_time": "2022-08-07T16:41:15.015Z"
   },
   {
    "duration": 537,
    "start_time": "2022-08-07T16:41:15.079Z"
   },
   {
    "duration": 21,
    "start_time": "2022-08-07T16:41:15.618Z"
   },
   {
    "duration": 60,
    "start_time": "2022-08-07T16:41:15.640Z"
   },
   {
    "duration": 38,
    "start_time": "2022-08-07T16:41:15.702Z"
   },
   {
    "duration": 7,
    "start_time": "2022-08-07T16:41:15.741Z"
   },
   {
    "duration": 52,
    "start_time": "2022-08-07T16:41:15.749Z"
   },
   {
    "duration": 66,
    "start_time": "2022-08-07T16:41:15.802Z"
   },
   {
    "duration": 204,
    "start_time": "2022-08-07T16:41:15.870Z"
   },
   {
    "duration": 8,
    "start_time": "2022-08-07T16:41:16.076Z"
   },
   {
    "duration": 47,
    "start_time": "2022-08-07T16:41:16.086Z"
   },
   {
    "duration": 192,
    "start_time": "2022-08-07T16:41:55.681Z"
   },
   {
    "duration": 175,
    "start_time": "2022-08-07T16:42:05.137Z"
   },
   {
    "duration": 1180,
    "start_time": "2022-08-07T16:42:09.792Z"
   },
   {
    "duration": 272,
    "start_time": "2022-08-07T16:42:10.974Z"
   },
   {
    "duration": 46,
    "start_time": "2022-08-07T16:42:11.248Z"
   },
   {
    "duration": 84,
    "start_time": "2022-08-07T16:42:11.300Z"
   },
   {
    "duration": 121,
    "start_time": "2022-08-07T16:42:11.386Z"
   },
   {
    "duration": 101,
    "start_time": "2022-08-07T16:42:11.511Z"
   },
   {
    "duration": 56,
    "start_time": "2022-08-07T16:42:11.614Z"
   },
   {
    "duration": 30,
    "start_time": "2022-08-07T16:42:11.671Z"
   },
   {
    "duration": 16,
    "start_time": "2022-08-07T16:42:11.702Z"
   },
   {
    "duration": 90,
    "start_time": "2022-08-07T16:42:11.720Z"
   },
   {
    "duration": 534,
    "start_time": "2022-08-07T16:42:11.812Z"
   },
   {
    "duration": 30,
    "start_time": "2022-08-07T16:42:12.400Z"
   },
   {
    "duration": 7,
    "start_time": "2022-08-07T16:42:12.432Z"
   },
   {
    "duration": 95,
    "start_time": "2022-08-07T16:42:12.441Z"
   },
   {
    "duration": 8,
    "start_time": "2022-08-07T16:42:12.537Z"
   },
   {
    "duration": 38,
    "start_time": "2022-08-07T16:42:12.547Z"
   },
   {
    "duration": 82,
    "start_time": "2022-08-07T16:42:12.587Z"
   },
   {
    "duration": 217,
    "start_time": "2022-08-07T16:42:12.671Z"
   },
   {
    "duration": 11,
    "start_time": "2022-08-07T16:42:12.890Z"
   },
   {
    "duration": 7,
    "start_time": "2022-08-07T16:42:12.903Z"
   },
   {
    "duration": 186,
    "start_time": "2022-08-07T16:42:16.751Z"
   },
   {
    "duration": 168,
    "start_time": "2022-08-07T16:42:34.637Z"
   },
   {
    "duration": 1438,
    "start_time": "2022-08-08T07:25:59.182Z"
   },
   {
    "duration": 782,
    "start_time": "2022-08-08T07:26:00.622Z"
   },
   {
    "duration": 50,
    "start_time": "2022-08-08T07:26:01.405Z"
   },
   {
    "duration": 112,
    "start_time": "2022-08-08T07:26:01.457Z"
   },
   {
    "duration": 98,
    "start_time": "2022-08-08T07:26:01.572Z"
   },
   {
    "duration": 81,
    "start_time": "2022-08-08T07:26:01.673Z"
   },
   {
    "duration": 34,
    "start_time": "2022-08-08T07:26:01.756Z"
   },
   {
    "duration": 20,
    "start_time": "2022-08-08T07:26:01.792Z"
   },
   {
    "duration": 37,
    "start_time": "2022-08-08T07:26:01.814Z"
   },
   {
    "duration": 66,
    "start_time": "2022-08-08T07:26:01.853Z"
   },
   {
    "duration": 571,
    "start_time": "2022-08-08T07:26:01.921Z"
   },
   {
    "duration": 66,
    "start_time": "2022-08-08T07:26:02.494Z"
   },
   {
    "duration": 7,
    "start_time": "2022-08-08T07:26:02.561Z"
   },
   {
    "duration": 108,
    "start_time": "2022-08-08T07:26:02.570Z"
   },
   {
    "duration": 8,
    "start_time": "2022-08-08T07:26:02.679Z"
   },
   {
    "duration": 19,
    "start_time": "2022-08-08T07:26:02.688Z"
   },
   {
    "duration": 88,
    "start_time": "2022-08-08T07:26:02.708Z"
   },
   {
    "duration": 221,
    "start_time": "2022-08-08T07:26:02.798Z"
   },
   {
    "duration": 9,
    "start_time": "2022-08-08T07:26:03.020Z"
   },
   {
    "duration": 11,
    "start_time": "2022-08-08T07:26:03.031Z"
   },
   {
    "duration": 9,
    "start_time": "2022-08-08T07:35:18.580Z"
   },
   {
    "duration": 5,
    "start_time": "2022-08-08T07:35:55.188Z"
   },
   {
    "duration": 9,
    "start_time": "2022-08-08T07:35:58.475Z"
   },
   {
    "duration": 205,
    "start_time": "2022-08-08T07:36:36.301Z"
   },
   {
    "duration": 147,
    "start_time": "2022-08-08T07:37:10.358Z"
   },
   {
    "duration": 188,
    "start_time": "2022-08-08T07:37:28.298Z"
   },
   {
    "duration": 9,
    "start_time": "2022-08-08T07:37:28.488Z"
   },
   {
    "duration": 9,
    "start_time": "2022-08-08T07:37:28.498Z"
   },
   {
    "duration": 13,
    "start_time": "2022-08-08T07:37:28.508Z"
   },
   {
    "duration": 6,
    "start_time": "2022-08-08T07:38:08.083Z"
   },
   {
    "duration": 6,
    "start_time": "2022-08-08T07:38:17.514Z"
   },
   {
    "duration": 8,
    "start_time": "2022-08-08T07:38:18.214Z"
   },
   {
    "duration": 5,
    "start_time": "2022-08-08T07:38:21.574Z"
   },
   {
    "duration": 8,
    "start_time": "2022-08-08T07:38:21.874Z"
   },
   {
    "duration": 14,
    "start_time": "2022-08-08T07:40:55.329Z"
   },
   {
    "duration": 37,
    "start_time": "2022-08-08T07:43:49.690Z"
   },
   {
    "duration": 17,
    "start_time": "2022-08-08T07:43:58.997Z"
   },
   {
    "duration": 211,
    "start_time": "2022-08-08T07:44:59.054Z"
   },
   {
    "duration": 8,
    "start_time": "2022-08-08T07:45:01.646Z"
   },
   {
    "duration": 5,
    "start_time": "2022-08-08T07:45:05.852Z"
   },
   {
    "duration": 9,
    "start_time": "2022-08-08T07:46:08.349Z"
   },
   {
    "duration": 50,
    "start_time": "2022-08-08T07:49:49.336Z"
   },
   {
    "duration": 8,
    "start_time": "2022-08-08T07:49:52.566Z"
   },
   {
    "duration": 47,
    "start_time": "2022-08-08T07:50:38.263Z"
   },
   {
    "duration": 68,
    "start_time": "2022-08-08T07:51:14.255Z"
   },
   {
    "duration": 9,
    "start_time": "2022-08-08T07:51:14.733Z"
   },
   {
    "duration": 51,
    "start_time": "2022-08-08T07:51:23.736Z"
   },
   {
    "duration": 9,
    "start_time": "2022-08-08T07:51:24.971Z"
   },
   {
    "duration": 58,
    "start_time": "2022-08-08T07:54:10.841Z"
   },
   {
    "duration": 12,
    "start_time": "2022-08-08T07:54:11.647Z"
   },
   {
    "duration": 9,
    "start_time": "2022-08-08T07:54:53.972Z"
   },
   {
    "duration": 65,
    "start_time": "2022-08-08T07:55:08.145Z"
   },
   {
    "duration": 12,
    "start_time": "2022-08-08T07:55:08.487Z"
   },
   {
    "duration": 8,
    "start_time": "2022-08-08T07:56:35.420Z"
   },
   {
    "duration": 70,
    "start_time": "2022-08-08T07:57:22.256Z"
   },
   {
    "duration": 7,
    "start_time": "2022-08-08T07:57:22.724Z"
   },
   {
    "duration": 73,
    "start_time": "2022-08-08T07:58:11.285Z"
   },
   {
    "duration": 8,
    "start_time": "2022-08-08T07:58:12.776Z"
   },
   {
    "duration": 73,
    "start_time": "2022-08-08T07:58:28.362Z"
   },
   {
    "duration": 9,
    "start_time": "2022-08-08T07:58:28.612Z"
   },
   {
    "duration": 74,
    "start_time": "2022-08-08T07:58:43.766Z"
   },
   {
    "duration": 8,
    "start_time": "2022-08-08T07:58:44.113Z"
   },
   {
    "duration": 77,
    "start_time": "2022-08-08T07:59:38.096Z"
   },
   {
    "duration": 7,
    "start_time": "2022-08-08T07:59:38.689Z"
   },
   {
    "duration": 89,
    "start_time": "2022-08-08T07:59:59.049Z"
   },
   {
    "duration": 8,
    "start_time": "2022-08-08T08:00:01.296Z"
   },
   {
    "duration": 75,
    "start_time": "2022-08-08T08:00:08.478Z"
   },
   {
    "duration": 9,
    "start_time": "2022-08-08T08:00:08.733Z"
   },
   {
    "duration": 74,
    "start_time": "2022-08-08T08:00:23.530Z"
   },
   {
    "duration": 8,
    "start_time": "2022-08-08T08:00:24.661Z"
   },
   {
    "duration": 5,
    "start_time": "2022-08-08T08:13:11.875Z"
   },
   {
    "duration": 75,
    "start_time": "2022-08-08T08:13:28.674Z"
   },
   {
    "duration": 8,
    "start_time": "2022-08-08T08:13:29.311Z"
   },
   {
    "duration": 5,
    "start_time": "2022-08-08T08:13:29.971Z"
   },
   {
    "duration": 74,
    "start_time": "2022-08-08T08:13:41.577Z"
   },
   {
    "duration": 8,
    "start_time": "2022-08-08T08:13:42.440Z"
   },
   {
    "duration": 4,
    "start_time": "2022-08-08T08:13:42.868Z"
   },
   {
    "duration": 75,
    "start_time": "2022-08-08T08:18:33.730Z"
   },
   {
    "duration": 8,
    "start_time": "2022-08-08T08:18:33.913Z"
   },
   {
    "duration": 6,
    "start_time": "2022-08-08T08:18:38.892Z"
   },
   {
    "duration": 9,
    "start_time": "2022-08-08T08:18:41.271Z"
   },
   {
    "duration": 5,
    "start_time": "2022-08-08T08:18:41.868Z"
   },
   {
    "duration": 8,
    "start_time": "2022-08-08T08:18:44.081Z"
   },
   {
    "duration": 5,
    "start_time": "2022-08-08T08:18:44.289Z"
   },
   {
    "duration": 1134,
    "start_time": "2022-08-08T08:18:50.593Z"
   },
   {
    "duration": 267,
    "start_time": "2022-08-08T08:18:51.729Z"
   },
   {
    "duration": 50,
    "start_time": "2022-08-08T08:18:51.997Z"
   },
   {
    "duration": 90,
    "start_time": "2022-08-08T08:18:52.049Z"
   },
   {
    "duration": 83,
    "start_time": "2022-08-08T08:18:52.141Z"
   },
   {
    "duration": 76,
    "start_time": "2022-08-08T08:18:52.226Z"
   },
   {
    "duration": 45,
    "start_time": "2022-08-08T08:18:52.303Z"
   },
   {
    "duration": 23,
    "start_time": "2022-08-08T08:18:52.350Z"
   },
   {
    "duration": 15,
    "start_time": "2022-08-08T08:18:52.374Z"
   },
   {
    "duration": 76,
    "start_time": "2022-08-08T08:18:52.391Z"
   },
   {
    "duration": 1212,
    "start_time": "2022-08-08T08:19:28.689Z"
   },
   {
    "duration": 277,
    "start_time": "2022-08-08T08:19:29.903Z"
   },
   {
    "duration": 59,
    "start_time": "2022-08-08T08:19:30.181Z"
   },
   {
    "duration": 100,
    "start_time": "2022-08-08T08:19:30.242Z"
   },
   {
    "duration": 97,
    "start_time": "2022-08-08T08:19:30.345Z"
   },
   {
    "duration": 72,
    "start_time": "2022-08-08T08:19:30.444Z"
   },
   {
    "duration": 45,
    "start_time": "2022-08-08T08:19:30.518Z"
   },
   {
    "duration": 37,
    "start_time": "2022-08-08T08:19:30.565Z"
   },
   {
    "duration": 17,
    "start_time": "2022-08-08T08:19:30.604Z"
   },
   {
    "duration": 68,
    "start_time": "2022-08-08T08:19:30.623Z"
   },
   {
    "duration": 560,
    "start_time": "2022-08-08T08:19:30.693Z"
   },
   {
    "duration": 23,
    "start_time": "2022-08-08T08:19:31.254Z"
   },
   {
    "duration": 62,
    "start_time": "2022-08-08T08:19:31.278Z"
   },
   {
    "duration": 38,
    "start_time": "2022-08-08T08:19:31.341Z"
   },
   {
    "duration": 7,
    "start_time": "2022-08-08T08:19:31.380Z"
   },
   {
    "duration": 63,
    "start_time": "2022-08-08T08:19:31.389Z"
   },
   {
    "duration": 75,
    "start_time": "2022-08-08T08:19:31.453Z"
   },
   {
    "duration": 230,
    "start_time": "2022-08-08T08:19:31.538Z"
   },
   {
    "duration": 8,
    "start_time": "2022-08-08T08:19:31.770Z"
   },
   {
    "duration": 19,
    "start_time": "2022-08-08T08:19:31.779Z"
   },
   {
    "duration": 12,
    "start_time": "2022-08-08T08:19:31.799Z"
   },
   {
    "duration": 80,
    "start_time": "2022-08-08T08:19:31.813Z"
   },
   {
    "duration": 9,
    "start_time": "2022-08-08T08:19:31.894Z"
   },
   {
    "duration": 7,
    "start_time": "2022-08-08T08:19:31.905Z"
   },
   {
    "duration": 25,
    "start_time": "2022-08-08T08:19:31.913Z"
   },
   {
    "duration": 13,
    "start_time": "2022-08-08T08:23:55.339Z"
   },
   {
    "duration": 203,
    "start_time": "2022-08-08T08:28:07.225Z"
   },
   {
    "duration": 3,
    "start_time": "2022-08-08T08:33:04.418Z"
   },
   {
    "duration": 12,
    "start_time": "2022-08-08T08:33:04.577Z"
   },
   {
    "duration": 586,
    "start_time": "2022-08-08T08:36:57.413Z"
   },
   {
    "duration": 453,
    "start_time": "2022-08-08T08:37:14.262Z"
   },
   {
    "duration": 17,
    "start_time": "2022-08-08T08:38:39.141Z"
   },
   {
    "duration": 19,
    "start_time": "2022-08-08T08:39:31.262Z"
   },
   {
    "duration": 9,
    "start_time": "2022-08-08T08:39:47.749Z"
   },
   {
    "duration": 13,
    "start_time": "2022-08-08T08:39:52.211Z"
   },
   {
    "duration": 12,
    "start_time": "2022-08-08T08:40:04.376Z"
   },
   {
    "duration": 14,
    "start_time": "2022-08-08T08:40:13.555Z"
   },
   {
    "duration": 25,
    "start_time": "2022-08-08T08:43:03.129Z"
   },
   {
    "duration": 13,
    "start_time": "2022-08-08T08:43:35.568Z"
   },
   {
    "duration": 13,
    "start_time": "2022-08-08T08:43:48.280Z"
   },
   {
    "duration": 14,
    "start_time": "2022-08-08T08:44:02.099Z"
   },
   {
    "duration": 14,
    "start_time": "2022-08-08T08:44:47.298Z"
   },
   {
    "duration": 13,
    "start_time": "2022-08-08T08:44:50.430Z"
   },
   {
    "duration": 26,
    "start_time": "2022-08-08T08:46:13.588Z"
   },
   {
    "duration": 31,
    "start_time": "2022-08-08T08:47:16.311Z"
   },
   {
    "duration": 37,
    "start_time": "2022-08-08T08:47:37.094Z"
   },
   {
    "duration": 44,
    "start_time": "2022-08-08T08:47:40.730Z"
   },
   {
    "duration": 66,
    "start_time": "2022-08-08T08:48:09.261Z"
   },
   {
    "duration": 26,
    "start_time": "2022-08-08T08:48:14.711Z"
   },
   {
    "duration": 67,
    "start_time": "2022-08-08T08:48:23.829Z"
   },
   {
    "duration": 148,
    "start_time": "2022-08-08T08:52:04.681Z"
   },
   {
    "duration": 88,
    "start_time": "2022-08-08T08:53:05.640Z"
   },
   {
    "duration": 9,
    "start_time": "2022-08-08T08:53:22.151Z"
   },
   {
    "duration": 13,
    "start_time": "2022-08-08T08:53:51.816Z"
   },
   {
    "duration": 7,
    "start_time": "2022-08-08T08:54:13.621Z"
   },
   {
    "duration": 13,
    "start_time": "2022-08-08T08:54:46.512Z"
   },
   {
    "duration": 7,
    "start_time": "2022-08-08T08:55:52.028Z"
   },
   {
    "duration": 10,
    "start_time": "2022-08-08T08:55:57.072Z"
   },
   {
    "duration": 10,
    "start_time": "2022-08-08T08:56:05.952Z"
   },
   {
    "duration": 15,
    "start_time": "2022-08-08T09:12:31.324Z"
   },
   {
    "duration": 22,
    "start_time": "2022-08-08T09:17:14.293Z"
   },
   {
    "duration": 20,
    "start_time": "2022-08-08T09:17:44.665Z"
   },
   {
    "duration": 939,
    "start_time": "2022-08-08T09:18:36.970Z"
   },
   {
    "duration": 57,
    "start_time": "2022-08-08T09:18:52.610Z"
   },
   {
    "duration": 12,
    "start_time": "2022-08-08T09:18:54.155Z"
   },
   {
    "duration": 64,
    "start_time": "2022-08-08T09:19:45.894Z"
   },
   {
    "duration": 66,
    "start_time": "2022-08-08T09:20:17.969Z"
   },
   {
    "duration": 76,
    "start_time": "2022-08-08T09:20:24.590Z"
   },
   {
    "duration": 73,
    "start_time": "2022-08-08T09:20:37.954Z"
   },
   {
    "duration": 10,
    "start_time": "2022-08-08T09:20:39.549Z"
   },
   {
    "duration": 66,
    "start_time": "2022-08-08T09:21:01.153Z"
   },
   {
    "duration": 6,
    "start_time": "2022-08-08T09:21:48.917Z"
   },
   {
    "duration": 15,
    "start_time": "2022-08-08T09:21:56.621Z"
   },
   {
    "duration": 12,
    "start_time": "2022-08-08T09:40:08.129Z"
   },
   {
    "duration": 19,
    "start_time": "2022-08-08T09:41:34.687Z"
   },
   {
    "duration": 13,
    "start_time": "2022-08-08T09:41:44.778Z"
   },
   {
    "duration": 17,
    "start_time": "2022-08-08T09:41:51.576Z"
   },
   {
    "duration": 14,
    "start_time": "2022-08-08T09:42:18.374Z"
   },
   {
    "duration": 14,
    "start_time": "2022-08-08T09:42:37.999Z"
   },
   {
    "duration": 11,
    "start_time": "2022-08-08T09:43:08.018Z"
   },
   {
    "duration": 16,
    "start_time": "2022-08-08T09:43:20.967Z"
   },
   {
    "duration": 18,
    "start_time": "2022-08-08T09:43:50.087Z"
   },
   {
    "duration": 26,
    "start_time": "2022-08-08T09:52:35.773Z"
   },
   {
    "duration": 12,
    "start_time": "2022-08-08T09:52:45.682Z"
   },
   {
    "duration": 13,
    "start_time": "2022-08-08T10:27:10.950Z"
   },
   {
    "duration": 12,
    "start_time": "2022-08-08T10:39:49.306Z"
   },
   {
    "duration": 14,
    "start_time": "2022-08-08T10:51:40.507Z"
   },
   {
    "duration": 62,
    "start_time": "2022-08-08T11:01:23.795Z"
   },
   {
    "duration": 1126,
    "start_time": "2022-08-08T11:12:31.645Z"
   },
   {
    "duration": 253,
    "start_time": "2022-08-08T11:12:32.773Z"
   },
   {
    "duration": 43,
    "start_time": "2022-08-08T11:12:33.027Z"
   },
   {
    "duration": 87,
    "start_time": "2022-08-08T11:12:33.072Z"
   },
   {
    "duration": 89,
    "start_time": "2022-08-08T11:12:33.160Z"
   },
   {
    "duration": 64,
    "start_time": "2022-08-08T11:12:33.250Z"
   },
   {
    "duration": 41,
    "start_time": "2022-08-08T11:12:33.316Z"
   },
   {
    "duration": 24,
    "start_time": "2022-08-08T11:12:33.358Z"
   },
   {
    "duration": 13,
    "start_time": "2022-08-08T11:12:33.383Z"
   },
   {
    "duration": 58,
    "start_time": "2022-08-08T11:12:33.399Z"
   },
   {
    "duration": 495,
    "start_time": "2022-08-08T11:12:33.458Z"
   },
   {
    "duration": 20,
    "start_time": "2022-08-08T11:12:33.955Z"
   },
   {
    "duration": 63,
    "start_time": "2022-08-08T11:12:33.977Z"
   },
   {
    "duration": 52,
    "start_time": "2022-08-08T11:12:34.042Z"
   },
   {
    "duration": 6,
    "start_time": "2022-08-08T11:12:34.096Z"
   },
   {
    "duration": 46,
    "start_time": "2022-08-08T11:12:34.104Z"
   },
   {
    "duration": 78,
    "start_time": "2022-08-08T11:12:34.152Z"
   },
   {
    "duration": 196,
    "start_time": "2022-08-08T11:12:34.231Z"
   },
   {
    "duration": 12,
    "start_time": "2022-08-08T11:12:34.428Z"
   },
   {
    "duration": 20,
    "start_time": "2022-08-08T11:12:34.441Z"
   },
   {
    "duration": 84,
    "start_time": "2022-08-08T11:12:34.462Z"
   },
   {
    "duration": 7,
    "start_time": "2022-08-08T11:12:34.548Z"
   },
   {
    "duration": 24,
    "start_time": "2022-08-08T11:12:34.556Z"
   },
   {
    "duration": 90,
    "start_time": "2022-08-08T11:12:34.581Z"
   },
   {
    "duration": 8,
    "start_time": "2022-08-08T11:12:34.672Z"
   },
   {
    "duration": 14,
    "start_time": "2022-08-08T11:12:34.682Z"
   },
   {
    "duration": 79,
    "start_time": "2022-08-08T11:12:34.698Z"
   },
   {
    "duration": 8,
    "start_time": "2022-08-08T11:12:34.779Z"
   },
   {
    "duration": 184,
    "start_time": "2022-08-08T11:14:38.592Z"
   },
   {
    "duration": 1346,
    "start_time": "2022-08-09T21:24:12.762Z"
   },
   {
    "duration": 306,
    "start_time": "2022-08-09T21:24:14.110Z"
   },
   {
    "duration": 55,
    "start_time": "2022-08-09T21:24:14.417Z"
   },
   {
    "duration": 92,
    "start_time": "2022-08-09T21:24:14.491Z"
   },
   {
    "duration": 109,
    "start_time": "2022-08-09T21:24:14.585Z"
   },
   {
    "duration": 84,
    "start_time": "2022-08-09T21:24:14.696Z"
   },
   {
    "duration": 37,
    "start_time": "2022-08-09T21:24:14.791Z"
   },
   {
    "duration": 29,
    "start_time": "2022-08-09T21:24:14.830Z"
   },
   {
    "duration": 32,
    "start_time": "2022-08-09T21:24:14.860Z"
   },
   {
    "duration": 66,
    "start_time": "2022-08-09T21:24:14.894Z"
   },
   {
    "duration": 658,
    "start_time": "2022-08-09T21:24:14.962Z"
   },
   {
    "duration": 82,
    "start_time": "2022-08-09T21:24:15.622Z"
   },
   {
    "duration": 8,
    "start_time": "2022-08-09T21:24:15.705Z"
   },
   {
    "duration": 100,
    "start_time": "2022-08-09T21:24:15.717Z"
   },
   {
    "duration": 8,
    "start_time": "2022-08-09T21:24:15.818Z"
   },
   {
    "duration": 20,
    "start_time": "2022-08-09T21:24:15.827Z"
   },
   {
    "duration": 111,
    "start_time": "2022-08-09T21:24:15.849Z"
   },
   {
    "duration": 247,
    "start_time": "2022-08-09T21:24:15.962Z"
   },
   {
    "duration": 9,
    "start_time": "2022-08-09T21:24:16.211Z"
   },
   {
    "duration": 8,
    "start_time": "2022-08-09T21:24:16.221Z"
   },
   {
    "duration": 95,
    "start_time": "2022-08-09T21:24:16.231Z"
   },
   {
    "duration": 10,
    "start_time": "2022-08-09T21:24:16.327Z"
   },
   {
    "duration": 8,
    "start_time": "2022-08-09T21:24:16.338Z"
   },
   {
    "duration": 86,
    "start_time": "2022-08-09T21:24:16.348Z"
   },
   {
    "duration": 11,
    "start_time": "2022-08-09T21:24:16.435Z"
   },
   {
    "duration": 18,
    "start_time": "2022-08-09T21:24:16.448Z"
   },
   {
    "duration": 92,
    "start_time": "2022-08-09T21:24:16.468Z"
   },
   {
    "duration": 11,
    "start_time": "2022-08-09T21:24:16.562Z"
   },
   {
    "duration": 102,
    "start_time": "2022-08-09T21:27:24.471Z"
   },
   {
    "duration": 1380,
    "start_time": "2022-08-10T17:24:40.007Z"
   },
   {
    "duration": 691,
    "start_time": "2022-08-10T17:24:41.390Z"
   },
   {
    "duration": 49,
    "start_time": "2022-08-10T17:24:42.083Z"
   },
   {
    "duration": 103,
    "start_time": "2022-08-10T17:24:42.134Z"
   },
   {
    "duration": 92,
    "start_time": "2022-08-10T17:24:42.239Z"
   },
   {
    "duration": 77,
    "start_time": "2022-08-10T17:24:42.333Z"
   },
   {
    "duration": 33,
    "start_time": "2022-08-10T17:24:42.412Z"
   },
   {
    "duration": 22,
    "start_time": "2022-08-10T17:24:42.447Z"
   },
   {
    "duration": 16,
    "start_time": "2022-08-10T17:24:42.471Z"
   },
   {
    "duration": 79,
    "start_time": "2022-08-10T17:24:42.489Z"
   },
   {
    "duration": 563,
    "start_time": "2022-08-10T17:24:42.570Z"
   },
   {
    "duration": 23,
    "start_time": "2022-08-10T17:24:43.135Z"
   },
   {
    "duration": 8,
    "start_time": "2022-08-10T17:24:43.209Z"
   },
   {
    "duration": 93,
    "start_time": "2022-08-10T17:24:43.220Z"
   },
   {
    "duration": 8,
    "start_time": "2022-08-10T17:24:43.314Z"
   },
   {
    "duration": 17,
    "start_time": "2022-08-10T17:24:43.324Z"
   },
   {
    "duration": 104,
    "start_time": "2022-08-10T17:24:43.344Z"
   },
   {
    "duration": 221,
    "start_time": "2022-08-10T17:24:43.450Z"
   },
   {
    "duration": 10,
    "start_time": "2022-08-10T17:24:43.673Z"
   },
   {
    "duration": 16,
    "start_time": "2022-08-10T17:24:43.685Z"
   },
   {
    "duration": 75,
    "start_time": "2022-08-10T17:24:43.709Z"
   },
   {
    "duration": 9,
    "start_time": "2022-08-10T17:24:43.785Z"
   },
   {
    "duration": 14,
    "start_time": "2022-08-10T17:24:43.796Z"
   },
   {
    "duration": 59,
    "start_time": "2022-08-10T17:24:43.812Z"
   },
   {
    "duration": 11,
    "start_time": "2022-08-10T17:24:43.873Z"
   },
   {
    "duration": 11,
    "start_time": "2022-08-10T17:24:43.909Z"
   },
   {
    "duration": 66,
    "start_time": "2022-08-10T17:24:43.922Z"
   },
   {
    "duration": 11,
    "start_time": "2022-08-10T17:24:44.008Z"
   },
   {
    "duration": 13,
    "start_time": "2022-08-10T17:24:46.785Z"
   },
   {
    "duration": 14,
    "start_time": "2022-08-10T17:25:40.355Z"
   },
   {
    "duration": 12,
    "start_time": "2022-08-10T17:28:52.988Z"
   },
   {
    "duration": 4,
    "start_time": "2022-08-10T17:29:21.967Z"
   },
   {
    "duration": 8,
    "start_time": "2022-08-10T17:29:32.506Z"
   },
   {
    "duration": 9,
    "start_time": "2022-08-10T17:29:35.903Z"
   },
   {
    "duration": 15,
    "start_time": "2022-08-10T17:34:24.142Z"
   },
   {
    "duration": 29,
    "start_time": "2022-08-10T17:34:32.059Z"
   },
   {
    "duration": 332,
    "start_time": "2022-08-10T17:34:47.267Z"
   },
   {
    "duration": 49,
    "start_time": "2022-08-10T17:34:49.310Z"
   },
   {
    "duration": 17,
    "start_time": "2022-08-10T17:34:51.089Z"
   },
   {
    "duration": 22,
    "start_time": "2022-08-10T17:35:31.181Z"
   },
   {
    "duration": 13,
    "start_time": "2022-08-10T17:35:41.171Z"
   },
   {
    "duration": 17,
    "start_time": "2022-08-10T17:38:49.432Z"
   },
   {
    "duration": 12,
    "start_time": "2022-08-10T17:38:52.376Z"
   },
   {
    "duration": 21,
    "start_time": "2022-08-10T17:41:16.590Z"
   },
   {
    "duration": 16,
    "start_time": "2022-08-10T17:42:33.238Z"
   },
   {
    "duration": 19,
    "start_time": "2022-08-10T17:42:44.079Z"
   },
   {
    "duration": 166,
    "start_time": "2022-08-10T17:45:49.745Z"
   },
   {
    "duration": 16,
    "start_time": "2022-08-10T17:50:08.675Z"
   },
   {
    "duration": 83,
    "start_time": "2022-08-10T17:56:07.203Z"
   },
   {
    "duration": 11,
    "start_time": "2022-08-10T17:56:09.710Z"
   },
   {
    "duration": 5,
    "start_time": "2022-08-10T17:56:10.724Z"
   },
   {
    "duration": 70,
    "start_time": "2022-08-10T18:17:01.817Z"
   },
   {
    "duration": 62,
    "start_time": "2022-08-10T18:17:10.616Z"
   },
   {
    "duration": 7,
    "start_time": "2022-08-10T18:17:10.814Z"
   },
   {
    "duration": 4,
    "start_time": "2022-08-10T18:17:17.323Z"
   },
   {
    "duration": 19,
    "start_time": "2022-08-10T19:08:10.133Z"
   },
   {
    "duration": 19,
    "start_time": "2022-08-10T19:08:18.707Z"
   },
   {
    "duration": 1208,
    "start_time": "2022-08-10T19:22:54.780Z"
   },
   {
    "duration": 283,
    "start_time": "2022-08-10T19:22:55.989Z"
   },
   {
    "duration": 49,
    "start_time": "2022-08-10T19:22:56.273Z"
   },
   {
    "duration": 16,
    "start_time": "2022-08-10T19:22:56.324Z"
   },
   {
    "duration": 15,
    "start_time": "2022-08-10T19:22:56.342Z"
   },
   {
    "duration": 15,
    "start_time": "2022-08-10T19:22:56.358Z"
   },
   {
    "duration": 48,
    "start_time": "2022-08-10T19:22:56.374Z"
   },
   {
    "duration": 86,
    "start_time": "2022-08-10T19:22:56.423Z"
   },
   {
    "duration": 75,
    "start_time": "2022-08-10T19:22:56.511Z"
   },
   {
    "duration": 79,
    "start_time": "2022-08-10T19:22:56.588Z"
   },
   {
    "duration": 48,
    "start_time": "2022-08-10T19:22:56.669Z"
   },
   {
    "duration": 17,
    "start_time": "2022-08-10T19:22:56.719Z"
   },
   {
    "duration": 15,
    "start_time": "2022-08-10T19:22:56.737Z"
   },
   {
    "duration": 73,
    "start_time": "2022-08-10T19:22:56.756Z"
   },
   {
    "duration": 581,
    "start_time": "2022-08-10T19:22:56.831Z"
   },
   {
    "duration": 23,
    "start_time": "2022-08-10T19:22:57.414Z"
   },
   {
    "duration": 7,
    "start_time": "2022-08-10T19:22:57.439Z"
   },
   {
    "duration": 93,
    "start_time": "2022-08-10T19:22:57.448Z"
   },
   {
    "duration": 7,
    "start_time": "2022-08-10T19:22:57.543Z"
   },
   {
    "duration": 21,
    "start_time": "2022-08-10T19:22:57.551Z"
   },
   {
    "duration": 113,
    "start_time": "2022-08-10T19:22:57.574Z"
   },
   {
    "duration": 242,
    "start_time": "2022-08-10T19:22:57.689Z"
   },
   {
    "duration": 7,
    "start_time": "2022-08-10T19:22:57.933Z"
   },
   {
    "duration": 7,
    "start_time": "2022-08-10T19:22:57.942Z"
   },
   {
    "duration": 98,
    "start_time": "2022-08-10T19:22:57.951Z"
   },
   {
    "duration": 8,
    "start_time": "2022-08-10T19:22:58.051Z"
   },
   {
    "duration": 7,
    "start_time": "2022-08-10T19:22:58.060Z"
   },
   {
    "duration": 91,
    "start_time": "2022-08-10T19:22:58.068Z"
   },
   {
    "duration": 8,
    "start_time": "2022-08-10T19:22:58.161Z"
   },
   {
    "duration": 8,
    "start_time": "2022-08-10T19:22:58.171Z"
   },
   {
    "duration": 82,
    "start_time": "2022-08-10T19:22:58.180Z"
   },
   {
    "duration": 10,
    "start_time": "2022-08-10T19:22:58.264Z"
   },
   {
    "duration": 15,
    "start_time": "2022-08-10T19:22:58.275Z"
   },
   {
    "duration": 78,
    "start_time": "2022-08-10T19:22:58.292Z"
   },
   {
    "duration": 9,
    "start_time": "2022-08-10T19:22:58.372Z"
   },
   {
    "duration": 1300,
    "start_time": "2022-08-11T16:53:25.464Z"
   },
   {
    "duration": 700,
    "start_time": "2022-08-11T16:53:26.768Z"
   },
   {
    "duration": 58,
    "start_time": "2022-08-11T16:53:27.470Z"
   },
   {
    "duration": 17,
    "start_time": "2022-08-11T16:53:27.530Z"
   },
   {
    "duration": 12,
    "start_time": "2022-08-11T16:53:27.548Z"
   },
   {
    "duration": 14,
    "start_time": "2022-08-11T16:53:27.561Z"
   },
   {
    "duration": 49,
    "start_time": "2022-08-11T16:53:27.576Z"
   },
   {
    "duration": 87,
    "start_time": "2022-08-11T16:53:27.626Z"
   },
   {
    "duration": 74,
    "start_time": "2022-08-11T16:53:27.715Z"
   },
   {
    "duration": 75,
    "start_time": "2022-08-11T16:53:27.792Z"
   },
   {
    "duration": 44,
    "start_time": "2022-08-11T16:53:27.869Z"
   },
   {
    "duration": 16,
    "start_time": "2022-08-11T16:53:27.915Z"
   },
   {
    "duration": 14,
    "start_time": "2022-08-11T16:53:27.933Z"
   },
   {
    "duration": 82,
    "start_time": "2022-08-11T16:53:27.948Z"
   },
   {
    "duration": 543,
    "start_time": "2022-08-11T16:53:28.032Z"
   },
   {
    "duration": 51,
    "start_time": "2022-08-11T16:53:28.577Z"
   },
   {
    "duration": 7,
    "start_time": "2022-08-11T16:53:28.629Z"
   },
   {
    "duration": 91,
    "start_time": "2022-08-11T16:53:28.638Z"
   },
   {
    "duration": 7,
    "start_time": "2022-08-11T16:53:28.730Z"
   },
   {
    "duration": 19,
    "start_time": "2022-08-11T16:53:28.739Z"
   },
   {
    "duration": 86,
    "start_time": "2022-08-11T16:53:28.759Z"
   },
   {
    "duration": 226,
    "start_time": "2022-08-11T16:53:28.847Z"
   },
   {
    "duration": 9,
    "start_time": "2022-08-11T16:53:29.075Z"
   },
   {
    "duration": 7,
    "start_time": "2022-08-11T16:53:29.086Z"
   },
   {
    "duration": 88,
    "start_time": "2022-08-11T16:53:29.095Z"
   },
   {
    "duration": 8,
    "start_time": "2022-08-11T16:53:29.185Z"
   },
   {
    "duration": 4,
    "start_time": "2022-08-11T16:53:29.210Z"
   },
   {
    "duration": 77,
    "start_time": "2022-08-11T16:53:29.217Z"
   },
   {
    "duration": 15,
    "start_time": "2022-08-11T16:53:29.295Z"
   },
   {
    "duration": 4,
    "start_time": "2022-08-11T16:53:29.312Z"
   },
   {
    "duration": 70,
    "start_time": "2022-08-11T16:53:29.317Z"
   },
   {
    "duration": 23,
    "start_time": "2022-08-11T16:53:29.389Z"
   },
   {
    "duration": 10,
    "start_time": "2022-08-11T16:53:29.413Z"
   },
   {
    "duration": 88,
    "start_time": "2022-08-11T16:53:29.424Z"
   },
   {
    "duration": 10,
    "start_time": "2022-08-11T16:53:29.513Z"
   },
   {
    "duration": 24,
    "start_time": "2022-08-11T17:07:50.825Z"
   },
   {
    "duration": 178,
    "start_time": "2022-08-11T17:15:34.513Z"
   },
   {
    "duration": 262,
    "start_time": "2022-08-11T17:16:14.701Z"
   },
   {
    "duration": 230,
    "start_time": "2022-08-11T17:16:24.734Z"
   },
   {
    "duration": 49,
    "start_time": "2022-08-11T17:19:03.288Z"
   },
   {
    "duration": 15,
    "start_time": "2022-08-11T17:19:46.810Z"
   },
   {
    "duration": 198,
    "start_time": "2022-08-11T17:27:16.141Z"
   }
  ],
  "kernelspec": {
   "display_name": "Python 3",
   "language": "python",
   "name": "python3"
  },
  "language_info": {
   "codemirror_mode": {
    "name": "ipython",
    "version": 3
   },
   "file_extension": ".py",
   "mimetype": "text/x-python",
   "name": "python",
   "nbconvert_exporter": "python",
   "pygments_lexer": "ipython3",
   "version": "3.8.8"
  },
  "toc": {
   "base_numbering": 1,
   "nav_menu": {},
   "number_sections": true,
   "sideBar": true,
   "skip_h1_title": true,
   "title_cell": "Table of Contents",
   "title_sidebar": "Contents",
   "toc_cell": false,
   "toc_position": {
    "height": "calc(100% - 180px)",
    "left": "10px",
    "top": "150px",
    "width": "311.375px"
   },
   "toc_section_display": true,
   "toc_window_display": true
  }
 },
 "nbformat": 4,
 "nbformat_minor": 2
}
