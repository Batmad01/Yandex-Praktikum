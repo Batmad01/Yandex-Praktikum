{
 "cells": [
  {
   "cell_type": "markdown",
   "metadata": {},
   "source": [
    "# Проект - Принятие решений в бизнесе на основе данных"
   ]
  },
  {
   "cell_type": "markdown",
   "metadata": {},
   "source": [
    "### Описание проекта"
   ]
  },
  {
   "cell_type": "markdown",
   "metadata": {},
   "source": [
    "#### Постановка задачи"
   ]
  },
  {
   "cell_type": "markdown",
   "metadata": {},
   "source": [
    "Вы — аналитик крупного интернет-магазина. Вместе с отделом маркетинга вы подготовили список гипотез для увеличения выручки. Приоритизируйте гипотезы, запустите A/B-тест и проанализируйте результаты."
   ]
  },
  {
   "cell_type": "markdown",
   "metadata": {},
   "source": [
    "####  Описание последовательности выполнения проекта"
   ]
  },
  {
   "cell_type": "markdown",
   "metadata": {},
   "source": [
    "**Часть 1 - Приоритизация гипотез**\n",
    "\n",
    "* Загрузка файлов, их изучение и подготовка к дальнейшему анализу.\n",
    "\n",
    "* Применение фреймворков `ICE` и `RICE` для приоритизации гипотез.\n",
    "\n",
    "* Анализ того, какие есть различия в приоритизации между двумя фреймворкам."
   ]
  },
  {
   "cell_type": "markdown",
   "metadata": {},
   "source": [
    "**Часть 2 - Анализ A/B-теста**\n",
    "\n",
    "* Загрузка файлов, их изучение и подготовка к дальнейшему анализу.\n",
    "\n",
    "* Построение графиков по основным метрикам (кумулятивная выручка, кумулятивный средний чек, кумулятивная конверсия по группам, относительное изменение кумулятивного среднего чека и конверсии группы В к группе А, стоимость заказа)\n",
    "\n",
    "* Расчёт 95 и 99 перцентилей количества заказов на пользователя, стоимости заказов. Выбор границ для определения аномальных пользователей, а затем их фильтрация.\n",
    "\n",
    "* Расчёт статистической значимости различий в конверсии и среднем чеке между группами по \"сырым\", а затем \"очищенным\" данным. \n",
    "\n",
    "* Принятие решения по результатам теста. Возможные исходы - Остановка теста и фиксация победы одной из групп, Остановка теста и фиксация отсутствия различий между группами, Продолжение теста."
   ]
  },
  {
   "cell_type": "markdown",
   "metadata": {},
   "source": [
    "#### Описание данных"
   ]
  },
  {
   "cell_type": "markdown",
   "metadata": {},
   "source": [
    "**Данные для первой части**\n",
    "\n",
    "`Таблица hypothesis`\n",
    "* Hypothesis — краткое описание гипотезы;\n",
    "* Reach — охват пользователей по 10-балльной шкале;\n",
    "* Impact — влияние на пользователей по 10-балльной шкале;\n",
    "* Confidence — уверенность в гипотезе по 10-балльной шкале;\n",
    "* Efforts — затраты ресурсов на проверку гипотезы по 10-балльной шкале. Чем больше значение Efforts, тем дороже проверка гипотезы."
   ]
  },
  {
   "cell_type": "markdown",
   "metadata": {},
   "source": [
    "**Данные для второй части**\n",
    "\n",
    "`Таблица orders`\n",
    "\n",
    "* transactionId — идентификатор заказа;\n",
    "* visitorId — идентификатор пользователя, совершившего заказ;\n",
    "* date — дата, когда был совершён заказ;\n",
    "* revenue — выручка заказа;\n",
    "* group — группа A/B-теста, в которую попал заказ.\n",
    "\n",
    "`Таблица visitors`\n",
    "\n",
    "* date — дата;\n",
    "* group — группа A/B-теста;\n",
    "* visitors — количество пользователей в указанную дату в указанной группе A/B-теста"
   ]
  },
  {
   "cell_type": "markdown",
   "metadata": {},
   "source": [
    "## Загрузка данных и подготовка их к анализу"
   ]
  },
  {
   "cell_type": "markdown",
   "metadata": {},
   "source": [
    "### Загрузка и обзор данных из файлов"
   ]
  },
  {
   "cell_type": "code",
   "execution_count": 1,
   "metadata": {},
   "outputs": [],
   "source": [
    "#Импорт библиотек\n",
    "import pandas as pd\n",
    "from matplotlib import pyplot as plt\n",
    "from scipy import stats as st\n",
    "import numpy as np\n",
    "from IPython.display import display\n",
    "import warnings\n",
    "import seaborn as sns\n",
    "import datetime as dt\n",
    "import scipy.stats as stats\n",
    "\n",
    "# отключение уведомлений об ошибке при замене исходного набора данных\n",
    "warnings.filterwarnings('ignore')\n",
    "warnings.simplefilter('ignore')\n",
    "\n",
    "# показ всех колонок датафрейма\n",
    "pd.options.display.max_columns = None"
   ]
  },
  {
   "cell_type": "code",
   "execution_count": 2,
   "metadata": {},
   "outputs": [
    {
     "data": {
      "text/html": [
       "<div>\n",
       "<style scoped>\n",
       "    .dataframe tbody tr th:only-of-type {\n",
       "        vertical-align: middle;\n",
       "    }\n",
       "\n",
       "    .dataframe tbody tr th {\n",
       "        vertical-align: top;\n",
       "    }\n",
       "\n",
       "    .dataframe thead th {\n",
       "        text-align: right;\n",
       "    }\n",
       "</style>\n",
       "<table border=\"1\" class=\"dataframe\">\n",
       "  <thead>\n",
       "    <tr style=\"text-align: right;\">\n",
       "      <th></th>\n",
       "      <th>transactionId</th>\n",
       "      <th>visitorId</th>\n",
       "      <th>date</th>\n",
       "      <th>revenue</th>\n",
       "      <th>group</th>\n",
       "    </tr>\n",
       "  </thead>\n",
       "  <tbody>\n",
       "    <tr>\n",
       "      <th>0</th>\n",
       "      <td>3667963787</td>\n",
       "      <td>3312258926</td>\n",
       "      <td>2019-08-15</td>\n",
       "      <td>1650</td>\n",
       "      <td>B</td>\n",
       "    </tr>\n",
       "    <tr>\n",
       "      <th>1</th>\n",
       "      <td>2804400009</td>\n",
       "      <td>3642806036</td>\n",
       "      <td>2019-08-15</td>\n",
       "      <td>730</td>\n",
       "      <td>B</td>\n",
       "    </tr>\n",
       "    <tr>\n",
       "      <th>2</th>\n",
       "      <td>2961555356</td>\n",
       "      <td>4069496402</td>\n",
       "      <td>2019-08-15</td>\n",
       "      <td>400</td>\n",
       "      <td>A</td>\n",
       "    </tr>\n",
       "    <tr>\n",
       "      <th>3</th>\n",
       "      <td>3797467345</td>\n",
       "      <td>1196621759</td>\n",
       "      <td>2019-08-15</td>\n",
       "      <td>9759</td>\n",
       "      <td>B</td>\n",
       "    </tr>\n",
       "    <tr>\n",
       "      <th>4</th>\n",
       "      <td>2282983706</td>\n",
       "      <td>2322279887</td>\n",
       "      <td>2019-08-15</td>\n",
       "      <td>2308</td>\n",
       "      <td>B</td>\n",
       "    </tr>\n",
       "  </tbody>\n",
       "</table>\n",
       "</div>"
      ],
      "text/plain": [
       "   transactionId   visitorId        date  revenue group\n",
       "0     3667963787  3312258926  2019-08-15     1650     B\n",
       "1     2804400009  3642806036  2019-08-15      730     B\n",
       "2     2961555356  4069496402  2019-08-15      400     A\n",
       "3     3797467345  1196621759  2019-08-15     9759     B\n",
       "4     2282983706  2322279887  2019-08-15     2308     B"
      ]
     },
     "metadata": {},
     "output_type": "display_data"
    },
    {
     "data": {
      "text/html": [
       "<div>\n",
       "<style scoped>\n",
       "    .dataframe tbody tr th:only-of-type {\n",
       "        vertical-align: middle;\n",
       "    }\n",
       "\n",
       "    .dataframe tbody tr th {\n",
       "        vertical-align: top;\n",
       "    }\n",
       "\n",
       "    .dataframe thead th {\n",
       "        text-align: right;\n",
       "    }\n",
       "</style>\n",
       "<table border=\"1\" class=\"dataframe\">\n",
       "  <thead>\n",
       "    <tr style=\"text-align: right;\">\n",
       "      <th></th>\n",
       "      <th>date</th>\n",
       "      <th>group</th>\n",
       "      <th>visitors</th>\n",
       "    </tr>\n",
       "  </thead>\n",
       "  <tbody>\n",
       "    <tr>\n",
       "      <th>0</th>\n",
       "      <td>2019-08-01</td>\n",
       "      <td>A</td>\n",
       "      <td>719</td>\n",
       "    </tr>\n",
       "    <tr>\n",
       "      <th>1</th>\n",
       "      <td>2019-08-02</td>\n",
       "      <td>A</td>\n",
       "      <td>619</td>\n",
       "    </tr>\n",
       "    <tr>\n",
       "      <th>2</th>\n",
       "      <td>2019-08-03</td>\n",
       "      <td>A</td>\n",
       "      <td>507</td>\n",
       "    </tr>\n",
       "    <tr>\n",
       "      <th>3</th>\n",
       "      <td>2019-08-04</td>\n",
       "      <td>A</td>\n",
       "      <td>717</td>\n",
       "    </tr>\n",
       "    <tr>\n",
       "      <th>4</th>\n",
       "      <td>2019-08-05</td>\n",
       "      <td>A</td>\n",
       "      <td>756</td>\n",
       "    </tr>\n",
       "  </tbody>\n",
       "</table>\n",
       "</div>"
      ],
      "text/plain": [
       "         date group  visitors\n",
       "0  2019-08-01     A       719\n",
       "1  2019-08-02     A       619\n",
       "2  2019-08-03     A       507\n",
       "3  2019-08-04     A       717\n",
       "4  2019-08-05     A       756"
      ]
     },
     "metadata": {},
     "output_type": "display_data"
    },
    {
     "data": {
      "text/html": [
       "<div>\n",
       "<style scoped>\n",
       "    .dataframe tbody tr th:only-of-type {\n",
       "        vertical-align: middle;\n",
       "    }\n",
       "\n",
       "    .dataframe tbody tr th {\n",
       "        vertical-align: top;\n",
       "    }\n",
       "\n",
       "    .dataframe thead th {\n",
       "        text-align: right;\n",
       "    }\n",
       "</style>\n",
       "<table border=\"1\" class=\"dataframe\">\n",
       "  <thead>\n",
       "    <tr style=\"text-align: right;\">\n",
       "      <th></th>\n",
       "      <th>Hypothesis</th>\n",
       "      <th>Reach</th>\n",
       "      <th>Impact</th>\n",
       "      <th>Confidence</th>\n",
       "      <th>Efforts</th>\n",
       "    </tr>\n",
       "  </thead>\n",
       "  <tbody>\n",
       "    <tr>\n",
       "      <th>0</th>\n",
       "      <td>Добавить два новых канала привлечения трафика,...</td>\n",
       "      <td>3</td>\n",
       "      <td>10</td>\n",
       "      <td>8</td>\n",
       "      <td>6</td>\n",
       "    </tr>\n",
       "    <tr>\n",
       "      <th>1</th>\n",
       "      <td>Запустить собственную службу доставки, что сок...</td>\n",
       "      <td>2</td>\n",
       "      <td>5</td>\n",
       "      <td>4</td>\n",
       "      <td>10</td>\n",
       "    </tr>\n",
       "    <tr>\n",
       "      <th>2</th>\n",
       "      <td>Добавить блоки рекомендаций товаров на сайт ин...</td>\n",
       "      <td>8</td>\n",
       "      <td>3</td>\n",
       "      <td>7</td>\n",
       "      <td>3</td>\n",
       "    </tr>\n",
       "    <tr>\n",
       "      <th>3</th>\n",
       "      <td>Изменить структура категорий, что увеличит кон...</td>\n",
       "      <td>8</td>\n",
       "      <td>3</td>\n",
       "      <td>3</td>\n",
       "      <td>8</td>\n",
       "    </tr>\n",
       "    <tr>\n",
       "      <th>4</th>\n",
       "      <td>Изменить цвет фона главной страницы, чтобы уве...</td>\n",
       "      <td>3</td>\n",
       "      <td>1</td>\n",
       "      <td>1</td>\n",
       "      <td>1</td>\n",
       "    </tr>\n",
       "    <tr>\n",
       "      <th>5</th>\n",
       "      <td>Добавить страницу отзывов клиентов о магазине,...</td>\n",
       "      <td>3</td>\n",
       "      <td>2</td>\n",
       "      <td>2</td>\n",
       "      <td>3</td>\n",
       "    </tr>\n",
       "    <tr>\n",
       "      <th>6</th>\n",
       "      <td>Показать на главной странице баннеры с актуаль...</td>\n",
       "      <td>5</td>\n",
       "      <td>3</td>\n",
       "      <td>8</td>\n",
       "      <td>3</td>\n",
       "    </tr>\n",
       "    <tr>\n",
       "      <th>7</th>\n",
       "      <td>Добавить форму подписки на все основные страни...</td>\n",
       "      <td>10</td>\n",
       "      <td>7</td>\n",
       "      <td>8</td>\n",
       "      <td>5</td>\n",
       "    </tr>\n",
       "    <tr>\n",
       "      <th>8</th>\n",
       "      <td>Запустить акцию, дающую скидку на товар в день...</td>\n",
       "      <td>1</td>\n",
       "      <td>9</td>\n",
       "      <td>9</td>\n",
       "      <td>5</td>\n",
       "    </tr>\n",
       "  </tbody>\n",
       "</table>\n",
       "</div>"
      ],
      "text/plain": [
       "                                          Hypothesis  Reach  Impact  \\\n",
       "0  Добавить два новых канала привлечения трафика,...      3      10   \n",
       "1  Запустить собственную службу доставки, что сок...      2       5   \n",
       "2  Добавить блоки рекомендаций товаров на сайт ин...      8       3   \n",
       "3  Изменить структура категорий, что увеличит кон...      8       3   \n",
       "4  Изменить цвет фона главной страницы, чтобы уве...      3       1   \n",
       "5  Добавить страницу отзывов клиентов о магазине,...      3       2   \n",
       "6  Показать на главной странице баннеры с актуаль...      5       3   \n",
       "7  Добавить форму подписки на все основные страни...     10       7   \n",
       "8  Запустить акцию, дающую скидку на товар в день...      1       9   \n",
       "\n",
       "   Confidence  Efforts  \n",
       "0           8        6  \n",
       "1           4       10  \n",
       "2           7        3  \n",
       "3           3        8  \n",
       "4           1        1  \n",
       "5           2        3  \n",
       "6           8        3  \n",
       "7           8        5  \n",
       "8           9        5  "
      ]
     },
     "metadata": {},
     "output_type": "display_data"
    }
   ],
   "source": [
    "# загружаем файлы в переменные и выводим на экран\n",
    "hypothesis = pd.read_csv('/datasets/hypothesis.csv')\n",
    "orders = pd.read_csv('/datasets/orders.csv')\n",
    "visitors = pd.read_csv('/datasets/visitors.csv')\n",
    "\n",
    "# выделим основные таблицы\n",
    "main_tables = [orders, visitors]\n",
    "\n",
    "# и выведем первые 5 строк каждой таблицы\n",
    "for table in main_tables:\n",
    "    display(table.head())\n",
    "display(hypothesis)"
   ]
  },
  {
   "cell_type": "markdown",
   "metadata": {},
   "source": [
    "Посмотрим данные поподробнее"
   ]
  },
  {
   "cell_type": "code",
   "execution_count": 3,
   "metadata": {},
   "outputs": [
    {
     "name": "stdout",
     "output_type": "stream",
     "text": [
      "<class 'pandas.core.frame.DataFrame'>\n",
      "RangeIndex: 1197 entries, 0 to 1196\n",
      "Data columns (total 5 columns):\n",
      " #   Column         Non-Null Count  Dtype \n",
      "---  ------         --------------  ----- \n",
      " 0   transactionId  1197 non-null   int64 \n",
      " 1   visitorId      1197 non-null   int64 \n",
      " 2   date           1197 non-null   object\n",
      " 3   revenue        1197 non-null   int64 \n",
      " 4   group          1197 non-null   object\n",
      "dtypes: int64(3), object(2)\n",
      "memory usage: 46.9+ KB\n"
     ]
    },
    {
     "data": {
      "text/plain": [
       "None"
      ]
     },
     "metadata": {},
     "output_type": "display_data"
    },
    {
     "name": "stdout",
     "output_type": "stream",
     "text": [
      "<class 'pandas.core.frame.DataFrame'>\n",
      "RangeIndex: 62 entries, 0 to 61\n",
      "Data columns (total 3 columns):\n",
      " #   Column    Non-Null Count  Dtype \n",
      "---  ------    --------------  ----- \n",
      " 0   date      62 non-null     object\n",
      " 1   group     62 non-null     object\n",
      " 2   visitors  62 non-null     int64 \n",
      "dtypes: int64(1), object(2)\n",
      "memory usage: 1.6+ KB\n"
     ]
    },
    {
     "data": {
      "text/plain": [
       "None"
      ]
     },
     "metadata": {},
     "output_type": "display_data"
    }
   ],
   "source": [
    "for table in main_tables:\n",
    "    display(table.info())"
   ]
  },
  {
   "cell_type": "markdown",
   "metadata": {},
   "source": [
    "**Выводы**\n",
    "\n",
    "Пропусков в данных не обнаружено. Столбцы с датами в будущем приведём к типу `datetime`."
   ]
  },
  {
   "cell_type": "markdown",
   "metadata": {},
   "source": [
    "### Предобработка данных"
   ]
  },
  {
   "cell_type": "markdown",
   "metadata": {},
   "source": [
    "#### Обработка дубликатов"
   ]
  },
  {
   "cell_type": "code",
   "execution_count": 4,
   "metadata": {},
   "outputs": [
    {
     "name": "stdout",
     "output_type": "stream",
     "text": [
      "0\n",
      "0\n"
     ]
    }
   ],
   "source": [
    "for table in main_tables:\n",
    "    print(table.duplicated().sum())"
   ]
  },
  {
   "cell_type": "code",
   "execution_count": 5,
   "metadata": {},
   "outputs": [
    {
     "data": {
      "text/plain": [
       "0"
      ]
     },
     "execution_count": 5,
     "metadata": {},
     "output_type": "execute_result"
    }
   ],
   "source": [
    "orders['transactionId'].duplicated().sum()"
   ]
  },
  {
   "cell_type": "markdown",
   "metadata": {},
   "source": [
    "**Выводы**\n",
    "\n",
    "Явных и неявных дубликатов в данных не обнаружено."
   ]
  },
  {
   "cell_type": "markdown",
   "metadata": {},
   "source": [
    "#### Изменение типа данных столбцов"
   ]
  },
  {
   "cell_type": "markdown",
   "metadata": {},
   "source": [
    "В основных таблицах для даты изменим тип данных на `datetime` и приведем названия столбцов к змеиному регистру"
   ]
  },
  {
   "cell_type": "code",
   "execution_count": 6,
   "metadata": {},
   "outputs": [],
   "source": [
    "for table in main_tables:\n",
    "    table['date'] = table['date'].apply(lambda x: dt.datetime.strptime(x, '%Y-%m-%d'))"
   ]
  },
  {
   "cell_type": "markdown",
   "metadata": {},
   "source": [
    "#### Переименование столбцов"
   ]
  },
  {
   "cell_type": "code",
   "execution_count": 7,
   "metadata": {},
   "outputs": [],
   "source": [
    "orders = orders.rename(columns={'transactionId':'order_id', 'visitorId':'visitor_id'})"
   ]
  },
  {
   "cell_type": "markdown",
   "metadata": {},
   "source": [
    "##  Приоритизация гипотез"
   ]
  },
  {
   "cell_type": "markdown",
   "metadata": {},
   "source": [
    "Воспользуемся фреймворками ICE и RICE для приоритезации гипотез"
   ]
  },
  {
   "cell_type": "markdown",
   "metadata": {},
   "source": [
    "### Фреймворк ICE"
   ]
  },
  {
   "cell_type": "code",
   "execution_count": 8,
   "metadata": {
    "scrolled": true
   },
   "outputs": [
    {
     "data": {
      "text/html": [
       "<div>\n",
       "<style scoped>\n",
       "    .dataframe tbody tr th:only-of-type {\n",
       "        vertical-align: middle;\n",
       "    }\n",
       "\n",
       "    .dataframe tbody tr th {\n",
       "        vertical-align: top;\n",
       "    }\n",
       "\n",
       "    .dataframe thead th {\n",
       "        text-align: right;\n",
       "    }\n",
       "</style>\n",
       "<table border=\"1\" class=\"dataframe\">\n",
       "  <thead>\n",
       "    <tr style=\"text-align: right;\">\n",
       "      <th></th>\n",
       "      <th>Hypothesis</th>\n",
       "      <th>Reach</th>\n",
       "      <th>Impact</th>\n",
       "      <th>Confidence</th>\n",
       "      <th>Efforts</th>\n",
       "      <th>ICE</th>\n",
       "    </tr>\n",
       "  </thead>\n",
       "  <tbody>\n",
       "    <tr>\n",
       "      <th>8</th>\n",
       "      <td>Запустить акцию, дающую скидку на товар в день...</td>\n",
       "      <td>1</td>\n",
       "      <td>9</td>\n",
       "      <td>9</td>\n",
       "      <td>5</td>\n",
       "      <td>16.2</td>\n",
       "    </tr>\n",
       "    <tr>\n",
       "      <th>0</th>\n",
       "      <td>Добавить два новых канала привлечения трафика,...</td>\n",
       "      <td>3</td>\n",
       "      <td>10</td>\n",
       "      <td>8</td>\n",
       "      <td>6</td>\n",
       "      <td>13.3</td>\n",
       "    </tr>\n",
       "    <tr>\n",
       "      <th>7</th>\n",
       "      <td>Добавить форму подписки на все основные страни...</td>\n",
       "      <td>10</td>\n",
       "      <td>7</td>\n",
       "      <td>8</td>\n",
       "      <td>5</td>\n",
       "      <td>11.2</td>\n",
       "    </tr>\n",
       "    <tr>\n",
       "      <th>6</th>\n",
       "      <td>Показать на главной странице баннеры с актуаль...</td>\n",
       "      <td>5</td>\n",
       "      <td>3</td>\n",
       "      <td>8</td>\n",
       "      <td>3</td>\n",
       "      <td>8.0</td>\n",
       "    </tr>\n",
       "    <tr>\n",
       "      <th>2</th>\n",
       "      <td>Добавить блоки рекомендаций товаров на сайт ин...</td>\n",
       "      <td>8</td>\n",
       "      <td>3</td>\n",
       "      <td>7</td>\n",
       "      <td>3</td>\n",
       "      <td>7.0</td>\n",
       "    </tr>\n",
       "    <tr>\n",
       "      <th>1</th>\n",
       "      <td>Запустить собственную службу доставки, что сок...</td>\n",
       "      <td>2</td>\n",
       "      <td>5</td>\n",
       "      <td>4</td>\n",
       "      <td>10</td>\n",
       "      <td>2.0</td>\n",
       "    </tr>\n",
       "    <tr>\n",
       "      <th>5</th>\n",
       "      <td>Добавить страницу отзывов клиентов о магазине,...</td>\n",
       "      <td>3</td>\n",
       "      <td>2</td>\n",
       "      <td>2</td>\n",
       "      <td>3</td>\n",
       "      <td>1.3</td>\n",
       "    </tr>\n",
       "    <tr>\n",
       "      <th>3</th>\n",
       "      <td>Изменить структура категорий, что увеличит кон...</td>\n",
       "      <td>8</td>\n",
       "      <td>3</td>\n",
       "      <td>3</td>\n",
       "      <td>8</td>\n",
       "      <td>1.1</td>\n",
       "    </tr>\n",
       "    <tr>\n",
       "      <th>4</th>\n",
       "      <td>Изменить цвет фона главной страницы, чтобы уве...</td>\n",
       "      <td>3</td>\n",
       "      <td>1</td>\n",
       "      <td>1</td>\n",
       "      <td>1</td>\n",
       "      <td>1.0</td>\n",
       "    </tr>\n",
       "  </tbody>\n",
       "</table>\n",
       "</div>"
      ],
      "text/plain": [
       "                                          Hypothesis  Reach  Impact  \\\n",
       "8  Запустить акцию, дающую скидку на товар в день...      1       9   \n",
       "0  Добавить два новых канала привлечения трафика,...      3      10   \n",
       "7  Добавить форму подписки на все основные страни...     10       7   \n",
       "6  Показать на главной странице баннеры с актуаль...      5       3   \n",
       "2  Добавить блоки рекомендаций товаров на сайт ин...      8       3   \n",
       "1  Запустить собственную службу доставки, что сок...      2       5   \n",
       "5  Добавить страницу отзывов клиентов о магазине,...      3       2   \n",
       "3  Изменить структура категорий, что увеличит кон...      8       3   \n",
       "4  Изменить цвет фона главной страницы, чтобы уве...      3       1   \n",
       "\n",
       "   Confidence  Efforts   ICE  \n",
       "8           9        5  16.2  \n",
       "0           8        6  13.3  \n",
       "7           8        5  11.2  \n",
       "6           8        3   8.0  \n",
       "2           7        3   7.0  \n",
       "1           4       10   2.0  \n",
       "5           2        3   1.3  \n",
       "3           3        8   1.1  \n",
       "4           1        1   1.0  "
      ]
     },
     "execution_count": 8,
     "metadata": {},
     "output_type": "execute_result"
    }
   ],
   "source": [
    "hypothesis['ICE'] = round((hypothesis['Impact'] * hypothesis['Confidence']) / (hypothesis['Efforts']), 1)\n",
    "hypothesis.sort_values(by='ICE', ascending=False)"
   ]
  },
  {
   "cell_type": "markdown",
   "metadata": {},
   "source": [
    "### Фреймворк RICE"
   ]
  },
  {
   "cell_type": "code",
   "execution_count": 9,
   "metadata": {},
   "outputs": [
    {
     "data": {
      "text/html": [
       "<div>\n",
       "<style scoped>\n",
       "    .dataframe tbody tr th:only-of-type {\n",
       "        vertical-align: middle;\n",
       "    }\n",
       "\n",
       "    .dataframe tbody tr th {\n",
       "        vertical-align: top;\n",
       "    }\n",
       "\n",
       "    .dataframe thead th {\n",
       "        text-align: right;\n",
       "    }\n",
       "</style>\n",
       "<table border=\"1\" class=\"dataframe\">\n",
       "  <thead>\n",
       "    <tr style=\"text-align: right;\">\n",
       "      <th></th>\n",
       "      <th>Hypothesis</th>\n",
       "      <th>Reach</th>\n",
       "      <th>Impact</th>\n",
       "      <th>Confidence</th>\n",
       "      <th>Efforts</th>\n",
       "      <th>ICE</th>\n",
       "      <th>RICE</th>\n",
       "    </tr>\n",
       "  </thead>\n",
       "  <tbody>\n",
       "    <tr>\n",
       "      <th>7</th>\n",
       "      <td>Добавить форму подписки на все основные страни...</td>\n",
       "      <td>10</td>\n",
       "      <td>7</td>\n",
       "      <td>8</td>\n",
       "      <td>5</td>\n",
       "      <td>11.2</td>\n",
       "      <td>112.0</td>\n",
       "    </tr>\n",
       "    <tr>\n",
       "      <th>2</th>\n",
       "      <td>Добавить блоки рекомендаций товаров на сайт ин...</td>\n",
       "      <td>8</td>\n",
       "      <td>3</td>\n",
       "      <td>7</td>\n",
       "      <td>3</td>\n",
       "      <td>7.0</td>\n",
       "      <td>56.0</td>\n",
       "    </tr>\n",
       "    <tr>\n",
       "      <th>0</th>\n",
       "      <td>Добавить два новых канала привлечения трафика,...</td>\n",
       "      <td>3</td>\n",
       "      <td>10</td>\n",
       "      <td>8</td>\n",
       "      <td>6</td>\n",
       "      <td>13.3</td>\n",
       "      <td>40.0</td>\n",
       "    </tr>\n",
       "    <tr>\n",
       "      <th>6</th>\n",
       "      <td>Показать на главной странице баннеры с актуаль...</td>\n",
       "      <td>5</td>\n",
       "      <td>3</td>\n",
       "      <td>8</td>\n",
       "      <td>3</td>\n",
       "      <td>8.0</td>\n",
       "      <td>40.0</td>\n",
       "    </tr>\n",
       "    <tr>\n",
       "      <th>8</th>\n",
       "      <td>Запустить акцию, дающую скидку на товар в день...</td>\n",
       "      <td>1</td>\n",
       "      <td>9</td>\n",
       "      <td>9</td>\n",
       "      <td>5</td>\n",
       "      <td>16.2</td>\n",
       "      <td>16.2</td>\n",
       "    </tr>\n",
       "    <tr>\n",
       "      <th>3</th>\n",
       "      <td>Изменить структура категорий, что увеличит кон...</td>\n",
       "      <td>8</td>\n",
       "      <td>3</td>\n",
       "      <td>3</td>\n",
       "      <td>8</td>\n",
       "      <td>1.1</td>\n",
       "      <td>9.0</td>\n",
       "    </tr>\n",
       "    <tr>\n",
       "      <th>1</th>\n",
       "      <td>Запустить собственную службу доставки, что сок...</td>\n",
       "      <td>2</td>\n",
       "      <td>5</td>\n",
       "      <td>4</td>\n",
       "      <td>10</td>\n",
       "      <td>2.0</td>\n",
       "      <td>4.0</td>\n",
       "    </tr>\n",
       "    <tr>\n",
       "      <th>5</th>\n",
       "      <td>Добавить страницу отзывов клиентов о магазине,...</td>\n",
       "      <td>3</td>\n",
       "      <td>2</td>\n",
       "      <td>2</td>\n",
       "      <td>3</td>\n",
       "      <td>1.3</td>\n",
       "      <td>4.0</td>\n",
       "    </tr>\n",
       "    <tr>\n",
       "      <th>4</th>\n",
       "      <td>Изменить цвет фона главной страницы, чтобы уве...</td>\n",
       "      <td>3</td>\n",
       "      <td>1</td>\n",
       "      <td>1</td>\n",
       "      <td>1</td>\n",
       "      <td>1.0</td>\n",
       "      <td>3.0</td>\n",
       "    </tr>\n",
       "  </tbody>\n",
       "</table>\n",
       "</div>"
      ],
      "text/plain": [
       "                                          Hypothesis  Reach  Impact  \\\n",
       "7  Добавить форму подписки на все основные страни...     10       7   \n",
       "2  Добавить блоки рекомендаций товаров на сайт ин...      8       3   \n",
       "0  Добавить два новых канала привлечения трафика,...      3      10   \n",
       "6  Показать на главной странице баннеры с актуаль...      5       3   \n",
       "8  Запустить акцию, дающую скидку на товар в день...      1       9   \n",
       "3  Изменить структура категорий, что увеличит кон...      8       3   \n",
       "1  Запустить собственную службу доставки, что сок...      2       5   \n",
       "5  Добавить страницу отзывов клиентов о магазине,...      3       2   \n",
       "4  Изменить цвет фона главной страницы, чтобы уве...      3       1   \n",
       "\n",
       "   Confidence  Efforts   ICE   RICE  \n",
       "7           8        5  11.2  112.0  \n",
       "2           7        3   7.0   56.0  \n",
       "0           8        6  13.3   40.0  \n",
       "6           8        3   8.0   40.0  \n",
       "8           9        5  16.2   16.2  \n",
       "3           3        8   1.1    9.0  \n",
       "1           4       10   2.0    4.0  \n",
       "5           2        3   1.3    4.0  \n",
       "4           1        1   1.0    3.0  "
      ]
     },
     "execution_count": 9,
     "metadata": {},
     "output_type": "execute_result"
    }
   ],
   "source": [
    "hypothesis['RICE'] = round((hypothesis['Reach'] * hypothesis['Impact'] * hypothesis['Confidence']) / (hypothesis['Efforts']), 1)\n",
    "hypothesis.sort_values(by='RICE', ascending=False)"
   ]
  },
  {
   "cell_type": "markdown",
   "metadata": {},
   "source": [
    "**Выводы**\n",
    "\n",
    "* Самыми приоритетными гипотезами при использовании фреймворка `ICE` оказались гипотезы с индексами 8, 0 и 7, их баллы составляют 16.2, 13.3 и 11.2 соответственно. При использовании фреймворка `RICE` наиболее приоритетными оказались гипотезы с индексами 7, 2 и 0, их баллы составляют 112, 56 и 40 соответственно.\n",
    "\n",
    "* Смена приоритизации гипотез связяна с охватом гипотез (параметром Reach). Например, у гипотезы с индексом 7 - охват является максимальным (10 баллов), другие параметры так же делают её одной из приоритетных (можно было наблюдать в метрике ICE), поэтому эта гипотеза и стала самой приоритетной при расчёте метрики RICE."
   ]
  },
  {
   "cell_type": "markdown",
   "metadata": {},
   "source": [
    "## Анализ А/В-теста"
   ]
  },
  {
   "cell_type": "markdown",
   "metadata": {},
   "source": [
    "### Подробное изучение представленных данных"
   ]
  },
  {
   "cell_type": "markdown",
   "metadata": {},
   "source": [
    "Изучим данные детальнее"
   ]
  },
  {
   "cell_type": "code",
   "execution_count": 10,
   "metadata": {},
   "outputs": [
    {
     "data": {
      "text/plain": [
       "B    640\n",
       "A    557\n",
       "Name: group, dtype: int64"
      ]
     },
     "execution_count": 10,
     "metadata": {},
     "output_type": "execute_result"
    }
   ],
   "source": [
    "orders['group'].value_counts()"
   ]
  },
  {
   "cell_type": "markdown",
   "metadata": {},
   "source": [
    "У нас имеется две группы, группа А - 557 человек, группа В - 640. Это значит, что сравнительные данные по группам могут незначительно исказится из-за неравномерного распределения пользователей по группам"
   ]
  },
  {
   "cell_type": "code",
   "execution_count": 11,
   "metadata": {
    "scrolled": true
   },
   "outputs": [
    {
     "name": "stdout",
     "output_type": "stream",
     "text": [
      "2019-08-01 00:00:00\n",
      "2019-08-31 00:00:00\n"
     ]
    }
   ],
   "source": [
    "print(orders['date'].min())\n",
    "print(orders['date'].max())"
   ]
  },
  {
   "cell_type": "markdown",
   "metadata": {},
   "source": [
    "Тест начался 1 августа и продолжался до конца месяца"
   ]
  },
  {
   "cell_type": "code",
   "execution_count": 12,
   "metadata": {
    "scrolled": true
   },
   "outputs": [
    {
     "data": {
      "text/plain": [
       "108"
      ]
     },
     "execution_count": 12,
     "metadata": {},
     "output_type": "execute_result"
    }
   ],
   "source": [
    "orders[['visitor_id', 'group']].duplicated().sum()"
   ]
  },
  {
   "cell_type": "markdown",
   "metadata": {},
   "source": [
    "В исследовании присутствуют пользователи, которые в разное время относились к разным группам теста"
   ]
  },
  {
   "cell_type": "markdown",
   "metadata": {},
   "source": [
    "### Подготовка данных к А/В-тесту"
   ]
  },
  {
   "cell_type": "markdown",
   "metadata": {},
   "source": [
    "Создадим агрегированные кумулятивные по дням данные о заказах и посетителях"
   ]
  },
  {
   "cell_type": "code",
   "execution_count": 13,
   "metadata": {},
   "outputs": [],
   "source": [
    "# массив уникальных пар значений дат и групп теста\n",
    "datesgroupes = orders[['date', 'group']].drop_duplicates()\n",
    "\n",
    "# агрегированные кумулятивные по дням данные о заказах\n",
    "orders_agg = datesgroupes.apply(\n",
    "    lambda x: orders[np.logical_and(orders['date'] <= x['date'], orders['group'] == x['group'])]\n",
    "    .agg({'date':'max', 'group':'max', 'order_id':'nunique', 'visitor_id':'nunique', 'revenue':'sum'}),\n",
    "     axis=1)\\\n",
    "    .sort_values(by=['date', 'group'])"
   ]
  },
  {
   "cell_type": "code",
   "execution_count": 14,
   "metadata": {},
   "outputs": [
    {
     "data": {
      "text/html": [
       "<div>\n",
       "<style scoped>\n",
       "    .dataframe tbody tr th:only-of-type {\n",
       "        vertical-align: middle;\n",
       "    }\n",
       "\n",
       "    .dataframe tbody tr th {\n",
       "        vertical-align: top;\n",
       "    }\n",
       "\n",
       "    .dataframe thead th {\n",
       "        text-align: right;\n",
       "    }\n",
       "</style>\n",
       "<table border=\"1\" class=\"dataframe\">\n",
       "  <thead>\n",
       "    <tr style=\"text-align: right;\">\n",
       "      <th></th>\n",
       "      <th>date</th>\n",
       "      <th>group</th>\n",
       "      <th>order_id</th>\n",
       "      <th>visitor_id</th>\n",
       "      <th>revenue</th>\n",
       "    </tr>\n",
       "  </thead>\n",
       "  <tbody>\n",
       "    <tr>\n",
       "      <th>55</th>\n",
       "      <td>2019-08-01</td>\n",
       "      <td>A</td>\n",
       "      <td>24</td>\n",
       "      <td>20</td>\n",
       "      <td>148579</td>\n",
       "    </tr>\n",
       "    <tr>\n",
       "      <th>66</th>\n",
       "      <td>2019-08-01</td>\n",
       "      <td>B</td>\n",
       "      <td>21</td>\n",
       "      <td>20</td>\n",
       "      <td>101217</td>\n",
       "    </tr>\n",
       "    <tr>\n",
       "      <th>175</th>\n",
       "      <td>2019-08-02</td>\n",
       "      <td>A</td>\n",
       "      <td>44</td>\n",
       "      <td>38</td>\n",
       "      <td>242401</td>\n",
       "    </tr>\n",
       "    <tr>\n",
       "      <th>173</th>\n",
       "      <td>2019-08-02</td>\n",
       "      <td>B</td>\n",
       "      <td>45</td>\n",
       "      <td>43</td>\n",
       "      <td>266748</td>\n",
       "    </tr>\n",
       "    <tr>\n",
       "      <th>291</th>\n",
       "      <td>2019-08-03</td>\n",
       "      <td>A</td>\n",
       "      <td>68</td>\n",
       "      <td>62</td>\n",
       "      <td>354874</td>\n",
       "    </tr>\n",
       "  </tbody>\n",
       "</table>\n",
       "</div>"
      ],
      "text/plain": [
       "          date group  order_id  visitor_id  revenue\n",
       "55  2019-08-01     A        24          20   148579\n",
       "66  2019-08-01     B        21          20   101217\n",
       "175 2019-08-02     A        44          38   242401\n",
       "173 2019-08-02     B        45          43   266748\n",
       "291 2019-08-03     A        68          62   354874"
      ]
     },
     "execution_count": 14,
     "metadata": {},
     "output_type": "execute_result"
    }
   ],
   "source": [
    "orders_agg.head()"
   ]
  },
  {
   "cell_type": "code",
   "execution_count": 15,
   "metadata": {},
   "outputs": [],
   "source": [
    "# агрегированные кумулятивные по дням данные о посетителях \n",
    "visitors_agg = datesgroupes.apply(\n",
    "    lambda x: visitors[np.logical_and(visitors['date'] <= x['date'], visitors['group'] ==x['group'])]\n",
    "    .agg({'date':'max', 'group':'max', 'visitors':'sum'}),\n",
    "     axis=1)\\\n",
    "    .sort_values(by=['date', 'group'])"
   ]
  },
  {
   "cell_type": "code",
   "execution_count": 16,
   "metadata": {},
   "outputs": [
    {
     "data": {
      "text/html": [
       "<div>\n",
       "<style scoped>\n",
       "    .dataframe tbody tr th:only-of-type {\n",
       "        vertical-align: middle;\n",
       "    }\n",
       "\n",
       "    .dataframe tbody tr th {\n",
       "        vertical-align: top;\n",
       "    }\n",
       "\n",
       "    .dataframe thead th {\n",
       "        text-align: right;\n",
       "    }\n",
       "</style>\n",
       "<table border=\"1\" class=\"dataframe\">\n",
       "  <thead>\n",
       "    <tr style=\"text-align: right;\">\n",
       "      <th></th>\n",
       "      <th>date</th>\n",
       "      <th>group</th>\n",
       "      <th>visitors</th>\n",
       "    </tr>\n",
       "  </thead>\n",
       "  <tbody>\n",
       "    <tr>\n",
       "      <th>55</th>\n",
       "      <td>2019-08-01</td>\n",
       "      <td>A</td>\n",
       "      <td>719</td>\n",
       "    </tr>\n",
       "    <tr>\n",
       "      <th>66</th>\n",
       "      <td>2019-08-01</td>\n",
       "      <td>B</td>\n",
       "      <td>713</td>\n",
       "    </tr>\n",
       "    <tr>\n",
       "      <th>175</th>\n",
       "      <td>2019-08-02</td>\n",
       "      <td>A</td>\n",
       "      <td>1338</td>\n",
       "    </tr>\n",
       "    <tr>\n",
       "      <th>173</th>\n",
       "      <td>2019-08-02</td>\n",
       "      <td>B</td>\n",
       "      <td>1294</td>\n",
       "    </tr>\n",
       "    <tr>\n",
       "      <th>291</th>\n",
       "      <td>2019-08-03</td>\n",
       "      <td>A</td>\n",
       "      <td>1845</td>\n",
       "    </tr>\n",
       "  </tbody>\n",
       "</table>\n",
       "</div>"
      ],
      "text/plain": [
       "          date group  visitors\n",
       "55  2019-08-01     A       719\n",
       "66  2019-08-01     B       713\n",
       "175 2019-08-02     A      1338\n",
       "173 2019-08-02     B      1294\n",
       "291 2019-08-03     A      1845"
      ]
     },
     "execution_count": 16,
     "metadata": {},
     "output_type": "execute_result"
    }
   ],
   "source": [
    "visitors_agg.head()"
   ]
  },
  {
   "cell_type": "markdown",
   "metadata": {},
   "source": [
    "Теперь объединим полушившиеся таблицы по дате и группе, переименуем столбцы и рассчитаем конверсию"
   ]
  },
  {
   "cell_type": "code",
   "execution_count": 17,
   "metadata": {},
   "outputs": [],
   "source": [
    "data_cummulative = orders_agg.merge(visitors_agg, on = ['date', 'group']) \n",
    "data_cummulative.columns = ['date','group','orders','buyers','revenue','visitors']\n",
    "data_cummulative['conversion'] = round(data_cummulative['orders'] / data_cummulative['visitors'], 4)"
   ]
  },
  {
   "cell_type": "markdown",
   "metadata": {},
   "source": [
    "Добавим день месяца для дальнейшего удобства в построении графиков, так же добавим столбец со средним чеком и рассчитаем конверсию\n",
    "\n",
    "А так же по группам рассчитаем количество заказов для каждого пользователя"
   ]
  },
  {
   "cell_type": "code",
   "execution_count": 18,
   "metadata": {},
   "outputs": [],
   "source": [
    "data_cummulative['day_of_month'] = data_cummulative['date'].dt.day\n",
    "data_cummulative['avg_cheque'] = data_cummulative['revenue'] / data_cummulative['orders']\n",
    "data_cummulative['conversion'] = data_cummulative['buyers'] / data_cummulative['visitors']\n",
    "\n",
    "orders_by_users = orders.groupby('visitor_id', as_index=False)['order_id'].agg('nunique')\n",
    "orders_by_users.columns = ['visitor_id', 'orders']\n",
    "\n",
    "\n",
    "orders_by_users_A = (orders[orders['group'] == 'A']\n",
    "                     .groupby('visitor_id', as_index=False)['order_id']\n",
    "                     .agg('nunique')\n",
    "                     .rename(columns={'order_id':'orders'}))\n",
    "\n",
    "orders_by_users_B = (orders[orders['group'] == 'B']\n",
    "                     .groupby('visitor_id', as_index=False)['order_id']\n",
    "                     .agg('nunique')\n",
    "                     .rename(columns={'order_id':'orders'}))"
   ]
  },
  {
   "cell_type": "markdown",
   "metadata": {},
   "source": [
    "Рассчитаем количество посетителей и количество заказов по дням для обеих групп\n",
    "\n",
    "Так же создадим переменные `sample_A` и `sample_B`, в которых пользователям из разных групп будет соответствовать количество заказов. Тем, кто ничего не заказал, будут соответствовать нули. Это нужно, чтобы подготовить выборки к проверке критерием Манна-Уитни"
   ]
  },
  {
   "cell_type": "code",
   "execution_count": 19,
   "metadata": {},
   "outputs": [],
   "source": [
    "visitors_daily_A = visitors[visitors['group'] == 'A'][['date', 'visitors']]\n",
    "visitors_daily_B = visitors[visitors['group'] == 'B'][['date', 'visitors']]\n",
    "\n",
    "orders_daily_A = (orders[orders['group'] == 'A']\n",
    "                  .groupby('date', as_index=False)['order_id']\n",
    "                  .agg('nunique')\n",
    "                  .rename(columns={'order_id':'orders'}))\n",
    "\n",
    "orders_daily_B = (orders[orders['group'] == 'B']\n",
    "                  .groupby('date', as_index=False)['order_id']\n",
    "                  .agg('nunique')\n",
    "                  .rename(columns={'order_id':'orders'}))\n",
    "\n",
    "sample_A = pd.concat([orders_by_users_A['orders'], \n",
    "                      pd.Series(0, index=np.arange(\n",
    "                          visitors_daily_A['visitors'].sum() - orders_by_users_A['orders'].count()))], axis=0)\n",
    "\n",
    "sample_B = pd.concat([orders_by_users_B['orders'], \n",
    "                      pd.Series(0, index=np.arange(\n",
    "                          visitors_daily_B['visitors'].sum() - orders_by_users_B['orders'].count()))], axis=0)"
   ]
  },
  {
   "cell_type": "markdown",
   "metadata": {},
   "source": [
    "Создадим датафремы по двум группам, в которые войдут кумулятивные выручка, количество заказов и конверсия"
   ]
  },
  {
   "cell_type": "code",
   "execution_count": 20,
   "metadata": {},
   "outputs": [],
   "source": [
    "cumulative_group_A = (\n",
    "    data_cummulative[data_cummulative['group'] == 'A'][['day_of_month', 'revenue', 'orders', 'conversion']])\n",
    "    \n",
    "cumulative_group_B = (\n",
    "    data_cummulative[data_cummulative['group'] == 'B'][['day_of_month', 'revenue', 'orders', 'conversion']])\n",
    "\n",
    "cumulative_groups = cumulative_group_A.merge(cumulative_group_B, on='day_of_month', how='left', suffixes=['A','B'])"
   ]
  },
  {
   "cell_type": "code",
   "execution_count": 21,
   "metadata": {},
   "outputs": [
    {
     "data": {
      "text/html": [
       "<div>\n",
       "<style scoped>\n",
       "    .dataframe tbody tr th:only-of-type {\n",
       "        vertical-align: middle;\n",
       "    }\n",
       "\n",
       "    .dataframe tbody tr th {\n",
       "        vertical-align: top;\n",
       "    }\n",
       "\n",
       "    .dataframe thead th {\n",
       "        text-align: right;\n",
       "    }\n",
       "</style>\n",
       "<table border=\"1\" class=\"dataframe\">\n",
       "  <thead>\n",
       "    <tr style=\"text-align: right;\">\n",
       "      <th></th>\n",
       "      <th>day_of_month</th>\n",
       "      <th>revenueA</th>\n",
       "      <th>ordersA</th>\n",
       "      <th>conversionA</th>\n",
       "      <th>revenueB</th>\n",
       "      <th>ordersB</th>\n",
       "      <th>conversionB</th>\n",
       "    </tr>\n",
       "  </thead>\n",
       "  <tbody>\n",
       "    <tr>\n",
       "      <th>0</th>\n",
       "      <td>1</td>\n",
       "      <td>148579</td>\n",
       "      <td>24</td>\n",
       "      <td>0.027816</td>\n",
       "      <td>101217</td>\n",
       "      <td>21</td>\n",
       "      <td>0.028050</td>\n",
       "    </tr>\n",
       "    <tr>\n",
       "      <th>1</th>\n",
       "      <td>2</td>\n",
       "      <td>242401</td>\n",
       "      <td>44</td>\n",
       "      <td>0.028401</td>\n",
       "      <td>266748</td>\n",
       "      <td>45</td>\n",
       "      <td>0.033230</td>\n",
       "    </tr>\n",
       "    <tr>\n",
       "      <th>2</th>\n",
       "      <td>3</td>\n",
       "      <td>354874</td>\n",
       "      <td>68</td>\n",
       "      <td>0.033604</td>\n",
       "      <td>380996</td>\n",
       "      <td>61</td>\n",
       "      <td>0.032723</td>\n",
       "    </tr>\n",
       "    <tr>\n",
       "      <th>3</th>\n",
       "      <td>4</td>\n",
       "      <td>425699</td>\n",
       "      <td>84</td>\n",
       "      <td>0.030055</td>\n",
       "      <td>489567</td>\n",
       "      <td>78</td>\n",
       "      <td>0.029149</td>\n",
       "    </tr>\n",
       "    <tr>\n",
       "      <th>4</th>\n",
       "      <td>5</td>\n",
       "      <td>549917</td>\n",
       "      <td>109</td>\n",
       "      <td>0.030139</td>\n",
       "      <td>581995</td>\n",
       "      <td>101</td>\n",
       "      <td>0.029878</td>\n",
       "    </tr>\n",
       "  </tbody>\n",
       "</table>\n",
       "</div>"
      ],
      "text/plain": [
       "   day_of_month  revenueA  ordersA  conversionA  revenueB  ordersB  \\\n",
       "0             1    148579       24     0.027816    101217       21   \n",
       "1             2    242401       44     0.028401    266748       45   \n",
       "2             3    354874       68     0.033604    380996       61   \n",
       "3             4    425699       84     0.030055    489567       78   \n",
       "4             5    549917      109     0.030139    581995      101   \n",
       "\n",
       "   conversionB  \n",
       "0     0.028050  \n",
       "1     0.033230  \n",
       "2     0.032723  \n",
       "3     0.029149  \n",
       "4     0.029878  "
      ]
     },
     "execution_count": 21,
     "metadata": {},
     "output_type": "execute_result"
    }
   ],
   "source": [
    "cumulative_groups.head()"
   ]
  },
  {
   "cell_type": "markdown",
   "metadata": {},
   "source": [
    "### А/В - тест"
   ]
  },
  {
   "cell_type": "markdown",
   "metadata": {},
   "source": [
    "#### Кумулятивная выручка, средний чек и конверсия по группам"
   ]
  },
  {
   "cell_type": "markdown",
   "metadata": {},
   "source": [
    "Создадим функцию для построения графиков кумулятивных выручки, среднего чека и конверсии"
   ]
  },
  {
   "cell_type": "code",
   "execution_count": 22,
   "metadata": {},
   "outputs": [],
   "source": [
    "def cummulative_plot(df):\n",
    "\n",
    "    # задаём размер сетки для графиков\n",
    "    plt.figure(figsize=(15, 11))\n",
    "    sns.set(font_scale = 1.1)\n",
    "\n",
    "    # в таблице графиков — два столбца и две строки, четыре ячейки\n",
    "    \n",
    "    ax1 = plt.subplot(2, 2, 1)\n",
    "    sns.lineplot(data=df, x='day_of_month', y='revenue', hue='group')\n",
    "    \n",
    "    ax1.set_xlabel('Число месяца', fontsize = 13)\n",
    "    ax1.set_ylabel('Кумулятивная выручка', fontsize = 13)\n",
    "    ax1.set_title('Кумулятивная выручка по группам', fontsize = 14)\n",
    "    ax1.legend(fontsize = 13, title_fontsize = 13)\n",
    "    \n",
    "    ax2 = plt.subplot(2, 2, 2)\n",
    "    sns.lineplot(data=df, x='day_of_month', y='avg_cheque', hue='group')\n",
    "    \n",
    "    ax2.set_xlabel('Число месяца', fontsize = 13)\n",
    "    ax2.set_ylabel('Кумулятивный средний чек', fontsize = 13)\n",
    "    ax2.set_title('Кумулятивный средний чек по группам', fontsize = 14)\n",
    "    ax2.legend(fontsize = 13, title_fontsize = 13)\n",
    "    \n",
    "    ax3 = plt.subplot(2, 2, 3)\n",
    "    sns.lineplot(data=df, x='day_of_month', y='conversion', hue='group')\n",
    "    \n",
    "    ax3.set_xlabel('Число месяца', fontsize = 13)\n",
    "    ax3.set_ylabel('Кумулятивная конверсия', fontsize = 13)\n",
    "    ax3.set_title('Кумулятивная конверсия по группам', fontsize = 14)\n",
    "    ax3.legend(fontsize = 13, title_fontsize = 13)\n",
    "    \n",
    "    plt.subplots_adjust(left=0.125,\n",
    "                        bottom=0.1, \n",
    "                        right=0.9, \n",
    "                        top=0.9, \n",
    "                        wspace=0.25, \n",
    "                        hspace=0.25)\n",
    "    plt.show()"
   ]
  },
  {
   "cell_type": "code",
   "execution_count": 23,
   "metadata": {},
   "outputs": [
    {
     "data": {
      "image/png": "[encoded data removed]",
      "text/plain": [
       "<Figure size 1080x792 with 3 Axes>"
      ]
     },
     "metadata": {
      "needs_background": "light"
     },
     "output_type": "display_data"
    }
   ],
   "source": [
    "cummulative_plot(data_cummulative)"
   ]
  },
  {
   "cell_type": "markdown",
   "metadata": {},
   "source": [
    "**Выводы**\n",
    "\n",
    "1. Кумулятивная выручка группы В незначительно выше, чем в группе А примерно до середины месяца. Кумулятивная выручка группы В с середины месяца начинает расти быстрее чем в группе А (как раз в тот момент, когда средний чек пользователей группы В резко возрастает, что видно на 2 графике).\n",
    "\n",
    "2. Средний чек двух групп до середины месяца находился примерно на одном уровне. Затем средний чек группы В возрастает с 7000 до 9000-10000, чек группы А фиксируется на значениях в 7000-7500. \n",
    "\n",
    "3. Конверсия группы В выше, чем в группе А (3.2% и 2.7% соответственно).\n",
    "\n",
    "4. На графика кумулятивной выручки и среднего чека видны резкие колебания, это может быть связано с всплесками числа заказов или с появлением очень дорогих заказов в выборке. В следующих пунктах исследования подробнее изучим эти аномалии."
   ]
  },
  {
   "cell_type": "markdown",
   "metadata": {},
   "source": [
    "#### Относительное изменение кумулятивного среднего чека и конверсии группы В к группе А"
   ]
  },
  {
   "cell_type": "markdown",
   "metadata": {},
   "source": [
    "Создадим функцию для построения графиков относительного изменения кумулятивного среднего чека и относительного изменения конверсии группы В к группе А"
   ]
  },
  {
   "cell_type": "code",
   "execution_count": 24,
   "metadata": {},
   "outputs": [],
   "source": [
    "def rel_diff_plot(df):\n",
    "\n",
    "    # задаём размер сетки для графиков\n",
    "    plt.figure(figsize=(15, 11))\n",
    "    sns.set(font_scale = 1.1)\n",
    "\n",
    "    # в таблице графиков — два столбца, одна строка, две ячейки\n",
    "    ax1 = plt.subplot(2, 2, 1)\n",
    "    plt.plot(df['day_of_month'], \n",
    "             (df['revenueB'] / df['ordersB']) / \n",
    "             (df['revenueA'] / df['ordersA']) -1)\n",
    "    \n",
    "    ax1.set_xlabel('Число месяца', fontsize = 12)\n",
    "    ax1.set_ylabel('Относительное изменение среднего чека', fontsize = 12)\n",
    "    ax1.set_title('Относительное изменение кумулятивного среднего чека В к А', fontsize = 12)\n",
    "    plt.axhline(y=0, color='black', linestyle='--')\n",
    "    \n",
    "    ax2 = plt.subplot(2, 2, 2)\n",
    "    plt.plot(df['day_of_month'], \n",
    "             (df['conversionB']) / \n",
    "             (df['conversionA']) -1)\n",
    "    \n",
    "    ax2.set_xlabel('Число месяца', fontsize = 12)\n",
    "    ax2.set_ylabel('Относительное изменение конверсии', fontsize = 12)\n",
    "    ax2.set_title('Относительное изменение конверсии В к А', fontsize = 12)\n",
    "    plt.axhline(y=0, color='black', linestyle='--')\n",
    "    plt.axhline(y=0.1, color='grey', linestyle='--')\n",
    "    plt.axhline(y=0.2, color='grey', linestyle='--')\n",
    "    \n",
    "    plt.subplots_adjust(left=0.125,\n",
    "                        bottom=0.1, \n",
    "                        right=0.9, \n",
    "                        top=0.9, \n",
    "                        wspace=0.25, \n",
    "                        hspace=0.25)\n",
    "    plt.show()"
   ]
  },
  {
   "cell_type": "code",
   "execution_count": 25,
   "metadata": {},
   "outputs": [
    {
     "data": {
      "image/png": "[encoded data removed]",
      "text/plain": [
       "<Figure size 1080x792 with 2 Axes>"
      ]
     },
     "metadata": {},
     "output_type": "display_data"
    }
   ],
   "source": [
    "rel_diff_plot(cumulative_groups)"
   ]
  },
  {
   "cell_type": "markdown",
   "metadata": {},
   "source": [
    "**Выводы**\n",
    "\n",
    "1. График относительного изменения среднего чека резко менялся в несколько дат (с относительного различия в 0.35 до -0.1 и с -0.1 до 0.5). Похоже, что именно в эти даты и были сделаны аномальные заказы.\n",
    "\n",
    "2. График относительного изменения конверсии резко изменялся в первых числах (это связано с поступлением новых данных,т.н. проблемой подглядывания). Затем группа В начала стабильно опережать группу А, прирост зафиксировался на уровне 15%."
   ]
  },
  {
   "cell_type": "markdown",
   "metadata": {},
   "source": [
    "#### Количество заказов на одного пользователя, распределение стоимости заказов"
   ]
  },
  {
   "cell_type": "markdown",
   "metadata": {},
   "source": [
    "Функция для построения распределения количества заказов на одного пользователя и стоимости заказов\n",
    "\n",
    "Для построения графиков из данных будет исключен аномальный заказ в 1,2 млн, чтобы не искажать графики"
   ]
  },
  {
   "cell_type": "code",
   "execution_count": 26,
   "metadata": {},
   "outputs": [],
   "source": [
    "def orders_plot(df):\n",
    "\n",
    "    # задаём размер сетки для графиков\n",
    "    plt.figure(figsize=(15, 11))\n",
    "    sns.set(font_scale = 1.1)\n",
    "\n",
    "    # в таблице графиков — два столбца и одна строка, две ячейки\n",
    "    ax1 = plt.subplot(2, 2, 1)\n",
    "    x_values = pd.Series(range(0, len(orders_by_users)))\n",
    "    sns.scatterplot(data=data_cummulative, x=x_values, y=orders_by_users['orders'])\n",
    "    \n",
    "    ax1.set_xlabel('Пользователи', fontsize = 13)\n",
    "    ax1.set_ylabel('Количество заказов', fontsize = 13)\n",
    "    ax1.set_title('Количество заказов на одного пользователя', fontsize = 14)\n",
    "    \n",
    "    ax2 = plt.subplot(2, 2, 2)\n",
    "    x_values = pd.Series(range(0, len(orders['revenue'])))\n",
    "    sns.scatterplot(data=orders, x=x_values, y=orders.query('revenue < 200000')['revenue'])\n",
    "\n",
    "    \n",
    "    ax2.set_xlabel('Пользователи', fontsize = 13)\n",
    "    ax2.set_ylabel('Стоимость заказов', fontsize = 13)\n",
    "    ax2.set_title('Распределение стоимости заказовов', fontsize = 14)\n",
    "    \n",
    "    plt.subplots_adjust(left=0.125,\n",
    "                        bottom=0.1, \n",
    "                        right=0.9, \n",
    "                        top=0.9, \n",
    "                        wspace=0.25, \n",
    "                        hspace=0.25)\n",
    "    plt.show()"
   ]
  },
  {
   "cell_type": "code",
   "execution_count": 27,
   "metadata": {},
   "outputs": [
    {
     "data": {
      "image/png": "[encoded data removed]",
      "text/plain": [
       "<Figure size 1080x792 with 2 Axes>"
      ]
     },
     "metadata": {},
     "output_type": "display_data"
    }
   ],
   "source": [
    "orders_plot(orders)"
   ]
  },
  {
   "cell_type": "markdown",
   "metadata": {},
   "source": [
    "**Выводы**\n",
    "\n",
    "1. Большинство пользователей совершают 1 заказ, также есть небольшое количество пользователей, которые совершают 2 или 3 заказа. \n",
    "\n",
    "2. Подавляющее большинство заказов стоили менее 20000. Небольшое количество заказов стоили от 20000 до 40000, и совсем незначительное их количество были дороже 40000. "
   ]
  },
  {
   "cell_type": "markdown",
   "metadata": {},
   "source": [
    "**Расчёт 95 и 99 перцентилей стоимости заказов и количества заказов на одного пользователя**"
   ]
  },
  {
   "cell_type": "code",
   "execution_count": 28,
   "metadata": {},
   "outputs": [
    {
     "data": {
      "text/html": [
       "<div>\n",
       "<style scoped>\n",
       "    .dataframe tbody tr th:only-of-type {\n",
       "        vertical-align: middle;\n",
       "    }\n",
       "\n",
       "    .dataframe tbody tr th {\n",
       "        vertical-align: top;\n",
       "    }\n",
       "\n",
       "    .dataframe thead th {\n",
       "        text-align: right;\n",
       "    }\n",
       "</style>\n",
       "<table border=\"1\" class=\"dataframe\">\n",
       "  <thead>\n",
       "    <tr style=\"text-align: right;\">\n",
       "      <th></th>\n",
       "      <th>order_id</th>\n",
       "      <th>visitor_id</th>\n",
       "      <th>date</th>\n",
       "      <th>revenue</th>\n",
       "      <th>group</th>\n",
       "    </tr>\n",
       "  </thead>\n",
       "  <tbody>\n",
       "    <tr>\n",
       "      <th>0</th>\n",
       "      <td>3667963787</td>\n",
       "      <td>3312258926</td>\n",
       "      <td>2019-08-15</td>\n",
       "      <td>1650</td>\n",
       "      <td>B</td>\n",
       "    </tr>\n",
       "    <tr>\n",
       "      <th>1</th>\n",
       "      <td>2804400009</td>\n",
       "      <td>3642806036</td>\n",
       "      <td>2019-08-15</td>\n",
       "      <td>730</td>\n",
       "      <td>B</td>\n",
       "    </tr>\n",
       "    <tr>\n",
       "      <th>2</th>\n",
       "      <td>2961555356</td>\n",
       "      <td>4069496402</td>\n",
       "      <td>2019-08-15</td>\n",
       "      <td>400</td>\n",
       "      <td>A</td>\n",
       "    </tr>\n",
       "    <tr>\n",
       "      <th>3</th>\n",
       "      <td>3797467345</td>\n",
       "      <td>1196621759</td>\n",
       "      <td>2019-08-15</td>\n",
       "      <td>9759</td>\n",
       "      <td>B</td>\n",
       "    </tr>\n",
       "    <tr>\n",
       "      <th>4</th>\n",
       "      <td>2282983706</td>\n",
       "      <td>2322279887</td>\n",
       "      <td>2019-08-15</td>\n",
       "      <td>2308</td>\n",
       "      <td>B</td>\n",
       "    </tr>\n",
       "  </tbody>\n",
       "</table>\n",
       "</div>"
      ],
      "text/plain": [
       "     order_id  visitor_id       date  revenue group\n",
       "0  3667963787  3312258926 2019-08-15     1650     B\n",
       "1  2804400009  3642806036 2019-08-15      730     B\n",
       "2  2961555356  4069496402 2019-08-15      400     A\n",
       "3  3797467345  1196621759 2019-08-15     9759     B\n",
       "4  2282983706  2322279887 2019-08-15     2308     B"
      ]
     },
     "execution_count": 28,
     "metadata": {},
     "output_type": "execute_result"
    }
   ],
   "source": [
    "orders.head()"
   ]
  },
  {
   "cell_type": "code",
   "execution_count": 29,
   "metadata": {},
   "outputs": [
    {
     "name": "stdout",
     "output_type": "stream",
     "text": [
      "[2. 4.]\n"
     ]
    }
   ],
   "source": [
    "print(np.percentile(orders_by_users['orders'], [95, 99]))"
   ]
  },
  {
   "cell_type": "code",
   "execution_count": 30,
   "metadata": {},
   "outputs": [
    {
     "name": "stdout",
     "output_type": "stream",
     "text": [
      "[28000.  58233.2]\n"
     ]
    }
   ],
   "source": [
    "print(np.percentile(orders['revenue'], [95, 99]))"
   ]
  },
  {
   "cell_type": "code",
   "execution_count": 31,
   "metadata": {},
   "outputs": [],
   "source": [
    "max_orders = int(np.percentile(orders_by_users['orders'], [95]))\n",
    "max_revenue = int(np.percentile(orders['revenue'], [95]))"
   ]
  },
  {
   "cell_type": "markdown",
   "metadata": {},
   "source": [
    "**Вывод**\n",
    "\n",
    "* Для количества заказов на одного пользователя 95 и 99 перцентили оказались равными 2 и 4 заказа на пользователя соответственно\n",
    "\n",
    "* Для стоимости одного заказа 95 и 99 перцентили равны 28000 и 58233 соответственно\n",
    "\n",
    "* Для удаления аномалий буду использовать 95 перцентили как верхнюю границу для значений количества заказов для одного пользователя и стоимости одного заказа (2 заказа и 28000 рублей соответственно)"
   ]
  },
  {
   "cell_type": "markdown",
   "metadata": {},
   "source": [
    "### Расчёт статистической значимости различий в конверсии и среднем чеке заказа между группами по \"сырым\" данным"
   ]
  },
  {
   "cell_type": "markdown",
   "metadata": {},
   "source": [
    "#### Средний чек заказа"
   ]
  },
  {
   "cell_type": "markdown",
   "metadata": {},
   "source": [
    "**Гипотезы и уровень значимости**\n",
    "\n",
    "Нулевая гипотеза - средний чек заказа между группами не отличается\n",
    "\n",
    "Альтернативная гипотеза - средний чек заказа между группами отличается\n",
    "\n",
    "Критический уровень значимости - 0.05\n",
    "\n",
    "Метод проверки гипотез - критерий Манна-Уитни"
   ]
  },
  {
   "cell_type": "code",
   "execution_count": 32,
   "metadata": {},
   "outputs": [
    {
     "name": "stdout",
     "output_type": "stream",
     "text": [
      "0.729\n",
      "0.259\n"
     ]
    }
   ],
   "source": [
    "print('{0:.3f}'.format(\n",
    "    stats.mannwhitneyu(orders[orders['group']=='A']['revenue'], orders[orders['group']=='B']['revenue'])[1]))\n",
    "\n",
    "print('{0:.3f}'.format(\n",
    "    orders[orders['group']=='B']['revenue'].mean() / orders[orders['group']=='A']['revenue'].mean() - 1))"
   ]
  },
  {
   "cell_type": "markdown",
   "metadata": {},
   "source": [
    "**Выводы**\n",
    "\n",
    "* P-value больше 0.05 - это значит, что статистически значимых отличий в среднем чеке между группами нет\n",
    "* При этом относительное различие в среднем чеке между группами составляет почти 26%, доход выше с группы В"
   ]
  },
  {
   "cell_type": "markdown",
   "metadata": {},
   "source": [
    "#### Конверсия"
   ]
  },
  {
   "cell_type": "markdown",
   "metadata": {},
   "source": [
    "**Гипотезы и уровень значимости**\n",
    "\n",
    "Нулевая гипотеза - конверсия между группами не отличается\n",
    "\n",
    "Альтернативная гипотеза - конверсия между группами отличается\n",
    "\n",
    "Критический уровень значимости - 0.05\n",
    "\n",
    "Метод проверки гипотез - критерий Манна-Уитни"
   ]
  },
  {
   "cell_type": "code",
   "execution_count": 33,
   "metadata": {},
   "outputs": [
    {
     "name": "stdout",
     "output_type": "stream",
     "text": [
      "0.017\n",
      "0.138\n"
     ]
    }
   ],
   "source": [
    "print('{0:.3f}'.format(stats.mannwhitneyu(sample_A, sample_B)[1]))\n",
    "\n",
    "print('{0:.3f}'.format((orders_daily_B['orders'].sum() / visitors_daily_B['visitors'].sum()) / \n",
    "                       (orders_daily_A['orders'].sum() / visitors_daily_A['visitors'].sum()) - 1))"
   ]
  },
  {
   "cell_type": "markdown",
   "metadata": {},
   "source": [
    "**Выводы**\n",
    "\n",
    "* P-value меньше 0.05 - это означает, что присутствуют статистические значимые отличия в конверсии между группами\n",
    "* Относительное различие в конверсии между группами составляет почти 14%"
   ]
  },
  {
   "cell_type": "markdown",
   "metadata": {},
   "source": [
    "### Расчёт статистической значимости различий в конверсии и среднем чеке заказа между группами по \"очищенным\" данным"
   ]
  },
  {
   "cell_type": "markdown",
   "metadata": {},
   "source": [
    "#### Создание очищенных датасетов"
   ]
  },
  {
   "cell_type": "markdown",
   "metadata": {},
   "source": [
    "Выделим аномальных пользователей с помощью ранее найденных 95 перцентилей для стоимости заказа и количества заказов на одного пользователя"
   ]
  },
  {
   "cell_type": "code",
   "execution_count": 34,
   "metadata": {},
   "outputs": [],
   "source": [
    "usersWithManyOrders = pd.concat(\n",
    "                        [orders_by_users_A[orders_by_users_A['orders']>max_orders]['visitor_id'],\n",
    "                         orders_by_users_B[orders_by_users_B['orders']>max_orders]['visitor_id']],\n",
    "                         axis=0)\n",
    "\n",
    "usersWithExpensiveOrders = orders[orders['revenue'] > max_revenue]['visitor_id']\n",
    "\n",
    "abnormalUsers = (pd.concat(\n",
    "                  [usersWithManyOrders, usersWithExpensiveOrders],axis=0)\n",
    "                  .drop_duplicates()\n",
    "                  .sort_values())"
   ]
  },
  {
   "cell_type": "markdown",
   "metadata": {},
   "source": [
    "Cоздадим переменные `sample_filtered_A` и `sample_filtered_B`, в которых пользователям из разных групп будет соответствовать количество заказов. Тем, кто ничего не заказал, будут соответствовать нули. (Те же `sample_A` и `sample_B`, только отфильтрованные по аномальным клиентам)"
   ]
  },
  {
   "cell_type": "code",
   "execution_count": 35,
   "metadata": {},
   "outputs": [],
   "source": [
    "sample_filtered_A = pd.concat([\n",
    "                            orders_by_users_A[np.logical_not(orders_by_users_A['visitor_id'].isin(abnormalUsers))]['orders'], \n",
    "                            pd.Series(0, index=np.arange(\n",
    "                                visitors_daily_A['visitors'].sum() - orders_by_users_A['orders'].count()))], axis=0)\n",
    "\n",
    "sample_filtered_B = pd.concat([\n",
    "                            orders_by_users_B[np.logical_not(orders_by_users_B['visitor_id'].isin(abnormalUsers))]['orders'], \n",
    "                            pd.Series(0, index=np.arange(\n",
    "                                visitors_daily_A['visitors'].sum() - orders_by_users_A['orders'].count()))], axis=0)"
   ]
  },
  {
   "cell_type": "markdown",
   "metadata": {},
   "source": [
    "#### Средний чек заказа"
   ]
  },
  {
   "cell_type": "code",
   "execution_count": 36,
   "metadata": {},
   "outputs": [
    {
     "name": "stdout",
     "output_type": "stream",
     "text": [
      "0.738\n",
      "-0.020\n"
     ]
    }
   ],
   "source": [
    "print('{0:.3f}'.format(stats.mannwhitneyu(\n",
    "          orders[np.logical_and(orders['group']=='A',np.logical_not(orders['visitor_id'].isin(abnormalUsers)))]['revenue'],\n",
    "          orders[np.logical_and(orders['group']=='B',np.logical_not(orders['visitor_id'].isin(abnormalUsers)))]['revenue'])[1]))\n",
    "    \n",
    "\n",
    "print('{0:.3f}'.format(\n",
    "        orders[np.logical_and(orders['group']=='B',\n",
    "                              np.logical_not(orders['visitor_id'].isin(abnormalUsers)))]['revenue'].mean() /\n",
    "        orders[np.logical_and(orders['group']=='A',\n",
    "                              np.logical_not(orders['visitor_id'].isin(abnormalUsers)))]['revenue'].mean() - 1))"
   ]
  },
  {
   "cell_type": "markdown",
   "metadata": {},
   "source": [
    "**Выводы**\n",
    "\n",
    "* Значение p-value практически не изменилось - 0.738 (было 0.729), это значение всё так же значительно выше критического уровня значимости в 0.05, статистически значимых отличий в среднем чеке между группами нет\n",
    "* Относительное в различие в среднем чеке изменилось на 28% (с 26% до -2%), теперь средний чек между группами практически не отличается"
   ]
  },
  {
   "cell_type": "markdown",
   "metadata": {},
   "source": [
    "#### Конверсия"
   ]
  },
  {
   "cell_type": "code",
   "execution_count": 37,
   "metadata": {
    "scrolled": true
   },
   "outputs": [
    {
     "name": "stdout",
     "output_type": "stream",
     "text": [
      "0.010\n",
      "0.179\n"
     ]
    }
   ],
   "source": [
    "print('{0:.3f}'.format(stats.mannwhitneyu(sample_filtered_A, sample_filtered_B)[1]))\n",
    "\n",
    "print('{0:.3f}'.format(sample_filtered_B.mean() / sample_filtered_A.mean() - 1))"
   ]
  },
  {
   "cell_type": "markdown",
   "metadata": {},
   "source": [
    "**Выводы**\n",
    "\n",
    "* Значение p-value незначительно уменьшилось - с 1,3% до 1%, между группами всё так же присутствует статистические значимые отличия в конверсии\n",
    "* Относительно различие в конверсии немного увеличилось - с 14% до 18%, у группы В конверсия выше"
   ]
  },
  {
   "cell_type": "markdown",
   "metadata": {},
   "source": [
    "#### Графики по очищенным данным"
   ]
  },
  {
   "cell_type": "markdown",
   "metadata": {},
   "source": [
    "Создадим очищенные от аномальных значений датафреймы по аналогии с тем, как создавали датафреймы ранее, и построим графики по очищенным данным"
   ]
  },
  {
   "cell_type": "code",
   "execution_count": 38,
   "metadata": {},
   "outputs": [],
   "source": [
    "orders_filtered = orders[np.logical_not(orders['visitor_id'].isin(abnormalUsers))]\n",
    "datesgroupes = orders_filtered[['date', 'group']].drop_duplicates()\n",
    "\n",
    "orders_agg_filtered = datesgroupes.apply(\n",
    "    lambda x: orders_filtered[np.logical_and(orders['date'] <= x['date'], orders['group'] == x['group'])]\n",
    "    .agg({'date':'max', 'group':'max', 'order_id':'nunique', 'visitor_id':'nunique', 'revenue':'sum'}),\n",
    "     axis=1)\\\n",
    "    .sort_values(by=['date', 'group'])\n",
    "\n",
    "visitors_agg_filtered = datesgroupes.apply(\n",
    "    lambda x: visitors[np.logical_and(visitors['date'] <= x['date'], visitors['group'] ==x['group'])]\n",
    "    .agg({'date':'max', 'group':'max', 'visitors':'sum'}),\n",
    "     axis=1)\\\n",
    "    .sort_values(by=['date', 'group'])"
   ]
  },
  {
   "cell_type": "code",
   "execution_count": 39,
   "metadata": {},
   "outputs": [],
   "source": [
    "data_cummulative_filtered = orders_agg_filtered.merge(visitors_agg_filtered, on = ['date', 'group'])\n",
    "data_cummulative_filtered.columns = ['date','group','orders','buyers','revenue','visitors']\n",
    "data_cummulative_filtered['conversion'] = round(data_cummulative_filtered['orders'] / data_cummulative_filtered['visitors'], 4)\n",
    "data_cummulative_filtered['day_of_month'] = data_cummulative_filtered['date'].dt.day\n",
    "data_cummulative_filtered['avg_cheque'] = data_cummulative_filtered['revenue'] / data_cummulative_filtered['orders']\n",
    "data_cummulative_filtered['conversion'] = data_cummulative_filtered['buyers'] / data_cummulative_filtered['visitors']"
   ]
  },
  {
   "cell_type": "code",
   "execution_count": 40,
   "metadata": {},
   "outputs": [],
   "source": [
    "cumulative_group_A_filtered = (\n",
    "    data_cummulative_filtered[data_cummulative_filtered['group'] == 'A'][['day_of_month', 'revenue', 'orders', 'conversion']])\n",
    "    \n",
    "cumulative_group_B_filtered = (\n",
    "    data_cummulative_filtered[data_cummulative_filtered['group'] == 'B'][['day_of_month', 'revenue', 'orders', 'conversion']])\n",
    "\n",
    "cumulative_groups_filtered = cumulative_group_A_filtered.merge(\n",
    "    cumulative_group_B_filtered, on='day_of_month', how='left', suffixes=['A','B'])"
   ]
  },
  {
   "cell_type": "code",
   "execution_count": 41,
   "metadata": {},
   "outputs": [
    {
     "data": {
      "image/png": "[encoded data removed]",
      "text/plain": [
       "<Figure size 1080x792 with 3 Axes>"
      ]
     },
     "metadata": {},
     "output_type": "display_data"
    }
   ],
   "source": [
    "cummulative_plot(data_cummulative_filtered)"
   ]
  },
  {
   "cell_type": "code",
   "execution_count": 42,
   "metadata": {},
   "outputs": [
    {
     "data": {
      "image/png": "[encoded data removed]",
      "text/plain": [
       "<Figure size 1080x792 with 2 Axes>"
      ]
     },
     "metadata": {},
     "output_type": "display_data"
    }
   ],
   "source": [
    "rel_diff_plot(cumulative_groups_filtered)"
   ]
  },
  {
   "cell_type": "markdown",
   "metadata": {},
   "source": [
    "**Выводы**\n",
    "\n",
    "По очищенным данным мы можем сделать выводы:\n",
    "* Кумулятивная выручку с группы В всё так же выше, чем с группы А. Но после очистки данных эта разница снизилась.\n",
    "\n",
    "* Кумулятивный средний чек выровнялся, между значениями в группах практически нет разницы.\n",
    "\n",
    "* Конверсия так же выровнялась после очистки данных, группа В сохраняет более высокую конверсию (2.9%), чем группа А (2.4%)."
   ]
  },
  {
   "cell_type": "markdown",
   "metadata": {},
   "source": [
    "## Принятие решения по результатам теста"
   ]
  },
  {
   "cell_type": "markdown",
   "metadata": {},
   "source": [
    "На основе проведенного исследования можно принять решение об остановке теста. Между группами не наблюдается значимых отличий по кумулятивной выручке и кумулятивному среднему чеку. Но в то же время наблюдается разница в кумулятивной конверсии - у группы В конверсия выше (относительная разница около 20%). \n",
    "\n",
    "Таким образом, можем сделать вывод о победе группы В, так как у нее наблюдается более высокая конверсия в сравнении с группой А."
   ]
  }
 ],
 "metadata": {
  "ExecuteTimeLog": [
   {
    "duration": 86,
    "start_time": "2022-05-03T08:10:11.161Z"
   },
   {
    "duration": 1917,
    "start_time": "2022-05-03T08:10:13.824Z"
   },
   {
    "duration": 21,
    "start_time": "2022-05-03T08:10:15.744Z"
   },
   {
    "duration": 36,
    "start_time": "2022-05-03T08:10:46.219Z"
   },
   {
    "duration": 67,
    "start_time": "2022-05-03T08:11:46.362Z"
   },
   {
    "duration": 63,
    "start_time": "2022-05-03T08:12:14.256Z"
   },
   {
    "duration": 62,
    "start_time": "2022-05-03T08:13:20.360Z"
   },
   {
    "duration": 49,
    "start_time": "2022-05-03T08:18:26.836Z"
   },
   {
    "duration": 12,
    "start_time": "2022-05-03T08:32:40.313Z"
   },
   {
    "duration": 61,
    "start_time": "2022-05-03T08:33:20.953Z"
   },
   {
    "duration": 65,
    "start_time": "2022-05-03T08:33:35.618Z"
   },
   {
    "duration": 9,
    "start_time": "2022-05-03T08:34:15.162Z"
   },
   {
    "duration": 6,
    "start_time": "2022-05-03T08:34:19.257Z"
   },
   {
    "duration": 67,
    "start_time": "2022-05-03T08:34:19.268Z"
   },
   {
    "duration": 40,
    "start_time": "2022-05-03T08:34:19.337Z"
   },
   {
    "duration": 9,
    "start_time": "2022-05-03T08:34:19.380Z"
   },
   {
    "duration": 6,
    "start_time": "2022-05-03T08:34:19.391Z"
   },
   {
    "duration": 8,
    "start_time": "2022-05-03T08:34:26.789Z"
   },
   {
    "duration": 6,
    "start_time": "2022-05-03T08:34:32.642Z"
   },
   {
    "duration": 114,
    "start_time": "2022-05-03T08:40:45.068Z"
   },
   {
    "duration": 479,
    "start_time": "2022-05-03T08:40:52.674Z"
   },
   {
    "duration": 5,
    "start_time": "2022-05-03T08:41:10.792Z"
   },
   {
    "duration": 70,
    "start_time": "2022-05-03T08:41:10.799Z"
   },
   {
    "duration": 28,
    "start_time": "2022-05-03T08:41:10.871Z"
   },
   {
    "duration": 8,
    "start_time": "2022-05-03T08:41:10.902Z"
   },
   {
    "duration": 46,
    "start_time": "2022-05-03T08:41:10.912Z"
   },
   {
    "duration": 398,
    "start_time": "2022-05-03T08:41:10.961Z"
   },
   {
    "duration": 415,
    "start_time": "2022-05-03T08:41:30.200Z"
   },
   {
    "duration": 20,
    "start_time": "2022-05-03T08:43:27.904Z"
   },
   {
    "duration": 614,
    "start_time": "2022-05-03T08:43:41.909Z"
   },
   {
    "duration": 6,
    "start_time": "2022-05-03T08:43:48.720Z"
   },
   {
    "duration": 78,
    "start_time": "2022-05-03T08:43:48.729Z"
   },
   {
    "duration": 29,
    "start_time": "2022-05-03T08:43:48.810Z"
   },
   {
    "duration": 24,
    "start_time": "2022-05-03T08:43:48.841Z"
   },
   {
    "duration": 10,
    "start_time": "2022-05-03T08:43:48.868Z"
   },
   {
    "duration": 25,
    "start_time": "2022-05-03T08:43:48.880Z"
   },
   {
    "duration": 60,
    "start_time": "2022-05-03T08:43:48.907Z"
   },
   {
    "duration": 17,
    "start_time": "2022-05-03T08:48:31.382Z"
   },
   {
    "duration": 15,
    "start_time": "2022-05-03T08:50:27.179Z"
   },
   {
    "duration": 21,
    "start_time": "2022-05-03T08:50:30.269Z"
   },
   {
    "duration": 30,
    "start_time": "2022-05-03T08:50:40.789Z"
   },
   {
    "duration": 15,
    "start_time": "2022-05-03T08:50:54.027Z"
   },
   {
    "duration": 15,
    "start_time": "2022-05-03T08:51:20.228Z"
   },
   {
    "duration": 20,
    "start_time": "2022-05-03T08:51:24.771Z"
   },
   {
    "duration": 7,
    "start_time": "2022-05-03T08:51:46.152Z"
   },
   {
    "duration": 8,
    "start_time": "2022-05-03T08:55:24.482Z"
   },
   {
    "duration": 15,
    "start_time": "2022-05-03T08:55:24.696Z"
   },
   {
    "duration": 18,
    "start_time": "2022-05-03T08:56:24.102Z"
   },
   {
    "duration": 19,
    "start_time": "2022-05-03T08:56:34.923Z"
   },
   {
    "duration": 7,
    "start_time": "2022-05-03T08:56:44.927Z"
   },
   {
    "duration": 94,
    "start_time": "2022-05-03T08:56:44.939Z"
   },
   {
    "duration": 51,
    "start_time": "2022-05-03T08:56:45.035Z"
   },
   {
    "duration": 14,
    "start_time": "2022-05-03T08:56:45.089Z"
   },
   {
    "duration": 13,
    "start_time": "2022-05-03T08:56:45.106Z"
   },
   {
    "duration": 46,
    "start_time": "2022-05-03T08:56:45.121Z"
   },
   {
    "duration": 40,
    "start_time": "2022-05-03T08:56:45.171Z"
   },
   {
    "duration": 31,
    "start_time": "2022-05-03T08:56:45.214Z"
   },
   {
    "duration": 12,
    "start_time": "2022-05-03T09:46:03.532Z"
   },
   {
    "duration": 14,
    "start_time": "2022-05-03T09:47:04.945Z"
   },
   {
    "duration": 5,
    "start_time": "2022-05-03T09:48:06.505Z"
   },
   {
    "duration": 11,
    "start_time": "2022-05-03T09:48:09.966Z"
   },
   {
    "duration": 7,
    "start_time": "2022-05-03T09:48:15.303Z"
   },
   {
    "duration": 83,
    "start_time": "2022-05-03T09:48:15.312Z"
   },
   {
    "duration": 29,
    "start_time": "2022-05-03T09:48:15.397Z"
   },
   {
    "duration": 28,
    "start_time": "2022-05-03T09:48:15.429Z"
   },
   {
    "duration": 8,
    "start_time": "2022-05-03T09:48:15.461Z"
   },
   {
    "duration": 35,
    "start_time": "2022-05-03T09:48:15.472Z"
   },
   {
    "duration": 8,
    "start_time": "2022-05-03T09:48:15.509Z"
   },
   {
    "duration": 46,
    "start_time": "2022-05-03T09:48:15.519Z"
   },
   {
    "duration": 20,
    "start_time": "2022-05-03T09:48:15.569Z"
   },
   {
    "duration": 19,
    "start_time": "2022-05-03T09:48:15.592Z"
   },
   {
    "duration": 8,
    "start_time": "2022-05-03T09:50:53.694Z"
   },
   {
    "duration": 9,
    "start_time": "2022-05-03T09:50:58.739Z"
   },
   {
    "duration": 17,
    "start_time": "2022-05-03T09:51:10.738Z"
   },
   {
    "duration": 19,
    "start_time": "2022-05-03T09:51:19.149Z"
   },
   {
    "duration": 11,
    "start_time": "2022-05-03T09:57:34.151Z"
   },
   {
    "duration": 1580,
    "start_time": "2022-05-03T10:01:13.564Z"
   },
   {
    "duration": 346,
    "start_time": "2022-05-03T10:04:07.235Z"
   },
   {
    "duration": 290,
    "start_time": "2022-05-03T10:04:12.134Z"
   },
   {
    "duration": 20,
    "start_time": "2022-05-03T10:04:17.516Z"
   },
   {
    "duration": 13,
    "start_time": "2022-05-03T10:05:41.129Z"
   },
   {
    "duration": 16,
    "start_time": "2022-05-03T10:06:47.390Z"
   },
   {
    "duration": 5,
    "start_time": "2022-05-03T10:06:59.395Z"
   },
   {
    "duration": 71,
    "start_time": "2022-05-03T10:06:59.403Z"
   },
   {
    "duration": 28,
    "start_time": "2022-05-03T10:06:59.476Z"
   },
   {
    "duration": 10,
    "start_time": "2022-05-03T10:06:59.506Z"
   },
   {
    "duration": 9,
    "start_time": "2022-05-03T10:06:59.555Z"
   },
   {
    "duration": 23,
    "start_time": "2022-05-03T10:06:59.567Z"
   },
   {
    "duration": 7,
    "start_time": "2022-05-03T10:06:59.593Z"
   },
   {
    "duration": 56,
    "start_time": "2022-05-03T10:06:59.602Z"
   },
   {
    "duration": 26,
    "start_time": "2022-05-03T10:06:59.661Z"
   },
   {
    "duration": 13,
    "start_time": "2022-05-03T10:06:59.690Z"
   },
   {
    "duration": 318,
    "start_time": "2022-05-03T10:06:59.705Z"
   },
   {
    "duration": 12,
    "start_time": "2022-05-03T10:07:00.026Z"
   },
   {
    "duration": 22,
    "start_time": "2022-05-03T10:07:00.053Z"
   },
   {
    "duration": 22,
    "start_time": "2022-05-03T10:07:04.503Z"
   },
   {
    "duration": 20,
    "start_time": "2022-05-03T10:07:12.777Z"
   },
   {
    "duration": 11,
    "start_time": "2022-05-03T10:09:03.586Z"
   },
   {
    "duration": 438,
    "start_time": "2022-05-03T10:15:07.673Z"
   },
   {
    "duration": 17,
    "start_time": "2022-05-03T10:15:08.114Z"
   },
   {
    "duration": 14,
    "start_time": "2022-05-03T10:20:04.121Z"
   },
   {
    "duration": 13,
    "start_time": "2022-05-03T10:20:12.497Z"
   },
   {
    "duration": 19,
    "start_time": "2022-05-03T10:20:23.153Z"
   },
   {
    "duration": 223,
    "start_time": "2022-05-03T10:20:37.059Z"
   },
   {
    "duration": 12,
    "start_time": "2022-05-03T10:20:43.140Z"
   },
   {
    "duration": 12,
    "start_time": "2022-05-03T10:24:43.868Z"
   },
   {
    "duration": 13,
    "start_time": "2022-05-03T10:24:50.493Z"
   },
   {
    "duration": 17,
    "start_time": "2022-05-03T10:37:19.692Z"
   },
   {
    "duration": 14,
    "start_time": "2022-05-03T10:37:25.995Z"
   },
   {
    "duration": 17,
    "start_time": "2022-05-03T10:37:26.496Z"
   },
   {
    "duration": 16,
    "start_time": "2022-05-03T10:37:49.732Z"
   },
   {
    "duration": 17,
    "start_time": "2022-05-03T10:37:49.782Z"
   },
   {
    "duration": 24,
    "start_time": "2022-05-03T10:38:01.000Z"
   },
   {
    "duration": 15,
    "start_time": "2022-05-03T10:38:07.020Z"
   },
   {
    "duration": 14,
    "start_time": "2022-05-03T10:38:07.694Z"
   },
   {
    "duration": 12,
    "start_time": "2022-05-03T10:38:31.271Z"
   },
   {
    "duration": 14,
    "start_time": "2022-05-03T10:38:31.665Z"
   },
   {
    "duration": 442,
    "start_time": "2022-05-03T10:40:20.130Z"
   },
   {
    "duration": 385,
    "start_time": "2022-05-03T10:40:36.914Z"
   },
   {
    "duration": 289,
    "start_time": "2022-05-03T10:40:43.844Z"
   },
   {
    "duration": 5,
    "start_time": "2022-05-03T10:40:51.935Z"
   },
   {
    "duration": 103,
    "start_time": "2022-05-03T10:40:51.943Z"
   },
   {
    "duration": 41,
    "start_time": "2022-05-03T10:40:52.048Z"
   },
   {
    "duration": 9,
    "start_time": "2022-05-03T10:40:52.092Z"
   },
   {
    "duration": 19,
    "start_time": "2022-05-03T10:40:52.105Z"
   },
   {
    "duration": 49,
    "start_time": "2022-05-03T10:40:52.126Z"
   },
   {
    "duration": 29,
    "start_time": "2022-05-03T10:40:52.178Z"
   },
   {
    "duration": 19,
    "start_time": "2022-05-03T10:40:52.209Z"
   },
   {
    "duration": 42,
    "start_time": "2022-05-03T10:40:52.230Z"
   },
   {
    "duration": 19,
    "start_time": "2022-05-03T10:40:52.274Z"
   },
   {
    "duration": 302,
    "start_time": "2022-05-03T10:40:52.296Z"
   },
   {
    "duration": 12,
    "start_time": "2022-05-03T10:40:52.601Z"
   },
   {
    "duration": 251,
    "start_time": "2022-05-03T10:40:52.616Z"
   },
   {
    "duration": 24,
    "start_time": "2022-05-03T10:40:52.871Z"
   },
   {
    "duration": 24,
    "start_time": "2022-05-03T10:40:52.897Z"
   },
   {
    "duration": 35,
    "start_time": "2022-05-03T10:40:52.923Z"
   },
   {
    "duration": 28,
    "start_time": "2022-05-03T10:40:52.961Z"
   },
   {
    "duration": 314,
    "start_time": "2022-05-03T10:40:52.991Z"
   },
   {
    "duration": 275,
    "start_time": "2022-05-03T10:41:03.548Z"
   },
   {
    "duration": 295,
    "start_time": "2022-05-03T10:41:13.350Z"
   },
   {
    "duration": 290,
    "start_time": "2022-05-03T10:41:17.908Z"
   },
   {
    "duration": 1392,
    "start_time": "2022-05-04T16:54:06.444Z"
   },
   {
    "duration": 60,
    "start_time": "2022-05-04T16:54:07.839Z"
   },
   {
    "duration": 28,
    "start_time": "2022-05-04T16:54:07.901Z"
   },
   {
    "duration": 9,
    "start_time": "2022-05-04T16:54:07.931Z"
   },
   {
    "duration": 6,
    "start_time": "2022-05-04T16:54:07.943Z"
   },
   {
    "duration": 20,
    "start_time": "2022-05-04T16:54:07.951Z"
   },
   {
    "duration": 40,
    "start_time": "2022-05-04T16:54:07.974Z"
   },
   {
    "duration": 24,
    "start_time": "2022-05-04T16:54:08.016Z"
   },
   {
    "duration": 18,
    "start_time": "2022-05-04T16:54:08.042Z"
   },
   {
    "duration": 12,
    "start_time": "2022-05-04T16:54:08.062Z"
   },
   {
    "duration": 221,
    "start_time": "2022-05-04T16:54:08.076Z"
   },
   {
    "duration": 11,
    "start_time": "2022-05-04T16:54:08.298Z"
   },
   {
    "duration": 147,
    "start_time": "2022-05-04T16:54:08.311Z"
   },
   {
    "duration": 9,
    "start_time": "2022-05-04T16:54:08.461Z"
   },
   {
    "duration": 10,
    "start_time": "2022-05-04T16:54:08.471Z"
   },
   {
    "duration": 10,
    "start_time": "2022-05-04T16:54:08.484Z"
   },
   {
    "duration": 13,
    "start_time": "2022-05-04T16:54:08.496Z"
   },
   {
    "duration": 341,
    "start_time": "2022-05-04T16:54:08.512Z"
   },
   {
    "duration": 287,
    "start_time": "2022-05-04T17:01:43.795Z"
   },
   {
    "duration": 226,
    "start_time": "2022-05-04T17:03:35.358Z"
   },
   {
    "duration": 312,
    "start_time": "2022-05-04T17:06:17.978Z"
   },
   {
    "duration": 313,
    "start_time": "2022-05-04T17:07:23.146Z"
   },
   {
    "duration": 334,
    "start_time": "2022-05-04T17:07:41.211Z"
   },
   {
    "duration": 307,
    "start_time": "2022-05-04T17:08:26.265Z"
   },
   {
    "duration": 370,
    "start_time": "2022-05-04T17:08:34.543Z"
   },
   {
    "duration": 310,
    "start_time": "2022-05-04T17:08:40.585Z"
   },
   {
    "duration": 4,
    "start_time": "2022-05-04T17:08:43.396Z"
   },
   {
    "duration": 60,
    "start_time": "2022-05-04T17:08:43.403Z"
   },
   {
    "duration": 21,
    "start_time": "2022-05-04T17:08:43.465Z"
   },
   {
    "duration": 7,
    "start_time": "2022-05-04T17:08:43.488Z"
   },
   {
    "duration": 17,
    "start_time": "2022-05-04T17:08:43.497Z"
   },
   {
    "duration": 15,
    "start_time": "2022-05-04T17:08:43.516Z"
   },
   {
    "duration": 9,
    "start_time": "2022-05-04T17:08:43.533Z"
   },
   {
    "duration": 13,
    "start_time": "2022-05-04T17:08:43.543Z"
   },
   {
    "duration": 14,
    "start_time": "2022-05-04T17:08:43.558Z"
   },
   {
    "duration": 43,
    "start_time": "2022-05-04T17:08:43.573Z"
   },
   {
    "duration": 195,
    "start_time": "2022-05-04T17:08:43.618Z"
   },
   {
    "duration": 12,
    "start_time": "2022-05-04T17:08:43.815Z"
   },
   {
    "duration": 150,
    "start_time": "2022-05-04T17:08:43.828Z"
   },
   {
    "duration": 8,
    "start_time": "2022-05-04T17:08:43.981Z"
   },
   {
    "duration": 18,
    "start_time": "2022-05-04T17:08:43.990Z"
   },
   {
    "duration": 16,
    "start_time": "2022-05-04T17:08:44.010Z"
   },
   {
    "duration": 7,
    "start_time": "2022-05-04T17:08:44.028Z"
   },
   {
    "duration": 303,
    "start_time": "2022-05-04T17:08:44.037Z"
   },
   {
    "duration": 319,
    "start_time": "2022-05-04T17:08:44.342Z"
   },
   {
    "duration": 305,
    "start_time": "2022-05-04T17:08:53.635Z"
   },
   {
    "duration": 313,
    "start_time": "2022-05-04T17:10:16.720Z"
   },
   {
    "duration": 1219,
    "start_time": "2022-05-04T17:10:25.758Z"
   },
   {
    "duration": 61,
    "start_time": "2022-05-04T17:10:26.979Z"
   },
   {
    "duration": 21,
    "start_time": "2022-05-04T17:10:27.041Z"
   },
   {
    "duration": 6,
    "start_time": "2022-05-04T17:10:27.064Z"
   },
   {
    "duration": 5,
    "start_time": "2022-05-04T17:10:27.072Z"
   },
   {
    "duration": 49,
    "start_time": "2022-05-04T17:10:27.078Z"
   },
   {
    "duration": 4,
    "start_time": "2022-05-04T17:10:27.128Z"
   },
   {
    "duration": 14,
    "start_time": "2022-05-04T17:10:27.133Z"
   },
   {
    "duration": 12,
    "start_time": "2022-05-04T17:10:27.149Z"
   },
   {
    "duration": 56,
    "start_time": "2022-05-04T17:10:27.164Z"
   },
   {
    "duration": 179,
    "start_time": "2022-05-04T17:10:27.222Z"
   },
   {
    "duration": 12,
    "start_time": "2022-05-04T17:10:27.402Z"
   },
   {
    "duration": 141,
    "start_time": "2022-05-04T17:10:27.420Z"
   },
   {
    "duration": 9,
    "start_time": "2022-05-04T17:10:27.563Z"
   },
   {
    "duration": 9,
    "start_time": "2022-05-04T17:10:27.573Z"
   },
   {
    "duration": 36,
    "start_time": "2022-05-04T17:10:27.584Z"
   },
   {
    "duration": 7,
    "start_time": "2022-05-04T17:10:27.623Z"
   },
   {
    "duration": 322,
    "start_time": "2022-05-04T17:10:27.631Z"
   },
   {
    "duration": 250,
    "start_time": "2022-05-04T17:10:27.956Z"
   },
   {
    "duration": 345,
    "start_time": "2022-05-04T17:11:01.384Z"
   },
   {
    "duration": 314,
    "start_time": "2022-05-04T17:11:05.335Z"
   },
   {
    "duration": 314,
    "start_time": "2022-05-04T17:13:29.261Z"
   },
   {
    "duration": 6,
    "start_time": "2022-05-04T17:14:55.124Z"
   },
   {
    "duration": 10,
    "start_time": "2022-05-04T17:15:07.130Z"
   },
   {
    "duration": 5,
    "start_time": "2022-05-04T17:15:13.771Z"
   },
   {
    "duration": 358,
    "start_time": "2022-05-04T17:15:13.992Z"
   },
   {
    "duration": 4,
    "start_time": "2022-05-04T17:18:14.363Z"
   },
   {
    "duration": 324,
    "start_time": "2022-05-04T17:18:14.950Z"
   },
   {
    "duration": 4,
    "start_time": "2022-05-04T17:19:50.929Z"
   },
   {
    "duration": 10,
    "start_time": "2022-05-04T17:19:53.525Z"
   },
   {
    "duration": 5,
    "start_time": "2022-05-04T17:20:27.604Z"
   },
   {
    "duration": 51,
    "start_time": "2022-05-04T17:20:27.611Z"
   },
   {
    "duration": 18,
    "start_time": "2022-05-04T17:20:27.664Z"
   },
   {
    "duration": 5,
    "start_time": "2022-05-04T17:20:27.685Z"
   },
   {
    "duration": 24,
    "start_time": "2022-05-04T17:20:27.692Z"
   },
   {
    "duration": 15,
    "start_time": "2022-05-04T17:20:27.717Z"
   },
   {
    "duration": 3,
    "start_time": "2022-05-04T17:20:27.733Z"
   },
   {
    "duration": 13,
    "start_time": "2022-05-04T17:20:27.738Z"
   },
   {
    "duration": 16,
    "start_time": "2022-05-04T17:20:27.753Z"
   },
   {
    "duration": 120,
    "start_time": "2022-05-04T17:20:27.772Z"
   },
   {
    "duration": 180,
    "start_time": "2022-05-04T17:20:27.895Z"
   },
   {
    "duration": 10,
    "start_time": "2022-05-04T17:20:28.077Z"
   },
   {
    "duration": 132,
    "start_time": "2022-05-04T17:20:28.089Z"
   },
   {
    "duration": 7,
    "start_time": "2022-05-04T17:20:28.223Z"
   },
   {
    "duration": 8,
    "start_time": "2022-05-04T17:20:28.232Z"
   },
   {
    "duration": 5,
    "start_time": "2022-05-04T17:20:28.241Z"
   },
   {
    "duration": 10,
    "start_time": "2022-05-04T17:20:28.248Z"
   },
   {
    "duration": 7,
    "start_time": "2022-05-04T17:20:28.260Z"
   },
   {
    "duration": 335,
    "start_time": "2022-05-04T17:20:28.269Z"
   },
   {
    "duration": 293,
    "start_time": "2022-05-04T17:20:28.606Z"
   },
   {
    "duration": 5,
    "start_time": "2022-05-04T17:20:28.900Z"
   },
   {
    "duration": 291,
    "start_time": "2022-05-04T17:20:28.907Z"
   },
   {
    "duration": 6,
    "start_time": "2022-05-04T17:21:04.149Z"
   },
   {
    "duration": 329,
    "start_time": "2022-05-04T17:21:04.390Z"
   },
   {
    "duration": 7,
    "start_time": "2022-05-04T17:21:22.950Z"
   },
   {
    "duration": 6,
    "start_time": "2022-05-04T17:21:33.333Z"
   },
   {
    "duration": 10,
    "start_time": "2022-05-04T17:21:37.208Z"
   },
   {
    "duration": 4,
    "start_time": "2022-05-04T17:21:49.594Z"
   },
   {
    "duration": 19,
    "start_time": "2022-05-04T17:21:50.117Z"
   },
   {
    "duration": 5,
    "start_time": "2022-05-04T17:21:58.000Z"
   },
   {
    "duration": 18,
    "start_time": "2022-05-04T17:21:58.493Z"
   },
   {
    "duration": 6,
    "start_time": "2022-05-04T17:22:05.669Z"
   },
   {
    "duration": 71,
    "start_time": "2022-05-04T17:22:05.677Z"
   },
   {
    "duration": 24,
    "start_time": "2022-05-04T17:22:05.749Z"
   },
   {
    "duration": 7,
    "start_time": "2022-05-04T17:22:05.776Z"
   },
   {
    "duration": 10,
    "start_time": "2022-05-04T17:22:05.815Z"
   },
   {
    "duration": 15,
    "start_time": "2022-05-04T17:22:05.828Z"
   },
   {
    "duration": 6,
    "start_time": "2022-05-04T17:22:05.845Z"
   },
   {
    "duration": 20,
    "start_time": "2022-05-04T17:22:05.853Z"
   },
   {
    "duration": 60,
    "start_time": "2022-05-04T17:22:05.875Z"
   },
   {
    "duration": 11,
    "start_time": "2022-05-04T17:22:05.939Z"
   },
   {
    "duration": 196,
    "start_time": "2022-05-04T17:22:05.952Z"
   },
   {
    "duration": 9,
    "start_time": "2022-05-04T17:22:06.150Z"
   },
   {
    "duration": 142,
    "start_time": "2022-05-04T17:22:06.161Z"
   },
   {
    "duration": 11,
    "start_time": "2022-05-04T17:22:06.305Z"
   },
   {
    "duration": 12,
    "start_time": "2022-05-04T17:22:06.318Z"
   },
   {
    "duration": 5,
    "start_time": "2022-05-04T17:22:06.332Z"
   },
   {
    "duration": 10,
    "start_time": "2022-05-04T17:22:06.339Z"
   },
   {
    "duration": 15,
    "start_time": "2022-05-04T17:22:06.351Z"
   },
   {
    "duration": 318,
    "start_time": "2022-05-04T17:22:06.368Z"
   },
   {
    "duration": 317,
    "start_time": "2022-05-04T17:22:06.688Z"
   },
   {
    "duration": 6,
    "start_time": "2022-05-04T17:22:07.008Z"
   },
   {
    "duration": 250,
    "start_time": "2022-05-04T17:22:07.016Z"
   },
   {
    "duration": 4,
    "start_time": "2022-05-04T17:22:33.244Z"
   },
   {
    "duration": 234,
    "start_time": "2022-05-04T17:22:33.496Z"
   },
   {
    "duration": 6,
    "start_time": "2022-05-04T17:25:10.129Z"
   },
   {
    "duration": 391,
    "start_time": "2022-05-04T17:25:10.670Z"
   },
   {
    "duration": 4,
    "start_time": "2022-05-04T17:26:51.083Z"
   },
   {
    "duration": 55,
    "start_time": "2022-05-04T17:26:51.089Z"
   },
   {
    "duration": 22,
    "start_time": "2022-05-04T17:26:51.146Z"
   },
   {
    "duration": 6,
    "start_time": "2022-05-04T17:26:51.170Z"
   },
   {
    "duration": 5,
    "start_time": "2022-05-04T17:26:51.179Z"
   },
   {
    "duration": 37,
    "start_time": "2022-05-04T17:26:51.186Z"
   },
   {
    "duration": 3,
    "start_time": "2022-05-04T17:26:51.225Z"
   },
   {
    "duration": 13,
    "start_time": "2022-05-04T17:26:51.229Z"
   },
   {
    "duration": 13,
    "start_time": "2022-05-04T17:26:51.243Z"
   },
   {
    "duration": 8,
    "start_time": "2022-05-04T17:26:51.257Z"
   },
   {
    "duration": 199,
    "start_time": "2022-05-04T17:26:51.266Z"
   },
   {
    "duration": 7,
    "start_time": "2022-05-04T17:26:51.467Z"
   },
   {
    "duration": 144,
    "start_time": "2022-05-04T17:26:51.476Z"
   },
   {
    "duration": 7,
    "start_time": "2022-05-04T17:26:51.625Z"
   },
   {
    "duration": 8,
    "start_time": "2022-05-04T17:26:51.634Z"
   },
   {
    "duration": 5,
    "start_time": "2022-05-04T17:26:51.644Z"
   },
   {
    "duration": 12,
    "start_time": "2022-05-04T17:26:51.650Z"
   },
   {
    "duration": 6,
    "start_time": "2022-05-04T17:26:51.664Z"
   },
   {
    "duration": 294,
    "start_time": "2022-05-04T17:26:51.671Z"
   },
   {
    "duration": 300,
    "start_time": "2022-05-04T17:26:51.967Z"
   },
   {
    "duration": 6,
    "start_time": "2022-05-04T17:26:52.269Z"
   },
   {
    "duration": 469,
    "start_time": "2022-05-04T17:26:52.277Z"
   },
   {
    "duration": 5,
    "start_time": "2022-05-04T17:26:57.138Z"
   },
   {
    "duration": 422,
    "start_time": "2022-05-04T17:26:57.347Z"
   },
   {
    "duration": 8,
    "start_time": "2022-05-04T17:27:20.717Z"
   },
   {
    "duration": 418,
    "start_time": "2022-05-04T17:27:21.217Z"
   },
   {
    "duration": 5,
    "start_time": "2022-05-04T17:28:17.727Z"
   },
   {
    "duration": 12,
    "start_time": "2022-05-04T17:28:17.734Z"
   },
   {
    "duration": 7,
    "start_time": "2022-05-04T17:28:17.747Z"
   },
   {
    "duration": 287,
    "start_time": "2022-05-04T17:28:17.756Z"
   },
   {
    "duration": 323,
    "start_time": "2022-05-04T17:28:18.046Z"
   },
   {
    "duration": 6,
    "start_time": "2022-05-04T17:28:18.370Z"
   },
   {
    "duration": 466,
    "start_time": "2022-05-04T17:28:18.378Z"
   },
   {
    "duration": 6,
    "start_time": "2022-05-04T17:28:48.017Z"
   },
   {
    "duration": 454,
    "start_time": "2022-05-04T17:28:48.204Z"
   },
   {
    "duration": 90,
    "start_time": "2022-05-04T17:28:55.763Z"
   },
   {
    "duration": 619,
    "start_time": "2022-05-04T17:28:55.942Z"
   },
   {
    "duration": 1330,
    "start_time": "2022-05-06T07:39:13.262Z"
   },
   {
    "duration": 102,
    "start_time": "2022-05-06T07:39:14.595Z"
   },
   {
    "duration": 20,
    "start_time": "2022-05-06T07:39:14.699Z"
   },
   {
    "duration": 6,
    "start_time": "2022-05-06T07:39:14.721Z"
   },
   {
    "duration": 4,
    "start_time": "2022-05-06T07:39:14.729Z"
   },
   {
    "duration": 14,
    "start_time": "2022-05-06T07:39:14.735Z"
   },
   {
    "duration": 6,
    "start_time": "2022-05-06T07:39:14.750Z"
   },
   {
    "duration": 13,
    "start_time": "2022-05-06T07:39:14.757Z"
   },
   {
    "duration": 12,
    "start_time": "2022-05-06T07:39:14.800Z"
   },
   {
    "duration": 14,
    "start_time": "2022-05-06T07:39:14.813Z"
   },
   {
    "duration": 156,
    "start_time": "2022-05-06T07:39:14.828Z"
   },
   {
    "duration": 7,
    "start_time": "2022-05-06T07:39:14.985Z"
   },
   {
    "duration": 123,
    "start_time": "2022-05-06T07:39:14.994Z"
   },
   {
    "duration": 7,
    "start_time": "2022-05-06T07:39:15.120Z"
   },
   {
    "duration": 9,
    "start_time": "2022-05-06T07:39:15.129Z"
   },
   {
    "duration": 6,
    "start_time": "2022-05-06T07:39:15.140Z"
   },
   {
    "duration": 14,
    "start_time": "2022-05-06T07:39:15.147Z"
   },
   {
    "duration": 18,
    "start_time": "2022-05-06T07:39:15.163Z"
   },
   {
    "duration": 313,
    "start_time": "2022-05-06T07:39:15.182Z"
   },
   {
    "duration": 6,
    "start_time": "2022-05-06T07:39:15.496Z"
   },
   {
    "duration": 542,
    "start_time": "2022-05-06T07:39:15.503Z"
   },
   {
    "duration": 8,
    "start_time": "2022-05-06T07:47:25.425Z"
   },
   {
    "duration": 9,
    "start_time": "2022-05-06T07:48:04.234Z"
   },
   {
    "duration": 9,
    "start_time": "2022-05-06T07:48:10.674Z"
   },
   {
    "duration": 8,
    "start_time": "2022-05-06T07:48:18.231Z"
   },
   {
    "duration": 15,
    "start_time": "2022-05-06T07:48:18.241Z"
   },
   {
    "duration": 7,
    "start_time": "2022-05-06T07:48:18.258Z"
   },
   {
    "duration": 234,
    "start_time": "2022-05-06T07:48:18.266Z"
   },
   {
    "duration": 8,
    "start_time": "2022-05-06T07:48:18.502Z"
   },
   {
    "duration": 718,
    "start_time": "2022-05-06T07:48:18.512Z"
   },
   {
    "duration": 9,
    "start_time": "2022-05-06T07:49:53.921Z"
   },
   {
    "duration": 13,
    "start_time": "2022-05-06T07:50:16.971Z"
   },
   {
    "duration": 8,
    "start_time": "2022-05-06T07:50:17.208Z"
   },
   {
    "duration": 8,
    "start_time": "2022-05-06T07:50:23.416Z"
   },
   {
    "duration": 10,
    "start_time": "2022-05-06T07:50:23.769Z"
   },
   {
    "duration": 10,
    "start_time": "2022-05-06T07:50:26.862Z"
   },
   {
    "duration": 8,
    "start_time": "2022-05-06T07:50:26.874Z"
   },
   {
    "duration": 303,
    "start_time": "2022-05-06T07:50:26.884Z"
   },
   {
    "duration": 210,
    "start_time": "2022-05-06T07:50:27.188Z"
   },
   {
    "duration": 0,
    "start_time": "2022-05-06T07:50:27.399Z"
   },
   {
    "duration": 7,
    "start_time": "2022-05-06T07:50:52.869Z"
   },
   {
    "duration": 644,
    "start_time": "2022-05-06T07:50:52.878Z"
   },
   {
    "duration": 7,
    "start_time": "2022-05-06T07:51:21.805Z"
   },
   {
    "duration": 630,
    "start_time": "2022-05-06T07:51:21.994Z"
   },
   {
    "duration": 7,
    "start_time": "2022-05-06T07:52:00.670Z"
   },
   {
    "duration": 687,
    "start_time": "2022-05-06T07:52:01.075Z"
   },
   {
    "duration": 8,
    "start_time": "2022-05-06T07:52:10.223Z"
   },
   {
    "duration": 680,
    "start_time": "2022-05-06T07:52:10.698Z"
   },
   {
    "duration": 80,
    "start_time": "2022-05-06T07:54:24.550Z"
   },
   {
    "duration": 119,
    "start_time": "2022-05-06T07:54:25.017Z"
   },
   {
    "duration": 7,
    "start_time": "2022-05-06T07:55:04.857Z"
   },
   {
    "duration": 667,
    "start_time": "2022-05-06T07:55:05.047Z"
   },
   {
    "duration": 7,
    "start_time": "2022-05-06T07:55:13.645Z"
   },
   {
    "duration": 715,
    "start_time": "2022-05-06T07:55:14.291Z"
   },
   {
    "duration": 7,
    "start_time": "2022-05-06T07:56:20.731Z"
   },
   {
    "duration": 656,
    "start_time": "2022-05-06T07:56:20.938Z"
   },
   {
    "duration": 7,
    "start_time": "2022-05-06T07:56:25.071Z"
   },
   {
    "duration": 780,
    "start_time": "2022-05-06T07:56:25.410Z"
   },
   {
    "duration": 8,
    "start_time": "2022-05-06T07:56:30.267Z"
   },
   {
    "duration": 661,
    "start_time": "2022-05-06T07:56:30.642Z"
   },
   {
    "duration": 7,
    "start_time": "2022-05-06T07:56:34.654Z"
   },
   {
    "duration": 658,
    "start_time": "2022-05-06T07:56:35.383Z"
   },
   {
    "duration": 8,
    "start_time": "2022-05-06T07:56:39.008Z"
   },
   {
    "duration": 661,
    "start_time": "2022-05-06T07:56:39.222Z"
   },
   {
    "duration": 7,
    "start_time": "2022-05-06T07:56:44.830Z"
   },
   {
    "duration": 760,
    "start_time": "2022-05-06T07:56:45.014Z"
   },
   {
    "duration": 8,
    "start_time": "2022-05-06T07:59:07.662Z"
   },
   {
    "duration": 653,
    "start_time": "2022-05-06T07:59:07.855Z"
   },
   {
    "duration": 7,
    "start_time": "2022-05-06T07:59:22.484Z"
   },
   {
    "duration": 662,
    "start_time": "2022-05-06T07:59:22.678Z"
   },
   {
    "duration": 7,
    "start_time": "2022-05-06T08:30:55.998Z"
   },
   {
    "duration": 644,
    "start_time": "2022-05-06T08:30:56.206Z"
   },
   {
    "duration": 4,
    "start_time": "2022-05-06T08:46:54.592Z"
   },
   {
    "duration": 107,
    "start_time": "2022-05-06T08:46:54.597Z"
   },
   {
    "duration": 16,
    "start_time": "2022-05-06T08:46:54.705Z"
   },
   {
    "duration": 6,
    "start_time": "2022-05-06T08:46:54.722Z"
   },
   {
    "duration": 4,
    "start_time": "2022-05-06T08:46:54.730Z"
   },
   {
    "duration": 12,
    "start_time": "2022-05-06T08:46:54.736Z"
   },
   {
    "duration": 8,
    "start_time": "2022-05-06T08:46:54.749Z"
   },
   {
    "duration": 12,
    "start_time": "2022-05-06T08:46:54.758Z"
   },
   {
    "duration": 39,
    "start_time": "2022-05-06T08:46:54.771Z"
   },
   {
    "duration": 7,
    "start_time": "2022-05-06T08:46:54.812Z"
   },
   {
    "duration": 158,
    "start_time": "2022-05-06T08:46:54.821Z"
   },
   {
    "duration": 8,
    "start_time": "2022-05-06T08:46:54.980Z"
   },
   {
    "duration": 118,
    "start_time": "2022-05-06T08:46:54.990Z"
   },
   {
    "duration": 6,
    "start_time": "2022-05-06T08:46:55.111Z"
   },
   {
    "duration": 8,
    "start_time": "2022-05-06T08:46:55.119Z"
   },
   {
    "duration": 8,
    "start_time": "2022-05-06T08:46:55.128Z"
   },
   {
    "duration": 9,
    "start_time": "2022-05-06T08:46:55.137Z"
   },
   {
    "duration": 12,
    "start_time": "2022-05-06T08:46:55.147Z"
   },
   {
    "duration": 10,
    "start_time": "2022-05-06T08:46:55.161Z"
   },
   {
    "duration": 255,
    "start_time": "2022-05-06T08:46:55.172Z"
   },
   {
    "duration": 6,
    "start_time": "2022-05-06T08:46:55.429Z"
   },
   {
    "duration": 740,
    "start_time": "2022-05-06T08:46:55.436Z"
   },
   {
    "duration": 11,
    "start_time": "2022-05-06T08:53:31.540Z"
   },
   {
    "duration": 7,
    "start_time": "2022-05-06T08:53:33.917Z"
   },
   {
    "duration": 645,
    "start_time": "2022-05-06T08:53:34.290Z"
   },
   {
    "duration": 7,
    "start_time": "2022-05-06T08:54:13.164Z"
   },
   {
    "duration": 8,
    "start_time": "2022-05-06T08:55:00.755Z"
   },
   {
    "duration": 7,
    "start_time": "2022-05-06T08:55:02.276Z"
   },
   {
    "duration": 655,
    "start_time": "2022-05-06T08:55:02.502Z"
   },
   {
    "duration": 9,
    "start_time": "2022-05-06T08:55:03.158Z"
   },
   {
    "duration": 7,
    "start_time": "2022-05-06T08:55:27.407Z"
   },
   {
    "duration": 9,
    "start_time": "2022-05-06T08:56:55.037Z"
   },
   {
    "duration": 8,
    "start_time": "2022-05-06T08:56:55.048Z"
   },
   {
    "duration": 644,
    "start_time": "2022-05-06T08:56:55.058Z"
   },
   {
    "duration": 8,
    "start_time": "2022-05-06T08:56:55.704Z"
   },
   {
    "duration": 6,
    "start_time": "2022-05-06T08:56:55.714Z"
   },
   {
    "duration": 5,
    "start_time": "2022-05-06T08:58:12.862Z"
   },
   {
    "duration": 4,
    "start_time": "2022-05-06T08:58:29.848Z"
   },
   {
    "duration": 238,
    "start_time": "2022-05-06T08:58:30.066Z"
   },
   {
    "duration": 5,
    "start_time": "2022-05-06T09:00:21.682Z"
   },
   {
    "duration": 402,
    "start_time": "2022-05-06T09:00:21.926Z"
   },
   {
    "duration": 5,
    "start_time": "2022-05-06T09:01:15.959Z"
   },
   {
    "duration": 359,
    "start_time": "2022-05-06T09:01:16.523Z"
   },
   {
    "duration": 5,
    "start_time": "2022-05-06T09:01:36.020Z"
   },
   {
    "duration": 157,
    "start_time": "2022-05-06T09:01:36.241Z"
   },
   {
    "duration": 4,
    "start_time": "2022-05-06T09:01:49.707Z"
   },
   {
    "duration": 324,
    "start_time": "2022-05-06T09:01:49.919Z"
   },
   {
    "duration": 4,
    "start_time": "2022-05-06T09:02:31.067Z"
   },
   {
    "duration": 300,
    "start_time": "2022-05-06T09:02:31.425Z"
   },
   {
    "duration": 5,
    "start_time": "2022-05-06T09:02:55.477Z"
   },
   {
    "duration": 281,
    "start_time": "2022-05-06T09:02:55.732Z"
   },
   {
    "duration": 5,
    "start_time": "2022-05-06T09:03:27.532Z"
   },
   {
    "duration": 365,
    "start_time": "2022-05-06T09:03:27.777Z"
   },
   {
    "duration": 5,
    "start_time": "2022-05-06T09:03:36.012Z"
   },
   {
    "duration": 435,
    "start_time": "2022-05-06T09:03:36.233Z"
   },
   {
    "duration": 6,
    "start_time": "2022-05-06T09:03:41.705Z"
   },
   {
    "duration": 290,
    "start_time": "2022-05-06T09:03:41.925Z"
   },
   {
    "duration": 5,
    "start_time": "2022-05-06T09:04:00.592Z"
   },
   {
    "duration": 615,
    "start_time": "2022-05-06T09:04:00.842Z"
   },
   {
    "duration": 5,
    "start_time": "2022-05-06T09:04:21.703Z"
   },
   {
    "duration": 394,
    "start_time": "2022-05-06T09:04:21.895Z"
   },
   {
    "duration": 107,
    "start_time": "2022-05-06T09:04:39.874Z"
   },
   {
    "duration": 408,
    "start_time": "2022-05-06T09:04:40.171Z"
   },
   {
    "duration": 6,
    "start_time": "2022-05-06T09:04:52.101Z"
   },
   {
    "duration": 409,
    "start_time": "2022-05-06T09:04:52.286Z"
   },
   {
    "duration": 6,
    "start_time": "2022-05-06T09:05:23.910Z"
   },
   {
    "duration": 445,
    "start_time": "2022-05-06T09:05:24.193Z"
   },
   {
    "duration": 5,
    "start_time": "2022-05-06T09:05:50.383Z"
   },
   {
    "duration": 433,
    "start_time": "2022-05-06T09:05:50.588Z"
   },
   {
    "duration": 5,
    "start_time": "2022-05-06T09:05:58.850Z"
   },
   {
    "duration": 435,
    "start_time": "2022-05-06T09:05:59.041Z"
   },
   {
    "duration": 196,
    "start_time": "2022-05-06T09:10:10.967Z"
   },
   {
    "duration": 9,
    "start_time": "2022-05-06T09:10:22.223Z"
   },
   {
    "duration": 8,
    "start_time": "2022-05-06T09:10:36.264Z"
   },
   {
    "duration": 9,
    "start_time": "2022-05-06T09:10:38.334Z"
   },
   {
    "duration": 8,
    "start_time": "2022-05-06T09:10:38.540Z"
   },
   {
    "duration": 8,
    "start_time": "2022-05-06T09:17:33.598Z"
   },
   {
    "duration": 646,
    "start_time": "2022-05-06T09:17:33.608Z"
   },
   {
    "duration": 9,
    "start_time": "2022-05-06T09:17:34.255Z"
   },
   {
    "duration": 6,
    "start_time": "2022-05-06T09:17:34.265Z"
   },
   {
    "duration": 415,
    "start_time": "2022-05-06T09:17:34.272Z"
   },
   {
    "duration": 1067,
    "start_time": "2022-05-06T09:17:50.315Z"
   },
   {
    "duration": 79,
    "start_time": "2022-05-06T09:17:51.384Z"
   },
   {
    "duration": 18,
    "start_time": "2022-05-06T09:17:51.465Z"
   },
   {
    "duration": 5,
    "start_time": "2022-05-06T09:17:51.485Z"
   },
   {
    "duration": 6,
    "start_time": "2022-05-06T09:17:51.491Z"
   },
   {
    "duration": 13,
    "start_time": "2022-05-06T09:17:51.498Z"
   },
   {
    "duration": 6,
    "start_time": "2022-05-06T09:17:51.513Z"
   },
   {
    "duration": 14,
    "start_time": "2022-05-06T09:17:51.520Z"
   },
   {
    "duration": 13,
    "start_time": "2022-05-06T09:17:51.535Z"
   },
   {
    "duration": 11,
    "start_time": "2022-05-06T09:17:51.550Z"
   },
   {
    "duration": 170,
    "start_time": "2022-05-06T09:17:51.563Z"
   },
   {
    "duration": 7,
    "start_time": "2022-05-06T09:17:51.735Z"
   },
   {
    "duration": 117,
    "start_time": "2022-05-06T09:17:51.743Z"
   },
   {
    "duration": 6,
    "start_time": "2022-05-06T09:17:51.862Z"
   },
   {
    "duration": 8,
    "start_time": "2022-05-06T09:17:51.870Z"
   },
   {
    "duration": 21,
    "start_time": "2022-05-06T09:17:51.879Z"
   },
   {
    "duration": 8,
    "start_time": "2022-05-06T09:17:51.901Z"
   },
   {
    "duration": 10,
    "start_time": "2022-05-06T09:17:51.910Z"
   },
   {
    "duration": 9,
    "start_time": "2022-05-06T09:17:51.921Z"
   },
   {
    "duration": 7,
    "start_time": "2022-05-06T09:17:51.931Z"
   },
   {
    "duration": 7,
    "start_time": "2022-05-06T09:17:51.939Z"
   },
   {
    "duration": 710,
    "start_time": "2022-05-06T09:17:51.947Z"
   },
   {
    "duration": 8,
    "start_time": "2022-05-06T09:17:52.658Z"
   },
   {
    "duration": 6,
    "start_time": "2022-05-06T09:17:52.668Z"
   },
   {
    "duration": 89,
    "start_time": "2022-05-06T09:17:52.675Z"
   },
   {
    "duration": 5,
    "start_time": "2022-05-06T09:18:43.053Z"
   },
   {
    "duration": 125,
    "start_time": "2022-05-06T09:18:43.490Z"
   },
   {
    "duration": 5,
    "start_time": "2022-05-06T09:19:08.352Z"
   },
   {
    "duration": 447,
    "start_time": "2022-05-06T09:19:08.559Z"
   },
   {
    "duration": 6,
    "start_time": "2022-05-06T09:20:18.110Z"
   },
   {
    "duration": 352,
    "start_time": "2022-05-06T09:20:18.549Z"
   },
   {
    "duration": 5,
    "start_time": "2022-05-06T09:20:51.668Z"
   },
   {
    "duration": 398,
    "start_time": "2022-05-06T09:20:51.971Z"
   },
   {
    "duration": 6,
    "start_time": "2022-05-06T09:21:02.126Z"
   },
   {
    "duration": 412,
    "start_time": "2022-05-06T09:21:02.306Z"
   },
   {
    "duration": 73,
    "start_time": "2022-05-06T09:22:05.665Z"
   },
   {
    "duration": 407,
    "start_time": "2022-05-06T09:22:05.841Z"
   },
   {
    "duration": 6,
    "start_time": "2022-05-06T09:22:18.933Z"
   },
   {
    "duration": 366,
    "start_time": "2022-05-06T09:22:19.230Z"
   },
   {
    "duration": 7,
    "start_time": "2022-05-06T09:23:20.655Z"
   },
   {
    "duration": 652,
    "start_time": "2022-05-06T09:23:21.009Z"
   },
   {
    "duration": 7,
    "start_time": "2022-05-06T09:23:40.645Z"
   },
   {
    "duration": 651,
    "start_time": "2022-05-06T09:23:40.852Z"
   },
   {
    "duration": 7,
    "start_time": "2022-05-06T09:23:55.908Z"
   },
   {
    "duration": 658,
    "start_time": "2022-05-06T09:23:56.054Z"
   },
   {
    "duration": 1217,
    "start_time": "2022-05-07T11:36:44.747Z"
   },
   {
    "duration": 175,
    "start_time": "2022-05-07T11:36:45.966Z"
   },
   {
    "duration": 20,
    "start_time": "2022-05-07T11:36:46.142Z"
   },
   {
    "duration": 7,
    "start_time": "2022-05-07T11:36:46.164Z"
   },
   {
    "duration": 6,
    "start_time": "2022-05-07T11:36:46.173Z"
   },
   {
    "duration": 24,
    "start_time": "2022-05-07T11:36:46.181Z"
   },
   {
    "duration": 3,
    "start_time": "2022-05-07T11:36:46.206Z"
   },
   {
    "duration": 13,
    "start_time": "2022-05-07T11:36:46.211Z"
   },
   {
    "duration": 11,
    "start_time": "2022-05-07T11:36:46.225Z"
   },
   {
    "duration": 8,
    "start_time": "2022-05-07T11:36:46.238Z"
   },
   {
    "duration": 176,
    "start_time": "2022-05-07T11:36:46.248Z"
   },
   {
    "duration": 9,
    "start_time": "2022-05-07T11:36:46.426Z"
   },
   {
    "duration": 171,
    "start_time": "2022-05-07T11:36:46.436Z"
   },
   {
    "duration": 11,
    "start_time": "2022-05-07T11:36:46.610Z"
   },
   {
    "duration": 10,
    "start_time": "2022-05-07T11:36:46.622Z"
   },
   {
    "duration": 10,
    "start_time": "2022-05-07T11:36:46.633Z"
   },
   {
    "duration": 10,
    "start_time": "2022-05-07T11:36:46.645Z"
   },
   {
    "duration": 10,
    "start_time": "2022-05-07T11:36:46.657Z"
   },
   {
    "duration": 32,
    "start_time": "2022-05-07T11:36:46.668Z"
   },
   {
    "duration": 10,
    "start_time": "2022-05-07T11:36:46.702Z"
   },
   {
    "duration": 10,
    "start_time": "2022-05-07T11:36:46.713Z"
   },
   {
    "duration": 728,
    "start_time": "2022-05-07T11:36:46.725Z"
   },
   {
    "duration": 9,
    "start_time": "2022-05-07T11:36:47.454Z"
   },
   {
    "duration": 11,
    "start_time": "2022-05-07T11:36:47.464Z"
   },
   {
    "duration": 673,
    "start_time": "2022-05-07T11:36:47.476Z"
   },
   {
    "duration": 11,
    "start_time": "2022-05-07T11:42:11.842Z"
   },
   {
    "duration": 14,
    "start_time": "2022-05-07T11:42:35.606Z"
   },
   {
    "duration": 10,
    "start_time": "2022-05-07T11:42:38.499Z"
   },
   {
    "duration": 10,
    "start_time": "2022-05-07T11:44:04.186Z"
   },
   {
    "duration": 6,
    "start_time": "2022-05-07T11:46:17.690Z"
   },
   {
    "duration": 288,
    "start_time": "2022-05-07T11:46:18.107Z"
   },
   {
    "duration": 5,
    "start_time": "2022-05-07T11:47:44.238Z"
   },
   {
    "duration": 414,
    "start_time": "2022-05-07T11:47:44.836Z"
   },
   {
    "duration": 6,
    "start_time": "2022-05-07T12:01:42.222Z"
   },
   {
    "duration": 4,
    "start_time": "2022-05-07T12:02:44.622Z"
   },
   {
    "duration": 4,
    "start_time": "2022-05-07T12:02:54.320Z"
   },
   {
    "duration": 4,
    "start_time": "2022-05-07T12:04:09.956Z"
   },
   {
    "duration": 3,
    "start_time": "2022-05-07T12:04:20.543Z"
   },
   {
    "duration": 5,
    "start_time": "2022-05-07T12:04:23.078Z"
   },
   {
    "duration": 15,
    "start_time": "2022-05-07T12:04:51.890Z"
   },
   {
    "duration": 10,
    "start_time": "2022-05-07T12:04:54.948Z"
   },
   {
    "duration": 5,
    "start_time": "2022-05-07T12:05:20.969Z"
   },
   {
    "duration": 5,
    "start_time": "2022-05-07T12:05:27.036Z"
   },
   {
    "duration": 12,
    "start_time": "2022-05-07T12:15:43.680Z"
   },
   {
    "duration": 8,
    "start_time": "2022-05-07T12:15:48.024Z"
   },
   {
    "duration": 89,
    "start_time": "2022-05-07T12:17:58.699Z"
   },
   {
    "duration": 4,
    "start_time": "2022-05-07T12:18:12.922Z"
   },
   {
    "duration": 77,
    "start_time": "2022-05-07T12:18:12.928Z"
   },
   {
    "duration": 19,
    "start_time": "2022-05-07T12:18:13.006Z"
   },
   {
    "duration": 6,
    "start_time": "2022-05-07T12:18:13.027Z"
   },
   {
    "duration": 6,
    "start_time": "2022-05-07T12:18:13.035Z"
   },
   {
    "duration": 13,
    "start_time": "2022-05-07T12:18:13.042Z"
   },
   {
    "duration": 5,
    "start_time": "2022-05-07T12:18:13.057Z"
   },
   {
    "duration": 43,
    "start_time": "2022-05-07T12:18:13.063Z"
   },
   {
    "duration": 11,
    "start_time": "2022-05-07T12:18:13.108Z"
   },
   {
    "duration": 12,
    "start_time": "2022-05-07T12:18:13.122Z"
   },
   {
    "duration": 159,
    "start_time": "2022-05-07T12:18:13.136Z"
   },
   {
    "duration": 8,
    "start_time": "2022-05-07T12:18:13.300Z"
   },
   {
    "duration": 113,
    "start_time": "2022-05-07T12:18:13.309Z"
   },
   {
    "duration": 7,
    "start_time": "2022-05-07T12:18:13.423Z"
   },
   {
    "duration": 8,
    "start_time": "2022-05-07T12:18:13.431Z"
   },
   {
    "duration": 9,
    "start_time": "2022-05-07T12:18:13.440Z"
   },
   {
    "duration": 8,
    "start_time": "2022-05-07T12:18:13.450Z"
   },
   {
    "duration": 10,
    "start_time": "2022-05-07T12:18:13.460Z"
   },
   {
    "duration": 35,
    "start_time": "2022-05-07T12:18:13.472Z"
   },
   {
    "duration": 13,
    "start_time": "2022-05-07T12:18:13.509Z"
   },
   {
    "duration": 14,
    "start_time": "2022-05-07T12:18:13.523Z"
   },
   {
    "duration": 802,
    "start_time": "2022-05-07T12:18:13.539Z"
   },
   {
    "duration": 9,
    "start_time": "2022-05-07T12:18:14.343Z"
   },
   {
    "duration": 10,
    "start_time": "2022-05-07T12:18:14.353Z"
   },
   {
    "duration": 12,
    "start_time": "2022-05-07T12:18:14.365Z"
   },
   {
    "duration": 0,
    "start_time": "2022-05-07T12:18:14.379Z"
   },
   {
    "duration": 0,
    "start_time": "2022-05-07T12:18:14.380Z"
   },
   {
    "duration": 0,
    "start_time": "2022-05-07T12:18:14.381Z"
   },
   {
    "duration": 0,
    "start_time": "2022-05-07T12:18:14.382Z"
   },
   {
    "duration": 0,
    "start_time": "2022-05-07T12:18:14.383Z"
   },
   {
    "duration": 0,
    "start_time": "2022-05-07T12:18:14.401Z"
   },
   {
    "duration": 0,
    "start_time": "2022-05-07T12:18:14.402Z"
   },
   {
    "duration": 0,
    "start_time": "2022-05-07T12:18:14.403Z"
   },
   {
    "duration": 0,
    "start_time": "2022-05-07T12:18:14.405Z"
   },
   {
    "duration": 406,
    "start_time": "2022-05-07T12:18:30.923Z"
   },
   {
    "duration": 12,
    "start_time": "2022-05-07T12:18:33.957Z"
   },
   {
    "duration": 20,
    "start_time": "2022-05-07T12:18:33.972Z"
   },
   {
    "duration": 18,
    "start_time": "2022-05-07T12:18:33.994Z"
   },
   {
    "duration": 302,
    "start_time": "2022-05-07T12:18:34.014Z"
   },
   {
    "duration": 8,
    "start_time": "2022-05-07T12:18:34.318Z"
   },
   {
    "duration": 13,
    "start_time": "2022-05-07T12:18:34.327Z"
   },
   {
    "duration": 13,
    "start_time": "2022-05-07T12:18:34.342Z"
   },
   {
    "duration": 23,
    "start_time": "2022-05-07T12:18:34.357Z"
   },
   {
    "duration": 18,
    "start_time": "2022-05-07T12:18:34.382Z"
   },
   {
    "duration": 11,
    "start_time": "2022-05-07T12:19:27.322Z"
   },
   {
    "duration": 12,
    "start_time": "2022-05-07T12:20:51.503Z"
   },
   {
    "duration": 10,
    "start_time": "2022-05-07T12:20:56.479Z"
   },
   {
    "duration": 4,
    "start_time": "2022-05-07T12:20:58.416Z"
   },
   {
    "duration": 88,
    "start_time": "2022-05-07T12:20:58.423Z"
   },
   {
    "duration": 21,
    "start_time": "2022-05-07T12:20:58.513Z"
   },
   {
    "duration": 7,
    "start_time": "2022-05-07T12:20:58.535Z"
   },
   {
    "duration": 4,
    "start_time": "2022-05-07T12:20:58.544Z"
   },
   {
    "duration": 18,
    "start_time": "2022-05-07T12:20:58.550Z"
   },
   {
    "duration": 3,
    "start_time": "2022-05-07T12:20:58.600Z"
   },
   {
    "duration": 16,
    "start_time": "2022-05-07T12:20:58.605Z"
   },
   {
    "duration": 14,
    "start_time": "2022-05-07T12:20:58.622Z"
   },
   {
    "duration": 14,
    "start_time": "2022-05-07T12:20:58.638Z"
   },
   {
    "duration": 156,
    "start_time": "2022-05-07T12:20:58.653Z"
   },
   {
    "duration": 9,
    "start_time": "2022-05-07T12:20:58.811Z"
   },
   {
    "duration": 122,
    "start_time": "2022-05-07T12:20:58.821Z"
   },
   {
    "duration": 8,
    "start_time": "2022-05-07T12:20:58.946Z"
   },
   {
    "duration": 9,
    "start_time": "2022-05-07T12:20:58.955Z"
   },
   {
    "duration": 9,
    "start_time": "2022-05-07T12:20:58.965Z"
   },
   {
    "duration": 28,
    "start_time": "2022-05-07T12:20:58.976Z"
   },
   {
    "duration": 8,
    "start_time": "2022-05-07T12:20:59.006Z"
   },
   {
    "duration": 9,
    "start_time": "2022-05-07T12:20:59.015Z"
   },
   {
    "duration": 9,
    "start_time": "2022-05-07T12:20:59.026Z"
   },
   {
    "duration": 6,
    "start_time": "2022-05-07T12:20:59.037Z"
   },
   {
    "duration": 585,
    "start_time": "2022-05-07T12:20:59.045Z"
   },
   {
    "duration": 8,
    "start_time": "2022-05-07T12:20:59.632Z"
   },
   {
    "duration": 6,
    "start_time": "2022-05-07T12:20:59.642Z"
   },
   {
    "duration": 429,
    "start_time": "2022-05-07T12:20:59.649Z"
   },
   {
    "duration": 10,
    "start_time": "2022-05-07T12:21:00.079Z"
   },
   {
    "duration": 14,
    "start_time": "2022-05-07T12:21:00.091Z"
   },
   {
    "duration": 6,
    "start_time": "2022-05-07T12:21:00.107Z"
   },
   {
    "duration": 297,
    "start_time": "2022-05-07T12:21:00.115Z"
   },
   {
    "duration": 10,
    "start_time": "2022-05-07T12:21:00.414Z"
   },
   {
    "duration": 22,
    "start_time": "2022-05-07T12:21:00.426Z"
   },
   {
    "duration": 12,
    "start_time": "2022-05-07T12:21:00.450Z"
   },
   {
    "duration": 20,
    "start_time": "2022-05-07T12:21:00.463Z"
   },
   {
    "duration": 29,
    "start_time": "2022-05-07T12:21:00.485Z"
   },
   {
    "duration": 15,
    "start_time": "2022-05-07T12:43:48.361Z"
   },
   {
    "duration": 8,
    "start_time": "2022-05-07T12:43:50.984Z"
   },
   {
    "duration": 17,
    "start_time": "2022-05-07T12:44:03.126Z"
   },
   {
    "duration": 9,
    "start_time": "2022-05-07T12:44:03.339Z"
   },
   {
    "duration": 8,
    "start_time": "2022-05-07T12:44:06.553Z"
   },
   {
    "duration": 6,
    "start_time": "2022-05-07T12:50:29.016Z"
   },
   {
    "duration": 8,
    "start_time": "2022-05-07T12:50:29.252Z"
   },
   {
    "duration": 18,
    "start_time": "2022-05-07T12:52:26.151Z"
   },
   {
    "duration": 8,
    "start_time": "2022-05-07T12:52:37.453Z"
   },
   {
    "duration": 5,
    "start_time": "2022-05-07T12:54:36.674Z"
   },
   {
    "duration": 185,
    "start_time": "2022-05-07T12:54:36.682Z"
   },
   {
    "duration": 22,
    "start_time": "2022-05-07T12:54:36.869Z"
   },
   {
    "duration": 6,
    "start_time": "2022-05-07T12:54:36.893Z"
   },
   {
    "duration": 7,
    "start_time": "2022-05-07T12:54:36.901Z"
   },
   {
    "duration": 19,
    "start_time": "2022-05-07T12:54:36.909Z"
   },
   {
    "duration": 3,
    "start_time": "2022-05-07T12:54:36.929Z"
   },
   {
    "duration": 12,
    "start_time": "2022-05-07T12:54:36.934Z"
   },
   {
    "duration": 12,
    "start_time": "2022-05-07T12:54:36.947Z"
   },
   {
    "duration": 10,
    "start_time": "2022-05-07T12:54:36.962Z"
   },
   {
    "duration": 255,
    "start_time": "2022-05-07T12:54:36.974Z"
   },
   {
    "duration": 11,
    "start_time": "2022-05-07T12:54:37.230Z"
   },
   {
    "duration": 131,
    "start_time": "2022-05-07T12:54:37.242Z"
   },
   {
    "duration": 9,
    "start_time": "2022-05-07T12:54:37.377Z"
   },
   {
    "duration": 18,
    "start_time": "2022-05-07T12:54:37.387Z"
   },
   {
    "duration": 17,
    "start_time": "2022-05-07T12:54:37.406Z"
   },
   {
    "duration": 5,
    "start_time": "2022-05-07T12:54:37.424Z"
   },
   {
    "duration": 10,
    "start_time": "2022-05-07T12:54:37.431Z"
   },
   {
    "duration": 13,
    "start_time": "2022-05-07T12:54:37.443Z"
   },
   {
    "duration": 9,
    "start_time": "2022-05-07T12:54:37.457Z"
   },
   {
    "duration": 35,
    "start_time": "2022-05-07T12:54:37.468Z"
   },
   {
    "duration": 7,
    "start_time": "2022-05-07T12:54:37.505Z"
   },
   {
    "duration": 806,
    "start_time": "2022-05-07T12:54:37.513Z"
   },
   {
    "duration": 11,
    "start_time": "2022-05-07T12:54:38.321Z"
   },
   {
    "duration": 9,
    "start_time": "2022-05-07T12:54:38.333Z"
   },
   {
    "duration": 552,
    "start_time": "2022-05-07T12:54:38.344Z"
   },
   {
    "duration": 14,
    "start_time": "2022-05-07T12:54:38.898Z"
   },
   {
    "duration": 9,
    "start_time": "2022-05-07T12:54:38.915Z"
   },
   {
    "duration": 8,
    "start_time": "2022-05-07T12:54:38.926Z"
   },
   {
    "duration": 464,
    "start_time": "2022-05-07T12:54:38.936Z"
   },
   {
    "duration": 9,
    "start_time": "2022-05-07T12:54:39.401Z"
   },
   {
    "duration": 9,
    "start_time": "2022-05-07T12:54:39.412Z"
   },
   {
    "duration": 9,
    "start_time": "2022-05-07T12:54:39.422Z"
   },
   {
    "duration": 13,
    "start_time": "2022-05-07T12:54:39.433Z"
   },
   {
    "duration": 18,
    "start_time": "2022-05-07T12:54:39.447Z"
   },
   {
    "duration": 13,
    "start_time": "2022-05-07T12:55:42.127Z"
   },
   {
    "duration": 9,
    "start_time": "2022-05-07T12:55:47.183Z"
   },
   {
    "duration": 7,
    "start_time": "2022-05-07T12:55:47.233Z"
   },
   {
    "duration": 11,
    "start_time": "2022-05-07T12:56:24.581Z"
   },
   {
    "duration": 6,
    "start_time": "2022-05-07T12:56:25.193Z"
   },
   {
    "duration": 13,
    "start_time": "2022-05-07T12:56:44.170Z"
   },
   {
    "duration": 7,
    "start_time": "2022-05-07T12:56:46.922Z"
   },
   {
    "duration": 7,
    "start_time": "2022-05-07T12:56:54.591Z"
   },
   {
    "duration": 13,
    "start_time": "2022-05-07T13:01:44.155Z"
   },
   {
    "duration": 3185,
    "start_time": "2022-05-07T13:01:44.717Z"
   },
   {
    "duration": 0,
    "start_time": "2022-05-07T13:01:47.904Z"
   },
   {
    "duration": 4,
    "start_time": "2022-05-07T13:01:59.893Z"
   },
   {
    "duration": 90,
    "start_time": "2022-05-07T13:01:59.899Z"
   },
   {
    "duration": 17,
    "start_time": "2022-05-07T13:01:59.991Z"
   },
   {
    "duration": 8,
    "start_time": "2022-05-07T13:02:00.009Z"
   },
   {
    "duration": 10,
    "start_time": "2022-05-07T13:02:00.020Z"
   },
   {
    "duration": 13,
    "start_time": "2022-05-07T13:02:00.032Z"
   },
   {
    "duration": 7,
    "start_time": "2022-05-07T13:02:00.046Z"
   },
   {
    "duration": 13,
    "start_time": "2022-05-07T13:02:00.054Z"
   },
   {
    "duration": 34,
    "start_time": "2022-05-07T13:02:00.069Z"
   },
   {
    "duration": 8,
    "start_time": "2022-05-07T13:02:00.105Z"
   },
   {
    "duration": 219,
    "start_time": "2022-05-07T13:02:00.115Z"
   },
   {
    "duration": 10,
    "start_time": "2022-05-07T13:02:00.336Z"
   },
   {
    "duration": 168,
    "start_time": "2022-05-07T13:02:00.347Z"
   },
   {
    "duration": 9,
    "start_time": "2022-05-07T13:02:00.519Z"
   },
   {
    "duration": 13,
    "start_time": "2022-05-07T13:02:00.530Z"
   },
   {
    "duration": 35,
    "start_time": "2022-05-07T13:02:00.544Z"
   },
   {
    "duration": 3142,
    "start_time": "2022-05-07T13:02:00.580Z"
   },
   {
    "duration": 0,
    "start_time": "2022-05-07T13:02:03.723Z"
   },
   {
    "duration": 0,
    "start_time": "2022-05-07T13:02:03.725Z"
   },
   {
    "duration": 0,
    "start_time": "2022-05-07T13:02:03.726Z"
   },
   {
    "duration": 0,
    "start_time": "2022-05-07T13:02:03.727Z"
   },
   {
    "duration": 0,
    "start_time": "2022-05-07T13:02:03.728Z"
   },
   {
    "duration": 0,
    "start_time": "2022-05-07T13:02:03.729Z"
   },
   {
    "duration": 0,
    "start_time": "2022-05-07T13:02:03.731Z"
   },
   {
    "duration": 0,
    "start_time": "2022-05-07T13:02:03.732Z"
   },
   {
    "duration": 0,
    "start_time": "2022-05-07T13:02:03.733Z"
   },
   {
    "duration": 0,
    "start_time": "2022-05-07T13:02:03.735Z"
   },
   {
    "duration": 0,
    "start_time": "2022-05-07T13:02:03.736Z"
   },
   {
    "duration": 0,
    "start_time": "2022-05-07T13:02:03.737Z"
   },
   {
    "duration": 1,
    "start_time": "2022-05-07T13:02:03.738Z"
   },
   {
    "duration": 0,
    "start_time": "2022-05-07T13:02:03.740Z"
   },
   {
    "duration": 0,
    "start_time": "2022-05-07T13:02:03.742Z"
   },
   {
    "duration": 0,
    "start_time": "2022-05-07T13:02:03.743Z"
   },
   {
    "duration": 0,
    "start_time": "2022-05-07T13:02:03.744Z"
   },
   {
    "duration": 0,
    "start_time": "2022-05-07T13:02:03.745Z"
   },
   {
    "duration": 0,
    "start_time": "2022-05-07T13:02:03.747Z"
   },
   {
    "duration": 14,
    "start_time": "2022-05-07T13:02:08.603Z"
   },
   {
    "duration": 7,
    "start_time": "2022-05-07T13:02:09.977Z"
   },
   {
    "duration": 11,
    "start_time": "2022-05-07T13:02:12.546Z"
   },
   {
    "duration": 14,
    "start_time": "2022-05-07T13:02:12.559Z"
   },
   {
    "duration": 12,
    "start_time": "2022-05-07T13:02:12.574Z"
   },
   {
    "duration": 15,
    "start_time": "2022-05-07T13:02:12.587Z"
   },
   {
    "duration": 9,
    "start_time": "2022-05-07T13:02:12.605Z"
   },
   {
    "duration": 520,
    "start_time": "2022-05-07T13:02:12.615Z"
   },
   {
    "duration": 8,
    "start_time": "2022-05-07T13:02:13.136Z"
   },
   {
    "duration": 7,
    "start_time": "2022-05-07T13:02:13.146Z"
   },
   {
    "duration": 422,
    "start_time": "2022-05-07T13:02:13.155Z"
   },
   {
    "duration": 10,
    "start_time": "2022-05-07T13:02:13.579Z"
   },
   {
    "duration": 12,
    "start_time": "2022-05-07T13:02:13.591Z"
   },
   {
    "duration": 6,
    "start_time": "2022-05-07T13:02:13.605Z"
   },
   {
    "duration": 282,
    "start_time": "2022-05-07T13:02:13.613Z"
   },
   {
    "duration": 10,
    "start_time": "2022-05-07T13:02:13.898Z"
   },
   {
    "duration": 5,
    "start_time": "2022-05-07T13:02:13.909Z"
   },
   {
    "duration": 7,
    "start_time": "2022-05-07T13:02:13.915Z"
   },
   {
    "duration": 9,
    "start_time": "2022-05-07T13:02:13.923Z"
   },
   {
    "duration": 10,
    "start_time": "2022-05-07T13:02:13.933Z"
   },
   {
    "duration": 5,
    "start_time": "2022-05-07T13:08:06.120Z"
   },
   {
    "duration": 4,
    "start_time": "2022-05-07T13:08:14.550Z"
   },
   {
    "duration": 4,
    "start_time": "2022-05-07T13:08:50.951Z"
   },
   {
    "duration": 3072,
    "start_time": "2022-05-07T13:13:31.904Z"
   },
   {
    "duration": 0,
    "start_time": "2022-05-07T13:13:34.978Z"
   },
   {
    "duration": 15,
    "start_time": "2022-05-07T13:14:38.713Z"
   },
   {
    "duration": 14,
    "start_time": "2022-05-07T13:14:44.164Z"
   },
   {
    "duration": 4,
    "start_time": "2022-05-07T13:14:44.392Z"
   },
   {
    "duration": 4,
    "start_time": "2022-05-07T13:14:45.829Z"
   },
   {
    "duration": 4,
    "start_time": "2022-05-07T13:14:50.534Z"
   },
   {
    "duration": 5,
    "start_time": "2022-05-07T13:19:38.131Z"
   },
   {
    "duration": 9,
    "start_time": "2022-05-07T13:21:39.937Z"
   },
   {
    "duration": 26,
    "start_time": "2022-05-07T13:24:57.375Z"
   },
   {
    "duration": 20,
    "start_time": "2022-05-07T13:27:25.327Z"
   },
   {
    "duration": 24,
    "start_time": "2022-05-07T13:28:10.041Z"
   },
   {
    "duration": 11,
    "start_time": "2022-05-07T13:28:24.003Z"
   },
   {
    "duration": 16,
    "start_time": "2022-05-07T13:29:37.572Z"
   },
   {
    "duration": 5,
    "start_time": "2022-05-07T13:29:37.856Z"
   },
   {
    "duration": 19,
    "start_time": "2022-05-07T13:29:59.399Z"
   },
   {
    "duration": 5,
    "start_time": "2022-05-07T13:29:59.420Z"
   },
   {
    "duration": 10,
    "start_time": "2022-05-07T13:29:59.427Z"
   },
   {
    "duration": 12,
    "start_time": "2022-05-07T13:29:59.439Z"
   },
   {
    "duration": 9,
    "start_time": "2022-05-07T13:29:59.454Z"
   },
   {
    "duration": 824,
    "start_time": "2022-05-07T13:29:59.464Z"
   },
   {
    "duration": 20,
    "start_time": "2022-05-07T13:30:00.290Z"
   },
   {
    "duration": 27,
    "start_time": "2022-05-07T13:30:00.311Z"
   },
   {
    "duration": 460,
    "start_time": "2022-05-07T13:30:00.340Z"
   },
   {
    "duration": 10,
    "start_time": "2022-05-07T13:30:00.802Z"
   },
   {
    "duration": 60,
    "start_time": "2022-05-07T13:30:00.814Z"
   },
   {
    "duration": 23,
    "start_time": "2022-05-07T13:30:00.876Z"
   },
   {
    "duration": 318,
    "start_time": "2022-05-07T13:30:00.901Z"
   },
   {
    "duration": 8,
    "start_time": "2022-05-07T13:30:01.222Z"
   },
   {
    "duration": 16,
    "start_time": "2022-05-07T13:30:01.232Z"
   },
   {
    "duration": 23,
    "start_time": "2022-05-07T13:30:01.250Z"
   },
   {
    "duration": 15,
    "start_time": "2022-05-07T13:30:01.275Z"
   },
   {
    "duration": 25,
    "start_time": "2022-05-07T13:30:01.292Z"
   },
   {
    "duration": 19,
    "start_time": "2022-05-07T13:32:09.638Z"
   },
   {
    "duration": 7,
    "start_time": "2022-05-07T13:35:49.212Z"
   },
   {
    "duration": 7,
    "start_time": "2022-05-07T13:36:44.485Z"
   },
   {
    "duration": 9,
    "start_time": "2022-05-07T13:36:48.369Z"
   },
   {
    "duration": 46,
    "start_time": "2022-05-07T13:39:38.921Z"
   },
   {
    "duration": 26,
    "start_time": "2022-05-07T13:40:15.587Z"
   },
   {
    "duration": 26,
    "start_time": "2022-05-07T13:40:58.694Z"
   },
   {
    "duration": 28,
    "start_time": "2022-05-07T13:41:35.942Z"
   },
   {
    "duration": 4,
    "start_time": "2022-05-07T13:41:37.586Z"
   },
   {
    "duration": 87,
    "start_time": "2022-05-07T13:41:37.592Z"
   },
   {
    "duration": 17,
    "start_time": "2022-05-07T13:41:37.680Z"
   },
   {
    "duration": 5,
    "start_time": "2022-05-07T13:41:37.699Z"
   },
   {
    "duration": 4,
    "start_time": "2022-05-07T13:41:37.705Z"
   },
   {
    "duration": 11,
    "start_time": "2022-05-07T13:41:37.711Z"
   },
   {
    "duration": 4,
    "start_time": "2022-05-07T13:41:37.723Z"
   },
   {
    "duration": 11,
    "start_time": "2022-05-07T13:41:37.728Z"
   },
   {
    "duration": 11,
    "start_time": "2022-05-07T13:41:37.740Z"
   },
   {
    "duration": 106,
    "start_time": "2022-05-07T13:41:37.753Z"
   },
   {
    "duration": 153,
    "start_time": "2022-05-07T13:41:37.861Z"
   },
   {
    "duration": 6,
    "start_time": "2022-05-07T13:41:38.016Z"
   },
   {
    "duration": 112,
    "start_time": "2022-05-07T13:41:38.024Z"
   },
   {
    "duration": 9,
    "start_time": "2022-05-07T13:41:38.137Z"
   },
   {
    "duration": 7,
    "start_time": "2022-05-07T13:41:38.147Z"
   },
   {
    "duration": 15,
    "start_time": "2022-05-07T13:41:38.155Z"
   },
   {
    "duration": 29,
    "start_time": "2022-05-07T13:41:38.172Z"
   },
   {
    "duration": 6,
    "start_time": "2022-05-07T13:41:38.203Z"
   },
   {
    "duration": 12,
    "start_time": "2022-05-07T13:41:38.210Z"
   },
   {
    "duration": 9,
    "start_time": "2022-05-07T13:41:38.223Z"
   },
   {
    "duration": 6,
    "start_time": "2022-05-07T13:41:38.233Z"
   },
   {
    "duration": 513,
    "start_time": "2022-05-07T13:41:38.240Z"
   },
   {
    "duration": 8,
    "start_time": "2022-05-07T13:41:38.754Z"
   },
   {
    "duration": 6,
    "start_time": "2022-05-07T13:41:38.763Z"
   },
   {
    "duration": 431,
    "start_time": "2022-05-07T13:41:38.770Z"
   },
   {
    "duration": 8,
    "start_time": "2022-05-07T13:41:39.203Z"
   },
   {
    "duration": 17,
    "start_time": "2022-05-07T13:41:39.213Z"
   },
   {
    "duration": 6,
    "start_time": "2022-05-07T13:41:39.232Z"
   },
   {
    "duration": 274,
    "start_time": "2022-05-07T13:41:39.239Z"
   },
   {
    "duration": 8,
    "start_time": "2022-05-07T13:41:39.514Z"
   },
   {
    "duration": 5,
    "start_time": "2022-05-07T13:41:39.523Z"
   },
   {
    "duration": 4,
    "start_time": "2022-05-07T13:41:39.529Z"
   },
   {
    "duration": 7,
    "start_time": "2022-05-07T13:41:39.535Z"
   },
   {
    "duration": 8,
    "start_time": "2022-05-07T13:41:39.544Z"
   },
   {
    "duration": 5,
    "start_time": "2022-05-07T13:41:39.554Z"
   },
   {
    "duration": 58,
    "start_time": "2022-05-07T13:41:39.561Z"
   },
   {
    "duration": 21,
    "start_time": "2022-05-07T13:44:21.160Z"
   },
   {
    "duration": 1041,
    "start_time": "2022-05-07T13:49:29.335Z"
   },
   {
    "duration": 103,
    "start_time": "2022-05-07T13:49:30.378Z"
   },
   {
    "duration": 18,
    "start_time": "2022-05-07T13:49:30.483Z"
   },
   {
    "duration": 6,
    "start_time": "2022-05-07T13:49:30.502Z"
   },
   {
    "duration": 11,
    "start_time": "2022-05-07T13:49:30.510Z"
   },
   {
    "duration": 22,
    "start_time": "2022-05-07T13:49:30.522Z"
   },
   {
    "duration": 14,
    "start_time": "2022-05-07T13:49:30.545Z"
   },
   {
    "duration": 19,
    "start_time": "2022-05-07T13:49:30.561Z"
   },
   {
    "duration": 19,
    "start_time": "2022-05-07T13:49:30.581Z"
   },
   {
    "duration": 17,
    "start_time": "2022-05-07T13:49:30.601Z"
   },
   {
    "duration": 154,
    "start_time": "2022-05-07T13:49:30.619Z"
   },
   {
    "duration": 7,
    "start_time": "2022-05-07T13:49:30.774Z"
   },
   {
    "duration": 115,
    "start_time": "2022-05-07T13:49:30.783Z"
   },
   {
    "duration": 7,
    "start_time": "2022-05-07T13:49:30.900Z"
   },
   {
    "duration": 9,
    "start_time": "2022-05-07T13:49:30.908Z"
   },
   {
    "duration": 16,
    "start_time": "2022-05-07T13:49:30.918Z"
   },
   {
    "duration": 15,
    "start_time": "2022-05-07T13:49:30.935Z"
   },
   {
    "duration": 8,
    "start_time": "2022-05-07T13:49:30.952Z"
   },
   {
    "duration": 12,
    "start_time": "2022-05-07T13:49:30.961Z"
   },
   {
    "duration": 30,
    "start_time": "2022-05-07T13:49:30.974Z"
   },
   {
    "duration": 8,
    "start_time": "2022-05-07T13:49:31.006Z"
   },
   {
    "duration": 578,
    "start_time": "2022-05-07T13:49:31.015Z"
   },
   {
    "duration": 9,
    "start_time": "2022-05-07T13:49:31.595Z"
   },
   {
    "duration": 9,
    "start_time": "2022-05-07T13:49:31.606Z"
   },
   {
    "duration": 207,
    "start_time": "2022-05-07T13:49:31.616Z"
   },
   {
    "duration": 0,
    "start_time": "2022-05-07T13:49:31.824Z"
   },
   {
    "duration": 0,
    "start_time": "2022-05-07T13:49:31.825Z"
   },
   {
    "duration": 0,
    "start_time": "2022-05-07T13:49:31.826Z"
   },
   {
    "duration": 0,
    "start_time": "2022-05-07T13:49:31.827Z"
   },
   {
    "duration": 0,
    "start_time": "2022-05-07T13:49:31.828Z"
   },
   {
    "duration": 0,
    "start_time": "2022-05-07T13:49:31.829Z"
   },
   {
    "duration": 0,
    "start_time": "2022-05-07T13:49:31.830Z"
   },
   {
    "duration": 0,
    "start_time": "2022-05-07T13:49:31.831Z"
   },
   {
    "duration": 0,
    "start_time": "2022-05-07T13:49:31.831Z"
   },
   {
    "duration": 0,
    "start_time": "2022-05-07T13:49:31.832Z"
   },
   {
    "duration": 0,
    "start_time": "2022-05-07T13:49:31.833Z"
   },
   {
    "duration": 115,
    "start_time": "2022-05-07T13:49:41.665Z"
   },
   {
    "duration": 6,
    "start_time": "2022-05-07T13:50:33.390Z"
   },
   {
    "duration": 404,
    "start_time": "2022-05-07T13:50:33.398Z"
   },
   {
    "duration": 0,
    "start_time": "2022-05-07T13:50:33.804Z"
   },
   {
    "duration": 0,
    "start_time": "2022-05-07T13:50:33.805Z"
   },
   {
    "duration": 0,
    "start_time": "2022-05-07T13:50:33.806Z"
   },
   {
    "duration": 0,
    "start_time": "2022-05-07T13:50:33.807Z"
   },
   {
    "duration": 0,
    "start_time": "2022-05-07T13:50:33.808Z"
   },
   {
    "duration": 0,
    "start_time": "2022-05-07T13:50:33.808Z"
   },
   {
    "duration": 0,
    "start_time": "2022-05-07T13:50:33.809Z"
   },
   {
    "duration": 0,
    "start_time": "2022-05-07T13:50:33.810Z"
   },
   {
    "duration": 0,
    "start_time": "2022-05-07T13:50:33.812Z"
   },
   {
    "duration": 0,
    "start_time": "2022-05-07T13:50:33.813Z"
   },
   {
    "duration": 0,
    "start_time": "2022-05-07T13:50:33.814Z"
   },
   {
    "duration": 6,
    "start_time": "2022-05-07T13:50:49.508Z"
   },
   {
    "duration": 374,
    "start_time": "2022-05-07T13:50:49.516Z"
   },
   {
    "duration": 13,
    "start_time": "2022-05-07T13:50:49.892Z"
   },
   {
    "duration": 8,
    "start_time": "2022-05-07T13:50:49.907Z"
   },
   {
    "duration": 6,
    "start_time": "2022-05-07T13:50:49.916Z"
   },
   {
    "duration": 283,
    "start_time": "2022-05-07T13:50:49.923Z"
   },
   {
    "duration": 8,
    "start_time": "2022-05-07T13:50:50.208Z"
   },
   {
    "duration": 8,
    "start_time": "2022-05-07T13:50:50.217Z"
   },
   {
    "duration": 5,
    "start_time": "2022-05-07T13:50:50.226Z"
   },
   {
    "duration": 9,
    "start_time": "2022-05-07T13:50:50.233Z"
   },
   {
    "duration": 12,
    "start_time": "2022-05-07T13:50:50.243Z"
   },
   {
    "duration": 6,
    "start_time": "2022-05-07T13:50:50.257Z"
   },
   {
    "duration": 49,
    "start_time": "2022-05-07T13:50:50.264Z"
   },
   {
    "duration": 1456,
    "start_time": "2022-05-13T15:37:52.383Z"
   },
   {
    "duration": 98,
    "start_time": "2022-05-13T15:37:53.841Z"
   },
   {
    "duration": 22,
    "start_time": "2022-05-13T15:37:53.941Z"
   },
   {
    "duration": 6,
    "start_time": "2022-05-13T15:37:53.965Z"
   },
   {
    "duration": 23,
    "start_time": "2022-05-13T15:37:53.973Z"
   },
   {
    "duration": 36,
    "start_time": "2022-05-13T15:37:53.997Z"
   },
   {
    "duration": 18,
    "start_time": "2022-05-13T15:37:54.035Z"
   },
   {
    "duration": 24,
    "start_time": "2022-05-13T15:37:54.055Z"
   },
   {
    "duration": 14,
    "start_time": "2022-05-13T15:37:54.081Z"
   },
   {
    "duration": 12,
    "start_time": "2022-05-13T15:37:54.097Z"
   },
   {
    "duration": 169,
    "start_time": "2022-05-13T15:37:54.110Z"
   },
   {
    "duration": 8,
    "start_time": "2022-05-13T15:37:54.281Z"
   },
   {
    "duration": 136,
    "start_time": "2022-05-13T15:37:54.291Z"
   },
   {
    "duration": 25,
    "start_time": "2022-05-13T15:37:54.430Z"
   },
   {
    "duration": 29,
    "start_time": "2022-05-13T15:37:54.457Z"
   },
   {
    "duration": 23,
    "start_time": "2022-05-13T15:37:54.488Z"
   },
   {
    "duration": 35,
    "start_time": "2022-05-13T15:37:54.513Z"
   },
   {
    "duration": 41,
    "start_time": "2022-05-13T15:37:54.551Z"
   },
   {
    "duration": 22,
    "start_time": "2022-05-13T15:37:54.594Z"
   },
   {
    "duration": 13,
    "start_time": "2022-05-13T15:37:54.618Z"
   },
   {
    "duration": 21,
    "start_time": "2022-05-13T15:37:54.633Z"
   },
   {
    "duration": 631,
    "start_time": "2022-05-13T15:37:54.656Z"
   },
   {
    "duration": 10,
    "start_time": "2022-05-13T15:37:55.290Z"
   },
   {
    "duration": 7,
    "start_time": "2022-05-13T15:37:55.301Z"
   },
   {
    "duration": 538,
    "start_time": "2022-05-13T15:37:55.310Z"
   },
   {
    "duration": 10,
    "start_time": "2022-05-13T15:37:55.850Z"
   },
   {
    "duration": 9,
    "start_time": "2022-05-13T15:37:55.862Z"
   },
   {
    "duration": 7,
    "start_time": "2022-05-13T15:37:55.873Z"
   },
   {
    "duration": 343,
    "start_time": "2022-05-13T15:37:55.881Z"
   },
   {
    "duration": 8,
    "start_time": "2022-05-13T15:37:56.226Z"
   },
   {
    "duration": 5,
    "start_time": "2022-05-13T15:37:56.236Z"
   },
   {
    "duration": 4,
    "start_time": "2022-05-13T15:37:56.243Z"
   },
   {
    "duration": 11,
    "start_time": "2022-05-13T15:37:56.249Z"
   },
   {
    "duration": 61,
    "start_time": "2022-05-13T15:37:56.262Z"
   },
   {
    "duration": 3336,
    "start_time": "2022-05-13T16:01:37.010Z"
   },
   {
    "duration": 9,
    "start_time": "2022-05-13T16:01:46.577Z"
   },
   {
    "duration": 6,
    "start_time": "2022-05-13T16:01:56.641Z"
   },
   {
    "duration": 5,
    "start_time": "2022-05-13T16:02:04.430Z"
   },
   {
    "duration": 9,
    "start_time": "2022-05-13T16:04:48.240Z"
   },
   {
    "duration": 5,
    "start_time": "2022-05-13T16:05:19.917Z"
   },
   {
    "duration": 7,
    "start_time": "2022-05-13T16:05:20.280Z"
   },
   {
    "duration": 6,
    "start_time": "2022-05-13T16:05:27.429Z"
   },
   {
    "duration": 8,
    "start_time": "2022-05-13T16:05:35.368Z"
   },
   {
    "duration": 8,
    "start_time": "2022-05-13T16:05:36.823Z"
   },
   {
    "duration": 6,
    "start_time": "2022-05-13T16:10:29.941Z"
   },
   {
    "duration": 89,
    "start_time": "2022-05-13T16:10:29.949Z"
   },
   {
    "duration": 19,
    "start_time": "2022-05-13T16:10:30.040Z"
   },
   {
    "duration": 6,
    "start_time": "2022-05-13T16:10:30.062Z"
   },
   {
    "duration": 13,
    "start_time": "2022-05-13T16:10:30.069Z"
   },
   {
    "duration": 16,
    "start_time": "2022-05-13T16:10:30.084Z"
   },
   {
    "duration": 3,
    "start_time": "2022-05-13T16:10:30.123Z"
   },
   {
    "duration": 20,
    "start_time": "2022-05-13T16:10:30.128Z"
   },
   {
    "duration": 27,
    "start_time": "2022-05-13T16:10:30.150Z"
   },
   {
    "duration": 12,
    "start_time": "2022-05-13T16:10:30.181Z"
   },
   {
    "duration": 194,
    "start_time": "2022-05-13T16:10:30.195Z"
   },
   {
    "duration": 11,
    "start_time": "2022-05-13T16:10:30.391Z"
   },
   {
    "duration": 142,
    "start_time": "2022-05-13T16:10:30.404Z"
   },
   {
    "duration": 8,
    "start_time": "2022-05-13T16:10:30.549Z"
   },
   {
    "duration": 24,
    "start_time": "2022-05-13T16:10:30.560Z"
   },
   {
    "duration": 41,
    "start_time": "2022-05-13T16:10:30.586Z"
   },
   {
    "duration": 21,
    "start_time": "2022-05-13T16:10:30.629Z"
   },
   {
    "duration": 21,
    "start_time": "2022-05-13T16:10:30.652Z"
   },
   {
    "duration": 17,
    "start_time": "2022-05-13T16:10:30.675Z"
   },
   {
    "duration": 29,
    "start_time": "2022-05-13T16:10:30.694Z"
   },
   {
    "duration": 15,
    "start_time": "2022-05-13T16:10:30.725Z"
   },
   {
    "duration": 686,
    "start_time": "2022-05-13T16:10:30.741Z"
   },
   {
    "duration": 9,
    "start_time": "2022-05-13T16:10:31.428Z"
   },
   {
    "duration": 37,
    "start_time": "2022-05-13T16:10:31.439Z"
   },
   {
    "duration": 465,
    "start_time": "2022-05-13T16:10:31.478Z"
   },
   {
    "duration": 11,
    "start_time": "2022-05-13T16:10:31.946Z"
   },
   {
    "duration": 11,
    "start_time": "2022-05-13T16:10:31.959Z"
   },
   {
    "duration": 105,
    "start_time": "2022-05-13T16:10:31.975Z"
   },
   {
    "duration": 316,
    "start_time": "2022-05-13T16:10:32.082Z"
   },
   {
    "duration": 9,
    "start_time": "2022-05-13T16:10:32.400Z"
   },
   {
    "duration": 5,
    "start_time": "2022-05-13T16:10:32.423Z"
   },
   {
    "duration": 7,
    "start_time": "2022-05-13T16:10:32.430Z"
   },
   {
    "duration": 16,
    "start_time": "2022-05-13T16:10:32.439Z"
   },
   {
    "duration": 25,
    "start_time": "2022-05-13T16:10:32.457Z"
   },
   {
    "duration": 5,
    "start_time": "2022-05-13T16:10:32.484Z"
   },
   {
    "duration": 35,
    "start_time": "2022-05-13T16:10:32.491Z"
   },
   {
    "duration": 13,
    "start_time": "2022-05-13T16:10:32.527Z"
   },
   {
    "duration": 13,
    "start_time": "2022-05-13T16:10:32.542Z"
   },
   {
    "duration": 9,
    "start_time": "2022-05-13T16:10:32.557Z"
   },
   {
    "duration": 5,
    "start_time": "2022-05-13T16:10:59.081Z"
   },
   {
    "duration": 7,
    "start_time": "2022-05-13T16:11:00.708Z"
   },
   {
    "duration": 13,
    "start_time": "2022-05-13T16:11:44.067Z"
   },
   {
    "duration": 6,
    "start_time": "2022-05-13T16:12:10.513Z"
   },
   {
    "duration": 7,
    "start_time": "2022-05-13T16:14:54.434Z"
   },
   {
    "duration": 6,
    "start_time": "2022-05-13T16:14:56.867Z"
   },
   {
    "duration": 16,
    "start_time": "2022-05-13T16:22:19.284Z"
   },
   {
    "duration": 229,
    "start_time": "2022-05-13T16:26:56.858Z"
   },
   {
    "duration": 9,
    "start_time": "2022-05-13T16:27:11.688Z"
   },
   {
    "duration": 6,
    "start_time": "2022-05-13T16:28:21.765Z"
   },
   {
    "duration": 6,
    "start_time": "2022-05-13T16:28:31.810Z"
   },
   {
    "duration": 6,
    "start_time": "2022-05-13T16:28:34.611Z"
   },
   {
    "duration": 5,
    "start_time": "2022-05-13T16:28:45.703Z"
   },
   {
    "duration": 3017,
    "start_time": "2022-05-13T16:56:39.368Z"
   },
   {
    "duration": 10,
    "start_time": "2022-05-13T16:56:53.075Z"
   },
   {
    "duration": 18,
    "start_time": "2022-05-13T17:02:55.019Z"
   },
   {
    "duration": 17,
    "start_time": "2022-05-13T17:04:35.121Z"
   },
   {
    "duration": 18,
    "start_time": "2022-05-13T17:05:08.400Z"
   },
   {
    "duration": 9,
    "start_time": "2022-05-13T17:07:02.040Z"
   },
   {
    "duration": 15,
    "start_time": "2022-05-13T17:08:54.509Z"
   },
   {
    "duration": 8,
    "start_time": "2022-05-13T17:09:12.804Z"
   },
   {
    "duration": 4,
    "start_time": "2022-05-13T17:09:19.187Z"
   },
   {
    "duration": 82,
    "start_time": "2022-05-13T17:09:19.193Z"
   },
   {
    "duration": 22,
    "start_time": "2022-05-13T17:09:19.277Z"
   },
   {
    "duration": 6,
    "start_time": "2022-05-13T17:09:19.301Z"
   },
   {
    "duration": 11,
    "start_time": "2022-05-13T17:09:19.309Z"
   },
   {
    "duration": 17,
    "start_time": "2022-05-13T17:09:19.322Z"
   },
   {
    "duration": 8,
    "start_time": "2022-05-13T17:09:19.341Z"
   },
   {
    "duration": 15,
    "start_time": "2022-05-13T17:09:19.351Z"
   },
   {
    "duration": 15,
    "start_time": "2022-05-13T17:09:19.368Z"
   },
   {
    "duration": 11,
    "start_time": "2022-05-13T17:09:19.387Z"
   },
   {
    "duration": 186,
    "start_time": "2022-05-13T17:09:19.423Z"
   },
   {
    "duration": 15,
    "start_time": "2022-05-13T17:09:19.610Z"
   },
   {
    "duration": 133,
    "start_time": "2022-05-13T17:09:19.627Z"
   },
   {
    "duration": 8,
    "start_time": "2022-05-13T17:09:19.762Z"
   },
   {
    "duration": 9,
    "start_time": "2022-05-13T17:09:19.772Z"
   },
   {
    "duration": 44,
    "start_time": "2022-05-13T17:09:19.783Z"
   },
   {
    "duration": 20,
    "start_time": "2022-05-13T17:09:19.829Z"
   },
   {
    "duration": 9,
    "start_time": "2022-05-13T17:09:19.851Z"
   },
   {
    "duration": 11,
    "start_time": "2022-05-13T17:09:19.862Z"
   },
   {
    "duration": 13,
    "start_time": "2022-05-13T17:09:19.875Z"
   },
   {
    "duration": 37,
    "start_time": "2022-05-13T17:09:19.890Z"
   },
   {
    "duration": 623,
    "start_time": "2022-05-13T17:09:19.929Z"
   },
   {
    "duration": 10,
    "start_time": "2022-05-13T17:09:20.553Z"
   },
   {
    "duration": 7,
    "start_time": "2022-05-13T17:09:20.565Z"
   },
   {
    "duration": 504,
    "start_time": "2022-05-13T17:09:20.574Z"
   },
   {
    "duration": 11,
    "start_time": "2022-05-13T17:09:21.080Z"
   },
   {
    "duration": 9,
    "start_time": "2022-05-13T17:09:21.093Z"
   },
   {
    "duration": 7,
    "start_time": "2022-05-13T17:09:21.122Z"
   },
   {
    "duration": 434,
    "start_time": "2022-05-13T17:09:21.131Z"
   },
   {
    "duration": 8,
    "start_time": "2022-05-13T17:09:21.568Z"
   },
   {
    "duration": 6,
    "start_time": "2022-05-13T17:09:21.578Z"
   },
   {
    "duration": 6,
    "start_time": "2022-05-13T17:09:21.586Z"
   },
   {
    "duration": 38,
    "start_time": "2022-05-13T17:09:21.593Z"
   },
   {
    "duration": 24,
    "start_time": "2022-05-13T17:09:21.633Z"
   },
   {
    "duration": 8,
    "start_time": "2022-05-13T17:09:21.659Z"
   },
   {
    "duration": 9,
    "start_time": "2022-05-13T17:09:21.669Z"
   },
   {
    "duration": 47,
    "start_time": "2022-05-13T17:09:21.680Z"
   },
   {
    "duration": 8,
    "start_time": "2022-05-13T17:09:21.729Z"
   },
   {
    "duration": 16,
    "start_time": "2022-05-13T17:09:33.913Z"
   },
   {
    "duration": 5,
    "start_time": "2022-05-13T17:13:24.408Z"
   },
   {
    "duration": 109,
    "start_time": "2022-05-13T17:13:24.415Z"
   },
   {
    "duration": 20,
    "start_time": "2022-05-13T17:13:24.526Z"
   },
   {
    "duration": 17,
    "start_time": "2022-05-13T17:13:24.548Z"
   },
   {
    "duration": 28,
    "start_time": "2022-05-13T17:13:24.568Z"
   },
   {
    "duration": 39,
    "start_time": "2022-05-13T17:13:24.597Z"
   },
   {
    "duration": 24,
    "start_time": "2022-05-13T17:13:24.638Z"
   },
   {
    "duration": 37,
    "start_time": "2022-05-13T17:13:24.664Z"
   },
   {
    "duration": 29,
    "start_time": "2022-05-13T17:13:24.703Z"
   },
   {
    "duration": 28,
    "start_time": "2022-05-13T17:13:24.734Z"
   },
   {
    "duration": 184,
    "start_time": "2022-05-13T17:13:24.764Z"
   },
   {
    "duration": 10,
    "start_time": "2022-05-13T17:13:24.950Z"
   },
   {
    "duration": 145,
    "start_time": "2022-05-13T17:13:24.961Z"
   },
   {
    "duration": 20,
    "start_time": "2022-05-13T17:13:25.110Z"
   },
   {
    "duration": 25,
    "start_time": "2022-05-13T17:13:25.131Z"
   },
   {
    "duration": 35,
    "start_time": "2022-05-13T17:13:25.158Z"
   },
   {
    "duration": 20,
    "start_time": "2022-05-13T17:13:25.195Z"
   },
   {
    "duration": 27,
    "start_time": "2022-05-13T17:13:25.217Z"
   },
   {
    "duration": 14,
    "start_time": "2022-05-13T17:13:25.245Z"
   },
   {
    "duration": 25,
    "start_time": "2022-05-13T17:13:25.261Z"
   },
   {
    "duration": 9,
    "start_time": "2022-05-13T17:13:25.288Z"
   },
   {
    "duration": 690,
    "start_time": "2022-05-13T17:13:25.299Z"
   },
   {
    "duration": 10,
    "start_time": "2022-05-13T17:13:25.991Z"
   },
   {
    "duration": 21,
    "start_time": "2022-05-13T17:13:26.003Z"
   },
   {
    "duration": 448,
    "start_time": "2022-05-13T17:13:26.026Z"
   },
   {
    "duration": 15,
    "start_time": "2022-05-13T17:13:26.476Z"
   },
   {
    "duration": 9,
    "start_time": "2022-05-13T17:13:26.494Z"
   },
   {
    "duration": 6,
    "start_time": "2022-05-13T17:13:26.523Z"
   },
   {
    "duration": 335,
    "start_time": "2022-05-13T17:13:26.531Z"
   },
   {
    "duration": 9,
    "start_time": "2022-05-13T17:13:26.868Z"
   },
   {
    "duration": 6,
    "start_time": "2022-05-13T17:13:26.879Z"
   },
   {
    "duration": 6,
    "start_time": "2022-05-13T17:13:26.886Z"
   },
   {
    "duration": 11,
    "start_time": "2022-05-13T17:13:26.922Z"
   },
   {
    "duration": 24,
    "start_time": "2022-05-13T17:13:26.935Z"
   },
   {
    "duration": 8,
    "start_time": "2022-05-13T17:13:26.961Z"
   },
   {
    "duration": 9,
    "start_time": "2022-05-13T17:13:26.971Z"
   },
   {
    "duration": 140,
    "start_time": "2022-05-13T17:13:26.982Z"
   },
   {
    "duration": 9,
    "start_time": "2022-05-13T17:13:27.124Z"
   },
   {
    "duration": 1424,
    "start_time": "2022-05-14T08:05:40.627Z"
   },
   {
    "duration": 64,
    "start_time": "2022-05-14T08:05:42.053Z"
   },
   {
    "duration": 20,
    "start_time": "2022-05-14T08:05:42.119Z"
   },
   {
    "duration": 7,
    "start_time": "2022-05-14T08:05:42.141Z"
   },
   {
    "duration": 4,
    "start_time": "2022-05-14T08:05:42.151Z"
   },
   {
    "duration": 14,
    "start_time": "2022-05-14T08:05:42.157Z"
   },
   {
    "duration": 6,
    "start_time": "2022-05-14T08:05:42.173Z"
   },
   {
    "duration": 14,
    "start_time": "2022-05-14T08:05:42.181Z"
   },
   {
    "duration": 12,
    "start_time": "2022-05-14T08:05:42.196Z"
   },
   {
    "duration": 38,
    "start_time": "2022-05-14T08:05:42.210Z"
   },
   {
    "duration": 161,
    "start_time": "2022-05-14T08:05:42.250Z"
   },
   {
    "duration": 8,
    "start_time": "2022-05-14T08:05:42.413Z"
   },
   {
    "duration": 120,
    "start_time": "2022-05-14T08:05:42.422Z"
   },
   {
    "duration": 8,
    "start_time": "2022-05-14T08:05:42.545Z"
   },
   {
    "duration": 11,
    "start_time": "2022-05-14T08:05:42.554Z"
   },
   {
    "duration": 16,
    "start_time": "2022-05-14T08:05:42.567Z"
   },
   {
    "duration": 17,
    "start_time": "2022-05-14T08:05:42.584Z"
   },
   {
    "duration": 7,
    "start_time": "2022-05-14T08:05:42.602Z"
   },
   {
    "duration": 34,
    "start_time": "2022-05-14T08:05:42.611Z"
   },
   {
    "duration": 11,
    "start_time": "2022-05-14T08:05:42.646Z"
   },
   {
    "duration": 10,
    "start_time": "2022-05-14T08:05:42.658Z"
   },
   {
    "duration": 602,
    "start_time": "2022-05-14T08:05:42.669Z"
   },
   {
    "duration": 9,
    "start_time": "2022-05-14T08:05:43.273Z"
   },
   {
    "duration": 6,
    "start_time": "2022-05-14T08:05:43.283Z"
   },
   {
    "duration": 551,
    "start_time": "2022-05-14T08:05:43.290Z"
   },
   {
    "duration": 11,
    "start_time": "2022-05-14T08:05:43.843Z"
   },
   {
    "duration": 11,
    "start_time": "2022-05-14T08:05:43.855Z"
   },
   {
    "duration": 6,
    "start_time": "2022-05-14T08:05:43.867Z"
   },
   {
    "duration": 312,
    "start_time": "2022-05-14T08:05:43.875Z"
   },
   {
    "duration": 8,
    "start_time": "2022-05-14T08:05:44.189Z"
   },
   {
    "duration": 33,
    "start_time": "2022-05-14T08:05:44.199Z"
   },
   {
    "duration": 44,
    "start_time": "2022-05-14T08:05:44.234Z"
   },
   {
    "duration": 18,
    "start_time": "2022-05-14T08:05:44.279Z"
   },
   {
    "duration": 51,
    "start_time": "2022-05-14T08:05:44.298Z"
   },
   {
    "duration": 21,
    "start_time": "2022-05-14T08:05:44.351Z"
   },
   {
    "duration": 15,
    "start_time": "2022-05-14T08:05:44.374Z"
   },
   {
    "duration": 21,
    "start_time": "2022-05-14T08:05:44.391Z"
   },
   {
    "duration": 111,
    "start_time": "2022-05-14T08:32:29.025Z"
   },
   {
    "duration": 23,
    "start_time": "2022-05-14T08:32:35.284Z"
   },
   {
    "duration": 160,
    "start_time": "2022-05-14T08:37:05.074Z"
   },
   {
    "duration": 4,
    "start_time": "2022-05-14T08:38:05.072Z"
   },
   {
    "duration": 4,
    "start_time": "2022-05-14T08:38:13.785Z"
   },
   {
    "duration": 8,
    "start_time": "2022-05-14T08:40:16.450Z"
   },
   {
    "duration": 141,
    "start_time": "2022-05-14T08:41:22.510Z"
   },
   {
    "duration": 23,
    "start_time": "2022-05-14T08:41:26.427Z"
   },
   {
    "duration": 10,
    "start_time": "2022-05-14T09:00:47.331Z"
   },
   {
    "duration": 5,
    "start_time": "2022-05-14T09:02:15.793Z"
   },
   {
    "duration": 8,
    "start_time": "2022-05-14T09:09:22.310Z"
   },
   {
    "duration": 4,
    "start_time": "2022-05-14T09:10:15.507Z"
   },
   {
    "duration": 7,
    "start_time": "2022-05-14T09:10:23.374Z"
   },
   {
    "duration": 7,
    "start_time": "2022-05-14T09:10:28.886Z"
   },
   {
    "duration": 2689,
    "start_time": "2022-05-14T09:11:21.071Z"
   },
   {
    "duration": 14,
    "start_time": "2022-05-14T09:11:27.242Z"
   },
   {
    "duration": 158,
    "start_time": "2022-05-14T09:11:40.442Z"
   },
   {
    "duration": 154,
    "start_time": "2022-05-14T09:12:48.877Z"
   },
   {
    "duration": 116,
    "start_time": "2022-05-14T09:12:49.783Z"
   },
   {
    "duration": 123,
    "start_time": "2022-05-14T09:13:58.558Z"
   },
   {
    "duration": 258,
    "start_time": "2022-05-14T09:14:03.661Z"
   },
   {
    "duration": 251,
    "start_time": "2022-05-14T09:16:40.149Z"
   },
   {
    "duration": 23,
    "start_time": "2022-05-14T09:16:40.436Z"
   },
   {
    "duration": 9,
    "start_time": "2022-05-14T09:17:18.500Z"
   },
   {
    "duration": 15,
    "start_time": "2022-05-14T09:17:23.309Z"
   },
   {
    "duration": 11,
    "start_time": "2022-05-14T09:17:36.818Z"
   },
   {
    "duration": 16,
    "start_time": "2022-05-14T09:17:40.442Z"
   },
   {
    "duration": 16,
    "start_time": "2022-05-14T09:18:00.932Z"
   },
   {
    "duration": 9,
    "start_time": "2022-05-14T09:18:17.484Z"
   },
   {
    "duration": 5,
    "start_time": "2022-05-14T09:18:32.990Z"
   },
   {
    "duration": 64,
    "start_time": "2022-05-14T09:18:32.998Z"
   },
   {
    "duration": 25,
    "start_time": "2022-05-14T09:18:33.064Z"
   },
   {
    "duration": 7,
    "start_time": "2022-05-14T09:18:33.091Z"
   },
   {
    "duration": 5,
    "start_time": "2022-05-14T09:18:33.100Z"
   },
   {
    "duration": 49,
    "start_time": "2022-05-14T09:18:33.107Z"
   },
   {
    "duration": 5,
    "start_time": "2022-05-14T09:18:33.158Z"
   },
   {
    "duration": 14,
    "start_time": "2022-05-14T09:18:33.165Z"
   },
   {
    "duration": 13,
    "start_time": "2022-05-14T09:18:33.181Z"
   },
   {
    "duration": 12,
    "start_time": "2022-05-14T09:18:33.196Z"
   },
   {
    "duration": 185,
    "start_time": "2022-05-14T09:18:33.210Z"
   },
   {
    "duration": 8,
    "start_time": "2022-05-14T09:18:33.396Z"
   },
   {
    "duration": 138,
    "start_time": "2022-05-14T09:18:33.405Z"
   },
   {
    "duration": 9,
    "start_time": "2022-05-14T09:18:33.546Z"
   },
   {
    "duration": 9,
    "start_time": "2022-05-14T09:18:33.556Z"
   },
   {
    "duration": 18,
    "start_time": "2022-05-14T09:18:33.567Z"
   },
   {
    "duration": 16,
    "start_time": "2022-05-14T09:18:33.587Z"
   },
   {
    "duration": 10,
    "start_time": "2022-05-14T09:18:33.605Z"
   },
   {
    "duration": 46,
    "start_time": "2022-05-14T09:18:33.616Z"
   },
   {
    "duration": 8,
    "start_time": "2022-05-14T09:18:33.664Z"
   },
   {
    "duration": 554,
    "start_time": "2022-05-14T09:18:33.674Z"
   },
   {
    "duration": 15,
    "start_time": "2022-05-14T09:18:34.229Z"
   },
   {
    "duration": 7,
    "start_time": "2022-05-14T09:18:34.246Z"
   },
   {
    "duration": 506,
    "start_time": "2022-05-14T09:18:34.254Z"
   },
   {
    "duration": 11,
    "start_time": "2022-05-14T09:18:34.762Z"
   },
   {
    "duration": 10,
    "start_time": "2022-05-14T09:18:34.775Z"
   },
   {
    "duration": 6,
    "start_time": "2022-05-14T09:18:34.787Z"
   },
   {
    "duration": 424,
    "start_time": "2022-05-14T09:18:34.795Z"
   },
   {
    "duration": 9,
    "start_time": "2022-05-14T09:18:35.220Z"
   },
   {
    "duration": 14,
    "start_time": "2022-05-14T09:18:35.231Z"
   },
   {
    "duration": 8,
    "start_time": "2022-05-14T09:18:35.247Z"
   },
   {
    "duration": 12,
    "start_time": "2022-05-14T09:18:35.256Z"
   },
   {
    "duration": 24,
    "start_time": "2022-05-14T09:18:35.270Z"
   },
   {
    "duration": 7,
    "start_time": "2022-05-14T09:18:35.296Z"
   },
   {
    "duration": 38,
    "start_time": "2022-05-14T09:18:35.305Z"
   },
   {
    "duration": 33,
    "start_time": "2022-05-14T09:18:35.345Z"
   },
   {
    "duration": 51,
    "start_time": "2022-05-14T09:18:35.380Z"
   },
   {
    "duration": 262,
    "start_time": "2022-05-14T09:18:35.433Z"
   },
   {
    "duration": 10,
    "start_time": "2022-05-14T09:18:35.697Z"
   },
   {
    "duration": 42,
    "start_time": "2022-05-14T09:18:35.708Z"
   },
   {
    "duration": 576,
    "start_time": "2022-05-14T09:18:35.754Z"
   },
   {
    "duration": 1374,
    "start_time": "2022-05-18T18:37:52.111Z"
   },
   {
    "duration": 159,
    "start_time": "2022-05-18T18:37:53.488Z"
   },
   {
    "duration": 25,
    "start_time": "2022-05-18T18:37:53.649Z"
   },
   {
    "duration": 8,
    "start_time": "2022-05-18T18:37:53.675Z"
   },
   {
    "duration": 6,
    "start_time": "2022-05-18T18:37:53.685Z"
   },
   {
    "duration": 50,
    "start_time": "2022-05-18T18:37:53.693Z"
   },
   {
    "duration": 6,
    "start_time": "2022-05-18T18:37:53.746Z"
   },
   {
    "duration": 30,
    "start_time": "2022-05-18T18:37:53.754Z"
   },
   {
    "duration": 21,
    "start_time": "2022-05-18T18:37:53.789Z"
   },
   {
    "duration": 48,
    "start_time": "2022-05-18T18:37:53.814Z"
   },
   {
    "duration": 196,
    "start_time": "2022-05-18T18:37:53.865Z"
   },
   {
    "duration": 8,
    "start_time": "2022-05-18T18:37:54.063Z"
   },
   {
    "duration": 196,
    "start_time": "2022-05-18T18:37:54.073Z"
   },
   {
    "duration": 9,
    "start_time": "2022-05-18T18:37:54.273Z"
   },
   {
    "duration": 20,
    "start_time": "2022-05-18T18:37:54.284Z"
   },
   {
    "duration": 34,
    "start_time": "2022-05-18T18:37:54.306Z"
   },
   {
    "duration": 24,
    "start_time": "2022-05-18T18:37:54.342Z"
   },
   {
    "duration": 19,
    "start_time": "2022-05-18T18:37:54.368Z"
   },
   {
    "duration": 33,
    "start_time": "2022-05-18T18:37:54.389Z"
   },
   {
    "duration": 16,
    "start_time": "2022-05-18T18:37:54.424Z"
   },
   {
    "duration": 863,
    "start_time": "2022-05-18T18:37:54.444Z"
   },
   {
    "duration": 9,
    "start_time": "2022-05-18T18:37:55.308Z"
   },
   {
    "duration": 19,
    "start_time": "2022-05-18T18:37:55.319Z"
   },
   {
    "duration": 668,
    "start_time": "2022-05-18T18:37:55.340Z"
   },
   {
    "duration": 17,
    "start_time": "2022-05-18T18:37:56.010Z"
   },
   {
    "duration": 10,
    "start_time": "2022-05-18T18:37:56.029Z"
   },
   {
    "duration": 16,
    "start_time": "2022-05-18T18:37:56.041Z"
   },
   {
    "duration": 521,
    "start_time": "2022-05-18T18:37:56.059Z"
   },
   {
    "duration": 16,
    "start_time": "2022-05-18T18:37:56.583Z"
   },
   {
    "duration": 25,
    "start_time": "2022-05-18T18:37:56.601Z"
   },
   {
    "duration": 27,
    "start_time": "2022-05-18T18:37:56.634Z"
   },
   {
    "duration": 28,
    "start_time": "2022-05-18T18:37:56.663Z"
   },
   {
    "duration": 53,
    "start_time": "2022-05-18T18:37:56.693Z"
   },
   {
    "duration": 56,
    "start_time": "2022-05-18T18:37:56.748Z"
   },
   {
    "duration": 51,
    "start_time": "2022-05-18T18:37:56.806Z"
   },
   {
    "duration": 41,
    "start_time": "2022-05-18T18:37:56.860Z"
   },
   {
    "duration": 66,
    "start_time": "2022-05-18T18:37:56.903Z"
   },
   {
    "duration": 359,
    "start_time": "2022-05-18T18:37:56.971Z"
   },
   {
    "duration": 14,
    "start_time": "2022-05-18T18:37:57.332Z"
   },
   {
    "duration": 52,
    "start_time": "2022-05-18T18:37:57.348Z"
   },
   {
    "duration": 760,
    "start_time": "2022-05-18T18:37:57.404Z"
   },
   {
    "duration": 5,
    "start_time": "2022-05-18T18:38:12.295Z"
   },
   {
    "duration": 4,
    "start_time": "2022-05-18T18:38:22.751Z"
   },
   {
    "duration": 1074,
    "start_time": "2022-05-18T18:38:30.172Z"
   },
   {
    "duration": 61,
    "start_time": "2022-05-18T18:38:31.248Z"
   },
   {
    "duration": 20,
    "start_time": "2022-05-18T18:38:31.310Z"
   },
   {
    "duration": 14,
    "start_time": "2022-05-18T18:38:31.332Z"
   },
   {
    "duration": 12,
    "start_time": "2022-05-18T18:38:31.349Z"
   },
   {
    "duration": 22,
    "start_time": "2022-05-18T18:38:31.363Z"
   },
   {
    "duration": 11,
    "start_time": "2022-05-18T18:38:31.386Z"
   },
   {
    "duration": 26,
    "start_time": "2022-05-18T18:38:31.399Z"
   },
   {
    "duration": 12,
    "start_time": "2022-05-18T18:38:31.428Z"
   },
   {
    "duration": 19,
    "start_time": "2022-05-18T18:38:31.442Z"
   },
   {
    "duration": 166,
    "start_time": "2022-05-18T18:38:31.463Z"
   },
   {
    "duration": 8,
    "start_time": "2022-05-18T18:38:31.630Z"
   },
   {
    "duration": 189,
    "start_time": "2022-05-18T18:38:31.639Z"
   },
   {
    "duration": 8,
    "start_time": "2022-05-18T18:38:31.832Z"
   },
   {
    "duration": 22,
    "start_time": "2022-05-18T18:38:31.842Z"
   },
   {
    "duration": 41,
    "start_time": "2022-05-18T18:38:31.867Z"
   },
   {
    "duration": 22,
    "start_time": "2022-05-18T18:38:31.910Z"
   },
   {
    "duration": 42,
    "start_time": "2022-05-18T18:38:31.935Z"
   },
   {
    "duration": 23,
    "start_time": "2022-05-18T18:38:31.979Z"
   },
   {
    "duration": 19,
    "start_time": "2022-05-18T18:38:32.004Z"
   },
   {
    "duration": 738,
    "start_time": "2022-05-18T18:38:32.025Z"
   },
   {
    "duration": 10,
    "start_time": "2022-05-18T18:38:32.765Z"
   },
   {
    "duration": 9,
    "start_time": "2022-05-18T18:38:32.777Z"
   },
   {
    "duration": 491,
    "start_time": "2022-05-18T18:38:32.787Z"
   },
   {
    "duration": 12,
    "start_time": "2022-05-18T18:38:33.280Z"
   },
   {
    "duration": 26,
    "start_time": "2022-05-18T18:38:33.294Z"
   },
   {
    "duration": 6,
    "start_time": "2022-05-18T18:38:33.321Z"
   },
   {
    "duration": 338,
    "start_time": "2022-05-18T18:38:33.328Z"
   },
   {
    "duration": 8,
    "start_time": "2022-05-18T18:38:33.667Z"
   },
   {
    "duration": 11,
    "start_time": "2022-05-18T18:38:33.676Z"
   },
   {
    "duration": 7,
    "start_time": "2022-05-18T18:38:33.688Z"
   },
   {
    "duration": 12,
    "start_time": "2022-05-18T18:38:33.697Z"
   },
   {
    "duration": 41,
    "start_time": "2022-05-18T18:38:33.726Z"
   },
   {
    "duration": 8,
    "start_time": "2022-05-18T18:38:33.769Z"
   },
   {
    "duration": 13,
    "start_time": "2022-05-18T18:38:33.779Z"
   },
   {
    "duration": 33,
    "start_time": "2022-05-18T18:38:33.794Z"
   },
   {
    "duration": 29,
    "start_time": "2022-05-18T18:38:33.829Z"
   },
   {
    "duration": 298,
    "start_time": "2022-05-18T18:38:33.861Z"
   },
   {
    "duration": 10,
    "start_time": "2022-05-18T18:38:34.161Z"
   },
   {
    "duration": 7,
    "start_time": "2022-05-18T18:38:34.173Z"
   },
   {
    "duration": 13,
    "start_time": "2022-05-18T18:38:34.184Z"
   },
   {
    "duration": 12,
    "start_time": "2022-05-18T18:38:34.198Z"
   },
   {
    "duration": 617,
    "start_time": "2022-05-18T18:38:34.211Z"
   },
   {
    "duration": 4,
    "start_time": "2022-05-18T18:39:45.772Z"
   },
   {
    "duration": 5,
    "start_time": "2022-05-18T18:39:45.970Z"
   },
   {
    "duration": 17,
    "start_time": "2022-05-18T18:42:33.078Z"
   },
   {
    "duration": 15,
    "start_time": "2022-05-18T18:42:37.561Z"
   },
   {
    "duration": 16,
    "start_time": "2022-05-18T18:43:03.061Z"
   },
   {
    "duration": 23,
    "start_time": "2022-05-18T18:43:07.455Z"
   },
   {
    "duration": 768,
    "start_time": "2022-05-18T18:45:23.665Z"
   },
   {
    "duration": 13,
    "start_time": "2022-05-18T18:45:44.808Z"
   },
   {
    "duration": 192,
    "start_time": "2022-05-18T18:45:55.452Z"
   },
   {
    "duration": 284,
    "start_time": "2022-05-18T18:46:08.110Z"
   },
   {
    "duration": 13,
    "start_time": "2022-05-18T18:46:10.541Z"
   },
   {
    "duration": 34,
    "start_time": "2022-05-18T18:46:10.556Z"
   },
   {
    "duration": 33,
    "start_time": "2022-05-18T18:46:10.592Z"
   },
   {
    "duration": 32,
    "start_time": "2022-05-18T18:46:10.627Z"
   },
   {
    "duration": 697,
    "start_time": "2022-05-18T18:46:10.661Z"
   },
   {
    "duration": 1340,
    "start_time": "2022-05-19T15:07:44.224Z"
   },
   {
    "duration": 225,
    "start_time": "2022-05-19T15:07:45.566Z"
   },
   {
    "duration": 26,
    "start_time": "2022-05-19T15:07:45.793Z"
   },
   {
    "duration": 5,
    "start_time": "2022-05-19T15:07:45.821Z"
   },
   {
    "duration": 4,
    "start_time": "2022-05-19T15:07:45.828Z"
   },
   {
    "duration": 15,
    "start_time": "2022-05-19T15:07:45.833Z"
   },
   {
    "duration": 7,
    "start_time": "2022-05-19T15:07:45.850Z"
   },
   {
    "duration": 19,
    "start_time": "2022-05-19T15:07:45.859Z"
   },
   {
    "duration": 47,
    "start_time": "2022-05-19T15:07:45.881Z"
   },
   {
    "duration": 11,
    "start_time": "2022-05-19T15:07:45.930Z"
   },
   {
    "duration": 200,
    "start_time": "2022-05-19T15:07:45.944Z"
   },
   {
    "duration": 8,
    "start_time": "2022-05-19T15:07:46.146Z"
   },
   {
    "duration": 149,
    "start_time": "2022-05-19T15:07:46.156Z"
   },
   {
    "duration": 7,
    "start_time": "2022-05-19T15:07:46.311Z"
   },
   {
    "duration": 78,
    "start_time": "2022-05-19T15:07:46.320Z"
   },
   {
    "duration": 31,
    "start_time": "2022-05-19T15:07:46.400Z"
   },
   {
    "duration": 20,
    "start_time": "2022-05-19T15:07:46.433Z"
   },
   {
    "duration": 16,
    "start_time": "2022-05-19T15:07:46.456Z"
   },
   {
    "duration": 17,
    "start_time": "2022-05-19T15:07:46.474Z"
   },
   {
    "duration": 10,
    "start_time": "2022-05-19T15:07:46.512Z"
   },
   {
    "duration": 682,
    "start_time": "2022-05-19T15:07:46.524Z"
   },
   {
    "duration": 9,
    "start_time": "2022-05-19T15:07:47.207Z"
   },
   {
    "duration": 31,
    "start_time": "2022-05-19T15:07:47.218Z"
   },
   {
    "duration": 594,
    "start_time": "2022-05-19T15:07:47.251Z"
   },
   {
    "duration": 10,
    "start_time": "2022-05-19T15:07:47.847Z"
   },
   {
    "duration": 31,
    "start_time": "2022-05-19T15:07:47.859Z"
   },
   {
    "duration": 11,
    "start_time": "2022-05-19T15:07:47.891Z"
   },
   {
    "duration": 331,
    "start_time": "2022-05-19T15:07:47.904Z"
   },
   {
    "duration": 7,
    "start_time": "2022-05-19T15:07:48.237Z"
   },
   {
    "duration": 8,
    "start_time": "2022-05-19T15:07:48.246Z"
   },
   {
    "duration": 24,
    "start_time": "2022-05-19T15:07:48.255Z"
   },
   {
    "duration": 34,
    "start_time": "2022-05-19T15:07:48.281Z"
   },
   {
    "duration": 36,
    "start_time": "2022-05-19T15:07:48.317Z"
   },
   {
    "duration": 16,
    "start_time": "2022-05-19T15:07:48.354Z"
   },
   {
    "duration": 36,
    "start_time": "2022-05-19T15:07:48.371Z"
   },
   {
    "duration": 38,
    "start_time": "2022-05-19T15:07:48.409Z"
   },
   {
    "duration": 51,
    "start_time": "2022-05-19T15:07:48.449Z"
   },
   {
    "duration": 293,
    "start_time": "2022-05-19T15:07:48.502Z"
   },
   {
    "duration": 18,
    "start_time": "2022-05-19T15:07:48.796Z"
   },
   {
    "duration": 42,
    "start_time": "2022-05-19T15:07:48.816Z"
   },
   {
    "duration": 634,
    "start_time": "2022-05-19T15:07:48.861Z"
   },
   {
    "duration": 410,
    "start_time": "2022-05-19T15:16:29.846Z"
   },
   {
    "duration": 7,
    "start_time": "2022-05-19T15:20:11.930Z"
   },
   {
    "duration": 442,
    "start_time": "2022-05-19T15:20:12.398Z"
   },
   {
    "duration": 10,
    "start_time": "2022-05-19T15:20:15.241Z"
   },
   {
    "duration": 22,
    "start_time": "2022-05-19T15:20:15.253Z"
   },
   {
    "duration": 11,
    "start_time": "2022-05-19T15:20:15.276Z"
   },
   {
    "duration": 334,
    "start_time": "2022-05-19T15:20:15.289Z"
   },
   {
    "duration": 8,
    "start_time": "2022-05-19T15:20:15.624Z"
   },
   {
    "duration": 9,
    "start_time": "2022-05-19T15:20:15.634Z"
   },
   {
    "duration": 7,
    "start_time": "2022-05-19T15:20:15.645Z"
   },
   {
    "duration": 23,
    "start_time": "2022-05-19T15:20:15.653Z"
   },
   {
    "duration": 56,
    "start_time": "2022-05-19T15:20:15.678Z"
   },
   {
    "duration": 8,
    "start_time": "2022-05-19T15:20:15.736Z"
   },
   {
    "duration": 14,
    "start_time": "2022-05-19T15:20:15.745Z"
   },
   {
    "duration": 118,
    "start_time": "2022-05-19T15:20:15.761Z"
   },
   {
    "duration": 41,
    "start_time": "2022-05-19T15:20:15.880Z"
   },
   {
    "duration": 280,
    "start_time": "2022-05-19T15:20:15.923Z"
   },
   {
    "duration": 15,
    "start_time": "2022-05-19T15:20:16.205Z"
   },
   {
    "duration": 32,
    "start_time": "2022-05-19T15:20:16.221Z"
   },
   {
    "duration": 590,
    "start_time": "2022-05-19T15:20:16.255Z"
   },
   {
    "duration": 503,
    "start_time": "2022-05-19T15:20:16.847Z"
   },
   {
    "duration": 4,
    "start_time": "2022-05-19T15:20:59.046Z"
   },
   {
    "duration": 82,
    "start_time": "2022-05-19T15:20:59.052Z"
   },
   {
    "duration": 19,
    "start_time": "2022-05-19T15:20:59.136Z"
   },
   {
    "duration": 5,
    "start_time": "2022-05-19T15:20:59.157Z"
   },
   {
    "duration": 5,
    "start_time": "2022-05-19T15:20:59.164Z"
   },
   {
    "duration": 14,
    "start_time": "2022-05-19T15:20:59.170Z"
   },
   {
    "duration": 27,
    "start_time": "2022-05-19T15:20:59.186Z"
   },
   {
    "duration": 13,
    "start_time": "2022-05-19T15:20:59.214Z"
   },
   {
    "duration": 14,
    "start_time": "2022-05-19T15:20:59.230Z"
   },
   {
    "duration": 10,
    "start_time": "2022-05-19T15:20:59.245Z"
   },
   {
    "duration": 204,
    "start_time": "2022-05-19T15:20:59.257Z"
   },
   {
    "duration": 8,
    "start_time": "2022-05-19T15:20:59.463Z"
   },
   {
    "duration": 142,
    "start_time": "2022-05-19T15:20:59.473Z"
   },
   {
    "duration": 8,
    "start_time": "2022-05-19T15:20:59.617Z"
   },
   {
    "duration": 9,
    "start_time": "2022-05-19T15:20:59.626Z"
   },
   {
    "duration": 19,
    "start_time": "2022-05-19T15:20:59.637Z"
   },
   {
    "duration": 17,
    "start_time": "2022-05-19T15:20:59.658Z"
   },
   {
    "duration": 37,
    "start_time": "2022-05-19T15:20:59.676Z"
   },
   {
    "duration": 11,
    "start_time": "2022-05-19T15:20:59.715Z"
   },
   {
    "duration": 7,
    "start_time": "2022-05-19T15:20:59.728Z"
   },
   {
    "duration": 695,
    "start_time": "2022-05-19T15:20:59.737Z"
   },
   {
    "duration": 10,
    "start_time": "2022-05-19T15:21:00.434Z"
   },
   {
    "duration": 8,
    "start_time": "2022-05-19T15:21:00.446Z"
   },
   {
    "duration": 485,
    "start_time": "2022-05-19T15:21:00.457Z"
   },
   {
    "duration": 11,
    "start_time": "2022-05-19T15:21:00.944Z"
   },
   {
    "duration": 14,
    "start_time": "2022-05-19T15:21:00.957Z"
   },
   {
    "duration": 14,
    "start_time": "2022-05-19T15:21:00.973Z"
   },
   {
    "duration": 342,
    "start_time": "2022-05-19T15:21:00.989Z"
   },
   {
    "duration": 9,
    "start_time": "2022-05-19T15:21:01.333Z"
   },
   {
    "duration": 23,
    "start_time": "2022-05-19T15:21:01.344Z"
   },
   {
    "duration": 12,
    "start_time": "2022-05-19T15:21:01.369Z"
   },
   {
    "duration": 23,
    "start_time": "2022-05-19T15:21:01.382Z"
   },
   {
    "duration": 46,
    "start_time": "2022-05-19T15:21:01.407Z"
   },
   {
    "duration": 9,
    "start_time": "2022-05-19T15:21:01.455Z"
   },
   {
    "duration": 17,
    "start_time": "2022-05-19T15:21:01.466Z"
   },
   {
    "duration": 20,
    "start_time": "2022-05-19T15:21:01.485Z"
   },
   {
    "duration": 41,
    "start_time": "2022-05-19T15:21:01.512Z"
   },
   {
    "duration": 329,
    "start_time": "2022-05-19T15:21:01.555Z"
   },
   {
    "duration": 12,
    "start_time": "2022-05-19T15:21:01.886Z"
   },
   {
    "duration": 19,
    "start_time": "2022-05-19T15:21:01.899Z"
   },
   {
    "duration": 615,
    "start_time": "2022-05-19T15:21:01.920Z"
   },
   {
    "duration": 481,
    "start_time": "2022-05-19T15:21:02.537Z"
   },
   {
    "duration": 11,
    "start_time": "2022-05-19T15:23:33.519Z"
   },
   {
    "duration": 757,
    "start_time": "2022-05-19T15:23:35.201Z"
   },
   {
    "duration": 495,
    "start_time": "2022-05-19T15:23:35.960Z"
   },
   {
    "duration": 9,
    "start_time": "2022-05-19T15:31:34.416Z"
   },
   {
    "duration": 700,
    "start_time": "2022-05-19T15:31:34.542Z"
   },
   {
    "duration": 664,
    "start_time": "2022-05-19T15:31:43.095Z"
   },
   {
    "duration": 14,
    "start_time": "2022-05-19T15:31:47.436Z"
   },
   {
    "duration": 12,
    "start_time": "2022-05-19T15:32:22.634Z"
   },
   {
    "duration": 10,
    "start_time": "2022-05-19T15:33:30.723Z"
   },
   {
    "duration": 14,
    "start_time": "2022-05-19T15:33:37.977Z"
   },
   {
    "duration": 8,
    "start_time": "2022-05-19T15:33:39.127Z"
   },
   {
    "duration": 4,
    "start_time": "2022-05-19T15:33:41.170Z"
   },
   {
    "duration": 85,
    "start_time": "2022-05-19T15:33:41.176Z"
   },
   {
    "duration": 23,
    "start_time": "2022-05-19T15:33:41.262Z"
   },
   {
    "duration": 6,
    "start_time": "2022-05-19T15:33:41.287Z"
   },
   {
    "duration": 8,
    "start_time": "2022-05-19T15:33:41.295Z"
   },
   {
    "duration": 22,
    "start_time": "2022-05-19T15:33:41.305Z"
   },
   {
    "duration": 7,
    "start_time": "2022-05-19T15:33:41.329Z"
   },
   {
    "duration": 15,
    "start_time": "2022-05-19T15:33:41.337Z"
   },
   {
    "duration": 15,
    "start_time": "2022-05-19T15:33:41.354Z"
   },
   {
    "duration": 10,
    "start_time": "2022-05-19T15:33:41.372Z"
   },
   {
    "duration": 257,
    "start_time": "2022-05-19T15:33:41.384Z"
   },
   {
    "duration": 13,
    "start_time": "2022-05-19T15:33:41.643Z"
   },
   {
    "duration": 179,
    "start_time": "2022-05-19T15:33:41.658Z"
   },
   {
    "duration": 7,
    "start_time": "2022-05-19T15:33:41.839Z"
   },
   {
    "duration": 13,
    "start_time": "2022-05-19T15:33:41.848Z"
   },
   {
    "duration": 20,
    "start_time": "2022-05-19T15:33:41.863Z"
   },
   {
    "duration": 35,
    "start_time": "2022-05-19T15:33:41.887Z"
   },
   {
    "duration": 15,
    "start_time": "2022-05-19T15:33:41.925Z"
   },
   {
    "duration": 13,
    "start_time": "2022-05-19T15:33:41.942Z"
   },
   {
    "duration": 8,
    "start_time": "2022-05-19T15:33:41.957Z"
   },
   {
    "duration": 646,
    "start_time": "2022-05-19T15:33:41.967Z"
   },
   {
    "duration": 11,
    "start_time": "2022-05-19T15:33:42.615Z"
   },
   {
    "duration": 7,
    "start_time": "2022-05-19T15:33:42.628Z"
   },
   {
    "duration": 498,
    "start_time": "2022-05-19T15:33:42.637Z"
   },
   {
    "duration": 11,
    "start_time": "2022-05-19T15:33:43.137Z"
   },
   {
    "duration": 14,
    "start_time": "2022-05-19T15:33:43.150Z"
   },
   {
    "duration": 8,
    "start_time": "2022-05-19T15:33:43.166Z"
   },
   {
    "duration": 354,
    "start_time": "2022-05-19T15:33:43.178Z"
   },
   {
    "duration": 10,
    "start_time": "2022-05-19T15:33:43.534Z"
   },
   {
    "duration": 6,
    "start_time": "2022-05-19T15:33:43.546Z"
   },
   {
    "duration": 6,
    "start_time": "2022-05-19T15:33:43.553Z"
   },
   {
    "duration": 12,
    "start_time": "2022-05-19T15:33:43.561Z"
   },
   {
    "duration": 60,
    "start_time": "2022-05-19T15:33:43.575Z"
   },
   {
    "duration": 10,
    "start_time": "2022-05-19T15:33:43.637Z"
   },
   {
    "duration": 8,
    "start_time": "2022-05-19T15:33:43.648Z"
   },
   {
    "duration": 15,
    "start_time": "2022-05-19T15:33:43.657Z"
   },
   {
    "duration": 53,
    "start_time": "2022-05-19T15:33:43.674Z"
   },
   {
    "duration": 304,
    "start_time": "2022-05-19T15:33:43.729Z"
   },
   {
    "duration": 10,
    "start_time": "2022-05-19T15:33:44.034Z"
   },
   {
    "duration": 17,
    "start_time": "2022-05-19T15:33:44.046Z"
   },
   {
    "duration": 642,
    "start_time": "2022-05-19T15:33:44.065Z"
   },
   {
    "duration": 470,
    "start_time": "2022-05-19T15:33:44.708Z"
   },
   {
    "duration": 49,
    "start_time": "2022-05-19T15:55:15.093Z"
   },
   {
    "duration": 1189,
    "start_time": "2022-05-19T16:21:14.900Z"
   },
   {
    "duration": 84,
    "start_time": "2022-05-19T16:21:16.091Z"
   },
   {
    "duration": 20,
    "start_time": "2022-05-19T16:21:16.177Z"
   },
   {
    "duration": 6,
    "start_time": "2022-05-19T16:21:16.200Z"
   },
   {
    "duration": 5,
    "start_time": "2022-05-19T16:21:16.208Z"
   },
   {
    "duration": 16,
    "start_time": "2022-05-19T16:21:16.214Z"
   },
   {
    "duration": 6,
    "start_time": "2022-05-19T16:21:16.231Z"
   },
   {
    "duration": 14,
    "start_time": "2022-05-19T16:21:16.239Z"
   },
   {
    "duration": 13,
    "start_time": "2022-05-19T16:21:16.254Z"
   },
   {
    "duration": 180,
    "start_time": "2022-05-19T16:21:16.269Z"
   },
   {
    "duration": 7,
    "start_time": "2022-05-19T16:21:16.451Z"
   },
   {
    "duration": 131,
    "start_time": "2022-05-19T16:21:16.460Z"
   },
   {
    "duration": 7,
    "start_time": "2022-05-19T16:21:16.593Z"
   },
   {
    "duration": 8,
    "start_time": "2022-05-19T16:21:16.613Z"
   },
   {
    "duration": 16,
    "start_time": "2022-05-19T16:21:16.623Z"
   },
   {
    "duration": 17,
    "start_time": "2022-05-19T16:21:16.641Z"
   },
   {
    "duration": 9,
    "start_time": "2022-05-19T16:21:16.659Z"
   },
   {
    "duration": 9,
    "start_time": "2022-05-19T16:21:16.669Z"
   },
   {
    "duration": 35,
    "start_time": "2022-05-19T16:21:16.679Z"
   },
   {
    "duration": 738,
    "start_time": "2022-05-19T16:21:16.716Z"
   },
   {
    "duration": 7,
    "start_time": "2022-05-19T16:21:17.455Z"
   },
   {
    "duration": 493,
    "start_time": "2022-05-19T16:21:17.463Z"
   },
   {
    "duration": 6,
    "start_time": "2022-05-19T16:21:17.957Z"
   },
   {
    "duration": 319,
    "start_time": "2022-05-19T16:21:17.964Z"
   },
   {
    "duration": 8,
    "start_time": "2022-05-19T16:21:18.285Z"
   },
   {
    "duration": 8,
    "start_time": "2022-05-19T16:21:18.295Z"
   },
   {
    "duration": 4,
    "start_time": "2022-05-19T16:21:18.312Z"
   },
   {
    "duration": 16,
    "start_time": "2022-05-19T16:21:18.317Z"
   },
   {
    "duration": 29,
    "start_time": "2022-05-19T16:21:18.335Z"
   },
   {
    "duration": 8,
    "start_time": "2022-05-19T16:21:18.365Z"
   },
   {
    "duration": 14,
    "start_time": "2022-05-19T16:21:18.374Z"
   },
   {
    "duration": 30,
    "start_time": "2022-05-19T16:21:18.390Z"
   },
   {
    "duration": 25,
    "start_time": "2022-05-19T16:21:18.422Z"
   },
   {
    "duration": 119,
    "start_time": "2022-05-19T16:21:18.449Z"
   },
   {
    "duration": 0,
    "start_time": "2022-05-19T16:21:18.570Z"
   },
   {
    "duration": 0,
    "start_time": "2022-05-19T16:21:18.571Z"
   },
   {
    "duration": 0,
    "start_time": "2022-05-19T16:21:18.572Z"
   },
   {
    "duration": 0,
    "start_time": "2022-05-19T16:21:18.574Z"
   },
   {
    "duration": 288,
    "start_time": "2022-05-19T16:22:56.105Z"
   },
   {
    "duration": 12,
    "start_time": "2022-05-19T16:22:59.735Z"
   },
   {
    "duration": 10,
    "start_time": "2022-05-19T16:22:59.749Z"
   },
   {
    "duration": 621,
    "start_time": "2022-05-19T16:22:59.761Z"
   },
   {
    "duration": 470,
    "start_time": "2022-05-19T16:23:00.383Z"
   },
   {
    "duration": 1158,
    "start_time": "2022-05-19T16:39:24.802Z"
   },
   {
    "duration": 92,
    "start_time": "2022-05-19T16:39:25.962Z"
   },
   {
    "duration": 20,
    "start_time": "2022-05-19T16:39:26.056Z"
   },
   {
    "duration": 5,
    "start_time": "2022-05-19T16:39:26.078Z"
   },
   {
    "duration": 6,
    "start_time": "2022-05-19T16:39:26.084Z"
   },
   {
    "duration": 32,
    "start_time": "2022-05-19T16:39:26.092Z"
   },
   {
    "duration": 3,
    "start_time": "2022-05-19T16:39:26.126Z"
   },
   {
    "duration": 15,
    "start_time": "2022-05-19T16:39:26.130Z"
   },
   {
    "duration": 12,
    "start_time": "2022-05-19T16:39:26.146Z"
   },
   {
    "duration": 182,
    "start_time": "2022-05-19T16:39:26.161Z"
   },
   {
    "duration": 10,
    "start_time": "2022-05-19T16:39:26.345Z"
   },
   {
    "duration": 129,
    "start_time": "2022-05-19T16:39:26.357Z"
   },
   {
    "duration": 7,
    "start_time": "2022-05-19T16:39:26.488Z"
   },
   {
    "duration": 23,
    "start_time": "2022-05-19T16:39:26.497Z"
   },
   {
    "duration": 17,
    "start_time": "2022-05-19T16:39:26.522Z"
   },
   {
    "duration": 15,
    "start_time": "2022-05-19T16:39:26.540Z"
   },
   {
    "duration": 8,
    "start_time": "2022-05-19T16:39:26.557Z"
   },
   {
    "duration": 15,
    "start_time": "2022-05-19T16:39:26.566Z"
   },
   {
    "duration": 9,
    "start_time": "2022-05-19T16:39:26.582Z"
   },
   {
    "duration": 794,
    "start_time": "2022-05-19T16:39:26.592Z"
   },
   {
    "duration": 13,
    "start_time": "2022-05-19T16:39:27.388Z"
   },
   {
    "duration": 456,
    "start_time": "2022-05-19T16:39:27.403Z"
   },
   {
    "duration": 6,
    "start_time": "2022-05-19T16:39:27.860Z"
   },
   {
    "duration": 334,
    "start_time": "2022-05-19T16:39:27.867Z"
   },
   {
    "duration": 12,
    "start_time": "2022-05-19T16:39:28.202Z"
   },
   {
    "duration": 15,
    "start_time": "2022-05-19T16:39:28.216Z"
   },
   {
    "duration": 7,
    "start_time": "2022-05-19T16:39:28.232Z"
   },
   {
    "duration": 10,
    "start_time": "2022-05-19T16:39:28.242Z"
   },
   {
    "duration": 26,
    "start_time": "2022-05-19T16:39:28.253Z"
   },
   {
    "duration": 7,
    "start_time": "2022-05-19T16:39:28.281Z"
   },
   {
    "duration": 37,
    "start_time": "2022-05-19T16:39:28.289Z"
   },
   {
    "duration": 13,
    "start_time": "2022-05-19T16:39:28.328Z"
   },
   {
    "duration": 27,
    "start_time": "2022-05-19T16:39:28.343Z"
   },
   {
    "duration": 302,
    "start_time": "2022-05-19T16:39:28.372Z"
   },
   {
    "duration": 9,
    "start_time": "2022-05-19T16:39:28.675Z"
   },
   {
    "duration": 12,
    "start_time": "2022-05-19T16:39:28.686Z"
   },
   {
    "duration": 628,
    "start_time": "2022-05-19T16:39:28.700Z"
   },
   {
    "duration": 424,
    "start_time": "2022-05-19T16:39:29.330Z"
   },
   {
    "duration": 1109,
    "start_time": "2022-05-21T06:59:20.290Z"
   },
   {
    "duration": 56,
    "start_time": "2022-05-21T06:59:21.401Z"
   },
   {
    "duration": 20,
    "start_time": "2022-05-21T06:59:21.459Z"
   },
   {
    "duration": 30,
    "start_time": "2022-05-21T06:59:21.481Z"
   },
   {
    "duration": 43,
    "start_time": "2022-05-21T06:59:21.513Z"
   },
   {
    "duration": 65,
    "start_time": "2022-05-21T06:59:21.557Z"
   },
   {
    "duration": 75,
    "start_time": "2022-05-21T06:59:21.624Z"
   },
   {
    "duration": 56,
    "start_time": "2022-05-21T06:59:21.701Z"
   },
   {
    "duration": 30,
    "start_time": "2022-05-21T06:59:21.759Z"
   },
   {
    "duration": 211,
    "start_time": "2022-05-21T06:59:21.791Z"
   },
   {
    "duration": 9,
    "start_time": "2022-05-21T06:59:22.004Z"
   },
   {
    "duration": 173,
    "start_time": "2022-05-21T06:59:22.014Z"
   },
   {
    "duration": 42,
    "start_time": "2022-05-21T06:59:22.189Z"
   },
   {
    "duration": 71,
    "start_time": "2022-05-21T06:59:22.232Z"
   },
   {
    "duration": 61,
    "start_time": "2022-05-21T06:59:22.305Z"
   },
   {
    "duration": 54,
    "start_time": "2022-05-21T06:59:22.368Z"
   },
   {
    "duration": 32,
    "start_time": "2022-05-21T06:59:22.424Z"
   },
   {
    "duration": 64,
    "start_time": "2022-05-21T06:59:22.457Z"
   },
   {
    "duration": 39,
    "start_time": "2022-05-21T06:59:22.524Z"
   },
   {
    "duration": 791,
    "start_time": "2022-05-21T06:59:22.565Z"
   },
   {
    "duration": 7,
    "start_time": "2022-05-21T06:59:23.358Z"
   },
   {
    "duration": 540,
    "start_time": "2022-05-21T06:59:23.367Z"
   },
   {
    "duration": 7,
    "start_time": "2022-05-21T06:59:23.909Z"
   },
   {
    "duration": 413,
    "start_time": "2022-05-21T06:59:23.918Z"
   },
   {
    "duration": 9,
    "start_time": "2022-05-21T06:59:24.333Z"
   },
   {
    "duration": 144,
    "start_time": "2022-05-21T06:59:24.355Z"
   },
   {
    "duration": 64,
    "start_time": "2022-05-21T06:59:24.501Z"
   },
   {
    "duration": 34,
    "start_time": "2022-05-21T06:59:24.568Z"
   },
   {
    "duration": 92,
    "start_time": "2022-05-21T06:59:24.605Z"
   },
   {
    "duration": 48,
    "start_time": "2022-05-21T06:59:24.698Z"
   },
   {
    "duration": 90,
    "start_time": "2022-05-21T06:59:24.748Z"
   },
   {
    "duration": 54,
    "start_time": "2022-05-21T06:59:24.840Z"
   },
   {
    "duration": 144,
    "start_time": "2022-05-21T06:59:24.895Z"
   },
   {
    "duration": 398,
    "start_time": "2022-05-21T06:59:25.040Z"
   },
   {
    "duration": 17,
    "start_time": "2022-05-21T06:59:25.440Z"
   },
   {
    "duration": 52,
    "start_time": "2022-05-21T06:59:25.458Z"
   },
   {
    "duration": 702,
    "start_time": "2022-05-21T06:59:25.512Z"
   },
   {
    "duration": 492,
    "start_time": "2022-05-21T06:59:26.216Z"
   },
   {
    "duration": 6,
    "start_time": "2022-05-21T07:03:43.842Z"
   },
   {
    "duration": 5,
    "start_time": "2022-05-21T07:04:44.370Z"
   },
   {
    "duration": 1444,
    "start_time": "2022-05-21T07:30:26.274Z"
   },
   {
    "duration": 138,
    "start_time": "2022-05-21T07:30:27.721Z"
   },
   {
    "duration": 34,
    "start_time": "2022-05-21T07:30:27.862Z"
   },
   {
    "duration": 8,
    "start_time": "2022-05-21T07:30:27.899Z"
   },
   {
    "duration": 10,
    "start_time": "2022-05-21T07:30:27.911Z"
   },
   {
    "duration": 44,
    "start_time": "2022-05-21T07:30:27.924Z"
   },
   {
    "duration": 6,
    "start_time": "2022-05-21T07:30:27.971Z"
   },
   {
    "duration": 21,
    "start_time": "2022-05-21T07:30:27.979Z"
   },
   {
    "duration": 21,
    "start_time": "2022-05-21T07:30:28.002Z"
   },
   {
    "duration": 235,
    "start_time": "2022-05-21T07:30:28.025Z"
   },
   {
    "duration": 9,
    "start_time": "2022-05-21T07:30:28.266Z"
   },
   {
    "duration": 222,
    "start_time": "2022-05-21T07:30:28.278Z"
   },
   {
    "duration": 10,
    "start_time": "2022-05-21T07:30:28.502Z"
   },
   {
    "duration": 8,
    "start_time": "2022-05-21T07:30:28.516Z"
   },
   {
    "duration": 119,
    "start_time": "2022-05-21T07:30:28.526Z"
   },
   {
    "duration": 31,
    "start_time": "2022-05-21T07:30:28.648Z"
   },
   {
    "duration": 21,
    "start_time": "2022-05-21T07:30:28.681Z"
   },
   {
    "duration": 22,
    "start_time": "2022-05-21T07:30:28.705Z"
   },
   {
    "duration": 11,
    "start_time": "2022-05-21T07:30:28.729Z"
   },
   {
    "duration": 869,
    "start_time": "2022-05-21T07:30:28.742Z"
   },
   {
    "duration": 7,
    "start_time": "2022-05-21T07:30:29.613Z"
   },
   {
    "duration": 635,
    "start_time": "2022-05-21T07:30:29.622Z"
   },
   {
    "duration": 6,
    "start_time": "2022-05-21T07:30:30.265Z"
   },
   {
    "duration": 401,
    "start_time": "2022-05-21T07:30:30.272Z"
   },
   {
    "duration": 9,
    "start_time": "2022-05-21T07:30:30.675Z"
   },
   {
    "duration": 19,
    "start_time": "2022-05-21T07:30:30.686Z"
   },
   {
    "duration": 21,
    "start_time": "2022-05-21T07:30:30.707Z"
   },
   {
    "duration": 32,
    "start_time": "2022-05-21T07:30:30.730Z"
   },
   {
    "duration": 73,
    "start_time": "2022-05-21T07:30:30.764Z"
   },
   {
    "duration": 26,
    "start_time": "2022-05-21T07:30:30.839Z"
   },
   {
    "duration": 30,
    "start_time": "2022-05-21T07:30:30.868Z"
   },
   {
    "duration": 36,
    "start_time": "2022-05-21T07:30:30.901Z"
   },
   {
    "duration": 98,
    "start_time": "2022-05-21T07:30:30.939Z"
   },
   {
    "duration": 333,
    "start_time": "2022-05-21T07:30:31.039Z"
   },
   {
    "duration": 14,
    "start_time": "2022-05-21T07:30:31.374Z"
   },
   {
    "duration": 22,
    "start_time": "2022-05-21T07:30:31.389Z"
   },
   {
    "duration": 745,
    "start_time": "2022-05-21T07:30:31.414Z"
   },
   {
    "duration": 494,
    "start_time": "2022-05-21T07:30:32.164Z"
   },
   {
    "duration": 12,
    "start_time": "2022-05-21T08:32:58.985Z"
   },
   {
    "duration": 8,
    "start_time": "2022-05-21T08:33:03.774Z"
   },
   {
    "duration": 5,
    "start_time": "2022-05-21T08:33:30.224Z"
   },
   {
    "duration": 6,
    "start_time": "2022-05-21T08:33:49.059Z"
   },
   {
    "duration": 7,
    "start_time": "2022-05-21T08:37:19.061Z"
   },
   {
    "duration": 5,
    "start_time": "2022-05-21T08:37:24.963Z"
   },
   {
    "duration": 6,
    "start_time": "2022-05-21T08:37:31.199Z"
   },
   {
    "duration": 118,
    "start_time": "2022-05-21T08:42:24.156Z"
   },
   {
    "duration": 5,
    "start_time": "2022-05-21T08:43:01.385Z"
   },
   {
    "duration": 7,
    "start_time": "2022-05-21T08:43:16.026Z"
   },
   {
    "duration": 8,
    "start_time": "2022-05-21T08:47:08.809Z"
   },
   {
    "duration": 8,
    "start_time": "2022-05-21T08:47:25.375Z"
   },
   {
    "duration": 16,
    "start_time": "2022-05-21T08:48:02.467Z"
   },
   {
    "duration": 8,
    "start_time": "2022-05-21T08:49:05.483Z"
   },
   {
    "duration": 9,
    "start_time": "2022-05-21T08:49:10.161Z"
   },
   {
    "duration": 10,
    "start_time": "2022-05-21T08:49:22.262Z"
   },
   {
    "duration": 8,
    "start_time": "2022-05-21T08:49:42.306Z"
   },
   {
    "duration": 8,
    "start_time": "2022-05-21T08:49:46.485Z"
   },
   {
    "duration": 11,
    "start_time": "2022-05-21T08:49:52.690Z"
   },
   {
    "duration": 9,
    "start_time": "2022-05-21T08:50:32.361Z"
   },
   {
    "duration": 11,
    "start_time": "2022-05-21T08:50:43.182Z"
   },
   {
    "duration": 5,
    "start_time": "2022-05-21T08:50:59.479Z"
   },
   {
    "duration": 6,
    "start_time": "2022-05-21T08:51:19.519Z"
   },
   {
    "duration": 9,
    "start_time": "2022-05-21T08:51:23.967Z"
   },
   {
    "duration": 8,
    "start_time": "2022-05-21T08:51:41.957Z"
   },
   {
    "duration": 7,
    "start_time": "2022-05-21T08:51:48.492Z"
   },
   {
    "duration": 7,
    "start_time": "2022-05-21T09:01:18.919Z"
   },
   {
    "duration": 442,
    "start_time": "2022-05-21T09:01:19.477Z"
   },
   {
    "duration": 4,
    "start_time": "2022-05-21T09:09:35.670Z"
   },
   {
    "duration": 4,
    "start_time": "2022-05-21T09:36:56.449Z"
   },
   {
    "duration": 5,
    "start_time": "2022-05-21T09:37:10.667Z"
   },
   {
    "duration": 4,
    "start_time": "2022-05-21T09:37:19.913Z"
   },
   {
    "duration": 5,
    "start_time": "2022-05-21T09:37:23.404Z"
   },
   {
    "duration": 6,
    "start_time": "2022-05-21T09:37:35.159Z"
   },
   {
    "duration": 5,
    "start_time": "2022-05-21T09:37:47.122Z"
   },
   {
    "duration": 10,
    "start_time": "2022-05-21T09:37:47.148Z"
   },
   {
    "duration": 28,
    "start_time": "2022-05-21T09:37:47.161Z"
   },
   {
    "duration": 8,
    "start_time": "2022-05-21T09:37:47.191Z"
   },
   {
    "duration": 9,
    "start_time": "2022-05-21T09:37:47.200Z"
   },
   {
    "duration": 13,
    "start_time": "2022-05-21T09:37:47.211Z"
   },
   {
    "duration": 55,
    "start_time": "2022-05-21T09:37:47.226Z"
   },
   {
    "duration": 327,
    "start_time": "2022-05-21T09:37:47.282Z"
   },
   {
    "duration": 10,
    "start_time": "2022-05-21T09:37:47.611Z"
   },
   {
    "duration": 11,
    "start_time": "2022-05-21T09:37:47.622Z"
   },
   {
    "duration": 775,
    "start_time": "2022-05-21T09:37:47.635Z"
   },
   {
    "duration": 532,
    "start_time": "2022-05-21T09:37:48.412Z"
   },
   {
    "duration": 14,
    "start_time": "2022-05-21T09:39:22.051Z"
   },
   {
    "duration": 11,
    "start_time": "2022-05-21T09:39:38.501Z"
   },
   {
    "duration": 4,
    "start_time": "2022-05-21T09:39:49.278Z"
   },
   {
    "duration": 5,
    "start_time": "2022-05-21T09:40:07.450Z"
   },
   {
    "duration": 5,
    "start_time": "2022-05-21T09:40:14.055Z"
   },
   {
    "duration": 4,
    "start_time": "2022-05-21T09:40:20.257Z"
   },
   {
    "duration": 13,
    "start_time": "2022-05-21T09:40:20.262Z"
   },
   {
    "duration": 28,
    "start_time": "2022-05-21T09:40:20.276Z"
   },
   {
    "duration": 7,
    "start_time": "2022-05-21T09:40:20.306Z"
   },
   {
    "duration": 10,
    "start_time": "2022-05-21T09:40:20.316Z"
   },
   {
    "duration": 13,
    "start_time": "2022-05-21T09:40:20.328Z"
   },
   {
    "duration": 29,
    "start_time": "2022-05-21T09:40:20.365Z"
   },
   {
    "duration": 316,
    "start_time": "2022-05-21T09:40:20.396Z"
   },
   {
    "duration": 10,
    "start_time": "2022-05-21T09:40:20.714Z"
   },
   {
    "duration": 18,
    "start_time": "2022-05-21T09:40:20.726Z"
   },
   {
    "duration": 659,
    "start_time": "2022-05-21T09:40:20.746Z"
   },
   {
    "duration": 500,
    "start_time": "2022-05-21T09:40:21.407Z"
   },
   {
    "duration": 7,
    "start_time": "2022-05-21T09:40:41.666Z"
   },
   {
    "duration": 9,
    "start_time": "2022-05-21T09:40:45.782Z"
   },
   {
    "duration": 10,
    "start_time": "2022-05-21T09:40:45.793Z"
   },
   {
    "duration": 14,
    "start_time": "2022-05-21T09:40:45.804Z"
   },
   {
    "duration": 33,
    "start_time": "2022-05-21T09:40:45.820Z"
   },
   {
    "duration": 321,
    "start_time": "2022-05-21T09:40:45.865Z"
   },
   {
    "duration": 11,
    "start_time": "2022-05-21T09:40:46.188Z"
   },
   {
    "duration": 15,
    "start_time": "2022-05-21T09:40:46.200Z"
   },
   {
    "duration": 695,
    "start_time": "2022-05-21T09:40:46.217Z"
   },
   {
    "duration": 507,
    "start_time": "2022-05-21T09:40:46.915Z"
   },
   {
    "duration": 5,
    "start_time": "2022-05-21T09:40:58.905Z"
   },
   {
    "duration": 4,
    "start_time": "2022-05-21T09:41:01.968Z"
   },
   {
    "duration": 8,
    "start_time": "2022-05-21T10:03:27.299Z"
   },
   {
    "duration": 460,
    "start_time": "2022-05-21T10:03:27.775Z"
   },
   {
    "duration": 109,
    "start_time": "2022-05-21T10:03:31.205Z"
   },
   {
    "duration": 501,
    "start_time": "2022-05-21T10:03:31.531Z"
   },
   {
    "duration": 1142,
    "start_time": "2022-05-21T10:09:24.604Z"
   },
   {
    "duration": 57,
    "start_time": "2022-05-21T10:09:25.749Z"
   },
   {
    "duration": 21,
    "start_time": "2022-05-21T10:09:25.807Z"
   },
   {
    "duration": 5,
    "start_time": "2022-05-21T10:09:25.830Z"
   },
   {
    "duration": 4,
    "start_time": "2022-05-21T10:09:25.837Z"
   },
   {
    "duration": 25,
    "start_time": "2022-05-21T10:09:25.843Z"
   },
   {
    "duration": 6,
    "start_time": "2022-05-21T10:09:25.870Z"
   },
   {
    "duration": 15,
    "start_time": "2022-05-21T10:09:25.877Z"
   },
   {
    "duration": 12,
    "start_time": "2022-05-21T10:09:25.894Z"
   },
   {
    "duration": 8,
    "start_time": "2022-05-21T10:09:25.909Z"
   },
   {
    "duration": 6,
    "start_time": "2022-05-21T10:09:25.918Z"
   },
   {
    "duration": 10,
    "start_time": "2022-05-21T10:09:25.925Z"
   },
   {
    "duration": 203,
    "start_time": "2022-05-21T10:09:25.936Z"
   },
   {
    "duration": 8,
    "start_time": "2022-05-21T10:09:26.141Z"
   },
   {
    "duration": 149,
    "start_time": "2022-05-21T10:09:26.151Z"
   },
   {
    "duration": 9,
    "start_time": "2022-05-21T10:09:26.302Z"
   },
   {
    "duration": 10,
    "start_time": "2022-05-21T10:09:26.313Z"
   },
   {
    "duration": 17,
    "start_time": "2022-05-21T10:09:26.324Z"
   },
   {
    "duration": 36,
    "start_time": "2022-05-21T10:09:26.342Z"
   },
   {
    "duration": 10,
    "start_time": "2022-05-21T10:09:26.380Z"
   },
   {
    "duration": 16,
    "start_time": "2022-05-21T10:09:26.392Z"
   },
   {
    "duration": 10,
    "start_time": "2022-05-21T10:09:26.409Z"
   },
   {
    "duration": 771,
    "start_time": "2022-05-21T10:09:26.420Z"
   },
   {
    "duration": 7,
    "start_time": "2022-05-21T10:09:27.192Z"
   },
   {
    "duration": 557,
    "start_time": "2022-05-21T10:09:27.200Z"
   },
   {
    "duration": 6,
    "start_time": "2022-05-21T10:09:27.765Z"
   },
   {
    "duration": 360,
    "start_time": "2022-05-21T10:09:27.773Z"
   },
   {
    "duration": 8,
    "start_time": "2022-05-21T10:09:28.136Z"
   },
   {
    "duration": 8,
    "start_time": "2022-05-21T10:09:28.146Z"
   },
   {
    "duration": 7,
    "start_time": "2022-05-21T10:09:28.165Z"
   },
   {
    "duration": 5,
    "start_time": "2022-05-21T10:09:28.174Z"
   },
   {
    "duration": 12,
    "start_time": "2022-05-21T10:09:28.181Z"
   },
   {
    "duration": 30,
    "start_time": "2022-05-21T10:09:28.195Z"
   },
   {
    "duration": 8,
    "start_time": "2022-05-21T10:09:28.227Z"
   },
   {
    "duration": 35,
    "start_time": "2022-05-21T10:09:28.236Z"
   },
   {
    "duration": 15,
    "start_time": "2022-05-21T10:09:28.273Z"
   },
   {
    "duration": 28,
    "start_time": "2022-05-21T10:09:28.289Z"
   },
   {
    "duration": 350,
    "start_time": "2022-05-21T10:09:28.318Z"
   },
   {
    "duration": 13,
    "start_time": "2022-05-21T10:09:28.670Z"
   },
   {
    "duration": 17,
    "start_time": "2022-05-21T10:09:28.685Z"
   },
   {
    "duration": 725,
    "start_time": "2022-05-21T10:09:28.704Z"
   },
   {
    "duration": 493,
    "start_time": "2022-05-21T10:09:29.431Z"
   },
   {
    "duration": 1141,
    "start_time": "2022-05-21T10:58:53.581Z"
   },
   {
    "duration": 55,
    "start_time": "2022-05-21T10:58:54.723Z"
   },
   {
    "duration": 18,
    "start_time": "2022-05-21T10:58:54.780Z"
   },
   {
    "duration": 17,
    "start_time": "2022-05-21T10:58:54.800Z"
   },
   {
    "duration": 10,
    "start_time": "2022-05-21T10:58:54.819Z"
   },
   {
    "duration": 24,
    "start_time": "2022-05-21T10:58:54.831Z"
   },
   {
    "duration": 11,
    "start_time": "2022-05-21T10:58:54.857Z"
   },
   {
    "duration": 31,
    "start_time": "2022-05-21T10:58:54.869Z"
   },
   {
    "duration": 17,
    "start_time": "2022-05-21T10:58:54.901Z"
   },
   {
    "duration": 10,
    "start_time": "2022-05-21T10:58:54.920Z"
   },
   {
    "duration": 17,
    "start_time": "2022-05-21T10:58:54.932Z"
   },
   {
    "duration": 20,
    "start_time": "2022-05-21T10:58:54.951Z"
   },
   {
    "duration": 174,
    "start_time": "2022-05-21T10:58:54.972Z"
   },
   {
    "duration": 8,
    "start_time": "2022-05-21T10:58:55.148Z"
   },
   {
    "duration": 167,
    "start_time": "2022-05-21T10:58:55.159Z"
   },
   {
    "duration": 17,
    "start_time": "2022-05-21T10:58:55.328Z"
   },
   {
    "duration": 21,
    "start_time": "2022-05-21T10:58:55.352Z"
   },
   {
    "duration": 34,
    "start_time": "2022-05-21T10:58:55.375Z"
   },
   {
    "duration": 21,
    "start_time": "2022-05-21T10:58:55.411Z"
   },
   {
    "duration": 10,
    "start_time": "2022-05-21T10:58:55.433Z"
   },
   {
    "duration": 18,
    "start_time": "2022-05-21T10:58:55.444Z"
   },
   {
    "duration": 8,
    "start_time": "2022-05-21T10:58:55.463Z"
   },
   {
    "duration": 733,
    "start_time": "2022-05-21T10:58:55.472Z"
   },
   {
    "duration": 7,
    "start_time": "2022-05-21T10:58:56.206Z"
   },
   {
    "duration": 484,
    "start_time": "2022-05-21T10:58:56.215Z"
   },
   {
    "duration": 6,
    "start_time": "2022-05-21T10:58:56.701Z"
   },
   {
    "duration": 360,
    "start_time": "2022-05-21T10:58:56.708Z"
   },
   {
    "duration": 8,
    "start_time": "2022-05-21T10:58:57.071Z"
   },
   {
    "duration": 15,
    "start_time": "2022-05-21T10:58:57.080Z"
   },
   {
    "duration": 9,
    "start_time": "2022-05-21T10:58:57.096Z"
   },
   {
    "duration": 20,
    "start_time": "2022-05-21T10:58:57.106Z"
   },
   {
    "duration": 11,
    "start_time": "2022-05-21T10:58:57.128Z"
   },
   {
    "duration": 28,
    "start_time": "2022-05-21T10:58:57.141Z"
   },
   {
    "duration": 8,
    "start_time": "2022-05-21T10:58:57.170Z"
   },
   {
    "duration": 8,
    "start_time": "2022-05-21T10:58:57.179Z"
   },
   {
    "duration": 12,
    "start_time": "2022-05-21T10:58:57.189Z"
   },
   {
    "duration": 51,
    "start_time": "2022-05-21T10:58:57.202Z"
   },
   {
    "duration": 300,
    "start_time": "2022-05-21T10:58:57.255Z"
   },
   {
    "duration": 9,
    "start_time": "2022-05-21T10:58:57.557Z"
   },
   {
    "duration": 26,
    "start_time": "2022-05-21T10:58:57.568Z"
   },
   {
    "duration": 641,
    "start_time": "2022-05-21T10:58:57.595Z"
   },
   {
    "duration": 461,
    "start_time": "2022-05-21T10:58:58.237Z"
   }
  ],
  "kernelspec": {
   "display_name": "Python 3",
   "language": "python",
   "name": "python3"
  },
  "language_info": {
   "codemirror_mode": {
    "name": "ipython",
    "version": 3
   },
   "file_extension": ".py",
   "mimetype": "text/x-python",
   "name": "python",
   "nbconvert_exporter": "python",
   "pygments_lexer": "ipython3",
   "version": "3.7.10"
  },
  "toc": {
   "base_numbering": 1,
   "nav_menu": {},
   "number_sections": true,
   "sideBar": true,
   "skip_h1_title": true,
   "title_cell": "Table of Contents",
   "title_sidebar": "Contents",
   "toc_cell": false,
   "toc_position": {
    "height": "calc(100% - 180px)",
    "left": "10px",
    "top": "150px",
    "width": "368.391px"
   },
   "toc_section_display": true,
   "toc_window_display": true
  }
 },
 "nbformat": 4,
 "nbformat_minor": 2
}
