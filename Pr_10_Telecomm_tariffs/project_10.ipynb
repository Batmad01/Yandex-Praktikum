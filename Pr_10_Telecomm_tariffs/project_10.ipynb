{
 "cells": [
  {
   "cell_type": "markdown",
   "metadata": {},
   "source": [
    "# Определение перспективного тарифа для телеком-компании"
   ]
  },
  {
   "cell_type": "markdown",
   "metadata": {},
   "source": [
    "### Описание проекта"
   ]
  },
  {
   "cell_type": "markdown",
   "metadata": {},
   "source": [
    "#### Постановка задачи"
   ]
  },
  {
   "cell_type": "markdown",
   "metadata": {},
   "source": [
    "Вы аналитик компании «Мегалайн» — федерального оператора сотовой связи. Клиентам предлагают два тарифных плана: «Смарт» и «Ультра». Чтобы скорректировать рекламный бюджет, коммерческий департамент хочет понять, какой тариф приносит больше денег.\n",
    "Вам предстоит сделать предварительный анализ тарифов на небольшой выборке клиентов. В вашем распоряжении данные 500 пользователей «Мегалайна»: кто они, откуда, каким тарифом пользуются, сколько звонков и сообщений каждый отправил за 2018 год. Нужно проанализировать поведение клиентов и сделать вывод — какой тариф лучше."
   ]
  },
  {
   "cell_type": "markdown",
   "metadata": {},
   "source": [
    "**Краткое описание последовательности выполнения проекта**\n",
    "\n",
    "* Загрузка файлов, их изучение и подготовка к дальнейшему анализу.\n",
    "* Расчёт метрик для каждого пользователя: количество звонков и израсходованных минут, количество сообщений и объём потраченного интернет-трафика по месяцам. Расчёт помесячной выручки с каждого пользователя.\n",
    "* Анализ полученных данных - описание поведения клиентов в зависимости от тарифа.\n",
    "* Проверка гипотез - средняя выручка пользователей тарифов «Ультра» и «Смарт» различаются; средняя выручка пользователей из Москвы отличается от выручки пользователей из других регионов.\n",
    "* Выводы по проекту."
   ]
  },
  {
   "cell_type": "markdown",
   "metadata": {},
   "source": [
    "#### Описание тарифов"
   ]
  },
  {
   "cell_type": "markdown",
   "metadata": {},
   "source": [
    "**Тариф «Смарт»**\n",
    "\n",
    "1. Ежемесячная плата: 550 рублей\n",
    "2. Включено 500 минут разговора, 50 сообщений и 15 Гб интернет-трафика\n",
    "3. Стоимость услуг сверх тарифного пакета:\n",
    "     * минута разговора: 3 рубля\n",
    "     * сообщение: 3 рубля\n",
    "     * 1 Гб интернет-трафика: 200 рублей\n",
    "    \n",
    "    \n",
    "     \n",
    "**Тариф «Ультра»**\n",
    "\n",
    "1. Ежемесячная плата: 1950 рублей\n",
    "2. Включено 3000 минут разговора, 1000 сообщений и 30 Гб интернет-трафика\n",
    "3. Стоимость услуг сверх тарифного пакета:\n",
    "     * минута разговора: 1 рубль\n",
    "     * сообщение: 1 рубль\n",
    "     * 1 Гб интернет-трафика: 150 рублей"
   ]
  },
  {
   "cell_type": "markdown",
   "metadata": {},
   "source": [
    "**Примечание**\n",
    "\n",
    "«Мегалайн» всегда округляет секунды до минут, а мегабайты — до гигабайт. Каждый звонок округляется отдельно: даже если он длился всего 1 секунду, будет засчитан как 1 минута.\n",
    "Для веб-трафика отдельные сессии не считаются. Вместо этого общая сумма за месяц округляется в бо́льшую сторону. Если абонент использует 1025 мегабайт в этом месяце, с него возьмут плату за 2 гигабайта."
   ]
  },
  {
   "cell_type": "markdown",
   "metadata": {},
   "source": [
    "#### Описание данных"
   ]
  },
  {
   "cell_type": "markdown",
   "metadata": {},
   "source": [
    "**Таблица users (информация о пользователях):**\n",
    "\n",
    "* user_id — уникальный идентификатор пользователя\n",
    "* first_name — имя пользователя\n",
    "* last_name — фамилия пользователя\n",
    "* age — возраст пользователя (годы)\n",
    "* reg_date — дата подключения тарифа (день, месяц, год)\n",
    "* churn_date — дата прекращения пользования тарифом (если значение пропущено, то тариф ещё действовал на момент выгрузки данных)\n",
    "* city — город проживания пользователя\n",
    "* tariff — название тарифного плана\n",
    "\n",
    "**Таблица calls (информация о звонках):**\n",
    "\n",
    "* id — уникальный номер звонка\n",
    "* call_date — дата звонка\n",
    "* duration — длительность звонка в минутах\n",
    "* user_id — идентификатор пользователя, сделавшего звонок\n",
    "\n",
    "**Таблица messages (информация о сообщениях):**\n",
    "\n",
    "* id — уникальный номер сообщения\n",
    "* message_date — дата сообщения\n",
    "* user_id — идентификатор пользователя, отправившего сообщение\n",
    "\n",
    "**Таблица internet (информация об интернет-сессиях):**\n",
    "\n",
    "* id — уникальный номер сессии\n",
    "* mb_used — объём потраченного за сессию интернет-трафика (в мегабайтах)\n",
    "* session_date — дата интернет-сессии\n",
    "* user_id — идентификатор пользователя\n",
    "\n",
    "\n",
    "**Таблица tariffs (информация о тарифах):**\n",
    "\n",
    "* tariff_name — название тарифа\n",
    "* rub_monthly_fee — ежемесячная абонентская плата в рублях\n",
    "* minutes_included — количество минут разговора в месяц, включённых в абонентскую плату\n",
    "* messages_included — количество сообщений в месяц, включённых в абонентскую плату\n",
    "* mb_per_month_included — объём интернет-трафика, включённого в абонентскую плату (в мегабайтах)\n",
    "* rub_per_minute — стоимость минуты разговора сверх тарифного пакета (например, если в тарифе 100 минут разговора в месяц, то со 101 минуты будет взиматься плата)\n",
    "* rub_per_message — стоимость отправки сообщения сверх тарифного пакета\n",
    "* rub_per_gb — стоимость дополнительного гигабайта интернет-трафика сверх тарифного пакета (1 гигабайт = 1024 мегабайта)"
   ]
  },
  {
   "cell_type": "markdown",
   "metadata": {},
   "source": [
    "## Загрузка данных и подготовка их к анализу"
   ]
  },
  {
   "cell_type": "markdown",
   "metadata": {},
   "source": [
    "### Загрузка и обзор данных из файлов"
   ]
  },
  {
   "cell_type": "code",
   "execution_count": 1,
   "metadata": {},
   "outputs": [],
   "source": [
    "#Импорт библиотек\n",
    "import pandas as pd\n",
    "from matplotlib import pyplot as plt\n",
    "from scipy import stats as st\n",
    "import numpy as np\n",
    "from IPython.display import display\n",
    "import warnings\n",
    "import seaborn as sns\n",
    "\n",
    "# отключение уведомлений об ошибке при замене исходного набора данных\n",
    "warnings.filterwarnings('ignore')\n",
    "warnings.simplefilter('ignore')\n",
    "\n",
    "# показ всех колонок датафрейма\n",
    "pd.options.display.max_columns = None"
   ]
  },
  {
   "cell_type": "code",
   "execution_count": 2,
   "metadata": {
    "scrolled": false
   },
   "outputs": [
    {
     "data": {
      "text/html": [
       "<div>\n",
       "<style scoped>\n",
       "    .dataframe tbody tr th:only-of-type {\n",
       "        vertical-align: middle;\n",
       "    }\n",
       "\n",
       "    .dataframe tbody tr th {\n",
       "        vertical-align: top;\n",
       "    }\n",
       "\n",
       "    .dataframe thead th {\n",
       "        text-align: right;\n",
       "    }\n",
       "</style>\n",
       "<table border=\"1\" class=\"dataframe\">\n",
       "  <thead>\n",
       "    <tr style=\"text-align: right;\">\n",
       "      <th></th>\n",
       "      <th>user_id</th>\n",
       "      <th>age</th>\n",
       "      <th>churn_date</th>\n",
       "      <th>city</th>\n",
       "      <th>first_name</th>\n",
       "      <th>last_name</th>\n",
       "      <th>reg_date</th>\n",
       "      <th>tariff</th>\n",
       "    </tr>\n",
       "  </thead>\n",
       "  <tbody>\n",
       "    <tr>\n",
       "      <th>0</th>\n",
       "      <td>1000</td>\n",
       "      <td>52</td>\n",
       "      <td>NaN</td>\n",
       "      <td>Краснодар</td>\n",
       "      <td>Рафаил</td>\n",
       "      <td>Верещагин</td>\n",
       "      <td>2018-05-25</td>\n",
       "      <td>ultra</td>\n",
       "    </tr>\n",
       "    <tr>\n",
       "      <th>1</th>\n",
       "      <td>1001</td>\n",
       "      <td>41</td>\n",
       "      <td>NaN</td>\n",
       "      <td>Москва</td>\n",
       "      <td>Иван</td>\n",
       "      <td>Ежов</td>\n",
       "      <td>2018-11-01</td>\n",
       "      <td>smart</td>\n",
       "    </tr>\n",
       "    <tr>\n",
       "      <th>2</th>\n",
       "      <td>1002</td>\n",
       "      <td>59</td>\n",
       "      <td>NaN</td>\n",
       "      <td>Стерлитамак</td>\n",
       "      <td>Евгений</td>\n",
       "      <td>Абрамович</td>\n",
       "      <td>2018-06-17</td>\n",
       "      <td>smart</td>\n",
       "    </tr>\n",
       "    <tr>\n",
       "      <th>3</th>\n",
       "      <td>1003</td>\n",
       "      <td>23</td>\n",
       "      <td>NaN</td>\n",
       "      <td>Москва</td>\n",
       "      <td>Белла</td>\n",
       "      <td>Белякова</td>\n",
       "      <td>2018-08-17</td>\n",
       "      <td>ultra</td>\n",
       "    </tr>\n",
       "    <tr>\n",
       "      <th>4</th>\n",
       "      <td>1004</td>\n",
       "      <td>68</td>\n",
       "      <td>NaN</td>\n",
       "      <td>Новокузнецк</td>\n",
       "      <td>Татьяна</td>\n",
       "      <td>Авдеенко</td>\n",
       "      <td>2018-05-14</td>\n",
       "      <td>ultra</td>\n",
       "    </tr>\n",
       "  </tbody>\n",
       "</table>\n",
       "</div>"
      ],
      "text/plain": [
       "   user_id  age churn_date         city first_name  last_name    reg_date  \\\n",
       "0     1000   52        NaN    Краснодар     Рафаил  Верещагин  2018-05-25   \n",
       "1     1001   41        NaN       Москва       Иван       Ежов  2018-11-01   \n",
       "2     1002   59        NaN  Стерлитамак    Евгений  Абрамович  2018-06-17   \n",
       "3     1003   23        NaN       Москва      Белла   Белякова  2018-08-17   \n",
       "4     1004   68        NaN  Новокузнецк    Татьяна   Авдеенко  2018-05-14   \n",
       "\n",
       "  tariff  \n",
       "0  ultra  \n",
       "1  smart  \n",
       "2  smart  \n",
       "3  ultra  \n",
       "4  ultra  "
      ]
     },
     "metadata": {},
     "output_type": "display_data"
    },
    {
     "data": {
      "text/html": [
       "<div>\n",
       "<style scoped>\n",
       "    .dataframe tbody tr th:only-of-type {\n",
       "        vertical-align: middle;\n",
       "    }\n",
       "\n",
       "    .dataframe tbody tr th {\n",
       "        vertical-align: top;\n",
       "    }\n",
       "\n",
       "    .dataframe thead th {\n",
       "        text-align: right;\n",
       "    }\n",
       "</style>\n",
       "<table border=\"1\" class=\"dataframe\">\n",
       "  <thead>\n",
       "    <tr style=\"text-align: right;\">\n",
       "      <th></th>\n",
       "      <th>id</th>\n",
       "      <th>call_date</th>\n",
       "      <th>duration</th>\n",
       "      <th>user_id</th>\n",
       "    </tr>\n",
       "  </thead>\n",
       "  <tbody>\n",
       "    <tr>\n",
       "      <th>0</th>\n",
       "      <td>1000_0</td>\n",
       "      <td>2018-07-25</td>\n",
       "      <td>0.00</td>\n",
       "      <td>1000</td>\n",
       "    </tr>\n",
       "    <tr>\n",
       "      <th>1</th>\n",
       "      <td>1000_1</td>\n",
       "      <td>2018-08-17</td>\n",
       "      <td>0.00</td>\n",
       "      <td>1000</td>\n",
       "    </tr>\n",
       "    <tr>\n",
       "      <th>2</th>\n",
       "      <td>1000_2</td>\n",
       "      <td>2018-06-11</td>\n",
       "      <td>2.85</td>\n",
       "      <td>1000</td>\n",
       "    </tr>\n",
       "    <tr>\n",
       "      <th>3</th>\n",
       "      <td>1000_3</td>\n",
       "      <td>2018-09-21</td>\n",
       "      <td>13.80</td>\n",
       "      <td>1000</td>\n",
       "    </tr>\n",
       "    <tr>\n",
       "      <th>4</th>\n",
       "      <td>1000_4</td>\n",
       "      <td>2018-12-15</td>\n",
       "      <td>5.18</td>\n",
       "      <td>1000</td>\n",
       "    </tr>\n",
       "  </tbody>\n",
       "</table>\n",
       "</div>"
      ],
      "text/plain": [
       "       id   call_date  duration  user_id\n",
       "0  1000_0  2018-07-25      0.00     1000\n",
       "1  1000_1  2018-08-17      0.00     1000\n",
       "2  1000_2  2018-06-11      2.85     1000\n",
       "3  1000_3  2018-09-21     13.80     1000\n",
       "4  1000_4  2018-12-15      5.18     1000"
      ]
     },
     "metadata": {},
     "output_type": "display_data"
    },
    {
     "data": {
      "text/html": [
       "<div>\n",
       "<style scoped>\n",
       "    .dataframe tbody tr th:only-of-type {\n",
       "        vertical-align: middle;\n",
       "    }\n",
       "\n",
       "    .dataframe tbody tr th {\n",
       "        vertical-align: top;\n",
       "    }\n",
       "\n",
       "    .dataframe thead th {\n",
       "        text-align: right;\n",
       "    }\n",
       "</style>\n",
       "<table border=\"1\" class=\"dataframe\">\n",
       "  <thead>\n",
       "    <tr style=\"text-align: right;\">\n",
       "      <th></th>\n",
       "      <th>id</th>\n",
       "      <th>message_date</th>\n",
       "      <th>user_id</th>\n",
       "    </tr>\n",
       "  </thead>\n",
       "  <tbody>\n",
       "    <tr>\n",
       "      <th>0</th>\n",
       "      <td>1000_0</td>\n",
       "      <td>2018-06-27</td>\n",
       "      <td>1000</td>\n",
       "    </tr>\n",
       "    <tr>\n",
       "      <th>1</th>\n",
       "      <td>1000_1</td>\n",
       "      <td>2018-10-08</td>\n",
       "      <td>1000</td>\n",
       "    </tr>\n",
       "    <tr>\n",
       "      <th>2</th>\n",
       "      <td>1000_2</td>\n",
       "      <td>2018-08-04</td>\n",
       "      <td>1000</td>\n",
       "    </tr>\n",
       "    <tr>\n",
       "      <th>3</th>\n",
       "      <td>1000_3</td>\n",
       "      <td>2018-06-16</td>\n",
       "      <td>1000</td>\n",
       "    </tr>\n",
       "    <tr>\n",
       "      <th>4</th>\n",
       "      <td>1000_4</td>\n",
       "      <td>2018-12-05</td>\n",
       "      <td>1000</td>\n",
       "    </tr>\n",
       "  </tbody>\n",
       "</table>\n",
       "</div>"
      ],
      "text/plain": [
       "       id message_date  user_id\n",
       "0  1000_0   2018-06-27     1000\n",
       "1  1000_1   2018-10-08     1000\n",
       "2  1000_2   2018-08-04     1000\n",
       "3  1000_3   2018-06-16     1000\n",
       "4  1000_4   2018-12-05     1000"
      ]
     },
     "metadata": {},
     "output_type": "display_data"
    },
    {
     "data": {
      "text/html": [
       "<div>\n",
       "<style scoped>\n",
       "    .dataframe tbody tr th:only-of-type {\n",
       "        vertical-align: middle;\n",
       "    }\n",
       "\n",
       "    .dataframe tbody tr th {\n",
       "        vertical-align: top;\n",
       "    }\n",
       "\n",
       "    .dataframe thead th {\n",
       "        text-align: right;\n",
       "    }\n",
       "</style>\n",
       "<table border=\"1\" class=\"dataframe\">\n",
       "  <thead>\n",
       "    <tr style=\"text-align: right;\">\n",
       "      <th></th>\n",
       "      <th>id</th>\n",
       "      <th>mb_used</th>\n",
       "      <th>session_date</th>\n",
       "      <th>user_id</th>\n",
       "    </tr>\n",
       "  </thead>\n",
       "  <tbody>\n",
       "    <tr>\n",
       "      <th>0</th>\n",
       "      <td>1000_0</td>\n",
       "      <td>112.95</td>\n",
       "      <td>2018-11-25</td>\n",
       "      <td>1000</td>\n",
       "    </tr>\n",
       "    <tr>\n",
       "      <th>1</th>\n",
       "      <td>1000_1</td>\n",
       "      <td>1052.81</td>\n",
       "      <td>2018-09-07</td>\n",
       "      <td>1000</td>\n",
       "    </tr>\n",
       "    <tr>\n",
       "      <th>2</th>\n",
       "      <td>1000_2</td>\n",
       "      <td>1197.26</td>\n",
       "      <td>2018-06-25</td>\n",
       "      <td>1000</td>\n",
       "    </tr>\n",
       "    <tr>\n",
       "      <th>3</th>\n",
       "      <td>1000_3</td>\n",
       "      <td>550.27</td>\n",
       "      <td>2018-08-22</td>\n",
       "      <td>1000</td>\n",
       "    </tr>\n",
       "    <tr>\n",
       "      <th>4</th>\n",
       "      <td>1000_4</td>\n",
       "      <td>302.56</td>\n",
       "      <td>2018-09-24</td>\n",
       "      <td>1000</td>\n",
       "    </tr>\n",
       "  </tbody>\n",
       "</table>\n",
       "</div>"
      ],
      "text/plain": [
       "       id  mb_used session_date  user_id\n",
       "0  1000_0   112.95   2018-11-25     1000\n",
       "1  1000_1  1052.81   2018-09-07     1000\n",
       "2  1000_2  1197.26   2018-06-25     1000\n",
       "3  1000_3   550.27   2018-08-22     1000\n",
       "4  1000_4   302.56   2018-09-24     1000"
      ]
     },
     "metadata": {},
     "output_type": "display_data"
    },
    {
     "data": {
      "text/html": [
       "<div>\n",
       "<style scoped>\n",
       "    .dataframe tbody tr th:only-of-type {\n",
       "        vertical-align: middle;\n",
       "    }\n",
       "\n",
       "    .dataframe tbody tr th {\n",
       "        vertical-align: top;\n",
       "    }\n",
       "\n",
       "    .dataframe thead th {\n",
       "        text-align: right;\n",
       "    }\n",
       "</style>\n",
       "<table border=\"1\" class=\"dataframe\">\n",
       "  <thead>\n",
       "    <tr style=\"text-align: right;\">\n",
       "      <th></th>\n",
       "      <th>messages_included</th>\n",
       "      <th>mb_per_month_included</th>\n",
       "      <th>minutes_included</th>\n",
       "      <th>rub_monthly_fee</th>\n",
       "      <th>rub_per_gb</th>\n",
       "      <th>rub_per_message</th>\n",
       "      <th>rub_per_minute</th>\n",
       "      <th>tariff_name</th>\n",
       "    </tr>\n",
       "  </thead>\n",
       "  <tbody>\n",
       "    <tr>\n",
       "      <th>0</th>\n",
       "      <td>50</td>\n",
       "      <td>15360</td>\n",
       "      <td>500</td>\n",
       "      <td>550</td>\n",
       "      <td>200</td>\n",
       "      <td>3</td>\n",
       "      <td>3</td>\n",
       "      <td>smart</td>\n",
       "    </tr>\n",
       "    <tr>\n",
       "      <th>1</th>\n",
       "      <td>1000</td>\n",
       "      <td>30720</td>\n",
       "      <td>3000</td>\n",
       "      <td>1950</td>\n",
       "      <td>150</td>\n",
       "      <td>1</td>\n",
       "      <td>1</td>\n",
       "      <td>ultra</td>\n",
       "    </tr>\n",
       "  </tbody>\n",
       "</table>\n",
       "</div>"
      ],
      "text/plain": [
       "   messages_included  mb_per_month_included  minutes_included  \\\n",
       "0                 50                  15360               500   \n",
       "1               1000                  30720              3000   \n",
       "\n",
       "   rub_monthly_fee  rub_per_gb  rub_per_message  rub_per_minute tariff_name  \n",
       "0              550         200                3               3       smart  \n",
       "1             1950         150                1               1       ultra  "
      ]
     },
     "metadata": {},
     "output_type": "display_data"
    }
   ],
   "source": [
    "# загружаем файлы в переменные и выводим на экран\n",
    "calls = pd.read_csv('/datasets/calls.csv')\n",
    "internet = pd.read_csv('/datasets/internet.csv', index_col=0)\n",
    "messages = pd.read_csv('/datasets/messages.csv')\n",
    "tariffs = pd.read_csv('/datasets/tariffs.csv')\n",
    "users = pd.read_csv('/datasets/users.csv')\n",
    "\n",
    "# выделим основные таблицы\n",
    "main_tables = [users, calls, messages, internet]\n",
    "\n",
    "# и выведем первые 5 строк каждой таблицы\n",
    "for table in main_tables:\n",
    "    display(table.head())\n",
    "display(tariffs.head())"
   ]
  },
  {
   "cell_type": "markdown",
   "metadata": {},
   "source": [
    "Посмотрим подробности о данных"
   ]
  },
  {
   "cell_type": "code",
   "execution_count": 3,
   "metadata": {
    "scrolled": false
   },
   "outputs": [
    {
     "name": "stdout",
     "output_type": "stream",
     "text": [
      "<class 'pandas.core.frame.DataFrame'>\n",
      "RangeIndex: 500 entries, 0 to 499\n",
      "Data columns (total 8 columns):\n",
      " #   Column      Non-Null Count  Dtype \n",
      "---  ------      --------------  ----- \n",
      " 0   user_id     500 non-null    int64 \n",
      " 1   age         500 non-null    int64 \n",
      " 2   churn_date  38 non-null     object\n",
      " 3   city        500 non-null    object\n",
      " 4   first_name  500 non-null    object\n",
      " 5   last_name   500 non-null    object\n",
      " 6   reg_date    500 non-null    object\n",
      " 7   tariff      500 non-null    object\n",
      "dtypes: int64(2), object(6)\n",
      "memory usage: 31.4+ KB\n"
     ]
    },
    {
     "data": {
      "text/plain": [
       "None"
      ]
     },
     "metadata": {},
     "output_type": "display_data"
    },
    {
     "name": "stdout",
     "output_type": "stream",
     "text": [
      "<class 'pandas.core.frame.DataFrame'>\n",
      "RangeIndex: 202607 entries, 0 to 202606\n",
      "Data columns (total 4 columns):\n",
      " #   Column     Non-Null Count   Dtype  \n",
      "---  ------     --------------   -----  \n",
      " 0   id         202607 non-null  object \n",
      " 1   call_date  202607 non-null  object \n",
      " 2   duration   202607 non-null  float64\n",
      " 3   user_id    202607 non-null  int64  \n",
      "dtypes: float64(1), int64(1), object(2)\n",
      "memory usage: 6.2+ MB\n"
     ]
    },
    {
     "data": {
      "text/plain": [
       "None"
      ]
     },
     "metadata": {},
     "output_type": "display_data"
    },
    {
     "name": "stdout",
     "output_type": "stream",
     "text": [
      "<class 'pandas.core.frame.DataFrame'>\n",
      "RangeIndex: 123036 entries, 0 to 123035\n",
      "Data columns (total 3 columns):\n",
      " #   Column        Non-Null Count   Dtype \n",
      "---  ------        --------------   ----- \n",
      " 0   id            123036 non-null  object\n",
      " 1   message_date  123036 non-null  object\n",
      " 2   user_id       123036 non-null  int64 \n",
      "dtypes: int64(1), object(2)\n",
      "memory usage: 2.8+ MB\n"
     ]
    },
    {
     "data": {
      "text/plain": [
       "None"
      ]
     },
     "metadata": {},
     "output_type": "display_data"
    },
    {
     "name": "stdout",
     "output_type": "stream",
     "text": [
      "<class 'pandas.core.frame.DataFrame'>\n",
      "Int64Index: 149396 entries, 0 to 149395\n",
      "Data columns (total 4 columns):\n",
      " #   Column        Non-Null Count   Dtype  \n",
      "---  ------        --------------   -----  \n",
      " 0   id            149396 non-null  object \n",
      " 1   mb_used       149396 non-null  float64\n",
      " 2   session_date  149396 non-null  object \n",
      " 3   user_id       149396 non-null  int64  \n",
      "dtypes: float64(1), int64(1), object(2)\n",
      "memory usage: 5.7+ MB\n"
     ]
    },
    {
     "data": {
      "text/plain": [
       "None"
      ]
     },
     "metadata": {},
     "output_type": "display_data"
    }
   ],
   "source": [
    "for table in main_tables:\n",
    "    display(table.info())"
   ]
  },
  {
   "cell_type": "markdown",
   "metadata": {},
   "source": [
    "**Выводы**\n",
    "\n",
    "Пропусков в данных не обнаружено. Столбцы с датами можно привести к типу `datetime`, но можно обойтись и классическими питоновскими методами, чтобы достать месяц из даты. "
   ]
  },
  {
   "cell_type": "markdown",
   "metadata": {},
   "source": [
    "### Предобработка данных"
   ]
  },
  {
   "cell_type": "markdown",
   "metadata": {},
   "source": [
    "#### Обработка дубликатов"
   ]
  },
  {
   "cell_type": "code",
   "execution_count": 4,
   "metadata": {},
   "outputs": [
    {
     "name": "stdout",
     "output_type": "stream",
     "text": [
      "0\n",
      "0\n",
      "0\n",
      "0\n"
     ]
    }
   ],
   "source": [
    "for table in main_tables:\n",
    "    print(table.duplicated().sum())"
   ]
  },
  {
   "cell_type": "code",
   "execution_count": 5,
   "metadata": {},
   "outputs": [
    {
     "name": "stdout",
     "output_type": "stream",
     "text": [
      "0\n",
      "0\n",
      "0\n"
     ]
    }
   ],
   "source": [
    "for table in main_tables:\n",
    "    if 'id' in table.columns:\n",
    "        print(table.duplicated().sum())"
   ]
  },
  {
   "cell_type": "markdown",
   "metadata": {},
   "source": [
    "**Вывод**\n",
    "\n",
    "Явных дубликатов в основных таблицах не обнаружено. Неявные дубликаты так же не обнаружены."
   ]
  },
  {
   "cell_type": "markdown",
   "metadata": {},
   "source": [
    "#### Удаление необязательных для анализа столбцов"
   ]
  },
  {
   "cell_type": "markdown",
   "metadata": {},
   "source": [
    "В таблице `users` оставим только столбцы с id пользователя, его городом и тарифом. Только эти столбцы будут важны для дальнейшего анализа. Аналогично для таблицы `internet` - оставляем только нужные для анализа столбцы."
   ]
  },
  {
   "cell_type": "code",
   "execution_count": 6,
   "metadata": {},
   "outputs": [],
   "source": [
    "users = users[['user_id', 'city', 'tariff']]\n",
    "internet = internet[['id', 'mb_used', 'session_date', 'user_id']]"
   ]
  },
  {
   "cell_type": "markdown",
   "metadata": {},
   "source": [
    "#### Изменение типа данных столбцов"
   ]
  },
  {
   "cell_type": "markdown",
   "metadata": {},
   "source": [
    "Поменяем тип столбцов в основных таблицах на тип `category` для экономии памяти."
   ]
  },
  {
   "cell_type": "code",
   "execution_count": 7,
   "metadata": {},
   "outputs": [],
   "source": [
    "internet['session_date'] = internet['session_date'].astype('category')\n",
    "calls['call_date'] = calls['call_date'].astype('category')\n",
    "messages['message_date'] = messages['message_date'].astype('category')"
   ]
  },
  {
   "cell_type": "markdown",
   "metadata": {},
   "source": [
    "#### Округление времени разговора в бОльшую сторону"
   ]
  },
  {
   "cell_type": "markdown",
   "metadata": {},
   "source": [
    "По условию задания сказано, что время разговора всегда округляется в бОльшую сторону (секунды до минут), поэтому приведем столбец с временем разговора к нужному формату. "
   ]
  },
  {
   "cell_type": "code",
   "execution_count": 8,
   "metadata": {},
   "outputs": [],
   "source": [
    "calls['duration'] = calls['duration'].apply(np.ceil)"
   ]
  },
  {
   "cell_type": "markdown",
   "metadata": {},
   "source": [
    "### Выделение месяца в отдельный столбец"
   ]
  },
  {
   "cell_type": "markdown",
   "metadata": {},
   "source": [
    "Из колонки с датой в таблицах разговоров, сообщений и интернета выделим месяц в отдельный столбец для дальнешйего помесячного анализа поведения пользователей."
   ]
  },
  {
   "cell_type": "code",
   "execution_count": 9,
   "metadata": {},
   "outputs": [],
   "source": [
    "internet['month'] = internet['session_date'].str.split('-').str[1].astype('category')\n",
    "calls['month'] = calls['call_date'].str.split('-').str[1].astype('category')\n",
    "messages['month'] = messages['message_date'].str.split('-').str[1].astype('category')"
   ]
  },
  {
   "cell_type": "markdown",
   "metadata": {},
   "source": [
    "## Расчёт метрик для пользователей"
   ]
  },
  {
   "cell_type": "markdown",
   "metadata": {},
   "source": [
    "### Количество сделанных звонков и потраченных минут разговора по месяцам"
   ]
  },
  {
   "cell_type": "markdown",
   "metadata": {},
   "source": [
    "С помощью группировки по id пользователя и месяцу рассчитаем необходимые нам метрики (время потраченных минут разговора, количество звонков, количество сообщений и количество использованных мб интернет трафика). "
   ]
  },
  {
   "cell_type": "code",
   "execution_count": 10,
   "metadata": {},
   "outputs": [
    {
     "data": {
      "text/html": [
       "<div>\n",
       "<style scoped>\n",
       "    .dataframe tbody tr th:only-of-type {\n",
       "        vertical-align: middle;\n",
       "    }\n",
       "\n",
       "    .dataframe tbody tr th {\n",
       "        vertical-align: top;\n",
       "    }\n",
       "\n",
       "    .dataframe thead th {\n",
       "        text-align: right;\n",
       "    }\n",
       "</style>\n",
       "<table border=\"1\" class=\"dataframe\">\n",
       "  <thead>\n",
       "    <tr style=\"text-align: right;\">\n",
       "      <th></th>\n",
       "      <th>user_id</th>\n",
       "      <th>month</th>\n",
       "      <th>minutes_spent</th>\n",
       "      <th>calls_count</th>\n",
       "    </tr>\n",
       "  </thead>\n",
       "  <tbody>\n",
       "    <tr>\n",
       "      <th>0</th>\n",
       "      <td>1000</td>\n",
       "      <td>01</td>\n",
       "      <td>0.0</td>\n",
       "      <td>0</td>\n",
       "    </tr>\n",
       "    <tr>\n",
       "      <th>1</th>\n",
       "      <td>1000</td>\n",
       "      <td>02</td>\n",
       "      <td>0.0</td>\n",
       "      <td>0</td>\n",
       "    </tr>\n",
       "    <tr>\n",
       "      <th>2</th>\n",
       "      <td>1000</td>\n",
       "      <td>03</td>\n",
       "      <td>0.0</td>\n",
       "      <td>0</td>\n",
       "    </tr>\n",
       "    <tr>\n",
       "      <th>3</th>\n",
       "      <td>1000</td>\n",
       "      <td>04</td>\n",
       "      <td>0.0</td>\n",
       "      <td>0</td>\n",
       "    </tr>\n",
       "    <tr>\n",
       "      <th>4</th>\n",
       "      <td>1000</td>\n",
       "      <td>05</td>\n",
       "      <td>159.0</td>\n",
       "      <td>22</td>\n",
       "    </tr>\n",
       "  </tbody>\n",
       "</table>\n",
       "</div>"
      ],
      "text/plain": [
       "   user_id month  minutes_spent  calls_count\n",
       "0     1000    01            0.0            0\n",
       "1     1000    02            0.0            0\n",
       "2     1000    03            0.0            0\n",
       "3     1000    04            0.0            0\n",
       "4     1000    05          159.0           22"
      ]
     },
     "execution_count": 10,
     "metadata": {},
     "output_type": "execute_result"
    }
   ],
   "source": [
    "calls_group = (calls.groupby(['user_id', 'month'])['duration'] \n",
    "                     .agg(['sum', 'count']) \n",
    "                     .reset_index()\n",
    "                     .rename(columns={'sum':'minutes_spent', 'count':'calls_count'}))\n",
    "calls_group.head()"
   ]
  },
  {
   "cell_type": "markdown",
   "metadata": {},
   "source": [
    "### Количество отправленных сообщений по месяцам"
   ]
  },
  {
   "cell_type": "code",
   "execution_count": 11,
   "metadata": {},
   "outputs": [
    {
     "data": {
      "text/html": [
       "<div>\n",
       "<style scoped>\n",
       "    .dataframe tbody tr th:only-of-type {\n",
       "        vertical-align: middle;\n",
       "    }\n",
       "\n",
       "    .dataframe tbody tr th {\n",
       "        vertical-align: top;\n",
       "    }\n",
       "\n",
       "    .dataframe thead th {\n",
       "        text-align: right;\n",
       "    }\n",
       "</style>\n",
       "<table border=\"1\" class=\"dataframe\">\n",
       "  <thead>\n",
       "    <tr style=\"text-align: right;\">\n",
       "      <th></th>\n",
       "      <th>user_id</th>\n",
       "      <th>month</th>\n",
       "      <th>messages_sent</th>\n",
       "    </tr>\n",
       "  </thead>\n",
       "  <tbody>\n",
       "    <tr>\n",
       "      <th>0</th>\n",
       "      <td>1000</td>\n",
       "      <td>01</td>\n",
       "      <td>0</td>\n",
       "    </tr>\n",
       "    <tr>\n",
       "      <th>1</th>\n",
       "      <td>1000</td>\n",
       "      <td>02</td>\n",
       "      <td>0</td>\n",
       "    </tr>\n",
       "    <tr>\n",
       "      <th>2</th>\n",
       "      <td>1000</td>\n",
       "      <td>03</td>\n",
       "      <td>0</td>\n",
       "    </tr>\n",
       "    <tr>\n",
       "      <th>3</th>\n",
       "      <td>1000</td>\n",
       "      <td>04</td>\n",
       "      <td>0</td>\n",
       "    </tr>\n",
       "    <tr>\n",
       "      <th>4</th>\n",
       "      <td>1000</td>\n",
       "      <td>05</td>\n",
       "      <td>22</td>\n",
       "    </tr>\n",
       "  </tbody>\n",
       "</table>\n",
       "</div>"
      ],
      "text/plain": [
       "   user_id month  messages_sent\n",
       "0     1000    01              0\n",
       "1     1000    02              0\n",
       "2     1000    03              0\n",
       "3     1000    04              0\n",
       "4     1000    05             22"
      ]
     },
     "execution_count": 11,
     "metadata": {},
     "output_type": "execute_result"
    }
   ],
   "source": [
    "messages_group = (messages.groupby(['user_id', 'month'])['id']\n",
    "                  .agg('count')\n",
    "                  .reset_index()\n",
    "                  .rename(columns={'id':'messages_sent'}))\n",
    "messages_group.head()"
   ]
  },
  {
   "cell_type": "markdown",
   "metadata": {},
   "source": [
    "### Объем потраченного интернет-трафика по месяцам"
   ]
  },
  {
   "cell_type": "code",
   "execution_count": 12,
   "metadata": {},
   "outputs": [
    {
     "data": {
      "text/html": [
       "<div>\n",
       "<style scoped>\n",
       "    .dataframe tbody tr th:only-of-type {\n",
       "        vertical-align: middle;\n",
       "    }\n",
       "\n",
       "    .dataframe tbody tr th {\n",
       "        vertical-align: top;\n",
       "    }\n",
       "\n",
       "    .dataframe thead th {\n",
       "        text-align: right;\n",
       "    }\n",
       "</style>\n",
       "<table border=\"1\" class=\"dataframe\">\n",
       "  <thead>\n",
       "    <tr style=\"text-align: right;\">\n",
       "      <th></th>\n",
       "      <th>user_id</th>\n",
       "      <th>month</th>\n",
       "      <th>mb_used</th>\n",
       "    </tr>\n",
       "  </thead>\n",
       "  <tbody>\n",
       "    <tr>\n",
       "      <th>0</th>\n",
       "      <td>1000</td>\n",
       "      <td>01</td>\n",
       "      <td>0.0</td>\n",
       "    </tr>\n",
       "    <tr>\n",
       "      <th>1</th>\n",
       "      <td>1000</td>\n",
       "      <td>02</td>\n",
       "      <td>0.0</td>\n",
       "    </tr>\n",
       "    <tr>\n",
       "      <th>2</th>\n",
       "      <td>1000</td>\n",
       "      <td>03</td>\n",
       "      <td>0.0</td>\n",
       "    </tr>\n",
       "    <tr>\n",
       "      <th>3</th>\n",
       "      <td>1000</td>\n",
       "      <td>04</td>\n",
       "      <td>0.0</td>\n",
       "    </tr>\n",
       "    <tr>\n",
       "      <th>4</th>\n",
       "      <td>1000</td>\n",
       "      <td>05</td>\n",
       "      <td>3072.0</td>\n",
       "    </tr>\n",
       "    <tr>\n",
       "      <th>5</th>\n",
       "      <td>1000</td>\n",
       "      <td>06</td>\n",
       "      <td>23552.0</td>\n",
       "    </tr>\n",
       "    <tr>\n",
       "      <th>6</th>\n",
       "      <td>1000</td>\n",
       "      <td>07</td>\n",
       "      <td>14336.0</td>\n",
       "    </tr>\n",
       "    <tr>\n",
       "      <th>7</th>\n",
       "      <td>1000</td>\n",
       "      <td>08</td>\n",
       "      <td>14336.0</td>\n",
       "    </tr>\n",
       "    <tr>\n",
       "      <th>8</th>\n",
       "      <td>1000</td>\n",
       "      <td>09</td>\n",
       "      <td>15360.0</td>\n",
       "    </tr>\n",
       "    <tr>\n",
       "      <th>9</th>\n",
       "      <td>1000</td>\n",
       "      <td>10</td>\n",
       "      <td>15360.0</td>\n",
       "    </tr>\n",
       "  </tbody>\n",
       "</table>\n",
       "</div>"
      ],
      "text/plain": [
       "   user_id month  mb_used\n",
       "0     1000    01      0.0\n",
       "1     1000    02      0.0\n",
       "2     1000    03      0.0\n",
       "3     1000    04      0.0\n",
       "4     1000    05   3072.0\n",
       "5     1000    06  23552.0\n",
       "6     1000    07  14336.0\n",
       "7     1000    08  14336.0\n",
       "8     1000    09  15360.0\n",
       "9     1000    10  15360.0"
      ]
     },
     "execution_count": 12,
     "metadata": {},
     "output_type": "execute_result"
    }
   ],
   "source": [
    "internet_group = (internet.groupby(['user_id', 'month'])['mb_used']\n",
    "                  .agg('sum')\n",
    "                  .reset_index())\n",
    "\n",
    "internet_group['mb_used'] = internet_group['mb_used'].apply(lambda x: np.ceil(x/1024) * 1024)\n",
    "internet_group.head(10)"
   ]
  },
  {
   "cell_type": "markdown",
   "metadata": {},
   "source": [
    "### Помесячная выручка с каждого пользователя"
   ]
  },
  {
   "cell_type": "markdown",
   "metadata": {},
   "source": [
    "Теперь рассчитаем выручку с каждого пользователя по месяцам. Для этого сначала создадим общую таблицу, по которой и будет проводиться расчёт выручки. Затем создадим и применим функцию для этого расчёта."
   ]
  },
  {
   "cell_type": "code",
   "execution_count": 13,
   "metadata": {
    "scrolled": false
   },
   "outputs": [
    {
     "data": {
      "text/html": [
       "<div>\n",
       "<style scoped>\n",
       "    .dataframe tbody tr th:only-of-type {\n",
       "        vertical-align: middle;\n",
       "    }\n",
       "\n",
       "    .dataframe tbody tr th {\n",
       "        vertical-align: top;\n",
       "    }\n",
       "\n",
       "    .dataframe thead th {\n",
       "        text-align: right;\n",
       "    }\n",
       "</style>\n",
       "<table border=\"1\" class=\"dataframe\">\n",
       "  <thead>\n",
       "    <tr style=\"text-align: right;\">\n",
       "      <th></th>\n",
       "      <th>user_id</th>\n",
       "      <th>month</th>\n",
       "      <th>minutes_spent</th>\n",
       "      <th>messages_sent</th>\n",
       "      <th>mb_used</th>\n",
       "      <th>city</th>\n",
       "      <th>tariff</th>\n",
       "    </tr>\n",
       "  </thead>\n",
       "  <tbody>\n",
       "    <tr>\n",
       "      <th>4</th>\n",
       "      <td>1000</td>\n",
       "      <td>05</td>\n",
       "      <td>159.0</td>\n",
       "      <td>22.0</td>\n",
       "      <td>3072.0</td>\n",
       "      <td>Краснодар</td>\n",
       "      <td>ultra</td>\n",
       "    </tr>\n",
       "    <tr>\n",
       "      <th>5</th>\n",
       "      <td>1000</td>\n",
       "      <td>06</td>\n",
       "      <td>172.0</td>\n",
       "      <td>60.0</td>\n",
       "      <td>23552.0</td>\n",
       "      <td>Краснодар</td>\n",
       "      <td>ultra</td>\n",
       "    </tr>\n",
       "    <tr>\n",
       "      <th>6</th>\n",
       "      <td>1000</td>\n",
       "      <td>07</td>\n",
       "      <td>340.0</td>\n",
       "      <td>75.0</td>\n",
       "      <td>14336.0</td>\n",
       "      <td>Краснодар</td>\n",
       "      <td>ultra</td>\n",
       "    </tr>\n",
       "    <tr>\n",
       "      <th>7</th>\n",
       "      <td>1000</td>\n",
       "      <td>08</td>\n",
       "      <td>408.0</td>\n",
       "      <td>81.0</td>\n",
       "      <td>14336.0</td>\n",
       "      <td>Краснодар</td>\n",
       "      <td>ultra</td>\n",
       "    </tr>\n",
       "    <tr>\n",
       "      <th>8</th>\n",
       "      <td>1000</td>\n",
       "      <td>09</td>\n",
       "      <td>466.0</td>\n",
       "      <td>57.0</td>\n",
       "      <td>15360.0</td>\n",
       "      <td>Краснодар</td>\n",
       "      <td>ultra</td>\n",
       "    </tr>\n",
       "  </tbody>\n",
       "</table>\n",
       "</div>"
      ],
      "text/plain": [
       "   user_id month  minutes_spent  messages_sent  mb_used       city tariff\n",
       "4     1000    05          159.0           22.0   3072.0  Краснодар  ultra\n",
       "5     1000    06          172.0           60.0  23552.0  Краснодар  ultra\n",
       "6     1000    07          340.0           75.0  14336.0  Краснодар  ultra\n",
       "7     1000    08          408.0           81.0  14336.0  Краснодар  ultra\n",
       "8     1000    09          466.0           57.0  15360.0  Краснодар  ultra"
      ]
     },
     "execution_count": 13,
     "metadata": {},
     "output_type": "execute_result"
    }
   ],
   "source": [
    "users_revenue = (calls_group\n",
    "                .drop(columns='calls_count') # убираем ненужную для дальнейшего анализа колонку с количеством звонков\n",
    "                .merge(messages_group, on=['user_id', 'month'], how='outer') # присоединяем нужные таблицы с сообщениями\n",
    "                .merge(internet_group, on=['user_id', 'month'], how='outer') # таблицу с интернетом\n",
    "                .merge(users, on='user_id')) # и с пользователями\n",
    "\n",
    "# заполнение пропусков ноликами\n",
    "users_revenue[['minutes_spent', 'messages_sent', 'mb_used']] =(\n",
    " users_revenue[['minutes_spent', 'messages_sent', 'mb_used']]).fillna(0)\n",
    "\n",
    "# отфильтруем таблицу так, чтобы убрать строки, \n",
    "# когда пользователь ещё не был зарегистрирован (использование всего тарифа за месяц равно 0)\n",
    "users_revenue = (users_revenue.drop(users_revenue.query('(minutes_spent == 0 and messages_sent == 0 and mb_used == 0)').index))\n",
    "users_revenue.head()"
   ]
  },
  {
   "cell_type": "code",
   "execution_count": 15,
   "metadata": {},
   "outputs": [],
   "source": [
    "# функция будет возвращать доход с пользователя в зависимости от его тарифа и\n",
    "# от использованных им за месяц услуг этого тарифа\n",
    "\n",
    "def revenue(row):\n",
    "    \n",
    "    minutes = row['minutes_spent']\n",
    "    messages = row['messages_sent']\n",
    "    mb = row['mb_used']\n",
    "    tariff = row['tariff']\n",
    "    \n",
    "    if tariff == 'ultra':\n",
    "        payment = 1950\n",
    "        \n",
    "        if minutes > 3000:\n",
    "            payment += (minutes - 3000) * 1\n",
    "        if messages > 1000:\n",
    "            payment += (messages - 1000) * 1\n",
    "        if mb > 30720:\n",
    "            payment += ((mb - 30720) / 1024) * 150\n",
    "                    \n",
    "    if tariff == 'smart':\n",
    "        payment = 550\n",
    "        \n",
    "        if minutes > 500:\n",
    "            payment += (minutes - 500) * 3\n",
    "        if messages > 50:\n",
    "            payment += (messages - 50) * 3\n",
    "        if mb > 15360:\n",
    "            payment += ((mb - 15360) / 1024) * 200\n",
    "    \n",
    "    return(payment)\n"
   ]
  },
  {
   "cell_type": "code",
   "execution_count": 16,
   "metadata": {},
   "outputs": [
    {
     "data": {
      "text/html": [
       "<div>\n",
       "<style scoped>\n",
       "    .dataframe tbody tr th:only-of-type {\n",
       "        vertical-align: middle;\n",
       "    }\n",
       "\n",
       "    .dataframe tbody tr th {\n",
       "        vertical-align: top;\n",
       "    }\n",
       "\n",
       "    .dataframe thead th {\n",
       "        text-align: right;\n",
       "    }\n",
       "</style>\n",
       "<table border=\"1\" class=\"dataframe\">\n",
       "  <thead>\n",
       "    <tr style=\"text-align: right;\">\n",
       "      <th></th>\n",
       "      <th>user_id</th>\n",
       "      <th>month</th>\n",
       "      <th>minutes_spent</th>\n",
       "      <th>messages_sent</th>\n",
       "      <th>mb_used</th>\n",
       "      <th>city</th>\n",
       "      <th>tariff</th>\n",
       "      <th>revenue</th>\n",
       "    </tr>\n",
       "  </thead>\n",
       "  <tbody>\n",
       "    <tr>\n",
       "      <th>4</th>\n",
       "      <td>1000</td>\n",
       "      <td>05</td>\n",
       "      <td>159.0</td>\n",
       "      <td>22.0</td>\n",
       "      <td>3072.0</td>\n",
       "      <td>Краснодар</td>\n",
       "      <td>ultra</td>\n",
       "      <td>1950.0</td>\n",
       "    </tr>\n",
       "    <tr>\n",
       "      <th>5</th>\n",
       "      <td>1000</td>\n",
       "      <td>06</td>\n",
       "      <td>172.0</td>\n",
       "      <td>60.0</td>\n",
       "      <td>23552.0</td>\n",
       "      <td>Краснодар</td>\n",
       "      <td>ultra</td>\n",
       "      <td>1950.0</td>\n",
       "    </tr>\n",
       "    <tr>\n",
       "      <th>6</th>\n",
       "      <td>1000</td>\n",
       "      <td>07</td>\n",
       "      <td>340.0</td>\n",
       "      <td>75.0</td>\n",
       "      <td>14336.0</td>\n",
       "      <td>Краснодар</td>\n",
       "      <td>ultra</td>\n",
       "      <td>1950.0</td>\n",
       "    </tr>\n",
       "    <tr>\n",
       "      <th>7</th>\n",
       "      <td>1000</td>\n",
       "      <td>08</td>\n",
       "      <td>408.0</td>\n",
       "      <td>81.0</td>\n",
       "      <td>14336.0</td>\n",
       "      <td>Краснодар</td>\n",
       "      <td>ultra</td>\n",
       "      <td>1950.0</td>\n",
       "    </tr>\n",
       "    <tr>\n",
       "      <th>8</th>\n",
       "      <td>1000</td>\n",
       "      <td>09</td>\n",
       "      <td>466.0</td>\n",
       "      <td>57.0</td>\n",
       "      <td>15360.0</td>\n",
       "      <td>Краснодар</td>\n",
       "      <td>ultra</td>\n",
       "      <td>1950.0</td>\n",
       "    </tr>\n",
       "  </tbody>\n",
       "</table>\n",
       "</div>"
      ],
      "text/plain": [
       "   user_id month  minutes_spent  messages_sent  mb_used       city tariff  \\\n",
       "4     1000    05          159.0           22.0   3072.0  Краснодар  ultra   \n",
       "5     1000    06          172.0           60.0  23552.0  Краснодар  ultra   \n",
       "6     1000    07          340.0           75.0  14336.0  Краснодар  ultra   \n",
       "7     1000    08          408.0           81.0  14336.0  Краснодар  ultra   \n",
       "8     1000    09          466.0           57.0  15360.0  Краснодар  ultra   \n",
       "\n",
       "   revenue  \n",
       "4   1950.0  \n",
       "5   1950.0  \n",
       "6   1950.0  \n",
       "7   1950.0  \n",
       "8   1950.0  "
      ]
     },
     "execution_count": 16,
     "metadata": {},
     "output_type": "execute_result"
    }
   ],
   "source": [
    "users_revenue['revenue'] = users_revenue.apply(revenue, axis=1)\n",
    "users_revenue.head()"
   ]
  },
  {
   "cell_type": "markdown",
   "metadata": {},
   "source": [
    "**В итоговой таблице есть все нужные столбцы**"
   ]
  },
  {
   "cell_type": "markdown",
   "metadata": {},
   "source": [
    "## Исследовательский анализ данных"
   ]
  },
  {
   "cell_type": "markdown",
   "metadata": {},
   "source": [
    "### Поведение клиентов разных тарифов и доход с них"
   ]
  },
  {
   "cell_type": "markdown",
   "metadata": {},
   "source": [
    "Создадим таблицу с количеством пользователей двух тарифов для расчёта общей прибыли с каждого тарифа"
   ]
  },
  {
   "cell_type": "code",
   "execution_count": 17,
   "metadata": {},
   "outputs": [
    {
     "data": {
      "text/html": [
       "<div>\n",
       "<style scoped>\n",
       "    .dataframe tbody tr th:only-of-type {\n",
       "        vertical-align: middle;\n",
       "    }\n",
       "\n",
       "    .dataframe tbody tr th {\n",
       "        vertical-align: top;\n",
       "    }\n",
       "\n",
       "    .dataframe thead th {\n",
       "        text-align: right;\n",
       "    }\n",
       "</style>\n",
       "<table border=\"1\" class=\"dataframe\">\n",
       "  <thead>\n",
       "    <tr style=\"text-align: right;\">\n",
       "      <th></th>\n",
       "      <th>tariff</th>\n",
       "      <th>user_count</th>\n",
       "    </tr>\n",
       "  </thead>\n",
       "  <tbody>\n",
       "    <tr>\n",
       "      <th>0</th>\n",
       "      <td>smart</td>\n",
       "      <td>351</td>\n",
       "    </tr>\n",
       "    <tr>\n",
       "      <th>1</th>\n",
       "      <td>ultra</td>\n",
       "      <td>149</td>\n",
       "    </tr>\n",
       "  </tbody>\n",
       "</table>\n",
       "</div>"
      ],
      "text/plain": [
       "  tariff  user_count\n",
       "0  smart         351\n",
       "1  ultra         149"
      ]
     },
     "execution_count": 17,
     "metadata": {},
     "output_type": "execute_result"
    }
   ],
   "source": [
    "user_tariff_count = (users.groupby('tariff')['user_id']\n",
    "                     .agg('count')\n",
    "                     .reset_index()\n",
    "                     .rename(columns={'user_id':'user_count'}))\n",
    "user_tariff_count"
   ]
  },
  {
   "cell_type": "markdown",
   "metadata": {},
   "source": [
    "Теперь с помощью группировки создадим таблицу, в которой будут средние значения использования услуг каждого из тарифов, а также количество пользователей, средний доход с пользователя и общий доход со всех пользователей."
   ]
  },
  {
   "cell_type": "code",
   "execution_count": 18,
   "metadata": {
    "scrolled": true
   },
   "outputs": [
    {
     "data": {
      "text/html": [
       "<div>\n",
       "<style scoped>\n",
       "    .dataframe tbody tr th:only-of-type {\n",
       "        vertical-align: middle;\n",
       "    }\n",
       "\n",
       "    .dataframe tbody tr th {\n",
       "        vertical-align: top;\n",
       "    }\n",
       "\n",
       "    .dataframe thead th {\n",
       "        text-align: right;\n",
       "    }\n",
       "</style>\n",
       "<table border=\"1\" class=\"dataframe\">\n",
       "  <thead>\n",
       "    <tr style=\"text-align: right;\">\n",
       "      <th></th>\n",
       "      <th>tariff</th>\n",
       "      <th>minutes_spent</th>\n",
       "      <th>messages_sent</th>\n",
       "      <th>mb_used</th>\n",
       "      <th>avg_revenue</th>\n",
       "      <th>user_count</th>\n",
       "      <th>total_revenue</th>\n",
       "    </tr>\n",
       "  </thead>\n",
       "  <tbody>\n",
       "    <tr>\n",
       "      <th>0</th>\n",
       "      <td>smart</td>\n",
       "      <td>418.0</td>\n",
       "      <td>33.0</td>\n",
       "      <td>16721.0</td>\n",
       "      <td>1290.0</td>\n",
       "      <td>351</td>\n",
       "      <td>452790.0</td>\n",
       "    </tr>\n",
       "    <tr>\n",
       "      <th>1</th>\n",
       "      <td>ultra</td>\n",
       "      <td>527.0</td>\n",
       "      <td>49.0</td>\n",
       "      <td>19962.0</td>\n",
       "      <td>2070.0</td>\n",
       "      <td>149</td>\n",
       "      <td>308430.0</td>\n",
       "    </tr>\n",
       "  </tbody>\n",
       "</table>\n",
       "</div>"
      ],
      "text/plain": [
       "  tariff  minutes_spent  messages_sent  mb_used  avg_revenue  user_count  \\\n",
       "0  smart          418.0           33.0  16721.0       1290.0         351   \n",
       "1  ultra          527.0           49.0  19962.0       2070.0         149   \n",
       "\n",
       "   total_revenue  \n",
       "0       452790.0  \n",
       "1       308430.0  "
      ]
     },
     "execution_count": 18,
     "metadata": {},
     "output_type": "execute_result"
    }
   ],
   "source": [
    "users_revenue_group = (users_revenue.groupby('tariff')['minutes_spent', 'messages_sent', 'mb_used', 'revenue']\n",
    "                       .agg('mean')\n",
    "                       .round()\n",
    "                       .reset_index()\n",
    "                       .merge(user_tariff_count, on='tariff')\n",
    "                       .rename(columns={'revenue':'avg_revenue'}))\n",
    "\n",
    "users_revenue_group['total_revenue'] = users_revenue_group['avg_revenue'] * users_revenue_group['user_count']\n",
    "users_revenue_group"
   ]
  },
  {
   "cell_type": "markdown",
   "metadata": {},
   "source": [
    "**Выводы**\n",
    "\n",
    "Таблица выше наглядно показывает различие в поведении пользователей разных тарифов. Так, пользователи тарифа `smart` в среднем не выходят за пределы тарифа по количеству потраченных минут и отправленных сообщений (418 минут и 33 сообщения при лимите в тарифе в 500 минут и 50 сообщений). Пользователи этого тарифа в среднем слегка выходят за рамки использованного интернет трафика (16721 мб при лимите в 15360 мб), благодаря чему дополнительно за него доплачивают. \n",
    "\n",
    "Пользователи тарифа `ultra` не выходят за рамки лимитов своего тарифа, что сказывается на среднем доходе с пользователя - 2058 рублей при базовой цене тарифа в 1950 рублей (для тарифа `smart` соответственно средний доход с пользователя 1290 рублей при базовой цене тарифа в 550 рублей).\n",
    "\n",
    "Таким образом, пользователи тарифа `ultra` пользуются всеми возможностями своего тарифа, редко выходя за его рамки, можно даже сказать, что пользователи этого тарифа не используют его на полную мощность (особенно заметно на примере потраченных минут разговора - 527 минут в среднем при лимите в 3000 минут). А пользователи тарифа `smart` в среднем выходят за рамки лимита по интернет-трафику, при этом оставаясь в границах лимитов по минутам разговора и сообщениям.\n",
    " \n",
    "По расчёту общей прибыли с пользователей разных тарифов можно сказать, что пользователи тарифа `smart` приносят больше прибыли (452790 рублей - тариф smart и 308430 рублей - тариф ultra). "
   ]
  },
  {
   "cell_type": "markdown",
   "metadata": {},
   "source": [
    "### Статистическое описание основных метрик"
   ]
  },
  {
   "cell_type": "markdown",
   "metadata": {},
   "source": [
    "Расчитаем дисперсию и стандартное отклонение для основных метрик, сделаем мы это с помощью группировки и функций из библиотеки `numpy`"
   ]
  },
  {
   "cell_type": "markdown",
   "metadata": {},
   "source": [
    "#### Дисперсия"
   ]
  },
  {
   "cell_type": "code",
   "execution_count": 19,
   "metadata": {},
   "outputs": [
    {
     "data": {
      "text/html": [
       "<div>\n",
       "<style scoped>\n",
       "    .dataframe tbody tr th:only-of-type {\n",
       "        vertical-align: middle;\n",
       "    }\n",
       "\n",
       "    .dataframe tbody tr th {\n",
       "        vertical-align: top;\n",
       "    }\n",
       "\n",
       "    .dataframe thead th {\n",
       "        text-align: right;\n",
       "    }\n",
       "</style>\n",
       "<table border=\"1\" class=\"dataframe\">\n",
       "  <thead>\n",
       "    <tr style=\"text-align: right;\">\n",
       "      <th></th>\n",
       "      <th>tariff</th>\n",
       "      <th>minutes_spent</th>\n",
       "      <th>messages_sent</th>\n",
       "      <th>mb_used</th>\n",
       "    </tr>\n",
       "  </thead>\n",
       "  <tbody>\n",
       "    <tr>\n",
       "      <th>0</th>\n",
       "      <td>smart</td>\n",
       "      <td>36219.0</td>\n",
       "      <td>797.0</td>\n",
       "      <td>34633108.0</td>\n",
       "    </tr>\n",
       "    <tr>\n",
       "      <th>1</th>\n",
       "      <td>ultra</td>\n",
       "      <td>100874.0</td>\n",
       "      <td>2285.0</td>\n",
       "      <td>101808012.0</td>\n",
       "    </tr>\n",
       "  </tbody>\n",
       "</table>\n",
       "</div>"
      ],
      "text/plain": [
       "  tariff  minutes_spent  messages_sent      mb_used\n",
       "0  smart        36219.0          797.0   34633108.0\n",
       "1  ultra       100874.0         2285.0  101808012.0"
      ]
     },
     "execution_count": 19,
     "metadata": {},
     "output_type": "execute_result"
    }
   ],
   "source": [
    "users_variance_group = (users_revenue.groupby('tariff')['minutes_spent', 'messages_sent', 'mb_used']\n",
    "                        .agg(np.var)\n",
    "                        .round()\n",
    "                        .reset_index())\n",
    "\n",
    "users_variance_group"
   ]
  },
  {
   "cell_type": "markdown",
   "metadata": {},
   "source": [
    "#### Стандартное отклонение"
   ]
  },
  {
   "cell_type": "code",
   "execution_count": 20,
   "metadata": {
    "scrolled": true
   },
   "outputs": [
    {
     "data": {
      "text/html": [
       "<div>\n",
       "<style scoped>\n",
       "    .dataframe tbody tr th:only-of-type {\n",
       "        vertical-align: middle;\n",
       "    }\n",
       "\n",
       "    .dataframe tbody tr th {\n",
       "        vertical-align: top;\n",
       "    }\n",
       "\n",
       "    .dataframe thead th {\n",
       "        text-align: right;\n",
       "    }\n",
       "</style>\n",
       "<table border=\"1\" class=\"dataframe\">\n",
       "  <thead>\n",
       "    <tr style=\"text-align: right;\">\n",
       "      <th></th>\n",
       "      <th>tariff</th>\n",
       "      <th>minutes_spent</th>\n",
       "      <th>messages_sent</th>\n",
       "      <th>mb_used</th>\n",
       "    </tr>\n",
       "  </thead>\n",
       "  <tbody>\n",
       "    <tr>\n",
       "      <th>0</th>\n",
       "      <td>smart</td>\n",
       "      <td>190.0</td>\n",
       "      <td>28.0</td>\n",
       "      <td>5885.0</td>\n",
       "    </tr>\n",
       "    <tr>\n",
       "      <th>1</th>\n",
       "      <td>ultra</td>\n",
       "      <td>318.0</td>\n",
       "      <td>48.0</td>\n",
       "      <td>10090.0</td>\n",
       "    </tr>\n",
       "  </tbody>\n",
       "</table>\n",
       "</div>"
      ],
      "text/plain": [
       "  tariff  minutes_spent  messages_sent  mb_used\n",
       "0  smart          190.0           28.0   5885.0\n",
       "1  ultra          318.0           48.0  10090.0"
      ]
     },
     "execution_count": 20,
     "metadata": {},
     "output_type": "execute_result"
    }
   ],
   "source": [
    "users_std_group = (users_revenue.groupby('tariff')['minutes_spent', 'messages_sent', 'mb_used']\n",
    "                   .agg(np.std)\n",
    "                   .round()\n",
    "                   .reset_index())\n",
    "\n",
    "users_std_group"
   ]
  },
  {
   "cell_type": "markdown",
   "metadata": {},
   "source": [
    "#### Гистограммы метрик"
   ]
  },
  {
   "cell_type": "markdown",
   "metadata": {},
   "source": [
    "Теперь построим гистрограммы распределения основных метрик, для этого создадим функцию, которая построит все графики сразу"
   ]
  },
  {
   "cell_type": "code",
   "execution_count": 21,
   "metadata": {},
   "outputs": [],
   "source": [
    "def plot_hist(df):\n",
    "\n",
    "    # задаём размер сетки для графиков\n",
    "    plt.figure(figsize=(16, 12))\n",
    "    # задаём размер сетки для графиков\n",
    "    sns.set(font_scale = 1.1)\n",
    "\n",
    "    # в таблице графиков — два столбца и две строки, четыре ячейки\n",
    "    # задаём параметры для первого графика - распределние потраченных минут разговора\n",
    "    ax1 = plt.subplot(2, 2, 1)\n",
    "    sns.histplot(data=df, x='minutes_spent', kde=True, hue='tariff')\n",
    "    \n",
    "    ax1.set_xlabel('Минут потрачено', fontsize = 13)\n",
    "    ax1.set_ylabel('Количество пользователей', fontsize = 13)\n",
    "    ax1.set_title('Распределение потраченных минут разговора', fontsize = 14)\n",
    "    ax1.legend(title='Тариф', labels=['smart', 'ultra'], fontsize = 13, title_fontsize = 13)\n",
    "    \n",
    "    # задаём параметры для второго графика - распределние отправленных сообщений\n",
    "    ax2 = plt.subplot(2, 2, 2)\n",
    "    sns.histplot(data=df, x='messages_sent', kde=True, hue='tariff')\n",
    "    \n",
    "    ax2.set_xlabel('Сообщений отправлено', fontsize = 13)\n",
    "    ax2.set_ylabel('Количество пользователей', fontsize = 13)\n",
    "    ax2.set_title('Распределение отправленных сообщений', fontsize = 14)\n",
    "    ax2.legend(title='Тариф', labels=['smart', 'ultra'], fontsize = 13, title_fontsize = 13)\n",
    "    \n",
    "    # задаём параметры для третьего графика - распределние использованного интернет трафика\n",
    "    ax3 = plt.subplot(2, 2, 3)\n",
    "    sns.histplot(data=df, x='mb_used', kde=True, hue='tariff')\n",
    "    \n",
    "    ax3.set_xlabel('МБ использовано', fontsize = 13)\n",
    "    ax3.set_ylabel('Количество пользователей', fontsize = 13)\n",
    "    ax3.set_title('Распределение потраченного трафика', fontsize = 14)\n",
    "    ax3.legend(title='Тариф', labels=['smart', 'ultra'], fontsize = 13, title_fontsize = 13)\n",
    "\n",
    "    plt.show()"
   ]
  },
  {
   "cell_type": "code",
   "execution_count": 22,
   "metadata": {},
   "outputs": [
    {
     "data": {
      "image/png": "[encoded data removed]",
      "text/plain": [
       "<Figure size 1152x864 with 3 Axes>"
      ]
     },
     "metadata": {
      "needs_background": "light"
     },
     "output_type": "display_data"
    }
   ],
   "source": [
    "plot_hist(users_revenue)"
   ]
  },
  {
   "cell_type": "code",
   "execution_count": 23,
   "metadata": {},
   "outputs": [
    {
     "data": {
      "text/html": [
       "<div>\n",
       "<style scoped>\n",
       "    .dataframe tbody tr th:only-of-type {\n",
       "        vertical-align: middle;\n",
       "    }\n",
       "\n",
       "    .dataframe tbody tr th {\n",
       "        vertical-align: top;\n",
       "    }\n",
       "\n",
       "    .dataframe thead th {\n",
       "        text-align: right;\n",
       "    }\n",
       "</style>\n",
       "<table border=\"1\" class=\"dataframe\">\n",
       "  <thead>\n",
       "    <tr style=\"text-align: right;\">\n",
       "      <th></th>\n",
       "      <th>tariff</th>\n",
       "      <th>minutes_spent</th>\n",
       "      <th>messages_sent</th>\n",
       "      <th>mb_used</th>\n",
       "    </tr>\n",
       "  </thead>\n",
       "  <tbody>\n",
       "    <tr>\n",
       "      <th>0</th>\n",
       "      <td>smart</td>\n",
       "      <td>418.0</td>\n",
       "      <td>33.0</td>\n",
       "      <td>16721.0</td>\n",
       "    </tr>\n",
       "    <tr>\n",
       "      <th>1</th>\n",
       "      <td>ultra</td>\n",
       "      <td>527.0</td>\n",
       "      <td>49.0</td>\n",
       "      <td>19962.0</td>\n",
       "    </tr>\n",
       "  </tbody>\n",
       "</table>\n",
       "</div>"
      ],
      "text/plain": [
       "  tariff  minutes_spent  messages_sent  mb_used\n",
       "0  smart          418.0           33.0  16721.0\n",
       "1  ultra          527.0           49.0  19962.0"
      ]
     },
     "execution_count": 23,
     "metadata": {},
     "output_type": "execute_result"
    }
   ],
   "source": [
    "# чтобы нагляднее можно было посмотреть средние значения\n",
    "users_revenue_group.drop(columns=['avg_revenue', 'user_count', 'total_revenue'])"
   ]
  },
  {
   "cell_type": "code",
   "execution_count": 24,
   "metadata": {
    "scrolled": true
   },
   "outputs": [
    {
     "name": "stdout",
     "output_type": "stream",
     "text": [
      "Процент пользователей тарифа ultra, превысивших лимиты тарифа: 13.6%\n",
      "Процент пользователей тарифа smart, превысивших лимиты тарифа: 74.6%\n"
     ]
    }
   ],
   "source": [
    "# расчёт процента пользователей, которые превысили ежемесячные лимиты по своему тарифу\n",
    "users_ultra_exceeds_limits = ((users_revenue.query('tariff == \"ultra\" and revenue != 1950'))['tariff'].count() / \n",
    "                             (users_revenue.query('tariff == \"ultra\"'))['tariff'].count())\n",
    "\n",
    "users_smart_exceeds_limits = ((users_revenue.query('tariff == \"smart\" and revenue != 550'))['tariff'].count() / \n",
    "                             (users_revenue.query('tariff == \"smart\"'))['tariff'].count())\n",
    "\n",
    "print(\"Процент пользователей тарифа ultra, превысивших лимиты тарифа: \" + \"{:.1%}\".format(users_ultra_exceeds_limits))\n",
    "print(\"Процент пользователей тарифа smart, превысивших лимиты тарифа: \" + \"{:.1%}\".format(users_smart_exceeds_limits))"
   ]
  },
  {
   "cell_type": "markdown",
   "metadata": {},
   "source": [
    "**Выводы**\n",
    "\n",
    "* Все гистограммы имеют нормальное распределение\n",
    "* Распределение потраченных минут разговора для тарифа smart незначительно смещено вправо, для тарифа ultra смещение вправо более существенное \n",
    "* Распределение отправленных сообщений для обоих тарифов смещено вправо. Так же очень сильно выделяются пользователи, которые не отправили ни одного сообщения. \n",
    "* Распределение потраченного интернет трафика для тарифа smart является несмещенным нормальным распределением, для тарифа ultra распределение незначительно смещено вправо\n",
    "* Пользователи тарифа smart намного чаще превышают лимиты по своему тарифу, чем пользователи тарифа ultra (74.6% у тарифа smart и 13.6% у тарифа ultra при общем количестве пользователей этих тарифов в 349 и 151 человек соответственно). Это различие в процентах обусловлено тем, что пользователи тарифа smart часто превышают лимит своего тарифа по интернет-трафику."
   ]
  },
  {
   "cell_type": "markdown",
   "metadata": {},
   "source": [
    "## Проверка гипотез"
   ]
  },
  {
   "cell_type": "markdown",
   "metadata": {},
   "source": [
    "### Гипотеза 1 - средняя выручка двух тарифов различается"
   ]
  },
  {
   "cell_type": "markdown",
   "metadata": {},
   "source": [
    "В одном из вышеприведненных пунктов я уже расчитывал среднюю выручку по тарифам, теперь подтвердим это статистически. Для проверки гипотезы будем использовать функцию `stats.ttest_ind`, так как мы будем рассматривать средние двух независимых совокупностей (пользователей двух тарифов). Нулевой гипотезой будет равенство средней выручки с двух тарифов."
   ]
  },
  {
   "cell_type": "code",
   "execution_count": 25,
   "metadata": {},
   "outputs": [
    {
     "name": "stdout",
     "output_type": "stream",
     "text": [
      "p-значение: 1.4229814360764067e-160\n",
      "Отвергаем нулевую гипотезу\n"
     ]
    }
   ],
   "source": [
    "ultra_revenue = users_revenue.query('tariff == \"ultra\"')['revenue']\n",
    "smart_revenue = users_revenue.query('tariff == \"smart\"')['revenue']\n",
    "\n",
    "alpha = .05\n",
    "\n",
    "results = st.ttest_ind(ultra_revenue, smart_revenue)\n",
    "\n",
    "print('p-значение:', results.pvalue)\n",
    "\n",
    "if results.pvalue < alpha:\n",
    "    print(\"Отвергаем нулевую гипотезу\")\n",
    "else:\n",
    "    print(\"Не получилось отвергнуть нулевую гипотезу\")"
   ]
  },
  {
   "cell_type": "markdown",
   "metadata": {},
   "source": [
    "**Вывод**\n",
    "\n",
    "Мы отвергаем нулевую гипотезу о равенстве средней выручки с пользователей двух тарифов, так как p-значение ниже критического уровеня значимости (который мы задали равным 0.05).\n",
    "\n",
    "Таким образом, подтвердилась альтернативная гипотеза о неравенстве средней выручки с пользователей разных тарифов"
   ]
  },
  {
   "cell_type": "markdown",
   "metadata": {},
   "source": [
    "### Гипотеза 2 - средняя выручка пользователей из Москвы отличается от выручки пользователей из других регионов"
   ]
  },
  {
   "cell_type": "markdown",
   "metadata": {},
   "source": [
    "Для второй гипотезы так же будем использовать функцию `stats.ttest_ind`, так как снова будем рассматривать средние двух независимых совокупностей (пользователей из Москвы и других городов). Нулевой гипотезой будет равенство средней выручки с пользователей из Москвы и пользователей из других регионов."
   ]
  },
  {
   "cell_type": "code",
   "execution_count": 26,
   "metadata": {},
   "outputs": [
    {
     "name": "stdout",
     "output_type": "stream",
     "text": [
      "p-значение: 0.5440152911670224\n",
      "Не получилось отвергнуть нулевую гипотезу\n"
     ]
    }
   ],
   "source": [
    "moscow_revenue = users_revenue.query('city == \"Москва\"')['revenue']\n",
    "not_moscow_revenue = users_revenue.query('city != \"Москва\"')['revenue']\n",
    "\n",
    "results = st.ttest_ind(moscow_revenue, not_moscow_revenue)\n",
    "\n",
    "print('p-значение:', results.pvalue)\n",
    "\n",
    "if results.pvalue < alpha:\n",
    "    print(\"Отвергаем нулевую гипотезу\")\n",
    "else:\n",
    "    print(\"Не получилось отвергнуть нулевую гипотезу\")"
   ]
  },
  {
   "cell_type": "code",
   "execution_count": 27,
   "metadata": {},
   "outputs": [
    {
     "name": "stdout",
     "output_type": "stream",
     "text": [
      "Средний доход с пользователей из Москвы 1547.0\n",
      "Средний доход с пользователей не из Москвы 1525.0\n"
     ]
    }
   ],
   "source": [
    "print('Средний доход с пользователей из Москвы', users_revenue.query('city == \"Москва\"')['revenue'].agg('mean').round())\n",
    "print('Средний доход с пользователей не из Москвы', users_revenue.query('city != \"Москва\"')['revenue'].agg('mean').round())"
   ]
  },
  {
   "cell_type": "markdown",
   "metadata": {},
   "source": [
    "**Выводы**\n",
    "\n",
    "Нулевую гипотезу не получилось отвергнуть (так как p-значение выше критического значения в 0.05), соответственно, средний доход с пользователей из Москвы и из других городов практически равны. Это так же подтверждает расчёт средних значений дохода, который приведён выше."
   ]
  },
  {
   "cell_type": "markdown",
   "metadata": {},
   "source": [
    "## Выводы по исследованию"
   ]
  },
  {
   "cell_type": "markdown",
   "metadata": {},
   "source": [
    "* В проекте были расчитаны все основные метрики для пользователей разных тарифов - потраченные минуты разговора, использованные сообщения и мб интернет трафика, а так же доход с каждого пользователя за месяц.\n",
    "* Было изучено поведение клиентов двух тарифов. Мы установили, что пользователи тарифа smart в среднем превышают лимиты по интернет-трафику, по потраченным минутам разговора и сообщениям они остаются в пределах лимитов тарифа. Пользователи тарифа ultra в среднем остаются в лимитах по всем услугам своего тарифа. Это сказывается на среднем доходе с пользователя - 2058 рублей при базовой цене тарифа в 1950 рублей (для тарифа smart соответственно средний доход с пользователя 1290 рублей при базовой цене тарифа в 550 рублей).\n",
    "* Построенные гистограммы распределения количества пользователей по основным метрикам позволили сделать вывод о том, что поведение пользователей разных тарифов практически не отличается (разница в расходах минут разговора, сообщениях, и мб трафика незначительна).\n",
    "* Расчёт выручки с пользователей дал возможность выбрать оптимальный тариф. Лучшим тарифом из двух является тариф smart, так как его выбирает большинство пользователей, и в пересчёте на общую прибыль этот тариф приносит больше денег (452790 рублей против 308430 рублей у тарифа ultra). Хотя тариф ultra приносит больше денег с одного пользователя, но этот тариф выбирают реже, чем тариф smart, поэтому общий заработок с тарифа ultra и меньше.\n",
    "* Моя рекомендация состоит в том, что не стоит делать ставку на раскрутку услуг компании в только в одной Москве, стоит равномерно продвигать услуги по всей стране, так как средний доход с пользователя в Москве практически равен среднему доходу с пользователя в других регионах (что было показано в проверке соответствующей гипотезы в пункте 4.2.)."
   ]
  }
 ],
 "metadata": {
  "ExecuteTimeLog": [
   {
    "duration": 1492,
    "start_time": "2022-04-12T08:11:05.280Z"
   },
   {
    "duration": 403,
    "start_time": "2022-04-12T08:22:20.619Z"
   },
   {
    "duration": 421,
    "start_time": "2022-04-12T08:22:35.430Z"
   },
   {
    "duration": 495,
    "start_time": "2022-04-12T08:22:46.365Z"
   },
   {
    "duration": 400,
    "start_time": "2022-04-12T08:23:00.630Z"
   },
   {
    "duration": 413,
    "start_time": "2022-04-12T08:23:21.886Z"
   },
   {
    "duration": 396,
    "start_time": "2022-04-12T08:23:36.309Z"
   },
   {
    "duration": 406,
    "start_time": "2022-04-12T08:23:52.530Z"
   },
   {
    "duration": 10,
    "start_time": "2022-04-12T08:24:54.000Z"
   },
   {
    "duration": 16,
    "start_time": "2022-04-12T08:24:57.775Z"
   },
   {
    "duration": 14,
    "start_time": "2022-04-12T08:25:48.550Z"
   },
   {
    "duration": 11,
    "start_time": "2022-04-12T08:26:22.869Z"
   },
   {
    "duration": 17,
    "start_time": "2022-04-12T08:26:29.901Z"
   },
   {
    "duration": 8,
    "start_time": "2022-04-12T08:27:21.064Z"
   },
   {
    "duration": 8,
    "start_time": "2022-04-12T08:27:28.036Z"
   },
   {
    "duration": 4,
    "start_time": "2022-04-12T08:41:33.508Z"
   },
   {
    "duration": 426,
    "start_time": "2022-04-12T08:41:33.515Z"
   },
   {
    "duration": 104,
    "start_time": "2022-04-12T08:42:45.620Z"
   },
   {
    "duration": 82,
    "start_time": "2022-04-12T08:43:10.110Z"
   },
   {
    "duration": 86,
    "start_time": "2022-04-12T08:43:17.691Z"
   },
   {
    "duration": 75,
    "start_time": "2022-04-12T08:43:35.112Z"
   },
   {
    "duration": 6,
    "start_time": "2022-04-12T08:48:21.305Z"
   },
   {
    "duration": 19,
    "start_time": "2022-04-12T08:48:38.562Z"
   },
   {
    "duration": 35,
    "start_time": "2022-04-12T08:48:46.279Z"
   },
   {
    "duration": 33,
    "start_time": "2022-04-12T08:48:49.303Z"
   },
   {
    "duration": 11,
    "start_time": "2022-04-12T08:48:53.039Z"
   },
   {
    "duration": 222,
    "start_time": "2022-04-12T08:51:38.932Z"
   },
   {
    "duration": 204,
    "start_time": "2022-04-12T08:51:52.735Z"
   },
   {
    "duration": 14,
    "start_time": "2022-04-12T08:52:18.223Z"
   },
   {
    "duration": 280,
    "start_time": "2022-04-12T08:53:10.693Z"
   },
   {
    "duration": 245,
    "start_time": "2022-04-12T08:53:19.540Z"
   },
   {
    "duration": 342,
    "start_time": "2022-04-12T08:53:24.579Z"
   },
   {
    "duration": 272,
    "start_time": "2022-04-12T08:53:42.201Z"
   },
   {
    "duration": 308,
    "start_time": "2022-04-12T08:53:48.106Z"
   },
   {
    "duration": 227,
    "start_time": "2022-04-12T08:54:33.102Z"
   },
   {
    "duration": 234,
    "start_time": "2022-04-12T08:54:42.836Z"
   },
   {
    "duration": 245,
    "start_time": "2022-04-12T08:54:45.796Z"
   },
   {
    "duration": 248,
    "start_time": "2022-04-12T08:54:48.173Z"
   },
   {
    "duration": 266,
    "start_time": "2022-04-12T08:55:02.780Z"
   },
   {
    "duration": 249,
    "start_time": "2022-04-12T08:55:25.564Z"
   },
   {
    "duration": 541,
    "start_time": "2022-04-12T08:55:46.583Z"
   },
   {
    "duration": 529,
    "start_time": "2022-04-12T08:55:50.386Z"
   },
   {
    "duration": 537,
    "start_time": "2022-04-12T08:55:52.753Z"
   },
   {
    "duration": 627,
    "start_time": "2022-04-12T08:56:00.121Z"
   },
   {
    "duration": 419,
    "start_time": "2022-04-12T08:57:59.200Z"
   },
   {
    "duration": 129,
    "start_time": "2022-04-12T08:58:36.529Z"
   },
   {
    "duration": 140,
    "start_time": "2022-04-12T08:59:32.286Z"
   },
   {
    "duration": 447,
    "start_time": "2022-04-12T08:59:35.086Z"
   },
   {
    "duration": 456,
    "start_time": "2022-04-12T08:59:46.784Z"
   },
   {
    "duration": 116,
    "start_time": "2022-04-12T08:59:49.718Z"
   },
   {
    "duration": 489,
    "start_time": "2022-04-12T08:59:53.195Z"
   },
   {
    "duration": 115,
    "start_time": "2022-04-12T08:59:58.442Z"
   },
   {
    "duration": 157,
    "start_time": "2022-04-12T09:00:18.355Z"
   },
   {
    "duration": 535,
    "start_time": "2022-04-12T09:00:23.036Z"
   },
   {
    "duration": 118,
    "start_time": "2022-04-12T09:00:49.512Z"
   },
   {
    "duration": 567,
    "start_time": "2022-04-12T09:00:52.908Z"
   },
   {
    "duration": 138,
    "start_time": "2022-04-12T09:00:59.833Z"
   },
   {
    "duration": 112,
    "start_time": "2022-04-12T09:01:07.882Z"
   },
   {
    "duration": 649,
    "start_time": "2022-04-12T09:01:13.375Z"
   },
   {
    "duration": 102,
    "start_time": "2022-04-12T09:01:17.427Z"
   },
   {
    "duration": 99,
    "start_time": "2022-04-12T09:01:38.452Z"
   },
   {
    "duration": 689,
    "start_time": "2022-04-12T09:01:43.630Z"
   },
   {
    "duration": 108,
    "start_time": "2022-04-12T09:01:46.986Z"
   },
   {
    "duration": 120,
    "start_time": "2022-04-12T09:01:49.419Z"
   },
   {
    "duration": 144,
    "start_time": "2022-04-12T09:02:16.947Z"
   },
   {
    "duration": 835,
    "start_time": "2022-04-12T09:02:19.653Z"
   },
   {
    "duration": 592,
    "start_time": "2022-04-12T09:02:38.180Z"
   },
   {
    "duration": 545,
    "start_time": "2022-04-12T09:02:45.211Z"
   },
   {
    "duration": 218,
    "start_time": "2022-04-12T09:02:49.567Z"
   },
   {
    "duration": 546,
    "start_time": "2022-04-12T09:02:55.198Z"
   },
   {
    "duration": 196,
    "start_time": "2022-04-12T09:02:56.275Z"
   },
   {
    "duration": 255,
    "start_time": "2022-04-12T09:04:59.146Z"
   },
   {
    "duration": 954,
    "start_time": "2022-04-12T09:05:09.357Z"
   },
   {
    "duration": 4,
    "start_time": "2022-04-12T11:03:15.601Z"
   },
   {
    "duration": 500,
    "start_time": "2022-04-12T11:03:15.607Z"
   },
   {
    "duration": 253,
    "start_time": "2022-04-12T11:03:16.108Z"
   },
   {
    "duration": 653,
    "start_time": "2022-04-12T11:03:16.363Z"
   },
   {
    "duration": 116,
    "start_time": "2022-04-12T11:03:17.019Z"
   },
   {
    "duration": 8,
    "start_time": "2022-04-12T11:12:49.391Z"
   },
   {
    "duration": 10,
    "start_time": "2022-04-12T11:13:58.076Z"
   },
   {
    "duration": 27,
    "start_time": "2022-04-12T11:14:36.285Z"
   },
   {
    "duration": 443,
    "start_time": "2022-04-12T11:16:03.037Z"
   },
   {
    "duration": 83,
    "start_time": "2022-04-12T11:16:21.653Z"
   },
   {
    "duration": 445,
    "start_time": "2022-04-12T11:18:06.657Z"
   },
   {
    "duration": 244,
    "start_time": "2022-04-12T11:18:20.902Z"
   },
   {
    "duration": 445,
    "start_time": "2022-04-12T11:18:26.482Z"
   },
   {
    "duration": 445,
    "start_time": "2022-04-12T11:19:45.618Z"
   },
   {
    "duration": 9,
    "start_time": "2022-04-12T11:19:50.398Z"
   },
   {
    "duration": 87,
    "start_time": "2022-04-12T11:19:53.405Z"
   },
   {
    "duration": 283,
    "start_time": "2022-04-12T11:20:16.185Z"
   },
   {
    "duration": 278,
    "start_time": "2022-04-12T11:20:30.392Z"
   },
   {
    "duration": 299,
    "start_time": "2022-04-12T11:20:59.462Z"
   },
   {
    "duration": 3,
    "start_time": "2022-04-12T11:23:31.647Z"
   },
   {
    "duration": 156,
    "start_time": "2022-04-12T11:23:46.935Z"
   },
   {
    "duration": 5,
    "start_time": "2022-04-12T11:23:51.832Z"
   },
   {
    "duration": 18,
    "start_time": "2022-04-12T11:23:56.659Z"
   },
   {
    "duration": 295,
    "start_time": "2022-04-12T11:25:00.507Z"
   },
   {
    "duration": 27,
    "start_time": "2022-04-12T11:29:25.568Z"
   },
   {
    "duration": 59,
    "start_time": "2022-04-12T11:29:44.672Z"
   },
   {
    "duration": 72,
    "start_time": "2022-04-12T11:30:00.109Z"
   },
   {
    "duration": 134,
    "start_time": "2022-04-12T11:30:24.128Z"
   },
   {
    "duration": 108,
    "start_time": "2022-04-12T11:30:28.589Z"
   },
   {
    "duration": 2290,
    "start_time": "2022-04-12T11:32:10.755Z"
   },
   {
    "duration": 235,
    "start_time": "2022-04-12T11:32:17.383Z"
   },
   {
    "duration": 2258,
    "start_time": "2022-04-12T11:36:31.770Z"
   },
   {
    "duration": 2571,
    "start_time": "2022-04-12T11:37:28.988Z"
   },
   {
    "duration": 2374,
    "start_time": "2022-04-12T11:37:34.369Z"
   },
   {
    "duration": 13,
    "start_time": "2022-04-12T11:38:24.230Z"
   },
   {
    "duration": 21,
    "start_time": "2022-04-12T11:39:09.398Z"
   },
   {
    "duration": 5,
    "start_time": "2022-04-12T11:39:26.414Z"
   },
   {
    "duration": 263,
    "start_time": "2022-04-12T11:39:43.978Z"
   },
   {
    "duration": 282,
    "start_time": "2022-04-12T11:40:11.188Z"
   },
   {
    "duration": 151,
    "start_time": "2022-04-12T11:40:54.341Z"
   },
   {
    "duration": 363,
    "start_time": "2022-04-12T11:40:59.527Z"
   },
   {
    "duration": 6,
    "start_time": "2022-04-12T11:45:28.989Z"
   },
   {
    "duration": 11,
    "start_time": "2022-04-12T11:45:39.559Z"
   },
   {
    "duration": 18,
    "start_time": "2022-04-12T11:46:12.019Z"
   },
   {
    "duration": 144,
    "start_time": "2022-04-12T11:46:22.344Z"
   },
   {
    "duration": 5,
    "start_time": "2022-04-12T11:46:24.598Z"
   },
   {
    "duration": 184,
    "start_time": "2022-04-12T11:47:23.869Z"
   },
   {
    "duration": 12,
    "start_time": "2022-04-12T11:47:27.547Z"
   },
   {
    "duration": 90,
    "start_time": "2022-04-12T11:47:37.152Z"
   },
   {
    "duration": 4,
    "start_time": "2022-04-12T11:47:43.376Z"
   },
   {
    "duration": 469,
    "start_time": "2022-04-12T11:47:43.382Z"
   },
   {
    "duration": 211,
    "start_time": "2022-04-12T11:47:43.852Z"
   },
   {
    "duration": 516,
    "start_time": "2022-04-12T11:47:44.065Z"
   },
   {
    "duration": 103,
    "start_time": "2022-04-12T11:47:44.584Z"
   },
   {
    "duration": 259,
    "start_time": "2022-04-12T11:47:44.689Z"
   },
   {
    "duration": 239,
    "start_time": "2022-04-12T11:47:44.950Z"
   },
   {
    "duration": 8,
    "start_time": "2022-04-12T11:47:45.191Z"
   },
   {
    "duration": 107,
    "start_time": "2022-04-12T11:47:45.217Z"
   },
   {
    "duration": 12,
    "start_time": "2022-04-12T11:48:35.938Z"
   },
   {
    "duration": 3,
    "start_time": "2022-04-12T11:48:40.624Z"
   },
   {
    "duration": 53,
    "start_time": "2022-04-12T11:48:40.807Z"
   },
   {
    "duration": 4,
    "start_time": "2022-04-12T11:52:10.547Z"
   },
   {
    "duration": 211,
    "start_time": "2022-04-12T11:52:51.294Z"
   },
   {
    "duration": 214,
    "start_time": "2022-04-12T11:52:55.408Z"
   },
   {
    "duration": 5,
    "start_time": "2022-04-12T11:57:56.975Z"
   },
   {
    "duration": 176,
    "start_time": "2022-04-12T11:58:07.590Z"
   },
   {
    "duration": 6,
    "start_time": "2022-04-12T11:58:10.506Z"
   },
   {
    "duration": 5,
    "start_time": "2022-04-12T11:58:45.936Z"
   },
   {
    "duration": 11,
    "start_time": "2022-04-12T11:59:35.714Z"
   },
   {
    "duration": 5,
    "start_time": "2022-04-12T12:00:40.652Z"
   },
   {
    "duration": 6,
    "start_time": "2022-04-12T12:00:42.838Z"
   },
   {
    "duration": 5,
    "start_time": "2022-04-12T12:03:08.544Z"
   },
   {
    "duration": 1220,
    "start_time": "2022-04-12T12:04:37.801Z"
   },
   {
    "duration": 215,
    "start_time": "2022-04-12T12:04:57.182Z"
   },
   {
    "duration": 887,
    "start_time": "2022-04-12T12:05:01.253Z"
   },
   {
    "duration": 172,
    "start_time": "2022-04-12T12:05:04.388Z"
   },
   {
    "duration": 992,
    "start_time": "2022-04-12T12:05:08.122Z"
   },
   {
    "duration": 796,
    "start_time": "2022-04-12T12:05:23.129Z"
   },
   {
    "duration": 21,
    "start_time": "2022-04-12T12:05:31.662Z"
   },
   {
    "duration": 21,
    "start_time": "2022-04-12T12:05:40.421Z"
   },
   {
    "duration": 18,
    "start_time": "2022-04-12T12:05:51.976Z"
   },
   {
    "duration": 1886,
    "start_time": "2022-04-13T08:17:24.299Z"
   },
   {
    "duration": 575,
    "start_time": "2022-04-13T08:17:26.189Z"
   },
   {
    "duration": 377,
    "start_time": "2022-04-13T08:17:26.766Z"
   },
   {
    "duration": 857,
    "start_time": "2022-04-13T08:17:27.145Z"
   },
   {
    "duration": 132,
    "start_time": "2022-04-13T08:17:28.005Z"
   },
   {
    "duration": 374,
    "start_time": "2022-04-13T08:17:28.140Z"
   },
   {
    "duration": 370,
    "start_time": "2022-04-13T08:17:28.517Z"
   },
   {
    "duration": 11,
    "start_time": "2022-04-13T08:17:28.890Z"
   },
   {
    "duration": 1553,
    "start_time": "2022-04-13T08:17:28.904Z"
   },
   {
    "duration": 10,
    "start_time": "2022-04-13T08:28:30.257Z"
   },
   {
    "duration": 21,
    "start_time": "2022-04-13T08:29:22.853Z"
   },
   {
    "duration": 73,
    "start_time": "2022-04-13T08:30:29.962Z"
   },
   {
    "duration": 52,
    "start_time": "2022-04-13T08:30:44.178Z"
   },
   {
    "duration": 137,
    "start_time": "2022-04-13T08:31:06.993Z"
   },
   {
    "duration": 42,
    "start_time": "2022-04-13T08:31:12.303Z"
   },
   {
    "duration": 6,
    "start_time": "2022-04-13T08:31:21.116Z"
   },
   {
    "duration": 615,
    "start_time": "2022-04-13T08:31:21.125Z"
   },
   {
    "duration": 531,
    "start_time": "2022-04-13T08:31:21.742Z"
   },
   {
    "duration": 821,
    "start_time": "2022-04-13T08:31:22.276Z"
   },
   {
    "duration": 136,
    "start_time": "2022-04-13T08:31:23.099Z"
   },
   {
    "duration": 395,
    "start_time": "2022-04-13T08:31:23.237Z"
   },
   {
    "duration": 371,
    "start_time": "2022-04-13T08:31:23.634Z"
   },
   {
    "duration": 25,
    "start_time": "2022-04-13T08:31:24.007Z"
   },
   {
    "duration": 1677,
    "start_time": "2022-04-13T08:31:24.034Z"
   },
   {
    "duration": 156,
    "start_time": "2022-04-13T08:31:25.714Z"
   },
   {
    "duration": 24,
    "start_time": "2022-04-13T08:31:25.872Z"
   },
   {
    "duration": 22,
    "start_time": "2022-04-13T08:31:30.362Z"
   },
   {
    "duration": 20,
    "start_time": "2022-04-13T08:31:36.041Z"
   },
   {
    "duration": 63,
    "start_time": "2022-04-13T08:31:49.166Z"
   },
   {
    "duration": 90,
    "start_time": "2022-04-13T08:31:53.285Z"
   },
   {
    "duration": 79,
    "start_time": "2022-04-13T08:31:55.574Z"
   },
   {
    "duration": 15,
    "start_time": "2022-04-13T08:32:56.720Z"
   },
   {
    "duration": 7,
    "start_time": "2022-04-13T08:34:00.695Z"
   },
   {
    "duration": 22,
    "start_time": "2022-04-13T08:34:06.117Z"
   },
   {
    "duration": 20,
    "start_time": "2022-04-13T08:34:11.158Z"
   },
   {
    "duration": 5,
    "start_time": "2022-04-13T08:34:14.798Z"
   },
   {
    "duration": 30,
    "start_time": "2022-04-13T08:34:15.006Z"
   },
   {
    "duration": 29,
    "start_time": "2022-04-13T08:34:18.378Z"
   },
   {
    "duration": 30,
    "start_time": "2022-04-13T08:34:19.968Z"
   },
   {
    "duration": 29,
    "start_time": "2022-04-13T08:34:24.376Z"
   },
   {
    "duration": 7,
    "start_time": "2022-04-13T08:34:27.492Z"
   },
   {
    "duration": 860,
    "start_time": "2022-04-13T08:34:27.503Z"
   },
   {
    "duration": 785,
    "start_time": "2022-04-13T08:34:28.365Z"
   },
   {
    "duration": 1074,
    "start_time": "2022-04-13T08:34:29.153Z"
   },
   {
    "duration": 208,
    "start_time": "2022-04-13T08:34:30.232Z"
   },
   {
    "duration": 582,
    "start_time": "2022-04-13T08:34:30.443Z"
   },
   {
    "duration": 581,
    "start_time": "2022-04-13T08:34:31.027Z"
   },
   {
    "duration": 21,
    "start_time": "2022-04-13T08:34:31.611Z"
   },
   {
    "duration": 32,
    "start_time": "2022-04-13T08:34:31.635Z"
   },
   {
    "duration": 18,
    "start_time": "2022-04-13T08:34:31.670Z"
   },
   {
    "duration": 43,
    "start_time": "2022-04-13T08:34:31.690Z"
   },
   {
    "duration": 2548,
    "start_time": "2022-04-13T08:34:31.736Z"
   },
   {
    "duration": 246,
    "start_time": "2022-04-13T08:34:34.287Z"
   },
   {
    "duration": 71,
    "start_time": "2022-04-13T08:34:34.537Z"
   },
   {
    "duration": 78,
    "start_time": "2022-04-13T08:34:34.623Z"
   },
   {
    "duration": 67,
    "start_time": "2022-04-13T08:34:34.703Z"
   },
   {
    "duration": 70,
    "start_time": "2022-04-13T08:38:34.622Z"
   },
   {
    "duration": 5,
    "start_time": "2022-04-13T08:38:36.871Z"
   },
   {
    "duration": 698,
    "start_time": "2022-04-13T08:38:36.879Z"
   },
   {
    "duration": 500,
    "start_time": "2022-04-13T08:38:37.579Z"
   },
   {
    "duration": 1078,
    "start_time": "2022-04-13T08:38:38.082Z"
   },
   {
    "duration": 204,
    "start_time": "2022-04-13T08:38:39.163Z"
   },
   {
    "duration": 487,
    "start_time": "2022-04-13T08:38:39.369Z"
   },
   {
    "duration": 470,
    "start_time": "2022-04-13T08:38:39.859Z"
   },
   {
    "duration": 12,
    "start_time": "2022-04-13T08:38:40.332Z"
   },
   {
    "duration": 103,
    "start_time": "2022-04-13T08:38:40.347Z"
   },
   {
    "duration": 370,
    "start_time": "2022-04-13T08:38:40.454Z"
   },
   {
    "duration": 112,
    "start_time": "2022-04-13T08:38:40.827Z"
   },
   {
    "duration": 41,
    "start_time": "2022-04-13T08:38:40.942Z"
   },
   {
    "duration": 88,
    "start_time": "2022-04-13T08:38:40.986Z"
   },
   {
    "duration": 62,
    "start_time": "2022-04-13T08:38:41.077Z"
   },
   {
    "duration": 16,
    "start_time": "2022-04-13T08:43:25.870Z"
   },
   {
    "duration": 105,
    "start_time": "2022-04-13T08:47:37.134Z"
   },
   {
    "duration": 89,
    "start_time": "2022-04-13T08:47:42.717Z"
   },
   {
    "duration": 82,
    "start_time": "2022-04-13T08:48:14.193Z"
   },
   {
    "duration": 91,
    "start_time": "2022-04-13T08:48:19.820Z"
   },
   {
    "duration": 66,
    "start_time": "2022-04-13T08:48:58.714Z"
   },
   {
    "duration": 69,
    "start_time": "2022-04-13T08:49:00.356Z"
   },
   {
    "duration": 85,
    "start_time": "2022-04-13T08:49:12.109Z"
   },
   {
    "duration": 167,
    "start_time": "2022-04-13T08:49:13.213Z"
   },
   {
    "duration": 15,
    "start_time": "2022-04-13T08:51:35.680Z"
   },
   {
    "duration": 92,
    "start_time": "2022-04-13T08:52:31.550Z"
   },
   {
    "duration": 105,
    "start_time": "2022-04-13T08:52:36.378Z"
   },
   {
    "duration": 151,
    "start_time": "2022-04-13T08:52:53.032Z"
   },
   {
    "duration": 27,
    "start_time": "2022-04-13T08:52:57.997Z"
   },
   {
    "duration": 106,
    "start_time": "2022-04-13T08:53:07.676Z"
   },
   {
    "duration": 94,
    "start_time": "2022-04-13T08:54:51.255Z"
   },
   {
    "duration": 640,
    "start_time": "2022-04-13T08:55:08.786Z"
   },
   {
    "duration": 17,
    "start_time": "2022-04-13T08:55:20.688Z"
   },
   {
    "duration": 92,
    "start_time": "2022-04-13T08:55:28.149Z"
   },
   {
    "duration": 27,
    "start_time": "2022-04-13T08:56:41.075Z"
   },
   {
    "duration": 38,
    "start_time": "2022-04-13T08:56:47.151Z"
   },
   {
    "duration": 50,
    "start_time": "2022-04-13T08:56:49.687Z"
   },
   {
    "duration": 105,
    "start_time": "2022-04-13T08:57:13.534Z"
   },
   {
    "duration": 67,
    "start_time": "2022-04-13T08:57:22.099Z"
   },
   {
    "duration": 42,
    "start_time": "2022-04-13T08:58:44.477Z"
   },
   {
    "duration": 48,
    "start_time": "2022-04-13T08:59:44.192Z"
   },
   {
    "duration": 31,
    "start_time": "2022-04-13T09:05:17.693Z"
   },
   {
    "duration": 18,
    "start_time": "2022-04-13T09:05:20.785Z"
   },
   {
    "duration": 8,
    "start_time": "2022-04-13T09:07:00.328Z"
   },
   {
    "duration": 18,
    "start_time": "2022-04-13T09:07:20.704Z"
   },
   {
    "duration": 8,
    "start_time": "2022-04-13T09:07:22.603Z"
   },
   {
    "duration": 5,
    "start_time": "2022-04-13T09:07:34.532Z"
   },
   {
    "duration": 21,
    "start_time": "2022-04-13T09:07:49.559Z"
   },
   {
    "duration": 6,
    "start_time": "2022-04-13T09:08:48.569Z"
   },
   {
    "duration": 8,
    "start_time": "2022-04-13T09:10:39.042Z"
   },
   {
    "duration": 8,
    "start_time": "2022-04-13T09:10:41.644Z"
   },
   {
    "duration": 7,
    "start_time": "2022-04-13T09:10:56.955Z"
   },
   {
    "duration": 67,
    "start_time": "2022-04-13T09:11:19.673Z"
   },
   {
    "duration": 5,
    "start_time": "2022-04-13T09:11:24.535Z"
   },
   {
    "duration": 589,
    "start_time": "2022-04-13T09:11:24.542Z"
   },
   {
    "duration": 441,
    "start_time": "2022-04-13T09:11:25.133Z"
   },
   {
    "duration": 711,
    "start_time": "2022-04-13T09:11:25.577Z"
   },
   {
    "duration": 149,
    "start_time": "2022-04-13T09:11:26.290Z"
   },
   {
    "duration": 436,
    "start_time": "2022-04-13T09:11:26.441Z"
   },
   {
    "duration": 426,
    "start_time": "2022-04-13T09:11:26.879Z"
   },
   {
    "duration": 21,
    "start_time": "2022-04-13T09:11:27.307Z"
   },
   {
    "duration": 77,
    "start_time": "2022-04-13T09:11:27.330Z"
   },
   {
    "duration": 46,
    "start_time": "2022-04-13T09:11:27.425Z"
   },
   {
    "duration": 8,
    "start_time": "2022-04-13T09:11:27.473Z"
   },
   {
    "duration": 18,
    "start_time": "2022-04-13T09:11:27.483Z"
   },
   {
    "duration": 378,
    "start_time": "2022-04-13T09:11:27.503Z"
   },
   {
    "duration": 105,
    "start_time": "2022-04-13T09:11:27.884Z"
   },
   {
    "duration": 105,
    "start_time": "2022-04-13T09:11:27.991Z"
   },
   {
    "duration": 60,
    "start_time": "2022-04-13T09:11:28.098Z"
   },
   {
    "duration": 103,
    "start_time": "2022-04-13T09:11:28.160Z"
   },
   {
    "duration": 44,
    "start_time": "2022-04-13T09:11:28.265Z"
   },
   {
    "duration": 113,
    "start_time": "2022-04-13T09:11:28.324Z"
   },
   {
    "duration": 67,
    "start_time": "2022-04-13T09:11:28.439Z"
   },
   {
    "duration": 30,
    "start_time": "2022-04-13T09:11:28.508Z"
   },
   {
    "duration": 114,
    "start_time": "2022-04-13T09:11:28.539Z"
   },
   {
    "duration": 44,
    "start_time": "2022-04-13T09:11:28.655Z"
   },
   {
    "duration": 47,
    "start_time": "2022-04-13T09:11:39.697Z"
   },
   {
    "duration": 74,
    "start_time": "2022-04-13T09:15:34.941Z"
   },
   {
    "duration": 172,
    "start_time": "2022-04-13T09:15:41.109Z"
   },
   {
    "duration": 90,
    "start_time": "2022-04-13T09:15:54.409Z"
   },
   {
    "duration": 95,
    "start_time": "2022-04-13T09:16:07.412Z"
   },
   {
    "duration": 86,
    "start_time": "2022-04-13T09:16:12.584Z"
   },
   {
    "duration": 90,
    "start_time": "2022-04-13T09:16:52.413Z"
   },
   {
    "duration": 89,
    "start_time": "2022-04-13T09:16:55.281Z"
   },
   {
    "duration": 89,
    "start_time": "2022-04-13T09:16:58.526Z"
   },
   {
    "duration": 91,
    "start_time": "2022-04-13T09:17:02.324Z"
   },
   {
    "duration": 95,
    "start_time": "2022-04-13T09:18:20.484Z"
   },
   {
    "duration": 92,
    "start_time": "2022-04-13T09:18:44.145Z"
   },
   {
    "duration": 155,
    "start_time": "2022-04-13T09:18:47.559Z"
   },
   {
    "duration": 92,
    "start_time": "2022-04-13T09:18:57.607Z"
   },
   {
    "duration": 93,
    "start_time": "2022-04-13T09:19:12.244Z"
   },
   {
    "duration": 107,
    "start_time": "2022-04-13T09:19:23.773Z"
   },
   {
    "duration": 96,
    "start_time": "2022-04-13T09:20:09.646Z"
   },
   {
    "duration": 102,
    "start_time": "2022-04-13T09:20:12.732Z"
   },
   {
    "duration": 99,
    "start_time": "2022-04-13T09:20:15.126Z"
   },
   {
    "duration": 93,
    "start_time": "2022-04-13T09:20:20.633Z"
   },
   {
    "duration": 13,
    "start_time": "2022-04-13T09:22:48.569Z"
   },
   {
    "duration": 96,
    "start_time": "2022-04-13T09:24:22.530Z"
   },
   {
    "duration": 73,
    "start_time": "2022-04-13T09:24:27.612Z"
   },
   {
    "duration": 165,
    "start_time": "2022-04-13T09:24:33.431Z"
   },
   {
    "duration": 105,
    "start_time": "2022-04-13T09:24:44.460Z"
   },
   {
    "duration": 92,
    "start_time": "2022-04-13T09:25:47.520Z"
   },
   {
    "duration": 93,
    "start_time": "2022-04-13T09:25:54.414Z"
   },
   {
    "duration": 99,
    "start_time": "2022-04-13T09:26:10.589Z"
   },
   {
    "duration": 82,
    "start_time": "2022-04-13T09:26:45.341Z"
   },
   {
    "duration": 84,
    "start_time": "2022-04-13T09:26:52.987Z"
   },
   {
    "duration": 101,
    "start_time": "2022-04-13T09:28:17.164Z"
   },
   {
    "duration": 99,
    "start_time": "2022-04-13T09:28:21.244Z"
   },
   {
    "duration": 100,
    "start_time": "2022-04-13T09:28:27.644Z"
   },
   {
    "duration": 172,
    "start_time": "2022-04-13T09:28:32.057Z"
   },
   {
    "duration": 101,
    "start_time": "2022-04-13T09:28:34.206Z"
   },
   {
    "duration": 101,
    "start_time": "2022-04-13T09:28:37.082Z"
   },
   {
    "duration": 100,
    "start_time": "2022-04-13T09:28:39.175Z"
   },
   {
    "duration": 100,
    "start_time": "2022-04-13T09:28:43.316Z"
   },
   {
    "duration": 99,
    "start_time": "2022-04-13T09:28:48.866Z"
   },
   {
    "duration": 98,
    "start_time": "2022-04-13T09:28:58.823Z"
   },
   {
    "duration": 101,
    "start_time": "2022-04-13T09:30:21.972Z"
   },
   {
    "duration": 100,
    "start_time": "2022-04-13T09:30:25.479Z"
   },
   {
    "duration": 164,
    "start_time": "2022-04-13T09:31:21.954Z"
   },
   {
    "duration": 100,
    "start_time": "2022-04-13T09:31:25.761Z"
   },
   {
    "duration": 12,
    "start_time": "2022-04-13T09:48:50.340Z"
   },
   {
    "duration": 19,
    "start_time": "2022-04-13T09:49:29.379Z"
   },
   {
    "duration": 38,
    "start_time": "2022-04-13T09:50:04.168Z"
   },
   {
    "duration": 11,
    "start_time": "2022-04-13T09:50:09.301Z"
   },
   {
    "duration": 27,
    "start_time": "2022-04-13T09:50:12.796Z"
   },
   {
    "duration": 48,
    "start_time": "2022-04-13T09:56:17.183Z"
   },
   {
    "duration": 100,
    "start_time": "2022-04-13T09:57:06.876Z"
   },
   {
    "duration": 42,
    "start_time": "2022-04-13T09:57:21.616Z"
   },
   {
    "duration": 48,
    "start_time": "2022-04-13T09:57:26.490Z"
   },
   {
    "duration": 86,
    "start_time": "2022-04-13T09:57:54.713Z"
   },
   {
    "duration": 110,
    "start_time": "2022-04-13T09:58:17.370Z"
   },
   {
    "duration": 106,
    "start_time": "2022-04-13T09:58:27.345Z"
   },
   {
    "duration": 28,
    "start_time": "2022-04-13T09:58:35.294Z"
   },
   {
    "duration": 93,
    "start_time": "2022-04-13T10:01:43.110Z"
   },
   {
    "duration": 168,
    "start_time": "2022-04-13T10:01:45.274Z"
   },
   {
    "duration": 5,
    "start_time": "2022-04-13T10:05:25.661Z"
   },
   {
    "duration": 17,
    "start_time": "2022-04-13T10:05:31.793Z"
   },
   {
    "duration": 17,
    "start_time": "2022-04-13T10:06:09.164Z"
   },
   {
    "duration": 23,
    "start_time": "2022-04-13T10:06:19.681Z"
   },
   {
    "duration": 1397,
    "start_time": "2022-04-13T10:10:08.188Z"
   },
   {
    "duration": 17,
    "start_time": "2022-04-13T10:10:20.051Z"
   },
   {
    "duration": 2063,
    "start_time": "2022-04-13T10:10:29.323Z"
   },
   {
    "duration": 16,
    "start_time": "2022-04-13T10:10:34.195Z"
   },
   {
    "duration": 4,
    "start_time": "2022-04-13T10:13:24.096Z"
   },
   {
    "duration": 4,
    "start_time": "2022-04-13T10:13:28.793Z"
   },
   {
    "duration": 20,
    "start_time": "2022-04-13T10:14:09.240Z"
   },
   {
    "duration": 52,
    "start_time": "2022-04-13T10:14:27.035Z"
   },
   {
    "duration": 23,
    "start_time": "2022-04-13T10:14:57.522Z"
   },
   {
    "duration": 4,
    "start_time": "2022-04-13T10:15:02.509Z"
   },
   {
    "duration": 28,
    "start_time": "2022-04-13T10:15:02.790Z"
   },
   {
    "duration": 23,
    "start_time": "2022-04-13T10:15:03.162Z"
   },
   {
    "duration": 4,
    "start_time": "2022-04-13T10:15:17.236Z"
   },
   {
    "duration": 27,
    "start_time": "2022-04-13T10:15:17.981Z"
   },
   {
    "duration": 24,
    "start_time": "2022-04-13T10:15:18.517Z"
   },
   {
    "duration": 22,
    "start_time": "2022-04-13T10:15:25.570Z"
   },
   {
    "duration": 127,
    "start_time": "2022-04-13T10:15:37.615Z"
   },
   {
    "duration": 31,
    "start_time": "2022-04-13T10:15:39.402Z"
   },
   {
    "duration": 34,
    "start_time": "2022-04-13T10:15:46.973Z"
   },
   {
    "duration": 49,
    "start_time": "2022-04-13T10:17:08.123Z"
   },
   {
    "duration": 16,
    "start_time": "2022-04-13T10:17:29.233Z"
   },
   {
    "duration": 8,
    "start_time": "2022-04-13T10:17:37.971Z"
   },
   {
    "duration": 18,
    "start_time": "2022-04-13T10:17:51.064Z"
   },
   {
    "duration": 121,
    "start_time": "2022-04-13T10:18:58.780Z"
   },
   {
    "duration": 121,
    "start_time": "2022-04-13T10:19:03.618Z"
   },
   {
    "duration": 110,
    "start_time": "2022-04-13T10:19:11.310Z"
   },
   {
    "duration": 19,
    "start_time": "2022-04-13T10:19:38.450Z"
   },
   {
    "duration": 25,
    "start_time": "2022-04-13T10:20:09.201Z"
   },
   {
    "duration": 34,
    "start_time": "2022-04-13T10:20:29.564Z"
   },
   {
    "duration": 18,
    "start_time": "2022-04-13T10:21:21.219Z"
   },
   {
    "duration": 25,
    "start_time": "2022-04-13T10:21:51.858Z"
   },
   {
    "duration": 15,
    "start_time": "2022-04-13T10:21:59.554Z"
   },
   {
    "duration": 40,
    "start_time": "2022-04-13T10:22:12.130Z"
   },
   {
    "duration": 8,
    "start_time": "2022-04-13T10:23:18.907Z"
   },
   {
    "duration": 9,
    "start_time": "2022-04-13T10:23:29.588Z"
   },
   {
    "duration": 30,
    "start_time": "2022-04-13T10:23:47.997Z"
   },
   {
    "duration": 23,
    "start_time": "2022-04-13T10:23:52.298Z"
   },
   {
    "duration": 29,
    "start_time": "2022-04-13T10:24:01.478Z"
   },
   {
    "duration": 108,
    "start_time": "2022-04-13T10:24:25.111Z"
   },
   {
    "duration": 30,
    "start_time": "2022-04-13T10:24:30.701Z"
   },
   {
    "duration": 30,
    "start_time": "2022-04-13T10:24:36.380Z"
   },
   {
    "duration": 12,
    "start_time": "2022-04-13T10:25:04.275Z"
   },
   {
    "duration": 5,
    "start_time": "2022-04-13T10:25:07.826Z"
   },
   {
    "duration": 47,
    "start_time": "2022-04-13T10:25:11.217Z"
   },
   {
    "duration": 45,
    "start_time": "2022-04-13T10:27:29.359Z"
   },
   {
    "duration": 102,
    "start_time": "2022-04-13T10:29:43.161Z"
   },
   {
    "duration": 5,
    "start_time": "2022-04-13T10:29:50.609Z"
   },
   {
    "duration": 22,
    "start_time": "2022-04-13T10:30:04.339Z"
   },
   {
    "duration": 5,
    "start_time": "2022-04-13T10:30:32.061Z"
   },
   {
    "duration": 21,
    "start_time": "2022-04-13T10:30:33.045Z"
   },
   {
    "duration": 8,
    "start_time": "2022-04-13T10:31:13.442Z"
   },
   {
    "duration": 15,
    "start_time": "2022-04-13T10:31:20.154Z"
   },
   {
    "duration": 6,
    "start_time": "2022-04-13T10:31:57.688Z"
   },
   {
    "duration": 12,
    "start_time": "2022-04-13T10:33:29.531Z"
   },
   {
    "duration": 170,
    "start_time": "2022-04-13T10:33:32.894Z"
   },
   {
    "duration": 5,
    "start_time": "2022-04-13T10:35:05.660Z"
   },
   {
    "duration": 6,
    "start_time": "2022-04-13T10:35:09.907Z"
   },
   {
    "duration": 147,
    "start_time": "2022-04-13T10:35:45.609Z"
   },
   {
    "duration": 158,
    "start_time": "2022-04-13T10:35:55.591Z"
   },
   {
    "duration": 82,
    "start_time": "2022-04-13T10:36:02.990Z"
   },
   {
    "duration": 2068,
    "start_time": "2022-04-13T10:37:09.007Z"
   },
   {
    "duration": 18,
    "start_time": "2022-04-13T10:37:11.627Z"
   },
   {
    "duration": 17,
    "start_time": "2022-04-13T10:37:21.178Z"
   },
   {
    "duration": 4,
    "start_time": "2022-04-13T10:38:08.309Z"
   },
   {
    "duration": 21,
    "start_time": "2022-04-13T10:38:09.164Z"
   },
   {
    "duration": 5,
    "start_time": "2022-04-13T10:38:24.770Z"
   },
   {
    "duration": 21,
    "start_time": "2022-04-13T10:38:26.308Z"
   },
   {
    "duration": 29,
    "start_time": "2022-04-13T10:38:49.483Z"
   },
   {
    "duration": 6,
    "start_time": "2022-04-13T10:40:00.333Z"
   },
   {
    "duration": 926,
    "start_time": "2022-04-13T10:40:22.847Z"
   },
   {
    "duration": 913,
    "start_time": "2022-04-13T10:40:32.422Z"
   },
   {
    "duration": 51,
    "start_time": "2022-04-13T10:40:46.538Z"
   },
   {
    "duration": 32,
    "start_time": "2022-04-13T10:41:01.069Z"
   },
   {
    "duration": 44,
    "start_time": "2022-04-13T10:45:24.587Z"
   },
   {
    "duration": 14,
    "start_time": "2022-04-13T10:45:58.721Z"
   },
   {
    "duration": 7,
    "start_time": "2022-04-13T10:46:40.886Z"
   },
   {
    "duration": 7,
    "start_time": "2022-04-13T10:46:46.664Z"
   },
   {
    "duration": 5,
    "start_time": "2022-04-13T11:00:14.265Z"
   },
   {
    "duration": 7,
    "start_time": "2022-04-13T11:01:00.994Z"
   },
   {
    "duration": 19,
    "start_time": "2022-04-13T11:02:56.044Z"
   },
   {
    "duration": 45,
    "start_time": "2022-04-13T11:03:14.764Z"
   },
   {
    "duration": 20,
    "start_time": "2022-04-13T11:03:44.284Z"
   },
   {
    "duration": 25,
    "start_time": "2022-04-13T11:03:47.624Z"
   },
   {
    "duration": 6,
    "start_time": "2022-04-13T11:07:38.815Z"
   },
   {
    "duration": 21,
    "start_time": "2022-04-13T11:07:39.142Z"
   },
   {
    "duration": 6,
    "start_time": "2022-04-13T11:08:01.623Z"
   },
   {
    "duration": 22,
    "start_time": "2022-04-13T11:08:02.759Z"
   },
   {
    "duration": 52,
    "start_time": "2022-04-13T11:08:50.724Z"
   },
   {
    "duration": 134,
    "start_time": "2022-04-13T11:15:06.736Z"
   },
   {
    "duration": 35,
    "start_time": "2022-04-13T11:21:29.374Z"
   },
   {
    "duration": 38,
    "start_time": "2022-04-13T11:21:37.913Z"
   },
   {
    "duration": 145,
    "start_time": "2022-04-13T11:24:30.100Z"
   },
   {
    "duration": 44,
    "start_time": "2022-04-13T11:24:32.956Z"
   },
   {
    "duration": 5,
    "start_time": "2022-04-13T11:28:06.056Z"
   },
   {
    "duration": 655,
    "start_time": "2022-04-13T11:28:06.064Z"
   },
   {
    "duration": 568,
    "start_time": "2022-04-13T11:28:06.721Z"
   },
   {
    "duration": 838,
    "start_time": "2022-04-13T11:28:07.291Z"
   },
   {
    "duration": 152,
    "start_time": "2022-04-13T11:28:08.132Z"
   },
   {
    "duration": 469,
    "start_time": "2022-04-13T11:28:08.287Z"
   },
   {
    "duration": 467,
    "start_time": "2022-04-13T11:28:08.758Z"
   },
   {
    "duration": 13,
    "start_time": "2022-04-13T11:28:09.227Z"
   },
   {
    "duration": 97,
    "start_time": "2022-04-13T11:28:09.242Z"
   },
   {
    "duration": 6,
    "start_time": "2022-04-13T11:28:09.341Z"
   },
   {
    "duration": 375,
    "start_time": "2022-04-13T11:28:09.349Z"
   },
   {
    "duration": 111,
    "start_time": "2022-04-13T11:28:09.726Z"
   },
   {
    "duration": 111,
    "start_time": "2022-04-13T11:28:09.839Z"
   },
   {
    "duration": 46,
    "start_time": "2022-04-13T11:28:09.955Z"
   },
   {
    "duration": 102,
    "start_time": "2022-04-13T11:28:10.003Z"
   },
   {
    "duration": 53,
    "start_time": "2022-04-13T11:28:10.106Z"
   },
   {
    "duration": 115,
    "start_time": "2022-04-13T11:28:10.161Z"
   },
   {
    "duration": 73,
    "start_time": "2022-04-13T11:28:10.278Z"
   },
   {
    "duration": 113,
    "start_time": "2022-04-13T11:28:10.353Z"
   },
   {
    "duration": 58,
    "start_time": "2022-04-13T11:28:10.468Z"
   },
   {
    "duration": 1691,
    "start_time": "2022-04-13T11:28:10.528Z"
   },
   {
    "duration": 0,
    "start_time": "2022-04-13T11:28:12.221Z"
   },
   {
    "duration": 0,
    "start_time": "2022-04-13T11:28:12.223Z"
   },
   {
    "duration": 0,
    "start_time": "2022-04-13T11:28:12.225Z"
   },
   {
    "duration": 0,
    "start_time": "2022-04-13T11:28:12.226Z"
   },
   {
    "duration": 0,
    "start_time": "2022-04-13T11:28:12.228Z"
   },
   {
    "duration": 0,
    "start_time": "2022-04-13T11:28:12.230Z"
   },
   {
    "duration": 11,
    "start_time": "2022-04-13T11:28:25.464Z"
   },
   {
    "duration": 4,
    "start_time": "2022-04-13T11:28:25.907Z"
   },
   {
    "duration": 28,
    "start_time": "2022-04-13T11:28:31.194Z"
   },
   {
    "duration": 13,
    "start_time": "2022-04-13T11:29:47.728Z"
   },
   {
    "duration": 10,
    "start_time": "2022-04-13T11:40:14.654Z"
   },
   {
    "duration": 41,
    "start_time": "2022-04-13T11:40:17.966Z"
   },
   {
    "duration": 14,
    "start_time": "2022-04-13T11:40:40.112Z"
   },
   {
    "duration": 49,
    "start_time": "2022-04-13T11:40:43.805Z"
   },
   {
    "duration": 52,
    "start_time": "2022-04-13T11:40:54.709Z"
   },
   {
    "duration": 50,
    "start_time": "2022-04-13T11:40:57.944Z"
   },
   {
    "duration": 28,
    "start_time": "2022-04-13T11:41:00.236Z"
   },
   {
    "duration": 48,
    "start_time": "2022-04-13T11:41:01.086Z"
   },
   {
    "duration": 48,
    "start_time": "2022-04-13T11:41:04.817Z"
   },
   {
    "duration": 49,
    "start_time": "2022-04-13T11:41:42.827Z"
   },
   {
    "duration": 50,
    "start_time": "2022-04-13T11:42:08.773Z"
   },
   {
    "duration": 23,
    "start_time": "2022-04-13T11:44:14.631Z"
   },
   {
    "duration": 42,
    "start_time": "2022-04-13T11:46:27.879Z"
   },
   {
    "duration": 32,
    "start_time": "2022-04-13T11:46:41.968Z"
   },
   {
    "duration": 21,
    "start_time": "2022-04-13T11:49:54.953Z"
   },
   {
    "duration": 108,
    "start_time": "2022-04-13T11:52:45.576Z"
   },
   {
    "duration": 27,
    "start_time": "2022-04-13T11:55:03.600Z"
   },
   {
    "duration": 65,
    "start_time": "2022-04-13T11:55:28.253Z"
   },
   {
    "duration": 110,
    "start_time": "2022-04-13T11:56:14.200Z"
   },
   {
    "duration": 114,
    "start_time": "2022-04-13T11:56:26.662Z"
   },
   {
    "duration": 25,
    "start_time": "2022-04-13T11:56:33.793Z"
   },
   {
    "duration": 26,
    "start_time": "2022-04-13T11:56:43.390Z"
   },
   {
    "duration": 61,
    "start_time": "2022-04-13T11:56:59.700Z"
   },
   {
    "duration": 60,
    "start_time": "2022-04-13T11:57:17.329Z"
   },
   {
    "duration": 5,
    "start_time": "2022-04-13T11:57:19.408Z"
   },
   {
    "duration": 568,
    "start_time": "2022-04-13T11:57:19.416Z"
   },
   {
    "duration": 731,
    "start_time": "2022-04-13T11:57:19.986Z"
   },
   {
    "duration": 882,
    "start_time": "2022-04-13T11:57:20.724Z"
   },
   {
    "duration": 125,
    "start_time": "2022-04-13T11:57:21.609Z"
   },
   {
    "duration": 359,
    "start_time": "2022-04-13T11:57:21.736Z"
   },
   {
    "duration": 407,
    "start_time": "2022-04-13T11:57:22.098Z"
   },
   {
    "duration": 22,
    "start_time": "2022-04-13T11:57:22.508Z"
   },
   {
    "duration": 111,
    "start_time": "2022-04-13T11:57:22.532Z"
   },
   {
    "duration": 6,
    "start_time": "2022-04-13T11:57:22.646Z"
   },
   {
    "duration": 486,
    "start_time": "2022-04-13T11:57:22.655Z"
   },
   {
    "duration": 96,
    "start_time": "2022-04-13T11:57:23.144Z"
   },
   {
    "duration": 113,
    "start_time": "2022-04-13T11:57:23.242Z"
   },
   {
    "duration": 66,
    "start_time": "2022-04-13T11:57:23.358Z"
   },
   {
    "duration": 387,
    "start_time": "2022-04-13T11:57:23.427Z"
   },
   {
    "duration": 43,
    "start_time": "2022-04-13T11:57:23.816Z"
   },
   {
    "duration": 119,
    "start_time": "2022-04-13T11:57:23.862Z"
   },
   {
    "duration": 60,
    "start_time": "2022-04-13T11:57:23.983Z"
   },
   {
    "duration": 114,
    "start_time": "2022-04-13T11:57:24.045Z"
   },
   {
    "duration": 65,
    "start_time": "2022-04-13T11:57:24.161Z"
   },
   {
    "duration": 14,
    "start_time": "2022-04-13T11:57:24.228Z"
   },
   {
    "duration": 37,
    "start_time": "2022-04-13T11:57:24.244Z"
   },
   {
    "duration": 86,
    "start_time": "2022-04-13T11:57:24.284Z"
   },
   {
    "duration": 23,
    "start_time": "2022-04-13T11:57:24.372Z"
   },
   {
    "duration": 0,
    "start_time": "2022-04-13T11:57:24.398Z"
   },
   {
    "duration": 0,
    "start_time": "2022-04-13T11:57:24.399Z"
   },
   {
    "duration": 60,
    "start_time": "2022-04-13T11:57:35.936Z"
   },
   {
    "duration": 60,
    "start_time": "2022-04-13T11:57:39.750Z"
   },
   {
    "duration": 7,
    "start_time": "2022-04-13T11:57:42.138Z"
   },
   {
    "duration": 853,
    "start_time": "2022-04-13T11:57:42.149Z"
   },
   {
    "duration": 807,
    "start_time": "2022-04-13T11:57:43.004Z"
   },
   {
    "duration": 1050,
    "start_time": "2022-04-13T11:57:43.814Z"
   },
   {
    "duration": 134,
    "start_time": "2022-04-13T11:57:44.869Z"
   },
   {
    "duration": 395,
    "start_time": "2022-04-13T11:57:45.025Z"
   },
   {
    "duration": 375,
    "start_time": "2022-04-13T11:57:45.425Z"
   },
   {
    "duration": 10,
    "start_time": "2022-04-13T11:57:45.802Z"
   },
   {
    "duration": 80,
    "start_time": "2022-04-13T11:57:45.815Z"
   },
   {
    "duration": 5,
    "start_time": "2022-04-13T11:57:45.897Z"
   },
   {
    "duration": 357,
    "start_time": "2022-04-13T11:57:45.925Z"
   },
   {
    "duration": 95,
    "start_time": "2022-04-13T11:57:46.284Z"
   },
   {
    "duration": 111,
    "start_time": "2022-04-13T11:57:46.381Z"
   },
   {
    "duration": 57,
    "start_time": "2022-04-13T11:57:46.496Z"
   },
   {
    "duration": 102,
    "start_time": "2022-04-13T11:57:46.555Z"
   },
   {
    "duration": 39,
    "start_time": "2022-04-13T11:57:46.660Z"
   },
   {
    "duration": 108,
    "start_time": "2022-04-13T11:57:46.701Z"
   },
   {
    "duration": 47,
    "start_time": "2022-04-13T11:57:46.823Z"
   },
   {
    "duration": 127,
    "start_time": "2022-04-13T11:57:46.872Z"
   },
   {
    "duration": 55,
    "start_time": "2022-04-13T11:57:47.001Z"
   },
   {
    "duration": 12,
    "start_time": "2022-04-13T11:57:47.058Z"
   },
   {
    "duration": 48,
    "start_time": "2022-04-13T11:57:47.078Z"
   },
   {
    "duration": 60,
    "start_time": "2022-04-13T11:57:47.128Z"
   },
   {
    "duration": 44,
    "start_time": "2022-04-13T11:57:47.191Z"
   },
   {
    "duration": 0,
    "start_time": "2022-04-13T11:57:47.238Z"
   },
   {
    "duration": 0,
    "start_time": "2022-04-13T11:57:47.239Z"
   },
   {
    "duration": 93,
    "start_time": "2022-04-13T12:00:25.894Z"
   },
   {
    "duration": 5,
    "start_time": "2022-04-13T12:00:36.152Z"
   },
   {
    "duration": 561,
    "start_time": "2022-04-13T12:00:36.160Z"
   },
   {
    "duration": 692,
    "start_time": "2022-04-13T12:00:36.724Z"
   },
   {
    "duration": 898,
    "start_time": "2022-04-13T12:00:37.423Z"
   },
   {
    "duration": 128,
    "start_time": "2022-04-13T12:00:38.325Z"
   },
   {
    "duration": 381,
    "start_time": "2022-04-13T12:00:38.454Z"
   },
   {
    "duration": 457,
    "start_time": "2022-04-13T12:00:38.837Z"
   },
   {
    "duration": 11,
    "start_time": "2022-04-13T12:00:39.296Z"
   },
   {
    "duration": 78,
    "start_time": "2022-04-13T12:00:39.325Z"
   },
   {
    "duration": 5,
    "start_time": "2022-04-13T12:00:39.407Z"
   },
   {
    "duration": 389,
    "start_time": "2022-04-13T12:00:39.414Z"
   },
   {
    "duration": 87,
    "start_time": "2022-04-13T12:00:39.805Z"
   },
   {
    "duration": 106,
    "start_time": "2022-04-13T12:00:39.894Z"
   },
   {
    "duration": 58,
    "start_time": "2022-04-13T12:00:40.002Z"
   },
   {
    "duration": 107,
    "start_time": "2022-04-13T12:00:40.062Z"
   },
   {
    "duration": 57,
    "start_time": "2022-04-13T12:00:40.171Z"
   },
   {
    "duration": 104,
    "start_time": "2022-04-13T12:00:40.230Z"
   },
   {
    "duration": 48,
    "start_time": "2022-04-13T12:00:40.336Z"
   },
   {
    "duration": 142,
    "start_time": "2022-04-13T12:00:40.387Z"
   },
   {
    "duration": 45,
    "start_time": "2022-04-13T12:00:40.532Z"
   },
   {
    "duration": 13,
    "start_time": "2022-04-13T12:00:40.580Z"
   },
   {
    "duration": 29,
    "start_time": "2022-04-13T12:00:40.624Z"
   },
   {
    "duration": 80,
    "start_time": "2022-04-13T12:00:40.655Z"
   },
   {
    "duration": 22,
    "start_time": "2022-04-13T12:00:40.737Z"
   },
   {
    "duration": 0,
    "start_time": "2022-04-13T12:00:40.762Z"
   },
   {
    "duration": 0,
    "start_time": "2022-04-13T12:00:40.763Z"
   },
   {
    "duration": 38,
    "start_time": "2022-04-13T12:02:31.978Z"
   },
   {
    "duration": 24,
    "start_time": "2022-04-13T12:02:38.619Z"
   },
   {
    "duration": 38,
    "start_time": "2022-04-13T12:02:41.021Z"
   },
   {
    "duration": 1837,
    "start_time": "2022-04-13T12:03:57.608Z"
   },
   {
    "duration": 10,
    "start_time": "2022-04-13T12:04:03.754Z"
   },
   {
    "duration": 58,
    "start_time": "2022-04-13T12:04:18.827Z"
   },
   {
    "duration": 37,
    "start_time": "2022-04-13T12:04:24.261Z"
   },
   {
    "duration": 36,
    "start_time": "2022-04-13T12:04:26.744Z"
   },
   {
    "duration": 19,
    "start_time": "2022-04-13T12:05:02.456Z"
   },
   {
    "duration": 38,
    "start_time": "2022-04-13T12:06:52.229Z"
   },
   {
    "duration": 9,
    "start_time": "2022-04-13T12:06:56.917Z"
   },
   {
    "duration": 8,
    "start_time": "2022-04-13T12:07:11.980Z"
   },
   {
    "duration": 9,
    "start_time": "2022-04-13T12:07:16.197Z"
   },
   {
    "duration": 21,
    "start_time": "2022-04-13T12:08:15.665Z"
   },
   {
    "duration": 10,
    "start_time": "2022-04-13T12:09:22.372Z"
   },
   {
    "duration": 6,
    "start_time": "2022-04-13T12:09:24.292Z"
   },
   {
    "duration": 15,
    "start_time": "2022-04-13T12:10:00.165Z"
   },
   {
    "duration": 17,
    "start_time": "2022-04-13T12:10:06.137Z"
   },
   {
    "duration": 8,
    "start_time": "2022-04-13T12:10:16.660Z"
   },
   {
    "duration": 8,
    "start_time": "2022-04-13T12:10:21.108Z"
   },
   {
    "duration": 21,
    "start_time": "2022-04-13T12:10:35.206Z"
   },
   {
    "duration": 61,
    "start_time": "2022-04-13T12:10:42.648Z"
   },
   {
    "duration": 52,
    "start_time": "2022-04-13T12:11:35.875Z"
   },
   {
    "duration": 59,
    "start_time": "2022-04-13T12:11:49.270Z"
   },
   {
    "duration": 22,
    "start_time": "2022-04-13T12:12:39.409Z"
   },
   {
    "duration": 43,
    "start_time": "2022-04-13T12:12:42.318Z"
   },
   {
    "duration": 68,
    "start_time": "2022-04-13T12:13:22.369Z"
   },
   {
    "duration": 41,
    "start_time": "2022-04-13T12:13:32.457Z"
   },
   {
    "duration": 26,
    "start_time": "2022-04-13T12:13:40.653Z"
   },
   {
    "duration": 109,
    "start_time": "2022-04-13T12:14:31.302Z"
   },
   {
    "duration": 21,
    "start_time": "2022-04-13T12:14:36.824Z"
   },
   {
    "duration": 77,
    "start_time": "2022-04-13T12:14:40.531Z"
   },
   {
    "duration": 7,
    "start_time": "2022-04-13T12:14:43.908Z"
   },
   {
    "duration": 838,
    "start_time": "2022-04-13T12:14:43.918Z"
   },
   {
    "duration": 936,
    "start_time": "2022-04-13T12:14:44.758Z"
   },
   {
    "duration": 793,
    "start_time": "2022-04-13T12:14:45.697Z"
   },
   {
    "duration": 142,
    "start_time": "2022-04-13T12:14:46.492Z"
   },
   {
    "duration": 378,
    "start_time": "2022-04-13T12:14:46.636Z"
   },
   {
    "duration": 363,
    "start_time": "2022-04-13T12:14:47.025Z"
   },
   {
    "duration": 10,
    "start_time": "2022-04-13T12:14:47.391Z"
   },
   {
    "duration": 89,
    "start_time": "2022-04-13T12:14:47.404Z"
   },
   {
    "duration": 5,
    "start_time": "2022-04-13T12:14:47.497Z"
   },
   {
    "duration": 386,
    "start_time": "2022-04-13T12:14:47.504Z"
   },
   {
    "duration": 99,
    "start_time": "2022-04-13T12:14:47.892Z"
   },
   {
    "duration": 110,
    "start_time": "2022-04-13T12:14:47.993Z"
   },
   {
    "duration": 59,
    "start_time": "2022-04-13T12:14:48.105Z"
   },
   {
    "duration": 103,
    "start_time": "2022-04-13T12:14:48.166Z"
   },
   {
    "duration": 53,
    "start_time": "2022-04-13T12:14:48.271Z"
   },
   {
    "duration": 103,
    "start_time": "2022-04-13T12:14:48.327Z"
   },
   {
    "duration": 50,
    "start_time": "2022-04-13T12:14:48.432Z"
   },
   {
    "duration": 128,
    "start_time": "2022-04-13T12:14:48.485Z"
   },
   {
    "duration": 46,
    "start_time": "2022-04-13T12:14:48.624Z"
   },
   {
    "duration": 12,
    "start_time": "2022-04-13T12:14:48.672Z"
   },
   {
    "duration": 60,
    "start_time": "2022-04-13T12:14:48.686Z"
   },
   {
    "duration": 21,
    "start_time": "2022-04-13T12:14:48.748Z"
   },
   {
    "duration": 10,
    "start_time": "2022-04-13T12:14:48.772Z"
   },
   {
    "duration": 9,
    "start_time": "2022-04-13T12:14:48.784Z"
   },
   {
    "duration": 47,
    "start_time": "2022-04-13T12:14:48.795Z"
   },
   {
    "duration": 54,
    "start_time": "2022-04-13T12:14:48.844Z"
   },
   {
    "duration": 64,
    "start_time": "2022-04-13T12:14:48.924Z"
   },
   {
    "duration": 38,
    "start_time": "2022-04-13T12:14:48.990Z"
   },
   {
    "duration": 0,
    "start_time": "2022-04-13T12:14:49.030Z"
   },
   {
    "duration": 0,
    "start_time": "2022-04-13T12:14:49.032Z"
   },
   {
    "duration": 123,
    "start_time": "2022-04-13T12:16:20.229Z"
   },
   {
    "duration": 27,
    "start_time": "2022-04-13T12:16:29.918Z"
   },
   {
    "duration": 120,
    "start_time": "2022-04-13T12:16:43.653Z"
   },
   {
    "duration": 47,
    "start_time": "2022-04-13T12:19:52.204Z"
   },
   {
    "duration": 1992,
    "start_time": "2022-04-13T12:19:59.252Z"
   },
   {
    "duration": 6,
    "start_time": "2022-04-13T12:20:03.583Z"
   },
   {
    "duration": 12,
    "start_time": "2022-04-13T12:20:06.264Z"
   },
   {
    "duration": 42,
    "start_time": "2022-04-13T12:20:18.458Z"
   },
   {
    "duration": 503,
    "start_time": "2022-04-13T12:21:01.492Z"
   },
   {
    "duration": 15,
    "start_time": "2022-04-13T12:21:36.484Z"
   },
   {
    "duration": 36,
    "start_time": "2022-04-13T12:21:51.988Z"
   },
   {
    "duration": 503,
    "start_time": "2022-04-13T12:22:47.680Z"
   },
   {
    "duration": 33,
    "start_time": "2022-04-13T12:23:49.314Z"
   },
   {
    "duration": 56,
    "start_time": "2022-04-13T12:24:36.846Z"
   },
   {
    "duration": 77,
    "start_time": "2022-04-13T12:24:52.537Z"
   },
   {
    "duration": 64,
    "start_time": "2022-04-13T12:25:52.370Z"
   },
   {
    "duration": 6,
    "start_time": "2022-04-13T12:25:59.992Z"
   },
   {
    "duration": 67,
    "start_time": "2022-04-13T12:27:20.713Z"
   },
   {
    "duration": 73,
    "start_time": "2022-04-13T12:27:29.590Z"
   },
   {
    "duration": 129,
    "start_time": "2022-04-13T12:27:33.398Z"
   },
   {
    "duration": 66,
    "start_time": "2022-04-13T12:27:59.865Z"
   },
   {
    "duration": 23,
    "start_time": "2022-04-13T12:28:23.990Z"
   },
   {
    "duration": 70,
    "start_time": "2022-04-13T12:28:42.380Z"
   },
   {
    "duration": 350,
    "start_time": "2022-04-13T12:29:20.134Z"
   },
   {
    "duration": 353,
    "start_time": "2022-04-13T12:29:25.090Z"
   },
   {
    "duration": 607,
    "start_time": "2022-04-13T12:29:33.382Z"
   },
   {
    "duration": 571,
    "start_time": "2022-04-13T12:31:26.824Z"
   },
   {
    "duration": 583,
    "start_time": "2022-04-13T12:31:32.132Z"
   },
   {
    "duration": 6,
    "start_time": "2022-04-13T12:31:35.489Z"
   },
   {
    "duration": 815,
    "start_time": "2022-04-13T12:31:35.498Z"
   },
   {
    "duration": 702,
    "start_time": "2022-04-13T12:31:36.316Z"
   },
   {
    "duration": 874,
    "start_time": "2022-04-13T12:31:37.024Z"
   },
   {
    "duration": 141,
    "start_time": "2022-04-13T12:31:37.900Z"
   },
   {
    "duration": 376,
    "start_time": "2022-04-13T12:31:38.044Z"
   },
   {
    "duration": 368,
    "start_time": "2022-04-13T12:31:38.422Z"
   },
   {
    "duration": 11,
    "start_time": "2022-04-13T12:31:38.792Z"
   },
   {
    "duration": 92,
    "start_time": "2022-04-13T12:31:38.805Z"
   },
   {
    "duration": 6,
    "start_time": "2022-04-13T12:31:38.900Z"
   },
   {
    "duration": 380,
    "start_time": "2022-04-13T12:31:38.908Z"
   },
   {
    "duration": 92,
    "start_time": "2022-04-13T12:31:39.291Z"
   },
   {
    "duration": 120,
    "start_time": "2022-04-13T12:31:39.385Z"
   },
   {
    "duration": 57,
    "start_time": "2022-04-13T12:31:39.507Z"
   },
   {
    "duration": 108,
    "start_time": "2022-04-13T12:31:39.566Z"
   },
   {
    "duration": 56,
    "start_time": "2022-04-13T12:31:39.676Z"
   },
   {
    "duration": 103,
    "start_time": "2022-04-13T12:31:39.734Z"
   },
   {
    "duration": 46,
    "start_time": "2022-04-13T12:31:39.839Z"
   },
   {
    "duration": 126,
    "start_time": "2022-04-13T12:31:39.887Z"
   },
   {
    "duration": 46,
    "start_time": "2022-04-13T12:31:40.024Z"
   },
   {
    "duration": 17,
    "start_time": "2022-04-13T12:31:40.073Z"
   },
   {
    "duration": 54,
    "start_time": "2022-04-13T12:31:40.093Z"
   },
   {
    "duration": 16,
    "start_time": "2022-04-13T12:31:40.149Z"
   },
   {
    "duration": 6,
    "start_time": "2022-04-13T12:31:40.167Z"
   },
   {
    "duration": 13,
    "start_time": "2022-04-13T12:31:40.175Z"
   },
   {
    "duration": 56,
    "start_time": "2022-04-13T12:31:40.190Z"
   },
   {
    "duration": 354,
    "start_time": "2022-04-13T12:31:40.248Z"
   },
   {
    "duration": 58,
    "start_time": "2022-04-13T12:31:40.606Z"
   },
   {
    "duration": 85,
    "start_time": "2022-04-13T12:31:40.667Z"
   },
   {
    "duration": 22,
    "start_time": "2022-04-13T12:31:40.755Z"
   },
   {
    "duration": 0,
    "start_time": "2022-04-13T12:31:40.779Z"
   },
   {
    "duration": 0,
    "start_time": "2022-04-13T12:31:40.781Z"
   },
   {
    "duration": 380,
    "start_time": "2022-04-13T12:31:50.294Z"
   },
   {
    "duration": 27,
    "start_time": "2022-04-13T12:32:49.112Z"
   },
   {
    "duration": 17,
    "start_time": "2022-04-13T12:33:33.176Z"
   },
   {
    "duration": 941,
    "start_time": "2022-04-13T12:33:47.344Z"
   },
   {
    "duration": 12,
    "start_time": "2022-04-13T12:34:22.229Z"
   },
   {
    "duration": 31,
    "start_time": "2022-04-13T12:34:56.913Z"
   },
   {
    "duration": 48,
    "start_time": "2022-04-13T12:35:15.798Z"
   },
   {
    "duration": 73,
    "start_time": "2022-04-13T12:35:19.403Z"
   },
   {
    "duration": 2166,
    "start_time": "2022-04-13T12:36:01.624Z"
   },
   {
    "duration": 1803,
    "start_time": "2022-04-13T12:36:05.904Z"
   },
   {
    "duration": 63,
    "start_time": "2022-04-13T12:36:50.438Z"
   },
   {
    "duration": 38,
    "start_time": "2022-04-13T12:36:53.284Z"
   },
   {
    "duration": 53,
    "start_time": "2022-04-13T12:37:14.761Z"
   },
   {
    "duration": 54,
    "start_time": "2022-04-13T12:37:45.982Z"
   },
   {
    "duration": 20,
    "start_time": "2022-04-13T12:39:24.380Z"
   },
   {
    "duration": 10,
    "start_time": "2022-04-13T12:39:42.923Z"
   },
   {
    "duration": 58,
    "start_time": "2022-04-13T12:40:02.088Z"
   },
   {
    "duration": 38,
    "start_time": "2022-04-13T12:43:36.444Z"
   },
   {
    "duration": 53,
    "start_time": "2022-04-13T12:43:51.295Z"
   },
   {
    "duration": 113,
    "start_time": "2022-04-13T12:48:11.095Z"
   },
   {
    "duration": 51,
    "start_time": "2022-04-13T12:48:21.851Z"
   },
   {
    "duration": 143,
    "start_time": "2022-04-13T12:48:32.885Z"
   },
   {
    "duration": 27,
    "start_time": "2022-04-13T12:48:41.616Z"
   },
   {
    "duration": 25,
    "start_time": "2022-04-13T12:50:48.334Z"
   },
   {
    "duration": 63,
    "start_time": "2022-04-13T12:50:52.979Z"
   },
   {
    "duration": 55,
    "start_time": "2022-04-13T12:50:57.152Z"
   },
   {
    "duration": 78,
    "start_time": "2022-04-13T12:50:58.652Z"
   },
   {
    "duration": 43,
    "start_time": "2022-04-13T12:51:00.219Z"
   },
   {
    "duration": 87,
    "start_time": "2022-04-13T12:51:01.720Z"
   },
   {
    "duration": 7,
    "start_time": "2022-04-13T12:51:08.397Z"
   },
   {
    "duration": 684,
    "start_time": "2022-04-13T12:51:08.408Z"
   },
   {
    "duration": 1173,
    "start_time": "2022-04-13T12:51:09.095Z"
   },
   {
    "duration": 948,
    "start_time": "2022-04-13T12:51:10.271Z"
   },
   {
    "duration": 126,
    "start_time": "2022-04-13T12:51:11.225Z"
   },
   {
    "duration": 384,
    "start_time": "2022-04-13T12:51:11.353Z"
   },
   {
    "duration": 375,
    "start_time": "2022-04-13T12:51:11.739Z"
   },
   {
    "duration": 11,
    "start_time": "2022-04-13T12:51:12.125Z"
   },
   {
    "duration": 93,
    "start_time": "2022-04-13T12:51:12.138Z"
   },
   {
    "duration": 6,
    "start_time": "2022-04-13T12:51:12.235Z"
   },
   {
    "duration": 374,
    "start_time": "2022-04-13T12:51:12.243Z"
   },
   {
    "duration": 83,
    "start_time": "2022-04-13T12:51:12.619Z"
   },
   {
    "duration": 120,
    "start_time": "2022-04-13T12:51:12.705Z"
   },
   {
    "duration": 49,
    "start_time": "2022-04-13T12:51:12.827Z"
   },
   {
    "duration": 110,
    "start_time": "2022-04-13T12:51:12.878Z"
   },
   {
    "duration": 52,
    "start_time": "2022-04-13T12:51:12.990Z"
   },
   {
    "duration": 97,
    "start_time": "2022-04-13T12:51:13.044Z"
   },
   {
    "duration": 46,
    "start_time": "2022-04-13T12:51:13.143Z"
   },
   {
    "duration": 134,
    "start_time": "2022-04-13T12:51:13.192Z"
   },
   {
    "duration": 44,
    "start_time": "2022-04-13T12:51:13.329Z"
   },
   {
    "duration": 11,
    "start_time": "2022-04-13T12:51:13.376Z"
   },
   {
    "duration": 61,
    "start_time": "2022-04-13T12:51:13.389Z"
   },
   {
    "duration": 10,
    "start_time": "2022-04-13T12:51:13.452Z"
   },
   {
    "duration": 6,
    "start_time": "2022-04-13T12:51:13.464Z"
   },
   {
    "duration": 9,
    "start_time": "2022-04-13T12:51:13.472Z"
   },
   {
    "duration": 70,
    "start_time": "2022-04-13T12:51:13.483Z"
   },
   {
    "duration": 70,
    "start_time": "2022-04-13T12:51:13.556Z"
   },
   {
    "duration": 61,
    "start_time": "2022-04-13T12:51:13.630Z"
   },
   {
    "duration": 43,
    "start_time": "2022-04-13T12:51:13.693Z"
   },
   {
    "duration": 0,
    "start_time": "2022-04-13T12:51:13.738Z"
   },
   {
    "duration": 0,
    "start_time": "2022-04-13T12:51:13.740Z"
   },
   {
    "duration": 25,
    "start_time": "2022-04-13T12:52:18.937Z"
   },
   {
    "duration": 64,
    "start_time": "2022-04-13T12:53:05.359Z"
   },
   {
    "duration": 39,
    "start_time": "2022-04-13T12:54:04.971Z"
   },
   {
    "duration": 15,
    "start_time": "2022-04-13T12:54:49.524Z"
   },
   {
    "duration": 39,
    "start_time": "2022-04-13T12:54:54.854Z"
   },
   {
    "duration": 45,
    "start_time": "2022-04-13T12:55:37.591Z"
   },
   {
    "duration": 11,
    "start_time": "2022-04-13T12:55:43.236Z"
   },
   {
    "duration": 11,
    "start_time": "2022-04-13T12:55:55.098Z"
   },
   {
    "duration": 24,
    "start_time": "2022-04-13T12:56:11.236Z"
   },
   {
    "duration": 37,
    "start_time": "2022-04-13T12:56:19.391Z"
   },
   {
    "duration": 43,
    "start_time": "2022-04-13T12:56:37.126Z"
   },
   {
    "duration": 63,
    "start_time": "2022-04-13T12:57:01.976Z"
   },
   {
    "duration": 60,
    "start_time": "2022-04-13T12:57:15.937Z"
   },
   {
    "duration": 5,
    "start_time": "2022-04-13T12:57:31.888Z"
   },
   {
    "duration": 669,
    "start_time": "2022-04-13T12:57:31.897Z"
   },
   {
    "duration": 978,
    "start_time": "2022-04-13T12:57:32.568Z"
   },
   {
    "duration": 887,
    "start_time": "2022-04-13T12:57:33.550Z"
   },
   {
    "duration": 126,
    "start_time": "2022-04-13T12:57:34.439Z"
   },
   {
    "duration": 391,
    "start_time": "2022-04-13T12:57:34.567Z"
   },
   {
    "duration": 378,
    "start_time": "2022-04-13T12:57:34.960Z"
   },
   {
    "duration": 10,
    "start_time": "2022-04-13T12:57:35.340Z"
   },
   {
    "duration": 90,
    "start_time": "2022-04-13T12:57:35.353Z"
   },
   {
    "duration": 5,
    "start_time": "2022-04-13T12:57:35.447Z"
   },
   {
    "duration": 370,
    "start_time": "2022-04-13T12:57:35.454Z"
   },
   {
    "duration": 101,
    "start_time": "2022-04-13T12:57:35.826Z"
   },
   {
    "duration": 113,
    "start_time": "2022-04-13T12:57:35.930Z"
   },
   {
    "duration": 93,
    "start_time": "2022-04-13T12:57:36.046Z"
   },
   {
    "duration": 161,
    "start_time": "2022-04-13T12:57:36.142Z"
   },
   {
    "duration": 69,
    "start_time": "2022-04-13T12:57:36.305Z"
   },
   {
    "duration": 165,
    "start_time": "2022-04-13T12:57:36.377Z"
   },
   {
    "duration": 97,
    "start_time": "2022-04-13T12:57:36.545Z"
   },
   {
    "duration": 198,
    "start_time": "2022-04-13T12:57:36.645Z"
   },
   {
    "duration": 86,
    "start_time": "2022-04-13T12:57:36.845Z"
   },
   {
    "duration": 17,
    "start_time": "2022-04-13T12:57:36.933Z"
   },
   {
    "duration": 53,
    "start_time": "2022-04-13T12:57:36.953Z"
   },
   {
    "duration": 13,
    "start_time": "2022-04-13T12:57:37.025Z"
   },
   {
    "duration": 6,
    "start_time": "2022-04-13T12:57:37.041Z"
   },
   {
    "duration": 15,
    "start_time": "2022-04-13T12:57:37.050Z"
   },
   {
    "duration": 70,
    "start_time": "2022-04-13T12:57:37.068Z"
   },
   {
    "duration": 48,
    "start_time": "2022-04-13T12:57:37.141Z"
   },
   {
    "duration": 88,
    "start_time": "2022-04-13T12:57:37.196Z"
   },
   {
    "duration": 46,
    "start_time": "2022-04-13T12:57:37.286Z"
   },
   {
    "duration": 0,
    "start_time": "2022-04-13T12:57:37.335Z"
   },
   {
    "duration": 0,
    "start_time": "2022-04-13T12:57:37.336Z"
   },
   {
    "duration": 42,
    "start_time": "2022-04-13T12:58:21.303Z"
   },
   {
    "duration": 105,
    "start_time": "2022-04-13T12:59:41.160Z"
   },
   {
    "duration": 98,
    "start_time": "2022-04-13T12:59:44.152Z"
   },
   {
    "duration": 43,
    "start_time": "2022-04-13T12:59:54.263Z"
   },
   {
    "duration": 104,
    "start_time": "2022-04-13T13:00:55.064Z"
   },
   {
    "duration": 35,
    "start_time": "2022-04-13T13:01:03.036Z"
   },
   {
    "duration": 39,
    "start_time": "2022-04-13T13:01:12.258Z"
   },
   {
    "duration": 41,
    "start_time": "2022-04-13T13:02:04.392Z"
   },
   {
    "duration": 105,
    "start_time": "2022-04-13T13:02:11.851Z"
   },
   {
    "duration": 41,
    "start_time": "2022-04-13T13:02:15.911Z"
   },
   {
    "duration": 113,
    "start_time": "2022-04-13T13:02:38.648Z"
   },
   {
    "duration": 18,
    "start_time": "2022-04-13T13:02:50.667Z"
   },
   {
    "duration": 43,
    "start_time": "2022-04-13T13:02:55.974Z"
   },
   {
    "duration": 59,
    "start_time": "2022-04-13T13:03:55.174Z"
   },
   {
    "duration": 36,
    "start_time": "2022-04-13T13:03:58.630Z"
   },
   {
    "duration": 23,
    "start_time": "2022-04-13T13:05:48.755Z"
   },
   {
    "duration": 55,
    "start_time": "2022-04-13T13:06:03.485Z"
   },
   {
    "duration": 20,
    "start_time": "2022-04-13T13:07:06.152Z"
   },
   {
    "duration": 32,
    "start_time": "2022-04-13T13:07:10.662Z"
   },
   {
    "duration": 27,
    "start_time": "2022-04-13T13:09:31.809Z"
   },
   {
    "duration": 26,
    "start_time": "2022-04-13T13:09:38.565Z"
   },
   {
    "duration": 34,
    "start_time": "2022-04-13T13:09:43.353Z"
   },
   {
    "duration": 32,
    "start_time": "2022-04-13T13:14:03.514Z"
   },
   {
    "duration": 32,
    "start_time": "2022-04-13T13:18:23.828Z"
   },
   {
    "duration": 117,
    "start_time": "2022-04-13T13:18:58.401Z"
   },
   {
    "duration": 29,
    "start_time": "2022-04-13T13:19:03.562Z"
   },
   {
    "duration": 30,
    "start_time": "2022-04-13T13:19:12.011Z"
   },
   {
    "duration": 32,
    "start_time": "2022-04-13T13:20:12.858Z"
   },
   {
    "duration": 11,
    "start_time": "2022-04-13T13:21:51.132Z"
   },
   {
    "duration": 9,
    "start_time": "2022-04-13T13:21:56.636Z"
   },
   {
    "duration": 133,
    "start_time": "2022-04-13T13:22:11.886Z"
   },
   {
    "duration": 10,
    "start_time": "2022-04-13T13:22:20.983Z"
   },
   {
    "duration": 16,
    "start_time": "2022-04-13T13:23:44.268Z"
   },
   {
    "duration": 10,
    "start_time": "2022-04-13T13:23:47.601Z"
   },
   {
    "duration": 27,
    "start_time": "2022-04-13T13:23:51.383Z"
   },
   {
    "duration": 15,
    "start_time": "2022-04-13T13:24:09.306Z"
   },
   {
    "duration": 15,
    "start_time": "2022-04-13T13:24:12.600Z"
   },
   {
    "duration": 27,
    "start_time": "2022-04-13T13:24:24.865Z"
   },
   {
    "duration": 15,
    "start_time": "2022-04-13T13:24:30.283Z"
   },
   {
    "duration": 7,
    "start_time": "2022-04-13T14:37:33.108Z"
   },
   {
    "duration": 591,
    "start_time": "2022-04-13T14:37:33.119Z"
   },
   {
    "duration": 704,
    "start_time": "2022-04-13T14:37:33.712Z"
   },
   {
    "duration": 1061,
    "start_time": "2022-04-13T14:37:34.418Z"
   },
   {
    "duration": 141,
    "start_time": "2022-04-13T14:37:35.483Z"
   },
   {
    "duration": 389,
    "start_time": "2022-04-13T14:37:35.626Z"
   },
   {
    "duration": 386,
    "start_time": "2022-04-13T14:37:36.025Z"
   },
   {
    "duration": 16,
    "start_time": "2022-04-13T14:37:36.414Z"
   },
   {
    "duration": 83,
    "start_time": "2022-04-13T14:37:36.432Z"
   },
   {
    "duration": 6,
    "start_time": "2022-04-13T14:37:36.525Z"
   },
   {
    "duration": 374,
    "start_time": "2022-04-13T14:37:36.533Z"
   },
   {
    "duration": 94,
    "start_time": "2022-04-13T14:37:36.909Z"
   },
   {
    "duration": 103,
    "start_time": "2022-04-13T14:37:37.005Z"
   },
   {
    "duration": 58,
    "start_time": "2022-04-13T14:37:37.112Z"
   },
   {
    "duration": 112,
    "start_time": "2022-04-13T14:37:37.172Z"
   },
   {
    "duration": 54,
    "start_time": "2022-04-13T14:37:37.286Z"
   },
   {
    "duration": 97,
    "start_time": "2022-04-13T14:37:37.342Z"
   },
   {
    "duration": 48,
    "start_time": "2022-04-13T14:37:37.441Z"
   },
   {
    "duration": 134,
    "start_time": "2022-04-13T14:37:37.492Z"
   },
   {
    "duration": 45,
    "start_time": "2022-04-13T14:37:37.628Z"
   },
   {
    "duration": 11,
    "start_time": "2022-04-13T14:37:37.675Z"
   },
   {
    "duration": 58,
    "start_time": "2022-04-13T14:37:37.688Z"
   },
   {
    "duration": 5,
    "start_time": "2022-04-13T14:37:37.748Z"
   },
   {
    "duration": 33,
    "start_time": "2022-04-13T14:37:37.755Z"
   },
   {
    "duration": 60,
    "start_time": "2022-04-13T14:37:37.791Z"
   },
   {
    "duration": 19,
    "start_time": "2022-04-13T14:37:37.853Z"
   },
   {
    "duration": 27,
    "start_time": "2022-04-13T14:40:35.516Z"
   },
   {
    "duration": 4,
    "start_time": "2022-04-13T14:48:20.368Z"
   },
   {
    "duration": 14,
    "start_time": "2022-04-13T14:48:41.270Z"
   },
   {
    "duration": 52,
    "start_time": "2022-04-13T14:48:44.750Z"
   },
   {
    "duration": 5,
    "start_time": "2022-04-13T14:49:45.583Z"
   },
   {
    "duration": 316,
    "start_time": "2022-04-13T14:49:46.173Z"
   },
   {
    "duration": 287,
    "start_time": "2022-04-13T14:50:00.594Z"
   },
   {
    "duration": 13,
    "start_time": "2022-04-13T14:50:40.334Z"
   },
   {
    "duration": 4,
    "start_time": "2022-04-13T14:50:57.823Z"
   },
   {
    "duration": 14,
    "start_time": "2022-04-13T14:50:58.141Z"
   },
   {
    "duration": 6,
    "start_time": "2022-04-13T14:51:00.209Z"
   },
   {
    "duration": 601,
    "start_time": "2022-04-13T14:51:00.218Z"
   },
   {
    "duration": 1053,
    "start_time": "2022-04-13T14:51:00.822Z"
   },
   {
    "duration": 975,
    "start_time": "2022-04-13T14:51:01.878Z"
   },
   {
    "duration": 143,
    "start_time": "2022-04-13T14:51:02.855Z"
   },
   {
    "duration": 434,
    "start_time": "2022-04-13T14:51:03.000Z"
   },
   {
    "duration": 409,
    "start_time": "2022-04-13T14:51:03.437Z"
   },
   {
    "duration": 11,
    "start_time": "2022-04-13T14:51:03.849Z"
   },
   {
    "duration": 100,
    "start_time": "2022-04-13T14:51:03.862Z"
   },
   {
    "duration": 6,
    "start_time": "2022-04-13T14:51:03.968Z"
   },
   {
    "duration": 382,
    "start_time": "2022-04-13T14:51:03.976Z"
   },
   {
    "duration": 103,
    "start_time": "2022-04-13T14:51:04.360Z"
   },
   {
    "duration": 108,
    "start_time": "2022-04-13T14:51:04.466Z"
   },
   {
    "duration": 60,
    "start_time": "2022-04-13T14:51:04.577Z"
   },
   {
    "duration": 100,
    "start_time": "2022-04-13T14:51:04.639Z"
   },
   {
    "duration": 40,
    "start_time": "2022-04-13T14:51:04.741Z"
   },
   {
    "duration": 115,
    "start_time": "2022-04-13T14:51:04.783Z"
   },
   {
    "duration": 60,
    "start_time": "2022-04-13T14:51:04.900Z"
   },
   {
    "duration": 122,
    "start_time": "2022-04-13T14:51:04.963Z"
   },
   {
    "duration": 58,
    "start_time": "2022-04-13T14:51:05.087Z"
   },
   {
    "duration": 11,
    "start_time": "2022-04-13T14:51:05.148Z"
   },
   {
    "duration": 31,
    "start_time": "2022-04-13T14:51:05.162Z"
   },
   {
    "duration": 31,
    "start_time": "2022-04-13T14:51:05.195Z"
   },
   {
    "duration": 40,
    "start_time": "2022-04-13T14:51:05.229Z"
   },
   {
    "duration": 5,
    "start_time": "2022-04-13T14:51:05.271Z"
   },
   {
    "duration": 1820,
    "start_time": "2022-04-13T14:51:05.278Z"
   },
   {
    "duration": 0,
    "start_time": "2022-04-13T14:51:07.100Z"
   },
   {
    "duration": 0,
    "start_time": "2022-04-13T14:51:07.102Z"
   },
   {
    "duration": 33,
    "start_time": "2022-04-13T14:51:43.360Z"
   },
   {
    "duration": 293,
    "start_time": "2022-04-13T14:51:47.299Z"
   },
   {
    "duration": 534,
    "start_time": "2022-04-13T14:51:57.356Z"
   },
   {
    "duration": 499,
    "start_time": "2022-04-13T14:59:44.316Z"
   },
   {
    "duration": 11,
    "start_time": "2022-04-13T14:59:53.804Z"
   },
   {
    "duration": 423,
    "start_time": "2022-04-13T15:00:06.324Z"
   },
   {
    "duration": 460,
    "start_time": "2022-04-13T15:00:10.826Z"
   },
   {
    "duration": 6,
    "start_time": "2022-04-13T15:00:16.731Z"
   },
   {
    "duration": 602,
    "start_time": "2022-04-13T15:00:16.739Z"
   },
   {
    "duration": 712,
    "start_time": "2022-04-13T15:00:17.344Z"
   },
   {
    "duration": 955,
    "start_time": "2022-04-13T15:00:18.061Z"
   },
   {
    "duration": 139,
    "start_time": "2022-04-13T15:00:19.024Z"
   },
   {
    "duration": 396,
    "start_time": "2022-04-13T15:00:19.166Z"
   },
   {
    "duration": 379,
    "start_time": "2022-04-13T15:00:19.564Z"
   },
   {
    "duration": 10,
    "start_time": "2022-04-13T15:00:19.946Z"
   },
   {
    "duration": 98,
    "start_time": "2022-04-13T15:00:19.959Z"
   },
   {
    "duration": 5,
    "start_time": "2022-04-13T15:00:20.061Z"
   },
   {
    "duration": 373,
    "start_time": "2022-04-13T15:00:20.068Z"
   },
   {
    "duration": 101,
    "start_time": "2022-04-13T15:00:20.443Z"
   },
   {
    "duration": 109,
    "start_time": "2022-04-13T15:00:20.546Z"
   },
   {
    "duration": 48,
    "start_time": "2022-04-13T15:00:20.657Z"
   },
   {
    "duration": 116,
    "start_time": "2022-04-13T15:00:20.708Z"
   },
   {
    "duration": 40,
    "start_time": "2022-04-13T15:00:20.826Z"
   },
   {
    "duration": 115,
    "start_time": "2022-04-13T15:00:20.868Z"
   },
   {
    "duration": 61,
    "start_time": "2022-04-13T15:00:20.986Z"
   },
   {
    "duration": 119,
    "start_time": "2022-04-13T15:00:21.050Z"
   },
   {
    "duration": 63,
    "start_time": "2022-04-13T15:00:21.172Z"
   },
   {
    "duration": 12,
    "start_time": "2022-04-13T15:00:21.237Z"
   },
   {
    "duration": 35,
    "start_time": "2022-04-13T15:00:21.251Z"
   },
   {
    "duration": 9,
    "start_time": "2022-04-13T15:00:21.289Z"
   },
   {
    "duration": 34,
    "start_time": "2022-04-13T15:00:21.324Z"
   },
   {
    "duration": 10,
    "start_time": "2022-04-13T15:00:21.360Z"
   },
   {
    "duration": 1523,
    "start_time": "2022-04-13T15:00:21.373Z"
   },
   {
    "duration": 0,
    "start_time": "2022-04-13T15:00:22.899Z"
   },
   {
    "duration": 0,
    "start_time": "2022-04-13T15:00:22.901Z"
   },
   {
    "duration": 0,
    "start_time": "2022-04-13T15:00:22.903Z"
   },
   {
    "duration": 0,
    "start_time": "2022-04-13T15:00:22.905Z"
   },
   {
    "duration": 34,
    "start_time": "2022-04-13T15:01:01.152Z"
   },
   {
    "duration": 33,
    "start_time": "2022-04-13T15:01:09.643Z"
   },
   {
    "duration": 32,
    "start_time": "2022-04-13T15:01:13.770Z"
   },
   {
    "duration": 32,
    "start_time": "2022-04-13T15:01:22.860Z"
   },
   {
    "duration": 34,
    "start_time": "2022-04-13T15:01:25.850Z"
   },
   {
    "duration": 5,
    "start_time": "2022-04-13T15:07:41.792Z"
   },
   {
    "duration": 35,
    "start_time": "2022-04-13T15:07:43.605Z"
   },
   {
    "duration": 1781,
    "start_time": "2022-04-13T15:08:04.684Z"
   },
   {
    "duration": 1397,
    "start_time": "2022-04-13T15:08:16.742Z"
   },
   {
    "duration": 6,
    "start_time": "2022-04-13T15:08:34.092Z"
   },
   {
    "duration": 587,
    "start_time": "2022-04-13T15:08:34.103Z"
   },
   {
    "duration": 727,
    "start_time": "2022-04-13T15:08:34.692Z"
   },
   {
    "duration": 958,
    "start_time": "2022-04-13T15:08:35.426Z"
   },
   {
    "duration": 154,
    "start_time": "2022-04-13T15:08:36.387Z"
   },
   {
    "duration": 410,
    "start_time": "2022-04-13T15:08:36.544Z"
   },
   {
    "duration": 456,
    "start_time": "2022-04-13T15:08:36.956Z"
   },
   {
    "duration": 11,
    "start_time": "2022-04-13T15:08:37.415Z"
   },
   {
    "duration": 94,
    "start_time": "2022-04-13T15:08:37.428Z"
   },
   {
    "duration": 5,
    "start_time": "2022-04-13T15:08:37.526Z"
   },
   {
    "duration": 373,
    "start_time": "2022-04-13T15:08:37.533Z"
   },
   {
    "duration": 93,
    "start_time": "2022-04-13T15:08:37.908Z"
   },
   {
    "duration": 106,
    "start_time": "2022-04-13T15:08:38.004Z"
   },
   {
    "duration": 56,
    "start_time": "2022-04-13T15:08:38.112Z"
   },
   {
    "duration": 105,
    "start_time": "2022-04-13T15:08:38.171Z"
   },
   {
    "duration": 50,
    "start_time": "2022-04-13T15:08:38.278Z"
   },
   {
    "duration": 101,
    "start_time": "2022-04-13T15:08:38.330Z"
   },
   {
    "duration": 48,
    "start_time": "2022-04-13T15:08:38.434Z"
   },
   {
    "duration": 135,
    "start_time": "2022-04-13T15:08:38.484Z"
   },
   {
    "duration": 44,
    "start_time": "2022-04-13T15:08:38.624Z"
   },
   {
    "duration": 12,
    "start_time": "2022-04-13T15:08:38.671Z"
   },
   {
    "duration": 60,
    "start_time": "2022-04-13T15:08:38.685Z"
   },
   {
    "duration": 6,
    "start_time": "2022-04-13T15:08:38.747Z"
   },
   {
    "duration": 36,
    "start_time": "2022-04-13T15:08:38.755Z"
   },
   {
    "duration": 31,
    "start_time": "2022-04-13T15:08:38.793Z"
   },
   {
    "duration": 1261,
    "start_time": "2022-04-13T15:08:38.826Z"
   },
   {
    "duration": 0,
    "start_time": "2022-04-13T15:08:40.090Z"
   },
   {
    "duration": 0,
    "start_time": "2022-04-13T15:08:40.092Z"
   },
   {
    "duration": 0,
    "start_time": "2022-04-13T15:08:40.094Z"
   },
   {
    "duration": 0,
    "start_time": "2022-04-13T15:08:40.095Z"
   },
   {
    "duration": 5,
    "start_time": "2022-04-13T15:08:55.546Z"
   },
   {
    "duration": 1435,
    "start_time": "2022-04-13T15:08:55.974Z"
   },
   {
    "duration": 42,
    "start_time": "2022-04-13T15:09:11.572Z"
   },
   {
    "duration": 1764,
    "start_time": "2022-04-13T15:09:29.718Z"
   },
   {
    "duration": 4,
    "start_time": "2022-04-13T15:10:17.521Z"
   },
   {
    "duration": 43,
    "start_time": "2022-04-13T15:10:17.931Z"
   },
   {
    "duration": 1244,
    "start_time": "2022-04-13T15:10:18.401Z"
   },
   {
    "duration": 15,
    "start_time": "2022-04-13T15:10:26.850Z"
   },
   {
    "duration": 54,
    "start_time": "2022-04-13T15:10:32.122Z"
   },
   {
    "duration": 4,
    "start_time": "2022-04-13T15:10:54.394Z"
   },
   {
    "duration": 44,
    "start_time": "2022-04-13T15:10:54.911Z"
   },
   {
    "duration": 324,
    "start_time": "2022-04-13T15:10:55.600Z"
   },
   {
    "duration": 5,
    "start_time": "2022-04-13T15:11:32.090Z"
   },
   {
    "duration": 46,
    "start_time": "2022-04-13T15:11:32.407Z"
   },
   {
    "duration": 288,
    "start_time": "2022-04-13T15:11:32.652Z"
   },
   {
    "duration": 112,
    "start_time": "2022-04-13T15:11:57.065Z"
   },
   {
    "duration": 425,
    "start_time": "2022-04-13T15:12:01.066Z"
   },
   {
    "duration": 411,
    "start_time": "2022-04-13T15:12:12.380Z"
   },
   {
    "duration": 6,
    "start_time": "2022-04-13T15:12:16.799Z"
   },
   {
    "duration": 583,
    "start_time": "2022-04-13T15:12:16.807Z"
   },
   {
    "duration": 753,
    "start_time": "2022-04-13T15:12:17.393Z"
   },
   {
    "duration": 967,
    "start_time": "2022-04-13T15:12:18.150Z"
   },
   {
    "duration": 137,
    "start_time": "2022-04-13T15:12:19.124Z"
   },
   {
    "duration": 388,
    "start_time": "2022-04-13T15:12:19.264Z"
   },
   {
    "duration": 378,
    "start_time": "2022-04-13T15:12:19.655Z"
   },
   {
    "duration": 11,
    "start_time": "2022-04-13T15:12:20.035Z"
   },
   {
    "duration": 101,
    "start_time": "2022-04-13T15:12:20.049Z"
   },
   {
    "duration": 5,
    "start_time": "2022-04-13T15:12:20.156Z"
   },
   {
    "duration": 390,
    "start_time": "2022-04-13T15:12:20.164Z"
   },
   {
    "duration": 105,
    "start_time": "2022-04-13T15:12:20.556Z"
   },
   {
    "duration": 417,
    "start_time": "2022-04-13T15:12:20.663Z"
   },
   {
    "duration": 68,
    "start_time": "2022-04-13T15:12:21.082Z"
   },
   {
    "duration": 98,
    "start_time": "2022-04-13T15:12:21.152Z"
   },
   {
    "duration": 39,
    "start_time": "2022-04-13T15:12:21.252Z"
   },
   {
    "duration": 108,
    "start_time": "2022-04-13T15:12:21.294Z"
   },
   {
    "duration": 64,
    "start_time": "2022-04-13T15:12:21.404Z"
   },
   {
    "duration": 133,
    "start_time": "2022-04-13T15:12:21.471Z"
   },
   {
    "duration": 55,
    "start_time": "2022-04-13T15:12:21.605Z"
   },
   {
    "duration": 11,
    "start_time": "2022-04-13T15:12:21.662Z"
   },
   {
    "duration": 59,
    "start_time": "2022-04-13T15:12:21.675Z"
   },
   {
    "duration": 43,
    "start_time": "2022-04-13T15:12:21.736Z"
   },
   {
    "duration": 54,
    "start_time": "2022-04-13T15:12:21.781Z"
   },
   {
    "duration": 12,
    "start_time": "2022-04-13T15:12:21.837Z"
   },
   {
    "duration": 50,
    "start_time": "2022-04-13T15:12:21.851Z"
   },
   {
    "duration": 1674,
    "start_time": "2022-04-13T15:12:21.905Z"
   },
   {
    "duration": 0,
    "start_time": "2022-04-13T15:12:23.582Z"
   },
   {
    "duration": 0,
    "start_time": "2022-04-13T15:12:23.584Z"
   },
   {
    "duration": 0,
    "start_time": "2022-04-13T15:12:23.586Z"
   },
   {
    "duration": 0,
    "start_time": "2022-04-13T15:12:23.588Z"
   },
   {
    "duration": 5,
    "start_time": "2022-04-13T15:12:36.100Z"
   },
   {
    "duration": 664,
    "start_time": "2022-04-13T15:12:36.108Z"
   },
   {
    "duration": 642,
    "start_time": "2022-04-13T15:12:36.774Z"
   },
   {
    "duration": 806,
    "start_time": "2022-04-13T15:12:37.418Z"
   },
   {
    "duration": 143,
    "start_time": "2022-04-13T15:12:38.227Z"
   },
   {
    "duration": 471,
    "start_time": "2022-04-13T15:12:38.372Z"
   },
   {
    "duration": 448,
    "start_time": "2022-04-13T15:12:38.845Z"
   },
   {
    "duration": 13,
    "start_time": "2022-04-13T15:12:39.295Z"
   },
   {
    "duration": 95,
    "start_time": "2022-04-13T15:12:39.310Z"
   },
   {
    "duration": 20,
    "start_time": "2022-04-13T15:12:39.407Z"
   },
   {
    "duration": 371,
    "start_time": "2022-04-13T15:12:39.429Z"
   },
   {
    "duration": 107,
    "start_time": "2022-04-13T15:12:39.803Z"
   },
   {
    "duration": 119,
    "start_time": "2022-04-13T15:12:39.912Z"
   },
   {
    "duration": 47,
    "start_time": "2022-04-13T15:12:40.035Z"
   },
   {
    "duration": 116,
    "start_time": "2022-04-13T15:12:40.084Z"
   },
   {
    "duration": 47,
    "start_time": "2022-04-13T15:12:40.203Z"
   },
   {
    "duration": 127,
    "start_time": "2022-04-13T15:12:40.253Z"
   },
   {
    "duration": 79,
    "start_time": "2022-04-13T15:12:40.382Z"
   },
   {
    "duration": 120,
    "start_time": "2022-04-13T15:12:40.464Z"
   },
   {
    "duration": 58,
    "start_time": "2022-04-13T15:12:40.587Z"
   },
   {
    "duration": 11,
    "start_time": "2022-04-13T15:12:40.648Z"
   },
   {
    "duration": 52,
    "start_time": "2022-04-13T15:12:40.662Z"
   },
   {
    "duration": 10,
    "start_time": "2022-04-13T15:12:40.716Z"
   },
   {
    "duration": 34,
    "start_time": "2022-04-13T15:12:40.728Z"
   },
   {
    "duration": 12,
    "start_time": "2022-04-13T15:12:40.765Z"
   },
   {
    "duration": 59,
    "start_time": "2022-04-13T15:12:40.779Z"
   },
   {
    "duration": 304,
    "start_time": "2022-04-13T15:12:40.840Z"
   },
   {
    "duration": 12,
    "start_time": "2022-04-13T15:12:41.147Z"
   },
   {
    "duration": 0,
    "start_time": "2022-04-13T15:12:41.162Z"
   },
   {
    "duration": 0,
    "start_time": "2022-04-13T15:12:41.163Z"
   },
   {
    "duration": 0,
    "start_time": "2022-04-13T15:12:41.165Z"
   },
   {
    "duration": 6,
    "start_time": "2022-04-13T15:14:02.612Z"
   },
   {
    "duration": 12,
    "start_time": "2022-04-13T15:14:03.094Z"
   },
   {
    "duration": 491,
    "start_time": "2022-04-13T15:14:05.948Z"
   },
   {
    "duration": 6,
    "start_time": "2022-04-13T15:14:10.250Z"
   },
   {
    "duration": 594,
    "start_time": "2022-04-13T15:14:10.259Z"
   },
   {
    "duration": 752,
    "start_time": "2022-04-13T15:14:10.855Z"
   },
   {
    "duration": 1058,
    "start_time": "2022-04-13T15:14:11.609Z"
   },
   {
    "duration": 116,
    "start_time": "2022-04-13T15:14:12.670Z"
   },
   {
    "duration": 359,
    "start_time": "2022-04-13T15:14:12.788Z"
   },
   {
    "duration": 331,
    "start_time": "2022-04-13T15:14:13.149Z"
   },
   {
    "duration": 10,
    "start_time": "2022-04-13T15:14:13.482Z"
   },
   {
    "duration": 87,
    "start_time": "2022-04-13T15:14:13.494Z"
   },
   {
    "duration": 5,
    "start_time": "2022-04-13T15:14:13.584Z"
   },
   {
    "duration": 361,
    "start_time": "2022-04-13T15:14:13.591Z"
   },
   {
    "duration": 92,
    "start_time": "2022-04-13T15:14:13.955Z"
   },
   {
    "duration": 102,
    "start_time": "2022-04-13T15:14:14.049Z"
   },
   {
    "duration": 46,
    "start_time": "2022-04-13T15:14:14.155Z"
   },
   {
    "duration": 375,
    "start_time": "2022-04-13T15:14:14.203Z"
   },
   {
    "duration": 51,
    "start_time": "2022-04-13T15:14:14.580Z"
   },
   {
    "duration": 93,
    "start_time": "2022-04-13T15:14:14.633Z"
   },
   {
    "duration": 44,
    "start_time": "2022-04-13T15:14:14.728Z"
   },
   {
    "duration": 127,
    "start_time": "2022-04-13T15:14:14.775Z"
   },
   {
    "duration": 50,
    "start_time": "2022-04-13T15:14:14.905Z"
   },
   {
    "duration": 11,
    "start_time": "2022-04-13T15:14:14.957Z"
   },
   {
    "duration": 26,
    "start_time": "2022-04-13T15:14:14.971Z"
   },
   {
    "duration": 7,
    "start_time": "2022-04-13T15:14:15.024Z"
   },
   {
    "duration": 41,
    "start_time": "2022-04-13T15:14:15.033Z"
   },
   {
    "duration": 6,
    "start_time": "2022-04-13T15:14:15.076Z"
   },
   {
    "duration": 64,
    "start_time": "2022-04-13T15:14:15.084Z"
   },
   {
    "duration": 299,
    "start_time": "2022-04-13T15:14:15.151Z"
   },
   {
    "duration": 13,
    "start_time": "2022-04-13T15:14:15.453Z"
   },
   {
    "duration": 0,
    "start_time": "2022-04-13T15:14:15.468Z"
   },
   {
    "duration": 1,
    "start_time": "2022-04-13T15:14:15.470Z"
   },
   {
    "duration": 0,
    "start_time": "2022-04-13T15:14:15.472Z"
   },
   {
    "duration": 123,
    "start_time": "2022-04-13T15:15:05.937Z"
   },
   {
    "duration": 4,
    "start_time": "2022-04-13T15:15:26.405Z"
   },
   {
    "duration": 8,
    "start_time": "2022-04-13T15:15:27.171Z"
   },
   {
    "duration": 427,
    "start_time": "2022-04-13T15:15:28.253Z"
   },
   {
    "duration": 7,
    "start_time": "2022-04-13T15:15:32.069Z"
   },
   {
    "duration": 587,
    "start_time": "2022-04-13T15:15:32.078Z"
   },
   {
    "duration": 618,
    "start_time": "2022-04-13T15:15:32.668Z"
   },
   {
    "duration": 775,
    "start_time": "2022-04-13T15:15:33.289Z"
   },
   {
    "duration": 158,
    "start_time": "2022-04-13T15:15:34.066Z"
   },
   {
    "duration": 455,
    "start_time": "2022-04-13T15:15:34.226Z"
   },
   {
    "duration": 452,
    "start_time": "2022-04-13T15:15:34.683Z"
   },
   {
    "duration": 12,
    "start_time": "2022-04-13T15:15:35.137Z"
   },
   {
    "duration": 99,
    "start_time": "2022-04-13T15:15:35.151Z"
   },
   {
    "duration": 5,
    "start_time": "2022-04-13T15:15:35.255Z"
   },
   {
    "duration": 379,
    "start_time": "2022-04-13T15:15:35.262Z"
   },
   {
    "duration": 107,
    "start_time": "2022-04-13T15:15:35.643Z"
   },
   {
    "duration": 115,
    "start_time": "2022-04-13T15:15:35.753Z"
   },
   {
    "duration": 61,
    "start_time": "2022-04-13T15:15:35.870Z"
   },
   {
    "duration": 99,
    "start_time": "2022-04-13T15:15:35.934Z"
   },
   {
    "duration": 39,
    "start_time": "2022-04-13T15:15:36.035Z"
   },
   {
    "duration": 141,
    "start_time": "2022-04-13T15:15:36.076Z"
   },
   {
    "duration": 77,
    "start_time": "2022-04-13T15:15:36.219Z"
   },
   {
    "duration": 130,
    "start_time": "2022-04-13T15:15:36.298Z"
   },
   {
    "duration": 46,
    "start_time": "2022-04-13T15:15:36.430Z"
   },
   {
    "duration": 12,
    "start_time": "2022-04-13T15:15:36.478Z"
   },
   {
    "duration": 55,
    "start_time": "2022-04-13T15:15:36.492Z"
   },
   {
    "duration": 19,
    "start_time": "2022-04-13T15:15:36.550Z"
   },
   {
    "duration": 35,
    "start_time": "2022-04-13T15:15:36.571Z"
   },
   {
    "duration": 18,
    "start_time": "2022-04-13T15:15:36.608Z"
   },
   {
    "duration": 51,
    "start_time": "2022-04-13T15:15:36.628Z"
   },
   {
    "duration": 229,
    "start_time": "2022-04-13T15:15:36.681Z"
   },
   {
    "duration": 21,
    "start_time": "2022-04-13T15:15:36.915Z"
   },
   {
    "duration": 0,
    "start_time": "2022-04-13T15:15:36.939Z"
   },
   {
    "duration": 0,
    "start_time": "2022-04-13T15:15:36.940Z"
   },
   {
    "duration": 0,
    "start_time": "2022-04-13T15:15:36.942Z"
   },
   {
    "duration": 5,
    "start_time": "2022-04-13T15:17:47.697Z"
   },
   {
    "duration": 12,
    "start_time": "2022-04-13T15:17:48.493Z"
   },
   {
    "duration": 417,
    "start_time": "2022-04-13T15:17:49.378Z"
   },
   {
    "duration": 6,
    "start_time": "2022-04-13T15:17:51.192Z"
   },
   {
    "duration": 597,
    "start_time": "2022-04-13T15:17:51.201Z"
   },
   {
    "duration": 721,
    "start_time": "2022-04-13T15:17:51.800Z"
   },
   {
    "duration": 1086,
    "start_time": "2022-04-13T15:17:52.526Z"
   },
   {
    "duration": 129,
    "start_time": "2022-04-13T15:17:53.625Z"
   },
   {
    "duration": 364,
    "start_time": "2022-04-13T15:17:53.756Z"
   },
   {
    "duration": 342,
    "start_time": "2022-04-13T15:17:54.125Z"
   },
   {
    "duration": 10,
    "start_time": "2022-04-13T15:17:54.469Z"
   },
   {
    "duration": 96,
    "start_time": "2022-04-13T15:17:54.482Z"
   },
   {
    "duration": 5,
    "start_time": "2022-04-13T15:17:54.582Z"
   },
   {
    "duration": 369,
    "start_time": "2022-04-13T15:17:54.589Z"
   },
   {
    "duration": 90,
    "start_time": "2022-04-13T15:17:54.960Z"
   },
   {
    "duration": 390,
    "start_time": "2022-04-13T15:17:55.052Z"
   },
   {
    "duration": 47,
    "start_time": "2022-04-13T15:17:55.444Z"
   },
   {
    "duration": 108,
    "start_time": "2022-04-13T15:17:55.493Z"
   },
   {
    "duration": 52,
    "start_time": "2022-04-13T15:17:55.604Z"
   },
   {
    "duration": 104,
    "start_time": "2022-04-13T15:17:55.658Z"
   },
   {
    "duration": 62,
    "start_time": "2022-04-13T15:17:55.764Z"
   },
   {
    "duration": 124,
    "start_time": "2022-04-13T15:17:55.829Z"
   },
   {
    "duration": 47,
    "start_time": "2022-04-13T15:17:55.956Z"
   },
   {
    "duration": 32,
    "start_time": "2022-04-13T15:17:56.005Z"
   },
   {
    "duration": 30,
    "start_time": "2022-04-13T15:17:56.039Z"
   },
   {
    "duration": 8,
    "start_time": "2022-04-13T15:17:56.071Z"
   },
   {
    "duration": 73,
    "start_time": "2022-04-13T15:17:56.081Z"
   },
   {
    "duration": 7,
    "start_time": "2022-04-13T15:17:56.157Z"
   },
   {
    "duration": 63,
    "start_time": "2022-04-13T15:17:56.167Z"
   },
   {
    "duration": 206,
    "start_time": "2022-04-13T15:17:56.232Z"
   },
   {
    "duration": 13,
    "start_time": "2022-04-13T15:17:56.442Z"
   },
   {
    "duration": 0,
    "start_time": "2022-04-13T15:17:56.457Z"
   },
   {
    "duration": 0,
    "start_time": "2022-04-13T15:17:56.459Z"
   },
   {
    "duration": 0,
    "start_time": "2022-04-13T15:17:56.460Z"
   },
   {
    "duration": 156,
    "start_time": "2022-04-13T15:18:06.999Z"
   },
   {
    "duration": 5,
    "start_time": "2022-04-13T15:18:13.081Z"
   },
   {
    "duration": 7,
    "start_time": "2022-04-13T15:18:13.615Z"
   },
   {
    "duration": 426,
    "start_time": "2022-04-13T15:18:13.908Z"
   },
   {
    "duration": 6,
    "start_time": "2022-04-13T15:18:15.746Z"
   },
   {
    "duration": 583,
    "start_time": "2022-04-13T15:18:15.754Z"
   },
   {
    "duration": 596,
    "start_time": "2022-04-13T15:18:16.339Z"
   },
   {
    "duration": 763,
    "start_time": "2022-04-13T15:18:16.938Z"
   },
   {
    "duration": 152,
    "start_time": "2022-04-13T15:18:17.703Z"
   },
   {
    "duration": 448,
    "start_time": "2022-04-13T15:18:17.857Z"
   },
   {
    "duration": 438,
    "start_time": "2022-04-13T15:18:18.307Z"
   },
   {
    "duration": 12,
    "start_time": "2022-04-13T15:18:18.748Z"
   },
   {
    "duration": 101,
    "start_time": "2022-04-13T15:18:18.762Z"
   },
   {
    "duration": 5,
    "start_time": "2022-04-13T15:18:18.867Z"
   },
   {
    "duration": 370,
    "start_time": "2022-04-13T15:18:18.874Z"
   },
   {
    "duration": 104,
    "start_time": "2022-04-13T15:18:19.246Z"
   },
   {
    "duration": 112,
    "start_time": "2022-04-13T15:18:19.352Z"
   },
   {
    "duration": 59,
    "start_time": "2022-04-13T15:18:19.467Z"
   },
   {
    "duration": 100,
    "start_time": "2022-04-13T15:18:19.528Z"
   },
   {
    "duration": 39,
    "start_time": "2022-04-13T15:18:19.630Z"
   },
   {
    "duration": 140,
    "start_time": "2022-04-13T15:18:19.671Z"
   },
   {
    "duration": 81,
    "start_time": "2022-04-13T15:18:19.814Z"
   },
   {
    "duration": 124,
    "start_time": "2022-04-13T15:18:19.897Z"
   },
   {
    "duration": 45,
    "start_time": "2022-04-13T15:18:20.024Z"
   },
   {
    "duration": 11,
    "start_time": "2022-04-13T15:18:20.071Z"
   },
   {
    "duration": 56,
    "start_time": "2022-04-13T15:18:20.084Z"
   },
   {
    "duration": 6,
    "start_time": "2022-04-13T15:18:20.142Z"
   },
   {
    "duration": 32,
    "start_time": "2022-04-13T15:18:20.150Z"
   },
   {
    "duration": 7,
    "start_time": "2022-04-13T15:18:20.185Z"
   },
   {
    "duration": 70,
    "start_time": "2022-04-13T15:18:20.194Z"
   },
   {
    "duration": 208,
    "start_time": "2022-04-13T15:18:20.266Z"
   },
   {
    "duration": 12,
    "start_time": "2022-04-13T15:18:20.478Z"
   },
   {
    "duration": 0,
    "start_time": "2022-04-13T15:18:20.492Z"
   },
   {
    "duration": 0,
    "start_time": "2022-04-13T15:18:20.494Z"
   },
   {
    "duration": 0,
    "start_time": "2022-04-13T15:18:20.496Z"
   },
   {
    "duration": 5,
    "start_time": "2022-04-13T15:20:46.439Z"
   },
   {
    "duration": 8,
    "start_time": "2022-04-13T15:20:47.087Z"
   },
   {
    "duration": 429,
    "start_time": "2022-04-13T15:20:47.435Z"
   },
   {
    "duration": 5,
    "start_time": "2022-04-13T15:20:49.157Z"
   },
   {
    "duration": 568,
    "start_time": "2022-04-13T15:20:49.165Z"
   },
   {
    "duration": 710,
    "start_time": "2022-04-13T15:20:49.735Z"
   },
   {
    "duration": 1059,
    "start_time": "2022-04-13T15:20:50.447Z"
   },
   {
    "duration": 128,
    "start_time": "2022-04-13T15:20:51.509Z"
   },
   {
    "duration": 363,
    "start_time": "2022-04-13T15:20:51.639Z"
   },
   {
    "duration": 343,
    "start_time": "2022-04-13T15:20:52.004Z"
   },
   {
    "duration": 10,
    "start_time": "2022-04-13T15:20:52.349Z"
   },
   {
    "duration": 91,
    "start_time": "2022-04-13T15:20:52.361Z"
   },
   {
    "duration": 5,
    "start_time": "2022-04-13T15:20:52.454Z"
   },
   {
    "duration": 384,
    "start_time": "2022-04-13T15:20:52.462Z"
   },
   {
    "duration": 100,
    "start_time": "2022-04-13T15:20:52.848Z"
   },
   {
    "duration": 117,
    "start_time": "2022-04-13T15:20:52.951Z"
   },
   {
    "duration": 65,
    "start_time": "2022-04-13T15:20:53.073Z"
   },
   {
    "duration": 398,
    "start_time": "2022-04-13T15:20:53.140Z"
   },
   {
    "duration": 39,
    "start_time": "2022-04-13T15:20:53.541Z"
   },
   {
    "duration": 115,
    "start_time": "2022-04-13T15:20:53.582Z"
   },
   {
    "duration": 58,
    "start_time": "2022-04-13T15:20:53.699Z"
   },
   {
    "duration": 120,
    "start_time": "2022-04-13T15:20:53.759Z"
   },
   {
    "duration": 59,
    "start_time": "2022-04-13T15:20:53.881Z"
   },
   {
    "duration": 12,
    "start_time": "2022-04-13T15:20:53.943Z"
   },
   {
    "duration": 29,
    "start_time": "2022-04-13T15:20:53.957Z"
   },
   {
    "duration": 39,
    "start_time": "2022-04-13T15:20:53.989Z"
   },
   {
    "duration": 36,
    "start_time": "2022-04-13T15:20:54.031Z"
   },
   {
    "duration": 6,
    "start_time": "2022-04-13T15:20:54.070Z"
   },
   {
    "duration": 68,
    "start_time": "2022-04-13T15:20:54.078Z"
   },
   {
    "duration": 323,
    "start_time": "2022-04-13T15:20:54.148Z"
   },
   {
    "duration": 12,
    "start_time": "2022-04-13T15:20:54.473Z"
   },
   {
    "duration": 0,
    "start_time": "2022-04-13T15:20:54.487Z"
   },
   {
    "duration": 0,
    "start_time": "2022-04-13T15:20:54.489Z"
   },
   {
    "duration": 0,
    "start_time": "2022-04-13T15:20:54.491Z"
   },
   {
    "duration": 4,
    "start_time": "2022-04-13T15:22:11.516Z"
   },
   {
    "duration": 12,
    "start_time": "2022-04-13T15:22:12.113Z"
   },
   {
    "duration": 452,
    "start_time": "2022-04-13T15:22:12.782Z"
   },
   {
    "duration": 5,
    "start_time": "2022-04-13T15:22:14.726Z"
   },
   {
    "duration": 599,
    "start_time": "2022-04-13T15:22:14.733Z"
   },
   {
    "duration": 620,
    "start_time": "2022-04-13T15:22:15.335Z"
   },
   {
    "duration": 824,
    "start_time": "2022-04-13T15:22:15.957Z"
   },
   {
    "duration": 153,
    "start_time": "2022-04-13T15:22:16.783Z"
   },
   {
    "duration": 443,
    "start_time": "2022-04-13T15:22:16.938Z"
   },
   {
    "duration": 422,
    "start_time": "2022-04-13T15:22:17.383Z"
   },
   {
    "duration": 19,
    "start_time": "2022-04-13T15:22:17.807Z"
   },
   {
    "duration": 78,
    "start_time": "2022-04-13T15:22:17.828Z"
   },
   {
    "duration": 5,
    "start_time": "2022-04-13T15:22:17.926Z"
   },
   {
    "duration": 366,
    "start_time": "2022-04-13T15:22:17.933Z"
   },
   {
    "duration": 101,
    "start_time": "2022-04-13T15:22:18.301Z"
   },
   {
    "duration": 105,
    "start_time": "2022-04-13T15:22:18.404Z"
   },
   {
    "duration": 57,
    "start_time": "2022-04-13T15:22:18.511Z"
   },
   {
    "duration": 110,
    "start_time": "2022-04-13T15:22:18.570Z"
   },
   {
    "duration": 46,
    "start_time": "2022-04-13T15:22:18.682Z"
   },
   {
    "duration": 123,
    "start_time": "2022-04-13T15:22:18.731Z"
   },
   {
    "duration": 80,
    "start_time": "2022-04-13T15:22:18.857Z"
   },
   {
    "duration": 119,
    "start_time": "2022-04-13T15:22:18.940Z"
   },
   {
    "duration": 45,
    "start_time": "2022-04-13T15:22:19.061Z"
   },
   {
    "duration": 17,
    "start_time": "2022-04-13T15:22:19.125Z"
   },
   {
    "duration": 43,
    "start_time": "2022-04-13T15:22:19.146Z"
   },
   {
    "duration": 7,
    "start_time": "2022-04-13T15:22:19.191Z"
   },
   {
    "duration": 56,
    "start_time": "2022-04-13T15:22:19.200Z"
   },
   {
    "duration": 5,
    "start_time": "2022-04-13T15:22:19.258Z"
   },
   {
    "duration": 65,
    "start_time": "2022-04-13T15:22:19.265Z"
   },
   {
    "duration": 19,
    "start_time": "2022-04-13T15:22:19.332Z"
   },
   {
    "duration": 12,
    "start_time": "2022-04-13T15:22:19.355Z"
   },
   {
    "duration": 0,
    "start_time": "2022-04-13T15:22:19.370Z"
   },
   {
    "duration": 0,
    "start_time": "2022-04-13T15:22:19.372Z"
   },
   {
    "duration": 0,
    "start_time": "2022-04-13T15:22:19.373Z"
   },
   {
    "duration": 393,
    "start_time": "2022-04-13T15:22:37.982Z"
   },
   {
    "duration": 6,
    "start_time": "2022-04-13T15:22:42.107Z"
   },
   {
    "duration": 579,
    "start_time": "2022-04-13T15:22:42.116Z"
   },
   {
    "duration": 770,
    "start_time": "2022-04-13T15:22:42.698Z"
   },
   {
    "duration": 1073,
    "start_time": "2022-04-13T15:22:43.470Z"
   },
   {
    "duration": 126,
    "start_time": "2022-04-13T15:22:44.546Z"
   },
   {
    "duration": 395,
    "start_time": "2022-04-13T15:22:44.674Z"
   },
   {
    "duration": 374,
    "start_time": "2022-04-13T15:22:45.071Z"
   },
   {
    "duration": 10,
    "start_time": "2022-04-13T15:22:45.447Z"
   },
   {
    "duration": 91,
    "start_time": "2022-04-13T15:22:45.460Z"
   },
   {
    "duration": 5,
    "start_time": "2022-04-13T15:22:45.553Z"
   },
   {
    "duration": 376,
    "start_time": "2022-04-13T15:22:45.560Z"
   },
   {
    "duration": 102,
    "start_time": "2022-04-13T15:22:45.938Z"
   },
   {
    "duration": 107,
    "start_time": "2022-04-13T15:22:46.043Z"
   },
   {
    "duration": 49,
    "start_time": "2022-04-13T15:22:46.154Z"
   },
   {
    "duration": 104,
    "start_time": "2022-04-13T15:22:46.205Z"
   },
   {
    "duration": 40,
    "start_time": "2022-04-13T15:22:46.324Z"
   },
   {
    "duration": 112,
    "start_time": "2022-04-13T15:22:46.366Z"
   },
   {
    "duration": 61,
    "start_time": "2022-04-13T15:22:46.480Z"
   },
   {
    "duration": 425,
    "start_time": "2022-04-13T15:22:46.544Z"
   },
   {
    "duration": 60,
    "start_time": "2022-04-13T15:22:46.971Z"
   },
   {
    "duration": 13,
    "start_time": "2022-04-13T15:22:47.033Z"
   },
   {
    "duration": 36,
    "start_time": "2022-04-13T15:22:47.048Z"
   },
   {
    "duration": 13,
    "start_time": "2022-04-13T15:22:47.086Z"
   },
   {
    "duration": 54,
    "start_time": "2022-04-13T15:22:47.102Z"
   },
   {
    "duration": 9,
    "start_time": "2022-04-13T15:22:47.159Z"
   },
   {
    "duration": 61,
    "start_time": "2022-04-13T15:22:47.171Z"
   },
   {
    "duration": 56,
    "start_time": "2022-04-13T15:22:47.235Z"
   },
   {
    "duration": 54,
    "start_time": "2022-04-13T15:22:47.294Z"
   },
   {
    "duration": 81,
    "start_time": "2022-04-13T15:22:47.350Z"
   },
   {
    "duration": 35,
    "start_time": "2022-04-13T15:22:47.434Z"
   },
   {
    "duration": 19,
    "start_time": "2022-04-13T15:22:47.471Z"
   },
   {
    "duration": 6,
    "start_time": "2022-04-13T15:23:38.543Z"
   },
   {
    "duration": 71,
    "start_time": "2022-04-13T15:23:38.942Z"
   },
   {
    "duration": 61,
    "start_time": "2022-04-13T15:23:39.185Z"
   },
   {
    "duration": 6,
    "start_time": "2022-04-13T15:23:47.168Z"
   },
   {
    "duration": 591,
    "start_time": "2022-04-13T15:23:47.177Z"
   },
   {
    "duration": 683,
    "start_time": "2022-04-13T15:23:47.770Z"
   },
   {
    "duration": 823,
    "start_time": "2022-04-13T15:23:48.456Z"
   },
   {
    "duration": 162,
    "start_time": "2022-04-13T15:23:49.282Z"
   },
   {
    "duration": 460,
    "start_time": "2022-04-13T15:23:49.447Z"
   },
   {
    "duration": 463,
    "start_time": "2022-04-13T15:23:49.910Z"
   },
   {
    "duration": 13,
    "start_time": "2022-04-13T15:23:50.376Z"
   },
   {
    "duration": 103,
    "start_time": "2022-04-13T15:23:50.392Z"
   },
   {
    "duration": 6,
    "start_time": "2022-04-13T15:23:50.499Z"
   },
   {
    "duration": 363,
    "start_time": "2022-04-13T15:23:50.523Z"
   },
   {
    "duration": 106,
    "start_time": "2022-04-13T15:23:50.888Z"
   },
   {
    "duration": 106,
    "start_time": "2022-04-13T15:23:50.997Z"
   },
   {
    "duration": 60,
    "start_time": "2022-04-13T15:23:51.105Z"
   },
   {
    "duration": 105,
    "start_time": "2022-04-13T15:23:51.168Z"
   },
   {
    "duration": 51,
    "start_time": "2022-04-13T15:23:51.275Z"
   },
   {
    "duration": 126,
    "start_time": "2022-04-13T15:23:51.328Z"
   },
   {
    "duration": 86,
    "start_time": "2022-04-13T15:23:51.456Z"
   },
   {
    "duration": 120,
    "start_time": "2022-04-13T15:23:51.544Z"
   },
   {
    "duration": 46,
    "start_time": "2022-04-13T15:23:51.666Z"
   },
   {
    "duration": 12,
    "start_time": "2022-04-13T15:23:51.725Z"
   },
   {
    "duration": 45,
    "start_time": "2022-04-13T15:23:51.739Z"
   },
   {
    "duration": 35,
    "start_time": "2022-04-13T15:23:51.787Z"
   },
   {
    "duration": 44,
    "start_time": "2022-04-13T15:23:51.824Z"
   },
   {
    "duration": 14,
    "start_time": "2022-04-13T15:23:51.870Z"
   },
   {
    "duration": 53,
    "start_time": "2022-04-13T15:23:51.886Z"
   },
   {
    "duration": 56,
    "start_time": "2022-04-13T15:23:51.942Z"
   },
   {
    "duration": 46,
    "start_time": "2022-04-13T15:23:52.002Z"
   },
   {
    "duration": 74,
    "start_time": "2022-04-13T15:23:52.050Z"
   },
   {
    "duration": 32,
    "start_time": "2022-04-13T15:23:52.127Z"
   },
   {
    "duration": 24,
    "start_time": "2022-04-13T15:23:52.161Z"
   },
   {
    "duration": 5,
    "start_time": "2022-04-13T15:25:40.769Z"
   },
   {
    "duration": 47,
    "start_time": "2022-04-13T15:25:41.286Z"
   },
   {
    "duration": 58,
    "start_time": "2022-04-13T15:25:42.364Z"
   },
   {
    "duration": 7,
    "start_time": "2022-04-13T15:25:49.981Z"
   },
   {
    "duration": 609,
    "start_time": "2022-04-13T15:25:49.991Z"
   },
   {
    "duration": 762,
    "start_time": "2022-04-13T15:25:50.602Z"
   },
   {
    "duration": 1093,
    "start_time": "2022-04-13T15:25:51.366Z"
   },
   {
    "duration": 123,
    "start_time": "2022-04-13T15:25:52.462Z"
   },
   {
    "duration": 372,
    "start_time": "2022-04-13T15:25:52.587Z"
   },
   {
    "duration": 341,
    "start_time": "2022-04-13T15:25:52.962Z"
   },
   {
    "duration": 23,
    "start_time": "2022-04-13T15:25:53.306Z"
   },
   {
    "duration": 72,
    "start_time": "2022-04-13T15:25:53.332Z"
   },
   {
    "duration": 19,
    "start_time": "2022-04-13T15:25:53.406Z"
   },
   {
    "duration": 365,
    "start_time": "2022-04-13T15:25:53.427Z"
   },
   {
    "duration": 95,
    "start_time": "2022-04-13T15:25:53.795Z"
   },
   {
    "duration": 106,
    "start_time": "2022-04-13T15:25:53.893Z"
   },
   {
    "duration": 56,
    "start_time": "2022-04-13T15:25:54.004Z"
   },
   {
    "duration": 104,
    "start_time": "2022-04-13T15:25:54.062Z"
   },
   {
    "duration": 39,
    "start_time": "2022-04-13T15:25:54.168Z"
   },
   {
    "duration": 102,
    "start_time": "2022-04-13T15:25:54.224Z"
   },
   {
    "duration": 49,
    "start_time": "2022-04-13T15:25:54.328Z"
   },
   {
    "duration": 129,
    "start_time": "2022-04-13T15:25:54.379Z"
   },
   {
    "duration": 56,
    "start_time": "2022-04-13T15:25:54.510Z"
   },
   {
    "duration": 12,
    "start_time": "2022-04-13T15:25:54.568Z"
   },
   {
    "duration": 55,
    "start_time": "2022-04-13T15:25:54.582Z"
   },
   {
    "duration": 6,
    "start_time": "2022-04-13T15:25:54.639Z"
   },
   {
    "duration": 39,
    "start_time": "2022-04-13T15:25:54.647Z"
   },
   {
    "duration": 5,
    "start_time": "2022-04-13T15:25:54.688Z"
   },
   {
    "duration": 67,
    "start_time": "2022-04-13T15:25:54.695Z"
   },
   {
    "duration": 78,
    "start_time": "2022-04-13T15:25:54.764Z"
   },
   {
    "duration": 40,
    "start_time": "2022-04-13T15:25:54.844Z"
   },
   {
    "duration": 74,
    "start_time": "2022-04-13T15:25:54.886Z"
   },
   {
    "duration": 34,
    "start_time": "2022-04-13T15:25:54.962Z"
   },
   {
    "duration": 33,
    "start_time": "2022-04-13T15:25:54.998Z"
   },
   {
    "duration": 5,
    "start_time": "2022-04-13T15:26:47.961Z"
   },
   {
    "duration": 609,
    "start_time": "2022-04-13T15:26:47.969Z"
   },
   {
    "duration": 701,
    "start_time": "2022-04-13T15:26:48.580Z"
   },
   {
    "duration": 922,
    "start_time": "2022-04-13T15:26:49.283Z"
   },
   {
    "duration": 141,
    "start_time": "2022-04-13T15:26:50.209Z"
   },
   {
    "duration": 413,
    "start_time": "2022-04-13T15:26:50.352Z"
   },
   {
    "duration": 405,
    "start_time": "2022-04-13T15:26:50.767Z"
   },
   {
    "duration": 11,
    "start_time": "2022-04-13T15:26:51.174Z"
   },
   {
    "duration": 102,
    "start_time": "2022-04-13T15:26:51.188Z"
   },
   {
    "duration": 6,
    "start_time": "2022-04-13T15:26:51.292Z"
   },
   {
    "duration": 377,
    "start_time": "2022-04-13T15:26:51.300Z"
   },
   {
    "duration": 99,
    "start_time": "2022-04-13T15:26:51.679Z"
   },
   {
    "duration": 111,
    "start_time": "2022-04-13T15:26:51.781Z"
   },
   {
    "duration": 63,
    "start_time": "2022-04-13T15:26:51.896Z"
   },
   {
    "duration": 96,
    "start_time": "2022-04-13T15:26:51.961Z"
   },
   {
    "duration": 40,
    "start_time": "2022-04-13T15:26:52.059Z"
   },
   {
    "duration": 408,
    "start_time": "2022-04-13T15:26:52.102Z"
   },
   {
    "duration": 56,
    "start_time": "2022-04-13T15:26:52.513Z"
   },
   {
    "duration": 124,
    "start_time": "2022-04-13T15:26:52.572Z"
   },
   {
    "duration": 56,
    "start_time": "2022-04-13T15:26:52.699Z"
   },
   {
    "duration": 11,
    "start_time": "2022-04-13T15:26:52.758Z"
   },
   {
    "duration": 38,
    "start_time": "2022-04-13T15:26:52.771Z"
   },
   {
    "duration": 19,
    "start_time": "2022-04-13T15:26:52.811Z"
   },
   {
    "duration": 35,
    "start_time": "2022-04-13T15:26:52.832Z"
   },
   {
    "duration": 12,
    "start_time": "2022-04-13T15:26:52.869Z"
   },
   {
    "duration": 62,
    "start_time": "2022-04-13T15:26:52.884Z"
   },
   {
    "duration": 60,
    "start_time": "2022-04-13T15:26:52.948Z"
   },
   {
    "duration": 32,
    "start_time": "2022-04-13T15:26:53.024Z"
   },
   {
    "duration": 79,
    "start_time": "2022-04-13T15:26:53.059Z"
   },
   {
    "duration": 33,
    "start_time": "2022-04-13T15:26:53.141Z"
   },
   {
    "duration": 15,
    "start_time": "2022-04-13T15:26:53.177Z"
   },
   {
    "duration": 5,
    "start_time": "2022-04-13T15:27:27.386Z"
   },
   {
    "duration": 48,
    "start_time": "2022-04-13T15:27:27.627Z"
   },
   {
    "duration": 62,
    "start_time": "2022-04-13T15:27:28.609Z"
   },
   {
    "duration": 5,
    "start_time": "2022-04-13T15:27:34.443Z"
   },
   {
    "duration": 623,
    "start_time": "2022-04-13T15:27:34.451Z"
   },
   {
    "duration": 819,
    "start_time": "2022-04-13T15:27:35.077Z"
   },
   {
    "duration": 890,
    "start_time": "2022-04-13T15:27:35.899Z"
   },
   {
    "duration": 167,
    "start_time": "2022-04-13T15:27:36.791Z"
   },
   {
    "duration": 511,
    "start_time": "2022-04-13T15:27:36.960Z"
   },
   {
    "duration": 583,
    "start_time": "2022-04-13T15:27:37.473Z"
   },
   {
    "duration": 13,
    "start_time": "2022-04-13T15:27:38.058Z"
   },
   {
    "duration": 101,
    "start_time": "2022-04-13T15:27:38.074Z"
   },
   {
    "duration": 4,
    "start_time": "2022-04-13T15:27:38.180Z"
   },
   {
    "duration": 374,
    "start_time": "2022-04-13T15:27:38.186Z"
   },
   {
    "duration": 123,
    "start_time": "2022-04-13T15:27:38.563Z"
   },
   {
    "duration": 109,
    "start_time": "2022-04-13T15:27:38.689Z"
   },
   {
    "duration": 62,
    "start_time": "2022-04-13T15:27:38.800Z"
   },
   {
    "duration": 101,
    "start_time": "2022-04-13T15:27:38.864Z"
   },
   {
    "duration": 58,
    "start_time": "2022-04-13T15:27:38.967Z"
   },
   {
    "duration": 119,
    "start_time": "2022-04-13T15:27:39.027Z"
   },
   {
    "duration": 78,
    "start_time": "2022-04-13T15:27:39.148Z"
   },
   {
    "duration": 120,
    "start_time": "2022-04-13T15:27:39.228Z"
   },
   {
    "duration": 47,
    "start_time": "2022-04-13T15:27:39.350Z"
   },
   {
    "duration": 28,
    "start_time": "2022-04-13T15:27:39.399Z"
   },
   {
    "duration": 32,
    "start_time": "2022-04-13T15:27:39.429Z"
   },
   {
    "duration": 13,
    "start_time": "2022-04-13T15:27:39.463Z"
   },
   {
    "duration": 58,
    "start_time": "2022-04-13T15:27:39.478Z"
   },
   {
    "duration": 5,
    "start_time": "2022-04-13T15:27:39.538Z"
   },
   {
    "duration": 48,
    "start_time": "2022-04-13T15:27:39.545Z"
   },
   {
    "duration": 80,
    "start_time": "2022-04-13T15:27:39.596Z"
   },
   {
    "duration": 54,
    "start_time": "2022-04-13T15:27:39.681Z"
   },
   {
    "duration": 59,
    "start_time": "2022-04-13T15:27:39.738Z"
   },
   {
    "duration": 55,
    "start_time": "2022-04-13T15:27:39.799Z"
   },
   {
    "duration": 21,
    "start_time": "2022-04-13T15:27:39.856Z"
   },
   {
    "duration": 6,
    "start_time": "2022-04-13T15:31:16.951Z"
   },
   {
    "duration": 47,
    "start_time": "2022-04-13T15:31:17.462Z"
   },
   {
    "duration": 342,
    "start_time": "2022-04-13T15:31:18.309Z"
   },
   {
    "duration": 345,
    "start_time": "2022-04-13T15:34:10.430Z"
   },
   {
    "duration": 316,
    "start_time": "2022-04-13T15:34:18.381Z"
   },
   {
    "duration": 9,
    "start_time": "2022-04-13T15:34:35.598Z"
   },
   {
    "duration": 70,
    "start_time": "2022-04-13T15:34:36.174Z"
   },
   {
    "duration": 27,
    "start_time": "2022-04-13T15:34:36.481Z"
   },
   {
    "duration": 7,
    "start_time": "2022-04-13T15:34:51.864Z"
   },
   {
    "duration": 582,
    "start_time": "2022-04-13T15:34:51.874Z"
   },
   {
    "duration": 809,
    "start_time": "2022-04-13T15:34:52.459Z"
   },
   {
    "duration": 1115,
    "start_time": "2022-04-13T15:34:53.271Z"
   },
   {
    "duration": 140,
    "start_time": "2022-04-13T15:34:54.389Z"
   },
   {
    "duration": 397,
    "start_time": "2022-04-13T15:34:54.531Z"
   },
   {
    "duration": 374,
    "start_time": "2022-04-13T15:34:54.931Z"
   },
   {
    "duration": 16,
    "start_time": "2022-04-13T15:34:55.308Z"
   },
   {
    "duration": 97,
    "start_time": "2022-04-13T15:34:55.327Z"
   },
   {
    "duration": 5,
    "start_time": "2022-04-13T15:34:55.427Z"
   },
   {
    "duration": 390,
    "start_time": "2022-04-13T15:34:55.435Z"
   },
   {
    "duration": 96,
    "start_time": "2022-04-13T15:34:55.828Z"
   },
   {
    "duration": 107,
    "start_time": "2022-04-13T15:34:55.927Z"
   },
   {
    "duration": 48,
    "start_time": "2022-04-13T15:34:56.038Z"
   },
   {
    "duration": 114,
    "start_time": "2022-04-13T15:34:56.088Z"
   },
   {
    "duration": 56,
    "start_time": "2022-04-13T15:34:56.204Z"
   },
   {
    "duration": 101,
    "start_time": "2022-04-13T15:34:56.262Z"
   },
   {
    "duration": 63,
    "start_time": "2022-04-13T15:34:56.365Z"
   },
   {
    "duration": 122,
    "start_time": "2022-04-13T15:34:56.430Z"
   },
   {
    "duration": 46,
    "start_time": "2022-04-13T15:34:56.554Z"
   },
   {
    "duration": 29,
    "start_time": "2022-04-13T15:34:56.602Z"
   },
   {
    "duration": 30,
    "start_time": "2022-04-13T15:34:56.633Z"
   },
   {
    "duration": 6,
    "start_time": "2022-04-13T15:34:56.665Z"
   },
   {
    "duration": 72,
    "start_time": "2022-04-13T15:34:56.673Z"
   },
   {
    "duration": 6,
    "start_time": "2022-04-13T15:34:56.748Z"
   },
   {
    "duration": 67,
    "start_time": "2022-04-13T15:34:56.757Z"
   },
   {
    "duration": 26,
    "start_time": "2022-04-13T15:34:56.827Z"
   },
   {
    "duration": 0,
    "start_time": "2022-04-13T15:34:56.856Z"
   },
   {
    "duration": 0,
    "start_time": "2022-04-13T15:34:56.858Z"
   },
   {
    "duration": 0,
    "start_time": "2022-04-13T15:34:56.860Z"
   },
   {
    "duration": 0,
    "start_time": "2022-04-13T15:34:56.862Z"
   },
   {
    "duration": 6,
    "start_time": "2022-04-13T15:35:11.761Z"
   },
   {
    "duration": 44,
    "start_time": "2022-04-13T15:35:12.151Z"
   },
   {
    "duration": 303,
    "start_time": "2022-04-13T15:35:12.575Z"
   },
   {
    "duration": 1954,
    "start_time": "2022-04-13T15:37:26.689Z"
   },
   {
    "duration": 5,
    "start_time": "2022-04-13T15:37:32.891Z"
   },
   {
    "duration": 584,
    "start_time": "2022-04-13T15:37:32.900Z"
   },
   {
    "duration": 823,
    "start_time": "2022-04-13T15:37:33.487Z"
   },
   {
    "duration": 1115,
    "start_time": "2022-04-13T15:37:34.313Z"
   },
   {
    "duration": 144,
    "start_time": "2022-04-13T15:37:35.433Z"
   },
   {
    "duration": 455,
    "start_time": "2022-04-13T15:37:35.580Z"
   },
   {
    "duration": 407,
    "start_time": "2022-04-13T15:37:36.038Z"
   },
   {
    "duration": 12,
    "start_time": "2022-04-13T15:37:36.448Z"
   },
   {
    "duration": 101,
    "start_time": "2022-04-13T15:37:36.462Z"
   },
   {
    "duration": 7,
    "start_time": "2022-04-13T15:37:36.565Z"
   },
   {
    "duration": 576,
    "start_time": "2022-04-13T15:37:36.575Z"
   },
   {
    "duration": 101,
    "start_time": "2022-04-13T15:37:37.154Z"
   },
   {
    "duration": 419,
    "start_time": "2022-04-13T15:37:37.257Z"
   },
   {
    "duration": 60,
    "start_time": "2022-04-13T15:37:37.681Z"
   },
   {
    "duration": 108,
    "start_time": "2022-04-13T15:37:37.743Z"
   },
   {
    "duration": 40,
    "start_time": "2022-04-13T15:37:37.853Z"
   },
   {
    "duration": 110,
    "start_time": "2022-04-13T15:37:37.896Z"
   },
   {
    "duration": 60,
    "start_time": "2022-04-13T15:37:38.008Z"
   },
   {
    "duration": 130,
    "start_time": "2022-04-13T15:37:38.070Z"
   },
   {
    "duration": 50,
    "start_time": "2022-04-13T15:37:38.202Z"
   },
   {
    "duration": 12,
    "start_time": "2022-04-13T15:37:38.255Z"
   },
   {
    "duration": 58,
    "start_time": "2022-04-13T15:37:38.270Z"
   },
   {
    "duration": 12,
    "start_time": "2022-04-13T15:37:38.331Z"
   },
   {
    "duration": 40,
    "start_time": "2022-04-13T15:37:38.346Z"
   },
   {
    "duration": 1635,
    "start_time": "2022-04-13T15:37:38.388Z"
   },
   {
    "duration": 0,
    "start_time": "2022-04-13T15:37:40.025Z"
   },
   {
    "duration": 0,
    "start_time": "2022-04-13T15:37:40.028Z"
   },
   {
    "duration": 0,
    "start_time": "2022-04-13T15:37:40.029Z"
   },
   {
    "duration": 0,
    "start_time": "2022-04-13T15:37:40.031Z"
   },
   {
    "duration": 0,
    "start_time": "2022-04-13T15:37:40.032Z"
   },
   {
    "duration": 0,
    "start_time": "2022-04-13T15:37:40.034Z"
   },
   {
    "duration": 0,
    "start_time": "2022-04-13T15:37:40.036Z"
   },
   {
    "duration": 10,
    "start_time": "2022-04-13T15:37:45.142Z"
   },
   {
    "duration": 1825,
    "start_time": "2022-04-13T15:37:52.653Z"
   },
   {
    "duration": 22,
    "start_time": "2022-04-13T15:37:57.356Z"
   },
   {
    "duration": 126,
    "start_time": "2022-04-13T15:38:23.147Z"
   },
   {
    "duration": 15,
    "start_time": "2022-04-13T15:38:34.882Z"
   },
   {
    "duration": 5,
    "start_time": "2022-04-13T15:39:10.751Z"
   },
   {
    "duration": 337,
    "start_time": "2022-04-13T15:39:27.394Z"
   },
   {
    "duration": 440,
    "start_time": "2022-04-13T15:39:31.277Z"
   },
   {
    "duration": 5,
    "start_time": "2022-04-13T15:39:36.346Z"
   },
   {
    "duration": 623,
    "start_time": "2022-04-13T15:39:36.354Z"
   },
   {
    "duration": 649,
    "start_time": "2022-04-13T15:39:36.979Z"
   },
   {
    "duration": 798,
    "start_time": "2022-04-13T15:39:37.630Z"
   },
   {
    "duration": 159,
    "start_time": "2022-04-13T15:39:38.432Z"
   },
   {
    "duration": 500,
    "start_time": "2022-04-13T15:39:38.593Z"
   },
   {
    "duration": 491,
    "start_time": "2022-04-13T15:39:39.095Z"
   },
   {
    "duration": 13,
    "start_time": "2022-04-13T15:39:39.589Z"
   },
   {
    "duration": 84,
    "start_time": "2022-04-13T15:39:39.624Z"
   },
   {
    "duration": 18,
    "start_time": "2022-04-13T15:39:39.710Z"
   },
   {
    "duration": 377,
    "start_time": "2022-04-13T15:39:39.731Z"
   },
   {
    "duration": 125,
    "start_time": "2022-04-13T15:39:40.111Z"
   },
   {
    "duration": 112,
    "start_time": "2022-04-13T15:39:40.239Z"
   },
   {
    "duration": 47,
    "start_time": "2022-04-13T15:39:40.356Z"
   },
   {
    "duration": 104,
    "start_time": "2022-04-13T15:39:40.405Z"
   },
   {
    "duration": 40,
    "start_time": "2022-04-13T15:39:40.525Z"
   },
   {
    "duration": 132,
    "start_time": "2022-04-13T15:39:40.567Z"
   },
   {
    "duration": 79,
    "start_time": "2022-04-13T15:39:40.701Z"
   },
   {
    "duration": 124,
    "start_time": "2022-04-13T15:39:40.783Z"
   },
   {
    "duration": 59,
    "start_time": "2022-04-13T15:39:40.909Z"
   },
   {
    "duration": 12,
    "start_time": "2022-04-13T15:39:40.970Z"
   },
   {
    "duration": 56,
    "start_time": "2022-04-13T15:39:40.984Z"
   },
   {
    "duration": 19,
    "start_time": "2022-04-13T15:39:41.042Z"
   },
   {
    "duration": 48,
    "start_time": "2022-04-13T15:39:41.063Z"
   },
   {
    "duration": 22,
    "start_time": "2022-04-13T15:39:41.113Z"
   },
   {
    "duration": 8,
    "start_time": "2022-04-13T15:39:41.137Z"
   },
   {
    "duration": 341,
    "start_time": "2022-04-13T15:39:41.147Z"
   },
   {
    "duration": 6,
    "start_time": "2022-04-13T15:39:41.490Z"
   },
   {
    "duration": 62,
    "start_time": "2022-04-13T15:39:41.498Z"
   },
   {
    "duration": 321,
    "start_time": "2022-04-13T15:39:41.562Z"
   },
   {
    "duration": 0,
    "start_time": "2022-04-13T15:39:41.885Z"
   },
   {
    "duration": 0,
    "start_time": "2022-04-13T15:39:41.887Z"
   },
   {
    "duration": 0,
    "start_time": "2022-04-13T15:39:41.889Z"
   },
   {
    "duration": 0,
    "start_time": "2022-04-13T15:39:41.890Z"
   },
   {
    "duration": 4,
    "start_time": "2022-04-13T15:40:08.220Z"
   },
   {
    "duration": 410,
    "start_time": "2022-04-13T15:40:08.633Z"
   },
   {
    "duration": 5,
    "start_time": "2022-04-13T15:40:12.581Z"
   },
   {
    "duration": 552,
    "start_time": "2022-04-13T15:40:12.588Z"
   },
   {
    "duration": 824,
    "start_time": "2022-04-13T15:40:13.142Z"
   },
   {
    "duration": 1114,
    "start_time": "2022-04-13T15:40:13.971Z"
   },
   {
    "duration": 139,
    "start_time": "2022-04-13T15:40:15.088Z"
   },
   {
    "duration": 375,
    "start_time": "2022-04-13T15:40:15.229Z"
   },
   {
    "duration": 456,
    "start_time": "2022-04-13T15:40:15.606Z"
   },
   {
    "duration": 10,
    "start_time": "2022-04-13T15:40:16.064Z"
   },
   {
    "duration": 101,
    "start_time": "2022-04-13T15:40:16.076Z"
   },
   {
    "duration": 6,
    "start_time": "2022-04-13T15:40:16.182Z"
   },
   {
    "duration": 378,
    "start_time": "2022-04-13T15:40:16.190Z"
   },
   {
    "duration": 92,
    "start_time": "2022-04-13T15:40:16.570Z"
   },
   {
    "duration": 110,
    "start_time": "2022-04-13T15:40:16.664Z"
   },
   {
    "duration": 60,
    "start_time": "2022-04-13T15:40:16.777Z"
   },
   {
    "duration": 100,
    "start_time": "2022-04-13T15:40:16.839Z"
   },
   {
    "duration": 39,
    "start_time": "2022-04-13T15:40:16.941Z"
   },
   {
    "duration": 116,
    "start_time": "2022-04-13T15:40:16.982Z"
   },
   {
    "duration": 57,
    "start_time": "2022-04-13T15:40:17.101Z"
   },
   {
    "duration": 132,
    "start_time": "2022-04-13T15:40:17.161Z"
   },
   {
    "duration": 64,
    "start_time": "2022-04-13T15:40:17.296Z"
   },
   {
    "duration": 13,
    "start_time": "2022-04-13T15:40:17.363Z"
   },
   {
    "duration": 52,
    "start_time": "2022-04-13T15:40:17.379Z"
   },
   {
    "duration": 7,
    "start_time": "2022-04-13T15:40:17.434Z"
   },
   {
    "duration": 35,
    "start_time": "2022-04-13T15:40:17.444Z"
   },
   {
    "duration": 49,
    "start_time": "2022-04-13T15:40:17.481Z"
   },
   {
    "duration": 14,
    "start_time": "2022-04-13T15:40:17.533Z"
   },
   {
    "duration": 332,
    "start_time": "2022-04-13T15:40:17.549Z"
   },
   {
    "duration": 10,
    "start_time": "2022-04-13T15:40:17.886Z"
   },
   {
    "duration": 60,
    "start_time": "2022-04-13T15:40:17.898Z"
   },
   {
    "duration": 324,
    "start_time": "2022-04-13T15:40:17.960Z"
   },
   {
    "duration": 0,
    "start_time": "2022-04-13T15:40:18.287Z"
   },
   {
    "duration": 0,
    "start_time": "2022-04-13T15:40:18.289Z"
   },
   {
    "duration": 1,
    "start_time": "2022-04-13T15:40:18.290Z"
   },
   {
    "duration": 0,
    "start_time": "2022-04-13T15:40:18.292Z"
   },
   {
    "duration": 4,
    "start_time": "2022-04-13T15:40:27.477Z"
   },
   {
    "duration": 461,
    "start_time": "2022-04-13T15:40:27.936Z"
   },
   {
    "duration": 7,
    "start_time": "2022-04-13T15:40:31.258Z"
   },
   {
    "duration": 595,
    "start_time": "2022-04-13T15:40:31.269Z"
   },
   {
    "duration": 1059,
    "start_time": "2022-04-13T15:40:31.866Z"
   },
   {
    "duration": 985,
    "start_time": "2022-04-13T15:40:32.928Z"
   },
   {
    "duration": 138,
    "start_time": "2022-04-13T15:40:33.916Z"
   },
   {
    "duration": 413,
    "start_time": "2022-04-13T15:40:34.056Z"
   },
   {
    "duration": 380,
    "start_time": "2022-04-13T15:40:34.472Z"
   },
   {
    "duration": 11,
    "start_time": "2022-04-13T15:40:34.855Z"
   },
   {
    "duration": 98,
    "start_time": "2022-04-13T15:40:34.869Z"
   },
   {
    "duration": 6,
    "start_time": "2022-04-13T15:40:34.969Z"
   },
   {
    "duration": 371,
    "start_time": "2022-04-13T15:40:34.978Z"
   },
   {
    "duration": 100,
    "start_time": "2022-04-13T15:40:35.351Z"
   },
   {
    "duration": 106,
    "start_time": "2022-04-13T15:40:35.453Z"
   },
   {
    "duration": 65,
    "start_time": "2022-04-13T15:40:35.564Z"
   },
   {
    "duration": 99,
    "start_time": "2022-04-13T15:40:35.632Z"
   },
   {
    "duration": 39,
    "start_time": "2022-04-13T15:40:35.733Z"
   },
   {
    "duration": 115,
    "start_time": "2022-04-13T15:40:35.774Z"
   },
   {
    "duration": 78,
    "start_time": "2022-04-13T15:40:35.891Z"
   },
   {
    "duration": 120,
    "start_time": "2022-04-13T15:40:35.972Z"
   },
   {
    "duration": 58,
    "start_time": "2022-04-13T15:40:36.094Z"
   },
   {
    "duration": 12,
    "start_time": "2022-04-13T15:40:36.154Z"
   },
   {
    "duration": 30,
    "start_time": "2022-04-13T15:40:36.168Z"
   },
   {
    "duration": 31,
    "start_time": "2022-04-13T15:40:36.200Z"
   },
   {
    "duration": 36,
    "start_time": "2022-04-13T15:40:36.233Z"
   },
   {
    "duration": 17,
    "start_time": "2022-04-13T15:40:36.272Z"
   },
   {
    "duration": 34,
    "start_time": "2022-04-13T15:40:36.291Z"
   },
   {
    "duration": 332,
    "start_time": "2022-04-13T15:40:36.327Z"
   },
   {
    "duration": 9,
    "start_time": "2022-04-13T15:40:36.661Z"
   },
   {
    "duration": 56,
    "start_time": "2022-04-13T15:40:36.672Z"
   },
   {
    "duration": 321,
    "start_time": "2022-04-13T15:40:36.731Z"
   },
   {
    "duration": 0,
    "start_time": "2022-04-13T15:40:37.055Z"
   },
   {
    "duration": 0,
    "start_time": "2022-04-13T15:40:37.057Z"
   },
   {
    "duration": 0,
    "start_time": "2022-04-13T15:40:37.059Z"
   },
   {
    "duration": 0,
    "start_time": "2022-04-13T15:40:37.060Z"
   },
   {
    "duration": 5,
    "start_time": "2022-04-13T15:40:59.119Z"
   },
   {
    "duration": 570,
    "start_time": "2022-04-13T15:40:59.772Z"
   },
   {
    "duration": 6,
    "start_time": "2022-04-13T15:41:03.532Z"
   },
   {
    "duration": 592,
    "start_time": "2022-04-13T15:41:03.541Z"
   },
   {
    "duration": 755,
    "start_time": "2022-04-13T15:41:04.135Z"
   },
   {
    "duration": 989,
    "start_time": "2022-04-13T15:41:04.892Z"
   },
   {
    "duration": 118,
    "start_time": "2022-04-13T15:41:05.885Z"
   },
   {
    "duration": 379,
    "start_time": "2022-04-13T15:41:06.024Z"
   },
   {
    "duration": 373,
    "start_time": "2022-04-13T15:41:06.406Z"
   },
   {
    "duration": 10,
    "start_time": "2022-04-13T15:41:06.781Z"
   },
   {
    "duration": 93,
    "start_time": "2022-04-13T15:41:06.794Z"
   },
   {
    "duration": 5,
    "start_time": "2022-04-13T15:41:06.889Z"
   },
   {
    "duration": 378,
    "start_time": "2022-04-13T15:41:06.897Z"
   },
   {
    "duration": 100,
    "start_time": "2022-04-13T15:41:07.277Z"
   },
   {
    "duration": 108,
    "start_time": "2022-04-13T15:41:07.379Z"
   },
   {
    "duration": 61,
    "start_time": "2022-04-13T15:41:07.491Z"
   },
   {
    "duration": 100,
    "start_time": "2022-04-13T15:41:07.554Z"
   },
   {
    "duration": 41,
    "start_time": "2022-04-13T15:41:07.656Z"
   },
   {
    "duration": 111,
    "start_time": "2022-04-13T15:41:07.699Z"
   },
   {
    "duration": 53,
    "start_time": "2022-04-13T15:41:07.825Z"
   },
   {
    "duration": 121,
    "start_time": "2022-04-13T15:41:07.885Z"
   },
   {
    "duration": 56,
    "start_time": "2022-04-13T15:41:08.008Z"
   },
   {
    "duration": 12,
    "start_time": "2022-04-13T15:41:08.066Z"
   },
   {
    "duration": 54,
    "start_time": "2022-04-13T15:41:08.080Z"
   },
   {
    "duration": 10,
    "start_time": "2022-04-13T15:41:08.137Z"
   },
   {
    "duration": 35,
    "start_time": "2022-04-13T15:41:08.149Z"
   },
   {
    "duration": 42,
    "start_time": "2022-04-13T15:41:08.187Z"
   },
   {
    "duration": 7,
    "start_time": "2022-04-13T15:41:08.231Z"
   },
   {
    "duration": 522,
    "start_time": "2022-04-13T15:41:08.241Z"
   },
   {
    "duration": 6,
    "start_time": "2022-04-13T15:41:08.766Z"
   },
   {
    "duration": 62,
    "start_time": "2022-04-13T15:41:08.775Z"
   },
   {
    "duration": 357,
    "start_time": "2022-04-13T15:41:08.839Z"
   },
   {
    "duration": 0,
    "start_time": "2022-04-13T15:41:09.199Z"
   },
   {
    "duration": 0,
    "start_time": "2022-04-13T15:41:09.201Z"
   },
   {
    "duration": 0,
    "start_time": "2022-04-13T15:41:09.203Z"
   },
   {
    "duration": 0,
    "start_time": "2022-04-13T15:41:09.204Z"
   },
   {
    "duration": 5,
    "start_time": "2022-04-13T15:42:15.474Z"
   },
   {
    "duration": 408,
    "start_time": "2022-04-13T15:42:16.021Z"
   },
   {
    "duration": 7,
    "start_time": "2022-04-13T15:42:19.262Z"
   },
   {
    "duration": 572,
    "start_time": "2022-04-13T15:42:19.273Z"
   },
   {
    "duration": 808,
    "start_time": "2022-04-13T15:42:19.848Z"
   },
   {
    "duration": 977,
    "start_time": "2022-04-13T15:42:20.659Z"
   },
   {
    "duration": 186,
    "start_time": "2022-04-13T15:42:21.638Z"
   },
   {
    "duration": 556,
    "start_time": "2022-04-13T15:42:21.828Z"
   },
   {
    "duration": 467,
    "start_time": "2022-04-13T15:42:22.387Z"
   },
   {
    "duration": 14,
    "start_time": "2022-04-13T15:42:22.857Z"
   },
   {
    "duration": 107,
    "start_time": "2022-04-13T15:42:22.874Z"
   },
   {
    "duration": 6,
    "start_time": "2022-04-13T15:42:22.987Z"
   },
   {
    "duration": 380,
    "start_time": "2022-04-13T15:42:22.996Z"
   },
   {
    "duration": 103,
    "start_time": "2022-04-13T15:42:23.378Z"
   },
   {
    "duration": 112,
    "start_time": "2022-04-13T15:42:23.484Z"
   },
   {
    "duration": 59,
    "start_time": "2022-04-13T15:42:23.599Z"
   },
   {
    "duration": 106,
    "start_time": "2022-04-13T15:42:23.660Z"
   },
   {
    "duration": 57,
    "start_time": "2022-04-13T15:42:23.769Z"
   },
   {
    "duration": 156,
    "start_time": "2022-04-13T15:42:23.828Z"
   },
   {
    "duration": 81,
    "start_time": "2022-04-13T15:42:23.987Z"
   },
   {
    "duration": 177,
    "start_time": "2022-04-13T15:42:24.070Z"
   },
   {
    "duration": 87,
    "start_time": "2022-04-13T15:42:24.250Z"
   },
   {
    "duration": 13,
    "start_time": "2022-04-13T15:42:24.340Z"
   },
   {
    "duration": 49,
    "start_time": "2022-04-13T15:42:24.356Z"
   },
   {
    "duration": 7,
    "start_time": "2022-04-13T15:42:24.426Z"
   },
   {
    "duration": 41,
    "start_time": "2022-04-13T15:42:24.435Z"
   },
   {
    "duration": 44,
    "start_time": "2022-04-13T15:42:24.479Z"
   },
   {
    "duration": 5,
    "start_time": "2022-04-13T15:42:24.526Z"
   },
   {
    "duration": 515,
    "start_time": "2022-04-13T15:42:24.534Z"
   },
   {
    "duration": 6,
    "start_time": "2022-04-13T15:42:25.054Z"
   },
   {
    "duration": 62,
    "start_time": "2022-04-13T15:42:25.062Z"
   },
   {
    "duration": 512,
    "start_time": "2022-04-13T15:42:25.127Z"
   },
   {
    "duration": 13,
    "start_time": "2022-04-13T15:42:25.641Z"
   },
   {
    "duration": 0,
    "start_time": "2022-04-13T15:42:25.656Z"
   },
   {
    "duration": 0,
    "start_time": "2022-04-13T15:42:25.658Z"
   },
   {
    "duration": 0,
    "start_time": "2022-04-13T15:42:25.660Z"
   },
   {
    "duration": 726,
    "start_time": "2022-04-13T15:44:04.259Z"
   },
   {
    "duration": 6,
    "start_time": "2022-04-13T15:44:08.535Z"
   },
   {
    "duration": 605,
    "start_time": "2022-04-13T15:44:08.544Z"
   },
   {
    "duration": 783,
    "start_time": "2022-04-13T15:44:09.151Z"
   },
   {
    "duration": 1016,
    "start_time": "2022-04-13T15:44:09.936Z"
   },
   {
    "duration": 131,
    "start_time": "2022-04-13T15:44:10.955Z"
   },
   {
    "duration": 394,
    "start_time": "2022-04-13T15:44:11.089Z"
   },
   {
    "duration": 487,
    "start_time": "2022-04-13T15:44:11.486Z"
   },
   {
    "duration": 14,
    "start_time": "2022-04-13T15:44:11.975Z"
   },
   {
    "duration": 100,
    "start_time": "2022-04-13T15:44:11.991Z"
   },
   {
    "duration": 6,
    "start_time": "2022-04-13T15:44:12.093Z"
   },
   {
    "duration": 373,
    "start_time": "2022-04-13T15:44:12.102Z"
   },
   {
    "duration": 95,
    "start_time": "2022-04-13T15:44:12.477Z"
   },
   {
    "duration": 111,
    "start_time": "2022-04-13T15:44:12.574Z"
   },
   {
    "duration": 61,
    "start_time": "2022-04-13T15:44:12.691Z"
   },
   {
    "duration": 97,
    "start_time": "2022-04-13T15:44:12.755Z"
   },
   {
    "duration": 38,
    "start_time": "2022-04-13T15:44:12.855Z"
   },
   {
    "duration": 108,
    "start_time": "2022-04-13T15:44:12.896Z"
   },
   {
    "duration": 55,
    "start_time": "2022-04-13T15:44:13.006Z"
   },
   {
    "duration": 119,
    "start_time": "2022-04-13T15:44:13.064Z"
   },
   {
    "duration": 61,
    "start_time": "2022-04-13T15:44:13.185Z"
   },
   {
    "duration": 12,
    "start_time": "2022-04-13T15:44:13.248Z"
   },
   {
    "duration": 29,
    "start_time": "2022-04-13T15:44:13.262Z"
   },
   {
    "duration": 32,
    "start_time": "2022-04-13T15:44:13.294Z"
   },
   {
    "duration": 33,
    "start_time": "2022-04-13T15:44:13.328Z"
   },
   {
    "duration": 16,
    "start_time": "2022-04-13T15:44:13.363Z"
   },
   {
    "duration": 12,
    "start_time": "2022-04-13T15:44:13.381Z"
   },
   {
    "duration": 808,
    "start_time": "2022-04-13T15:44:13.395Z"
   },
   {
    "duration": 5,
    "start_time": "2022-04-13T15:44:14.206Z"
   },
   {
    "duration": 40,
    "start_time": "2022-04-13T15:44:14.225Z"
   },
   {
    "duration": 432,
    "start_time": "2022-04-13T15:44:14.268Z"
   },
   {
    "duration": 0,
    "start_time": "2022-04-13T15:44:14.703Z"
   },
   {
    "duration": 0,
    "start_time": "2022-04-13T15:44:14.705Z"
   },
   {
    "duration": 0,
    "start_time": "2022-04-13T15:44:14.706Z"
   },
   {
    "duration": 0,
    "start_time": "2022-04-13T15:44:14.707Z"
   },
   {
    "duration": 412,
    "start_time": "2022-04-13T15:47:08.067Z"
   },
   {
    "duration": 123,
    "start_time": "2022-04-13T15:47:38.140Z"
   },
   {
    "duration": 56,
    "start_time": "2022-04-13T15:47:38.429Z"
   },
   {
    "duration": 6,
    "start_time": "2022-04-13T15:47:46.095Z"
   },
   {
    "duration": 58,
    "start_time": "2022-04-13T15:47:46.963Z"
   },
   {
    "duration": 6,
    "start_time": "2022-04-13T15:47:49.381Z"
   },
   {
    "duration": 614,
    "start_time": "2022-04-13T15:47:49.390Z"
   },
   {
    "duration": 656,
    "start_time": "2022-04-13T15:47:50.007Z"
   },
   {
    "duration": 883,
    "start_time": "2022-04-13T15:47:50.666Z"
   },
   {
    "duration": 156,
    "start_time": "2022-04-13T15:47:51.552Z"
   },
   {
    "duration": 476,
    "start_time": "2022-04-13T15:47:51.723Z"
   },
   {
    "duration": 468,
    "start_time": "2022-04-13T15:47:52.202Z"
   },
   {
    "duration": 13,
    "start_time": "2022-04-13T15:47:52.673Z"
   },
   {
    "duration": 107,
    "start_time": "2022-04-13T15:47:52.688Z"
   },
   {
    "duration": 5,
    "start_time": "2022-04-13T15:47:52.799Z"
   },
   {
    "duration": 387,
    "start_time": "2022-04-13T15:47:52.806Z"
   },
   {
    "duration": 120,
    "start_time": "2022-04-13T15:47:53.196Z"
   },
   {
    "duration": 116,
    "start_time": "2022-04-13T15:47:53.319Z"
   },
   {
    "duration": 51,
    "start_time": "2022-04-13T15:47:53.438Z"
   },
   {
    "duration": 146,
    "start_time": "2022-04-13T15:47:53.491Z"
   },
   {
    "duration": 86,
    "start_time": "2022-04-13T15:47:53.640Z"
   },
   {
    "duration": 126,
    "start_time": "2022-04-13T15:47:53.729Z"
   },
   {
    "duration": 81,
    "start_time": "2022-04-13T15:47:53.857Z"
   },
   {
    "duration": 123,
    "start_time": "2022-04-13T15:47:53.941Z"
   },
   {
    "duration": 60,
    "start_time": "2022-04-13T15:47:54.066Z"
   },
   {
    "duration": 15,
    "start_time": "2022-04-13T15:47:54.128Z"
   },
   {
    "duration": 32,
    "start_time": "2022-04-13T15:47:54.145Z"
   },
   {
    "duration": 9,
    "start_time": "2022-04-13T15:47:54.180Z"
   },
   {
    "duration": 52,
    "start_time": "2022-04-13T15:47:54.224Z"
   },
   {
    "duration": 45,
    "start_time": "2022-04-13T15:47:54.279Z"
   },
   {
    "duration": 5,
    "start_time": "2022-04-13T15:47:54.328Z"
   },
   {
    "duration": 641,
    "start_time": "2022-04-13T15:47:54.336Z"
   },
   {
    "duration": 6,
    "start_time": "2022-04-13T15:47:54.981Z"
   },
   {
    "duration": 63,
    "start_time": "2022-04-13T15:47:54.989Z"
   },
   {
    "duration": 445,
    "start_time": "2022-04-13T15:47:55.055Z"
   },
   {
    "duration": 0,
    "start_time": "2022-04-13T15:47:55.502Z"
   },
   {
    "duration": 0,
    "start_time": "2022-04-13T15:47:55.504Z"
   },
   {
    "duration": 0,
    "start_time": "2022-04-13T15:47:55.506Z"
   },
   {
    "duration": 0,
    "start_time": "2022-04-13T15:47:55.507Z"
   },
   {
    "duration": 419,
    "start_time": "2022-04-13T15:48:11.395Z"
   },
   {
    "duration": 6,
    "start_time": "2022-04-13T15:48:21.912Z"
   },
   {
    "duration": 21,
    "start_time": "2022-04-13T15:48:33.227Z"
   },
   {
    "duration": 6,
    "start_time": "2022-04-13T15:49:07.009Z"
   },
   {
    "duration": 634,
    "start_time": "2022-04-13T15:49:07.638Z"
   },
   {
    "duration": 537,
    "start_time": "2022-04-13T15:49:52.991Z"
   },
   {
    "duration": 5,
    "start_time": "2022-04-13T15:49:56.172Z"
   },
   {
    "duration": 622,
    "start_time": "2022-04-13T15:49:56.180Z"
   },
   {
    "duration": 827,
    "start_time": "2022-04-13T15:49:56.804Z"
   },
   {
    "duration": 1142,
    "start_time": "2022-04-13T15:49:57.634Z"
   },
   {
    "duration": 124,
    "start_time": "2022-04-13T15:49:58.779Z"
   },
   {
    "duration": 401,
    "start_time": "2022-04-13T15:49:58.924Z"
   },
   {
    "duration": 394,
    "start_time": "2022-04-13T15:49:59.328Z"
   },
   {
    "duration": 11,
    "start_time": "2022-04-13T15:49:59.725Z"
   },
   {
    "duration": 97,
    "start_time": "2022-04-13T15:49:59.739Z"
   },
   {
    "duration": 6,
    "start_time": "2022-04-13T15:49:59.840Z"
   },
   {
    "duration": 376,
    "start_time": "2022-04-13T15:49:59.848Z"
   },
   {
    "duration": 100,
    "start_time": "2022-04-13T15:50:00.227Z"
   },
   {
    "duration": 110,
    "start_time": "2022-04-13T15:50:00.329Z"
   },
   {
    "duration": 54,
    "start_time": "2022-04-13T15:50:00.441Z"
   },
   {
    "duration": 128,
    "start_time": "2022-04-13T15:50:00.498Z"
   },
   {
    "duration": 41,
    "start_time": "2022-04-13T15:50:00.629Z"
   },
   {
    "duration": 121,
    "start_time": "2022-04-13T15:50:00.673Z"
   },
   {
    "duration": 61,
    "start_time": "2022-04-13T15:50:00.796Z"
   },
   {
    "duration": 126,
    "start_time": "2022-04-13T15:50:00.859Z"
   },
   {
    "duration": 61,
    "start_time": "2022-04-13T15:50:00.987Z"
   },
   {
    "duration": 12,
    "start_time": "2022-04-13T15:50:01.051Z"
   },
   {
    "duration": 69,
    "start_time": "2022-04-13T15:50:01.065Z"
   },
   {
    "duration": 8,
    "start_time": "2022-04-13T15:50:01.137Z"
   },
   {
    "duration": 54,
    "start_time": "2022-04-13T15:50:01.148Z"
   },
   {
    "duration": 44,
    "start_time": "2022-04-13T15:50:01.205Z"
   },
   {
    "duration": 16,
    "start_time": "2022-04-13T15:50:01.252Z"
   },
   {
    "duration": 2085,
    "start_time": "2022-04-13T15:50:01.271Z"
   },
   {
    "duration": 0,
    "start_time": "2022-04-13T15:50:03.360Z"
   },
   {
    "duration": 0,
    "start_time": "2022-04-13T15:50:03.363Z"
   },
   {
    "duration": 0,
    "start_time": "2022-04-13T15:50:03.365Z"
   },
   {
    "duration": 0,
    "start_time": "2022-04-13T15:50:03.367Z"
   },
   {
    "duration": 0,
    "start_time": "2022-04-13T15:50:03.369Z"
   },
   {
    "duration": 0,
    "start_time": "2022-04-13T15:50:03.371Z"
   },
   {
    "duration": 1,
    "start_time": "2022-04-13T15:50:03.373Z"
   },
   {
    "duration": 16,
    "start_time": "2022-04-13T15:50:58.837Z"
   },
   {
    "duration": 5,
    "start_time": "2022-04-13T15:50:59.492Z"
   },
   {
    "duration": 29,
    "start_time": "2022-04-13T15:51:01.040Z"
   },
   {
    "duration": 5,
    "start_time": "2022-04-13T15:51:04.866Z"
   },
   {
    "duration": 593,
    "start_time": "2022-04-13T15:51:04.874Z"
   },
   {
    "duration": 1046,
    "start_time": "2022-04-13T15:51:05.469Z"
   },
   {
    "duration": 856,
    "start_time": "2022-04-13T15:51:06.526Z"
   },
   {
    "duration": 206,
    "start_time": "2022-04-13T15:51:07.384Z"
   },
   {
    "duration": 409,
    "start_time": "2022-04-13T15:51:07.592Z"
   },
   {
    "duration": 376,
    "start_time": "2022-04-13T15:51:08.004Z"
   },
   {
    "duration": 10,
    "start_time": "2022-04-13T15:51:08.383Z"
   },
   {
    "duration": 96,
    "start_time": "2022-04-13T15:51:08.395Z"
   },
   {
    "duration": 7,
    "start_time": "2022-04-13T15:51:08.495Z"
   },
   {
    "duration": 382,
    "start_time": "2022-04-13T15:51:08.505Z"
   },
   {
    "duration": 99,
    "start_time": "2022-04-13T15:51:08.889Z"
   },
   {
    "duration": 108,
    "start_time": "2022-04-13T15:51:08.990Z"
   },
   {
    "duration": 59,
    "start_time": "2022-04-13T15:51:09.101Z"
   },
   {
    "duration": 99,
    "start_time": "2022-04-13T15:51:09.162Z"
   },
   {
    "duration": 39,
    "start_time": "2022-04-13T15:51:09.263Z"
   },
   {
    "duration": 106,
    "start_time": "2022-04-13T15:51:09.304Z"
   },
   {
    "duration": 46,
    "start_time": "2022-04-13T15:51:09.424Z"
   },
   {
    "duration": 128,
    "start_time": "2022-04-13T15:51:09.473Z"
   },
   {
    "duration": 57,
    "start_time": "2022-04-13T15:51:09.604Z"
   },
   {
    "duration": 13,
    "start_time": "2022-04-13T15:51:09.663Z"
   },
   {
    "duration": 70,
    "start_time": "2022-04-13T15:51:09.679Z"
   },
   {
    "duration": 8,
    "start_time": "2022-04-13T15:51:09.752Z"
   },
   {
    "duration": 73,
    "start_time": "2022-04-13T15:51:09.762Z"
   },
   {
    "duration": 22,
    "start_time": "2022-04-13T15:51:09.839Z"
   },
   {
    "duration": 20,
    "start_time": "2022-04-13T15:51:09.864Z"
   },
   {
    "duration": 64,
    "start_time": "2022-04-13T15:51:09.887Z"
   },
   {
    "duration": 0,
    "start_time": "2022-04-13T15:51:09.955Z"
   },
   {
    "duration": 0,
    "start_time": "2022-04-13T15:51:09.957Z"
   },
   {
    "duration": 0,
    "start_time": "2022-04-13T15:51:09.959Z"
   },
   {
    "duration": 0,
    "start_time": "2022-04-13T15:51:09.962Z"
   },
   {
    "duration": 0,
    "start_time": "2022-04-13T15:51:09.964Z"
   },
   {
    "duration": 0,
    "start_time": "2022-04-13T15:51:09.966Z"
   },
   {
    "duration": 0,
    "start_time": "2022-04-13T15:51:09.969Z"
   },
   {
    "duration": 105,
    "start_time": "2022-04-13T15:51:40.537Z"
   },
   {
    "duration": 5,
    "start_time": "2022-04-13T15:51:46.971Z"
   },
   {
    "duration": 48,
    "start_time": "2022-04-13T15:51:47.642Z"
   },
   {
    "duration": 795,
    "start_time": "2022-04-13T15:51:51.880Z"
   },
   {
    "duration": 41,
    "start_time": "2022-04-13T15:54:18.969Z"
   },
   {
    "duration": 455,
    "start_time": "2022-04-13T15:54:21.339Z"
   },
   {
    "duration": 6,
    "start_time": "2022-04-13T15:54:28.538Z"
   },
   {
    "duration": 587,
    "start_time": "2022-04-13T15:54:28.547Z"
   },
   {
    "duration": 778,
    "start_time": "2022-04-13T15:54:29.137Z"
   },
   {
    "duration": 1037,
    "start_time": "2022-04-13T15:54:29.917Z"
   },
   {
    "duration": 129,
    "start_time": "2022-04-13T15:54:30.958Z"
   },
   {
    "duration": 426,
    "start_time": "2022-04-13T15:54:31.090Z"
   },
   {
    "duration": 391,
    "start_time": "2022-04-13T15:54:31.519Z"
   },
   {
    "duration": 22,
    "start_time": "2022-04-13T15:54:31.912Z"
   },
   {
    "duration": 96,
    "start_time": "2022-04-13T15:54:31.936Z"
   },
   {
    "duration": 5,
    "start_time": "2022-04-13T15:54:32.034Z"
   },
   {
    "duration": 371,
    "start_time": "2022-04-13T15:54:32.042Z"
   },
   {
    "duration": 94,
    "start_time": "2022-04-13T15:54:32.416Z"
   },
   {
    "duration": 124,
    "start_time": "2022-04-13T15:54:32.513Z"
   },
   {
    "duration": 49,
    "start_time": "2022-04-13T15:54:32.643Z"
   },
   {
    "duration": 130,
    "start_time": "2022-04-13T15:54:32.694Z"
   },
   {
    "duration": 40,
    "start_time": "2022-04-13T15:54:32.827Z"
   },
   {
    "duration": 119,
    "start_time": "2022-04-13T15:54:32.870Z"
   },
   {
    "duration": 63,
    "start_time": "2022-04-13T15:54:32.991Z"
   },
   {
    "duration": 127,
    "start_time": "2022-04-13T15:54:33.056Z"
   },
   {
    "duration": 61,
    "start_time": "2022-04-13T15:54:33.185Z"
   },
   {
    "duration": 12,
    "start_time": "2022-04-13T15:54:33.248Z"
   },
   {
    "duration": 32,
    "start_time": "2022-04-13T15:54:33.263Z"
   },
   {
    "duration": 32,
    "start_time": "2022-04-13T15:54:33.297Z"
   },
   {
    "duration": 43,
    "start_time": "2022-04-13T15:54:33.331Z"
   },
   {
    "duration": 16,
    "start_time": "2022-04-13T15:54:33.376Z"
   },
   {
    "duration": 31,
    "start_time": "2022-04-13T15:54:33.394Z"
   },
   {
    "duration": 510,
    "start_time": "2022-04-13T15:54:33.427Z"
   },
   {
    "duration": 109,
    "start_time": "2022-04-13T15:54:33.939Z"
   },
   {
    "duration": 0,
    "start_time": "2022-04-13T15:54:34.051Z"
   },
   {
    "duration": 0,
    "start_time": "2022-04-13T15:54:34.053Z"
   },
   {
    "duration": 0,
    "start_time": "2022-04-13T15:54:34.054Z"
   },
   {
    "duration": 0,
    "start_time": "2022-04-13T15:54:34.055Z"
   },
   {
    "duration": 0,
    "start_time": "2022-04-13T15:54:34.057Z"
   },
   {
    "duration": 0,
    "start_time": "2022-04-13T15:54:34.058Z"
   },
   {
    "duration": 5,
    "start_time": "2022-04-13T15:54:46.528Z"
   },
   {
    "duration": 42,
    "start_time": "2022-04-13T15:54:47.262Z"
   },
   {
    "duration": 518,
    "start_time": "2022-04-13T15:54:48.027Z"
   },
   {
    "duration": 8,
    "start_time": "2022-04-13T15:55:24.545Z"
   },
   {
    "duration": 38,
    "start_time": "2022-04-13T15:55:24.871Z"
   },
   {
    "duration": 430,
    "start_time": "2022-04-13T15:55:25.176Z"
   },
   {
    "duration": 6,
    "start_time": "2022-04-13T15:55:30.798Z"
   },
   {
    "duration": 591,
    "start_time": "2022-04-13T15:55:30.807Z"
   },
   {
    "duration": 747,
    "start_time": "2022-04-13T15:55:31.401Z"
   },
   {
    "duration": 920,
    "start_time": "2022-04-13T15:55:32.151Z"
   },
   {
    "duration": 160,
    "start_time": "2022-04-13T15:55:33.075Z"
   },
   {
    "duration": 422,
    "start_time": "2022-04-13T15:55:33.238Z"
   },
   {
    "duration": 432,
    "start_time": "2022-04-13T15:55:33.663Z"
   },
   {
    "duration": 10,
    "start_time": "2022-04-13T15:55:34.098Z"
   },
   {
    "duration": 87,
    "start_time": "2022-04-13T15:55:34.112Z"
   },
   {
    "duration": 27,
    "start_time": "2022-04-13T15:55:34.201Z"
   },
   {
    "duration": 376,
    "start_time": "2022-04-13T15:55:34.230Z"
   },
   {
    "duration": 99,
    "start_time": "2022-04-13T15:55:34.609Z"
   },
   {
    "duration": 116,
    "start_time": "2022-04-13T15:55:34.710Z"
   },
   {
    "duration": 50,
    "start_time": "2022-04-13T15:55:34.830Z"
   },
   {
    "duration": 116,
    "start_time": "2022-04-13T15:55:34.882Z"
   },
   {
    "duration": 49,
    "start_time": "2022-04-13T15:55:35.000Z"
   },
   {
    "duration": 111,
    "start_time": "2022-04-13T15:55:35.051Z"
   },
   {
    "duration": 60,
    "start_time": "2022-04-13T15:55:35.164Z"
   },
   {
    "duration": 119,
    "start_time": "2022-04-13T15:55:35.226Z"
   },
   {
    "duration": 46,
    "start_time": "2022-04-13T15:55:35.347Z"
   },
   {
    "duration": 32,
    "start_time": "2022-04-13T15:55:35.395Z"
   },
   {
    "duration": 51,
    "start_time": "2022-04-13T15:55:35.429Z"
   },
   {
    "duration": 24,
    "start_time": "2022-04-13T15:55:35.483Z"
   },
   {
    "duration": 61,
    "start_time": "2022-04-13T15:55:35.509Z"
   },
   {
    "duration": 37,
    "start_time": "2022-04-13T15:55:35.572Z"
   },
   {
    "duration": 24,
    "start_time": "2022-04-13T15:55:35.612Z"
   },
   {
    "duration": 514,
    "start_time": "2022-04-13T15:55:35.638Z"
   },
   {
    "duration": 6,
    "start_time": "2022-04-13T15:55:36.154Z"
   },
   {
    "duration": 63,
    "start_time": "2022-04-13T15:55:36.162Z"
   },
   {
    "duration": 408,
    "start_time": "2022-04-13T15:55:36.227Z"
   },
   {
    "duration": 31,
    "start_time": "2022-04-13T15:55:36.637Z"
   },
   {
    "duration": 2216,
    "start_time": "2022-04-13T15:55:36.670Z"
   },
   {
    "duration": 0,
    "start_time": "2022-04-13T15:55:38.888Z"
   },
   {
    "duration": 0,
    "start_time": "2022-04-13T15:55:38.890Z"
   },
   {
    "duration": 7,
    "start_time": "2022-04-13T15:56:45.400Z"
   },
   {
    "duration": 595,
    "start_time": "2022-04-13T15:56:45.410Z"
   },
   {
    "duration": 1161,
    "start_time": "2022-04-13T15:56:46.007Z"
   },
   {
    "duration": 1038,
    "start_time": "2022-04-13T15:56:47.170Z"
   },
   {
    "duration": 135,
    "start_time": "2022-04-13T15:56:48.212Z"
   },
   {
    "duration": 399,
    "start_time": "2022-04-13T15:56:48.350Z"
   },
   {
    "duration": 380,
    "start_time": "2022-04-13T15:56:48.752Z"
   },
   {
    "duration": 11,
    "start_time": "2022-04-13T15:56:49.134Z"
   },
   {
    "duration": 98,
    "start_time": "2022-04-13T15:56:49.148Z"
   },
   {
    "duration": 6,
    "start_time": "2022-04-13T15:56:49.248Z"
   },
   {
    "duration": 388,
    "start_time": "2022-04-13T15:56:49.259Z"
   },
   {
    "duration": 109,
    "start_time": "2022-04-13T15:56:49.650Z"
   },
   {
    "duration": 173,
    "start_time": "2022-04-13T15:56:49.761Z"
   },
   {
    "duration": 89,
    "start_time": "2022-04-13T15:56:49.942Z"
   },
   {
    "duration": 170,
    "start_time": "2022-04-13T15:56:50.034Z"
   },
   {
    "duration": 71,
    "start_time": "2022-04-13T15:56:50.207Z"
   },
   {
    "duration": 179,
    "start_time": "2022-04-13T15:56:50.281Z"
   },
   {
    "duration": 88,
    "start_time": "2022-04-13T15:56:50.463Z"
   },
   {
    "duration": 128,
    "start_time": "2022-04-13T15:56:50.554Z"
   },
   {
    "duration": 64,
    "start_time": "2022-04-13T15:56:50.685Z"
   },
   {
    "duration": 13,
    "start_time": "2022-04-13T15:56:50.751Z"
   },
   {
    "duration": 42,
    "start_time": "2022-04-13T15:56:50.767Z"
   },
   {
    "duration": 9,
    "start_time": "2022-04-13T15:56:50.825Z"
   },
   {
    "duration": 58,
    "start_time": "2022-04-13T15:56:50.836Z"
   },
   {
    "duration": 28,
    "start_time": "2022-04-13T15:56:50.897Z"
   },
   {
    "duration": 10,
    "start_time": "2022-04-13T15:56:50.927Z"
   },
   {
    "duration": 516,
    "start_time": "2022-04-13T15:56:50.939Z"
   },
   {
    "duration": 6,
    "start_time": "2022-04-13T15:56:51.457Z"
   },
   {
    "duration": 89,
    "start_time": "2022-04-13T15:56:51.466Z"
   },
   {
    "duration": 389,
    "start_time": "2022-04-13T15:56:51.558Z"
   },
   {
    "duration": 0,
    "start_time": "2022-04-13T15:56:51.950Z"
   },
   {
    "duration": 0,
    "start_time": "2022-04-13T15:56:51.952Z"
   },
   {
    "duration": 0,
    "start_time": "2022-04-13T15:56:51.954Z"
   },
   {
    "duration": 0,
    "start_time": "2022-04-13T15:56:51.955Z"
   },
   {
    "duration": 451,
    "start_time": "2022-04-13T15:56:58.007Z"
   },
   {
    "duration": 6,
    "start_time": "2022-04-13T15:57:02.992Z"
   },
   {
    "duration": 906,
    "start_time": "2022-04-13T15:57:03.000Z"
   },
   {
    "duration": 1138,
    "start_time": "2022-04-13T15:57:03.909Z"
   },
   {
    "duration": 1450,
    "start_time": "2022-04-13T15:57:05.051Z"
   },
   {
    "duration": 152,
    "start_time": "2022-04-13T15:57:06.503Z"
   },
   {
    "duration": 416,
    "start_time": "2022-04-13T15:57:06.658Z"
   },
   {
    "duration": 417,
    "start_time": "2022-04-13T15:57:07.078Z"
   },
   {
    "duration": 13,
    "start_time": "2022-04-13T15:57:07.498Z"
   },
   {
    "duration": 76,
    "start_time": "2022-04-13T15:57:07.525Z"
   },
   {
    "duration": 23,
    "start_time": "2022-04-13T15:57:07.605Z"
   },
   {
    "duration": 379,
    "start_time": "2022-04-13T15:57:07.631Z"
   },
   {
    "duration": 98,
    "start_time": "2022-04-13T15:57:08.013Z"
   },
   {
    "duration": 123,
    "start_time": "2022-04-13T15:57:08.113Z"
   },
   {
    "duration": 49,
    "start_time": "2022-04-13T15:57:08.239Z"
   },
   {
    "duration": 109,
    "start_time": "2022-04-13T15:57:08.290Z"
   },
   {
    "duration": 52,
    "start_time": "2022-04-13T15:57:08.401Z"
   },
   {
    "duration": 124,
    "start_time": "2022-04-13T15:57:08.455Z"
   },
   {
    "duration": 88,
    "start_time": "2022-04-13T15:57:08.582Z"
   },
   {
    "duration": 126,
    "start_time": "2022-04-13T15:57:08.673Z"
   },
   {
    "duration": 55,
    "start_time": "2022-04-13T15:57:08.801Z"
   },
   {
    "duration": 12,
    "start_time": "2022-04-13T15:57:08.858Z"
   },
   {
    "duration": 58,
    "start_time": "2022-04-13T15:57:08.872Z"
   },
   {
    "duration": 6,
    "start_time": "2022-04-13T15:57:08.933Z"
   },
   {
    "duration": 40,
    "start_time": "2022-04-13T15:57:08.941Z"
   },
   {
    "duration": 51,
    "start_time": "2022-04-13T15:57:08.983Z"
   },
   {
    "duration": 17,
    "start_time": "2022-04-13T15:57:09.037Z"
   },
   {
    "duration": 520,
    "start_time": "2022-04-13T15:57:09.057Z"
   },
   {
    "duration": 5,
    "start_time": "2022-04-13T15:57:09.581Z"
   },
   {
    "duration": 62,
    "start_time": "2022-04-13T15:57:09.589Z"
   },
   {
    "duration": 748,
    "start_time": "2022-04-13T15:57:09.655Z"
   },
   {
    "duration": 60,
    "start_time": "2022-04-13T15:57:10.406Z"
   },
   {
    "duration": 2879,
    "start_time": "2022-04-13T15:57:10.469Z"
   },
   {
    "duration": 0,
    "start_time": "2022-04-13T15:57:13.350Z"
   },
   {
    "duration": 0,
    "start_time": "2022-04-13T15:57:13.353Z"
   },
   {
    "duration": 5,
    "start_time": "2022-04-13T15:58:18.813Z"
   },
   {
    "duration": 43,
    "start_time": "2022-04-13T15:58:20.735Z"
   },
   {
    "duration": 288,
    "start_time": "2022-04-13T15:58:27.586Z"
   },
   {
    "duration": 7,
    "start_time": "2022-04-13T15:58:48.156Z"
   },
   {
    "duration": 683,
    "start_time": "2022-04-13T15:58:48.166Z"
   },
   {
    "duration": 1181,
    "start_time": "2022-04-13T15:58:48.852Z"
   },
   {
    "duration": 1011,
    "start_time": "2022-04-13T15:58:50.036Z"
   },
   {
    "duration": 133,
    "start_time": "2022-04-13T15:58:51.049Z"
   },
   {
    "duration": 403,
    "start_time": "2022-04-13T15:58:51.184Z"
   },
   {
    "duration": 389,
    "start_time": "2022-04-13T15:58:51.590Z"
   },
   {
    "duration": 11,
    "start_time": "2022-04-13T15:58:51.982Z"
   },
   {
    "duration": 103,
    "start_time": "2022-04-13T15:58:51.995Z"
   },
   {
    "duration": 6,
    "start_time": "2022-04-13T15:58:52.102Z"
   },
   {
    "duration": 374,
    "start_time": "2022-04-13T15:58:52.125Z"
   },
   {
    "duration": 103,
    "start_time": "2022-04-13T15:58:52.501Z"
   },
   {
    "duration": 107,
    "start_time": "2022-04-13T15:58:52.606Z"
   },
   {
    "duration": 49,
    "start_time": "2022-04-13T15:58:52.724Z"
   },
   {
    "duration": 120,
    "start_time": "2022-04-13T15:58:52.775Z"
   },
   {
    "duration": 56,
    "start_time": "2022-04-13T15:58:52.897Z"
   },
   {
    "duration": 114,
    "start_time": "2022-04-13T15:58:52.955Z"
   },
   {
    "duration": 67,
    "start_time": "2022-04-13T15:58:53.072Z"
   },
   {
    "duration": 124,
    "start_time": "2022-04-13T15:58:53.141Z"
   },
   {
    "duration": 65,
    "start_time": "2022-04-13T15:58:53.267Z"
   },
   {
    "duration": 11,
    "start_time": "2022-04-13T15:58:53.335Z"
   },
   {
    "duration": 33,
    "start_time": "2022-04-13T15:58:53.349Z"
   },
   {
    "duration": 42,
    "start_time": "2022-04-13T15:58:53.384Z"
   },
   {
    "duration": 34,
    "start_time": "2022-04-13T15:58:53.428Z"
   },
   {
    "duration": 17,
    "start_time": "2022-04-13T15:58:53.464Z"
   },
   {
    "duration": 43,
    "start_time": "2022-04-13T15:58:53.483Z"
   },
   {
    "duration": 516,
    "start_time": "2022-04-13T15:58:53.529Z"
   },
   {
    "duration": 6,
    "start_time": "2022-04-13T15:58:54.050Z"
   },
   {
    "duration": 68,
    "start_time": "2022-04-13T15:58:54.058Z"
   },
   {
    "duration": 300,
    "start_time": "2022-04-13T15:58:54.128Z"
   },
   {
    "duration": 14,
    "start_time": "2022-04-13T15:58:54.430Z"
   },
   {
    "duration": 0,
    "start_time": "2022-04-13T15:58:54.447Z"
   },
   {
    "duration": 0,
    "start_time": "2022-04-13T15:58:54.448Z"
   },
   {
    "duration": 0,
    "start_time": "2022-04-13T15:58:54.451Z"
   },
   {
    "duration": 5,
    "start_time": "2022-04-13T15:59:03.753Z"
   },
   {
    "duration": 10,
    "start_time": "2022-04-13T15:59:04.233Z"
   },
   {
    "duration": 473,
    "start_time": "2022-04-13T15:59:04.675Z"
   },
   {
    "duration": 7,
    "start_time": "2022-04-13T15:59:08.557Z"
   },
   {
    "duration": 584,
    "start_time": "2022-04-13T15:59:08.568Z"
   },
   {
    "duration": 741,
    "start_time": "2022-04-13T15:59:09.155Z"
   },
   {
    "duration": 926,
    "start_time": "2022-04-13T15:59:09.898Z"
   },
   {
    "duration": 136,
    "start_time": "2022-04-13T15:59:10.827Z"
   },
   {
    "duration": 418,
    "start_time": "2022-04-13T15:59:10.965Z"
   },
   {
    "duration": 395,
    "start_time": "2022-04-13T15:59:11.386Z"
   },
   {
    "duration": 11,
    "start_time": "2022-04-13T15:59:11.784Z"
   },
   {
    "duration": 96,
    "start_time": "2022-04-13T15:59:11.798Z"
   },
   {
    "duration": 7,
    "start_time": "2022-04-13T15:59:11.896Z"
   },
   {
    "duration": 387,
    "start_time": "2022-04-13T15:59:11.925Z"
   },
   {
    "duration": 97,
    "start_time": "2022-04-13T15:59:12.314Z"
   },
   {
    "duration": 124,
    "start_time": "2022-04-13T15:59:12.413Z"
   },
   {
    "duration": 52,
    "start_time": "2022-04-13T15:59:12.541Z"
   },
   {
    "duration": 112,
    "start_time": "2022-04-13T15:59:12.595Z"
   },
   {
    "duration": 52,
    "start_time": "2022-04-13T15:59:12.709Z"
   },
   {
    "duration": 109,
    "start_time": "2022-04-13T15:59:12.763Z"
   },
   {
    "duration": 59,
    "start_time": "2022-04-13T15:59:12.874Z"
   },
   {
    "duration": 119,
    "start_time": "2022-04-13T15:59:12.935Z"
   },
   {
    "duration": 47,
    "start_time": "2022-04-13T15:59:13.056Z"
   },
   {
    "duration": 12,
    "start_time": "2022-04-13T15:59:13.124Z"
   },
   {
    "duration": 35,
    "start_time": "2022-04-13T15:59:13.138Z"
   },
   {
    "duration": 10,
    "start_time": "2022-04-13T15:59:13.175Z"
   },
   {
    "duration": 62,
    "start_time": "2022-04-13T15:59:13.188Z"
   },
   {
    "duration": 19,
    "start_time": "2022-04-13T15:59:13.252Z"
   },
   {
    "duration": 8,
    "start_time": "2022-04-13T15:59:13.273Z"
   },
   {
    "duration": 842,
    "start_time": "2022-04-13T15:59:13.285Z"
   },
   {
    "duration": 6,
    "start_time": "2022-04-13T15:59:14.131Z"
   },
   {
    "duration": 86,
    "start_time": "2022-04-13T15:59:14.140Z"
   },
   {
    "duration": 758,
    "start_time": "2022-04-13T15:59:14.229Z"
   },
   {
    "duration": 56,
    "start_time": "2022-04-13T15:59:14.990Z"
   },
   {
    "duration": 1904,
    "start_time": "2022-04-13T15:59:15.049Z"
   },
   {
    "duration": 0,
    "start_time": "2022-04-13T15:59:16.956Z"
   },
   {
    "duration": 0,
    "start_time": "2022-04-13T15:59:16.957Z"
   },
   {
    "duration": 7,
    "start_time": "2022-04-13T15:59:48.568Z"
   },
   {
    "duration": 5,
    "start_time": "2022-04-13T16:00:09.894Z"
   },
   {
    "duration": 33,
    "start_time": "2022-04-13T16:00:10.276Z"
   },
   {
    "duration": 2122,
    "start_time": "2022-04-13T16:00:10.462Z"
   },
   {
    "duration": 0,
    "start_time": "2022-04-13T16:00:12.587Z"
   },
   {
    "duration": 5,
    "start_time": "2022-04-13T16:00:23.968Z"
   },
   {
    "duration": 593,
    "start_time": "2022-04-13T16:00:23.975Z"
   },
   {
    "duration": 806,
    "start_time": "2022-04-13T16:00:24.571Z"
   },
   {
    "duration": 1110,
    "start_time": "2022-04-13T16:00:25.380Z"
   },
   {
    "duration": 154,
    "start_time": "2022-04-13T16:00:26.493Z"
   },
   {
    "duration": 466,
    "start_time": "2022-04-13T16:00:26.651Z"
   },
   {
    "duration": 413,
    "start_time": "2022-04-13T16:00:27.120Z"
   },
   {
    "duration": 14,
    "start_time": "2022-04-13T16:00:27.536Z"
   },
   {
    "duration": 100,
    "start_time": "2022-04-13T16:00:27.552Z"
   },
   {
    "duration": 5,
    "start_time": "2022-04-13T16:00:27.656Z"
   },
   {
    "duration": 412,
    "start_time": "2022-04-13T16:00:27.664Z"
   },
   {
    "duration": 109,
    "start_time": "2022-04-13T16:00:28.080Z"
   },
   {
    "duration": 123,
    "start_time": "2022-04-13T16:00:28.191Z"
   },
   {
    "duration": 77,
    "start_time": "2022-04-13T16:00:28.316Z"
   },
   {
    "duration": 107,
    "start_time": "2022-04-13T16:00:28.395Z"
   },
   {
    "duration": 53,
    "start_time": "2022-04-13T16:00:28.505Z"
   },
   {
    "duration": 113,
    "start_time": "2022-04-13T16:00:28.561Z"
   },
   {
    "duration": 60,
    "start_time": "2022-04-13T16:00:28.677Z"
   },
   {
    "duration": 123,
    "start_time": "2022-04-13T16:00:28.739Z"
   },
   {
    "duration": 65,
    "start_time": "2022-04-13T16:00:28.865Z"
   },
   {
    "duration": 12,
    "start_time": "2022-04-13T16:00:28.933Z"
   },
   {
    "duration": 56,
    "start_time": "2022-04-13T16:00:28.947Z"
   },
   {
    "duration": 24,
    "start_time": "2022-04-13T16:00:29.006Z"
   },
   {
    "duration": 86,
    "start_time": "2022-04-13T16:00:29.034Z"
   },
   {
    "duration": 19,
    "start_time": "2022-04-13T16:00:29.123Z"
   },
   {
    "duration": 32,
    "start_time": "2022-04-13T16:00:29.145Z"
   },
   {
    "duration": 613,
    "start_time": "2022-04-13T16:00:29.179Z"
   },
   {
    "duration": 5,
    "start_time": "2022-04-13T16:00:29.797Z"
   },
   {
    "duration": 68,
    "start_time": "2022-04-13T16:00:29.804Z"
   },
   {
    "duration": 787,
    "start_time": "2022-04-13T16:00:29.876Z"
   },
   {
    "duration": 35,
    "start_time": "2022-04-13T16:00:30.666Z"
   },
   {
    "duration": 2441,
    "start_time": "2022-04-13T16:00:30.725Z"
   },
   {
    "duration": 0,
    "start_time": "2022-04-13T16:00:33.169Z"
   },
   {
    "duration": 0,
    "start_time": "2022-04-13T16:00:33.170Z"
   },
   {
    "duration": 5,
    "start_time": "2022-04-13T16:03:05.177Z"
   },
   {
    "duration": 536,
    "start_time": "2022-04-13T16:03:06.020Z"
   },
   {
    "duration": 6,
    "start_time": "2022-04-13T16:03:10.156Z"
   },
   {
    "duration": 611,
    "start_time": "2022-04-13T16:03:10.166Z"
   },
   {
    "duration": 1156,
    "start_time": "2022-04-13T16:03:10.780Z"
   },
   {
    "duration": 981,
    "start_time": "2022-04-13T16:03:11.939Z"
   },
   {
    "duration": 134,
    "start_time": "2022-04-13T16:03:12.926Z"
   },
   {
    "duration": 427,
    "start_time": "2022-04-13T16:03:13.062Z"
   },
   {
    "duration": 411,
    "start_time": "2022-04-13T16:03:13.492Z"
   },
   {
    "duration": 18,
    "start_time": "2022-04-13T16:03:13.906Z"
   },
   {
    "duration": 76,
    "start_time": "2022-04-13T16:03:13.927Z"
   },
   {
    "duration": 25,
    "start_time": "2022-04-13T16:03:14.005Z"
   },
   {
    "duration": 361,
    "start_time": "2022-04-13T16:03:14.032Z"
   },
   {
    "duration": 100,
    "start_time": "2022-04-13T16:03:14.396Z"
   },
   {
    "duration": 112,
    "start_time": "2022-04-13T16:03:14.498Z"
   },
   {
    "duration": 54,
    "start_time": "2022-04-13T16:03:14.616Z"
   },
   {
    "duration": 117,
    "start_time": "2022-04-13T16:03:14.674Z"
   },
   {
    "duration": 58,
    "start_time": "2022-04-13T16:03:14.794Z"
   },
   {
    "duration": 103,
    "start_time": "2022-04-13T16:03:14.854Z"
   },
   {
    "duration": 67,
    "start_time": "2022-04-13T16:03:14.959Z"
   },
   {
    "duration": 121,
    "start_time": "2022-04-13T16:03:15.028Z"
   },
   {
    "duration": 47,
    "start_time": "2022-04-13T16:03:15.151Z"
   },
   {
    "duration": 38,
    "start_time": "2022-04-13T16:03:15.201Z"
   },
   {
    "duration": 30,
    "start_time": "2022-04-13T16:03:15.241Z"
   },
   {
    "duration": 12,
    "start_time": "2022-04-13T16:03:15.274Z"
   },
   {
    "duration": 79,
    "start_time": "2022-04-13T16:03:15.289Z"
   },
   {
    "duration": 18,
    "start_time": "2022-04-13T16:03:15.371Z"
   },
   {
    "duration": 9,
    "start_time": "2022-04-13T16:03:15.391Z"
   },
   {
    "duration": 502,
    "start_time": "2022-04-13T16:03:15.424Z"
   },
   {
    "duration": 5,
    "start_time": "2022-04-13T16:03:15.929Z"
   },
   {
    "duration": 541,
    "start_time": "2022-04-13T16:03:15.937Z"
   },
   {
    "duration": 31,
    "start_time": "2022-04-13T16:03:16.480Z"
   },
   {
    "duration": 1793,
    "start_time": "2022-04-13T16:03:16.525Z"
   },
   {
    "duration": 0,
    "start_time": "2022-04-13T16:03:18.321Z"
   },
   {
    "duration": 33,
    "start_time": "2022-04-13T16:03:26.549Z"
   },
   {
    "duration": 7,
    "start_time": "2022-04-13T16:03:29.735Z"
   },
   {
    "duration": 676,
    "start_time": "2022-04-13T16:03:29.746Z"
   },
   {
    "duration": 1250,
    "start_time": "2022-04-13T16:03:30.425Z"
   },
   {
    "duration": 1549,
    "start_time": "2022-04-13T16:03:31.678Z"
   },
   {
    "duration": 228,
    "start_time": "2022-04-13T16:03:33.232Z"
   },
   {
    "duration": 456,
    "start_time": "2022-04-13T16:03:33.463Z"
   },
   {
    "duration": 390,
    "start_time": "2022-04-13T16:03:33.925Z"
   },
   {
    "duration": 12,
    "start_time": "2022-04-13T16:03:34.326Z"
   },
   {
    "duration": 100,
    "start_time": "2022-04-13T16:03:34.340Z"
   },
   {
    "duration": 7,
    "start_time": "2022-04-13T16:03:34.442Z"
   },
   {
    "duration": 375,
    "start_time": "2022-04-13T16:03:34.452Z"
   },
   {
    "duration": 103,
    "start_time": "2022-04-13T16:03:34.829Z"
   },
   {
    "duration": 119,
    "start_time": "2022-04-13T16:03:34.935Z"
   },
   {
    "duration": 68,
    "start_time": "2022-04-13T16:03:35.060Z"
   },
   {
    "duration": 102,
    "start_time": "2022-04-13T16:03:35.132Z"
   },
   {
    "duration": 41,
    "start_time": "2022-04-13T16:03:35.237Z"
   },
   {
    "duration": 122,
    "start_time": "2022-04-13T16:03:35.281Z"
   },
   {
    "duration": 53,
    "start_time": "2022-04-13T16:03:35.405Z"
   },
   {
    "duration": 128,
    "start_time": "2022-04-13T16:03:35.461Z"
   },
   {
    "duration": 61,
    "start_time": "2022-04-13T16:03:35.592Z"
   },
   {
    "duration": 12,
    "start_time": "2022-04-13T16:03:35.656Z"
   },
   {
    "duration": 28,
    "start_time": "2022-04-13T16:03:35.671Z"
   },
   {
    "duration": 6,
    "start_time": "2022-04-13T16:03:35.724Z"
   },
   {
    "duration": 36,
    "start_time": "2022-04-13T16:03:35.733Z"
   },
   {
    "duration": 18,
    "start_time": "2022-04-13T16:03:35.772Z"
   },
   {
    "duration": 4,
    "start_time": "2022-04-13T16:03:35.826Z"
   },
   {
    "duration": 504,
    "start_time": "2022-04-13T16:03:35.833Z"
   },
   {
    "duration": 43,
    "start_time": "2022-04-13T16:03:36.339Z"
   },
   {
    "duration": 6,
    "start_time": "2022-04-13T16:03:36.384Z"
   },
   {
    "duration": 525,
    "start_time": "2022-04-13T16:03:36.424Z"
   },
   {
    "duration": 31,
    "start_time": "2022-04-13T16:03:36.952Z"
   },
   {
    "duration": 2255,
    "start_time": "2022-04-13T16:03:36.985Z"
   },
   {
    "duration": 0,
    "start_time": "2022-04-13T16:03:39.242Z"
   },
   {
    "duration": 1749,
    "start_time": "2022-04-13T16:04:28.904Z"
   },
   {
    "duration": 18,
    "start_time": "2022-04-13T16:13:28.812Z"
   },
   {
    "duration": 7,
    "start_time": "2022-04-13T16:13:32.910Z"
   },
   {
    "duration": 805,
    "start_time": "2022-04-13T16:13:32.921Z"
   },
   {
    "duration": 859,
    "start_time": "2022-04-13T16:13:33.729Z"
   },
   {
    "duration": 1000,
    "start_time": "2022-04-13T16:13:34.593Z"
   },
   {
    "duration": 153,
    "start_time": "2022-04-13T16:13:35.596Z"
   },
   {
    "duration": 427,
    "start_time": "2022-04-13T16:13:35.751Z"
   },
   {
    "duration": 530,
    "start_time": "2022-04-13T16:13:36.181Z"
   },
   {
    "duration": 15,
    "start_time": "2022-04-13T16:13:36.714Z"
   },
   {
    "duration": 100,
    "start_time": "2022-04-13T16:13:36.732Z"
   },
   {
    "duration": 7,
    "start_time": "2022-04-13T16:13:36.836Z"
   },
   {
    "duration": 517,
    "start_time": "2022-04-13T16:13:36.846Z"
   },
   {
    "duration": 106,
    "start_time": "2022-04-13T16:13:37.366Z"
   },
   {
    "duration": 118,
    "start_time": "2022-04-13T16:13:37.475Z"
   },
   {
    "duration": 67,
    "start_time": "2022-04-13T16:13:37.595Z"
   },
   {
    "duration": 170,
    "start_time": "2022-04-13T16:13:37.665Z"
   },
   {
    "duration": 62,
    "start_time": "2022-04-13T16:13:37.838Z"
   },
   {
    "duration": 123,
    "start_time": "2022-04-13T16:13:37.903Z"
   },
   {
    "duration": 52,
    "start_time": "2022-04-13T16:13:38.029Z"
   },
   {
    "duration": 142,
    "start_time": "2022-04-13T16:13:38.084Z"
   },
   {
    "duration": 49,
    "start_time": "2022-04-13T16:13:38.228Z"
   },
   {
    "duration": 13,
    "start_time": "2022-04-13T16:13:38.279Z"
   },
   {
    "duration": 21,
    "start_time": "2022-04-13T16:13:38.324Z"
   },
   {
    "duration": 49,
    "start_time": "2022-04-13T16:13:38.348Z"
   },
   {
    "duration": 28,
    "start_time": "2022-04-13T16:13:38.400Z"
   },
   {
    "duration": 45,
    "start_time": "2022-04-13T16:13:38.430Z"
   },
   {
    "duration": 19,
    "start_time": "2022-04-13T16:13:38.477Z"
   },
   {
    "duration": 58,
    "start_time": "2022-04-13T16:13:38.525Z"
   },
   {
    "duration": 57,
    "start_time": "2022-04-13T16:13:38.591Z"
   },
   {
    "duration": 26,
    "start_time": "2022-04-13T16:13:38.651Z"
   },
   {
    "duration": 27,
    "start_time": "2022-04-13T16:13:54.810Z"
   },
   {
    "duration": 10,
    "start_time": "2022-04-13T16:14:13.461Z"
   },
   {
    "duration": 21,
    "start_time": "2022-04-13T16:14:35.497Z"
   },
   {
    "duration": 5,
    "start_time": "2022-04-13T16:14:50.818Z"
   },
   {
    "duration": 574,
    "start_time": "2022-04-13T16:14:50.826Z"
   },
   {
    "duration": 1530,
    "start_time": "2022-04-13T16:14:51.403Z"
   },
   {
    "duration": 1425,
    "start_time": "2022-04-13T16:14:52.938Z"
   },
   {
    "duration": 137,
    "start_time": "2022-04-13T16:14:54.366Z"
   },
   {
    "duration": 387,
    "start_time": "2022-04-13T16:14:54.525Z"
   },
   {
    "duration": 384,
    "start_time": "2022-04-13T16:14:54.914Z"
   },
   {
    "duration": 10,
    "start_time": "2022-04-13T16:14:55.301Z"
   },
   {
    "duration": 76,
    "start_time": "2022-04-13T16:14:55.325Z"
   },
   {
    "duration": 23,
    "start_time": "2022-04-13T16:14:55.407Z"
   },
   {
    "duration": 376,
    "start_time": "2022-04-13T16:14:55.433Z"
   },
   {
    "duration": 192,
    "start_time": "2022-04-13T16:14:55.811Z"
   },
   {
    "duration": 150,
    "start_time": "2022-04-13T16:14:56.005Z"
   },
   {
    "duration": 88,
    "start_time": "2022-04-13T16:14:56.158Z"
   },
   {
    "duration": 191,
    "start_time": "2022-04-13T16:14:56.249Z"
   },
   {
    "duration": 63,
    "start_time": "2022-04-13T16:14:56.442Z"
   },
   {
    "duration": 181,
    "start_time": "2022-04-13T16:14:56.526Z"
   },
   {
    "duration": 79,
    "start_time": "2022-04-13T16:14:56.710Z"
   },
   {
    "duration": 148,
    "start_time": "2022-04-13T16:14:56.792Z"
   },
   {
    "duration": 46,
    "start_time": "2022-04-13T16:14:56.943Z"
   },
   {
    "duration": 35,
    "start_time": "2022-04-13T16:14:56.991Z"
   },
   {
    "duration": 28,
    "start_time": "2022-04-13T16:14:57.028Z"
   },
   {
    "duration": 129,
    "start_time": "2022-04-13T16:14:57.059Z"
   },
   {
    "duration": 0,
    "start_time": "2022-04-13T16:14:57.191Z"
   },
   {
    "duration": 0,
    "start_time": "2022-04-13T16:14:57.193Z"
   },
   {
    "duration": 0,
    "start_time": "2022-04-13T16:14:57.196Z"
   },
   {
    "duration": 0,
    "start_time": "2022-04-13T16:14:57.199Z"
   },
   {
    "duration": 0,
    "start_time": "2022-04-13T16:14:57.201Z"
   },
   {
    "duration": 0,
    "start_time": "2022-04-13T16:14:57.203Z"
   },
   {
    "duration": 32,
    "start_time": "2022-04-13T16:15:00.876Z"
   },
   {
    "duration": 23,
    "start_time": "2022-04-13T16:15:23.748Z"
   },
   {
    "duration": 1934,
    "start_time": "2022-04-13T16:29:08.943Z"
   },
   {
    "duration": 591,
    "start_time": "2022-04-13T16:29:10.880Z"
   },
   {
    "duration": 411,
    "start_time": "2022-04-13T16:29:11.473Z"
   },
   {
    "duration": 829,
    "start_time": "2022-04-13T16:29:11.886Z"
   },
   {
    "duration": 126,
    "start_time": "2022-04-13T16:29:12.728Z"
   },
   {
    "duration": 380,
    "start_time": "2022-04-13T16:29:12.857Z"
   },
   {
    "duration": 356,
    "start_time": "2022-04-13T16:29:13.240Z"
   },
   {
    "duration": 12,
    "start_time": "2022-04-13T16:29:13.599Z"
   },
   {
    "duration": 76,
    "start_time": "2022-04-13T16:29:13.626Z"
   },
   {
    "duration": 23,
    "start_time": "2022-04-13T16:29:13.704Z"
   },
   {
    "duration": 381,
    "start_time": "2022-04-13T16:29:13.730Z"
   },
   {
    "duration": 205,
    "start_time": "2022-04-13T16:29:14.114Z"
   },
   {
    "duration": 160,
    "start_time": "2022-04-13T16:29:14.321Z"
   },
   {
    "duration": 78,
    "start_time": "2022-04-13T16:29:14.487Z"
   },
   {
    "duration": 112,
    "start_time": "2022-04-13T16:29:14.567Z"
   },
   {
    "duration": 55,
    "start_time": "2022-04-13T16:29:14.682Z"
   },
   {
    "duration": 131,
    "start_time": "2022-04-13T16:29:14.739Z"
   },
   {
    "duration": 99,
    "start_time": "2022-04-13T16:29:14.874Z"
   },
   {
    "duration": 363,
    "start_time": "2022-04-13T16:29:14.977Z"
   },
   {
    "duration": 101,
    "start_time": "2022-04-13T16:29:15.344Z"
   },
   {
    "duration": 13,
    "start_time": "2022-04-13T16:29:15.448Z"
   },
   {
    "duration": 29,
    "start_time": "2022-04-13T16:29:15.463Z"
   },
   {
    "duration": 35,
    "start_time": "2022-04-13T16:29:15.494Z"
   },
   {
    "duration": 38,
    "start_time": "2022-04-13T16:29:15.531Z"
   },
   {
    "duration": 19,
    "start_time": "2022-04-13T16:29:15.571Z"
   },
   {
    "duration": 60,
    "start_time": "2022-04-13T16:29:15.593Z"
   },
   {
    "duration": 33,
    "start_time": "2022-04-13T16:29:15.656Z"
   },
   {
    "duration": 40,
    "start_time": "2022-04-13T16:29:15.692Z"
   },
   {
    "duration": 17,
    "start_time": "2022-04-13T16:29:37.346Z"
   },
   {
    "duration": 5,
    "start_time": "2022-04-13T16:31:00.994Z"
   },
   {
    "duration": 315,
    "start_time": "2022-04-13T16:31:14.443Z"
   },
   {
    "duration": 165,
    "start_time": "2022-04-13T16:31:32.980Z"
   },
   {
    "duration": 13,
    "start_time": "2022-04-13T16:32:36.590Z"
   },
   {
    "duration": 14,
    "start_time": "2022-04-13T16:32:39.776Z"
   },
   {
    "duration": 5,
    "start_time": "2022-04-13T16:32:47.853Z"
   },
   {
    "duration": 17,
    "start_time": "2022-04-13T16:32:48.444Z"
   },
   {
    "duration": 327,
    "start_time": "2022-04-13T16:32:51.199Z"
   },
   {
    "duration": 8,
    "start_time": "2022-04-13T16:32:56.398Z"
   },
   {
    "duration": 709,
    "start_time": "2022-04-13T16:32:56.409Z"
   },
   {
    "duration": 482,
    "start_time": "2022-04-13T16:32:57.120Z"
   },
   {
    "duration": 900,
    "start_time": "2022-04-13T16:32:57.605Z"
   },
   {
    "duration": 138,
    "start_time": "2022-04-13T16:32:58.507Z"
   },
   {
    "duration": 428,
    "start_time": "2022-04-13T16:32:58.648Z"
   },
   {
    "duration": 628,
    "start_time": "2022-04-13T16:32:59.079Z"
   },
   {
    "duration": 26,
    "start_time": "2022-04-13T16:32:59.710Z"
   },
   {
    "duration": 127,
    "start_time": "2022-04-13T16:32:59.740Z"
   },
   {
    "duration": 7,
    "start_time": "2022-04-13T16:32:59.874Z"
   },
   {
    "duration": 381,
    "start_time": "2022-04-13T16:32:59.883Z"
   },
   {
    "duration": 209,
    "start_time": "2022-04-13T16:33:00.267Z"
   },
   {
    "duration": 160,
    "start_time": "2022-04-13T16:33:00.479Z"
   },
   {
    "duration": 50,
    "start_time": "2022-04-13T16:33:00.641Z"
   },
   {
    "duration": 137,
    "start_time": "2022-04-13T16:33:00.693Z"
   },
   {
    "duration": 41,
    "start_time": "2022-04-13T16:33:00.832Z"
   },
   {
    "duration": 134,
    "start_time": "2022-04-13T16:33:00.876Z"
   },
   {
    "duration": 57,
    "start_time": "2022-04-13T16:33:01.012Z"
   },
   {
    "duration": 242,
    "start_time": "2022-04-13T16:33:01.072Z"
   },
   {
    "duration": 49,
    "start_time": "2022-04-13T16:33:01.324Z"
   },
   {
    "duration": 13,
    "start_time": "2022-04-13T16:33:01.376Z"
   },
   {
    "duration": 74,
    "start_time": "2022-04-13T16:33:01.392Z"
   },
   {
    "duration": 8,
    "start_time": "2022-04-13T16:33:01.470Z"
   },
   {
    "duration": 81,
    "start_time": "2022-04-13T16:33:01.481Z"
   },
   {
    "duration": 20,
    "start_time": "2022-04-13T16:33:01.566Z"
   },
   {
    "duration": 6,
    "start_time": "2022-04-13T16:33:01.590Z"
   },
   {
    "duration": 484,
    "start_time": "2022-04-13T16:33:01.598Z"
   },
   {
    "duration": 51,
    "start_time": "2022-04-13T16:33:02.089Z"
   },
   {
    "duration": 41,
    "start_time": "2022-04-13T16:33:02.142Z"
   },
   {
    "duration": 25,
    "start_time": "2022-04-13T16:33:02.185Z"
   },
   {
    "duration": 301,
    "start_time": "2022-04-13T16:33:18.798Z"
   },
   {
    "duration": 5,
    "start_time": "2022-04-13T16:33:40.168Z"
   },
   {
    "duration": 524,
    "start_time": "2022-04-13T16:33:40.532Z"
   },
   {
    "duration": 5,
    "start_time": "2022-04-13T16:35:36.100Z"
   },
   {
    "duration": 300,
    "start_time": "2022-04-13T16:35:36.554Z"
   },
   {
    "duration": 5,
    "start_time": "2022-04-13T16:35:47.725Z"
   },
   {
    "duration": 618,
    "start_time": "2022-04-13T16:35:47.734Z"
   },
   {
    "duration": 460,
    "start_time": "2022-04-13T16:35:48.355Z"
   },
   {
    "duration": 917,
    "start_time": "2022-04-13T16:35:48.823Z"
   },
   {
    "duration": 138,
    "start_time": "2022-04-13T16:35:49.742Z"
   },
   {
    "duration": 452,
    "start_time": "2022-04-13T16:35:49.882Z"
   },
   {
    "duration": 414,
    "start_time": "2022-04-13T16:35:50.336Z"
   },
   {
    "duration": 13,
    "start_time": "2022-04-13T16:35:50.753Z"
   },
   {
    "duration": 107,
    "start_time": "2022-04-13T16:35:50.768Z"
   },
   {
    "duration": 6,
    "start_time": "2022-04-13T16:35:50.881Z"
   },
   {
    "duration": 368,
    "start_time": "2022-04-13T16:35:50.889Z"
   },
   {
    "duration": 222,
    "start_time": "2022-04-13T16:35:51.260Z"
   },
   {
    "duration": 157,
    "start_time": "2022-04-13T16:35:51.484Z"
   },
   {
    "duration": 50,
    "start_time": "2022-04-13T16:35:51.643Z"
   },
   {
    "duration": 132,
    "start_time": "2022-04-13T16:35:51.695Z"
   },
   {
    "duration": 41,
    "start_time": "2022-04-13T16:35:51.829Z"
   },
   {
    "duration": 156,
    "start_time": "2022-04-13T16:35:51.872Z"
   },
   {
    "duration": 61,
    "start_time": "2022-04-13T16:35:52.030Z"
   },
   {
    "duration": 161,
    "start_time": "2022-04-13T16:35:52.093Z"
   },
   {
    "duration": 45,
    "start_time": "2022-04-13T16:35:52.256Z"
   },
   {
    "duration": 12,
    "start_time": "2022-04-13T16:35:52.324Z"
   },
   {
    "duration": 29,
    "start_time": "2022-04-13T16:35:52.338Z"
   },
   {
    "duration": 5,
    "start_time": "2022-04-13T16:35:52.370Z"
   },
   {
    "duration": 71,
    "start_time": "2022-04-13T16:35:52.378Z"
   },
   {
    "duration": 13,
    "start_time": "2022-04-13T16:35:52.451Z"
   },
   {
    "duration": 8,
    "start_time": "2022-04-13T16:35:52.467Z"
   },
   {
    "duration": 514,
    "start_time": "2022-04-13T16:35:52.477Z"
   },
   {
    "duration": 49,
    "start_time": "2022-04-13T16:35:52.996Z"
   },
   {
    "duration": 36,
    "start_time": "2022-04-13T16:35:53.047Z"
   },
   {
    "duration": 45,
    "start_time": "2022-04-13T16:35:53.085Z"
   },
   {
    "duration": 5,
    "start_time": "2022-04-13T16:36:31.768Z"
   },
   {
    "duration": 600,
    "start_time": "2022-04-13T16:36:32.177Z"
   },
   {
    "duration": 5,
    "start_time": "2022-04-13T16:36:35.046Z"
   },
   {
    "duration": 623,
    "start_time": "2022-04-13T16:36:35.054Z"
   },
   {
    "duration": 589,
    "start_time": "2022-04-13T16:36:35.679Z"
   },
   {
    "duration": 962,
    "start_time": "2022-04-13T16:36:36.274Z"
   },
   {
    "duration": 138,
    "start_time": "2022-04-13T16:36:37.238Z"
   },
   {
    "duration": 423,
    "start_time": "2022-04-13T16:36:37.379Z"
   },
   {
    "duration": 389,
    "start_time": "2022-04-13T16:36:37.805Z"
   },
   {
    "duration": 13,
    "start_time": "2022-04-13T16:36:38.196Z"
   },
   {
    "duration": 77,
    "start_time": "2022-04-13T16:36:38.225Z"
   },
   {
    "duration": 22,
    "start_time": "2022-04-13T16:36:38.307Z"
   },
   {
    "duration": 368,
    "start_time": "2022-04-13T16:36:38.332Z"
   },
   {
    "duration": 201,
    "start_time": "2022-04-13T16:36:38.702Z"
   },
   {
    "duration": 148,
    "start_time": "2022-04-13T16:36:38.905Z"
   },
   {
    "duration": 50,
    "start_time": "2022-04-13T16:36:39.055Z"
   },
   {
    "duration": 129,
    "start_time": "2022-04-13T16:36:39.108Z"
   },
   {
    "duration": 41,
    "start_time": "2022-04-13T16:36:39.239Z"
   },
   {
    "duration": 134,
    "start_time": "2022-04-13T16:36:39.282Z"
   },
   {
    "duration": 50,
    "start_time": "2022-04-13T16:36:39.419Z"
   },
   {
    "duration": 157,
    "start_time": "2022-04-13T16:36:39.472Z"
   },
   {
    "duration": 46,
    "start_time": "2022-04-13T16:36:39.631Z"
   },
   {
    "duration": 43,
    "start_time": "2022-04-13T16:36:39.680Z"
   },
   {
    "duration": 28,
    "start_time": "2022-04-13T16:36:39.726Z"
   },
   {
    "duration": 13,
    "start_time": "2022-04-13T16:36:39.756Z"
   },
   {
    "duration": 55,
    "start_time": "2022-04-13T16:36:39.772Z"
   },
   {
    "duration": 15,
    "start_time": "2022-04-13T16:36:39.829Z"
   },
   {
    "duration": 6,
    "start_time": "2022-04-13T16:36:39.847Z"
   },
   {
    "duration": 529,
    "start_time": "2022-04-13T16:36:39.857Z"
   },
   {
    "duration": 57,
    "start_time": "2022-04-13T16:36:40.390Z"
   },
   {
    "duration": 52,
    "start_time": "2022-04-13T16:36:40.450Z"
   },
   {
    "duration": 41,
    "start_time": "2022-04-13T16:36:40.505Z"
   },
   {
    "duration": 7,
    "start_time": "2022-04-13T16:36:53.750Z"
   },
   {
    "duration": 647,
    "start_time": "2022-04-13T16:36:54.129Z"
   },
   {
    "duration": 5,
    "start_time": "2022-04-13T16:37:12.666Z"
   },
   {
    "duration": 6,
    "start_time": "2022-04-13T16:37:13.959Z"
   },
   {
    "duration": 509,
    "start_time": "2022-04-13T16:37:14.278Z"
   },
   {
    "duration": 4,
    "start_time": "2022-04-13T16:37:42.365Z"
   },
   {
    "duration": 523,
    "start_time": "2022-04-13T16:37:42.665Z"
   },
   {
    "duration": 8,
    "start_time": "2022-04-13T16:37:46.571Z"
   },
   {
    "duration": 613,
    "start_time": "2022-04-13T16:37:46.581Z"
   },
   {
    "duration": 677,
    "start_time": "2022-04-13T16:37:47.196Z"
   },
   {
    "duration": 934,
    "start_time": "2022-04-13T16:37:47.875Z"
   },
   {
    "duration": 148,
    "start_time": "2022-04-13T16:37:48.813Z"
   },
   {
    "duration": 474,
    "start_time": "2022-04-13T16:37:48.964Z"
   },
   {
    "duration": 448,
    "start_time": "2022-04-13T16:37:49.440Z"
   },
   {
    "duration": 13,
    "start_time": "2022-04-13T16:37:49.891Z"
   },
   {
    "duration": 138,
    "start_time": "2022-04-13T16:37:49.924Z"
   },
   {
    "duration": 7,
    "start_time": "2022-04-13T16:37:50.065Z"
   },
   {
    "duration": 369,
    "start_time": "2022-04-13T16:37:50.075Z"
   },
   {
    "duration": 316,
    "start_time": "2022-04-13T16:37:50.447Z"
   },
   {
    "duration": 153,
    "start_time": "2022-04-13T16:37:50.766Z"
   },
   {
    "duration": 49,
    "start_time": "2022-04-13T16:37:50.927Z"
   },
   {
    "duration": 125,
    "start_time": "2022-04-13T16:37:50.979Z"
   },
   {
    "duration": 51,
    "start_time": "2022-04-13T16:37:51.106Z"
   },
   {
    "duration": 156,
    "start_time": "2022-04-13T16:37:51.160Z"
   },
   {
    "duration": 74,
    "start_time": "2022-04-13T16:37:51.318Z"
   },
   {
    "duration": 157,
    "start_time": "2022-04-13T16:37:51.394Z"
   },
   {
    "duration": 45,
    "start_time": "2022-04-13T16:37:51.554Z"
   },
   {
    "duration": 29,
    "start_time": "2022-04-13T16:37:51.601Z"
   },
   {
    "duration": 35,
    "start_time": "2022-04-13T16:37:51.632Z"
   },
   {
    "duration": 16,
    "start_time": "2022-04-13T16:37:51.669Z"
   },
   {
    "duration": 53,
    "start_time": "2022-04-13T16:37:51.688Z"
   },
   {
    "duration": 18,
    "start_time": "2022-04-13T16:37:51.743Z"
   },
   {
    "duration": 6,
    "start_time": "2022-04-13T16:37:51.763Z"
   },
   {
    "duration": 519,
    "start_time": "2022-04-13T16:37:51.772Z"
   },
   {
    "duration": 46,
    "start_time": "2022-04-13T16:37:52.294Z"
   },
   {
    "duration": 32,
    "start_time": "2022-04-13T16:37:52.342Z"
   },
   {
    "duration": 49,
    "start_time": "2022-04-13T16:37:52.376Z"
   },
   {
    "duration": 122,
    "start_time": "2022-04-13T16:38:21.007Z"
   },
   {
    "duration": 533,
    "start_time": "2022-04-13T16:38:21.341Z"
   },
   {
    "duration": 5,
    "start_time": "2022-04-13T16:38:27.700Z"
   },
   {
    "duration": 46,
    "start_time": "2022-04-13T16:38:28.515Z"
   },
   {
    "duration": 9,
    "start_time": "2022-04-13T16:38:33.219Z"
   },
   {
    "duration": 649,
    "start_time": "2022-04-13T16:38:33.232Z"
   },
   {
    "duration": 703,
    "start_time": "2022-04-13T16:38:33.884Z"
   },
   {
    "duration": 1227,
    "start_time": "2022-04-13T16:38:34.589Z"
   },
   {
    "duration": 140,
    "start_time": "2022-04-13T16:38:35.825Z"
   },
   {
    "duration": 428,
    "start_time": "2022-04-13T16:38:35.968Z"
   },
   {
    "duration": 382,
    "start_time": "2022-04-13T16:38:36.399Z"
   },
   {
    "duration": 12,
    "start_time": "2022-04-13T16:38:36.784Z"
   },
   {
    "duration": 145,
    "start_time": "2022-04-13T16:38:36.799Z"
   },
   {
    "duration": 7,
    "start_time": "2022-04-13T16:38:36.946Z"
   },
   {
    "duration": 407,
    "start_time": "2022-04-13T16:38:36.957Z"
   },
   {
    "duration": 198,
    "start_time": "2022-04-13T16:38:37.366Z"
   },
   {
    "duration": 152,
    "start_time": "2022-04-13T16:38:37.567Z"
   },
   {
    "duration": 48,
    "start_time": "2022-04-13T16:38:37.723Z"
   },
   {
    "duration": 129,
    "start_time": "2022-04-13T16:38:37.773Z"
   },
   {
    "duration": 47,
    "start_time": "2022-04-13T16:38:37.904Z"
   },
   {
    "duration": 127,
    "start_time": "2022-04-13T16:38:37.953Z"
   },
   {
    "duration": 58,
    "start_time": "2022-04-13T16:38:38.083Z"
   },
   {
    "duration": 147,
    "start_time": "2022-04-13T16:38:38.143Z"
   },
   {
    "duration": 58,
    "start_time": "2022-04-13T16:38:38.292Z"
   },
   {
    "duration": 13,
    "start_time": "2022-04-13T16:38:38.352Z"
   },
   {
    "duration": 30,
    "start_time": "2022-04-13T16:38:38.368Z"
   },
   {
    "duration": 9,
    "start_time": "2022-04-13T16:38:38.426Z"
   },
   {
    "duration": 50,
    "start_time": "2022-04-13T16:38:38.438Z"
   },
   {
    "duration": 42,
    "start_time": "2022-04-13T16:38:38.491Z"
   },
   {
    "duration": 6,
    "start_time": "2022-04-13T16:38:38.536Z"
   },
   {
    "duration": 37,
    "start_time": "2022-04-13T16:38:38.545Z"
   },
   {
    "duration": 0,
    "start_time": "2022-04-13T16:38:38.585Z"
   },
   {
    "duration": 0,
    "start_time": "2022-04-13T16:38:38.588Z"
   },
   {
    "duration": 0,
    "start_time": "2022-04-13T16:38:38.590Z"
   },
   {
    "duration": 5,
    "start_time": "2022-04-13T16:39:22.940Z"
   },
   {
    "duration": 493,
    "start_time": "2022-04-13T16:39:23.444Z"
   },
   {
    "duration": 5,
    "start_time": "2022-04-13T16:40:51.256Z"
   },
   {
    "duration": 23,
    "start_time": "2022-04-13T16:40:51.707Z"
   },
   {
    "duration": 5,
    "start_time": "2022-04-13T16:40:58.778Z"
   },
   {
    "duration": 626,
    "start_time": "2022-04-13T16:40:58.786Z"
   },
   {
    "duration": 612,
    "start_time": "2022-04-13T16:40:59.414Z"
   },
   {
    "duration": 932,
    "start_time": "2022-04-13T16:41:00.030Z"
   },
   {
    "duration": 139,
    "start_time": "2022-04-13T16:41:00.964Z"
   },
   {
    "duration": 422,
    "start_time": "2022-04-13T16:41:01.124Z"
   },
   {
    "duration": 417,
    "start_time": "2022-04-13T16:41:01.548Z"
   },
   {
    "duration": 10,
    "start_time": "2022-04-13T16:41:01.968Z"
   },
   {
    "duration": 116,
    "start_time": "2022-04-13T16:41:01.980Z"
   },
   {
    "duration": 5,
    "start_time": "2022-04-13T16:41:02.100Z"
   },
   {
    "duration": 370,
    "start_time": "2022-04-13T16:41:02.108Z"
   },
   {
    "duration": 206,
    "start_time": "2022-04-13T16:41:02.480Z"
   },
   {
    "duration": 155,
    "start_time": "2022-04-13T16:41:02.688Z"
   },
   {
    "duration": 97,
    "start_time": "2022-04-13T16:41:02.846Z"
   },
   {
    "duration": 234,
    "start_time": "2022-04-13T16:41:02.946Z"
   },
   {
    "duration": 90,
    "start_time": "2022-04-13T16:41:03.183Z"
   },
   {
    "duration": 124,
    "start_time": "2022-04-13T16:41:03.276Z"
   },
   {
    "duration": 57,
    "start_time": "2022-04-13T16:41:03.402Z"
   },
   {
    "duration": 253,
    "start_time": "2022-04-13T16:41:03.461Z"
   },
   {
    "duration": 48,
    "start_time": "2022-04-13T16:41:03.725Z"
   },
   {
    "duration": 12,
    "start_time": "2022-04-13T16:41:03.776Z"
   },
   {
    "duration": 57,
    "start_time": "2022-04-13T16:41:03.790Z"
   },
   {
    "duration": 12,
    "start_time": "2022-04-13T16:41:03.849Z"
   },
   {
    "duration": 52,
    "start_time": "2022-04-13T16:41:03.863Z"
   },
   {
    "duration": 26,
    "start_time": "2022-04-13T16:41:03.918Z"
   },
   {
    "duration": 10,
    "start_time": "2022-04-13T16:41:03.948Z"
   },
   {
    "duration": 67,
    "start_time": "2022-04-13T16:41:03.961Z"
   },
   {
    "duration": 0,
    "start_time": "2022-04-13T16:41:04.032Z"
   },
   {
    "duration": 0,
    "start_time": "2022-04-13T16:41:04.035Z"
   },
   {
    "duration": 0,
    "start_time": "2022-04-13T16:41:04.037Z"
   },
   {
    "duration": 6,
    "start_time": "2022-04-13T16:41:11.812Z"
   },
   {
    "duration": 788,
    "start_time": "2022-04-13T16:41:12.254Z"
   },
   {
    "duration": 496,
    "start_time": "2022-04-13T16:41:21.058Z"
   },
   {
    "duration": 15,
    "start_time": "2022-04-13T16:43:47.836Z"
   },
   {
    "duration": 10,
    "start_time": "2022-04-13T16:44:07.772Z"
   },
   {
    "duration": 15,
    "start_time": "2022-04-13T16:46:40.740Z"
   },
   {
    "duration": 11,
    "start_time": "2022-04-13T16:46:44.430Z"
   },
   {
    "duration": 13,
    "start_time": "2022-04-13T16:46:55.146Z"
   },
   {
    "duration": 15,
    "start_time": "2022-04-13T16:47:06.059Z"
   },
   {
    "duration": 66,
    "start_time": "2022-04-13T16:47:06.619Z"
   },
   {
    "duration": 13,
    "start_time": "2022-04-13T16:47:19.580Z"
   },
   {
    "duration": 11,
    "start_time": "2022-04-13T16:47:19.981Z"
   },
   {
    "duration": 7,
    "start_time": "2022-04-13T17:25:36.818Z"
   },
   {
    "duration": 1029,
    "start_time": "2022-04-13T17:25:36.829Z"
   },
   {
    "duration": 479,
    "start_time": "2022-04-13T17:25:37.861Z"
   },
   {
    "duration": 966,
    "start_time": "2022-04-13T17:25:38.343Z"
   },
   {
    "duration": 168,
    "start_time": "2022-04-13T17:25:39.312Z"
   },
   {
    "duration": 517,
    "start_time": "2022-04-13T17:25:39.482Z"
   },
   {
    "duration": 476,
    "start_time": "2022-04-13T17:25:40.002Z"
   },
   {
    "duration": 14,
    "start_time": "2022-04-13T17:25:40.480Z"
   },
   {
    "duration": 107,
    "start_time": "2022-04-13T17:25:40.496Z"
   },
   {
    "duration": 6,
    "start_time": "2022-04-13T17:25:40.606Z"
   },
   {
    "duration": 368,
    "start_time": "2022-04-13T17:25:40.626Z"
   },
   {
    "duration": 228,
    "start_time": "2022-04-13T17:25:40.997Z"
   },
   {
    "duration": 161,
    "start_time": "2022-04-13T17:25:41.228Z"
   },
   {
    "duration": 58,
    "start_time": "2022-04-13T17:25:41.395Z"
   },
   {
    "duration": 125,
    "start_time": "2022-04-13T17:25:41.455Z"
   },
   {
    "duration": 58,
    "start_time": "2022-04-13T17:25:41.583Z"
   },
   {
    "duration": 149,
    "start_time": "2022-04-13T17:25:41.643Z"
   },
   {
    "duration": 79,
    "start_time": "2022-04-13T17:25:41.794Z"
   },
   {
    "duration": 153,
    "start_time": "2022-04-13T17:25:41.875Z"
   },
   {
    "duration": 48,
    "start_time": "2022-04-13T17:25:42.030Z"
   },
   {
    "duration": 13,
    "start_time": "2022-04-13T17:25:42.080Z"
   },
   {
    "duration": 29,
    "start_time": "2022-04-13T17:25:42.124Z"
   },
   {
    "duration": 11,
    "start_time": "2022-04-13T17:25:42.156Z"
   },
   {
    "duration": 62,
    "start_time": "2022-04-13T17:25:42.169Z"
   },
   {
    "duration": 17,
    "start_time": "2022-04-13T17:25:42.234Z"
   },
   {
    "duration": 12,
    "start_time": "2022-04-13T17:25:42.254Z"
   },
   {
    "duration": 5,
    "start_time": "2022-04-13T17:25:42.269Z"
   },
   {
    "duration": 59,
    "start_time": "2022-04-13T17:25:42.276Z"
   },
   {
    "duration": 71,
    "start_time": "2022-04-13T17:25:42.338Z"
   },
   {
    "duration": 64,
    "start_time": "2022-04-13T17:25:42.412Z"
   },
   {
    "duration": 66,
    "start_time": "2022-04-13T17:25:42.480Z"
   },
   {
    "duration": 67,
    "start_time": "2022-04-13T17:27:03.122Z"
   },
   {
    "duration": 34,
    "start_time": "2022-04-13T17:27:20.584Z"
   },
   {
    "duration": 22,
    "start_time": "2022-04-13T17:27:57.741Z"
   },
   {
    "duration": 22,
    "start_time": "2022-04-13T17:28:11.589Z"
   },
   {
    "duration": 6,
    "start_time": "2022-04-13T17:28:13.509Z"
   },
   {
    "duration": 733,
    "start_time": "2022-04-13T17:28:13.518Z"
   },
   {
    "duration": 988,
    "start_time": "2022-04-13T17:28:14.254Z"
   },
   {
    "duration": 1125,
    "start_time": "2022-04-13T17:28:15.246Z"
   },
   {
    "duration": 151,
    "start_time": "2022-04-13T17:28:16.375Z"
   },
   {
    "duration": 734,
    "start_time": "2022-04-13T17:28:16.529Z"
   },
   {
    "duration": 530,
    "start_time": "2022-04-13T17:28:17.267Z"
   },
   {
    "duration": 25,
    "start_time": "2022-04-13T17:28:17.800Z"
   },
   {
    "duration": 77,
    "start_time": "2022-04-13T17:28:17.828Z"
   },
   {
    "duration": 6,
    "start_time": "2022-04-13T17:28:17.924Z"
   },
   {
    "duration": 371,
    "start_time": "2022-04-13T17:28:17.932Z"
   },
   {
    "duration": 272,
    "start_time": "2022-04-13T17:28:18.306Z"
   },
   {
    "duration": 57,
    "start_time": "2022-04-13T17:28:18.582Z"
   },
   {
    "duration": 20,
    "start_time": "2022-04-13T17:28:18.643Z"
   },
   {
    "duration": 0,
    "start_time": "2022-04-13T17:28:18.667Z"
   },
   {
    "duration": 0,
    "start_time": "2022-04-13T17:28:18.670Z"
   },
   {
    "duration": 0,
    "start_time": "2022-04-13T17:28:18.673Z"
   },
   {
    "duration": 0,
    "start_time": "2022-04-13T17:28:18.674Z"
   },
   {
    "duration": 0,
    "start_time": "2022-04-13T17:28:18.677Z"
   },
   {
    "duration": 0,
    "start_time": "2022-04-13T17:28:18.679Z"
   },
   {
    "duration": 0,
    "start_time": "2022-04-13T17:28:18.682Z"
   },
   {
    "duration": 0,
    "start_time": "2022-04-13T17:28:18.684Z"
   },
   {
    "duration": 0,
    "start_time": "2022-04-13T17:28:18.685Z"
   },
   {
    "duration": 0,
    "start_time": "2022-04-13T17:28:18.686Z"
   },
   {
    "duration": 0,
    "start_time": "2022-04-13T17:28:18.687Z"
   },
   {
    "duration": 0,
    "start_time": "2022-04-13T17:28:18.724Z"
   },
   {
    "duration": 0,
    "start_time": "2022-04-13T17:28:18.727Z"
   },
   {
    "duration": 0,
    "start_time": "2022-04-13T17:28:18.729Z"
   },
   {
    "duration": 0,
    "start_time": "2022-04-13T17:28:18.731Z"
   },
   {
    "duration": 0,
    "start_time": "2022-04-13T17:28:18.732Z"
   },
   {
    "duration": 0,
    "start_time": "2022-04-13T17:28:18.734Z"
   },
   {
    "duration": 0,
    "start_time": "2022-04-13T17:28:18.736Z"
   },
   {
    "duration": 0,
    "start_time": "2022-04-13T17:28:18.737Z"
   },
   {
    "duration": 72,
    "start_time": "2022-04-13T17:28:41.823Z"
   },
   {
    "duration": 80,
    "start_time": "2022-04-13T17:28:46.299Z"
   },
   {
    "duration": 229,
    "start_time": "2022-04-13T17:29:01.842Z"
   },
   {
    "duration": 82,
    "start_time": "2022-04-13T17:29:15.593Z"
   },
   {
    "duration": 77,
    "start_time": "2022-04-13T17:29:24.159Z"
   },
   {
    "duration": 79,
    "start_time": "2022-04-13T17:29:30.462Z"
   },
   {
    "duration": 141,
    "start_time": "2022-04-13T17:29:58.341Z"
   },
   {
    "duration": 143,
    "start_time": "2022-04-13T17:30:42.392Z"
   },
   {
    "duration": 132,
    "start_time": "2022-04-13T17:31:48.237Z"
   },
   {
    "duration": 215,
    "start_time": "2022-04-13T17:33:17.345Z"
   },
   {
    "duration": 1230,
    "start_time": "2022-04-15T15:48:06.713Z"
   },
   {
    "duration": 394,
    "start_time": "2022-04-15T15:48:07.944Z"
   },
   {
    "duration": 251,
    "start_time": "2022-04-15T15:48:08.339Z"
   },
   {
    "duration": 518,
    "start_time": "2022-04-15T15:48:08.591Z"
   },
   {
    "duration": 72,
    "start_time": "2022-04-15T15:48:09.111Z"
   },
   {
    "duration": 210,
    "start_time": "2022-04-15T15:48:09.184Z"
   },
   {
    "duration": 200,
    "start_time": "2022-04-15T15:48:09.396Z"
   },
   {
    "duration": 7,
    "start_time": "2022-04-15T15:48:09.598Z"
   },
   {
    "duration": 51,
    "start_time": "2022-04-15T15:48:09.606Z"
   },
   {
    "duration": 4,
    "start_time": "2022-04-15T15:48:09.658Z"
   },
   {
    "duration": 215,
    "start_time": "2022-04-15T15:48:09.664Z"
   },
   {
    "duration": 127,
    "start_time": "2022-04-15T15:48:09.880Z"
   },
   {
    "duration": 21,
    "start_time": "2022-04-15T15:48:10.009Z"
   },
   {
    "duration": 114,
    "start_time": "2022-04-15T15:48:10.033Z"
   },
   {
    "duration": 82,
    "start_time": "2022-04-15T15:48:10.149Z"
   },
   {
    "duration": 36,
    "start_time": "2022-04-15T15:48:10.233Z"
   },
   {
    "duration": 77,
    "start_time": "2022-04-15T15:48:10.271Z"
   },
   {
    "duration": 24,
    "start_time": "2022-04-15T15:48:10.350Z"
   },
   {
    "duration": 83,
    "start_time": "2022-04-15T15:48:10.376Z"
   },
   {
    "duration": 29,
    "start_time": "2022-04-15T15:48:10.460Z"
   },
   {
    "duration": 95,
    "start_time": "2022-04-15T15:48:10.490Z"
   },
   {
    "duration": 26,
    "start_time": "2022-04-15T15:48:10.587Z"
   },
   {
    "duration": 7,
    "start_time": "2022-04-15T15:48:10.615Z"
   },
   {
    "duration": 34,
    "start_time": "2022-04-15T15:48:10.623Z"
   },
   {
    "duration": 5,
    "start_time": "2022-04-15T15:48:10.659Z"
   },
   {
    "duration": 19,
    "start_time": "2022-04-15T15:48:10.665Z"
   },
   {
    "duration": 11,
    "start_time": "2022-04-15T15:48:10.686Z"
   },
   {
    "duration": 8,
    "start_time": "2022-04-15T15:48:10.698Z"
   },
   {
    "duration": 4,
    "start_time": "2022-04-15T15:48:10.707Z"
   },
   {
    "duration": 40,
    "start_time": "2022-04-15T15:48:10.713Z"
   },
   {
    "duration": 18,
    "start_time": "2022-04-15T15:48:10.755Z"
   },
   {
    "duration": 19,
    "start_time": "2022-04-15T15:48:10.775Z"
   },
   {
    "duration": 11,
    "start_time": "2022-04-15T15:48:10.795Z"
   },
   {
    "duration": 113,
    "start_time": "2022-04-15T15:54:12.579Z"
   },
   {
    "duration": 84,
    "start_time": "2022-04-15T15:54:16.448Z"
   },
   {
    "duration": 14,
    "start_time": "2022-04-15T15:54:44.125Z"
   },
   {
    "duration": 20,
    "start_time": "2022-04-15T15:54:53.744Z"
   },
   {
    "duration": 22,
    "start_time": "2022-04-15T15:55:09.560Z"
   },
   {
    "duration": 26,
    "start_time": "2022-04-15T15:58:04.274Z"
   },
   {
    "duration": 180,
    "start_time": "2022-04-15T15:59:41.815Z"
   },
   {
    "duration": 45,
    "start_time": "2022-04-15T16:00:13.945Z"
   },
   {
    "duration": 50,
    "start_time": "2022-04-15T16:00:18.149Z"
   },
   {
    "duration": 51,
    "start_time": "2022-04-15T16:01:18.607Z"
   },
   {
    "duration": 20,
    "start_time": "2022-04-15T16:02:38.850Z"
   },
   {
    "duration": 59,
    "start_time": "2022-04-15T16:03:42.932Z"
   },
   {
    "duration": 53,
    "start_time": "2022-04-15T16:03:51.719Z"
   },
   {
    "duration": 54,
    "start_time": "2022-04-15T16:04:31.377Z"
   },
   {
    "duration": 61,
    "start_time": "2022-04-15T16:05:58.060Z"
   },
   {
    "duration": 60,
    "start_time": "2022-04-15T16:06:23.669Z"
   },
   {
    "duration": 8,
    "start_time": "2022-04-15T16:09:24.013Z"
   },
   {
    "duration": 3,
    "start_time": "2022-04-15T16:09:26.397Z"
   },
   {
    "duration": 385,
    "start_time": "2022-04-15T16:09:26.402Z"
   },
   {
    "duration": 317,
    "start_time": "2022-04-15T16:09:26.788Z"
   },
   {
    "duration": 445,
    "start_time": "2022-04-15T16:09:27.107Z"
   },
   {
    "duration": 70,
    "start_time": "2022-04-15T16:09:27.553Z"
   },
   {
    "duration": 225,
    "start_time": "2022-04-15T16:09:27.647Z"
   },
   {
    "duration": 223,
    "start_time": "2022-04-15T16:09:27.873Z"
   },
   {
    "duration": 6,
    "start_time": "2022-04-15T16:09:28.098Z"
   },
   {
    "duration": 57,
    "start_time": "2022-04-15T16:09:28.106Z"
   },
   {
    "duration": 4,
    "start_time": "2022-04-15T16:09:28.165Z"
   },
   {
    "duration": 199,
    "start_time": "2022-04-15T16:09:28.170Z"
   },
   {
    "duration": 131,
    "start_time": "2022-04-15T16:09:28.371Z"
   },
   {
    "duration": 100,
    "start_time": "2022-04-15T16:09:28.504Z"
   },
   {
    "duration": 52,
    "start_time": "2022-04-15T16:09:28.605Z"
   },
   {
    "duration": 24,
    "start_time": "2022-04-15T16:09:28.659Z"
   },
   {
    "duration": 74,
    "start_time": "2022-04-15T16:09:28.685Z"
   },
   {
    "duration": 34,
    "start_time": "2022-04-15T16:09:28.760Z"
   },
   {
    "duration": 20,
    "start_time": "2022-04-15T16:09:28.796Z"
   },
   {
    "duration": 85,
    "start_time": "2022-04-15T16:09:28.818Z"
   },
   {
    "duration": 86,
    "start_time": "2022-04-15T16:09:28.905Z"
   },
   {
    "duration": 27,
    "start_time": "2022-04-15T16:09:28.993Z"
   },
   {
    "duration": 26,
    "start_time": "2022-04-15T16:09:29.022Z"
   },
   {
    "duration": 13,
    "start_time": "2022-04-15T16:09:29.050Z"
   },
   {
    "duration": 118,
    "start_time": "2022-04-15T16:12:26.499Z"
   },
   {
    "duration": 4,
    "start_time": "2022-04-15T16:12:37.197Z"
   },
   {
    "duration": 4,
    "start_time": "2022-04-15T16:12:40.900Z"
   },
   {
    "duration": 10,
    "start_time": "2022-04-15T16:12:44.093Z"
   },
   {
    "duration": 1609,
    "start_time": "2022-04-15T16:13:05.763Z"
   },
   {
    "duration": 6,
    "start_time": "2022-04-15T16:13:12.514Z"
   },
   {
    "duration": 4,
    "start_time": "2022-04-15T16:13:15.286Z"
   },
   {
    "duration": 11,
    "start_time": "2022-04-15T16:13:19.406Z"
   },
   {
    "duration": 103,
    "start_time": "2022-04-15T16:13:25.870Z"
   },
   {
    "duration": 11,
    "start_time": "2022-04-15T16:13:28.761Z"
   },
   {
    "duration": 9,
    "start_time": "2022-04-15T16:13:39.917Z"
   },
   {
    "duration": 11,
    "start_time": "2022-04-15T16:13:54.041Z"
   },
   {
    "duration": 153,
    "start_time": "2022-04-15T16:17:13.153Z"
   },
   {
    "duration": 29,
    "start_time": "2022-04-15T16:17:17.993Z"
   },
   {
    "duration": 24,
    "start_time": "2022-04-15T16:17:18.024Z"
   },
   {
    "duration": 50,
    "start_time": "2022-04-15T16:17:18.049Z"
   },
   {
    "duration": 28,
    "start_time": "2022-04-15T16:17:18.100Z"
   },
   {
    "duration": 19,
    "start_time": "2022-04-15T16:17:18.147Z"
   },
   {
    "duration": 58,
    "start_time": "2022-04-15T16:17:18.167Z"
   },
   {
    "duration": 90,
    "start_time": "2022-04-15T16:17:18.227Z"
   },
   {
    "duration": 46,
    "start_time": "2022-04-15T16:17:18.318Z"
   },
   {
    "duration": 6,
    "start_time": "2022-04-15T16:17:18.366Z"
   },
   {
    "duration": 14,
    "start_time": "2022-04-15T16:17:18.373Z"
   },
   {
    "duration": 11,
    "start_time": "2022-04-15T16:17:27.296Z"
   },
   {
    "duration": 22,
    "start_time": "2022-04-15T16:18:22.751Z"
   },
   {
    "duration": 4,
    "start_time": "2022-04-15T16:19:02.871Z"
   },
   {
    "duration": 431,
    "start_time": "2022-04-15T16:19:02.876Z"
   },
   {
    "duration": 295,
    "start_time": "2022-04-15T16:19:03.308Z"
   },
   {
    "duration": 589,
    "start_time": "2022-04-15T16:19:03.604Z"
   },
   {
    "duration": 99,
    "start_time": "2022-04-15T16:19:04.195Z"
   },
   {
    "duration": 481,
    "start_time": "2022-04-15T16:19:04.296Z"
   },
   {
    "duration": 389,
    "start_time": "2022-04-15T16:19:04.780Z"
   },
   {
    "duration": 10,
    "start_time": "2022-04-15T16:19:05.171Z"
   },
   {
    "duration": 91,
    "start_time": "2022-04-15T16:19:05.183Z"
   },
   {
    "duration": 3,
    "start_time": "2022-04-15T16:19:05.276Z"
   },
   {
    "duration": 216,
    "start_time": "2022-04-15T16:19:05.281Z"
   },
   {
    "duration": 156,
    "start_time": "2022-04-15T16:19:05.499Z"
   },
   {
    "duration": 113,
    "start_time": "2022-04-15T16:19:05.658Z"
   },
   {
    "duration": 40,
    "start_time": "2022-04-15T16:19:05.773Z"
   },
   {
    "duration": 45,
    "start_time": "2022-04-15T16:19:05.814Z"
   },
   {
    "duration": 108,
    "start_time": "2022-04-15T16:19:05.861Z"
   },
   {
    "duration": 0,
    "start_time": "2022-04-15T16:19:05.970Z"
   },
   {
    "duration": 0,
    "start_time": "2022-04-15T16:19:05.972Z"
   },
   {
    "duration": 0,
    "start_time": "2022-04-15T16:19:05.973Z"
   },
   {
    "duration": 0,
    "start_time": "2022-04-15T16:19:05.974Z"
   },
   {
    "duration": 0,
    "start_time": "2022-04-15T16:19:05.974Z"
   },
   {
    "duration": 0,
    "start_time": "2022-04-15T16:19:05.975Z"
   },
   {
    "duration": 0,
    "start_time": "2022-04-15T16:19:05.976Z"
   },
   {
    "duration": 52,
    "start_time": "2022-04-15T16:19:36.060Z"
   },
   {
    "duration": 3,
    "start_time": "2022-04-15T16:19:43.909Z"
   },
   {
    "duration": 421,
    "start_time": "2022-04-15T16:19:43.914Z"
   },
   {
    "duration": 412,
    "start_time": "2022-04-15T16:19:44.336Z"
   },
   {
    "duration": 650,
    "start_time": "2022-04-15T16:19:44.752Z"
   },
   {
    "duration": 3,
    "start_time": "2022-04-15T16:19:46.673Z"
   },
   {
    "duration": 432,
    "start_time": "2022-04-15T16:19:46.678Z"
   },
   {
    "duration": 465,
    "start_time": "2022-04-15T16:19:47.112Z"
   },
   {
    "duration": 608,
    "start_time": "2022-04-15T16:19:47.578Z"
   },
   {
    "duration": 96,
    "start_time": "2022-04-15T16:19:48.187Z"
   },
   {
    "duration": 252,
    "start_time": "2022-04-15T16:19:48.285Z"
   },
   {
    "duration": 253,
    "start_time": "2022-04-15T16:19:48.538Z"
   },
   {
    "duration": 7,
    "start_time": "2022-04-15T16:19:48.793Z"
   },
   {
    "duration": 65,
    "start_time": "2022-04-15T16:19:48.801Z"
   },
   {
    "duration": 4,
    "start_time": "2022-04-15T16:19:48.868Z"
   },
   {
    "duration": 226,
    "start_time": "2022-04-15T16:19:48.874Z"
   },
   {
    "duration": 133,
    "start_time": "2022-04-15T16:19:49.102Z"
   },
   {
    "duration": 110,
    "start_time": "2022-04-15T16:19:49.239Z"
   },
   {
    "duration": 51,
    "start_time": "2022-04-15T16:19:49.352Z"
   },
   {
    "duration": 45,
    "start_time": "2022-04-15T16:19:49.405Z"
   },
   {
    "duration": 49,
    "start_time": "2022-04-15T16:19:49.453Z"
   },
   {
    "duration": 67,
    "start_time": "2022-04-15T16:19:49.504Z"
   },
   {
    "duration": 23,
    "start_time": "2022-04-15T16:19:49.573Z"
   },
   {
    "duration": 83,
    "start_time": "2022-04-15T16:19:49.597Z"
   },
   {
    "duration": 100,
    "start_time": "2022-04-15T16:19:49.681Z"
   },
   {
    "duration": 27,
    "start_time": "2022-04-15T16:19:49.783Z"
   },
   {
    "duration": 8,
    "start_time": "2022-04-15T16:19:49.811Z"
   },
   {
    "duration": 50,
    "start_time": "2022-04-15T16:19:49.820Z"
   },
   {
    "duration": 11,
    "start_time": "2022-04-15T16:21:16.914Z"
   },
   {
    "duration": 20,
    "start_time": "2022-04-15T16:21:41.199Z"
   },
   {
    "duration": 13,
    "start_time": "2022-04-15T16:21:56.474Z"
   },
   {
    "duration": 20,
    "start_time": "2022-04-15T16:24:38.249Z"
   },
   {
    "duration": 17,
    "start_time": "2022-04-15T16:25:04.824Z"
   },
   {
    "duration": 12,
    "start_time": "2022-04-15T16:25:27.933Z"
   },
   {
    "duration": 8,
    "start_time": "2022-04-15T16:25:28.106Z"
   },
   {
    "duration": 18,
    "start_time": "2022-04-15T16:25:35.759Z"
   },
   {
    "duration": 4,
    "start_time": "2022-04-15T16:26:27.428Z"
   },
   {
    "duration": 446,
    "start_time": "2022-04-15T16:26:27.434Z"
   },
   {
    "duration": 526,
    "start_time": "2022-04-15T16:26:27.882Z"
   },
   {
    "duration": 676,
    "start_time": "2022-04-15T16:26:28.409Z"
   },
   {
    "duration": 97,
    "start_time": "2022-04-15T16:26:29.087Z"
   },
   {
    "duration": 266,
    "start_time": "2022-04-15T16:26:29.186Z"
   },
   {
    "duration": 249,
    "start_time": "2022-04-15T16:26:29.455Z"
   },
   {
    "duration": 7,
    "start_time": "2022-04-15T16:26:29.705Z"
   },
   {
    "duration": 70,
    "start_time": "2022-04-15T16:26:29.714Z"
   },
   {
    "duration": 4,
    "start_time": "2022-04-15T16:26:29.786Z"
   },
   {
    "duration": 225,
    "start_time": "2022-04-15T16:26:29.791Z"
   },
   {
    "duration": 150,
    "start_time": "2022-04-15T16:26:30.017Z"
   },
   {
    "duration": 99,
    "start_time": "2022-04-15T16:26:30.169Z"
   },
   {
    "duration": 47,
    "start_time": "2022-04-15T16:26:30.271Z"
   },
   {
    "duration": 50,
    "start_time": "2022-04-15T16:26:30.320Z"
   },
   {
    "duration": 44,
    "start_time": "2022-04-15T16:26:30.372Z"
   },
   {
    "duration": 49,
    "start_time": "2022-04-15T16:26:30.418Z"
   },
   {
    "duration": 21,
    "start_time": "2022-04-15T16:26:30.469Z"
   },
   {
    "duration": 73,
    "start_time": "2022-04-15T16:26:30.491Z"
   },
   {
    "duration": 93,
    "start_time": "2022-04-15T16:26:30.566Z"
   },
   {
    "duration": 27,
    "start_time": "2022-04-15T16:26:30.661Z"
   },
   {
    "duration": 8,
    "start_time": "2022-04-15T16:26:30.690Z"
   },
   {
    "duration": 13,
    "start_time": "2022-04-15T16:26:30.700Z"
   },
   {
    "duration": 38,
    "start_time": "2022-04-15T16:26:30.715Z"
   },
   {
    "duration": 17,
    "start_time": "2022-04-15T16:26:30.755Z"
   },
   {
    "duration": 19,
    "start_time": "2022-04-15T16:28:08.318Z"
   },
   {
    "duration": 12,
    "start_time": "2022-04-15T16:28:15.536Z"
   },
   {
    "duration": 8,
    "start_time": "2022-04-15T16:28:22.246Z"
   },
   {
    "duration": 27,
    "start_time": "2022-04-15T16:28:54.007Z"
   },
   {
    "duration": 30,
    "start_time": "2022-04-15T16:29:07.215Z"
   },
   {
    "duration": 47,
    "start_time": "2022-04-15T16:29:42.507Z"
   },
   {
    "duration": 54,
    "start_time": "2022-04-15T16:29:50.789Z"
   },
   {
    "duration": 20,
    "start_time": "2022-04-15T16:30:36.590Z"
   },
   {
    "duration": 19,
    "start_time": "2022-04-15T16:34:12.538Z"
   },
   {
    "duration": 19,
    "start_time": "2022-04-15T16:35:40.788Z"
   },
   {
    "duration": 15,
    "start_time": "2022-04-15T16:35:50.321Z"
   },
   {
    "duration": 63,
    "start_time": "2022-04-15T16:36:01.299Z"
   },
   {
    "duration": 73,
    "start_time": "2022-04-15T16:36:12.542Z"
   },
   {
    "duration": 18,
    "start_time": "2022-04-15T16:36:20.560Z"
   },
   {
    "duration": 3,
    "start_time": "2022-04-15T16:37:04.737Z"
   },
   {
    "duration": 416,
    "start_time": "2022-04-15T16:37:04.742Z"
   },
   {
    "duration": 465,
    "start_time": "2022-04-15T16:37:05.160Z"
   },
   {
    "duration": 611,
    "start_time": "2022-04-15T16:37:05.627Z"
   },
   {
    "duration": 79,
    "start_time": "2022-04-15T16:37:06.240Z"
   },
   {
    "duration": 255,
    "start_time": "2022-04-15T16:37:06.320Z"
   },
   {
    "duration": 220,
    "start_time": "2022-04-15T16:37:06.577Z"
   },
   {
    "duration": 7,
    "start_time": "2022-04-15T16:37:06.799Z"
   },
   {
    "duration": 62,
    "start_time": "2022-04-15T16:37:06.807Z"
   },
   {
    "duration": 4,
    "start_time": "2022-04-15T16:37:06.871Z"
   },
   {
    "duration": 211,
    "start_time": "2022-04-15T16:37:06.877Z"
   },
   {
    "duration": 133,
    "start_time": "2022-04-15T16:37:07.090Z"
   },
   {
    "duration": 94,
    "start_time": "2022-04-15T16:37:07.225Z"
   },
   {
    "duration": 55,
    "start_time": "2022-04-15T16:37:07.321Z"
   },
   {
    "duration": 23,
    "start_time": "2022-04-15T16:37:07.378Z"
   },
   {
    "duration": 55,
    "start_time": "2022-04-15T16:37:07.403Z"
   },
   {
    "duration": 32,
    "start_time": "2022-04-15T16:37:07.460Z"
   },
   {
    "duration": 19,
    "start_time": "2022-04-15T16:37:07.494Z"
   },
   {
    "duration": 73,
    "start_time": "2022-04-15T16:37:07.514Z"
   },
   {
    "duration": 163,
    "start_time": "2022-04-15T16:37:07.589Z"
   },
   {
    "duration": 27,
    "start_time": "2022-04-15T16:37:07.754Z"
   },
   {
    "duration": 7,
    "start_time": "2022-04-15T16:37:07.782Z"
   },
   {
    "duration": 21,
    "start_time": "2022-04-15T16:37:07.791Z"
   },
   {
    "duration": 79,
    "start_time": "2022-04-15T16:38:08.699Z"
   },
   {
    "duration": 79,
    "start_time": "2022-04-15T16:38:22.498Z"
   },
   {
    "duration": 17,
    "start_time": "2022-04-15T16:38:27.354Z"
   },
   {
    "duration": 1317,
    "start_time": "2022-04-16T07:49:48.532Z"
   },
   {
    "duration": 383,
    "start_time": "2022-04-16T07:49:49.854Z"
   },
   {
    "duration": 263,
    "start_time": "2022-04-16T07:49:50.238Z"
   },
   {
    "duration": 537,
    "start_time": "2022-04-16T07:49:50.502Z"
   },
   {
    "duration": 79,
    "start_time": "2022-04-16T07:49:51.041Z"
   },
   {
    "duration": 226,
    "start_time": "2022-04-16T07:49:51.122Z"
   },
   {
    "duration": 213,
    "start_time": "2022-04-16T07:49:51.355Z"
   },
   {
    "duration": 6,
    "start_time": "2022-04-16T07:49:51.570Z"
   },
   {
    "duration": 45,
    "start_time": "2022-04-16T07:49:51.578Z"
   },
   {
    "duration": 4,
    "start_time": "2022-04-16T07:49:51.624Z"
   },
   {
    "duration": 225,
    "start_time": "2022-04-16T07:49:51.630Z"
   },
   {
    "duration": 126,
    "start_time": "2022-04-16T07:49:51.856Z"
   },
   {
    "duration": 103,
    "start_time": "2022-04-16T07:49:51.984Z"
   },
   {
    "duration": 43,
    "start_time": "2022-04-16T07:49:52.090Z"
   },
   {
    "duration": 36,
    "start_time": "2022-04-16T07:49:52.135Z"
   },
   {
    "duration": 47,
    "start_time": "2022-04-16T07:49:52.172Z"
   },
   {
    "duration": 48,
    "start_time": "2022-04-16T07:49:52.220Z"
   },
   {
    "duration": 20,
    "start_time": "2022-04-16T07:49:52.269Z"
   },
   {
    "duration": 72,
    "start_time": "2022-04-16T07:49:52.290Z"
   },
   {
    "duration": 92,
    "start_time": "2022-04-16T07:49:52.363Z"
   },
   {
    "duration": 28,
    "start_time": "2022-04-16T07:49:52.457Z"
   },
   {
    "duration": 7,
    "start_time": "2022-04-16T07:49:52.487Z"
   },
   {
    "duration": 30,
    "start_time": "2022-04-16T07:49:52.496Z"
   },
   {
    "duration": 47,
    "start_time": "2022-04-16T07:50:49.181Z"
   },
   {
    "duration": 30,
    "start_time": "2022-04-16T07:50:49.230Z"
   },
   {
    "duration": 48,
    "start_time": "2022-04-16T07:50:49.261Z"
   },
   {
    "duration": 56,
    "start_time": "2022-04-16T07:50:49.311Z"
   },
   {
    "duration": 135,
    "start_time": "2022-04-16T07:50:49.369Z"
   },
   {
    "duration": 27,
    "start_time": "2022-04-16T07:50:49.506Z"
   },
   {
    "duration": 19,
    "start_time": "2022-04-16T07:50:49.535Z"
   },
   {
    "duration": 17,
    "start_time": "2022-04-16T07:50:49.556Z"
   },
   {
    "duration": 3,
    "start_time": "2022-04-16T07:50:49.574Z"
   },
   {
    "duration": 23,
    "start_time": "2022-04-16T07:52:50.600Z"
   },
   {
    "duration": 2228,
    "start_time": "2022-04-16T07:53:42.061Z"
   },
   {
    "duration": 5,
    "start_time": "2022-04-16T07:53:50.668Z"
   },
   {
    "duration": 3,
    "start_time": "2022-04-16T08:02:43.287Z"
   },
   {
    "duration": 3,
    "start_time": "2022-04-16T08:08:05.980Z"
   },
   {
    "duration": 4,
    "start_time": "2022-04-16T08:09:34.504Z"
   },
   {
    "duration": 69,
    "start_time": "2022-04-16T08:09:56.362Z"
   },
   {
    "duration": 83,
    "start_time": "2022-04-16T08:10:02.522Z"
   },
   {
    "duration": 4,
    "start_time": "2022-04-16T08:10:08.378Z"
   },
   {
    "duration": 384,
    "start_time": "2022-04-16T08:10:08.384Z"
   },
   {
    "duration": 262,
    "start_time": "2022-04-16T08:10:08.770Z"
   },
   {
    "duration": 537,
    "start_time": "2022-04-16T08:10:09.034Z"
   },
   {
    "duration": 91,
    "start_time": "2022-04-16T08:10:09.573Z"
   },
   {
    "duration": 229,
    "start_time": "2022-04-16T08:10:09.665Z"
   },
   {
    "duration": 213,
    "start_time": "2022-04-16T08:10:09.896Z"
   },
   {
    "duration": 7,
    "start_time": "2022-04-16T08:10:10.111Z"
   },
   {
    "duration": 58,
    "start_time": "2022-04-16T08:10:10.119Z"
   },
   {
    "duration": 3,
    "start_time": "2022-04-16T08:10:10.180Z"
   },
   {
    "duration": 210,
    "start_time": "2022-04-16T08:10:10.185Z"
   },
   {
    "duration": 133,
    "start_time": "2022-04-16T08:10:10.396Z"
   },
   {
    "duration": 94,
    "start_time": "2022-04-16T08:10:10.531Z"
   },
   {
    "duration": 52,
    "start_time": "2022-04-16T08:10:10.626Z"
   },
   {
    "duration": 22,
    "start_time": "2022-04-16T08:10:10.679Z"
   },
   {
    "duration": 56,
    "start_time": "2022-04-16T08:10:10.703Z"
   },
   {
    "duration": 31,
    "start_time": "2022-04-16T08:10:10.760Z"
   },
   {
    "duration": 21,
    "start_time": "2022-04-16T08:10:10.792Z"
   },
   {
    "duration": 74,
    "start_time": "2022-04-16T08:10:10.815Z"
   },
   {
    "duration": 86,
    "start_time": "2022-04-16T08:10:10.890Z"
   },
   {
    "duration": 27,
    "start_time": "2022-04-16T08:10:10.978Z"
   },
   {
    "duration": 4,
    "start_time": "2022-04-16T08:10:11.007Z"
   },
   {
    "duration": 46,
    "start_time": "2022-04-16T08:10:11.013Z"
   },
   {
    "duration": 3,
    "start_time": "2022-04-16T08:10:11.061Z"
   },
   {
    "duration": 89,
    "start_time": "2022-04-16T08:10:11.066Z"
   },
   {
    "duration": 5,
    "start_time": "2022-04-16T08:10:23.116Z"
   },
   {
    "duration": 17,
    "start_time": "2022-04-16T08:10:24.399Z"
   },
   {
    "duration": 4,
    "start_time": "2022-04-16T08:10:33.367Z"
   },
   {
    "duration": 83,
    "start_time": "2022-04-16T08:10:34.001Z"
   },
   {
    "duration": 4,
    "start_time": "2022-04-16T08:11:04.349Z"
   },
   {
    "duration": 81,
    "start_time": "2022-04-16T08:11:04.758Z"
   },
   {
    "duration": 147,
    "start_time": "2022-04-16T08:12:05.042Z"
   },
   {
    "duration": 82,
    "start_time": "2022-04-16T08:12:05.754Z"
   },
   {
    "duration": 4,
    "start_time": "2022-04-16T08:12:18.833Z"
   },
   {
    "duration": 77,
    "start_time": "2022-04-16T08:12:19.672Z"
   },
   {
    "duration": 75,
    "start_time": "2022-04-16T08:12:29.514Z"
   },
   {
    "duration": 81,
    "start_time": "2022-04-16T08:12:53.642Z"
   },
   {
    "duration": 83,
    "start_time": "2022-04-16T08:13:10.941Z"
   },
   {
    "duration": 75,
    "start_time": "2022-04-16T08:13:21.120Z"
   },
   {
    "duration": 73,
    "start_time": "2022-04-16T08:13:40.285Z"
   },
   {
    "duration": 3,
    "start_time": "2022-04-16T08:16:25.681Z"
   },
   {
    "duration": 4,
    "start_time": "2022-04-16T08:16:52.529Z"
   },
   {
    "duration": 4,
    "start_time": "2022-04-16T08:17:10.049Z"
   },
   {
    "duration": 4,
    "start_time": "2022-04-16T08:17:25.039Z"
   },
   {
    "duration": 4,
    "start_time": "2022-04-16T08:17:28.289Z"
   },
   {
    "duration": 403,
    "start_time": "2022-04-16T08:17:28.295Z"
   },
   {
    "duration": 417,
    "start_time": "2022-04-16T08:17:28.700Z"
   },
   {
    "duration": 576,
    "start_time": "2022-04-16T08:17:29.119Z"
   },
   {
    "duration": 86,
    "start_time": "2022-04-16T08:17:29.697Z"
   },
   {
    "duration": 225,
    "start_time": "2022-04-16T08:17:29.785Z"
   },
   {
    "duration": 232,
    "start_time": "2022-04-16T08:17:30.011Z"
   },
   {
    "duration": 13,
    "start_time": "2022-04-16T08:17:30.245Z"
   },
   {
    "duration": 53,
    "start_time": "2022-04-16T08:17:30.260Z"
   },
   {
    "duration": 3,
    "start_time": "2022-04-16T08:17:30.315Z"
   },
   {
    "duration": 215,
    "start_time": "2022-04-16T08:17:30.319Z"
   },
   {
    "duration": 133,
    "start_time": "2022-04-16T08:17:30.536Z"
   },
   {
    "duration": 98,
    "start_time": "2022-04-16T08:17:30.671Z"
   },
   {
    "duration": 45,
    "start_time": "2022-04-16T08:17:30.771Z"
   },
   {
    "duration": 40,
    "start_time": "2022-04-16T08:17:30.818Z"
   },
   {
    "duration": 47,
    "start_time": "2022-04-16T08:17:30.860Z"
   },
   {
    "duration": 54,
    "start_time": "2022-04-16T08:17:30.909Z"
   },
   {
    "duration": 22,
    "start_time": "2022-04-16T08:17:30.965Z"
   },
   {
    "duration": 85,
    "start_time": "2022-04-16T08:17:30.989Z"
   },
   {
    "duration": 94,
    "start_time": "2022-04-16T08:17:31.076Z"
   },
   {
    "duration": 28,
    "start_time": "2022-04-16T08:17:31.171Z"
   },
   {
    "duration": 5,
    "start_time": "2022-04-16T08:17:31.200Z"
   },
   {
    "duration": 44,
    "start_time": "2022-04-16T08:17:31.206Z"
   },
   {
    "duration": 12,
    "start_time": "2022-04-16T08:17:31.251Z"
   },
   {
    "duration": 84,
    "start_time": "2022-04-16T08:17:31.264Z"
   },
   {
    "duration": 3,
    "start_time": "2022-04-16T08:17:31.349Z"
   },
   {
    "duration": 11,
    "start_time": "2022-04-16T08:17:31.354Z"
   },
   {
    "duration": 4,
    "start_time": "2022-04-16T08:22:05.429Z"
   },
   {
    "duration": 4,
    "start_time": "2022-04-16T08:22:13.949Z"
   },
   {
    "duration": 3,
    "start_time": "2022-04-16T08:22:23.321Z"
   },
   {
    "duration": 4,
    "start_time": "2022-04-16T08:22:23.699Z"
   },
   {
    "duration": 4,
    "start_time": "2022-04-16T08:22:28.316Z"
   },
   {
    "duration": 4,
    "start_time": "2022-04-16T08:22:32.375Z"
   },
   {
    "duration": 4,
    "start_time": "2022-04-16T08:22:38.030Z"
   },
   {
    "duration": 4,
    "start_time": "2022-04-16T08:23:24.698Z"
   },
   {
    "duration": 77,
    "start_time": "2022-04-16T08:23:25.321Z"
   },
   {
    "duration": 4,
    "start_time": "2022-04-16T08:25:19.901Z"
   },
   {
    "duration": 76,
    "start_time": "2022-04-16T08:25:20.352Z"
   },
   {
    "duration": 5,
    "start_time": "2022-04-16T08:33:00.604Z"
   },
   {
    "duration": 5,
    "start_time": "2022-04-16T08:34:00.362Z"
   },
   {
    "duration": 5,
    "start_time": "2022-04-16T08:34:05.482Z"
   },
   {
    "duration": 6,
    "start_time": "2022-04-16T08:34:26.355Z"
   },
   {
    "duration": 6,
    "start_time": "2022-04-16T08:34:28.332Z"
   },
   {
    "duration": 5,
    "start_time": "2022-04-16T08:34:29.407Z"
   },
   {
    "duration": 76,
    "start_time": "2022-04-16T08:34:32.737Z"
   },
   {
    "duration": 79,
    "start_time": "2022-04-16T08:34:41.028Z"
   },
   {
    "duration": 76,
    "start_time": "2022-04-16T08:34:59.432Z"
   },
   {
    "duration": 77,
    "start_time": "2022-04-16T08:35:13.393Z"
   },
   {
    "duration": 78,
    "start_time": "2022-04-16T08:35:22.897Z"
   },
   {
    "duration": 74,
    "start_time": "2022-04-16T08:35:25.691Z"
   },
   {
    "duration": 80,
    "start_time": "2022-04-16T08:35:37.614Z"
   },
   {
    "duration": 5,
    "start_time": "2022-04-16T08:37:19.987Z"
   },
   {
    "duration": 4,
    "start_time": "2022-04-16T08:37:21.108Z"
   },
   {
    "duration": 76,
    "start_time": "2022-04-16T08:37:21.630Z"
   },
   {
    "duration": 4,
    "start_time": "2022-04-16T08:37:48.202Z"
   },
   {
    "duration": 5,
    "start_time": "2022-04-16T08:37:49.645Z"
   },
   {
    "duration": 5,
    "start_time": "2022-04-16T08:37:49.911Z"
   },
   {
    "duration": 75,
    "start_time": "2022-04-16T08:37:50.210Z"
   },
   {
    "duration": 77,
    "start_time": "2022-04-16T08:37:57.284Z"
   },
   {
    "duration": 4,
    "start_time": "2022-04-16T08:38:59.582Z"
   },
   {
    "duration": 4,
    "start_time": "2022-04-16T08:38:59.860Z"
   },
   {
    "duration": 4,
    "start_time": "2022-04-16T08:39:04.282Z"
   },
   {
    "duration": 4,
    "start_time": "2022-04-16T08:39:12.103Z"
   },
   {
    "duration": 4,
    "start_time": "2022-04-16T08:39:26.369Z"
   },
   {
    "duration": 6,
    "start_time": "2022-04-16T08:41:09.736Z"
   },
   {
    "duration": 5,
    "start_time": "2022-04-16T08:41:56.705Z"
   },
   {
    "duration": 6,
    "start_time": "2022-04-16T08:43:39.203Z"
   },
   {
    "duration": 80,
    "start_time": "2022-04-16T08:44:39.431Z"
   },
   {
    "duration": 79,
    "start_time": "2022-04-16T08:44:45.367Z"
   },
   {
    "duration": 10,
    "start_time": "2022-04-16T08:49:21.175Z"
   },
   {
    "duration": 11,
    "start_time": "2022-04-16T08:49:51.986Z"
   },
   {
    "duration": 11,
    "start_time": "2022-04-16T08:51:26.971Z"
   },
   {
    "duration": 11,
    "start_time": "2022-04-16T08:52:06.951Z"
   },
   {
    "duration": 23,
    "start_time": "2022-04-16T08:53:15.423Z"
   },
   {
    "duration": 23,
    "start_time": "2022-04-16T08:53:19.163Z"
   },
   {
    "duration": 141,
    "start_time": "2022-04-16T08:56:18.288Z"
   },
   {
    "duration": 29,
    "start_time": "2022-04-16T08:56:26.221Z"
   },
   {
    "duration": 25,
    "start_time": "2022-04-16T08:56:54.698Z"
   },
   {
    "duration": 27,
    "start_time": "2022-04-16T08:57:16.616Z"
   },
   {
    "duration": 26,
    "start_time": "2022-04-16T08:57:52.858Z"
   },
   {
    "duration": 5,
    "start_time": "2022-04-16T08:57:55.887Z"
   },
   {
    "duration": 52,
    "start_time": "2022-04-16T08:57:56.490Z"
   },
   {
    "duration": 15,
    "start_time": "2022-04-16T08:58:16.906Z"
   },
   {
    "duration": 28,
    "start_time": "2022-04-16T08:59:01.712Z"
   },
   {
    "duration": 18,
    "start_time": "2022-04-16T08:59:04.369Z"
   },
   {
    "duration": 13,
    "start_time": "2022-04-16T08:59:13.371Z"
   },
   {
    "duration": 49,
    "start_time": "2022-04-16T09:09:00.294Z"
   },
   {
    "duration": 4,
    "start_time": "2022-04-16T09:15:09.150Z"
   },
   {
    "duration": 12,
    "start_time": "2022-04-16T09:19:37.824Z"
   },
   {
    "duration": 13,
    "start_time": "2022-04-16T09:20:09.648Z"
   },
   {
    "duration": 8,
    "start_time": "2022-04-16T09:22:33.380Z"
   },
   {
    "duration": 13,
    "start_time": "2022-04-16T09:32:46.041Z"
   },
   {
    "duration": 16,
    "start_time": "2022-04-16T09:34:19.378Z"
   },
   {
    "duration": 15,
    "start_time": "2022-04-16T09:34:28.496Z"
   },
   {
    "duration": 16,
    "start_time": "2022-04-16T09:34:31.555Z"
   },
   {
    "duration": 15,
    "start_time": "2022-04-16T09:34:33.239Z"
   },
   {
    "duration": 13,
    "start_time": "2022-04-16T09:46:48.619Z"
   },
   {
    "duration": 7,
    "start_time": "2022-04-16T09:47:05.037Z"
   },
   {
    "duration": 5,
    "start_time": "2022-04-16T09:47:18.408Z"
   },
   {
    "duration": 6,
    "start_time": "2022-04-16T09:48:22.202Z"
   },
   {
    "duration": 8,
    "start_time": "2022-04-16T09:48:39.719Z"
   },
   {
    "duration": 19,
    "start_time": "2022-04-16T09:49:07.855Z"
   },
   {
    "duration": 9,
    "start_time": "2022-04-16T09:49:41.394Z"
   },
   {
    "duration": 8,
    "start_time": "2022-04-16T09:49:43.371Z"
   },
   {
    "duration": 17,
    "start_time": "2022-04-16T09:49:43.708Z"
   },
   {
    "duration": 19,
    "start_time": "2022-04-16T09:49:57.855Z"
   },
   {
    "duration": 2291,
    "start_time": "2022-04-16T09:50:26.184Z"
   },
   {
    "duration": 19,
    "start_time": "2022-04-16T09:50:38.635Z"
   },
   {
    "duration": 10,
    "start_time": "2022-04-16T09:51:04.834Z"
   },
   {
    "duration": 9,
    "start_time": "2022-04-16T09:51:18.762Z"
   },
   {
    "duration": 7,
    "start_time": "2022-04-16T09:51:19.168Z"
   },
   {
    "duration": 14,
    "start_time": "2022-04-16T09:51:19.869Z"
   },
   {
    "duration": 20,
    "start_time": "2022-04-16T09:51:24.017Z"
   },
   {
    "duration": 19,
    "start_time": "2022-04-16T09:52:53.965Z"
   },
   {
    "duration": 9,
    "start_time": "2022-04-16T09:56:00.323Z"
   },
   {
    "duration": 5,
    "start_time": "2022-04-16T09:56:17.515Z"
   },
   {
    "duration": 14,
    "start_time": "2022-04-16T09:56:24.503Z"
   },
   {
    "duration": 6,
    "start_time": "2022-04-16T09:57:23.581Z"
   },
   {
    "duration": 1789,
    "start_time": "2022-04-17T08:52:48.290Z"
   },
   {
    "duration": 585,
    "start_time": "2022-04-17T08:52:50.083Z"
   },
   {
    "duration": 399,
    "start_time": "2022-04-17T08:52:50.671Z"
   },
   {
    "duration": 788,
    "start_time": "2022-04-17T08:52:51.073Z"
   },
   {
    "duration": 167,
    "start_time": "2022-04-17T08:52:51.866Z"
   },
   {
    "duration": 482,
    "start_time": "2022-04-17T08:52:52.036Z"
   },
   {
    "duration": 457,
    "start_time": "2022-04-17T08:52:52.525Z"
   },
   {
    "duration": 13,
    "start_time": "2022-04-17T08:52:52.986Z"
   },
   {
    "duration": 126,
    "start_time": "2022-04-17T08:52:53.002Z"
   },
   {
    "duration": 7,
    "start_time": "2022-04-17T08:52:53.132Z"
   },
   {
    "duration": 667,
    "start_time": "2022-04-17T08:52:53.141Z"
   },
   {
    "duration": 189,
    "start_time": "2022-04-17T08:52:53.811Z"
   },
   {
    "duration": 163,
    "start_time": "2022-04-17T08:52:54.002Z"
   },
   {
    "duration": 77,
    "start_time": "2022-04-17T08:52:54.169Z"
   },
   {
    "duration": 39,
    "start_time": "2022-04-17T08:52:54.248Z"
   },
   {
    "duration": 92,
    "start_time": "2022-04-17T08:52:54.289Z"
   },
   {
    "duration": 70,
    "start_time": "2022-04-17T08:52:54.383Z"
   },
   {
    "duration": 32,
    "start_time": "2022-04-17T08:52:54.456Z"
   },
   {
    "duration": 105,
    "start_time": "2022-04-17T08:52:54.491Z"
   },
   {
    "duration": 146,
    "start_time": "2022-04-17T08:52:54.598Z"
   },
   {
    "duration": 45,
    "start_time": "2022-04-17T08:52:54.746Z"
   },
   {
    "duration": 69,
    "start_time": "2022-04-17T08:52:54.794Z"
   },
   {
    "duration": 7,
    "start_time": "2022-04-17T08:52:54.866Z"
   },
   {
    "duration": 108,
    "start_time": "2022-04-17T08:52:54.875Z"
   },
   {
    "duration": 7,
    "start_time": "2022-04-17T08:52:54.985Z"
   },
   {
    "duration": 30,
    "start_time": "2022-04-17T08:52:54.994Z"
   },
   {
    "duration": 15,
    "start_time": "2022-04-17T08:52:55.027Z"
   },
   {
    "duration": 35,
    "start_time": "2022-04-17T08:52:55.045Z"
   },
   {
    "duration": 15,
    "start_time": "2022-04-17T08:58:25.298Z"
   },
   {
    "duration": 24,
    "start_time": "2022-04-17T08:58:29.144Z"
   },
   {
    "duration": 148,
    "start_time": "2022-04-17T09:01:37.481Z"
   },
   {
    "duration": 15,
    "start_time": "2022-04-17T09:01:42.496Z"
   },
   {
    "duration": 8,
    "start_time": "2022-04-17T09:01:51.595Z"
   },
   {
    "duration": 26,
    "start_time": "2022-04-17T09:02:11.250Z"
   },
   {
    "duration": 24,
    "start_time": "2022-04-17T09:02:21.174Z"
   },
   {
    "duration": 25,
    "start_time": "2022-04-17T09:02:25.137Z"
   },
   {
    "duration": 23,
    "start_time": "2022-04-17T09:03:31.959Z"
   },
   {
    "duration": 23,
    "start_time": "2022-04-17T09:06:29.201Z"
   },
   {
    "duration": 23,
    "start_time": "2022-04-17T09:06:32.964Z"
   },
   {
    "duration": 32,
    "start_time": "2022-04-17T09:08:33.419Z"
   },
   {
    "duration": 33,
    "start_time": "2022-04-17T09:08:36.353Z"
   },
   {
    "duration": 31,
    "start_time": "2022-04-17T09:08:40.115Z"
   },
   {
    "duration": 30,
    "start_time": "2022-04-17T09:08:42.093Z"
   },
   {
    "duration": 31,
    "start_time": "2022-04-17T09:08:44.203Z"
   },
   {
    "duration": 32,
    "start_time": "2022-04-17T09:08:53.934Z"
   },
   {
    "duration": 32,
    "start_time": "2022-04-17T09:08:56.091Z"
   },
   {
    "duration": 35,
    "start_time": "2022-04-17T09:09:45.254Z"
   },
   {
    "duration": 36,
    "start_time": "2022-04-17T09:15:28.586Z"
   },
   {
    "duration": 254,
    "start_time": "2022-04-17T09:16:37.210Z"
   },
   {
    "duration": 318,
    "start_time": "2022-04-17T09:21:23.406Z"
   },
   {
    "duration": 574,
    "start_time": "2022-04-17T09:21:34.472Z"
   },
   {
    "duration": 786,
    "start_time": "2022-04-17T09:21:53.628Z"
   },
   {
    "duration": 6,
    "start_time": "2022-04-17T09:27:23.402Z"
   },
   {
    "duration": 523,
    "start_time": "2022-04-17T09:27:39.370Z"
   },
   {
    "duration": 7,
    "start_time": "2022-04-17T09:27:51.531Z"
   },
   {
    "duration": 538,
    "start_time": "2022-04-17T09:27:52.277Z"
   },
   {
    "duration": 8,
    "start_time": "2022-04-17T09:29:23.982Z"
   },
   {
    "duration": 856,
    "start_time": "2022-04-17T09:29:25.104Z"
   },
   {
    "duration": 7,
    "start_time": "2022-04-17T09:41:09.447Z"
   },
   {
    "duration": 1046,
    "start_time": "2022-04-17T09:41:11.438Z"
   },
   {
    "duration": 7,
    "start_time": "2022-04-17T09:42:04.530Z"
   },
   {
    "duration": 935,
    "start_time": "2022-04-17T09:42:04.899Z"
   },
   {
    "duration": 8,
    "start_time": "2022-04-17T09:42:55.119Z"
   },
   {
    "duration": 1413,
    "start_time": "2022-04-17T09:42:55.340Z"
   },
   {
    "duration": 9,
    "start_time": "2022-04-17T09:43:39.360Z"
   },
   {
    "duration": 1645,
    "start_time": "2022-04-17T09:43:40.131Z"
   },
   {
    "duration": 8,
    "start_time": "2022-04-17T09:44:24.432Z"
   },
   {
    "duration": 1619,
    "start_time": "2022-04-17T09:44:24.699Z"
   },
   {
    "duration": 8,
    "start_time": "2022-04-17T09:44:34.170Z"
   },
   {
    "duration": 1447,
    "start_time": "2022-04-17T09:44:34.375Z"
   },
   {
    "duration": 8,
    "start_time": "2022-04-17T09:44:40.194Z"
   },
   {
    "duration": 1611,
    "start_time": "2022-04-17T09:44:40.480Z"
   },
   {
    "duration": 9,
    "start_time": "2022-04-17T09:47:33.345Z"
   },
   {
    "duration": 1456,
    "start_time": "2022-04-17T09:47:33.870Z"
   },
   {
    "duration": 8,
    "start_time": "2022-04-17T09:48:16.178Z"
   },
   {
    "duration": 1463,
    "start_time": "2022-04-17T09:48:16.580Z"
   },
   {
    "duration": 9,
    "start_time": "2022-04-17T09:48:24.541Z"
   },
   {
    "duration": 1659,
    "start_time": "2022-04-17T09:48:24.878Z"
   },
   {
    "duration": 8,
    "start_time": "2022-04-17T09:48:43.124Z"
   },
   {
    "duration": 1437,
    "start_time": "2022-04-17T09:48:43.437Z"
   },
   {
    "duration": 9,
    "start_time": "2022-04-17T09:49:40.111Z"
   },
   {
    "duration": 1439,
    "start_time": "2022-04-17T09:49:40.324Z"
   },
   {
    "duration": 203,
    "start_time": "2022-04-17T09:50:16.213Z"
   },
   {
    "duration": 1472,
    "start_time": "2022-04-17T09:50:16.679Z"
   },
   {
    "duration": 13,
    "start_time": "2022-04-17T09:50:35.589Z"
   },
   {
    "duration": 1770,
    "start_time": "2022-04-17T09:50:36.020Z"
   },
   {
    "duration": 9,
    "start_time": "2022-04-17T09:51:26.941Z"
   },
   {
    "duration": 1653,
    "start_time": "2022-04-17T09:51:27.318Z"
   },
   {
    "duration": 10,
    "start_time": "2022-04-17T09:51:53.649Z"
   },
   {
    "duration": 1427,
    "start_time": "2022-04-17T09:51:54.106Z"
   },
   {
    "duration": 10,
    "start_time": "2022-04-17T09:52:00.099Z"
   },
   {
    "duration": 1781,
    "start_time": "2022-04-17T09:52:01.153Z"
   },
   {
    "duration": 10,
    "start_time": "2022-04-17T09:55:54.819Z"
   },
   {
    "duration": 1498,
    "start_time": "2022-04-17T09:55:55.902Z"
   },
   {
    "duration": 9,
    "start_time": "2022-04-17T09:56:10.703Z"
   },
   {
    "duration": 1485,
    "start_time": "2022-04-17T09:56:11.058Z"
   },
   {
    "duration": 10,
    "start_time": "2022-04-17T09:56:30.033Z"
   },
   {
    "duration": 1804,
    "start_time": "2022-04-17T09:56:30.364Z"
   },
   {
    "duration": 9,
    "start_time": "2022-04-17T09:56:51.765Z"
   },
   {
    "duration": 1474,
    "start_time": "2022-04-17T09:56:52.113Z"
   },
   {
    "duration": 9,
    "start_time": "2022-04-17T09:56:59.267Z"
   },
   {
    "duration": 1473,
    "start_time": "2022-04-17T09:56:59.546Z"
   },
   {
    "duration": 216,
    "start_time": "2022-04-17T09:57:33.323Z"
   },
   {
    "duration": 547,
    "start_time": "2022-04-17T09:57:33.632Z"
   },
   {
    "duration": 11,
    "start_time": "2022-04-17T09:57:40.262Z"
   },
   {
    "duration": 1406,
    "start_time": "2022-04-17T09:57:40.618Z"
   },
   {
    "duration": 10,
    "start_time": "2022-04-17T09:57:47.577Z"
   },
   {
    "duration": 1518,
    "start_time": "2022-04-17T09:57:47.845Z"
   },
   {
    "duration": 153,
    "start_time": "2022-04-17T09:59:01.458Z"
   },
   {
    "duration": 1486,
    "start_time": "2022-04-17T09:59:01.738Z"
   },
   {
    "duration": 9,
    "start_time": "2022-04-17T09:59:11.536Z"
   },
   {
    "duration": 1461,
    "start_time": "2022-04-17T09:59:11.814Z"
   },
   {
    "duration": 10,
    "start_time": "2022-04-17T09:59:20.764Z"
   },
   {
    "duration": 1635,
    "start_time": "2022-04-17T09:59:20.945Z"
   },
   {
    "duration": 10,
    "start_time": "2022-04-17T10:00:22.257Z"
   },
   {
    "duration": 1542,
    "start_time": "2022-04-17T10:00:22.451Z"
   },
   {
    "duration": 9,
    "start_time": "2022-04-17T10:00:30.725Z"
   },
   {
    "duration": 1487,
    "start_time": "2022-04-17T10:00:31.163Z"
   },
   {
    "duration": 10,
    "start_time": "2022-04-17T10:01:37.342Z"
   },
   {
    "duration": 1779,
    "start_time": "2022-04-17T10:01:37.734Z"
   },
   {
    "duration": 10,
    "start_time": "2022-04-17T10:01:50.529Z"
   },
   {
    "duration": 2386,
    "start_time": "2022-04-17T10:01:51.048Z"
   },
   {
    "duration": 15,
    "start_time": "2022-04-17T10:01:58.586Z"
   },
   {
    "duration": 1637,
    "start_time": "2022-04-17T10:01:58.872Z"
   },
   {
    "duration": 10,
    "start_time": "2022-04-17T10:02:03.979Z"
   },
   {
    "duration": 1479,
    "start_time": "2022-04-17T10:02:04.594Z"
   },
   {
    "duration": 10,
    "start_time": "2022-04-17T10:02:19.458Z"
   },
   {
    "duration": 1449,
    "start_time": "2022-04-17T10:02:19.754Z"
   },
   {
    "duration": 10,
    "start_time": "2022-04-17T10:02:30.104Z"
   },
   {
    "duration": 1717,
    "start_time": "2022-04-17T10:02:30.289Z"
   },
   {
    "duration": 11,
    "start_time": "2022-04-17T10:02:56.825Z"
   },
   {
    "duration": 1459,
    "start_time": "2022-04-17T10:02:56.978Z"
   },
   {
    "duration": 10,
    "start_time": "2022-04-17T10:05:20.434Z"
   },
   {
    "duration": 1606,
    "start_time": "2022-04-17T10:05:20.683Z"
   },
   {
    "duration": 11,
    "start_time": "2022-04-17T10:05:26.144Z"
   },
   {
    "duration": 1461,
    "start_time": "2022-04-17T10:05:26.349Z"
   },
   {
    "duration": 14,
    "start_time": "2022-04-17T10:05:34.727Z"
   },
   {
    "duration": 1473,
    "start_time": "2022-04-17T10:05:34.940Z"
   },
   {
    "duration": 16,
    "start_time": "2022-04-17T10:13:04.431Z"
   },
   {
    "duration": 14,
    "start_time": "2022-04-17T10:20:41.528Z"
   },
   {
    "duration": 251,
    "start_time": "2022-04-17T10:31:22.747Z"
   },
   {
    "duration": 2440,
    "start_time": "2022-04-17T10:31:23.001Z"
   },
   {
    "duration": 16,
    "start_time": "2022-04-17T10:31:29.205Z"
   },
   {
    "duration": 1587,
    "start_time": "2022-04-17T10:31:29.532Z"
   },
   {
    "duration": 13,
    "start_time": "2022-04-17T10:31:48.540Z"
   },
   {
    "duration": 1759,
    "start_time": "2022-04-17T10:31:48.735Z"
   },
   {
    "duration": 11,
    "start_time": "2022-04-17T10:32:00.380Z"
   },
   {
    "duration": 1478,
    "start_time": "2022-04-17T10:32:00.546Z"
   },
   {
    "duration": 13,
    "start_time": "2022-04-17T10:45:13.738Z"
   },
   {
    "duration": 35,
    "start_time": "2022-04-17T10:54:14.766Z"
   },
   {
    "duration": 4,
    "start_time": "2022-04-17T10:55:09.316Z"
   },
   {
    "duration": 8,
    "start_time": "2022-04-17T10:55:13.803Z"
   },
   {
    "duration": 17,
    "start_time": "2022-04-17T10:55:21.705Z"
   },
   {
    "duration": 12,
    "start_time": "2022-04-17T10:55:44.995Z"
   },
   {
    "duration": 17,
    "start_time": "2022-04-17T10:55:50.198Z"
   },
   {
    "duration": 38,
    "start_time": "2022-04-17T10:56:29.449Z"
   },
   {
    "duration": 6,
    "start_time": "2022-04-17T10:56:36.862Z"
   },
   {
    "duration": 561,
    "start_time": "2022-04-17T10:56:36.871Z"
   },
   {
    "duration": 559,
    "start_time": "2022-04-17T10:56:37.435Z"
   },
   {
    "duration": 746,
    "start_time": "2022-04-17T10:56:37.997Z"
   },
   {
    "duration": 124,
    "start_time": "2022-04-17T10:56:38.747Z"
   },
   {
    "duration": 387,
    "start_time": "2022-04-17T10:56:38.873Z"
   },
   {
    "duration": 361,
    "start_time": "2022-04-17T10:56:39.263Z"
   },
   {
    "duration": 11,
    "start_time": "2022-04-17T10:56:39.626Z"
   },
   {
    "duration": 94,
    "start_time": "2022-04-17T10:56:39.639Z"
   },
   {
    "duration": 5,
    "start_time": "2022-04-17T10:56:39.735Z"
   },
   {
    "duration": 352,
    "start_time": "2022-04-17T10:56:39.742Z"
   },
   {
    "duration": 197,
    "start_time": "2022-04-17T10:56:40.096Z"
   },
   {
    "duration": 160,
    "start_time": "2022-04-17T10:56:40.295Z"
   },
   {
    "duration": 83,
    "start_time": "2022-04-17T10:56:40.459Z"
   },
   {
    "duration": 41,
    "start_time": "2022-04-17T10:56:40.544Z"
   },
   {
    "duration": 87,
    "start_time": "2022-04-17T10:56:40.587Z"
   },
   {
    "duration": 67,
    "start_time": "2022-04-17T10:56:40.676Z"
   },
   {
    "duration": 31,
    "start_time": "2022-04-17T10:56:40.745Z"
   },
   {
    "duration": 102,
    "start_time": "2022-04-17T10:56:40.778Z"
   },
   {
    "duration": 138,
    "start_time": "2022-04-17T10:56:40.882Z"
   },
   {
    "duration": 44,
    "start_time": "2022-04-17T10:56:41.024Z"
   },
   {
    "duration": 64,
    "start_time": "2022-04-17T10:56:41.070Z"
   },
   {
    "duration": 8,
    "start_time": "2022-04-17T10:56:41.136Z"
   },
   {
    "duration": 107,
    "start_time": "2022-04-17T10:56:41.146Z"
   },
   {
    "duration": 7,
    "start_time": "2022-04-17T10:56:41.256Z"
   },
   {
    "duration": 17,
    "start_time": "2022-04-17T10:56:41.266Z"
   },
   {
    "duration": 38,
    "start_time": "2022-04-17T10:56:41.286Z"
   },
   {
    "duration": 36,
    "start_time": "2022-04-17T10:56:41.326Z"
   },
   {
    "duration": 24,
    "start_time": "2022-04-17T10:56:41.365Z"
   },
   {
    "duration": 27,
    "start_time": "2022-04-17T10:56:41.425Z"
   },
   {
    "duration": 12,
    "start_time": "2022-04-17T10:56:41.455Z"
   },
   {
    "duration": 1686,
    "start_time": "2022-04-17T10:56:41.469Z"
   },
   {
    "duration": 18,
    "start_time": "2022-04-17T10:56:43.157Z"
   },
   {
    "duration": 0,
    "start_time": "2022-04-17T10:56:43.177Z"
   },
   {
    "duration": 14,
    "start_time": "2022-04-17T10:56:48.080Z"
   },
   {
    "duration": 5,
    "start_time": "2022-04-17T10:56:53.312Z"
   },
   {
    "duration": 618,
    "start_time": "2022-04-17T10:56:53.320Z"
   },
   {
    "duration": 487,
    "start_time": "2022-04-17T10:56:53.940Z"
   },
   {
    "duration": 896,
    "start_time": "2022-04-17T10:56:54.429Z"
   },
   {
    "duration": 135,
    "start_time": "2022-04-17T10:56:55.329Z"
   },
   {
    "duration": 570,
    "start_time": "2022-04-17T10:56:55.467Z"
   },
   {
    "duration": 471,
    "start_time": "2022-04-17T10:56:56.040Z"
   },
   {
    "duration": 22,
    "start_time": "2022-04-17T10:56:56.513Z"
   },
   {
    "duration": 92,
    "start_time": "2022-04-17T10:56:56.538Z"
   },
   {
    "duration": 6,
    "start_time": "2022-04-17T10:56:56.632Z"
   },
   {
    "duration": 376,
    "start_time": "2022-04-17T10:56:56.640Z"
   },
   {
    "duration": 227,
    "start_time": "2022-04-17T10:56:57.019Z"
   },
   {
    "duration": 155,
    "start_time": "2022-04-17T10:56:57.248Z"
   },
   {
    "duration": 82,
    "start_time": "2022-04-17T10:56:57.408Z"
   },
   {
    "duration": 57,
    "start_time": "2022-04-17T10:56:57.492Z"
   },
   {
    "duration": 88,
    "start_time": "2022-04-17T10:56:57.552Z"
   },
   {
    "duration": 84,
    "start_time": "2022-04-17T10:56:57.642Z"
   },
   {
    "duration": 37,
    "start_time": "2022-04-17T10:56:57.728Z"
   },
   {
    "duration": 108,
    "start_time": "2022-04-17T10:56:57.767Z"
   },
   {
    "duration": 151,
    "start_time": "2022-04-17T10:56:57.878Z"
   },
   {
    "duration": 47,
    "start_time": "2022-04-17T10:56:58.031Z"
   },
   {
    "duration": 70,
    "start_time": "2022-04-17T10:56:58.080Z"
   },
   {
    "duration": 7,
    "start_time": "2022-04-17T10:56:58.152Z"
   },
   {
    "duration": 102,
    "start_time": "2022-04-17T10:56:58.162Z"
   },
   {
    "duration": 7,
    "start_time": "2022-04-17T10:56:58.267Z"
   },
   {
    "duration": 30,
    "start_time": "2022-04-17T10:56:58.276Z"
   },
   {
    "duration": 33,
    "start_time": "2022-04-17T10:56:58.309Z"
   },
   {
    "duration": 47,
    "start_time": "2022-04-17T10:56:58.344Z"
   },
   {
    "duration": 24,
    "start_time": "2022-04-17T10:56:58.393Z"
   },
   {
    "duration": 24,
    "start_time": "2022-04-17T10:56:58.424Z"
   },
   {
    "duration": 12,
    "start_time": "2022-04-17T10:56:58.450Z"
   },
   {
    "duration": 1664,
    "start_time": "2022-04-17T10:56:58.465Z"
   },
   {
    "duration": 14,
    "start_time": "2022-04-17T10:57:00.132Z"
   },
   {
    "duration": 0,
    "start_time": "2022-04-17T10:57:00.149Z"
   },
   {
    "duration": 17,
    "start_time": "2022-04-17T10:57:33.892Z"
   },
   {
    "duration": 9,
    "start_time": "2022-04-17T10:57:34.768Z"
   },
   {
    "duration": 9,
    "start_time": "2022-04-17T10:57:48.225Z"
   },
   {
    "duration": 11,
    "start_time": "2022-04-17T10:57:54.839Z"
   },
   {
    "duration": 39,
    "start_time": "2022-04-17T10:57:56.913Z"
   },
   {
    "duration": 8,
    "start_time": "2022-04-17T10:58:11.956Z"
   },
   {
    "duration": 17,
    "start_time": "2022-04-17T10:59:59.279Z"
   },
   {
    "duration": 19,
    "start_time": "2022-04-17T11:05:51.222Z"
   },
   {
    "duration": 1629,
    "start_time": "2022-04-17T11:07:04.514Z"
   },
   {
    "duration": 0,
    "start_time": "2022-04-17T11:07:06.146Z"
   },
   {
    "duration": 34,
    "start_time": "2022-04-17T11:07:25.061Z"
   },
   {
    "duration": 14,
    "start_time": "2022-04-17T11:07:38.218Z"
   },
   {
    "duration": 8,
    "start_time": "2022-04-17T11:07:39.581Z"
   },
   {
    "duration": 34,
    "start_time": "2022-04-17T11:07:56.117Z"
   },
   {
    "duration": 38,
    "start_time": "2022-04-17T11:08:06.485Z"
   },
   {
    "duration": 6,
    "start_time": "2022-04-17T11:08:35.035Z"
   },
   {
    "duration": 20,
    "start_time": "2022-04-17T11:10:34.754Z"
   },
   {
    "duration": 16,
    "start_time": "2022-04-17T11:10:51.375Z"
   },
   {
    "duration": 15,
    "start_time": "2022-04-17T11:11:05.220Z"
   },
   {
    "duration": 105,
    "start_time": "2022-04-17T11:12:06.480Z"
   },
   {
    "duration": 21,
    "start_time": "2022-04-17T11:12:13.003Z"
   },
   {
    "duration": 16,
    "start_time": "2022-04-17T11:12:27.861Z"
   },
   {
    "duration": 15,
    "start_time": "2022-04-17T11:12:29.962Z"
   },
   {
    "duration": 17,
    "start_time": "2022-04-17T11:12:41.986Z"
   },
   {
    "duration": 16,
    "start_time": "2022-04-17T11:12:46.778Z"
   },
   {
    "duration": 17,
    "start_time": "2022-04-17T11:12:59.894Z"
   },
   {
    "duration": 6,
    "start_time": "2022-04-17T11:23:28.810Z"
   },
   {
    "duration": 580,
    "start_time": "2022-04-17T11:23:28.820Z"
   },
   {
    "duration": 145,
    "start_time": "2022-04-17T11:23:29.403Z"
   },
   {
    "duration": 402,
    "start_time": "2022-04-17T11:23:29.552Z"
   },
   {
    "duration": 420,
    "start_time": "2022-04-17T11:23:29.956Z"
   },
   {
    "duration": 13,
    "start_time": "2022-04-17T11:23:30.378Z"
   },
   {
    "duration": 103,
    "start_time": "2022-04-17T11:23:30.393Z"
   },
   {
    "duration": 5,
    "start_time": "2022-04-17T11:23:30.499Z"
   },
   {
    "duration": 360,
    "start_time": "2022-04-17T11:23:30.506Z"
   },
   {
    "duration": 125,
    "start_time": "2022-04-17T11:23:30.870Z"
   },
   {
    "duration": 36,
    "start_time": "2022-04-17T11:23:30.997Z"
   },
   {
    "duration": 0,
    "start_time": "2022-04-17T11:23:31.035Z"
   },
   {
    "duration": 0,
    "start_time": "2022-04-17T11:23:31.038Z"
   },
   {
    "duration": 0,
    "start_time": "2022-04-17T11:23:31.039Z"
   },
   {
    "duration": 0,
    "start_time": "2022-04-17T11:23:31.041Z"
   },
   {
    "duration": 0,
    "start_time": "2022-04-17T11:23:31.042Z"
   },
   {
    "duration": 0,
    "start_time": "2022-04-17T11:23:31.044Z"
   },
   {
    "duration": 0,
    "start_time": "2022-04-17T11:23:31.046Z"
   },
   {
    "duration": 0,
    "start_time": "2022-04-17T11:23:31.048Z"
   },
   {
    "duration": 0,
    "start_time": "2022-04-17T11:23:31.049Z"
   },
   {
    "duration": 1,
    "start_time": "2022-04-17T11:23:31.050Z"
   },
   {
    "duration": 0,
    "start_time": "2022-04-17T11:23:31.052Z"
   },
   {
    "duration": 0,
    "start_time": "2022-04-17T11:23:31.054Z"
   },
   {
    "duration": 0,
    "start_time": "2022-04-17T11:23:31.055Z"
   },
   {
    "duration": 0,
    "start_time": "2022-04-17T11:23:31.057Z"
   },
   {
    "duration": 0,
    "start_time": "2022-04-17T11:23:31.059Z"
   },
   {
    "duration": 0,
    "start_time": "2022-04-17T11:23:31.061Z"
   },
   {
    "duration": 0,
    "start_time": "2022-04-17T11:23:31.062Z"
   },
   {
    "duration": 0,
    "start_time": "2022-04-17T11:23:31.064Z"
   },
   {
    "duration": 0,
    "start_time": "2022-04-17T11:23:31.066Z"
   },
   {
    "duration": 0,
    "start_time": "2022-04-17T11:23:31.068Z"
   },
   {
    "duration": 0,
    "start_time": "2022-04-17T11:23:31.125Z"
   },
   {
    "duration": 6,
    "start_time": "2022-04-17T11:23:59.672Z"
   },
   {
    "duration": 561,
    "start_time": "2022-04-17T11:23:59.681Z"
   },
   {
    "duration": 140,
    "start_time": "2022-04-17T11:24:00.244Z"
   },
   {
    "duration": 426,
    "start_time": "2022-04-17T11:24:00.388Z"
   },
   {
    "duration": 373,
    "start_time": "2022-04-17T11:24:00.816Z"
   },
   {
    "duration": 13,
    "start_time": "2022-04-17T11:24:01.192Z"
   },
   {
    "duration": 113,
    "start_time": "2022-04-17T11:24:01.208Z"
   },
   {
    "duration": 6,
    "start_time": "2022-04-17T11:24:01.323Z"
   },
   {
    "duration": 357,
    "start_time": "2022-04-17T11:24:01.331Z"
   },
   {
    "duration": 124,
    "start_time": "2022-04-17T11:24:01.693Z"
   },
   {
    "duration": 63,
    "start_time": "2022-04-17T11:24:01.820Z"
   },
   {
    "duration": 51,
    "start_time": "2022-04-17T11:24:01.886Z"
   },
   {
    "duration": 93,
    "start_time": "2022-04-17T11:24:01.939Z"
   },
   {
    "duration": 46,
    "start_time": "2022-04-17T11:24:02.035Z"
   },
   {
    "duration": 8,
    "start_time": "2022-04-17T11:24:02.083Z"
   },
   {
    "duration": 115,
    "start_time": "2022-04-17T11:24:02.093Z"
   },
   {
    "duration": 15,
    "start_time": "2022-04-17T11:24:02.210Z"
   },
   {
    "duration": 14,
    "start_time": "2022-04-17T11:24:02.227Z"
   },
   {
    "duration": 20,
    "start_time": "2022-04-17T11:24:02.243Z"
   },
   {
    "duration": 59,
    "start_time": "2022-04-17T11:24:02.265Z"
   },
   {
    "duration": 23,
    "start_time": "2022-04-17T11:24:02.327Z"
   },
   {
    "duration": 26,
    "start_time": "2022-04-17T11:24:02.353Z"
   },
   {
    "duration": 11,
    "start_time": "2022-04-17T11:24:02.381Z"
   },
   {
    "duration": 1668,
    "start_time": "2022-04-17T11:24:02.394Z"
   },
   {
    "duration": 18,
    "start_time": "2022-04-17T11:24:04.064Z"
   },
   {
    "duration": 41,
    "start_time": "2022-04-17T11:24:04.084Z"
   },
   {
    "duration": 25,
    "start_time": "2022-04-17T11:24:04.127Z"
   },
   {
    "duration": 11,
    "start_time": "2022-04-17T11:24:18.281Z"
   },
   {
    "duration": 37,
    "start_time": "2022-04-17T11:24:22.006Z"
   },
   {
    "duration": 6,
    "start_time": "2022-04-17T12:30:14.013Z"
   },
   {
    "duration": 565,
    "start_time": "2022-04-17T12:30:14.022Z"
   },
   {
    "duration": 146,
    "start_time": "2022-04-17T12:30:14.589Z"
   },
   {
    "duration": 381,
    "start_time": "2022-04-17T12:30:14.737Z"
   },
   {
    "duration": 375,
    "start_time": "2022-04-17T12:30:15.123Z"
   },
   {
    "duration": 11,
    "start_time": "2022-04-17T12:30:15.500Z"
   },
   {
    "duration": 78,
    "start_time": "2022-04-17T12:30:15.525Z"
   },
   {
    "duration": 19,
    "start_time": "2022-04-17T12:30:15.606Z"
   },
   {
    "duration": 356,
    "start_time": "2022-04-17T12:30:15.628Z"
   },
   {
    "duration": 124,
    "start_time": "2022-04-17T12:30:15.986Z"
   },
   {
    "duration": 63,
    "start_time": "2022-04-17T12:30:16.113Z"
   },
   {
    "duration": 24,
    "start_time": "2022-04-17T12:30:16.178Z"
   },
   {
    "duration": 75,
    "start_time": "2022-04-17T12:30:16.225Z"
   },
   {
    "duration": 64,
    "start_time": "2022-04-17T12:30:16.304Z"
   },
   {
    "duration": 7,
    "start_time": "2022-04-17T12:30:16.370Z"
   },
   {
    "duration": 115,
    "start_time": "2022-04-17T12:30:16.380Z"
   },
   {
    "duration": 14,
    "start_time": "2022-04-17T12:30:16.497Z"
   },
   {
    "duration": 28,
    "start_time": "2022-04-17T12:30:16.525Z"
   },
   {
    "duration": 44,
    "start_time": "2022-04-17T12:30:16.555Z"
   },
   {
    "duration": 28,
    "start_time": "2022-04-17T12:30:16.601Z"
   },
   {
    "duration": 38,
    "start_time": "2022-04-17T12:30:16.632Z"
   },
   {
    "duration": 11,
    "start_time": "2022-04-17T12:30:16.672Z"
   },
   {
    "duration": 1634,
    "start_time": "2022-04-17T12:30:16.685Z"
   },
   {
    "duration": 18,
    "start_time": "2022-04-17T12:30:18.324Z"
   },
   {
    "duration": 19,
    "start_time": "2022-04-17T12:30:18.344Z"
   },
   {
    "duration": 17,
    "start_time": "2022-04-17T12:30:18.365Z"
   },
   {
    "duration": 11,
    "start_time": "2022-04-17T12:36:20.144Z"
   },
   {
    "duration": 1543,
    "start_time": "2022-04-17T12:36:20.560Z"
   },
   {
    "duration": 1564,
    "start_time": "2022-04-17T12:36:43.000Z"
   },
   {
    "duration": 799,
    "start_time": "2022-04-17T12:36:44.567Z"
   },
   {
    "duration": 193,
    "start_time": "2022-04-17T12:36:45.368Z"
   },
   {
    "duration": 498,
    "start_time": "2022-04-17T12:36:45.564Z"
   },
   {
    "duration": 487,
    "start_time": "2022-04-17T12:36:46.065Z"
   },
   {
    "duration": 13,
    "start_time": "2022-04-17T12:36:46.554Z"
   },
   {
    "duration": 124,
    "start_time": "2022-04-17T12:36:46.570Z"
   },
   {
    "duration": 6,
    "start_time": "2022-04-17T12:36:46.697Z"
   },
   {
    "duration": 646,
    "start_time": "2022-04-17T12:36:46.706Z"
   },
   {
    "duration": 211,
    "start_time": "2022-04-17T12:36:47.357Z"
   },
   {
    "duration": 118,
    "start_time": "2022-04-17T12:36:47.570Z"
   },
   {
    "duration": 46,
    "start_time": "2022-04-17T12:36:47.691Z"
   },
   {
    "duration": 137,
    "start_time": "2022-04-17T12:36:47.740Z"
   },
   {
    "duration": 87,
    "start_time": "2022-04-17T12:36:47.880Z"
   },
   {
    "duration": 10,
    "start_time": "2022-04-17T12:36:47.970Z"
   },
   {
    "duration": 104,
    "start_time": "2022-04-17T12:36:47.983Z"
   },
   {
    "duration": 14,
    "start_time": "2022-04-17T12:36:48.089Z"
   },
   {
    "duration": 28,
    "start_time": "2022-04-17T12:36:48.105Z"
   },
   {
    "duration": 37,
    "start_time": "2022-04-17T12:36:48.136Z"
   },
   {
    "duration": 24,
    "start_time": "2022-04-17T12:36:48.176Z"
   },
   {
    "duration": 33,
    "start_time": "2022-04-17T12:36:48.225Z"
   },
   {
    "duration": 14,
    "start_time": "2022-04-17T12:36:48.260Z"
   },
   {
    "duration": 1777,
    "start_time": "2022-04-17T12:36:48.276Z"
   },
   {
    "duration": 18,
    "start_time": "2022-04-17T12:36:50.056Z"
   },
   {
    "duration": 24,
    "start_time": "2022-04-17T12:36:50.077Z"
   },
   {
    "duration": 17,
    "start_time": "2022-04-17T12:36:50.104Z"
   },
   {
    "duration": 1558,
    "start_time": "2022-04-17T12:37:34.109Z"
   },
   {
    "duration": 559,
    "start_time": "2022-04-17T12:37:35.670Z"
   },
   {
    "duration": 126,
    "start_time": "2022-04-17T12:37:36.231Z"
   },
   {
    "duration": 451,
    "start_time": "2022-04-17T12:37:36.359Z"
   },
   {
    "duration": 446,
    "start_time": "2022-04-17T12:37:36.815Z"
   },
   {
    "duration": 12,
    "start_time": "2022-04-17T12:37:37.264Z"
   },
   {
    "duration": 100,
    "start_time": "2022-04-17T12:37:37.279Z"
   },
   {
    "duration": 5,
    "start_time": "2022-04-17T12:37:37.381Z"
   },
   {
    "duration": 521,
    "start_time": "2022-04-17T12:37:37.388Z"
   },
   {
    "duration": 202,
    "start_time": "2022-04-17T12:37:37.912Z"
   },
   {
    "duration": 115,
    "start_time": "2022-04-17T12:37:38.116Z"
   },
   {
    "duration": 34,
    "start_time": "2022-04-17T12:37:38.234Z"
   },
   {
    "duration": 147,
    "start_time": "2022-04-17T12:37:38.271Z"
   },
   {
    "duration": 69,
    "start_time": "2022-04-17T12:37:38.423Z"
   },
   {
    "duration": 10,
    "start_time": "2022-04-17T12:37:38.494Z"
   },
   {
    "duration": 166,
    "start_time": "2022-04-17T12:37:38.506Z"
   },
   {
    "duration": 18,
    "start_time": "2022-04-17T12:37:38.675Z"
   },
   {
    "duration": 37,
    "start_time": "2022-04-17T12:37:38.696Z"
   },
   {
    "duration": 51,
    "start_time": "2022-04-17T12:37:38.735Z"
   },
   {
    "duration": 47,
    "start_time": "2022-04-17T12:37:38.789Z"
   },
   {
    "duration": 28,
    "start_time": "2022-04-17T12:37:38.839Z"
   },
   {
    "duration": 11,
    "start_time": "2022-04-17T12:37:38.869Z"
   },
   {
    "duration": 1571,
    "start_time": "2022-04-17T12:37:38.882Z"
   },
   {
    "duration": 16,
    "start_time": "2022-04-17T12:37:40.456Z"
   },
   {
    "duration": 18,
    "start_time": "2022-04-17T12:37:40.475Z"
   },
   {
    "duration": 34,
    "start_time": "2022-04-17T12:37:40.495Z"
   },
   {
    "duration": 11,
    "start_time": "2022-04-17T12:37:52.138Z"
   },
   {
    "duration": 1572,
    "start_time": "2022-04-17T12:37:52.585Z"
   },
   {
    "duration": 15,
    "start_time": "2022-04-17T12:39:57.012Z"
   },
   {
    "duration": 11,
    "start_time": "2022-04-17T12:45:55.688Z"
   },
   {
    "duration": 756,
    "start_time": "2022-04-17T12:45:56.261Z"
   },
   {
    "duration": 10,
    "start_time": "2022-04-17T12:47:04.370Z"
   },
   {
    "duration": 1786,
    "start_time": "2022-04-17T12:47:04.787Z"
   },
   {
    "duration": 15,
    "start_time": "2022-04-17T12:48:16.699Z"
   },
   {
    "duration": 615,
    "start_time": "2022-04-17T12:48:16.932Z"
   },
   {
    "duration": 10,
    "start_time": "2022-04-17T12:48:49.901Z"
   },
   {
    "duration": 2347,
    "start_time": "2022-04-17T12:48:50.128Z"
   },
   {
    "duration": 21,
    "start_time": "2022-04-17T12:49:36.735Z"
   },
   {
    "duration": 22,
    "start_time": "2022-04-17T12:49:46.864Z"
   },
   {
    "duration": 17,
    "start_time": "2022-04-17T12:50:41.135Z"
   },
   {
    "duration": 12,
    "start_time": "2022-04-17T13:06:14.460Z"
   },
   {
    "duration": 17,
    "start_time": "2022-04-17T13:07:33.629Z"
   },
   {
    "duration": 1906,
    "start_time": "2022-04-18T06:59:17.918Z"
   },
   {
    "duration": 1455,
    "start_time": "2022-04-18T06:59:19.829Z"
   },
   {
    "duration": 195,
    "start_time": "2022-04-18T06:59:21.287Z"
   },
   {
    "duration": 418,
    "start_time": "2022-04-18T06:59:21.485Z"
   },
   {
    "duration": 370,
    "start_time": "2022-04-18T06:59:21.907Z"
   },
   {
    "duration": 15,
    "start_time": "2022-04-18T06:59:22.278Z"
   },
   {
    "duration": 107,
    "start_time": "2022-04-18T06:59:22.295Z"
   },
   {
    "duration": 5,
    "start_time": "2022-04-18T06:59:22.404Z"
   },
   {
    "duration": 390,
    "start_time": "2022-04-18T06:59:22.412Z"
   },
   {
    "duration": 143,
    "start_time": "2022-04-18T06:59:22.805Z"
   },
   {
    "duration": 79,
    "start_time": "2022-04-18T06:59:22.950Z"
   },
   {
    "duration": 25,
    "start_time": "2022-04-18T06:59:23.031Z"
   },
   {
    "duration": 92,
    "start_time": "2022-04-18T06:59:23.059Z"
   },
   {
    "duration": 50,
    "start_time": "2022-04-18T06:59:23.155Z"
   },
   {
    "duration": 20,
    "start_time": "2022-04-18T06:59:23.207Z"
   },
   {
    "duration": 106,
    "start_time": "2022-04-18T06:59:23.229Z"
   },
   {
    "duration": 14,
    "start_time": "2022-04-18T06:59:23.338Z"
   },
   {
    "duration": 41,
    "start_time": "2022-04-18T06:59:23.354Z"
   },
   {
    "duration": 43,
    "start_time": "2022-04-18T06:59:23.397Z"
   },
   {
    "duration": 25,
    "start_time": "2022-04-18T06:59:23.442Z"
   },
   {
    "duration": 11,
    "start_time": "2022-04-18T06:59:23.469Z"
   },
   {
    "duration": 1746,
    "start_time": "2022-04-18T06:59:23.483Z"
   },
   {
    "duration": 19,
    "start_time": "2022-04-18T06:59:25.232Z"
   },
   {
    "duration": 18,
    "start_time": "2022-04-18T06:59:25.254Z"
   },
   {
    "duration": 53,
    "start_time": "2022-04-18T06:59:25.275Z"
   },
   {
    "duration": 101,
    "start_time": "2022-04-18T07:54:02.767Z"
   },
   {
    "duration": 11,
    "start_time": "2022-04-18T07:57:20.601Z"
   },
   {
    "duration": 1748,
    "start_time": "2022-04-18T07:57:23.881Z"
   },
   {
    "duration": 52,
    "start_time": "2022-04-18T08:01:48.355Z"
   },
   {
    "duration": 21,
    "start_time": "2022-04-18T08:02:00.630Z"
   },
   {
    "duration": 21,
    "start_time": "2022-04-18T08:02:38.749Z"
   },
   {
    "duration": 17,
    "start_time": "2022-04-18T08:03:27.946Z"
   },
   {
    "duration": 566,
    "start_time": "2022-04-18T08:08:04.374Z"
   },
   {
    "duration": 5,
    "start_time": "2022-04-18T08:08:06.540Z"
   },
   {
    "duration": 564,
    "start_time": "2022-04-18T08:08:06.548Z"
   },
   {
    "duration": 117,
    "start_time": "2022-04-18T08:08:07.114Z"
   },
   {
    "duration": 330,
    "start_time": "2022-04-18T08:08:07.234Z"
   },
   {
    "duration": 329,
    "start_time": "2022-04-18T08:08:07.567Z"
   },
   {
    "duration": 11,
    "start_time": "2022-04-18T08:08:07.898Z"
   },
   {
    "duration": 100,
    "start_time": "2022-04-18T08:08:07.911Z"
   },
   {
    "duration": 5,
    "start_time": "2022-04-18T08:08:08.013Z"
   },
   {
    "duration": 350,
    "start_time": "2022-04-18T08:08:08.021Z"
   },
   {
    "duration": 116,
    "start_time": "2022-04-18T08:08:08.373Z"
   },
   {
    "duration": 65,
    "start_time": "2022-04-18T08:08:08.492Z"
   },
   {
    "duration": 183,
    "start_time": "2022-04-18T08:08:08.559Z"
   },
   {
    "duration": 44,
    "start_time": "2022-04-18T08:08:08.744Z"
   },
   {
    "duration": 8,
    "start_time": "2022-04-18T08:08:08.792Z"
   },
   {
    "duration": 87,
    "start_time": "2022-04-18T08:08:08.825Z"
   },
   {
    "duration": 15,
    "start_time": "2022-04-18T08:08:08.925Z"
   },
   {
    "duration": 53,
    "start_time": "2022-04-18T08:08:08.942Z"
   },
   {
    "duration": 30,
    "start_time": "2022-04-18T08:08:08.997Z"
   },
   {
    "duration": 43,
    "start_time": "2022-04-18T08:08:09.029Z"
   },
   {
    "duration": 11,
    "start_time": "2022-04-18T08:08:09.075Z"
   },
   {
    "duration": 1645,
    "start_time": "2022-04-18T08:08:09.088Z"
   },
   {
    "duration": 14,
    "start_time": "2022-04-18T08:08:10.735Z"
   },
   {
    "duration": 16,
    "start_time": "2022-04-18T08:08:10.751Z"
   },
   {
    "duration": 17,
    "start_time": "2022-04-18T08:08:10.769Z"
   },
   {
    "duration": 49,
    "start_time": "2022-04-18T08:08:10.788Z"
   },
   {
    "duration": 8,
    "start_time": "2022-04-18T08:09:12.029Z"
   },
   {
    "duration": 8,
    "start_time": "2022-04-18T08:22:11.563Z"
   },
   {
    "duration": 1519,
    "start_time": "2022-04-18T08:25:01.344Z"
   },
   {
    "duration": 553,
    "start_time": "2022-04-18T08:25:02.866Z"
   },
   {
    "duration": 113,
    "start_time": "2022-04-18T08:25:03.421Z"
   },
   {
    "duration": 373,
    "start_time": "2022-04-18T08:25:03.536Z"
   },
   {
    "duration": 364,
    "start_time": "2022-04-18T08:25:03.912Z"
   },
   {
    "duration": 13,
    "start_time": "2022-04-18T08:25:04.278Z"
   },
   {
    "duration": 90,
    "start_time": "2022-04-18T08:25:04.293Z"
   },
   {
    "duration": 5,
    "start_time": "2022-04-18T08:25:04.385Z"
   },
   {
    "duration": 371,
    "start_time": "2022-04-18T08:25:04.392Z"
   },
   {
    "duration": 122,
    "start_time": "2022-04-18T08:25:04.766Z"
   },
   {
    "duration": 80,
    "start_time": "2022-04-18T08:25:04.891Z"
   },
   {
    "duration": 85,
    "start_time": "2022-04-18T08:25:04.973Z"
   },
   {
    "duration": 65,
    "start_time": "2022-04-18T08:25:05.061Z"
   },
   {
    "duration": 7,
    "start_time": "2022-04-18T08:25:05.130Z"
   },
   {
    "duration": 115,
    "start_time": "2022-04-18T08:25:05.139Z"
   },
   {
    "duration": 16,
    "start_time": "2022-04-18T08:25:05.256Z"
   },
   {
    "duration": 58,
    "start_time": "2022-04-18T08:25:05.275Z"
   },
   {
    "duration": 26,
    "start_time": "2022-04-18T08:25:05.335Z"
   },
   {
    "duration": 25,
    "start_time": "2022-04-18T08:25:05.363Z"
   },
   {
    "duration": 41,
    "start_time": "2022-04-18T08:25:05.390Z"
   },
   {
    "duration": 1900,
    "start_time": "2022-04-18T08:25:05.434Z"
   },
   {
    "duration": 16,
    "start_time": "2022-04-18T08:25:07.336Z"
   },
   {
    "duration": 17,
    "start_time": "2022-04-18T08:25:07.354Z"
   },
   {
    "duration": 17,
    "start_time": "2022-04-18T08:25:07.373Z"
   },
   {
    "duration": 45,
    "start_time": "2022-04-18T08:25:07.393Z"
   },
   {
    "duration": 1900,
    "start_time": "2022-04-26T15:34:53.510Z"
   },
   {
    "duration": 1117,
    "start_time": "2022-04-26T15:34:55.413Z"
   },
   {
    "duration": 361,
    "start_time": "2022-04-26T15:34:56.532Z"
   },
   {
    "duration": 538,
    "start_time": "2022-04-26T15:34:56.897Z"
   },
   {
    "duration": 339,
    "start_time": "2022-04-26T15:34:57.438Z"
   },
   {
    "duration": 21,
    "start_time": "2022-04-26T15:34:57.781Z"
   },
   {
    "duration": 91,
    "start_time": "2022-04-26T15:34:57.805Z"
   },
   {
    "duration": 6,
    "start_time": "2022-04-26T15:34:57.898Z"
   },
   {
    "duration": 387,
    "start_time": "2022-04-26T15:34:57.908Z"
   },
   {
    "duration": 32,
    "start_time": "2022-04-26T15:34:58.300Z"
   },
   {
    "duration": 140,
    "start_time": "2022-04-26T15:34:58.334Z"
   },
   {
    "duration": 70,
    "start_time": "2022-04-26T15:34:58.476Z"
   },
   {
    "duration": 90,
    "start_time": "2022-04-26T15:34:58.548Z"
   },
   {
    "duration": 60,
    "start_time": "2022-04-26T15:34:58.640Z"
   },
   {
    "duration": 7,
    "start_time": "2022-04-26T15:34:58.703Z"
   },
   {
    "duration": 153,
    "start_time": "2022-04-26T15:34:58.713Z"
   },
   {
    "duration": 26,
    "start_time": "2022-04-26T15:34:58.869Z"
   },
   {
    "duration": 39,
    "start_time": "2022-04-26T15:34:58.898Z"
   },
   {
    "duration": 23,
    "start_time": "2022-04-26T15:34:58.939Z"
   },
   {
    "duration": 23,
    "start_time": "2022-04-26T15:34:58.993Z"
   },
   {
    "duration": 13,
    "start_time": "2022-04-26T15:34:59.019Z"
   },
   {
    "duration": 3091,
    "start_time": "2022-04-26T15:34:59.035Z"
   },
   {
    "duration": 18,
    "start_time": "2022-04-26T15:35:02.128Z"
   },
   {
    "duration": 22,
    "start_time": "2022-04-26T15:35:02.149Z"
   },
   {
    "duration": 34,
    "start_time": "2022-04-26T15:35:02.174Z"
   },
   {
    "duration": 26,
    "start_time": "2022-04-26T15:35:02.212Z"
   },
   {
    "duration": 1973,
    "start_time": "2022-04-26T15:37:04.654Z"
   },
   {
    "duration": 1099,
    "start_time": "2022-04-26T15:37:06.630Z"
   },
   {
    "duration": 366,
    "start_time": "2022-04-26T15:37:07.731Z"
   },
   {
    "duration": 626,
    "start_time": "2022-04-26T15:37:08.100Z"
   },
   {
    "duration": 314,
    "start_time": "2022-04-26T15:37:08.729Z"
   },
   {
    "duration": 11,
    "start_time": "2022-04-26T15:37:09.046Z"
   },
   {
    "duration": 89,
    "start_time": "2022-04-26T15:37:09.060Z"
   },
   {
    "duration": 6,
    "start_time": "2022-04-26T15:37:09.151Z"
   },
   {
    "duration": 363,
    "start_time": "2022-04-26T15:37:09.159Z"
   },
   {
    "duration": 26,
    "start_time": "2022-04-26T15:37:09.526Z"
   },
   {
    "duration": 170,
    "start_time": "2022-04-26T15:37:09.554Z"
   },
   {
    "duration": 116,
    "start_time": "2022-04-26T15:37:09.727Z"
   },
   {
    "duration": 135,
    "start_time": "2022-04-26T15:37:09.846Z"
   },
   {
    "duration": 76,
    "start_time": "2022-04-26T15:37:09.984Z"
   },
   {
    "duration": 10,
    "start_time": "2022-04-26T15:37:10.063Z"
   },
   {
    "duration": 145,
    "start_time": "2022-04-26T15:37:10.095Z"
   },
   {
    "duration": 13,
    "start_time": "2022-04-26T15:37:10.242Z"
   },
   {
    "duration": 58,
    "start_time": "2022-04-26T15:37:10.257Z"
   },
   {
    "duration": 21,
    "start_time": "2022-04-26T15:37:10.317Z"
   },
   {
    "duration": 60,
    "start_time": "2022-04-26T15:37:10.340Z"
   },
   {
    "duration": 15,
    "start_time": "2022-04-26T15:37:10.404Z"
   },
   {
    "duration": 2562,
    "start_time": "2022-04-26T15:37:10.423Z"
   },
   {
    "duration": 18,
    "start_time": "2022-04-26T15:37:12.988Z"
   },
   {
    "duration": 19,
    "start_time": "2022-04-26T15:37:13.009Z"
   },
   {
    "duration": 20,
    "start_time": "2022-04-26T15:37:13.031Z"
   },
   {
    "duration": 49,
    "start_time": "2022-04-26T15:37:13.054Z"
   },
   {
    "duration": 2789,
    "start_time": "2022-04-26T15:38:24.508Z"
   },
   {
    "duration": 995,
    "start_time": "2022-04-26T15:38:27.300Z"
   },
   {
    "duration": 118,
    "start_time": "2022-04-26T15:38:28.297Z"
   },
   {
    "duration": 338,
    "start_time": "2022-04-26T15:38:28.417Z"
   },
   {
    "duration": 337,
    "start_time": "2022-04-26T15:38:28.757Z"
   },
   {
    "duration": 12,
    "start_time": "2022-04-26T15:38:29.096Z"
   },
   {
    "duration": 87,
    "start_time": "2022-04-26T15:38:29.111Z"
   },
   {
    "duration": 5,
    "start_time": "2022-04-26T15:38:29.201Z"
   },
   {
    "duration": 357,
    "start_time": "2022-04-26T15:38:29.209Z"
   },
   {
    "duration": 124,
    "start_time": "2022-04-26T15:38:29.571Z"
   },
   {
    "duration": 61,
    "start_time": "2022-04-26T15:38:29.698Z"
   },
   {
    "duration": 98,
    "start_time": "2022-04-26T15:38:29.762Z"
   },
   {
    "duration": 67,
    "start_time": "2022-04-26T15:38:29.863Z"
   },
   {
    "duration": 31,
    "start_time": "2022-04-26T15:38:29.932Z"
   },
   {
    "duration": 29,
    "start_time": "2022-04-26T15:38:29.966Z"
   },
   {
    "duration": 107,
    "start_time": "2022-04-26T15:38:29.998Z"
   },
   {
    "duration": 15,
    "start_time": "2022-04-26T15:38:30.108Z"
   },
   {
    "duration": 45,
    "start_time": "2022-04-26T15:38:30.125Z"
   },
   {
    "duration": 42,
    "start_time": "2022-04-26T15:38:30.172Z"
   },
   {
    "duration": 23,
    "start_time": "2022-04-26T15:38:30.217Z"
   },
   {
    "duration": 27,
    "start_time": "2022-04-26T15:38:30.243Z"
   },
   {
    "duration": 1741,
    "start_time": "2022-04-26T15:38:30.272Z"
   },
   {
    "duration": 14,
    "start_time": "2022-04-26T15:38:32.016Z"
   },
   {
    "duration": 20,
    "start_time": "2022-04-26T15:38:32.032Z"
   },
   {
    "duration": 15,
    "start_time": "2022-04-26T15:38:32.055Z"
   },
   {
    "duration": 30,
    "start_time": "2022-04-26T15:38:32.072Z"
   },
   {
    "duration": 2606,
    "start_time": "2022-04-26T15:43:48.519Z"
   },
   {
    "duration": 1251,
    "start_time": "2022-04-26T15:43:51.128Z"
   },
   {
    "duration": 165,
    "start_time": "2022-04-26T15:43:52.382Z"
   },
   {
    "duration": 449,
    "start_time": "2022-04-26T15:43:52.552Z"
   },
   {
    "duration": 425,
    "start_time": "2022-04-26T15:43:53.004Z"
   },
   {
    "duration": 16,
    "start_time": "2022-04-26T15:43:53.431Z"
   },
   {
    "duration": 102,
    "start_time": "2022-04-26T15:43:53.450Z"
   },
   {
    "duration": 7,
    "start_time": "2022-04-26T15:43:53.555Z"
   },
   {
    "duration": 367,
    "start_time": "2022-04-26T15:43:53.564Z"
   },
   {
    "duration": 129,
    "start_time": "2022-04-26T15:43:53.937Z"
   },
   {
    "duration": 161,
    "start_time": "2022-04-26T15:43:54.068Z"
   },
   {
    "duration": 0,
    "start_time": "2022-04-26T15:43:54.231Z"
   },
   {
    "duration": 0,
    "start_time": "2022-04-26T15:43:54.234Z"
   },
   {
    "duration": 0,
    "start_time": "2022-04-26T15:43:54.235Z"
   },
   {
    "duration": 0,
    "start_time": "2022-04-26T15:43:54.237Z"
   },
   {
    "duration": 0,
    "start_time": "2022-04-26T15:43:54.238Z"
   },
   {
    "duration": 0,
    "start_time": "2022-04-26T15:43:54.240Z"
   },
   {
    "duration": 0,
    "start_time": "2022-04-26T15:43:54.241Z"
   },
   {
    "duration": 0,
    "start_time": "2022-04-26T15:43:54.243Z"
   },
   {
    "duration": 0,
    "start_time": "2022-04-26T15:43:54.244Z"
   },
   {
    "duration": 0,
    "start_time": "2022-04-26T15:43:54.246Z"
   },
   {
    "duration": 0,
    "start_time": "2022-04-26T15:43:54.247Z"
   },
   {
    "duration": 0,
    "start_time": "2022-04-26T15:43:54.249Z"
   },
   {
    "duration": 0,
    "start_time": "2022-04-26T15:43:54.251Z"
   },
   {
    "duration": 0,
    "start_time": "2022-04-26T15:43:54.252Z"
   },
   {
    "duration": 0,
    "start_time": "2022-04-26T15:43:54.293Z"
   },
   {
    "duration": 5,
    "start_time": "2022-04-26T15:44:15.728Z"
   },
   {
    "duration": 8,
    "start_time": "2022-04-26T15:44:28.658Z"
   },
   {
    "duration": 13,
    "start_time": "2022-04-26T15:44:37.019Z"
   },
   {
    "duration": 6,
    "start_time": "2022-04-26T15:44:41.599Z"
   },
   {
    "duration": 6,
    "start_time": "2022-04-26T15:45:04.437Z"
   },
   {
    "duration": 61,
    "start_time": "2022-04-26T15:45:38.969Z"
   },
   {
    "duration": 6,
    "start_time": "2022-04-26T15:45:39.224Z"
   },
   {
    "duration": 11,
    "start_time": "2022-04-26T15:46:00.523Z"
   },
   {
    "duration": 76,
    "start_time": "2022-04-26T15:46:07.986Z"
   },
   {
    "duration": 7,
    "start_time": "2022-04-26T15:46:08.179Z"
   },
   {
    "duration": 2669,
    "start_time": "2022-04-26T15:46:43.088Z"
   },
   {
    "duration": 2549,
    "start_time": "2022-04-26T15:46:45.761Z"
   },
   {
    "duration": 305,
    "start_time": "2022-04-26T15:46:48.312Z"
   },
   {
    "duration": 532,
    "start_time": "2022-04-26T15:46:48.620Z"
   },
   {
    "duration": 421,
    "start_time": "2022-04-26T15:46:49.155Z"
   },
   {
    "duration": 26,
    "start_time": "2022-04-26T15:46:49.579Z"
   },
   {
    "duration": 112,
    "start_time": "2022-04-26T15:46:49.608Z"
   },
   {
    "duration": 7,
    "start_time": "2022-04-26T15:46:49.722Z"
   },
   {
    "duration": 1070,
    "start_time": "2022-04-26T15:46:49.732Z"
   },
   {
    "duration": 199,
    "start_time": "2022-04-26T15:46:50.807Z"
   },
   {
    "duration": 59,
    "start_time": "2022-04-26T15:46:51.009Z"
   },
   {
    "duration": 90,
    "start_time": "2022-04-26T15:46:51.071Z"
   },
   {
    "duration": 70,
    "start_time": "2022-04-26T15:46:51.164Z"
   },
   {
    "duration": 7,
    "start_time": "2022-04-26T15:46:51.236Z"
   },
   {
    "duration": 102,
    "start_time": "2022-04-26T15:46:51.246Z"
   },
   {
    "duration": 14,
    "start_time": "2022-04-26T15:46:51.350Z"
   },
   {
    "duration": 52,
    "start_time": "2022-04-26T15:46:51.366Z"
   },
   {
    "duration": 23,
    "start_time": "2022-04-26T15:46:51.420Z"
   },
   {
    "duration": 49,
    "start_time": "2022-04-26T15:46:51.445Z"
   },
   {
    "duration": 11,
    "start_time": "2022-04-26T15:46:51.496Z"
   },
   {
    "duration": 1813,
    "start_time": "2022-04-26T15:46:51.509Z"
   },
   {
    "duration": 20,
    "start_time": "2022-04-26T15:46:53.324Z"
   },
   {
    "duration": 22,
    "start_time": "2022-04-26T15:46:53.347Z"
   },
   {
    "duration": 30,
    "start_time": "2022-04-26T15:46:53.371Z"
   },
   {
    "duration": 15,
    "start_time": "2022-04-26T15:46:53.403Z"
   },
   {
    "duration": 9,
    "start_time": "2022-04-26T15:47:30.790Z"
   },
   {
    "duration": 2481,
    "start_time": "2022-04-26T15:48:39.933Z"
   },
   {
    "duration": 1590,
    "start_time": "2022-04-26T15:48:42.417Z"
   },
   {
    "duration": 313,
    "start_time": "2022-04-26T15:48:44.010Z"
   },
   {
    "duration": 680,
    "start_time": "2022-04-26T15:48:44.326Z"
   },
   {
    "duration": 453,
    "start_time": "2022-04-26T15:48:45.009Z"
   },
   {
    "duration": 29,
    "start_time": "2022-04-26T15:48:45.465Z"
   },
   {
    "duration": 114,
    "start_time": "2022-04-26T15:48:45.496Z"
   },
   {
    "duration": 6,
    "start_time": "2022-04-26T15:48:45.613Z"
   },
   {
    "duration": 693,
    "start_time": "2022-04-26T15:48:45.622Z"
   },
   {
    "duration": 208,
    "start_time": "2022-04-26T15:48:46.319Z"
   },
   {
    "duration": 166,
    "start_time": "2022-04-26T15:48:46.529Z"
   },
   {
    "duration": 119,
    "start_time": "2022-04-26T15:48:46.697Z"
   },
   {
    "duration": 98,
    "start_time": "2022-04-26T15:48:46.818Z"
   },
   {
    "duration": 81,
    "start_time": "2022-04-26T15:48:46.918Z"
   },
   {
    "duration": 8,
    "start_time": "2022-04-26T15:48:47.001Z"
   },
   {
    "duration": 197,
    "start_time": "2022-04-26T15:48:47.011Z"
   },
   {
    "duration": 13,
    "start_time": "2022-04-26T15:48:47.210Z"
   },
   {
    "duration": 104,
    "start_time": "2022-04-26T15:48:47.226Z"
   },
   {
    "duration": 76,
    "start_time": "2022-04-26T15:48:47.332Z"
   },
   {
    "duration": 24,
    "start_time": "2022-04-26T15:48:47.410Z"
   },
   {
    "duration": 10,
    "start_time": "2022-04-26T15:48:47.492Z"
   },
   {
    "duration": 5437,
    "start_time": "2022-04-26T15:48:47.505Z"
   },
   {
    "duration": 53,
    "start_time": "2022-04-26T15:48:52.945Z"
   },
   {
    "duration": 18,
    "start_time": "2022-04-26T15:48:53.001Z"
   },
   {
    "duration": 17,
    "start_time": "2022-04-26T15:48:53.021Z"
   },
   {
    "duration": 16,
    "start_time": "2022-04-26T15:48:53.094Z"
   },
   {
    "duration": 47,
    "start_time": "2022-04-26T15:49:22.863Z"
   },
   {
    "duration": 30,
    "start_time": "2022-04-26T15:49:23.523Z"
   },
   {
    "duration": 7,
    "start_time": "2022-04-26T15:50:16.758Z"
   },
   {
    "duration": 10,
    "start_time": "2022-04-26T15:50:21.521Z"
   },
   {
    "duration": 191,
    "start_time": "2022-04-26T15:50:52.827Z"
   },
   {
    "duration": 21,
    "start_time": "2022-04-26T15:51:02.130Z"
   },
   {
    "duration": 37,
    "start_time": "2022-04-26T15:52:51.596Z"
   },
   {
    "duration": 191,
    "start_time": "2022-04-26T15:53:15.538Z"
   },
   {
    "duration": 54,
    "start_time": "2022-04-26T15:53:25.530Z"
   },
   {
    "duration": 32,
    "start_time": "2022-04-26T15:53:27.078Z"
   },
   {
    "duration": 22,
    "start_time": "2022-04-26T15:54:08.813Z"
   },
   {
    "duration": 21,
    "start_time": "2022-04-26T15:55:29.771Z"
   },
   {
    "duration": 19,
    "start_time": "2022-04-26T15:56:16.029Z"
   },
   {
    "duration": 1587,
    "start_time": "2022-04-26T15:57:15.448Z"
   },
   {
    "duration": 573,
    "start_time": "2022-04-26T15:57:17.038Z"
   },
   {
    "duration": 120,
    "start_time": "2022-04-26T15:57:17.614Z"
   },
   {
    "duration": 339,
    "start_time": "2022-04-26T15:57:17.737Z"
   },
   {
    "duration": 330,
    "start_time": "2022-04-26T15:57:18.078Z"
   },
   {
    "duration": 11,
    "start_time": "2022-04-26T15:57:19.322Z"
   },
   {
    "duration": 73,
    "start_time": "2022-04-26T15:57:20.132Z"
   },
   {
    "duration": 5,
    "start_time": "2022-04-26T15:57:22.075Z"
   },
   {
    "duration": 373,
    "start_time": "2022-04-26T15:57:24.090Z"
   },
   {
    "duration": 127,
    "start_time": "2022-04-26T15:57:27.990Z"
   },
   {
    "duration": 62,
    "start_time": "2022-04-26T15:57:31.007Z"
   },
   {
    "duration": 80,
    "start_time": "2022-04-26T15:57:31.681Z"
   },
   {
    "duration": 23,
    "start_time": "2022-04-26T15:57:32.285Z"
   },
   {
    "duration": 61,
    "start_time": "2022-04-26T15:57:48.526Z"
   },
   {
    "duration": 20,
    "start_time": "2022-04-26T15:57:48.986Z"
   },
   {
    "duration": 38,
    "start_time": "2022-04-26T16:02:28.039Z"
   },
   {
    "duration": 41,
    "start_time": "2022-04-26T16:03:41.303Z"
   },
   {
    "duration": 978,
    "start_time": "2022-04-26T16:05:35.041Z"
   },
   {
    "duration": 37,
    "start_time": "2022-04-26T16:05:49.925Z"
   },
   {
    "duration": 46,
    "start_time": "2022-04-26T16:06:05.341Z"
   },
   {
    "duration": 38,
    "start_time": "2022-04-26T16:06:25.041Z"
   },
   {
    "duration": 54,
    "start_time": "2022-04-26T16:06:29.014Z"
   },
   {
    "duration": 56,
    "start_time": "2022-04-26T16:07:25.479Z"
   },
   {
    "duration": 61,
    "start_time": "2022-04-26T16:07:48.092Z"
   },
   {
    "duration": 41,
    "start_time": "2022-04-26T16:09:07.520Z"
   },
   {
    "duration": 42,
    "start_time": "2022-04-26T16:10:07.017Z"
   },
   {
    "duration": 41,
    "start_time": "2022-04-26T16:10:14.854Z"
   },
   {
    "duration": 1743,
    "start_time": "2022-04-26T16:42:05.881Z"
   },
   {
    "duration": 590,
    "start_time": "2022-04-26T16:42:07.627Z"
   },
   {
    "duration": 140,
    "start_time": "2022-04-26T16:42:08.219Z"
   },
   {
    "duration": 363,
    "start_time": "2022-04-26T16:42:08.363Z"
   },
   {
    "duration": 331,
    "start_time": "2022-04-26T16:42:08.728Z"
   },
   {
    "duration": 12,
    "start_time": "2022-04-26T16:42:09.061Z"
   },
   {
    "duration": 86,
    "start_time": "2022-04-26T16:42:09.075Z"
   },
   {
    "duration": 6,
    "start_time": "2022-04-26T16:42:09.163Z"
   },
   {
    "duration": 376,
    "start_time": "2022-04-26T16:42:09.171Z"
   },
   {
    "duration": 118,
    "start_time": "2022-04-26T16:42:09.551Z"
   },
   {
    "duration": 72,
    "start_time": "2022-04-26T16:42:09.671Z"
   },
   {
    "duration": 85,
    "start_time": "2022-04-26T16:42:09.745Z"
   },
   {
    "duration": 65,
    "start_time": "2022-04-26T16:42:09.833Z"
   },
   {
    "duration": 10,
    "start_time": "2022-04-26T16:42:09.901Z"
   },
   {
    "duration": 144,
    "start_time": "2022-04-26T16:42:09.914Z"
   },
   {
    "duration": 14,
    "start_time": "2022-04-26T16:42:10.061Z"
   },
   {
    "duration": 32,
    "start_time": "2022-04-26T16:42:10.094Z"
   },
   {
    "duration": 22,
    "start_time": "2022-04-26T16:42:10.129Z"
   },
   {
    "duration": 57,
    "start_time": "2022-04-26T16:42:10.153Z"
   },
   {
    "duration": 16,
    "start_time": "2022-04-26T16:42:10.213Z"
   },
   {
    "duration": 1667,
    "start_time": "2022-04-26T16:42:10.231Z"
   },
   {
    "duration": 16,
    "start_time": "2022-04-26T16:42:11.900Z"
   },
   {
    "duration": 20,
    "start_time": "2022-04-26T16:42:11.918Z"
   },
   {
    "duration": 16,
    "start_time": "2022-04-26T16:42:11.940Z"
   },
   {
    "duration": 46,
    "start_time": "2022-04-26T16:42:11.959Z"
   },
   {
    "duration": 1544,
    "start_time": "2022-04-26T16:44:21.454Z"
   },
   {
    "duration": 573,
    "start_time": "2022-04-26T16:44:23.001Z"
   },
   {
    "duration": 94,
    "start_time": "2022-04-26T16:44:23.576Z"
   },
   {
    "duration": 350,
    "start_time": "2022-04-26T16:44:23.673Z"
   },
   {
    "duration": 331,
    "start_time": "2022-04-26T16:44:24.025Z"
   },
   {
    "duration": 12,
    "start_time": "2022-04-26T16:44:24.358Z"
   },
   {
    "duration": 86,
    "start_time": "2022-04-26T16:44:24.372Z"
   },
   {
    "duration": 5,
    "start_time": "2022-04-26T16:44:24.461Z"
   },
   {
    "duration": 354,
    "start_time": "2022-04-26T16:44:24.468Z"
   },
   {
    "duration": 121,
    "start_time": "2022-04-26T16:44:24.825Z"
   },
   {
    "duration": 74,
    "start_time": "2022-04-26T16:44:24.948Z"
   },
   {
    "duration": 89,
    "start_time": "2022-04-26T16:44:25.024Z"
   },
   {
    "duration": 52,
    "start_time": "2022-04-26T16:44:25.115Z"
   },
   {
    "duration": 24,
    "start_time": "2022-04-26T16:44:25.169Z"
   },
   {
    "duration": 121,
    "start_time": "2022-04-26T16:44:25.195Z"
   },
   {
    "duration": 13,
    "start_time": "2022-04-26T16:44:25.318Z"
   },
   {
    "duration": 61,
    "start_time": "2022-04-26T16:44:25.334Z"
   },
   {
    "duration": 22,
    "start_time": "2022-04-26T16:44:25.397Z"
   },
   {
    "duration": 24,
    "start_time": "2022-04-26T16:44:25.422Z"
   },
   {
    "duration": 48,
    "start_time": "2022-04-26T16:44:25.449Z"
   },
   {
    "duration": 1651,
    "start_time": "2022-04-26T16:44:25.499Z"
   },
   {
    "duration": 16,
    "start_time": "2022-04-26T16:44:27.152Z"
   },
   {
    "duration": 30,
    "start_time": "2022-04-26T16:44:27.171Z"
   },
   {
    "duration": 15,
    "start_time": "2022-04-26T16:44:27.203Z"
   },
   {
    "duration": 16,
    "start_time": "2022-04-26T16:44:27.220Z"
   },
   {
    "duration": 54,
    "start_time": "2022-04-26T17:06:36.743Z"
   },
   {
    "duration": 1501,
    "start_time": "2022-04-26T17:06:38.686Z"
   },
   {
    "duration": 480,
    "start_time": "2022-04-26T17:06:40.190Z"
   },
   {
    "duration": 116,
    "start_time": "2022-04-26T17:07:54.395Z"
   },
   {
    "duration": 5,
    "start_time": "2022-04-26T17:08:04.231Z"
   },
   {
    "duration": 515,
    "start_time": "2022-04-26T17:08:04.239Z"
   },
   {
    "duration": 103,
    "start_time": "2022-04-26T17:08:04.758Z"
   },
   {
    "duration": 272,
    "start_time": "2022-04-26T17:08:04.863Z"
   },
   {
    "duration": 278,
    "start_time": "2022-04-26T17:08:05.137Z"
   },
   {
    "duration": 14,
    "start_time": "2022-04-26T17:08:05.416Z"
   },
   {
    "duration": 85,
    "start_time": "2022-04-26T17:08:05.432Z"
   },
   {
    "duration": 5,
    "start_time": "2022-04-26T17:08:05.519Z"
   },
   {
    "duration": 299,
    "start_time": "2022-04-26T17:08:05.526Z"
   },
   {
    "duration": 102,
    "start_time": "2022-04-26T17:08:05.827Z"
   },
   {
    "duration": 71,
    "start_time": "2022-04-26T17:08:05.930Z"
   },
   {
    "duration": 88,
    "start_time": "2022-04-26T17:08:06.003Z"
   },
   {
    "duration": 33,
    "start_time": "2022-04-26T17:08:06.092Z"
   },
   {
    "duration": 16,
    "start_time": "2022-04-26T17:08:06.128Z"
   },
   {
    "duration": 138,
    "start_time": "2022-04-26T17:08:06.146Z"
   },
   {
    "duration": 12,
    "start_time": "2022-04-26T17:08:06.286Z"
   },
   {
    "duration": 29,
    "start_time": "2022-04-26T17:08:06.300Z"
   },
   {
    "duration": 27,
    "start_time": "2022-04-26T17:08:06.334Z"
   },
   {
    "duration": 27,
    "start_time": "2022-04-26T17:08:06.365Z"
   },
   {
    "duration": 9,
    "start_time": "2022-04-26T17:08:06.394Z"
   },
   {
    "duration": 1207,
    "start_time": "2022-04-26T17:08:06.405Z"
   },
   {
    "duration": 14,
    "start_time": "2022-04-26T17:08:07.614Z"
   },
   {
    "duration": 48,
    "start_time": "2022-04-26T17:08:07.630Z"
   },
   {
    "duration": 11,
    "start_time": "2022-04-26T17:08:07.680Z"
   },
   {
    "duration": 12,
    "start_time": "2022-04-26T17:08:07.692Z"
   },
   {
    "duration": 33,
    "start_time": "2022-04-26T17:11:23.164Z"
   },
   {
    "duration": 30,
    "start_time": "2022-04-26T17:11:26.097Z"
   },
   {
    "duration": 34,
    "start_time": "2022-04-26T17:11:32.849Z"
   },
   {
    "duration": 19,
    "start_time": "2022-04-26T17:12:31.310Z"
   },
   {
    "duration": 23,
    "start_time": "2022-04-26T17:12:33.459Z"
   },
   {
    "duration": 8,
    "start_time": "2022-04-26T17:12:38.027Z"
   },
   {
    "duration": 28,
    "start_time": "2022-04-26T17:12:48.644Z"
   },
   {
    "duration": 8,
    "start_time": "2022-04-26T17:12:50.060Z"
   },
   {
    "duration": 20,
    "start_time": "2022-04-26T17:13:50.328Z"
   },
   {
    "duration": 61,
    "start_time": "2022-04-26T17:15:31.005Z"
   },
   {
    "duration": 10,
    "start_time": "2022-04-26T17:15:31.394Z"
   },
   {
    "duration": 29,
    "start_time": "2022-04-26T17:15:35.611Z"
   },
   {
    "duration": 26,
    "start_time": "2022-04-26T17:15:40.759Z"
   },
   {
    "duration": 26,
    "start_time": "2022-04-26T17:15:41.377Z"
   },
   {
    "duration": 45,
    "start_time": "2022-04-26T17:15:49.818Z"
   },
   {
    "duration": 26,
    "start_time": "2022-04-26T17:15:50.151Z"
   },
   {
    "duration": 31,
    "start_time": "2022-04-26T17:15:54.514Z"
   },
   {
    "duration": 31,
    "start_time": "2022-04-26T17:15:54.916Z"
   },
   {
    "duration": 18,
    "start_time": "2022-04-26T17:15:59.363Z"
   },
   {
    "duration": 12,
    "start_time": "2022-04-26T17:16:20.544Z"
   },
   {
    "duration": 31,
    "start_time": "2022-04-26T17:17:32.076Z"
   },
   {
    "duration": 21,
    "start_time": "2022-04-26T17:17:36.251Z"
   },
   {
    "duration": 29,
    "start_time": "2022-04-26T17:17:40.185Z"
   },
   {
    "duration": 20,
    "start_time": "2022-04-26T17:17:40.632Z"
   },
   {
    "duration": 9,
    "start_time": "2022-04-26T17:18:29.490Z"
   },
   {
    "duration": 153,
    "start_time": "2022-04-26T17:20:05.363Z"
   },
   {
    "duration": 6,
    "start_time": "2022-04-26T17:20:12.563Z"
   },
   {
    "duration": 11,
    "start_time": "2022-04-26T17:20:16.350Z"
   },
   {
    "duration": 7,
    "start_time": "2022-04-26T17:21:44.347Z"
   },
   {
    "duration": 16,
    "start_time": "2022-04-26T17:21:47.871Z"
   },
   {
    "duration": 11,
    "start_time": "2022-04-26T17:21:49.720Z"
   },
   {
    "duration": 21,
    "start_time": "2022-04-26T17:22:06.459Z"
   },
   {
    "duration": 32,
    "start_time": "2022-04-26T17:22:12.501Z"
   },
   {
    "duration": 10,
    "start_time": "2022-04-26T17:22:17.512Z"
   },
   {
    "duration": 8,
    "start_time": "2022-04-26T17:22:21.267Z"
   },
   {
    "duration": 4,
    "start_time": "2022-04-26T17:22:27.656Z"
   },
   {
    "duration": 691,
    "start_time": "2022-04-26T17:22:27.662Z"
   },
   {
    "duration": 88,
    "start_time": "2022-04-26T17:22:28.358Z"
   },
   {
    "duration": 254,
    "start_time": "2022-04-26T17:22:28.450Z"
   },
   {
    "duration": 236,
    "start_time": "2022-04-26T17:22:28.706Z"
   },
   {
    "duration": 9,
    "start_time": "2022-04-26T17:22:28.945Z"
   },
   {
    "duration": 58,
    "start_time": "2022-04-26T17:22:28.956Z"
   },
   {
    "duration": 7,
    "start_time": "2022-04-26T17:22:29.017Z"
   },
   {
    "duration": 723,
    "start_time": "2022-04-26T17:22:29.027Z"
   },
   {
    "duration": 196,
    "start_time": "2022-04-26T17:22:29.752Z"
   },
   {
    "duration": 174,
    "start_time": "2022-04-26T17:22:29.950Z"
   },
   {
    "duration": 137,
    "start_time": "2022-04-26T17:22:30.126Z"
   },
   {
    "duration": 243,
    "start_time": "2022-04-26T17:22:30.266Z"
   },
   {
    "duration": 0,
    "start_time": "2022-04-26T17:22:30.511Z"
   },
   {
    "duration": 0,
    "start_time": "2022-04-26T17:22:30.513Z"
   },
   {
    "duration": 0,
    "start_time": "2022-04-26T17:22:30.515Z"
   },
   {
    "duration": 0,
    "start_time": "2022-04-26T17:22:30.516Z"
   },
   {
    "duration": 0,
    "start_time": "2022-04-26T17:22:30.517Z"
   },
   {
    "duration": 0,
    "start_time": "2022-04-26T17:22:30.519Z"
   },
   {
    "duration": 0,
    "start_time": "2022-04-26T17:22:30.520Z"
   },
   {
    "duration": 1,
    "start_time": "2022-04-26T17:22:30.520Z"
   },
   {
    "duration": 0,
    "start_time": "2022-04-26T17:22:30.522Z"
   },
   {
    "duration": 0,
    "start_time": "2022-04-26T17:22:30.524Z"
   },
   {
    "duration": 0,
    "start_time": "2022-04-26T17:22:30.525Z"
   },
   {
    "duration": 0,
    "start_time": "2022-04-26T17:22:30.527Z"
   },
   {
    "duration": 0,
    "start_time": "2022-04-26T17:22:30.529Z"
   },
   {
    "duration": 0,
    "start_time": "2022-04-26T17:22:30.531Z"
   },
   {
    "duration": 0,
    "start_time": "2022-04-26T17:22:30.533Z"
   },
   {
    "duration": 46,
    "start_time": "2022-04-26T17:22:51.554Z"
   },
   {
    "duration": 7,
    "start_time": "2022-04-26T17:22:52.878Z"
   },
   {
    "duration": 13,
    "start_time": "2022-04-26T17:22:53.363Z"
   },
   {
    "duration": 8,
    "start_time": "2022-04-26T17:22:53.687Z"
   },
   {
    "duration": 12,
    "start_time": "2022-04-26T17:23:06.363Z"
   },
   {
    "duration": 10,
    "start_time": "2022-04-26T17:25:04.351Z"
   },
   {
    "duration": 4,
    "start_time": "2022-04-26T17:25:06.986Z"
   },
   {
    "duration": 582,
    "start_time": "2022-04-26T17:25:06.993Z"
   },
   {
    "duration": 93,
    "start_time": "2022-04-26T17:25:07.576Z"
   },
   {
    "duration": 393,
    "start_time": "2022-04-26T17:25:07.671Z"
   },
   {
    "duration": 414,
    "start_time": "2022-04-26T17:25:08.066Z"
   },
   {
    "duration": 54,
    "start_time": "2022-04-26T17:25:08.482Z"
   },
   {
    "duration": 121,
    "start_time": "2022-04-26T17:25:08.538Z"
   },
   {
    "duration": 5,
    "start_time": "2022-04-26T17:25:08.662Z"
   },
   {
    "duration": 484,
    "start_time": "2022-04-26T17:25:08.669Z"
   },
   {
    "duration": 178,
    "start_time": "2022-04-26T17:25:09.158Z"
   },
   {
    "duration": 88,
    "start_time": "2022-04-26T17:25:09.340Z"
   },
   {
    "duration": 232,
    "start_time": "2022-04-26T17:25:09.430Z"
   },
   {
    "duration": 103,
    "start_time": "2022-04-26T17:25:09.663Z"
   },
   {
    "duration": 7,
    "start_time": "2022-04-26T17:25:09.767Z"
   },
   {
    "duration": 9,
    "start_time": "2022-04-26T17:25:09.775Z"
   },
   {
    "duration": 48,
    "start_time": "2022-04-26T17:25:09.785Z"
   },
   {
    "duration": 32,
    "start_time": "2022-04-26T17:25:09.835Z"
   },
   {
    "duration": 178,
    "start_time": "2022-04-26T17:25:09.869Z"
   },
   {
    "duration": 12,
    "start_time": "2022-04-26T17:25:10.049Z"
   },
   {
    "duration": 26,
    "start_time": "2022-04-26T17:25:10.062Z"
   },
   {
    "duration": 14,
    "start_time": "2022-04-26T17:25:10.090Z"
   },
   {
    "duration": 15,
    "start_time": "2022-04-26T17:25:10.124Z"
   },
   {
    "duration": 17,
    "start_time": "2022-04-26T17:25:10.141Z"
   },
   {
    "duration": 985,
    "start_time": "2022-04-26T17:25:10.160Z"
   },
   {
    "duration": 11,
    "start_time": "2022-04-26T17:25:11.149Z"
   },
   {
    "duration": 13,
    "start_time": "2022-04-26T17:25:11.162Z"
   },
   {
    "duration": 13,
    "start_time": "2022-04-26T17:25:11.177Z"
   },
   {
    "duration": 37,
    "start_time": "2022-04-26T17:25:11.193Z"
   },
   {
    "duration": 33,
    "start_time": "2022-04-26T17:26:35.676Z"
   },
   {
    "duration": 4,
    "start_time": "2022-04-26T17:30:36.611Z"
   },
   {
    "duration": 479,
    "start_time": "2022-04-26T17:30:36.636Z"
   },
   {
    "duration": 117,
    "start_time": "2022-04-26T17:30:37.117Z"
   },
   {
    "duration": 296,
    "start_time": "2022-04-26T17:30:37.235Z"
   },
   {
    "duration": 406,
    "start_time": "2022-04-26T17:30:37.537Z"
   },
   {
    "duration": 12,
    "start_time": "2022-04-26T17:30:37.945Z"
   },
   {
    "duration": 171,
    "start_time": "2022-04-26T17:30:37.959Z"
   },
   {
    "duration": 5,
    "start_time": "2022-04-26T17:30:38.133Z"
   },
   {
    "duration": 724,
    "start_time": "2022-04-26T17:30:38.142Z"
   },
   {
    "duration": 205,
    "start_time": "2022-04-26T17:30:38.869Z"
   },
   {
    "duration": 158,
    "start_time": "2022-04-26T17:30:39.075Z"
   },
   {
    "duration": 108,
    "start_time": "2022-04-26T17:30:39.236Z"
   },
   {
    "duration": 86,
    "start_time": "2022-04-26T17:30:39.346Z"
   },
   {
    "duration": 8,
    "start_time": "2022-04-26T17:30:39.433Z"
   },
   {
    "duration": 40,
    "start_time": "2022-04-26T17:30:39.444Z"
   },
   {
    "duration": 6,
    "start_time": "2022-04-26T17:30:39.486Z"
   },
   {
    "duration": 225,
    "start_time": "2022-04-26T17:30:39.529Z"
   },
   {
    "duration": 11,
    "start_time": "2022-04-26T17:30:39.756Z"
   },
   {
    "duration": 29,
    "start_time": "2022-04-26T17:30:39.771Z"
   },
   {
    "duration": 33,
    "start_time": "2022-04-26T17:30:39.802Z"
   },
   {
    "duration": 24,
    "start_time": "2022-04-26T17:30:39.837Z"
   },
   {
    "duration": 20,
    "start_time": "2022-04-26T17:30:39.863Z"
   },
   {
    "duration": 1461,
    "start_time": "2022-04-26T17:30:39.884Z"
   },
   {
    "duration": 17,
    "start_time": "2022-04-26T17:30:41.347Z"
   },
   {
    "duration": 24,
    "start_time": "2022-04-26T17:30:41.366Z"
   },
   {
    "duration": 13,
    "start_time": "2022-04-26T17:30:41.392Z"
   },
   {
    "duration": 30,
    "start_time": "2022-04-26T17:30:41.406Z"
   },
   {
    "duration": 11,
    "start_time": "2022-04-26T17:31:39.290Z"
   },
   {
    "duration": 12,
    "start_time": "2022-04-26T17:38:12.345Z"
   },
   {
    "duration": 8,
    "start_time": "2022-04-26T17:38:16.839Z"
   },
   {
    "duration": 472,
    "start_time": "2022-04-26T17:38:16.849Z"
   },
   {
    "duration": 81,
    "start_time": "2022-04-26T17:38:17.323Z"
   },
   {
    "duration": 199,
    "start_time": "2022-04-26T17:38:17.405Z"
   },
   {
    "duration": 254,
    "start_time": "2022-04-26T17:38:17.607Z"
   },
   {
    "duration": 8,
    "start_time": "2022-04-26T17:38:17.863Z"
   },
   {
    "duration": 53,
    "start_time": "2022-04-26T17:38:17.873Z"
   },
   {
    "duration": 4,
    "start_time": "2022-04-26T17:38:17.928Z"
   },
   {
    "duration": 274,
    "start_time": "2022-04-26T17:38:17.934Z"
   },
   {
    "duration": 93,
    "start_time": "2022-04-26T17:38:18.210Z"
   },
   {
    "duration": 67,
    "start_time": "2022-04-26T17:38:18.305Z"
   },
   {
    "duration": 55,
    "start_time": "2022-04-26T17:38:18.374Z"
   },
   {
    "duration": 31,
    "start_time": "2022-04-26T17:38:18.431Z"
   },
   {
    "duration": 15,
    "start_time": "2022-04-26T17:38:18.465Z"
   },
   {
    "duration": 15,
    "start_time": "2022-04-26T17:38:18.482Z"
   },
   {
    "duration": 12,
    "start_time": "2022-04-26T17:38:18.499Z"
   },
   {
    "duration": 91,
    "start_time": "2022-04-26T17:38:18.513Z"
   },
   {
    "duration": 30,
    "start_time": "2022-04-26T17:38:18.606Z"
   },
   {
    "duration": 45,
    "start_time": "2022-04-26T17:38:18.638Z"
   },
   {
    "duration": 17,
    "start_time": "2022-04-26T17:38:18.685Z"
   },
   {
    "duration": 18,
    "start_time": "2022-04-26T17:38:18.703Z"
   },
   {
    "duration": 21,
    "start_time": "2022-04-26T17:38:18.723Z"
   },
   {
    "duration": 1400,
    "start_time": "2022-04-26T17:38:18.748Z"
   },
   {
    "duration": 20,
    "start_time": "2022-04-26T17:38:20.150Z"
   },
   {
    "duration": 25,
    "start_time": "2022-04-26T17:38:20.172Z"
   },
   {
    "duration": 15,
    "start_time": "2022-04-26T17:38:20.199Z"
   },
   {
    "duration": 20,
    "start_time": "2022-04-26T17:38:20.217Z"
   },
   {
    "duration": 11,
    "start_time": "2022-04-26T17:39:15.065Z"
   },
   {
    "duration": 4,
    "start_time": "2022-04-26T17:40:19.250Z"
   },
   {
    "duration": 454,
    "start_time": "2022-04-26T17:40:19.256Z"
   },
   {
    "duration": 80,
    "start_time": "2022-04-26T17:40:19.712Z"
   },
   {
    "duration": 217,
    "start_time": "2022-04-26T17:40:19.795Z"
   },
   {
    "duration": 456,
    "start_time": "2022-04-26T17:40:20.014Z"
   },
   {
    "duration": 10,
    "start_time": "2022-04-26T17:40:20.473Z"
   },
   {
    "duration": 110,
    "start_time": "2022-04-26T17:40:20.523Z"
   },
   {
    "duration": 43,
    "start_time": "2022-04-26T17:40:20.636Z"
   },
   {
    "duration": 888,
    "start_time": "2022-04-26T17:40:20.682Z"
   },
   {
    "duration": 275,
    "start_time": "2022-04-26T17:40:21.572Z"
   },
   {
    "duration": 114,
    "start_time": "2022-04-26T17:40:21.849Z"
   },
   {
    "duration": 186,
    "start_time": "2022-04-26T17:40:21.965Z"
   },
   {
    "duration": 94,
    "start_time": "2022-04-26T17:40:22.152Z"
   },
   {
    "duration": 22,
    "start_time": "2022-04-26T17:40:22.248Z"
   },
   {
    "duration": 16,
    "start_time": "2022-04-26T17:40:22.271Z"
   },
   {
    "duration": 149,
    "start_time": "2022-04-26T17:40:22.325Z"
   },
   {
    "duration": 9,
    "start_time": "2022-04-26T17:40:22.476Z"
   },
   {
    "duration": 47,
    "start_time": "2022-04-26T17:40:22.487Z"
   },
   {
    "duration": 19,
    "start_time": "2022-04-26T17:40:22.536Z"
   },
   {
    "duration": 21,
    "start_time": "2022-04-26T17:40:22.557Z"
   },
   {
    "duration": 10,
    "start_time": "2022-04-26T17:40:22.580Z"
   },
   {
    "duration": 1559,
    "start_time": "2022-04-26T17:40:22.592Z"
   },
   {
    "duration": 16,
    "start_time": "2022-04-26T17:40:24.153Z"
   },
   {
    "duration": 14,
    "start_time": "2022-04-26T17:40:24.172Z"
   },
   {
    "duration": 10,
    "start_time": "2022-04-26T17:40:24.188Z"
   },
   {
    "duration": 43,
    "start_time": "2022-04-26T17:40:24.227Z"
   },
   {
    "duration": 7,
    "start_time": "2022-04-26T17:40:34.977Z"
   },
   {
    "duration": 1390,
    "start_time": "2022-04-27T16:43:17.634Z"
   },
   {
    "duration": 534,
    "start_time": "2022-04-27T16:43:19.027Z"
   },
   {
    "duration": 99,
    "start_time": "2022-04-27T16:43:19.562Z"
   },
   {
    "duration": 214,
    "start_time": "2022-04-27T16:43:19.662Z"
   },
   {
    "duration": 218,
    "start_time": "2022-04-27T16:43:19.878Z"
   },
   {
    "duration": 9,
    "start_time": "2022-04-27T16:43:20.097Z"
   },
   {
    "duration": 58,
    "start_time": "2022-04-27T16:43:20.107Z"
   },
   {
    "duration": 4,
    "start_time": "2022-04-27T16:43:20.167Z"
   },
   {
    "duration": 245,
    "start_time": "2022-04-27T16:43:20.173Z"
   },
   {
    "duration": 86,
    "start_time": "2022-04-27T16:43:20.422Z"
   },
   {
    "duration": 58,
    "start_time": "2022-04-27T16:43:20.510Z"
   },
   {
    "duration": 69,
    "start_time": "2022-04-27T16:43:20.569Z"
   },
   {
    "duration": 44,
    "start_time": "2022-04-27T16:43:20.640Z"
   },
   {
    "duration": 6,
    "start_time": "2022-04-27T16:43:20.686Z"
   },
   {
    "duration": 5,
    "start_time": "2022-04-27T16:43:20.693Z"
   },
   {
    "duration": 97,
    "start_time": "2022-04-27T16:43:20.700Z"
   },
   {
    "duration": 11,
    "start_time": "2022-04-27T16:43:20.799Z"
   },
   {
    "duration": 23,
    "start_time": "2022-04-27T16:43:20.823Z"
   },
   {
    "duration": 12,
    "start_time": "2022-04-27T16:43:20.848Z"
   },
   {
    "duration": 17,
    "start_time": "2022-04-27T16:43:20.861Z"
   },
   {
    "duration": 6,
    "start_time": "2022-04-27T16:43:20.880Z"
   },
   {
    "duration": 1771,
    "start_time": "2022-04-27T16:43:20.888Z"
   },
   {
    "duration": 10,
    "start_time": "2022-04-27T16:43:22.662Z"
   },
   {
    "duration": 10,
    "start_time": "2022-04-27T16:43:22.674Z"
   },
   {
    "duration": 9,
    "start_time": "2022-04-27T16:43:22.685Z"
   },
   {
    "duration": 9,
    "start_time": "2022-04-27T16:43:22.696Z"
   },
   {
    "duration": 8,
    "start_time": "2022-04-27T16:46:26.699Z"
   },
   {
    "duration": 19,
    "start_time": "2022-04-27T16:52:15.558Z"
   },
   {
    "duration": 22,
    "start_time": "2022-04-27T16:54:22.417Z"
   },
   {
    "duration": 10,
    "start_time": "2022-04-27T16:55:32.030Z"
   },
   {
    "duration": 20,
    "start_time": "2022-04-27T16:55:44.439Z"
   },
   {
    "duration": 118,
    "start_time": "2022-04-27T16:55:55.693Z"
   },
   {
    "duration": 13,
    "start_time": "2022-04-27T16:56:17.712Z"
   },
   {
    "duration": 16,
    "start_time": "2022-04-27T16:56:56.142Z"
   },
   {
    "duration": 13,
    "start_time": "2022-04-27T16:57:06.677Z"
   },
   {
    "duration": 11,
    "start_time": "2022-04-27T16:57:12.937Z"
   },
   {
    "duration": 9,
    "start_time": "2022-04-27T16:58:28.784Z"
   },
   {
    "duration": 11,
    "start_time": "2022-04-27T16:58:33.034Z"
   },
   {
    "duration": 11,
    "start_time": "2022-04-27T16:58:57.582Z"
   },
   {
    "duration": 13,
    "start_time": "2022-04-27T16:59:21.732Z"
   },
   {
    "duration": 12,
    "start_time": "2022-04-27T16:59:38.812Z"
   },
   {
    "duration": 15,
    "start_time": "2022-04-27T17:01:18.747Z"
   },
   {
    "duration": 10,
    "start_time": "2022-04-27T17:01:54.310Z"
   },
   {
    "duration": 10,
    "start_time": "2022-04-27T17:02:19.474Z"
   },
   {
    "duration": 10,
    "start_time": "2022-04-27T17:02:30.425Z"
   },
   {
    "duration": 10,
    "start_time": "2022-04-27T17:02:34.686Z"
   },
   {
    "duration": 10,
    "start_time": "2022-04-27T17:02:46.048Z"
   },
   {
    "duration": 15,
    "start_time": "2022-04-27T17:03:27.562Z"
   },
   {
    "duration": 14,
    "start_time": "2022-04-27T17:03:32.593Z"
   },
   {
    "duration": 4,
    "start_time": "2022-04-27T17:03:51.992Z"
   },
   {
    "duration": 568,
    "start_time": "2022-04-27T17:03:51.998Z"
   },
   {
    "duration": 80,
    "start_time": "2022-04-27T17:03:52.568Z"
   },
   {
    "duration": 184,
    "start_time": "2022-04-27T17:03:52.651Z"
   },
   {
    "duration": 411,
    "start_time": "2022-04-27T17:03:52.837Z"
   },
   {
    "duration": 10,
    "start_time": "2022-04-27T17:03:53.250Z"
   },
   {
    "duration": 175,
    "start_time": "2022-04-27T17:03:53.263Z"
   },
   {
    "duration": 5,
    "start_time": "2022-04-27T17:03:53.440Z"
   },
   {
    "duration": 806,
    "start_time": "2022-04-27T17:03:53.448Z"
   },
   {
    "duration": 277,
    "start_time": "2022-04-27T17:03:54.256Z"
   },
   {
    "duration": 123,
    "start_time": "2022-04-27T17:03:54.535Z"
   },
   {
    "duration": 110,
    "start_time": "2022-04-27T17:03:54.660Z"
   },
   {
    "duration": 68,
    "start_time": "2022-04-27T17:03:54.772Z"
   },
   {
    "duration": 7,
    "start_time": "2022-04-27T17:03:54.842Z"
   },
   {
    "duration": 6,
    "start_time": "2022-04-27T17:03:54.851Z"
   },
   {
    "duration": 195,
    "start_time": "2022-04-27T17:03:54.859Z"
   },
   {
    "duration": 12,
    "start_time": "2022-04-27T17:03:55.056Z"
   },
   {
    "duration": 75,
    "start_time": "2022-04-27T17:03:55.069Z"
   },
   {
    "duration": 17,
    "start_time": "2022-04-27T17:03:55.146Z"
   },
   {
    "duration": 72,
    "start_time": "2022-04-27T17:03:55.165Z"
   },
   {
    "duration": 10,
    "start_time": "2022-04-27T17:03:55.239Z"
   },
   {
    "duration": 2981,
    "start_time": "2022-04-27T17:03:55.251Z"
   },
   {
    "duration": 10,
    "start_time": "2022-04-27T17:03:58.234Z"
   },
   {
    "duration": 16,
    "start_time": "2022-04-27T17:03:58.249Z"
   },
   {
    "duration": 11,
    "start_time": "2022-04-27T17:03:58.267Z"
   },
   {
    "duration": 47,
    "start_time": "2022-04-27T17:03:58.280Z"
   },
   {
    "duration": 10,
    "start_time": "2022-04-27T17:03:58.329Z"
   },
   {
    "duration": 197,
    "start_time": "2022-04-27T17:04:16.047Z"
   },
   {
    "duration": 23,
    "start_time": "2022-04-27T17:04:19.565Z"
   },
   {
    "duration": 20,
    "start_time": "2022-04-27T17:04:24.311Z"
   },
   {
    "duration": 11,
    "start_time": "2022-04-27T17:04:36.104Z"
   },
   {
    "duration": 15,
    "start_time": "2022-04-27T17:05:09.480Z"
   },
   {
    "duration": 202,
    "start_time": "2022-04-27T17:07:10.013Z"
   },
   {
    "duration": 20,
    "start_time": "2022-04-27T17:07:13.247Z"
   },
   {
    "duration": 18,
    "start_time": "2022-04-27T17:08:10.274Z"
   },
   {
    "duration": 21,
    "start_time": "2022-04-27T17:08:15.213Z"
   },
   {
    "duration": 20,
    "start_time": "2022-04-27T17:08:22.865Z"
   },
   {
    "duration": 14,
    "start_time": "2022-04-27T17:08:30.689Z"
   },
   {
    "duration": 25,
    "start_time": "2022-04-27T17:10:03.018Z"
   },
   {
    "duration": 8,
    "start_time": "2022-04-27T17:10:14.214Z"
   },
   {
    "duration": 7,
    "start_time": "2022-04-27T17:10:26.534Z"
   },
   {
    "duration": 15,
    "start_time": "2022-04-27T17:10:52.753Z"
   },
   {
    "duration": 4,
    "start_time": "2022-04-27T17:10:57.299Z"
   },
   {
    "duration": 579,
    "start_time": "2022-04-27T17:10:57.305Z"
   },
   {
    "duration": 105,
    "start_time": "2022-04-27T17:10:57.886Z"
   },
   {
    "duration": 245,
    "start_time": "2022-04-27T17:10:57.994Z"
   },
   {
    "duration": 217,
    "start_time": "2022-04-27T17:10:58.241Z"
   },
   {
    "duration": 9,
    "start_time": "2022-04-27T17:10:58.460Z"
   },
   {
    "duration": 76,
    "start_time": "2022-04-27T17:10:58.471Z"
   },
   {
    "duration": 4,
    "start_time": "2022-04-27T17:10:58.549Z"
   },
   {
    "duration": 235,
    "start_time": "2022-04-27T17:10:58.556Z"
   },
   {
    "duration": 88,
    "start_time": "2022-04-27T17:10:58.792Z"
   },
   {
    "duration": 50,
    "start_time": "2022-04-27T17:10:58.881Z"
   },
   {
    "duration": 45,
    "start_time": "2022-04-27T17:10:58.933Z"
   },
   {
    "duration": 51,
    "start_time": "2022-04-27T17:10:58.980Z"
   },
   {
    "duration": 11,
    "start_time": "2022-04-27T17:10:59.035Z"
   },
   {
    "duration": 6,
    "start_time": "2022-04-27T17:10:59.047Z"
   },
   {
    "duration": 72,
    "start_time": "2022-04-27T17:10:59.054Z"
   },
   {
    "duration": 16,
    "start_time": "2022-04-27T17:10:59.128Z"
   },
   {
    "duration": 18,
    "start_time": "2022-04-27T17:10:59.145Z"
   },
   {
    "duration": 12,
    "start_time": "2022-04-27T17:10:59.164Z"
   },
   {
    "duration": 13,
    "start_time": "2022-04-27T17:10:59.177Z"
   },
   {
    "duration": 7,
    "start_time": "2022-04-27T17:10:59.191Z"
   },
   {
    "duration": 990,
    "start_time": "2022-04-27T17:10:59.199Z"
   },
   {
    "duration": 9,
    "start_time": "2022-04-27T17:11:00.191Z"
   },
   {
    "duration": 37,
    "start_time": "2022-04-27T17:11:00.202Z"
   },
   {
    "duration": 7,
    "start_time": "2022-04-27T17:11:00.241Z"
   },
   {
    "duration": 13,
    "start_time": "2022-04-27T17:11:00.249Z"
   },
   {
    "duration": 21,
    "start_time": "2022-04-27T17:11:00.264Z"
   },
   {
    "duration": 17,
    "start_time": "2022-04-27T17:11:00.287Z"
   },
   {
    "duration": 23,
    "start_time": "2022-04-27T17:11:00.306Z"
   },
   {
    "duration": 7,
    "start_time": "2022-04-27T17:15:22.814Z"
   },
   {
    "duration": 1672,
    "start_time": "2022-04-27T17:15:23.553Z"
   },
   {
    "duration": 10,
    "start_time": "2022-04-27T17:15:54.511Z"
   },
   {
    "duration": 1501,
    "start_time": "2022-04-27T17:15:54.794Z"
   },
   {
    "duration": 45,
    "start_time": "2022-04-27T18:02:07.323Z"
   },
   {
    "duration": 5,
    "start_time": "2022-04-27T18:20:19.599Z"
   },
   {
    "duration": 1362,
    "start_time": "2022-04-27T18:20:25.305Z"
   },
   {
    "duration": 694,
    "start_time": "2022-04-27T18:20:26.669Z"
   },
   {
    "duration": 144,
    "start_time": "2022-04-27T18:20:27.365Z"
   },
   {
    "duration": 320,
    "start_time": "2022-04-27T18:20:27.511Z"
   },
   {
    "duration": 325,
    "start_time": "2022-04-27T18:20:27.839Z"
   },
   {
    "duration": 13,
    "start_time": "2022-04-27T18:20:28.167Z"
   },
   {
    "duration": 74,
    "start_time": "2022-04-27T18:20:28.182Z"
   },
   {
    "duration": 5,
    "start_time": "2022-04-27T18:20:28.258Z"
   },
   {
    "duration": 251,
    "start_time": "2022-04-27T18:20:28.265Z"
   },
   {
    "duration": 91,
    "start_time": "2022-04-27T18:20:28.518Z"
   },
   {
    "duration": 52,
    "start_time": "2022-04-27T18:20:28.622Z"
   },
   {
    "duration": 75,
    "start_time": "2022-04-27T18:20:28.676Z"
   },
   {
    "duration": 34,
    "start_time": "2022-04-27T18:20:28.753Z"
   },
   {
    "duration": 6,
    "start_time": "2022-04-27T18:20:28.789Z"
   },
   {
    "duration": 25,
    "start_time": "2022-04-27T18:20:28.797Z"
   },
   {
    "duration": 68,
    "start_time": "2022-04-27T18:20:28.824Z"
   },
   {
    "duration": 9,
    "start_time": "2022-04-27T18:20:28.894Z"
   },
   {
    "duration": 30,
    "start_time": "2022-04-27T18:20:28.905Z"
   },
   {
    "duration": 15,
    "start_time": "2022-04-27T18:20:28.937Z"
   },
   {
    "duration": 14,
    "start_time": "2022-04-27T18:20:28.953Z"
   },
   {
    "duration": 6,
    "start_time": "2022-04-27T18:20:28.969Z"
   },
   {
    "duration": 1854,
    "start_time": "2022-04-27T18:20:28.977Z"
   },
   {
    "duration": 12,
    "start_time": "2022-04-27T18:20:30.860Z"
   },
   {
    "duration": 24,
    "start_time": "2022-04-27T18:20:30.874Z"
   },
   {
    "duration": 21,
    "start_time": "2022-04-27T18:20:30.899Z"
   },
   {
    "duration": 23,
    "start_time": "2022-04-27T18:20:30.923Z"
   },
   {
    "duration": 23,
    "start_time": "2022-04-27T18:20:30.949Z"
   },
   {
    "duration": 1687,
    "start_time": "2022-04-28T04:25:40.255Z"
   },
   {
    "duration": 809,
    "start_time": "2022-04-28T04:25:41.944Z"
   },
   {
    "duration": 169,
    "start_time": "2022-04-28T04:25:42.754Z"
   },
   {
    "duration": 206,
    "start_time": "2022-04-28T04:25:42.925Z"
   },
   {
    "duration": 190,
    "start_time": "2022-04-28T04:25:43.133Z"
   },
   {
    "duration": 10,
    "start_time": "2022-04-28T04:25:43.324Z"
   },
   {
    "duration": 64,
    "start_time": "2022-04-28T04:25:43.336Z"
   },
   {
    "duration": 5,
    "start_time": "2022-04-28T04:25:43.402Z"
   },
   {
    "duration": 233,
    "start_time": "2022-04-28T04:25:43.408Z"
   },
   {
    "duration": 86,
    "start_time": "2022-04-28T04:25:43.644Z"
   },
   {
    "duration": 45,
    "start_time": "2022-04-28T04:25:43.732Z"
   },
   {
    "duration": 71,
    "start_time": "2022-04-28T04:25:43.779Z"
   },
   {
    "duration": 34,
    "start_time": "2022-04-28T04:25:43.852Z"
   },
   {
    "duration": 16,
    "start_time": "2022-04-28T04:25:43.888Z"
   },
   {
    "duration": 22,
    "start_time": "2022-04-28T04:25:43.905Z"
   },
   {
    "duration": 22,
    "start_time": "2022-04-28T04:25:43.928Z"
   },
   {
    "duration": 76,
    "start_time": "2022-04-28T04:25:43.951Z"
   },
   {
    "duration": 10,
    "start_time": "2022-04-28T04:25:44.028Z"
   },
   {
    "duration": 32,
    "start_time": "2022-04-28T04:25:44.039Z"
   },
   {
    "duration": 13,
    "start_time": "2022-04-28T04:25:44.072Z"
   },
   {
    "duration": 16,
    "start_time": "2022-04-28T04:25:44.087Z"
   },
   {
    "duration": 18,
    "start_time": "2022-04-28T04:25:44.105Z"
   },
   {
    "duration": 1031,
    "start_time": "2022-04-28T04:25:44.124Z"
   },
   {
    "duration": 10,
    "start_time": "2022-04-28T04:25:45.156Z"
   },
   {
    "duration": 18,
    "start_time": "2022-04-28T04:25:45.167Z"
   },
   {
    "duration": 8,
    "start_time": "2022-04-28T04:25:45.186Z"
   },
   {
    "duration": 26,
    "start_time": "2022-04-28T04:25:45.196Z"
   },
   {
    "duration": 9,
    "start_time": "2022-04-28T04:25:45.226Z"
   },
   {
    "duration": 1472,
    "start_time": "2022-04-28T04:35:17.496Z"
   },
   {
    "duration": 859,
    "start_time": "2022-04-28T04:35:18.970Z"
   },
   {
    "duration": 117,
    "start_time": "2022-04-28T04:35:19.831Z"
   },
   {
    "duration": 376,
    "start_time": "2022-04-28T04:35:19.950Z"
   },
   {
    "duration": 211,
    "start_time": "2022-04-28T04:35:20.328Z"
   },
   {
    "duration": 9,
    "start_time": "2022-04-28T04:35:20.541Z"
   },
   {
    "duration": 49,
    "start_time": "2022-04-28T04:35:20.552Z"
   },
   {
    "duration": 4,
    "start_time": "2022-04-28T04:35:20.603Z"
   },
   {
    "duration": 224,
    "start_time": "2022-04-28T04:35:20.623Z"
   },
   {
    "duration": 78,
    "start_time": "2022-04-28T04:35:20.850Z"
   },
   {
    "duration": 42,
    "start_time": "2022-04-28T04:35:20.929Z"
   },
   {
    "duration": 70,
    "start_time": "2022-04-28T04:35:20.973Z"
   },
   {
    "duration": 36,
    "start_time": "2022-04-28T04:35:21.045Z"
   },
   {
    "duration": 8,
    "start_time": "2022-04-28T04:35:21.082Z"
   },
   {
    "duration": 7,
    "start_time": "2022-04-28T04:35:21.092Z"
   },
   {
    "duration": 115,
    "start_time": "2022-04-28T04:35:21.101Z"
   },
   {
    "duration": 13,
    "start_time": "2022-04-28T04:35:21.218Z"
   },
   {
    "duration": 27,
    "start_time": "2022-04-28T04:35:21.233Z"
   },
   {
    "duration": 17,
    "start_time": "2022-04-28T04:35:21.262Z"
   },
   {
    "duration": 48,
    "start_time": "2022-04-28T04:35:21.281Z"
   },
   {
    "duration": 7,
    "start_time": "2022-04-28T04:35:21.331Z"
   },
   {
    "duration": 1028,
    "start_time": "2022-04-28T04:35:21.339Z"
   },
   {
    "duration": 9,
    "start_time": "2022-04-28T04:35:22.369Z"
   },
   {
    "duration": 15,
    "start_time": "2022-04-28T04:35:22.380Z"
   },
   {
    "duration": 9,
    "start_time": "2022-04-28T04:35:22.396Z"
   },
   {
    "duration": 10,
    "start_time": "2022-04-28T04:35:22.407Z"
   },
   {
    "duration": 9,
    "start_time": "2022-04-28T04:35:22.419Z"
   },
   {
    "duration": 17,
    "start_time": "2022-04-28T04:37:22.383Z"
   },
   {
    "duration": 1195,
    "start_time": "2022-04-28T04:37:43.325Z"
   },
   {
    "duration": 434,
    "start_time": "2022-04-28T04:37:44.523Z"
   },
   {
    "duration": 98,
    "start_time": "2022-04-28T04:37:44.958Z"
   },
   {
    "duration": 381,
    "start_time": "2022-04-28T04:37:45.058Z"
   },
   {
    "duration": 408,
    "start_time": "2022-04-28T04:37:45.440Z"
   },
   {
    "duration": 9,
    "start_time": "2022-04-28T04:37:45.849Z"
   },
   {
    "duration": 102,
    "start_time": "2022-04-28T04:37:45.860Z"
   },
   {
    "duration": 5,
    "start_time": "2022-04-28T04:37:45.964Z"
   },
   {
    "duration": 409,
    "start_time": "2022-04-28T04:37:46.022Z"
   },
   {
    "duration": 126,
    "start_time": "2022-04-28T04:37:46.433Z"
   },
   {
    "duration": 87,
    "start_time": "2022-04-28T04:37:46.560Z"
   },
   {
    "duration": 45,
    "start_time": "2022-04-28T04:37:46.649Z"
   },
   {
    "duration": 51,
    "start_time": "2022-04-28T04:37:46.695Z"
   },
   {
    "duration": 6,
    "start_time": "2022-04-28T04:37:46.747Z"
   },
   {
    "duration": 22,
    "start_time": "2022-04-28T04:37:46.754Z"
   },
   {
    "duration": 80,
    "start_time": "2022-04-28T04:37:46.778Z"
   },
   {
    "duration": 8,
    "start_time": "2022-04-28T04:37:46.860Z"
   },
   {
    "duration": 28,
    "start_time": "2022-04-28T04:37:46.869Z"
   },
   {
    "duration": 22,
    "start_time": "2022-04-28T04:37:46.899Z"
   },
   {
    "duration": 23,
    "start_time": "2022-04-28T04:37:46.922Z"
   },
   {
    "duration": 23,
    "start_time": "2022-04-28T04:37:46.946Z"
   },
   {
    "duration": 1017,
    "start_time": "2022-04-28T04:37:46.970Z"
   },
   {
    "duration": 10,
    "start_time": "2022-04-28T04:37:47.989Z"
   },
   {
    "duration": 24,
    "start_time": "2022-04-28T04:37:48.001Z"
   },
   {
    "duration": 11,
    "start_time": "2022-04-28T04:37:48.027Z"
   },
   {
    "duration": 11,
    "start_time": "2022-04-28T04:37:48.039Z"
   },
   {
    "duration": 11,
    "start_time": "2022-04-28T04:37:48.052Z"
   },
   {
    "duration": 1435,
    "start_time": "2022-04-28T06:52:02.791Z"
   },
   {
    "duration": 474,
    "start_time": "2022-04-28T06:52:04.229Z"
   },
   {
    "duration": 79,
    "start_time": "2022-04-28T06:52:04.705Z"
   },
   {
    "duration": 237,
    "start_time": "2022-04-28T06:52:04.807Z"
   },
   {
    "duration": 241,
    "start_time": "2022-04-28T06:52:05.046Z"
   },
   {
    "duration": 19,
    "start_time": "2022-04-28T06:52:05.288Z"
   },
   {
    "duration": 51,
    "start_time": "2022-04-28T06:52:05.309Z"
   },
   {
    "duration": 5,
    "start_time": "2022-04-28T06:52:05.362Z"
   },
   {
    "duration": 261,
    "start_time": "2022-04-28T06:52:05.369Z"
   },
   {
    "duration": 91,
    "start_time": "2022-04-28T06:52:05.633Z"
   },
   {
    "duration": 48,
    "start_time": "2022-04-28T06:52:05.726Z"
   },
   {
    "duration": 77,
    "start_time": "2022-04-28T06:52:05.776Z"
   },
   {
    "duration": 36,
    "start_time": "2022-04-28T06:52:05.855Z"
   },
   {
    "duration": 20,
    "start_time": "2022-04-28T06:52:05.893Z"
   },
   {
    "duration": 6,
    "start_time": "2022-04-28T06:52:05.915Z"
   },
   {
    "duration": 66,
    "start_time": "2022-04-28T06:52:05.923Z"
   },
   {
    "duration": 10,
    "start_time": "2022-04-28T06:52:06.007Z"
   },
   {
    "duration": 22,
    "start_time": "2022-04-28T06:52:06.019Z"
   },
   {
    "duration": 15,
    "start_time": "2022-04-28T06:52:06.042Z"
   },
   {
    "duration": 17,
    "start_time": "2022-04-28T06:52:06.059Z"
   },
   {
    "duration": 7,
    "start_time": "2022-04-28T06:52:06.109Z"
   },
   {
    "duration": 1233,
    "start_time": "2022-04-28T06:52:06.119Z"
   },
   {
    "duration": 11,
    "start_time": "2022-04-28T06:52:07.354Z"
   },
   {
    "duration": 17,
    "start_time": "2022-04-28T06:52:07.367Z"
   },
   {
    "duration": 28,
    "start_time": "2022-04-28T06:52:07.386Z"
   },
   {
    "duration": 11,
    "start_time": "2022-04-28T06:52:07.416Z"
   },
   {
    "duration": 14,
    "start_time": "2022-04-28T06:52:07.429Z"
   }
  ],
  "kernelspec": {
   "display_name": "Python 3",
   "language": "python",
   "name": "python3"
  },
  "language_info": {
   "codemirror_mode": {
    "name": "ipython",
    "version": 3
   },
   "file_extension": ".py",
   "mimetype": "text/x-python",
   "name": "python",
   "nbconvert_exporter": "python",
   "pygments_lexer": "ipython3",
   "version": "3.7.10"
  },
  "toc": {
   "base_numbering": "1",
   "nav_menu": {},
   "number_sections": true,
   "sideBar": true,
   "skip_h1_title": true,
   "title_cell": "Table of Contents",
   "title_sidebar": "Contents",
   "toc_cell": false,
   "toc_position": {
    "height": "calc(100% - 180px)",
    "left": "10px",
    "top": "150px",
    "width": "284.375px"
   },
   "toc_section_display": true,
   "toc_window_display": true
  }
 },
 "nbformat": 4,
 "nbformat_minor": 2
}
