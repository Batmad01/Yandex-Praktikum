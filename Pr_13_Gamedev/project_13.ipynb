{
 "cells": [
  {
   "cell_type": "markdown",
   "metadata": {},
   "source": [
    "# Проект - Стримчик"
   ]
  },
  {
   "cell_type": "markdown",
   "metadata": {},
   "source": [
    "### Описание проекта"
   ]
  },
  {
   "cell_type": "markdown",
   "metadata": {},
   "source": [
    "Магазин «Стримчик» продаёт по всему миру компьютерные игры. Из открытых источников доступны исторические данные о продажах игр, оценки пользователей и экспертов, жанры и платформы (например, Xbox или PlayStation). Необходимо выявить определяющие успешность игры закономерности. Это позволит сделать ставку на потенциально популярный продукт и спланировать рекламные кампании."
   ]
  },
  {
   "cell_type": "markdown",
   "metadata": {},
   "source": [
    "### Последовательность выполнения проекта"
   ]
  },
  {
   "cell_type": "markdown",
   "metadata": {},
   "source": [
    "* Загрузка данных, их изучение и подготовка к дальнейшему анализу\n",
    "* Проведение исследовательского анализа данных (количество выпущенных игр по годам, продажи по платформам, влияние отзывов и критиков на продажи игр, выделение самых прибыльных жанров)\n",
    "* Составление портретов пользователей каждого региона (самые популярные платформы и жанры, влияние рейтинга ESRB на продажи)\n",
    "* Проверка гипотез (1 - Средние пользовательские рейтинги платформ Xbox One и PC одинаковые, 2 - средние пользовательские рейтинги жанров Action и Sports разные)\n",
    "* Формулировка основных выводов и рекомендация по проекту"
   ]
  },
  {
   "cell_type": "markdown",
   "metadata": {},
   "source": [
    "### Описание данных"
   ]
  },
  {
   "cell_type": "markdown",
   "metadata": {},
   "source": [
    "* `Name` — название игры\n",
    "\n",
    "* `Platform` — платформа\n",
    "\n",
    "* `Year_of_Release` — год выпуска\n",
    "\n",
    "* `Genre` — жанр игры\n",
    "\n",
    "* `NA_sales` — продажи в Северной Америке (миллионы проданных копий)\n",
    "\n",
    "* `EU_sales` — продажи в Европе (миллионы проданных копий)\n",
    "\n",
    "* `JP_sales` — продажи в Японии (миллионы проданных копий)\n",
    "\n",
    "* `Other_sales` — продажи в других странах (миллионы проданных копий)\n",
    "\n",
    "* `Critic_Score` — оценка критиков (максимум 100)\n",
    "\n",
    "* `User_Score` — оценка пользователей (максимум 10)\n",
    "\n",
    "* `Rating` — рейтинг от организации ESRB (англ. Entertainment Software Rating Board). Эта ассоциация определяет рейтинг компьютерных игр и присваивает им подходящую возрастную категорию."
   ]
  },
  {
   "cell_type": "markdown",
   "metadata": {},
   "source": [
    "## Загрузка данных и подготовка их к анализу"
   ]
  },
  {
   "cell_type": "markdown",
   "metadata": {},
   "source": [
    "### Загрузка и обзор данных"
   ]
  },
  {
   "cell_type": "code",
   "execution_count": 1,
   "metadata": {},
   "outputs": [],
   "source": [
    "#Импорт библиотек\n",
    "import pandas as pd\n",
    "from matplotlib import pyplot as plt\n",
    "import numpy as np\n",
    "from IPython.display import display\n",
    "import warnings\n",
    "import seaborn as sns\n",
    "from plotly.subplots import make_subplots\n",
    "import plotly.graph_objects as go\n",
    "from scipy import stats as st\n",
    "\n",
    "\n",
    "# отключение уведомлений об ошибке при замене исходного набора данных\n",
    "warnings.filterwarnings('ignore')\n",
    "warnings.simplefilter('ignore')\n",
    "\n",
    "# показ всех колонок датафрейма\n",
    "pd.options.display.max_columns = None"
   ]
  },
  {
   "cell_type": "code",
   "execution_count": 2,
   "metadata": {},
   "outputs": [
    {
     "data": {
      "text/html": [
       "<div>\n",
       "<style scoped>\n",
       "    .dataframe tbody tr th:only-of-type {\n",
       "        vertical-align: middle;\n",
       "    }\n",
       "\n",
       "    .dataframe tbody tr th {\n",
       "        vertical-align: top;\n",
       "    }\n",
       "\n",
       "    .dataframe thead th {\n",
       "        text-align: right;\n",
       "    }\n",
       "</style>\n",
       "<table border=\"1\" class=\"dataframe\">\n",
       "  <thead>\n",
       "    <tr style=\"text-align: right;\">\n",
       "      <th></th>\n",
       "      <th>Name</th>\n",
       "      <th>Platform</th>\n",
       "      <th>Year_of_Release</th>\n",
       "      <th>Genre</th>\n",
       "      <th>NA_sales</th>\n",
       "      <th>EU_sales</th>\n",
       "      <th>JP_sales</th>\n",
       "      <th>Other_sales</th>\n",
       "      <th>Critic_Score</th>\n",
       "      <th>User_Score</th>\n",
       "      <th>Rating</th>\n",
       "    </tr>\n",
       "  </thead>\n",
       "  <tbody>\n",
       "    <tr>\n",
       "      <th>0</th>\n",
       "      <td>Wii Sports</td>\n",
       "      <td>Wii</td>\n",
       "      <td>2006.0</td>\n",
       "      <td>Sports</td>\n",
       "      <td>41.36</td>\n",
       "      <td>28.96</td>\n",
       "      <td>3.77</td>\n",
       "      <td>8.45</td>\n",
       "      <td>76.0</td>\n",
       "      <td>8</td>\n",
       "      <td>E</td>\n",
       "    </tr>\n",
       "    <tr>\n",
       "      <th>1</th>\n",
       "      <td>Super Mario Bros.</td>\n",
       "      <td>NES</td>\n",
       "      <td>1985.0</td>\n",
       "      <td>Platform</td>\n",
       "      <td>29.08</td>\n",
       "      <td>3.58</td>\n",
       "      <td>6.81</td>\n",
       "      <td>0.77</td>\n",
       "      <td>NaN</td>\n",
       "      <td>NaN</td>\n",
       "      <td>NaN</td>\n",
       "    </tr>\n",
       "    <tr>\n",
       "      <th>2</th>\n",
       "      <td>Mario Kart Wii</td>\n",
       "      <td>Wii</td>\n",
       "      <td>2008.0</td>\n",
       "      <td>Racing</td>\n",
       "      <td>15.68</td>\n",
       "      <td>12.76</td>\n",
       "      <td>3.79</td>\n",
       "      <td>3.29</td>\n",
       "      <td>82.0</td>\n",
       "      <td>8.3</td>\n",
       "      <td>E</td>\n",
       "    </tr>\n",
       "    <tr>\n",
       "      <th>3</th>\n",
       "      <td>Wii Sports Resort</td>\n",
       "      <td>Wii</td>\n",
       "      <td>2009.0</td>\n",
       "      <td>Sports</td>\n",
       "      <td>15.61</td>\n",
       "      <td>10.93</td>\n",
       "      <td>3.28</td>\n",
       "      <td>2.95</td>\n",
       "      <td>80.0</td>\n",
       "      <td>8</td>\n",
       "      <td>E</td>\n",
       "    </tr>\n",
       "    <tr>\n",
       "      <th>4</th>\n",
       "      <td>Pokemon Red/Pokemon Blue</td>\n",
       "      <td>GB</td>\n",
       "      <td>1996.0</td>\n",
       "      <td>Role-Playing</td>\n",
       "      <td>11.27</td>\n",
       "      <td>8.89</td>\n",
       "      <td>10.22</td>\n",
       "      <td>1.00</td>\n",
       "      <td>NaN</td>\n",
       "      <td>NaN</td>\n",
       "      <td>NaN</td>\n",
       "    </tr>\n",
       "  </tbody>\n",
       "</table>\n",
       "</div>"
      ],
      "text/plain": [
       "                       Name Platform  Year_of_Release         Genre  NA_sales  \\\n",
       "0                Wii Sports      Wii           2006.0        Sports     41.36   \n",
       "1         Super Mario Bros.      NES           1985.0      Platform     29.08   \n",
       "2            Mario Kart Wii      Wii           2008.0        Racing     15.68   \n",
       "3         Wii Sports Resort      Wii           2009.0        Sports     15.61   \n",
       "4  Pokemon Red/Pokemon Blue       GB           1996.0  Role-Playing     11.27   \n",
       "\n",
       "   EU_sales  JP_sales  Other_sales  Critic_Score User_Score Rating  \n",
       "0     28.96      3.77         8.45          76.0          8      E  \n",
       "1      3.58      6.81         0.77           NaN        NaN    NaN  \n",
       "2     12.76      3.79         3.29          82.0        8.3      E  \n",
       "3     10.93      3.28         2.95          80.0          8      E  \n",
       "4      8.89     10.22         1.00           NaN        NaN    NaN  "
      ]
     },
     "execution_count": 2,
     "metadata": {},
     "output_type": "execute_result"
    }
   ],
   "source": [
    "# загружаем файл в переменную и выводим на экран первые 5 строк\n",
    "games = pd.read_csv('D:/Datasets/games.csv')\n",
    "\n",
    "games.head()"
   ]
  },
  {
   "cell_type": "markdown",
   "metadata": {},
   "source": [
    "Посмотрим данные подробнее"
   ]
  },
  {
   "cell_type": "code",
   "execution_count": 3,
   "metadata": {},
   "outputs": [
    {
     "name": "stdout",
     "output_type": "stream",
     "text": [
      "<class 'pandas.core.frame.DataFrame'>\n",
      "RangeIndex: 16715 entries, 0 to 16714\n",
      "Data columns (total 11 columns):\n",
      " #   Column           Non-Null Count  Dtype  \n",
      "---  ------           --------------  -----  \n",
      " 0   Name             16713 non-null  object \n",
      " 1   Platform         16715 non-null  object \n",
      " 2   Year_of_Release  16446 non-null  float64\n",
      " 3   Genre            16713 non-null  object \n",
      " 4   NA_sales         16715 non-null  float64\n",
      " 5   EU_sales         16715 non-null  float64\n",
      " 6   JP_sales         16715 non-null  float64\n",
      " 7   Other_sales      16715 non-null  float64\n",
      " 8   Critic_Score     8137 non-null   float64\n",
      " 9   User_Score       10014 non-null  object \n",
      " 10  Rating           9949 non-null   object \n",
      "dtypes: float64(6), object(5)\n",
      "memory usage: 1.4+ MB\n"
     ]
    }
   ],
   "source": [
    "games.info()"
   ]
  },
  {
   "cell_type": "markdown",
   "metadata": {},
   "source": [
    "**Выводы**\n",
    "\n",
    "В данных присутствуют пропуски, больше всего их в колонках `Critic_Score`, `User_Score`, `Rating`. Так же в некоторых колонках нужно будет поменять тип данных и привести их названия к нижнему регистру."
   ]
  },
  {
   "cell_type": "markdown",
   "metadata": {},
   "source": [
    "### Предобработка данных"
   ]
  },
  {
   "cell_type": "markdown",
   "metadata": {},
   "source": [
    "#### Приведение колонок к нижнему регистру"
   ]
  },
  {
   "cell_type": "code",
   "execution_count": 4,
   "metadata": {},
   "outputs": [],
   "source": [
    "games.columns = games.columns.str.lower()"
   ]
  },
  {
   "cell_type": "code",
   "execution_count": 5,
   "metadata": {},
   "outputs": [
    {
     "name": "stdout",
     "output_type": "stream",
     "text": [
      "<class 'pandas.core.frame.DataFrame'>\n",
      "RangeIndex: 16715 entries, 0 to 16714\n",
      "Data columns (total 11 columns):\n",
      " #   Column           Non-Null Count  Dtype  \n",
      "---  ------           --------------  -----  \n",
      " 0   name             16713 non-null  object \n",
      " 1   platform         16715 non-null  object \n",
      " 2   year_of_release  16446 non-null  float64\n",
      " 3   genre            16713 non-null  object \n",
      " 4   na_sales         16715 non-null  float64\n",
      " 5   eu_sales         16715 non-null  float64\n",
      " 6   jp_sales         16715 non-null  float64\n",
      " 7   other_sales      16715 non-null  float64\n",
      " 8   critic_score     8137 non-null   float64\n",
      " 9   user_score       10014 non-null  object \n",
      " 10  rating           9949 non-null   object \n",
      "dtypes: float64(6), object(5)\n",
      "memory usage: 1.4+ MB\n"
     ]
    }
   ],
   "source": [
    "games.info()"
   ]
  },
  {
   "cell_type": "markdown",
   "metadata": {},
   "source": [
    "#### Добавление столбца общих продаж"
   ]
  },
  {
   "cell_type": "code",
   "execution_count": 6,
   "metadata": {},
   "outputs": [],
   "source": [
    "games['total_sales'] = games['na_sales'] + games['eu_sales'] + games['jp_sales'] + games['other_sales']"
   ]
  },
  {
   "cell_type": "markdown",
   "metadata": {},
   "source": [
    "#### Обработка пропусков"
   ]
  },
  {
   "cell_type": "markdown",
   "metadata": {},
   "source": [
    "Заменим пропуски значений в столбцах `critic_score` и `user_score` заглушками (-1), в дальнейшем в исследовании будем их фильтровать. Непроставленные оценки (tbd) так же заменим на (-1)"
   ]
  },
  {
   "cell_type": "code",
   "execution_count": 7,
   "metadata": {},
   "outputs": [],
   "source": [
    "games['critic_score'] = games['critic_score'].fillna(-1)\n",
    "\n",
    "games['user_score'] = games['user_score'].fillna(-1)\n",
    "games['user_score'] = games['user_score'].replace('tbd','-1').astype('float')"
   ]
  },
  {
   "cell_type": "markdown",
   "metadata": {},
   "source": [
    "Поставим заглушки так же для столбца `rating`"
   ]
  },
  {
   "cell_type": "code",
   "execution_count": 8,
   "metadata": {},
   "outputs": [],
   "source": [
    "games['rating'] = games['rating'].fillna('None')"
   ]
  },
  {
   "cell_type": "code",
   "execution_count": 9,
   "metadata": {},
   "outputs": [
    {
     "data": {
      "text/plain": [
       "None    6766\n",
       "E       3990\n",
       "T       2961\n",
       "M       1563\n",
       "E10+    1420\n",
       "EC         8\n",
       "K-A        3\n",
       "RP         3\n",
       "AO         1\n",
       "Name: rating, dtype: int64"
      ]
     },
     "execution_count": 9,
     "metadata": {},
     "output_type": "execute_result"
    }
   ],
   "source": [
    "games['rating'].value_counts()"
   ]
  },
  {
   "cell_type": "markdown",
   "metadata": {},
   "source": [
    "Остальные пропуски выбросим из таблицы, т.к. их остаётся незначительное количество"
   ]
  },
  {
   "cell_type": "code",
   "execution_count": 10,
   "metadata": {},
   "outputs": [
    {
     "data": {
      "text/plain": [
       "name                 2\n",
       "platform             0\n",
       "year_of_release    269\n",
       "genre                2\n",
       "na_sales             0\n",
       "eu_sales             0\n",
       "jp_sales             0\n",
       "other_sales          0\n",
       "critic_score         0\n",
       "user_score           0\n",
       "rating               0\n",
       "total_sales          0\n",
       "dtype: int64"
      ]
     },
     "execution_count": 10,
     "metadata": {},
     "output_type": "execute_result"
    }
   ],
   "source": [
    "games.isna().sum()"
   ]
  },
  {
   "cell_type": "code",
   "execution_count": 11,
   "metadata": {},
   "outputs": [],
   "source": [
    "games = games.dropna()\n",
    "\n",
    "games['year_of_release'] = games['year_of_release'].astype('int')"
   ]
  },
  {
   "cell_type": "markdown",
   "metadata": {},
   "source": [
    "#### Обработка дубликатов"
   ]
  },
  {
   "cell_type": "code",
   "execution_count": 12,
   "metadata": {},
   "outputs": [],
   "source": [
    "games = games.drop_duplicates()"
   ]
  },
  {
   "cell_type": "markdown",
   "metadata": {},
   "source": [
    "**Выводы**\n",
    "\n",
    "Данные успешно предобработаны 😎"
   ]
  },
  {
   "cell_type": "markdown",
   "metadata": {},
   "source": [
    "## Исследовательский анализ данных"
   ]
  },
  {
   "cell_type": "markdown",
   "metadata": {},
   "source": [
    "### Выпуск игр по годам"
   ]
  },
  {
   "cell_type": "code",
   "execution_count": 13,
   "metadata": {},
   "outputs": [],
   "source": [
    "games_by_year = (games.groupby('year_of_release', as_index=False)['name'].count()\n",
    "                 .rename(columns={'name':'games_cnt'}))"
   ]
  },
  {
   "cell_type": "code",
   "execution_count": 14,
   "metadata": {},
   "outputs": [
    {
     "data": {
      "image/png": "[encoded data removed]",
      "text/plain": [
       "<Figure size 1080x576 with 1 Axes>"
      ]
     },
     "metadata": {
      "needs_background": "light"
     },
     "output_type": "display_data"
    }
   ],
   "source": [
    "fig, ax = plt.subplots(figsize=(15,8))\n",
    "sns.set(font_scale = 1.1)\n",
    "sns.set_style(\"darkgrid\")\n",
    "plt.xticks(rotation=-45)\n",
    "\n",
    "sns.barplot(data=games_by_year, x='year_of_release', y='games_cnt', ax=ax)\n",
    "ax.set_xlabel('Год релиза', fontsize = 12)\n",
    "ax.set_ylabel('Количество игр', fontsize = 12)\n",
    "ax.set_title('Релиз игр по годам', fontsize = 14)\n",
    "\n",
    "\n",
    "plt.show()"
   ]
  },
  {
   "cell_type": "code",
   "execution_count": 15,
   "metadata": {},
   "outputs": [
    {
     "data": {
      "text/html": [
       "<div>\n",
       "<style scoped>\n",
       "    .dataframe tbody tr th:only-of-type {\n",
       "        vertical-align: middle;\n",
       "    }\n",
       "\n",
       "    .dataframe tbody tr th {\n",
       "        vertical-align: top;\n",
       "    }\n",
       "\n",
       "    .dataframe thead th {\n",
       "        text-align: right;\n",
       "    }\n",
       "</style>\n",
       "<table border=\"1\" class=\"dataframe\">\n",
       "  <thead>\n",
       "    <tr style=\"text-align: right;\">\n",
       "      <th></th>\n",
       "      <th>year_of_release</th>\n",
       "      <th>games_cnt</th>\n",
       "    </tr>\n",
       "  </thead>\n",
       "  <tbody>\n",
       "    <tr>\n",
       "      <th>0</th>\n",
       "      <td>1980</td>\n",
       "      <td>9</td>\n",
       "    </tr>\n",
       "    <tr>\n",
       "      <th>1</th>\n",
       "      <td>1981</td>\n",
       "      <td>46</td>\n",
       "    </tr>\n",
       "    <tr>\n",
       "      <th>2</th>\n",
       "      <td>1982</td>\n",
       "      <td>36</td>\n",
       "    </tr>\n",
       "    <tr>\n",
       "      <th>3</th>\n",
       "      <td>1983</td>\n",
       "      <td>17</td>\n",
       "    </tr>\n",
       "    <tr>\n",
       "      <th>4</th>\n",
       "      <td>1984</td>\n",
       "      <td>14</td>\n",
       "    </tr>\n",
       "    <tr>\n",
       "      <th>5</th>\n",
       "      <td>1985</td>\n",
       "      <td>14</td>\n",
       "    </tr>\n",
       "    <tr>\n",
       "      <th>6</th>\n",
       "      <td>1986</td>\n",
       "      <td>21</td>\n",
       "    </tr>\n",
       "    <tr>\n",
       "      <th>7</th>\n",
       "      <td>1987</td>\n",
       "      <td>16</td>\n",
       "    </tr>\n",
       "    <tr>\n",
       "      <th>8</th>\n",
       "      <td>1988</td>\n",
       "      <td>15</td>\n",
       "    </tr>\n",
       "    <tr>\n",
       "      <th>9</th>\n",
       "      <td>1989</td>\n",
       "      <td>17</td>\n",
       "    </tr>\n",
       "    <tr>\n",
       "      <th>10</th>\n",
       "      <td>1990</td>\n",
       "      <td>16</td>\n",
       "    </tr>\n",
       "    <tr>\n",
       "      <th>11</th>\n",
       "      <td>1991</td>\n",
       "      <td>41</td>\n",
       "    </tr>\n",
       "    <tr>\n",
       "      <th>12</th>\n",
       "      <td>1992</td>\n",
       "      <td>43</td>\n",
       "    </tr>\n",
       "    <tr>\n",
       "      <th>13</th>\n",
       "      <td>1993</td>\n",
       "      <td>60</td>\n",
       "    </tr>\n",
       "    <tr>\n",
       "      <th>14</th>\n",
       "      <td>1994</td>\n",
       "      <td>121</td>\n",
       "    </tr>\n",
       "    <tr>\n",
       "      <th>15</th>\n",
       "      <td>1995</td>\n",
       "      <td>219</td>\n",
       "    </tr>\n",
       "    <tr>\n",
       "      <th>16</th>\n",
       "      <td>1996</td>\n",
       "      <td>263</td>\n",
       "    </tr>\n",
       "    <tr>\n",
       "      <th>17</th>\n",
       "      <td>1997</td>\n",
       "      <td>289</td>\n",
       "    </tr>\n",
       "    <tr>\n",
       "      <th>18</th>\n",
       "      <td>1998</td>\n",
       "      <td>379</td>\n",
       "    </tr>\n",
       "    <tr>\n",
       "      <th>19</th>\n",
       "      <td>1999</td>\n",
       "      <td>338</td>\n",
       "    </tr>\n",
       "    <tr>\n",
       "      <th>20</th>\n",
       "      <td>2000</td>\n",
       "      <td>350</td>\n",
       "    </tr>\n",
       "    <tr>\n",
       "      <th>21</th>\n",
       "      <td>2001</td>\n",
       "      <td>482</td>\n",
       "    </tr>\n",
       "    <tr>\n",
       "      <th>22</th>\n",
       "      <td>2002</td>\n",
       "      <td>829</td>\n",
       "    </tr>\n",
       "    <tr>\n",
       "      <th>23</th>\n",
       "      <td>2003</td>\n",
       "      <td>775</td>\n",
       "    </tr>\n",
       "    <tr>\n",
       "      <th>24</th>\n",
       "      <td>2004</td>\n",
       "      <td>762</td>\n",
       "    </tr>\n",
       "    <tr>\n",
       "      <th>25</th>\n",
       "      <td>2005</td>\n",
       "      <td>939</td>\n",
       "    </tr>\n",
       "    <tr>\n",
       "      <th>26</th>\n",
       "      <td>2006</td>\n",
       "      <td>1006</td>\n",
       "    </tr>\n",
       "    <tr>\n",
       "      <th>27</th>\n",
       "      <td>2007</td>\n",
       "      <td>1197</td>\n",
       "    </tr>\n",
       "    <tr>\n",
       "      <th>28</th>\n",
       "      <td>2008</td>\n",
       "      <td>1427</td>\n",
       "    </tr>\n",
       "    <tr>\n",
       "      <th>29</th>\n",
       "      <td>2009</td>\n",
       "      <td>1426</td>\n",
       "    </tr>\n",
       "    <tr>\n",
       "      <th>30</th>\n",
       "      <td>2010</td>\n",
       "      <td>1255</td>\n",
       "    </tr>\n",
       "    <tr>\n",
       "      <th>31</th>\n",
       "      <td>2011</td>\n",
       "      <td>1136</td>\n",
       "    </tr>\n",
       "    <tr>\n",
       "      <th>32</th>\n",
       "      <td>2012</td>\n",
       "      <td>653</td>\n",
       "    </tr>\n",
       "    <tr>\n",
       "      <th>33</th>\n",
       "      <td>2013</td>\n",
       "      <td>544</td>\n",
       "    </tr>\n",
       "    <tr>\n",
       "      <th>34</th>\n",
       "      <td>2014</td>\n",
       "      <td>581</td>\n",
       "    </tr>\n",
       "    <tr>\n",
       "      <th>35</th>\n",
       "      <td>2015</td>\n",
       "      <td>606</td>\n",
       "    </tr>\n",
       "    <tr>\n",
       "      <th>36</th>\n",
       "      <td>2016</td>\n",
       "      <td>502</td>\n",
       "    </tr>\n",
       "  </tbody>\n",
       "</table>\n",
       "</div>"
      ],
      "text/plain": [
       "    year_of_release  games_cnt\n",
       "0              1980          9\n",
       "1              1981         46\n",
       "2              1982         36\n",
       "3              1983         17\n",
       "4              1984         14\n",
       "5              1985         14\n",
       "6              1986         21\n",
       "7              1987         16\n",
       "8              1988         15\n",
       "9              1989         17\n",
       "10             1990         16\n",
       "11             1991         41\n",
       "12             1992         43\n",
       "13             1993         60\n",
       "14             1994        121\n",
       "15             1995        219\n",
       "16             1996        263\n",
       "17             1997        289\n",
       "18             1998        379\n",
       "19             1999        338\n",
       "20             2000        350\n",
       "21             2001        482\n",
       "22             2002        829\n",
       "23             2003        775\n",
       "24             2004        762\n",
       "25             2005        939\n",
       "26             2006       1006\n",
       "27             2007       1197\n",
       "28             2008       1427\n",
       "29             2009       1426\n",
       "30             2010       1255\n",
       "31             2011       1136\n",
       "32             2012        653\n",
       "33             2013        544\n",
       "34             2014        581\n",
       "35             2015        606\n",
       "36             2016        502"
      ]
     },
     "execution_count": 15,
     "metadata": {},
     "output_type": "execute_result"
    }
   ],
   "source": [
    "games_by_year"
   ]
  },
  {
   "cell_type": "markdown",
   "metadata": {},
   "source": [
    "**Выводы**\n",
    "\n",
    "Больше всего вышло игр в 2008 (1427) и 2009 (1426), меньше всего в 1980 (всего 9), но такое малое количество релизов может быть связано с неполнотой данных. Если говорить об играх, выходящих на новом поколении консолей (c 2012 года), то всего вышло 2886 игр для новых консолей и ПК. Стоит анализировать данный промежуток времени, так как он наиболее актуален при планировании продаж игр на ближайшие годы."
   ]
  },
  {
   "cell_type": "markdown",
   "metadata": {},
   "source": [
    "### Продажи по платформам"
   ]
  },
  {
   "cell_type": "markdown",
   "metadata": {},
   "source": [
    "Рассмотрим продажи игр на 4-х поколениях консолей PlayStation, 3-х поколениях XBOX, двух поколениях консолей Nintendo, а также PC. То есть мы рассмотрим несколько поколений настольных консолей и пк. "
   ]
  },
  {
   "cell_type": "code",
   "execution_count": 16,
   "metadata": {},
   "outputs": [],
   "source": [
    "games_new = games.query('platform == [\"PS2\", \"PS3\", \"X360\", \"PS\", \"Wii\", \"XB\", \"PS4\", \"XOne\", \"WiiU\", \"PC\"]')\n",
    "\n",
    "yearly_sales_platforms = games_new .groupby(['platform', 'year_of_release'], as_index=False)['total_sales'].sum()\n",
    "yearly_sales_platforms = (yearly_sales_platforms.query('year_of_release > 1994'))"
   ]
  },
  {
   "cell_type": "code",
   "execution_count": 17,
   "metadata": {},
   "outputs": [
    {
     "data": {
      "image/png": "[encoded data removed]"
     },
     "metadata": {},
     "output_type": "display_data"
    }
   ],
   "source": [
    "import plotly.express as px\n",
    "\n",
    "fig = px.bar(yearly_sales_platforms, x=\"year_of_release\", y='total_sales', color = 'platform', \n",
    "             title=\"Продажи игр на разных поколениях консолей и ПК\",\n",
    "             color_discrete_sequence=px.colors.qualitative.T10)\n",
    "\n",
    "fig.update_xaxes(title_text='Год релиза')\n",
    "fig.update_yaxes(title_text='Количество проданных игр, млн.копий')\n",
    "\n",
    "fig.show(\"png\")"
   ]
  },
  {
   "cell_type": "code",
   "execution_count": 18,
   "metadata": {},
   "outputs": [
    {
     "data": {
      "text/plain": [
       "platform\n",
       "PC       239.79\n",
       "PS       721.55\n",
       "PS2     1233.56\n",
       "PS3      931.34\n",
       "PS4      314.14\n",
       "Wii      891.18\n",
       "WiiU      82.19\n",
       "X360     961.24\n",
       "XB       251.57\n",
       "XOne     159.32\n",
       "Name: total_sales, dtype: float64"
      ]
     },
     "execution_count": 18,
     "metadata": {},
     "output_type": "execute_result"
    }
   ],
   "source": [
    "yearly_sales_platforms.groupby('platform')['total_sales'].sum()"
   ]
  },
  {
   "cell_type": "markdown",
   "metadata": {},
   "source": [
    "**Выводы**\n",
    "\n",
    "* Жизненный цикл консолей составляет от 4 до 8 лет\n",
    "* `Playstation` стабильно обгоняет `XBOX` и `Nintendo` по продажам игр\n",
    "* Больше всего было продано игр на консоли `PS2` (1234 млн.копий), `X360` (961 млн.копий) и `PS3` (931 млн.копий)\n",
    "* Продажи игр на PC стабильно отстают от продаж игр на консолях Microsoft и Sony"
   ]
  },
  {
   "cell_type": "markdown",
   "metadata": {},
   "source": [
    "### Продажи игр на последнем поколении консолей"
   ]
  },
  {
   "cell_type": "markdown",
   "metadata": {},
   "source": [
    "Для прогноза продаж игр на 2017 год будем рассматривать только актуальный период, то есть мы будем рассматривать продажи игр с 2012 года (год выхода первой консоли нового поколения WiiU)."
   ]
  },
  {
   "cell_type": "code",
   "execution_count": 19,
   "metadata": {},
   "outputs": [
    {
     "data": {
      "image/png": "[encoded data removed]"
     },
     "metadata": {},
     "output_type": "display_data"
    }
   ],
   "source": [
    "yearly_sales_new_platforms = yearly_sales_platforms.query('year_of_release > 2011')\n",
    "\n",
    "import plotly.express as px\n",
    "\n",
    "fig = px.bar(yearly_sales_new_platforms, x=\"year_of_release\", y='total_sales', color = 'platform', \n",
    "             title=\"Продажи игр на последнем поколении консолей и ПК\",\n",
    "             color_discrete_sequence=px.colors.qualitative.T10)\n",
    "\n",
    "fig.update_xaxes(title_text='Год релиза')\n",
    "fig.update_yaxes(title_text='Количество проданных игр, млн.копий')\n",
    "\n",
    "fig.show(\"png\")"
   ]
  },
  {
   "cell_type": "markdown",
   "metadata": {},
   "source": [
    "**Выводы**\n",
    "\n",
    "* Больше всего игр было продано на консоли PS4 (314 млн.копий) и PS3 (288 млн.копий), затем идут X360 (233 млн.копий) и XOne (159 млн.копий), WiiU (82 млн.копий) и PC (56 млн.копий)\n",
    "* Максимум продаж на консолях был в 2013 году (289 млн.копий), затем они стабильно снижались, дойдя до уровня продаж в 110 млн.копий в 2016 году. Возможно это связано с неполнотой данных за 2016 год.\n",
    "* По графикам очень заметно, как происходил переходный период на консолях. Сначала новые консоли (PS4, XOne и WiiU) отхватывают часть сегмента продаж в 2012 - 2013 году, а дальше их доля на рынке всё растёт и игры на консоли прошлого поколения продаются всё меньшими тиражами.\n",
    "* С 2012 по 2016 больше всего игр на ПК было продано в 2012 год (23 млн.копий)"
   ]
  },
  {
   "cell_type": "markdown",
   "metadata": {},
   "source": [
    "### Ящик с усами для игр с разбивкой по платформам за актуальный период"
   ]
  },
  {
   "cell_type": "markdown",
   "metadata": {},
   "source": [
    "Построим график \"ящик с усами\" для игр с разбивкой по платформам за актуальный период."
   ]
  },
  {
   "cell_type": "code",
   "execution_count": 20,
   "metadata": {
    "scrolled": false
   },
   "outputs": [
    {
     "data": {
      "image/png": "[encoded data removed]"
     },
     "metadata": {},
     "output_type": "display_data"
    }
   ],
   "source": [
    "games_new = games_new.query('year_of_release > 2011')\n",
    "\n",
    "fig = px.box(games_new, x=\"year_of_release\", y='total_sales', color = 'platform', \n",
    "             title=\"Продажи игр на последнем поколении консолей и ПК за актуальный период\",\n",
    "             color_discrete_sequence=px.colors.qualitative.T10)\n",
    "\n",
    "fig.update_xaxes(title_text='Год релиза')\n",
    "fig.update_yaxes(title_text='Количество проданных игр, млн.копий')\n",
    "\n",
    "fig.show(\"png\")"
   ]
  },
  {
   "cell_type": "markdown",
   "metadata": {},
   "source": [
    "Теперь те же графики, только установим верхнюю границу для проданных игр, так будет лучше виден масштаб"
   ]
  },
  {
   "cell_type": "code",
   "execution_count": 21,
   "metadata": {},
   "outputs": [
    {
     "data": {
      "image/png": "[encoded data removed]"
     },
     "metadata": {},
     "output_type": "display_data"
    }
   ],
   "source": [
    "fig = px.box(games_new, x=\"year_of_release\", y='total_sales', color = 'platform', \n",
    "             title=\"Продажи игр на последнем поколении консолей и ПК за актуальный период\",\n",
    "             color_discrete_sequence=px.colors.qualitative.T10)\n",
    "\n",
    "fig.update_xaxes(title_text='Год релиза')\n",
    "fig.update_yaxes(title_text='Количество проданных игр, млн.копий', range=[0, 4], row=1, col=1)\n",
    "\n",
    "\n",
    "fig.show(\"png\")"
   ]
  },
  {
   "cell_type": "markdown",
   "metadata": {},
   "source": [
    "**Выводы**\n",
    "* Если говорить об аномально высоких продажах игр, то в большинстве случаев они были на консолях X360, PS3, а затем и на PS4, в меньшей степени на WiiU и XOne. \n",
    "* По графиком так же очень заметно, насколько PS4 обходит другие платформы по продажам. Так же видно, что пик продаж игр на всех платформах был в 2013 году. \n",
    "* Продажи игр на PC значительно уступают продажам на консолях нового поколения, абсолютный лидер по продажам из консолей - это PS4, за ней из новых консолей идут XONE и Wii (продажи более новой WiiU остают от Wii). \n",
    "* Если смотреть на старые консоли от Microsoft, Sony и Nintendo, то продажи игр на X360 в среднем выше, чем на PS3 и Wii до 2014 года. Затем продажи игр с 2014 года на консолях PS3 и X360 начали снижаться, в то же время продажи игр на Wii были на пике в 2013-2014 годах. "
   ]
  },
  {
   "cell_type": "markdown",
   "metadata": {},
   "source": [
    "### Влияние отзывов критиков и пользователей на продажи игр "
   ]
  },
  {
   "cell_type": "code",
   "execution_count": 22,
   "metadata": {},
   "outputs": [
    {
     "data": {
      "image/png": "[encoded data removed]",
      "text/plain": [
       "<Figure size 936x720 with 6 Axes>"
      ]
     },
     "metadata": {},
     "output_type": "display_data"
    }
   ],
   "source": [
    "platforms = ['PS4', 'PS3', 'X360', 'XOne', 'PC', 'WiiU']\n",
    "\n",
    "fig, axs = plt.subplots(3, 2, figsize=(13, 10))\n",
    "fig.suptitle('Зависимость продаж видеоигр от оценок критиков', size=14)\n",
    "\n",
    "for platform, ax in zip(platforms, np.ravel(axs)):\n",
    "    sns.scatterplot(\n",
    "        data=games_new.query('critic_score > 0 and platform == @platform'), x='critic_score', y='total_sales', ax=ax)\n",
    "    ax.set_ylabel('Продажи, млн.копий', fontsize = 11)\n",
    "    ax.set_xlabel('Оценка критиков', fontsize = 11)\n",
    "    ax.set_title(platform, fontsize = 12)\n",
    "plt.tight_layout()"
   ]
  },
  {
   "cell_type": "code",
   "execution_count": 23,
   "metadata": {},
   "outputs": [
    {
     "name": "stdout",
     "output_type": "stream",
     "text": [
      "PS4\n"
     ]
    },
    {
     "data": {
      "text/html": [
       "<div>\n",
       "<style scoped>\n",
       "    .dataframe tbody tr th:only-of-type {\n",
       "        vertical-align: middle;\n",
       "    }\n",
       "\n",
       "    .dataframe tbody tr th {\n",
       "        vertical-align: top;\n",
       "    }\n",
       "\n",
       "    .dataframe thead th {\n",
       "        text-align: right;\n",
       "    }\n",
       "</style>\n",
       "<table border=\"1\" class=\"dataframe\">\n",
       "  <thead>\n",
       "    <tr style=\"text-align: right;\">\n",
       "      <th></th>\n",
       "      <th>critic_score</th>\n",
       "      <th>total_sales</th>\n",
       "    </tr>\n",
       "  </thead>\n",
       "  <tbody>\n",
       "    <tr>\n",
       "      <th>critic_score</th>\n",
       "      <td>1.000000</td>\n",
       "      <td>0.406568</td>\n",
       "    </tr>\n",
       "    <tr>\n",
       "      <th>total_sales</th>\n",
       "      <td>0.406568</td>\n",
       "      <td>1.000000</td>\n",
       "    </tr>\n",
       "  </tbody>\n",
       "</table>\n",
       "</div>"
      ],
      "text/plain": [
       "              critic_score  total_sales\n",
       "critic_score      1.000000     0.406568\n",
       "total_sales       0.406568     1.000000"
      ]
     },
     "metadata": {},
     "output_type": "display_data"
    },
    {
     "name": "stdout",
     "output_type": "stream",
     "text": [
      "PS3\n"
     ]
    },
    {
     "data": {
      "text/html": [
       "<div>\n",
       "<style scoped>\n",
       "    .dataframe tbody tr th:only-of-type {\n",
       "        vertical-align: middle;\n",
       "    }\n",
       "\n",
       "    .dataframe tbody tr th {\n",
       "        vertical-align: top;\n",
       "    }\n",
       "\n",
       "    .dataframe thead th {\n",
       "        text-align: right;\n",
       "    }\n",
       "</style>\n",
       "<table border=\"1\" class=\"dataframe\">\n",
       "  <thead>\n",
       "    <tr style=\"text-align: right;\">\n",
       "      <th></th>\n",
       "      <th>critic_score</th>\n",
       "      <th>total_sales</th>\n",
       "    </tr>\n",
       "  </thead>\n",
       "  <tbody>\n",
       "    <tr>\n",
       "      <th>critic_score</th>\n",
       "      <td>1.000000</td>\n",
       "      <td>0.331497</td>\n",
       "    </tr>\n",
       "    <tr>\n",
       "      <th>total_sales</th>\n",
       "      <td>0.331497</td>\n",
       "      <td>1.000000</td>\n",
       "    </tr>\n",
       "  </tbody>\n",
       "</table>\n",
       "</div>"
      ],
      "text/plain": [
       "              critic_score  total_sales\n",
       "critic_score      1.000000     0.331497\n",
       "total_sales       0.331497     1.000000"
      ]
     },
     "metadata": {},
     "output_type": "display_data"
    },
    {
     "name": "stdout",
     "output_type": "stream",
     "text": [
      "X360\n"
     ]
    },
    {
     "data": {
      "text/html": [
       "<div>\n",
       "<style scoped>\n",
       "    .dataframe tbody tr th:only-of-type {\n",
       "        vertical-align: middle;\n",
       "    }\n",
       "\n",
       "    .dataframe tbody tr th {\n",
       "        vertical-align: top;\n",
       "    }\n",
       "\n",
       "    .dataframe thead th {\n",
       "        text-align: right;\n",
       "    }\n",
       "</style>\n",
       "<table border=\"1\" class=\"dataframe\">\n",
       "  <thead>\n",
       "    <tr style=\"text-align: right;\">\n",
       "      <th></th>\n",
       "      <th>critic_score</th>\n",
       "      <th>total_sales</th>\n",
       "    </tr>\n",
       "  </thead>\n",
       "  <tbody>\n",
       "    <tr>\n",
       "      <th>critic_score</th>\n",
       "      <td>1.000000</td>\n",
       "      <td>0.360573</td>\n",
       "    </tr>\n",
       "    <tr>\n",
       "      <th>total_sales</th>\n",
       "      <td>0.360573</td>\n",
       "      <td>1.000000</td>\n",
       "    </tr>\n",
       "  </tbody>\n",
       "</table>\n",
       "</div>"
      ],
      "text/plain": [
       "              critic_score  total_sales\n",
       "critic_score      1.000000     0.360573\n",
       "total_sales       0.360573     1.000000"
      ]
     },
     "metadata": {},
     "output_type": "display_data"
    },
    {
     "name": "stdout",
     "output_type": "stream",
     "text": [
      "XOne\n"
     ]
    },
    {
     "data": {
      "text/html": [
       "<div>\n",
       "<style scoped>\n",
       "    .dataframe tbody tr th:only-of-type {\n",
       "        vertical-align: middle;\n",
       "    }\n",
       "\n",
       "    .dataframe tbody tr th {\n",
       "        vertical-align: top;\n",
       "    }\n",
       "\n",
       "    .dataframe thead th {\n",
       "        text-align: right;\n",
       "    }\n",
       "</style>\n",
       "<table border=\"1\" class=\"dataframe\">\n",
       "  <thead>\n",
       "    <tr style=\"text-align: right;\">\n",
       "      <th></th>\n",
       "      <th>critic_score</th>\n",
       "      <th>total_sales</th>\n",
       "    </tr>\n",
       "  </thead>\n",
       "  <tbody>\n",
       "    <tr>\n",
       "      <th>critic_score</th>\n",
       "      <td>1.000000</td>\n",
       "      <td>0.416998</td>\n",
       "    </tr>\n",
       "    <tr>\n",
       "      <th>total_sales</th>\n",
       "      <td>0.416998</td>\n",
       "      <td>1.000000</td>\n",
       "    </tr>\n",
       "  </tbody>\n",
       "</table>\n",
       "</div>"
      ],
      "text/plain": [
       "              critic_score  total_sales\n",
       "critic_score      1.000000     0.416998\n",
       "total_sales       0.416998     1.000000"
      ]
     },
     "metadata": {},
     "output_type": "display_data"
    },
    {
     "name": "stdout",
     "output_type": "stream",
     "text": [
      "PC\n"
     ]
    },
    {
     "data": {
      "text/html": [
       "<div>\n",
       "<style scoped>\n",
       "    .dataframe tbody tr th:only-of-type {\n",
       "        vertical-align: middle;\n",
       "    }\n",
       "\n",
       "    .dataframe tbody tr th {\n",
       "        vertical-align: top;\n",
       "    }\n",
       "\n",
       "    .dataframe thead th {\n",
       "        text-align: right;\n",
       "    }\n",
       "</style>\n",
       "<table border=\"1\" class=\"dataframe\">\n",
       "  <thead>\n",
       "    <tr style=\"text-align: right;\">\n",
       "      <th></th>\n",
       "      <th>critic_score</th>\n",
       "      <th>total_sales</th>\n",
       "    </tr>\n",
       "  </thead>\n",
       "  <tbody>\n",
       "    <tr>\n",
       "      <th>critic_score</th>\n",
       "      <td>1.000000</td>\n",
       "      <td>0.237243</td>\n",
       "    </tr>\n",
       "    <tr>\n",
       "      <th>total_sales</th>\n",
       "      <td>0.237243</td>\n",
       "      <td>1.000000</td>\n",
       "    </tr>\n",
       "  </tbody>\n",
       "</table>\n",
       "</div>"
      ],
      "text/plain": [
       "              critic_score  total_sales\n",
       "critic_score      1.000000     0.237243\n",
       "total_sales       0.237243     1.000000"
      ]
     },
     "metadata": {},
     "output_type": "display_data"
    },
    {
     "name": "stdout",
     "output_type": "stream",
     "text": [
      "WiiU\n"
     ]
    },
    {
     "data": {
      "text/html": [
       "<div>\n",
       "<style scoped>\n",
       "    .dataframe tbody tr th:only-of-type {\n",
       "        vertical-align: middle;\n",
       "    }\n",
       "\n",
       "    .dataframe tbody tr th {\n",
       "        vertical-align: top;\n",
       "    }\n",
       "\n",
       "    .dataframe thead th {\n",
       "        text-align: right;\n",
       "    }\n",
       "</style>\n",
       "<table border=\"1\" class=\"dataframe\">\n",
       "  <thead>\n",
       "    <tr style=\"text-align: right;\">\n",
       "      <th></th>\n",
       "      <th>critic_score</th>\n",
       "      <th>total_sales</th>\n",
       "    </tr>\n",
       "  </thead>\n",
       "  <tbody>\n",
       "    <tr>\n",
       "      <th>critic_score</th>\n",
       "      <td>1.00000</td>\n",
       "      <td>0.34838</td>\n",
       "    </tr>\n",
       "    <tr>\n",
       "      <th>total_sales</th>\n",
       "      <td>0.34838</td>\n",
       "      <td>1.00000</td>\n",
       "    </tr>\n",
       "  </tbody>\n",
       "</table>\n",
       "</div>"
      ],
      "text/plain": [
       "              critic_score  total_sales\n",
       "critic_score       1.00000      0.34838\n",
       "total_sales        0.34838      1.00000"
      ]
     },
     "metadata": {},
     "output_type": "display_data"
    }
   ],
   "source": [
    "for platform in platforms:\n",
    "    print(platform)\n",
    "    display(games_new.query('critic_score > 0 and platform == @platform')[['critic_score', 'total_sales']].corr())"
   ]
  },
  {
   "cell_type": "code",
   "execution_count": 24,
   "metadata": {},
   "outputs": [
    {
     "data": {
      "image/png": "[encoded data removed]",
      "text/plain": [
       "<Figure size 936x720 with 6 Axes>"
      ]
     },
     "metadata": {},
     "output_type": "display_data"
    }
   ],
   "source": [
    "platforms = ['PS4', 'PS3', 'X360', 'XOne', 'PC', 'WiiU']\n",
    "\n",
    "fig, axs = plt.subplots(3, 2, figsize=(13, 10))\n",
    "fig.suptitle('Зависимость продаж видеоигр от оценок игроков', size=16, y=1.02)\n",
    "\n",
    "for platform, ax in zip(platforms, np.ravel(axs)):\n",
    "    sns.scatterplot(\n",
    "        data=games_new.query('user_score > 0 and platform == @platform'), x='user_score', y='total_sales', ax=ax)\n",
    "    ax.set_ylabel('Продажи, млн.копий', fontsize = 12)\n",
    "    ax.set_xlabel('Оценка игроков', fontsize = 12)\n",
    "    ax.set_title(platform, fontsize = 14)\n",
    "plt.tight_layout()"
   ]
  },
  {
   "cell_type": "code",
   "execution_count": 25,
   "metadata": {},
   "outputs": [
    {
     "name": "stdout",
     "output_type": "stream",
     "text": [
      "PS4\n"
     ]
    },
    {
     "data": {
      "text/html": [
       "<div>\n",
       "<style scoped>\n",
       "    .dataframe tbody tr th:only-of-type {\n",
       "        vertical-align: middle;\n",
       "    }\n",
       "\n",
       "    .dataframe tbody tr th {\n",
       "        vertical-align: top;\n",
       "    }\n",
       "\n",
       "    .dataframe thead th {\n",
       "        text-align: right;\n",
       "    }\n",
       "</style>\n",
       "<table border=\"1\" class=\"dataframe\">\n",
       "  <thead>\n",
       "    <tr style=\"text-align: right;\">\n",
       "      <th></th>\n",
       "      <th>user_score</th>\n",
       "      <th>total_sales</th>\n",
       "    </tr>\n",
       "  </thead>\n",
       "  <tbody>\n",
       "    <tr>\n",
       "      <th>user_score</th>\n",
       "      <td>1.000000</td>\n",
       "      <td>-0.031957</td>\n",
       "    </tr>\n",
       "    <tr>\n",
       "      <th>total_sales</th>\n",
       "      <td>-0.031957</td>\n",
       "      <td>1.000000</td>\n",
       "    </tr>\n",
       "  </tbody>\n",
       "</table>\n",
       "</div>"
      ],
      "text/plain": [
       "             user_score  total_sales\n",
       "user_score     1.000000    -0.031957\n",
       "total_sales   -0.031957     1.000000"
      ]
     },
     "metadata": {},
     "output_type": "display_data"
    },
    {
     "name": "stdout",
     "output_type": "stream",
     "text": [
      "PS3\n"
     ]
    },
    {
     "data": {
      "text/html": [
       "<div>\n",
       "<style scoped>\n",
       "    .dataframe tbody tr th:only-of-type {\n",
       "        vertical-align: middle;\n",
       "    }\n",
       "\n",
       "    .dataframe tbody tr th {\n",
       "        vertical-align: top;\n",
       "    }\n",
       "\n",
       "    .dataframe thead th {\n",
       "        text-align: right;\n",
       "    }\n",
       "</style>\n",
       "<table border=\"1\" class=\"dataframe\">\n",
       "  <thead>\n",
       "    <tr style=\"text-align: right;\">\n",
       "      <th></th>\n",
       "      <th>user_score</th>\n",
       "      <th>total_sales</th>\n",
       "    </tr>\n",
       "  </thead>\n",
       "  <tbody>\n",
       "    <tr>\n",
       "      <th>user_score</th>\n",
       "      <td>1.000000</td>\n",
       "      <td>-0.005144</td>\n",
       "    </tr>\n",
       "    <tr>\n",
       "      <th>total_sales</th>\n",
       "      <td>-0.005144</td>\n",
       "      <td>1.000000</td>\n",
       "    </tr>\n",
       "  </tbody>\n",
       "</table>\n",
       "</div>"
      ],
      "text/plain": [
       "             user_score  total_sales\n",
       "user_score     1.000000    -0.005144\n",
       "total_sales   -0.005144     1.000000"
      ]
     },
     "metadata": {},
     "output_type": "display_data"
    },
    {
     "name": "stdout",
     "output_type": "stream",
     "text": [
      "X360\n"
     ]
    },
    {
     "data": {
      "text/html": [
       "<div>\n",
       "<style scoped>\n",
       "    .dataframe tbody tr th:only-of-type {\n",
       "        vertical-align: middle;\n",
       "    }\n",
       "\n",
       "    .dataframe tbody tr th {\n",
       "        vertical-align: top;\n",
       "    }\n",
       "\n",
       "    .dataframe thead th {\n",
       "        text-align: right;\n",
       "    }\n",
       "</style>\n",
       "<table border=\"1\" class=\"dataframe\">\n",
       "  <thead>\n",
       "    <tr style=\"text-align: right;\">\n",
       "      <th></th>\n",
       "      <th>user_score</th>\n",
       "      <th>total_sales</th>\n",
       "    </tr>\n",
       "  </thead>\n",
       "  <tbody>\n",
       "    <tr>\n",
       "      <th>user_score</th>\n",
       "      <td>1.000000</td>\n",
       "      <td>0.006164</td>\n",
       "    </tr>\n",
       "    <tr>\n",
       "      <th>total_sales</th>\n",
       "      <td>0.006164</td>\n",
       "      <td>1.000000</td>\n",
       "    </tr>\n",
       "  </tbody>\n",
       "</table>\n",
       "</div>"
      ],
      "text/plain": [
       "             user_score  total_sales\n",
       "user_score     1.000000     0.006164\n",
       "total_sales    0.006164     1.000000"
      ]
     },
     "metadata": {},
     "output_type": "display_data"
    },
    {
     "name": "stdout",
     "output_type": "stream",
     "text": [
      "XOne\n"
     ]
    },
    {
     "data": {
      "text/html": [
       "<div>\n",
       "<style scoped>\n",
       "    .dataframe tbody tr th:only-of-type {\n",
       "        vertical-align: middle;\n",
       "    }\n",
       "\n",
       "    .dataframe tbody tr th {\n",
       "        vertical-align: top;\n",
       "    }\n",
       "\n",
       "    .dataframe thead th {\n",
       "        text-align: right;\n",
       "    }\n",
       "</style>\n",
       "<table border=\"1\" class=\"dataframe\">\n",
       "  <thead>\n",
       "    <tr style=\"text-align: right;\">\n",
       "      <th></th>\n",
       "      <th>user_score</th>\n",
       "      <th>total_sales</th>\n",
       "    </tr>\n",
       "  </thead>\n",
       "  <tbody>\n",
       "    <tr>\n",
       "      <th>user_score</th>\n",
       "      <td>1.000000</td>\n",
       "      <td>-0.068925</td>\n",
       "    </tr>\n",
       "    <tr>\n",
       "      <th>total_sales</th>\n",
       "      <td>-0.068925</td>\n",
       "      <td>1.000000</td>\n",
       "    </tr>\n",
       "  </tbody>\n",
       "</table>\n",
       "</div>"
      ],
      "text/plain": [
       "             user_score  total_sales\n",
       "user_score     1.000000    -0.068925\n",
       "total_sales   -0.068925     1.000000"
      ]
     },
     "metadata": {},
     "output_type": "display_data"
    },
    {
     "name": "stdout",
     "output_type": "stream",
     "text": [
      "PC\n"
     ]
    },
    {
     "data": {
      "text/html": [
       "<div>\n",
       "<style scoped>\n",
       "    .dataframe tbody tr th:only-of-type {\n",
       "        vertical-align: middle;\n",
       "    }\n",
       "\n",
       "    .dataframe tbody tr th {\n",
       "        vertical-align: top;\n",
       "    }\n",
       "\n",
       "    .dataframe thead th {\n",
       "        text-align: right;\n",
       "    }\n",
       "</style>\n",
       "<table border=\"1\" class=\"dataframe\">\n",
       "  <thead>\n",
       "    <tr style=\"text-align: right;\">\n",
       "      <th></th>\n",
       "      <th>user_score</th>\n",
       "      <th>total_sales</th>\n",
       "    </tr>\n",
       "  </thead>\n",
       "  <tbody>\n",
       "    <tr>\n",
       "      <th>user_score</th>\n",
       "      <td>1.000000</td>\n",
       "      <td>-0.121867</td>\n",
       "    </tr>\n",
       "    <tr>\n",
       "      <th>total_sales</th>\n",
       "      <td>-0.121867</td>\n",
       "      <td>1.000000</td>\n",
       "    </tr>\n",
       "  </tbody>\n",
       "</table>\n",
       "</div>"
      ],
      "text/plain": [
       "             user_score  total_sales\n",
       "user_score     1.000000    -0.121867\n",
       "total_sales   -0.121867     1.000000"
      ]
     },
     "metadata": {},
     "output_type": "display_data"
    },
    {
     "name": "stdout",
     "output_type": "stream",
     "text": [
      "WiiU\n"
     ]
    },
    {
     "data": {
      "text/html": [
       "<div>\n",
       "<style scoped>\n",
       "    .dataframe tbody tr th:only-of-type {\n",
       "        vertical-align: middle;\n",
       "    }\n",
       "\n",
       "    .dataframe tbody tr th {\n",
       "        vertical-align: top;\n",
       "    }\n",
       "\n",
       "    .dataframe thead th {\n",
       "        text-align: right;\n",
       "    }\n",
       "</style>\n",
       "<table border=\"1\" class=\"dataframe\">\n",
       "  <thead>\n",
       "    <tr style=\"text-align: right;\">\n",
       "      <th></th>\n",
       "      <th>user_score</th>\n",
       "      <th>total_sales</th>\n",
       "    </tr>\n",
       "  </thead>\n",
       "  <tbody>\n",
       "    <tr>\n",
       "      <th>user_score</th>\n",
       "      <td>1.000000</td>\n",
       "      <td>0.400219</td>\n",
       "    </tr>\n",
       "    <tr>\n",
       "      <th>total_sales</th>\n",
       "      <td>0.400219</td>\n",
       "      <td>1.000000</td>\n",
       "    </tr>\n",
       "  </tbody>\n",
       "</table>\n",
       "</div>"
      ],
      "text/plain": [
       "             user_score  total_sales\n",
       "user_score     1.000000     0.400219\n",
       "total_sales    0.400219     1.000000"
      ]
     },
     "metadata": {},
     "output_type": "display_data"
    }
   ],
   "source": [
    "for platform in platforms:\n",
    "    print(platform)\n",
    "    display(games_new.query('user_score > 0 and platform == @platform')[['user_score', 'total_sales']].corr())"
   ]
  },
  {
   "cell_type": "markdown",
   "metadata": {},
   "source": [
    "**Выводы**\n",
    "\n",
    "* По матрицам корреляций заметно, что общие продажи игр достаточно слабо зависят от оценок критиков (особенно слабо зависят на платформах PC, PS3 и WiiU) и практически не зависят от оценок игроков (на всех платформах очень малая отрицательная корреляция (от -0.005 до -0.12), кроме платформы WiiU, там она положительная и равна 0.4), средние коэффициенты корреляции для оценок критиков и игроков равны 0.3 и 0.006 соответственно. На диаграммах распределения этот вывод подтверждается. "
   ]
  },
  {
   "cell_type": "markdown",
   "metadata": {},
   "source": [
    "### Распределение игр по жанрам"
   ]
  },
  {
   "cell_type": "code",
   "execution_count": 26,
   "metadata": {},
   "outputs": [],
   "source": [
    "games_new_genres = (games_new.groupby('genre', as_index=False)['total_sales'].agg(['sum', 'count'])\n",
    "                    .rename(columns={'sum':'total_sales', 'count':'games_cnt'}).sort_values(by='total_sales', ascending=False))\n",
    "\n",
    "games_new_genres['avg_sales'] = round(games_new_genres['total_sales'] / games_new_genres['games_cnt'], 2)"
   ]
  },
  {
   "cell_type": "code",
   "execution_count": 27,
   "metadata": {},
   "outputs": [
    {
     "data": {
      "text/html": [
       "<div>\n",
       "<style scoped>\n",
       "    .dataframe tbody tr th:only-of-type {\n",
       "        vertical-align: middle;\n",
       "    }\n",
       "\n",
       "    .dataframe tbody tr th {\n",
       "        vertical-align: top;\n",
       "    }\n",
       "\n",
       "    .dataframe thead th {\n",
       "        text-align: right;\n",
       "    }\n",
       "</style>\n",
       "<table border=\"1\" class=\"dataframe\">\n",
       "  <thead>\n",
       "    <tr style=\"text-align: right;\">\n",
       "      <th></th>\n",
       "      <th>total_sales</th>\n",
       "      <th>games_cnt</th>\n",
       "      <th>avg_sales</th>\n",
       "    </tr>\n",
       "    <tr>\n",
       "      <th>genre</th>\n",
       "      <th></th>\n",
       "      <th></th>\n",
       "      <th></th>\n",
       "    </tr>\n",
       "  </thead>\n",
       "  <tbody>\n",
       "    <tr>\n",
       "      <th>Action</th>\n",
       "      <td>373.72</td>\n",
       "      <td>652</td>\n",
       "      <td>0.57</td>\n",
       "    </tr>\n",
       "    <tr>\n",
       "      <th>Shooter</th>\n",
       "      <td>302.26</td>\n",
       "      <td>229</td>\n",
       "      <td>1.32</td>\n",
       "    </tr>\n",
       "    <tr>\n",
       "      <th>Sports</th>\n",
       "      <td>172.11</td>\n",
       "      <td>223</td>\n",
       "      <td>0.77</td>\n",
       "    </tr>\n",
       "    <tr>\n",
       "      <th>Role-Playing</th>\n",
       "      <td>89.56</td>\n",
       "      <td>176</td>\n",
       "      <td>0.51</td>\n",
       "    </tr>\n",
       "    <tr>\n",
       "      <th>Misc</th>\n",
       "      <td>70.38</td>\n",
       "      <td>117</td>\n",
       "      <td>0.60</td>\n",
       "    </tr>\n",
       "    <tr>\n",
       "      <th>Racing</th>\n",
       "      <td>51.01</td>\n",
       "      <td>105</td>\n",
       "      <td>0.49</td>\n",
       "    </tr>\n",
       "    <tr>\n",
       "      <th>Platform</th>\n",
       "      <td>38.94</td>\n",
       "      <td>56</td>\n",
       "      <td>0.70</td>\n",
       "    </tr>\n",
       "    <tr>\n",
       "      <th>Fighting</th>\n",
       "      <td>33.46</td>\n",
       "      <td>82</td>\n",
       "      <td>0.41</td>\n",
       "    </tr>\n",
       "    <tr>\n",
       "      <th>Adventure</th>\n",
       "      <td>19.61</td>\n",
       "      <td>122</td>\n",
       "      <td>0.16</td>\n",
       "    </tr>\n",
       "    <tr>\n",
       "      <th>Simulation</th>\n",
       "      <td>14.87</td>\n",
       "      <td>55</td>\n",
       "      <td>0.27</td>\n",
       "    </tr>\n",
       "    <tr>\n",
       "      <th>Strategy</th>\n",
       "      <td>11.01</td>\n",
       "      <td>49</td>\n",
       "      <td>0.22</td>\n",
       "    </tr>\n",
       "    <tr>\n",
       "      <th>Puzzle</th>\n",
       "      <td>2.07</td>\n",
       "      <td>9</td>\n",
       "      <td>0.23</td>\n",
       "    </tr>\n",
       "  </tbody>\n",
       "</table>\n",
       "</div>"
      ],
      "text/plain": [
       "              total_sales  games_cnt  avg_sales\n",
       "genre                                          \n",
       "Action             373.72        652       0.57\n",
       "Shooter            302.26        229       1.32\n",
       "Sports             172.11        223       0.77\n",
       "Role-Playing        89.56        176       0.51\n",
       "Misc                70.38        117       0.60\n",
       "Racing              51.01        105       0.49\n",
       "Platform            38.94         56       0.70\n",
       "Fighting            33.46         82       0.41\n",
       "Adventure           19.61        122       0.16\n",
       "Simulation          14.87         55       0.27\n",
       "Strategy            11.01         49       0.22\n",
       "Puzzle               2.07          9       0.23"
      ]
     },
     "execution_count": 27,
     "metadata": {},
     "output_type": "execute_result"
    }
   ],
   "source": [
    "games_new_genres"
   ]
  },
  {
   "cell_type": "markdown",
   "metadata": {},
   "source": [
    "Построим диаграммы размаха продаж игр для разных жанров"
   ]
  },
  {
   "cell_type": "code",
   "execution_count": 28,
   "metadata": {},
   "outputs": [
    {
     "data": {
      "image/png": "[encoded data removed]"
     },
     "metadata": {},
     "output_type": "display_data"
    }
   ],
   "source": [
    "fig = px.box(games_new, y='total_sales', color = 'genre', \n",
    "             title=\"Продажи игр на последнем поколении консолей и ПК за актуальный период\",\n",
    "             color_discrete_sequence=px.colors.qualitative.T10)\n",
    "\n",
    "fig.update_yaxes(title_text='Количество проданных игр, млн.копий')\n",
    "\n",
    "\n",
    "fig.show(\"png\")"
   ]
  },
  {
   "cell_type": "code",
   "execution_count": 29,
   "metadata": {},
   "outputs": [
    {
     "data": {
      "image/png": "[encoded data removed]"
     },
     "metadata": {},
     "output_type": "display_data"
    }
   ],
   "source": [
    "fig = px.box(games_new, y='total_sales', color = 'genre', \n",
    "             title=\"Продажи игр на последнем поколении консолей и ПК за актуальный период\",\n",
    "             color_discrete_sequence=px.colors.qualitative.T10)\n",
    "\n",
    "fig.update_yaxes(title_text='Количество проданных игр, млн.копий', range=[0, 3.7], row=1, col=1)\n",
    "\n",
    "\n",
    "fig.show(\"png\")"
   ]
  },
  {
   "cell_type": "markdown",
   "metadata": {},
   "source": [
    "**Выводы**\n",
    "\n",
    "* Больше всего было продано игр жанров Action (373 млн.), Shooter (302 млн.) и Sports (172 млн.)\n",
    "* Если говорить про самые популярные жанры на разных платформах, то топ 3 жанра на двух поколениях консолей XBOX и PS это жанры Action, Shooter  и Sports, на PC топ 3 жанра это те же Shooter, Action и добавляется RPG. На консолях от Nintendo самые популярные жанры  - Action, Misc и Platform (только на WiiU) \n",
    "* Если смотреть на метрику средних продаж одной игры (avg_sales), то наиболее прибыльными жанрами являются так же Shooter (1.32 млн.копий на одну игру), Sports (0.77 млн.) и Platform (0.7 млн.). Так же данный вывод подтверждает диаграмма размаха - медианные продажи лучше всего у жанров Shooter (0.44 млн.копий), Sports (0.36 млн.копий), Platform (0.26 млн.копий).\n",
    "* Меньше всего выходило игр жанров Puzzle (всего 9), Strategy (49) и Simulation (55), они так же продались наименьшим тиражом из всех жанров."
   ]
  },
  {
   "cell_type": "markdown",
   "metadata": {},
   "source": [
    "## Портреты пользователей разных регионов"
   ]
  },
  {
   "cell_type": "markdown",
   "metadata": {},
   "source": [
    "### Самые популярные платформы"
   ]
  },
  {
   "cell_type": "markdown",
   "metadata": {},
   "source": [
    "Посмотрим самые популярные платформы с помощью группированной таблички и визуализаций"
   ]
  },
  {
   "cell_type": "code",
   "execution_count": 30,
   "metadata": {},
   "outputs": [],
   "source": [
    "games_platform = (games_new.groupby('platform', as_index=False)[['na_sales', 'eu_sales','jp_sales']].agg('sum'))\n",
    "\n",
    "games_platform_na = games_platform[['platform','na_sales']]\n",
    "games_platform_na.loc[games_platform_na['na_sales'] < 38, 'platform'] = 'Other_platform' \n",
    "games_platform_na = games_platform_na.groupby('platform', as_index=False)['na_sales'].agg('sum')\n",
    "\n",
    "games_platform_eu = games_platform[['platform','eu_sales']]\n",
    "games_platform_eu.loc[games_platform_eu['eu_sales'] < 37, 'platform'] = 'Other_platform' \n",
    "games_platform_eu = games_platform_eu.groupby('platform', as_index=False)['eu_sales'].agg('sum')\n",
    "\n",
    "games_platform_jp = games_platform[['platform','jp_sales']]\n",
    "games_platform_jp.loc[games_platform_jp['jp_sales'] < 1, 'platform'] = 'Other_platform' \n",
    "games_platform_jp = games_platform_jp.groupby('platform', as_index=False)['jp_sales'].agg('sum')"
   ]
  },
  {
   "cell_type": "code",
   "execution_count": 31,
   "metadata": {},
   "outputs": [
    {
     "data": {
      "image/png": "[encoded data removed]"
     },
     "metadata": {},
     "output_type": "display_data"
    }
   ],
   "source": [
    "fig = make_subplots(1, 3, specs=[[{'type':'domain'}, {'type':'domain'}, {'type':'domain'}]],\n",
    "                    subplot_titles=['NA', 'EU', 'JP'])\n",
    "\n",
    "fig.add_trace(go.Pie(labels=games_platform_na['platform'], values=games_platform_na['na_sales'], \n",
    "                     name=\"NA\", scalegroup='one'), 1, 1)\n",
    "fig.add_trace(go.Pie(labels=games_platform_eu['platform'], values=games_platform_eu['eu_sales'], \n",
    "                     name=\"EU\", scalegroup='one'), 1, 2)\n",
    "fig.add_trace(go.Pie(labels=games_platform_jp['platform'], values=games_platform_jp['jp_sales'], \n",
    "                     name=\"JP\", scalegroup='one'), 1, 3)\n",
    "\n",
    "fig.update_layout(title_text='Популярность консолей в разных регионах')\n",
    "fig.show(\"png\")"
   ]
  },
  {
   "cell_type": "markdown",
   "metadata": {},
   "source": [
    "**Выводы**\n",
    "\n",
    "* Самые популярные платформы для разных регионов:\n",
    "    * NA - X360 (140.05 млн.копий), PS4 (108.7 млн.копий), PS3 (103 млн.копий), XOne (93 млн.копий) и WiiU (38 млн.копий)\n",
    "    * EU - PS4 (141.1 млн.копий), PS3 (106.9 млн.копий), X360 (74.5 млн.копий), XOne (51.6 млн.копий) и PC (38 млн.копий)\n",
    "    * JP - PS3 (35.3 млн.копий), PS4 (16 млн.копий), WiiU (13 млн.копий), X360 (1.6 млн.копий), XOne (0.3 млн.копий) \n",
    "* Таким образом, за актуальный период в Северной Америке наиболее популярна были консоли X360 и PS4, в Европе PS4 И PS3, а в Японии PS3 и PS4. Стоит так же заметить, что в Япониина третьем месте по продажам игр идёт WiiU (в других регионах она на последнем месте), а игры на консоли Microsoft в этом регионе продаются довольно слабо."
   ]
  },
  {
   "cell_type": "markdown",
   "metadata": {},
   "source": [
    "### Самые популярные жанры "
   ]
  },
  {
   "cell_type": "markdown",
   "metadata": {},
   "source": [
    "Посмотрим самые популярные жанры с помощью группированной таблицы и визуализаций"
   ]
  },
  {
   "cell_type": "code",
   "execution_count": 32,
   "metadata": {
    "scrolled": false
   },
   "outputs": [],
   "source": [
    "games_genre = (games_new.groupby('genre', as_index=False)[['na_sales', 'eu_sales','jp_sales']].agg('sum'))\n",
    "\n",
    "games_genre_na = games_genre[['genre','na_sales']]\n",
    "games_genre_na.loc[games_genre_na['na_sales'] < 35, 'genre'] = 'Other_genre' \n",
    "games_genre_na = games_genre_na.groupby('genre', as_index=False)['na_sales'].agg('sum')\n",
    "\n",
    "games_genre_eu = games_genre[['genre','eu_sales']]\n",
    "games_genre_eu.loc[games_genre_eu['eu_sales'] < 26, 'genre'] = 'Other_genre' \n",
    "games_genre_eu = games_genre_eu.groupby('genre', as_index=False)['eu_sales'].agg('sum')\n",
    "\n",
    "games_genre_jp = games_genre[['genre','jp_sales']]\n",
    "games_genre_jp.loc[games_genre_jp['jp_sales'] < 4.6, 'genre'] = 'Other_genre' \n",
    "games_genre_jp = games_genre_jp.groupby('genre', as_index=False)['jp_sales'].agg('sum')"
   ]
  },
  {
   "cell_type": "code",
   "execution_count": 33,
   "metadata": {},
   "outputs": [
    {
     "data": {
      "image/png": "[encoded data removed]"
     },
     "metadata": {},
     "output_type": "display_data"
    }
   ],
   "source": [
    "fig = make_subplots(1, 3, specs=[[{'type':'domain'}, {'type':'domain'}, {'type':'domain'}]],\n",
    "                    subplot_titles=['NA', 'EU', 'JP'])\n",
    "\n",
    "fig.add_trace(go.Pie(labels=games_genre_na['genre'], values=games_genre_na['na_sales'], \n",
    "                     name=\"NA\", scalegroup='one'), 1, 1)\n",
    "fig.add_trace(go.Pie(labels=games_genre_eu['genre'], values=games_genre_eu['eu_sales'], \n",
    "                     name=\"EU\", scalegroup='one'), 1, 2)\n",
    "fig.add_trace(go.Pie(labels=games_genre_jp['genre'], values=games_genre_jp['jp_sales'], \n",
    "                     name=\"JP\", scalegroup='one'), 1, 3)\n",
    "\n",
    "fig.update_layout(title_text='Продажи игр на консолях и PC в разных регионах')\n",
    "fig.show(\"png\")"
   ]
  },
  {
   "cell_type": "code",
   "execution_count": 34,
   "metadata": {},
   "outputs": [],
   "source": [
    "fig = go.Figure(data=[go.Pie(labels=games_genre_na['genre'], values=games_genre_na['na_sales'])])"
   ]
  },
  {
   "cell_type": "markdown",
   "metadata": {},
   "source": [
    "**Выводы**\n",
    "\n",
    "* Самые популярные жанры для разных регионов:\n",
    "    * NA - Action (159.8 млн.копий), Shooter (143.8 млн.копий), Sports (79.7 млн.копий), RPG (35.9), Misc (35.8)\n",
    "    * EU - Action (145 млн.копий), Shooter (112.6 млн.копий), Sports (66.2 млн.копий), RPG (31.1 млн.копий) и Racing (26.2 млн.копий)\n",
    "    * JP - Action (21.9 млн.копий), RPG (12.5 млн.копий), Shooter (9.1 млн.копий), Fighting (5.5 млн.копий) и Misc (4.8 млн.копий)\n",
    "\n",
    "* Таким образом жанры Action, Shooter и RPG крайне популярны во всех регионах, в Северной Америке и Европе так же популярен жанр Sports, а в Японии Fighting."
   ]
  },
  {
   "cell_type": "markdown",
   "metadata": {},
   "source": [
    "### Влияние рейтинга ESRB на продажи в отдельном регионе"
   ]
  },
  {
   "cell_type": "markdown",
   "metadata": {},
   "source": [
    "Посмотрим влияние рейтинга ESRB на продажи в каждом из регионов"
   ]
  },
  {
   "cell_type": "code",
   "execution_count": 35,
   "metadata": {},
   "outputs": [],
   "source": [
    "esrb_na = games_new.groupby('rating', as_index=False)['na_sales'].agg(['sum', 'count'])\n",
    "esrb_na['avg_sales_na'] = round(esrb_na['sum'] / esrb_na['count'],2)\n",
    "\n",
    "esrb_eu = games_new.groupby('rating', as_index=False)['eu_sales'].agg(['sum', 'count'])\n",
    "esrb_eu['avg_sales_eu'] = round(esrb_eu['sum'] / esrb_eu['count'],2)\n",
    "\n",
    "esrb_jp = games_new.groupby('rating', as_index=False)['jp_sales'].agg(['sum', 'count'])\n",
    "esrb_jp['avg_sales_jp'] = round(esrb_jp['sum'] / esrb_jp['count'],2)"
   ]
  },
  {
   "cell_type": "code",
   "execution_count": 36,
   "metadata": {},
   "outputs": [
    {
     "data": {
      "image/png": "[encoded data removed]"
     },
     "metadata": {},
     "output_type": "display_data"
    }
   ],
   "source": [
    "fig = make_subplots(1, 3, specs=[[{'type':'domain'}, {'type':'domain'}, {'type':'domain'}]],\n",
    "                    subplot_titles=['NA', 'EU', 'JP'])\n",
    "\n",
    "fig.add_trace(go.Pie(labels=esrb_na.index, values=esrb_na['sum'], \n",
    "                     name=\"NA\", scalegroup='one'), 1, 1)\n",
    "fig.add_trace(go.Pie(labels=esrb_eu.index, values=esrb_eu['sum'], \n",
    "                     name=\"EU\", scalegroup='one'), 1, 2)\n",
    "fig.add_trace(go.Pie(labels=esrb_jp.index, values=esrb_jp['sum'], \n",
    "                     name=\"JP\", scalegroup='one'), 1, 3)\n",
    "\n",
    "fig.update_layout(title_text='Продажи игр на консолях и PC в разных регионах')\n",
    "fig.show(\"png\")"
   ]
  },
  {
   "cell_type": "code",
   "execution_count": 37,
   "metadata": {},
   "outputs": [
    {
     "data": {
      "text/html": [
       "<div>\n",
       "<style scoped>\n",
       "    .dataframe tbody tr th:only-of-type {\n",
       "        vertical-align: middle;\n",
       "    }\n",
       "\n",
       "    .dataframe tbody tr th {\n",
       "        vertical-align: top;\n",
       "    }\n",
       "\n",
       "    .dataframe thead th {\n",
       "        text-align: right;\n",
       "    }\n",
       "</style>\n",
       "<table border=\"1\" class=\"dataframe\">\n",
       "  <thead>\n",
       "    <tr style=\"text-align: right;\">\n",
       "      <th></th>\n",
       "      <th>sum</th>\n",
       "      <th>count</th>\n",
       "      <th>avg_sales_na</th>\n",
       "    </tr>\n",
       "    <tr>\n",
       "      <th>rating</th>\n",
       "      <th></th>\n",
       "      <th></th>\n",
       "      <th></th>\n",
       "    </tr>\n",
       "  </thead>\n",
       "  <tbody>\n",
       "    <tr>\n",
       "      <th>M</th>\n",
       "      <td>226.50</td>\n",
       "      <td>457</td>\n",
       "      <td>0.50</td>\n",
       "    </tr>\n",
       "    <tr>\n",
       "      <th>E</th>\n",
       "      <td>94.38</td>\n",
       "      <td>306</td>\n",
       "      <td>0.31</td>\n",
       "    </tr>\n",
       "    <tr>\n",
       "      <th>E10+</th>\n",
       "      <td>65.79</td>\n",
       "      <td>225</td>\n",
       "      <td>0.29</td>\n",
       "    </tr>\n",
       "    <tr>\n",
       "      <th>T</th>\n",
       "      <td>59.85</td>\n",
       "      <td>321</td>\n",
       "      <td>0.19</td>\n",
       "    </tr>\n",
       "    <tr>\n",
       "      <th>None</th>\n",
       "      <td>73.44</td>\n",
       "      <td>566</td>\n",
       "      <td>0.13</td>\n",
       "    </tr>\n",
       "  </tbody>\n",
       "</table>\n",
       "</div>"
      ],
      "text/plain": [
       "           sum  count  avg_sales_na\n",
       "rating                             \n",
       "M       226.50    457          0.50\n",
       "E        94.38    306          0.31\n",
       "E10+     65.79    225          0.29\n",
       "T        59.85    321          0.19\n",
       "None     73.44    566          0.13"
      ]
     },
     "metadata": {},
     "output_type": "display_data"
    },
    {
     "data": {
      "text/html": [
       "<div>\n",
       "<style scoped>\n",
       "    .dataframe tbody tr th:only-of-type {\n",
       "        vertical-align: middle;\n",
       "    }\n",
       "\n",
       "    .dataframe tbody tr th {\n",
       "        vertical-align: top;\n",
       "    }\n",
       "\n",
       "    .dataframe thead th {\n",
       "        text-align: right;\n",
       "    }\n",
       "</style>\n",
       "<table border=\"1\" class=\"dataframe\">\n",
       "  <thead>\n",
       "    <tr style=\"text-align: right;\">\n",
       "      <th></th>\n",
       "      <th>sum</th>\n",
       "      <th>count</th>\n",
       "      <th>avg_sales_eu</th>\n",
       "    </tr>\n",
       "    <tr>\n",
       "      <th>rating</th>\n",
       "      <th></th>\n",
       "      <th></th>\n",
       "      <th></th>\n",
       "    </tr>\n",
       "  </thead>\n",
       "  <tbody>\n",
       "    <tr>\n",
       "      <th>M</th>\n",
       "      <td>190.93</td>\n",
       "      <td>457</td>\n",
       "      <td>0.42</td>\n",
       "    </tr>\n",
       "    <tr>\n",
       "      <th>E</th>\n",
       "      <td>94.71</td>\n",
       "      <td>306</td>\n",
       "      <td>0.31</td>\n",
       "    </tr>\n",
       "    <tr>\n",
       "      <th>E10+</th>\n",
       "      <td>47.26</td>\n",
       "      <td>225</td>\n",
       "      <td>0.21</td>\n",
       "    </tr>\n",
       "    <tr>\n",
       "      <th>T</th>\n",
       "      <td>49.25</td>\n",
       "      <td>321</td>\n",
       "      <td>0.15</td>\n",
       "    </tr>\n",
       "    <tr>\n",
       "      <th>None</th>\n",
       "      <td>66.72</td>\n",
       "      <td>566</td>\n",
       "      <td>0.12</td>\n",
       "    </tr>\n",
       "  </tbody>\n",
       "</table>\n",
       "</div>"
      ],
      "text/plain": [
       "           sum  count  avg_sales_eu\n",
       "rating                             \n",
       "M       190.93    457          0.42\n",
       "E        94.71    306          0.31\n",
       "E10+     47.26    225          0.21\n",
       "T        49.25    321          0.15\n",
       "None     66.72    566          0.12"
      ]
     },
     "metadata": {},
     "output_type": "display_data"
    },
    {
     "data": {
      "text/html": [
       "<div>\n",
       "<style scoped>\n",
       "    .dataframe tbody tr th:only-of-type {\n",
       "        vertical-align: middle;\n",
       "    }\n",
       "\n",
       "    .dataframe tbody tr th {\n",
       "        vertical-align: top;\n",
       "    }\n",
       "\n",
       "    .dataframe thead th {\n",
       "        text-align: right;\n",
       "    }\n",
       "</style>\n",
       "<table border=\"1\" class=\"dataframe\">\n",
       "  <thead>\n",
       "    <tr style=\"text-align: right;\">\n",
       "      <th></th>\n",
       "      <th>sum</th>\n",
       "      <th>count</th>\n",
       "      <th>avg_sales_jp</th>\n",
       "    </tr>\n",
       "    <tr>\n",
       "      <th>rating</th>\n",
       "      <th></th>\n",
       "      <th></th>\n",
       "      <th></th>\n",
       "    </tr>\n",
       "  </thead>\n",
       "  <tbody>\n",
       "    <tr>\n",
       "      <th>E</th>\n",
       "      <td>11.17</td>\n",
       "      <td>306</td>\n",
       "      <td>0.04</td>\n",
       "    </tr>\n",
       "    <tr>\n",
       "      <th>M</th>\n",
       "      <td>17.76</td>\n",
       "      <td>457</td>\n",
       "      <td>0.04</td>\n",
       "    </tr>\n",
       "    <tr>\n",
       "      <th>None</th>\n",
       "      <td>22.76</td>\n",
       "      <td>566</td>\n",
       "      <td>0.04</td>\n",
       "    </tr>\n",
       "    <tr>\n",
       "      <th>T</th>\n",
       "      <td>13.86</td>\n",
       "      <td>321</td>\n",
       "      <td>0.04</td>\n",
       "    </tr>\n",
       "    <tr>\n",
       "      <th>E10+</th>\n",
       "      <td>4.01</td>\n",
       "      <td>225</td>\n",
       "      <td>0.02</td>\n",
       "    </tr>\n",
       "  </tbody>\n",
       "</table>\n",
       "</div>"
      ],
      "text/plain": [
       "          sum  count  avg_sales_jp\n",
       "rating                            \n",
       "E       11.17    306          0.04\n",
       "M       17.76    457          0.04\n",
       "None    22.76    566          0.04\n",
       "T       13.86    321          0.04\n",
       "E10+     4.01    225          0.02"
      ]
     },
     "metadata": {},
     "output_type": "display_data"
    }
   ],
   "source": [
    "display(esrb_na.sort_values(by='avg_sales_na', ascending=False))\n",
    "display(esrb_eu.sort_values(by='avg_sales_eu', ascending=False))\n",
    "display(esrb_jp.sort_values(by='avg_sales_jp', ascending=False))"
   ]
  },
  {
   "cell_type": "markdown",
   "metadata": {},
   "source": [
    "**Выводы**\n",
    "\n",
    "* Влияние возрастного рейтинга на продажи игр в разных регионах:\n",
    "    * NA - больше всего было продано игр с рейтингом М - 226 млн.копий (они и продаются лучше других, если смотреть на метрику avg_sales (0.50 млн.копий на игру)), затем идут игры с рейтингом E - 94 млн.копий, avg_sales равен 0.31 млн.копий на игру, на третьем же месте игры с необозначенным рейтингом ESRB -73 млн.копий (avg_sales равен 0.13), то есть игры не были оценены комиссией ESRB. Возможно к данной категории относятся малоизвестные игры, до которых у комиссии не дошли руки.\n",
    "    * EU - больше всего было продано игр так же с рейтингом М - 191 млн.копий, avg_sales равен 0.42 млн.копий на игру, затем идут игры с рейтингом E - 95 млн.копий и avg_sales равен 0.31 млн.копий на игру, на третьем месте игры с необозначенным рейтингом - 67 млн.копий и метрикой avg_sales в 0.12 млн.копий на игру.\n",
    "    *JP - игры с отсутствующим рейтингом ESRB продались наибольшим тиражом в 23 млн.копий (скорее всего так же малоизвестные и небольшие игры, которые комиссия не успела оценить). Avg_sales у игр без рейтинга ESRB равен 0.04 млн.копий на игру, так же как и у игр с рейтингом E,M и T. На втором месте по продажам в этом регионе идут игры с рейтингом M - 18 млн.копий, на третьем игры с рейтингом Т - 14 млн.копий. \n",
    "* Таким образом, можно спокойно делать ставку на игры с рейтингом М или Е, они стабильно хорошо продаются во всех регионах."
   ]
  },
  {
   "cell_type": "markdown",
   "metadata": {},
   "source": [
    "## Проверка гипотез"
   ]
  },
  {
   "cell_type": "markdown",
   "metadata": {},
   "source": [
    "### Средние пользовательские рейтинги платформ Xbox One и PC не отличаются"
   ]
  },
  {
   "cell_type": "markdown",
   "metadata": {},
   "source": [
    "**Нулевая гипотеза** - Средние пользовательские рейтинги платформ Xbox One и PC не отличаются\n",
    "\n",
    "**Альтернативная гипотеза** - Средние пользовательские рейтинги платформ Xbox One и PC различаются\n",
    "\n",
    "**Критический уровень значимости (альфа)** - 0.05"
   ]
  },
  {
   "cell_type": "markdown",
   "metadata": {},
   "source": [
    "Создадим группированную табличку, чтобы посмотреть пользовательские оценки на платформах PC и XOne"
   ]
  },
  {
   "cell_type": "code",
   "execution_count": 38,
   "metadata": {},
   "outputs": [
    {
     "data": {
      "text/plain": [
       "platform\n",
       "PC      6.428641\n",
       "XOne    6.521429\n",
       "Name: user_score, dtype: float64"
      ]
     },
     "execution_count": 38,
     "metadata": {},
     "output_type": "execute_result"
    }
   ],
   "source": [
    "games_new.query('platform == [\"PC\", \"XOne\"] and user_score > 0').groupby('platform')['user_score'].agg('mean')"
   ]
  },
  {
   "cell_type": "markdown",
   "metadata": {},
   "source": [
    "**Выводы**\n",
    "\n",
    "Можем заметить, что средний балл на этих платформах различается очень незначительно (всего на 0.1 пункта). Теперь посмотрим, различаются ли они статистически. Для проверки гипотезы будем использовать функцию `stats.ttest_ind`, так как мы рассматриваем среднее двух независимых совокупностей (оценки пользователей разных платформ)."
   ]
  },
  {
   "cell_type": "code",
   "execution_count": 39,
   "metadata": {},
   "outputs": [
    {
     "name": "stdout",
     "output_type": "stream",
     "text": [
      "p-значение: 0.5535080500643661\n",
      "Не получилось отвергнуть нулевую гипотезу\n"
     ]
    }
   ],
   "source": [
    "xb_rating = games_new.query('platform == \"XOne\" and user_score > 0')['user_score']\n",
    "pc_rating = games_new.query('platform == \"PC\" and user_score > 0')['user_score']\n",
    "\n",
    "alpha = .05\n",
    "\n",
    "results = st.ttest_ind(xb_rating, pc_rating)\n",
    "\n",
    "print('p-значение:', results.pvalue)\n",
    "\n",
    "if results.pvalue < alpha:\n",
    "    print(\"Отвергаем нулевую гипотезу\")\n",
    "else:\n",
    "    print(\"Не получилось отвергнуть нулевую гипотезу\")"
   ]
  },
  {
   "cell_type": "markdown",
   "metadata": {},
   "source": [
    "**Выводы**\n",
    "\n",
    "Мы не отвергаем нулевую гипотезу о равенстве средней пользовательской оценки на платформах PC и XOne, так как p-value выше критического уровеня значимости (который мы задали равным 0.05).\n",
    "\n",
    "Таким образом, средняя оценка пользователей на двух платформах не отличается."
   ]
  },
  {
   "cell_type": "markdown",
   "metadata": {},
   "source": [
    "### Средние пользовательские рейтинги жанров Action и Sports не отличаются"
   ]
  },
  {
   "cell_type": "markdown",
   "metadata": {},
   "source": [
    "**Нулевая гипотеза** - Средние пользовательские рейтинги жанров Action и Sports не отличаются\n",
    "\n",
    "**Альтернативная гипотеза** - Средние пользовательские рейтинги жанров Action и Sports различаются\n",
    "\n",
    "**Критический уровень значимости (альфа)** - 0.05"
   ]
  },
  {
   "cell_type": "markdown",
   "metadata": {},
   "source": [
    "Аналогично с предыдущей гипотезой создадим сводную таблицу для просмотра рейтинга пользователей по двум жанрам"
   ]
  },
  {
   "cell_type": "code",
   "execution_count": 40,
   "metadata": {},
   "outputs": [
    {
     "data": {
      "text/plain": [
       "genre\n",
       "Action    6.797209\n",
       "Sports    5.424725\n",
       "Name: user_score, dtype: float64"
      ]
     },
     "execution_count": 40,
     "metadata": {},
     "output_type": "execute_result"
    }
   ],
   "source": [
    "games_new.query('genre == [\"Action\",\"Sports\"] and user_score > 0').groupby('genre')['user_score'].agg('mean')"
   ]
  },
  {
   "cell_type": "markdown",
   "metadata": {},
   "source": [
    "**Выводы**\n",
    "\n",
    "Разница в оценках пользователей по жанрам Action и Sports различаются незначительно (1 пункт). Теперь посмотрим, различаются ли они статистически. Для проверки гипотезы так же будем использовать функцию `stats.ttest_ind`."
   ]
  },
  {
   "cell_type": "code",
   "execution_count": 41,
   "metadata": {},
   "outputs": [
    {
     "name": "stdout",
     "output_type": "stream",
     "text": [
      "p-значение: 1.6650272459558064e-24\n",
      "Отвергаем нулевую гипотезу\n"
     ]
    }
   ],
   "source": [
    "action_rating = games_new.query('genre == \"Action\" and user_score > 0')['user_score']\n",
    "sports_rating = games_new.query('genre == \"Sports\" and user_score > 0')['user_score']\n",
    "\n",
    "alpha = .05\n",
    "\n",
    "results = st.ttest_ind(action_rating, sports_rating)\n",
    "\n",
    "print('p-значение:', results.pvalue)\n",
    "\n",
    "if results.pvalue < alpha:\n",
    "    print(\"Отвергаем нулевую гипотезу\")\n",
    "else:\n",
    "    print(\"Не получилось отвергнуть нулевую гипотезу\")"
   ]
  },
  {
   "cell_type": "markdown",
   "metadata": {},
   "source": [
    "**Выводы**\n",
    "\n",
    "Мы отвергаем нулевую гипотезу о равенстве средней пользовательской оценки для жанров Sports и Action, так как p-value ниже критического уровеня значимости (который мы задали равным 0.05).\n",
    "\n",
    "Таким образом, подтвердилась альтернативная гипотеза о неравенстве пользовательских оценок для жанров Action и Sports."
   ]
  },
  {
   "cell_type": "markdown",
   "metadata": {},
   "source": [
    "## Выводы и рекомендации по проекту"
   ]
  },
  {
   "cell_type": "markdown",
   "metadata": {},
   "source": [
    "**Выводы**\n",
    "\n",
    "* Пик по количеству выпущенных игры был в 2008 году \n",
    "* Playstation обгоняет другие консоли и PC по продажам, жизненный цикл консолей составляет от 4 до 8 лет\n",
    "* Если говорить о новом поколении консолей (с 2012 года), то больше всего игр было продано на консоли PS4 (314 млн.копий) и PS3 (289 млн.копий), затем идут X360 (237 млн.копий) и XOne (155 млн.копий).\n",
    "* По матрице корреляций заметно, что общие продажи игр достаточно слабо зависят от оценок критиков и не зависят от оценок игроков, усредненные коэффициенты корреляции равны 0.3 и 0.006 соответственно.\n",
    "* В разрезе жанров видеоигр можно сказать, что больше всего было продано игр жанров Action (373 млн.), Shooter (302 млн.) и Sports (172 млн.). А если смотреть на метрику средних продаж одной игры (avg_sales), то наиболее прибыльными жанрами являются так же Shooter (1.32 млн.копий на одну игру), Sports (0.77 млн.) и Platform (0.7 млн.). \n",
    "* Если говорить про самые популярные жанры на разных платформах, то топ 3 жанра на двух поколениях консолей XBOX и PS это жанры Action, Shooter и Sports, на PC топ 3 жанра это те же Shooter, Action и добавляется RPG. На консолях от Nintendo самые популярные жанры - Action, Misc и Platform (только на WiiU)\n",
    "* Наиболее прибыльные игры по рейтингу ESRB - игры с рейтингом M и E.\n",
    "* Самые популярные платформы на примере регионa NA (где было больше всего продаж на новом поколении консолей): \n",
    "    * NA - X360 (140.05 млн.копий)\n",
    "    * PS4 (108.7 млн.копий)\n",
    "    * PS3 (103 млн.копий)\n",
    "    * XOne (93 млн.копий) \n",
    "    * WiiU (38 млн.копий)\n",
    "* Самые популярные жанры игр так же на примере региона NA:\n",
    "    * NA - Action (159.8 млн.копий)\n",
    "    * Shooter (143.8 млн.копий)\n",
    "    * Sports (79.7 млн.копий)\n",
    "    * RPG (35.9 млн.копий)\n",
    "    * Misc (35.8 млн.копий)\n",
    "* Так же мы проверили две гипотезы и выяснили, что:\n",
    "    * Средняя оценка пользователей на платформах XBOX One и PC не отличается\n",
    "    * Пользовательские оценки для жанров Action и Sports различаются."
   ]
  },
  {
   "cell_type": "markdown",
   "metadata": {},
   "source": [
    "**Рекомендации**\n",
    "\n",
    "Возвращаясь к вопросу, которому был посвящён данный проект - определить потенциально популярный продукт и спланировать рекламные компании. На данный вопрос можно уверенно ответить, что самой прибыльной платформой для 2017 года будет PS4, на втором месте идёт XBOX One. Продажи игр на консоли прошлого поколения и PC значительно ниже, чем на PS4 и XOne (если смотреть продажи за 15-16 года). Самые популярные жанры для консолей PS4 и XOne - Action, Shooter, Sports и RPG, а самые прибыльные -  Shooter (1.32 млн.копий на одну игру), Sports (0.77 млн.копий на одну игру) и Platform (0.7 млн.копий на одну игру). Наиболее прибыльные регионы - Северная Америка и Европа. А самые прибыльные рейтинги - М и Е."
   ]
  }
 ],
 "metadata": {
  "ExecuteTimeLog": [
   {
    "duration": 1324,
    "start_time": "2022-07-09T08:57:07.177Z"
   },
   {
    "duration": 98,
    "start_time": "2022-07-09T08:58:03.418Z"
   },
   {
    "duration": 14,
    "start_time": "2022-07-09T08:59:02.500Z"
   },
   {
    "duration": 952,
    "start_time": "2022-07-09T09:13:32.619Z"
   },
   {
    "duration": 5,
    "start_time": "2022-07-09T09:14:34.248Z"
   },
   {
    "duration": 4,
    "start_time": "2022-07-09T09:14:42.391Z"
   },
   {
    "duration": 8,
    "start_time": "2022-07-09T09:15:00.488Z"
   },
   {
    "duration": 2,
    "start_time": "2022-07-09T09:15:04.596Z"
   },
   {
    "duration": 4,
    "start_time": "2022-07-09T09:15:11.249Z"
   },
   {
    "duration": 3,
    "start_time": "2022-07-09T09:15:17.379Z"
   },
   {
    "duration": 5,
    "start_time": "2022-07-09T09:15:17.576Z"
   },
   {
    "duration": 7,
    "start_time": "2022-07-09T09:15:21.718Z"
   },
   {
    "duration": 73,
    "start_time": "2022-07-09T09:15:21.728Z"
   },
   {
    "duration": 14,
    "start_time": "2022-07-09T09:15:21.802Z"
   },
   {
    "duration": 5,
    "start_time": "2022-07-09T09:15:21.817Z"
   },
   {
    "duration": 9,
    "start_time": "2022-07-09T09:15:21.824Z"
   },
   {
    "duration": 1088,
    "start_time": "2022-07-09T09:15:21.835Z"
   },
   {
    "duration": 34,
    "start_time": "2022-07-09T09:15:52.379Z"
   },
   {
    "duration": 11,
    "start_time": "2022-07-09T09:15:55.403Z"
   },
   {
    "duration": 28,
    "start_time": "2022-07-09T09:16:42.848Z"
   },
   {
    "duration": 22,
    "start_time": "2022-07-09T09:17:17.446Z"
   },
   {
    "duration": 3,
    "start_time": "2022-07-09T09:18:06.057Z"
   },
   {
    "duration": 6,
    "start_time": "2022-07-09T09:18:07.384Z"
   },
   {
    "duration": 6,
    "start_time": "2022-07-09T09:18:10.557Z"
   },
   {
    "duration": 831,
    "start_time": "2022-07-09T09:22:48.348Z"
   },
   {
    "duration": 22,
    "start_time": "2022-07-09T09:23:01.418Z"
   },
   {
    "duration": 8,
    "start_time": "2022-07-09T09:23:09.078Z"
   },
   {
    "duration": 8,
    "start_time": "2022-07-09T09:23:16.690Z"
   },
   {
    "duration": 7,
    "start_time": "2022-07-09T09:23:29.579Z"
   },
   {
    "duration": 8,
    "start_time": "2022-07-09T09:26:40.693Z"
   },
   {
    "duration": 31,
    "start_time": "2022-07-09T09:26:44.249Z"
   },
   {
    "duration": 18,
    "start_time": "2022-07-09T09:27:29.862Z"
   },
   {
    "duration": 19,
    "start_time": "2022-07-09T09:27:54.430Z"
   },
   {
    "duration": 24,
    "start_time": "2022-07-09T09:28:08.430Z"
   },
   {
    "duration": 25,
    "start_time": "2022-07-09T09:30:25.846Z"
   },
   {
    "duration": 24,
    "start_time": "2022-07-09T09:30:32.109Z"
   },
   {
    "duration": 23,
    "start_time": "2022-07-09T09:30:35.133Z"
   },
   {
    "duration": 23,
    "start_time": "2022-07-09T09:30:44.533Z"
   },
   {
    "duration": 9,
    "start_time": "2022-07-09T09:31:20.057Z"
   },
   {
    "duration": 7,
    "start_time": "2022-07-09T09:31:22.173Z"
   },
   {
    "duration": 9,
    "start_time": "2022-07-09T09:31:22.377Z"
   },
   {
    "duration": 7,
    "start_time": "2022-07-09T09:32:01.446Z"
   },
   {
    "duration": 6,
    "start_time": "2022-07-09T09:33:38.854Z"
   },
   {
    "duration": 9,
    "start_time": "2022-07-09T09:34:03.812Z"
   },
   {
    "duration": 7,
    "start_time": "2022-07-09T09:34:20.843Z"
   },
   {
    "duration": 9,
    "start_time": "2022-07-09T09:34:22.321Z"
   },
   {
    "duration": 8,
    "start_time": "2022-07-09T09:34:27.068Z"
   },
   {
    "duration": 8,
    "start_time": "2022-07-09T09:34:27.323Z"
   },
   {
    "duration": 4,
    "start_time": "2022-07-09T09:34:31.164Z"
   },
   {
    "duration": 82,
    "start_time": "2022-07-09T09:34:31.170Z"
   },
   {
    "duration": 15,
    "start_time": "2022-07-09T09:34:31.254Z"
   },
   {
    "duration": 75,
    "start_time": "2022-07-09T09:34:31.270Z"
   },
   {
    "duration": 71,
    "start_time": "2022-07-09T09:34:31.347Z"
   },
   {
    "duration": 38,
    "start_time": "2022-07-09T09:34:31.425Z"
   },
   {
    "duration": 57,
    "start_time": "2022-07-09T09:34:31.466Z"
   },
   {
    "duration": 61,
    "start_time": "2022-07-09T09:34:31.524Z"
   },
   {
    "duration": 56,
    "start_time": "2022-07-09T09:34:31.587Z"
   },
   {
    "duration": 52,
    "start_time": "2022-07-09T09:34:31.645Z"
   },
   {
    "duration": 1227,
    "start_time": "2022-07-09T09:34:31.699Z"
   },
   {
    "duration": 21,
    "start_time": "2022-07-09T09:36:33.240Z"
   },
   {
    "duration": 1104,
    "start_time": "2022-07-09T09:37:49.739Z"
   },
   {
    "duration": 11,
    "start_time": "2022-07-09T09:37:59.381Z"
   },
   {
    "duration": 9,
    "start_time": "2022-07-09T09:42:20.244Z"
   },
   {
    "duration": 12,
    "start_time": "2022-07-09T09:43:27.487Z"
   },
   {
    "duration": 13,
    "start_time": "2022-07-09T09:44:03.555Z"
   },
   {
    "duration": 4,
    "start_time": "2022-07-09T09:44:14.802Z"
   },
   {
    "duration": 55,
    "start_time": "2022-07-09T09:44:14.809Z"
   },
   {
    "duration": 21,
    "start_time": "2022-07-09T09:44:14.866Z"
   },
   {
    "duration": 5,
    "start_time": "2022-07-09T09:44:14.889Z"
   },
   {
    "duration": 40,
    "start_time": "2022-07-09T09:44:14.897Z"
   },
   {
    "duration": 15,
    "start_time": "2022-07-09T09:44:14.939Z"
   },
   {
    "duration": 14,
    "start_time": "2022-07-09T09:44:14.955Z"
   },
   {
    "duration": 14,
    "start_time": "2022-07-09T09:44:14.970Z"
   },
   {
    "duration": 16,
    "start_time": "2022-07-09T09:44:14.985Z"
   },
   {
    "duration": 21,
    "start_time": "2022-07-09T09:44:15.003Z"
   },
   {
    "duration": 44,
    "start_time": "2022-07-09T09:44:15.026Z"
   },
   {
    "duration": 18,
    "start_time": "2022-07-09T09:44:15.071Z"
   },
   {
    "duration": 12,
    "start_time": "2022-07-09T09:44:15.092Z"
   },
   {
    "duration": 15,
    "start_time": "2022-07-09T09:46:21.866Z"
   },
   {
    "duration": 13,
    "start_time": "2022-07-09T09:46:58.216Z"
   },
   {
    "duration": 24,
    "start_time": "2022-07-09T09:55:15.316Z"
   },
   {
    "duration": 38,
    "start_time": "2022-07-09T09:58:14.798Z"
   },
   {
    "duration": 28,
    "start_time": "2022-07-09T09:58:23.174Z"
   },
   {
    "duration": 31,
    "start_time": "2022-07-09T09:59:27.375Z"
   },
   {
    "duration": 10,
    "start_time": "2022-07-09T09:59:48.812Z"
   },
   {
    "duration": 15,
    "start_time": "2022-07-09T09:59:49.171Z"
   },
   {
    "duration": 4,
    "start_time": "2022-07-09T09:59:56.192Z"
   },
   {
    "duration": 53,
    "start_time": "2022-07-09T09:59:56.198Z"
   },
   {
    "duration": 16,
    "start_time": "2022-07-09T09:59:56.252Z"
   },
   {
    "duration": 5,
    "start_time": "2022-07-09T09:59:56.271Z"
   },
   {
    "duration": 28,
    "start_time": "2022-07-09T09:59:56.279Z"
   },
   {
    "duration": 6,
    "start_time": "2022-07-09T09:59:56.308Z"
   },
   {
    "duration": 8,
    "start_time": "2022-07-09T09:59:56.315Z"
   },
   {
    "duration": 6,
    "start_time": "2022-07-09T09:59:56.324Z"
   },
   {
    "duration": 8,
    "start_time": "2022-07-09T09:59:56.332Z"
   },
   {
    "duration": 27,
    "start_time": "2022-07-09T09:59:56.341Z"
   },
   {
    "duration": 30,
    "start_time": "2022-07-09T09:59:56.369Z"
   },
   {
    "duration": 8,
    "start_time": "2022-07-09T09:59:56.401Z"
   },
   {
    "duration": 8,
    "start_time": "2022-07-09T09:59:56.410Z"
   },
   {
    "duration": 45,
    "start_time": "2022-07-09T09:59:56.420Z"
   },
   {
    "duration": 9,
    "start_time": "2022-07-09T10:00:12.017Z"
   },
   {
    "duration": 10,
    "start_time": "2022-07-09T10:00:12.297Z"
   },
   {
    "duration": 12,
    "start_time": "2022-07-09T10:00:52.576Z"
   },
   {
    "duration": 12,
    "start_time": "2022-07-09T10:01:02.566Z"
   },
   {
    "duration": 12,
    "start_time": "2022-07-09T10:01:10.573Z"
   },
   {
    "duration": 4,
    "start_time": "2022-07-09T10:01:23.212Z"
   },
   {
    "duration": 57,
    "start_time": "2022-07-09T10:01:23.217Z"
   },
   {
    "duration": 15,
    "start_time": "2022-07-09T10:01:23.275Z"
   },
   {
    "duration": 4,
    "start_time": "2022-07-09T10:01:23.291Z"
   },
   {
    "duration": 21,
    "start_time": "2022-07-09T10:01:23.297Z"
   },
   {
    "duration": 7,
    "start_time": "2022-07-09T10:01:23.319Z"
   },
   {
    "duration": 10,
    "start_time": "2022-07-09T10:01:23.327Z"
   },
   {
    "duration": 27,
    "start_time": "2022-07-09T10:01:23.338Z"
   },
   {
    "duration": 8,
    "start_time": "2022-07-09T10:01:23.367Z"
   },
   {
    "duration": 31,
    "start_time": "2022-07-09T10:01:23.377Z"
   },
   {
    "duration": 14,
    "start_time": "2022-07-09T10:01:23.410Z"
   },
   {
    "duration": 10,
    "start_time": "2022-07-09T10:01:23.425Z"
   },
   {
    "duration": 13,
    "start_time": "2022-07-09T10:01:23.437Z"
   },
   {
    "duration": 25,
    "start_time": "2022-07-09T10:01:23.453Z"
   },
   {
    "duration": 14,
    "start_time": "2022-07-09T10:02:41.361Z"
   },
   {
    "duration": 8,
    "start_time": "2022-07-09T10:02:57.195Z"
   },
   {
    "duration": 6,
    "start_time": "2022-07-09T10:03:00.270Z"
   },
   {
    "duration": 70,
    "start_time": "2022-07-09T10:03:00.279Z"
   },
   {
    "duration": 18,
    "start_time": "2022-07-09T10:03:00.351Z"
   },
   {
    "duration": 21,
    "start_time": "2022-07-09T10:03:00.372Z"
   },
   {
    "duration": 36,
    "start_time": "2022-07-09T10:03:00.396Z"
   },
   {
    "duration": 11,
    "start_time": "2022-07-09T10:03:00.434Z"
   },
   {
    "duration": 21,
    "start_time": "2022-07-09T10:03:00.447Z"
   },
   {
    "duration": 31,
    "start_time": "2022-07-09T10:03:00.471Z"
   },
   {
    "duration": 9,
    "start_time": "2022-07-09T10:03:00.504Z"
   },
   {
    "duration": 11,
    "start_time": "2022-07-09T10:03:00.514Z"
   },
   {
    "duration": 8,
    "start_time": "2022-07-09T10:03:00.527Z"
   },
   {
    "duration": 14,
    "start_time": "2022-07-09T10:03:00.536Z"
   },
   {
    "duration": 53,
    "start_time": "2022-07-09T10:03:00.552Z"
   },
   {
    "duration": 11,
    "start_time": "2022-07-09T10:03:33.598Z"
   },
   {
    "duration": 8,
    "start_time": "2022-07-09T10:04:04.468Z"
   },
   {
    "duration": 12,
    "start_time": "2022-07-09T10:04:10.711Z"
   },
   {
    "duration": 11,
    "start_time": "2022-07-09T10:04:22.795Z"
   },
   {
    "duration": 11,
    "start_time": "2022-07-09T10:04:25.530Z"
   },
   {
    "duration": 15,
    "start_time": "2022-07-09T10:05:25.235Z"
   },
   {
    "duration": 9,
    "start_time": "2022-07-09T10:05:58.108Z"
   },
   {
    "duration": 299,
    "start_time": "2022-07-09T10:06:12.234Z"
   },
   {
    "duration": 4,
    "start_time": "2022-07-09T10:06:33.734Z"
   },
   {
    "duration": 19,
    "start_time": "2022-07-09T10:06:41.797Z"
   },
   {
    "duration": 3,
    "start_time": "2022-07-09T10:08:02.815Z"
   },
   {
    "duration": 14,
    "start_time": "2022-07-09T10:08:03.446Z"
   },
   {
    "duration": 4,
    "start_time": "2022-07-09T10:10:23.062Z"
   },
   {
    "duration": 9,
    "start_time": "2022-07-09T10:10:23.288Z"
   },
   {
    "duration": 4,
    "start_time": "2022-07-09T10:10:25.290Z"
   },
   {
    "duration": 53,
    "start_time": "2022-07-09T10:10:25.296Z"
   },
   {
    "duration": 12,
    "start_time": "2022-07-09T10:10:25.351Z"
   },
   {
    "duration": 7,
    "start_time": "2022-07-09T10:10:25.365Z"
   },
   {
    "duration": 41,
    "start_time": "2022-07-09T10:10:25.375Z"
   },
   {
    "duration": 5,
    "start_time": "2022-07-09T10:10:25.418Z"
   },
   {
    "duration": 20,
    "start_time": "2022-07-09T10:10:25.424Z"
   },
   {
    "duration": 4,
    "start_time": "2022-07-09T10:10:25.446Z"
   },
   {
    "duration": 16,
    "start_time": "2022-07-09T10:10:25.451Z"
   },
   {
    "duration": 15,
    "start_time": "2022-07-09T10:10:25.469Z"
   },
   {
    "duration": 10,
    "start_time": "2022-07-09T10:10:25.486Z"
   },
   {
    "duration": 2,
    "start_time": "2022-07-09T10:10:25.498Z"
   },
   {
    "duration": 12,
    "start_time": "2022-07-09T10:10:25.501Z"
   },
   {
    "duration": 7,
    "start_time": "2022-07-09T10:10:25.515Z"
   },
   {
    "duration": 42,
    "start_time": "2022-07-09T10:10:25.524Z"
   },
   {
    "duration": 0,
    "start_time": "2022-07-09T10:10:25.568Z"
   },
   {
    "duration": 37,
    "start_time": "2022-07-09T10:11:00.262Z"
   },
   {
    "duration": 21,
    "start_time": "2022-07-09T10:11:16.790Z"
   },
   {
    "duration": 35,
    "start_time": "2022-07-09T10:11:21.466Z"
   },
   {
    "duration": 1375,
    "start_time": "2022-07-09T15:42:39.306Z"
   },
   {
    "duration": 97,
    "start_time": "2022-07-09T15:42:40.683Z"
   },
   {
    "duration": 14,
    "start_time": "2022-07-09T15:42:40.781Z"
   },
   {
    "duration": 2,
    "start_time": "2022-07-09T15:42:40.797Z"
   },
   {
    "duration": 29,
    "start_time": "2022-07-09T15:42:40.802Z"
   },
   {
    "duration": 28,
    "start_time": "2022-07-09T15:42:40.833Z"
   },
   {
    "duration": 21,
    "start_time": "2022-07-09T15:42:40.863Z"
   },
   {
    "duration": 6,
    "start_time": "2022-07-09T15:42:40.886Z"
   },
   {
    "duration": 8,
    "start_time": "2022-07-09T15:42:40.893Z"
   },
   {
    "duration": 10,
    "start_time": "2022-07-09T15:42:40.902Z"
   },
   {
    "duration": 14,
    "start_time": "2022-07-09T15:42:40.923Z"
   },
   {
    "duration": 2,
    "start_time": "2022-07-09T15:42:40.940Z"
   },
   {
    "duration": 21,
    "start_time": "2022-07-09T15:42:40.944Z"
   },
   {
    "duration": 15,
    "start_time": "2022-07-09T15:42:40.967Z"
   },
   {
    "duration": 30,
    "start_time": "2022-07-09T15:42:40.984Z"
   },
   {
    "duration": 107,
    "start_time": "2022-07-09T15:42:41.023Z"
   },
   {
    "duration": 0,
    "start_time": "2022-07-09T15:42:41.132Z"
   },
   {
    "duration": 17,
    "start_time": "2022-07-09T15:44:08.437Z"
   },
   {
    "duration": 11,
    "start_time": "2022-07-09T15:46:57.198Z"
   },
   {
    "duration": 10,
    "start_time": "2022-07-09T15:46:57.784Z"
   },
   {
    "duration": 55,
    "start_time": "2022-07-09T16:07:18.753Z"
   },
   {
    "duration": 76,
    "start_time": "2022-07-09T16:07:18.902Z"
   },
   {
    "duration": 1109,
    "start_time": "2022-07-09T16:07:19.077Z"
   },
   {
    "duration": 1018,
    "start_time": "2022-07-09T16:07:25.546Z"
   },
   {
    "duration": 1991,
    "start_time": "2022-07-09T16:10:23.272Z"
   },
   {
    "duration": 6,
    "start_time": "2022-07-09T16:12:45.473Z"
   },
   {
    "duration": 9,
    "start_time": "2022-07-09T16:13:12.156Z"
   },
   {
    "duration": 10,
    "start_time": "2022-07-09T16:13:17.958Z"
   },
   {
    "duration": 1289,
    "start_time": "2022-07-09T16:16:17.866Z"
   },
   {
    "duration": 822,
    "start_time": "2022-07-09T16:16:47.650Z"
   },
   {
    "duration": 821,
    "start_time": "2022-07-09T16:21:52.709Z"
   },
   {
    "duration": 1283,
    "start_time": "2022-07-09T16:22:03.625Z"
   },
   {
    "duration": 71,
    "start_time": "2022-07-09T16:22:04.910Z"
   },
   {
    "duration": 11,
    "start_time": "2022-07-09T16:22:04.985Z"
   },
   {
    "duration": 34,
    "start_time": "2022-07-09T16:22:04.998Z"
   },
   {
    "duration": 5,
    "start_time": "2022-07-09T16:22:05.034Z"
   },
   {
    "duration": 27,
    "start_time": "2022-07-09T16:22:05.041Z"
   },
   {
    "duration": 16,
    "start_time": "2022-07-09T16:22:05.070Z"
   },
   {
    "duration": 21,
    "start_time": "2022-07-09T16:22:05.088Z"
   },
   {
    "duration": 12,
    "start_time": "2022-07-09T16:22:05.110Z"
   },
   {
    "duration": 24,
    "start_time": "2022-07-09T16:22:05.125Z"
   },
   {
    "duration": 27,
    "start_time": "2022-07-09T16:22:05.157Z"
   },
   {
    "duration": 15,
    "start_time": "2022-07-09T16:22:05.186Z"
   },
   {
    "duration": 8,
    "start_time": "2022-07-09T16:22:05.203Z"
   },
   {
    "duration": 14,
    "start_time": "2022-07-09T16:22:05.214Z"
   },
   {
    "duration": 38,
    "start_time": "2022-07-09T16:22:05.231Z"
   },
   {
    "duration": 128,
    "start_time": "2022-07-09T16:22:05.272Z"
   },
   {
    "duration": 0,
    "start_time": "2022-07-09T16:22:05.402Z"
   },
   {
    "duration": 18,
    "start_time": "2022-07-09T16:22:40.870Z"
   },
   {
    "duration": 9,
    "start_time": "2022-07-09T16:23:08.563Z"
   },
   {
    "duration": 16,
    "start_time": "2022-07-09T16:26:50.053Z"
   },
   {
    "duration": 19,
    "start_time": "2022-07-09T16:26:56.620Z"
   },
   {
    "duration": 4,
    "start_time": "2022-07-09T16:27:05.460Z"
   },
   {
    "duration": 71,
    "start_time": "2022-07-09T16:27:05.466Z"
   },
   {
    "duration": 9,
    "start_time": "2022-07-09T16:27:05.539Z"
   },
   {
    "duration": 25,
    "start_time": "2022-07-09T16:27:05.550Z"
   },
   {
    "duration": 3,
    "start_time": "2022-07-09T16:27:05.578Z"
   },
   {
    "duration": 27,
    "start_time": "2022-07-09T16:27:05.583Z"
   },
   {
    "duration": 28,
    "start_time": "2022-07-09T16:27:05.612Z"
   },
   {
    "duration": 19,
    "start_time": "2022-07-09T16:27:05.645Z"
   },
   {
    "duration": 5,
    "start_time": "2022-07-09T16:27:05.665Z"
   },
   {
    "duration": 27,
    "start_time": "2022-07-09T16:27:05.671Z"
   },
   {
    "duration": 10,
    "start_time": "2022-07-09T16:27:05.699Z"
   },
   {
    "duration": 21,
    "start_time": "2022-07-09T16:27:05.711Z"
   },
   {
    "duration": 27,
    "start_time": "2022-07-09T16:27:05.738Z"
   },
   {
    "duration": 6,
    "start_time": "2022-07-09T16:27:05.768Z"
   },
   {
    "duration": 40,
    "start_time": "2022-07-09T16:27:05.776Z"
   },
   {
    "duration": 24,
    "start_time": "2022-07-09T16:27:05.818Z"
   },
   {
    "duration": 0,
    "start_time": "2022-07-09T16:27:05.844Z"
   },
   {
    "duration": 16,
    "start_time": "2022-07-09T16:29:00.434Z"
   },
   {
    "duration": 4,
    "start_time": "2022-07-09T16:29:02.677Z"
   },
   {
    "duration": 64,
    "start_time": "2022-07-09T16:29:02.683Z"
   },
   {
    "duration": 10,
    "start_time": "2022-07-09T16:29:02.749Z"
   },
   {
    "duration": 25,
    "start_time": "2022-07-09T16:29:02.761Z"
   },
   {
    "duration": 3,
    "start_time": "2022-07-09T16:29:02.788Z"
   },
   {
    "duration": 38,
    "start_time": "2022-07-09T16:29:02.793Z"
   },
   {
    "duration": 29,
    "start_time": "2022-07-09T16:29:02.833Z"
   },
   {
    "duration": 12,
    "start_time": "2022-07-09T16:29:02.864Z"
   },
   {
    "duration": 6,
    "start_time": "2022-07-09T16:29:02.877Z"
   },
   {
    "duration": 12,
    "start_time": "2022-07-09T16:29:02.885Z"
   },
   {
    "duration": 25,
    "start_time": "2022-07-09T16:29:02.899Z"
   },
   {
    "duration": 12,
    "start_time": "2022-07-09T16:29:02.929Z"
   },
   {
    "duration": 18,
    "start_time": "2022-07-09T16:29:02.943Z"
   },
   {
    "duration": 21,
    "start_time": "2022-07-09T16:29:02.964Z"
   },
   {
    "duration": 29,
    "start_time": "2022-07-09T16:29:02.987Z"
   },
   {
    "duration": 17,
    "start_time": "2022-07-09T16:29:03.021Z"
   },
   {
    "duration": 0,
    "start_time": "2022-07-09T16:29:03.040Z"
   },
   {
    "duration": 7,
    "start_time": "2022-07-09T16:29:15.817Z"
   },
   {
    "duration": 4,
    "start_time": "2022-07-09T16:29:20.772Z"
   },
   {
    "duration": 64,
    "start_time": "2022-07-09T16:29:20.778Z"
   },
   {
    "duration": 10,
    "start_time": "2022-07-09T16:29:20.844Z"
   },
   {
    "duration": 18,
    "start_time": "2022-07-09T16:29:20.856Z"
   },
   {
    "duration": 8,
    "start_time": "2022-07-09T16:29:20.876Z"
   },
   {
    "duration": 25,
    "start_time": "2022-07-09T16:29:20.886Z"
   },
   {
    "duration": 10,
    "start_time": "2022-07-09T16:29:20.922Z"
   },
   {
    "duration": 26,
    "start_time": "2022-07-09T16:29:20.934Z"
   },
   {
    "duration": 14,
    "start_time": "2022-07-09T16:29:20.962Z"
   },
   {
    "duration": 5,
    "start_time": "2022-07-09T16:29:20.978Z"
   },
   {
    "duration": 15,
    "start_time": "2022-07-09T16:29:20.984Z"
   },
   {
    "duration": 30,
    "start_time": "2022-07-09T16:29:21.000Z"
   },
   {
    "duration": 15,
    "start_time": "2022-07-09T16:29:21.033Z"
   },
   {
    "duration": 14,
    "start_time": "2022-07-09T16:29:21.052Z"
   },
   {
    "duration": 12,
    "start_time": "2022-07-09T16:29:21.067Z"
   },
   {
    "duration": 52,
    "start_time": "2022-07-09T16:29:21.081Z"
   },
   {
    "duration": 17,
    "start_time": "2022-07-09T16:29:21.135Z"
   },
   {
    "duration": 0,
    "start_time": "2022-07-09T16:29:21.153Z"
   },
   {
    "duration": 8,
    "start_time": "2022-07-09T16:30:05.683Z"
   },
   {
    "duration": 7,
    "start_time": "2022-07-09T16:30:10.362Z"
   },
   {
    "duration": 762,
    "start_time": "2022-07-09T16:33:38.462Z"
   },
   {
    "duration": 845,
    "start_time": "2022-07-09T16:33:43.063Z"
   },
   {
    "duration": 6,
    "start_time": "2022-07-09T16:33:51.863Z"
   },
   {
    "duration": 854,
    "start_time": "2022-07-09T16:34:00.584Z"
   },
   {
    "duration": 22,
    "start_time": "2022-07-09T16:34:16.518Z"
   },
   {
    "duration": 8,
    "start_time": "2022-07-09T16:37:20.321Z"
   },
   {
    "duration": 8,
    "start_time": "2022-07-09T16:41:25.555Z"
   },
   {
    "duration": 6,
    "start_time": "2022-07-09T16:41:34.830Z"
   },
   {
    "duration": 18,
    "start_time": "2022-07-09T16:41:49.058Z"
   },
   {
    "duration": 14,
    "start_time": "2022-07-09T16:41:51.670Z"
   },
   {
    "duration": 5,
    "start_time": "2022-07-09T16:47:12.727Z"
   },
   {
    "duration": 24,
    "start_time": "2022-07-09T16:47:19.248Z"
   },
   {
    "duration": 17,
    "start_time": "2022-07-09T16:49:08.159Z"
   },
   {
    "duration": 352,
    "start_time": "2022-07-09T16:54:42.907Z"
   },
   {
    "duration": 9,
    "start_time": "2022-07-09T16:54:54.561Z"
   },
   {
    "duration": 6,
    "start_time": "2022-07-09T16:55:01.962Z"
   },
   {
    "duration": 91,
    "start_time": "2022-07-09T16:55:01.970Z"
   },
   {
    "duration": 13,
    "start_time": "2022-07-09T16:55:02.063Z"
   },
   {
    "duration": 38,
    "start_time": "2022-07-09T16:55:02.078Z"
   },
   {
    "duration": 9,
    "start_time": "2022-07-09T16:55:02.119Z"
   },
   {
    "duration": 38,
    "start_time": "2022-07-09T16:55:02.138Z"
   },
   {
    "duration": 24,
    "start_time": "2022-07-09T16:55:02.177Z"
   },
   {
    "duration": 40,
    "start_time": "2022-07-09T16:55:02.203Z"
   },
   {
    "duration": 825,
    "start_time": "2022-07-09T16:55:02.245Z"
   },
   {
    "duration": 11,
    "start_time": "2022-07-09T16:55:03.072Z"
   },
   {
    "duration": 21,
    "start_time": "2022-07-09T16:55:03.085Z"
   },
   {
    "duration": 36,
    "start_time": "2022-07-09T16:55:03.108Z"
   },
   {
    "duration": 12,
    "start_time": "2022-07-09T16:55:03.146Z"
   },
   {
    "duration": 21,
    "start_time": "2022-07-09T16:55:03.161Z"
   },
   {
    "duration": 26,
    "start_time": "2022-07-09T16:55:03.185Z"
   },
   {
    "duration": 21,
    "start_time": "2022-07-09T16:55:03.213Z"
   },
   {
    "duration": 10,
    "start_time": "2022-07-09T16:55:03.236Z"
   },
   {
    "duration": 41,
    "start_time": "2022-07-09T16:55:03.249Z"
   },
   {
    "duration": 14,
    "start_time": "2022-07-09T16:55:03.292Z"
   },
   {
    "duration": 0,
    "start_time": "2022-07-09T16:55:03.308Z"
   },
   {
    "duration": 4,
    "start_time": "2022-07-09T16:59:19.442Z"
   },
   {
    "duration": 12,
    "start_time": "2022-07-09T17:00:16.142Z"
   },
   {
    "duration": 140,
    "start_time": "2022-07-09T17:00:20.546Z"
   },
   {
    "duration": 130,
    "start_time": "2022-07-09T17:00:27.451Z"
   },
   {
    "duration": 9,
    "start_time": "2022-07-09T17:00:54.400Z"
   },
   {
    "duration": 3,
    "start_time": "2022-07-09T17:02:17.145Z"
   },
   {
    "duration": 133,
    "start_time": "2022-07-09T17:02:17.448Z"
   },
   {
    "duration": 124,
    "start_time": "2022-07-09T17:02:55.447Z"
   },
   {
    "duration": 32,
    "start_time": "2022-07-09T17:02:59.261Z"
   },
   {
    "duration": 4,
    "start_time": "2022-07-09T17:05:13.003Z"
   },
   {
    "duration": 20,
    "start_time": "2022-07-09T17:05:13.678Z"
   },
   {
    "duration": 101,
    "start_time": "2022-07-09T17:05:18.699Z"
   },
   {
    "duration": 39,
    "start_time": "2022-07-09T17:05:20.498Z"
   },
   {
    "duration": 5,
    "start_time": "2022-07-09T17:05:35.706Z"
   },
   {
    "duration": 65,
    "start_time": "2022-07-09T17:05:35.713Z"
   },
   {
    "duration": 8,
    "start_time": "2022-07-09T17:05:35.780Z"
   },
   {
    "duration": 19,
    "start_time": "2022-07-09T17:05:35.789Z"
   },
   {
    "duration": 3,
    "start_time": "2022-07-09T17:05:35.811Z"
   },
   {
    "duration": 39,
    "start_time": "2022-07-09T17:05:35.815Z"
   },
   {
    "duration": 15,
    "start_time": "2022-07-09T17:05:35.856Z"
   },
   {
    "duration": 7,
    "start_time": "2022-07-09T17:05:35.873Z"
   },
   {
    "duration": 12,
    "start_time": "2022-07-09T17:05:35.881Z"
   },
   {
    "duration": 183,
    "start_time": "2022-07-09T17:05:35.894Z"
   },
   {
    "duration": 21,
    "start_time": "2022-07-09T17:05:36.079Z"
   },
   {
    "duration": 720,
    "start_time": "2022-07-09T17:05:36.101Z"
   },
   {
    "duration": 12,
    "start_time": "2022-07-09T17:05:36.834Z"
   },
   {
    "duration": 15,
    "start_time": "2022-07-09T17:05:36.849Z"
   },
   {
    "duration": 4,
    "start_time": "2022-07-09T17:05:36.866Z"
   },
   {
    "duration": 11,
    "start_time": "2022-07-09T17:05:36.872Z"
   },
   {
    "duration": 8,
    "start_time": "2022-07-09T17:05:36.885Z"
   },
   {
    "duration": 39,
    "start_time": "2022-07-09T17:05:36.894Z"
   },
   {
    "duration": 10,
    "start_time": "2022-07-09T17:05:36.935Z"
   },
   {
    "duration": 10,
    "start_time": "2022-07-09T17:05:36.946Z"
   },
   {
    "duration": 32,
    "start_time": "2022-07-09T17:05:36.957Z"
   },
   {
    "duration": 14,
    "start_time": "2022-07-09T17:05:36.991Z"
   },
   {
    "duration": 0,
    "start_time": "2022-07-09T17:05:37.007Z"
   },
   {
    "duration": 5,
    "start_time": "2022-07-09T17:07:31.757Z"
   },
   {
    "duration": 38,
    "start_time": "2022-07-09T17:07:35.598Z"
   },
   {
    "duration": 5,
    "start_time": "2022-07-09T17:07:45.184Z"
   },
   {
    "duration": 70,
    "start_time": "2022-07-09T17:07:45.191Z"
   },
   {
    "duration": 9,
    "start_time": "2022-07-09T17:07:45.264Z"
   },
   {
    "duration": 29,
    "start_time": "2022-07-09T17:07:45.274Z"
   },
   {
    "duration": 3,
    "start_time": "2022-07-09T17:07:45.306Z"
   },
   {
    "duration": 33,
    "start_time": "2022-07-09T17:07:45.311Z"
   },
   {
    "duration": 15,
    "start_time": "2022-07-09T17:07:45.346Z"
   },
   {
    "duration": 7,
    "start_time": "2022-07-09T17:07:45.363Z"
   },
   {
    "duration": 28,
    "start_time": "2022-07-09T17:07:45.371Z"
   },
   {
    "duration": 3,
    "start_time": "2022-07-09T17:07:45.401Z"
   },
   {
    "duration": 179,
    "start_time": "2022-07-09T17:07:45.406Z"
   },
   {
    "duration": 22,
    "start_time": "2022-07-09T17:07:45.587Z"
   },
   {
    "duration": 11,
    "start_time": "2022-07-09T17:07:45.610Z"
   },
   {
    "duration": 14,
    "start_time": "2022-07-09T17:07:45.635Z"
   },
   {
    "duration": 18,
    "start_time": "2022-07-09T17:07:45.650Z"
   },
   {
    "duration": 5,
    "start_time": "2022-07-09T17:07:45.669Z"
   },
   {
    "duration": 24,
    "start_time": "2022-07-09T17:07:45.676Z"
   },
   {
    "duration": 12,
    "start_time": "2022-07-09T17:07:45.701Z"
   },
   {
    "duration": 28,
    "start_time": "2022-07-09T17:07:45.714Z"
   },
   {
    "duration": 28,
    "start_time": "2022-07-09T17:07:45.745Z"
   },
   {
    "duration": 30,
    "start_time": "2022-07-09T17:07:45.775Z"
   },
   {
    "duration": 50,
    "start_time": "2022-07-09T17:07:45.807Z"
   },
   {
    "duration": 8,
    "start_time": "2022-07-09T17:07:45.860Z"
   },
   {
    "duration": 33,
    "start_time": "2022-07-09T17:07:45.870Z"
   },
   {
    "duration": 17,
    "start_time": "2022-07-09T17:09:27.776Z"
   },
   {
    "duration": 71,
    "start_time": "2022-07-09T17:14:13.498Z"
   },
   {
    "duration": 23,
    "start_time": "2022-07-09T17:15:27.910Z"
   },
   {
    "duration": 3,
    "start_time": "2022-07-09T17:15:28.908Z"
   },
   {
    "duration": 10,
    "start_time": "2022-07-09T17:15:30.362Z"
   },
   {
    "duration": 11,
    "start_time": "2022-07-09T17:15:39.185Z"
   },
   {
    "duration": 927,
    "start_time": "2022-07-09T17:15:43.418Z"
   },
   {
    "duration": 2340,
    "start_time": "2022-07-09T17:15:55.040Z"
   },
   {
    "duration": 44,
    "start_time": "2022-07-09T17:16:01.467Z"
   },
   {
    "duration": 15,
    "start_time": "2022-07-09T17:16:09.001Z"
   },
   {
    "duration": 4,
    "start_time": "2022-07-09T17:16:59.591Z"
   },
   {
    "duration": 1763,
    "start_time": "2022-07-09T17:17:00.285Z"
   },
   {
    "duration": 19,
    "start_time": "2022-07-09T17:17:02.491Z"
   },
   {
    "duration": 6,
    "start_time": "2022-07-09T17:17:13.946Z"
   },
   {
    "duration": 94,
    "start_time": "2022-07-09T17:17:13.954Z"
   },
   {
    "duration": 12,
    "start_time": "2022-07-09T17:17:14.049Z"
   },
   {
    "duration": 19,
    "start_time": "2022-07-09T17:17:14.063Z"
   },
   {
    "duration": 3,
    "start_time": "2022-07-09T17:17:14.085Z"
   },
   {
    "duration": 44,
    "start_time": "2022-07-09T17:17:14.090Z"
   },
   {
    "duration": 16,
    "start_time": "2022-07-09T17:17:14.137Z"
   },
   {
    "duration": 7,
    "start_time": "2022-07-09T17:17:14.155Z"
   },
   {
    "duration": 19,
    "start_time": "2022-07-09T17:17:14.164Z"
   },
   {
    "duration": 4,
    "start_time": "2022-07-09T17:17:14.185Z"
   },
   {
    "duration": 416,
    "start_time": "2022-07-09T17:17:14.191Z"
   },
   {
    "duration": 29,
    "start_time": "2022-07-09T17:17:14.610Z"
   },
   {
    "duration": 941,
    "start_time": "2022-07-09T17:17:14.645Z"
   },
   {
    "duration": 0,
    "start_time": "2022-07-09T17:17:15.588Z"
   },
   {
    "duration": 0,
    "start_time": "2022-07-09T17:17:15.592Z"
   },
   {
    "duration": 0,
    "start_time": "2022-07-09T17:17:15.594Z"
   },
   {
    "duration": 0,
    "start_time": "2022-07-09T17:17:15.595Z"
   },
   {
    "duration": 0,
    "start_time": "2022-07-09T17:17:15.597Z"
   },
   {
    "duration": 0,
    "start_time": "2022-07-09T17:17:15.599Z"
   },
   {
    "duration": 0,
    "start_time": "2022-07-09T17:17:15.600Z"
   },
   {
    "duration": 0,
    "start_time": "2022-07-09T17:17:15.602Z"
   },
   {
    "duration": 0,
    "start_time": "2022-07-09T17:17:15.603Z"
   },
   {
    "duration": 0,
    "start_time": "2022-07-09T17:17:15.605Z"
   },
   {
    "duration": 0,
    "start_time": "2022-07-09T17:17:15.625Z"
   },
   {
    "duration": 37,
    "start_time": "2022-07-09T17:17:51.657Z"
   },
   {
    "duration": 5,
    "start_time": "2022-07-09T17:17:57.944Z"
   },
   {
    "duration": 65,
    "start_time": "2022-07-09T17:17:57.952Z"
   },
   {
    "duration": 25,
    "start_time": "2022-07-09T17:17:58.019Z"
   },
   {
    "duration": 24,
    "start_time": "2022-07-09T17:17:58.046Z"
   },
   {
    "duration": 4,
    "start_time": "2022-07-09T17:17:58.073Z"
   },
   {
    "duration": 24,
    "start_time": "2022-07-09T17:17:58.079Z"
   },
   {
    "duration": 27,
    "start_time": "2022-07-09T17:17:58.106Z"
   },
   {
    "duration": 13,
    "start_time": "2022-07-09T17:17:58.136Z"
   },
   {
    "duration": 19,
    "start_time": "2022-07-09T17:17:58.151Z"
   },
   {
    "duration": 4,
    "start_time": "2022-07-09T17:17:58.172Z"
   },
   {
    "duration": 323,
    "start_time": "2022-07-09T17:17:58.178Z"
   },
   {
    "duration": 35,
    "start_time": "2022-07-09T17:17:58.503Z"
   },
   {
    "duration": 48,
    "start_time": "2022-07-09T17:17:58.541Z"
   },
   {
    "duration": 0,
    "start_time": "2022-07-09T17:17:58.592Z"
   },
   {
    "duration": 0,
    "start_time": "2022-07-09T17:17:58.593Z"
   },
   {
    "duration": 0,
    "start_time": "2022-07-09T17:17:58.595Z"
   },
   {
    "duration": 0,
    "start_time": "2022-07-09T17:17:58.596Z"
   },
   {
    "duration": 0,
    "start_time": "2022-07-09T17:17:58.597Z"
   },
   {
    "duration": 0,
    "start_time": "2022-07-09T17:17:58.598Z"
   },
   {
    "duration": 0,
    "start_time": "2022-07-09T17:17:58.600Z"
   },
   {
    "duration": 0,
    "start_time": "2022-07-09T17:17:58.601Z"
   },
   {
    "duration": 0,
    "start_time": "2022-07-09T17:17:58.602Z"
   },
   {
    "duration": 0,
    "start_time": "2022-07-09T17:17:58.603Z"
   },
   {
    "duration": 0,
    "start_time": "2022-07-09T17:17:58.604Z"
   },
   {
    "duration": 6,
    "start_time": "2022-07-09T17:18:03.363Z"
   },
   {
    "duration": 71,
    "start_time": "2022-07-09T17:18:03.371Z"
   },
   {
    "duration": 12,
    "start_time": "2022-07-09T17:18:03.444Z"
   },
   {
    "duration": 24,
    "start_time": "2022-07-09T17:18:03.459Z"
   },
   {
    "duration": 4,
    "start_time": "2022-07-09T17:18:03.486Z"
   },
   {
    "duration": 50,
    "start_time": "2022-07-09T17:18:03.492Z"
   },
   {
    "duration": 15,
    "start_time": "2022-07-09T17:18:03.545Z"
   },
   {
    "duration": 10,
    "start_time": "2022-07-09T17:18:03.563Z"
   },
   {
    "duration": 22,
    "start_time": "2022-07-09T17:18:03.575Z"
   },
   {
    "duration": 4,
    "start_time": "2022-07-09T17:18:03.598Z"
   },
   {
    "duration": 413,
    "start_time": "2022-07-09T17:18:03.604Z"
   },
   {
    "duration": 38,
    "start_time": "2022-07-09T17:18:04.019Z"
   },
   {
    "duration": 6,
    "start_time": "2022-07-09T17:18:04.059Z"
   },
   {
    "duration": 15,
    "start_time": "2022-07-09T17:18:04.068Z"
   },
   {
    "duration": 23,
    "start_time": "2022-07-09T17:18:04.085Z"
   },
   {
    "duration": 5,
    "start_time": "2022-07-09T17:18:04.110Z"
   },
   {
    "duration": 21,
    "start_time": "2022-07-09T17:18:04.116Z"
   },
   {
    "duration": 13,
    "start_time": "2022-07-09T17:18:04.142Z"
   },
   {
    "duration": 11,
    "start_time": "2022-07-09T17:18:04.157Z"
   },
   {
    "duration": 30,
    "start_time": "2022-07-09T17:18:04.171Z"
   },
   {
    "duration": 10,
    "start_time": "2022-07-09T17:18:04.203Z"
   },
   {
    "duration": 55,
    "start_time": "2022-07-09T17:18:04.215Z"
   },
   {
    "duration": 20,
    "start_time": "2022-07-09T17:18:04.271Z"
   },
   {
    "duration": 26,
    "start_time": "2022-07-09T17:18:04.292Z"
   },
   {
    "duration": 4,
    "start_time": "2022-07-09T17:18:16.671Z"
   },
   {
    "duration": 224,
    "start_time": "2022-07-09T17:18:17.013Z"
   },
   {
    "duration": 33,
    "start_time": "2022-07-09T17:18:17.306Z"
   },
   {
    "duration": 16,
    "start_time": "2022-07-09T17:18:42.148Z"
   },
   {
    "duration": 3,
    "start_time": "2022-07-09T17:18:42.396Z"
   },
   {
    "duration": 2033,
    "start_time": "2022-07-09T17:18:42.672Z"
   },
   {
    "duration": 42,
    "start_time": "2022-07-09T17:18:44.708Z"
   },
   {
    "duration": 1988,
    "start_time": "2022-07-09T17:20:06.308Z"
   },
   {
    "duration": 2081,
    "start_time": "2022-07-09T17:21:05.736Z"
   },
   {
    "duration": 1937,
    "start_time": "2022-07-09T17:21:22.277Z"
   },
   {
    "duration": 5,
    "start_time": "2022-07-09T17:22:24.992Z"
   },
   {
    "duration": 69,
    "start_time": "2022-07-09T17:22:24.999Z"
   },
   {
    "duration": 8,
    "start_time": "2022-07-09T17:22:25.070Z"
   },
   {
    "duration": 17,
    "start_time": "2022-07-09T17:22:25.080Z"
   },
   {
    "duration": 3,
    "start_time": "2022-07-09T17:22:25.099Z"
   },
   {
    "duration": 42,
    "start_time": "2022-07-09T17:22:25.104Z"
   },
   {
    "duration": 11,
    "start_time": "2022-07-09T17:22:25.147Z"
   },
   {
    "duration": 5,
    "start_time": "2022-07-09T17:22:25.159Z"
   },
   {
    "duration": 15,
    "start_time": "2022-07-09T17:22:25.165Z"
   },
   {
    "duration": 16,
    "start_time": "2022-07-09T17:22:25.181Z"
   },
   {
    "duration": 9,
    "start_time": "2022-07-09T17:22:25.199Z"
   },
   {
    "duration": 12,
    "start_time": "2022-07-09T17:22:25.228Z"
   },
   {
    "duration": 7,
    "start_time": "2022-07-09T17:22:25.242Z"
   },
   {
    "duration": 26,
    "start_time": "2022-07-09T17:22:25.251Z"
   },
   {
    "duration": 7,
    "start_time": "2022-07-09T17:22:25.278Z"
   },
   {
    "duration": 57,
    "start_time": "2022-07-09T17:22:25.287Z"
   },
   {
    "duration": 12,
    "start_time": "2022-07-09T17:24:37.380Z"
   },
   {
    "duration": 4,
    "start_time": "2022-07-09T17:24:58.536Z"
   },
   {
    "duration": 15,
    "start_time": "2022-07-09T17:25:05.236Z"
   },
   {
    "duration": 1356,
    "start_time": "2022-07-09T17:25:18.433Z"
   },
   {
    "duration": 66,
    "start_time": "2022-07-09T17:25:19.792Z"
   },
   {
    "duration": 11,
    "start_time": "2022-07-09T17:25:19.860Z"
   },
   {
    "duration": 16,
    "start_time": "2022-07-09T17:25:19.873Z"
   },
   {
    "duration": 7,
    "start_time": "2022-07-09T17:25:19.891Z"
   },
   {
    "duration": 58,
    "start_time": "2022-07-09T17:25:19.900Z"
   },
   {
    "duration": 17,
    "start_time": "2022-07-09T17:25:19.959Z"
   },
   {
    "duration": 15,
    "start_time": "2022-07-09T17:25:19.978Z"
   },
   {
    "duration": 37,
    "start_time": "2022-07-09T17:25:19.996Z"
   },
   {
    "duration": 29,
    "start_time": "2022-07-09T17:25:20.045Z"
   },
   {
    "duration": 18,
    "start_time": "2022-07-09T17:25:20.076Z"
   },
   {
    "duration": 5,
    "start_time": "2022-07-09T17:25:20.096Z"
   },
   {
    "duration": 17,
    "start_time": "2022-07-09T17:25:20.102Z"
   },
   {
    "duration": 27,
    "start_time": "2022-07-09T17:25:20.120Z"
   },
   {
    "duration": 29,
    "start_time": "2022-07-09T17:25:20.149Z"
   },
   {
    "duration": 18,
    "start_time": "2022-07-09T17:25:40.811Z"
   },
   {
    "duration": 7,
    "start_time": "2022-07-09T17:25:55.882Z"
   },
   {
    "duration": 71,
    "start_time": "2022-07-09T17:25:55.892Z"
   },
   {
    "duration": 13,
    "start_time": "2022-07-09T17:25:55.965Z"
   },
   {
    "duration": 25,
    "start_time": "2022-07-09T17:25:55.981Z"
   },
   {
    "duration": 22,
    "start_time": "2022-07-09T17:25:56.009Z"
   },
   {
    "duration": 37,
    "start_time": "2022-07-09T17:25:56.042Z"
   },
   {
    "duration": 15,
    "start_time": "2022-07-09T17:25:56.082Z"
   },
   {
    "duration": 16,
    "start_time": "2022-07-09T17:25:56.100Z"
   },
   {
    "duration": 9,
    "start_time": "2022-07-09T17:25:56.118Z"
   },
   {
    "duration": 37,
    "start_time": "2022-07-09T17:25:56.132Z"
   },
   {
    "duration": 8,
    "start_time": "2022-07-09T17:25:56.172Z"
   },
   {
    "duration": 12,
    "start_time": "2022-07-09T17:25:56.182Z"
   },
   {
    "duration": 5,
    "start_time": "2022-07-09T17:25:56.196Z"
   },
   {
    "duration": 27,
    "start_time": "2022-07-09T17:25:56.205Z"
   },
   {
    "duration": 38,
    "start_time": "2022-07-09T17:25:56.234Z"
   },
   {
    "duration": 35,
    "start_time": "2022-07-09T17:25:56.277Z"
   },
   {
    "duration": 7,
    "start_time": "2022-07-09T17:26:27.807Z"
   },
   {
    "duration": 10,
    "start_time": "2022-07-09T17:26:32.068Z"
   },
   {
    "duration": 12,
    "start_time": "2022-07-09T17:26:36.897Z"
   },
   {
    "duration": 183,
    "start_time": "2022-07-09T17:29:01.695Z"
   },
   {
    "duration": 19,
    "start_time": "2022-07-09T17:29:11.691Z"
   },
   {
    "duration": 23,
    "start_time": "2022-07-09T17:33:26.039Z"
   },
   {
    "duration": 9,
    "start_time": "2022-07-09T17:33:41.839Z"
   },
   {
    "duration": 27,
    "start_time": "2022-07-09T17:34:05.903Z"
   },
   {
    "duration": 10,
    "start_time": "2022-07-09T17:35:51.856Z"
   },
   {
    "duration": 24,
    "start_time": "2022-07-09T17:36:47.767Z"
   },
   {
    "duration": 20,
    "start_time": "2022-07-09T17:37:33.249Z"
   },
   {
    "duration": 27,
    "start_time": "2022-07-09T17:39:01.676Z"
   },
   {
    "duration": 45,
    "start_time": "2022-07-09T17:40:27.038Z"
   },
   {
    "duration": 32,
    "start_time": "2022-07-09T17:40:33.127Z"
   },
   {
    "duration": 28,
    "start_time": "2022-07-09T17:40:39.470Z"
   },
   {
    "duration": 23,
    "start_time": "2022-07-09T17:40:49.712Z"
   },
   {
    "duration": 6,
    "start_time": "2022-07-09T17:42:21.151Z"
   },
   {
    "duration": 14,
    "start_time": "2022-07-09T17:42:28.231Z"
   },
   {
    "duration": 532,
    "start_time": "2022-07-09T17:42:44.779Z"
   },
   {
    "duration": 21,
    "start_time": "2022-07-09T17:43:01.572Z"
   },
   {
    "duration": 29,
    "start_time": "2022-07-09T17:43:50.266Z"
   },
   {
    "duration": 28,
    "start_time": "2022-07-09T17:43:55.198Z"
   },
   {
    "duration": 650,
    "start_time": "2022-07-09T17:43:57.686Z"
   },
   {
    "duration": 416,
    "start_time": "2022-07-09T17:48:21.040Z"
   },
   {
    "duration": 612,
    "start_time": "2022-07-09T17:48:30.737Z"
   },
   {
    "duration": 13,
    "start_time": "2022-07-09T17:48:41.339Z"
   },
   {
    "duration": 7,
    "start_time": "2022-07-09T17:49:11.435Z"
   },
   {
    "duration": 18,
    "start_time": "2022-07-09T17:51:37.483Z"
   },
   {
    "duration": 20,
    "start_time": "2022-07-09T17:51:51.768Z"
   },
   {
    "duration": 307,
    "start_time": "2022-07-09T17:52:31.185Z"
   },
   {
    "duration": 349,
    "start_time": "2022-07-09T17:52:45.635Z"
   },
   {
    "duration": 5,
    "start_time": "2022-07-09T17:53:00.200Z"
   },
   {
    "duration": 74,
    "start_time": "2022-07-09T17:53:00.208Z"
   },
   {
    "duration": 12,
    "start_time": "2022-07-09T17:53:00.283Z"
   },
   {
    "duration": 15,
    "start_time": "2022-07-09T17:53:00.296Z"
   },
   {
    "duration": 14,
    "start_time": "2022-07-09T17:53:00.324Z"
   },
   {
    "duration": 32,
    "start_time": "2022-07-09T17:53:00.340Z"
   },
   {
    "duration": 29,
    "start_time": "2022-07-09T17:53:00.375Z"
   },
   {
    "duration": 6,
    "start_time": "2022-07-09T17:53:00.406Z"
   },
   {
    "duration": 48,
    "start_time": "2022-07-09T17:53:00.414Z"
   },
   {
    "duration": 12,
    "start_time": "2022-07-09T17:53:00.463Z"
   },
   {
    "duration": 22,
    "start_time": "2022-07-09T17:53:00.478Z"
   },
   {
    "duration": 11,
    "start_time": "2022-07-09T17:53:00.502Z"
   },
   {
    "duration": 444,
    "start_time": "2022-07-09T17:53:00.515Z"
   },
   {
    "duration": 585,
    "start_time": "2022-07-09T17:53:00.962Z"
   },
   {
    "duration": 7,
    "start_time": "2022-07-09T17:53:01.550Z"
   },
   {
    "duration": 48,
    "start_time": "2022-07-09T17:53:01.559Z"
   },
   {
    "duration": 5,
    "start_time": "2022-07-09T17:53:19.576Z"
   },
   {
    "duration": 2,
    "start_time": "2022-07-09T17:53:22.619Z"
   },
   {
    "duration": 315,
    "start_time": "2022-07-09T17:53:24.239Z"
   },
   {
    "duration": 7,
    "start_time": "2022-07-09T17:53:26.387Z"
   },
   {
    "duration": 4,
    "start_time": "2022-07-09T17:53:28.313Z"
   },
   {
    "duration": 72,
    "start_time": "2022-07-09T17:53:28.320Z"
   },
   {
    "duration": 12,
    "start_time": "2022-07-09T17:53:28.394Z"
   },
   {
    "duration": 28,
    "start_time": "2022-07-09T17:53:28.409Z"
   },
   {
    "duration": 4,
    "start_time": "2022-07-09T17:53:28.441Z"
   },
   {
    "duration": 44,
    "start_time": "2022-07-09T17:53:28.447Z"
   },
   {
    "duration": 15,
    "start_time": "2022-07-09T17:53:28.493Z"
   },
   {
    "duration": 6,
    "start_time": "2022-07-09T17:53:28.510Z"
   },
   {
    "duration": 30,
    "start_time": "2022-07-09T17:53:28.518Z"
   },
   {
    "duration": 12,
    "start_time": "2022-07-09T17:53:28.550Z"
   },
   {
    "duration": 8,
    "start_time": "2022-07-09T17:53:28.565Z"
   },
   {
    "duration": 19,
    "start_time": "2022-07-09T17:53:28.575Z"
   },
   {
    "duration": 535,
    "start_time": "2022-07-09T17:53:28.597Z"
   },
   {
    "duration": 6,
    "start_time": "2022-07-09T17:53:29.135Z"
   },
   {
    "duration": 6,
    "start_time": "2022-07-09T17:53:29.143Z"
   },
   {
    "duration": 13,
    "start_time": "2022-07-09T17:53:29.151Z"
   },
   {
    "duration": 554,
    "start_time": "2022-07-09T17:53:39.230Z"
   },
   {
    "duration": 617,
    "start_time": "2022-07-09T17:54:20.658Z"
   },
   {
    "duration": 689,
    "start_time": "2022-07-09T17:56:13.573Z"
   },
   {
    "duration": 107,
    "start_time": "2022-07-09T17:58:44.185Z"
   },
   {
    "duration": 110,
    "start_time": "2022-07-09T17:58:53.936Z"
   },
   {
    "duration": 100,
    "start_time": "2022-07-09T17:59:07.596Z"
   },
   {
    "duration": 93,
    "start_time": "2022-07-09T18:01:24.217Z"
   },
   {
    "duration": 96,
    "start_time": "2022-07-09T18:01:33.974Z"
   },
   {
    "duration": 7,
    "start_time": "2022-07-09T18:03:44.140Z"
   },
   {
    "duration": 654,
    "start_time": "2022-07-09T18:04:34.613Z"
   },
   {
    "duration": 575,
    "start_time": "2022-07-09T18:04:40.939Z"
   },
   {
    "duration": 680,
    "start_time": "2022-07-09T18:06:23.191Z"
   },
   {
    "duration": 16,
    "start_time": "2022-07-09T18:06:24.472Z"
   },
   {
    "duration": 25,
    "start_time": "2022-07-09T18:06:27.595Z"
   },
   {
    "duration": 25,
    "start_time": "2022-07-09T18:06:49.919Z"
   },
   {
    "duration": 34,
    "start_time": "2022-07-09T18:06:55.753Z"
   },
   {
    "duration": 29,
    "start_time": "2022-07-09T18:07:11.849Z"
   },
   {
    "duration": 4,
    "start_time": "2022-07-09T18:08:45.587Z"
   },
   {
    "duration": 36,
    "start_time": "2022-07-09T18:08:58.507Z"
   },
   {
    "duration": 12,
    "start_time": "2022-07-09T18:09:26.937Z"
   },
   {
    "duration": 6,
    "start_time": "2022-07-09T18:09:47.307Z"
   },
   {
    "duration": 853,
    "start_time": "2022-07-09T18:10:06.238Z"
   },
   {
    "duration": 4,
    "start_time": "2022-07-09T18:10:08.252Z"
   },
   {
    "duration": 83,
    "start_time": "2022-07-09T18:10:08.259Z"
   },
   {
    "duration": 9,
    "start_time": "2022-07-09T18:10:08.343Z"
   },
   {
    "duration": 19,
    "start_time": "2022-07-09T18:10:08.353Z"
   },
   {
    "duration": 3,
    "start_time": "2022-07-09T18:10:08.374Z"
   },
   {
    "duration": 20,
    "start_time": "2022-07-09T18:10:08.379Z"
   },
   {
    "duration": 32,
    "start_time": "2022-07-09T18:10:08.401Z"
   },
   {
    "duration": 6,
    "start_time": "2022-07-09T18:10:08.435Z"
   },
   {
    "duration": 10,
    "start_time": "2022-07-09T18:10:08.442Z"
   },
   {
    "duration": 16,
    "start_time": "2022-07-09T18:10:08.453Z"
   },
   {
    "duration": 8,
    "start_time": "2022-07-09T18:10:08.471Z"
   },
   {
    "duration": 9,
    "start_time": "2022-07-09T18:10:08.481Z"
   },
   {
    "duration": 681,
    "start_time": "2022-07-09T18:10:08.492Z"
   },
   {
    "duration": 10,
    "start_time": "2022-07-09T18:10:09.177Z"
   },
   {
    "duration": 25,
    "start_time": "2022-07-09T18:10:09.189Z"
   },
   {
    "duration": 43,
    "start_time": "2022-07-09T18:10:09.217Z"
   },
   {
    "duration": 51,
    "start_time": "2022-07-09T18:10:09.262Z"
   },
   {
    "duration": 20,
    "start_time": "2022-07-09T18:10:09.315Z"
   },
   {
    "duration": 12,
    "start_time": "2022-07-09T18:10:09.339Z"
   },
   {
    "duration": 17,
    "start_time": "2022-07-09T18:11:20.103Z"
   },
   {
    "duration": 1292,
    "start_time": "2022-07-10T07:35:01.218Z"
   },
   {
    "duration": 89,
    "start_time": "2022-07-10T07:35:02.512Z"
   },
   {
    "duration": 10,
    "start_time": "2022-07-10T07:35:02.603Z"
   },
   {
    "duration": 73,
    "start_time": "2022-07-10T07:35:02.614Z"
   },
   {
    "duration": 8,
    "start_time": "2022-07-10T07:35:02.690Z"
   },
   {
    "duration": 13,
    "start_time": "2022-07-10T07:35:02.700Z"
   },
   {
    "duration": 4,
    "start_time": "2022-07-10T07:35:02.715Z"
   },
   {
    "duration": 18,
    "start_time": "2022-07-10T07:35:02.721Z"
   },
   {
    "duration": 8,
    "start_time": "2022-07-10T07:35:02.741Z"
   },
   {
    "duration": 28,
    "start_time": "2022-07-10T07:35:02.751Z"
   },
   {
    "duration": 12,
    "start_time": "2022-07-10T07:35:02.780Z"
   },
   {
    "duration": 556,
    "start_time": "2022-07-10T07:35:02.794Z"
   },
   {
    "duration": 21,
    "start_time": "2022-07-10T07:35:03.351Z"
   },
   {
    "duration": 4,
    "start_time": "2022-07-10T07:35:03.375Z"
   },
   {
    "duration": 18,
    "start_time": "2022-07-10T07:35:03.381Z"
   },
   {
    "duration": 119,
    "start_time": "2022-07-10T07:52:30.277Z"
   },
   {
    "duration": 4,
    "start_time": "2022-07-10T07:52:48.621Z"
   },
   {
    "duration": 9,
    "start_time": "2022-07-10T07:52:59.430Z"
   },
   {
    "duration": 16,
    "start_time": "2022-07-10T07:53:00.311Z"
   },
   {
    "duration": 6,
    "start_time": "2022-07-10T07:53:02.761Z"
   },
   {
    "duration": 68,
    "start_time": "2022-07-10T07:53:02.771Z"
   },
   {
    "duration": 10,
    "start_time": "2022-07-10T07:53:02.841Z"
   },
   {
    "duration": 25,
    "start_time": "2022-07-10T07:53:02.853Z"
   },
   {
    "duration": 15,
    "start_time": "2022-07-10T07:53:02.880Z"
   },
   {
    "duration": 17,
    "start_time": "2022-07-10T07:53:02.896Z"
   },
   {
    "duration": 8,
    "start_time": "2022-07-10T07:53:02.915Z"
   },
   {
    "duration": 21,
    "start_time": "2022-07-10T07:53:02.925Z"
   },
   {
    "duration": 9,
    "start_time": "2022-07-10T07:53:02.949Z"
   },
   {
    "duration": 35,
    "start_time": "2022-07-10T07:53:02.959Z"
   },
   {
    "duration": 534,
    "start_time": "2022-07-10T07:53:02.997Z"
   },
   {
    "duration": 12,
    "start_time": "2022-07-10T07:53:03.532Z"
   },
   {
    "duration": 22,
    "start_time": "2022-07-10T07:53:03.545Z"
   },
   {
    "duration": 37,
    "start_time": "2022-07-10T07:53:03.569Z"
   },
   {
    "duration": 13,
    "start_time": "2022-07-10T07:58:11.477Z"
   },
   {
    "duration": 5,
    "start_time": "2022-07-10T07:58:47.975Z"
   },
   {
    "duration": 14,
    "start_time": "2022-07-10T08:00:32.985Z"
   },
   {
    "duration": 14,
    "start_time": "2022-07-10T08:00:37.984Z"
   },
   {
    "duration": 12,
    "start_time": "2022-07-10T08:02:34.729Z"
   },
   {
    "duration": 8,
    "start_time": "2022-07-10T08:02:41.002Z"
   },
   {
    "duration": 98,
    "start_time": "2022-07-10T08:02:41.013Z"
   },
   {
    "duration": 26,
    "start_time": "2022-07-10T08:02:41.115Z"
   },
   {
    "duration": 3,
    "start_time": "2022-07-10T08:02:41.144Z"
   },
   {
    "duration": 34,
    "start_time": "2022-07-10T08:02:41.151Z"
   },
   {
    "duration": 61,
    "start_time": "2022-07-10T08:02:41.188Z"
   },
   {
    "duration": 0,
    "start_time": "2022-07-10T08:02:41.251Z"
   },
   {
    "duration": 0,
    "start_time": "2022-07-10T08:02:41.252Z"
   },
   {
    "duration": 0,
    "start_time": "2022-07-10T08:02:41.253Z"
   },
   {
    "duration": 0,
    "start_time": "2022-07-10T08:02:41.254Z"
   },
   {
    "duration": 0,
    "start_time": "2022-07-10T08:02:41.256Z"
   },
   {
    "duration": 0,
    "start_time": "2022-07-10T08:02:41.257Z"
   },
   {
    "duration": 0,
    "start_time": "2022-07-10T08:02:41.258Z"
   },
   {
    "duration": 0,
    "start_time": "2022-07-10T08:02:41.259Z"
   },
   {
    "duration": 0,
    "start_time": "2022-07-10T08:02:41.262Z"
   },
   {
    "duration": 19,
    "start_time": "2022-07-10T08:03:12.510Z"
   },
   {
    "duration": 19,
    "start_time": "2022-07-10T08:03:18.603Z"
   },
   {
    "duration": 5,
    "start_time": "2022-07-10T08:03:58.197Z"
   },
   {
    "duration": 61,
    "start_time": "2022-07-10T08:03:58.205Z"
   },
   {
    "duration": 17,
    "start_time": "2022-07-10T08:03:58.267Z"
   },
   {
    "duration": 4,
    "start_time": "2022-07-10T08:03:58.286Z"
   },
   {
    "duration": 17,
    "start_time": "2022-07-10T08:03:58.291Z"
   },
   {
    "duration": 14,
    "start_time": "2022-07-10T08:03:58.310Z"
   },
   {
    "duration": 48,
    "start_time": "2022-07-10T08:03:58.326Z"
   },
   {
    "duration": 10,
    "start_time": "2022-07-10T08:03:58.380Z"
   },
   {
    "duration": 10,
    "start_time": "2022-07-10T08:03:58.392Z"
   },
   {
    "duration": 20,
    "start_time": "2022-07-10T08:03:58.405Z"
   },
   {
    "duration": 21,
    "start_time": "2022-07-10T08:03:58.427Z"
   },
   {
    "duration": 546,
    "start_time": "2022-07-10T08:03:58.450Z"
   },
   {
    "duration": 11,
    "start_time": "2022-07-10T08:03:58.998Z"
   },
   {
    "duration": 8,
    "start_time": "2022-07-10T08:03:59.010Z"
   },
   {
    "duration": 16,
    "start_time": "2022-07-10T08:03:59.020Z"
   },
   {
    "duration": 9,
    "start_time": "2022-07-10T08:05:36.996Z"
   },
   {
    "duration": 9,
    "start_time": "2022-07-10T08:06:35.916Z"
   },
   {
    "duration": 9,
    "start_time": "2022-07-10T08:06:37.940Z"
   },
   {
    "duration": 17,
    "start_time": "2022-07-10T08:06:42.580Z"
   },
   {
    "duration": 267,
    "start_time": "2022-07-10T08:07:54.037Z"
   },
   {
    "duration": 13,
    "start_time": "2022-07-10T08:07:54.336Z"
   },
   {
    "duration": 9,
    "start_time": "2022-07-10T08:08:07.094Z"
   },
   {
    "duration": 14,
    "start_time": "2022-07-10T08:08:08.182Z"
   },
   {
    "duration": 1197,
    "start_time": "2022-07-10T08:08:15.892Z"
   },
   {
    "duration": 61,
    "start_time": "2022-07-10T08:08:17.092Z"
   },
   {
    "duration": 19,
    "start_time": "2022-07-10T08:08:17.155Z"
   },
   {
    "duration": 18,
    "start_time": "2022-07-10T08:08:17.176Z"
   },
   {
    "duration": 31,
    "start_time": "2022-07-10T08:08:17.196Z"
   },
   {
    "duration": 17,
    "start_time": "2022-07-10T08:08:17.229Z"
   },
   {
    "duration": 45,
    "start_time": "2022-07-10T08:08:17.247Z"
   },
   {
    "duration": 18,
    "start_time": "2022-07-10T08:08:17.293Z"
   },
   {
    "duration": 20,
    "start_time": "2022-07-10T08:08:17.312Z"
   },
   {
    "duration": 34,
    "start_time": "2022-07-10T08:08:17.334Z"
   },
   {
    "duration": 520,
    "start_time": "2022-07-10T08:08:17.370Z"
   },
   {
    "duration": 16,
    "start_time": "2022-07-10T08:08:17.892Z"
   },
   {
    "duration": 8,
    "start_time": "2022-07-10T08:08:17.909Z"
   },
   {
    "duration": 127,
    "start_time": "2022-07-10T08:08:17.919Z"
   },
   {
    "duration": 781,
    "start_time": "2022-07-10T08:08:23.518Z"
   },
   {
    "duration": 0,
    "start_time": "2022-07-10T08:08:24.301Z"
   },
   {
    "duration": 3,
    "start_time": "2022-07-10T08:08:29.828Z"
   },
   {
    "duration": 61,
    "start_time": "2022-07-10T08:08:29.833Z"
   },
   {
    "duration": 16,
    "start_time": "2022-07-10T08:08:29.896Z"
   },
   {
    "duration": 5,
    "start_time": "2022-07-10T08:08:29.913Z"
   },
   {
    "duration": 14,
    "start_time": "2022-07-10T08:08:29.921Z"
   },
   {
    "duration": 37,
    "start_time": "2022-07-10T08:08:29.937Z"
   },
   {
    "duration": 18,
    "start_time": "2022-07-10T08:08:29.979Z"
   },
   {
    "duration": 15,
    "start_time": "2022-07-10T08:08:29.999Z"
   },
   {
    "duration": 14,
    "start_time": "2022-07-10T08:08:30.017Z"
   },
   {
    "duration": 27,
    "start_time": "2022-07-10T08:08:30.033Z"
   },
   {
    "duration": 657,
    "start_time": "2022-07-10T08:08:30.062Z"
   },
   {
    "duration": 16,
    "start_time": "2022-07-10T08:08:30.720Z"
   },
   {
    "duration": 48,
    "start_time": "2022-07-10T08:08:30.738Z"
   },
   {
    "duration": 47,
    "start_time": "2022-07-10T08:08:30.789Z"
   },
   {
    "duration": 46,
    "start_time": "2022-07-10T08:08:56.405Z"
   },
   {
    "duration": 9,
    "start_time": "2022-07-10T08:09:01.384Z"
   },
   {
    "duration": 10,
    "start_time": "2022-07-10T08:11:15.419Z"
   },
   {
    "duration": 18,
    "start_time": "2022-07-10T08:11:19.680Z"
   },
   {
    "duration": 9,
    "start_time": "2022-07-10T08:11:24.079Z"
   },
   {
    "duration": 28,
    "start_time": "2022-07-10T08:11:36.913Z"
   },
   {
    "duration": 37,
    "start_time": "2022-07-10T08:14:16.379Z"
   },
   {
    "duration": 18,
    "start_time": "2022-07-10T08:14:40.480Z"
   },
   {
    "duration": 13,
    "start_time": "2022-07-10T08:15:11.557Z"
   },
   {
    "duration": 53,
    "start_time": "2022-07-10T08:15:11.574Z"
   },
   {
    "duration": 18,
    "start_time": "2022-07-10T08:15:11.629Z"
   },
   {
    "duration": 16,
    "start_time": "2022-07-10T08:15:11.649Z"
   },
   {
    "duration": 3,
    "start_time": "2022-07-10T08:15:11.667Z"
   },
   {
    "duration": 33,
    "start_time": "2022-07-10T08:15:11.671Z"
   },
   {
    "duration": 24,
    "start_time": "2022-07-10T08:15:11.705Z"
   },
   {
    "duration": 25,
    "start_time": "2022-07-10T08:15:11.731Z"
   },
   {
    "duration": 23,
    "start_time": "2022-07-10T08:15:11.757Z"
   },
   {
    "duration": 30,
    "start_time": "2022-07-10T08:15:11.782Z"
   },
   {
    "duration": 21,
    "start_time": "2022-07-10T08:15:11.813Z"
   },
   {
    "duration": 59,
    "start_time": "2022-07-10T08:15:11.836Z"
   },
   {
    "duration": 541,
    "start_time": "2022-07-10T08:15:11.897Z"
   },
   {
    "duration": 25,
    "start_time": "2022-07-10T08:15:12.440Z"
   },
   {
    "duration": 15,
    "start_time": "2022-07-10T08:15:12.470Z"
   },
   {
    "duration": 50,
    "start_time": "2022-07-10T08:15:12.487Z"
   },
   {
    "duration": 16,
    "start_time": "2022-07-10T08:15:12.538Z"
   },
   {
    "duration": 6,
    "start_time": "2022-07-10T08:15:39.456Z"
   },
   {
    "duration": 76,
    "start_time": "2022-07-10T08:15:39.464Z"
   },
   {
    "duration": 15,
    "start_time": "2022-07-10T08:15:39.541Z"
   },
   {
    "duration": 18,
    "start_time": "2022-07-10T08:15:39.558Z"
   },
   {
    "duration": 10,
    "start_time": "2022-07-10T08:15:39.580Z"
   },
   {
    "duration": 18,
    "start_time": "2022-07-10T08:15:39.592Z"
   },
   {
    "duration": 14,
    "start_time": "2022-07-10T08:15:39.612Z"
   },
   {
    "duration": 14,
    "start_time": "2022-07-10T08:15:39.628Z"
   },
   {
    "duration": 7,
    "start_time": "2022-07-10T08:15:39.660Z"
   },
   {
    "duration": 24,
    "start_time": "2022-07-10T08:15:39.670Z"
   },
   {
    "duration": 9,
    "start_time": "2022-07-10T08:15:39.696Z"
   },
   {
    "duration": 13,
    "start_time": "2022-07-10T08:15:39.707Z"
   },
   {
    "duration": 470,
    "start_time": "2022-07-10T08:15:39.722Z"
   },
   {
    "duration": 14,
    "start_time": "2022-07-10T08:15:40.195Z"
   },
   {
    "duration": 6,
    "start_time": "2022-07-10T08:15:40.211Z"
   },
   {
    "duration": 58,
    "start_time": "2022-07-10T08:15:40.220Z"
   },
   {
    "duration": 23,
    "start_time": "2022-07-10T08:15:40.281Z"
   },
   {
    "duration": 18,
    "start_time": "2022-07-10T08:15:58.997Z"
   },
   {
    "duration": 10,
    "start_time": "2022-07-10T08:16:05.444Z"
   },
   {
    "duration": 5,
    "start_time": "2022-07-10T08:16:06.636Z"
   },
   {
    "duration": 149,
    "start_time": "2022-07-10T08:16:06.643Z"
   },
   {
    "duration": 897,
    "start_time": "2022-07-10T08:16:06.794Z"
   },
   {
    "duration": 0,
    "start_time": "2022-07-10T08:16:07.695Z"
   },
   {
    "duration": 0,
    "start_time": "2022-07-10T08:16:07.696Z"
   },
   {
    "duration": 0,
    "start_time": "2022-07-10T08:16:07.697Z"
   },
   {
    "duration": 0,
    "start_time": "2022-07-10T08:16:07.699Z"
   },
   {
    "duration": 0,
    "start_time": "2022-07-10T08:16:07.701Z"
   },
   {
    "duration": 0,
    "start_time": "2022-07-10T08:16:07.703Z"
   },
   {
    "duration": 0,
    "start_time": "2022-07-10T08:16:07.705Z"
   },
   {
    "duration": 0,
    "start_time": "2022-07-10T08:16:07.706Z"
   },
   {
    "duration": 0,
    "start_time": "2022-07-10T08:16:07.707Z"
   },
   {
    "duration": 0,
    "start_time": "2022-07-10T08:16:07.709Z"
   },
   {
    "duration": 0,
    "start_time": "2022-07-10T08:16:07.711Z"
   },
   {
    "duration": 0,
    "start_time": "2022-07-10T08:16:07.712Z"
   },
   {
    "duration": 0,
    "start_time": "2022-07-10T08:16:07.713Z"
   },
   {
    "duration": 0,
    "start_time": "2022-07-10T08:16:07.714Z"
   },
   {
    "duration": 0,
    "start_time": "2022-07-10T08:16:07.715Z"
   },
   {
    "duration": 21,
    "start_time": "2022-07-10T08:16:16.237Z"
   },
   {
    "duration": 5,
    "start_time": "2022-07-10T08:16:24.395Z"
   },
   {
    "duration": 81,
    "start_time": "2022-07-10T08:16:24.403Z"
   },
   {
    "duration": 19,
    "start_time": "2022-07-10T08:16:24.486Z"
   },
   {
    "duration": 18,
    "start_time": "2022-07-10T08:16:24.507Z"
   },
   {
    "duration": 17,
    "start_time": "2022-07-10T08:16:24.528Z"
   },
   {
    "duration": 11,
    "start_time": "2022-07-10T08:16:24.562Z"
   },
   {
    "duration": 18,
    "start_time": "2022-07-10T08:16:24.576Z"
   },
   {
    "duration": 18,
    "start_time": "2022-07-10T08:16:24.596Z"
   },
   {
    "duration": 16,
    "start_time": "2022-07-10T08:16:24.616Z"
   },
   {
    "duration": 5,
    "start_time": "2022-07-10T08:16:24.633Z"
   },
   {
    "duration": 28,
    "start_time": "2022-07-10T08:16:24.639Z"
   },
   {
    "duration": 14,
    "start_time": "2022-07-10T08:16:24.669Z"
   },
   {
    "duration": 25,
    "start_time": "2022-07-10T08:16:24.684Z"
   },
   {
    "duration": 494,
    "start_time": "2022-07-10T08:16:24.713Z"
   },
   {
    "duration": 16,
    "start_time": "2022-07-10T08:16:25.208Z"
   },
   {
    "duration": 9,
    "start_time": "2022-07-10T08:16:25.225Z"
   },
   {
    "duration": 52,
    "start_time": "2022-07-10T08:16:25.236Z"
   },
   {
    "duration": 17,
    "start_time": "2022-07-10T08:16:25.290Z"
   },
   {
    "duration": 9,
    "start_time": "2022-07-10T08:17:46.674Z"
   },
   {
    "duration": 15,
    "start_time": "2022-07-10T08:25:33.079Z"
   },
   {
    "duration": 11,
    "start_time": "2022-07-10T08:28:26.019Z"
   },
   {
    "duration": 5,
    "start_time": "2022-07-10T08:28:45.780Z"
   },
   {
    "duration": 5,
    "start_time": "2022-07-10T08:29:57.517Z"
   },
   {
    "duration": 8,
    "start_time": "2022-07-10T08:29:57.647Z"
   },
   {
    "duration": 8,
    "start_time": "2022-07-10T08:31:17.616Z"
   },
   {
    "duration": 11,
    "start_time": "2022-07-10T08:31:17.967Z"
   },
   {
    "duration": 263,
    "start_time": "2022-07-10T08:32:22.699Z"
   },
   {
    "duration": 169,
    "start_time": "2022-07-10T08:34:55.085Z"
   },
   {
    "duration": 157,
    "start_time": "2022-07-10T08:35:21.402Z"
   },
   {
    "duration": 247,
    "start_time": "2022-07-10T08:35:58.266Z"
   },
   {
    "duration": 244,
    "start_time": "2022-07-10T08:36:15.883Z"
   },
   {
    "duration": 260,
    "start_time": "2022-07-10T08:36:23.383Z"
   },
   {
    "duration": 290,
    "start_time": "2022-07-10T08:36:30.618Z"
   },
   {
    "duration": 365,
    "start_time": "2022-07-10T08:37:12.377Z"
   },
   {
    "duration": 286,
    "start_time": "2022-07-10T08:37:46.956Z"
   },
   {
    "duration": 272,
    "start_time": "2022-07-10T08:39:59.617Z"
   },
   {
    "duration": 298,
    "start_time": "2022-07-10T08:40:49.641Z"
   },
   {
    "duration": 7,
    "start_time": "2022-07-10T08:41:22.683Z"
   },
   {
    "duration": 4,
    "start_time": "2022-07-10T08:41:25.460Z"
   },
   {
    "duration": 54,
    "start_time": "2022-07-10T08:41:25.467Z"
   },
   {
    "duration": 13,
    "start_time": "2022-07-10T08:41:25.523Z"
   },
   {
    "duration": 3,
    "start_time": "2022-07-10T08:41:25.537Z"
   },
   {
    "duration": 25,
    "start_time": "2022-07-10T08:41:25.542Z"
   },
   {
    "duration": 13,
    "start_time": "2022-07-10T08:41:25.569Z"
   },
   {
    "duration": 14,
    "start_time": "2022-07-10T08:41:25.584Z"
   },
   {
    "duration": 4,
    "start_time": "2022-07-10T08:41:25.599Z"
   },
   {
    "duration": 7,
    "start_time": "2022-07-10T08:41:25.604Z"
   },
   {
    "duration": 7,
    "start_time": "2022-07-10T08:41:25.613Z"
   },
   {
    "duration": 41,
    "start_time": "2022-07-10T08:41:25.621Z"
   },
   {
    "duration": 533,
    "start_time": "2022-07-10T08:41:25.664Z"
   },
   {
    "duration": 15,
    "start_time": "2022-07-10T08:41:26.199Z"
   },
   {
    "duration": 8,
    "start_time": "2022-07-10T08:41:26.217Z"
   },
   {
    "duration": 28,
    "start_time": "2022-07-10T08:41:26.227Z"
   },
   {
    "duration": 22,
    "start_time": "2022-07-10T08:41:26.256Z"
   },
   {
    "duration": 22,
    "start_time": "2022-07-10T08:41:26.280Z"
   },
   {
    "duration": 367,
    "start_time": "2022-07-10T08:41:26.305Z"
   },
   {
    "duration": 301,
    "start_time": "2022-07-10T08:41:54.661Z"
   },
   {
    "duration": 304,
    "start_time": "2022-07-10T08:42:00.237Z"
   },
   {
    "duration": 294,
    "start_time": "2022-07-10T08:42:47.414Z"
   },
   {
    "duration": 7,
    "start_time": "2022-07-10T08:45:37.769Z"
   },
   {
    "duration": 7,
    "start_time": "2022-07-10T08:47:17.486Z"
   },
   {
    "duration": 8,
    "start_time": "2022-07-10T08:47:26.925Z"
   },
   {
    "duration": 7,
    "start_time": "2022-07-10T08:54:05.128Z"
   },
   {
    "duration": 6,
    "start_time": "2022-07-10T09:01:18.599Z"
   },
   {
    "duration": 7,
    "start_time": "2022-07-10T09:01:32.822Z"
   },
   {
    "duration": 175,
    "start_time": "2022-07-10T09:07:16.648Z"
   },
   {
    "duration": 17,
    "start_time": "2022-07-10T09:08:43.084Z"
   },
   {
    "duration": 15,
    "start_time": "2022-07-10T09:08:43.316Z"
   },
   {
    "duration": 680,
    "start_time": "2022-07-10T09:17:30.800Z"
   },
   {
    "duration": 8,
    "start_time": "2022-07-10T09:17:45.045Z"
   },
   {
    "duration": 7,
    "start_time": "2022-07-10T09:17:45.259Z"
   },
   {
    "duration": 301,
    "start_time": "2022-07-10T09:17:45.416Z"
   },
   {
    "duration": 10,
    "start_time": "2022-07-10T09:21:33.154Z"
   },
   {
    "duration": 7,
    "start_time": "2022-07-10T09:21:38.642Z"
   },
   {
    "duration": 7,
    "start_time": "2022-07-10T09:22:11.964Z"
   },
   {
    "duration": 32,
    "start_time": "2022-07-10T09:27:23.023Z"
   },
   {
    "duration": 24,
    "start_time": "2022-07-10T09:27:49.178Z"
   },
   {
    "duration": 7,
    "start_time": "2022-07-10T09:28:06.431Z"
   },
   {
    "duration": 27,
    "start_time": "2022-07-10T09:28:29.232Z"
   },
   {
    "duration": 15,
    "start_time": "2022-07-10T09:29:24.461Z"
   },
   {
    "duration": 20,
    "start_time": "2022-07-10T09:29:33.488Z"
   },
   {
    "duration": 96,
    "start_time": "2022-07-10T09:29:37.599Z"
   },
   {
    "duration": 6,
    "start_time": "2022-07-10T09:29:57.845Z"
   },
   {
    "duration": 6,
    "start_time": "2022-07-10T09:30:10.961Z"
   },
   {
    "duration": 7,
    "start_time": "2022-07-10T09:30:11.550Z"
   },
   {
    "duration": 75,
    "start_time": "2022-07-10T09:30:15.797Z"
   },
   {
    "duration": 7,
    "start_time": "2022-07-10T09:32:02.576Z"
   },
   {
    "duration": 60,
    "start_time": "2022-07-10T09:32:02.585Z"
   },
   {
    "duration": 13,
    "start_time": "2022-07-10T09:32:02.647Z"
   },
   {
    "duration": 9,
    "start_time": "2022-07-10T09:32:02.661Z"
   },
   {
    "duration": 30,
    "start_time": "2022-07-10T09:32:02.672Z"
   },
   {
    "duration": 24,
    "start_time": "2022-07-10T09:32:02.705Z"
   },
   {
    "duration": 35,
    "start_time": "2022-07-10T09:32:02.732Z"
   },
   {
    "duration": 6,
    "start_time": "2022-07-10T09:32:02.769Z"
   },
   {
    "duration": 14,
    "start_time": "2022-07-10T09:32:02.777Z"
   },
   {
    "duration": 12,
    "start_time": "2022-07-10T09:32:02.793Z"
   },
   {
    "duration": 11,
    "start_time": "2022-07-10T09:32:02.807Z"
   },
   {
    "duration": 564,
    "start_time": "2022-07-10T09:32:02.820Z"
   },
   {
    "duration": 15,
    "start_time": "2022-07-10T09:32:03.386Z"
   },
   {
    "duration": 7,
    "start_time": "2022-07-10T09:32:03.403Z"
   },
   {
    "duration": 13,
    "start_time": "2022-07-10T09:32:03.412Z"
   },
   {
    "duration": 7,
    "start_time": "2022-07-10T09:32:03.427Z"
   },
   {
    "duration": 331,
    "start_time": "2022-07-10T09:32:03.435Z"
   },
   {
    "duration": 7,
    "start_time": "2022-07-10T09:32:03.768Z"
   },
   {
    "duration": 9,
    "start_time": "2022-07-10T09:32:03.778Z"
   },
   {
    "duration": 12,
    "start_time": "2022-07-10T09:32:03.789Z"
   },
   {
    "duration": 94,
    "start_time": "2022-07-10T09:32:03.804Z"
   },
   {
    "duration": 180,
    "start_time": "2022-07-10T09:32:03.900Z"
   },
   {
    "duration": 77,
    "start_time": "2022-07-10T09:32:50.954Z"
   },
   {
    "duration": 36,
    "start_time": "2022-07-10T09:33:11.296Z"
   },
   {
    "duration": 45,
    "start_time": "2022-07-10T09:33:20.237Z"
   },
   {
    "duration": 833,
    "start_time": "2022-07-10T09:33:40.395Z"
   },
   {
    "duration": 9,
    "start_time": "2022-07-10T09:34:03.601Z"
   },
   {
    "duration": 70,
    "start_time": "2022-07-10T09:34:04.047Z"
   },
   {
    "duration": 89,
    "start_time": "2022-07-10T09:34:07.449Z"
   },
   {
    "duration": 15,
    "start_time": "2022-07-10T09:37:58.151Z"
   },
   {
    "duration": 23,
    "start_time": "2022-07-10T09:38:13.655Z"
   },
   {
    "duration": 21,
    "start_time": "2022-07-10T09:38:33.452Z"
   },
   {
    "duration": 35,
    "start_time": "2022-07-10T09:38:39.867Z"
   },
   {
    "duration": 26,
    "start_time": "2022-07-10T09:39:30.733Z"
   },
   {
    "duration": 17,
    "start_time": "2022-07-10T09:39:44.184Z"
   },
   {
    "duration": 13,
    "start_time": "2022-07-10T09:41:56.066Z"
   },
   {
    "duration": 12,
    "start_time": "2022-07-10T09:42:23.708Z"
   },
   {
    "duration": 906,
    "start_time": "2022-07-10T09:42:35.052Z"
   },
   {
    "duration": 12,
    "start_time": "2022-07-10T09:42:55.075Z"
   },
   {
    "duration": 6,
    "start_time": "2022-07-10T09:44:52.639Z"
   },
   {
    "duration": 8,
    "start_time": "2022-07-10T09:45:39.974Z"
   },
   {
    "duration": 7,
    "start_time": "2022-07-10T09:45:49.872Z"
   },
   {
    "duration": 7,
    "start_time": "2022-07-10T09:45:54.587Z"
   },
   {
    "duration": 20,
    "start_time": "2022-07-10T09:48:55.392Z"
   },
   {
    "duration": 11,
    "start_time": "2022-07-10T09:48:56.082Z"
   },
   {
    "duration": 175,
    "start_time": "2022-07-10T09:50:01.654Z"
   },
   {
    "duration": 215,
    "start_time": "2022-07-10T09:50:08.664Z"
   },
   {
    "duration": 11,
    "start_time": "2022-07-10T09:50:23.422Z"
   },
   {
    "duration": 4015,
    "start_time": "2022-07-10T09:51:15.697Z"
   },
   {
    "duration": 4,
    "start_time": "2022-07-10T09:51:38.013Z"
   },
   {
    "duration": 54,
    "start_time": "2022-07-10T09:51:38.019Z"
   },
   {
    "duration": 13,
    "start_time": "2022-07-10T09:51:38.077Z"
   },
   {
    "duration": 3,
    "start_time": "2022-07-10T09:51:38.092Z"
   },
   {
    "duration": 15,
    "start_time": "2022-07-10T09:51:38.097Z"
   },
   {
    "duration": 14,
    "start_time": "2022-07-10T09:51:38.113Z"
   },
   {
    "duration": 45,
    "start_time": "2022-07-10T09:51:38.129Z"
   },
   {
    "duration": 5,
    "start_time": "2022-07-10T09:51:38.177Z"
   },
   {
    "duration": 9,
    "start_time": "2022-07-10T09:51:38.184Z"
   },
   {
    "duration": 8,
    "start_time": "2022-07-10T09:51:38.194Z"
   },
   {
    "duration": 10,
    "start_time": "2022-07-10T09:51:38.204Z"
   },
   {
    "duration": 528,
    "start_time": "2022-07-10T09:51:38.216Z"
   },
   {
    "duration": 23,
    "start_time": "2022-07-10T09:51:38.746Z"
   },
   {
    "duration": 14,
    "start_time": "2022-07-10T09:51:38.777Z"
   },
   {
    "duration": 12,
    "start_time": "2022-07-10T09:51:38.793Z"
   },
   {
    "duration": 7,
    "start_time": "2022-07-10T09:51:38.806Z"
   },
   {
    "duration": 383,
    "start_time": "2022-07-10T09:51:38.815Z"
   },
   {
    "duration": 8,
    "start_time": "2022-07-10T09:51:39.199Z"
   },
   {
    "duration": 11,
    "start_time": "2022-07-10T09:51:39.209Z"
   },
   {
    "duration": 19,
    "start_time": "2022-07-10T09:51:39.222Z"
   },
   {
    "duration": 3827,
    "start_time": "2022-07-10T09:51:39.243Z"
   },
   {
    "duration": 170,
    "start_time": "2022-07-10T09:51:43.072Z"
   },
   {
    "duration": 12,
    "start_time": "2022-07-10T09:52:04.183Z"
   },
   {
    "duration": 3793,
    "start_time": "2022-07-10T09:52:31.023Z"
   },
   {
    "duration": 516,
    "start_time": "2022-07-10T09:52:38.211Z"
   },
   {
    "duration": 3979,
    "start_time": "2022-07-10T09:53:09.125Z"
   },
   {
    "duration": 5,
    "start_time": "2022-07-10T09:57:42.723Z"
   },
   {
    "duration": 68,
    "start_time": "2022-07-10T09:57:42.730Z"
   },
   {
    "duration": 22,
    "start_time": "2022-07-10T09:57:42.800Z"
   },
   {
    "duration": 3,
    "start_time": "2022-07-10T09:57:42.824Z"
   },
   {
    "duration": 30,
    "start_time": "2022-07-10T09:57:42.831Z"
   },
   {
    "duration": 19,
    "start_time": "2022-07-10T09:57:42.862Z"
   },
   {
    "duration": 16,
    "start_time": "2022-07-10T09:57:42.883Z"
   },
   {
    "duration": 5,
    "start_time": "2022-07-10T09:57:42.901Z"
   },
   {
    "duration": 8,
    "start_time": "2022-07-10T09:57:42.908Z"
   },
   {
    "duration": 8,
    "start_time": "2022-07-10T09:57:42.918Z"
   },
   {
    "duration": 11,
    "start_time": "2022-07-10T09:57:42.960Z"
   },
   {
    "duration": 451,
    "start_time": "2022-07-10T09:57:42.973Z"
   },
   {
    "duration": 23,
    "start_time": "2022-07-10T09:57:43.427Z"
   },
   {
    "duration": 10,
    "start_time": "2022-07-10T09:57:43.460Z"
   },
   {
    "duration": 12,
    "start_time": "2022-07-10T09:57:43.472Z"
   },
   {
    "duration": 6,
    "start_time": "2022-07-10T09:57:43.486Z"
   },
   {
    "duration": 324,
    "start_time": "2022-07-10T09:57:43.493Z"
   },
   {
    "duration": 7,
    "start_time": "2022-07-10T09:57:43.819Z"
   },
   {
    "duration": 13,
    "start_time": "2022-07-10T09:57:43.828Z"
   },
   {
    "duration": 176,
    "start_time": "2022-07-10T09:57:43.843Z"
   },
   {
    "duration": 68,
    "start_time": "2022-07-10T09:57:44.021Z"
   },
   {
    "duration": 0,
    "start_time": "2022-07-10T09:57:44.091Z"
   },
   {
    "duration": 10,
    "start_time": "2022-07-10T09:57:51.789Z"
   },
   {
    "duration": 18,
    "start_time": "2022-07-10T09:58:07.358Z"
   },
   {
    "duration": 13,
    "start_time": "2022-07-10T09:58:07.662Z"
   },
   {
    "duration": 27,
    "start_time": "2022-07-10T09:58:32.449Z"
   },
   {
    "duration": 17,
    "start_time": "2022-07-10T09:58:32.863Z"
   },
   {
    "duration": 12,
    "start_time": "2022-07-10T09:58:40.517Z"
   },
   {
    "duration": 10,
    "start_time": "2022-07-10T09:59:52.151Z"
   },
   {
    "duration": 19,
    "start_time": "2022-07-10T10:00:44.911Z"
   },
   {
    "duration": 10,
    "start_time": "2022-07-10T10:00:45.501Z"
   },
   {
    "duration": 17,
    "start_time": "2022-07-10T10:01:17.556Z"
   },
   {
    "duration": 10,
    "start_time": "2022-07-10T10:01:18.082Z"
   },
   {
    "duration": 16,
    "start_time": "2022-07-10T10:01:40.410Z"
   },
   {
    "duration": 12,
    "start_time": "2022-07-10T10:01:40.937Z"
   },
   {
    "duration": 28,
    "start_time": "2022-07-10T10:02:10.624Z"
   },
   {
    "duration": 897,
    "start_time": "2022-07-10T10:07:18.514Z"
   },
   {
    "duration": 4,
    "start_time": "2022-07-10T10:07:20.942Z"
   },
   {
    "duration": 884,
    "start_time": "2022-07-10T10:07:21.140Z"
   },
   {
    "duration": 27,
    "start_time": "2022-07-10T10:11:38.043Z"
   },
   {
    "duration": 3,
    "start_time": "2022-07-10T10:11:42.475Z"
   },
   {
    "duration": 21,
    "start_time": "2022-07-10T10:12:12.481Z"
   },
   {
    "duration": 79,
    "start_time": "2022-07-10T10:12:16.587Z"
   },
   {
    "duration": 9,
    "start_time": "2022-07-10T10:13:21.017Z"
   },
   {
    "duration": 57,
    "start_time": "2022-07-10T10:13:22.517Z"
   },
   {
    "duration": 9,
    "start_time": "2022-07-10T10:13:22.728Z"
   },
   {
    "duration": 61,
    "start_time": "2022-07-10T10:13:33.717Z"
   },
   {
    "duration": 7,
    "start_time": "2022-07-10T10:13:42.059Z"
   },
   {
    "duration": 76,
    "start_time": "2022-07-10T10:13:42.412Z"
   },
   {
    "duration": 5,
    "start_time": "2022-07-10T10:14:09.352Z"
   },
   {
    "duration": 16,
    "start_time": "2022-07-10T10:25:25.042Z"
   },
   {
    "duration": 19,
    "start_time": "2022-07-10T10:26:12.890Z"
   },
   {
    "duration": 5,
    "start_time": "2022-07-10T10:26:22.409Z"
   },
   {
    "duration": 56,
    "start_time": "2022-07-10T10:26:22.416Z"
   },
   {
    "duration": 14,
    "start_time": "2022-07-10T10:26:22.474Z"
   },
   {
    "duration": 4,
    "start_time": "2022-07-10T10:26:22.489Z"
   },
   {
    "duration": 14,
    "start_time": "2022-07-10T10:26:22.495Z"
   },
   {
    "duration": 13,
    "start_time": "2022-07-10T10:26:22.511Z"
   },
   {
    "duration": 42,
    "start_time": "2022-07-10T10:26:22.525Z"
   },
   {
    "duration": 4,
    "start_time": "2022-07-10T10:26:22.569Z"
   },
   {
    "duration": 20,
    "start_time": "2022-07-10T10:26:22.574Z"
   },
   {
    "duration": 15,
    "start_time": "2022-07-10T10:26:22.596Z"
   },
   {
    "duration": 12,
    "start_time": "2022-07-10T10:26:22.612Z"
   },
   {
    "duration": 618,
    "start_time": "2022-07-10T10:26:22.625Z"
   },
   {
    "duration": 20,
    "start_time": "2022-07-10T10:26:23.244Z"
   },
   {
    "duration": 7,
    "start_time": "2022-07-10T10:26:23.267Z"
   },
   {
    "duration": 11,
    "start_time": "2022-07-10T10:26:23.276Z"
   },
   {
    "duration": 6,
    "start_time": "2022-07-10T10:26:23.289Z"
   },
   {
    "duration": 328,
    "start_time": "2022-07-10T10:26:23.296Z"
   },
   {
    "duration": 6,
    "start_time": "2022-07-10T10:26:23.626Z"
   },
   {
    "duration": 36,
    "start_time": "2022-07-10T10:26:23.634Z"
   },
   {
    "duration": 2,
    "start_time": "2022-07-10T10:26:23.672Z"
   },
   {
    "duration": 22,
    "start_time": "2022-07-10T10:26:23.676Z"
   },
   {
    "duration": 12,
    "start_time": "2022-07-10T10:26:23.699Z"
   },
   {
    "duration": 3833,
    "start_time": "2022-07-10T10:26:23.712Z"
   },
   {
    "duration": 18,
    "start_time": "2022-07-10T10:26:43.671Z"
   },
   {
    "duration": 25,
    "start_time": "2022-07-10T10:27:09.344Z"
   },
   {
    "duration": 18,
    "start_time": "2022-07-10T10:27:23.325Z"
   },
   {
    "duration": 25,
    "start_time": "2022-07-10T10:27:31.812Z"
   },
   {
    "duration": 21,
    "start_time": "2022-07-10T10:27:41.297Z"
   },
   {
    "duration": 25,
    "start_time": "2022-07-10T10:28:07.059Z"
   },
   {
    "duration": 38,
    "start_time": "2022-07-10T10:28:09.177Z"
   },
   {
    "duration": 4233,
    "start_time": "2022-07-10T10:31:06.791Z"
   },
   {
    "duration": 26,
    "start_time": "2022-07-10T10:32:03.975Z"
   },
   {
    "duration": 26,
    "start_time": "2022-07-10T10:32:59.057Z"
   },
   {
    "duration": 3483,
    "start_time": "2022-07-10T10:35:15.165Z"
   },
   {
    "duration": 18,
    "start_time": "2022-07-10T10:35:49.152Z"
   },
   {
    "duration": 44,
    "start_time": "2022-07-10T10:40:21.375Z"
   },
   {
    "duration": 170,
    "start_time": "2022-07-10T10:42:25.008Z"
   },
   {
    "duration": 40516,
    "start_time": "2022-07-10T10:42:36.820Z"
   },
   {
    "duration": 970,
    "start_time": "2022-07-10T10:47:03.009Z"
   },
   {
    "duration": 1132,
    "start_time": "2022-07-10T10:47:31.347Z"
   },
   {
    "duration": 57,
    "start_time": "2022-07-10T10:47:32.481Z"
   },
   {
    "duration": 14,
    "start_time": "2022-07-10T10:47:32.540Z"
   },
   {
    "duration": 2,
    "start_time": "2022-07-10T10:47:32.560Z"
   },
   {
    "duration": 17,
    "start_time": "2022-07-10T10:47:32.564Z"
   },
   {
    "duration": 14,
    "start_time": "2022-07-10T10:47:32.582Z"
   },
   {
    "duration": 14,
    "start_time": "2022-07-10T10:47:32.597Z"
   },
   {
    "duration": 5,
    "start_time": "2022-07-10T10:47:32.612Z"
   },
   {
    "duration": 17,
    "start_time": "2022-07-10T10:47:32.618Z"
   },
   {
    "duration": 23,
    "start_time": "2022-07-10T10:47:32.638Z"
   },
   {
    "duration": 10,
    "start_time": "2022-07-10T10:47:32.663Z"
   },
   {
    "duration": 462,
    "start_time": "2022-07-10T10:47:32.675Z"
   },
   {
    "duration": 15,
    "start_time": "2022-07-10T10:47:33.139Z"
   },
   {
    "duration": 7,
    "start_time": "2022-07-10T10:47:33.161Z"
   },
   {
    "duration": 12,
    "start_time": "2022-07-10T10:47:33.169Z"
   },
   {
    "duration": 6,
    "start_time": "2022-07-10T10:47:33.182Z"
   },
   {
    "duration": 291,
    "start_time": "2022-07-10T10:47:33.190Z"
   },
   {
    "duration": 7,
    "start_time": "2022-07-10T10:47:33.483Z"
   },
   {
    "duration": 20,
    "start_time": "2022-07-10T10:47:33.491Z"
   },
   {
    "duration": 982,
    "start_time": "2022-07-10T10:47:33.512Z"
   },
   {
    "duration": 888,
    "start_time": "2022-07-10T10:47:49.105Z"
   },
   {
    "duration": 837,
    "start_time": "2022-07-10T10:50:01.874Z"
   },
   {
    "duration": 1041,
    "start_time": "2022-07-10T10:50:12.504Z"
   },
   {
    "duration": 863,
    "start_time": "2022-07-10T10:52:08.852Z"
   },
   {
    "duration": 1228,
    "start_time": "2022-07-10T10:52:45.260Z"
   },
   {
    "duration": 74,
    "start_time": "2022-07-10T10:52:46.492Z"
   },
   {
    "duration": 17,
    "start_time": "2022-07-10T10:52:46.568Z"
   },
   {
    "duration": 3,
    "start_time": "2022-07-10T10:52:46.586Z"
   },
   {
    "duration": 19,
    "start_time": "2022-07-10T10:52:46.591Z"
   },
   {
    "duration": 17,
    "start_time": "2022-07-10T10:52:46.612Z"
   },
   {
    "duration": 37,
    "start_time": "2022-07-10T10:52:46.630Z"
   },
   {
    "duration": 4,
    "start_time": "2022-07-10T10:52:46.669Z"
   },
   {
    "duration": 11,
    "start_time": "2022-07-10T10:52:46.674Z"
   },
   {
    "duration": 10,
    "start_time": "2022-07-10T10:52:46.687Z"
   },
   {
    "duration": 12,
    "start_time": "2022-07-10T10:52:46.700Z"
   },
   {
    "duration": 524,
    "start_time": "2022-07-10T10:52:46.714Z"
   },
   {
    "duration": 24,
    "start_time": "2022-07-10T10:52:47.240Z"
   },
   {
    "duration": 8,
    "start_time": "2022-07-10T10:52:47.267Z"
   },
   {
    "duration": 13,
    "start_time": "2022-07-10T10:52:47.277Z"
   },
   {
    "duration": 7,
    "start_time": "2022-07-10T10:52:47.292Z"
   },
   {
    "duration": 297,
    "start_time": "2022-07-10T10:52:47.300Z"
   },
   {
    "duration": 8,
    "start_time": "2022-07-10T10:52:47.598Z"
   },
   {
    "duration": 19,
    "start_time": "2022-07-10T10:52:47.608Z"
   },
   {
    "duration": 789,
    "start_time": "2022-07-10T10:52:47.629Z"
   },
   {
    "duration": 702,
    "start_time": "2022-07-10T10:55:03.754Z"
   },
   {
    "duration": 769,
    "start_time": "2022-07-10T10:55:28.152Z"
   },
   {
    "duration": 900,
    "start_time": "2022-07-10T10:55:37.573Z"
   },
   {
    "duration": 795,
    "start_time": "2022-07-10T10:55:53.700Z"
   },
   {
    "duration": 699,
    "start_time": "2022-07-10T10:56:02.984Z"
   },
   {
    "duration": 5,
    "start_time": "2022-07-10T10:56:45.545Z"
   },
   {
    "duration": 66,
    "start_time": "2022-07-10T10:56:45.552Z"
   },
   {
    "duration": 1037,
    "start_time": "2022-07-10T10:56:45.620Z"
   },
   {
    "duration": 0,
    "start_time": "2022-07-10T10:56:46.659Z"
   },
   {
    "duration": 0,
    "start_time": "2022-07-10T10:56:46.660Z"
   },
   {
    "duration": 0,
    "start_time": "2022-07-10T10:56:46.662Z"
   },
   {
    "duration": 0,
    "start_time": "2022-07-10T10:56:46.664Z"
   },
   {
    "duration": 0,
    "start_time": "2022-07-10T10:56:46.666Z"
   },
   {
    "duration": 0,
    "start_time": "2022-07-10T10:56:46.668Z"
   },
   {
    "duration": 0,
    "start_time": "2022-07-10T10:56:46.669Z"
   },
   {
    "duration": 0,
    "start_time": "2022-07-10T10:56:46.670Z"
   },
   {
    "duration": 0,
    "start_time": "2022-07-10T10:56:46.672Z"
   },
   {
    "duration": 0,
    "start_time": "2022-07-10T10:56:46.673Z"
   },
   {
    "duration": 0,
    "start_time": "2022-07-10T10:56:46.674Z"
   },
   {
    "duration": 1,
    "start_time": "2022-07-10T10:56:46.675Z"
   },
   {
    "duration": 0,
    "start_time": "2022-07-10T10:56:46.677Z"
   },
   {
    "duration": 0,
    "start_time": "2022-07-10T10:56:46.678Z"
   },
   {
    "duration": 0,
    "start_time": "2022-07-10T10:56:46.679Z"
   },
   {
    "duration": 0,
    "start_time": "2022-07-10T10:56:46.680Z"
   },
   {
    "duration": 0,
    "start_time": "2022-07-10T10:56:46.682Z"
   },
   {
    "duration": 0,
    "start_time": "2022-07-10T10:56:46.683Z"
   },
   {
    "duration": 1019,
    "start_time": "2022-07-10T10:57:20.621Z"
   },
   {
    "duration": 4,
    "start_time": "2022-07-10T10:57:23.570Z"
   },
   {
    "duration": 57,
    "start_time": "2022-07-10T10:57:23.576Z"
   },
   {
    "duration": 12,
    "start_time": "2022-07-10T10:57:23.635Z"
   },
   {
    "duration": 4,
    "start_time": "2022-07-10T10:57:23.648Z"
   },
   {
    "duration": 15,
    "start_time": "2022-07-10T10:57:23.654Z"
   },
   {
    "duration": 15,
    "start_time": "2022-07-10T10:57:23.671Z"
   },
   {
    "duration": 20,
    "start_time": "2022-07-10T10:57:23.688Z"
   },
   {
    "duration": 5,
    "start_time": "2022-07-10T10:57:23.709Z"
   },
   {
    "duration": 1305,
    "start_time": "2022-07-10T10:57:23.716Z"
   },
   {
    "duration": 6,
    "start_time": "2022-07-10T10:57:25.024Z"
   },
   {
    "duration": 14,
    "start_time": "2022-07-10T10:57:25.031Z"
   },
   {
    "duration": 19,
    "start_time": "2022-07-10T10:57:25.047Z"
   },
   {
    "duration": 479,
    "start_time": "2022-07-10T10:57:25.068Z"
   },
   {
    "duration": 17,
    "start_time": "2022-07-10T10:57:25.549Z"
   },
   {
    "duration": 7,
    "start_time": "2022-07-10T10:57:25.568Z"
   },
   {
    "duration": 9,
    "start_time": "2022-07-10T10:57:25.577Z"
   },
   {
    "duration": 6,
    "start_time": "2022-07-10T10:57:25.588Z"
   },
   {
    "duration": 343,
    "start_time": "2022-07-10T10:57:25.596Z"
   },
   {
    "duration": 7,
    "start_time": "2022-07-10T10:57:25.940Z"
   },
   {
    "duration": 27,
    "start_time": "2022-07-10T10:57:25.949Z"
   },
   {
    "duration": 825,
    "start_time": "2022-07-10T10:57:25.977Z"
   },
   {
    "duration": 1160,
    "start_time": "2022-07-10T10:58:17.847Z"
   },
   {
    "duration": 1209,
    "start_time": "2022-07-10T10:59:06.260Z"
   },
   {
    "duration": 2107,
    "start_time": "2022-07-10T11:03:38.049Z"
   },
   {
    "duration": 2244,
    "start_time": "2022-07-10T11:04:14.666Z"
   },
   {
    "duration": 1148,
    "start_time": "2022-07-10T11:05:11.565Z"
   },
   {
    "duration": 16,
    "start_time": "2022-07-10T11:06:16.561Z"
   },
   {
    "duration": 24,
    "start_time": "2022-07-10T11:06:19.154Z"
   },
   {
    "duration": 25,
    "start_time": "2022-07-10T11:06:26.702Z"
   },
   {
    "duration": 19,
    "start_time": "2022-07-10T11:06:46.466Z"
   },
   {
    "duration": 15,
    "start_time": "2022-07-10T11:07:01.159Z"
   },
   {
    "duration": 16,
    "start_time": "2022-07-10T11:07:08.767Z"
   },
   {
    "duration": 14,
    "start_time": "2022-07-10T11:07:11.947Z"
   },
   {
    "duration": 12,
    "start_time": "2022-07-10T11:07:14.423Z"
   },
   {
    "duration": 18,
    "start_time": "2022-07-10T11:07:20.679Z"
   },
   {
    "duration": 5,
    "start_time": "2022-07-10T11:07:29.435Z"
   },
   {
    "duration": 65,
    "start_time": "2022-07-10T11:07:29.443Z"
   },
   {
    "duration": 21,
    "start_time": "2022-07-10T11:07:29.510Z"
   },
   {
    "duration": 4,
    "start_time": "2022-07-10T11:07:29.533Z"
   },
   {
    "duration": 26,
    "start_time": "2022-07-10T11:07:29.539Z"
   },
   {
    "duration": 15,
    "start_time": "2022-07-10T11:07:29.567Z"
   },
   {
    "duration": 18,
    "start_time": "2022-07-10T11:07:29.585Z"
   },
   {
    "duration": 6,
    "start_time": "2022-07-10T11:07:29.605Z"
   },
   {
    "duration": 16,
    "start_time": "2022-07-10T11:07:29.613Z"
   },
   {
    "duration": 33,
    "start_time": "2022-07-10T11:07:29.632Z"
   },
   {
    "duration": 23,
    "start_time": "2022-07-10T11:07:29.667Z"
   },
   {
    "duration": 545,
    "start_time": "2022-07-10T11:07:29.692Z"
   },
   {
    "duration": 23,
    "start_time": "2022-07-10T11:07:30.239Z"
   },
   {
    "duration": 23,
    "start_time": "2022-07-10T11:07:30.265Z"
   },
   {
    "duration": 47,
    "start_time": "2022-07-10T11:07:30.290Z"
   },
   {
    "duration": 8,
    "start_time": "2022-07-10T11:07:30.339Z"
   },
   {
    "duration": 401,
    "start_time": "2022-07-10T11:07:30.349Z"
   },
   {
    "duration": 14,
    "start_time": "2022-07-10T11:07:30.752Z"
   },
   {
    "duration": 45,
    "start_time": "2022-07-10T11:07:30.768Z"
   },
   {
    "duration": 28,
    "start_time": "2022-07-10T11:07:30.815Z"
   },
   {
    "duration": 1255,
    "start_time": "2022-07-10T11:07:30.847Z"
   },
   {
    "duration": 5,
    "start_time": "2022-07-10T12:11:07.272Z"
   },
   {
    "duration": 54,
    "start_time": "2022-07-10T12:11:07.279Z"
   },
   {
    "duration": 15,
    "start_time": "2022-07-10T12:11:07.334Z"
   },
   {
    "duration": 12,
    "start_time": "2022-07-10T12:11:07.351Z"
   },
   {
    "duration": 16,
    "start_time": "2022-07-10T12:11:07.365Z"
   },
   {
    "duration": 14,
    "start_time": "2022-07-10T12:11:07.383Z"
   },
   {
    "duration": 16,
    "start_time": "2022-07-10T12:11:07.399Z"
   },
   {
    "duration": 4,
    "start_time": "2022-07-10T12:11:07.417Z"
   },
   {
    "duration": 13,
    "start_time": "2022-07-10T12:11:07.423Z"
   },
   {
    "duration": 27,
    "start_time": "2022-07-10T12:11:07.437Z"
   },
   {
    "duration": 12,
    "start_time": "2022-07-10T12:11:07.466Z"
   },
   {
    "duration": 484,
    "start_time": "2022-07-10T12:11:07.479Z"
   },
   {
    "duration": 15,
    "start_time": "2022-07-10T12:11:07.965Z"
   },
   {
    "duration": 7,
    "start_time": "2022-07-10T12:11:07.983Z"
   },
   {
    "duration": 18,
    "start_time": "2022-07-10T12:11:07.991Z"
   },
   {
    "duration": 7,
    "start_time": "2022-07-10T12:11:08.010Z"
   },
   {
    "duration": 333,
    "start_time": "2022-07-10T12:11:08.019Z"
   },
   {
    "duration": 8,
    "start_time": "2022-07-10T12:11:08.354Z"
   },
   {
    "duration": 15,
    "start_time": "2022-07-10T12:11:08.363Z"
   },
   {
    "duration": 17,
    "start_time": "2022-07-10T12:11:08.380Z"
   },
   {
    "duration": 1000,
    "start_time": "2022-07-10T12:11:08.399Z"
   },
   {
    "duration": 9,
    "start_time": "2022-07-10T12:11:39.473Z"
   },
   {
    "duration": 16,
    "start_time": "2022-07-10T12:11:54.195Z"
   },
   {
    "duration": 5,
    "start_time": "2022-07-10T12:12:58.759Z"
   },
   {
    "duration": 366,
    "start_time": "2022-07-10T12:13:48.634Z"
   },
   {
    "duration": 704,
    "start_time": "2022-07-10T12:14:32.760Z"
   },
   {
    "duration": 62,
    "start_time": "2022-07-10T12:16:09.418Z"
   },
   {
    "duration": 132,
    "start_time": "2022-07-10T12:17:03.085Z"
   },
   {
    "duration": 57,
    "start_time": "2022-07-10T12:18:18.173Z"
   },
   {
    "duration": 19,
    "start_time": "2022-07-10T12:19:32.423Z"
   },
   {
    "duration": 65,
    "start_time": "2022-07-10T12:19:41.054Z"
   },
   {
    "duration": 18,
    "start_time": "2022-07-10T12:19:59.500Z"
   },
   {
    "duration": 19,
    "start_time": "2022-07-10T12:20:09.908Z"
   },
   {
    "duration": 70,
    "start_time": "2022-07-10T12:20:10.908Z"
   },
   {
    "duration": 35,
    "start_time": "2022-07-10T12:20:41.159Z"
   },
   {
    "duration": 1924,
    "start_time": "2022-07-10T12:21:14.035Z"
   },
   {
    "duration": 71,
    "start_time": "2022-07-10T12:23:07.692Z"
   },
   {
    "duration": 79,
    "start_time": "2022-07-10T12:23:15.880Z"
   },
   {
    "duration": 69,
    "start_time": "2022-07-10T12:23:22.270Z"
   },
   {
    "duration": 75,
    "start_time": "2022-07-10T12:23:37.174Z"
   },
   {
    "duration": 69,
    "start_time": "2022-07-10T12:23:52.093Z"
   },
   {
    "duration": 70,
    "start_time": "2022-07-10T12:23:54.916Z"
   },
   {
    "duration": 79,
    "start_time": "2022-07-10T12:23:57.799Z"
   },
   {
    "duration": 93,
    "start_time": "2022-07-10T12:24:02.761Z"
   },
   {
    "duration": 4,
    "start_time": "2022-07-10T12:25:38.757Z"
   },
   {
    "duration": 19,
    "start_time": "2022-07-10T12:28:27.473Z"
   },
   {
    "duration": 71,
    "start_time": "2022-07-10T12:28:28.073Z"
   },
   {
    "duration": 28,
    "start_time": "2022-07-10T12:29:14.333Z"
   },
   {
    "duration": 72,
    "start_time": "2022-07-10T12:29:15.456Z"
   },
   {
    "duration": 6,
    "start_time": "2022-07-10T12:29:48.473Z"
   },
   {
    "duration": 19,
    "start_time": "2022-07-10T12:30:40.568Z"
   },
   {
    "duration": 74,
    "start_time": "2022-07-10T12:30:41.225Z"
   },
   {
    "duration": 12,
    "start_time": "2022-07-10T12:35:32.363Z"
   },
   {
    "duration": 19,
    "start_time": "2022-07-10T12:40:08.725Z"
   },
   {
    "duration": 72,
    "start_time": "2022-07-10T12:40:09.309Z"
   },
   {
    "duration": 56,
    "start_time": "2022-07-10T12:59:37.265Z"
   },
   {
    "duration": 74,
    "start_time": "2022-07-10T13:02:19.085Z"
   },
   {
    "duration": 282,
    "start_time": "2022-07-10T13:03:14.357Z"
   },
   {
    "duration": 69,
    "start_time": "2022-07-10T13:08:44.488Z"
   },
   {
    "duration": 62,
    "start_time": "2022-07-10T13:12:11.289Z"
   },
   {
    "duration": 123,
    "start_time": "2022-07-10T13:13:29.704Z"
   },
   {
    "duration": 50,
    "start_time": "2022-07-10T13:14:01.256Z"
   },
   {
    "duration": 18,
    "start_time": "2022-07-10T13:14:11.994Z"
   },
   {
    "duration": 17,
    "start_time": "2022-07-10T13:14:18.916Z"
   },
   {
    "duration": 75,
    "start_time": "2022-07-10T13:14:21.566Z"
   },
   {
    "duration": 59,
    "start_time": "2022-07-10T13:14:25.350Z"
   },
   {
    "duration": 9,
    "start_time": "2022-07-10T13:23:42.355Z"
   },
   {
    "duration": 8,
    "start_time": "2022-07-10T13:24:01.746Z"
   },
   {
    "duration": 12,
    "start_time": "2022-07-10T13:24:12.565Z"
   },
   {
    "duration": 12,
    "start_time": "2022-07-10T13:24:59.226Z"
   },
   {
    "duration": 14,
    "start_time": "2022-07-10T13:25:25.280Z"
   },
   {
    "duration": 15,
    "start_time": "2022-07-10T13:25:32.896Z"
   },
   {
    "duration": 43,
    "start_time": "2022-07-10T13:30:56.443Z"
   },
   {
    "duration": 51,
    "start_time": "2022-07-10T13:31:16.822Z"
   },
   {
    "duration": 11,
    "start_time": "2022-07-10T13:31:21.587Z"
   },
   {
    "duration": 60,
    "start_time": "2022-07-10T13:34:48.401Z"
   },
   {
    "duration": 65,
    "start_time": "2022-07-10T13:35:09.839Z"
   },
   {
    "duration": 32,
    "start_time": "2022-07-10T13:45:48.014Z"
   },
   {
    "duration": 9,
    "start_time": "2022-07-10T13:46:07.077Z"
   },
   {
    "duration": 75,
    "start_time": "2022-07-10T13:47:41.709Z"
   },
   {
    "duration": 107,
    "start_time": "2022-07-10T13:48:09.961Z"
   },
   {
    "duration": 59,
    "start_time": "2022-07-10T13:49:41.055Z"
   },
   {
    "duration": 66,
    "start_time": "2022-07-10T13:51:09.922Z"
   },
   {
    "duration": 1060,
    "start_time": "2022-07-10T13:56:42.407Z"
   },
   {
    "duration": 53,
    "start_time": "2022-07-10T13:56:43.469Z"
   },
   {
    "duration": 15,
    "start_time": "2022-07-10T13:56:43.524Z"
   },
   {
    "duration": 6,
    "start_time": "2022-07-10T13:56:43.541Z"
   },
   {
    "duration": 20,
    "start_time": "2022-07-10T13:56:43.548Z"
   },
   {
    "duration": 117,
    "start_time": "2022-07-10T13:56:43.569Z"
   },
   {
    "duration": 0,
    "start_time": "2022-07-10T13:56:43.688Z"
   },
   {
    "duration": 0,
    "start_time": "2022-07-10T13:56:43.689Z"
   },
   {
    "duration": 0,
    "start_time": "2022-07-10T13:56:43.690Z"
   },
   {
    "duration": 0,
    "start_time": "2022-07-10T13:56:43.692Z"
   },
   {
    "duration": 0,
    "start_time": "2022-07-10T13:56:43.693Z"
   },
   {
    "duration": 0,
    "start_time": "2022-07-10T13:56:43.693Z"
   },
   {
    "duration": 0,
    "start_time": "2022-07-10T13:56:43.695Z"
   },
   {
    "duration": 0,
    "start_time": "2022-07-10T13:56:43.696Z"
   },
   {
    "duration": 0,
    "start_time": "2022-07-10T13:56:43.696Z"
   },
   {
    "duration": 0,
    "start_time": "2022-07-10T13:56:43.697Z"
   },
   {
    "duration": 0,
    "start_time": "2022-07-10T13:56:43.698Z"
   },
   {
    "duration": 0,
    "start_time": "2022-07-10T13:56:43.699Z"
   },
   {
    "duration": 0,
    "start_time": "2022-07-10T13:56:43.700Z"
   },
   {
    "duration": 0,
    "start_time": "2022-07-10T13:56:43.701Z"
   },
   {
    "duration": 0,
    "start_time": "2022-07-10T13:56:43.703Z"
   },
   {
    "duration": 0,
    "start_time": "2022-07-10T13:56:43.703Z"
   },
   {
    "duration": 0,
    "start_time": "2022-07-10T13:56:43.704Z"
   },
   {
    "duration": 0,
    "start_time": "2022-07-10T13:56:43.705Z"
   },
   {
    "duration": 0,
    "start_time": "2022-07-10T13:56:43.706Z"
   },
   {
    "duration": 8,
    "start_time": "2022-07-10T13:56:54.301Z"
   },
   {
    "duration": 13,
    "start_time": "2022-07-10T13:56:54.311Z"
   },
   {
    "duration": 4,
    "start_time": "2022-07-10T13:56:54.325Z"
   },
   {
    "duration": 10,
    "start_time": "2022-07-10T13:56:54.331Z"
   },
   {
    "duration": 6,
    "start_time": "2022-07-10T13:56:54.343Z"
   },
   {
    "duration": 12,
    "start_time": "2022-07-10T13:56:54.351Z"
   },
   {
    "duration": 530,
    "start_time": "2022-07-10T13:56:54.365Z"
   },
   {
    "duration": 15,
    "start_time": "2022-07-10T13:56:54.897Z"
   },
   {
    "duration": 6,
    "start_time": "2022-07-10T13:56:54.914Z"
   },
   {
    "duration": 14,
    "start_time": "2022-07-10T13:56:54.921Z"
   },
   {
    "duration": 6,
    "start_time": "2022-07-10T13:56:54.936Z"
   },
   {
    "duration": 283,
    "start_time": "2022-07-10T13:56:54.944Z"
   },
   {
    "duration": 9,
    "start_time": "2022-07-10T13:56:55.228Z"
   },
   {
    "duration": 11,
    "start_time": "2022-07-10T13:56:55.239Z"
   },
   {
    "duration": 16,
    "start_time": "2022-07-10T13:56:55.261Z"
   },
   {
    "duration": 0,
    "start_time": "2022-07-10T13:56:55.278Z"
   },
   {
    "duration": 0,
    "start_time": "2022-07-10T13:56:55.280Z"
   },
   {
    "duration": 0,
    "start_time": "2022-07-10T13:56:55.281Z"
   },
   {
    "duration": 0,
    "start_time": "2022-07-10T13:56:55.282Z"
   },
   {
    "duration": 0,
    "start_time": "2022-07-10T13:56:55.283Z"
   },
   {
    "duration": 11,
    "start_time": "2022-07-10T13:57:21.667Z"
   },
   {
    "duration": 675,
    "start_time": "2022-07-10T13:57:27.250Z"
   },
   {
    "duration": 588,
    "start_time": "2022-07-10T13:57:38.076Z"
   },
   {
    "duration": 521,
    "start_time": "2022-07-10T13:57:53.891Z"
   },
   {
    "duration": 81,
    "start_time": "2022-07-10T13:59:16.956Z"
   },
   {
    "duration": 1081,
    "start_time": "2022-07-10T13:59:22.297Z"
   },
   {
    "duration": 53,
    "start_time": "2022-07-10T13:59:23.380Z"
   },
   {
    "duration": 15,
    "start_time": "2022-07-10T13:59:23.434Z"
   },
   {
    "duration": 15,
    "start_time": "2022-07-10T13:59:23.450Z"
   },
   {
    "duration": 28,
    "start_time": "2022-07-10T13:59:23.468Z"
   },
   {
    "duration": 18,
    "start_time": "2022-07-10T13:59:23.497Z"
   },
   {
    "duration": 18,
    "start_time": "2022-07-10T13:59:23.516Z"
   },
   {
    "duration": 13,
    "start_time": "2022-07-10T13:59:23.536Z"
   },
   {
    "duration": 22,
    "start_time": "2022-07-10T13:59:23.550Z"
   },
   {
    "duration": 15,
    "start_time": "2022-07-10T13:59:23.574Z"
   },
   {
    "duration": 23,
    "start_time": "2022-07-10T13:59:23.590Z"
   },
   {
    "duration": 512,
    "start_time": "2022-07-10T13:59:23.615Z"
   },
   {
    "duration": 14,
    "start_time": "2022-07-10T13:59:24.129Z"
   },
   {
    "duration": 17,
    "start_time": "2022-07-10T13:59:24.146Z"
   },
   {
    "duration": 9,
    "start_time": "2022-07-10T13:59:24.165Z"
   },
   {
    "duration": 6,
    "start_time": "2022-07-10T13:59:24.175Z"
   },
   {
    "duration": 280,
    "start_time": "2022-07-10T13:59:24.182Z"
   },
   {
    "duration": 7,
    "start_time": "2022-07-10T13:59:24.463Z"
   },
   {
    "duration": 11,
    "start_time": "2022-07-10T13:59:24.472Z"
   },
   {
    "duration": 674,
    "start_time": "2022-07-10T13:59:24.485Z"
   },
   {
    "duration": 440,
    "start_time": "2022-07-10T13:59:25.161Z"
   },
   {
    "duration": 221,
    "start_time": "2022-07-10T13:59:25.603Z"
   },
   {
    "duration": 0,
    "start_time": "2022-07-10T13:59:25.825Z"
   },
   {
    "duration": 0,
    "start_time": "2022-07-10T13:59:25.827Z"
   },
   {
    "duration": 16,
    "start_time": "2022-07-10T13:59:47.563Z"
   },
   {
    "duration": 12,
    "start_time": "2022-07-10T14:00:00.362Z"
   },
   {
    "duration": 60,
    "start_time": "2022-07-10T14:00:10.075Z"
   },
   {
    "duration": 196,
    "start_time": "2022-07-10T14:01:07.558Z"
   },
   {
    "duration": 408,
    "start_time": "2022-07-10T14:01:13.386Z"
   },
   {
    "duration": 316,
    "start_time": "2022-07-10T14:01:39.141Z"
   },
   {
    "duration": 357,
    "start_time": "2022-07-10T14:01:52.640Z"
   },
   {
    "duration": 58,
    "start_time": "2022-07-10T14:02:01.991Z"
   },
   {
    "duration": 49,
    "start_time": "2022-07-10T14:02:05.764Z"
   },
   {
    "duration": 358,
    "start_time": "2022-07-10T14:02:12.339Z"
   },
   {
    "duration": 397,
    "start_time": "2022-07-10T14:02:15.461Z"
   },
   {
    "duration": 441,
    "start_time": "2022-07-10T14:02:18.012Z"
   },
   {
    "duration": 111,
    "start_time": "2022-07-10T14:05:16.742Z"
   },
   {
    "duration": 59,
    "start_time": "2022-07-10T14:05:40.688Z"
   },
   {
    "duration": 70,
    "start_time": "2022-07-10T14:05:58.760Z"
   },
   {
    "duration": 67,
    "start_time": "2022-07-10T14:06:13.392Z"
   },
   {
    "duration": 68,
    "start_time": "2022-07-10T14:06:26.224Z"
   },
   {
    "duration": 16,
    "start_time": "2022-07-10T14:06:41.275Z"
   },
   {
    "duration": 38,
    "start_time": "2022-07-10T14:06:50.677Z"
   },
   {
    "duration": 8,
    "start_time": "2022-07-10T14:07:00.509Z"
   },
   {
    "duration": 7,
    "start_time": "2022-07-10T14:07:03.600Z"
   },
   {
    "duration": 67,
    "start_time": "2022-07-10T14:08:58.761Z"
   },
   {
    "duration": 59,
    "start_time": "2022-07-10T14:09:17.367Z"
   },
   {
    "duration": 57,
    "start_time": "2022-07-10T14:09:29.595Z"
   },
   {
    "duration": 53,
    "start_time": "2022-07-10T14:09:38.243Z"
   },
   {
    "duration": 61,
    "start_time": "2022-07-10T14:09:50.808Z"
   },
   {
    "duration": 25,
    "start_time": "2022-07-10T14:18:38.907Z"
   },
   {
    "duration": 3554,
    "start_time": "2022-07-10T14:19:09.993Z"
   },
   {
    "duration": 3365,
    "start_time": "2022-07-10T14:19:20.502Z"
   },
   {
    "duration": 4167,
    "start_time": "2022-07-10T14:19:54.914Z"
   },
   {
    "duration": 169,
    "start_time": "2022-07-10T14:20:31.144Z"
   },
   {
    "duration": 4124,
    "start_time": "2022-07-10T14:20:34.874Z"
   },
   {
    "duration": 169,
    "start_time": "2022-07-10T14:20:50.100Z"
   },
   {
    "duration": 1189,
    "start_time": "2022-07-10T14:22:57.926Z"
   },
   {
    "duration": 292,
    "start_time": "2022-07-10T14:23:03.515Z"
   },
   {
    "duration": 309,
    "start_time": "2022-07-10T14:23:23.735Z"
   },
   {
    "duration": 379,
    "start_time": "2022-07-10T14:23:30.679Z"
   },
   {
    "duration": 358,
    "start_time": "2022-07-10T14:23:34.444Z"
   },
   {
    "duration": 327,
    "start_time": "2022-07-10T14:23:43.003Z"
   },
   {
    "duration": 9,
    "start_time": "2022-07-10T14:23:56.595Z"
   },
   {
    "duration": 1393,
    "start_time": "2022-07-11T07:14:56.764Z"
   },
   {
    "duration": 84,
    "start_time": "2022-07-11T07:14:58.159Z"
   },
   {
    "duration": 18,
    "start_time": "2022-07-11T07:14:58.245Z"
   },
   {
    "duration": 4,
    "start_time": "2022-07-11T07:14:58.264Z"
   },
   {
    "duration": 18,
    "start_time": "2022-07-11T07:14:58.270Z"
   },
   {
    "duration": 11,
    "start_time": "2022-07-11T07:14:58.290Z"
   },
   {
    "duration": 14,
    "start_time": "2022-07-11T07:14:58.325Z"
   },
   {
    "duration": 5,
    "start_time": "2022-07-11T07:14:58.341Z"
   },
   {
    "duration": 8,
    "start_time": "2022-07-11T07:14:58.347Z"
   },
   {
    "duration": 19,
    "start_time": "2022-07-11T07:14:58.357Z"
   },
   {
    "duration": 12,
    "start_time": "2022-07-11T07:14:58.378Z"
   },
   {
    "duration": 588,
    "start_time": "2022-07-11T07:14:58.392Z"
   },
   {
    "duration": 21,
    "start_time": "2022-07-11T07:14:58.982Z"
   },
   {
    "duration": 24,
    "start_time": "2022-07-11T07:14:59.006Z"
   },
   {
    "duration": 26,
    "start_time": "2022-07-11T07:14:59.032Z"
   },
   {
    "duration": 10,
    "start_time": "2022-07-11T07:14:59.060Z"
   },
   {
    "duration": 337,
    "start_time": "2022-07-11T07:14:59.073Z"
   },
   {
    "duration": 12,
    "start_time": "2022-07-11T07:14:59.412Z"
   },
   {
    "duration": 15,
    "start_time": "2022-07-11T07:14:59.426Z"
   },
   {
    "duration": 594,
    "start_time": "2022-07-11T07:14:59.442Z"
   },
   {
    "duration": 109,
    "start_time": "2022-07-11T07:15:00.038Z"
   },
   {
    "duration": 102,
    "start_time": "2022-07-11T07:15:00.149Z"
   },
   {
    "duration": 55,
    "start_time": "2022-07-11T07:15:00.253Z"
   },
   {
    "duration": 0,
    "start_time": "2022-07-11T07:15:00.309Z"
   },
   {
    "duration": 0,
    "start_time": "2022-07-11T07:15:00.311Z"
   },
   {
    "duration": 0,
    "start_time": "2022-07-11T07:15:00.312Z"
   },
   {
    "duration": 25,
    "start_time": "2022-07-11T07:15:44.450Z"
   },
   {
    "duration": 405,
    "start_time": "2022-07-11T07:15:44.645Z"
   },
   {
    "duration": 10,
    "start_time": "2022-07-11T07:15:45.052Z"
   },
   {
    "duration": 22,
    "start_time": "2022-07-11T07:16:46.446Z"
   },
   {
    "duration": 155,
    "start_time": "2022-07-11T07:17:48.282Z"
   },
   {
    "duration": 13,
    "start_time": "2022-07-11T07:17:53.007Z"
   },
   {
    "duration": 336,
    "start_time": "2022-07-11T07:18:38.469Z"
   },
   {
    "duration": 1180,
    "start_time": "2022-07-11T07:18:45.926Z"
   },
   {
    "duration": 56,
    "start_time": "2022-07-11T07:18:47.108Z"
   },
   {
    "duration": 17,
    "start_time": "2022-07-11T07:18:47.166Z"
   },
   {
    "duration": 4,
    "start_time": "2022-07-11T07:18:47.185Z"
   },
   {
    "duration": 36,
    "start_time": "2022-07-11T07:18:47.192Z"
   },
   {
    "duration": 11,
    "start_time": "2022-07-11T07:18:47.230Z"
   },
   {
    "duration": 14,
    "start_time": "2022-07-11T07:18:47.243Z"
   },
   {
    "duration": 5,
    "start_time": "2022-07-11T07:18:47.258Z"
   },
   {
    "duration": 33,
    "start_time": "2022-07-11T07:18:47.265Z"
   },
   {
    "duration": 9,
    "start_time": "2022-07-11T07:18:47.300Z"
   },
   {
    "duration": 25,
    "start_time": "2022-07-11T07:18:47.311Z"
   },
   {
    "duration": 589,
    "start_time": "2022-07-11T07:18:47.339Z"
   },
   {
    "duration": 18,
    "start_time": "2022-07-11T07:18:47.930Z"
   },
   {
    "duration": 8,
    "start_time": "2022-07-11T07:18:47.952Z"
   },
   {
    "duration": 12,
    "start_time": "2022-07-11T07:18:47.962Z"
   },
   {
    "duration": 7,
    "start_time": "2022-07-11T07:18:47.977Z"
   },
   {
    "duration": 332,
    "start_time": "2022-07-11T07:18:47.986Z"
   },
   {
    "duration": 7,
    "start_time": "2022-07-11T07:18:48.323Z"
   },
   {
    "duration": 15,
    "start_time": "2022-07-11T07:18:48.331Z"
   },
   {
    "duration": 559,
    "start_time": "2022-07-11T07:18:48.348Z"
   },
   {
    "duration": 147,
    "start_time": "2022-07-11T07:18:48.908Z"
   },
   {
    "duration": 117,
    "start_time": "2022-07-11T07:18:49.058Z"
   },
   {
    "duration": 413,
    "start_time": "2022-07-11T07:18:49.177Z"
   },
   {
    "duration": 13,
    "start_time": "2022-07-11T07:18:49.591Z"
   },
   {
    "duration": 325,
    "start_time": "2022-07-11T07:19:24.465Z"
   },
   {
    "duration": 451,
    "start_time": "2022-07-11T07:19:36.681Z"
   },
   {
    "duration": 417,
    "start_time": "2022-07-11T07:19:59.552Z"
   },
   {
    "duration": 1137,
    "start_time": "2022-07-11T07:20:03.935Z"
   },
   {
    "duration": 55,
    "start_time": "2022-07-11T07:20:05.074Z"
   },
   {
    "duration": 16,
    "start_time": "2022-07-11T07:20:05.131Z"
   },
   {
    "duration": 4,
    "start_time": "2022-07-11T07:20:05.149Z"
   },
   {
    "duration": 20,
    "start_time": "2022-07-11T07:20:05.155Z"
   },
   {
    "duration": 16,
    "start_time": "2022-07-11T07:20:05.176Z"
   },
   {
    "duration": 34,
    "start_time": "2022-07-11T07:20:05.194Z"
   },
   {
    "duration": 5,
    "start_time": "2022-07-11T07:20:05.230Z"
   },
   {
    "duration": 10,
    "start_time": "2022-07-11T07:20:05.237Z"
   },
   {
    "duration": 7,
    "start_time": "2022-07-11T07:20:05.251Z"
   },
   {
    "duration": 13,
    "start_time": "2022-07-11T07:20:05.260Z"
   },
   {
    "duration": 598,
    "start_time": "2022-07-11T07:20:05.275Z"
   },
   {
    "duration": 17,
    "start_time": "2022-07-11T07:20:05.875Z"
   },
   {
    "duration": 9,
    "start_time": "2022-07-11T07:20:05.894Z"
   },
   {
    "duration": 26,
    "start_time": "2022-07-11T07:20:05.905Z"
   },
   {
    "duration": 7,
    "start_time": "2022-07-11T07:20:05.933Z"
   },
   {
    "duration": 340,
    "start_time": "2022-07-11T07:20:05.942Z"
   },
   {
    "duration": 8,
    "start_time": "2022-07-11T07:20:06.283Z"
   },
   {
    "duration": 13,
    "start_time": "2022-07-11T07:20:06.293Z"
   },
   {
    "duration": 580,
    "start_time": "2022-07-11T07:20:06.322Z"
   },
   {
    "duration": 138,
    "start_time": "2022-07-11T07:20:06.905Z"
   },
   {
    "duration": 114,
    "start_time": "2022-07-11T07:20:07.045Z"
   },
   {
    "duration": 429,
    "start_time": "2022-07-11T07:20:07.160Z"
   },
   {
    "duration": 10,
    "start_time": "2022-07-11T07:20:07.592Z"
   },
   {
    "duration": 332,
    "start_time": "2022-07-11T07:20:21.702Z"
   },
   {
    "duration": 1273,
    "start_time": "2022-07-11T07:20:32.315Z"
   },
   {
    "duration": 60,
    "start_time": "2022-07-11T07:20:33.590Z"
   },
   {
    "duration": 18,
    "start_time": "2022-07-11T07:20:33.652Z"
   },
   {
    "duration": 29,
    "start_time": "2022-07-11T07:20:33.673Z"
   },
   {
    "duration": 32,
    "start_time": "2022-07-11T07:20:33.704Z"
   },
   {
    "duration": 16,
    "start_time": "2022-07-11T07:20:33.739Z"
   },
   {
    "duration": 37,
    "start_time": "2022-07-11T07:20:33.757Z"
   },
   {
    "duration": 21,
    "start_time": "2022-07-11T07:20:33.796Z"
   },
   {
    "duration": 20,
    "start_time": "2022-07-11T07:20:33.819Z"
   },
   {
    "duration": 23,
    "start_time": "2022-07-11T07:20:33.842Z"
   },
   {
    "duration": 32,
    "start_time": "2022-07-11T07:20:33.867Z"
   },
   {
    "duration": 702,
    "start_time": "2022-07-11T07:20:33.901Z"
   },
   {
    "duration": 24,
    "start_time": "2022-07-11T07:20:34.605Z"
   },
   {
    "duration": 17,
    "start_time": "2022-07-11T07:20:34.631Z"
   },
   {
    "duration": 24,
    "start_time": "2022-07-11T07:20:34.649Z"
   },
   {
    "duration": 29,
    "start_time": "2022-07-11T07:20:34.675Z"
   },
   {
    "duration": 368,
    "start_time": "2022-07-11T07:20:34.706Z"
   },
   {
    "duration": 8,
    "start_time": "2022-07-11T07:20:35.077Z"
   },
   {
    "duration": 24,
    "start_time": "2022-07-11T07:20:35.087Z"
   },
   {
    "duration": 599,
    "start_time": "2022-07-11T07:20:35.113Z"
   },
   {
    "duration": 115,
    "start_time": "2022-07-11T07:20:35.714Z"
   },
   {
    "duration": 96,
    "start_time": "2022-07-11T07:20:35.831Z"
   },
   {
    "duration": 430,
    "start_time": "2022-07-11T07:20:35.929Z"
   },
   {
    "duration": 14,
    "start_time": "2022-07-11T07:20:36.362Z"
   },
   {
    "duration": 336,
    "start_time": "2022-07-11T07:21:23.511Z"
   },
   {
    "duration": 184,
    "start_time": "2022-07-11T07:44:53.935Z"
   },
   {
    "duration": 19,
    "start_time": "2022-07-11T07:45:02.216Z"
   },
   {
    "duration": 60,
    "start_time": "2022-07-11T07:45:33.683Z"
   },
   {
    "duration": 146,
    "start_time": "2022-07-11T07:46:39.364Z"
   },
   {
    "duration": 410,
    "start_time": "2022-07-11T08:13:02.870Z"
   },
   {
    "duration": 6,
    "start_time": "2022-07-11T08:24:37.810Z"
   },
   {
    "duration": 13,
    "start_time": "2022-07-11T08:24:41.687Z"
   },
   {
    "duration": 12,
    "start_time": "2022-07-11T08:24:51.421Z"
   },
   {
    "duration": 9,
    "start_time": "2022-07-11T08:25:01.584Z"
   },
   {
    "duration": 14,
    "start_time": "2022-07-11T08:25:49.307Z"
   },
   {
    "duration": 27,
    "start_time": "2022-07-11T08:26:28.606Z"
   },
   {
    "duration": 13,
    "start_time": "2022-07-11T08:26:35.438Z"
   },
   {
    "duration": 13,
    "start_time": "2022-07-11T08:26:49.575Z"
   },
   {
    "duration": 72,
    "start_time": "2022-07-11T08:30:37.996Z"
   },
   {
    "duration": 74,
    "start_time": "2022-07-11T08:30:38.070Z"
   },
   {
    "duration": 414,
    "start_time": "2022-07-11T08:30:38.146Z"
   },
   {
    "duration": 10,
    "start_time": "2022-07-11T08:30:38.563Z"
   },
   {
    "duration": 24,
    "start_time": "2022-07-11T08:30:38.575Z"
   },
   {
    "duration": 233,
    "start_time": "2022-07-11T08:30:38.602Z"
   },
   {
    "duration": 36,
    "start_time": "2022-07-11T08:34:18.053Z"
   },
   {
    "duration": 472,
    "start_time": "2022-07-11T08:34:26.601Z"
   },
   {
    "duration": 14,
    "start_time": "2022-07-11T08:35:33.011Z"
   },
   {
    "duration": 218,
    "start_time": "2022-07-11T08:35:37.860Z"
   },
   {
    "duration": 201,
    "start_time": "2022-07-11T08:35:47.824Z"
   },
   {
    "duration": 1208,
    "start_time": "2022-07-11T08:36:30.737Z"
   },
   {
    "duration": 15,
    "start_time": "2022-07-11T08:36:40.471Z"
   },
   {
    "duration": 174,
    "start_time": "2022-07-11T08:36:46.646Z"
   },
   {
    "duration": 283,
    "start_time": "2022-07-11T08:36:57.283Z"
   },
   {
    "duration": 326,
    "start_time": "2022-07-11T08:41:17.522Z"
   },
   {
    "duration": 11,
    "start_time": "2022-07-11T08:41:36.310Z"
   },
   {
    "duration": 13,
    "start_time": "2022-07-11T08:41:38.353Z"
   },
   {
    "duration": 10,
    "start_time": "2022-07-11T08:47:47.406Z"
   },
   {
    "duration": 259,
    "start_time": "2022-07-11T08:47:48.057Z"
   },
   {
    "duration": 9,
    "start_time": "2022-07-11T08:47:48.685Z"
   },
   {
    "duration": 10,
    "start_time": "2022-07-11T08:55:59.013Z"
   },
   {
    "duration": 385,
    "start_time": "2022-07-11T08:55:59.921Z"
   },
   {
    "duration": 17,
    "start_time": "2022-07-11T08:56:00.308Z"
   },
   {
    "duration": 10,
    "start_time": "2022-07-11T08:56:06.223Z"
   },
   {
    "duration": 9,
    "start_time": "2022-07-11T08:56:07.989Z"
   },
   {
    "duration": 259,
    "start_time": "2022-07-11T09:00:39.573Z"
   },
   {
    "duration": 1247,
    "start_time": "2022-07-19T18:10:11.936Z"
   },
   {
    "duration": 104,
    "start_time": "2022-07-19T18:10:13.185Z"
   },
   {
    "duration": 18,
    "start_time": "2022-07-19T18:10:13.291Z"
   },
   {
    "duration": 4,
    "start_time": "2022-07-19T18:10:13.311Z"
   },
   {
    "duration": 17,
    "start_time": "2022-07-19T18:10:13.318Z"
   },
   {
    "duration": 11,
    "start_time": "2022-07-19T18:10:13.337Z"
   },
   {
    "duration": 16,
    "start_time": "2022-07-19T18:10:13.349Z"
   },
   {
    "duration": 4,
    "start_time": "2022-07-19T18:10:13.367Z"
   },
   {
    "duration": 34,
    "start_time": "2022-07-19T18:10:13.372Z"
   },
   {
    "duration": 7,
    "start_time": "2022-07-19T18:10:13.407Z"
   },
   {
    "duration": 15,
    "start_time": "2022-07-19T18:10:13.416Z"
   },
   {
    "duration": 575,
    "start_time": "2022-07-19T18:10:13.433Z"
   },
   {
    "duration": 16,
    "start_time": "2022-07-19T18:10:14.010Z"
   },
   {
    "duration": 9,
    "start_time": "2022-07-19T18:10:14.029Z"
   },
   {
    "duration": 15,
    "start_time": "2022-07-19T18:10:14.040Z"
   },
   {
    "duration": 7,
    "start_time": "2022-07-19T18:10:14.057Z"
   },
   {
    "duration": 307,
    "start_time": "2022-07-19T18:10:14.065Z"
   },
   {
    "duration": 7,
    "start_time": "2022-07-19T18:10:14.375Z"
   },
   {
    "duration": 14,
    "start_time": "2022-07-19T18:10:14.384Z"
   },
   {
    "duration": 551,
    "start_time": "2022-07-19T18:10:14.400Z"
   },
   {
    "duration": 77,
    "start_time": "2022-07-19T18:10:14.952Z"
   },
   {
    "duration": 105,
    "start_time": "2022-07-19T18:10:15.030Z"
   },
   {
    "duration": 439,
    "start_time": "2022-07-19T18:10:15.137Z"
   },
   {
    "duration": 9,
    "start_time": "2022-07-19T18:10:15.578Z"
   },
   {
    "duration": 13,
    "start_time": "2022-07-19T18:10:15.600Z"
   },
   {
    "duration": 261,
    "start_time": "2022-07-19T18:10:15.615Z"
   },
   {
    "duration": 8,
    "start_time": "2022-07-19T18:10:15.878Z"
   },
   {
    "duration": 24,
    "start_time": "2022-07-19T18:13:39.909Z"
   },
   {
    "duration": 21,
    "start_time": "2022-07-19T18:14:10.678Z"
   },
   {
    "duration": 21,
    "start_time": "2022-07-19T18:17:58.311Z"
   },
   {
    "duration": 23,
    "start_time": "2022-07-19T18:18:05.668Z"
   },
   {
    "duration": 17,
    "start_time": "2022-07-19T18:18:52.052Z"
   },
   {
    "duration": 21,
    "start_time": "2022-07-19T18:34:00.822Z"
   },
   {
    "duration": 8,
    "start_time": "2022-07-19T18:36:56.670Z"
   },
   {
    "duration": 8,
    "start_time": "2022-07-19T18:37:11.346Z"
   },
   {
    "duration": 11,
    "start_time": "2022-07-19T18:37:44.532Z"
   },
   {
    "duration": 7,
    "start_time": "2022-07-19T18:39:33.660Z"
   },
   {
    "duration": 162,
    "start_time": "2022-07-19T18:39:56.407Z"
   },
   {
    "duration": 12,
    "start_time": "2022-07-19T18:40:25.709Z"
   },
   {
    "duration": 12,
    "start_time": "2022-07-19T18:40:31.268Z"
   },
   {
    "duration": 28,
    "start_time": "2022-07-19T18:40:57.274Z"
   },
   {
    "duration": 22,
    "start_time": "2022-07-19T18:41:19.094Z"
   },
   {
    "duration": 19,
    "start_time": "2022-07-19T18:41:25.694Z"
   },
   {
    "duration": 15,
    "start_time": "2022-07-19T19:12:06.401Z"
   },
   {
    "duration": 15,
    "start_time": "2022-07-19T19:13:03.963Z"
   },
   {
    "duration": 20,
    "start_time": "2022-07-19T19:28:59.233Z"
   },
   {
    "duration": 13,
    "start_time": "2022-07-19T19:29:52.127Z"
   },
   {
    "duration": 9,
    "start_time": "2022-07-19T19:29:56.499Z"
   },
   {
    "duration": 13,
    "start_time": "2022-07-19T19:30:13.625Z"
   },
   {
    "duration": 11,
    "start_time": "2022-07-19T19:31:38.587Z"
   },
   {
    "duration": 10,
    "start_time": "2022-07-19T19:31:56.756Z"
   },
   {
    "duration": 11,
    "start_time": "2022-07-19T19:32:20.738Z"
   },
   {
    "duration": 14,
    "start_time": "2022-07-19T19:32:34.700Z"
   },
   {
    "duration": 8,
    "start_time": "2022-07-19T19:34:27.111Z"
   },
   {
    "duration": 8,
    "start_time": "2022-07-19T19:34:32.342Z"
   },
   {
    "duration": 6,
    "start_time": "2022-07-19T19:35:01.266Z"
   },
   {
    "duration": 10,
    "start_time": "2022-07-19T19:35:02.157Z"
   },
   {
    "duration": 9,
    "start_time": "2022-07-19T19:35:23.413Z"
   },
   {
    "duration": 8,
    "start_time": "2022-07-19T19:35:39.561Z"
   },
   {
    "duration": 1518,
    "start_time": "2022-07-20T12:11:56.421Z"
   },
   {
    "duration": 152,
    "start_time": "2022-07-20T12:11:57.941Z"
   },
   {
    "duration": 15,
    "start_time": "2022-07-20T12:11:58.095Z"
   },
   {
    "duration": 5,
    "start_time": "2022-07-20T12:11:58.112Z"
   },
   {
    "duration": 22,
    "start_time": "2022-07-20T12:11:58.119Z"
   },
   {
    "duration": 13,
    "start_time": "2022-07-20T12:11:58.143Z"
   },
   {
    "duration": 42,
    "start_time": "2022-07-20T12:11:58.160Z"
   },
   {
    "duration": 5,
    "start_time": "2022-07-20T12:11:58.204Z"
   },
   {
    "duration": 11,
    "start_time": "2022-07-20T12:11:58.211Z"
   },
   {
    "duration": 17,
    "start_time": "2022-07-20T12:11:58.223Z"
   },
   {
    "duration": 19,
    "start_time": "2022-07-20T12:11:58.242Z"
   },
   {
    "duration": 582,
    "start_time": "2022-07-20T12:11:58.268Z"
   },
   {
    "duration": 31,
    "start_time": "2022-07-20T12:11:58.852Z"
   },
   {
    "duration": 20,
    "start_time": "2022-07-20T12:11:58.886Z"
   },
   {
    "duration": 13,
    "start_time": "2022-07-20T12:11:58.908Z"
   },
   {
    "duration": 6,
    "start_time": "2022-07-20T12:11:58.923Z"
   },
   {
    "duration": 304,
    "start_time": "2022-07-20T12:11:58.931Z"
   },
   {
    "duration": 7,
    "start_time": "2022-07-20T12:11:59.237Z"
   },
   {
    "duration": 23,
    "start_time": "2022-07-20T12:11:59.246Z"
   },
   {
    "duration": 659,
    "start_time": "2022-07-20T12:11:59.273Z"
   },
   {
    "duration": 151,
    "start_time": "2022-07-20T12:11:59.933Z"
   },
   {
    "duration": 124,
    "start_time": "2022-07-20T12:12:00.088Z"
   },
   {
    "duration": 429,
    "start_time": "2022-07-20T12:12:00.214Z"
   },
   {
    "duration": 11,
    "start_time": "2022-07-20T12:12:00.644Z"
   },
   {
    "duration": 49,
    "start_time": "2022-07-20T12:12:00.656Z"
   },
   {
    "duration": 283,
    "start_time": "2022-07-20T12:12:00.707Z"
   },
   {
    "duration": 10,
    "start_time": "2022-07-20T12:12:00.992Z"
   },
   {
    "duration": 25,
    "start_time": "2022-07-20T12:12:01.004Z"
   },
   {
    "duration": 41,
    "start_time": "2022-07-20T12:12:01.037Z"
   },
   {
    "duration": 8,
    "start_time": "2022-07-20T12:12:01.087Z"
   },
   {
    "duration": 25,
    "start_time": "2022-07-20T12:12:01.097Z"
   },
   {
    "duration": 21,
    "start_time": "2022-07-20T12:19:44.136Z"
   },
   {
    "duration": 220,
    "start_time": "2022-07-20T12:22:18.337Z"
   },
   {
    "duration": 24,
    "start_time": "2022-07-20T12:22:32.125Z"
   },
   {
    "duration": 36,
    "start_time": "2022-07-20T12:22:39.453Z"
   },
   {
    "duration": 26,
    "start_time": "2022-07-20T12:22:48.295Z"
   },
   {
    "duration": 24,
    "start_time": "2022-07-20T12:23:03.202Z"
   },
   {
    "duration": 16,
    "start_time": "2022-07-20T12:25:00.832Z"
   },
   {
    "duration": 35,
    "start_time": "2022-07-20T12:25:15.351Z"
   },
   {
    "duration": 18,
    "start_time": "2022-07-20T12:25:26.588Z"
   },
   {
    "duration": 13,
    "start_time": "2022-07-20T12:25:32.079Z"
   },
   {
    "duration": 18,
    "start_time": "2022-07-20T12:31:51.103Z"
   },
   {
    "duration": 1303,
    "start_time": "2022-07-20T12:33:20.795Z"
   },
   {
    "duration": 90,
    "start_time": "2022-07-20T12:33:22.102Z"
   },
   {
    "duration": 14,
    "start_time": "2022-07-20T12:33:22.201Z"
   },
   {
    "duration": 3,
    "start_time": "2022-07-20T12:33:22.217Z"
   },
   {
    "duration": 14,
    "start_time": "2022-07-20T12:33:22.222Z"
   },
   {
    "duration": 12,
    "start_time": "2022-07-20T12:33:22.238Z"
   },
   {
    "duration": 15,
    "start_time": "2022-07-20T12:33:22.252Z"
   },
   {
    "duration": 39,
    "start_time": "2022-07-20T12:33:22.268Z"
   },
   {
    "duration": 10,
    "start_time": "2022-07-20T12:33:22.309Z"
   },
   {
    "duration": 6,
    "start_time": "2022-07-20T12:33:22.321Z"
   },
   {
    "duration": 12,
    "start_time": "2022-07-20T12:33:22.329Z"
   },
   {
    "duration": 682,
    "start_time": "2022-07-20T12:33:22.342Z"
   },
   {
    "duration": 16,
    "start_time": "2022-07-20T12:33:23.025Z"
   },
   {
    "duration": 25,
    "start_time": "2022-07-20T12:33:23.044Z"
   },
   {
    "duration": 41,
    "start_time": "2022-07-20T12:33:23.076Z"
   },
   {
    "duration": 13,
    "start_time": "2022-07-20T12:33:23.119Z"
   },
   {
    "duration": 320,
    "start_time": "2022-07-20T12:33:23.134Z"
   },
   {
    "duration": 26,
    "start_time": "2022-07-20T12:33:23.455Z"
   },
   {
    "duration": 33,
    "start_time": "2022-07-20T12:33:23.483Z"
   },
   {
    "duration": 621,
    "start_time": "2022-07-20T12:33:23.518Z"
   },
   {
    "duration": 150,
    "start_time": "2022-07-20T12:33:24.141Z"
   },
   {
    "duration": 100,
    "start_time": "2022-07-20T12:33:24.294Z"
   },
   {
    "duration": 434,
    "start_time": "2022-07-20T12:33:24.396Z"
   },
   {
    "duration": 8,
    "start_time": "2022-07-20T12:33:24.832Z"
   },
   {
    "duration": 10,
    "start_time": "2022-07-20T12:33:24.842Z"
   },
   {
    "duration": 288,
    "start_time": "2022-07-20T12:33:24.853Z"
   },
   {
    "duration": 8,
    "start_time": "2022-07-20T12:33:25.143Z"
   },
   {
    "duration": 52,
    "start_time": "2022-07-20T12:33:25.152Z"
   },
   {
    "duration": 25,
    "start_time": "2022-07-20T12:33:25.206Z"
   },
   {
    "duration": 22,
    "start_time": "2022-07-20T12:33:25.232Z"
   },
   {
    "duration": 55,
    "start_time": "2022-07-20T12:33:25.256Z"
   },
   {
    "duration": 12,
    "start_time": "2022-07-20T12:33:25.313Z"
   },
   {
    "duration": 14,
    "start_time": "2022-07-20T12:33:25.327Z"
   },
   {
    "duration": 10,
    "start_time": "2022-07-20T12:38:33.992Z"
   },
   {
    "duration": 7,
    "start_time": "2022-07-20T12:46:51.860Z"
   },
   {
    "duration": 142,
    "start_time": "2022-07-20T12:46:51.869Z"
   },
   {
    "duration": 21,
    "start_time": "2022-07-20T12:46:52.013Z"
   },
   {
    "duration": 4,
    "start_time": "2022-07-20T12:46:52.037Z"
   },
   {
    "duration": 16,
    "start_time": "2022-07-20T12:46:52.043Z"
   },
   {
    "duration": 38,
    "start_time": "2022-07-20T12:46:52.072Z"
   },
   {
    "duration": 58,
    "start_time": "2022-07-20T12:46:52.112Z"
   },
   {
    "duration": 49,
    "start_time": "2022-07-20T12:46:52.173Z"
   },
   {
    "duration": 12,
    "start_time": "2022-07-20T12:46:52.225Z"
   },
   {
    "duration": 16,
    "start_time": "2022-07-20T12:46:52.239Z"
   },
   {
    "duration": 79,
    "start_time": "2022-07-20T12:46:52.257Z"
   },
   {
    "duration": 873,
    "start_time": "2022-07-20T12:46:52.339Z"
   },
   {
    "duration": 19,
    "start_time": "2022-07-20T12:46:53.214Z"
   },
   {
    "duration": 7,
    "start_time": "2022-07-20T12:46:53.234Z"
   },
   {
    "duration": 22,
    "start_time": "2022-07-20T12:46:53.243Z"
   },
   {
    "duration": 11,
    "start_time": "2022-07-20T12:46:53.267Z"
   },
   {
    "duration": 444,
    "start_time": "2022-07-20T12:46:53.281Z"
   },
   {
    "duration": 8,
    "start_time": "2022-07-20T12:46:53.728Z"
   },
   {
    "duration": 213,
    "start_time": "2022-07-20T12:46:53.738Z"
   },
   {
    "duration": 132,
    "start_time": "2022-07-20T12:46:53.953Z"
   },
   {
    "duration": 111,
    "start_time": "2022-07-20T12:46:54.087Z"
   },
   {
    "duration": 110,
    "start_time": "2022-07-20T12:46:54.200Z"
   },
   {
    "duration": 551,
    "start_time": "2022-07-20T12:46:54.311Z"
   },
   {
    "duration": 23,
    "start_time": "2022-07-20T12:46:54.874Z"
   },
   {
    "duration": 32,
    "start_time": "2022-07-20T12:46:54.899Z"
   },
   {
    "duration": 316,
    "start_time": "2022-07-20T12:46:54.933Z"
   },
   {
    "duration": 18,
    "start_time": "2022-07-20T12:46:55.251Z"
   },
   {
    "duration": 59,
    "start_time": "2022-07-20T12:46:55.272Z"
   },
   {
    "duration": 15,
    "start_time": "2022-07-20T12:46:55.333Z"
   },
   {
    "duration": 9,
    "start_time": "2022-07-20T12:46:55.350Z"
   },
   {
    "duration": 95,
    "start_time": "2022-07-20T12:46:55.360Z"
   },
   {
    "duration": 51,
    "start_time": "2022-07-20T12:46:55.457Z"
   },
   {
    "duration": 17,
    "start_time": "2022-07-20T12:46:55.511Z"
   },
   {
    "duration": 12,
    "start_time": "2022-07-20T12:46:55.530Z"
   },
   {
    "duration": 9,
    "start_time": "2022-07-20T12:50:40.929Z"
   },
   {
    "duration": 1280,
    "start_time": "2022-07-20T13:03:29.441Z"
   },
   {
    "duration": 175,
    "start_time": "2022-07-20T13:03:30.723Z"
   },
   {
    "duration": 18,
    "start_time": "2022-07-20T13:03:30.900Z"
   },
   {
    "duration": 29,
    "start_time": "2022-07-20T13:03:30.921Z"
   },
   {
    "duration": 63,
    "start_time": "2022-07-20T13:03:30.952Z"
   },
   {
    "duration": 38,
    "start_time": "2022-07-20T13:03:31.017Z"
   },
   {
    "duration": 56,
    "start_time": "2022-07-20T13:03:31.057Z"
   },
   {
    "duration": 4,
    "start_time": "2022-07-20T13:03:31.115Z"
   },
   {
    "duration": 35,
    "start_time": "2022-07-20T13:03:31.121Z"
   },
   {
    "duration": 48,
    "start_time": "2022-07-20T13:03:31.159Z"
   },
   {
    "duration": 40,
    "start_time": "2022-07-20T13:03:31.210Z"
   },
   {
    "duration": 669,
    "start_time": "2022-07-20T13:03:31.253Z"
   },
   {
    "duration": 24,
    "start_time": "2022-07-20T13:03:31.925Z"
   },
   {
    "duration": 41,
    "start_time": "2022-07-20T13:03:31.965Z"
   },
   {
    "duration": 16,
    "start_time": "2022-07-20T13:03:32.007Z"
   },
   {
    "duration": 6,
    "start_time": "2022-07-20T13:03:32.025Z"
   },
   {
    "duration": 400,
    "start_time": "2022-07-20T13:03:32.032Z"
   },
   {
    "duration": 8,
    "start_time": "2022-07-20T13:03:32.434Z"
   },
   {
    "duration": 23,
    "start_time": "2022-07-20T13:03:32.445Z"
   },
   {
    "duration": 689,
    "start_time": "2022-07-20T13:03:32.470Z"
   },
   {
    "duration": 154,
    "start_time": "2022-07-20T13:03:33.160Z"
   },
   {
    "duration": 132,
    "start_time": "2022-07-20T13:03:33.316Z"
   },
   {
    "duration": 520,
    "start_time": "2022-07-20T13:03:33.450Z"
   },
   {
    "duration": 23,
    "start_time": "2022-07-20T13:03:33.972Z"
   },
   {
    "duration": 20,
    "start_time": "2022-07-20T13:03:33.999Z"
   },
   {
    "duration": 336,
    "start_time": "2022-07-20T13:03:34.022Z"
   },
   {
    "duration": 20,
    "start_time": "2022-07-20T13:03:34.369Z"
   },
   {
    "duration": 17,
    "start_time": "2022-07-20T13:03:34.393Z"
   },
   {
    "duration": 28,
    "start_time": "2022-07-20T13:03:34.412Z"
   },
   {
    "duration": 22,
    "start_time": "2022-07-20T13:03:34.442Z"
   },
   {
    "duration": 46,
    "start_time": "2022-07-20T13:03:34.466Z"
   },
   {
    "duration": 25,
    "start_time": "2022-07-20T13:03:34.514Z"
   },
   {
    "duration": 66,
    "start_time": "2022-07-20T13:03:34.542Z"
   },
   {
    "duration": 23,
    "start_time": "2022-07-20T13:03:34.611Z"
   },
   {
    "duration": 31,
    "start_time": "2022-07-20T13:03:34.636Z"
   },
   {
    "duration": 1263,
    "start_time": "2022-07-20T13:05:41.494Z"
   },
   {
    "duration": 79,
    "start_time": "2022-07-20T13:05:42.759Z"
   },
   {
    "duration": 24,
    "start_time": "2022-07-20T13:05:42.840Z"
   },
   {
    "duration": 27,
    "start_time": "2022-07-20T13:05:42.868Z"
   },
   {
    "duration": 18,
    "start_time": "2022-07-20T13:05:42.898Z"
   },
   {
    "duration": 13,
    "start_time": "2022-07-20T13:05:42.917Z"
   },
   {
    "duration": 16,
    "start_time": "2022-07-20T13:05:42.932Z"
   },
   {
    "duration": 6,
    "start_time": "2022-07-20T13:05:42.950Z"
   },
   {
    "duration": 36,
    "start_time": "2022-07-20T13:05:42.957Z"
   },
   {
    "duration": 18,
    "start_time": "2022-07-20T13:05:42.996Z"
   },
   {
    "duration": 21,
    "start_time": "2022-07-20T13:05:43.016Z"
   },
   {
    "duration": 674,
    "start_time": "2022-07-20T13:05:43.040Z"
   },
   {
    "duration": 19,
    "start_time": "2022-07-20T13:05:43.716Z"
   },
   {
    "duration": 27,
    "start_time": "2022-07-20T13:05:43.740Z"
   },
   {
    "duration": 35,
    "start_time": "2022-07-20T13:05:43.771Z"
   },
   {
    "duration": 13,
    "start_time": "2022-07-20T13:05:43.807Z"
   },
   {
    "duration": 334,
    "start_time": "2022-07-20T13:05:43.822Z"
   },
   {
    "duration": 15,
    "start_time": "2022-07-20T13:05:44.158Z"
   },
   {
    "duration": 37,
    "start_time": "2022-07-20T13:05:44.175Z"
   },
   {
    "duration": 641,
    "start_time": "2022-07-20T13:05:44.214Z"
   },
   {
    "duration": 165,
    "start_time": "2022-07-20T13:05:44.857Z"
   },
   {
    "duration": 115,
    "start_time": "2022-07-20T13:05:45.024Z"
   },
   {
    "duration": 437,
    "start_time": "2022-07-20T13:05:45.141Z"
   },
   {
    "duration": 15,
    "start_time": "2022-07-20T13:05:45.580Z"
   },
   {
    "duration": 19,
    "start_time": "2022-07-20T13:05:45.597Z"
   },
   {
    "duration": 299,
    "start_time": "2022-07-20T13:05:45.617Z"
   },
   {
    "duration": 10,
    "start_time": "2022-07-20T13:05:45.919Z"
   },
   {
    "duration": 35,
    "start_time": "2022-07-20T13:05:45.930Z"
   },
   {
    "duration": 49,
    "start_time": "2022-07-20T13:05:45.967Z"
   },
   {
    "duration": 19,
    "start_time": "2022-07-20T13:05:46.018Z"
   },
   {
    "duration": 9,
    "start_time": "2022-07-20T13:05:46.039Z"
   },
   {
    "duration": 24,
    "start_time": "2022-07-20T13:05:46.050Z"
   },
   {
    "duration": 58,
    "start_time": "2022-07-20T13:05:46.077Z"
   },
   {
    "duration": 23,
    "start_time": "2022-07-20T13:05:46.136Z"
   },
   {
    "duration": 75,
    "start_time": "2022-07-20T13:05:46.162Z"
   },
   {
    "duration": 34,
    "start_time": "2022-07-20T13:21:55.300Z"
   },
   {
    "duration": 87,
    "start_time": "2022-07-20T13:22:00.552Z"
   },
   {
    "duration": 1423,
    "start_time": "2022-07-20T13:22:13.616Z"
   },
   {
    "duration": 109,
    "start_time": "2022-07-20T13:22:15.042Z"
   },
   {
    "duration": 25,
    "start_time": "2022-07-20T13:22:15.154Z"
   },
   {
    "duration": 17,
    "start_time": "2022-07-20T13:22:15.186Z"
   },
   {
    "duration": 24,
    "start_time": "2022-07-20T13:22:15.207Z"
   },
   {
    "duration": 39,
    "start_time": "2022-07-20T13:22:15.233Z"
   },
   {
    "duration": 61,
    "start_time": "2022-07-20T13:22:15.275Z"
   },
   {
    "duration": 6,
    "start_time": "2022-07-20T13:22:15.338Z"
   },
   {
    "duration": 14,
    "start_time": "2022-07-20T13:22:15.347Z"
   },
   {
    "duration": 74,
    "start_time": "2022-07-20T13:22:15.364Z"
   },
   {
    "duration": 34,
    "start_time": "2022-07-20T13:22:15.440Z"
   },
   {
    "duration": 725,
    "start_time": "2022-07-20T13:22:15.482Z"
   },
   {
    "duration": 25,
    "start_time": "2022-07-20T13:22:16.216Z"
   },
   {
    "duration": 90,
    "start_time": "2022-07-20T13:22:16.246Z"
   },
   {
    "duration": 17,
    "start_time": "2022-07-20T13:22:16.338Z"
   },
   {
    "duration": 10,
    "start_time": "2022-07-20T13:22:16.357Z"
   },
   {
    "duration": 495,
    "start_time": "2022-07-20T13:22:16.369Z"
   },
   {
    "duration": 16,
    "start_time": "2022-07-20T13:22:16.866Z"
   },
   {
    "duration": 65,
    "start_time": "2022-07-20T13:22:16.884Z"
   },
   {
    "duration": 861,
    "start_time": "2022-07-20T13:22:16.951Z"
   },
   {
    "duration": 155,
    "start_time": "2022-07-20T13:22:17.814Z"
   },
   {
    "duration": 116,
    "start_time": "2022-07-20T13:22:17.972Z"
   },
   {
    "duration": 620,
    "start_time": "2022-07-20T13:22:18.091Z"
   },
   {
    "duration": 12,
    "start_time": "2022-07-20T13:22:18.713Z"
   },
   {
    "duration": 27,
    "start_time": "2022-07-20T13:22:18.729Z"
   },
   {
    "duration": 440,
    "start_time": "2022-07-20T13:22:18.761Z"
   },
   {
    "duration": 11,
    "start_time": "2022-07-20T13:22:19.204Z"
   },
   {
    "duration": 23,
    "start_time": "2022-07-20T13:22:19.218Z"
   },
   {
    "duration": 44,
    "start_time": "2022-07-20T13:22:19.243Z"
   },
   {
    "duration": 63,
    "start_time": "2022-07-20T13:22:19.289Z"
   },
   {
    "duration": 73,
    "start_time": "2022-07-20T13:22:19.354Z"
   },
   {
    "duration": 14,
    "start_time": "2022-07-20T13:22:19.431Z"
   },
   {
    "duration": 11,
    "start_time": "2022-07-20T13:22:19.448Z"
   },
   {
    "duration": 61,
    "start_time": "2022-07-20T13:22:19.468Z"
   },
   {
    "duration": 22,
    "start_time": "2022-07-20T13:22:19.532Z"
   },
   {
    "duration": 1426,
    "start_time": "2022-07-20T15:30:36.672Z"
   },
   {
    "duration": 122,
    "start_time": "2022-07-20T15:30:38.100Z"
   },
   {
    "duration": 17,
    "start_time": "2022-07-20T15:30:38.225Z"
   },
   {
    "duration": 20,
    "start_time": "2022-07-20T15:30:38.244Z"
   },
   {
    "duration": 26,
    "start_time": "2022-07-20T15:30:38.266Z"
   },
   {
    "duration": 12,
    "start_time": "2022-07-20T15:30:38.294Z"
   },
   {
    "duration": 37,
    "start_time": "2022-07-20T15:30:38.308Z"
   },
   {
    "duration": 18,
    "start_time": "2022-07-20T15:30:38.349Z"
   },
   {
    "duration": 15,
    "start_time": "2022-07-20T15:30:38.368Z"
   },
   {
    "duration": 20,
    "start_time": "2022-07-20T15:30:38.385Z"
   },
   {
    "duration": 22,
    "start_time": "2022-07-20T15:30:38.406Z"
   },
   {
    "duration": 739,
    "start_time": "2022-07-20T15:30:38.434Z"
   },
   {
    "duration": 25,
    "start_time": "2022-07-20T15:30:39.176Z"
   },
   {
    "duration": 67,
    "start_time": "2022-07-20T15:30:39.203Z"
   },
   {
    "duration": 24,
    "start_time": "2022-07-20T15:30:39.273Z"
   },
   {
    "duration": 36,
    "start_time": "2022-07-20T15:30:39.299Z"
   },
   {
    "duration": 372,
    "start_time": "2022-07-20T15:30:39.339Z"
   },
   {
    "duration": 15,
    "start_time": "2022-07-20T15:30:39.713Z"
   },
   {
    "duration": 62,
    "start_time": "2022-07-20T15:30:39.731Z"
   },
   {
    "duration": 659,
    "start_time": "2022-07-20T15:30:39.795Z"
   },
   {
    "duration": 106,
    "start_time": "2022-07-20T15:30:40.456Z"
   },
   {
    "duration": 145,
    "start_time": "2022-07-20T15:30:40.564Z"
   },
   {
    "duration": 431,
    "start_time": "2022-07-20T15:30:40.711Z"
   },
   {
    "duration": 14,
    "start_time": "2022-07-20T15:30:41.147Z"
   },
   {
    "duration": 11,
    "start_time": "2022-07-20T15:30:41.163Z"
   },
   {
    "duration": 305,
    "start_time": "2022-07-20T15:30:41.175Z"
   },
   {
    "duration": 10,
    "start_time": "2022-07-20T15:30:41.481Z"
   },
   {
    "duration": 52,
    "start_time": "2022-07-20T15:30:41.494Z"
   },
   {
    "duration": 29,
    "start_time": "2022-07-20T15:30:41.552Z"
   },
   {
    "duration": 33,
    "start_time": "2022-07-20T15:30:41.583Z"
   },
   {
    "duration": 59,
    "start_time": "2022-07-20T15:30:41.618Z"
   },
   {
    "duration": 22,
    "start_time": "2022-07-20T15:30:41.679Z"
   },
   {
    "duration": 9,
    "start_time": "2022-07-20T15:30:41.703Z"
   },
   {
    "duration": 24,
    "start_time": "2022-07-20T15:30:41.713Z"
   },
   {
    "duration": 26,
    "start_time": "2022-07-20T15:30:41.745Z"
   },
   {
    "duration": 10,
    "start_time": "2022-07-20T15:33:14.158Z"
   },
   {
    "duration": 8,
    "start_time": "2022-07-20T15:43:39.365Z"
   },
   {
    "duration": 1243,
    "start_time": "2022-07-20T15:44:46.315Z"
   },
   {
    "duration": 107,
    "start_time": "2022-07-20T15:44:47.560Z"
   },
   {
    "duration": 17,
    "start_time": "2022-07-20T15:44:47.675Z"
   },
   {
    "duration": 4,
    "start_time": "2022-07-20T15:44:47.694Z"
   },
   {
    "duration": 18,
    "start_time": "2022-07-20T15:44:47.700Z"
   },
   {
    "duration": 24,
    "start_time": "2022-07-20T15:44:47.720Z"
   },
   {
    "duration": 51,
    "start_time": "2022-07-20T15:44:47.747Z"
   },
   {
    "duration": 5,
    "start_time": "2022-07-20T15:44:47.800Z"
   },
   {
    "duration": 7,
    "start_time": "2022-07-20T15:44:47.806Z"
   },
   {
    "duration": 22,
    "start_time": "2022-07-20T15:44:47.814Z"
   },
   {
    "duration": 9,
    "start_time": "2022-07-20T15:44:47.845Z"
   },
   {
    "duration": 32,
    "start_time": "2022-07-20T15:44:47.855Z"
   },
   {
    "duration": 14,
    "start_time": "2022-07-20T15:44:47.889Z"
   },
   {
    "duration": 648,
    "start_time": "2022-07-20T15:44:47.906Z"
   },
   {
    "duration": 46,
    "start_time": "2022-07-20T15:44:48.564Z"
   },
   {
    "duration": 33,
    "start_time": "2022-07-20T15:44:48.613Z"
   },
   {
    "duration": 61,
    "start_time": "2022-07-20T15:44:48.649Z"
   },
   {
    "duration": 19,
    "start_time": "2022-07-20T15:44:48.712Z"
   },
   {
    "duration": 490,
    "start_time": "2022-07-20T15:44:48.740Z"
   },
   {
    "duration": 11,
    "start_time": "2022-07-20T15:44:49.232Z"
   },
   {
    "duration": 69,
    "start_time": "2022-07-20T15:44:49.244Z"
   },
   {
    "duration": 892,
    "start_time": "2022-07-20T15:44:49.315Z"
   },
   {
    "duration": 133,
    "start_time": "2022-07-20T15:44:50.209Z"
   },
   {
    "duration": 148,
    "start_time": "2022-07-20T15:44:50.344Z"
   },
   {
    "duration": 469,
    "start_time": "2022-07-20T15:44:50.494Z"
   },
   {
    "duration": 24,
    "start_time": "2022-07-20T15:44:50.967Z"
   },
   {
    "duration": 13,
    "start_time": "2022-07-20T15:44:50.994Z"
   },
   {
    "duration": 301,
    "start_time": "2022-07-20T15:44:51.009Z"
   },
   {
    "duration": 19,
    "start_time": "2022-07-20T15:44:51.311Z"
   },
   {
    "duration": 62,
    "start_time": "2022-07-20T15:44:51.332Z"
   },
   {
    "duration": 19,
    "start_time": "2022-07-20T15:44:51.396Z"
   },
   {
    "duration": 47,
    "start_time": "2022-07-20T15:44:51.417Z"
   },
   {
    "duration": 22,
    "start_time": "2022-07-20T15:44:51.465Z"
   },
   {
    "duration": 12,
    "start_time": "2022-07-20T15:44:51.489Z"
   },
   {
    "duration": 11,
    "start_time": "2022-07-20T15:44:51.503Z"
   },
   {
    "duration": 70,
    "start_time": "2022-07-20T15:44:51.516Z"
   },
   {
    "duration": 11,
    "start_time": "2022-07-20T15:44:51.588Z"
   },
   {
    "duration": 70,
    "start_time": "2022-07-20T15:55:55.278Z"
   },
   {
    "duration": 1168,
    "start_time": "2022-07-20T15:56:40.098Z"
   },
   {
    "duration": 93,
    "start_time": "2022-07-20T15:56:41.268Z"
   },
   {
    "duration": 18,
    "start_time": "2022-07-20T15:56:41.362Z"
   },
   {
    "duration": 4,
    "start_time": "2022-07-20T15:56:41.383Z"
   },
   {
    "duration": 28,
    "start_time": "2022-07-20T15:56:41.389Z"
   },
   {
    "duration": 48,
    "start_time": "2022-07-20T15:56:41.419Z"
   },
   {
    "duration": 14,
    "start_time": "2022-07-20T15:56:41.469Z"
   },
   {
    "duration": 7,
    "start_time": "2022-07-20T15:56:41.485Z"
   },
   {
    "duration": 8,
    "start_time": "2022-07-20T15:56:41.494Z"
   },
   {
    "duration": 28,
    "start_time": "2022-07-20T15:56:41.505Z"
   },
   {
    "duration": 15,
    "start_time": "2022-07-20T15:56:41.545Z"
   },
   {
    "duration": 12,
    "start_time": "2022-07-20T15:56:41.562Z"
   },
   {
    "duration": 17,
    "start_time": "2022-07-20T15:56:41.577Z"
   },
   {
    "duration": 583,
    "start_time": "2022-07-20T15:56:41.595Z"
   },
   {
    "duration": 16,
    "start_time": "2022-07-20T15:56:42.179Z"
   },
   {
    "duration": 7,
    "start_time": "2022-07-20T15:56:42.197Z"
   },
   {
    "duration": 32,
    "start_time": "2022-07-20T15:56:42.206Z"
   },
   {
    "duration": 71,
    "start_time": "2022-07-20T15:56:42.241Z"
   },
   {
    "duration": 7,
    "start_time": "2022-07-20T15:56:42.314Z"
   },
   {
    "duration": 361,
    "start_time": "2022-07-20T15:56:42.323Z"
   },
   {
    "duration": 8,
    "start_time": "2022-07-20T15:56:42.685Z"
   },
   {
    "duration": 15,
    "start_time": "2022-07-20T15:56:42.695Z"
   },
   {
    "duration": 649,
    "start_time": "2022-07-20T15:56:42.712Z"
   },
   {
    "duration": 121,
    "start_time": "2022-07-20T15:56:43.363Z"
   },
   {
    "duration": 86,
    "start_time": "2022-07-20T15:56:43.523Z"
   },
   {
    "duration": 402,
    "start_time": "2022-07-20T15:56:43.611Z"
   },
   {
    "duration": 22,
    "start_time": "2022-07-20T15:56:44.015Z"
   },
   {
    "duration": 40,
    "start_time": "2022-07-20T15:56:44.046Z"
   },
   {
    "duration": 302,
    "start_time": "2022-07-20T15:56:44.088Z"
   },
   {
    "duration": 13,
    "start_time": "2022-07-20T15:56:44.392Z"
   },
   {
    "duration": 37,
    "start_time": "2022-07-20T15:56:44.408Z"
   },
   {
    "duration": 30,
    "start_time": "2022-07-20T15:56:44.446Z"
   },
   {
    "duration": 23,
    "start_time": "2022-07-20T15:56:44.478Z"
   },
   {
    "duration": 56,
    "start_time": "2022-07-20T15:56:44.503Z"
   },
   {
    "duration": 11,
    "start_time": "2022-07-20T15:56:44.561Z"
   },
   {
    "duration": 14,
    "start_time": "2022-07-20T15:56:44.574Z"
   },
   {
    "duration": 12,
    "start_time": "2022-07-20T15:56:44.590Z"
   },
   {
    "duration": 11,
    "start_time": "2022-07-20T15:56:44.604Z"
   },
   {
    "duration": 1230,
    "start_time": "2022-07-20T15:59:02.354Z"
   },
   {
    "duration": 75,
    "start_time": "2022-07-20T15:59:03.586Z"
   },
   {
    "duration": 16,
    "start_time": "2022-07-20T15:59:03.663Z"
   },
   {
    "duration": 3,
    "start_time": "2022-07-20T15:59:03.681Z"
   },
   {
    "duration": 17,
    "start_time": "2022-07-20T15:59:03.686Z"
   },
   {
    "duration": 32,
    "start_time": "2022-07-20T15:59:03.705Z"
   },
   {
    "duration": 32,
    "start_time": "2022-07-20T15:59:03.739Z"
   },
   {
    "duration": 5,
    "start_time": "2022-07-20T15:59:03.773Z"
   },
   {
    "duration": 7,
    "start_time": "2022-07-20T15:59:03.779Z"
   },
   {
    "duration": 9,
    "start_time": "2022-07-20T15:59:03.787Z"
   },
   {
    "duration": 6,
    "start_time": "2022-07-20T15:59:03.798Z"
   },
   {
    "duration": 37,
    "start_time": "2022-07-20T15:59:03.806Z"
   },
   {
    "duration": 26,
    "start_time": "2022-07-20T15:59:03.851Z"
   },
   {
    "duration": 597,
    "start_time": "2022-07-20T15:59:03.880Z"
   },
   {
    "duration": 18,
    "start_time": "2022-07-20T15:59:04.479Z"
   },
   {
    "duration": 8,
    "start_time": "2022-07-20T15:59:04.499Z"
   },
   {
    "duration": 26,
    "start_time": "2022-07-20T15:59:04.508Z"
   },
   {
    "duration": 66,
    "start_time": "2022-07-20T15:59:04.542Z"
   },
   {
    "duration": 7,
    "start_time": "2022-07-20T15:59:04.610Z"
   },
   {
    "duration": 342,
    "start_time": "2022-07-20T15:59:04.619Z"
   },
   {
    "duration": 8,
    "start_time": "2022-07-20T15:59:04.962Z"
   },
   {
    "duration": 13,
    "start_time": "2022-07-20T15:59:04.972Z"
   },
   {
    "duration": 720,
    "start_time": "2022-07-20T15:59:04.986Z"
   },
   {
    "duration": 130,
    "start_time": "2022-07-20T15:59:05.708Z"
   },
   {
    "duration": 107,
    "start_time": "2022-07-20T15:59:05.841Z"
   },
   {
    "duration": 453,
    "start_time": "2022-07-20T15:59:05.950Z"
   },
   {
    "duration": 27,
    "start_time": "2022-07-20T15:59:06.405Z"
   },
   {
    "duration": 10,
    "start_time": "2022-07-20T15:59:06.441Z"
   },
   {
    "duration": 280,
    "start_time": "2022-07-20T15:59:06.456Z"
   },
   {
    "duration": 18,
    "start_time": "2022-07-20T15:59:06.738Z"
   },
   {
    "duration": 16,
    "start_time": "2022-07-20T15:59:06.758Z"
   },
   {
    "duration": 16,
    "start_time": "2022-07-20T15:59:06.776Z"
   },
   {
    "duration": 8,
    "start_time": "2022-07-20T15:59:06.794Z"
   },
   {
    "duration": 34,
    "start_time": "2022-07-20T15:59:06.804Z"
   },
   {
    "duration": 30,
    "start_time": "2022-07-20T15:59:06.839Z"
   },
   {
    "duration": 11,
    "start_time": "2022-07-20T15:59:06.871Z"
   },
   {
    "duration": 11,
    "start_time": "2022-07-20T15:59:06.884Z"
   },
   {
    "duration": 10,
    "start_time": "2022-07-20T15:59:06.897Z"
   },
   {
    "duration": 11,
    "start_time": "2022-07-20T16:18:23.487Z"
   },
   {
    "duration": 5,
    "start_time": "2022-07-20T16:19:05.052Z"
   },
   {
    "duration": 22,
    "start_time": "2022-07-20T16:20:41.062Z"
   },
   {
    "duration": 7,
    "start_time": "2022-07-20T16:26:56.762Z"
   },
   {
    "duration": 2588,
    "start_time": "2022-07-22T15:54:42.478Z"
   },
   {
    "duration": 447,
    "start_time": "2022-07-22T15:54:45.069Z"
   },
   {
    "duration": 32,
    "start_time": "2022-07-22T15:54:45.518Z"
   },
   {
    "duration": 114,
    "start_time": "2022-07-22T15:54:45.556Z"
   },
   {
    "duration": 150,
    "start_time": "2022-07-22T15:54:45.680Z"
   },
   {
    "duration": 46,
    "start_time": "2022-07-22T15:54:45.840Z"
   },
   {
    "duration": 33,
    "start_time": "2022-07-22T15:54:45.889Z"
   },
   {
    "duration": 56,
    "start_time": "2022-07-22T15:54:45.929Z"
   },
   {
    "duration": 17,
    "start_time": "2022-07-22T15:54:45.987Z"
   },
   {
    "duration": 83,
    "start_time": "2022-07-22T15:54:46.006Z"
   },
   {
    "duration": 30,
    "start_time": "2022-07-22T15:54:46.091Z"
   },
   {
    "duration": 88,
    "start_time": "2022-07-22T15:54:46.124Z"
   },
   {
    "duration": 72,
    "start_time": "2022-07-22T15:54:46.215Z"
   },
   {
    "duration": 1172,
    "start_time": "2022-07-22T15:54:46.291Z"
   },
   {
    "duration": 29,
    "start_time": "2022-07-22T15:54:47.473Z"
   },
   {
    "duration": 95,
    "start_time": "2022-07-22T15:54:47.512Z"
   },
   {
    "duration": 108,
    "start_time": "2022-07-22T15:54:47.609Z"
   },
   {
    "duration": 258,
    "start_time": "2022-07-22T15:54:47.719Z"
   },
   {
    "duration": 11,
    "start_time": "2022-07-22T15:54:47.979Z"
   },
   {
    "duration": 559,
    "start_time": "2022-07-22T15:54:47.992Z"
   },
   {
    "duration": 25,
    "start_time": "2022-07-22T15:54:48.564Z"
   },
   {
    "duration": 60,
    "start_time": "2022-07-22T15:54:48.604Z"
   },
   {
    "duration": 934,
    "start_time": "2022-07-22T15:54:48.678Z"
   },
   {
    "duration": 344,
    "start_time": "2022-07-22T15:54:49.614Z"
   },
   {
    "duration": 800,
    "start_time": "2022-07-22T15:54:49.960Z"
   },
   {
    "duration": 842,
    "start_time": "2022-07-22T15:54:50.789Z"
   },
   {
    "duration": 33,
    "start_time": "2022-07-22T15:54:51.639Z"
   },
   {
    "duration": 257,
    "start_time": "2022-07-22T15:54:51.675Z"
   },
   {
    "duration": 49,
    "start_time": "2022-07-22T15:54:51.935Z"
   },
   {
    "duration": 539,
    "start_time": "2022-07-22T15:54:51.987Z"
   },
   {
    "duration": 63,
    "start_time": "2022-07-22T15:54:52.533Z"
   },
   {
    "duration": 245,
    "start_time": "2022-07-22T15:54:52.602Z"
   },
   {
    "duration": 200,
    "start_time": "2022-07-22T15:54:52.858Z"
   },
   {
    "duration": 118,
    "start_time": "2022-07-22T15:54:53.069Z"
   },
   {
    "duration": 136,
    "start_time": "2022-07-22T15:54:53.192Z"
   },
   {
    "duration": 133,
    "start_time": "2022-07-22T15:54:53.339Z"
   },
   {
    "duration": 75,
    "start_time": "2022-07-22T15:54:53.481Z"
   },
   {
    "duration": 141,
    "start_time": "2022-07-22T15:54:53.569Z"
   },
   {
    "duration": 36,
    "start_time": "2022-07-22T15:54:53.725Z"
   },
   {
    "duration": 11,
    "start_time": "2022-07-22T15:59:02.333Z"
   },
   {
    "duration": 305,
    "start_time": "2022-07-22T15:59:02.347Z"
   },
   {
    "duration": 81,
    "start_time": "2022-07-22T15:59:02.655Z"
   },
   {
    "duration": 210,
    "start_time": "2022-07-22T15:59:02.739Z"
   },
   {
    "duration": 246,
    "start_time": "2022-07-22T15:59:02.957Z"
   },
   {
    "duration": 423,
    "start_time": "2022-07-22T15:59:14.125Z"
   },
   {
    "duration": 25,
    "start_time": "2022-07-22T15:59:23.516Z"
   },
   {
    "duration": 2415,
    "start_time": "2022-07-22T15:59:37.017Z"
   },
   {
    "duration": 190,
    "start_time": "2022-07-22T15:59:39.438Z"
   },
   {
    "duration": 37,
    "start_time": "2022-07-22T15:59:39.631Z"
   },
   {
    "duration": 42,
    "start_time": "2022-07-22T15:59:39.671Z"
   },
   {
    "duration": 73,
    "start_time": "2022-07-22T15:59:39.715Z"
   },
   {
    "duration": 201,
    "start_time": "2022-07-22T15:59:39.791Z"
   },
   {
    "duration": 0,
    "start_time": "2022-07-22T15:59:40.005Z"
   },
   {
    "duration": 0,
    "start_time": "2022-07-22T15:59:40.008Z"
   },
   {
    "duration": 0,
    "start_time": "2022-07-22T15:59:40.010Z"
   },
   {
    "duration": 0,
    "start_time": "2022-07-22T15:59:40.012Z"
   },
   {
    "duration": 0,
    "start_time": "2022-07-22T15:59:40.013Z"
   },
   {
    "duration": 0,
    "start_time": "2022-07-22T15:59:40.015Z"
   },
   {
    "duration": 0,
    "start_time": "2022-07-22T15:59:40.021Z"
   },
   {
    "duration": 0,
    "start_time": "2022-07-22T15:59:40.027Z"
   },
   {
    "duration": 0,
    "start_time": "2022-07-22T15:59:40.029Z"
   },
   {
    "duration": 0,
    "start_time": "2022-07-22T15:59:40.034Z"
   },
   {
    "duration": 0,
    "start_time": "2022-07-22T15:59:40.035Z"
   },
   {
    "duration": 0,
    "start_time": "2022-07-22T15:59:40.037Z"
   },
   {
    "duration": 0,
    "start_time": "2022-07-22T15:59:40.039Z"
   },
   {
    "duration": 0,
    "start_time": "2022-07-22T15:59:40.041Z"
   },
   {
    "duration": 0,
    "start_time": "2022-07-22T15:59:40.043Z"
   },
   {
    "duration": 0,
    "start_time": "2022-07-22T15:59:40.044Z"
   },
   {
    "duration": 0,
    "start_time": "2022-07-22T15:59:40.048Z"
   },
   {
    "duration": 0,
    "start_time": "2022-07-22T15:59:40.050Z"
   },
   {
    "duration": 0,
    "start_time": "2022-07-22T15:59:40.052Z"
   },
   {
    "duration": 0,
    "start_time": "2022-07-22T15:59:40.053Z"
   },
   {
    "duration": 0,
    "start_time": "2022-07-22T15:59:40.055Z"
   },
   {
    "duration": 0,
    "start_time": "2022-07-22T15:59:40.056Z"
   },
   {
    "duration": 0,
    "start_time": "2022-07-22T15:59:40.061Z"
   },
   {
    "duration": 0,
    "start_time": "2022-07-22T15:59:40.065Z"
   },
   {
    "duration": 0,
    "start_time": "2022-07-22T15:59:40.066Z"
   },
   {
    "duration": 0,
    "start_time": "2022-07-22T15:59:40.067Z"
   },
   {
    "duration": 0,
    "start_time": "2022-07-22T15:59:40.073Z"
   },
   {
    "duration": 0,
    "start_time": "2022-07-22T15:59:40.076Z"
   },
   {
    "duration": 0,
    "start_time": "2022-07-22T15:59:40.111Z"
   },
   {
    "duration": 0,
    "start_time": "2022-07-22T15:59:40.115Z"
   },
   {
    "duration": 0,
    "start_time": "2022-07-22T15:59:40.117Z"
   },
   {
    "duration": 0,
    "start_time": "2022-07-22T15:59:40.118Z"
   },
   {
    "duration": 0,
    "start_time": "2022-07-22T15:59:40.124Z"
   },
   {
    "duration": 0,
    "start_time": "2022-07-22T15:59:40.126Z"
   },
   {
    "duration": 41,
    "start_time": "2022-07-22T16:00:03.195Z"
   },
   {
    "duration": 10,
    "start_time": "2022-07-22T16:00:04.847Z"
   },
   {
    "duration": 16,
    "start_time": "2022-07-22T16:11:47.833Z"
   },
   {
    "duration": 249,
    "start_time": "2022-07-22T16:11:48.423Z"
   },
   {
    "duration": 13,
    "start_time": "2022-07-22T16:11:53.239Z"
   },
   {
    "duration": 7,
    "start_time": "2022-07-22T16:11:54.873Z"
   },
   {
    "duration": 23,
    "start_time": "2022-07-22T16:11:55.105Z"
   },
   {
    "duration": 5,
    "start_time": "2022-07-22T16:11:56.076Z"
   },
   {
    "duration": 22,
    "start_time": "2022-07-22T16:11:57.010Z"
   },
   {
    "duration": 162,
    "start_time": "2022-07-22T16:26:05.841Z"
   },
   {
    "duration": 141,
    "start_time": "2022-07-22T16:26:17.760Z"
   },
   {
    "duration": 6,
    "start_time": "2022-07-22T16:26:26.031Z"
   },
   {
    "duration": 9,
    "start_time": "2022-07-22T16:26:33.878Z"
   },
   {
    "duration": 1693,
    "start_time": "2022-07-22T16:26:39.381Z"
   },
   {
    "duration": 91,
    "start_time": "2022-07-22T16:26:41.077Z"
   },
   {
    "duration": 22,
    "start_time": "2022-07-22T16:26:41.173Z"
   },
   {
    "duration": 7,
    "start_time": "2022-07-22T16:26:41.211Z"
   },
   {
    "duration": 64,
    "start_time": "2022-07-22T16:26:41.221Z"
   },
   {
    "duration": 19,
    "start_time": "2022-07-22T16:26:41.287Z"
   },
   {
    "duration": 62,
    "start_time": "2022-07-22T16:26:41.308Z"
   },
   {
    "duration": 27,
    "start_time": "2022-07-22T16:26:41.373Z"
   },
   {
    "duration": 61,
    "start_time": "2022-07-22T16:26:41.402Z"
   },
   {
    "duration": 22,
    "start_time": "2022-07-22T16:26:41.465Z"
   },
   {
    "duration": 19,
    "start_time": "2022-07-22T16:26:41.489Z"
   },
   {
    "duration": 2143,
    "start_time": "2022-07-22T16:26:41.515Z"
   },
   {
    "duration": 79,
    "start_time": "2022-07-22T16:26:43.661Z"
   },
   {
    "duration": 18,
    "start_time": "2022-07-22T16:26:43.744Z"
   },
   {
    "duration": 81,
    "start_time": "2022-07-22T16:26:43.766Z"
   },
   {
    "duration": 310,
    "start_time": "2022-07-22T16:26:43.850Z"
   },
   {
    "duration": 14,
    "start_time": "2022-07-22T16:26:44.162Z"
   },
   {
    "duration": 889,
    "start_time": "2022-07-22T16:26:44.178Z"
   },
   {
    "duration": 11,
    "start_time": "2022-07-22T16:26:45.069Z"
   },
   {
    "duration": 85,
    "start_time": "2022-07-22T16:26:45.082Z"
   },
   {
    "duration": 789,
    "start_time": "2022-07-22T16:26:45.169Z"
   },
   {
    "duration": 276,
    "start_time": "2022-07-22T16:26:45.966Z"
   },
   {
    "duration": 132,
    "start_time": "2022-07-22T16:26:46.244Z"
   },
   {
    "duration": 4282,
    "start_time": "2022-07-22T16:26:46.384Z"
   },
   {
    "duration": 12,
    "start_time": "2022-07-22T16:26:50.668Z"
   },
   {
    "duration": 14,
    "start_time": "2022-07-22T16:26:50.682Z"
   },
   {
    "duration": 22,
    "start_time": "2022-07-22T16:26:50.718Z"
   },
   {
    "duration": 391,
    "start_time": "2022-07-22T16:26:50.742Z"
   },
   {
    "duration": 14,
    "start_time": "2022-07-22T16:26:51.136Z"
   },
   {
    "duration": 35,
    "start_time": "2022-07-22T16:26:51.152Z"
   },
   {
    "duration": 23,
    "start_time": "2022-07-22T16:26:51.189Z"
   },
   {
    "duration": 10,
    "start_time": "2022-07-22T16:26:51.218Z"
   },
   {
    "duration": 32,
    "start_time": "2022-07-22T16:26:51.230Z"
   },
   {
    "duration": 213,
    "start_time": "2022-07-22T16:26:51.264Z"
   },
   {
    "duration": 0,
    "start_time": "2022-07-22T16:26:51.479Z"
   },
   {
    "duration": 0,
    "start_time": "2022-07-22T16:26:51.481Z"
   },
   {
    "duration": 0,
    "start_time": "2022-07-22T16:26:51.482Z"
   },
   {
    "duration": 11,
    "start_time": "2022-07-22T16:26:57.060Z"
   },
   {
    "duration": 4,
    "start_time": "2022-07-22T16:28:53.555Z"
   },
   {
    "duration": 80,
    "start_time": "2022-07-22T16:28:53.562Z"
   },
   {
    "duration": 16,
    "start_time": "2022-07-22T16:28:53.644Z"
   },
   {
    "duration": 7,
    "start_time": "2022-07-22T16:28:53.662Z"
   },
   {
    "duration": 20,
    "start_time": "2022-07-22T16:28:53.671Z"
   },
   {
    "duration": 11,
    "start_time": "2022-07-22T16:28:53.717Z"
   },
   {
    "duration": 12,
    "start_time": "2022-07-22T16:28:53.729Z"
   },
   {
    "duration": 8,
    "start_time": "2022-07-22T16:28:53.743Z"
   },
   {
    "duration": 7,
    "start_time": "2022-07-22T16:28:53.752Z"
   },
   {
    "duration": 13,
    "start_time": "2022-07-22T16:28:53.761Z"
   },
   {
    "duration": 6,
    "start_time": "2022-07-22T16:28:55.686Z"
   },
   {
    "duration": 9,
    "start_time": "2022-07-22T16:29:03.142Z"
   },
   {
    "duration": 6,
    "start_time": "2022-07-22T16:29:07.739Z"
   },
   {
    "duration": 17,
    "start_time": "2022-07-22T16:29:08.910Z"
   },
   {
    "duration": 6,
    "start_time": "2022-07-22T16:30:05.173Z"
   },
   {
    "duration": 8,
    "start_time": "2022-07-22T16:30:05.493Z"
   },
   {
    "duration": 2124,
    "start_time": "2022-07-22T16:30:11.907Z"
   },
   {
    "duration": 187,
    "start_time": "2022-07-22T16:30:14.034Z"
   },
   {
    "duration": 31,
    "start_time": "2022-07-22T16:30:14.224Z"
   },
   {
    "duration": 5,
    "start_time": "2022-07-22T16:30:14.257Z"
   },
   {
    "duration": 99,
    "start_time": "2022-07-22T16:30:14.265Z"
   },
   {
    "duration": 47,
    "start_time": "2022-07-22T16:30:14.367Z"
   },
   {
    "duration": 34,
    "start_time": "2022-07-22T16:30:14.417Z"
   },
   {
    "duration": 11,
    "start_time": "2022-07-22T16:30:14.453Z"
   },
   {
    "duration": 9,
    "start_time": "2022-07-22T16:30:14.466Z"
   },
   {
    "duration": 10,
    "start_time": "2022-07-22T16:30:14.513Z"
   },
   {
    "duration": 24,
    "start_time": "2022-07-22T16:30:14.525Z"
   },
   {
    "duration": 64,
    "start_time": "2022-07-22T16:30:14.551Z"
   },
   {
    "duration": 26,
    "start_time": "2022-07-22T16:30:14.617Z"
   },
   {
    "duration": 72,
    "start_time": "2022-07-22T16:30:14.646Z"
   },
   {
    "duration": 300,
    "start_time": "2022-07-22T16:30:14.727Z"
   },
   {
    "duration": 11,
    "start_time": "2022-07-22T16:30:15.029Z"
   },
   {
    "duration": 847,
    "start_time": "2022-07-22T16:30:15.043Z"
   },
   {
    "duration": 10,
    "start_time": "2022-07-22T16:30:15.892Z"
   },
   {
    "duration": 54,
    "start_time": "2022-07-22T16:30:15.904Z"
   },
   {
    "duration": 682,
    "start_time": "2022-07-22T16:30:15.960Z"
   },
   {
    "duration": 183,
    "start_time": "2022-07-22T16:30:16.644Z"
   },
   {
    "duration": 196,
    "start_time": "2022-07-22T16:30:16.829Z"
   },
   {
    "duration": 3750,
    "start_time": "2022-07-22T16:30:17.037Z"
   },
   {
    "duration": 25,
    "start_time": "2022-07-22T16:30:20.789Z"
   },
   {
    "duration": 37,
    "start_time": "2022-07-22T16:30:20.818Z"
   },
   {
    "duration": 17,
    "start_time": "2022-07-22T16:30:20.857Z"
   },
   {
    "duration": 329,
    "start_time": "2022-07-22T16:30:20.876Z"
   },
   {
    "duration": 15,
    "start_time": "2022-07-22T16:30:21.208Z"
   },
   {
    "duration": 39,
    "start_time": "2022-07-22T16:30:21.225Z"
   },
   {
    "duration": 30,
    "start_time": "2022-07-22T16:30:21.266Z"
   },
   {
    "duration": 17,
    "start_time": "2022-07-22T16:30:21.298Z"
   },
   {
    "duration": 38,
    "start_time": "2022-07-22T16:30:21.320Z"
   },
   {
    "duration": 231,
    "start_time": "2022-07-22T16:30:21.360Z"
   },
   {
    "duration": 0,
    "start_time": "2022-07-22T16:30:21.593Z"
   },
   {
    "duration": 0,
    "start_time": "2022-07-22T16:30:21.595Z"
   },
   {
    "duration": 0,
    "start_time": "2022-07-22T16:30:21.596Z"
   },
   {
    "duration": 13,
    "start_time": "2022-07-22T16:32:30.756Z"
   },
   {
    "duration": 4,
    "start_time": "2022-07-22T16:32:38.652Z"
   },
   {
    "duration": 108,
    "start_time": "2022-07-22T16:32:38.659Z"
   },
   {
    "duration": 25,
    "start_time": "2022-07-22T16:32:38.769Z"
   },
   {
    "duration": 4,
    "start_time": "2022-07-22T16:32:38.797Z"
   },
   {
    "duration": 58,
    "start_time": "2022-07-22T16:32:38.804Z"
   },
   {
    "duration": 27,
    "start_time": "2022-07-22T16:32:38.866Z"
   },
   {
    "duration": 41,
    "start_time": "2022-07-22T16:32:38.897Z"
   },
   {
    "duration": 75,
    "start_time": "2022-07-22T16:32:38.941Z"
   },
   {
    "duration": 57,
    "start_time": "2022-07-22T16:32:39.022Z"
   },
   {
    "duration": 24,
    "start_time": "2022-07-22T16:32:39.084Z"
   },
   {
    "duration": 43,
    "start_time": "2022-07-22T16:32:39.114Z"
   },
   {
    "duration": 20,
    "start_time": "2022-07-22T16:32:39.161Z"
   },
   {
    "duration": 16,
    "start_time": "2022-07-22T16:32:41.302Z"
   },
   {
    "duration": 40,
    "start_time": "2022-07-22T16:32:47.812Z"
   },
   {
    "duration": 901,
    "start_time": "2022-07-22T16:39:21.098Z"
   },
   {
    "duration": 897,
    "start_time": "2022-07-22T16:40:52.126Z"
   },
   {
    "duration": 975,
    "start_time": "2022-07-22T16:41:00.387Z"
   },
   {
    "duration": 1771,
    "start_time": "2022-07-22T16:46:44.972Z"
   },
   {
    "duration": 49,
    "start_time": "2022-07-22T16:46:51.931Z"
   },
   {
    "duration": 21,
    "start_time": "2022-07-22T16:46:55.882Z"
   },
   {
    "duration": 29,
    "start_time": "2022-07-22T16:47:04.108Z"
   },
   {
    "duration": 186,
    "start_time": "2022-07-22T16:49:29.934Z"
   },
   {
    "duration": 20,
    "start_time": "2022-07-22T16:52:59.908Z"
   },
   {
    "duration": 9,
    "start_time": "2022-07-22T16:53:18.760Z"
   },
   {
    "duration": 9,
    "start_time": "2022-07-22T16:55:31.614Z"
   },
   {
    "duration": 11,
    "start_time": "2022-07-22T16:57:16.073Z"
   },
   {
    "duration": 161,
    "start_time": "2022-07-22T17:01:33.509Z"
   },
   {
    "duration": 52,
    "start_time": "2022-07-22T17:02:44.351Z"
   },
   {
    "duration": 29,
    "start_time": "2022-07-22T17:02:56.387Z"
   },
   {
    "duration": 177,
    "start_time": "2022-07-22T17:03:02.206Z"
   },
   {
    "duration": 148,
    "start_time": "2022-07-22T17:04:15.825Z"
   },
   {
    "duration": 256,
    "start_time": "2022-07-22T17:04:38.067Z"
   },
   {
    "duration": 274,
    "start_time": "2022-07-22T17:05:02.178Z"
   },
   {
    "duration": 160,
    "start_time": "2022-07-22T17:08:58.142Z"
   },
   {
    "duration": 165,
    "start_time": "2022-07-22T17:09:04.370Z"
   },
   {
    "duration": 145,
    "start_time": "2022-07-22T17:09:09.538Z"
   },
   {
    "duration": 262,
    "start_time": "2022-07-22T17:09:21.918Z"
   },
   {
    "duration": 163,
    "start_time": "2022-07-22T17:09:24.072Z"
   },
   {
    "duration": 164,
    "start_time": "2022-07-22T17:11:15.316Z"
   },
   {
    "duration": 11,
    "start_time": "2022-07-22T17:35:05.863Z"
   },
   {
    "duration": 11,
    "start_time": "2022-07-22T17:35:26.277Z"
   },
   {
    "duration": 20,
    "start_time": "2022-07-22T19:26:01.080Z"
   },
   {
    "duration": 1495,
    "start_time": "2022-07-22T19:26:11.438Z"
   },
   {
    "duration": 125,
    "start_time": "2022-07-22T19:26:12.935Z"
   },
   {
    "duration": 31,
    "start_time": "2022-07-22T19:26:13.063Z"
   },
   {
    "duration": 74,
    "start_time": "2022-07-22T19:26:13.097Z"
   },
   {
    "duration": 82,
    "start_time": "2022-07-22T19:26:13.174Z"
   },
   {
    "duration": 38,
    "start_time": "2022-07-22T19:26:13.259Z"
   },
   {
    "duration": 84,
    "start_time": "2022-07-22T19:26:13.299Z"
   },
   {
    "duration": 34,
    "start_time": "2022-07-22T19:26:13.386Z"
   },
   {
    "duration": 74,
    "start_time": "2022-07-22T19:26:13.427Z"
   },
   {
    "duration": 77,
    "start_time": "2022-07-22T19:26:13.504Z"
   },
   {
    "duration": 37,
    "start_time": "2022-07-22T19:26:13.588Z"
   },
   {
    "duration": 98,
    "start_time": "2022-07-22T19:26:13.629Z"
   },
   {
    "duration": 144,
    "start_time": "2022-07-22T19:26:13.729Z"
   },
   {
    "duration": 75,
    "start_time": "2022-07-22T19:26:13.877Z"
   },
   {
    "duration": 438,
    "start_time": "2022-07-22T19:26:13.955Z"
   },
   {
    "duration": 13,
    "start_time": "2022-07-22T19:26:14.413Z"
   },
   {
    "duration": 1505,
    "start_time": "2022-07-22T19:26:14.429Z"
   },
   {
    "duration": 17,
    "start_time": "2022-07-22T19:26:15.937Z"
   },
   {
    "duration": 163,
    "start_time": "2022-07-22T19:26:15.957Z"
   },
   {
    "duration": 1731,
    "start_time": "2022-07-22T19:26:16.122Z"
   },
   {
    "duration": 219,
    "start_time": "2022-07-22T19:26:17.855Z"
   },
   {
    "duration": 37,
    "start_time": "2022-07-22T19:26:18.076Z"
   },
   {
    "duration": 341,
    "start_time": "2022-07-22T19:26:18.116Z"
   },
   {
    "duration": 138,
    "start_time": "2022-07-22T19:26:18.466Z"
   },
   {
    "duration": 295,
    "start_time": "2022-07-22T19:26:18.607Z"
   },
   {
    "duration": 0,
    "start_time": "2022-07-22T19:26:18.904Z"
   },
   {
    "duration": 0,
    "start_time": "2022-07-22T19:26:18.905Z"
   },
   {
    "duration": 0,
    "start_time": "2022-07-22T19:26:18.921Z"
   },
   {
    "duration": 0,
    "start_time": "2022-07-22T19:26:18.923Z"
   },
   {
    "duration": 0,
    "start_time": "2022-07-22T19:26:18.926Z"
   },
   {
    "duration": 0,
    "start_time": "2022-07-22T19:26:18.928Z"
   },
   {
    "duration": 0,
    "start_time": "2022-07-22T19:26:18.933Z"
   },
   {
    "duration": 0,
    "start_time": "2022-07-22T19:26:18.934Z"
   },
   {
    "duration": 0,
    "start_time": "2022-07-22T19:26:18.935Z"
   },
   {
    "duration": 0,
    "start_time": "2022-07-22T19:26:18.936Z"
   },
   {
    "duration": 0,
    "start_time": "2022-07-22T19:26:18.945Z"
   },
   {
    "duration": 0,
    "start_time": "2022-07-22T19:26:18.947Z"
   },
   {
    "duration": 0,
    "start_time": "2022-07-22T19:26:18.953Z"
   },
   {
    "duration": 144,
    "start_time": "2022-07-22T19:26:55.762Z"
   },
   {
    "duration": 127,
    "start_time": "2022-07-22T19:28:04.750Z"
   },
   {
    "duration": 136,
    "start_time": "2022-07-22T19:28:06.192Z"
   },
   {
    "duration": 156,
    "start_time": "2022-07-22T19:28:13.977Z"
   },
   {
    "duration": 22,
    "start_time": "2022-07-22T19:28:19.875Z"
   },
   {
    "duration": 4602,
    "start_time": "2022-07-22T19:28:25.781Z"
   },
   {
    "duration": 510,
    "start_time": "2022-07-22T19:29:14.052Z"
   },
   {
    "duration": 24,
    "start_time": "2022-07-22T19:29:46.191Z"
   },
   {
    "duration": 11,
    "start_time": "2022-07-22T19:30:09.542Z"
   },
   {
    "duration": 2274,
    "start_time": "2022-07-22T19:30:14.576Z"
   },
   {
    "duration": 178,
    "start_time": "2022-07-22T19:30:16.853Z"
   },
   {
    "duration": 33,
    "start_time": "2022-07-22T19:30:17.033Z"
   },
   {
    "duration": 83,
    "start_time": "2022-07-22T19:30:17.069Z"
   },
   {
    "duration": 107,
    "start_time": "2022-07-22T19:30:17.159Z"
   },
   {
    "duration": 108,
    "start_time": "2022-07-22T19:30:17.270Z"
   },
   {
    "duration": 11,
    "start_time": "2022-07-22T19:30:17.381Z"
   },
   {
    "duration": 62,
    "start_time": "2022-07-22T19:30:17.420Z"
   },
   {
    "duration": 31,
    "start_time": "2022-07-22T19:30:17.485Z"
   },
   {
    "duration": 51,
    "start_time": "2022-07-22T19:30:17.521Z"
   },
   {
    "duration": 49,
    "start_time": "2022-07-22T19:30:17.575Z"
   },
   {
    "duration": 53,
    "start_time": "2022-07-22T19:30:17.626Z"
   },
   {
    "duration": 70,
    "start_time": "2022-07-22T19:30:17.682Z"
   },
   {
    "duration": 112,
    "start_time": "2022-07-22T19:30:17.754Z"
   },
   {
    "duration": 206,
    "start_time": "2022-07-22T19:30:17.873Z"
   },
   {
    "duration": 10,
    "start_time": "2022-07-22T19:30:18.081Z"
   },
   {
    "duration": 653,
    "start_time": "2022-07-22T19:30:18.093Z"
   },
   {
    "duration": 11,
    "start_time": "2022-07-22T19:30:18.752Z"
   },
   {
    "duration": 53,
    "start_time": "2022-07-22T19:30:18.765Z"
   },
   {
    "duration": 893,
    "start_time": "2022-07-22T19:30:18.823Z"
   },
   {
    "duration": 213,
    "start_time": "2022-07-22T19:30:19.718Z"
   },
   {
    "duration": 20,
    "start_time": "2022-07-22T19:30:19.934Z"
   },
   {
    "duration": 230,
    "start_time": "2022-07-22T19:30:19.957Z"
   },
   {
    "duration": 185,
    "start_time": "2022-07-22T19:30:20.189Z"
   },
   {
    "duration": 609,
    "start_time": "2022-07-22T19:30:20.377Z"
   },
   {
    "duration": 23,
    "start_time": "2022-07-22T19:30:20.988Z"
   },
   {
    "duration": 296,
    "start_time": "2022-07-22T19:30:21.014Z"
   },
   {
    "duration": 0,
    "start_time": "2022-07-22T19:30:21.314Z"
   },
   {
    "duration": 0,
    "start_time": "2022-07-22T19:30:21.315Z"
   },
   {
    "duration": 0,
    "start_time": "2022-07-22T19:30:21.317Z"
   },
   {
    "duration": 0,
    "start_time": "2022-07-22T19:30:21.318Z"
   },
   {
    "duration": 0,
    "start_time": "2022-07-22T19:30:21.320Z"
   },
   {
    "duration": 0,
    "start_time": "2022-07-22T19:30:21.321Z"
   },
   {
    "duration": 0,
    "start_time": "2022-07-22T19:30:21.323Z"
   },
   {
    "duration": 0,
    "start_time": "2022-07-22T19:30:21.326Z"
   },
   {
    "duration": 0,
    "start_time": "2022-07-22T19:30:21.328Z"
   },
   {
    "duration": 0,
    "start_time": "2022-07-22T19:30:21.329Z"
   },
   {
    "duration": 0,
    "start_time": "2022-07-22T19:30:21.331Z"
   },
   {
    "duration": 576,
    "start_time": "2022-07-22T19:30:41.962Z"
   },
   {
    "duration": 21,
    "start_time": "2022-07-22T19:30:56.832Z"
   },
   {
    "duration": 700,
    "start_time": "2022-07-22T19:31:38.158Z"
   },
   {
    "duration": 491,
    "start_time": "2022-07-22T19:31:51.353Z"
   },
   {
    "duration": 13,
    "start_time": "2022-07-22T19:31:59.965Z"
   },
   {
    "duration": 9,
    "start_time": "2022-07-22T19:34:20.830Z"
   },
   {
    "duration": 7,
    "start_time": "2022-07-22T19:34:24.050Z"
   },
   {
    "duration": 459,
    "start_time": "2022-07-22T19:36:09.641Z"
   },
   {
    "duration": 510,
    "start_time": "2022-07-22T19:36:28.956Z"
   },
   {
    "duration": 504,
    "start_time": "2022-07-22T19:37:02.374Z"
   },
   {
    "duration": 39,
    "start_time": "2022-07-22T19:37:59.453Z"
   },
   {
    "duration": 4642,
    "start_time": "2022-07-22T19:40:24.591Z"
   },
   {
    "duration": 564,
    "start_time": "2022-07-22T19:41:42.555Z"
   },
   {
    "duration": 4612,
    "start_time": "2022-07-22T19:41:45.954Z"
   },
   {
    "duration": 11,
    "start_time": "2022-07-22T19:43:27.943Z"
   },
   {
    "duration": 4936,
    "start_time": "2022-07-22T19:43:29.456Z"
   },
   {
    "duration": 276,
    "start_time": "2022-07-22T19:44:21.881Z"
   },
   {
    "duration": 18,
    "start_time": "2022-07-22T19:45:50.977Z"
   },
   {
    "duration": 5150,
    "start_time": "2022-07-22T19:45:54.368Z"
   },
   {
    "duration": 4267,
    "start_time": "2022-07-22T19:46:08.243Z"
   },
   {
    "duration": 5090,
    "start_time": "2022-07-22T19:46:22.333Z"
   },
   {
    "duration": 4889,
    "start_time": "2022-07-22T19:46:37.049Z"
   },
   {
    "duration": 31,
    "start_time": "2022-07-22T19:49:40.843Z"
   },
   {
    "duration": 24,
    "start_time": "2022-07-22T19:49:48.459Z"
   },
   {
    "duration": 14,
    "start_time": "2022-07-22T19:49:53.955Z"
   },
   {
    "duration": 15,
    "start_time": "2022-07-22T19:49:58.469Z"
   },
   {
    "duration": 16,
    "start_time": "2022-07-22T19:50:08.503Z"
   },
   {
    "duration": 318,
    "start_time": "2022-07-22T19:57:39.359Z"
   },
   {
    "duration": 389,
    "start_time": "2022-07-22T19:57:52.022Z"
   },
   {
    "duration": 54,
    "start_time": "2022-07-22T19:58:52.046Z"
   },
   {
    "duration": 31,
    "start_time": "2022-07-22T19:59:13.106Z"
   },
   {
    "duration": 19,
    "start_time": "2022-07-22T20:01:15.039Z"
   },
   {
    "duration": 35,
    "start_time": "2022-07-22T20:01:35.686Z"
   },
   {
    "duration": 15,
    "start_time": "2022-07-22T20:02:08.737Z"
   },
   {
    "duration": 23,
    "start_time": "2022-07-22T20:02:21.658Z"
   },
   {
    "duration": 16,
    "start_time": "2022-07-22T20:02:57.792Z"
   },
   {
    "duration": 114,
    "start_time": "2022-07-22T20:02:58.314Z"
   },
   {
    "duration": 16,
    "start_time": "2022-07-22T20:03:35.432Z"
   },
   {
    "duration": 12,
    "start_time": "2022-07-22T20:03:57.733Z"
   },
   {
    "duration": 119,
    "start_time": "2022-07-22T20:03:59.465Z"
   },
   {
    "duration": 11,
    "start_time": "2022-07-22T20:04:08.234Z"
   },
   {
    "duration": 113,
    "start_time": "2022-07-22T20:04:09.105Z"
   },
   {
    "duration": 133,
    "start_time": "2022-07-22T20:04:43.728Z"
   },
   {
    "duration": 1257,
    "start_time": "2022-07-23T11:23:49.279Z"
   },
   {
    "duration": 115,
    "start_time": "2022-07-23T11:23:50.538Z"
   },
   {
    "duration": 14,
    "start_time": "2022-07-23T11:23:50.655Z"
   },
   {
    "duration": 7,
    "start_time": "2022-07-23T11:23:50.670Z"
   },
   {
    "duration": 18,
    "start_time": "2022-07-23T11:23:50.679Z"
   },
   {
    "duration": 7,
    "start_time": "2022-07-23T11:23:50.699Z"
   },
   {
    "duration": 21,
    "start_time": "2022-07-23T11:23:50.708Z"
   },
   {
    "duration": 6,
    "start_time": "2022-07-23T11:23:50.731Z"
   },
   {
    "duration": 14,
    "start_time": "2022-07-23T11:23:50.738Z"
   },
   {
    "duration": 8,
    "start_time": "2022-07-23T11:23:50.760Z"
   },
   {
    "duration": 3,
    "start_time": "2022-07-23T11:23:50.770Z"
   },
   {
    "duration": 9,
    "start_time": "2022-07-23T11:23:50.775Z"
   },
   {
    "duration": 13,
    "start_time": "2022-07-23T11:23:50.786Z"
   },
   {
    "duration": 18,
    "start_time": "2022-07-23T11:23:50.801Z"
   },
   {
    "duration": 93,
    "start_time": "2022-07-23T11:23:50.820Z"
   },
   {
    "duration": 6,
    "start_time": "2022-07-23T11:23:50.915Z"
   },
   {
    "duration": 388,
    "start_time": "2022-07-23T11:23:50.923Z"
   },
   {
    "duration": 7,
    "start_time": "2022-07-23T11:23:51.313Z"
   },
   {
    "duration": 17,
    "start_time": "2022-07-23T11:23:51.321Z"
   },
   {
    "duration": 531,
    "start_time": "2022-07-23T11:23:51.339Z"
   },
   {
    "duration": 115,
    "start_time": "2022-07-23T11:23:51.872Z"
   },
   {
    "duration": 9,
    "start_time": "2022-07-23T11:23:51.989Z"
   },
   {
    "duration": 1094,
    "start_time": "2022-07-23T11:23:54.680Z"
   },
   {
    "duration": 63,
    "start_time": "2022-07-23T11:23:55.776Z"
   },
   {
    "duration": 14,
    "start_time": "2022-07-23T11:23:55.840Z"
   },
   {
    "duration": 7,
    "start_time": "2022-07-23T11:23:55.856Z"
   },
   {
    "duration": 15,
    "start_time": "2022-07-23T11:23:55.865Z"
   },
   {
    "duration": 6,
    "start_time": "2022-07-23T11:23:55.881Z"
   },
   {
    "duration": 8,
    "start_time": "2022-07-23T11:23:55.888Z"
   },
   {
    "duration": 6,
    "start_time": "2022-07-23T11:23:55.897Z"
   },
   {
    "duration": 7,
    "start_time": "2022-07-23T11:23:55.905Z"
   },
   {
    "duration": 11,
    "start_time": "2022-07-23T11:23:55.914Z"
   },
   {
    "duration": 4,
    "start_time": "2022-07-23T11:23:55.926Z"
   },
   {
    "duration": 6,
    "start_time": "2022-07-23T11:23:55.960Z"
   },
   {
    "duration": 13,
    "start_time": "2022-07-23T11:23:55.968Z"
   },
   {
    "duration": 15,
    "start_time": "2022-07-23T11:23:55.984Z"
   },
   {
    "duration": 97,
    "start_time": "2022-07-23T11:23:56.001Z"
   },
   {
    "duration": 7,
    "start_time": "2022-07-23T11:23:56.100Z"
   },
   {
    "duration": 457,
    "start_time": "2022-07-23T11:23:56.108Z"
   },
   {
    "duration": 7,
    "start_time": "2022-07-23T11:23:56.567Z"
   },
   {
    "duration": 35,
    "start_time": "2022-07-23T11:23:56.575Z"
   },
   {
    "duration": 524,
    "start_time": "2022-07-23T11:23:56.611Z"
   },
   {
    "duration": 141,
    "start_time": "2022-07-23T11:23:57.137Z"
   },
   {
    "duration": 9,
    "start_time": "2022-07-23T11:23:57.280Z"
   },
   {
    "duration": 131,
    "start_time": "2022-07-23T11:23:57.290Z"
   },
   {
    "duration": 95,
    "start_time": "2022-07-23T11:23:57.423Z"
   },
   {
    "duration": 2545,
    "start_time": "2022-07-23T11:23:57.520Z"
   },
   {
    "duration": 8,
    "start_time": "2022-07-23T11:24:00.067Z"
   },
   {
    "duration": 16,
    "start_time": "2022-07-23T11:24:00.076Z"
   },
   {
    "duration": 26,
    "start_time": "2022-07-23T11:24:00.094Z"
   },
   {
    "duration": 148,
    "start_time": "2022-07-23T11:24:00.122Z"
   },
   {
    "duration": 0,
    "start_time": "2022-07-23T11:24:00.271Z"
   },
   {
    "duration": 0,
    "start_time": "2022-07-23T11:24:00.273Z"
   },
   {
    "duration": 0,
    "start_time": "2022-07-23T11:24:00.273Z"
   },
   {
    "duration": 0,
    "start_time": "2022-07-23T11:24:00.274Z"
   },
   {
    "duration": 1,
    "start_time": "2022-07-23T11:24:00.275Z"
   },
   {
    "duration": 0,
    "start_time": "2022-07-23T11:24:00.276Z"
   },
   {
    "duration": 0,
    "start_time": "2022-07-23T11:24:00.277Z"
   },
   {
    "duration": 0,
    "start_time": "2022-07-23T11:24:00.278Z"
   },
   {
    "duration": 0,
    "start_time": "2022-07-23T11:24:00.279Z"
   },
   {
    "duration": 0,
    "start_time": "2022-07-23T11:24:00.280Z"
   },
   {
    "duration": 0,
    "start_time": "2022-07-23T11:24:00.282Z"
   },
   {
    "duration": 2,
    "start_time": "2022-07-23T11:24:15.988Z"
   },
   {
    "duration": 215,
    "start_time": "2022-07-23T11:24:16.700Z"
   },
   {
    "duration": 78,
    "start_time": "2022-07-23T11:24:18.452Z"
   },
   {
    "duration": 10,
    "start_time": "2022-07-23T11:24:24.110Z"
   },
   {
    "duration": 10,
    "start_time": "2022-07-23T11:24:48.416Z"
   },
   {
    "duration": 13,
    "start_time": "2022-07-23T11:35:56.652Z"
   },
   {
    "duration": 13,
    "start_time": "2022-07-23T11:37:26.691Z"
   },
   {
    "duration": 13,
    "start_time": "2022-07-23T11:38:00.118Z"
   },
   {
    "duration": 14,
    "start_time": "2022-07-23T11:38:04.608Z"
   },
   {
    "duration": 5,
    "start_time": "2022-07-23T11:39:27.213Z"
   },
   {
    "duration": 1428,
    "start_time": "2022-07-24T08:21:09.673Z"
   },
   {
    "duration": 226,
    "start_time": "2022-07-24T08:21:11.103Z"
   },
   {
    "duration": 23,
    "start_time": "2022-07-24T08:21:11.331Z"
   },
   {
    "duration": 4,
    "start_time": "2022-07-24T08:21:11.356Z"
   },
   {
    "duration": 23,
    "start_time": "2022-07-24T08:21:11.362Z"
   },
   {
    "duration": 22,
    "start_time": "2022-07-24T08:21:11.387Z"
   },
   {
    "duration": 16,
    "start_time": "2022-07-24T08:21:11.415Z"
   },
   {
    "duration": 8,
    "start_time": "2022-07-24T08:21:11.433Z"
   },
   {
    "duration": 7,
    "start_time": "2022-07-24T08:21:11.443Z"
   },
   {
    "duration": 12,
    "start_time": "2022-07-24T08:21:11.452Z"
   },
   {
    "duration": 4,
    "start_time": "2022-07-24T08:21:11.466Z"
   },
   {
    "duration": 13,
    "start_time": "2022-07-24T08:21:11.472Z"
   },
   {
    "duration": 37,
    "start_time": "2022-07-24T08:21:11.487Z"
   },
   {
    "duration": 17,
    "start_time": "2022-07-24T08:21:11.529Z"
   },
   {
    "duration": 107,
    "start_time": "2022-07-24T08:21:11.547Z"
   },
   {
    "duration": 8,
    "start_time": "2022-07-24T08:21:11.655Z"
   },
   {
    "duration": 576,
    "start_time": "2022-07-24T08:21:11.664Z"
   },
   {
    "duration": 8,
    "start_time": "2022-07-24T08:21:12.242Z"
   },
   {
    "duration": 19,
    "start_time": "2022-07-24T08:21:12.252Z"
   },
   {
    "duration": 672,
    "start_time": "2022-07-24T08:21:12.273Z"
   },
   {
    "duration": 109,
    "start_time": "2022-07-24T08:21:12.947Z"
   },
   {
    "duration": 14,
    "start_time": "2022-07-24T08:21:13.111Z"
   },
   {
    "duration": 121,
    "start_time": "2022-07-24T08:21:13.127Z"
   },
   {
    "duration": 96,
    "start_time": "2022-07-24T08:21:13.250Z"
   },
   {
    "duration": 3275,
    "start_time": "2022-07-24T08:21:13.348Z"
   },
   {
    "duration": 25,
    "start_time": "2022-07-24T08:21:16.626Z"
   },
   {
    "duration": 26,
    "start_time": "2022-07-24T08:21:16.653Z"
   },
   {
    "duration": 13,
    "start_time": "2022-07-24T08:21:16.681Z"
   },
   {
    "duration": 29,
    "start_time": "2022-07-24T08:21:16.696Z"
   },
   {
    "duration": 313,
    "start_time": "2022-07-24T08:21:16.727Z"
   },
   {
    "duration": 139,
    "start_time": "2022-07-24T08:21:17.042Z"
   },
   {
    "duration": 11,
    "start_time": "2022-07-24T08:21:17.183Z"
   },
   {
    "duration": 37,
    "start_time": "2022-07-24T08:21:17.196Z"
   },
   {
    "duration": 185,
    "start_time": "2022-07-24T08:21:17.235Z"
   },
   {
    "duration": 0,
    "start_time": "2022-07-24T08:21:17.427Z"
   },
   {
    "duration": 0,
    "start_time": "2022-07-24T08:21:17.428Z"
   },
   {
    "duration": 0,
    "start_time": "2022-07-24T08:21:17.429Z"
   },
   {
    "duration": 0,
    "start_time": "2022-07-24T08:21:17.431Z"
   },
   {
    "duration": 0,
    "start_time": "2022-07-24T08:21:17.433Z"
   },
   {
    "duration": 0,
    "start_time": "2022-07-24T08:21:17.435Z"
   },
   {
    "duration": 17,
    "start_time": "2022-07-24T08:21:59.106Z"
   },
   {
    "duration": 143,
    "start_time": "2022-07-24T08:33:26.987Z"
   },
   {
    "duration": 236,
    "start_time": "2022-07-24T08:33:46.488Z"
   },
   {
    "duration": 7,
    "start_time": "2022-07-24T08:34:03.351Z"
   },
   {
    "duration": 17333,
    "start_time": "2022-07-24T08:35:00.739Z"
   },
   {
    "duration": 145,
    "start_time": "2022-07-24T08:37:30.654Z"
   },
   {
    "duration": 6,
    "start_time": "2022-07-24T08:37:55.821Z"
   },
   {
    "duration": 5,
    "start_time": "2022-07-24T08:38:18.602Z"
   },
   {
    "duration": 13,
    "start_time": "2022-07-24T08:41:58.939Z"
   },
   {
    "duration": 29,
    "start_time": "2022-07-24T08:42:44.519Z"
   },
   {
    "duration": 38,
    "start_time": "2022-07-24T08:42:53.469Z"
   },
   {
    "duration": 48,
    "start_time": "2022-07-24T08:43:24.447Z"
   },
   {
    "duration": 28,
    "start_time": "2022-07-24T08:44:36.194Z"
   },
   {
    "duration": 15,
    "start_time": "2022-07-24T08:44:48.894Z"
   },
   {
    "duration": 31,
    "start_time": "2022-07-24T08:47:24.591Z"
   },
   {
    "duration": 33,
    "start_time": "2022-07-24T08:49:04.208Z"
   },
   {
    "duration": 32,
    "start_time": "2022-07-24T08:49:53.625Z"
   },
   {
    "duration": 45,
    "start_time": "2022-07-24T08:50:10.781Z"
   },
   {
    "duration": 18,
    "start_time": "2022-07-24T08:51:53.953Z"
   },
   {
    "duration": 32,
    "start_time": "2022-07-24T08:51:54.855Z"
   },
   {
    "duration": 16,
    "start_time": "2022-07-24T08:52:09.394Z"
   },
   {
    "duration": 21,
    "start_time": "2022-07-24T08:52:14.301Z"
   },
   {
    "duration": 32,
    "start_time": "2022-07-24T08:52:55.489Z"
   },
   {
    "duration": 22,
    "start_time": "2022-07-24T08:54:05.916Z"
   },
   {
    "duration": 22,
    "start_time": "2022-07-24T08:56:28.048Z"
   },
   {
    "duration": 22,
    "start_time": "2022-07-24T08:57:38.492Z"
   },
   {
    "duration": 81,
    "start_time": "2022-07-24T08:58:02.629Z"
   },
   {
    "duration": 8,
    "start_time": "2022-07-24T08:58:08.806Z"
   },
   {
    "duration": 31,
    "start_time": "2022-07-24T08:58:12.726Z"
   },
   {
    "duration": 34,
    "start_time": "2022-07-24T08:58:51.505Z"
   },
   {
    "duration": 6,
    "start_time": "2022-07-24T08:59:17.663Z"
   },
   {
    "duration": 31,
    "start_time": "2022-07-24T08:59:29.123Z"
   },
   {
    "duration": 30,
    "start_time": "2022-07-24T08:59:41.606Z"
   },
   {
    "duration": 29,
    "start_time": "2022-07-24T08:59:44.447Z"
   },
   {
    "duration": 33,
    "start_time": "2022-07-24T08:59:48.278Z"
   },
   {
    "duration": 31,
    "start_time": "2022-07-24T08:59:52.552Z"
   },
   {
    "duration": 31,
    "start_time": "2022-07-24T08:59:55.454Z"
   },
   {
    "duration": 34,
    "start_time": "2022-07-24T09:00:07.753Z"
   },
   {
    "duration": 30,
    "start_time": "2022-07-24T09:00:16.659Z"
   },
   {
    "duration": 48,
    "start_time": "2022-07-24T09:00:19.050Z"
   },
   {
    "duration": 31,
    "start_time": "2022-07-24T09:00:23.133Z"
   },
   {
    "duration": 32,
    "start_time": "2022-07-24T09:00:27.847Z"
   },
   {
    "duration": 40,
    "start_time": "2022-07-24T09:00:30.850Z"
   },
   {
    "duration": 29,
    "start_time": "2022-07-24T09:00:33.447Z"
   },
   {
    "duration": 30,
    "start_time": "2022-07-24T09:00:39.263Z"
   },
   {
    "duration": 22,
    "start_time": "2022-07-24T09:01:18.691Z"
   },
   {
    "duration": 1269,
    "start_time": "2022-07-24T09:01:32.574Z"
   },
   {
    "duration": 71,
    "start_time": "2022-07-24T09:01:33.845Z"
   },
   {
    "duration": 16,
    "start_time": "2022-07-24T09:01:33.919Z"
   },
   {
    "duration": 4,
    "start_time": "2022-07-24T09:01:33.938Z"
   },
   {
    "duration": 23,
    "start_time": "2022-07-24T09:01:33.943Z"
   },
   {
    "duration": 7,
    "start_time": "2022-07-24T09:01:33.968Z"
   },
   {
    "duration": 8,
    "start_time": "2022-07-24T09:01:33.977Z"
   },
   {
    "duration": 26,
    "start_time": "2022-07-24T09:01:33.987Z"
   },
   {
    "duration": 4,
    "start_time": "2022-07-24T09:01:34.016Z"
   },
   {
    "duration": 17,
    "start_time": "2022-07-24T09:01:34.024Z"
   },
   {
    "duration": 6,
    "start_time": "2022-07-24T09:01:34.044Z"
   },
   {
    "duration": 16,
    "start_time": "2022-07-24T09:01:34.052Z"
   },
   {
    "duration": 16,
    "start_time": "2022-07-24T09:01:34.070Z"
   },
   {
    "duration": 16,
    "start_time": "2022-07-24T09:01:34.111Z"
   },
   {
    "duration": 104,
    "start_time": "2022-07-24T09:01:34.128Z"
   },
   {
    "duration": 7,
    "start_time": "2022-07-24T09:01:34.234Z"
   },
   {
    "duration": 469,
    "start_time": "2022-07-24T09:01:34.243Z"
   },
   {
    "duration": 8,
    "start_time": "2022-07-24T09:01:34.714Z"
   },
   {
    "duration": 32,
    "start_time": "2022-07-24T09:01:34.723Z"
   },
   {
    "duration": 610,
    "start_time": "2022-07-24T09:01:34.757Z"
   },
   {
    "duration": 196,
    "start_time": "2022-07-24T09:01:35.369Z"
   },
   {
    "duration": 44,
    "start_time": "2022-07-24T09:01:35.568Z"
   },
   {
    "duration": 124,
    "start_time": "2022-07-24T09:01:35.614Z"
   },
   {
    "duration": 115,
    "start_time": "2022-07-24T09:01:35.740Z"
   },
   {
    "duration": 3185,
    "start_time": "2022-07-24T09:01:35.856Z"
   },
   {
    "duration": 11,
    "start_time": "2022-07-24T09:01:39.044Z"
   },
   {
    "duration": 14,
    "start_time": "2022-07-24T09:01:39.057Z"
   },
   {
    "duration": 10,
    "start_time": "2022-07-24T09:01:39.075Z"
   },
   {
    "duration": 3,
    "start_time": "2022-07-24T09:01:39.109Z"
   },
   {
    "duration": 104,
    "start_time": "2022-07-24T09:01:39.114Z"
   },
   {
    "duration": 11,
    "start_time": "2022-07-24T09:01:39.220Z"
   },
   {
    "duration": 25,
    "start_time": "2022-07-24T09:01:39.233Z"
   },
   {
    "duration": 54,
    "start_time": "2022-07-24T09:01:39.261Z"
   },
   {
    "duration": 17,
    "start_time": "2022-07-24T09:01:39.317Z"
   },
   {
    "duration": 189,
    "start_time": "2022-07-24T09:01:39.336Z"
   },
   {
    "duration": 0,
    "start_time": "2022-07-24T09:01:39.528Z"
   },
   {
    "duration": 0,
    "start_time": "2022-07-24T09:01:39.530Z"
   },
   {
    "duration": 0,
    "start_time": "2022-07-24T09:01:39.531Z"
   },
   {
    "duration": 0,
    "start_time": "2022-07-24T09:01:39.533Z"
   },
   {
    "duration": 0,
    "start_time": "2022-07-24T09:01:39.535Z"
   },
   {
    "duration": 15,
    "start_time": "2022-07-24T09:02:01.180Z"
   },
   {
    "duration": 24,
    "start_time": "2022-07-24T09:02:51.166Z"
   },
   {
    "duration": 22,
    "start_time": "2022-07-24T09:03:17.321Z"
   },
   {
    "duration": 27,
    "start_time": "2022-07-24T09:04:41.794Z"
   },
   {
    "duration": 117,
    "start_time": "2022-07-24T09:04:56.163Z"
   },
   {
    "duration": 25,
    "start_time": "2022-07-24T09:07:28.821Z"
   },
   {
    "duration": 23,
    "start_time": "2022-07-24T09:07:48.158Z"
   },
   {
    "duration": 15,
    "start_time": "2022-07-24T09:07:58.582Z"
   },
   {
    "duration": 16,
    "start_time": "2022-07-24T09:10:52.631Z"
   },
   {
    "duration": 23,
    "start_time": "2022-07-24T09:12:07.420Z"
   },
   {
    "duration": 22,
    "start_time": "2022-07-24T09:12:17.009Z"
   },
   {
    "duration": 17,
    "start_time": "2022-07-24T09:16:40.034Z"
   },
   {
    "duration": 16,
    "start_time": "2022-07-24T09:19:09.626Z"
   },
   {
    "duration": 24,
    "start_time": "2022-07-24T09:35:38.458Z"
   },
   {
    "duration": 15,
    "start_time": "2022-07-24T09:35:52.286Z"
   },
   {
    "duration": 15,
    "start_time": "2022-07-24T09:36:17.339Z"
   },
   {
    "duration": 2014,
    "start_time": "2022-07-24T09:36:57.423Z"
   },
   {
    "duration": 10,
    "start_time": "2022-07-24T09:37:09.189Z"
   },
   {
    "duration": 10,
    "start_time": "2022-07-24T09:37:13.068Z"
   },
   {
    "duration": 13,
    "start_time": "2022-07-24T09:37:27.437Z"
   },
   {
    "duration": 74,
    "start_time": "2022-07-24T09:43:03.340Z"
   },
   {
    "duration": 91,
    "start_time": "2022-07-24T09:44:42.836Z"
   },
   {
    "duration": 18,
    "start_time": "2022-07-24T09:45:15.324Z"
   },
   {
    "duration": 147,
    "start_time": "2022-07-24T09:45:20.808Z"
   },
   {
    "duration": 10,
    "start_time": "2022-07-24T09:46:33.092Z"
   },
   {
    "duration": 15,
    "start_time": "2022-07-24T09:46:38.094Z"
   },
   {
    "duration": 10,
    "start_time": "2022-07-24T09:47:11.682Z"
   },
   {
    "duration": 14,
    "start_time": "2022-07-24T09:47:17.042Z"
   },
   {
    "duration": 20,
    "start_time": "2022-07-24T09:47:25.721Z"
   },
   {
    "duration": 18,
    "start_time": "2022-07-24T09:47:29.087Z"
   },
   {
    "duration": 17,
    "start_time": "2022-07-24T09:47:37.050Z"
   },
   {
    "duration": 13,
    "start_time": "2022-07-24T09:48:03.481Z"
   },
   {
    "duration": 18,
    "start_time": "2022-07-24T09:48:07.886Z"
   },
   {
    "duration": 23,
    "start_time": "2022-07-24T09:48:52.816Z"
   },
   {
    "duration": 25,
    "start_time": "2022-07-24T09:49:11.582Z"
   },
   {
    "duration": 1254,
    "start_time": "2022-07-24T09:49:26.496Z"
   },
   {
    "duration": 74,
    "start_time": "2022-07-24T09:49:27.753Z"
   },
   {
    "duration": 18,
    "start_time": "2022-07-24T09:49:27.829Z"
   },
   {
    "duration": 9,
    "start_time": "2022-07-24T09:49:27.850Z"
   },
   {
    "duration": 22,
    "start_time": "2022-07-24T09:49:27.861Z"
   },
   {
    "duration": 6,
    "start_time": "2022-07-24T09:49:27.885Z"
   },
   {
    "duration": 6,
    "start_time": "2022-07-24T09:49:27.911Z"
   },
   {
    "duration": 7,
    "start_time": "2022-07-24T09:49:27.919Z"
   },
   {
    "duration": 4,
    "start_time": "2022-07-24T09:49:27.927Z"
   },
   {
    "duration": 8,
    "start_time": "2022-07-24T09:49:27.933Z"
   },
   {
    "duration": 5,
    "start_time": "2022-07-24T09:49:27.943Z"
   },
   {
    "duration": 63,
    "start_time": "2022-07-24T09:49:27.950Z"
   },
   {
    "duration": 17,
    "start_time": "2022-07-24T09:49:28.015Z"
   },
   {
    "duration": 19,
    "start_time": "2022-07-24T09:49:28.035Z"
   },
   {
    "duration": 184,
    "start_time": "2022-07-24T09:49:28.056Z"
   },
   {
    "duration": 7,
    "start_time": "2022-07-24T09:49:28.242Z"
   },
   {
    "duration": 878,
    "start_time": "2022-07-24T09:49:28.251Z"
   },
   {
    "duration": 12,
    "start_time": "2022-07-24T09:49:29.131Z"
   },
   {
    "duration": 71,
    "start_time": "2022-07-24T09:49:29.145Z"
   },
   {
    "duration": 1001,
    "start_time": "2022-07-24T09:49:29.218Z"
   },
   {
    "duration": 128,
    "start_time": "2022-07-24T09:49:30.221Z"
   },
   {
    "duration": 59,
    "start_time": "2022-07-24T09:49:30.351Z"
   },
   {
    "duration": 107,
    "start_time": "2022-07-24T09:49:30.412Z"
   },
   {
    "duration": 97,
    "start_time": "2022-07-24T09:49:30.521Z"
   },
   {
    "duration": 3079,
    "start_time": "2022-07-24T09:49:30.620Z"
   },
   {
    "duration": 16,
    "start_time": "2022-07-24T09:49:33.701Z"
   },
   {
    "duration": 11,
    "start_time": "2022-07-24T09:49:33.719Z"
   },
   {
    "duration": 16,
    "start_time": "2022-07-24T09:49:33.732Z"
   },
   {
    "duration": 13,
    "start_time": "2022-07-24T09:49:33.750Z"
   },
   {
    "duration": 99,
    "start_time": "2022-07-24T09:49:33.765Z"
   },
   {
    "duration": 10,
    "start_time": "2022-07-24T09:49:33.866Z"
   },
   {
    "duration": 75,
    "start_time": "2022-07-24T09:49:33.877Z"
   },
   {
    "duration": 0,
    "start_time": "2022-07-24T09:49:33.954Z"
   },
   {
    "duration": 0,
    "start_time": "2022-07-24T09:49:33.955Z"
   },
   {
    "duration": 0,
    "start_time": "2022-07-24T09:49:33.957Z"
   },
   {
    "duration": 0,
    "start_time": "2022-07-24T09:49:33.959Z"
   },
   {
    "duration": 0,
    "start_time": "2022-07-24T09:49:33.960Z"
   },
   {
    "duration": 0,
    "start_time": "2022-07-24T09:49:33.962Z"
   },
   {
    "duration": 0,
    "start_time": "2022-07-24T09:49:33.964Z"
   },
   {
    "duration": 0,
    "start_time": "2022-07-24T09:49:33.965Z"
   },
   {
    "duration": 0,
    "start_time": "2022-07-24T09:49:33.967Z"
   },
   {
    "duration": 0,
    "start_time": "2022-07-24T09:49:33.968Z"
   },
   {
    "duration": 23,
    "start_time": "2022-07-24T09:49:36.814Z"
   },
   {
    "duration": 22,
    "start_time": "2022-07-24T09:49:52.873Z"
   },
   {
    "duration": 22,
    "start_time": "2022-07-24T09:50:10.677Z"
   },
   {
    "duration": 22,
    "start_time": "2022-07-24T09:50:13.226Z"
   },
   {
    "duration": 21,
    "start_time": "2022-07-24T09:50:23.756Z"
   },
   {
    "duration": 1441,
    "start_time": "2022-07-24T09:50:59.419Z"
   },
   {
    "duration": 27,
    "start_time": "2022-07-24T09:51:07.717Z"
   },
   {
    "duration": 35,
    "start_time": "2022-07-24T09:51:18.519Z"
   },
   {
    "duration": 25,
    "start_time": "2022-07-24T09:51:37.111Z"
   },
   {
    "duration": 31,
    "start_time": "2022-07-24T09:52:16.575Z"
   },
   {
    "duration": 22,
    "start_time": "2022-07-24T09:53:42.665Z"
   },
   {
    "duration": 16,
    "start_time": "2022-07-24T09:53:56.468Z"
   },
   {
    "duration": 15,
    "start_time": "2022-07-24T09:54:05.354Z"
   },
   {
    "duration": 21,
    "start_time": "2022-07-24T09:54:48.062Z"
   },
   {
    "duration": 16,
    "start_time": "2022-07-24T09:55:06.611Z"
   },
   {
    "duration": 17,
    "start_time": "2022-07-24T09:55:21.407Z"
   },
   {
    "duration": 16,
    "start_time": "2022-07-24T09:55:25.543Z"
   },
   {
    "duration": 17,
    "start_time": "2022-07-24T09:55:31.771Z"
   },
   {
    "duration": 21,
    "start_time": "2022-07-24T09:59:45.140Z"
   },
   {
    "duration": 21,
    "start_time": "2022-07-24T10:00:04.825Z"
   },
   {
    "duration": 27,
    "start_time": "2022-07-24T10:00:54.799Z"
   },
   {
    "duration": 22,
    "start_time": "2022-07-24T10:01:19.403Z"
   },
   {
    "duration": 119,
    "start_time": "2022-07-24T10:03:21.694Z"
   },
   {
    "duration": 11,
    "start_time": "2022-07-24T10:08:09.522Z"
   },
   {
    "duration": 26,
    "start_time": "2022-07-24T10:09:53.758Z"
   },
   {
    "duration": 24,
    "start_time": "2022-07-24T10:09:59.308Z"
   },
   {
    "duration": 20,
    "start_time": "2022-07-24T10:10:03.518Z"
   },
   {
    "duration": 22,
    "start_time": "2022-07-24T10:10:03.756Z"
   },
   {
    "duration": 12,
    "start_time": "2022-07-24T10:13:56.262Z"
   },
   {
    "duration": 9,
    "start_time": "2022-07-24T10:14:04.005Z"
   },
   {
    "duration": 11,
    "start_time": "2022-07-24T10:14:17.016Z"
   },
   {
    "duration": 14,
    "start_time": "2022-07-24T10:19:52.054Z"
   },
   {
    "duration": 9,
    "start_time": "2022-07-24T10:20:10.085Z"
   },
   {
    "duration": 14,
    "start_time": "2022-07-24T10:23:51.845Z"
   },
   {
    "duration": 10,
    "start_time": "2022-07-24T10:24:12.319Z"
   },
   {
    "duration": 25,
    "start_time": "2022-07-24T10:24:20.504Z"
   },
   {
    "duration": 115,
    "start_time": "2022-07-24T10:25:26.076Z"
   },
   {
    "duration": 44,
    "start_time": "2022-07-24T10:25:36.925Z"
   },
   {
    "duration": 38,
    "start_time": "2022-07-24T10:25:42.091Z"
   },
   {
    "duration": 37,
    "start_time": "2022-07-24T10:25:43.552Z"
   },
   {
    "duration": 10,
    "start_time": "2022-07-24T10:26:00.454Z"
   },
   {
    "duration": 11,
    "start_time": "2022-07-24T10:27:19.392Z"
   },
   {
    "duration": 12,
    "start_time": "2022-07-24T10:28:37.768Z"
   },
   {
    "duration": 10,
    "start_time": "2022-07-24T10:28:42.165Z"
   },
   {
    "duration": 12,
    "start_time": "2022-07-24T10:29:33.201Z"
   },
   {
    "duration": 7,
    "start_time": "2022-07-24T11:00:49.310Z"
   },
   {
    "duration": 8,
    "start_time": "2022-07-24T11:00:49.906Z"
   },
   {
    "duration": 1189,
    "start_time": "2022-07-24T11:00:55.353Z"
   },
   {
    "duration": 71,
    "start_time": "2022-07-24T11:00:56.545Z"
   },
   {
    "duration": 15,
    "start_time": "2022-07-24T11:00:56.617Z"
   },
   {
    "duration": 13,
    "start_time": "2022-07-24T11:00:56.634Z"
   },
   {
    "duration": 42,
    "start_time": "2022-07-24T11:00:56.649Z"
   },
   {
    "duration": 6,
    "start_time": "2022-07-24T11:00:56.693Z"
   },
   {
    "duration": 19,
    "start_time": "2022-07-24T11:00:56.701Z"
   },
   {
    "duration": 8,
    "start_time": "2022-07-24T11:00:56.721Z"
   },
   {
    "duration": 17,
    "start_time": "2022-07-24T11:00:56.731Z"
   },
   {
    "duration": 14,
    "start_time": "2022-07-24T11:00:56.749Z"
   },
   {
    "duration": 27,
    "start_time": "2022-07-24T11:00:56.765Z"
   },
   {
    "duration": 20,
    "start_time": "2022-07-24T11:00:56.794Z"
   },
   {
    "duration": 24,
    "start_time": "2022-07-24T11:00:56.816Z"
   },
   {
    "duration": 16,
    "start_time": "2022-07-24T11:00:56.843Z"
   },
   {
    "duration": 89,
    "start_time": "2022-07-24T11:00:56.861Z"
   },
   {
    "duration": 8,
    "start_time": "2022-07-24T11:00:56.952Z"
   },
   {
    "duration": 451,
    "start_time": "2022-07-24T11:00:56.962Z"
   },
   {
    "duration": 9,
    "start_time": "2022-07-24T11:00:57.414Z"
   },
   {
    "duration": 19,
    "start_time": "2022-07-24T11:00:57.424Z"
   },
   {
    "duration": 608,
    "start_time": "2022-07-24T11:00:57.445Z"
   },
   {
    "duration": 161,
    "start_time": "2022-07-24T11:00:58.055Z"
   },
   {
    "duration": 11,
    "start_time": "2022-07-24T11:00:58.217Z"
   },
   {
    "duration": 126,
    "start_time": "2022-07-24T11:00:58.230Z"
   },
   {
    "duration": 100,
    "start_time": "2022-07-24T11:00:58.358Z"
   },
   {
    "duration": 3180,
    "start_time": "2022-07-24T11:00:58.460Z"
   },
   {
    "duration": 10,
    "start_time": "2022-07-24T11:01:01.642Z"
   },
   {
    "duration": 41,
    "start_time": "2022-07-24T11:01:01.654Z"
   },
   {
    "duration": 44,
    "start_time": "2022-07-24T11:01:01.697Z"
   },
   {
    "duration": 22,
    "start_time": "2022-07-24T11:01:01.743Z"
   },
   {
    "duration": 134,
    "start_time": "2022-07-24T11:01:01.767Z"
   },
   {
    "duration": 12,
    "start_time": "2022-07-24T11:01:01.903Z"
   },
   {
    "duration": 63,
    "start_time": "2022-07-24T11:01:01.917Z"
   },
   {
    "duration": 66,
    "start_time": "2022-07-24T11:01:01.985Z"
   },
   {
    "duration": 37,
    "start_time": "2022-07-24T11:01:02.053Z"
   },
   {
    "duration": 29,
    "start_time": "2022-07-24T11:01:02.093Z"
   },
   {
    "duration": 25,
    "start_time": "2022-07-24T11:01:02.124Z"
   },
   {
    "duration": 27,
    "start_time": "2022-07-24T11:01:02.151Z"
   },
   {
    "duration": 57,
    "start_time": "2022-07-24T11:01:02.180Z"
   },
   {
    "duration": 44,
    "start_time": "2022-07-24T11:01:02.240Z"
   },
   {
    "duration": 24,
    "start_time": "2022-07-24T11:01:02.287Z"
   },
   {
    "duration": 19,
    "start_time": "2022-07-24T11:01:02.315Z"
   },
   {
    "duration": 4,
    "start_time": "2022-07-24T11:03:49.252Z"
   },
   {
    "duration": 76,
    "start_time": "2022-07-24T11:03:49.453Z"
   },
   {
    "duration": 17,
    "start_time": "2022-07-24T11:03:49.802Z"
   },
   {
    "duration": 3,
    "start_time": "2022-07-24T11:03:50.542Z"
   },
   {
    "duration": 16,
    "start_time": "2022-07-24T11:03:50.899Z"
   },
   {
    "duration": 7,
    "start_time": "2022-07-24T11:03:51.326Z"
   },
   {
    "duration": 7,
    "start_time": "2022-07-24T11:03:53.459Z"
   },
   {
    "duration": 5,
    "start_time": "2022-07-24T11:03:54.948Z"
   },
   {
    "duration": 4,
    "start_time": "2022-07-24T11:03:55.513Z"
   },
   {
    "duration": 8,
    "start_time": "2022-07-24T11:03:55.926Z"
   },
   {
    "duration": 6,
    "start_time": "2022-07-24T11:03:56.537Z"
   },
   {
    "duration": 7,
    "start_time": "2022-07-24T11:03:56.749Z"
   },
   {
    "duration": 10,
    "start_time": "2022-07-24T11:03:58.682Z"
   },
   {
    "duration": 11,
    "start_time": "2022-07-24T11:05:51.700Z"
   },
   {
    "duration": 7,
    "start_time": "2022-07-24T11:06:12.543Z"
   },
   {
    "duration": 15,
    "start_time": "2022-07-24T11:08:00.301Z"
   },
   {
    "duration": 86,
    "start_time": "2022-07-24T11:08:00.654Z"
   },
   {
    "duration": 13,
    "start_time": "2022-07-24T11:08:03.766Z"
   },
   {
    "duration": 187,
    "start_time": "2022-07-24T11:08:04.295Z"
   },
   {
    "duration": 20,
    "start_time": "2022-07-24T11:08:17.555Z"
   },
   {
    "duration": 99,
    "start_time": "2022-07-24T11:08:18.144Z"
   },
   {
    "duration": 7,
    "start_time": "2022-07-24T11:08:21.085Z"
   },
   {
    "duration": 92,
    "start_time": "2022-07-24T11:11:38.918Z"
   },
   {
    "duration": 81,
    "start_time": "2022-07-24T11:11:42.050Z"
   },
   {
    "duration": 1043,
    "start_time": "2022-07-25T00:49:03.269Z"
   },
   {
    "duration": 67,
    "start_time": "2022-07-25T00:49:04.314Z"
   },
   {
    "duration": 14,
    "start_time": "2022-07-25T00:49:04.383Z"
   },
   {
    "duration": 3,
    "start_time": "2022-07-25T00:49:04.399Z"
   },
   {
    "duration": 23,
    "start_time": "2022-07-25T00:49:04.404Z"
   },
   {
    "duration": 7,
    "start_time": "2022-07-25T00:49:04.429Z"
   },
   {
    "duration": 8,
    "start_time": "2022-07-25T00:49:04.438Z"
   },
   {
    "duration": 6,
    "start_time": "2022-07-25T00:49:04.448Z"
   },
   {
    "duration": 5,
    "start_time": "2022-07-25T00:49:04.456Z"
   },
   {
    "duration": 8,
    "start_time": "2022-07-25T00:49:04.463Z"
   },
   {
    "duration": 8,
    "start_time": "2022-07-25T00:49:04.473Z"
   },
   {
    "duration": 44,
    "start_time": "2022-07-25T00:49:04.484Z"
   },
   {
    "duration": 13,
    "start_time": "2022-07-25T00:49:04.530Z"
   },
   {
    "duration": 16,
    "start_time": "2022-07-25T00:49:04.547Z"
   },
   {
    "duration": 16,
    "start_time": "2022-07-25T00:49:04.565Z"
   },
   {
    "duration": 92,
    "start_time": "2022-07-25T00:49:04.582Z"
   },
   {
    "duration": 7,
    "start_time": "2022-07-25T00:49:04.676Z"
   },
   {
    "duration": 411,
    "start_time": "2022-07-25T00:49:04.684Z"
   },
   {
    "duration": 8,
    "start_time": "2022-07-25T00:49:05.097Z"
   },
   {
    "duration": 34,
    "start_time": "2022-07-25T00:49:05.107Z"
   },
   {
    "duration": 668,
    "start_time": "2022-07-25T00:49:05.143Z"
   },
   {
    "duration": 6,
    "start_time": "2022-07-25T00:49:05.812Z"
   },
   {
    "duration": 128,
    "start_time": "2022-07-25T00:49:05.820Z"
   },
   {
    "duration": 106,
    "start_time": "2022-07-25T00:49:05.949Z"
   },
   {
    "duration": 81,
    "start_time": "2022-07-25T00:49:06.056Z"
   },
   {
    "duration": 2815,
    "start_time": "2022-07-25T00:49:06.139Z"
   },
   {
    "duration": 11,
    "start_time": "2022-07-25T00:49:08.955Z"
   },
   {
    "duration": 9,
    "start_time": "2022-07-25T00:49:08.968Z"
   },
   {
    "duration": 14,
    "start_time": "2022-07-25T00:49:08.979Z"
   },
   {
    "duration": 28,
    "start_time": "2022-07-25T00:49:08.995Z"
   },
   {
    "duration": 105,
    "start_time": "2022-07-25T00:49:09.026Z"
   },
   {
    "duration": 13,
    "start_time": "2022-07-25T00:49:09.133Z"
   },
   {
    "duration": 22,
    "start_time": "2022-07-25T00:49:09.148Z"
   },
   {
    "duration": 57,
    "start_time": "2022-07-25T00:49:09.172Z"
   },
   {
    "duration": 22,
    "start_time": "2022-07-25T00:49:09.231Z"
   },
   {
    "duration": 23,
    "start_time": "2022-07-25T00:49:09.255Z"
   },
   {
    "duration": 13,
    "start_time": "2022-07-25T00:49:09.280Z"
   },
   {
    "duration": 34,
    "start_time": "2022-07-25T00:49:09.295Z"
   },
   {
    "duration": 9,
    "start_time": "2022-07-25T00:49:09.331Z"
   },
   {
    "duration": 14,
    "start_time": "2022-07-25T00:49:09.342Z"
   },
   {
    "duration": 16,
    "start_time": "2022-07-25T00:49:09.360Z"
   },
   {
    "duration": 15,
    "start_time": "2022-07-25T00:49:09.378Z"
   },
   {
    "duration": 71,
    "start_time": "2022-07-25T01:16:02.546Z"
   },
   {
    "duration": 156,
    "start_time": "2022-07-25T01:16:54.180Z"
   },
   {
    "duration": 65,
    "start_time": "2022-07-25T01:17:02.411Z"
   },
   {
    "duration": 70,
    "start_time": "2022-07-25T01:17:38.666Z"
   },
   {
    "duration": 9,
    "start_time": "2022-07-25T01:20:41.635Z"
   },
   {
    "duration": 14,
    "start_time": "2022-07-25T01:21:06.026Z"
   },
   {
    "duration": 1574,
    "start_time": "2022-07-25T14:00:45.858Z"
   },
   {
    "duration": 262,
    "start_time": "2022-07-25T14:00:47.434Z"
   },
   {
    "duration": 14,
    "start_time": "2022-07-25T14:00:47.698Z"
   },
   {
    "duration": 12,
    "start_time": "2022-07-25T14:00:47.713Z"
   },
   {
    "duration": 22,
    "start_time": "2022-07-25T14:00:47.727Z"
   },
   {
    "duration": 6,
    "start_time": "2022-07-25T14:00:47.751Z"
   },
   {
    "duration": 15,
    "start_time": "2022-07-25T14:00:47.758Z"
   },
   {
    "duration": 10,
    "start_time": "2022-07-25T14:00:47.775Z"
   },
   {
    "duration": 9,
    "start_time": "2022-07-25T14:00:47.787Z"
   },
   {
    "duration": 11,
    "start_time": "2022-07-25T14:00:47.798Z"
   },
   {
    "duration": 10,
    "start_time": "2022-07-25T14:00:47.811Z"
   },
   {
    "duration": 14,
    "start_time": "2022-07-25T14:00:47.823Z"
   },
   {
    "duration": 20,
    "start_time": "2022-07-25T14:00:47.838Z"
   },
   {
    "duration": 13,
    "start_time": "2022-07-25T14:00:47.861Z"
   },
   {
    "duration": 17,
    "start_time": "2022-07-25T14:00:47.875Z"
   },
   {
    "duration": 95,
    "start_time": "2022-07-25T14:00:47.894Z"
   },
   {
    "duration": 7,
    "start_time": "2022-07-25T14:00:47.991Z"
   },
   {
    "duration": 463,
    "start_time": "2022-07-25T14:00:48.000Z"
   },
   {
    "duration": 9,
    "start_time": "2022-07-25T14:00:48.464Z"
   },
   {
    "duration": 19,
    "start_time": "2022-07-25T14:00:48.474Z"
   },
   {
    "duration": 602,
    "start_time": "2022-07-25T14:00:48.494Z"
   },
   {
    "duration": 6,
    "start_time": "2022-07-25T14:00:49.098Z"
   },
   {
    "duration": 97,
    "start_time": "2022-07-25T14:00:49.106Z"
   },
   {
    "duration": 156,
    "start_time": "2022-07-25T14:00:49.204Z"
   },
   {
    "duration": 90,
    "start_time": "2022-07-25T14:00:49.362Z"
   },
   {
    "duration": 68,
    "start_time": "2022-07-25T14:00:49.454Z"
   },
   {
    "duration": 34,
    "start_time": "2022-07-25T14:00:49.523Z"
   },
   {
    "duration": 2894,
    "start_time": "2022-07-25T14:00:49.559Z"
   },
   {
    "duration": 12,
    "start_time": "2022-07-25T14:00:52.455Z"
   },
   {
    "duration": 11,
    "start_time": "2022-07-25T14:00:52.469Z"
   },
   {
    "duration": 10,
    "start_time": "2022-07-25T14:00:52.482Z"
   },
   {
    "duration": 6,
    "start_time": "2022-07-25T14:00:52.494Z"
   },
   {
    "duration": 106,
    "start_time": "2022-07-25T14:00:52.501Z"
   },
   {
    "duration": 8,
    "start_time": "2022-07-25T14:00:52.609Z"
   },
   {
    "duration": 16,
    "start_time": "2022-07-25T14:00:52.619Z"
   },
   {
    "duration": 32,
    "start_time": "2022-07-25T14:00:52.652Z"
   },
   {
    "duration": 20,
    "start_time": "2022-07-25T14:00:52.685Z"
   },
   {
    "duration": 19,
    "start_time": "2022-07-25T14:00:52.706Z"
   },
   {
    "duration": 29,
    "start_time": "2022-07-25T14:00:52.726Z"
   },
   {
    "duration": 9,
    "start_time": "2022-07-25T14:00:52.757Z"
   },
   {
    "duration": 17,
    "start_time": "2022-07-25T14:00:52.770Z"
   },
   {
    "duration": 11,
    "start_time": "2022-07-25T14:00:52.789Z"
   },
   {
    "duration": 12,
    "start_time": "2022-07-25T14:00:52.802Z"
   },
   {
    "duration": 10,
    "start_time": "2022-07-25T14:00:52.815Z"
   },
   {
    "duration": 1344,
    "start_time": "2022-07-25T14:21:53.970Z"
   },
   {
    "duration": 1161,
    "start_time": "2022-07-25T14:24:56.776Z"
   },
   {
    "duration": 629,
    "start_time": "2022-07-25T14:25:15.258Z"
   },
   {
    "duration": 42,
    "start_time": "2022-07-25T14:26:26.209Z"
   },
   {
    "duration": 24,
    "start_time": "2022-07-25T14:26:44.019Z"
   },
   {
    "duration": 1020,
    "start_time": "2022-07-25T14:26:52.042Z"
   },
   {
    "duration": 19,
    "start_time": "2022-07-25T14:27:37.991Z"
   },
   {
    "duration": 890,
    "start_time": "2022-07-25T14:27:44.547Z"
   },
   {
    "duration": 767,
    "start_time": "2022-07-25T14:34:18.256Z"
   },
   {
    "duration": 830,
    "start_time": "2022-07-25T14:34:38.982Z"
   },
   {
    "duration": 861,
    "start_time": "2022-07-25T14:34:44.489Z"
   },
   {
    "duration": 1380,
    "start_time": "2022-07-25T14:34:47.750Z"
   },
   {
    "duration": 1160,
    "start_time": "2022-07-25T14:37:34.981Z"
   },
   {
    "duration": 1200,
    "start_time": "2022-07-25T14:37:45.093Z"
   },
   {
    "duration": 1279,
    "start_time": "2022-07-25T14:40:57.992Z"
   },
   {
    "duration": 1221,
    "start_time": "2022-07-25T14:41:13.976Z"
   },
   {
    "duration": 21,
    "start_time": "2022-07-25T14:44:15.419Z"
   },
   {
    "duration": 31,
    "start_time": "2022-07-25T14:44:41.026Z"
   },
   {
    "duration": 67,
    "start_time": "2022-07-25T14:44:45.946Z"
   },
   {
    "duration": 46,
    "start_time": "2022-07-25T14:45:04.892Z"
   },
   {
    "duration": 1031,
    "start_time": "2022-07-25T14:46:03.124Z"
   },
   {
    "duration": 57,
    "start_time": "2022-07-25T14:54:29.587Z"
   },
   {
    "duration": 62,
    "start_time": "2022-07-25T14:54:32.520Z"
   },
   {
    "duration": 13,
    "start_time": "2022-07-25T14:55:29.004Z"
   },
   {
    "duration": 59,
    "start_time": "2022-07-25T14:55:36.050Z"
   },
   {
    "duration": 49,
    "start_time": "2022-07-25T14:56:43.409Z"
   },
   {
    "duration": 69,
    "start_time": "2022-07-25T14:56:49.135Z"
   },
   {
    "duration": 56,
    "start_time": "2022-07-25T14:56:54.113Z"
   },
   {
    "duration": 61,
    "start_time": "2022-07-25T14:56:57.135Z"
   },
   {
    "duration": 55,
    "start_time": "2022-07-25T14:57:42.681Z"
   },
   {
    "duration": 1222,
    "start_time": "2022-07-25T15:09:48.513Z"
   },
   {
    "duration": 81,
    "start_time": "2022-07-25T15:13:26.663Z"
   },
   {
    "duration": 109,
    "start_time": "2022-07-25T15:13:35.617Z"
   },
   {
    "duration": 69,
    "start_time": "2022-07-25T15:19:21.908Z"
   },
   {
    "duration": 82,
    "start_time": "2022-07-25T15:19:27.935Z"
   },
   {
    "duration": 194,
    "start_time": "2022-07-25T15:19:30.325Z"
   },
   {
    "duration": 71,
    "start_time": "2022-07-25T15:19:34.436Z"
   },
   {
    "duration": 83,
    "start_time": "2022-07-25T15:19:48.825Z"
   },
   {
    "duration": 104,
    "start_time": "2022-07-25T15:20:04.900Z"
   },
   {
    "duration": 94,
    "start_time": "2022-07-25T15:20:07.082Z"
   },
   {
    "duration": 24,
    "start_time": "2022-07-25T15:33:20.571Z"
   },
   {
    "duration": 19,
    "start_time": "2022-07-25T15:33:26.752Z"
   },
   {
    "duration": 15,
    "start_time": "2022-07-25T15:33:27.310Z"
   },
   {
    "duration": 14,
    "start_time": "2022-07-25T15:33:32.510Z"
   },
   {
    "duration": 29,
    "start_time": "2022-07-25T15:33:53.539Z"
   },
   {
    "duration": 5941,
    "start_time": "2022-07-25T15:35:28.802Z"
   },
   {
    "duration": 3658,
    "start_time": "2022-07-25T15:35:44.274Z"
   },
   {
    "duration": 13,
    "start_time": "2022-07-25T15:35:54.448Z"
   },
   {
    "duration": 8,
    "start_time": "2022-07-25T15:35:57.327Z"
   },
   {
    "duration": 3364,
    "start_time": "2022-07-25T15:36:01.948Z"
   },
   {
    "duration": 1769,
    "start_time": "2022-07-25T15:36:11.873Z"
   },
   {
    "duration": 1943,
    "start_time": "2022-07-25T15:36:18.229Z"
   },
   {
    "duration": 5,
    "start_time": "2022-07-25T15:36:34.935Z"
   },
   {
    "duration": 14,
    "start_time": "2022-07-25T15:36:50.612Z"
   },
   {
    "duration": 10,
    "start_time": "2022-07-25T15:37:02.139Z"
   },
   {
    "duration": 16,
    "start_time": "2022-07-25T15:37:17.974Z"
   },
   {
    "duration": 12,
    "start_time": "2022-07-25T15:37:18.576Z"
   },
   {
    "duration": 1463,
    "start_time": "2022-07-25T15:37:22.320Z"
   },
   {
    "duration": 11,
    "start_time": "2022-07-25T15:37:27.215Z"
   },
   {
    "duration": 5,
    "start_time": "2022-07-25T15:37:32.388Z"
   },
   {
    "duration": 18,
    "start_time": "2022-07-25T15:37:44.591Z"
   },
   {
    "duration": 5,
    "start_time": "2022-07-25T15:37:44.861Z"
   },
   {
    "duration": 21,
    "start_time": "2022-07-25T15:38:10.972Z"
   },
   {
    "duration": 18,
    "start_time": "2022-07-25T15:40:06.471Z"
   },
   {
    "duration": 1374,
    "start_time": "2022-07-26T11:47:35.126Z"
   },
   {
    "duration": 222,
    "start_time": "2022-07-26T11:47:36.502Z"
   },
   {
    "duration": 15,
    "start_time": "2022-07-26T11:47:36.726Z"
   },
   {
    "duration": 3,
    "start_time": "2022-07-26T11:47:36.743Z"
   },
   {
    "duration": 14,
    "start_time": "2022-07-26T11:47:36.748Z"
   },
   {
    "duration": 5,
    "start_time": "2022-07-26T11:47:36.764Z"
   },
   {
    "duration": 7,
    "start_time": "2022-07-26T11:47:36.770Z"
   },
   {
    "duration": 9,
    "start_time": "2022-07-26T11:47:36.806Z"
   },
   {
    "duration": 8,
    "start_time": "2022-07-26T11:47:36.817Z"
   },
   {
    "duration": 14,
    "start_time": "2022-07-26T11:47:36.826Z"
   },
   {
    "duration": 7,
    "start_time": "2022-07-26T11:47:36.841Z"
   },
   {
    "duration": 9,
    "start_time": "2022-07-26T11:47:36.849Z"
   },
   {
    "duration": 9,
    "start_time": "2022-07-26T11:47:36.859Z"
   },
   {
    "duration": 10,
    "start_time": "2022-07-26T11:47:36.871Z"
   },
   {
    "duration": 18,
    "start_time": "2022-07-26T11:47:36.902Z"
   },
   {
    "duration": 85,
    "start_time": "2022-07-26T11:47:36.922Z"
   },
   {
    "duration": 7,
    "start_time": "2022-07-26T11:47:37.011Z"
   },
   {
    "duration": 446,
    "start_time": "2022-07-26T11:47:37.021Z"
   },
   {
    "duration": 9,
    "start_time": "2022-07-26T11:47:37.469Z"
   },
   {
    "duration": 49,
    "start_time": "2022-07-26T11:47:37.480Z"
   },
   {
    "duration": 739,
    "start_time": "2022-07-26T11:47:37.530Z"
   },
   {
    "duration": 6,
    "start_time": "2022-07-26T11:47:38.270Z"
   },
   {
    "duration": 147,
    "start_time": "2022-07-26T11:47:38.277Z"
   },
   {
    "duration": 122,
    "start_time": "2022-07-26T11:47:38.427Z"
   },
   {
    "duration": 95,
    "start_time": "2022-07-26T11:47:38.550Z"
   },
   {
    "duration": 82,
    "start_time": "2022-07-26T11:47:38.647Z"
   },
   {
    "duration": 10,
    "start_time": "2022-07-26T11:47:38.731Z"
   },
   {
    "duration": 1228,
    "start_time": "2022-07-26T11:47:38.743Z"
   },
   {
    "duration": 74,
    "start_time": "2022-07-26T11:47:39.973Z"
   },
   {
    "duration": 1066,
    "start_time": "2022-07-26T11:47:40.049Z"
   },
   {
    "duration": 47,
    "start_time": "2022-07-26T11:47:41.124Z"
   },
   {
    "duration": 8,
    "start_time": "2022-07-26T11:47:41.172Z"
   },
   {
    "duration": 42,
    "start_time": "2022-07-26T11:47:41.181Z"
   },
   {
    "duration": 7,
    "start_time": "2022-07-26T11:47:41.228Z"
   },
   {
    "duration": 68,
    "start_time": "2022-07-26T11:47:41.237Z"
   },
   {
    "duration": 188,
    "start_time": "2022-07-26T11:47:41.308Z"
   },
   {
    "duration": 21,
    "start_time": "2022-07-26T11:47:41.501Z"
   },
   {
    "duration": 28,
    "start_time": "2022-07-26T11:47:41.523Z"
   },
   {
    "duration": 16,
    "start_time": "2022-07-26T11:47:41.552Z"
   },
   {
    "duration": 33,
    "start_time": "2022-07-26T11:47:41.569Z"
   },
   {
    "duration": 19,
    "start_time": "2022-07-26T11:47:41.606Z"
   },
   {
    "duration": 23,
    "start_time": "2022-07-26T11:47:41.627Z"
   },
   {
    "duration": 18,
    "start_time": "2022-07-26T11:47:41.651Z"
   },
   {
    "duration": 33,
    "start_time": "2022-07-26T11:47:41.670Z"
   },
   {
    "duration": 20,
    "start_time": "2022-07-26T11:47:41.705Z"
   },
   {
    "duration": 19,
    "start_time": "2022-07-26T11:47:41.726Z"
   },
   {
    "duration": 13,
    "start_time": "2022-07-26T11:47:41.747Z"
   },
   {
    "duration": 1430,
    "start_time": "2022-08-02T10:43:25.278Z"
   },
   {
    "duration": 150,
    "start_time": "2022-08-02T10:43:26.710Z"
   },
   {
    "duration": 24,
    "start_time": "2022-08-02T10:43:26.862Z"
   },
   {
    "duration": 3,
    "start_time": "2022-08-02T10:43:26.888Z"
   },
   {
    "duration": 18,
    "start_time": "2022-08-02T10:43:26.893Z"
   },
   {
    "duration": 5,
    "start_time": "2022-08-02T10:43:26.913Z"
   },
   {
    "duration": 23,
    "start_time": "2022-08-02T10:43:26.920Z"
   },
   {
    "duration": 18,
    "start_time": "2022-08-02T10:43:26.945Z"
   },
   {
    "duration": 9,
    "start_time": "2022-08-02T10:43:26.964Z"
   },
   {
    "duration": 9,
    "start_time": "2022-08-02T10:43:26.975Z"
   },
   {
    "duration": 8,
    "start_time": "2022-08-02T10:43:26.986Z"
   },
   {
    "duration": 13,
    "start_time": "2022-08-02T10:43:26.996Z"
   },
   {
    "duration": 15,
    "start_time": "2022-08-02T10:43:27.011Z"
   },
   {
    "duration": 17,
    "start_time": "2022-08-02T10:43:27.042Z"
   },
   {
    "duration": 22,
    "start_time": "2022-08-02T10:43:27.061Z"
   },
   {
    "duration": 113,
    "start_time": "2022-08-02T10:43:27.085Z"
   },
   {
    "duration": 8,
    "start_time": "2022-08-02T10:43:27.200Z"
   },
   {
    "duration": 433,
    "start_time": "2022-08-02T10:43:27.210Z"
   },
   {
    "duration": 8,
    "start_time": "2022-08-02T10:43:27.652Z"
   },
   {
    "duration": 21,
    "start_time": "2022-08-02T10:43:27.661Z"
   },
   {
    "duration": 624,
    "start_time": "2022-08-02T10:43:27.684Z"
   },
   {
    "duration": 9,
    "start_time": "2022-08-02T10:43:28.309Z"
   },
   {
    "duration": 158,
    "start_time": "2022-08-02T10:43:28.320Z"
   },
   {
    "duration": 143,
    "start_time": "2022-08-02T10:43:28.480Z"
   },
   {
    "duration": 96,
    "start_time": "2022-08-02T10:43:28.625Z"
   },
   {
    "duration": 79,
    "start_time": "2022-08-02T10:43:28.724Z"
   },
   {
    "duration": 11,
    "start_time": "2022-08-02T10:43:28.804Z"
   },
   {
    "duration": 1356,
    "start_time": "2022-08-02T10:43:28.817Z"
   },
   {
    "duration": 95,
    "start_time": "2022-08-02T10:43:30.176Z"
   },
   {
    "duration": 1249,
    "start_time": "2022-08-02T10:43:30.274Z"
   },
   {
    "duration": 69,
    "start_time": "2022-08-02T10:43:31.525Z"
   },
   {
    "duration": 8,
    "start_time": "2022-08-02T10:43:31.596Z"
   },
   {
    "duration": 38,
    "start_time": "2022-08-02T10:43:31.605Z"
   },
   {
    "duration": 3,
    "start_time": "2022-08-02T10:43:31.644Z"
   },
   {
    "duration": 125,
    "start_time": "2022-08-02T10:43:31.649Z"
   },
   {
    "duration": 218,
    "start_time": "2022-08-02T10:43:31.777Z"
   },
   {
    "duration": 44,
    "start_time": "2022-08-02T10:43:31.998Z"
   },
   {
    "duration": 74,
    "start_time": "2022-08-02T10:43:32.043Z"
   },
   {
    "duration": 29,
    "start_time": "2022-08-02T10:43:32.120Z"
   },
   {
    "duration": 45,
    "start_time": "2022-08-02T10:43:32.151Z"
   },
   {
    "duration": 19,
    "start_time": "2022-08-02T10:43:32.200Z"
   },
   {
    "duration": 26,
    "start_time": "2022-08-02T10:43:32.221Z"
   },
   {
    "duration": 57,
    "start_time": "2022-08-02T10:43:32.249Z"
   },
   {
    "duration": 26,
    "start_time": "2022-08-02T10:43:32.309Z"
   },
   {
    "duration": 53,
    "start_time": "2022-08-02T10:43:32.337Z"
   },
   {
    "duration": 22,
    "start_time": "2022-08-02T10:43:32.392Z"
   },
   {
    "duration": 35,
    "start_time": "2022-08-02T10:43:32.416Z"
   },
   {
    "duration": 76,
    "start_time": "2022-08-02T10:47:33.223Z"
   },
   {
    "duration": 203,
    "start_time": "2022-08-02T10:47:37.080Z"
   },
   {
    "duration": 10,
    "start_time": "2022-08-02T10:47:38.759Z"
   },
   {
    "duration": 17,
    "start_time": "2022-08-02T10:47:43.934Z"
   },
   {
    "duration": 19,
    "start_time": "2022-08-02T10:47:59.534Z"
   },
   {
    "duration": 127,
    "start_time": "2022-08-02T10:48:37.773Z"
   },
   {
    "duration": 15,
    "start_time": "2022-08-02T10:48:43.377Z"
   },
   {
    "duration": 14,
    "start_time": "2022-08-02T10:49:15.533Z"
   },
   {
    "duration": 1172,
    "start_time": "2022-08-07T16:39:38.068Z"
   },
   {
    "duration": 109,
    "start_time": "2022-08-07T16:39:39.242Z"
   },
   {
    "duration": 14,
    "start_time": "2022-08-07T16:39:39.352Z"
   },
   {
    "duration": 3,
    "start_time": "2022-08-07T16:39:39.367Z"
   },
   {
    "duration": 17,
    "start_time": "2022-08-07T16:39:39.373Z"
   },
   {
    "duration": 12,
    "start_time": "2022-08-07T16:39:39.391Z"
   },
   {
    "duration": 18,
    "start_time": "2022-08-07T16:39:39.405Z"
   },
   {
    "duration": 7,
    "start_time": "2022-08-07T16:39:39.424Z"
   },
   {
    "duration": 6,
    "start_time": "2022-08-07T16:39:39.432Z"
   },
   {
    "duration": 14,
    "start_time": "2022-08-07T16:39:39.439Z"
   },
   {
    "duration": 4,
    "start_time": "2022-08-07T16:39:39.455Z"
   },
   {
    "duration": 8,
    "start_time": "2022-08-07T16:39:39.460Z"
   },
   {
    "duration": 11,
    "start_time": "2022-08-07T16:39:39.470Z"
   },
   {
    "duration": 22,
    "start_time": "2022-08-07T16:39:39.484Z"
   },
   {
    "duration": 13,
    "start_time": "2022-08-07T16:39:39.508Z"
   },
   {
    "duration": 82,
    "start_time": "2022-08-07T16:39:39.523Z"
   },
   {
    "duration": 5,
    "start_time": "2022-08-07T16:39:39.607Z"
   },
   {
    "duration": 354,
    "start_time": "2022-08-07T16:39:39.614Z"
   },
   {
    "duration": 7,
    "start_time": "2022-08-07T16:39:39.970Z"
   },
   {
    "duration": 24,
    "start_time": "2022-08-07T16:39:39.978Z"
   },
   {
    "duration": 523,
    "start_time": "2022-08-07T16:39:40.003Z"
   },
   {
    "duration": 6,
    "start_time": "2022-08-07T16:39:40.528Z"
   },
   {
    "duration": 108,
    "start_time": "2022-08-07T16:39:40.535Z"
   },
   {
    "duration": 119,
    "start_time": "2022-08-07T16:39:40.644Z"
   },
   {
    "duration": 81,
    "start_time": "2022-08-07T16:39:40.765Z"
   },
   {
    "duration": 68,
    "start_time": "2022-08-07T16:39:40.847Z"
   },
   {
    "duration": 10,
    "start_time": "2022-08-07T16:39:40.916Z"
   },
   {
    "duration": 1081,
    "start_time": "2022-08-07T16:39:40.928Z"
   },
   {
    "duration": 47,
    "start_time": "2022-08-07T16:39:42.010Z"
   },
   {
    "duration": 1047,
    "start_time": "2022-08-07T16:39:42.058Z"
   },
   {
    "duration": 52,
    "start_time": "2022-08-07T16:39:43.107Z"
   },
   {
    "duration": 9,
    "start_time": "2022-08-07T16:39:43.161Z"
   },
   {
    "duration": 37,
    "start_time": "2022-08-07T16:39:43.171Z"
   },
   {
    "duration": 7,
    "start_time": "2022-08-07T16:39:43.209Z"
   },
   {
    "duration": 78,
    "start_time": "2022-08-07T16:39:43.218Z"
   },
   {
    "duration": 177,
    "start_time": "2022-08-07T16:39:43.299Z"
   },
   {
    "duration": 23,
    "start_time": "2022-08-07T16:39:43.477Z"
   },
   {
    "duration": 29,
    "start_time": "2022-08-07T16:39:43.501Z"
   },
   {
    "duration": 17,
    "start_time": "2022-08-07T16:39:43.532Z"
   },
   {
    "duration": 21,
    "start_time": "2022-08-07T16:39:43.550Z"
   },
   {
    "duration": 8,
    "start_time": "2022-08-07T16:39:43.574Z"
   },
   {
    "duration": 25,
    "start_time": "2022-08-07T16:39:43.583Z"
   },
   {
    "duration": 18,
    "start_time": "2022-08-07T16:39:43.609Z"
   },
   {
    "duration": 18,
    "start_time": "2022-08-07T16:39:43.628Z"
   },
   {
    "duration": 8,
    "start_time": "2022-08-07T16:39:43.647Z"
   },
   {
    "duration": 10,
    "start_time": "2022-08-07T16:39:43.656Z"
   },
   {
    "duration": 40,
    "start_time": "2022-08-07T16:39:43.667Z"
   },
   {
    "duration": 11,
    "start_time": "2022-08-07T16:39:43.708Z"
   }
  ],
  "kernelspec": {
   "display_name": "Python 3",
   "language": "python",
   "name": "python3"
  },
  "language_info": {
   "codemirror_mode": {
    "name": "ipython",
    "version": 3
   },
   "file_extension": ".py",
   "mimetype": "text/x-python",
   "name": "python",
   "nbconvert_exporter": "python",
   "pygments_lexer": "ipython3",
   "version": "3.8.8"
  },
  "toc": {
   "base_numbering": 1,
   "nav_menu": {},
   "number_sections": true,
   "sideBar": true,
   "skip_h1_title": true,
   "title_cell": "Table of Contents",
   "title_sidebar": "Contents",
   "toc_cell": false,
   "toc_position": {
    "height": "744px",
    "left": "87px",
    "top": "111.125px",
    "width": "284.67px"
   },
   "toc_section_display": true,
   "toc_window_display": true
  }
 },
 "nbformat": 4,
 "nbformat_minor": 2
}
