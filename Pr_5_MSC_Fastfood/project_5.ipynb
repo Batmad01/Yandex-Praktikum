{
 "cells": [
  {
   "cell_type": "markdown",
   "metadata": {},
   "source": [
    "# Рынок заведений общественного питания Москвы"
   ]
  },
  {
   "cell_type": "markdown",
   "metadata": {},
   "source": [
    "**Описание проекта**\n",
    "\n",
    "Вы решили открыть небольшое кафе в Москве. Оно оригинальное — гостей должны обслуживать роботы. Проект многообещающий, но дорогой. Вместе с партнёрами вы решились обратиться к инвесторам. Их интересует текущее положение дел на рынке — сможете ли вы снискать популярность на долгое время, когда все зеваки насмотрятся на роботов-официантов?\n",
    "Вы — гуру аналитики, и партнёры просят вас подготовить исследование рынка. У вас есть открытые данные о заведениях общественного питания в Москве."
   ]
  },
  {
   "cell_type": "markdown",
   "metadata": {},
   "source": [
    "**Последовательность выполнения проекта**\n",
    "\n",
    "* Загрузка файлов, их изучение и подготовка к дальнейшему анализу\n",
    "* Предобработка данных\n",
    "* Исследовательский анализ данных:\n",
    "    1. Исследовать соотношение видов объектов общественного питания по количеству\n",
    "    2. Исследовать соотношение сетевых и несетевых заведений по количеству\n",
    "    3. Выделить вид объекта общественного питания, для которого характерно сетевое распространение\n",
    "    4. Выделить характерные черты для сетевых заведений (много заведений с небольшим числом посадочных мест в каждом или мало заведений с большим количеством посадочных мест)\n",
    "    5. Для каждого вида объекта общественного питания описать среднее количество посадочных мест\n",
    "    6. Выделить в отдельный столбец информацию об улице из столбца address\n",
    "    7. Построить график топ-10 улиц по количеству объектов общественного питания. Воспользоваться внешней информацией и ответить на вопрос — в каких районах Москвы находятся эти улицы?\n",
    "    8. Найти число улиц с одним объектом общественного питания. Воспользоваться внешней информацией и ответить на вопрос — в каких районах Москвы находятся эти улицы?\n",
    "* Общий вывод по исследованию и дать рекомендации о виде заведения, количестве посадочных мест, а также районе расположения. Прокомментировать возможность развития сети.\n",
    "* Подготовка презентации по проекту"
   ]
  },
  {
   "cell_type": "markdown",
   "metadata": {},
   "source": [
    "## Изучение данных из файла"
   ]
  },
  {
   "cell_type": "markdown",
   "metadata": {},
   "source": [
    "Импортируем нужные библиотеки и начнём изучение данных файла"
   ]
  },
  {
   "cell_type": "code",
   "execution_count": 1,
   "metadata": {},
   "outputs": [],
   "source": [
    "#импорт нужных библиотек\n",
    "import pandas as pd\n",
    "from IPython.display import display\n",
    "import warnings\n",
    "import datetime\n",
    "import matplotlib.pyplot as plt\n",
    "import seaborn as sns\n",
    "from plotly import graph_objects as go\n",
    "import plotly.express as px\n",
    "from io import BytesIO\n",
    "import requests\n",
    "\n",
    "#отключение уведомлений об ошибке при замене исходного набора данных\n",
    "warnings.filterwarnings('ignore')\n",
    "warnings.simplefilter('ignore')\n",
    "\n",
    "#показ всех колонок датафрейма\n",
    "pd.options.display.max_columns = None\n",
    "\n",
    "#формат для чисел с плавающей точкой\n",
    "pd.options.display.float_format = '{:,.2f}'.format"
   ]
  },
  {
   "cell_type": "markdown",
   "metadata": {},
   "source": [
    "Сохраним данные в датафрейм df и посмотрим первые 5 строк"
   ]
  },
  {
   "cell_type": "code",
   "execution_count": 2,
   "metadata": {},
   "outputs": [],
   "source": [
    "df = pd.read_csv('D:/Datasets/rest_data.csv')"
   ]
  },
  {
   "cell_type": "code",
   "execution_count": 3,
   "metadata": {
    "scrolled": true
   },
   "outputs": [
    {
     "data": {
      "text/html": [
       "<div>\n",
       "<style scoped>\n",
       "    .dataframe tbody tr th:only-of-type {\n",
       "        vertical-align: middle;\n",
       "    }\n",
       "\n",
       "    .dataframe tbody tr th {\n",
       "        vertical-align: top;\n",
       "    }\n",
       "\n",
       "    .dataframe thead th {\n",
       "        text-align: right;\n",
       "    }\n",
       "</style>\n",
       "<table border=\"1\" class=\"dataframe\">\n",
       "  <thead>\n",
       "    <tr style=\"text-align: right;\">\n",
       "      <th></th>\n",
       "      <th>id</th>\n",
       "      <th>object_name</th>\n",
       "      <th>chain</th>\n",
       "      <th>object_type</th>\n",
       "      <th>address</th>\n",
       "      <th>number</th>\n",
       "    </tr>\n",
       "  </thead>\n",
       "  <tbody>\n",
       "    <tr>\n",
       "      <th>0</th>\n",
       "      <td>151635</td>\n",
       "      <td>СМЕТАНА</td>\n",
       "      <td>нет</td>\n",
       "      <td>кафе</td>\n",
       "      <td>город Москва, улица Егора Абакумова, дом 9</td>\n",
       "      <td>48</td>\n",
       "    </tr>\n",
       "    <tr>\n",
       "      <th>1</th>\n",
       "      <td>77874</td>\n",
       "      <td>Родник</td>\n",
       "      <td>нет</td>\n",
       "      <td>кафе</td>\n",
       "      <td>город Москва, улица Талалихина, дом 2/1, корпус 1</td>\n",
       "      <td>35</td>\n",
       "    </tr>\n",
       "    <tr>\n",
       "      <th>2</th>\n",
       "      <td>24309</td>\n",
       "      <td>Кафе «Академия»</td>\n",
       "      <td>нет</td>\n",
       "      <td>кафе</td>\n",
       "      <td>город Москва, Абельмановская улица, дом 6</td>\n",
       "      <td>95</td>\n",
       "    </tr>\n",
       "    <tr>\n",
       "      <th>3</th>\n",
       "      <td>21894</td>\n",
       "      <td>ПИЦЦЕТОРИЯ</td>\n",
       "      <td>да</td>\n",
       "      <td>кафе</td>\n",
       "      <td>город Москва, Абрамцевская улица, дом 1</td>\n",
       "      <td>40</td>\n",
       "    </tr>\n",
       "    <tr>\n",
       "      <th>4</th>\n",
       "      <td>119365</td>\n",
       "      <td>Кафе «Вишневая метель»</td>\n",
       "      <td>нет</td>\n",
       "      <td>кафе</td>\n",
       "      <td>город Москва, Абрамцевская улица, дом 9, корпус 1</td>\n",
       "      <td>50</td>\n",
       "    </tr>\n",
       "  </tbody>\n",
       "</table>\n",
       "</div>"
      ],
      "text/plain": [
       "       id             object_name chain object_type  \\\n",
       "0  151635                 СМЕТАНА   нет        кафе   \n",
       "1   77874                  Родник   нет        кафе   \n",
       "2   24309         Кафе «Академия»   нет        кафе   \n",
       "3   21894              ПИЦЦЕТОРИЯ    да        кафе   \n",
       "4  119365  Кафе «Вишневая метель»   нет        кафе   \n",
       "\n",
       "                                             address  number  \n",
       "0         город Москва, улица Егора Абакумова, дом 9      48  \n",
       "1  город Москва, улица Талалихина, дом 2/1, корпус 1      35  \n",
       "2          город Москва, Абельмановская улица, дом 6      95  \n",
       "3            город Москва, Абрамцевская улица, дом 1      40  \n",
       "4  город Москва, Абрамцевская улица, дом 9, корпус 1      50  "
      ]
     },
     "execution_count": 3,
     "metadata": {},
     "output_type": "execute_result"
    }
   ],
   "source": [
    "df.head()"
   ]
  },
  {
   "cell_type": "markdown",
   "metadata": {},
   "source": [
    "Сразу можно заметить кричащий верхний регистр в некоторых названиях заведений, в будущем это исправим"
   ]
  },
  {
   "cell_type": "markdown",
   "metadata": {},
   "source": [
    "Подгружу сторонний файл с улицами и районами Москвы для будущего объединения с основной таблицей"
   ]
  },
  {
   "cell_type": "code",
   "execution_count": 4,
   "metadata": {},
   "outputs": [],
   "source": [
    "# Все манипуляции прямиком из инструкции ментора\n",
    "spreadsheet_id = '1xRzI4Pp5ZwZciGx_wlo3Lbiay84REmsuHUKGEuhu49E'\n",
    "file_name = 'https://docs.google.com/spreadsheets/d/{}/export?format=csv'.format(spreadsheet_id)\n",
    "r = requests.get(file_name)\n",
    "\n",
    "streets = pd.read_csv(BytesIO(r.content)) #сохраняем данные в датафрейм"
   ]
  },
  {
   "cell_type": "code",
   "execution_count": 5,
   "metadata": {
    "scrolled": true
   },
   "outputs": [
    {
     "data": {
      "text/html": [
       "<div>\n",
       "<style scoped>\n",
       "    .dataframe tbody tr th:only-of-type {\n",
       "        vertical-align: middle;\n",
       "    }\n",
       "\n",
       "    .dataframe tbody tr th {\n",
       "        vertical-align: top;\n",
       "    }\n",
       "\n",
       "    .dataframe thead th {\n",
       "        text-align: right;\n",
       "    }\n",
       "</style>\n",
       "<table border=\"1\" class=\"dataframe\">\n",
       "  <thead>\n",
       "    <tr style=\"text-align: right;\">\n",
       "      <th></th>\n",
       "      <th>streetname</th>\n",
       "      <th>areaid</th>\n",
       "      <th>okrug</th>\n",
       "      <th>area</th>\n",
       "    </tr>\n",
       "  </thead>\n",
       "  <tbody>\n",
       "    <tr>\n",
       "      <th>0</th>\n",
       "      <td>Выставочный переулок</td>\n",
       "      <td>17</td>\n",
       "      <td>ЦАО</td>\n",
       "      <td>Пресненский район</td>\n",
       "    </tr>\n",
       "    <tr>\n",
       "      <th>1</th>\n",
       "      <td>улица Гашека</td>\n",
       "      <td>17</td>\n",
       "      <td>ЦАО</td>\n",
       "      <td>Пресненский район</td>\n",
       "    </tr>\n",
       "    <tr>\n",
       "      <th>2</th>\n",
       "      <td>Большая Никитская улица</td>\n",
       "      <td>17</td>\n",
       "      <td>ЦАО</td>\n",
       "      <td>Пресненский район</td>\n",
       "    </tr>\n",
       "    <tr>\n",
       "      <th>3</th>\n",
       "      <td>Глубокий переулок</td>\n",
       "      <td>17</td>\n",
       "      <td>ЦАО</td>\n",
       "      <td>Пресненский район</td>\n",
       "    </tr>\n",
       "    <tr>\n",
       "      <th>4</th>\n",
       "      <td>Большой Гнездниковский переулок</td>\n",
       "      <td>17</td>\n",
       "      <td>ЦАО</td>\n",
       "      <td>Пресненский район</td>\n",
       "    </tr>\n",
       "  </tbody>\n",
       "</table>\n",
       "</div>"
      ],
      "text/plain": [
       "                        streetname  areaid okrug               area\n",
       "0             Выставочный переулок      17   ЦАО  Пресненский район\n",
       "1                     улица Гашека      17   ЦАО  Пресненский район\n",
       "2          Большая Никитская улица      17   ЦАО  Пресненский район\n",
       "3                Глубокий переулок      17   ЦАО  Пресненский район\n",
       "4  Большой Гнездниковский переулок      17   ЦАО  Пресненский район"
      ]
     },
     "execution_count": 5,
     "metadata": {},
     "output_type": "execute_result"
    }
   ],
   "source": [
    "streets.head()"
   ]
  },
  {
   "cell_type": "markdown",
   "metadata": {},
   "source": [
    "Займёмся описанием данных основного датафрейма `df`"
   ]
  },
  {
   "cell_type": "code",
   "execution_count": 6,
   "metadata": {
    "scrolled": true
   },
   "outputs": [
    {
     "name": "stdout",
     "output_type": "stream",
     "text": [
      "<class 'pandas.core.frame.DataFrame'>\n",
      "RangeIndex: 15366 entries, 0 to 15365\n",
      "Data columns (total 6 columns):\n",
      " #   Column       Non-Null Count  Dtype \n",
      "---  ------       --------------  ----- \n",
      " 0   id           15366 non-null  int64 \n",
      " 1   object_name  15366 non-null  object\n",
      " 2   chain        15366 non-null  object\n",
      " 3   object_type  15366 non-null  object\n",
      " 4   address      15366 non-null  object\n",
      " 5   number       15366 non-null  int64 \n",
      "dtypes: int64(2), object(4)\n",
      "memory usage: 720.4+ KB\n"
     ]
    }
   ],
   "source": [
    "df.info()"
   ]
  },
  {
   "cell_type": "markdown",
   "metadata": {},
   "source": [
    "Пропусков в колонках нет, это радует"
   ]
  },
  {
   "cell_type": "markdown",
   "metadata": {},
   "source": [
    "Всего в таблице `rest_data` 6 колонок, из них: 2 колонки типа `int64` и 4 колонки типа `object`\n",
    "\n",
    "Согласно документации к данным:\n",
    "* id — идентификатор объекта;\n",
    "* object_name — название объекта общественного питания;\n",
    "* chain — сетевой ресторан;\n",
    "* object_type — тип объекта общественного питания;\n",
    "* address — адрес;\n",
    "* number — количество посадочных мест."
   ]
  },
  {
   "cell_type": "code",
   "execution_count": 7,
   "metadata": {},
   "outputs": [
    {
     "data": {
      "text/html": [
       "<div>\n",
       "<style scoped>\n",
       "    .dataframe tbody tr th:only-of-type {\n",
       "        vertical-align: middle;\n",
       "    }\n",
       "\n",
       "    .dataframe tbody tr th {\n",
       "        vertical-align: top;\n",
       "    }\n",
       "\n",
       "    .dataframe thead th {\n",
       "        text-align: right;\n",
       "    }\n",
       "</style>\n",
       "<table border=\"1\" class=\"dataframe\">\n",
       "  <thead>\n",
       "    <tr style=\"text-align: right;\">\n",
       "      <th></th>\n",
       "      <th>id</th>\n",
       "      <th>number</th>\n",
       "    </tr>\n",
       "  </thead>\n",
       "  <tbody>\n",
       "    <tr>\n",
       "      <th>count</th>\n",
       "      <td>15,366.00</td>\n",
       "      <td>15,366.00</td>\n",
       "    </tr>\n",
       "    <tr>\n",
       "      <th>mean</th>\n",
       "      <td>119,720.07</td>\n",
       "      <td>59.55</td>\n",
       "    </tr>\n",
       "    <tr>\n",
       "      <th>std</th>\n",
       "      <td>73,036.13</td>\n",
       "      <td>74.74</td>\n",
       "    </tr>\n",
       "    <tr>\n",
       "      <th>min</th>\n",
       "      <td>838.00</td>\n",
       "      <td>0.00</td>\n",
       "    </tr>\n",
       "    <tr>\n",
       "      <th>25%</th>\n",
       "      <td>28,524.00</td>\n",
       "      <td>12.00</td>\n",
       "    </tr>\n",
       "    <tr>\n",
       "      <th>50%</th>\n",
       "      <td>144,974.50</td>\n",
       "      <td>40.00</td>\n",
       "    </tr>\n",
       "    <tr>\n",
       "      <th>75%</th>\n",
       "      <td>184,262.25</td>\n",
       "      <td>80.00</td>\n",
       "    </tr>\n",
       "    <tr>\n",
       "      <th>max</th>\n",
       "      <td>223,439.00</td>\n",
       "      <td>1,700.00</td>\n",
       "    </tr>\n",
       "  </tbody>\n",
       "</table>\n",
       "</div>"
      ],
      "text/plain": [
       "              id    number\n",
       "count  15,366.00 15,366.00\n",
       "mean  119,720.07     59.55\n",
       "std    73,036.13     74.74\n",
       "min       838.00      0.00\n",
       "25%    28,524.00     12.00\n",
       "50%   144,974.50     40.00\n",
       "75%   184,262.25     80.00\n",
       "max   223,439.00  1,700.00"
      ]
     },
     "execution_count": 7,
     "metadata": {},
     "output_type": "execute_result"
    }
   ],
   "source": [
    "df.describe()"
   ]
  },
  {
   "cell_type": "markdown",
   "metadata": {},
   "source": [
    "**Вывод**\n",
    "\n",
    "Описание данных даёт нам понимание о том, насколько отличается количество посадочных мест в разных заведениях. В таблице присутствуют и те, в которых совсем нет посадочных мест, и те, в которых больше тысячи посадочных мест, а так же все другие, что между этими двумя.  "
   ]
  },
  {
   "cell_type": "markdown",
   "metadata": {},
   "source": [
    "## Предобработка данных"
   ]
  },
  {
   "cell_type": "markdown",
   "metadata": {},
   "source": [
    "### Переименование столбцов"
   ]
  },
  {
   "cell_type": "markdown",
   "metadata": {},
   "source": [
    "Переименуем столбцы с названием заведения и его типов для большего удобства"
   ]
  },
  {
   "cell_type": "code",
   "execution_count": 8,
   "metadata": {},
   "outputs": [],
   "source": [
    "df = df.rename(columns={'object_name':'name', 'object_type':'type'})"
   ]
  },
  {
   "cell_type": "markdown",
   "metadata": {},
   "source": [
    "### Обработка дубликатов"
   ]
  },
  {
   "cell_type": "code",
   "execution_count": 9,
   "metadata": {},
   "outputs": [
    {
     "data": {
      "text/plain": [
       "0"
      ]
     },
     "execution_count": 9,
     "metadata": {},
     "output_type": "execute_result"
    }
   ],
   "source": [
    "df.duplicated().sum()"
   ]
  },
  {
   "cell_type": "markdown",
   "metadata": {},
   "source": [
    "Явных дубликатов не обнаружено, проверим на неявные по колонке `id`"
   ]
  },
  {
   "cell_type": "code",
   "execution_count": 10,
   "metadata": {},
   "outputs": [
    {
     "data": {
      "text/plain": [
       "0"
      ]
     },
     "execution_count": 10,
     "metadata": {},
     "output_type": "execute_result"
    }
   ],
   "source": [
    "df['id'].duplicated().sum()"
   ]
  },
  {
   "cell_type": "markdown",
   "metadata": {},
   "source": [
    "Неявных дубликатов тоже не обнаружено"
   ]
  },
  {
   "cell_type": "markdown",
   "metadata": {},
   "source": [
    "### Изменение типов данных"
   ]
  },
  {
   "cell_type": "markdown",
   "metadata": {},
   "source": [
    "Изменим тип столбца с id (так как он не являетя числовым)"
   ]
  },
  {
   "cell_type": "code",
   "execution_count": 11,
   "metadata": {},
   "outputs": [
    {
     "name": "stdout",
     "output_type": "stream",
     "text": [
      "<class 'pandas.core.frame.DataFrame'>\n",
      "RangeIndex: 15366 entries, 0 to 15365\n",
      "Data columns (total 6 columns):\n",
      " #   Column   Non-Null Count  Dtype \n",
      "---  ------   --------------  ----- \n",
      " 0   id       15366 non-null  object\n",
      " 1   name     15366 non-null  object\n",
      " 2   chain    15366 non-null  object\n",
      " 3   type     15366 non-null  object\n",
      " 4   address  15366 non-null  object\n",
      " 5   number   15366 non-null  int64 \n",
      "dtypes: int64(1), object(5)\n",
      "memory usage: 720.4+ KB\n"
     ]
    }
   ],
   "source": [
    "df['id'] = df['id'].astype('object')\n",
    "df.info()"
   ]
  },
  {
   "cell_type": "markdown",
   "metadata": {},
   "source": [
    "### Обработка категориальных значений"
   ]
  },
  {
   "cell_type": "markdown",
   "metadata": {},
   "source": [
    "Приведём столбец `object_name` к нижнему регистру для удобства и поменеям названия двух типов заведений так же для удобства"
   ]
  },
  {
   "cell_type": "code",
   "execution_count": 12,
   "metadata": {
    "scrolled": true
   },
   "outputs": [
    {
     "data": {
      "text/html": [
       "<div>\n",
       "<style scoped>\n",
       "    .dataframe tbody tr th:only-of-type {\n",
       "        vertical-align: middle;\n",
       "    }\n",
       "\n",
       "    .dataframe tbody tr th {\n",
       "        vertical-align: top;\n",
       "    }\n",
       "\n",
       "    .dataframe thead th {\n",
       "        text-align: right;\n",
       "    }\n",
       "</style>\n",
       "<table border=\"1\" class=\"dataframe\">\n",
       "  <thead>\n",
       "    <tr style=\"text-align: right;\">\n",
       "      <th></th>\n",
       "      <th>id</th>\n",
       "      <th>name</th>\n",
       "      <th>chain</th>\n",
       "      <th>type</th>\n",
       "      <th>address</th>\n",
       "      <th>number</th>\n",
       "    </tr>\n",
       "  </thead>\n",
       "  <tbody>\n",
       "    <tr>\n",
       "      <th>0</th>\n",
       "      <td>151635</td>\n",
       "      <td>сметана</td>\n",
       "      <td>нет</td>\n",
       "      <td>кафе</td>\n",
       "      <td>город Москва, улица Егора Абакумова, дом 9</td>\n",
       "      <td>48</td>\n",
       "    </tr>\n",
       "    <tr>\n",
       "      <th>1</th>\n",
       "      <td>77874</td>\n",
       "      <td>родник</td>\n",
       "      <td>нет</td>\n",
       "      <td>кафе</td>\n",
       "      <td>город Москва, улица Талалихина, дом 2/1, корпус 1</td>\n",
       "      <td>35</td>\n",
       "    </tr>\n",
       "    <tr>\n",
       "      <th>2</th>\n",
       "      <td>24309</td>\n",
       "      <td>кафе «академия»</td>\n",
       "      <td>нет</td>\n",
       "      <td>кафе</td>\n",
       "      <td>город Москва, Абельмановская улица, дом 6</td>\n",
       "      <td>95</td>\n",
       "    </tr>\n",
       "    <tr>\n",
       "      <th>3</th>\n",
       "      <td>21894</td>\n",
       "      <td>пиццетория</td>\n",
       "      <td>да</td>\n",
       "      <td>кафе</td>\n",
       "      <td>город Москва, Абрамцевская улица, дом 1</td>\n",
       "      <td>40</td>\n",
       "    </tr>\n",
       "    <tr>\n",
       "      <th>4</th>\n",
       "      <td>119365</td>\n",
       "      <td>кафе «вишневая метель»</td>\n",
       "      <td>нет</td>\n",
       "      <td>кафе</td>\n",
       "      <td>город Москва, Абрамцевская улица, дом 9, корпус 1</td>\n",
       "      <td>50</td>\n",
       "    </tr>\n",
       "  </tbody>\n",
       "</table>\n",
       "</div>"
      ],
      "text/plain": [
       "       id                    name chain  type  \\\n",
       "0  151635                 сметана   нет  кафе   \n",
       "1   77874                  родник   нет  кафе   \n",
       "2   24309         кафе «академия»   нет  кафе   \n",
       "3   21894              пиццетория    да  кафе   \n",
       "4  119365  кафе «вишневая метель»   нет  кафе   \n",
       "\n",
       "                                             address  number  \n",
       "0         город Москва, улица Егора Абакумова, дом 9      48  \n",
       "1  город Москва, улица Талалихина, дом 2/1, корпус 1      35  \n",
       "2          город Москва, Абельмановская улица, дом 6      95  \n",
       "3            город Москва, Абрамцевская улица, дом 1      40  \n",
       "4  город Москва, Абрамцевская улица, дом 9, корпус 1      50  "
      ]
     },
     "execution_count": 12,
     "metadata": {},
     "output_type": "execute_result"
    }
   ],
   "source": [
    "df['name'] = df['name'].str.lower()\n",
    "df['type'] = df['type'].replace('предприятие быстрого обслуживания','фастфуд')\n",
    "df['type'] = df['type'].replace('магазин (отдел кулинарии)','отдел кулинарии')\n",
    "\n",
    "df.head()"
   ]
  },
  {
   "cell_type": "markdown",
   "metadata": {},
   "source": [
    "**Вывод**\n",
    "\n",
    "Данные успешно предобработаны"
   ]
  },
  {
   "cell_type": "markdown",
   "metadata": {},
   "source": [
    "## Исследовательский анализ данных"
   ]
  },
  {
   "cell_type": "markdown",
   "metadata": {},
   "source": [
    "### Предварительный анализ"
   ]
  },
  {
   "cell_type": "markdown",
   "metadata": {},
   "source": [
    "Построим диаграмму размаха по количеству посадочных мест для создания датафрейма для дальнейшего анализа"
   ]
  },
  {
   "cell_type": "code",
   "execution_count": 13,
   "metadata": {
    "scrolled": true
   },
   "outputs": [
    {
     "data": {
      "image/png": "[encoded data removed]",
      "text/plain": [
       "<Figure size 432x360 with 1 Axes>"
      ]
     },
     "metadata": {
      "needs_background": "light"
     },
     "output_type": "display_data"
    }
   ],
   "source": [
    "sns.set_palette('muted') \n",
    "plt.figure(figsize=(6,5))\n",
    "sns.boxplot(y='number', data=df)\n",
    "plt.show()"
   ]
  },
  {
   "cell_type": "markdown",
   "metadata": {},
   "source": [
    "Выбросим аномальные значения по столбцу `number`, которые привышают сумму третьего квартиля и полтора межкватрительного размаха"
   ]
  },
  {
   "cell_type": "code",
   "execution_count": 14,
   "metadata": {},
   "outputs": [
    {
     "data": {
      "text/plain": [
       "182.0"
      ]
     },
     "execution_count": 14,
     "metadata": {},
     "output_type": "execute_result"
    }
   ],
   "source": [
    "df['number'].describe()['75%'] + 1.5*(df['number'].describe()['75%']-df['number'].describe()['25%'])"
   ]
  },
  {
   "cell_type": "code",
   "execution_count": 15,
   "metadata": {
    "scrolled": true
   },
   "outputs": [
    {
     "data": {
      "image/png": "[encoded data removed]",
      "text/plain": [
       "<Figure size 432x360 with 1 Axes>"
      ]
     },
     "metadata": {
      "needs_background": "light"
     },
     "output_type": "display_data"
    }
   ],
   "source": [
    "plt.figure(figsize=(6,5))\n",
    "rest = df.query('number < 182') \n",
    "\n",
    "sns.boxplot(y='number', data=rest)\n",
    "plt.show()"
   ]
  },
  {
   "cell_type": "markdown",
   "metadata": {},
   "source": [
    "Получили новый отфильтрованный датафрейм `rest`, его используем для дальнейшего анализа"
   ]
  },
  {
   "cell_type": "markdown",
   "metadata": {},
   "source": [
    "### Исследование соотношения видов объектов общественного питания по количеству"
   ]
  },
  {
   "cell_type": "markdown",
   "metadata": {},
   "source": [
    "С помощью `groupby` построим сводную таблицу, в которую войдут тип заведения и его общее количество"
   ]
  },
  {
   "cell_type": "code",
   "execution_count": 16,
   "metadata": {
    "scrolled": false
   },
   "outputs": [
    {
     "data": {
      "text/html": [
       "<div>\n",
       "<style scoped>\n",
       "    .dataframe tbody tr th:only-of-type {\n",
       "        vertical-align: middle;\n",
       "    }\n",
       "\n",
       "    .dataframe tbody tr th {\n",
       "        vertical-align: top;\n",
       "    }\n",
       "\n",
       "    .dataframe thead th {\n",
       "        text-align: right;\n",
       "    }\n",
       "</style>\n",
       "<table border=\"1\" class=\"dataframe\">\n",
       "  <thead>\n",
       "    <tr style=\"text-align: right;\">\n",
       "      <th></th>\n",
       "      <th>type</th>\n",
       "      <th>count</th>\n",
       "    </tr>\n",
       "  </thead>\n",
       "  <tbody>\n",
       "    <tr>\n",
       "      <th>0</th>\n",
       "      <td>кафе</td>\n",
       "      <td>6031</td>\n",
       "    </tr>\n",
       "    <tr>\n",
       "      <th>1</th>\n",
       "      <td>ресторан</td>\n",
       "      <td>2059</td>\n",
       "    </tr>\n",
       "    <tr>\n",
       "      <th>2</th>\n",
       "      <td>фастфуд</td>\n",
       "      <td>1907</td>\n",
       "    </tr>\n",
       "    <tr>\n",
       "      <th>3</th>\n",
       "      <td>столовая</td>\n",
       "      <td>1836</td>\n",
       "    </tr>\n",
       "    <tr>\n",
       "      <th>4</th>\n",
       "      <td>бар</td>\n",
       "      <td>847</td>\n",
       "    </tr>\n",
       "    <tr>\n",
       "      <th>5</th>\n",
       "      <td>буфет</td>\n",
       "      <td>557</td>\n",
       "    </tr>\n",
       "    <tr>\n",
       "      <th>6</th>\n",
       "      <td>кафетерий</td>\n",
       "      <td>397</td>\n",
       "    </tr>\n",
       "    <tr>\n",
       "      <th>7</th>\n",
       "      <td>закусочная</td>\n",
       "      <td>359</td>\n",
       "    </tr>\n",
       "    <tr>\n",
       "      <th>8</th>\n",
       "      <td>отдел кулинарии</td>\n",
       "      <td>273</td>\n",
       "    </tr>\n",
       "  </tbody>\n",
       "</table>\n",
       "</div>"
      ],
      "text/plain": [
       "              type  count\n",
       "0             кафе   6031\n",
       "1         ресторан   2059\n",
       "2          фастфуд   1907\n",
       "3         столовая   1836\n",
       "4              бар    847\n",
       "5            буфет    557\n",
       "6        кафетерий    397\n",
       "7       закусочная    359\n",
       "8  отдел кулинарии    273"
      ]
     },
     "execution_count": 16,
     "metadata": {},
     "output_type": "execute_result"
    }
   ],
   "source": [
    "type_df = rest.groupby(['type'])['type'].count().sort_values(ascending=False).reset_index(name='count')\n",
    "type_df"
   ]
  },
  {
   "cell_type": "markdown",
   "metadata": {},
   "source": [
    "Можно увидеть, что по типу заведений больше всего кафе (6031), ресторанов (2059), заведений быстрого питания (1907) и столовых (1836)\n",
    "\n",
    "Теперь построим круговую диаграмму по данной таблице"
   ]
  },
  {
   "cell_type": "code",
   "execution_count": 17,
   "metadata": {
    "scrolled": false
   },
   "outputs": [
    {
     "data": {
      "image/png": "[encoded data removed]"
     },
     "metadata": {},
     "output_type": "display_data"
    }
   ],
   "source": [
    "colors = ['#1f77b4', '#e45756', 'rgb(102,194,165)','rgb(180, 151, 231)', '#ffa15a',\n",
    "          '#17becf', '#dd4477', 'rgb(166,216,84)', 'rgb(231,138,195']\n",
    "fig = go.Figure(data=[go.Pie(labels=type_df['type'], values=type_df['count'])])\n",
    "\n",
    "fig.update_layout(\n",
    "    title={\n",
    "        'text': \"Виды объектов общественного питания по количеству\",\n",
    "        'y':0.9,\n",
    "        'x':0.45,\n",
    "        'xanchor': 'center',\n",
    "        'yanchor': 'top'})\n",
    "\n",
    "fig.update_traces(marker=dict(colors=colors))\n",
    "\n",
    "config = {\n",
    "        'toImageButtonOptions': {\n",
    "            'format': 'png', \n",
    "            'height': 480,\n",
    "            'width': 640,\n",
    "            'scale': 2\n",
    "        }\n",
    "}\n",
    "\n",
    "fig.show(\"png\") "
   ]
  },
  {
   "cell_type": "markdown",
   "metadata": {},
   "source": [
    "**Вывод**\n",
    "\n",
    "По круговой диаграмме можно увидеть, что из всех видов объектов общественного питания больше всего кафе (42.3%). Затем идут рестораны (14.4%), заведения быстрого питания (13.4%) и столовые (12.9%). Остальных видов объектов уже значительно меньше (<6%)."
   ]
  },
  {
   "cell_type": "markdown",
   "metadata": {},
   "source": [
    "### Исследование соотношения сетевых и несетевых заведений по количеству"
   ]
  },
  {
   "cell_type": "markdown",
   "metadata": {},
   "source": [
    "Аналогично предыдущему пункту создадим сводную таблицу по сетевым и несетевым заведениям"
   ]
  },
  {
   "cell_type": "code",
   "execution_count": 18,
   "metadata": {},
   "outputs": [
    {
     "data": {
      "text/html": [
       "<div>\n",
       "<style scoped>\n",
       "    .dataframe tbody tr th:only-of-type {\n",
       "        vertical-align: middle;\n",
       "    }\n",
       "\n",
       "    .dataframe tbody tr th {\n",
       "        vertical-align: top;\n",
       "    }\n",
       "\n",
       "    .dataframe thead th {\n",
       "        text-align: right;\n",
       "    }\n",
       "</style>\n",
       "<table border=\"1\" class=\"dataframe\">\n",
       "  <thead>\n",
       "    <tr style=\"text-align: right;\">\n",
       "      <th></th>\n",
       "      <th>chain</th>\n",
       "      <th>count</th>\n",
       "    </tr>\n",
       "  </thead>\n",
       "  <tbody>\n",
       "    <tr>\n",
       "      <th>0</th>\n",
       "      <td>нет</td>\n",
       "      <td>11402</td>\n",
       "    </tr>\n",
       "    <tr>\n",
       "      <th>1</th>\n",
       "      <td>да</td>\n",
       "      <td>2864</td>\n",
       "    </tr>\n",
       "  </tbody>\n",
       "</table>\n",
       "</div>"
      ],
      "text/plain": [
       "  chain  count\n",
       "0   нет  11402\n",
       "1    да   2864"
      ]
     },
     "execution_count": 18,
     "metadata": {},
     "output_type": "execute_result"
    }
   ],
   "source": [
    "is_chain_df = rest.groupby(['chain'])['chain'].count().sort_values(ascending=False).reset_index(name='count')\n",
    "is_chain_df"
   ]
  },
  {
   "cell_type": "markdown",
   "metadata": {},
   "source": [
    "Несетевых заведений намного больше (11402), чем сетевых (2864)\n",
    "\n",
    "Теперь строим график"
   ]
  },
  {
   "cell_type": "code",
   "execution_count": 19,
   "metadata": {
    "scrolled": false
   },
   "outputs": [
    {
     "data": {
      "image/png": "[encoded data removed]"
     },
     "metadata": {},
     "output_type": "display_data"
    }
   ],
   "source": [
    "colors = ['#1f77b4', '#e45756']\n",
    "fig = go.Figure(data=[go.Pie(labels=is_chain_df['chain'], values=is_chain_df['count'])])\n",
    "\n",
    "fig.update_layout(\n",
    "    title={\n",
    "        'text': \"Количество сетевых (да) и несетевых (нет) заведений\",\n",
    "        'y':0.9,\n",
    "        'x':0.5,\n",
    "        'xanchor': 'center',\n",
    "        'yanchor': 'top'})\n",
    "\n",
    "fig.update_traces(marker=dict(colors=colors))\n",
    "\n",
    "config = {\n",
    "        'toImageButtonOptions': {\n",
    "            'format': 'png', \n",
    "            'height': 480,\n",
    "            'width': 640,\n",
    "            'scale': 2\n",
    "        }\n",
    "}\n",
    "\n",
    "fig.show(\"png\") "
   ]
  },
  {
   "cell_type": "markdown",
   "metadata": {},
   "source": [
    "**Вывод**\n",
    "\n",
    "По круговой диаграмме можно заключить, что сетевых заведений практически в 4 раза меньше, чем несетевых (20.1% и 79.9% соответственно)."
   ]
  },
  {
   "cell_type": "markdown",
   "metadata": {},
   "source": [
    "### Исследование сетевых заведения по виду"
   ]
  },
  {
   "cell_type": "markdown",
   "metadata": {},
   "source": [
    "Ещё одна сводная таблица, в неё войдут виды заведений, которые являются сетевыми"
   ]
  },
  {
   "cell_type": "code",
   "execution_count": 20,
   "metadata": {
    "scrolled": true
   },
   "outputs": [
    {
     "data": {
      "text/html": [
       "<div>\n",
       "<style scoped>\n",
       "    .dataframe tbody tr th:only-of-type {\n",
       "        vertical-align: middle;\n",
       "    }\n",
       "\n",
       "    .dataframe tbody tr th {\n",
       "        vertical-align: top;\n",
       "    }\n",
       "\n",
       "    .dataframe thead th {\n",
       "        text-align: right;\n",
       "    }\n",
       "</style>\n",
       "<table border=\"1\" class=\"dataframe\">\n",
       "  <thead>\n",
       "    <tr style=\"text-align: right;\">\n",
       "      <th></th>\n",
       "      <th>type</th>\n",
       "      <th>count_chain</th>\n",
       "    </tr>\n",
       "  </thead>\n",
       "  <tbody>\n",
       "    <tr>\n",
       "      <th>0</th>\n",
       "      <td>кафе</td>\n",
       "      <td>1369</td>\n",
       "    </tr>\n",
       "    <tr>\n",
       "      <th>1</th>\n",
       "      <td>фастфуд</td>\n",
       "      <td>776</td>\n",
       "    </tr>\n",
       "    <tr>\n",
       "      <th>2</th>\n",
       "      <td>ресторан</td>\n",
       "      <td>482</td>\n",
       "    </tr>\n",
       "    <tr>\n",
       "      <th>3</th>\n",
       "      <td>отдел кулинарии</td>\n",
       "      <td>78</td>\n",
       "    </tr>\n",
       "    <tr>\n",
       "      <th>4</th>\n",
       "      <td>закусочная</td>\n",
       "      <td>56</td>\n",
       "    </tr>\n",
       "    <tr>\n",
       "      <th>5</th>\n",
       "      <td>кафетерий</td>\n",
       "      <td>52</td>\n",
       "    </tr>\n",
       "    <tr>\n",
       "      <th>6</th>\n",
       "      <td>бар</td>\n",
       "      <td>37</td>\n",
       "    </tr>\n",
       "    <tr>\n",
       "      <th>7</th>\n",
       "      <td>буфет</td>\n",
       "      <td>11</td>\n",
       "    </tr>\n",
       "    <tr>\n",
       "      <th>8</th>\n",
       "      <td>столовая</td>\n",
       "      <td>3</td>\n",
       "    </tr>\n",
       "  </tbody>\n",
       "</table>\n",
       "</div>"
      ],
      "text/plain": [
       "              type  count_chain\n",
       "0             кафе         1369\n",
       "1          фастфуд          776\n",
       "2         ресторан          482\n",
       "3  отдел кулинарии           78\n",
       "4       закусочная           56\n",
       "5        кафетерий           52\n",
       "6              бар           37\n",
       "7            буфет           11\n",
       "8         столовая            3"
      ]
     },
     "execution_count": 20,
     "metadata": {},
     "output_type": "execute_result"
    }
   ],
   "source": [
    "сhain_est = rest.query('chain == \"да\"')\n",
    "chain_est_df = сhain_est.groupby(['type'])['type'].count().sort_values(ascending=False).reset_index(name='count_chain')\n",
    "chain_est_df"
   ]
  },
  {
   "cell_type": "markdown",
   "metadata": {},
   "source": [
    "Больше всего кафе (1369), заведения быстрого питания (776) и ресторанов (482), если рассматривать в разрезе сетевых заведений\n",
    "\n",
    "Теперь строим круговую диаграмму по полученной таблице"
   ]
  },
  {
   "cell_type": "code",
   "execution_count": 21,
   "metadata": {
    "scrolled": false
   },
   "outputs": [
    {
     "data": {
      "image/png": "[encoded data removed]"
     },
     "metadata": {},
     "output_type": "display_data"
    }
   ],
   "source": [
    "colors = ['#1f77b4', '#e45756', 'rgb(102,194,165)','rgb(180, 151, 231)', '#ffa15a',\n",
    "          '#17becf', '#dd4477', 'rgb(166,216,84)', 'rgb(231,138,195']\n",
    "fig = go.Figure(data=[go.Pie(labels=chain_est_df['type'], values=chain_est_df['count_chain'])])\n",
    "\n",
    "fig.update_layout(\n",
    "    title={\n",
    "        'text': \"Виды сетевых заведений по количеству\",\n",
    "        'y':0.9,\n",
    "        'x':0.45,\n",
    "        'xanchor': 'center',\n",
    "        'yanchor': 'top'})\n",
    "\n",
    "fig.update_traces(marker=dict(colors=colors))\n",
    "\n",
    "config = {\n",
    "        'toImageButtonOptions': {\n",
    "            'format': 'png', \n",
    "            'height': 480,\n",
    "            'width': 640,\n",
    "            'scale': 2\n",
    "        }\n",
    "}\n",
    "\n",
    "fig.show(\"png\") "
   ]
  },
  {
   "cell_type": "markdown",
   "metadata": {},
   "source": [
    "**Вывод**\n",
    "\n",
    "Наиболее характерно сетевое распространение для кафе (48.5%), заведений быстрого питания (27.1%) и ресторанов (16.8%)"
   ]
  },
  {
   "cell_type": "markdown",
   "metadata": {},
   "source": [
    "Теперь построим круговую диаграмму доли сетевых заведений в отношении к общему количеству заведений"
   ]
  },
  {
   "cell_type": "code",
   "execution_count": 22,
   "metadata": {
    "scrolled": true
   },
   "outputs": [
    {
     "data": {
      "text/html": [
       "<div>\n",
       "<style scoped>\n",
       "    .dataframe tbody tr th:only-of-type {\n",
       "        vertical-align: middle;\n",
       "    }\n",
       "\n",
       "    .dataframe tbody tr th {\n",
       "        vertical-align: top;\n",
       "    }\n",
       "\n",
       "    .dataframe thead th {\n",
       "        text-align: right;\n",
       "    }\n",
       "</style>\n",
       "<table border=\"1\" class=\"dataframe\">\n",
       "  <thead>\n",
       "    <tr style=\"text-align: right;\">\n",
       "      <th></th>\n",
       "      <th>type</th>\n",
       "      <th>count_total</th>\n",
       "      <th>count_chain</th>\n",
       "      <th>perc</th>\n",
       "    </tr>\n",
       "  </thead>\n",
       "  <tbody>\n",
       "    <tr>\n",
       "      <th>2</th>\n",
       "      <td>фастфуд</td>\n",
       "      <td>1907</td>\n",
       "      <td>776</td>\n",
       "      <td>0.41</td>\n",
       "    </tr>\n",
       "    <tr>\n",
       "      <th>8</th>\n",
       "      <td>отдел кулинарии</td>\n",
       "      <td>273</td>\n",
       "      <td>78</td>\n",
       "      <td>0.29</td>\n",
       "    </tr>\n",
       "    <tr>\n",
       "      <th>1</th>\n",
       "      <td>ресторан</td>\n",
       "      <td>2059</td>\n",
       "      <td>482</td>\n",
       "      <td>0.23</td>\n",
       "    </tr>\n",
       "    <tr>\n",
       "      <th>0</th>\n",
       "      <td>кафе</td>\n",
       "      <td>6031</td>\n",
       "      <td>1369</td>\n",
       "      <td>0.23</td>\n",
       "    </tr>\n",
       "    <tr>\n",
       "      <th>7</th>\n",
       "      <td>закусочная</td>\n",
       "      <td>359</td>\n",
       "      <td>56</td>\n",
       "      <td>0.16</td>\n",
       "    </tr>\n",
       "    <tr>\n",
       "      <th>6</th>\n",
       "      <td>кафетерий</td>\n",
       "      <td>397</td>\n",
       "      <td>52</td>\n",
       "      <td>0.13</td>\n",
       "    </tr>\n",
       "    <tr>\n",
       "      <th>4</th>\n",
       "      <td>бар</td>\n",
       "      <td>847</td>\n",
       "      <td>37</td>\n",
       "      <td>0.04</td>\n",
       "    </tr>\n",
       "    <tr>\n",
       "      <th>5</th>\n",
       "      <td>буфет</td>\n",
       "      <td>557</td>\n",
       "      <td>11</td>\n",
       "      <td>0.02</td>\n",
       "    </tr>\n",
       "    <tr>\n",
       "      <th>3</th>\n",
       "      <td>столовая</td>\n",
       "      <td>1836</td>\n",
       "      <td>3</td>\n",
       "      <td>0.00</td>\n",
       "    </tr>\n",
       "  </tbody>\n",
       "</table>\n",
       "</div>"
      ],
      "text/plain": [
       "              type  count_total  count_chain  perc\n",
       "2          фастфуд         1907          776  0.41\n",
       "8  отдел кулинарии          273           78  0.29\n",
       "1         ресторан         2059          482  0.23\n",
       "0             кафе         6031         1369  0.23\n",
       "7       закусочная          359           56  0.16\n",
       "6        кафетерий          397           52  0.13\n",
       "4              бар          847           37  0.04\n",
       "5            буфет          557           11  0.02\n",
       "3         столовая         1836            3  0.00"
      ]
     },
     "execution_count": 22,
     "metadata": {},
     "output_type": "execute_result"
    }
   ],
   "source": [
    "chain_est_df1 = rest.groupby(['type'])['type'].count().sort_values(ascending=False).reset_index(name='count_total')\n",
    "chain_est_df1 = chain_est_df1.merge(chain_est_df, on='type')\n",
    "chain_est_df1['perc'] = chain_est_df1['count_chain'] / chain_est_df1['count_total']\n",
    "chain_est_df1.sort_values(by='perc', ascending=False)"
   ]
  },
  {
   "cell_type": "code",
   "execution_count": 23,
   "metadata": {},
   "outputs": [
    {
     "data": {
      "image/png": "[encoded data removed]"
     },
     "metadata": {},
     "output_type": "display_data"
    }
   ],
   "source": [
    "colors = ['#1f77b4', '#e45756', 'rgb(102,194,165)','rgb(180, 151, 231)', '#ffa15a',\n",
    "          '#17becf', '#dd4477', 'rgb(166,216,84)', 'rgb(231,138,195']\n",
    "fig = go.Figure(data=[go.Pie(labels=chain_est_df1['type'], values=chain_est_df1['perc'])])\n",
    "\n",
    "fig.update_layout(\n",
    "    title={\n",
    "        'text': \"Доля сетевых заведений в отношении к общему количеству\",\n",
    "        'y':0.9,\n",
    "        'x':0.45,\n",
    "        'xanchor': 'center',\n",
    "        'yanchor': 'top'})\n",
    "\n",
    "fig.update_traces(marker=dict(colors=colors))\n",
    "\n",
    "config = {\n",
    "        'toImageButtonOptions': {\n",
    "            'format': 'png', \n",
    "            'height': 480,\n",
    "            'width': 640,\n",
    "            'scale': 2\n",
    "        }\n",
    "}\n",
    "\n",
    "fig.show(\"png\") "
   ]
  },
  {
   "cell_type": "markdown",
   "metadata": {},
   "source": [
    "**Выводы**\n",
    "\n",
    "Если смотреть на долю сетевых заведений в отношении к общему количесту заведений определенного типа, то тут достаточно сильно меняется картина. Никаких 50% у кафе даже близко нет, здесь имеем только 15%, отдел кулинарии резко вырывается вперёд с 19.3% (было 2.72%), почти у всех остальных видов заведений тоже изменились проценты по сравнению с прошлым графиком. Рестораны (15.5%), заведения быстрого питания(27%) и столовые остались примерно на том же процентном уровне (0.1%)."
   ]
  },
  {
   "cell_type": "markdown",
   "metadata": {},
   "source": [
    "### Что характерно для сетевых заведений?"
   ]
  },
  {
   "cell_type": "markdown",
   "metadata": {},
   "source": [
    "Построим гистограмму распределения количества сетевых заведений в зависимости от количества посадочных мест"
   ]
  },
  {
   "cell_type": "code",
   "execution_count": 24,
   "metadata": {
    "scrolled": false
   },
   "outputs": [
    {
     "data": {
      "image/png": "[encoded data removed]"
     },
     "metadata": {},
     "output_type": "display_data"
    }
   ],
   "source": [
    "fig = px.histogram(сhain_est, x='number', y='type',\n",
    "                   title='Распределение количества сетевых заведений в зависимости от количества посадочных мест',\n",
    "                   color_discrete_sequence=px.colors.qualitative.D3)\n",
    "\n",
    "fig.update_xaxes(title_text='Количество посадочных мест')\n",
    "fig.update_yaxes(title_text='Количество заведений')\n",
    "\n",
    "config = {\n",
    "        'toImageButtonOptions': {\n",
    "            'format': 'png', \n",
    "            'height': 500,\n",
    "            'width': 1000,\n",
    "            'scale': 3\n",
    "        }\n",
    "}\n",
    "fig.show(\"png\")"
   ]
  },
  {
   "cell_type": "markdown",
   "metadata": {},
   "source": [
    "**Вывод**\n",
    "\n",
    "Для сетевых заведений наиболее характерно большое количество заведений с небольшим количеством посадочных мест (0-4), чуть  менее характерно большее количество мест (10-24). Ещё менее характерно для сетей среднее количество заведений со средним количеством посадочных мест (25-54)"
   ]
  },
  {
   "cell_type": "markdown",
   "metadata": {},
   "source": [
    "### Описание среднего количества посадочных мест для каждого вида заведения"
   ]
  },
  {
   "cell_type": "markdown",
   "metadata": {},
   "source": [
    "Опишем среднее количество посадочных мест с помощью сводной таблицы и столбчатого графика"
   ]
  },
  {
   "cell_type": "code",
   "execution_count": 25,
   "metadata": {},
   "outputs": [
    {
     "data": {
      "text/html": [
       "<div>\n",
       "<style scoped>\n",
       "    .dataframe tbody tr th:only-of-type {\n",
       "        vertical-align: middle;\n",
       "    }\n",
       "\n",
       "    .dataframe tbody tr th {\n",
       "        vertical-align: top;\n",
       "    }\n",
       "\n",
       "    .dataframe thead th {\n",
       "        text-align: right;\n",
       "    }\n",
       "</style>\n",
       "<table border=\"1\" class=\"dataframe\">\n",
       "  <thead>\n",
       "    <tr style=\"text-align: right;\">\n",
       "      <th>type</th>\n",
       "      <th>бар</th>\n",
       "      <th>буфет</th>\n",
       "      <th>закусочная</th>\n",
       "      <th>кафе</th>\n",
       "      <th>кафетерий</th>\n",
       "      <th>отдел кулинарии</th>\n",
       "      <th>ресторан</th>\n",
       "      <th>столовая</th>\n",
       "      <th>фастфуд</th>\n",
       "    </tr>\n",
       "  </thead>\n",
       "  <tbody>\n",
       "    <tr>\n",
       "      <th>number</th>\n",
       "      <td>39.70</td>\n",
       "      <td>41.84</td>\n",
       "      <td>7.03</td>\n",
       "      <td>37.43</td>\n",
       "      <td>8.64</td>\n",
       "      <td>5.59</td>\n",
       "      <td>74.51</td>\n",
       "      <td>82.05</td>\n",
       "      <td>18.47</td>\n",
       "    </tr>\n",
       "  </tbody>\n",
       "</table>\n",
       "</div>"
      ],
      "text/plain": [
       "type     бар  буфет  закусочная  кафе  кафетерий  отдел кулинарии  ресторан  \\\n",
       "number 39.70  41.84        7.03 37.43       8.64             5.59     74.51   \n",
       "\n",
       "type    столовая  фастфуд  \n",
       "number     82.05    18.47  "
      ]
     },
     "execution_count": 25,
     "metadata": {},
     "output_type": "execute_result"
    }
   ],
   "source": [
    "rest.pivot_table(columns='type', values='number')"
   ]
  },
  {
   "cell_type": "code",
   "execution_count": 26,
   "metadata": {},
   "outputs": [],
   "source": [
    "rest_sorted = rest.groupby('type', as_index=False)['number'].agg('mean').sort_values(by='number',ascending=False)"
   ]
  },
  {
   "cell_type": "code",
   "execution_count": 27,
   "metadata": {
    "scrolled": false
   },
   "outputs": [
    {
     "data": {
      "image/png": "[encoded data removed]",
      "text/plain": [
       "<Figure size 864x576 with 1 Axes>"
      ]
     },
     "metadata": {
      "needs_background": "light"
     },
     "output_type": "display_data"
    }
   ],
   "source": [
    "plt.figure(figsize=(12,8))\n",
    "sns.set(font_scale = 1.1)\n",
    "\n",
    "ax = sns.barplot(x='number', y='type', data=rest_sorted, ci=None)\n",
    "\n",
    "ax.set_xlabel('Количество заведений', fontsize = 14)\n",
    "ax.set_ylabel('Тип заведения', fontsize = 14)\n",
    "ax.set_title('Среднее количество посадочных мест в зависимости от типа заведения', fontsize=16)\n",
    "plt.show()"
   ]
  },
  {
   "cell_type": "code",
   "execution_count": 28,
   "metadata": {},
   "outputs": [
    {
     "data": {
      "text/html": [
       "<div>\n",
       "<style scoped>\n",
       "    .dataframe tbody tr th:only-of-type {\n",
       "        vertical-align: middle;\n",
       "    }\n",
       "\n",
       "    .dataframe tbody tr th {\n",
       "        vertical-align: top;\n",
       "    }\n",
       "\n",
       "    .dataframe thead th {\n",
       "        text-align: right;\n",
       "    }\n",
       "</style>\n",
       "<table border=\"1\" class=\"dataframe\">\n",
       "  <thead>\n",
       "    <tr style=\"text-align: right;\">\n",
       "      <th></th>\n",
       "      <th>type</th>\n",
       "      <th>number</th>\n",
       "    </tr>\n",
       "  </thead>\n",
       "  <tbody>\n",
       "    <tr>\n",
       "      <th>7</th>\n",
       "      <td>столовая</td>\n",
       "      <td>82.05</td>\n",
       "    </tr>\n",
       "    <tr>\n",
       "      <th>6</th>\n",
       "      <td>ресторан</td>\n",
       "      <td>74.51</td>\n",
       "    </tr>\n",
       "    <tr>\n",
       "      <th>1</th>\n",
       "      <td>буфет</td>\n",
       "      <td>41.84</td>\n",
       "    </tr>\n",
       "    <tr>\n",
       "      <th>0</th>\n",
       "      <td>бар</td>\n",
       "      <td>39.70</td>\n",
       "    </tr>\n",
       "    <tr>\n",
       "      <th>3</th>\n",
       "      <td>кафе</td>\n",
       "      <td>37.43</td>\n",
       "    </tr>\n",
       "    <tr>\n",
       "      <th>8</th>\n",
       "      <td>фастфуд</td>\n",
       "      <td>18.47</td>\n",
       "    </tr>\n",
       "    <tr>\n",
       "      <th>4</th>\n",
       "      <td>кафетерий</td>\n",
       "      <td>8.64</td>\n",
       "    </tr>\n",
       "    <tr>\n",
       "      <th>2</th>\n",
       "      <td>закусочная</td>\n",
       "      <td>7.03</td>\n",
       "    </tr>\n",
       "    <tr>\n",
       "      <th>5</th>\n",
       "      <td>отдел кулинарии</td>\n",
       "      <td>5.59</td>\n",
       "    </tr>\n",
       "  </tbody>\n",
       "</table>\n",
       "</div>"
      ],
      "text/plain": [
       "              type  number\n",
       "7         столовая   82.05\n",
       "6         ресторан   74.51\n",
       "1            буфет   41.84\n",
       "0              бар   39.70\n",
       "3             кафе   37.43\n",
       "8          фастфуд   18.47\n",
       "4        кафетерий    8.64\n",
       "2       закусочная    7.03\n",
       "5  отдел кулинарии    5.59"
      ]
     },
     "execution_count": 28,
     "metadata": {},
     "output_type": "execute_result"
    }
   ],
   "source": [
    "rest_sorted"
   ]
  },
  {
   "cell_type": "markdown",
   "metadata": {},
   "source": [
    "**Вывод**\n",
    "\n",
    "Сводная таблица и график дают нам такие результаты:\n",
    "\n",
    "* Самое большое среднее количество посадочных мест находится в столовых (82) и ресторанах (75)\n",
    "* Далее идут буфеты (42), бары (40) и кафе (37)\n",
    "* Все остальные виды заведений предоставляют уже значительно меньшее количество посадочных мест (<20)"
   ]
  },
  {
   "cell_type": "markdown",
   "metadata": {},
   "source": [
    "### Выделение улицы в отдельный столбец"
   ]
  },
  {
   "cell_type": "markdown",
   "metadata": {},
   "source": [
    "Выделим название улицы в отдельным столбец в нашем основном датафрейме"
   ]
  },
  {
   "cell_type": "code",
   "execution_count": 29,
   "metadata": {},
   "outputs": [],
   "source": [
    "rest['streetname'] = rest['address'].str.partition(',')[2]\n",
    "rest['streetname'] = rest['streetname'].str.partition(',')[0]\n",
    "rest['streetname'] = rest['streetname'].str.strip() #удаление пробелов"
   ]
  },
  {
   "cell_type": "code",
   "execution_count": 30,
   "metadata": {
    "scrolled": true
   },
   "outputs": [
    {
     "data": {
      "text/html": [
       "<div>\n",
       "<style scoped>\n",
       "    .dataframe tbody tr th:only-of-type {\n",
       "        vertical-align: middle;\n",
       "    }\n",
       "\n",
       "    .dataframe tbody tr th {\n",
       "        vertical-align: top;\n",
       "    }\n",
       "\n",
       "    .dataframe thead th {\n",
       "        text-align: right;\n",
       "    }\n",
       "</style>\n",
       "<table border=\"1\" class=\"dataframe\">\n",
       "  <thead>\n",
       "    <tr style=\"text-align: right;\">\n",
       "      <th></th>\n",
       "      <th>id</th>\n",
       "      <th>name</th>\n",
       "      <th>chain</th>\n",
       "      <th>type</th>\n",
       "      <th>address</th>\n",
       "      <th>number</th>\n",
       "      <th>streetname</th>\n",
       "    </tr>\n",
       "  </thead>\n",
       "  <tbody>\n",
       "    <tr>\n",
       "      <th>0</th>\n",
       "      <td>151635</td>\n",
       "      <td>сметана</td>\n",
       "      <td>нет</td>\n",
       "      <td>кафе</td>\n",
       "      <td>город Москва, улица Егора Абакумова, дом 9</td>\n",
       "      <td>48</td>\n",
       "      <td>улица Егора Абакумова</td>\n",
       "    </tr>\n",
       "    <tr>\n",
       "      <th>1</th>\n",
       "      <td>77874</td>\n",
       "      <td>родник</td>\n",
       "      <td>нет</td>\n",
       "      <td>кафе</td>\n",
       "      <td>город Москва, улица Талалихина, дом 2/1, корпус 1</td>\n",
       "      <td>35</td>\n",
       "      <td>улица Талалихина</td>\n",
       "    </tr>\n",
       "    <tr>\n",
       "      <th>2</th>\n",
       "      <td>24309</td>\n",
       "      <td>кафе «академия»</td>\n",
       "      <td>нет</td>\n",
       "      <td>кафе</td>\n",
       "      <td>город Москва, Абельмановская улица, дом 6</td>\n",
       "      <td>95</td>\n",
       "      <td>Абельмановская улица</td>\n",
       "    </tr>\n",
       "    <tr>\n",
       "      <th>3</th>\n",
       "      <td>21894</td>\n",
       "      <td>пиццетория</td>\n",
       "      <td>да</td>\n",
       "      <td>кафе</td>\n",
       "      <td>город Москва, Абрамцевская улица, дом 1</td>\n",
       "      <td>40</td>\n",
       "      <td>Абрамцевская улица</td>\n",
       "    </tr>\n",
       "    <tr>\n",
       "      <th>4</th>\n",
       "      <td>119365</td>\n",
       "      <td>кафе «вишневая метель»</td>\n",
       "      <td>нет</td>\n",
       "      <td>кафе</td>\n",
       "      <td>город Москва, Абрамцевская улица, дом 9, корпус 1</td>\n",
       "      <td>50</td>\n",
       "      <td>Абрамцевская улица</td>\n",
       "    </tr>\n",
       "  </tbody>\n",
       "</table>\n",
       "</div>"
      ],
      "text/plain": [
       "       id                    name chain  type  \\\n",
       "0  151635                 сметана   нет  кафе   \n",
       "1   77874                  родник   нет  кафе   \n",
       "2   24309         кафе «академия»   нет  кафе   \n",
       "3   21894              пиццетория    да  кафе   \n",
       "4  119365  кафе «вишневая метель»   нет  кафе   \n",
       "\n",
       "                                             address  number  \\\n",
       "0         город Москва, улица Егора Абакумова, дом 9      48   \n",
       "1  город Москва, улица Талалихина, дом 2/1, корпус 1      35   \n",
       "2          город Москва, Абельмановская улица, дом 6      95   \n",
       "3            город Москва, Абрамцевская улица, дом 1      40   \n",
       "4  город Москва, Абрамцевская улица, дом 9, корпус 1      50   \n",
       "\n",
       "              streetname  \n",
       "0  улица Егора Абакумова  \n",
       "1       улица Талалихина  \n",
       "2   Абельмановская улица  \n",
       "3     Абрамцевская улица  \n",
       "4     Абрамцевская улица  "
      ]
     },
     "execution_count": 30,
     "metadata": {},
     "output_type": "execute_result"
    }
   ],
   "source": [
    "rest.head()"
   ]
  },
  {
   "cell_type": "markdown",
   "metadata": {},
   "source": [
    "### Добавление районов в общую таблицу"
   ]
  },
  {
   "cell_type": "markdown",
   "metadata": {},
   "source": [
    "Оставим в датафрейме `streets` только нужные нам колонки - название улицы и района"
   ]
  },
  {
   "cell_type": "code",
   "execution_count": 31,
   "metadata": {
    "scrolled": true
   },
   "outputs": [
    {
     "data": {
      "text/html": [
       "<div>\n",
       "<style scoped>\n",
       "    .dataframe tbody tr th:only-of-type {\n",
       "        vertical-align: middle;\n",
       "    }\n",
       "\n",
       "    .dataframe tbody tr th {\n",
       "        vertical-align: top;\n",
       "    }\n",
       "\n",
       "    .dataframe thead th {\n",
       "        text-align: right;\n",
       "    }\n",
       "</style>\n",
       "<table border=\"1\" class=\"dataframe\">\n",
       "  <thead>\n",
       "    <tr style=\"text-align: right;\">\n",
       "      <th></th>\n",
       "      <th>streetname</th>\n",
       "      <th>area</th>\n",
       "    </tr>\n",
       "  </thead>\n",
       "  <tbody>\n",
       "    <tr>\n",
       "      <th>0</th>\n",
       "      <td>Выставочный переулок</td>\n",
       "      <td>Пресненский район</td>\n",
       "    </tr>\n",
       "    <tr>\n",
       "      <th>1</th>\n",
       "      <td>улица Гашека</td>\n",
       "      <td>Пресненский район</td>\n",
       "    </tr>\n",
       "    <tr>\n",
       "      <th>2</th>\n",
       "      <td>Большая Никитская улица</td>\n",
       "      <td>Пресненский район</td>\n",
       "    </tr>\n",
       "    <tr>\n",
       "      <th>3</th>\n",
       "      <td>Глубокий переулок</td>\n",
       "      <td>Пресненский район</td>\n",
       "    </tr>\n",
       "    <tr>\n",
       "      <th>4</th>\n",
       "      <td>Большой Гнездниковский переулок</td>\n",
       "      <td>Пресненский район</td>\n",
       "    </tr>\n",
       "  </tbody>\n",
       "</table>\n",
       "</div>"
      ],
      "text/plain": [
       "                        streetname               area\n",
       "0             Выставочный переулок  Пресненский район\n",
       "1                     улица Гашека  Пресненский район\n",
       "2          Большая Никитская улица  Пресненский район\n",
       "3                Глубокий переулок  Пресненский район\n",
       "4  Большой Гнездниковский переулок  Пресненский район"
      ]
     },
     "execution_count": 31,
     "metadata": {},
     "output_type": "execute_result"
    }
   ],
   "source": [
    "streets = streets[['streetname', 'area']]\n",
    "streets.head()"
   ]
  },
  {
   "cell_type": "markdown",
   "metadata": {},
   "source": [
    "Объединеям основной датафрейм `rest` с датафреймом `streets` по названию улицы"
   ]
  },
  {
   "cell_type": "code",
   "execution_count": 32,
   "metadata": {
    "scrolled": true
   },
   "outputs": [
    {
     "data": {
      "text/html": [
       "<div>\n",
       "<style scoped>\n",
       "    .dataframe tbody tr th:only-of-type {\n",
       "        vertical-align: middle;\n",
       "    }\n",
       "\n",
       "    .dataframe tbody tr th {\n",
       "        vertical-align: top;\n",
       "    }\n",
       "\n",
       "    .dataframe thead th {\n",
       "        text-align: right;\n",
       "    }\n",
       "</style>\n",
       "<table border=\"1\" class=\"dataframe\">\n",
       "  <thead>\n",
       "    <tr style=\"text-align: right;\">\n",
       "      <th></th>\n",
       "      <th>id</th>\n",
       "      <th>name</th>\n",
       "      <th>chain</th>\n",
       "      <th>type</th>\n",
       "      <th>address</th>\n",
       "      <th>number</th>\n",
       "      <th>streetname</th>\n",
       "      <th>area</th>\n",
       "    </tr>\n",
       "  </thead>\n",
       "  <tbody>\n",
       "    <tr>\n",
       "      <th>0</th>\n",
       "      <td>151635</td>\n",
       "      <td>сметана</td>\n",
       "      <td>нет</td>\n",
       "      <td>кафе</td>\n",
       "      <td>город Москва, улица Егора Абакумова, дом 9</td>\n",
       "      <td>48</td>\n",
       "      <td>улица Егора Абакумова</td>\n",
       "      <td>Ярославский Район</td>\n",
       "    </tr>\n",
       "    <tr>\n",
       "      <th>1</th>\n",
       "      <td>77874</td>\n",
       "      <td>родник</td>\n",
       "      <td>нет</td>\n",
       "      <td>кафе</td>\n",
       "      <td>город Москва, улица Талалихина, дом 2/1, корпус 1</td>\n",
       "      <td>35</td>\n",
       "      <td>улица Талалихина</td>\n",
       "      <td>Таганский район</td>\n",
       "    </tr>\n",
       "    <tr>\n",
       "      <th>4</th>\n",
       "      <td>24309</td>\n",
       "      <td>кафе «академия»</td>\n",
       "      <td>нет</td>\n",
       "      <td>кафе</td>\n",
       "      <td>город Москва, Абельмановская улица, дом 6</td>\n",
       "      <td>95</td>\n",
       "      <td>Абельмановская улица</td>\n",
       "      <td>Таганский район</td>\n",
       "    </tr>\n",
       "    <tr>\n",
       "      <th>5</th>\n",
       "      <td>21894</td>\n",
       "      <td>пиццетория</td>\n",
       "      <td>да</td>\n",
       "      <td>кафе</td>\n",
       "      <td>город Москва, Абрамцевская улица, дом 1</td>\n",
       "      <td>40</td>\n",
       "      <td>Абрамцевская улица</td>\n",
       "      <td>Район Лианозово</td>\n",
       "    </tr>\n",
       "    <tr>\n",
       "      <th>6</th>\n",
       "      <td>119365</td>\n",
       "      <td>кафе «вишневая метель»</td>\n",
       "      <td>нет</td>\n",
       "      <td>кафе</td>\n",
       "      <td>город Москва, Абрамцевская улица, дом 9, корпус 1</td>\n",
       "      <td>50</td>\n",
       "      <td>Абрамцевская улица</td>\n",
       "      <td>Район Лианозово</td>\n",
       "    </tr>\n",
       "  </tbody>\n",
       "</table>\n",
       "</div>"
      ],
      "text/plain": [
       "       id                    name chain  type  \\\n",
       "0  151635                 сметана   нет  кафе   \n",
       "1   77874                  родник   нет  кафе   \n",
       "4   24309         кафе «академия»   нет  кафе   \n",
       "5   21894              пиццетория    да  кафе   \n",
       "6  119365  кафе «вишневая метель»   нет  кафе   \n",
       "\n",
       "                                             address  number  \\\n",
       "0         город Москва, улица Егора Абакумова, дом 9      48   \n",
       "1  город Москва, улица Талалихина, дом 2/1, корпус 1      35   \n",
       "4          город Москва, Абельмановская улица, дом 6      95   \n",
       "5            город Москва, Абрамцевская улица, дом 1      40   \n",
       "6  город Москва, Абрамцевская улица, дом 9, корпус 1      50   \n",
       "\n",
       "              streetname               area  \n",
       "0  улица Егора Абакумова  Ярославский Район  \n",
       "1       улица Талалихина    Таганский район  \n",
       "4   Абельмановская улица    Таганский район  \n",
       "5     Абрамцевская улица    Район Лианозово  \n",
       "6     Абрамцевская улица    Район Лианозово  "
      ]
     },
     "execution_count": 32,
     "metadata": {},
     "output_type": "execute_result"
    }
   ],
   "source": [
    "rest = rest.merge(streets, on='streetname', how='left').drop_duplicates(subset='id')\n",
    "rest = rest.dropna(subset=['area']) #выбросим пропуски в колонке area\n",
    "rest.head()"
   ]
  },
  {
   "cell_type": "markdown",
   "metadata": {},
   "source": [
    "### Топ 10 улиц по количеству объектов общественного питания"
   ]
  },
  {
   "cell_type": "markdown",
   "metadata": {},
   "source": [
    "Выделим топ 10 улиц по количеству объектов общественного питания"
   ]
  },
  {
   "cell_type": "code",
   "execution_count": 33,
   "metadata": {
    "scrolled": false
   },
   "outputs": [],
   "source": [
    "rest = rest.query('streetname != \"город Зеленоград\"')\n",
    "top_streets = rest['streetname'].value_counts().head(10)\n",
    "top_streets_dict = top_streets.to_dict()"
   ]
  },
  {
   "cell_type": "markdown",
   "metadata": {},
   "source": [
    "Создадим датафрейм, в который добавим название улицы, количество заведений на ней и район, где находится эта улица."
   ]
  },
  {
   "cell_type": "code",
   "execution_count": 34,
   "metadata": {},
   "outputs": [
    {
     "data": {
      "text/html": [
       "<div>\n",
       "<style scoped>\n",
       "    .dataframe tbody tr th:only-of-type {\n",
       "        vertical-align: middle;\n",
       "    }\n",
       "\n",
       "    .dataframe tbody tr th {\n",
       "        vertical-align: top;\n",
       "    }\n",
       "\n",
       "    .dataframe thead th {\n",
       "        text-align: right;\n",
       "    }\n",
       "</style>\n",
       "<table border=\"1\" class=\"dataframe\">\n",
       "  <thead>\n",
       "    <tr style=\"text-align: right;\">\n",
       "      <th></th>\n",
       "      <th>streetname</th>\n",
       "      <th>area</th>\n",
       "      <th>count</th>\n",
       "    </tr>\n",
       "  </thead>\n",
       "  <tbody>\n",
       "    <tr>\n",
       "      <th>0</th>\n",
       "      <td>проспект Мира</td>\n",
       "      <td>Алексеевский район</td>\n",
       "      <td>193</td>\n",
       "    </tr>\n",
       "    <tr>\n",
       "      <th>1</th>\n",
       "      <td>Профсоюзная улица</td>\n",
       "      <td>Академический район</td>\n",
       "      <td>173</td>\n",
       "    </tr>\n",
       "    <tr>\n",
       "      <th>2</th>\n",
       "      <td>Ленинградский проспект</td>\n",
       "      <td>Район Аэропорт</td>\n",
       "      <td>167</td>\n",
       "    </tr>\n",
       "    <tr>\n",
       "      <th>3</th>\n",
       "      <td>Пресненская набережная</td>\n",
       "      <td>Пресненский район</td>\n",
       "      <td>160</td>\n",
       "    </tr>\n",
       "    <tr>\n",
       "      <th>4</th>\n",
       "      <td>Варшавское шоссе</td>\n",
       "      <td>Район Чертаново Центральное</td>\n",
       "      <td>152</td>\n",
       "    </tr>\n",
       "    <tr>\n",
       "      <th>5</th>\n",
       "      <td>Ленинский проспект</td>\n",
       "      <td>Район Проспект Вернадского</td>\n",
       "      <td>137</td>\n",
       "    </tr>\n",
       "    <tr>\n",
       "      <th>6</th>\n",
       "      <td>проспект Вернадского</td>\n",
       "      <td>Район Проспект Вернадского</td>\n",
       "      <td>124</td>\n",
       "    </tr>\n",
       "    <tr>\n",
       "      <th>7</th>\n",
       "      <td>Каширское шоссе</td>\n",
       "      <td>Район Москворечье-Сабурово</td>\n",
       "      <td>105</td>\n",
       "    </tr>\n",
       "    <tr>\n",
       "      <th>8</th>\n",
       "      <td>Кутузовский проспект</td>\n",
       "      <td>Район Дорогомилово</td>\n",
       "      <td>105</td>\n",
       "    </tr>\n",
       "    <tr>\n",
       "      <th>9</th>\n",
       "      <td>Ходынский бульвар</td>\n",
       "      <td>Хорошевский район</td>\n",
       "      <td>101</td>\n",
       "    </tr>\n",
       "  </tbody>\n",
       "</table>\n",
       "</div>"
      ],
      "text/plain": [
       "               streetname                         area  count\n",
       "0           проспект Мира           Алексеевский район    193\n",
       "1       Профсоюзная улица          Академический район    173\n",
       "2  Ленинградский проспект               Район Аэропорт    167\n",
       "3  Пресненская набережная            Пресненский район    160\n",
       "4        Варшавское шоссе  Район Чертаново Центральное    152\n",
       "5      Ленинский проспект   Район Проспект Вернадского    137\n",
       "6    проспект Вернадского   Район Проспект Вернадского    124\n",
       "7         Каширское шоссе   Район Москворечье-Сабурово    105\n",
       "8    Кутузовский проспект           Район Дорогомилово    105\n",
       "9       Ходынский бульвар            Хорошевский район    101"
      ]
     },
     "execution_count": 34,
     "metadata": {},
     "output_type": "execute_result"
    }
   ],
   "source": [
    "top_streets_df = rest[rest['streetname'].isin(top_streets_dict.keys())]\n",
    "top_streets_grouped = (top_streets_df.groupby(['streetname','area'])['streetname'].count()\n",
    "                                     .sort_values(ascending=False).reset_index(name='count'))\n",
    "top_streets_grouped"
   ]
  },
  {
   "cell_type": "markdown",
   "metadata": {},
   "source": [
    "Теперь построим график "
   ]
  },
  {
   "cell_type": "code",
   "execution_count": 35,
   "metadata": {
    "scrolled": false
   },
   "outputs": [
    {
     "data": {
      "image/png": "[encoded data removed]",
      "text/plain": [
       "<Figure size 720x504 with 1 Axes>"
      ]
     },
     "metadata": {},
     "output_type": "display_data"
    }
   ],
   "source": [
    "plt.figure(figsize=(10,7))\n",
    "\n",
    "ax = sns.barplot(x='count',y='streetname', data=top_streets_grouped, ci=None)\n",
    "ax.set_xlabel('Количество заведений', fontsize = 14)\n",
    "ax.set_ylabel('Название улицы', fontsize = 14)\n",
    "ax.set_title('Топ 10 улиц по количеству заведений общественного питания', fontsize=16)\n",
    "\n",
    "plt.show()"
   ]
  },
  {
   "cell_type": "markdown",
   "metadata": {},
   "source": [
    "**Вывод**\n",
    "\n",
    "Графики наглядно показывает топ 10 улиц по количеству заведений общественного питания. Лидером по количеству заведений оказался проспект Мира и Алексеевский район соответственно."
   ]
  },
  {
   "cell_type": "markdown",
   "metadata": {},
   "source": [
    "### Улицы с одним заведением"
   ]
  },
  {
   "cell_type": "markdown",
   "metadata": {},
   "source": [
    "Посчитаем количество улиц, на которых находится всего одно заведение"
   ]
  },
  {
   "cell_type": "code",
   "execution_count": 36,
   "metadata": {},
   "outputs": [
    {
     "data": {
      "text/plain": [
       "498"
      ]
     },
     "execution_count": 36,
     "metadata": {},
     "output_type": "execute_result"
    }
   ],
   "source": [
    "one_est = rest['streetname'].value_counts()[rest['streetname'].value_counts()==1]\n",
    "one_est.count()"
   ]
  },
  {
   "cell_type": "markdown",
   "metadata": {},
   "source": [
    "Получили целых 498 улиц!"
   ]
  },
  {
   "cell_type": "markdown",
   "metadata": {},
   "source": [
    "Теперь с помощью сводной таблицы выделим топ 10 райнонов по количеству улиц с одним заведением"
   ]
  },
  {
   "cell_type": "code",
   "execution_count": 37,
   "metadata": {},
   "outputs": [
    {
     "data": {
      "text/html": [
       "<div>\n",
       "<style scoped>\n",
       "    .dataframe tbody tr th:only-of-type {\n",
       "        vertical-align: middle;\n",
       "    }\n",
       "\n",
       "    .dataframe tbody tr th {\n",
       "        vertical-align: top;\n",
       "    }\n",
       "\n",
       "    .dataframe thead th {\n",
       "        text-align: right;\n",
       "    }\n",
       "</style>\n",
       "<table border=\"1\" class=\"dataframe\">\n",
       "  <thead>\n",
       "    <tr style=\"text-align: right;\">\n",
       "      <th></th>\n",
       "      <th>area</th>\n",
       "      <th>count</th>\n",
       "    </tr>\n",
       "  </thead>\n",
       "  <tbody>\n",
       "    <tr>\n",
       "      <th>0</th>\n",
       "      <td>Таганский район</td>\n",
       "      <td>27</td>\n",
       "    </tr>\n",
       "    <tr>\n",
       "      <th>1</th>\n",
       "      <td>Басманный район</td>\n",
       "      <td>24</td>\n",
       "    </tr>\n",
       "    <tr>\n",
       "      <th>2</th>\n",
       "      <td>Район Хамовники</td>\n",
       "      <td>23</td>\n",
       "    </tr>\n",
       "    <tr>\n",
       "      <th>3</th>\n",
       "      <td>Тверской район</td>\n",
       "      <td>21</td>\n",
       "    </tr>\n",
       "    <tr>\n",
       "      <th>4</th>\n",
       "      <td>Пресненский район</td>\n",
       "      <td>20</td>\n",
       "    </tr>\n",
       "    <tr>\n",
       "      <th>5</th>\n",
       "      <td>Район Марьина роща</td>\n",
       "      <td>15</td>\n",
       "    </tr>\n",
       "    <tr>\n",
       "      <th>6</th>\n",
       "      <td>Район Сокольники</td>\n",
       "      <td>15</td>\n",
       "    </tr>\n",
       "    <tr>\n",
       "      <th>7</th>\n",
       "      <td>Район Арбат</td>\n",
       "      <td>14</td>\n",
       "    </tr>\n",
       "    <tr>\n",
       "      <th>8</th>\n",
       "      <td>Мещанский район</td>\n",
       "      <td>13</td>\n",
       "    </tr>\n",
       "    <tr>\n",
       "      <th>9</th>\n",
       "      <td>Район Замоскворечье</td>\n",
       "      <td>13</td>\n",
       "    </tr>\n",
       "  </tbody>\n",
       "</table>\n",
       "</div>"
      ],
      "text/plain": [
       "                  area  count\n",
       "0      Таганский район     27\n",
       "1      Басманный район     24\n",
       "2      Район Хамовники     23\n",
       "3       Тверской район     21\n",
       "4    Пресненский район     20\n",
       "5   Район Марьина роща     15\n",
       "6     Район Сокольники     15\n",
       "7          Район Арбат     14\n",
       "8      Мещанский район     13\n",
       "9  Район Замоскворечье     13"
      ]
     },
     "execution_count": 37,
     "metadata": {},
     "output_type": "execute_result"
    }
   ],
   "source": [
    "one_est_dict = one_est.to_dict()\n",
    "one_est_df = rest[rest['streetname'].isin(one_est_dict.keys())]\n",
    "one_est_df.groupby(['area'])['area'].count().sort_values(ascending=False).reset_index(name='count').head(10)"
   ]
  },
  {
   "cell_type": "markdown",
   "metadata": {},
   "source": [
    "**Вывод**\n",
    "\n",
    "Лидерами по количеству улиц с одним заведением стали районы Таганский, Басманный и Хамовники"
   ]
  },
  {
   "cell_type": "markdown",
   "metadata": {},
   "source": [
    "### Распределение количества посадочных мест для улиц с большим количеством заведений"
   ]
  },
  {
   "cell_type": "markdown",
   "metadata": {},
   "source": [
    "Создадим датафрейм, в котором оставим топ 30 улиц по количеству заведений"
   ]
  },
  {
   "cell_type": "code",
   "execution_count": 38,
   "metadata": {},
   "outputs": [],
   "source": [
    "top_streets2 = rest['streetname'].value_counts().head(30)\n",
    "top_streets2_dict = top_streets2.to_dict()\n",
    "top_streets2_df = rest[rest['streetname'].isin(top_streets2_dict.keys())].sort_values(by='number', ascending=False)"
   ]
  },
  {
   "cell_type": "code",
   "execution_count": 39,
   "metadata": {},
   "outputs": [],
   "source": [
    "top_streets2_grouped = top_streets2_df.groupby(\n",
    "    'streetname', as_index=False)['number'].agg('mean').sort_values(by='number',ascending=False)"
   ]
  },
  {
   "cell_type": "markdown",
   "metadata": {},
   "source": [
    "Построим столбчатый график, которые покажет среднее количество посадочных мест для каждой улицы"
   ]
  },
  {
   "cell_type": "code",
   "execution_count": 40,
   "metadata": {
    "scrolled": false
   },
   "outputs": [
    {
     "data": {
      "image/png": "[encoded data removed]",
      "text/plain": [
       "<Figure size 1152x648 with 1 Axes>"
      ]
     },
     "metadata": {},
     "output_type": "display_data"
    }
   ],
   "source": [
    "plt.figure(figsize=(16,9))\n",
    "plt.xticks(rotation=-90)\n",
    "\n",
    "ax = sns.barplot(x='streetname',y='number', data=top_streets2_grouped, ci=None)\n",
    "ax.set(xlabel='Название улицы', ylabel='Среднее количество мест', \n",
    "       title='Распределение количества посадочных мест для улиц с большим количеством заведений')\n",
    "plt.show()"
   ]
  },
  {
   "cell_type": "markdown",
   "metadata": {},
   "source": [
    "**Вывод**\n",
    "\n",
    "Какие закономерности видны на графике:\n",
    "\n",
    "* В среднем на шоссе и проспектах наблюдается большее количество мест, чем на улицах (что логично, учитывая размер шоссе и проспектов)\n",
    "* Часть из улиц, попавших в этот топ 30, являются центральными. Неудивительно, в центре всегда есть спрос на заведения общественного питания\n",
    "* Часть из улиц находятся на достаточном расстоянии от центра. Могу сделать предположение, что они здесь оказались, так как находятся в густонаселенных районах Москвы"
   ]
  },
  {
   "cell_type": "markdown",
   "metadata": {},
   "source": [
    "Построим тот же график, но в разрезе сетевых и несетевых заведений"
   ]
  },
  {
   "cell_type": "code",
   "execution_count": 41,
   "metadata": {},
   "outputs": [],
   "source": [
    "top_streets2_grouped_2 = top_streets2_grouped = top_streets2_df.groupby(\n",
    "    ['streetname', 'chain'], as_index=False)['number'].agg('mean').sort_values(by='number',ascending=False)"
   ]
  },
  {
   "cell_type": "code",
   "execution_count": 42,
   "metadata": {},
   "outputs": [
    {
     "data": {
      "image/png": "[encoded data removed]",
      "text/plain": [
       "<Figure size 1152x648 with 1 Axes>"
      ]
     },
     "metadata": {},
     "output_type": "display_data"
    }
   ],
   "source": [
    "plt.figure(figsize=(16,9))\n",
    "plt.xticks(rotation=-90)\n",
    "\n",
    "ax = sns.barplot(x='streetname',y='number',hue='chain', data=top_streets2_grouped_2, ci=None)\n",
    "ax.set(xlabel='Название улицы', ylabel='Среднее количество мест', \n",
    "       title='Распределение количества посадочных мест для улиц с большим количеством заведений (сетевых и несетевых)')\n",
    "ax.legend(title=\"Сеть\")\n",
    "\n",
    "plt.show()"
   ]
  },
  {
   "cell_type": "markdown",
   "metadata": {},
   "source": [
    "**Вывод**\n",
    "\n",
    "Если рассматривать предыдущий график, но в разрезе сетевых и несетевых заведений, то можно заметить, что в сетевых заведениях практически во всех случаях (23 против 7) больше посадочных мест, чем в несетевых заведениях."
   ]
  },
  {
   "cell_type": "markdown",
   "metadata": {},
   "source": [
    "## Общий вывод"
   ]
  },
  {
   "cell_type": "markdown",
   "metadata": {},
   "source": [
    "* Основываясь на результатах исследования, можно сделать вывод о том, что самым перспективным видом заведения является кафе, так как их наибольшее количество, как по общему счёту (42.3%), так и по сетевому (48.5%). Менее перспективными являются рестораны и заведения быстрого питания, так как их меньше как по общему количеству (14.4% и 13.4%), так и по и сетевому (16.6% и 26.3%) соответственно\n",
    "\n",
    "* Если говорить о количество посадочных мест в перспективном кафе, то можно сказать, что оптимальным для данного вида заведения будет либо совсем небольшое количество посадочных мест (до 4), либо среднее количество (10-24)\n",
    "\n",
    "* Перспективным районами являются Алексеевский, Академический, Аэропорт и Пресненский. Этот вывод можно сделать по большому количеству заведений, которые находятся в этих районах\n",
    "\n",
    "* Так же можно сказать, основываясь на количестве сетевых кафе, что развивать сеть кафе и открывать новые филиалы в других районах является весьма перспективным\n",
    "\n",
    "* Стоит заметить, что для полноценного анализа не помешали бы еще и данные о бюджете."
   ]
  },
  {
   "cell_type": "markdown",
   "metadata": {},
   "source": [
    "## Презентация"
   ]
  },
  {
   "cell_type": "markdown",
   "metadata": {},
   "source": [
    "Ссылка на презентацию:\n",
    "\n",
    "https://drive.google.com/file/d/1RFw-xlre1rvRh968YVfn_jcBKDJ0KT3x/view?usp=sharing"
   ]
  }
 ],
 "metadata": {
  "ExecuteTimeLog": [
   {
    "duration": 335,
    "start_time": "2021-11-22T12:06:45.734Z"
   },
   {
    "duration": 1633,
    "start_time": "2021-11-22T12:06:49.994Z"
   },
   {
    "duration": 45,
    "start_time": "2021-11-22T12:06:51.629Z"
   },
   {
    "duration": 8,
    "start_time": "2021-11-22T12:06:51.676Z"
   },
   {
    "duration": 46,
    "start_time": "2021-11-22T12:20:25.493Z"
   },
   {
    "duration": 8,
    "start_time": "2021-11-22T12:20:25.813Z"
   },
   {
    "duration": 16,
    "start_time": "2021-11-22T12:21:00.213Z"
   },
   {
    "duration": 15,
    "start_time": "2021-11-22T12:21:09.373Z"
   },
   {
    "duration": 12,
    "start_time": "2021-11-22T12:21:13.153Z"
   },
   {
    "duration": 6,
    "start_time": "2021-11-22T12:29:25.079Z"
   },
   {
    "duration": 13,
    "start_time": "2021-11-22T12:29:47.080Z"
   },
   {
    "duration": 7,
    "start_time": "2021-11-22T12:30:37.579Z"
   },
   {
    "duration": 8,
    "start_time": "2021-11-22T12:30:45.999Z"
   },
   {
    "duration": 10,
    "start_time": "2021-11-22T12:32:50.499Z"
   },
   {
    "duration": 15,
    "start_time": "2021-11-22T12:34:17.959Z"
   },
   {
    "duration": 16,
    "start_time": "2021-11-22T12:34:34.069Z"
   },
   {
    "duration": 27,
    "start_time": "2021-11-22T12:34:54.079Z"
   },
   {
    "duration": 2,
    "start_time": "2021-11-22T12:36:13.747Z"
   },
   {
    "duration": 7,
    "start_time": "2021-11-22T12:36:18.279Z"
   },
   {
    "duration": 13,
    "start_time": "2021-11-22T12:37:09.918Z"
   },
   {
    "duration": 15,
    "start_time": "2021-11-22T12:37:20.999Z"
   },
   {
    "duration": 8,
    "start_time": "2021-11-22T12:42:10.069Z"
   },
   {
    "duration": 5,
    "start_time": "2021-11-22T12:42:19.659Z"
   },
   {
    "duration": 95,
    "start_time": "2021-11-22T12:44:26.626Z"
   },
   {
    "duration": 17,
    "start_time": "2021-11-22T12:44:34.057Z"
   },
   {
    "duration": 13,
    "start_time": "2021-11-22T12:44:42.927Z"
   },
   {
    "duration": 5,
    "start_time": "2021-11-22T12:47:59.428Z"
   },
   {
    "duration": 7,
    "start_time": "2021-11-22T12:48:43.651Z"
   },
   {
    "duration": 8,
    "start_time": "2021-11-22T12:48:52.577Z"
   },
   {
    "duration": 306,
    "start_time": "2021-11-22T12:50:33.298Z"
   },
   {
    "duration": 89,
    "start_time": "2021-11-22T12:50:45.848Z"
   },
   {
    "duration": 8,
    "start_time": "2021-11-22T12:50:56.837Z"
   },
   {
    "duration": 9,
    "start_time": "2021-11-22T12:51:02.635Z"
   },
   {
    "duration": 9,
    "start_time": "2021-11-22T12:55:40.246Z"
   },
   {
    "duration": 15,
    "start_time": "2021-11-22T12:55:53.927Z"
   },
   {
    "duration": 18,
    "start_time": "2021-11-22T12:56:12.728Z"
   },
   {
    "duration": 15,
    "start_time": "2021-11-22T12:56:53.047Z"
   },
   {
    "duration": 5,
    "start_time": "2021-11-22T13:02:16.169Z"
   },
   {
    "duration": 15,
    "start_time": "2021-11-22T13:02:21.160Z"
   },
   {
    "duration": 5,
    "start_time": "2021-11-22T13:02:28.559Z"
   },
   {
    "duration": 47,
    "start_time": "2021-11-22T13:02:28.565Z"
   },
   {
    "duration": 10,
    "start_time": "2021-11-22T13:02:28.614Z"
   },
   {
    "duration": 17,
    "start_time": "2021-11-22T13:02:28.627Z"
   },
   {
    "duration": 11,
    "start_time": "2021-11-22T13:02:28.646Z"
   },
   {
    "duration": 13,
    "start_time": "2021-11-22T13:02:28.659Z"
   },
   {
    "duration": 25,
    "start_time": "2021-11-22T13:02:28.674Z"
   },
   {
    "duration": 5,
    "start_time": "2021-11-22T13:02:28.701Z"
   },
   {
    "duration": 23,
    "start_time": "2021-11-22T13:02:28.709Z"
   },
   {
    "duration": 22,
    "start_time": "2021-11-22T13:02:28.734Z"
   },
   {
    "duration": 132,
    "start_time": "2021-11-22T13:08:02.312Z"
   },
   {
    "duration": 260,
    "start_time": "2021-11-22T13:08:58.712Z"
   },
   {
    "duration": 264,
    "start_time": "2021-11-22T13:09:04.071Z"
   },
   {
    "duration": 267,
    "start_time": "2021-11-22T13:09:33.432Z"
   },
   {
    "duration": 3,
    "start_time": "2021-11-22T13:09:44.872Z"
   },
   {
    "duration": 48,
    "start_time": "2021-11-22T13:09:44.877Z"
   },
   {
    "duration": 7,
    "start_time": "2021-11-22T13:09:44.927Z"
   },
   {
    "duration": 3,
    "start_time": "2021-11-22T13:09:44.936Z"
   },
   {
    "duration": 9,
    "start_time": "2021-11-22T13:09:44.940Z"
   },
   {
    "duration": 17,
    "start_time": "2021-11-22T13:09:44.951Z"
   },
   {
    "duration": 40,
    "start_time": "2021-11-22T13:09:44.969Z"
   },
   {
    "duration": 5,
    "start_time": "2021-11-22T13:09:45.011Z"
   },
   {
    "duration": 14,
    "start_time": "2021-11-22T13:09:45.018Z"
   },
   {
    "duration": 23,
    "start_time": "2021-11-22T13:09:45.033Z"
   },
   {
    "duration": 252,
    "start_time": "2021-11-22T13:09:45.057Z"
   },
   {
    "duration": 30366,
    "start_time": "2021-11-22T13:09:14.945Z"
   },
   {
    "duration": 20,
    "start_time": "2021-11-22T13:11:28.081Z"
   },
   {
    "duration": 131,
    "start_time": "2021-11-22T13:13:20.393Z"
   },
   {
    "duration": 112,
    "start_time": "2021-11-22T13:16:32.694Z"
   },
   {
    "duration": 111,
    "start_time": "2021-11-22T13:21:17.012Z"
   },
   {
    "duration": 25,
    "start_time": "2021-11-22T13:22:16.222Z"
   },
   {
    "duration": 13,
    "start_time": "2021-11-22T13:22:22.301Z"
   },
   {
    "duration": 113,
    "start_time": "2021-11-22T13:22:34.972Z"
   },
   {
    "duration": 279,
    "start_time": "2021-11-22T13:55:55.946Z"
   },
   {
    "duration": 300,
    "start_time": "2021-11-22T13:56:01.938Z"
   },
   {
    "duration": 41,
    "start_time": "2021-11-22T13:56:02.239Z"
   },
   {
    "duration": 8,
    "start_time": "2021-11-22T13:56:02.282Z"
   },
   {
    "duration": 5,
    "start_time": "2021-11-22T13:56:02.291Z"
   },
   {
    "duration": 10,
    "start_time": "2021-11-22T13:56:02.297Z"
   },
   {
    "duration": 18,
    "start_time": "2021-11-22T13:56:02.308Z"
   },
   {
    "duration": 13,
    "start_time": "2021-11-22T13:56:02.328Z"
   },
   {
    "duration": 5,
    "start_time": "2021-11-22T13:56:02.342Z"
   },
   {
    "duration": 12,
    "start_time": "2021-11-22T13:56:02.349Z"
   },
   {
    "duration": 41,
    "start_time": "2021-11-22T13:56:02.362Z"
   },
   {
    "duration": 119,
    "start_time": "2021-11-22T13:56:02.405Z"
   },
   {
    "duration": 122,
    "start_time": "2021-11-22T13:56:02.526Z"
   },
   {
    "duration": 8,
    "start_time": "2021-11-22T13:56:02.649Z"
   },
   {
    "duration": 6144,
    "start_time": "2021-11-22T13:56:02.658Z"
   },
   {
    "duration": 17,
    "start_time": "2021-11-22T13:57:39.307Z"
   },
   {
    "duration": 3,
    "start_time": "2021-11-22T13:57:49.466Z"
   },
   {
    "duration": 45,
    "start_time": "2021-11-22T13:57:49.471Z"
   },
   {
    "duration": 8,
    "start_time": "2021-11-22T13:57:49.518Z"
   },
   {
    "duration": 26,
    "start_time": "2021-11-22T13:57:49.527Z"
   },
   {
    "duration": 24,
    "start_time": "2021-11-22T13:57:49.554Z"
   },
   {
    "duration": 33,
    "start_time": "2021-11-22T13:57:49.579Z"
   },
   {
    "duration": 26,
    "start_time": "2021-11-22T13:57:49.613Z"
   },
   {
    "duration": 62,
    "start_time": "2021-11-22T13:57:49.640Z"
   },
   {
    "duration": 9,
    "start_time": "2021-11-22T13:57:49.704Z"
   },
   {
    "duration": 21,
    "start_time": "2021-11-22T13:57:49.714Z"
   },
   {
    "duration": 129,
    "start_time": "2021-11-22T13:57:49.736Z"
   },
   {
    "duration": 122,
    "start_time": "2021-11-22T13:57:49.867Z"
   },
   {
    "duration": 8,
    "start_time": "2021-11-22T13:57:49.990Z"
   },
   {
    "duration": 248,
    "start_time": "2021-11-22T13:57:49.999Z"
   },
   {
    "duration": 3,
    "start_time": "2021-11-22T13:59:28.897Z"
   },
   {
    "duration": 46,
    "start_time": "2021-11-22T13:59:28.902Z"
   },
   {
    "duration": 7,
    "start_time": "2021-11-22T13:59:28.950Z"
   },
   {
    "duration": 4,
    "start_time": "2021-11-22T13:59:28.959Z"
   },
   {
    "duration": 11,
    "start_time": "2021-11-22T13:59:28.964Z"
   },
   {
    "duration": 12,
    "start_time": "2021-11-22T13:59:28.976Z"
   },
   {
    "duration": 13,
    "start_time": "2021-11-22T13:59:28.990Z"
   },
   {
    "duration": 3,
    "start_time": "2021-11-22T13:59:29.005Z"
   },
   {
    "duration": 10,
    "start_time": "2021-11-22T13:59:29.010Z"
   },
   {
    "duration": 14,
    "start_time": "2021-11-22T13:59:29.021Z"
   },
   {
    "duration": 140,
    "start_time": "2021-11-22T13:59:29.036Z"
   },
   {
    "duration": 123,
    "start_time": "2021-11-22T13:59:29.177Z"
   },
   {
    "duration": 9,
    "start_time": "2021-11-22T13:59:29.301Z"
   },
   {
    "duration": 10,
    "start_time": "2021-11-22T13:59:38.656Z"
   },
   {
    "duration": 8,
    "start_time": "2021-11-22T14:00:03.586Z"
   },
   {
    "duration": 105,
    "start_time": "2021-11-22T14:00:22.216Z"
   },
   {
    "duration": 7,
    "start_time": "2021-11-22T14:04:06.103Z"
   },
   {
    "duration": 11,
    "start_time": "2021-11-22T14:04:12.862Z"
   },
   {
    "duration": 5,
    "start_time": "2021-11-22T14:04:21.892Z"
   },
   {
    "duration": 4,
    "start_time": "2021-11-22T14:04:39.082Z"
   },
   {
    "duration": 43,
    "start_time": "2021-11-22T14:04:39.133Z"
   },
   {
    "duration": 7,
    "start_time": "2021-11-22T14:04:39.178Z"
   },
   {
    "duration": 31,
    "start_time": "2021-11-22T14:04:39.187Z"
   },
   {
    "duration": 47,
    "start_time": "2021-11-22T14:04:39.220Z"
   },
   {
    "duration": 32,
    "start_time": "2021-11-22T14:04:39.269Z"
   },
   {
    "duration": 15,
    "start_time": "2021-11-22T14:04:39.303Z"
   },
   {
    "duration": 26,
    "start_time": "2021-11-22T14:04:39.319Z"
   },
   {
    "duration": 9,
    "start_time": "2021-11-22T14:04:39.347Z"
   },
   {
    "duration": 33,
    "start_time": "2021-11-22T14:04:39.358Z"
   },
   {
    "duration": 34,
    "start_time": "2021-11-22T14:04:39.392Z"
   },
   {
    "duration": 149,
    "start_time": "2021-11-22T14:04:39.428Z"
   },
   {
    "duration": 119,
    "start_time": "2021-11-22T14:04:39.579Z"
   },
   {
    "duration": 9,
    "start_time": "2021-11-22T14:04:39.700Z"
   },
   {
    "duration": 4,
    "start_time": "2021-11-22T14:08:08.082Z"
   },
   {
    "duration": 245,
    "start_time": "2021-11-22T14:08:14.042Z"
   },
   {
    "duration": 10,
    "start_time": "2021-11-22T14:08:20.042Z"
   },
   {
    "duration": 637,
    "start_time": "2021-11-22T14:09:01.063Z"
   },
   {
    "duration": 286,
    "start_time": "2021-11-22T14:10:35.842Z"
   },
   {
    "duration": 191,
    "start_time": "2021-11-22T14:12:13.482Z"
   },
   {
    "duration": 157,
    "start_time": "2021-11-22T14:12:23.562Z"
   },
   {
    "duration": 1468,
    "start_time": "2021-11-22T14:13:38.871Z"
   },
   {
    "duration": 43,
    "start_time": "2021-11-22T14:13:40.341Z"
   },
   {
    "duration": 10,
    "start_time": "2021-11-22T14:13:40.386Z"
   },
   {
    "duration": 11,
    "start_time": "2021-11-22T14:13:40.398Z"
   },
   {
    "duration": 24,
    "start_time": "2021-11-22T14:13:40.411Z"
   },
   {
    "duration": 28,
    "start_time": "2021-11-22T14:13:40.436Z"
   },
   {
    "duration": 11,
    "start_time": "2021-11-22T14:13:40.465Z"
   },
   {
    "duration": 23,
    "start_time": "2021-11-22T14:13:40.477Z"
   },
   {
    "duration": 5,
    "start_time": "2021-11-22T14:13:40.503Z"
   },
   {
    "duration": 14,
    "start_time": "2021-11-22T14:13:40.510Z"
   },
   {
    "duration": 22,
    "start_time": "2021-11-22T14:13:40.526Z"
   },
   {
    "duration": 145,
    "start_time": "2021-11-22T14:13:40.550Z"
   },
   {
    "duration": 113,
    "start_time": "2021-11-22T14:13:40.696Z"
   },
   {
    "duration": 8,
    "start_time": "2021-11-22T14:13:40.811Z"
   },
   {
    "duration": 610,
    "start_time": "2021-11-22T14:13:40.820Z"
   },
   {
    "duration": 413,
    "start_time": "2021-11-22T14:13:41.431Z"
   },
   {
    "duration": 6,
    "start_time": "2021-11-22T14:14:36.370Z"
   },
   {
    "duration": 10,
    "start_time": "2021-11-22T14:16:39.252Z"
   },
   {
    "duration": 435,
    "start_time": "2021-11-22T14:17:29.428Z"
   },
   {
    "duration": 3,
    "start_time": "2021-11-22T14:17:34.379Z"
   },
   {
    "duration": 47,
    "start_time": "2021-11-22T14:17:34.384Z"
   },
   {
    "duration": 8,
    "start_time": "2021-11-22T14:17:34.432Z"
   },
   {
    "duration": 20,
    "start_time": "2021-11-22T14:17:34.442Z"
   },
   {
    "duration": 26,
    "start_time": "2021-11-22T14:17:34.464Z"
   },
   {
    "duration": 20,
    "start_time": "2021-11-22T14:17:34.491Z"
   },
   {
    "duration": 11,
    "start_time": "2021-11-22T14:17:34.513Z"
   },
   {
    "duration": 28,
    "start_time": "2021-11-22T14:17:34.526Z"
   },
   {
    "duration": 15,
    "start_time": "2021-11-22T14:17:34.556Z"
   },
   {
    "duration": 20,
    "start_time": "2021-11-22T14:17:34.572Z"
   },
   {
    "duration": 24,
    "start_time": "2021-11-22T14:17:34.593Z"
   },
   {
    "duration": 133,
    "start_time": "2021-11-22T14:17:34.618Z"
   },
   {
    "duration": 112,
    "start_time": "2021-11-22T14:17:34.752Z"
   },
   {
    "duration": 8,
    "start_time": "2021-11-22T14:17:34.866Z"
   },
   {
    "duration": 15,
    "start_time": "2021-11-22T14:17:34.875Z"
   },
   {
    "duration": 10,
    "start_time": "2021-11-22T14:17:34.892Z"
   },
   {
    "duration": 216,
    "start_time": "2021-11-22T14:17:34.903Z"
   },
   {
    "duration": 282,
    "start_time": "2021-11-22T14:17:35.121Z"
   },
   {
    "duration": 6,
    "start_time": "2021-11-22T14:18:11.788Z"
   },
   {
    "duration": 3,
    "start_time": "2021-11-22T14:19:36.728Z"
   },
   {
    "duration": 45,
    "start_time": "2021-11-22T14:19:36.733Z"
   },
   {
    "duration": 8,
    "start_time": "2021-11-22T14:19:36.780Z"
   },
   {
    "duration": 3,
    "start_time": "2021-11-22T14:19:36.790Z"
   },
   {
    "duration": 9,
    "start_time": "2021-11-22T14:19:36.795Z"
   },
   {
    "duration": 12,
    "start_time": "2021-11-22T14:19:36.806Z"
   },
   {
    "duration": 5,
    "start_time": "2021-11-22T14:19:36.819Z"
   },
   {
    "duration": 16,
    "start_time": "2021-11-22T14:19:36.826Z"
   },
   {
    "duration": 4,
    "start_time": "2021-11-22T14:19:36.843Z"
   },
   {
    "duration": 40,
    "start_time": "2021-11-22T14:19:36.849Z"
   },
   {
    "duration": 14,
    "start_time": "2021-11-22T14:19:36.890Z"
   },
   {
    "duration": 127,
    "start_time": "2021-11-22T14:19:36.905Z"
   },
   {
    "duration": 113,
    "start_time": "2021-11-22T14:19:37.033Z"
   },
   {
    "duration": 9,
    "start_time": "2021-11-22T14:19:37.147Z"
   },
   {
    "duration": 12,
    "start_time": "2021-11-22T14:19:37.157Z"
   },
   {
    "duration": 341,
    "start_time": "2021-11-22T14:19:37.170Z"
   },
   {
    "duration": 8,
    "start_time": "2021-11-22T14:19:37.513Z"
   },
   {
    "duration": 318,
    "start_time": "2021-11-22T14:19:37.523Z"
   },
   {
    "duration": 379,
    "start_time": "2021-11-22T14:21:25.508Z"
   },
   {
    "duration": 433,
    "start_time": "2021-11-22T14:21:31.728Z"
   },
   {
    "duration": 5,
    "start_time": "2021-11-22T14:22:18.793Z"
   },
   {
    "duration": 980,
    "start_time": "2021-11-22T14:23:49.251Z"
   },
   {
    "duration": 60,
    "start_time": "2021-11-22T14:24:44.960Z"
   },
   {
    "duration": 397,
    "start_time": "2021-11-22T14:26:30.553Z"
   },
   {
    "duration": 257,
    "start_time": "2021-11-22T14:26:59.494Z"
   },
   {
    "duration": 800,
    "start_time": "2021-11-22T14:27:05.830Z"
   },
   {
    "duration": 253,
    "start_time": "2021-11-22T14:27:14.757Z"
   },
   {
    "duration": 6,
    "start_time": "2021-11-22T14:29:52.191Z"
   },
   {
    "duration": 7,
    "start_time": "2021-11-22T14:29:55.762Z"
   },
   {
    "duration": 275,
    "start_time": "2021-11-22T14:30:06.671Z"
   },
   {
    "duration": 258,
    "start_time": "2021-11-22T14:30:10.350Z"
   },
   {
    "duration": 158,
    "start_time": "2021-11-22T14:30:12.431Z"
   },
   {
    "duration": 261,
    "start_time": "2021-11-22T14:31:46.571Z"
   },
   {
    "duration": 303,
    "start_time": "2021-11-22T14:31:58.411Z"
   },
   {
    "duration": 5,
    "start_time": "2021-11-22T14:33:36.288Z"
   },
   {
    "duration": 7,
    "start_time": "2021-11-22T14:33:45.848Z"
   },
   {
    "duration": 283,
    "start_time": "2021-11-22T14:34:56.170Z"
   },
   {
    "duration": 158,
    "start_time": "2021-11-22T14:35:57.192Z"
   },
   {
    "duration": 304,
    "start_time": "2021-11-22T14:36:09.792Z"
   },
   {
    "duration": 146,
    "start_time": "2021-11-22T14:36:24.141Z"
   },
   {
    "duration": 189,
    "start_time": "2021-11-22T14:37:15.461Z"
   },
   {
    "duration": 204,
    "start_time": "2021-11-22T14:37:28.261Z"
   },
   {
    "duration": 187,
    "start_time": "2021-11-22T14:38:07.803Z"
   },
   {
    "duration": 289,
    "start_time": "2021-11-22T14:38:36.124Z"
   },
   {
    "duration": 10,
    "start_time": "2021-11-22T14:39:03.461Z"
   },
   {
    "duration": 196,
    "start_time": "2021-11-22T14:39:03.941Z"
   },
   {
    "duration": 6,
    "start_time": "2021-11-22T14:39:05.202Z"
   },
   {
    "duration": 6,
    "start_time": "2021-11-22T14:39:24.461Z"
   },
   {
    "duration": 179,
    "start_time": "2021-11-22T14:39:24.820Z"
   },
   {
    "duration": 207,
    "start_time": "2021-11-22T14:41:02.011Z"
   },
   {
    "duration": 4,
    "start_time": "2021-11-22T14:41:43.701Z"
   },
   {
    "duration": 6,
    "start_time": "2021-11-22T14:41:53.241Z"
   },
   {
    "duration": 10,
    "start_time": "2021-11-22T14:42:11.121Z"
   },
   {
    "duration": 234,
    "start_time": "2021-11-22T14:42:20.142Z"
   },
   {
    "duration": 950,
    "start_time": "2021-11-22T14:43:14.420Z"
   },
   {
    "duration": 3,
    "start_time": "2021-11-22T14:43:19.582Z"
   },
   {
    "duration": 45,
    "start_time": "2021-11-22T14:43:19.587Z"
   },
   {
    "duration": 8,
    "start_time": "2021-11-22T14:43:19.634Z"
   },
   {
    "duration": 3,
    "start_time": "2021-11-22T14:43:19.645Z"
   },
   {
    "duration": 9,
    "start_time": "2021-11-22T14:43:19.650Z"
   },
   {
    "duration": 34,
    "start_time": "2021-11-22T14:43:19.661Z"
   },
   {
    "duration": 4,
    "start_time": "2021-11-22T14:43:19.697Z"
   },
   {
    "duration": 16,
    "start_time": "2021-11-22T14:43:19.703Z"
   },
   {
    "duration": 4,
    "start_time": "2021-11-22T14:43:19.722Z"
   },
   {
    "duration": 11,
    "start_time": "2021-11-22T14:43:19.727Z"
   },
   {
    "duration": 14,
    "start_time": "2021-11-22T14:43:19.739Z"
   },
   {
    "duration": 149,
    "start_time": "2021-11-22T14:43:19.754Z"
   },
   {
    "duration": 114,
    "start_time": "2021-11-22T14:43:19.904Z"
   },
   {
    "duration": 10,
    "start_time": "2021-11-22T14:43:20.020Z"
   },
   {
    "duration": 12,
    "start_time": "2021-11-22T14:43:20.032Z"
   },
   {
    "duration": 111,
    "start_time": "2021-11-22T14:43:20.046Z"
   },
   {
    "duration": 8,
    "start_time": "2021-11-22T14:43:20.159Z"
   },
   {
    "duration": 122,
    "start_time": "2021-11-22T14:43:20.169Z"
   },
   {
    "duration": 417,
    "start_time": "2021-11-22T14:43:20.292Z"
   },
   {
    "duration": 30381,
    "start_time": "2021-11-22T14:42:50.330Z"
   },
   {
    "duration": 100,
    "start_time": "2021-11-22T14:43:26.940Z"
   },
   {
    "duration": 375,
    "start_time": "2021-11-22T14:44:38.080Z"
   },
   {
    "duration": 98,
    "start_time": "2021-11-22T14:44:53.140Z"
   },
   {
    "duration": 495,
    "start_time": "2021-11-22T14:48:23.593Z"
   },
   {
    "duration": 88,
    "start_time": "2021-11-22T14:49:26.132Z"
   },
   {
    "duration": 344,
    "start_time": "2021-11-22T14:49:38.291Z"
   },
   {
    "duration": 303,
    "start_time": "2021-11-22T14:52:59.841Z"
   },
   {
    "duration": 263,
    "start_time": "2021-11-22T14:53:38.075Z"
   },
   {
    "duration": 3,
    "start_time": "2021-11-22T14:53:45.573Z"
   },
   {
    "duration": 45,
    "start_time": "2021-11-22T14:53:45.578Z"
   },
   {
    "duration": 7,
    "start_time": "2021-11-22T14:53:45.625Z"
   },
   {
    "duration": 3,
    "start_time": "2021-11-22T14:53:45.634Z"
   },
   {
    "duration": 12,
    "start_time": "2021-11-22T14:53:45.639Z"
   },
   {
    "duration": 13,
    "start_time": "2021-11-22T14:53:45.652Z"
   },
   {
    "duration": 4,
    "start_time": "2021-11-22T14:53:45.666Z"
   },
   {
    "duration": 29,
    "start_time": "2021-11-22T14:53:45.672Z"
   },
   {
    "duration": 4,
    "start_time": "2021-11-22T14:53:45.704Z"
   },
   {
    "duration": 14,
    "start_time": "2021-11-22T14:53:45.709Z"
   },
   {
    "duration": 13,
    "start_time": "2021-11-22T14:53:45.724Z"
   },
   {
    "duration": 133,
    "start_time": "2021-11-22T14:53:45.738Z"
   },
   {
    "duration": 108,
    "start_time": "2021-11-22T14:53:45.873Z"
   },
   {
    "duration": 10,
    "start_time": "2021-11-22T14:53:45.983Z"
   },
   {
    "duration": 10,
    "start_time": "2021-11-22T14:53:45.994Z"
   },
   {
    "duration": 113,
    "start_time": "2021-11-22T14:53:46.005Z"
   },
   {
    "duration": 7,
    "start_time": "2021-11-22T14:53:46.119Z"
   },
   {
    "duration": 340,
    "start_time": "2021-11-22T14:53:46.128Z"
   },
   {
    "duration": 30295,
    "start_time": "2021-11-22T14:53:16.175Z"
   },
   {
    "duration": 487,
    "start_time": "2021-11-22T14:55:44.971Z"
   },
   {
    "duration": 103,
    "start_time": "2021-11-22T14:56:04.291Z"
   },
   {
    "duration": 360,
    "start_time": "2021-11-22T14:57:11.231Z"
   },
   {
    "duration": 277,
    "start_time": "2021-11-22T14:58:15.331Z"
   },
   {
    "duration": 81,
    "start_time": "2021-11-22T15:01:17.861Z"
   },
   {
    "duration": 676,
    "start_time": "2021-11-22T15:01:22.911Z"
   },
   {
    "duration": 107,
    "start_time": "2021-11-22T15:02:22.681Z"
   },
   {
    "duration": 236,
    "start_time": "2021-11-22T15:03:07.771Z"
   },
   {
    "duration": 100,
    "start_time": "2021-11-22T15:03:32.172Z"
   },
   {
    "duration": 100,
    "start_time": "2021-11-22T15:03:38.232Z"
   },
   {
    "duration": 99,
    "start_time": "2021-11-22T15:03:42.331Z"
   },
   {
    "duration": 230,
    "start_time": "2021-11-22T15:03:46.773Z"
   },
   {
    "duration": 99,
    "start_time": "2021-11-22T15:03:51.771Z"
   },
   {
    "duration": 102,
    "start_time": "2021-11-22T15:03:55.751Z"
   },
   {
    "duration": 101,
    "start_time": "2021-11-22T15:03:58.181Z"
   },
   {
    "duration": 101,
    "start_time": "2021-11-22T15:04:03.132Z"
   },
   {
    "duration": 246,
    "start_time": "2021-11-22T15:04:06.271Z"
   },
   {
    "duration": 103,
    "start_time": "2021-11-22T15:04:35.660Z"
   },
   {
    "duration": 79,
    "start_time": "2021-11-22T15:06:55.101Z"
   },
   {
    "duration": 89,
    "start_time": "2021-11-22T15:07:04.621Z"
   },
   {
    "duration": 86,
    "start_time": "2021-11-22T15:07:49.282Z"
   },
   {
    "duration": 75,
    "start_time": "2021-11-22T15:07:57.661Z"
   },
   {
    "duration": 415,
    "start_time": "2021-11-22T15:08:25.348Z"
   },
   {
    "duration": 78,
    "start_time": "2021-11-22T15:10:16.272Z"
   },
   {
    "duration": 418,
    "start_time": "2021-11-22T15:10:20.376Z"
   },
   {
    "duration": 502,
    "start_time": "2021-11-22T15:13:54.619Z"
   },
   {
    "duration": 30129,
    "start_time": "2021-11-22T15:15:18.520Z"
   },
   {
    "duration": 91,
    "start_time": "2021-11-22T15:16:48.608Z"
   },
   {
    "duration": 104,
    "start_time": "2021-11-22T15:16:54.657Z"
   },
   {
    "duration": 170,
    "start_time": "2021-11-22T15:17:03.457Z"
   },
   {
    "duration": 342,
    "start_time": "2021-11-22T15:17:37.265Z"
   },
   {
    "duration": 234,
    "start_time": "2021-11-22T15:18:58.000Z"
   },
   {
    "duration": 2187,
    "start_time": "2021-11-22T17:58:39.978Z"
   },
   {
    "duration": 53,
    "start_time": "2021-11-22T17:58:42.168Z"
   },
   {
    "duration": 17,
    "start_time": "2021-11-22T17:58:42.224Z"
   },
   {
    "duration": 3,
    "start_time": "2021-11-22T17:58:42.244Z"
   },
   {
    "duration": 15,
    "start_time": "2021-11-22T17:58:42.249Z"
   },
   {
    "duration": 22,
    "start_time": "2021-11-22T17:58:42.266Z"
   },
   {
    "duration": 39,
    "start_time": "2021-11-22T17:58:42.290Z"
   },
   {
    "duration": 26,
    "start_time": "2021-11-22T17:58:42.333Z"
   },
   {
    "duration": 7,
    "start_time": "2021-11-22T17:58:42.361Z"
   },
   {
    "duration": 20,
    "start_time": "2021-11-22T17:58:42.370Z"
   },
   {
    "duration": 57,
    "start_time": "2021-11-22T17:58:42.393Z"
   },
   {
    "duration": 242,
    "start_time": "2021-11-22T17:58:42.452Z"
   },
   {
    "duration": 197,
    "start_time": "2021-11-22T17:58:42.697Z"
   },
   {
    "duration": 12,
    "start_time": "2021-11-22T17:58:42.897Z"
   },
   {
    "duration": 21,
    "start_time": "2021-11-22T17:58:42.911Z"
   },
   {
    "duration": 786,
    "start_time": "2021-11-22T17:58:42.934Z"
   },
   {
    "duration": 10,
    "start_time": "2021-11-22T17:58:43.729Z"
   },
   {
    "duration": 426,
    "start_time": "2021-11-22T17:58:43.742Z"
   },
   {
    "duration": 180,
    "start_time": "2021-11-22T19:14:58.895Z"
   },
   {
    "duration": 1066,
    "start_time": "2021-11-22T19:17:31.004Z"
   },
   {
    "duration": 6,
    "start_time": "2021-11-22T19:17:33.340Z"
   },
   {
    "duration": 66,
    "start_time": "2021-11-22T19:17:33.348Z"
   },
   {
    "duration": 17,
    "start_time": "2021-11-22T19:17:33.417Z"
   },
   {
    "duration": 4,
    "start_time": "2021-11-22T19:17:33.437Z"
   },
   {
    "duration": 18,
    "start_time": "2021-11-22T19:17:33.443Z"
   },
   {
    "duration": 33,
    "start_time": "2021-11-22T19:17:33.464Z"
   },
   {
    "duration": 31,
    "start_time": "2021-11-22T19:17:33.500Z"
   },
   {
    "duration": 25,
    "start_time": "2021-11-22T19:17:33.534Z"
   },
   {
    "duration": 7,
    "start_time": "2021-11-22T19:17:33.563Z"
   },
   {
    "duration": 37,
    "start_time": "2021-11-22T19:17:33.573Z"
   },
   {
    "duration": 41,
    "start_time": "2021-11-22T19:17:33.612Z"
   },
   {
    "duration": 244,
    "start_time": "2021-11-22T19:17:33.656Z"
   },
   {
    "duration": 250,
    "start_time": "2021-11-22T19:17:33.903Z"
   },
   {
    "duration": 14,
    "start_time": "2021-11-22T19:17:34.155Z"
   },
   {
    "duration": 61,
    "start_time": "2021-11-22T19:17:34.171Z"
   },
   {
    "duration": 326,
    "start_time": "2021-11-22T19:17:34.234Z"
   },
   {
    "duration": 10,
    "start_time": "2021-11-22T19:17:34.562Z"
   },
   {
    "duration": 516,
    "start_time": "2021-11-22T19:17:34.574Z"
   },
   {
    "duration": 497,
    "start_time": "2021-11-22T19:17:35.092Z"
   },
   {
    "duration": 20872,
    "start_time": "2021-11-22T19:20:04.875Z"
   },
   {
    "duration": 7,
    "start_time": "2021-11-22T19:20:25.750Z"
   },
   {
    "duration": 89,
    "start_time": "2021-11-22T19:20:25.760Z"
   },
   {
    "duration": 19,
    "start_time": "2021-11-22T19:20:25.853Z"
   },
   {
    "duration": 15,
    "start_time": "2021-11-22T19:20:25.875Z"
   },
   {
    "duration": 41,
    "start_time": "2021-11-22T19:20:25.893Z"
   },
   {
    "duration": 27,
    "start_time": "2021-11-22T19:20:25.937Z"
   },
   {
    "duration": 7,
    "start_time": "2021-11-22T19:20:25.967Z"
   },
   {
    "duration": 60,
    "start_time": "2021-11-22T19:20:25.979Z"
   },
   {
    "duration": 8,
    "start_time": "2021-11-22T19:20:26.043Z"
   },
   {
    "duration": 24,
    "start_time": "2021-11-22T19:20:26.054Z"
   },
   {
    "duration": 68,
    "start_time": "2021-11-22T19:20:26.080Z"
   },
   {
    "duration": 257,
    "start_time": "2021-11-22T19:20:26.151Z"
   },
   {
    "duration": 253,
    "start_time": "2021-11-22T19:20:26.410Z"
   },
   {
    "duration": 14,
    "start_time": "2021-11-22T19:20:26.666Z"
   },
   {
    "duration": 21,
    "start_time": "2021-11-22T19:20:26.683Z"
   },
   {
    "duration": 215,
    "start_time": "2021-11-22T19:20:26.706Z"
   },
   {
    "duration": 13,
    "start_time": "2021-11-22T19:20:26.923Z"
   },
   {
    "duration": 210,
    "start_time": "2021-11-22T19:20:26.938Z"
   },
   {
    "duration": 644,
    "start_time": "2021-11-22T19:21:00.529Z"
   },
   {
    "duration": 519,
    "start_time": "2021-11-22T19:23:28.324Z"
   },
   {
    "duration": 510,
    "start_time": "2021-11-22T19:23:49.021Z"
   },
   {
    "duration": 264,
    "start_time": "2021-11-22T19:24:18.253Z"
   },
   {
    "duration": 183,
    "start_time": "2021-11-22T19:25:59.722Z"
   },
   {
    "duration": 176,
    "start_time": "2021-11-22T19:26:04.127Z"
   },
   {
    "duration": 180,
    "start_time": "2021-11-22T19:26:06.624Z"
   },
   {
    "duration": 346,
    "start_time": "2021-11-22T19:26:09.652Z"
   },
   {
    "duration": 174,
    "start_time": "2021-11-22T19:26:16.160Z"
   },
   {
    "duration": 182,
    "start_time": "2021-11-22T19:26:18.979Z"
   },
   {
    "duration": 182,
    "start_time": "2021-11-22T19:26:33.498Z"
   },
   {
    "duration": 330,
    "start_time": "2021-11-22T19:27:27.175Z"
   },
   {
    "duration": 187,
    "start_time": "2021-11-22T19:27:30.814Z"
   },
   {
    "duration": 176,
    "start_time": "2021-11-22T19:27:34.148Z"
   },
   {
    "duration": 175,
    "start_time": "2021-11-22T19:27:37.608Z"
   },
   {
    "duration": 328,
    "start_time": "2021-11-22T19:27:56.585Z"
   },
   {
    "duration": 190,
    "start_time": "2021-11-22T19:28:06.757Z"
   },
   {
    "duration": 177,
    "start_time": "2021-11-22T19:29:01.464Z"
   },
   {
    "duration": 179,
    "start_time": "2021-11-22T19:30:58.912Z"
   },
   {
    "duration": 91,
    "start_time": "2021-11-22T19:34:26.718Z"
   },
   {
    "duration": 344,
    "start_time": "2021-11-22T19:35:00.829Z"
   },
   {
    "duration": 170,
    "start_time": "2021-11-22T19:35:18.328Z"
   },
   {
    "duration": 175,
    "start_time": "2021-11-22T19:35:26.746Z"
   },
   {
    "duration": 186,
    "start_time": "2021-11-22T19:36:26.647Z"
   },
   {
    "duration": 177,
    "start_time": "2021-11-22T19:36:53.054Z"
   },
   {
    "duration": 352,
    "start_time": "2021-11-22T19:36:58.137Z"
   },
   {
    "duration": 2158,
    "start_time": "2021-11-23T06:27:03.164Z"
   },
   {
    "duration": 58,
    "start_time": "2021-11-23T06:27:05.325Z"
   },
   {
    "duration": 17,
    "start_time": "2021-11-23T06:27:05.386Z"
   },
   {
    "duration": 7,
    "start_time": "2021-11-23T06:27:05.406Z"
   },
   {
    "duration": 30,
    "start_time": "2021-11-23T06:27:05.415Z"
   },
   {
    "duration": 30,
    "start_time": "2021-11-23T06:27:05.448Z"
   },
   {
    "duration": 7,
    "start_time": "2021-11-23T06:27:05.481Z"
   },
   {
    "duration": 25,
    "start_time": "2021-11-23T06:27:05.491Z"
   },
   {
    "duration": 42,
    "start_time": "2021-11-23T06:27:05.518Z"
   },
   {
    "duration": 19,
    "start_time": "2021-11-23T06:27:05.562Z"
   },
   {
    "duration": 22,
    "start_time": "2021-11-23T06:27:05.584Z"
   },
   {
    "duration": 256,
    "start_time": "2021-11-23T06:27:05.608Z"
   },
   {
    "duration": 208,
    "start_time": "2021-11-23T06:27:05.867Z"
   },
   {
    "duration": 14,
    "start_time": "2021-11-23T06:27:06.077Z"
   },
   {
    "duration": 17,
    "start_time": "2021-11-23T06:27:06.094Z"
   },
   {
    "duration": 870,
    "start_time": "2021-11-23T06:27:06.114Z"
   },
   {
    "duration": 11,
    "start_time": "2021-11-23T06:27:06.987Z"
   },
   {
    "duration": 437,
    "start_time": "2021-11-23T06:27:07.000Z"
   },
   {
    "duration": 19,
    "start_time": "2021-11-23T06:35:59.251Z"
   },
   {
    "duration": 209,
    "start_time": "2021-11-23T06:36:07.503Z"
   },
   {
    "duration": 13,
    "start_time": "2021-11-23T06:36:25.340Z"
   },
   {
    "duration": 21,
    "start_time": "2021-11-23T06:36:30.424Z"
   },
   {
    "duration": 17,
    "start_time": "2021-11-23T06:37:45.997Z"
   },
   {
    "duration": 5,
    "start_time": "2021-11-23T06:37:49.309Z"
   },
   {
    "duration": 63,
    "start_time": "2021-11-23T06:37:49.316Z"
   },
   {
    "duration": 15,
    "start_time": "2021-11-23T06:37:49.383Z"
   },
   {
    "duration": 5,
    "start_time": "2021-11-23T06:37:49.401Z"
   },
   {
    "duration": 14,
    "start_time": "2021-11-23T06:37:49.410Z"
   },
   {
    "duration": 50,
    "start_time": "2021-11-23T06:37:49.427Z"
   },
   {
    "duration": 6,
    "start_time": "2021-11-23T06:37:49.480Z"
   },
   {
    "duration": 36,
    "start_time": "2021-11-23T06:37:49.488Z"
   },
   {
    "duration": 36,
    "start_time": "2021-11-23T06:37:49.528Z"
   },
   {
    "duration": 16,
    "start_time": "2021-11-23T06:37:49.568Z"
   },
   {
    "duration": 27,
    "start_time": "2021-11-23T06:37:49.586Z"
   },
   {
    "duration": 264,
    "start_time": "2021-11-23T06:37:49.616Z"
   },
   {
    "duration": 20,
    "start_time": "2021-11-23T06:37:49.883Z"
   },
   {
    "duration": 241,
    "start_time": "2021-11-23T06:37:49.906Z"
   },
   {
    "duration": 20,
    "start_time": "2021-11-23T06:37:50.150Z"
   },
   {
    "duration": 12,
    "start_time": "2021-11-23T06:37:50.172Z"
   },
   {
    "duration": 207,
    "start_time": "2021-11-23T06:37:50.187Z"
   },
   {
    "duration": 11,
    "start_time": "2021-11-23T06:37:50.397Z"
   },
   {
    "duration": 200,
    "start_time": "2021-11-23T06:37:50.410Z"
   },
   {
    "duration": 8,
    "start_time": "2021-11-23T06:43:43.334Z"
   },
   {
    "duration": 18,
    "start_time": "2021-11-23T06:43:50.444Z"
   },
   {
    "duration": 629,
    "start_time": "2021-11-23T06:45:07.973Z"
   },
   {
    "duration": 444,
    "start_time": "2021-11-23T06:45:20.784Z"
   },
   {
    "duration": 11,
    "start_time": "2021-11-23T06:46:52.854Z"
   },
   {
    "duration": 14,
    "start_time": "2021-11-23T06:46:59.992Z"
   },
   {
    "duration": 11,
    "start_time": "2021-11-23T06:47:04.672Z"
   },
   {
    "duration": 13,
    "start_time": "2021-11-23T06:47:23.048Z"
   },
   {
    "duration": 10,
    "start_time": "2021-11-23T06:47:28.318Z"
   },
   {
    "duration": 14,
    "start_time": "2021-11-23T06:47:33.057Z"
   },
   {
    "duration": 15,
    "start_time": "2021-11-23T06:47:47.175Z"
   },
   {
    "duration": 320,
    "start_time": "2021-11-23T06:48:18.202Z"
   },
   {
    "duration": 178,
    "start_time": "2021-11-23T06:48:40.556Z"
   },
   {
    "duration": 190,
    "start_time": "2021-11-23T06:48:47.745Z"
   },
   {
    "duration": 178,
    "start_time": "2021-11-23T06:48:50.441Z"
   },
   {
    "duration": 336,
    "start_time": "2021-11-23T06:48:55.494Z"
   },
   {
    "duration": 175,
    "start_time": "2021-11-23T06:49:01.074Z"
   },
   {
    "duration": 242,
    "start_time": "2021-11-23T06:49:23.297Z"
   },
   {
    "duration": 180,
    "start_time": "2021-11-23T06:49:26.996Z"
   },
   {
    "duration": 180,
    "start_time": "2021-11-23T06:49:34.592Z"
   },
   {
    "duration": 1682,
    "start_time": "2021-11-25T08:54:20.791Z"
   },
   {
    "duration": 47,
    "start_time": "2021-11-25T08:54:22.475Z"
   },
   {
    "duration": 12,
    "start_time": "2021-11-25T08:54:22.524Z"
   },
   {
    "duration": 10,
    "start_time": "2021-11-25T08:54:22.538Z"
   },
   {
    "duration": 23,
    "start_time": "2021-11-25T08:54:22.550Z"
   },
   {
    "duration": 23,
    "start_time": "2021-11-25T08:54:22.574Z"
   },
   {
    "duration": 15,
    "start_time": "2021-11-25T08:54:22.599Z"
   },
   {
    "duration": 26,
    "start_time": "2021-11-25T08:54:22.617Z"
   },
   {
    "duration": 5,
    "start_time": "2021-11-25T08:54:22.645Z"
   },
   {
    "duration": 25,
    "start_time": "2021-11-25T08:54:22.651Z"
   },
   {
    "duration": 23,
    "start_time": "2021-11-25T08:54:22.678Z"
   },
   {
    "duration": 160,
    "start_time": "2021-11-25T08:54:22.704Z"
   },
   {
    "duration": 14,
    "start_time": "2021-11-25T08:54:22.866Z"
   },
   {
    "duration": 160,
    "start_time": "2021-11-25T08:54:22.882Z"
   },
   {
    "duration": 10,
    "start_time": "2021-11-25T08:54:23.044Z"
   },
   {
    "duration": 33,
    "start_time": "2021-11-25T08:54:23.056Z"
   },
   {
    "duration": 532,
    "start_time": "2021-11-25T08:54:23.090Z"
   },
   {
    "duration": 21,
    "start_time": "2021-11-25T08:54:23.624Z"
   },
   {
    "duration": 323,
    "start_time": "2021-11-25T08:54:23.647Z"
   },
   {
    "duration": 9,
    "start_time": "2021-11-25T08:54:23.972Z"
   },
   {
    "duration": 135,
    "start_time": "2021-11-25T08:54:23.983Z"
   },
   {
    "duration": 425,
    "start_time": "2021-11-25T09:03:41.336Z"
   },
   {
    "duration": 13,
    "start_time": "2021-11-25T09:03:43.577Z"
   },
   {
    "duration": 57,
    "start_time": "2021-11-25T09:03:43.592Z"
   },
   {
    "duration": 10,
    "start_time": "2021-11-25T09:03:43.651Z"
   },
   {
    "duration": 16,
    "start_time": "2021-11-25T09:03:43.663Z"
   },
   {
    "duration": 23,
    "start_time": "2021-11-25T09:03:43.681Z"
   },
   {
    "duration": 19,
    "start_time": "2021-11-25T09:03:43.706Z"
   },
   {
    "duration": 13,
    "start_time": "2021-11-25T09:03:43.727Z"
   },
   {
    "duration": 21,
    "start_time": "2021-11-25T09:03:43.742Z"
   },
   {
    "duration": 4,
    "start_time": "2021-11-25T09:03:43.766Z"
   },
   {
    "duration": 12,
    "start_time": "2021-11-25T09:03:43.772Z"
   },
   {
    "duration": 18,
    "start_time": "2021-11-25T09:03:43.786Z"
   },
   {
    "duration": 172,
    "start_time": "2021-11-25T09:03:43.806Z"
   },
   {
    "duration": 14,
    "start_time": "2021-11-25T09:03:43.980Z"
   },
   {
    "duration": 138,
    "start_time": "2021-11-25T09:03:43.996Z"
   },
   {
    "duration": 16,
    "start_time": "2021-11-25T09:03:44.136Z"
   },
   {
    "duration": 10,
    "start_time": "2021-11-25T09:03:44.154Z"
   },
   {
    "duration": 144,
    "start_time": "2021-11-25T09:03:44.166Z"
   },
   {
    "duration": 8,
    "start_time": "2021-11-25T09:03:44.311Z"
   },
   {
    "duration": 140,
    "start_time": "2021-11-25T09:03:44.321Z"
   },
   {
    "duration": 10,
    "start_time": "2021-11-25T09:03:44.462Z"
   },
   {
    "duration": 316,
    "start_time": "2021-11-25T09:03:44.474Z"
   },
   {
    "duration": 585,
    "start_time": "2021-11-25T09:03:44.845Z"
   },
   {
    "duration": 375,
    "start_time": "2021-11-25T09:04:52.059Z"
   },
   {
    "duration": 237,
    "start_time": "2021-11-25T09:05:03.143Z"
   },
   {
    "duration": 381,
    "start_time": "2021-11-25T09:08:36.088Z"
   },
   {
    "duration": 279,
    "start_time": "2021-11-25T09:09:29.203Z"
   },
   {
    "duration": 261,
    "start_time": "2021-11-25T09:09:40.936Z"
   },
   {
    "duration": 429,
    "start_time": "2021-11-25T09:10:54.515Z"
   },
   {
    "duration": 258,
    "start_time": "2021-11-25T09:10:58.083Z"
   },
   {
    "duration": 384,
    "start_time": "2021-11-25T09:11:36.351Z"
   },
   {
    "duration": 98,
    "start_time": "2021-11-25T09:12:37.104Z"
   },
   {
    "duration": 108,
    "start_time": "2021-11-25T09:12:47.531Z"
   },
   {
    "duration": 293,
    "start_time": "2021-11-25T09:13:07.002Z"
   },
   {
    "duration": 621,
    "start_time": "2021-11-25T09:13:41.052Z"
   },
   {
    "duration": 652,
    "start_time": "2021-11-25T09:13:49.131Z"
   },
   {
    "duration": 262,
    "start_time": "2021-11-25T09:14:27.894Z"
   },
   {
    "duration": 5,
    "start_time": "2021-11-25T09:14:31.138Z"
   },
   {
    "duration": 50,
    "start_time": "2021-11-25T09:14:31.145Z"
   },
   {
    "duration": 9,
    "start_time": "2021-11-25T09:14:31.197Z"
   },
   {
    "duration": 8,
    "start_time": "2021-11-25T09:14:31.208Z"
   },
   {
    "duration": 18,
    "start_time": "2021-11-25T09:14:31.218Z"
   },
   {
    "duration": 16,
    "start_time": "2021-11-25T09:14:31.238Z"
   },
   {
    "duration": 5,
    "start_time": "2021-11-25T09:14:31.255Z"
   },
   {
    "duration": 28,
    "start_time": "2021-11-25T09:14:31.261Z"
   },
   {
    "duration": 4,
    "start_time": "2021-11-25T09:14:31.292Z"
   },
   {
    "duration": 20,
    "start_time": "2021-11-25T09:14:31.298Z"
   },
   {
    "duration": 34,
    "start_time": "2021-11-25T09:14:31.320Z"
   },
   {
    "duration": 136,
    "start_time": "2021-11-25T09:14:31.355Z"
   },
   {
    "duration": 11,
    "start_time": "2021-11-25T09:14:31.493Z"
   },
   {
    "duration": 139,
    "start_time": "2021-11-25T09:14:31.505Z"
   },
   {
    "duration": 9,
    "start_time": "2021-11-25T09:14:31.645Z"
   },
   {
    "duration": 11,
    "start_time": "2021-11-25T09:14:31.656Z"
   },
   {
    "duration": 264,
    "start_time": "2021-11-25T09:14:31.669Z"
   },
   {
    "duration": 12,
    "start_time": "2021-11-25T09:14:31.934Z"
   },
   {
    "duration": 126,
    "start_time": "2021-11-25T09:14:31.948Z"
   },
   {
    "duration": 9,
    "start_time": "2021-11-25T09:14:32.076Z"
   },
   {
    "duration": 282,
    "start_time": "2021-11-25T09:14:32.087Z"
   },
   {
    "duration": 866,
    "start_time": "2021-11-25T09:14:32.371Z"
   },
   {
    "duration": 360,
    "start_time": "2021-11-25T09:16:00.530Z"
   },
   {
    "duration": 4,
    "start_time": "2021-11-25T09:16:04.629Z"
   },
   {
    "duration": 45,
    "start_time": "2021-11-25T09:16:04.636Z"
   },
   {
    "duration": 8,
    "start_time": "2021-11-25T09:16:04.683Z"
   },
   {
    "duration": 12,
    "start_time": "2021-11-25T09:16:04.693Z"
   },
   {
    "duration": 12,
    "start_time": "2021-11-25T09:16:04.707Z"
   },
   {
    "duration": 15,
    "start_time": "2021-11-25T09:16:04.721Z"
   },
   {
    "duration": 10,
    "start_time": "2021-11-25T09:16:04.737Z"
   },
   {
    "duration": 29,
    "start_time": "2021-11-25T09:16:04.749Z"
   },
   {
    "duration": 4,
    "start_time": "2021-11-25T09:16:04.781Z"
   },
   {
    "duration": 22,
    "start_time": "2021-11-25T09:16:04.787Z"
   },
   {
    "duration": 16,
    "start_time": "2021-11-25T09:16:04.810Z"
   },
   {
    "duration": 135,
    "start_time": "2021-11-25T09:16:04.828Z"
   },
   {
    "duration": 11,
    "start_time": "2021-11-25T09:16:04.965Z"
   },
   {
    "duration": 137,
    "start_time": "2021-11-25T09:16:04.978Z"
   },
   {
    "duration": 9,
    "start_time": "2021-11-25T09:16:05.117Z"
   },
   {
    "duration": 22,
    "start_time": "2021-11-25T09:16:05.127Z"
   },
   {
    "duration": 115,
    "start_time": "2021-11-25T09:16:05.151Z"
   },
   {
    "duration": 8,
    "start_time": "2021-11-25T09:16:05.267Z"
   },
   {
    "duration": 141,
    "start_time": "2021-11-25T09:16:05.277Z"
   },
   {
    "duration": 12,
    "start_time": "2021-11-25T09:16:05.420Z"
   },
   {
    "duration": 145,
    "start_time": "2021-11-25T09:16:05.434Z"
   },
   {
    "duration": 641,
    "start_time": "2021-11-25T09:16:05.581Z"
   },
   {
    "duration": 358,
    "start_time": "2021-11-25T09:16:06.224Z"
   },
   {
    "duration": 372,
    "start_time": "2021-11-25T09:17:50.887Z"
   },
   {
    "duration": 253,
    "start_time": "2021-11-25T09:18:33.686Z"
   },
   {
    "duration": 383,
    "start_time": "2021-11-25T09:29:12.874Z"
   },
   {
    "duration": 252,
    "start_time": "2021-11-25T09:29:18.229Z"
   },
   {
    "duration": 387,
    "start_time": "2021-11-25T09:29:23.893Z"
   },
   {
    "duration": 514,
    "start_time": "2021-11-25T09:36:27.047Z"
   },
   {
    "duration": 281,
    "start_time": "2021-11-25T09:36:42.392Z"
   },
   {
    "duration": 377,
    "start_time": "2021-11-25T09:36:58.093Z"
   },
   {
    "duration": 603,
    "start_time": "2021-11-25T09:39:13.465Z"
   },
   {
    "duration": 616,
    "start_time": "2021-11-25T09:39:54.267Z"
   },
   {
    "duration": 606,
    "start_time": "2021-11-25T09:40:58.663Z"
   },
   {
    "duration": 620,
    "start_time": "2021-11-25T09:41:06.299Z"
   },
   {
    "duration": 600,
    "start_time": "2021-11-25T09:42:44.183Z"
   },
   {
    "duration": 965,
    "start_time": "2021-11-25T09:43:04.571Z"
   },
   {
    "duration": 771,
    "start_time": "2021-11-25T09:43:10.075Z"
   },
   {
    "duration": 824,
    "start_time": "2021-11-25T09:43:14.388Z"
   },
   {
    "duration": 661,
    "start_time": "2021-11-25T09:43:19.422Z"
   },
   {
    "duration": 706,
    "start_time": "2021-11-25T09:43:24.241Z"
   },
   {
    "duration": 656,
    "start_time": "2021-11-25T09:43:26.777Z"
   },
   {
    "duration": 666,
    "start_time": "2021-11-25T09:43:29.556Z"
   },
   {
    "duration": 655,
    "start_time": "2021-11-25T09:43:40.174Z"
   },
   {
    "duration": 769,
    "start_time": "2021-11-25T09:44:50.157Z"
   },
   {
    "duration": 666,
    "start_time": "2021-11-25T09:44:58.851Z"
   },
   {
    "duration": 6,
    "start_time": "2021-11-25T09:46:30.170Z"
   },
   {
    "duration": 18,
    "start_time": "2021-11-25T09:46:46.637Z"
   },
   {
    "duration": 6,
    "start_time": "2021-11-25T09:47:01.346Z"
   },
   {
    "duration": 4,
    "start_time": "2021-11-25T09:47:12.862Z"
   },
   {
    "duration": 51,
    "start_time": "2021-11-25T09:47:12.868Z"
   },
   {
    "duration": 9,
    "start_time": "2021-11-25T09:47:12.921Z"
   },
   {
    "duration": 4,
    "start_time": "2021-11-25T09:47:12.933Z"
   },
   {
    "duration": 11,
    "start_time": "2021-11-25T09:47:12.939Z"
   },
   {
    "duration": 15,
    "start_time": "2021-11-25T09:47:12.951Z"
   },
   {
    "duration": 5,
    "start_time": "2021-11-25T09:47:12.968Z"
   },
   {
    "duration": 21,
    "start_time": "2021-11-25T09:47:12.974Z"
   },
   {
    "duration": 5,
    "start_time": "2021-11-25T09:47:12.998Z"
   },
   {
    "duration": 40,
    "start_time": "2021-11-25T09:47:13.005Z"
   },
   {
    "duration": 18,
    "start_time": "2021-11-25T09:47:13.047Z"
   },
   {
    "duration": 141,
    "start_time": "2021-11-25T09:47:13.067Z"
   },
   {
    "duration": 12,
    "start_time": "2021-11-25T09:47:13.210Z"
   },
   {
    "duration": 142,
    "start_time": "2021-11-25T09:47:13.224Z"
   },
   {
    "duration": 9,
    "start_time": "2021-11-25T09:47:13.368Z"
   },
   {
    "duration": 19,
    "start_time": "2021-11-25T09:47:13.379Z"
   },
   {
    "duration": 130,
    "start_time": "2021-11-25T09:47:13.400Z"
   },
   {
    "duration": 8,
    "start_time": "2021-11-25T09:47:13.531Z"
   },
   {
    "duration": 271,
    "start_time": "2021-11-25T09:47:13.544Z"
   },
   {
    "duration": 10,
    "start_time": "2021-11-25T09:47:13.817Z"
   },
   {
    "duration": 124,
    "start_time": "2021-11-25T09:47:13.829Z"
   },
   {
    "duration": 285,
    "start_time": "2021-11-25T09:47:13.955Z"
   },
   {
    "duration": 715,
    "start_time": "2021-11-25T09:47:14.245Z"
   },
   {
    "duration": 6,
    "start_time": "2021-11-25T09:49:09.678Z"
   },
   {
    "duration": 22,
    "start_time": "2021-11-25T09:49:27.570Z"
   },
   {
    "duration": 5,
    "start_time": "2021-11-25T09:49:27.958Z"
   },
   {
    "duration": 4,
    "start_time": "2021-11-25T09:49:31.524Z"
   },
   {
    "duration": 58,
    "start_time": "2021-11-25T09:49:31.530Z"
   },
   {
    "duration": 9,
    "start_time": "2021-11-25T09:49:31.590Z"
   },
   {
    "duration": 5,
    "start_time": "2021-11-25T09:49:31.601Z"
   },
   {
    "duration": 11,
    "start_time": "2021-11-25T09:49:31.607Z"
   },
   {
    "duration": 16,
    "start_time": "2021-11-25T09:49:31.620Z"
   },
   {
    "duration": 10,
    "start_time": "2021-11-25T09:49:31.637Z"
   },
   {
    "duration": 24,
    "start_time": "2021-11-25T09:49:31.649Z"
   },
   {
    "duration": 4,
    "start_time": "2021-11-25T09:49:31.676Z"
   },
   {
    "duration": 13,
    "start_time": "2021-11-25T09:49:31.682Z"
   },
   {
    "duration": 29,
    "start_time": "2021-11-25T09:49:31.696Z"
   },
   {
    "duration": 152,
    "start_time": "2021-11-25T09:49:31.726Z"
   },
   {
    "duration": 13,
    "start_time": "2021-11-25T09:49:31.879Z"
   },
   {
    "duration": 142,
    "start_time": "2021-11-25T09:49:31.893Z"
   },
   {
    "duration": 15,
    "start_time": "2021-11-25T09:49:32.037Z"
   },
   {
    "duration": 33,
    "start_time": "2021-11-25T09:49:32.053Z"
   },
   {
    "duration": 281,
    "start_time": "2021-11-25T09:49:32.088Z"
   },
   {
    "duration": 7,
    "start_time": "2021-11-25T09:49:32.371Z"
   },
   {
    "duration": 143,
    "start_time": "2021-11-25T09:49:32.379Z"
   },
   {
    "duration": 10,
    "start_time": "2021-11-25T09:49:32.544Z"
   },
   {
    "duration": 230,
    "start_time": "2021-11-25T09:49:32.556Z"
   },
   {
    "duration": 533,
    "start_time": "2021-11-25T09:49:32.788Z"
   },
   {
    "duration": 851,
    "start_time": "2021-11-25T09:49:33.322Z"
   },
   {
    "duration": 663,
    "start_time": "2021-11-25T09:49:42.461Z"
   },
   {
    "duration": 491,
    "start_time": "2021-11-25T09:52:28.086Z"
   },
   {
    "duration": 704,
    "start_time": "2021-11-25T09:52:55.030Z"
   },
   {
    "duration": 662,
    "start_time": "2021-11-25T09:53:04.306Z"
   },
   {
    "duration": 683,
    "start_time": "2021-11-25T09:53:10.030Z"
   },
   {
    "duration": 678,
    "start_time": "2021-11-25T09:53:14.636Z"
   },
   {
    "duration": 748,
    "start_time": "2021-11-25T09:57:28.642Z"
   },
   {
    "duration": 752,
    "start_time": "2021-11-25T09:57:32.697Z"
   },
   {
    "duration": 655,
    "start_time": "2021-11-25T09:57:43.777Z"
   },
   {
    "duration": 655,
    "start_time": "2021-11-25T09:57:48.046Z"
   },
   {
    "duration": 662,
    "start_time": "2021-11-25T09:58:03.705Z"
   },
   {
    "duration": 709,
    "start_time": "2021-11-25T09:58:09.239Z"
   },
   {
    "duration": 708,
    "start_time": "2021-11-25T09:58:19.094Z"
   },
   {
    "duration": 732,
    "start_time": "2021-11-25T09:58:24.460Z"
   },
   {
    "duration": 657,
    "start_time": "2021-11-25T09:59:22.332Z"
   },
   {
    "duration": 830,
    "start_time": "2021-11-25T09:59:38.868Z"
   },
   {
    "duration": 746,
    "start_time": "2021-11-25T09:59:56.919Z"
   },
   {
    "duration": 14,
    "start_time": "2021-11-25T10:19:32.794Z"
   },
   {
    "duration": 711,
    "start_time": "2021-11-25T10:19:50.770Z"
   },
   {
    "duration": 713,
    "start_time": "2021-11-25T10:20:02.906Z"
   },
   {
    "duration": 746,
    "start_time": "2021-11-25T10:20:13.973Z"
   },
   {
    "duration": 14,
    "start_time": "2021-11-25T10:20:28.335Z"
   },
   {
    "duration": 13,
    "start_time": "2021-11-25T10:20:32.089Z"
   },
   {
    "duration": 24,
    "start_time": "2021-11-25T10:20:37.740Z"
   },
   {
    "duration": 16,
    "start_time": "2021-11-25T10:21:10.668Z"
   },
   {
    "duration": -775,
    "start_time": "2021-11-25T10:28:45.920Z"
   },
   {
    "duration": 6721,
    "start_time": "2021-11-25T10:28:47.834Z"
   },
   {
    "duration": 17,
    "start_time": "2021-11-25T10:29:01.768Z"
   },
   {
    "duration": 16,
    "start_time": "2021-11-25T10:29:05.335Z"
   },
   {
    "duration": 14,
    "start_time": "2021-11-25T10:29:08.320Z"
   },
   {
    "duration": 10,
    "start_time": "2021-11-25T10:44:39.291Z"
   },
   {
    "duration": 13,
    "start_time": "2021-11-25T10:45:53.612Z"
   },
   {
    "duration": 13,
    "start_time": "2021-11-25T10:46:14.854Z"
   },
   {
    "duration": 4,
    "start_time": "2021-11-25T10:47:52.788Z"
   },
   {
    "duration": 80,
    "start_time": "2021-11-25T10:47:52.794Z"
   },
   {
    "duration": 8,
    "start_time": "2021-11-25T10:47:52.877Z"
   },
   {
    "duration": 12,
    "start_time": "2021-11-25T10:47:52.887Z"
   },
   {
    "duration": 36,
    "start_time": "2021-11-25T10:47:52.901Z"
   },
   {
    "duration": 39,
    "start_time": "2021-11-25T10:47:52.938Z"
   },
   {
    "duration": 33,
    "start_time": "2021-11-25T10:47:52.979Z"
   },
   {
    "duration": 43,
    "start_time": "2021-11-25T10:47:53.014Z"
   },
   {
    "duration": 5,
    "start_time": "2021-11-25T10:47:53.061Z"
   },
   {
    "duration": 28,
    "start_time": "2021-11-25T10:47:53.068Z"
   },
   {
    "duration": 29,
    "start_time": "2021-11-25T10:47:53.098Z"
   },
   {
    "duration": 150,
    "start_time": "2021-11-25T10:47:53.129Z"
   },
   {
    "duration": 15,
    "start_time": "2021-11-25T10:47:53.281Z"
   },
   {
    "duration": 188,
    "start_time": "2021-11-25T10:47:53.298Z"
   },
   {
    "duration": 11,
    "start_time": "2021-11-25T10:47:53.487Z"
   },
   {
    "duration": 30,
    "start_time": "2021-11-25T10:47:53.500Z"
   },
   {
    "duration": 130,
    "start_time": "2021-11-25T10:47:53.532Z"
   },
   {
    "duration": 8,
    "start_time": "2021-11-25T10:47:53.663Z"
   },
   {
    "duration": 149,
    "start_time": "2021-11-25T10:47:53.673Z"
   },
   {
    "duration": 23,
    "start_time": "2021-11-25T10:47:53.824Z"
   },
   {
    "duration": 146,
    "start_time": "2021-11-25T10:47:53.849Z"
   },
   {
    "duration": 480,
    "start_time": "2021-11-25T10:47:53.997Z"
   },
   {
    "duration": 15,
    "start_time": "2021-11-25T10:47:54.480Z"
   },
   {
    "duration": 760,
    "start_time": "2021-11-25T10:47:54.497Z"
   },
   {
    "duration": 4,
    "start_time": "2021-11-25T10:48:10.153Z"
   },
   {
    "duration": 81,
    "start_time": "2021-11-25T10:48:10.160Z"
   },
   {
    "duration": 9,
    "start_time": "2021-11-25T10:48:10.243Z"
   },
   {
    "duration": 29,
    "start_time": "2021-11-25T10:48:10.254Z"
   },
   {
    "duration": 28,
    "start_time": "2021-11-25T10:48:10.285Z"
   },
   {
    "duration": 52,
    "start_time": "2021-11-25T10:48:10.314Z"
   },
   {
    "duration": 7,
    "start_time": "2021-11-25T10:48:10.368Z"
   },
   {
    "duration": 38,
    "start_time": "2021-11-25T10:48:10.378Z"
   },
   {
    "duration": 11,
    "start_time": "2021-11-25T10:48:10.418Z"
   },
   {
    "duration": 27,
    "start_time": "2021-11-25T10:48:10.431Z"
   },
   {
    "duration": 56,
    "start_time": "2021-11-25T10:48:10.460Z"
   },
   {
    "duration": 149,
    "start_time": "2021-11-25T10:48:10.518Z"
   },
   {
    "duration": 12,
    "start_time": "2021-11-25T10:48:10.669Z"
   },
   {
    "duration": 141,
    "start_time": "2021-11-25T10:48:10.683Z"
   },
   {
    "duration": 10,
    "start_time": "2021-11-25T10:48:10.826Z"
   },
   {
    "duration": 11,
    "start_time": "2021-11-25T10:48:10.844Z"
   },
   {
    "duration": 122,
    "start_time": "2021-11-25T10:48:10.856Z"
   },
   {
    "duration": 8,
    "start_time": "2021-11-25T10:48:10.979Z"
   },
   {
    "duration": 322,
    "start_time": "2021-11-25T10:48:10.988Z"
   },
   {
    "duration": 10,
    "start_time": "2021-11-25T10:48:11.312Z"
   },
   {
    "duration": 137,
    "start_time": "2021-11-25T10:48:11.324Z"
   },
   {
    "duration": 267,
    "start_time": "2021-11-25T10:48:11.463Z"
   },
   {
    "duration": 24,
    "start_time": "2021-11-25T10:48:11.733Z"
   },
   {
    "duration": 741,
    "start_time": "2021-11-25T10:48:11.758Z"
   },
   {
    "duration": 1244,
    "start_time": "2021-11-25T10:48:37.993Z"
   },
   {
    "duration": 264,
    "start_time": "2021-11-25T10:48:41.049Z"
   },
   {
    "duration": 11,
    "start_time": "2021-11-25T11:09:07.369Z"
   },
   {
    "duration": 10,
    "start_time": "2021-11-25T11:10:31.668Z"
   },
   {
    "duration": 6,
    "start_time": "2021-11-25T11:30:07.463Z"
   },
   {
    "duration": 48,
    "start_time": "2021-11-25T11:30:07.471Z"
   },
   {
    "duration": 8,
    "start_time": "2021-11-25T11:30:07.521Z"
   },
   {
    "duration": 3,
    "start_time": "2021-11-25T11:30:07.532Z"
   },
   {
    "duration": 11,
    "start_time": "2021-11-25T11:30:07.537Z"
   },
   {
    "duration": 15,
    "start_time": "2021-11-25T11:30:07.550Z"
   },
   {
    "duration": 6,
    "start_time": "2021-11-25T11:30:07.567Z"
   },
   {
    "duration": 18,
    "start_time": "2021-11-25T11:30:07.576Z"
   },
   {
    "duration": 5,
    "start_time": "2021-11-25T11:30:07.597Z"
   },
   {
    "duration": 49,
    "start_time": "2021-11-25T11:30:07.604Z"
   },
   {
    "duration": 20,
    "start_time": "2021-11-25T11:30:07.656Z"
   },
   {
    "duration": 152,
    "start_time": "2021-11-25T11:30:07.677Z"
   },
   {
    "duration": 17,
    "start_time": "2021-11-25T11:30:07.831Z"
   },
   {
    "duration": 144,
    "start_time": "2021-11-25T11:30:07.849Z"
   },
   {
    "duration": 9,
    "start_time": "2021-11-25T11:30:07.995Z"
   },
   {
    "duration": 13,
    "start_time": "2021-11-25T11:30:08.006Z"
   },
   {
    "duration": 128,
    "start_time": "2021-11-25T11:30:08.021Z"
   },
   {
    "duration": 8,
    "start_time": "2021-11-25T11:30:08.151Z"
   },
   {
    "duration": 129,
    "start_time": "2021-11-25T11:30:08.160Z"
   },
   {
    "duration": 10,
    "start_time": "2021-11-25T11:30:08.291Z"
   },
   {
    "duration": 125,
    "start_time": "2021-11-25T11:30:08.302Z"
   },
   {
    "duration": 428,
    "start_time": "2021-11-25T11:30:08.428Z"
   },
   {
    "duration": 15,
    "start_time": "2021-11-25T11:30:08.859Z"
   },
   {
    "duration": 700,
    "start_time": "2021-11-25T11:30:08.875Z"
   },
   {
    "duration": 2240,
    "start_time": "2021-11-26T13:08:25.691Z"
   },
   {
    "duration": 135,
    "start_time": "2021-11-26T13:08:27.933Z"
   },
   {
    "duration": 1798,
    "start_time": "2021-11-26T13:08:26.273Z"
   },
   {
    "duration": 868,
    "start_time": "2021-11-26T13:09:11.499Z"
   },
   {
    "duration": 17,
    "start_time": "2021-11-26T13:09:13.508Z"
   },
   {
    "duration": 9,
    "start_time": "2021-11-26T13:11:06.711Z"
   },
   {
    "duration": 953,
    "start_time": "2021-11-26T13:11:06.723Z"
   },
   {
    "duration": 12,
    "start_time": "2021-11-26T13:11:07.680Z"
   },
   {
    "duration": 86,
    "start_time": "2021-11-26T13:11:07.695Z"
   },
   {
    "duration": 22,
    "start_time": "2021-11-26T13:11:07.785Z"
   },
   {
    "duration": 5,
    "start_time": "2021-11-26T13:11:07.809Z"
   },
   {
    "duration": 23,
    "start_time": "2021-11-26T13:11:07.817Z"
   },
   {
    "duration": 22,
    "start_time": "2021-11-26T13:11:07.843Z"
   },
   {
    "duration": 40,
    "start_time": "2021-11-26T13:11:07.869Z"
   },
   {
    "duration": 34,
    "start_time": "2021-11-26T13:11:07.914Z"
   },
   {
    "duration": 7,
    "start_time": "2021-11-26T13:11:07.950Z"
   },
   {
    "duration": 55,
    "start_time": "2021-11-26T13:11:07.960Z"
   },
   {
    "duration": 29,
    "start_time": "2021-11-26T13:11:08.018Z"
   },
   {
    "duration": 261,
    "start_time": "2021-11-26T13:11:08.050Z"
   },
   {
    "duration": 18,
    "start_time": "2021-11-26T13:11:08.314Z"
   },
   {
    "duration": 242,
    "start_time": "2021-11-26T13:11:08.335Z"
   },
   {
    "duration": 24,
    "start_time": "2021-11-26T13:11:08.580Z"
   },
   {
    "duration": 22,
    "start_time": "2021-11-26T13:11:08.607Z"
   },
   {
    "duration": 941,
    "start_time": "2021-11-26T13:11:08.633Z"
   },
   {
    "duration": 30,
    "start_time": "2021-11-26T13:11:09.577Z"
   },
   {
    "duration": 440,
    "start_time": "2021-11-26T13:11:09.610Z"
   },
   {
    "duration": 13,
    "start_time": "2021-11-26T13:11:10.052Z"
   },
   {
    "duration": 217,
    "start_time": "2021-11-26T13:11:10.067Z"
   },
   {
    "duration": 597,
    "start_time": "2021-11-26T13:11:10.286Z"
   },
   {
    "duration": 39,
    "start_time": "2021-11-26T13:11:10.885Z"
   },
   {
    "duration": 1232,
    "start_time": "2021-11-26T13:11:10.927Z"
   },
   {
    "duration": 18,
    "start_time": "2021-11-26T13:13:09.220Z"
   },
   {
    "duration": 47,
    "start_time": "2021-11-26T13:14:03.667Z"
   },
   {
    "duration": 16,
    "start_time": "2021-11-26T13:14:06.063Z"
   },
   {
    "duration": 43,
    "start_time": "2021-11-26T13:14:15.307Z"
   },
   {
    "duration": 15,
    "start_time": "2021-11-26T13:14:15.981Z"
   },
   {
    "duration": 49,
    "start_time": "2021-11-26T13:14:42.480Z"
   },
   {
    "duration": 20,
    "start_time": "2021-11-26T13:14:42.792Z"
   },
   {
    "duration": 49,
    "start_time": "2021-11-26T13:14:45.791Z"
   },
   {
    "duration": 15,
    "start_time": "2021-11-26T13:14:46.284Z"
   },
   {
    "duration": 6,
    "start_time": "2021-11-26T13:14:49.220Z"
   },
   {
    "duration": 708,
    "start_time": "2021-11-26T13:14:49.228Z"
   },
   {
    "duration": 12,
    "start_time": "2021-11-26T13:14:49.939Z"
   },
   {
    "duration": 73,
    "start_time": "2021-11-26T13:14:49.954Z"
   },
   {
    "duration": 14,
    "start_time": "2021-11-26T13:14:50.030Z"
   },
   {
    "duration": 9,
    "start_time": "2021-11-26T13:14:50.047Z"
   },
   {
    "duration": 16,
    "start_time": "2021-11-26T13:14:50.058Z"
   },
   {
    "duration": 45,
    "start_time": "2021-11-26T13:14:50.077Z"
   },
   {
    "duration": 8,
    "start_time": "2021-11-26T13:14:50.128Z"
   },
   {
    "duration": 40,
    "start_time": "2021-11-26T13:14:50.140Z"
   },
   {
    "duration": 28,
    "start_time": "2021-11-26T13:14:50.183Z"
   },
   {
    "duration": 22,
    "start_time": "2021-11-26T13:14:50.214Z"
   },
   {
    "duration": 30,
    "start_time": "2021-11-26T13:14:50.239Z"
   },
   {
    "duration": 258,
    "start_time": "2021-11-26T13:14:50.271Z"
   },
   {
    "duration": 17,
    "start_time": "2021-11-26T13:14:50.532Z"
   },
   {
    "duration": 349,
    "start_time": "2021-11-26T13:14:50.552Z"
   },
   {
    "duration": 18,
    "start_time": "2021-11-26T13:14:50.904Z"
   },
   {
    "duration": 11,
    "start_time": "2021-11-26T13:14:50.924Z"
   },
   {
    "duration": 404,
    "start_time": "2021-11-26T13:14:50.937Z"
   },
   {
    "duration": 66,
    "start_time": "2021-11-26T13:14:51.344Z"
   },
   {
    "duration": 411,
    "start_time": "2021-11-26T13:14:51.414Z"
   },
   {
    "duration": 14,
    "start_time": "2021-11-26T13:14:51.827Z"
   },
   {
    "duration": 409,
    "start_time": "2021-11-26T13:14:51.844Z"
   },
   {
    "duration": 471,
    "start_time": "2021-11-26T13:14:52.255Z"
   },
   {
    "duration": 23,
    "start_time": "2021-11-26T13:14:52.728Z"
   },
   {
    "duration": 1219,
    "start_time": "2021-11-26T13:14:52.754Z"
   },
   {
    "duration": 24,
    "start_time": "2021-11-26T13:14:53.978Z"
   },
   {
    "duration": 61,
    "start_time": "2021-11-26T13:14:54.005Z"
   },
   {
    "duration": 41,
    "start_time": "2021-11-26T13:14:54.069Z"
   },
   {
    "duration": 44,
    "start_time": "2021-11-26T13:14:59.868Z"
   },
   {
    "duration": 16,
    "start_time": "2021-11-26T13:15:00.233Z"
   },
   {
    "duration": 15,
    "start_time": "2021-11-26T13:16:46.706Z"
   },
   {
    "duration": 12,
    "start_time": "2021-11-26T13:18:41.279Z"
   },
   {
    "duration": 646,
    "start_time": "2021-11-26T13:18:41.628Z"
   },
   {
    "duration": 21,
    "start_time": "2021-11-26T13:18:44.662Z"
   },
   {
    "duration": 844,
    "start_time": "2021-11-26T13:18:44.686Z"
   },
   {
    "duration": 14,
    "start_time": "2021-11-26T13:18:45.534Z"
   },
   {
    "duration": 69,
    "start_time": "2021-11-26T13:18:45.552Z"
   },
   {
    "duration": 15,
    "start_time": "2021-11-26T13:18:45.625Z"
   },
   {
    "duration": 4,
    "start_time": "2021-11-26T13:18:45.644Z"
   },
   {
    "duration": 16,
    "start_time": "2021-11-26T13:18:45.651Z"
   },
   {
    "duration": 36,
    "start_time": "2021-11-26T13:18:45.706Z"
   },
   {
    "duration": 8,
    "start_time": "2021-11-26T13:18:45.746Z"
   },
   {
    "duration": 79,
    "start_time": "2021-11-26T13:18:45.757Z"
   },
   {
    "duration": 9,
    "start_time": "2021-11-26T13:18:45.839Z"
   },
   {
    "duration": 16,
    "start_time": "2021-11-26T13:18:45.851Z"
   },
   {
    "duration": 59,
    "start_time": "2021-11-26T13:18:45.870Z"
   },
   {
    "duration": 250,
    "start_time": "2021-11-26T13:18:45.933Z"
   },
   {
    "duration": 32,
    "start_time": "2021-11-26T13:18:46.186Z"
   },
   {
    "duration": 249,
    "start_time": "2021-11-26T13:18:46.221Z"
   },
   {
    "duration": 14,
    "start_time": "2021-11-26T13:18:46.472Z"
   },
   {
    "duration": 23,
    "start_time": "2021-11-26T13:18:46.489Z"
   },
   {
    "duration": 236,
    "start_time": "2021-11-26T13:18:46.516Z"
   },
   {
    "duration": 11,
    "start_time": "2021-11-26T13:18:46.756Z"
   },
   {
    "duration": 404,
    "start_time": "2021-11-26T13:18:46.770Z"
   },
   {
    "duration": 27,
    "start_time": "2021-11-26T13:18:47.176Z"
   },
   {
    "duration": 214,
    "start_time": "2021-11-26T13:18:47.208Z"
   },
   {
    "duration": 502,
    "start_time": "2021-11-26T13:18:47.425Z"
   },
   {
    "duration": 30,
    "start_time": "2021-11-26T13:18:47.930Z"
   },
   {
    "duration": 1363,
    "start_time": "2021-11-26T13:18:47.962Z"
   },
   {
    "duration": 52,
    "start_time": "2021-11-26T13:18:49.329Z"
   },
   {
    "duration": 35,
    "start_time": "2021-11-26T13:18:49.383Z"
   },
   {
    "duration": 15,
    "start_time": "2021-11-26T13:18:49.422Z"
   },
   {
    "duration": 1971,
    "start_time": "2021-11-26T13:18:49.440Z"
   },
   {
    "duration": 20,
    "start_time": "2021-11-26T13:18:53.364Z"
   },
   {
    "duration": 30,
    "start_time": "2021-11-26T13:20:30.489Z"
   },
   {
    "duration": 17,
    "start_time": "2021-11-26T13:21:22.357Z"
   },
   {
    "duration": 19,
    "start_time": "2021-11-26T13:21:25.303Z"
   },
   {
    "duration": 3087,
    "start_time": "2021-11-26T13:21:55.864Z"
   },
   {
    "duration": 20,
    "start_time": "2021-11-26T13:22:02.859Z"
   },
   {
    "duration": 80,
    "start_time": "2021-11-26T13:22:44.183Z"
   },
   {
    "duration": 79,
    "start_time": "2021-11-26T13:22:44.945Z"
   },
   {
    "duration": 19,
    "start_time": "2021-11-26T13:22:45.431Z"
   },
   {
    "duration": 80,
    "start_time": "2021-11-26T13:22:54.551Z"
   },
   {
    "duration": 20,
    "start_time": "2021-11-26T13:22:54.775Z"
   },
   {
    "duration": 24,
    "start_time": "2021-11-26T13:22:57.848Z"
   },
   {
    "duration": 764,
    "start_time": "2021-11-26T13:22:57.875Z"
   },
   {
    "duration": 12,
    "start_time": "2021-11-26T13:22:58.642Z"
   },
   {
    "duration": 63,
    "start_time": "2021-11-26T13:22:58.656Z"
   },
   {
    "duration": 16,
    "start_time": "2021-11-26T13:22:58.721Z"
   },
   {
    "duration": 4,
    "start_time": "2021-11-26T13:22:58.739Z"
   },
   {
    "duration": 15,
    "start_time": "2021-11-26T13:22:58.746Z"
   },
   {
    "duration": 50,
    "start_time": "2021-11-26T13:22:58.763Z"
   },
   {
    "duration": 7,
    "start_time": "2021-11-26T13:22:58.817Z"
   },
   {
    "duration": 29,
    "start_time": "2021-11-26T13:22:58.827Z"
   },
   {
    "duration": 6,
    "start_time": "2021-11-26T13:22:58.858Z"
   },
   {
    "duration": 48,
    "start_time": "2021-11-26T13:22:58.867Z"
   },
   {
    "duration": 28,
    "start_time": "2021-11-26T13:22:58.917Z"
   },
   {
    "duration": 252,
    "start_time": "2021-11-26T13:22:58.948Z"
   },
   {
    "duration": 20,
    "start_time": "2021-11-26T13:22:59.202Z"
   },
   {
    "duration": 247,
    "start_time": "2021-11-26T13:22:59.225Z"
   },
   {
    "duration": 13,
    "start_time": "2021-11-26T13:22:59.474Z"
   },
   {
    "duration": 13,
    "start_time": "2021-11-26T13:22:59.508Z"
   },
   {
    "duration": 224,
    "start_time": "2021-11-26T13:22:59.523Z"
   },
   {
    "duration": 10,
    "start_time": "2021-11-26T13:22:59.750Z"
   },
   {
    "duration": 217,
    "start_time": "2021-11-26T13:22:59.763Z"
   },
   {
    "duration": 34,
    "start_time": "2021-11-26T13:22:59.983Z"
   },
   {
    "duration": 206,
    "start_time": "2021-11-26T13:23:00.020Z"
   },
   {
    "duration": 643,
    "start_time": "2021-11-26T13:23:00.228Z"
   },
   {
    "duration": 44,
    "start_time": "2021-11-26T13:23:00.873Z"
   },
   {
    "duration": 1322,
    "start_time": "2021-11-26T13:23:00.920Z"
   },
   {
    "duration": 90,
    "start_time": "2021-11-26T13:23:02.247Z"
   },
   {
    "duration": 15,
    "start_time": "2021-11-26T13:23:02.340Z"
   },
   {
    "duration": 16,
    "start_time": "2021-11-26T13:23:02.358Z"
   },
   {
    "duration": 1930,
    "start_time": "2021-11-26T13:23:02.377Z"
   },
   {
    "duration": 17,
    "start_time": "2021-11-26T13:23:04.311Z"
   },
   {
    "duration": 913,
    "start_time": "2021-11-26T13:23:04.331Z"
   },
   {
    "duration": 91,
    "start_time": "2021-11-26T13:23:06.882Z"
   },
   {
    "duration": 21,
    "start_time": "2021-11-26T13:23:07.300Z"
   },
   {
    "duration": 80,
    "start_time": "2021-11-26T13:23:17.489Z"
   },
   {
    "duration": 19,
    "start_time": "2021-11-26T13:23:17.719Z"
   },
   {
    "duration": 26,
    "start_time": "2021-11-26T13:23:28.865Z"
   },
   {
    "duration": 797,
    "start_time": "2021-11-26T13:23:28.894Z"
   },
   {
    "duration": 17,
    "start_time": "2021-11-26T13:23:29.695Z"
   },
   {
    "duration": 63,
    "start_time": "2021-11-26T13:23:29.715Z"
   },
   {
    "duration": 23,
    "start_time": "2021-11-26T13:23:29.781Z"
   },
   {
    "duration": 4,
    "start_time": "2021-11-26T13:23:29.807Z"
   },
   {
    "duration": 25,
    "start_time": "2021-11-26T13:23:29.814Z"
   },
   {
    "duration": 23,
    "start_time": "2021-11-26T13:23:29.842Z"
   },
   {
    "duration": 32,
    "start_time": "2021-11-26T13:23:29.869Z"
   },
   {
    "duration": 31,
    "start_time": "2021-11-26T13:23:29.904Z"
   },
   {
    "duration": 8,
    "start_time": "2021-11-26T13:23:29.938Z"
   },
   {
    "duration": 57,
    "start_time": "2021-11-26T13:23:29.948Z"
   },
   {
    "duration": 33,
    "start_time": "2021-11-26T13:23:30.008Z"
   },
   {
    "duration": 256,
    "start_time": "2021-11-26T13:23:30.043Z"
   },
   {
    "duration": 24,
    "start_time": "2021-11-26T13:23:30.301Z"
   },
   {
    "duration": 256,
    "start_time": "2021-11-26T13:23:30.328Z"
   },
   {
    "duration": 16,
    "start_time": "2021-11-26T13:23:30.586Z"
   },
   {
    "duration": 20,
    "start_time": "2021-11-26T13:23:30.605Z"
   },
   {
    "duration": 226,
    "start_time": "2021-11-26T13:23:30.628Z"
   },
   {
    "duration": 12,
    "start_time": "2021-11-26T13:23:30.857Z"
   },
   {
    "duration": 412,
    "start_time": "2021-11-26T13:23:30.872Z"
   },
   {
    "duration": 26,
    "start_time": "2021-11-26T13:23:31.286Z"
   },
   {
    "duration": 218,
    "start_time": "2021-11-26T13:23:31.314Z"
   },
   {
    "duration": 469,
    "start_time": "2021-11-26T13:23:31.535Z"
   },
   {
    "duration": 28,
    "start_time": "2021-11-26T13:23:32.006Z"
   },
   {
    "duration": 1322,
    "start_time": "2021-11-26T13:23:32.037Z"
   },
   {
    "duration": 288,
    "start_time": "2021-11-26T13:23:33.363Z"
   },
   {
    "duration": 15,
    "start_time": "2021-11-26T13:23:33.654Z"
   },
   {
    "duration": 30,
    "start_time": "2021-11-26T13:23:33.672Z"
   },
   {
    "duration": 1934,
    "start_time": "2021-11-26T13:23:33.708Z"
   },
   {
    "duration": 15,
    "start_time": "2021-11-26T13:23:35.645Z"
   },
   {
    "duration": 59,
    "start_time": "2021-11-26T13:23:59.781Z"
   },
   {
    "duration": 17,
    "start_time": "2021-11-26T13:24:00.531Z"
   },
   {
    "duration": 51,
    "start_time": "2021-11-26T13:24:04.457Z"
   },
   {
    "duration": 16,
    "start_time": "2021-11-26T13:24:05.321Z"
   },
   {
    "duration": 46,
    "start_time": "2021-11-26T13:24:15.946Z"
   },
   {
    "duration": 16,
    "start_time": "2021-11-26T13:24:16.579Z"
   },
   {
    "duration": 88,
    "start_time": "2021-11-26T13:24:40.941Z"
   },
   {
    "duration": 24,
    "start_time": "2021-11-26T13:24:41.217Z"
   },
   {
    "duration": 33,
    "start_time": "2021-11-26T13:24:43.476Z"
   },
   {
    "duration": 807,
    "start_time": "2021-11-26T13:24:43.514Z"
   },
   {
    "duration": 11,
    "start_time": "2021-11-26T13:24:44.324Z"
   },
   {
    "duration": 65,
    "start_time": "2021-11-26T13:24:44.338Z"
   },
   {
    "duration": 17,
    "start_time": "2021-11-26T13:24:44.410Z"
   },
   {
    "duration": 3,
    "start_time": "2021-11-26T13:24:44.429Z"
   },
   {
    "duration": 16,
    "start_time": "2021-11-26T13:24:44.434Z"
   },
   {
    "duration": 56,
    "start_time": "2021-11-26T13:24:44.453Z"
   },
   {
    "duration": 8,
    "start_time": "2021-11-26T13:24:44.515Z"
   },
   {
    "duration": 27,
    "start_time": "2021-11-26T13:24:44.527Z"
   },
   {
    "duration": 6,
    "start_time": "2021-11-26T13:24:44.556Z"
   },
   {
    "duration": 17,
    "start_time": "2021-11-26T13:24:44.564Z"
   },
   {
    "duration": 42,
    "start_time": "2021-11-26T13:24:44.583Z"
   },
   {
    "duration": 402,
    "start_time": "2021-11-26T13:24:44.627Z"
   },
   {
    "duration": 78,
    "start_time": "2021-11-26T13:24:45.032Z"
   },
   {
    "duration": 487,
    "start_time": "2021-11-26T13:24:45.114Z"
   },
   {
    "duration": 20,
    "start_time": "2021-11-26T13:24:45.603Z"
   },
   {
    "duration": 15,
    "start_time": "2021-11-26T13:24:45.626Z"
   },
   {
    "duration": 263,
    "start_time": "2021-11-26T13:24:45.644Z"
   },
   {
    "duration": 11,
    "start_time": "2021-11-26T13:24:45.910Z"
   },
   {
    "duration": 215,
    "start_time": "2021-11-26T13:24:45.923Z"
   },
   {
    "duration": 15,
    "start_time": "2021-11-26T13:24:46.141Z"
   },
   {
    "duration": 217,
    "start_time": "2021-11-26T13:24:46.158Z"
   },
   {
    "duration": 650,
    "start_time": "2021-11-26T13:24:46.378Z"
   },
   {
    "duration": 23,
    "start_time": "2021-11-26T13:24:47.031Z"
   },
   {
    "duration": 1354,
    "start_time": "2021-11-26T13:24:47.057Z"
   },
   {
    "duration": 106,
    "start_time": "2021-11-26T13:24:48.417Z"
   },
   {
    "duration": 17,
    "start_time": "2021-11-26T13:24:48.526Z"
   },
   {
    "duration": 20,
    "start_time": "2021-11-26T13:24:48.546Z"
   },
   {
    "duration": 1866,
    "start_time": "2021-11-26T13:24:48.569Z"
   },
   {
    "duration": 20,
    "start_time": "2021-11-26T13:24:50.443Z"
   },
   {
    "duration": 4,
    "start_time": "2021-11-26T13:29:22.736Z"
   },
   {
    "duration": 3,
    "start_time": "2021-11-26T13:29:22.926Z"
   },
   {
    "duration": 85,
    "start_time": "2021-11-26T13:29:54.391Z"
   },
   {
    "duration": 17,
    "start_time": "2021-11-26T13:29:54.577Z"
   },
   {
    "duration": 32,
    "start_time": "2021-11-26T13:29:56.728Z"
   },
   {
    "duration": 1003,
    "start_time": "2021-11-26T13:29:56.763Z"
   },
   {
    "duration": 10,
    "start_time": "2021-11-26T13:29:57.769Z"
   },
   {
    "duration": 103,
    "start_time": "2021-11-26T13:29:57.800Z"
   },
   {
    "duration": 16,
    "start_time": "2021-11-26T13:29:57.906Z"
   },
   {
    "duration": 9,
    "start_time": "2021-11-26T13:29:57.924Z"
   },
   {
    "duration": 67,
    "start_time": "2021-11-26T13:29:57.935Z"
   },
   {
    "duration": 31,
    "start_time": "2021-11-26T13:29:58.006Z"
   },
   {
    "duration": 67,
    "start_time": "2021-11-26T13:29:58.041Z"
   },
   {
    "duration": 27,
    "start_time": "2021-11-26T13:29:58.112Z"
   },
   {
    "duration": 6,
    "start_time": "2021-11-26T13:29:58.141Z"
   },
   {
    "duration": 17,
    "start_time": "2021-11-26T13:29:58.202Z"
   },
   {
    "duration": 81,
    "start_time": "2021-11-26T13:29:58.222Z"
   },
   {
    "duration": 375,
    "start_time": "2021-11-26T13:29:58.305Z"
   },
   {
    "duration": 31,
    "start_time": "2021-11-26T13:29:58.683Z"
   },
   {
    "duration": 305,
    "start_time": "2021-11-26T13:29:58.716Z"
   },
   {
    "duration": 18,
    "start_time": "2021-11-26T13:29:59.024Z"
   },
   {
    "duration": 17,
    "start_time": "2021-11-26T13:29:59.044Z"
   },
   {
    "duration": 240,
    "start_time": "2021-11-26T13:29:59.064Z"
   },
   {
    "duration": 10,
    "start_time": "2021-11-26T13:29:59.307Z"
   },
   {
    "duration": 287,
    "start_time": "2021-11-26T13:29:59.320Z"
   },
   {
    "duration": 15,
    "start_time": "2021-11-26T13:29:59.610Z"
   },
   {
    "duration": 405,
    "start_time": "2021-11-26T13:29:59.627Z"
   },
   {
    "duration": 443,
    "start_time": "2021-11-26T13:30:00.035Z"
   },
   {
    "duration": 32,
    "start_time": "2021-11-26T13:30:00.481Z"
   },
   {
    "duration": 1185,
    "start_time": "2021-11-26T13:30:00.515Z"
   },
   {
    "duration": 95,
    "start_time": "2021-11-26T13:30:01.705Z"
   },
   {
    "duration": 18,
    "start_time": "2021-11-26T13:30:01.803Z"
   },
   {
    "duration": 39,
    "start_time": "2021-11-26T13:30:01.823Z"
   },
   {
    "duration": 48,
    "start_time": "2021-11-26T13:30:01.865Z"
   },
   {
    "duration": 75,
    "start_time": "2021-11-26T13:30:01.915Z"
   },
   {
    "duration": 596,
    "start_time": "2021-11-26T13:30:01.992Z"
   },
   {
    "duration": 42,
    "start_time": "2021-11-26T13:30:20.476Z"
   },
   {
    "duration": 20,
    "start_time": "2021-11-26T13:31:09.571Z"
   },
   {
    "duration": 19,
    "start_time": "2021-11-26T13:31:12.468Z"
   },
   {
    "duration": 9,
    "start_time": "2021-11-26T13:31:22.464Z"
   },
   {
    "duration": 753,
    "start_time": "2021-11-26T13:31:22.477Z"
   },
   {
    "duration": 11,
    "start_time": "2021-11-26T13:31:23.233Z"
   },
   {
    "duration": 57,
    "start_time": "2021-11-26T13:31:23.248Z"
   },
   {
    "duration": 14,
    "start_time": "2021-11-26T13:31:23.308Z"
   },
   {
    "duration": 5,
    "start_time": "2021-11-26T13:31:23.325Z"
   },
   {
    "duration": 16,
    "start_time": "2021-11-26T13:31:23.332Z"
   },
   {
    "duration": 50,
    "start_time": "2021-11-26T13:31:23.352Z"
   },
   {
    "duration": 6,
    "start_time": "2021-11-26T13:31:23.405Z"
   },
   {
    "duration": 29,
    "start_time": "2021-11-26T13:31:23.413Z"
   },
   {
    "duration": 6,
    "start_time": "2021-11-26T13:31:23.444Z"
   },
   {
    "duration": 62,
    "start_time": "2021-11-26T13:31:23.452Z"
   },
   {
    "duration": 28,
    "start_time": "2021-11-26T13:31:23.517Z"
   },
   {
    "duration": 413,
    "start_time": "2021-11-26T13:31:23.601Z"
   },
   {
    "duration": 17,
    "start_time": "2021-11-26T13:31:24.016Z"
   },
   {
    "duration": 334,
    "start_time": "2021-11-26T13:31:24.036Z"
   },
   {
    "duration": 14,
    "start_time": "2021-11-26T13:31:24.372Z"
   },
   {
    "duration": 11,
    "start_time": "2021-11-26T13:31:24.400Z"
   },
   {
    "duration": 366,
    "start_time": "2021-11-26T13:31:24.413Z"
   },
   {
    "duration": 21,
    "start_time": "2021-11-26T13:31:24.781Z"
   },
   {
    "duration": 200,
    "start_time": "2021-11-26T13:31:24.804Z"
   },
   {
    "duration": 18,
    "start_time": "2021-11-26T13:31:25.007Z"
   },
   {
    "duration": 198,
    "start_time": "2021-11-26T13:31:25.030Z"
   },
   {
    "duration": 441,
    "start_time": "2021-11-26T13:31:25.231Z"
   },
   {
    "duration": 34,
    "start_time": "2021-11-26T13:31:25.674Z"
   },
   {
    "duration": 1152,
    "start_time": "2021-11-26T13:31:25.710Z"
   },
   {
    "duration": 277,
    "start_time": "2021-11-26T13:31:26.864Z"
   },
   {
    "duration": 15,
    "start_time": "2021-11-26T13:31:27.143Z"
   },
   {
    "duration": 13,
    "start_time": "2021-11-26T13:31:27.161Z"
   },
   {
    "duration": 25,
    "start_time": "2021-11-26T13:31:27.176Z"
   },
   {
    "duration": 9,
    "start_time": "2021-11-26T13:31:27.203Z"
   },
   {
    "duration": 25,
    "start_time": "2021-11-26T13:31:27.215Z"
   },
   {
    "duration": 45,
    "start_time": "2021-11-26T13:32:42.834Z"
   },
   {
    "duration": 25,
    "start_time": "2021-11-26T13:32:58.454Z"
   },
   {
    "duration": 40,
    "start_time": "2021-11-26T13:33:03.228Z"
   },
   {
    "duration": 79,
    "start_time": "2021-11-26T13:33:27.485Z"
   },
   {
    "duration": 1864,
    "start_time": "2021-11-26T13:33:40.368Z"
   },
   {
    "duration": 25,
    "start_time": "2021-11-26T13:33:45.829Z"
   },
   {
    "duration": 14,
    "start_time": "2021-11-26T13:36:24.455Z"
   },
   {
    "duration": 43,
    "start_time": "2021-11-26T13:36:50.350Z"
   },
   {
    "duration": 6,
    "start_time": "2021-11-26T13:36:57.123Z"
   },
   {
    "duration": 998,
    "start_time": "2021-11-26T13:36:57.132Z"
   },
   {
    "duration": 12,
    "start_time": "2021-11-26T13:36:58.133Z"
   },
   {
    "duration": 61,
    "start_time": "2021-11-26T13:36:58.148Z"
   },
   {
    "duration": 15,
    "start_time": "2021-11-26T13:36:58.211Z"
   },
   {
    "duration": 17,
    "start_time": "2021-11-26T13:36:58.228Z"
   },
   {
    "duration": 20,
    "start_time": "2021-11-26T13:36:58.248Z"
   },
   {
    "duration": 22,
    "start_time": "2021-11-26T13:36:58.301Z"
   },
   {
    "duration": 7,
    "start_time": "2021-11-26T13:36:58.327Z"
   },
   {
    "duration": 83,
    "start_time": "2021-11-26T13:36:58.337Z"
   },
   {
    "duration": 6,
    "start_time": "2021-11-26T13:36:58.423Z"
   },
   {
    "duration": 75,
    "start_time": "2021-11-26T13:36:58.432Z"
   },
   {
    "duration": 32,
    "start_time": "2021-11-26T13:36:58.509Z"
   },
   {
    "duration": 416,
    "start_time": "2021-11-26T13:36:58.600Z"
   },
   {
    "duration": 18,
    "start_time": "2021-11-26T13:36:59.018Z"
   },
   {
    "duration": 582,
    "start_time": "2021-11-26T13:36:59.038Z"
   },
   {
    "duration": 14,
    "start_time": "2021-11-26T13:36:59.623Z"
   },
   {
    "duration": 21,
    "start_time": "2021-11-26T13:36:59.640Z"
   },
   {
    "duration": 213,
    "start_time": "2021-11-26T13:36:59.664Z"
   },
   {
    "duration": 21,
    "start_time": "2021-11-26T13:36:59.881Z"
   },
   {
    "duration": 211,
    "start_time": "2021-11-26T13:36:59.905Z"
   },
   {
    "duration": 17,
    "start_time": "2021-11-26T13:37:00.120Z"
   },
   {
    "duration": 222,
    "start_time": "2021-11-26T13:37:00.140Z"
   },
   {
    "duration": 621,
    "start_time": "2021-11-26T13:37:00.366Z"
   },
   {
    "duration": 32,
    "start_time": "2021-11-26T13:37:00.990Z"
   },
   {
    "duration": 1185,
    "start_time": "2021-11-26T13:37:01.025Z"
   },
   {
    "duration": 89,
    "start_time": "2021-11-26T13:37:02.215Z"
   },
   {
    "duration": 22,
    "start_time": "2021-11-26T13:37:02.307Z"
   },
   {
    "duration": 39,
    "start_time": "2021-11-26T13:37:02.331Z"
   },
   {
    "duration": 53,
    "start_time": "2021-11-26T13:37:02.372Z"
   },
   {
    "duration": 13,
    "start_time": "2021-11-26T13:37:02.428Z"
   },
   {
    "duration": 17,
    "start_time": "2021-11-26T13:37:02.443Z"
   },
   {
    "duration": 8,
    "start_time": "2021-11-26T13:37:02.463Z"
   },
   {
    "duration": 15,
    "start_time": "2021-11-26T13:37:10.751Z"
   },
   {
    "duration": 23,
    "start_time": "2021-11-26T13:38:48.962Z"
   },
   {
    "duration": 421,
    "start_time": "2021-11-26T13:42:11.280Z"
   },
   {
    "duration": 9,
    "start_time": "2021-11-26T13:42:22.235Z"
   },
   {
    "duration": 1010,
    "start_time": "2021-11-26T13:42:22.247Z"
   },
   {
    "duration": 11,
    "start_time": "2021-11-26T13:42:23.260Z"
   },
   {
    "duration": 65,
    "start_time": "2021-11-26T13:42:23.274Z"
   },
   {
    "duration": 13,
    "start_time": "2021-11-26T13:42:23.342Z"
   },
   {
    "duration": 16,
    "start_time": "2021-11-26T13:42:23.358Z"
   },
   {
    "duration": 24,
    "start_time": "2021-11-26T13:42:23.376Z"
   },
   {
    "duration": 27,
    "start_time": "2021-11-26T13:42:23.402Z"
   },
   {
    "duration": 6,
    "start_time": "2021-11-26T13:42:23.433Z"
   },
   {
    "duration": 34,
    "start_time": "2021-11-26T13:42:23.442Z"
   },
   {
    "duration": 6,
    "start_time": "2021-11-26T13:42:23.479Z"
   },
   {
    "duration": 18,
    "start_time": "2021-11-26T13:42:23.487Z"
   },
   {
    "duration": 31,
    "start_time": "2021-11-26T13:42:23.508Z"
   },
   {
    "duration": 364,
    "start_time": "2021-11-26T13:42:23.542Z"
   },
   {
    "duration": 18,
    "start_time": "2021-11-26T13:42:23.909Z"
   },
   {
    "duration": 282,
    "start_time": "2021-11-26T13:42:23.929Z"
   },
   {
    "duration": 12,
    "start_time": "2021-11-26T13:42:24.214Z"
   },
   {
    "duration": 24,
    "start_time": "2021-11-26T13:42:24.229Z"
   },
   {
    "duration": 268,
    "start_time": "2021-11-26T13:42:24.256Z"
   },
   {
    "duration": 11,
    "start_time": "2021-11-26T13:42:24.526Z"
   },
   {
    "duration": 384,
    "start_time": "2021-11-26T13:42:24.539Z"
   },
   {
    "duration": 12,
    "start_time": "2021-11-26T13:42:24.926Z"
   },
   {
    "duration": 720,
    "start_time": "2021-11-26T13:42:24.941Z"
   },
   {
    "duration": 438,
    "start_time": "2021-11-26T13:42:25.664Z"
   },
   {
    "duration": 23,
    "start_time": "2021-11-26T13:42:26.105Z"
   },
   {
    "duration": 1180,
    "start_time": "2021-11-26T13:42:26.130Z"
   },
   {
    "duration": 86,
    "start_time": "2021-11-26T13:42:27.314Z"
   },
   {
    "duration": 15,
    "start_time": "2021-11-26T13:42:27.403Z"
   },
   {
    "duration": 14,
    "start_time": "2021-11-26T13:42:27.420Z"
   },
   {
    "duration": 21,
    "start_time": "2021-11-26T13:42:27.436Z"
   },
   {
    "duration": 8,
    "start_time": "2021-11-26T13:42:27.460Z"
   },
   {
    "duration": 41,
    "start_time": "2021-11-26T13:42:27.470Z"
   },
   {
    "duration": 38,
    "start_time": "2021-11-26T13:42:27.513Z"
   },
   {
    "duration": 369,
    "start_time": "2021-11-26T13:43:36.060Z"
   },
   {
    "duration": 6,
    "start_time": "2021-11-26T13:43:42.810Z"
   },
   {
    "duration": 807,
    "start_time": "2021-11-26T13:43:42.819Z"
   },
   {
    "duration": 12,
    "start_time": "2021-11-26T13:43:43.629Z"
   },
   {
    "duration": 59,
    "start_time": "2021-11-26T13:43:43.645Z"
   },
   {
    "duration": 16,
    "start_time": "2021-11-26T13:43:43.707Z"
   },
   {
    "duration": 7,
    "start_time": "2021-11-26T13:43:43.726Z"
   },
   {
    "duration": 16,
    "start_time": "2021-11-26T13:43:43.735Z"
   },
   {
    "duration": 60,
    "start_time": "2021-11-26T13:43:43.754Z"
   },
   {
    "duration": 8,
    "start_time": "2021-11-26T13:43:43.821Z"
   },
   {
    "duration": 44,
    "start_time": "2021-11-26T13:43:43.832Z"
   },
   {
    "duration": 8,
    "start_time": "2021-11-26T13:43:43.879Z"
   },
   {
    "duration": 16,
    "start_time": "2021-11-26T13:43:43.901Z"
   },
   {
    "duration": 32,
    "start_time": "2021-11-26T13:43:43.920Z"
   },
   {
    "duration": 254,
    "start_time": "2021-11-26T13:43:43.954Z"
   },
   {
    "duration": 16,
    "start_time": "2021-11-26T13:43:44.211Z"
   },
   {
    "duration": 239,
    "start_time": "2021-11-26T13:43:44.229Z"
   },
   {
    "duration": 14,
    "start_time": "2021-11-26T13:43:44.470Z"
   },
   {
    "duration": 13,
    "start_time": "2021-11-26T13:43:44.501Z"
   },
   {
    "duration": 214,
    "start_time": "2021-11-26T13:43:44.517Z"
   },
   {
    "duration": 11,
    "start_time": "2021-11-26T13:43:44.734Z"
   },
   {
    "duration": 393,
    "start_time": "2021-11-26T13:43:44.748Z"
   },
   {
    "duration": 15,
    "start_time": "2021-11-26T13:43:45.143Z"
   },
   {
    "duration": 206,
    "start_time": "2021-11-26T13:43:45.160Z"
   },
   {
    "duration": 443,
    "start_time": "2021-11-26T13:43:45.368Z"
   },
   {
    "duration": 21,
    "start_time": "2021-11-26T13:43:45.814Z"
   },
   {
    "duration": 1168,
    "start_time": "2021-11-26T13:43:45.838Z"
   },
   {
    "duration": 99,
    "start_time": "2021-11-26T13:43:47.013Z"
   },
   {
    "duration": 15,
    "start_time": "2021-11-26T13:43:47.115Z"
   },
   {
    "duration": 25,
    "start_time": "2021-11-26T13:43:47.132Z"
   },
   {
    "duration": 22,
    "start_time": "2021-11-26T13:43:47.159Z"
   },
   {
    "duration": 7,
    "start_time": "2021-11-26T13:43:47.200Z"
   },
   {
    "duration": 20,
    "start_time": "2021-11-26T13:43:47.209Z"
   },
   {
    "duration": 53,
    "start_time": "2021-11-26T13:43:47.231Z"
   },
   {
    "duration": 46,
    "start_time": "2021-11-26T13:43:57.468Z"
   },
   {
    "duration": 42,
    "start_time": "2021-11-26T13:44:07.229Z"
   },
   {
    "duration": 21,
    "start_time": "2021-11-26T13:44:17.365Z"
   },
   {
    "duration": 412,
    "start_time": "2021-11-26T13:44:28.917Z"
   },
   {
    "duration": 38,
    "start_time": "2021-11-26T13:44:39.302Z"
   },
   {
    "duration": 41,
    "start_time": "2021-11-26T13:44:48.298Z"
   },
   {
    "duration": 40,
    "start_time": "2021-11-26T13:45:34.454Z"
   },
   {
    "duration": 17,
    "start_time": "2021-11-26T13:45:47.787Z"
   },
   {
    "duration": 370,
    "start_time": "2021-11-26T13:46:06.477Z"
   },
   {
    "duration": 41,
    "start_time": "2021-11-26T13:46:09.171Z"
   },
   {
    "duration": 51,
    "start_time": "2021-11-26T13:53:06.473Z"
   },
   {
    "duration": 6,
    "start_time": "2021-11-26T13:53:12.412Z"
   },
   {
    "duration": 960,
    "start_time": "2021-11-26T13:53:12.421Z"
   },
   {
    "duration": 11,
    "start_time": "2021-11-26T13:53:13.384Z"
   },
   {
    "duration": 138,
    "start_time": "2021-11-26T13:53:13.397Z"
   },
   {
    "duration": 14,
    "start_time": "2021-11-26T13:53:13.537Z"
   },
   {
    "duration": 3,
    "start_time": "2021-11-26T13:53:13.609Z"
   },
   {
    "duration": 19,
    "start_time": "2021-11-26T13:53:13.615Z"
   },
   {
    "duration": 68,
    "start_time": "2021-11-26T13:53:13.636Z"
   },
   {
    "duration": 7,
    "start_time": "2021-11-26T13:53:13.709Z"
   },
   {
    "duration": 31,
    "start_time": "2021-11-26T13:53:13.720Z"
   },
   {
    "duration": 10,
    "start_time": "2021-11-26T13:53:13.801Z"
   },
   {
    "duration": 28,
    "start_time": "2021-11-26T13:53:13.817Z"
   },
   {
    "duration": 81,
    "start_time": "2021-11-26T13:53:13.847Z"
   },
   {
    "duration": 382,
    "start_time": "2021-11-26T13:53:13.930Z"
   },
   {
    "duration": 17,
    "start_time": "2021-11-26T13:53:14.316Z"
   },
   {
    "duration": 238,
    "start_time": "2021-11-26T13:53:14.335Z"
   },
   {
    "duration": 13,
    "start_time": "2021-11-26T13:53:14.575Z"
   },
   {
    "duration": 20,
    "start_time": "2021-11-26T13:53:14.590Z"
   },
   {
    "duration": 404,
    "start_time": "2021-11-26T13:53:14.613Z"
   },
   {
    "duration": 11,
    "start_time": "2021-11-26T13:53:15.020Z"
   },
   {
    "duration": 220,
    "start_time": "2021-11-26T13:53:15.033Z"
   },
   {
    "duration": 14,
    "start_time": "2021-11-26T13:53:15.255Z"
   },
   {
    "duration": 216,
    "start_time": "2021-11-26T13:53:15.271Z"
   },
   {
    "duration": 633,
    "start_time": "2021-11-26T13:53:15.490Z"
   },
   {
    "duration": 22,
    "start_time": "2021-11-26T13:53:16.126Z"
   },
   {
    "duration": 1216,
    "start_time": "2021-11-26T13:53:16.150Z"
   },
   {
    "duration": 91,
    "start_time": "2021-11-26T13:53:17.373Z"
   },
   {
    "duration": 15,
    "start_time": "2021-11-26T13:53:17.467Z"
   },
   {
    "duration": 33,
    "start_time": "2021-11-26T13:53:17.484Z"
   },
   {
    "duration": 17,
    "start_time": "2021-11-26T13:53:17.519Z"
   },
   {
    "duration": 22,
    "start_time": "2021-11-26T13:53:17.538Z"
   },
   {
    "duration": 29,
    "start_time": "2021-11-26T13:53:17.563Z"
   },
   {
    "duration": 53,
    "start_time": "2021-11-26T13:53:17.595Z"
   },
   {
    "duration": 16,
    "start_time": "2021-11-26T13:53:25.882Z"
   },
   {
    "duration": 50,
    "start_time": "2021-11-26T13:53:44.504Z"
   },
   {
    "duration": 55,
    "start_time": "2021-11-26T13:53:53.202Z"
   },
   {
    "duration": 51,
    "start_time": "2021-11-26T13:54:09.525Z"
   },
   {
    "duration": 135,
    "start_time": "2021-11-26T14:05:31.715Z"
   },
   {
    "duration": 22,
    "start_time": "2021-11-26T14:05:37.186Z"
   },
   {
    "duration": 20,
    "start_time": "2021-11-26T14:05:39.249Z"
   },
   {
    "duration": 10,
    "start_time": "2021-11-26T14:05:42.406Z"
   },
   {
    "duration": 933,
    "start_time": "2021-11-26T14:05:42.420Z"
   },
   {
    "duration": 11,
    "start_time": "2021-11-26T14:05:43.356Z"
   },
   {
    "duration": 75,
    "start_time": "2021-11-26T14:05:43.370Z"
   },
   {
    "duration": 15,
    "start_time": "2021-11-26T14:05:43.447Z"
   },
   {
    "duration": 8,
    "start_time": "2021-11-26T14:05:43.464Z"
   },
   {
    "duration": 29,
    "start_time": "2021-11-26T14:05:43.474Z"
   },
   {
    "duration": 35,
    "start_time": "2021-11-26T14:05:43.506Z"
   },
   {
    "duration": 9,
    "start_time": "2021-11-26T14:05:43.548Z"
   },
   {
    "duration": 67,
    "start_time": "2021-11-26T14:05:43.561Z"
   },
   {
    "duration": 7,
    "start_time": "2021-11-26T14:05:43.631Z"
   },
   {
    "duration": 24,
    "start_time": "2021-11-26T14:05:43.640Z"
   },
   {
    "duration": 65,
    "start_time": "2021-11-26T14:05:43.666Z"
   },
   {
    "duration": 261,
    "start_time": "2021-11-26T14:05:43.734Z"
   },
   {
    "duration": 24,
    "start_time": "2021-11-26T14:05:44.002Z"
   },
   {
    "duration": 247,
    "start_time": "2021-11-26T14:05:44.028Z"
   },
   {
    "duration": 14,
    "start_time": "2021-11-26T14:05:44.277Z"
   },
   {
    "duration": 11,
    "start_time": "2021-11-26T14:05:44.301Z"
   },
   {
    "duration": 224,
    "start_time": "2021-11-26T14:05:44.314Z"
   },
   {
    "duration": 11,
    "start_time": "2021-11-26T14:05:44.540Z"
   },
   {
    "duration": 216,
    "start_time": "2021-11-26T14:05:44.553Z"
   },
   {
    "duration": 30,
    "start_time": "2021-11-26T14:05:44.772Z"
   },
   {
    "duration": 215,
    "start_time": "2021-11-26T14:05:44.805Z"
   },
   {
    "duration": 698,
    "start_time": "2021-11-26T14:05:45.022Z"
   },
   {
    "duration": 24,
    "start_time": "2021-11-26T14:05:45.722Z"
   },
   {
    "duration": 1258,
    "start_time": "2021-11-26T14:05:45.748Z"
   },
   {
    "duration": 95,
    "start_time": "2021-11-26T14:05:47.014Z"
   },
   {
    "duration": 15,
    "start_time": "2021-11-26T14:05:47.111Z"
   },
   {
    "duration": 16,
    "start_time": "2021-11-26T14:05:47.129Z"
   },
   {
    "duration": 16,
    "start_time": "2021-11-26T14:05:47.147Z"
   },
   {
    "duration": 37,
    "start_time": "2021-11-26T14:05:47.165Z"
   },
   {
    "duration": 14,
    "start_time": "2021-11-26T14:05:47.211Z"
   },
   {
    "duration": 27,
    "start_time": "2021-11-26T14:05:47.227Z"
   },
   {
    "duration": 395,
    "start_time": "2021-11-26T14:07:35.044Z"
   },
   {
    "duration": 8,
    "start_time": "2021-11-26T14:07:40.911Z"
   },
   {
    "duration": 817,
    "start_time": "2021-11-26T14:07:40.921Z"
   },
   {
    "duration": 11,
    "start_time": "2021-11-26T14:07:41.743Z"
   },
   {
    "duration": 79,
    "start_time": "2021-11-26T14:07:41.756Z"
   },
   {
    "duration": 14,
    "start_time": "2021-11-26T14:07:41.838Z"
   },
   {
    "duration": 6,
    "start_time": "2021-11-26T14:07:41.854Z"
   },
   {
    "duration": 16,
    "start_time": "2021-11-26T14:07:41.863Z"
   },
   {
    "duration": 31,
    "start_time": "2021-11-26T14:07:41.883Z"
   },
   {
    "duration": 6,
    "start_time": "2021-11-26T14:07:41.917Z"
   },
   {
    "duration": 92,
    "start_time": "2021-11-26T14:07:41.926Z"
   },
   {
    "duration": 6,
    "start_time": "2021-11-26T14:07:42.021Z"
   },
   {
    "duration": 71,
    "start_time": "2021-11-26T14:07:42.029Z"
   },
   {
    "duration": 102,
    "start_time": "2021-11-26T14:07:42.103Z"
   },
   {
    "duration": 493,
    "start_time": "2021-11-26T14:07:42.208Z"
   },
   {
    "duration": 25,
    "start_time": "2021-11-26T14:07:42.705Z"
   },
   {
    "duration": 357,
    "start_time": "2021-11-26T14:07:42.733Z"
   },
   {
    "duration": 25,
    "start_time": "2021-11-26T14:07:43.093Z"
   },
   {
    "duration": 19,
    "start_time": "2021-11-26T14:07:43.120Z"
   },
   {
    "duration": 236,
    "start_time": "2021-11-26T14:07:43.141Z"
   },
   {
    "duration": 24,
    "start_time": "2021-11-26T14:07:43.379Z"
   },
   {
    "duration": 231,
    "start_time": "2021-11-26T14:07:43.407Z"
   },
   {
    "duration": 14,
    "start_time": "2021-11-26T14:07:43.641Z"
   },
   {
    "duration": 414,
    "start_time": "2021-11-26T14:07:43.660Z"
   },
   {
    "duration": 476,
    "start_time": "2021-11-26T14:07:44.077Z"
   },
   {
    "duration": 49,
    "start_time": "2021-11-26T14:07:44.555Z"
   },
   {
    "duration": 1296,
    "start_time": "2021-11-26T14:07:44.608Z"
   },
   {
    "duration": 97,
    "start_time": "2021-11-26T14:07:45.907Z"
   },
   {
    "duration": 19,
    "start_time": "2021-11-26T14:07:46.007Z"
   },
   {
    "duration": 14,
    "start_time": "2021-11-26T14:07:46.028Z"
   },
   {
    "duration": 17,
    "start_time": "2021-11-26T14:07:46.045Z"
   },
   {
    "duration": 37,
    "start_time": "2021-11-26T14:07:46.064Z"
   },
   {
    "duration": 20,
    "start_time": "2021-11-26T14:07:46.103Z"
   },
   {
    "duration": 48,
    "start_time": "2021-11-26T14:07:46.126Z"
   },
   {
    "duration": 92,
    "start_time": "2021-11-26T14:08:08.976Z"
   },
   {
    "duration": 17,
    "start_time": "2021-11-26T14:08:09.431Z"
   },
   {
    "duration": 11,
    "start_time": "2021-11-26T14:08:09.746Z"
   },
   {
    "duration": 14,
    "start_time": "2021-11-26T14:08:09.866Z"
   },
   {
    "duration": 3,
    "start_time": "2021-11-26T14:08:10.046Z"
   },
   {
    "duration": 13,
    "start_time": "2021-11-26T14:08:10.234Z"
   },
   {
    "duration": 43,
    "start_time": "2021-11-26T14:08:10.432Z"
   },
   {
    "duration": 41,
    "start_time": "2021-11-26T14:08:16.155Z"
   },
   {
    "duration": 7,
    "start_time": "2021-11-26T14:08:23.975Z"
   },
   {
    "duration": 867,
    "start_time": "2021-11-26T14:08:23.984Z"
   },
   {
    "duration": 13,
    "start_time": "2021-11-26T14:08:24.855Z"
   },
   {
    "duration": 68,
    "start_time": "2021-11-26T14:08:24.872Z"
   },
   {
    "duration": 16,
    "start_time": "2021-11-26T14:08:24.944Z"
   },
   {
    "duration": 7,
    "start_time": "2021-11-26T14:08:24.963Z"
   },
   {
    "duration": 45,
    "start_time": "2021-11-26T14:08:24.973Z"
   },
   {
    "duration": 26,
    "start_time": "2021-11-26T14:08:25.021Z"
   },
   {
    "duration": 6,
    "start_time": "2021-11-26T14:08:25.051Z"
   },
   {
    "duration": 58,
    "start_time": "2021-11-26T14:08:25.060Z"
   },
   {
    "duration": 9,
    "start_time": "2021-11-26T14:08:25.121Z"
   },
   {
    "duration": 19,
    "start_time": "2021-11-26T14:08:25.134Z"
   },
   {
    "duration": 74,
    "start_time": "2021-11-26T14:08:25.156Z"
   },
   {
    "duration": 254,
    "start_time": "2021-11-26T14:08:25.232Z"
   },
   {
    "duration": 34,
    "start_time": "2021-11-26T14:08:25.488Z"
   },
   {
    "duration": 253,
    "start_time": "2021-11-26T14:08:25.526Z"
   },
   {
    "duration": 22,
    "start_time": "2021-11-26T14:08:25.781Z"
   },
   {
    "duration": 15,
    "start_time": "2021-11-26T14:08:25.805Z"
   },
   {
    "duration": 221,
    "start_time": "2021-11-26T14:08:25.822Z"
   },
   {
    "duration": 10,
    "start_time": "2021-11-26T14:08:26.045Z"
   },
   {
    "duration": 407,
    "start_time": "2021-11-26T14:08:26.057Z"
   },
   {
    "duration": 13,
    "start_time": "2021-11-26T14:08:26.466Z"
   },
   {
    "duration": 237,
    "start_time": "2021-11-26T14:08:26.481Z"
   },
   {
    "duration": 502,
    "start_time": "2021-11-26T14:08:26.720Z"
   },
   {
    "duration": 28,
    "start_time": "2021-11-26T14:08:27.226Z"
   },
   {
    "duration": 1362,
    "start_time": "2021-11-26T14:08:27.256Z"
   },
   {
    "duration": 89,
    "start_time": "2021-11-26T14:08:28.624Z"
   },
   {
    "duration": 14,
    "start_time": "2021-11-26T14:08:28.716Z"
   },
   {
    "duration": 32,
    "start_time": "2021-11-26T14:08:28.732Z"
   },
   {
    "duration": 16,
    "start_time": "2021-11-26T14:08:28.766Z"
   },
   {
    "duration": 16,
    "start_time": "2021-11-26T14:08:28.785Z"
   },
   {
    "duration": 19,
    "start_time": "2021-11-26T14:08:28.805Z"
   },
   {
    "duration": 47,
    "start_time": "2021-11-26T14:08:28.827Z"
   },
   {
    "duration": 355,
    "start_time": "2021-11-26T14:08:35.608Z"
   },
   {
    "duration": 40,
    "start_time": "2021-11-26T14:08:44.009Z"
   },
   {
    "duration": 20,
    "start_time": "2021-11-26T14:08:57.702Z"
   },
   {
    "duration": 44,
    "start_time": "2021-11-26T14:09:02.163Z"
   },
   {
    "duration": 36,
    "start_time": "2021-11-26T14:09:10.017Z"
   },
   {
    "duration": 38,
    "start_time": "2021-11-26T14:09:15.902Z"
   },
   {
    "duration": 18,
    "start_time": "2021-11-26T14:09:50.800Z"
   },
   {
    "duration": 21,
    "start_time": "2021-11-26T14:09:58.175Z"
   },
   {
    "duration": 22,
    "start_time": "2021-11-26T14:10:20.220Z"
   },
   {
    "duration": 33,
    "start_time": "2021-11-26T14:10:50.462Z"
   },
   {
    "duration": 20,
    "start_time": "2021-11-26T14:11:47.594Z"
   },
   {
    "duration": 43,
    "start_time": "2021-11-26T14:11:52.155Z"
   },
   {
    "duration": 14,
    "start_time": "2021-11-26T14:12:00.873Z"
   },
   {
    "duration": 23,
    "start_time": "2021-11-26T14:12:15.655Z"
   },
   {
    "duration": 23,
    "start_time": "2021-11-26T14:13:17.715Z"
   },
   {
    "duration": 42,
    "start_time": "2021-11-26T14:13:24.721Z"
   },
   {
    "duration": 38,
    "start_time": "2021-11-26T14:13:29.505Z"
   },
   {
    "duration": 12,
    "start_time": "2021-11-26T14:15:46.318Z"
   },
   {
    "duration": 387,
    "start_time": "2021-11-26T14:16:19.548Z"
   },
   {
    "duration": 35,
    "start_time": "2021-11-26T14:16:27.014Z"
   },
   {
    "duration": 145,
    "start_time": "2021-11-26T14:16:31.307Z"
   },
   {
    "duration": 5,
    "start_time": "2021-11-26T14:19:17.417Z"
   },
   {
    "duration": 400,
    "start_time": "2021-11-26T14:19:22.712Z"
   },
   {
    "duration": 420,
    "start_time": "2021-11-26T14:19:47.882Z"
   },
   {
    "duration": 362,
    "start_time": "2021-11-26T14:21:35.363Z"
   },
   {
    "duration": 6,
    "start_time": "2021-11-26T14:21:54.195Z"
   },
   {
    "duration": 1005,
    "start_time": "2021-11-26T14:21:54.204Z"
   },
   {
    "duration": 11,
    "start_time": "2021-11-26T14:21:55.212Z"
   },
   {
    "duration": 88,
    "start_time": "2021-11-26T14:21:55.226Z"
   },
   {
    "duration": 14,
    "start_time": "2021-11-26T14:21:55.316Z"
   },
   {
    "duration": 7,
    "start_time": "2021-11-26T14:21:55.333Z"
   },
   {
    "duration": 65,
    "start_time": "2021-11-26T14:21:55.342Z"
   },
   {
    "duration": 26,
    "start_time": "2021-11-26T14:21:55.409Z"
   },
   {
    "duration": 6,
    "start_time": "2021-11-26T14:21:55.439Z"
   },
   {
    "duration": 76,
    "start_time": "2021-11-26T14:21:55.448Z"
   },
   {
    "duration": 6,
    "start_time": "2021-11-26T14:21:55.527Z"
   },
   {
    "duration": 76,
    "start_time": "2021-11-26T14:21:55.535Z"
   },
   {
    "duration": 98,
    "start_time": "2021-11-26T14:21:55.614Z"
   },
   {
    "duration": 632,
    "start_time": "2021-11-26T14:21:55.715Z"
   },
   {
    "duration": 52,
    "start_time": "2021-11-26T14:21:56.351Z"
   },
   {
    "duration": 234,
    "start_time": "2021-11-26T14:21:56.406Z"
   },
   {
    "duration": 15,
    "start_time": "2021-11-26T14:21:56.643Z"
   },
   {
    "duration": 39,
    "start_time": "2021-11-26T14:21:56.661Z"
   },
   {
    "duration": 387,
    "start_time": "2021-11-26T14:21:56.702Z"
   },
   {
    "duration": 14,
    "start_time": "2021-11-26T14:21:57.092Z"
   },
   {
    "duration": 203,
    "start_time": "2021-11-26T14:21:57.108Z"
   },
   {
    "duration": 14,
    "start_time": "2021-11-26T14:21:57.313Z"
   },
   {
    "duration": 211,
    "start_time": "2021-11-26T14:21:57.330Z"
   },
   {
    "duration": 623,
    "start_time": "2021-11-26T14:21:57.544Z"
   },
   {
    "duration": 39,
    "start_time": "2021-11-26T14:21:58.170Z"
   },
   {
    "duration": 1195,
    "start_time": "2021-11-26T14:21:58.211Z"
   },
   {
    "duration": 94,
    "start_time": "2021-11-26T14:21:59.411Z"
   },
   {
    "duration": 15,
    "start_time": "2021-11-26T14:21:59.508Z"
   },
   {
    "duration": 15,
    "start_time": "2021-11-26T14:21:59.526Z"
   },
   {
    "duration": 28,
    "start_time": "2021-11-26T14:21:59.543Z"
   },
   {
    "duration": 3,
    "start_time": "2021-11-26T14:21:59.601Z"
   },
   {
    "duration": 17,
    "start_time": "2021-11-26T14:21:59.606Z"
   },
   {
    "duration": 19,
    "start_time": "2021-11-26T14:21:59.625Z"
   },
   {
    "duration": 57,
    "start_time": "2021-11-26T14:21:59.646Z"
   },
   {
    "duration": 3,
    "start_time": "2021-11-26T14:22:06.267Z"
   },
   {
    "duration": 7,
    "start_time": "2021-11-26T14:22:30.431Z"
   },
   {
    "duration": 370,
    "start_time": "2021-11-26T14:22:34.819Z"
   },
   {
    "duration": 6,
    "start_time": "2021-11-26T14:22:38.768Z"
   },
   {
    "duration": 770,
    "start_time": "2021-11-26T14:22:38.777Z"
   },
   {
    "duration": 10,
    "start_time": "2021-11-26T14:22:39.550Z"
   },
   {
    "duration": 60,
    "start_time": "2021-11-26T14:22:39.563Z"
   },
   {
    "duration": 14,
    "start_time": "2021-11-26T14:22:39.625Z"
   },
   {
    "duration": 6,
    "start_time": "2021-11-26T14:22:39.641Z"
   },
   {
    "duration": 15,
    "start_time": "2021-11-26T14:22:39.649Z"
   },
   {
    "duration": 40,
    "start_time": "2021-11-26T14:22:39.666Z"
   },
   {
    "duration": 7,
    "start_time": "2021-11-26T14:22:39.710Z"
   },
   {
    "duration": 31,
    "start_time": "2021-11-26T14:22:39.720Z"
   },
   {
    "duration": 6,
    "start_time": "2021-11-26T14:22:39.753Z"
   },
   {
    "duration": 17,
    "start_time": "2021-11-26T14:22:39.800Z"
   },
   {
    "duration": 29,
    "start_time": "2021-11-26T14:22:39.819Z"
   },
   {
    "duration": 430,
    "start_time": "2021-11-26T14:22:39.901Z"
   },
   {
    "duration": 68,
    "start_time": "2021-11-26T14:22:40.334Z"
   },
   {
    "duration": 436,
    "start_time": "2021-11-26T14:22:40.404Z"
   },
   {
    "duration": 15,
    "start_time": "2021-11-26T14:22:40.844Z"
   },
   {
    "duration": 15,
    "start_time": "2021-11-26T14:22:40.861Z"
   },
   {
    "duration": 191,
    "start_time": "2021-11-26T14:22:40.901Z"
   },
   {
    "duration": 11,
    "start_time": "2021-11-26T14:22:41.099Z"
   },
   {
    "duration": 209,
    "start_time": "2021-11-26T14:22:41.112Z"
   },
   {
    "duration": 13,
    "start_time": "2021-11-26T14:22:41.324Z"
   },
   {
    "duration": 207,
    "start_time": "2021-11-26T14:22:41.339Z"
   },
   {
    "duration": 632,
    "start_time": "2021-11-26T14:22:41.548Z"
   },
   {
    "duration": 30,
    "start_time": "2021-11-26T14:22:42.182Z"
   },
   {
    "duration": 1178,
    "start_time": "2021-11-26T14:22:42.215Z"
   },
   {
    "duration": 78,
    "start_time": "2021-11-26T14:22:43.401Z"
   },
   {
    "duration": 31,
    "start_time": "2021-11-26T14:22:43.481Z"
   },
   {
    "duration": 24,
    "start_time": "2021-11-26T14:22:43.514Z"
   },
   {
    "duration": 17,
    "start_time": "2021-11-26T14:22:43.541Z"
   },
   {
    "duration": 12,
    "start_time": "2021-11-26T14:22:43.560Z"
   },
   {
    "duration": 26,
    "start_time": "2021-11-26T14:22:43.574Z"
   },
   {
    "duration": 25,
    "start_time": "2021-11-26T14:22:43.603Z"
   },
   {
    "duration": 38,
    "start_time": "2021-11-26T14:22:43.631Z"
   },
   {
    "duration": 39,
    "start_time": "2021-11-26T14:23:35.113Z"
   },
   {
    "duration": 14,
    "start_time": "2021-11-26T14:24:45.719Z"
   },
   {
    "duration": 447,
    "start_time": "2021-11-26T14:24:48.204Z"
   },
   {
    "duration": 7,
    "start_time": "2021-11-26T14:24:53.863Z"
   },
   {
    "duration": 780,
    "start_time": "2021-11-26T14:24:53.873Z"
   },
   {
    "duration": 14,
    "start_time": "2021-11-26T14:24:54.657Z"
   },
   {
    "duration": 70,
    "start_time": "2021-11-26T14:24:54.674Z"
   },
   {
    "duration": 18,
    "start_time": "2021-11-26T14:24:54.747Z"
   },
   {
    "duration": 7,
    "start_time": "2021-11-26T14:24:54.768Z"
   },
   {
    "duration": 35,
    "start_time": "2021-11-26T14:24:54.777Z"
   },
   {
    "duration": 25,
    "start_time": "2021-11-26T14:24:54.817Z"
   },
   {
    "duration": 7,
    "start_time": "2021-11-26T14:24:54.901Z"
   },
   {
    "duration": 29,
    "start_time": "2021-11-26T14:24:54.911Z"
   },
   {
    "duration": 6,
    "start_time": "2021-11-26T14:24:54.942Z"
   },
   {
    "duration": 19,
    "start_time": "2021-11-26T14:24:55.002Z"
   },
   {
    "duration": 103,
    "start_time": "2021-11-26T14:24:55.024Z"
   },
   {
    "duration": 414,
    "start_time": "2021-11-26T14:24:55.129Z"
   },
   {
    "duration": 18,
    "start_time": "2021-11-26T14:24:55.600Z"
   },
   {
    "duration": 271,
    "start_time": "2021-11-26T14:24:55.620Z"
   },
   {
    "duration": 20,
    "start_time": "2021-11-26T14:24:55.902Z"
   },
   {
    "duration": 16,
    "start_time": "2021-11-26T14:24:55.925Z"
   },
   {
    "duration": 339,
    "start_time": "2021-11-26T14:24:55.944Z"
   },
   {
    "duration": 24,
    "start_time": "2021-11-26T14:24:56.286Z"
   },
   {
    "duration": 328,
    "start_time": "2021-11-26T14:24:56.313Z"
   },
   {
    "duration": 18,
    "start_time": "2021-11-26T14:24:56.644Z"
   },
   {
    "duration": 486,
    "start_time": "2021-11-26T14:24:56.665Z"
   },
   {
    "duration": 455,
    "start_time": "2021-11-26T14:24:57.153Z"
   },
   {
    "duration": 21,
    "start_time": "2021-11-26T14:24:57.611Z"
   },
   {
    "duration": 1917,
    "start_time": "2021-11-26T14:24:57.636Z"
   },
   {
    "duration": 89,
    "start_time": "2021-11-26T14:24:59.558Z"
   },
   {
    "duration": 15,
    "start_time": "2021-11-26T14:24:59.650Z"
   },
   {
    "duration": 34,
    "start_time": "2021-11-26T14:24:59.668Z"
   },
   {
    "duration": 3,
    "start_time": "2021-11-26T14:24:59.705Z"
   },
   {
    "duration": 15,
    "start_time": "2021-11-26T14:24:59.710Z"
   },
   {
    "duration": 22,
    "start_time": "2021-11-26T14:24:59.727Z"
   },
   {
    "duration": 21,
    "start_time": "2021-11-26T14:24:59.752Z"
   },
   {
    "duration": 40,
    "start_time": "2021-11-26T14:24:59.776Z"
   },
   {
    "duration": 45,
    "start_time": "2021-11-26T14:24:59.819Z"
   },
   {
    "duration": 375,
    "start_time": "2021-11-26T14:26:18.233Z"
   },
   {
    "duration": 7,
    "start_time": "2021-11-26T14:26:24.435Z"
   },
   {
    "duration": 779,
    "start_time": "2021-11-26T14:26:24.445Z"
   },
   {
    "duration": 12,
    "start_time": "2021-11-26T14:26:25.228Z"
   },
   {
    "duration": 72,
    "start_time": "2021-11-26T14:26:25.243Z"
   },
   {
    "duration": 15,
    "start_time": "2021-11-26T14:26:25.317Z"
   },
   {
    "duration": 5,
    "start_time": "2021-11-26T14:26:25.334Z"
   },
   {
    "duration": 69,
    "start_time": "2021-11-26T14:26:25.341Z"
   },
   {
    "duration": 22,
    "start_time": "2021-11-26T14:26:25.413Z"
   },
   {
    "duration": 8,
    "start_time": "2021-11-26T14:26:25.439Z"
   },
   {
    "duration": 25,
    "start_time": "2021-11-26T14:26:25.501Z"
   },
   {
    "duration": 6,
    "start_time": "2021-11-26T14:26:25.529Z"
   },
   {
    "duration": 70,
    "start_time": "2021-11-26T14:26:25.538Z"
   },
   {
    "duration": 30,
    "start_time": "2021-11-26T14:26:25.611Z"
   },
   {
    "duration": 484,
    "start_time": "2021-11-26T14:26:25.644Z"
   },
   {
    "duration": 70,
    "start_time": "2021-11-26T14:26:26.131Z"
   },
   {
    "duration": 225,
    "start_time": "2021-11-26T14:26:26.204Z"
   },
   {
    "duration": 15,
    "start_time": "2021-11-26T14:26:26.432Z"
   },
   {
    "duration": 16,
    "start_time": "2021-11-26T14:26:26.450Z"
   },
   {
    "duration": 224,
    "start_time": "2021-11-26T14:26:26.469Z"
   },
   {
    "duration": 14,
    "start_time": "2021-11-26T14:26:26.700Z"
   },
   {
    "duration": 387,
    "start_time": "2021-11-26T14:26:26.716Z"
   },
   {
    "duration": 14,
    "start_time": "2021-11-26T14:26:27.105Z"
   },
   {
    "duration": 198,
    "start_time": "2021-11-26T14:26:27.121Z"
   },
   {
    "duration": 446,
    "start_time": "2021-11-26T14:26:27.321Z"
   },
   {
    "duration": 40,
    "start_time": "2021-11-26T14:26:27.769Z"
   },
   {
    "duration": 1182,
    "start_time": "2021-11-26T14:26:27.812Z"
   },
   {
    "duration": 78,
    "start_time": "2021-11-26T14:26:28.999Z"
   },
   {
    "duration": 33,
    "start_time": "2021-11-26T14:26:29.080Z"
   },
   {
    "duration": 13,
    "start_time": "2021-11-26T14:26:29.115Z"
   },
   {
    "duration": 6,
    "start_time": "2021-11-26T14:26:29.131Z"
   },
   {
    "duration": 7,
    "start_time": "2021-11-26T14:26:29.139Z"
   },
   {
    "duration": 18,
    "start_time": "2021-11-26T14:26:29.148Z"
   },
   {
    "duration": 48,
    "start_time": "2021-11-26T14:26:29.168Z"
   },
   {
    "duration": 34,
    "start_time": "2021-11-26T14:26:29.220Z"
   },
   {
    "duration": 90,
    "start_time": "2021-11-26T14:26:29.257Z"
   },
   {
    "duration": 424,
    "start_time": "2021-11-26T14:26:43.201Z"
   },
   {
    "duration": 6,
    "start_time": "2021-11-26T14:26:45.261Z"
   },
   {
    "duration": 824,
    "start_time": "2021-11-26T14:26:45.270Z"
   },
   {
    "duration": 14,
    "start_time": "2021-11-26T14:26:46.097Z"
   },
   {
    "duration": 62,
    "start_time": "2021-11-26T14:26:46.114Z"
   },
   {
    "duration": 30,
    "start_time": "2021-11-26T14:26:46.179Z"
   },
   {
    "duration": 9,
    "start_time": "2021-11-26T14:26:46.212Z"
   },
   {
    "duration": 26,
    "start_time": "2021-11-26T14:26:46.223Z"
   },
   {
    "duration": 25,
    "start_time": "2021-11-26T14:26:46.252Z"
   },
   {
    "duration": 22,
    "start_time": "2021-11-26T14:26:46.283Z"
   },
   {
    "duration": 30,
    "start_time": "2021-11-26T14:26:46.309Z"
   },
   {
    "duration": 7,
    "start_time": "2021-11-26T14:26:46.342Z"
   },
   {
    "duration": 48,
    "start_time": "2021-11-26T14:26:46.352Z"
   },
   {
    "duration": 31,
    "start_time": "2021-11-26T14:26:46.403Z"
   },
   {
    "duration": 241,
    "start_time": "2021-11-26T14:26:46.436Z"
   },
   {
    "duration": 22,
    "start_time": "2021-11-26T14:26:46.680Z"
   },
   {
    "duration": 238,
    "start_time": "2021-11-26T14:26:46.704Z"
   },
   {
    "duration": 13,
    "start_time": "2021-11-26T14:26:46.945Z"
   },
   {
    "duration": 19,
    "start_time": "2021-11-26T14:26:46.961Z"
   },
   {
    "duration": 380,
    "start_time": "2021-11-26T14:26:46.982Z"
   },
   {
    "duration": 10,
    "start_time": "2021-11-26T14:26:47.364Z"
   },
   {
    "duration": 207,
    "start_time": "2021-11-26T14:26:47.377Z"
   },
   {
    "duration": 23,
    "start_time": "2021-11-26T14:26:47.587Z"
   },
   {
    "duration": 196,
    "start_time": "2021-11-26T14:26:47.613Z"
   },
   {
    "duration": 476,
    "start_time": "2021-11-26T14:26:47.815Z"
   },
   {
    "duration": 31,
    "start_time": "2021-11-26T14:26:48.302Z"
   },
   {
    "duration": 1551,
    "start_time": "2021-11-26T14:26:48.336Z"
   },
   {
    "duration": 268,
    "start_time": "2021-11-26T14:26:49.900Z"
   },
   {
    "duration": 31,
    "start_time": "2021-11-26T14:26:50.170Z"
   },
   {
    "duration": 12,
    "start_time": "2021-11-26T14:26:50.203Z"
   },
   {
    "duration": 6,
    "start_time": "2021-11-26T14:26:50.217Z"
   },
   {
    "duration": 9,
    "start_time": "2021-11-26T14:26:50.225Z"
   },
   {
    "duration": 15,
    "start_time": "2021-11-26T14:26:50.237Z"
   },
   {
    "duration": 49,
    "start_time": "2021-11-26T14:26:50.255Z"
   },
   {
    "duration": 18,
    "start_time": "2021-11-26T14:26:50.306Z"
   },
   {
    "duration": 18,
    "start_time": "2021-11-26T14:26:50.327Z"
   },
   {
    "duration": 7,
    "start_time": "2021-11-26T14:27:03.788Z"
   },
   {
    "duration": 934,
    "start_time": "2021-11-26T14:27:03.797Z"
   },
   {
    "duration": 11,
    "start_time": "2021-11-26T14:27:04.735Z"
   },
   {
    "duration": 59,
    "start_time": "2021-11-26T14:27:04.749Z"
   },
   {
    "duration": 15,
    "start_time": "2021-11-26T14:27:04.810Z"
   },
   {
    "duration": 8,
    "start_time": "2021-11-26T14:27:04.827Z"
   },
   {
    "duration": 16,
    "start_time": "2021-11-26T14:27:04.838Z"
   },
   {
    "duration": 50,
    "start_time": "2021-11-26T14:27:04.857Z"
   },
   {
    "duration": 8,
    "start_time": "2021-11-26T14:27:04.911Z"
   },
   {
    "duration": 30,
    "start_time": "2021-11-26T14:27:04.923Z"
   },
   {
    "duration": 44,
    "start_time": "2021-11-26T14:27:04.956Z"
   },
   {
    "duration": 20,
    "start_time": "2021-11-26T14:27:05.003Z"
   },
   {
    "duration": 33,
    "start_time": "2021-11-26T14:27:05.026Z"
   },
   {
    "duration": 244,
    "start_time": "2021-11-26T14:27:05.062Z"
   },
   {
    "duration": 20,
    "start_time": "2021-11-26T14:27:05.309Z"
   },
   {
    "duration": 243,
    "start_time": "2021-11-26T14:27:05.332Z"
   },
   {
    "duration": 23,
    "start_time": "2021-11-26T14:27:05.577Z"
   },
   {
    "duration": 10,
    "start_time": "2021-11-26T14:27:05.603Z"
   },
   {
    "duration": 206,
    "start_time": "2021-11-26T14:27:05.616Z"
   },
   {
    "duration": 11,
    "start_time": "2021-11-26T14:27:05.824Z"
   },
   {
    "duration": 207,
    "start_time": "2021-11-26T14:27:05.837Z"
   },
   {
    "duration": 14,
    "start_time": "2021-11-26T14:27:06.046Z"
   },
   {
    "duration": 209,
    "start_time": "2021-11-26T14:27:06.062Z"
   },
   {
    "duration": 616,
    "start_time": "2021-11-26T14:27:06.274Z"
   },
   {
    "duration": 28,
    "start_time": "2021-11-26T14:27:06.892Z"
   },
   {
    "duration": 1265,
    "start_time": "2021-11-26T14:27:06.923Z"
   },
   {
    "duration": 84,
    "start_time": "2021-11-26T14:27:08.193Z"
   },
   {
    "duration": 28,
    "start_time": "2021-11-26T14:27:08.280Z"
   },
   {
    "duration": 15,
    "start_time": "2021-11-26T14:27:08.310Z"
   },
   {
    "duration": 9,
    "start_time": "2021-11-26T14:27:08.327Z"
   },
   {
    "duration": 11,
    "start_time": "2021-11-26T14:27:08.339Z"
   },
   {
    "duration": 20,
    "start_time": "2021-11-26T14:27:08.352Z"
   },
   {
    "duration": 34,
    "start_time": "2021-11-26T14:27:08.374Z"
   },
   {
    "duration": 31,
    "start_time": "2021-11-26T14:27:08.411Z"
   },
   {
    "duration": 68,
    "start_time": "2021-11-26T14:27:08.444Z"
   },
   {
    "duration": 3,
    "start_time": "2021-11-26T14:28:17.552Z"
   },
   {
    "duration": 38,
    "start_time": "2021-11-26T14:28:18.516Z"
   },
   {
    "duration": 38,
    "start_time": "2021-11-26T14:28:23.842Z"
   },
   {
    "duration": 38,
    "start_time": "2021-11-26T14:28:39.885Z"
   },
   {
    "duration": 44,
    "start_time": "2021-11-26T14:29:00.781Z"
   },
   {
    "duration": 38,
    "start_time": "2021-11-26T14:29:17.313Z"
   },
   {
    "duration": 6,
    "start_time": "2021-11-26T14:29:22.671Z"
   },
   {
    "duration": 853,
    "start_time": "2021-11-26T14:29:22.680Z"
   },
   {
    "duration": 12,
    "start_time": "2021-11-26T14:29:23.536Z"
   },
   {
    "duration": 61,
    "start_time": "2021-11-26T14:29:23.551Z"
   },
   {
    "duration": 14,
    "start_time": "2021-11-26T14:29:23.614Z"
   },
   {
    "duration": 12,
    "start_time": "2021-11-26T14:29:23.631Z"
   },
   {
    "duration": 23,
    "start_time": "2021-11-26T14:29:23.646Z"
   },
   {
    "duration": 34,
    "start_time": "2021-11-26T14:29:23.672Z"
   },
   {
    "duration": 8,
    "start_time": "2021-11-26T14:29:23.710Z"
   },
   {
    "duration": 50,
    "start_time": "2021-11-26T14:29:23.722Z"
   },
   {
    "duration": 11,
    "start_time": "2021-11-26T14:29:23.775Z"
   },
   {
    "duration": 18,
    "start_time": "2021-11-26T14:29:23.800Z"
   },
   {
    "duration": 41,
    "start_time": "2021-11-26T14:29:23.821Z"
   },
   {
    "duration": 240,
    "start_time": "2021-11-26T14:29:23.865Z"
   },
   {
    "duration": 19,
    "start_time": "2021-11-26T14:29:24.108Z"
   },
   {
    "duration": 235,
    "start_time": "2021-11-26T14:29:24.130Z"
   },
   {
    "duration": 13,
    "start_time": "2021-11-26T14:29:24.367Z"
   },
   {
    "duration": 34,
    "start_time": "2021-11-26T14:29:24.382Z"
   },
   {
    "duration": 195,
    "start_time": "2021-11-26T14:29:24.418Z"
   },
   {
    "duration": 11,
    "start_time": "2021-11-26T14:29:24.615Z"
   },
   {
    "duration": 200,
    "start_time": "2021-11-26T14:29:24.629Z"
   },
   {
    "duration": 13,
    "start_time": "2021-11-26T14:29:24.832Z"
   },
   {
    "duration": 383,
    "start_time": "2021-11-26T14:29:24.847Z"
   },
   {
    "duration": 448,
    "start_time": "2021-11-26T14:29:25.232Z"
   },
   {
    "duration": 34,
    "start_time": "2021-11-26T14:29:25.683Z"
   },
   {
    "duration": 1276,
    "start_time": "2021-11-26T14:29:25.720Z"
   },
   {
    "duration": 81,
    "start_time": "2021-11-26T14:29:27.003Z"
   },
   {
    "duration": 28,
    "start_time": "2021-11-26T14:29:27.086Z"
   },
   {
    "duration": 23,
    "start_time": "2021-11-26T14:29:27.116Z"
   },
   {
    "duration": 26,
    "start_time": "2021-11-26T14:29:27.142Z"
   },
   {
    "duration": 23,
    "start_time": "2021-11-26T14:29:27.170Z"
   },
   {
    "duration": 28,
    "start_time": "2021-11-26T14:29:27.195Z"
   },
   {
    "duration": 27,
    "start_time": "2021-11-26T14:29:27.227Z"
   },
   {
    "duration": 8,
    "start_time": "2021-11-26T14:29:27.257Z"
   },
   {
    "duration": 26,
    "start_time": "2021-11-26T14:29:27.267Z"
   },
   {
    "duration": 385,
    "start_time": "2021-11-26T14:29:31.364Z"
   },
   {
    "duration": 7,
    "start_time": "2021-11-26T14:29:33.942Z"
   },
   {
    "duration": 874,
    "start_time": "2021-11-26T14:29:33.951Z"
   },
   {
    "duration": 12,
    "start_time": "2021-11-26T14:29:34.828Z"
   },
   {
    "duration": 73,
    "start_time": "2021-11-26T14:29:34.844Z"
   },
   {
    "duration": 13,
    "start_time": "2021-11-26T14:29:34.920Z"
   },
   {
    "duration": 5,
    "start_time": "2021-11-26T14:29:34.936Z"
   },
   {
    "duration": 46,
    "start_time": "2021-11-26T14:29:34.944Z"
   },
   {
    "duration": 21,
    "start_time": "2021-11-26T14:29:34.993Z"
   },
   {
    "duration": 9,
    "start_time": "2021-11-26T14:29:35.020Z"
   },
   {
    "duration": 30,
    "start_time": "2021-11-26T14:29:35.033Z"
   },
   {
    "duration": 7,
    "start_time": "2021-11-26T14:29:35.065Z"
   },
   {
    "duration": 17,
    "start_time": "2021-11-26T14:29:35.101Z"
   },
   {
    "duration": 32,
    "start_time": "2021-11-26T14:29:35.122Z"
   },
   {
    "duration": 258,
    "start_time": "2021-11-26T14:29:35.157Z"
   },
   {
    "duration": 20,
    "start_time": "2021-11-26T14:29:35.419Z"
   },
   {
    "duration": 240,
    "start_time": "2021-11-26T14:29:35.442Z"
   },
   {
    "duration": 23,
    "start_time": "2021-11-26T14:29:35.684Z"
   },
   {
    "duration": 17,
    "start_time": "2021-11-26T14:29:35.710Z"
   },
   {
    "duration": 207,
    "start_time": "2021-11-26T14:29:35.729Z"
   },
   {
    "duration": 10,
    "start_time": "2021-11-26T14:29:35.938Z"
   },
   {
    "duration": 398,
    "start_time": "2021-11-26T14:29:35.951Z"
   },
   {
    "duration": 14,
    "start_time": "2021-11-26T14:29:36.351Z"
   },
   {
    "duration": 201,
    "start_time": "2021-11-26T14:29:36.367Z"
   },
   {
    "duration": 445,
    "start_time": "2021-11-26T14:29:36.570Z"
   },
   {
    "duration": 31,
    "start_time": "2021-11-26T14:29:37.018Z"
   },
   {
    "duration": 1317,
    "start_time": "2021-11-26T14:29:37.052Z"
   },
   {
    "duration": 86,
    "start_time": "2021-11-26T14:29:38.376Z"
   },
   {
    "duration": 17,
    "start_time": "2021-11-26T14:29:38.465Z"
   },
   {
    "duration": 12,
    "start_time": "2021-11-26T14:29:38.501Z"
   },
   {
    "duration": 4,
    "start_time": "2021-11-26T14:29:38.515Z"
   },
   {
    "duration": 6,
    "start_time": "2021-11-26T14:29:38.521Z"
   },
   {
    "duration": 13,
    "start_time": "2021-11-26T14:29:38.529Z"
   },
   {
    "duration": 16,
    "start_time": "2021-11-26T14:29:38.545Z"
   },
   {
    "duration": 40,
    "start_time": "2021-11-26T14:29:38.564Z"
   },
   {
    "duration": 23,
    "start_time": "2021-11-26T14:29:38.606Z"
   },
   {
    "duration": 35,
    "start_time": "2021-11-26T14:29:45.684Z"
   },
   {
    "duration": 32,
    "start_time": "2021-11-26T14:29:53.790Z"
   },
   {
    "duration": 43,
    "start_time": "2021-11-26T14:30:38.524Z"
   },
   {
    "duration": 3254,
    "start_time": "2021-11-26T14:32:32.663Z"
   },
   {
    "duration": 18,
    "start_time": "2021-11-26T14:32:35.920Z"
   },
   {
    "duration": 2454,
    "start_time": "2021-11-26T14:33:40.329Z"
   },
   {
    "duration": 8,
    "start_time": "2021-11-26T14:33:43.335Z"
   },
   {
    "duration": 4661,
    "start_time": "2021-11-26T14:33:52.968Z"
   },
   {
    "duration": 1798,
    "start_time": "2021-11-26T14:33:55.833Z"
   },
   {
    "duration": 35,
    "start_time": "2021-11-26T14:34:12.996Z"
   },
   {
    "duration": 838,
    "start_time": "2021-11-26T14:34:13.034Z"
   },
   {
    "duration": 12,
    "start_time": "2021-11-26T14:34:13.875Z"
   },
   {
    "duration": 59,
    "start_time": "2021-11-26T14:34:13.890Z"
   },
   {
    "duration": 15,
    "start_time": "2021-11-26T14:34:13.951Z"
   },
   {
    "duration": 7,
    "start_time": "2021-11-26T14:34:13.969Z"
   },
   {
    "duration": 30,
    "start_time": "2021-11-26T14:34:13.978Z"
   },
   {
    "duration": 22,
    "start_time": "2021-11-26T14:34:14.011Z"
   },
   {
    "duration": 6,
    "start_time": "2021-11-26T14:34:14.038Z"
   },
   {
    "duration": 57,
    "start_time": "2021-11-26T14:34:14.048Z"
   },
   {
    "duration": 7,
    "start_time": "2021-11-26T14:34:14.107Z"
   },
   {
    "duration": 19,
    "start_time": "2021-11-26T14:34:14.117Z"
   },
   {
    "duration": 63,
    "start_time": "2021-11-26T14:34:14.139Z"
   },
   {
    "duration": 222,
    "start_time": "2021-11-26T14:34:14.205Z"
   },
   {
    "duration": 16,
    "start_time": "2021-11-26T14:34:14.430Z"
   },
   {
    "duration": 374,
    "start_time": "2021-11-26T14:34:14.449Z"
   },
   {
    "duration": 14,
    "start_time": "2021-11-26T14:34:14.825Z"
   },
   {
    "duration": 66,
    "start_time": "2021-11-26T14:34:14.841Z"
   },
   {
    "duration": 398,
    "start_time": "2021-11-26T14:34:14.909Z"
   },
   {
    "duration": 13,
    "start_time": "2021-11-26T14:34:15.310Z"
   },
   {
    "duration": 220,
    "start_time": "2021-11-26T14:34:15.325Z"
   },
   {
    "duration": 15,
    "start_time": "2021-11-26T14:34:15.547Z"
   },
   {
    "duration": 208,
    "start_time": "2021-11-26T14:34:15.565Z"
   },
   {
    "duration": 636,
    "start_time": "2021-11-26T14:34:15.776Z"
   },
   {
    "duration": 33,
    "start_time": "2021-11-26T14:34:16.415Z"
   },
   {
    "duration": 1196,
    "start_time": "2021-11-26T14:34:16.451Z"
   },
   {
    "duration": 94,
    "start_time": "2021-11-26T14:34:17.654Z"
   },
   {
    "duration": 3321,
    "start_time": "2021-11-26T14:34:17.751Z"
   },
   {
    "duration": 34,
    "start_time": "2021-11-26T14:34:21.075Z"
   },
   {
    "duration": 16,
    "start_time": "2021-11-26T14:34:21.111Z"
   },
   {
    "duration": 21,
    "start_time": "2021-11-26T14:34:21.129Z"
   },
   {
    "duration": 25,
    "start_time": "2021-11-26T14:34:21.152Z"
   },
   {
    "duration": 26,
    "start_time": "2021-11-26T14:34:21.180Z"
   },
   {
    "duration": 25,
    "start_time": "2021-11-26T14:34:21.208Z"
   },
   {
    "duration": 12,
    "start_time": "2021-11-26T14:34:21.237Z"
   },
   {
    "duration": 51,
    "start_time": "2021-11-26T14:34:21.251Z"
   },
   {
    "duration": 2192,
    "start_time": "2021-11-26T14:35:09.516Z"
   },
   {
    "duration": 19,
    "start_time": "2021-11-26T14:35:11.710Z"
   },
   {
    "duration": 254,
    "start_time": "2021-11-26T14:35:14.932Z"
   },
   {
    "duration": 19,
    "start_time": "2021-11-26T14:35:15.203Z"
   },
   {
    "duration": 1250,
    "start_time": "2021-11-26T14:35:19.486Z"
   },
   {
    "duration": 1799,
    "start_time": "2021-11-26T14:35:18.940Z"
   },
   {
    "duration": 1293,
    "start_time": "2021-11-26T14:35:26.650Z"
   },
   {
    "duration": 85,
    "start_time": "2021-11-26T14:35:32.913Z"
   },
   {
    "duration": 18,
    "start_time": "2021-11-26T14:35:35.569Z"
   },
   {
    "duration": 371,
    "start_time": "2021-11-26T14:35:43.454Z"
   },
   {
    "duration": 424,
    "start_time": "2021-11-26T14:35:51.738Z"
   },
   {
    "duration": 382,
    "start_time": "2021-11-26T14:36:36.673Z"
   },
   {
    "duration": 372,
    "start_time": "2021-11-26T14:36:45.420Z"
   },
   {
    "duration": 5,
    "start_time": "2021-11-26T14:36:47.401Z"
   },
   {
    "duration": 11,
    "start_time": "2021-11-26T14:39:53.195Z"
   },
   {
    "duration": 7,
    "start_time": "2021-11-26T14:40:26.934Z"
   },
   {
    "duration": 90,
    "start_time": "2021-11-26T14:41:07.568Z"
   },
   {
    "duration": 19,
    "start_time": "2021-11-26T14:41:07.822Z"
   },
   {
    "duration": 11,
    "start_time": "2021-11-26T14:41:08.394Z"
   },
   {
    "duration": 12,
    "start_time": "2021-11-26T14:41:40.405Z"
   },
   {
    "duration": 48,
    "start_time": "2021-11-26T14:41:51.885Z"
   },
   {
    "duration": 33,
    "start_time": "2021-11-26T14:41:55.608Z"
   },
   {
    "duration": 1005,
    "start_time": "2021-11-26T14:41:55.644Z"
   },
   {
    "duration": 12,
    "start_time": "2021-11-26T14:41:56.653Z"
   },
   {
    "duration": 65,
    "start_time": "2021-11-26T14:41:56.669Z"
   },
   {
    "duration": 16,
    "start_time": "2021-11-26T14:41:56.737Z"
   },
   {
    "duration": 20,
    "start_time": "2021-11-26T14:41:56.756Z"
   },
   {
    "duration": 27,
    "start_time": "2021-11-26T14:41:56.778Z"
   },
   {
    "duration": 22,
    "start_time": "2021-11-26T14:41:56.808Z"
   },
   {
    "duration": 8,
    "start_time": "2021-11-26T14:41:56.836Z"
   },
   {
    "duration": 55,
    "start_time": "2021-11-26T14:41:56.848Z"
   },
   {
    "duration": 6,
    "start_time": "2021-11-26T14:41:56.905Z"
   },
   {
    "duration": 18,
    "start_time": "2021-11-26T14:41:56.913Z"
   },
   {
    "duration": 37,
    "start_time": "2021-11-26T14:41:56.934Z"
   },
   {
    "duration": 252,
    "start_time": "2021-11-26T14:41:56.973Z"
   },
   {
    "duration": 18,
    "start_time": "2021-11-26T14:41:57.227Z"
   },
   {
    "duration": 238,
    "start_time": "2021-11-26T14:41:57.248Z"
   },
   {
    "duration": 19,
    "start_time": "2021-11-26T14:41:57.488Z"
   },
   {
    "duration": 12,
    "start_time": "2021-11-26T14:41:57.509Z"
   },
   {
    "duration": 208,
    "start_time": "2021-11-26T14:41:57.523Z"
   },
   {
    "duration": 10,
    "start_time": "2021-11-26T14:41:57.734Z"
   },
   {
    "duration": 208,
    "start_time": "2021-11-26T14:41:57.746Z"
   },
   {
    "duration": 14,
    "start_time": "2021-11-26T14:41:57.956Z"
   },
   {
    "duration": 372,
    "start_time": "2021-11-26T14:41:57.973Z"
   },
   {
    "duration": 450,
    "start_time": "2021-11-26T14:41:58.347Z"
   },
   {
    "duration": 22,
    "start_time": "2021-11-26T14:41:58.801Z"
   },
   {
    "duration": 1187,
    "start_time": "2021-11-26T14:41:58.825Z"
   },
   {
    "duration": 101,
    "start_time": "2021-11-26T14:42:00.017Z"
   },
   {
    "duration": 15,
    "start_time": "2021-11-26T14:42:00.121Z"
   },
   {
    "duration": 33,
    "start_time": "2021-11-26T14:42:00.138Z"
   },
   {
    "duration": 30,
    "start_time": "2021-11-26T14:42:00.173Z"
   },
   {
    "duration": 56,
    "start_time": "2021-11-26T14:42:00.206Z"
   },
   {
    "duration": 38,
    "start_time": "2021-11-26T14:42:25.165Z"
   },
   {
    "duration": 6,
    "start_time": "2021-11-26T14:42:28.828Z"
   },
   {
    "duration": 746,
    "start_time": "2021-11-26T14:42:28.837Z"
   },
   {
    "duration": 11,
    "start_time": "2021-11-26T14:42:29.586Z"
   },
   {
    "duration": 68,
    "start_time": "2021-11-26T14:42:29.599Z"
   },
   {
    "duration": 15,
    "start_time": "2021-11-26T14:42:29.669Z"
   },
   {
    "duration": 10,
    "start_time": "2021-11-26T14:42:29.686Z"
   },
   {
    "duration": 17,
    "start_time": "2021-11-26T14:42:29.698Z"
   },
   {
    "duration": 21,
    "start_time": "2021-11-26T14:42:29.717Z"
   },
   {
    "duration": 7,
    "start_time": "2021-11-26T14:42:29.742Z"
   },
   {
    "duration": 71,
    "start_time": "2021-11-26T14:42:29.752Z"
   },
   {
    "duration": 6,
    "start_time": "2021-11-26T14:42:29.825Z"
   },
   {
    "duration": 19,
    "start_time": "2021-11-26T14:42:29.833Z"
   },
   {
    "duration": 59,
    "start_time": "2021-11-26T14:42:29.855Z"
   },
   {
    "duration": 303,
    "start_time": "2021-11-26T14:42:29.916Z"
   },
   {
    "duration": 17,
    "start_time": "2021-11-26T14:42:30.222Z"
   },
   {
    "duration": 472,
    "start_time": "2021-11-26T14:42:30.242Z"
   },
   {
    "duration": 13,
    "start_time": "2021-11-26T14:42:30.717Z"
   },
   {
    "duration": 74,
    "start_time": "2021-11-26T14:42:30.733Z"
   },
   {
    "duration": 233,
    "start_time": "2021-11-26T14:42:30.810Z"
   },
   {
    "duration": 10,
    "start_time": "2021-11-26T14:42:31.046Z"
   },
   {
    "duration": 239,
    "start_time": "2021-11-26T14:42:31.058Z"
   },
   {
    "duration": 14,
    "start_time": "2021-11-26T14:42:31.300Z"
   },
   {
    "duration": 426,
    "start_time": "2021-11-26T14:42:31.316Z"
   },
   {
    "duration": 449,
    "start_time": "2021-11-26T14:42:31.744Z"
   },
   {
    "duration": 24,
    "start_time": "2021-11-26T14:42:32.195Z"
   },
   {
    "duration": 1187,
    "start_time": "2021-11-26T14:42:32.221Z"
   },
   {
    "duration": 99,
    "start_time": "2021-11-26T14:42:33.412Z"
   },
   {
    "duration": 15,
    "start_time": "2021-11-26T14:42:33.514Z"
   },
   {
    "duration": 31,
    "start_time": "2021-11-26T14:42:33.532Z"
   },
   {
    "duration": 112,
    "start_time": "2021-11-26T14:42:33.566Z"
   },
   {
    "duration": 79,
    "start_time": "2021-11-26T14:42:33.682Z"
   },
   {
    "duration": 41,
    "start_time": "2021-11-26T14:42:48.545Z"
   },
   {
    "duration": 37,
    "start_time": "2021-11-26T14:42:57.280Z"
   },
   {
    "duration": 52,
    "start_time": "2021-11-26T14:44:15.458Z"
   },
   {
    "duration": 50,
    "start_time": "2021-11-26T14:45:20.782Z"
   },
   {
    "duration": 2067,
    "start_time": "2021-11-26T14:46:38.383Z"
   },
   {
    "duration": 813,
    "start_time": "2021-11-26T14:46:40.453Z"
   },
   {
    "duration": 16,
    "start_time": "2021-11-26T14:46:41.269Z"
   },
   {
    "duration": 64,
    "start_time": "2021-11-26T14:46:41.288Z"
   },
   {
    "duration": 14,
    "start_time": "2021-11-26T14:46:41.355Z"
   },
   {
    "duration": 12,
    "start_time": "2021-11-26T14:46:41.372Z"
   },
   {
    "duration": 22,
    "start_time": "2021-11-26T14:46:41.386Z"
   },
   {
    "duration": 24,
    "start_time": "2021-11-26T14:46:41.412Z"
   },
   {
    "duration": 6,
    "start_time": "2021-11-26T14:46:41.439Z"
   },
   {
    "duration": 54,
    "start_time": "2021-11-26T14:46:41.448Z"
   },
   {
    "duration": 7,
    "start_time": "2021-11-26T14:46:41.504Z"
   },
   {
    "duration": 24,
    "start_time": "2021-11-26T14:46:41.514Z"
   },
   {
    "duration": 60,
    "start_time": "2021-11-26T14:46:41.541Z"
   },
   {
    "duration": 229,
    "start_time": "2021-11-26T14:46:41.604Z"
   },
   {
    "duration": 17,
    "start_time": "2021-11-26T14:46:41.835Z"
   },
   {
    "duration": 227,
    "start_time": "2021-11-26T14:46:41.854Z"
   },
   {
    "duration": 23,
    "start_time": "2021-11-26T14:46:42.084Z"
   },
   {
    "duration": 18,
    "start_time": "2021-11-26T14:46:42.110Z"
   },
   {
    "duration": 891,
    "start_time": "2021-11-26T14:46:42.130Z"
   },
   {
    "duration": 11,
    "start_time": "2021-11-26T14:46:43.023Z"
   },
   {
    "duration": 332,
    "start_time": "2021-11-26T14:46:43.036Z"
   },
   {
    "duration": 37,
    "start_time": "2021-11-26T14:46:43.371Z"
   },
   {
    "duration": 200,
    "start_time": "2021-11-26T14:46:43.413Z"
   },
   {
    "duration": 683,
    "start_time": "2021-11-26T14:46:43.617Z"
   },
   {
    "duration": 23,
    "start_time": "2021-11-26T14:46:44.303Z"
   },
   {
    "duration": 1162,
    "start_time": "2021-11-26T14:46:44.329Z"
   },
   {
    "duration": 83,
    "start_time": "2021-11-26T14:46:45.501Z"
   },
   {
    "duration": 25,
    "start_time": "2021-11-26T14:46:45.587Z"
   },
   {
    "duration": 17,
    "start_time": "2021-11-26T14:46:45.614Z"
   },
   {
    "duration": 74,
    "start_time": "2021-11-26T14:46:45.633Z"
   },
   {
    "duration": 1212,
    "start_time": "2021-11-26T14:48:15.024Z"
   },
   {
    "duration": 283,
    "start_time": "2021-11-26T14:48:42.520Z"
   },
   {
    "duration": 197,
    "start_time": "2021-11-26T14:48:51.157Z"
   },
   {
    "duration": 235,
    "start_time": "2021-11-26T14:48:56.317Z"
   },
   {
    "duration": 236,
    "start_time": "2021-11-26T14:49:06.524Z"
   },
   {
    "duration": 221,
    "start_time": "2021-11-26T14:49:24.747Z"
   },
   {
    "duration": 212,
    "start_time": "2021-11-26T14:49:28.624Z"
   },
   {
    "duration": 215,
    "start_time": "2021-11-26T14:49:32.108Z"
   },
   {
    "duration": 227,
    "start_time": "2021-11-26T14:49:35.103Z"
   },
   {
    "duration": 228,
    "start_time": "2021-11-26T14:49:38.905Z"
   },
   {
    "duration": 245,
    "start_time": "2021-11-26T14:49:43.756Z"
   },
   {
    "duration": 1153,
    "start_time": "2021-11-26T14:54:00.038Z"
   },
   {
    "duration": 1137,
    "start_time": "2021-11-26T14:54:04.547Z"
   },
   {
    "duration": 1209,
    "start_time": "2021-11-26T14:54:10.069Z"
   },
   {
    "duration": 1136,
    "start_time": "2021-11-26T14:54:43.709Z"
   },
   {
    "duration": 1789,
    "start_time": "2021-11-27T11:29:02.358Z"
   },
   {
    "duration": 1092,
    "start_time": "2021-11-27T11:29:04.149Z"
   },
   {
    "duration": 13,
    "start_time": "2021-11-27T11:29:05.243Z"
   },
   {
    "duration": 80,
    "start_time": "2021-11-27T11:29:05.258Z"
   },
   {
    "duration": 10,
    "start_time": "2021-11-27T11:29:05.340Z"
   },
   {
    "duration": 3,
    "start_time": "2021-11-27T11:29:05.407Z"
   },
   {
    "duration": 39,
    "start_time": "2021-11-27T11:29:05.412Z"
   },
   {
    "duration": 42,
    "start_time": "2021-11-27T11:29:05.454Z"
   },
   {
    "duration": 29,
    "start_time": "2021-11-27T11:29:05.499Z"
   },
   {
    "duration": 41,
    "start_time": "2021-11-27T11:29:05.530Z"
   },
   {
    "duration": 36,
    "start_time": "2021-11-27T11:29:05.573Z"
   },
   {
    "duration": 32,
    "start_time": "2021-11-27T11:29:05.611Z"
   },
   {
    "duration": 31,
    "start_time": "2021-11-27T11:29:05.645Z"
   },
   {
    "duration": 168,
    "start_time": "2021-11-27T11:29:05.678Z"
   },
   {
    "duration": 13,
    "start_time": "2021-11-27T11:29:05.848Z"
   },
   {
    "duration": 146,
    "start_time": "2021-11-27T11:29:05.863Z"
   },
   {
    "duration": 9,
    "start_time": "2021-11-27T11:29:06.011Z"
   },
   {
    "duration": 15,
    "start_time": "2021-11-27T11:29:06.022Z"
   },
   {
    "duration": 696,
    "start_time": "2021-11-27T11:29:06.039Z"
   },
   {
    "duration": 8,
    "start_time": "2021-11-27T11:29:06.737Z"
   },
   {
    "duration": 207,
    "start_time": "2021-11-27T11:29:06.747Z"
   },
   {
    "duration": 11,
    "start_time": "2021-11-27T11:29:06.956Z"
   },
   {
    "duration": 158,
    "start_time": "2021-11-27T11:29:06.970Z"
   },
   {
    "duration": 384,
    "start_time": "2021-11-27T11:29:07.130Z"
   },
   {
    "duration": 15,
    "start_time": "2021-11-27T11:29:07.516Z"
   },
   {
    "duration": 716,
    "start_time": "2021-11-27T11:29:07.533Z"
   },
   {
    "duration": 62,
    "start_time": "2021-11-27T11:29:08.251Z"
   },
   {
    "duration": 10,
    "start_time": "2021-11-27T11:29:08.314Z"
   },
   {
    "duration": 16,
    "start_time": "2021-11-27T11:29:08.326Z"
   },
   {
    "duration": 37,
    "start_time": "2021-11-27T11:29:08.344Z"
   },
   {
    "duration": 34,
    "start_time": "2021-11-27T11:34:40.068Z"
   },
   {
    "duration": 5,
    "start_time": "2021-11-27T11:34:44.215Z"
   },
   {
    "duration": 887,
    "start_time": "2021-11-27T11:34:44.221Z"
   },
   {
    "duration": 7,
    "start_time": "2021-11-27T11:34:45.110Z"
   },
   {
    "duration": 52,
    "start_time": "2021-11-27T11:34:45.119Z"
   },
   {
    "duration": 9,
    "start_time": "2021-11-27T11:34:45.173Z"
   },
   {
    "duration": 6,
    "start_time": "2021-11-27T11:34:45.184Z"
   },
   {
    "duration": 15,
    "start_time": "2021-11-27T11:34:45.191Z"
   },
   {
    "duration": 13,
    "start_time": "2021-11-27T11:34:45.209Z"
   },
   {
    "duration": 4,
    "start_time": "2021-11-27T11:34:45.225Z"
   },
   {
    "duration": 22,
    "start_time": "2021-11-27T11:34:45.231Z"
   },
   {
    "duration": 4,
    "start_time": "2021-11-27T11:34:45.255Z"
   },
   {
    "duration": 14,
    "start_time": "2021-11-27T11:34:45.260Z"
   },
   {
    "duration": 46,
    "start_time": "2021-11-27T11:34:45.275Z"
   },
   {
    "duration": 152,
    "start_time": "2021-11-27T11:34:45.323Z"
   },
   {
    "duration": 13,
    "start_time": "2021-11-27T11:34:45.477Z"
   },
   {
    "duration": 162,
    "start_time": "2021-11-27T11:34:45.491Z"
   },
   {
    "duration": 9,
    "start_time": "2021-11-27T11:34:45.655Z"
   },
   {
    "duration": 12,
    "start_time": "2021-11-27T11:34:45.666Z"
   },
   {
    "duration": 125,
    "start_time": "2021-11-27T11:34:45.679Z"
   },
   {
    "duration": 8,
    "start_time": "2021-11-27T11:34:45.806Z"
   },
   {
    "duration": 127,
    "start_time": "2021-11-27T11:34:45.815Z"
   },
   {
    "duration": 10,
    "start_time": "2021-11-27T11:34:45.944Z"
   },
   {
    "duration": 272,
    "start_time": "2021-11-27T11:34:45.957Z"
   },
   {
    "duration": 268,
    "start_time": "2021-11-27T11:34:46.231Z"
   },
   {
    "duration": 15,
    "start_time": "2021-11-27T11:34:46.501Z"
   },
   {
    "duration": 691,
    "start_time": "2021-11-27T11:34:46.518Z"
   },
   {
    "duration": 55,
    "start_time": "2021-11-27T11:34:47.211Z"
   },
   {
    "duration": 10,
    "start_time": "2021-11-27T11:34:47.268Z"
   },
   {
    "duration": 28,
    "start_time": "2021-11-27T11:34:47.279Z"
   },
   {
    "duration": 30,
    "start_time": "2021-11-27T11:34:47.309Z"
   },
   {
    "duration": 555,
    "start_time": "2021-11-27T11:34:47.341Z"
   },
   {
    "duration": 8,
    "start_time": "2021-11-27T11:36:19.406Z"
   },
   {
    "duration": 9,
    "start_time": "2021-11-27T11:36:25.035Z"
   },
   {
    "duration": 9,
    "start_time": "2021-11-27T11:36:30.443Z"
   },
   {
    "duration": 402,
    "start_time": "2021-11-27T11:40:27.616Z"
   },
   {
    "duration": 342,
    "start_time": "2021-11-27T11:40:52.794Z"
   },
   {
    "duration": 9,
    "start_time": "2021-11-27T11:41:23.081Z"
   },
   {
    "duration": 5,
    "start_time": "2021-11-27T11:41:29.975Z"
   },
   {
    "duration": 106,
    "start_time": "2021-11-27T11:41:59.870Z"
   },
   {
    "duration": 419,
    "start_time": "2021-11-27T11:42:09.530Z"
   },
   {
    "duration": 10,
    "start_time": "2021-11-27T11:42:15.779Z"
   },
   {
    "duration": 4,
    "start_time": "2021-11-27T11:42:19.741Z"
   },
   {
    "duration": 1084,
    "start_time": "2021-11-27T11:42:19.747Z"
   },
   {
    "duration": 7,
    "start_time": "2021-11-27T11:42:20.833Z"
   },
   {
    "duration": 82,
    "start_time": "2021-11-27T11:42:20.842Z"
   },
   {
    "duration": 9,
    "start_time": "2021-11-27T11:42:20.926Z"
   },
   {
    "duration": 11,
    "start_time": "2021-11-27T11:42:20.936Z"
   },
   {
    "duration": 63,
    "start_time": "2021-11-27T11:42:20.948Z"
   },
   {
    "duration": 14,
    "start_time": "2021-11-27T11:42:21.014Z"
   },
   {
    "duration": 5,
    "start_time": "2021-11-27T11:42:21.030Z"
   },
   {
    "duration": 77,
    "start_time": "2021-11-27T11:42:21.037Z"
   },
   {
    "duration": 5,
    "start_time": "2021-11-27T11:42:21.116Z"
   },
   {
    "duration": 26,
    "start_time": "2021-11-27T11:42:21.123Z"
   },
   {
    "duration": 69,
    "start_time": "2021-11-27T11:42:21.150Z"
   },
   {
    "duration": 162,
    "start_time": "2021-11-27T11:42:21.221Z"
   },
   {
    "duration": 22,
    "start_time": "2021-11-27T11:42:21.385Z"
   },
   {
    "duration": 135,
    "start_time": "2021-11-27T11:42:21.410Z"
   },
   {
    "duration": 9,
    "start_time": "2021-11-27T11:42:21.547Z"
   },
   {
    "duration": 20,
    "start_time": "2021-11-27T11:42:21.558Z"
   },
   {
    "duration": 117,
    "start_time": "2021-11-27T11:42:21.580Z"
   },
   {
    "duration": 11,
    "start_time": "2021-11-27T11:42:21.699Z"
   },
   {
    "duration": 248,
    "start_time": "2021-11-27T11:42:21.712Z"
   },
   {
    "duration": 9,
    "start_time": "2021-11-27T11:42:21.961Z"
   },
   {
    "duration": 115,
    "start_time": "2021-11-27T11:42:21.973Z"
   },
   {
    "duration": 265,
    "start_time": "2021-11-27T11:42:22.090Z"
   },
   {
    "duration": 15,
    "start_time": "2021-11-27T11:42:22.356Z"
   },
   {
    "duration": 659,
    "start_time": "2021-11-27T11:42:22.372Z"
   },
   {
    "duration": 52,
    "start_time": "2021-11-27T11:42:23.033Z"
   },
   {
    "duration": 22,
    "start_time": "2021-11-27T11:42:23.087Z"
   },
   {
    "duration": 21,
    "start_time": "2021-11-27T11:42:23.111Z"
   },
   {
    "duration": 36,
    "start_time": "2021-11-27T11:42:23.134Z"
   },
   {
    "duration": 11,
    "start_time": "2021-11-27T11:42:23.171Z"
   },
   {
    "duration": 17,
    "start_time": "2021-11-27T11:42:23.184Z"
   },
   {
    "duration": 654,
    "start_time": "2021-11-27T11:42:23.206Z"
   },
   {
    "duration": 13,
    "start_time": "2021-11-27T11:44:32.048Z"
   },
   {
    "duration": 6,
    "start_time": "2021-11-27T11:44:34.691Z"
   },
   {
    "duration": 733,
    "start_time": "2021-11-27T11:44:34.700Z"
   },
   {
    "duration": 8,
    "start_time": "2021-11-27T11:44:35.436Z"
   },
   {
    "duration": 56,
    "start_time": "2021-11-27T11:44:35.445Z"
   },
   {
    "duration": 9,
    "start_time": "2021-11-27T11:44:35.503Z"
   },
   {
    "duration": 10,
    "start_time": "2021-11-27T11:44:35.513Z"
   },
   {
    "duration": 12,
    "start_time": "2021-11-27T11:44:35.525Z"
   },
   {
    "duration": 16,
    "start_time": "2021-11-27T11:44:35.538Z"
   },
   {
    "duration": 4,
    "start_time": "2021-11-27T11:44:35.557Z"
   },
   {
    "duration": 20,
    "start_time": "2021-11-27T11:44:35.563Z"
   },
   {
    "duration": 4,
    "start_time": "2021-11-27T11:44:35.585Z"
   },
   {
    "duration": 11,
    "start_time": "2021-11-27T11:44:35.607Z"
   },
   {
    "duration": 21,
    "start_time": "2021-11-27T11:44:35.620Z"
   },
   {
    "duration": 151,
    "start_time": "2021-11-27T11:44:35.643Z"
   },
   {
    "duration": 17,
    "start_time": "2021-11-27T11:44:35.795Z"
   },
   {
    "duration": 144,
    "start_time": "2021-11-27T11:44:35.814Z"
   },
   {
    "duration": 8,
    "start_time": "2021-11-27T11:44:35.960Z"
   },
   {
    "duration": 14,
    "start_time": "2021-11-27T11:44:35.970Z"
   },
   {
    "duration": 274,
    "start_time": "2021-11-27T11:44:35.985Z"
   },
   {
    "duration": 7,
    "start_time": "2021-11-27T11:44:36.261Z"
   },
   {
    "duration": 122,
    "start_time": "2021-11-27T11:44:36.270Z"
   },
   {
    "duration": 22,
    "start_time": "2021-11-27T11:44:36.394Z"
   },
   {
    "duration": 117,
    "start_time": "2021-11-27T11:44:36.418Z"
   },
   {
    "duration": 401,
    "start_time": "2021-11-27T11:44:36.537Z"
   },
   {
    "duration": 15,
    "start_time": "2021-11-27T11:44:36.939Z"
   },
   {
    "duration": 680,
    "start_time": "2021-11-27T11:44:36.955Z"
   },
   {
    "duration": 55,
    "start_time": "2021-11-27T11:44:37.638Z"
   },
   {
    "duration": 12,
    "start_time": "2021-11-27T11:44:37.707Z"
   },
   {
    "duration": 14,
    "start_time": "2021-11-27T11:44:37.721Z"
   },
   {
    "duration": 32,
    "start_time": "2021-11-27T11:44:37.737Z"
   },
   {
    "duration": 36,
    "start_time": "2021-11-27T11:44:37.771Z"
   },
   {
    "duration": 640,
    "start_time": "2021-11-27T11:44:37.810Z"
   },
   {
    "duration": 20,
    "start_time": "2021-11-27T11:46:04.768Z"
   },
   {
    "duration": 11,
    "start_time": "2021-11-27T11:46:32.475Z"
   },
   {
    "duration": 19,
    "start_time": "2021-11-27T11:46:36.638Z"
   },
   {
    "duration": 10,
    "start_time": "2021-11-27T11:46:44.712Z"
   },
   {
    "duration": 4,
    "start_time": "2021-11-27T11:46:53.191Z"
   },
   {
    "duration": 759,
    "start_time": "2021-11-27T11:46:53.197Z"
   },
   {
    "duration": 9,
    "start_time": "2021-11-27T11:46:53.958Z"
   },
   {
    "duration": 49,
    "start_time": "2021-11-27T11:46:53.968Z"
   },
   {
    "duration": 9,
    "start_time": "2021-11-27T11:46:54.018Z"
   },
   {
    "duration": 4,
    "start_time": "2021-11-27T11:46:54.029Z"
   },
   {
    "duration": 11,
    "start_time": "2021-11-27T11:46:54.035Z"
   },
   {
    "duration": 13,
    "start_time": "2021-11-27T11:46:54.049Z"
   },
   {
    "duration": 5,
    "start_time": "2021-11-27T11:46:54.064Z"
   },
   {
    "duration": 43,
    "start_time": "2021-11-27T11:46:54.070Z"
   },
   {
    "duration": 5,
    "start_time": "2021-11-27T11:46:54.115Z"
   },
   {
    "duration": 14,
    "start_time": "2021-11-27T11:46:54.121Z"
   },
   {
    "duration": 20,
    "start_time": "2021-11-27T11:46:54.137Z"
   },
   {
    "duration": 166,
    "start_time": "2021-11-27T11:46:54.159Z"
   },
   {
    "duration": 13,
    "start_time": "2021-11-27T11:46:54.326Z"
   },
   {
    "duration": 146,
    "start_time": "2021-11-27T11:46:54.341Z"
   },
   {
    "duration": 9,
    "start_time": "2021-11-27T11:46:54.488Z"
   },
   {
    "duration": 8,
    "start_time": "2021-11-27T11:46:54.506Z"
   },
   {
    "duration": 127,
    "start_time": "2021-11-27T11:46:54.516Z"
   },
   {
    "duration": 7,
    "start_time": "2021-11-27T11:46:54.645Z"
   },
   {
    "duration": 125,
    "start_time": "2021-11-27T11:46:54.653Z"
   },
   {
    "duration": 9,
    "start_time": "2021-11-27T11:46:54.780Z"
   },
   {
    "duration": 156,
    "start_time": "2021-11-27T11:46:54.792Z"
   },
   {
    "duration": 634,
    "start_time": "2021-11-27T11:46:54.950Z"
   },
   {
    "duration": 28,
    "start_time": "2021-11-27T11:46:55.586Z"
   },
   {
    "duration": 674,
    "start_time": "2021-11-27T11:46:55.616Z"
   },
   {
    "duration": 57,
    "start_time": "2021-11-27T11:46:56.292Z"
   },
   {
    "duration": 10,
    "start_time": "2021-11-27T11:46:56.350Z"
   },
   {
    "duration": 10,
    "start_time": "2021-11-27T11:46:56.362Z"
   },
   {
    "duration": 46,
    "start_time": "2021-11-27T11:46:56.373Z"
   },
   {
    "duration": 10,
    "start_time": "2021-11-27T11:46:56.421Z"
   },
   {
    "duration": 19,
    "start_time": "2021-11-27T11:46:56.432Z"
   },
   {
    "duration": 20,
    "start_time": "2021-11-27T11:46:56.453Z"
   },
   {
    "duration": 743,
    "start_time": "2021-11-27T11:46:56.474Z"
   },
   {
    "duration": 803,
    "start_time": "2021-11-27T11:47:35.474Z"
   },
   {
    "duration": 38,
    "start_time": "2021-11-27T11:47:47.433Z"
   },
   {
    "duration": 13,
    "start_time": "2021-11-27T11:47:53.144Z"
   },
   {
    "duration": 5,
    "start_time": "2021-11-27T11:48:09.209Z"
   },
   {
    "duration": 931,
    "start_time": "2021-11-27T11:48:09.216Z"
   },
   {
    "duration": 8,
    "start_time": "2021-11-27T11:48:10.149Z"
   },
   {
    "duration": 55,
    "start_time": "2021-11-27T11:48:10.159Z"
   },
   {
    "duration": 8,
    "start_time": "2021-11-27T11:48:10.216Z"
   },
   {
    "duration": 4,
    "start_time": "2021-11-27T11:48:10.226Z"
   },
   {
    "duration": 10,
    "start_time": "2021-11-27T11:48:10.232Z"
   },
   {
    "duration": 19,
    "start_time": "2021-11-27T11:48:10.244Z"
   },
   {
    "duration": 5,
    "start_time": "2021-11-27T11:48:10.266Z"
   },
   {
    "duration": 37,
    "start_time": "2021-11-27T11:48:10.273Z"
   },
   {
    "duration": 4,
    "start_time": "2021-11-27T11:48:10.312Z"
   },
   {
    "duration": 21,
    "start_time": "2021-11-27T11:48:10.318Z"
   },
   {
    "duration": 21,
    "start_time": "2021-11-27T11:48:10.340Z"
   },
   {
    "duration": 153,
    "start_time": "2021-11-27T11:48:10.363Z"
   },
   {
    "duration": 13,
    "start_time": "2021-11-27T11:48:10.518Z"
   },
   {
    "duration": 148,
    "start_time": "2021-11-27T11:48:10.533Z"
   },
   {
    "duration": 10,
    "start_time": "2021-11-27T11:48:10.684Z"
   },
   {
    "duration": 9,
    "start_time": "2021-11-27T11:48:10.707Z"
   },
   {
    "duration": 126,
    "start_time": "2021-11-27T11:48:10.718Z"
   },
   {
    "duration": 7,
    "start_time": "2021-11-27T11:48:10.846Z"
   },
   {
    "duration": 124,
    "start_time": "2021-11-27T11:48:10.855Z"
   },
   {
    "duration": 10,
    "start_time": "2021-11-27T11:48:10.980Z"
   },
   {
    "duration": 324,
    "start_time": "2021-11-27T11:48:10.992Z"
   },
   {
    "duration": 256,
    "start_time": "2021-11-27T11:48:11.317Z"
   },
   {
    "duration": 14,
    "start_time": "2021-11-27T11:48:11.574Z"
   },
   {
    "duration": 698,
    "start_time": "2021-11-27T11:48:11.590Z"
   },
   {
    "duration": 51,
    "start_time": "2021-11-27T11:48:12.291Z"
   },
   {
    "duration": 9,
    "start_time": "2021-11-27T11:48:12.344Z"
   },
   {
    "duration": 23,
    "start_time": "2021-11-27T11:48:12.354Z"
   },
   {
    "duration": 47,
    "start_time": "2021-11-27T11:48:12.379Z"
   },
   {
    "duration": 15,
    "start_time": "2021-11-27T11:48:12.428Z"
   },
   {
    "duration": 775,
    "start_time": "2021-11-27T11:48:12.444Z"
   },
   {
    "duration": 10,
    "start_time": "2021-11-27T11:48:22.558Z"
   },
   {
    "duration": 199,
    "start_time": "2021-11-27T11:50:13.455Z"
   },
   {
    "duration": 445,
    "start_time": "2021-11-27T11:54:56.791Z"
   },
   {
    "duration": 12,
    "start_time": "2021-11-27T11:55:54.215Z"
   },
   {
    "duration": 16,
    "start_time": "2021-11-27T11:55:59.680Z"
   },
   {
    "duration": 427,
    "start_time": "2021-11-27T12:01:43.506Z"
   },
   {
    "duration": 8,
    "start_time": "2021-11-27T12:02:15.581Z"
   },
   {
    "duration": 355,
    "start_time": "2021-11-27T12:02:24.826Z"
   },
   {
    "duration": 9,
    "start_time": "2021-11-27T12:02:31.891Z"
   },
   {
    "duration": 358,
    "start_time": "2021-11-27T12:03:05.023Z"
   },
   {
    "duration": 358,
    "start_time": "2021-11-27T12:04:04.621Z"
   },
   {
    "duration": 353,
    "start_time": "2021-11-27T12:04:14.378Z"
   },
   {
    "duration": 367,
    "start_time": "2021-11-27T12:04:50.590Z"
   },
   {
    "duration": 380,
    "start_time": "2021-11-27T12:04:55.548Z"
   },
   {
    "duration": 9,
    "start_time": "2021-11-27T12:05:04.198Z"
   },
   {
    "duration": 5,
    "start_time": "2021-11-27T12:11:35.492Z"
   },
   {
    "duration": 9,
    "start_time": "2021-11-27T12:11:39.572Z"
   },
   {
    "duration": 426,
    "start_time": "2021-11-27T12:14:22.532Z"
   },
   {
    "duration": 16,
    "start_time": "2021-11-27T12:14:51.870Z"
   },
   {
    "duration": 17,
    "start_time": "2021-11-27T12:15:12.288Z"
   },
   {
    "duration": 24,
    "start_time": "2021-11-27T12:15:29.840Z"
   },
   {
    "duration": 16,
    "start_time": "2021-11-27T12:15:56.825Z"
   },
   {
    "duration": 18,
    "start_time": "2021-11-27T12:16:34.925Z"
   },
   {
    "duration": 17,
    "start_time": "2021-11-27T12:16:55.182Z"
   },
   {
    "duration": 18,
    "start_time": "2021-11-27T12:17:16.508Z"
   },
   {
    "duration": 18,
    "start_time": "2021-11-27T12:21:54.727Z"
   },
   {
    "duration": 17,
    "start_time": "2021-11-27T12:22:10.434Z"
   },
   {
    "duration": 122,
    "start_time": "2021-11-27T12:22:16.327Z"
   },
   {
    "duration": 374,
    "start_time": "2021-11-27T12:22:28.624Z"
   },
   {
    "duration": 21,
    "start_time": "2021-11-27T12:23:23.443Z"
   },
   {
    "duration": 18,
    "start_time": "2021-11-27T12:23:30.193Z"
   },
   {
    "duration": 19,
    "start_time": "2021-11-27T12:23:40.867Z"
   },
   {
    "duration": 21,
    "start_time": "2021-11-27T12:23:51.945Z"
   },
   {
    "duration": 17,
    "start_time": "2021-11-27T12:24:06.882Z"
   },
   {
    "duration": 15,
    "start_time": "2021-11-27T12:24:21.951Z"
   },
   {
    "duration": 11,
    "start_time": "2021-11-27T12:24:28.642Z"
   },
   {
    "duration": 489,
    "start_time": "2021-11-27T12:25:29.560Z"
   },
   {
    "duration": 379,
    "start_time": "2021-11-27T12:25:33.652Z"
   },
   {
    "duration": 5111,
    "start_time": "2021-11-27T12:25:50.322Z"
   },
   {
    "duration": 5141,
    "start_time": "2021-11-27T12:25:57.336Z"
   },
   {
    "duration": 910,
    "start_time": "2021-11-27T12:26:03.919Z"
   },
   {
    "duration": 265,
    "start_time": "2021-11-27T12:26:56.902Z"
   },
   {
    "duration": 274,
    "start_time": "2021-11-27T12:27:11.587Z"
   },
   {
    "duration": 275,
    "start_time": "2021-11-27T12:27:21.165Z"
   },
   {
    "duration": 384,
    "start_time": "2021-11-27T12:27:28.451Z"
   },
   {
    "duration": 288,
    "start_time": "2021-11-27T12:28:14.438Z"
   },
   {
    "duration": 8390,
    "start_time": "2021-11-27T12:31:55.233Z"
   },
   {
    "duration": 409,
    "start_time": "2021-11-27T12:32:26.275Z"
   },
   {
    "duration": 6,
    "start_time": "2021-11-27T12:32:45.381Z"
   },
   {
    "duration": 607,
    "start_time": "2021-11-27T12:39:05.004Z"
   },
   {
    "duration": 108,
    "start_time": "2021-11-27T12:39:23.378Z"
   },
   {
    "duration": 109,
    "start_time": "2021-11-27T12:39:27.029Z"
   },
   {
    "duration": 381,
    "start_time": "2021-11-27T12:39:37.500Z"
   },
   {
    "duration": 355,
    "start_time": "2021-11-27T12:39:42.974Z"
   },
   {
    "duration": 11,
    "start_time": "2021-11-27T12:40:01.923Z"
   },
   {
    "duration": 10087,
    "start_time": "2021-11-27T12:40:05.161Z"
   },
   {
    "duration": 10,
    "start_time": "2021-11-27T12:40:21.068Z"
   },
   {
    "duration": -693,
    "start_time": "2021-11-27T12:40:39.390Z"
   },
   {
    "duration": -695,
    "start_time": "2021-11-27T12:43:04.821Z"
   },
   {
    "duration": 18,
    "start_time": "2021-11-27T12:43:11.735Z"
   },
   {
    "duration": 364,
    "start_time": "2021-11-27T12:43:38.262Z"
   },
   {
    "duration": 12,
    "start_time": "2021-11-27T12:43:57.496Z"
   },
   {
    "duration": 11,
    "start_time": "2021-11-27T12:44:11.984Z"
   },
   {
    "duration": 18,
    "start_time": "2021-11-27T12:45:08.955Z"
   },
   {
    "duration": 15,
    "start_time": "2021-11-27T12:45:16.572Z"
   },
   {
    "duration": 5,
    "start_time": "2021-11-27T12:45:23.000Z"
   },
   {
    "duration": 1056,
    "start_time": "2021-11-27T12:45:23.007Z"
   },
   {
    "duration": 8,
    "start_time": "2021-11-27T12:45:24.065Z"
   },
   {
    "duration": 57,
    "start_time": "2021-11-27T12:45:24.075Z"
   },
   {
    "duration": 9,
    "start_time": "2021-11-27T12:45:24.133Z"
   },
   {
    "duration": 9,
    "start_time": "2021-11-27T12:45:24.145Z"
   },
   {
    "duration": 17,
    "start_time": "2021-11-27T12:45:24.156Z"
   },
   {
    "duration": 21,
    "start_time": "2021-11-27T12:45:24.175Z"
   },
   {
    "duration": 15,
    "start_time": "2021-11-27T12:45:24.198Z"
   },
   {
    "duration": 28,
    "start_time": "2021-11-27T12:45:24.214Z"
   },
   {
    "duration": 4,
    "start_time": "2021-11-27T12:45:24.244Z"
   },
   {
    "duration": 15,
    "start_time": "2021-11-27T12:45:24.249Z"
   },
   {
    "duration": 20,
    "start_time": "2021-11-27T12:45:24.266Z"
   },
   {
    "duration": 156,
    "start_time": "2021-11-27T12:45:24.288Z"
   },
   {
    "duration": 13,
    "start_time": "2021-11-27T12:45:24.446Z"
   },
   {
    "duration": 151,
    "start_time": "2021-11-27T12:45:24.461Z"
   },
   {
    "duration": 10,
    "start_time": "2021-11-27T12:45:24.614Z"
   },
   {
    "duration": 13,
    "start_time": "2021-11-27T12:45:24.626Z"
   },
   {
    "duration": 315,
    "start_time": "2021-11-27T12:45:24.641Z"
   },
   {
    "duration": 9,
    "start_time": "2021-11-27T12:45:24.958Z"
   },
   {
    "duration": 127,
    "start_time": "2021-11-27T12:45:24.969Z"
   },
   {
    "duration": 16,
    "start_time": "2021-11-27T12:45:25.098Z"
   },
   {
    "duration": 126,
    "start_time": "2021-11-27T12:45:25.118Z"
   },
   {
    "duration": 273,
    "start_time": "2021-11-27T12:45:25.246Z"
   },
   {
    "duration": 15,
    "start_time": "2021-11-27T12:45:25.520Z"
   },
   {
    "duration": 745,
    "start_time": "2021-11-27T12:45:25.537Z"
   },
   {
    "duration": 73,
    "start_time": "2021-11-27T12:45:26.284Z"
   },
   {
    "duration": 9,
    "start_time": "2021-11-27T12:45:26.359Z"
   },
   {
    "duration": 26,
    "start_time": "2021-11-27T12:45:26.369Z"
   },
   {
    "duration": 61,
    "start_time": "2021-11-27T12:45:26.397Z"
   },
   {
    "duration": 9,
    "start_time": "2021-11-27T12:45:26.459Z"
   },
   {
    "duration": 26,
    "start_time": "2021-11-27T12:45:26.469Z"
   },
   {
    "duration": 299,
    "start_time": "2021-11-27T12:45:26.497Z"
   },
   {
    "duration": 14,
    "start_time": "2021-11-27T12:45:26.797Z"
   },
   {
    "duration": 44,
    "start_time": "2021-11-27T12:45:26.812Z"
   },
   {
    "duration": 11,
    "start_time": "2021-11-27T12:48:26.332Z"
   },
   {
    "duration": 16,
    "start_time": "2021-11-27T12:48:31.120Z"
   },
   {
    "duration": 13,
    "start_time": "2021-11-27T12:48:34.489Z"
   },
   {
    "duration": 13,
    "start_time": "2021-11-27T12:48:38.629Z"
   },
   {
    "duration": 4,
    "start_time": "2021-11-27T12:48:54.440Z"
   },
   {
    "duration": 863,
    "start_time": "2021-11-27T12:48:54.447Z"
   },
   {
    "duration": 8,
    "start_time": "2021-11-27T12:48:55.312Z"
   },
   {
    "duration": 46,
    "start_time": "2021-11-27T12:48:55.322Z"
   },
   {
    "duration": 9,
    "start_time": "2021-11-27T12:48:55.370Z"
   },
   {
    "duration": 6,
    "start_time": "2021-11-27T12:48:55.381Z"
   },
   {
    "duration": 17,
    "start_time": "2021-11-27T12:48:55.389Z"
   },
   {
    "duration": 14,
    "start_time": "2021-11-27T12:48:55.408Z"
   },
   {
    "duration": 5,
    "start_time": "2021-11-27T12:48:55.425Z"
   },
   {
    "duration": 20,
    "start_time": "2021-11-27T12:48:55.432Z"
   },
   {
    "duration": 5,
    "start_time": "2021-11-27T12:48:55.455Z"
   },
   {
    "duration": 44,
    "start_time": "2021-11-27T12:48:55.462Z"
   },
   {
    "duration": 20,
    "start_time": "2021-11-27T12:48:55.508Z"
   },
   {
    "duration": 153,
    "start_time": "2021-11-27T12:48:55.530Z"
   },
   {
    "duration": 22,
    "start_time": "2021-11-27T12:48:55.685Z"
   },
   {
    "duration": 136,
    "start_time": "2021-11-27T12:48:55.709Z"
   },
   {
    "duration": 8,
    "start_time": "2021-11-27T12:48:55.847Z"
   },
   {
    "duration": 10,
    "start_time": "2021-11-27T12:48:55.857Z"
   },
   {
    "duration": 125,
    "start_time": "2021-11-27T12:48:55.869Z"
   },
   {
    "duration": 17,
    "start_time": "2021-11-27T12:48:55.995Z"
   },
   {
    "duration": 401,
    "start_time": "2021-11-27T12:48:56.014Z"
   },
   {
    "duration": 11,
    "start_time": "2021-11-27T12:48:56.418Z"
   },
   {
    "duration": 122,
    "start_time": "2021-11-27T12:48:56.430Z"
   },
   {
    "duration": 270,
    "start_time": "2021-11-27T12:48:56.554Z"
   },
   {
    "duration": 15,
    "start_time": "2021-11-27T12:48:56.826Z"
   },
   {
    "duration": 702,
    "start_time": "2021-11-27T12:48:56.843Z"
   },
   {
    "duration": 215,
    "start_time": "2021-11-27T12:48:57.550Z"
   },
   {
    "duration": 10,
    "start_time": "2021-11-27T12:48:57.767Z"
   },
   {
    "duration": 28,
    "start_time": "2021-11-27T12:48:57.779Z"
   },
   {
    "duration": 33,
    "start_time": "2021-11-27T12:48:57.809Z"
   },
   {
    "duration": 10,
    "start_time": "2021-11-27T12:48:57.844Z"
   },
   {
    "duration": 10,
    "start_time": "2021-11-27T12:48:57.856Z"
   },
   {
    "duration": 308,
    "start_time": "2021-11-27T12:48:57.867Z"
   },
   {
    "duration": 9,
    "start_time": "2021-11-27T12:48:58.177Z"
   },
   {
    "duration": 28,
    "start_time": "2021-11-27T12:48:58.188Z"
   },
   {
    "duration": 420,
    "start_time": "2021-11-27T12:49:22.192Z"
   },
   {
    "duration": 13,
    "start_time": "2021-11-27T12:49:27.362Z"
   },
   {
    "duration": 17,
    "start_time": "2021-11-27T12:49:49.179Z"
   },
   {
    "duration": 15,
    "start_time": "2021-11-27T12:50:22.853Z"
   },
   {
    "duration": 13,
    "start_time": "2021-11-27T12:50:27.407Z"
   },
   {
    "duration": 14,
    "start_time": "2021-11-27T12:50:39.263Z"
   },
   {
    "duration": 14,
    "start_time": "2021-11-27T12:51:34.406Z"
   },
   {
    "duration": 15,
    "start_time": "2021-11-27T12:53:23.289Z"
   },
   {
    "duration": 14,
    "start_time": "2021-11-27T12:53:31.380Z"
   },
   {
    "duration": 9741,
    "start_time": "2021-11-27T12:54:26.479Z"
   },
   {
    "duration": 14,
    "start_time": "2021-11-27T12:54:37.655Z"
   },
   {
    "duration": 12,
    "start_time": "2021-11-27T12:55:38.826Z"
   },
   {
    "duration": 9643,
    "start_time": "2021-11-27T12:56:11.348Z"
   },
   {
    "duration": -706,
    "start_time": "2021-11-27T12:57:45.851Z"
   },
   {
    "duration": 13,
    "start_time": "2021-11-27T12:57:47.498Z"
   },
   {
    "duration": 5,
    "start_time": "2021-11-27T12:57:50.698Z"
   },
   {
    "duration": 848,
    "start_time": "2021-11-27T12:57:50.704Z"
   },
   {
    "duration": 7,
    "start_time": "2021-11-27T12:57:51.554Z"
   },
   {
    "duration": 50,
    "start_time": "2021-11-27T12:57:51.563Z"
   },
   {
    "duration": 9,
    "start_time": "2021-11-27T12:57:51.615Z"
   },
   {
    "duration": 8,
    "start_time": "2021-11-27T12:57:51.625Z"
   },
   {
    "duration": 14,
    "start_time": "2021-11-27T12:57:51.634Z"
   },
   {
    "duration": 17,
    "start_time": "2021-11-27T12:57:51.650Z"
   },
   {
    "duration": 6,
    "start_time": "2021-11-27T12:57:51.669Z"
   },
   {
    "duration": 33,
    "start_time": "2021-11-27T12:57:51.677Z"
   },
   {
    "duration": 4,
    "start_time": "2021-11-27T12:57:51.712Z"
   },
   {
    "duration": 20,
    "start_time": "2021-11-27T12:57:51.718Z"
   },
   {
    "duration": 18,
    "start_time": "2021-11-27T12:57:51.740Z"
   },
   {
    "duration": 149,
    "start_time": "2021-11-27T12:57:51.760Z"
   },
   {
    "duration": 12,
    "start_time": "2021-11-27T12:57:51.911Z"
   },
   {
    "duration": 139,
    "start_time": "2021-11-27T12:57:51.925Z"
   },
   {
    "duration": 9,
    "start_time": "2021-11-27T12:57:52.066Z"
   },
   {
    "duration": 11,
    "start_time": "2021-11-27T12:57:52.076Z"
   },
   {
    "duration": 129,
    "start_time": "2021-11-27T12:57:52.089Z"
   },
   {
    "duration": 7,
    "start_time": "2021-11-27T12:57:52.220Z"
   },
   {
    "duration": 122,
    "start_time": "2021-11-27T12:57:52.229Z"
   },
   {
    "duration": 10,
    "start_time": "2021-11-27T12:57:52.353Z"
   },
   {
    "duration": 121,
    "start_time": "2021-11-27T12:57:52.364Z"
   },
   {
    "duration": 399,
    "start_time": "2021-11-27T12:57:52.487Z"
   },
   {
    "duration": 27,
    "start_time": "2021-11-27T12:57:52.887Z"
   },
   {
    "duration": 751,
    "start_time": "2021-11-27T12:57:52.916Z"
   },
   {
    "duration": 97,
    "start_time": "2021-11-27T12:57:53.671Z"
   },
   {
    "duration": 21,
    "start_time": "2021-11-27T12:57:53.771Z"
   },
   {
    "duration": 19,
    "start_time": "2021-11-27T12:57:53.794Z"
   },
   {
    "duration": 64,
    "start_time": "2021-11-27T12:57:53.816Z"
   },
   {
    "duration": 35,
    "start_time": "2021-11-27T12:57:53.882Z"
   },
   {
    "duration": 9,
    "start_time": "2021-11-27T12:57:53.919Z"
   },
   {
    "duration": 284,
    "start_time": "2021-11-27T12:57:53.930Z"
   },
   {
    "duration": 13,
    "start_time": "2021-11-27T12:57:54.215Z"
   },
   {
    "duration": 6,
    "start_time": "2021-11-27T12:58:51.330Z"
   },
   {
    "duration": 9,
    "start_time": "2021-11-27T12:59:19.856Z"
   },
   {
    "duration": 15,
    "start_time": "2021-11-27T12:59:30.039Z"
   },
   {
    "duration": 13,
    "start_time": "2021-11-27T13:01:43.034Z"
   },
   {
    "duration": 15,
    "start_time": "2021-11-27T13:01:46.704Z"
   },
   {
    "duration": 7,
    "start_time": "2021-11-27T13:02:01.070Z"
   },
   {
    "duration": 730,
    "start_time": "2021-11-27T13:02:01.080Z"
   },
   {
    "duration": 12,
    "start_time": "2021-11-27T13:02:01.812Z"
   },
   {
    "duration": 122,
    "start_time": "2021-11-27T13:02:01.827Z"
   },
   {
    "duration": 57,
    "start_time": "2021-11-27T13:02:01.951Z"
   },
   {
    "duration": 29,
    "start_time": "2021-11-27T13:02:02.010Z"
   },
   {
    "duration": 24,
    "start_time": "2021-11-27T13:02:02.041Z"
   },
   {
    "duration": 54,
    "start_time": "2021-11-27T13:02:02.067Z"
   },
   {
    "duration": 28,
    "start_time": "2021-11-27T13:02:02.123Z"
   },
   {
    "duration": 71,
    "start_time": "2021-11-27T13:02:02.153Z"
   },
   {
    "duration": 5,
    "start_time": "2021-11-27T13:02:02.226Z"
   },
   {
    "duration": 77,
    "start_time": "2021-11-27T13:02:02.232Z"
   },
   {
    "duration": 23,
    "start_time": "2021-11-27T13:02:02.311Z"
   },
   {
    "duration": 201,
    "start_time": "2021-11-27T13:02:02.336Z"
   },
   {
    "duration": 13,
    "start_time": "2021-11-27T13:02:02.539Z"
   },
   {
    "duration": 159,
    "start_time": "2021-11-27T13:02:02.553Z"
   },
   {
    "duration": 9,
    "start_time": "2021-11-27T13:02:02.714Z"
   },
   {
    "duration": 35,
    "start_time": "2021-11-27T13:02:02.725Z"
   },
   {
    "duration": 121,
    "start_time": "2021-11-27T13:02:02.762Z"
   },
   {
    "duration": 7,
    "start_time": "2021-11-27T13:02:02.885Z"
   },
   {
    "duration": 135,
    "start_time": "2021-11-27T13:02:02.894Z"
   },
   {
    "duration": 10,
    "start_time": "2021-11-27T13:02:03.031Z"
   },
   {
    "duration": 294,
    "start_time": "2021-11-27T13:02:03.042Z"
   },
   {
    "duration": 287,
    "start_time": "2021-11-27T13:02:03.337Z"
   },
   {
    "duration": 21,
    "start_time": "2021-11-27T13:02:03.627Z"
   },
   {
    "duration": 744,
    "start_time": "2021-11-27T13:02:03.650Z"
   },
   {
    "duration": 63,
    "start_time": "2021-11-27T13:02:04.397Z"
   },
   {
    "duration": 10,
    "start_time": "2021-11-27T13:02:04.462Z"
   },
   {
    "duration": 18,
    "start_time": "2021-11-27T13:02:04.474Z"
   },
   {
    "duration": 45,
    "start_time": "2021-11-27T13:02:04.494Z"
   },
   {
    "duration": 14,
    "start_time": "2021-11-27T13:02:04.541Z"
   },
   {
    "duration": 4,
    "start_time": "2021-11-27T13:02:04.558Z"
   },
   {
    "duration": 44,
    "start_time": "2021-11-27T13:02:04.564Z"
   },
   {
    "duration": 306,
    "start_time": "2021-11-27T13:02:04.611Z"
   },
   {
    "duration": 13,
    "start_time": "2021-11-27T13:02:04.919Z"
   },
   {
    "duration": 15,
    "start_time": "2021-11-27T13:02:04.933Z"
   },
   {
    "duration": 12,
    "start_time": "2021-11-27T13:02:16.942Z"
   },
   {
    "duration": 4,
    "start_time": "2021-11-27T13:02:42.807Z"
   },
   {
    "duration": 7,
    "start_time": "2021-11-27T13:02:46.261Z"
   },
   {
    "duration": 4532,
    "start_time": "2021-11-27T13:03:23.586Z"
   },
   {
    "duration": 7,
    "start_time": "2021-11-27T13:03:32.049Z"
   },
   {
    "duration": 16,
    "start_time": "2021-11-27T13:03:41.796Z"
   },
   {
    "duration": 13,
    "start_time": "2021-11-27T13:04:59.815Z"
   },
   {
    "duration": 351,
    "start_time": "2021-11-27T13:05:17.879Z"
   },
   {
    "duration": 9,
    "start_time": "2021-11-27T13:05:38.702Z"
   },
   {
    "duration": 11,
    "start_time": "2021-11-27T13:05:57.099Z"
   },
   {
    "duration": 11,
    "start_time": "2021-11-27T13:06:02.961Z"
   },
   {
    "duration": 11,
    "start_time": "2021-11-27T13:09:21.765Z"
   },
   {
    "duration": 14,
    "start_time": "2021-11-27T13:10:04.133Z"
   },
   {
    "duration": 14,
    "start_time": "2021-11-27T13:10:09.920Z"
   },
   {
    "duration": 12,
    "start_time": "2021-11-27T13:10:22.706Z"
   },
   {
    "duration": 14,
    "start_time": "2021-11-27T13:10:30.193Z"
   },
   {
    "duration": 5,
    "start_time": "2021-11-27T13:10:39.022Z"
   },
   {
    "duration": 1024,
    "start_time": "2021-11-27T13:10:39.029Z"
   },
   {
    "duration": 8,
    "start_time": "2021-11-27T13:10:40.055Z"
   },
   {
    "duration": 44,
    "start_time": "2021-11-27T13:10:40.065Z"
   },
   {
    "duration": 9,
    "start_time": "2021-11-27T13:10:40.111Z"
   },
   {
    "duration": 5,
    "start_time": "2021-11-27T13:10:40.122Z"
   },
   {
    "duration": 12,
    "start_time": "2021-11-27T13:10:40.128Z"
   },
   {
    "duration": 20,
    "start_time": "2021-11-27T13:10:40.142Z"
   },
   {
    "duration": 5,
    "start_time": "2021-11-27T13:10:40.165Z"
   },
   {
    "duration": 35,
    "start_time": "2021-11-27T13:10:40.172Z"
   },
   {
    "duration": 4,
    "start_time": "2021-11-27T13:10:40.209Z"
   },
   {
    "duration": 13,
    "start_time": "2021-11-27T13:10:40.215Z"
   },
   {
    "duration": 21,
    "start_time": "2021-11-27T13:10:40.229Z"
   },
   {
    "duration": 160,
    "start_time": "2021-11-27T13:10:40.252Z"
   },
   {
    "duration": 11,
    "start_time": "2021-11-27T13:10:40.414Z"
   },
   {
    "duration": 139,
    "start_time": "2021-11-27T13:10:40.427Z"
   },
   {
    "duration": 8,
    "start_time": "2021-11-27T13:10:40.568Z"
   },
   {
    "duration": 14,
    "start_time": "2021-11-27T13:10:40.578Z"
   },
   {
    "duration": 262,
    "start_time": "2021-11-27T13:10:40.593Z"
   },
   {
    "duration": 7,
    "start_time": "2021-11-27T13:10:40.856Z"
   },
   {
    "duration": 123,
    "start_time": "2021-11-27T13:10:40.865Z"
   },
   {
    "duration": 18,
    "start_time": "2021-11-27T13:10:40.990Z"
   },
   {
    "duration": 156,
    "start_time": "2021-11-27T13:10:41.010Z"
   },
   {
    "duration": 441,
    "start_time": "2021-11-27T13:10:41.168Z"
   },
   {
    "duration": 14,
    "start_time": "2021-11-27T13:10:41.611Z"
   },
   {
    "duration": 682,
    "start_time": "2021-11-27T13:10:41.627Z"
   },
   {
    "duration": 57,
    "start_time": "2021-11-27T13:10:42.312Z"
   },
   {
    "duration": 10,
    "start_time": "2021-11-27T13:10:42.371Z"
   },
   {
    "duration": 26,
    "start_time": "2021-11-27T13:10:42.382Z"
   },
   {
    "duration": 37,
    "start_time": "2021-11-27T13:10:42.409Z"
   },
   {
    "duration": 11,
    "start_time": "2021-11-27T13:10:42.447Z"
   },
   {
    "duration": 10,
    "start_time": "2021-11-27T13:10:42.460Z"
   },
   {
    "duration": 562,
    "start_time": "2021-11-27T13:10:42.472Z"
   },
   {
    "duration": -697,
    "start_time": "2021-11-27T13:10:43.732Z"
   },
   {
    "duration": -697,
    "start_time": "2021-11-27T13:10:43.733Z"
   },
   {
    "duration": 10,
    "start_time": "2021-11-27T13:11:28.215Z"
   },
   {
    "duration": 540,
    "start_time": "2021-11-27T13:11:38.873Z"
   },
   {
    "duration": 14,
    "start_time": "2021-11-27T13:13:13.977Z"
   },
   {
    "duration": 277,
    "start_time": "2021-11-27T13:13:29.445Z"
   },
   {
    "duration": 131,
    "start_time": "2021-11-27T13:13:57.705Z"
   },
   {
    "duration": 134,
    "start_time": "2021-11-27T13:14:09.577Z"
   },
   {
    "duration": 20,
    "start_time": "2021-11-27T13:14:20.141Z"
   },
   {
    "duration": 15,
    "start_time": "2021-11-27T13:14:42.996Z"
   },
   {
    "duration": 17,
    "start_time": "2021-11-27T13:14:52.648Z"
   },
   {
    "duration": 14,
    "start_time": "2021-11-27T13:15:17.417Z"
   },
   {
    "duration": 14,
    "start_time": "2021-11-27T13:15:27.747Z"
   },
   {
    "duration": 5,
    "start_time": "2021-11-27T13:15:31.071Z"
   },
   {
    "duration": 926,
    "start_time": "2021-11-27T13:15:31.078Z"
   },
   {
    "duration": 8,
    "start_time": "2021-11-27T13:15:32.007Z"
   },
   {
    "duration": 52,
    "start_time": "2021-11-27T13:15:32.018Z"
   },
   {
    "duration": 10,
    "start_time": "2021-11-27T13:15:32.072Z"
   },
   {
    "duration": 15,
    "start_time": "2021-11-27T13:15:32.084Z"
   },
   {
    "duration": 22,
    "start_time": "2021-11-27T13:15:32.100Z"
   },
   {
    "duration": 14,
    "start_time": "2021-11-27T13:15:32.124Z"
   },
   {
    "duration": 6,
    "start_time": "2021-11-27T13:15:32.140Z"
   },
   {
    "duration": 30,
    "start_time": "2021-11-27T13:15:32.148Z"
   },
   {
    "duration": 5,
    "start_time": "2021-11-27T13:15:32.180Z"
   },
   {
    "duration": 49,
    "start_time": "2021-11-27T13:15:32.186Z"
   },
   {
    "duration": 24,
    "start_time": "2021-11-27T13:15:32.237Z"
   },
   {
    "duration": 145,
    "start_time": "2021-11-27T13:15:32.263Z"
   },
   {
    "duration": 13,
    "start_time": "2021-11-27T13:15:32.410Z"
   },
   {
    "duration": 147,
    "start_time": "2021-11-27T13:15:32.424Z"
   },
   {
    "duration": 9,
    "start_time": "2021-11-27T13:15:32.572Z"
   },
   {
    "duration": 8,
    "start_time": "2021-11-27T13:15:32.582Z"
   },
   {
    "duration": 126,
    "start_time": "2021-11-27T13:15:32.591Z"
   },
   {
    "duration": 7,
    "start_time": "2021-11-27T13:15:32.719Z"
   },
   {
    "duration": 125,
    "start_time": "2021-11-27T13:15:32.728Z"
   },
   {
    "duration": 9,
    "start_time": "2021-11-27T13:15:32.854Z"
   },
   {
    "duration": 120,
    "start_time": "2021-11-27T13:15:32.864Z"
   },
   {
    "duration": 421,
    "start_time": "2021-11-27T13:15:32.985Z"
   },
   {
    "duration": 15,
    "start_time": "2021-11-27T13:15:33.408Z"
   },
   {
    "duration": 679,
    "start_time": "2021-11-27T13:15:33.425Z"
   },
   {
    "duration": 55,
    "start_time": "2021-11-27T13:15:34.107Z"
   },
   {
    "duration": 9,
    "start_time": "2021-11-27T13:15:34.164Z"
   },
   {
    "duration": 9,
    "start_time": "2021-11-27T13:15:34.175Z"
   },
   {
    "duration": 52,
    "start_time": "2021-11-27T13:15:34.186Z"
   },
   {
    "duration": 11,
    "start_time": "2021-11-27T13:15:34.239Z"
   },
   {
    "duration": 27,
    "start_time": "2021-11-27T13:15:34.252Z"
   },
   {
    "duration": 287,
    "start_time": "2021-11-27T13:15:34.281Z"
   },
   {
    "duration": 13,
    "start_time": "2021-11-27T13:15:34.569Z"
   },
   {
    "duration": 37,
    "start_time": "2021-11-27T13:15:34.584Z"
   },
   {
    "duration": 16,
    "start_time": "2021-11-27T13:23:05.715Z"
   },
   {
    "duration": 19,
    "start_time": "2021-11-27T13:23:16.427Z"
   },
   {
    "duration": 16,
    "start_time": "2021-11-27T13:23:29.043Z"
   },
   {
    "duration": 13,
    "start_time": "2021-11-27T13:23:39.476Z"
   },
   {
    "duration": 5,
    "start_time": "2021-11-27T13:24:49.052Z"
   },
   {
    "duration": 1096,
    "start_time": "2021-11-27T13:24:49.059Z"
   },
   {
    "duration": 7,
    "start_time": "2021-11-27T13:24:50.157Z"
   },
   {
    "duration": 46,
    "start_time": "2021-11-27T13:24:50.167Z"
   },
   {
    "duration": 11,
    "start_time": "2021-11-27T13:24:50.215Z"
   },
   {
    "duration": 16,
    "start_time": "2021-11-27T13:24:50.228Z"
   },
   {
    "duration": 15,
    "start_time": "2021-11-27T13:24:50.246Z"
   },
   {
    "duration": 22,
    "start_time": "2021-11-27T13:24:50.263Z"
   },
   {
    "duration": 5,
    "start_time": "2021-11-27T13:24:50.288Z"
   },
   {
    "duration": 27,
    "start_time": "2021-11-27T13:24:50.295Z"
   },
   {
    "duration": 5,
    "start_time": "2021-11-27T13:24:50.323Z"
   },
   {
    "duration": 15,
    "start_time": "2021-11-27T13:24:50.329Z"
   },
   {
    "duration": 28,
    "start_time": "2021-11-27T13:24:50.346Z"
   },
   {
    "duration": 144,
    "start_time": "2021-11-27T13:24:50.376Z"
   },
   {
    "duration": 11,
    "start_time": "2021-11-27T13:24:50.522Z"
   },
   {
    "duration": 146,
    "start_time": "2021-11-27T13:24:50.535Z"
   },
   {
    "duration": 9,
    "start_time": "2021-11-27T13:24:50.682Z"
   },
   {
    "duration": 19,
    "start_time": "2021-11-27T13:24:50.692Z"
   },
   {
    "duration": 123,
    "start_time": "2021-11-27T13:24:50.712Z"
   },
   {
    "duration": 9,
    "start_time": "2021-11-27T13:24:50.836Z"
   },
   {
    "duration": 121,
    "start_time": "2021-11-27T13:24:50.846Z"
   },
   {
    "duration": 10,
    "start_time": "2021-11-27T13:24:50.968Z"
   },
   {
    "duration": 448,
    "start_time": "2021-11-27T13:24:50.980Z"
   },
   {
    "duration": 340,
    "start_time": "2021-11-27T13:24:51.430Z"
   },
   {
    "duration": 14,
    "start_time": "2021-11-27T13:24:51.772Z"
   },
   {
    "duration": 651,
    "start_time": "2021-11-27T13:24:51.806Z"
   },
   {
    "duration": 61,
    "start_time": "2021-11-27T13:24:52.460Z"
   },
   {
    "duration": 9,
    "start_time": "2021-11-27T13:24:52.523Z"
   },
   {
    "duration": 10,
    "start_time": "2021-11-27T13:24:52.533Z"
   },
   {
    "duration": 32,
    "start_time": "2021-11-27T13:24:52.545Z"
   },
   {
    "duration": 35,
    "start_time": "2021-11-27T13:24:52.578Z"
   },
   {
    "duration": 14,
    "start_time": "2021-11-27T13:24:52.615Z"
   },
   {
    "duration": 294,
    "start_time": "2021-11-27T13:24:52.631Z"
   },
   {
    "duration": 12,
    "start_time": "2021-11-27T13:24:52.927Z"
   },
   {
    "duration": 14,
    "start_time": "2021-11-27T13:24:52.940Z"
   },
   {
    "duration": 15,
    "start_time": "2021-11-27T13:26:13.975Z"
   },
   {
    "duration": 573,
    "start_time": "2021-11-27T13:26:50.013Z"
   },
   {
    "duration": 11,
    "start_time": "2021-11-27T13:30:07.771Z"
   },
   {
    "duration": 1261,
    "start_time": "2021-11-27T13:30:08.355Z"
   },
   {
    "duration": 1106,
    "start_time": "2021-11-27T13:30:18.454Z"
   },
   {
    "duration": 12,
    "start_time": "2021-11-27T13:30:57.305Z"
   },
   {
    "duration": 1142,
    "start_time": "2021-11-27T13:30:58.241Z"
   },
   {
    "duration": 11,
    "start_time": "2021-11-27T13:31:23.449Z"
   },
   {
    "duration": 1394,
    "start_time": "2021-11-27T13:31:24.295Z"
   },
   {
    "duration": 11,
    "start_time": "2021-11-27T13:31:32.685Z"
   },
   {
    "duration": 1489,
    "start_time": "2021-11-27T13:31:33.159Z"
   },
   {
    "duration": 24,
    "start_time": "2021-11-27T13:32:23.754Z"
   },
   {
    "duration": 15,
    "start_time": "2021-11-27T13:32:48.571Z"
   },
   {
    "duration": 5917,
    "start_time": "2021-11-27T13:34:22.922Z"
   },
   {
    "duration": 1871,
    "start_time": "2021-11-27T13:34:40.384Z"
   },
   {
    "duration": 503,
    "start_time": "2021-11-27T13:35:55.128Z"
   },
   {
    "duration": 545,
    "start_time": "2021-11-27T13:36:03.793Z"
   },
   {
    "duration": 576,
    "start_time": "2021-11-27T13:36:12.044Z"
   },
   {
    "duration": 717,
    "start_time": "2021-11-27T13:36:16.597Z"
   },
   {
    "duration": 1276,
    "start_time": "2021-11-27T13:36:28.435Z"
   },
   {
    "duration": 618,
    "start_time": "2021-11-27T13:38:23.029Z"
   },
   {
    "duration": 4,
    "start_time": "2021-11-27T13:51:01.571Z"
   },
   {
    "duration": 1233,
    "start_time": "2021-11-27T13:51:01.577Z"
   },
   {
    "duration": 9,
    "start_time": "2021-11-27T13:51:02.812Z"
   },
   {
    "duration": 47,
    "start_time": "2021-11-27T13:51:02.823Z"
   },
   {
    "duration": 10,
    "start_time": "2021-11-27T13:51:02.871Z"
   },
   {
    "duration": 13,
    "start_time": "2021-11-27T13:51:02.883Z"
   },
   {
    "duration": 18,
    "start_time": "2021-11-27T13:51:02.898Z"
   },
   {
    "duration": 27,
    "start_time": "2021-11-27T13:51:02.919Z"
   },
   {
    "duration": 9,
    "start_time": "2021-11-27T13:51:02.949Z"
   },
   {
    "duration": 43,
    "start_time": "2021-11-27T13:51:02.960Z"
   },
   {
    "duration": 5,
    "start_time": "2021-11-27T13:51:03.004Z"
   },
   {
    "duration": 23,
    "start_time": "2021-11-27T13:51:03.010Z"
   },
   {
    "duration": 27,
    "start_time": "2021-11-27T13:51:03.036Z"
   },
   {
    "duration": 144,
    "start_time": "2021-11-27T13:51:03.065Z"
   },
   {
    "duration": 12,
    "start_time": "2021-11-27T13:51:03.211Z"
   },
   {
    "duration": 151,
    "start_time": "2021-11-27T13:51:03.225Z"
   },
   {
    "duration": 9,
    "start_time": "2021-11-27T13:51:03.378Z"
   },
   {
    "duration": 36,
    "start_time": "2021-11-27T13:51:03.389Z"
   },
   {
    "duration": 271,
    "start_time": "2021-11-27T13:51:03.426Z"
   },
   {
    "duration": 12,
    "start_time": "2021-11-27T13:51:03.699Z"
   },
   {
    "duration": 129,
    "start_time": "2021-11-27T13:51:03.713Z"
   },
   {
    "duration": 10,
    "start_time": "2021-11-27T13:51:03.844Z"
   },
   {
    "duration": 127,
    "start_time": "2021-11-27T13:51:03.857Z"
   },
   {
    "duration": 288,
    "start_time": "2021-11-27T13:51:03.986Z"
   },
   {
    "duration": 32,
    "start_time": "2021-11-27T13:51:04.276Z"
   },
   {
    "duration": 700,
    "start_time": "2021-11-27T13:51:04.309Z"
   },
   {
    "duration": 243,
    "start_time": "2021-11-27T13:51:05.011Z"
   },
   {
    "duration": 11,
    "start_time": "2021-11-27T13:51:05.256Z"
   },
   {
    "duration": 42,
    "start_time": "2021-11-27T13:51:05.268Z"
   },
   {
    "duration": 46,
    "start_time": "2021-11-27T13:51:05.312Z"
   },
   {
    "duration": 12,
    "start_time": "2021-11-27T13:51:05.360Z"
   },
   {
    "duration": 36,
    "start_time": "2021-11-27T13:51:05.374Z"
   },
   {
    "duration": 297,
    "start_time": "2021-11-27T13:51:05.412Z"
   },
   {
    "duration": 13,
    "start_time": "2021-11-27T13:51:05.711Z"
   },
   {
    "duration": 37,
    "start_time": "2021-11-27T13:51:05.726Z"
   },
   {
    "duration": 30,
    "start_time": "2021-11-27T13:51:05.765Z"
   },
   {
    "duration": 28,
    "start_time": "2021-11-27T13:51:05.797Z"
   },
   {
    "duration": 639,
    "start_time": "2021-11-27T13:51:05.827Z"
   },
   {
    "duration": 2034,
    "start_time": "2021-11-28T08:12:58.054Z"
   },
   {
    "duration": 1002,
    "start_time": "2021-11-28T08:13:00.091Z"
   },
   {
    "duration": 17,
    "start_time": "2021-11-28T08:13:01.096Z"
   },
   {
    "duration": 66,
    "start_time": "2021-11-28T08:13:01.116Z"
   },
   {
    "duration": 14,
    "start_time": "2021-11-28T08:13:01.185Z"
   },
   {
    "duration": 8,
    "start_time": "2021-11-28T08:13:01.202Z"
   },
   {
    "duration": 24,
    "start_time": "2021-11-28T08:13:01.212Z"
   },
   {
    "duration": 38,
    "start_time": "2021-11-28T08:13:01.240Z"
   },
   {
    "duration": 6,
    "start_time": "2021-11-28T08:13:01.282Z"
   },
   {
    "duration": 32,
    "start_time": "2021-11-28T08:13:01.290Z"
   },
   {
    "duration": 6,
    "start_time": "2021-11-28T08:13:01.325Z"
   },
   {
    "duration": 45,
    "start_time": "2021-11-28T08:13:01.333Z"
   },
   {
    "duration": 31,
    "start_time": "2021-11-28T08:13:01.380Z"
   },
   {
    "duration": 256,
    "start_time": "2021-11-28T08:13:01.414Z"
   },
   {
    "duration": 17,
    "start_time": "2021-11-28T08:13:01.672Z"
   },
   {
    "duration": 246,
    "start_time": "2021-11-28T08:13:01.692Z"
   },
   {
    "duration": 25,
    "start_time": "2021-11-28T08:13:01.941Z"
   },
   {
    "duration": 35,
    "start_time": "2021-11-28T08:13:01.969Z"
   },
   {
    "duration": 862,
    "start_time": "2021-11-28T08:13:02.006Z"
   },
   {
    "duration": 10,
    "start_time": "2021-11-28T08:13:02.871Z"
   },
   {
    "duration": 332,
    "start_time": "2021-11-28T08:13:02.883Z"
   },
   {
    "duration": 14,
    "start_time": "2021-11-28T08:13:03.217Z"
   },
   {
    "duration": 221,
    "start_time": "2021-11-28T08:13:03.238Z"
   },
   {
    "duration": 618,
    "start_time": "2021-11-28T08:13:03.463Z"
   },
   {
    "duration": 23,
    "start_time": "2021-11-28T08:13:04.084Z"
   },
   {
    "duration": 1236,
    "start_time": "2021-11-28T08:13:04.110Z"
   },
   {
    "duration": 88,
    "start_time": "2021-11-28T08:13:05.349Z"
   },
   {
    "duration": 29,
    "start_time": "2021-11-28T08:13:05.440Z"
   },
   {
    "duration": 22,
    "start_time": "2021-11-28T08:13:05.472Z"
   },
   {
    "duration": 74,
    "start_time": "2021-11-28T08:13:05.497Z"
   },
   {
    "duration": 15,
    "start_time": "2021-11-28T08:13:05.573Z"
   },
   {
    "duration": 21,
    "start_time": "2021-11-28T08:13:05.591Z"
   },
   {
    "duration": 499,
    "start_time": "2021-11-28T08:13:05.614Z"
   },
   {
    "duration": 18,
    "start_time": "2021-11-28T08:13:06.116Z"
   },
   {
    "duration": 41,
    "start_time": "2021-11-28T08:13:06.136Z"
   },
   {
    "duration": 20,
    "start_time": "2021-11-28T08:13:06.180Z"
   },
   {
    "duration": 1014,
    "start_time": "2021-11-28T08:13:06.202Z"
   },
   {
    "duration": 830,
    "start_time": "2021-11-28T08:18:17.628Z"
   },
   {
    "duration": 991,
    "start_time": "2021-11-28T08:19:12.636Z"
   },
   {
    "duration": 845,
    "start_time": "2021-11-28T08:21:42.390Z"
   },
   {
    "duration": 1103,
    "start_time": "2021-11-28T08:25:40.191Z"
   },
   {
    "duration": 14,
    "start_time": "2021-11-28T08:41:29.239Z"
   },
   {
    "duration": 23,
    "start_time": "2021-11-28T08:42:01.644Z"
   },
   {
    "duration": 853,
    "start_time": "2021-11-28T08:46:01.802Z"
   },
   {
    "duration": 1050,
    "start_time": "2021-11-28T08:46:07.321Z"
   },
   {
    "duration": 490,
    "start_time": "2021-11-28T08:46:25.551Z"
   },
   {
    "duration": 1111,
    "start_time": "2021-11-28T08:46:32.241Z"
   },
   {
    "duration": 7,
    "start_time": "2021-11-28T08:46:39.618Z"
   },
   {
    "duration": 888,
    "start_time": "2021-11-28T08:46:39.628Z"
   },
   {
    "duration": 11,
    "start_time": "2021-11-28T08:46:40.520Z"
   },
   {
    "duration": 57,
    "start_time": "2021-11-28T08:46:40.534Z"
   },
   {
    "duration": 15,
    "start_time": "2021-11-28T08:46:40.593Z"
   },
   {
    "duration": 13,
    "start_time": "2021-11-28T08:46:40.611Z"
   },
   {
    "duration": 25,
    "start_time": "2021-11-28T08:46:40.627Z"
   },
   {
    "duration": 31,
    "start_time": "2021-11-28T08:46:40.656Z"
   },
   {
    "duration": 7,
    "start_time": "2021-11-28T08:46:40.690Z"
   },
   {
    "duration": 35,
    "start_time": "2021-11-28T08:46:40.699Z"
   },
   {
    "duration": 32,
    "start_time": "2021-11-28T08:46:40.737Z"
   },
   {
    "duration": 17,
    "start_time": "2021-11-28T08:46:40.772Z"
   },
   {
    "duration": 30,
    "start_time": "2021-11-28T08:46:40.791Z"
   },
   {
    "duration": 269,
    "start_time": "2021-11-28T08:46:40.824Z"
   },
   {
    "duration": 18,
    "start_time": "2021-11-28T08:46:41.095Z"
   },
   {
    "duration": 258,
    "start_time": "2021-11-28T08:46:41.115Z"
   },
   {
    "duration": 14,
    "start_time": "2021-11-28T08:46:41.375Z"
   },
   {
    "duration": 17,
    "start_time": "2021-11-28T08:46:41.391Z"
   },
   {
    "duration": 201,
    "start_time": "2021-11-28T08:46:41.410Z"
   },
   {
    "duration": 11,
    "start_time": "2021-11-28T08:46:41.613Z"
   },
   {
    "duration": 206,
    "start_time": "2021-11-28T08:46:41.626Z"
   },
   {
    "duration": 13,
    "start_time": "2021-11-28T08:46:41.835Z"
   },
   {
    "duration": 194,
    "start_time": "2021-11-28T08:46:41.869Z"
   },
   {
    "duration": 632,
    "start_time": "2021-11-28T08:46:42.068Z"
   },
   {
    "duration": 25,
    "start_time": "2021-11-28T08:46:42.702Z"
   },
   {
    "duration": 1209,
    "start_time": "2021-11-28T08:46:42.729Z"
   },
   {
    "duration": 91,
    "start_time": "2021-11-28T08:46:43.940Z"
   },
   {
    "duration": 15,
    "start_time": "2021-11-28T08:46:44.033Z"
   },
   {
    "duration": 31,
    "start_time": "2021-11-28T08:46:44.051Z"
   },
   {
    "duration": 53,
    "start_time": "2021-11-28T08:46:44.084Z"
   },
   {
    "duration": 42,
    "start_time": "2021-11-28T08:46:44.140Z"
   },
   {
    "duration": 20,
    "start_time": "2021-11-28T08:46:44.185Z"
   },
   {
    "duration": 500,
    "start_time": "2021-11-28T08:46:44.208Z"
   },
   {
    "duration": 17,
    "start_time": "2021-11-28T08:46:44.710Z"
   },
   {
    "duration": 46,
    "start_time": "2021-11-28T08:46:44.729Z"
   },
   {
    "duration": 106,
    "start_time": "2021-11-28T08:46:44.778Z"
   },
   {
    "duration": -625,
    "start_time": "2021-11-28T08:46:45.512Z"
   },
   {
    "duration": -626,
    "start_time": "2021-11-28T08:46:45.514Z"
   },
   {
    "duration": 18,
    "start_time": "2021-11-28T08:46:50.881Z"
   },
   {
    "duration": 866,
    "start_time": "2021-11-28T08:46:51.132Z"
   },
   {
    "duration": 1082,
    "start_time": "2021-11-28T08:46:52.001Z"
   },
   {
    "duration": 229,
    "start_time": "2021-11-28T08:47:07.125Z"
   },
   {
    "duration": 228,
    "start_time": "2021-11-28T08:47:10.367Z"
   },
   {
    "duration": 18,
    "start_time": "2021-11-28T08:47:11.747Z"
   },
   {
    "duration": 225,
    "start_time": "2021-11-28T08:47:12.080Z"
   },
   {
    "duration": 9,
    "start_time": "2021-11-28T08:47:15.395Z"
   },
   {
    "duration": 936,
    "start_time": "2021-11-28T08:47:15.408Z"
   },
   {
    "duration": 11,
    "start_time": "2021-11-28T08:47:16.347Z"
   },
   {
    "duration": 58,
    "start_time": "2021-11-28T08:47:16.361Z"
   },
   {
    "duration": 14,
    "start_time": "2021-11-28T08:47:16.421Z"
   },
   {
    "duration": 8,
    "start_time": "2021-11-28T08:47:16.437Z"
   },
   {
    "duration": 27,
    "start_time": "2021-11-28T08:47:16.447Z"
   },
   {
    "duration": 23,
    "start_time": "2021-11-28T08:47:16.476Z"
   },
   {
    "duration": 8,
    "start_time": "2021-11-28T08:47:16.504Z"
   },
   {
    "duration": 65,
    "start_time": "2021-11-28T08:47:16.516Z"
   },
   {
    "duration": 8,
    "start_time": "2021-11-28T08:47:16.585Z"
   },
   {
    "duration": 18,
    "start_time": "2021-11-28T08:47:16.595Z"
   },
   {
    "duration": 65,
    "start_time": "2021-11-28T08:47:16.616Z"
   },
   {
    "duration": 232,
    "start_time": "2021-11-28T08:47:16.684Z"
   },
   {
    "duration": 18,
    "start_time": "2021-11-28T08:47:16.918Z"
   },
   {
    "duration": 248,
    "start_time": "2021-11-28T08:47:16.938Z"
   },
   {
    "duration": 13,
    "start_time": "2021-11-28T08:47:17.189Z"
   },
   {
    "duration": 14,
    "start_time": "2021-11-28T08:47:17.205Z"
   },
   {
    "duration": 202,
    "start_time": "2021-11-28T08:47:17.222Z"
   },
   {
    "duration": 10,
    "start_time": "2021-11-28T08:47:17.427Z"
   },
   {
    "duration": 204,
    "start_time": "2021-11-28T08:47:17.440Z"
   },
   {
    "duration": 25,
    "start_time": "2021-11-28T08:47:17.647Z"
   },
   {
    "duration": 197,
    "start_time": "2021-11-28T08:47:17.674Z"
   },
   {
    "duration": 625,
    "start_time": "2021-11-28T08:47:17.873Z"
   },
   {
    "duration": 24,
    "start_time": "2021-11-28T08:47:18.501Z"
   },
   {
    "duration": 1201,
    "start_time": "2021-11-28T08:47:18.527Z"
   },
   {
    "duration": 93,
    "start_time": "2021-11-28T08:47:19.733Z"
   },
   {
    "duration": 15,
    "start_time": "2021-11-28T08:47:19.829Z"
   },
   {
    "duration": 29,
    "start_time": "2021-11-28T08:47:19.846Z"
   },
   {
    "duration": 52,
    "start_time": "2021-11-28T08:47:19.877Z"
   },
   {
    "duration": 44,
    "start_time": "2021-11-28T08:47:19.932Z"
   },
   {
    "duration": 22,
    "start_time": "2021-11-28T08:47:19.978Z"
   },
   {
    "duration": 525,
    "start_time": "2021-11-28T08:47:20.002Z"
   },
   {
    "duration": 17,
    "start_time": "2021-11-28T08:47:20.529Z"
   },
   {
    "duration": 36,
    "start_time": "2021-11-28T08:47:20.548Z"
   },
   {
    "duration": 15,
    "start_time": "2021-11-28T08:47:20.586Z"
   },
   {
    "duration": 873,
    "start_time": "2021-11-28T08:47:20.604Z"
   },
   {
    "duration": 1062,
    "start_time": "2021-11-28T08:47:21.479Z"
   },
   {
    "duration": 223,
    "start_time": "2021-11-28T08:47:52.594Z"
   },
   {
    "duration": 18,
    "start_time": "2021-11-28T08:47:55.089Z"
   },
   {
    "duration": 226,
    "start_time": "2021-11-28T08:47:55.741Z"
   },
   {
    "duration": 7,
    "start_time": "2021-11-28T08:48:10.585Z"
   },
   {
    "duration": 833,
    "start_time": "2021-11-28T08:48:10.594Z"
   },
   {
    "duration": 11,
    "start_time": "2021-11-28T08:48:11.430Z"
   },
   {
    "duration": 57,
    "start_time": "2021-11-28T08:48:11.443Z"
   },
   {
    "duration": 14,
    "start_time": "2021-11-28T08:48:11.502Z"
   },
   {
    "duration": 6,
    "start_time": "2021-11-28T08:48:11.518Z"
   },
   {
    "duration": 41,
    "start_time": "2021-11-28T08:48:11.526Z"
   },
   {
    "duration": 22,
    "start_time": "2021-11-28T08:48:11.569Z"
   },
   {
    "duration": 7,
    "start_time": "2021-11-28T08:48:11.595Z"
   },
   {
    "duration": 36,
    "start_time": "2021-11-28T08:48:11.605Z"
   },
   {
    "duration": 5,
    "start_time": "2021-11-28T08:48:11.644Z"
   },
   {
    "duration": 21,
    "start_time": "2021-11-28T08:48:11.652Z"
   },
   {
    "duration": 30,
    "start_time": "2021-11-28T08:48:11.675Z"
   },
   {
    "duration": 474,
    "start_time": "2021-11-28T08:48:11.707Z"
   },
   {
    "duration": 17,
    "start_time": "2021-11-28T08:48:12.183Z"
   },
   {
    "duration": 418,
    "start_time": "2021-11-28T08:48:12.202Z"
   },
   {
    "duration": 13,
    "start_time": "2021-11-28T08:48:12.623Z"
   },
   {
    "duration": 30,
    "start_time": "2021-11-28T08:48:12.639Z"
   },
   {
    "duration": 199,
    "start_time": "2021-11-28T08:48:12.672Z"
   },
   {
    "duration": 10,
    "start_time": "2021-11-28T08:48:12.873Z"
   },
   {
    "duration": 382,
    "start_time": "2021-11-28T08:48:12.885Z"
   },
   {
    "duration": 14,
    "start_time": "2021-11-28T08:48:13.269Z"
   },
   {
    "duration": 206,
    "start_time": "2021-11-28T08:48:13.286Z"
   },
   {
    "duration": 436,
    "start_time": "2021-11-28T08:48:13.495Z"
   },
   {
    "duration": 41,
    "start_time": "2021-11-28T08:48:13.934Z"
   },
   {
    "duration": 1208,
    "start_time": "2021-11-28T08:48:13.978Z"
   },
   {
    "duration": 253,
    "start_time": "2021-11-28T08:48:15.191Z"
   },
   {
    "duration": 24,
    "start_time": "2021-11-28T08:48:15.446Z"
   },
   {
    "duration": 17,
    "start_time": "2021-11-28T08:48:15.472Z"
   },
   {
    "duration": 54,
    "start_time": "2021-11-28T08:48:15.492Z"
   },
   {
    "duration": 33,
    "start_time": "2021-11-28T08:48:15.548Z"
   },
   {
    "duration": 22,
    "start_time": "2021-11-28T08:48:15.583Z"
   },
   {
    "duration": 512,
    "start_time": "2021-11-28T08:48:15.607Z"
   },
   {
    "duration": 19,
    "start_time": "2021-11-28T08:48:16.122Z"
   },
   {
    "duration": 39,
    "start_time": "2021-11-28T08:48:16.144Z"
   },
   {
    "duration": 15,
    "start_time": "2021-11-28T08:48:16.186Z"
   },
   {
    "duration": 883,
    "start_time": "2021-11-28T08:48:16.204Z"
   },
   {
    "duration": 1393,
    "start_time": "2021-11-28T08:48:17.090Z"
   },
   {
    "duration": 237,
    "start_time": "2021-11-28T08:48:46.376Z"
   },
   {
    "duration": 18,
    "start_time": "2021-11-28T08:48:47.536Z"
   },
   {
    "duration": 226,
    "start_time": "2021-11-28T08:48:48.051Z"
   },
   {
    "duration": 227,
    "start_time": "2021-11-28T08:49:27.791Z"
   },
   {
    "duration": 17,
    "start_time": "2021-11-28T08:49:28.807Z"
   },
   {
    "duration": 231,
    "start_time": "2021-11-28T08:49:29.939Z"
   },
   {
    "duration": 7,
    "start_time": "2021-11-28T08:49:32.137Z"
   },
   {
    "duration": 908,
    "start_time": "2021-11-28T08:49:32.146Z"
   },
   {
    "duration": 12,
    "start_time": "2021-11-28T08:49:33.057Z"
   },
   {
    "duration": 59,
    "start_time": "2021-11-28T08:49:33.071Z"
   },
   {
    "duration": 14,
    "start_time": "2021-11-28T08:49:33.133Z"
   },
   {
    "duration": 18,
    "start_time": "2021-11-28T08:49:33.149Z"
   },
   {
    "duration": 15,
    "start_time": "2021-11-28T08:49:33.169Z"
   },
   {
    "duration": 21,
    "start_time": "2021-11-28T08:49:33.186Z"
   },
   {
    "duration": 6,
    "start_time": "2021-11-28T08:49:33.212Z"
   },
   {
    "duration": 64,
    "start_time": "2021-11-28T08:49:33.221Z"
   },
   {
    "duration": 6,
    "start_time": "2021-11-28T08:49:33.288Z"
   },
   {
    "duration": 17,
    "start_time": "2021-11-28T08:49:33.297Z"
   },
   {
    "duration": 62,
    "start_time": "2021-11-28T08:49:33.317Z"
   },
   {
    "duration": 249,
    "start_time": "2021-11-28T08:49:33.383Z"
   },
   {
    "duration": 32,
    "start_time": "2021-11-28T08:49:33.635Z"
   },
   {
    "duration": 230,
    "start_time": "2021-11-28T08:49:33.669Z"
   },
   {
    "duration": 13,
    "start_time": "2021-11-28T08:49:33.901Z"
   },
   {
    "duration": 20,
    "start_time": "2021-11-28T08:49:33.916Z"
   },
   {
    "duration": 211,
    "start_time": "2021-11-28T08:49:33.938Z"
   },
   {
    "duration": 19,
    "start_time": "2021-11-28T08:49:34.152Z"
   },
   {
    "duration": 408,
    "start_time": "2021-11-28T08:49:34.174Z"
   },
   {
    "duration": 15,
    "start_time": "2021-11-28T08:49:34.584Z"
   },
   {
    "duration": 220,
    "start_time": "2021-11-28T08:49:34.601Z"
   },
   {
    "duration": 448,
    "start_time": "2021-11-28T08:49:34.824Z"
   },
   {
    "duration": 25,
    "start_time": "2021-11-28T08:49:35.275Z"
   },
   {
    "duration": 1218,
    "start_time": "2021-11-28T08:49:35.302Z"
   },
   {
    "duration": 97,
    "start_time": "2021-11-28T08:49:36.526Z"
   },
   {
    "duration": 15,
    "start_time": "2021-11-28T08:49:36.626Z"
   },
   {
    "duration": 32,
    "start_time": "2021-11-28T08:49:36.643Z"
   },
   {
    "duration": 51,
    "start_time": "2021-11-28T08:49:36.677Z"
   },
   {
    "duration": 40,
    "start_time": "2021-11-28T08:49:36.730Z"
   },
   {
    "duration": 21,
    "start_time": "2021-11-28T08:49:36.772Z"
   },
   {
    "duration": 509,
    "start_time": "2021-11-28T08:49:36.795Z"
   },
   {
    "duration": 17,
    "start_time": "2021-11-28T08:49:37.306Z"
   },
   {
    "duration": 48,
    "start_time": "2021-11-28T08:49:37.325Z"
   },
   {
    "duration": 14,
    "start_time": "2021-11-28T08:49:37.376Z"
   },
   {
    "duration": 869,
    "start_time": "2021-11-28T08:49:37.393Z"
   },
   {
    "duration": 1221,
    "start_time": "2021-11-28T08:49:38.267Z"
   },
   {
    "duration": 236,
    "start_time": "2021-11-28T08:49:53.915Z"
   },
   {
    "duration": 8,
    "start_time": "2021-11-28T08:49:56.337Z"
   },
   {
    "duration": 774,
    "start_time": "2021-11-28T08:49:56.348Z"
   },
   {
    "duration": 11,
    "start_time": "2021-11-28T08:49:57.125Z"
   },
   {
    "duration": 55,
    "start_time": "2021-11-28T08:49:57.139Z"
   },
   {
    "duration": 13,
    "start_time": "2021-11-28T08:49:57.197Z"
   },
   {
    "duration": 5,
    "start_time": "2021-11-28T08:49:57.213Z"
   },
   {
    "duration": 19,
    "start_time": "2021-11-28T08:49:57.220Z"
   },
   {
    "duration": 43,
    "start_time": "2021-11-28T08:49:57.241Z"
   },
   {
    "duration": 6,
    "start_time": "2021-11-28T08:49:57.288Z"
   },
   {
    "duration": 27,
    "start_time": "2021-11-28T08:49:57.297Z"
   },
   {
    "duration": 41,
    "start_time": "2021-11-28T08:49:57.326Z"
   },
   {
    "duration": 17,
    "start_time": "2021-11-28T08:49:57.370Z"
   },
   {
    "duration": 30,
    "start_time": "2021-11-28T08:49:57.389Z"
   },
   {
    "duration": 264,
    "start_time": "2021-11-28T08:49:57.422Z"
   },
   {
    "duration": 21,
    "start_time": "2021-11-28T08:49:57.688Z"
   },
   {
    "duration": 267,
    "start_time": "2021-11-28T08:49:57.711Z"
   },
   {
    "duration": 13,
    "start_time": "2021-11-28T08:49:57.980Z"
   },
   {
    "duration": 14,
    "start_time": "2021-11-28T08:49:57.996Z"
   },
   {
    "duration": 217,
    "start_time": "2021-11-28T08:49:58.013Z"
   },
   {
    "duration": 10,
    "start_time": "2021-11-28T08:49:58.233Z"
   },
   {
    "duration": 184,
    "start_time": "2021-11-28T08:49:58.245Z"
   },
   {
    "duration": 15,
    "start_time": "2021-11-28T08:49:58.431Z"
   },
   {
    "duration": 196,
    "start_time": "2021-11-28T08:49:58.449Z"
   },
   {
    "duration": 590,
    "start_time": "2021-11-28T08:49:58.647Z"
   },
   {
    "duration": 31,
    "start_time": "2021-11-28T08:49:59.240Z"
   },
   {
    "duration": 1715,
    "start_time": "2021-11-28T08:49:59.273Z"
   },
   {
    "duration": 101,
    "start_time": "2021-11-28T08:50:00.996Z"
   },
   {
    "duration": 17,
    "start_time": "2021-11-28T08:50:01.100Z"
   },
   {
    "duration": 19,
    "start_time": "2021-11-28T08:50:01.120Z"
   },
   {
    "duration": 73,
    "start_time": "2021-11-28T08:50:01.167Z"
   },
   {
    "duration": 14,
    "start_time": "2021-11-28T08:50:01.243Z"
   },
   {
    "duration": 50,
    "start_time": "2021-11-28T08:50:01.260Z"
   },
   {
    "duration": 465,
    "start_time": "2021-11-28T08:50:01.312Z"
   },
   {
    "duration": 17,
    "start_time": "2021-11-28T08:50:01.779Z"
   },
   {
    "duration": 18,
    "start_time": "2021-11-28T08:50:01.799Z"
   },
   {
    "duration": 48,
    "start_time": "2021-11-28T08:50:01.820Z"
   },
   {
    "duration": 858,
    "start_time": "2021-11-28T08:50:01.870Z"
   },
   {
    "duration": 1040,
    "start_time": "2021-11-28T08:50:02.730Z"
   },
   {
    "duration": 605,
    "start_time": "2021-11-28T08:52:37.639Z"
   },
   {
    "duration": 426,
    "start_time": "2021-11-28T08:52:51.167Z"
   },
   {
    "duration": 429,
    "start_time": "2021-11-28T08:52:56.484Z"
   },
   {
    "duration": 668,
    "start_time": "2021-11-28T08:53:15.842Z"
   },
   {
    "duration": 577,
    "start_time": "2021-11-28T08:54:35.189Z"
   },
   {
    "duration": 480,
    "start_time": "2021-11-28T08:54:48.128Z"
   },
   {
    "duration": 184,
    "start_time": "2021-11-28T08:59:13.888Z"
   },
   {
    "duration": 4,
    "start_time": "2021-11-28T09:03:58.693Z"
   },
   {
    "duration": 4,
    "start_time": "2021-11-28T09:04:38.583Z"
   },
   {
    "duration": 357,
    "start_time": "2021-11-28T09:05:42.939Z"
   },
   {
    "duration": 199,
    "start_time": "2021-11-28T09:06:04.682Z"
   },
   {
    "duration": 4,
    "start_time": "2021-11-28T09:06:31.903Z"
   },
   {
    "duration": 179,
    "start_time": "2021-11-28T09:06:47.181Z"
   },
   {
    "duration": 5,
    "start_time": "2021-11-28T09:07:38.797Z"
   },
   {
    "duration": 205,
    "start_time": "2021-11-28T09:07:39.209Z"
   },
   {
    "duration": 5,
    "start_time": "2021-11-28T09:07:48.599Z"
   },
   {
    "duration": 192,
    "start_time": "2021-11-28T09:08:01.317Z"
   },
   {
    "duration": 5,
    "start_time": "2021-11-28T09:08:15.732Z"
   },
   {
    "duration": 369,
    "start_time": "2021-11-28T09:08:22.458Z"
   },
   {
    "duration": 189,
    "start_time": "2021-11-28T09:08:55.750Z"
   },
   {
    "duration": 5,
    "start_time": "2021-11-28T09:09:07.123Z"
   },
   {
    "duration": 188,
    "start_time": "2021-11-28T09:09:13.685Z"
   },
   {
    "duration": 187,
    "start_time": "2021-11-28T09:09:21.500Z"
   },
   {
    "duration": 5,
    "start_time": "2021-11-28T09:10:25.283Z"
   },
   {
    "duration": 180,
    "start_time": "2021-11-28T09:10:36.348Z"
   },
   {
    "duration": 399,
    "start_time": "2021-11-28T09:10:54.969Z"
   },
   {
    "duration": 179,
    "start_time": "2021-11-28T09:11:02.095Z"
   },
   {
    "duration": 5,
    "start_time": "2021-11-28T09:11:28.269Z"
   },
   {
    "duration": 4,
    "start_time": "2021-11-28T09:11:49.642Z"
   },
   {
    "duration": 193,
    "start_time": "2021-11-28T09:11:58.739Z"
   },
   {
    "duration": 4,
    "start_time": "2021-11-28T09:12:21.558Z"
   },
   {
    "duration": 179,
    "start_time": "2021-11-28T09:12:53.030Z"
   },
   {
    "duration": 183,
    "start_time": "2021-11-28T09:13:13.375Z"
   },
   {
    "duration": 5,
    "start_time": "2021-11-28T09:13:26.882Z"
   },
   {
    "duration": 387,
    "start_time": "2021-11-28T09:13:34.471Z"
   },
   {
    "duration": 184,
    "start_time": "2021-11-28T09:13:53.922Z"
   },
   {
    "duration": 185,
    "start_time": "2021-11-28T09:15:23.232Z"
   },
   {
    "duration": 184,
    "start_time": "2021-11-28T09:15:48.915Z"
   },
   {
    "duration": 178,
    "start_time": "2021-11-28T09:16:09.210Z"
   },
   {
    "duration": 5,
    "start_time": "2021-11-28T09:16:38.112Z"
   },
   {
    "duration": 369,
    "start_time": "2021-11-28T09:16:49.277Z"
   },
   {
    "duration": 4,
    "start_time": "2021-11-28T09:16:53.281Z"
   },
   {
    "duration": 181,
    "start_time": "2021-11-28T09:16:54.963Z"
   },
   {
    "duration": 182,
    "start_time": "2021-11-28T09:17:12.980Z"
   },
   {
    "duration": 188,
    "start_time": "2021-11-28T09:17:18.954Z"
   },
   {
    "duration": 6,
    "start_time": "2021-11-28T09:17:28.271Z"
   },
   {
    "duration": 351,
    "start_time": "2021-11-28T09:17:42.778Z"
   },
   {
    "duration": 182,
    "start_time": "2021-11-28T09:18:36.087Z"
   },
   {
    "duration": 187,
    "start_time": "2021-11-28T09:19:00.725Z"
   },
   {
    "duration": 180,
    "start_time": "2021-11-28T09:21:50.839Z"
   },
   {
    "duration": 190,
    "start_time": "2021-11-28T09:23:07.952Z"
   },
   {
    "duration": 361,
    "start_time": "2021-11-28T09:23:21.696Z"
   },
   {
    "duration": 182,
    "start_time": "2021-11-28T09:23:53.126Z"
   },
   {
    "duration": 182,
    "start_time": "2021-11-28T09:25:58.840Z"
   },
   {
    "duration": 186,
    "start_time": "2021-11-28T09:26:06.556Z"
   },
   {
    "duration": 185,
    "start_time": "2021-11-28T09:27:45.551Z"
   },
   {
    "duration": 5,
    "start_time": "2021-11-28T09:28:46.635Z"
   },
   {
    "duration": 5,
    "start_time": "2021-11-28T09:29:00.376Z"
   },
   {
    "duration": 370,
    "start_time": "2021-11-28T09:29:14.055Z"
   },
   {
    "duration": 187,
    "start_time": "2021-11-28T09:29:35.270Z"
   },
   {
    "duration": 184,
    "start_time": "2021-11-28T09:29:42.915Z"
   },
   {
    "duration": 184,
    "start_time": "2021-11-28T09:30:24.975Z"
   },
   {
    "duration": 183,
    "start_time": "2021-11-28T09:30:34.825Z"
   },
   {
    "duration": 5,
    "start_time": "2021-11-28T09:31:22.605Z"
   },
   {
    "duration": 376,
    "start_time": "2021-11-28T09:31:35.031Z"
   },
   {
    "duration": 217,
    "start_time": "2021-11-28T09:31:39.570Z"
   },
   {
    "duration": 291,
    "start_time": "2021-11-28T09:31:58.835Z"
   },
   {
    "duration": 191,
    "start_time": "2021-11-28T09:32:13.951Z"
   },
   {
    "duration": 199,
    "start_time": "2021-11-28T09:32:15.987Z"
   },
   {
    "duration": 4,
    "start_time": "2021-11-28T09:32:25.856Z"
   },
   {
    "duration": 367,
    "start_time": "2021-11-28T09:32:43.653Z"
   },
   {
    "duration": 185,
    "start_time": "2021-11-28T09:33:06.034Z"
   },
   {
    "duration": 176,
    "start_time": "2021-11-28T09:35:55.305Z"
   },
   {
    "duration": 182,
    "start_time": "2021-11-28T09:36:12.807Z"
   },
   {
    "duration": 177,
    "start_time": "2021-11-28T09:36:16.597Z"
   },
   {
    "duration": 378,
    "start_time": "2021-11-28T09:37:08.246Z"
   },
   {
    "duration": 1032,
    "start_time": "2021-11-28T09:38:35.784Z"
   },
   {
    "duration": 7,
    "start_time": "2021-11-28T09:39:02.199Z"
   },
   {
    "duration": 985,
    "start_time": "2021-11-28T09:39:02.208Z"
   },
   {
    "duration": 12,
    "start_time": "2021-11-28T09:39:03.196Z"
   },
   {
    "duration": 87,
    "start_time": "2021-11-28T09:39:03.212Z"
   },
   {
    "duration": 21,
    "start_time": "2021-11-28T09:39:03.302Z"
   },
   {
    "duration": 7,
    "start_time": "2021-11-28T09:39:03.326Z"
   },
   {
    "duration": 32,
    "start_time": "2021-11-28T09:39:03.335Z"
   },
   {
    "duration": 26,
    "start_time": "2021-11-28T09:39:03.371Z"
   },
   {
    "duration": 8,
    "start_time": "2021-11-28T09:39:03.401Z"
   },
   {
    "duration": 60,
    "start_time": "2021-11-28T09:39:03.412Z"
   },
   {
    "duration": 8,
    "start_time": "2021-11-28T09:39:03.476Z"
   },
   {
    "duration": 23,
    "start_time": "2021-11-28T09:39:03.488Z"
   },
   {
    "duration": 80,
    "start_time": "2021-11-28T09:39:03.514Z"
   },
   {
    "duration": 240,
    "start_time": "2021-11-28T09:39:03.597Z"
   },
   {
    "duration": 30,
    "start_time": "2021-11-28T09:39:03.840Z"
   },
   {
    "duration": 237,
    "start_time": "2021-11-28T09:39:03.872Z"
   },
   {
    "duration": 14,
    "start_time": "2021-11-28T09:39:04.112Z"
   },
   {
    "duration": 12,
    "start_time": "2021-11-28T09:39:04.128Z"
   },
   {
    "duration": 188,
    "start_time": "2021-11-28T09:39:04.168Z"
   },
   {
    "duration": 17,
    "start_time": "2021-11-28T09:39:04.358Z"
   },
   {
    "duration": 206,
    "start_time": "2021-11-28T09:39:04.377Z"
   },
   {
    "duration": 16,
    "start_time": "2021-11-28T09:39:04.585Z"
   },
   {
    "duration": 385,
    "start_time": "2021-11-28T09:39:04.607Z"
   },
   {
    "duration": 438,
    "start_time": "2021-11-28T09:39:04.995Z"
   },
   {
    "duration": 44,
    "start_time": "2021-11-28T09:39:05.435Z"
   },
   {
    "duration": 1179,
    "start_time": "2021-11-28T09:39:05.481Z"
   },
   {
    "duration": 85,
    "start_time": "2021-11-28T09:39:06.662Z"
   },
   {
    "duration": 32,
    "start_time": "2021-11-28T09:39:06.749Z"
   },
   {
    "duration": 12,
    "start_time": "2021-11-28T09:39:06.784Z"
   },
   {
    "duration": 76,
    "start_time": "2021-11-28T09:39:06.799Z"
   },
   {
    "duration": 16,
    "start_time": "2021-11-28T09:39:06.877Z"
   },
   {
    "duration": 21,
    "start_time": "2021-11-28T09:39:06.896Z"
   },
   {
    "duration": 517,
    "start_time": "2021-11-28T09:39:06.920Z"
   },
   {
    "duration": 36,
    "start_time": "2021-11-28T09:39:07.440Z"
   },
   {
    "duration": 21,
    "start_time": "2021-11-28T09:39:07.479Z"
   },
   {
    "duration": 14,
    "start_time": "2021-11-28T09:39:07.502Z"
   },
   {
    "duration": 876,
    "start_time": "2021-11-28T09:39:07.519Z"
   },
   {
    "duration": 1040,
    "start_time": "2021-11-28T09:39:08.398Z"
   },
   {
    "duration": 187,
    "start_time": "2021-11-28T09:39:32.873Z"
   },
   {
    "duration": 14,
    "start_time": "2021-11-28T09:40:53.097Z"
   },
   {
    "duration": 7,
    "start_time": "2021-11-28T09:41:47.426Z"
   },
   {
    "duration": 787,
    "start_time": "2021-11-28T09:41:47.435Z"
   },
   {
    "duration": 12,
    "start_time": "2021-11-28T09:41:48.225Z"
   },
   {
    "duration": 59,
    "start_time": "2021-11-28T09:41:48.239Z"
   },
   {
    "duration": 13,
    "start_time": "2021-11-28T09:41:48.301Z"
   },
   {
    "duration": 4,
    "start_time": "2021-11-28T09:41:48.317Z"
   },
   {
    "duration": 16,
    "start_time": "2021-11-28T09:41:48.323Z"
   },
   {
    "duration": 42,
    "start_time": "2021-11-28T09:41:48.341Z"
   },
   {
    "duration": 8,
    "start_time": "2021-11-28T09:41:48.388Z"
   },
   {
    "duration": 37,
    "start_time": "2021-11-28T09:41:48.399Z"
   },
   {
    "duration": 9,
    "start_time": "2021-11-28T09:41:48.468Z"
   },
   {
    "duration": 22,
    "start_time": "2021-11-28T09:41:48.480Z"
   },
   {
    "duration": 247,
    "start_time": "2021-11-28T09:41:48.505Z"
   },
   {
    "duration": 248,
    "start_time": "2021-11-28T09:41:48.767Z"
   },
   {
    "duration": 18,
    "start_time": "2021-11-28T09:41:49.018Z"
   },
   {
    "duration": 256,
    "start_time": "2021-11-28T09:41:49.038Z"
   },
   {
    "duration": 14,
    "start_time": "2021-11-28T09:41:49.296Z"
   },
   {
    "duration": 17,
    "start_time": "2021-11-28T09:41:49.312Z"
   },
   {
    "duration": 216,
    "start_time": "2021-11-28T09:41:49.331Z"
   },
   {
    "duration": 24,
    "start_time": "2021-11-28T09:41:49.550Z"
   },
   {
    "duration": 200,
    "start_time": "2021-11-28T09:41:49.576Z"
   },
   {
    "duration": 15,
    "start_time": "2021-11-28T09:41:49.778Z"
   },
   {
    "duration": 206,
    "start_time": "2021-11-28T09:41:49.795Z"
   },
   {
    "duration": 620,
    "start_time": "2021-11-28T09:41:50.003Z"
   },
   {
    "duration": 43,
    "start_time": "2021-11-28T09:41:50.626Z"
   },
   {
    "duration": 1207,
    "start_time": "2021-11-28T09:41:50.671Z"
   },
   {
    "duration": 104,
    "start_time": "2021-11-28T09:41:51.883Z"
   },
   {
    "duration": 15,
    "start_time": "2021-11-28T09:41:51.990Z"
   },
   {
    "duration": 13,
    "start_time": "2021-11-28T09:41:52.007Z"
   },
   {
    "duration": 78,
    "start_time": "2021-11-28T09:41:52.022Z"
   },
   {
    "duration": 16,
    "start_time": "2021-11-28T09:41:52.102Z"
   },
   {
    "duration": 23,
    "start_time": "2021-11-28T09:41:52.120Z"
   },
   {
    "duration": 480,
    "start_time": "2021-11-28T09:41:52.167Z"
   },
   {
    "duration": 28,
    "start_time": "2021-11-28T09:41:52.650Z"
   },
   {
    "duration": 20,
    "start_time": "2021-11-28T09:41:52.681Z"
   },
   {
    "duration": 17,
    "start_time": "2021-11-28T09:41:52.705Z"
   },
   {
    "duration": 915,
    "start_time": "2021-11-28T09:41:52.725Z"
   },
   {
    "duration": 1031,
    "start_time": "2021-11-28T09:41:53.643Z"
   },
   {
    "duration": 222,
    "start_time": "2021-11-28T09:42:12.426Z"
   },
   {
    "duration": 18,
    "start_time": "2021-11-28T09:42:15.212Z"
   },
   {
    "duration": 229,
    "start_time": "2021-11-28T09:42:15.505Z"
   },
   {
    "duration": 6,
    "start_time": "2021-11-28T09:42:17.410Z"
   },
   {
    "duration": 828,
    "start_time": "2021-11-28T09:42:17.419Z"
   },
   {
    "duration": 12,
    "start_time": "2021-11-28T09:42:18.250Z"
   },
   {
    "duration": 57,
    "start_time": "2021-11-28T09:42:18.265Z"
   },
   {
    "duration": 14,
    "start_time": "2021-11-28T09:42:18.325Z"
   },
   {
    "duration": 4,
    "start_time": "2021-11-28T09:42:18.342Z"
   },
   {
    "duration": 27,
    "start_time": "2021-11-28T09:42:18.349Z"
   },
   {
    "duration": 24,
    "start_time": "2021-11-28T09:42:18.379Z"
   },
   {
    "duration": 12,
    "start_time": "2021-11-28T09:42:18.408Z"
   },
   {
    "duration": 59,
    "start_time": "2021-11-28T09:42:18.423Z"
   },
   {
    "duration": 7,
    "start_time": "2021-11-28T09:42:18.485Z"
   },
   {
    "duration": 39,
    "start_time": "2021-11-28T09:42:18.494Z"
   },
   {
    "duration": 49,
    "start_time": "2021-11-28T09:42:18.536Z"
   },
   {
    "duration": 247,
    "start_time": "2021-11-28T09:42:18.588Z"
   },
   {
    "duration": 18,
    "start_time": "2021-11-28T09:42:18.838Z"
   },
   {
    "duration": 245,
    "start_time": "2021-11-28T09:42:18.868Z"
   },
   {
    "duration": 13,
    "start_time": "2021-11-28T09:42:19.116Z"
   },
   {
    "duration": 36,
    "start_time": "2021-11-28T09:42:19.131Z"
   },
   {
    "duration": 187,
    "start_time": "2021-11-28T09:42:19.170Z"
   },
   {
    "duration": 10,
    "start_time": "2021-11-28T09:42:19.368Z"
   },
   {
    "duration": 382,
    "start_time": "2021-11-28T09:42:19.380Z"
   },
   {
    "duration": 16,
    "start_time": "2021-11-28T09:42:19.768Z"
   },
   {
    "duration": 219,
    "start_time": "2021-11-28T09:42:19.787Z"
   },
   {
    "duration": 439,
    "start_time": "2021-11-28T09:42:20.009Z"
   },
   {
    "duration": 40,
    "start_time": "2021-11-28T09:42:20.451Z"
   },
   {
    "duration": 1205,
    "start_time": "2021-11-28T09:42:20.495Z"
   },
   {
    "duration": 104,
    "start_time": "2021-11-28T09:42:21.705Z"
   },
   {
    "duration": 21,
    "start_time": "2021-11-28T09:42:21.812Z"
   },
   {
    "duration": 34,
    "start_time": "2021-11-28T09:42:21.835Z"
   },
   {
    "duration": 56,
    "start_time": "2021-11-28T09:42:21.871Z"
   },
   {
    "duration": 37,
    "start_time": "2021-11-28T09:42:21.930Z"
   },
   {
    "duration": 24,
    "start_time": "2021-11-28T09:42:21.969Z"
   },
   {
    "duration": 624,
    "start_time": "2021-11-28T09:42:21.996Z"
   },
   {
    "duration": 17,
    "start_time": "2021-11-28T09:42:22.622Z"
   },
   {
    "duration": 41,
    "start_time": "2021-11-28T09:42:22.642Z"
   },
   {
    "duration": 14,
    "start_time": "2021-11-28T09:42:22.686Z"
   },
   {
    "duration": 873,
    "start_time": "2021-11-28T09:42:22.702Z"
   },
   {
    "duration": 1229,
    "start_time": "2021-11-28T09:42:23.577Z"
   },
   {
    "duration": 181,
    "start_time": "2021-11-28T09:49:21.477Z"
   },
   {
    "duration": 97,
    "start_time": "2021-11-28T09:54:37.874Z"
   },
   {
    "duration": 413,
    "start_time": "2021-11-28T09:54:42.485Z"
   },
   {
    "duration": 1299,
    "start_time": "2021-11-28T09:59:50.189Z"
   },
   {
    "duration": 1026,
    "start_time": "2021-11-28T09:59:55.820Z"
   },
   {
    "duration": 1043,
    "start_time": "2021-11-28T10:00:03.135Z"
   },
   {
    "duration": 1051,
    "start_time": "2021-11-28T10:00:13.226Z"
   },
   {
    "duration": 1487,
    "start_time": "2021-11-28T10:00:17.162Z"
   },
   {
    "duration": 2128,
    "start_time": "2021-11-28T10:22:01.078Z"
   },
   {
    "duration": 184,
    "start_time": "2021-11-28T10:37:24.216Z"
   },
   {
    "duration": 182,
    "start_time": "2021-11-28T10:37:29.564Z"
   },
   {
    "duration": 5,
    "start_time": "2021-11-28T10:37:45.783Z"
   },
   {
    "duration": 8,
    "start_time": "2021-11-28T10:37:48.928Z"
   },
   {
    "duration": 16,
    "start_time": "2021-11-28T10:40:27.921Z"
   },
   {
    "duration": 9,
    "start_time": "2021-11-28T10:41:46.441Z"
   },
   {
    "duration": 1147,
    "start_time": "2021-11-28T10:41:46.452Z"
   },
   {
    "duration": 12,
    "start_time": "2021-11-28T10:41:47.602Z"
   },
   {
    "duration": 60,
    "start_time": "2021-11-28T10:41:47.616Z"
   },
   {
    "duration": 12,
    "start_time": "2021-11-28T10:41:47.678Z"
   },
   {
    "duration": 7,
    "start_time": "2021-11-28T10:41:47.692Z"
   },
   {
    "duration": 14,
    "start_time": "2021-11-28T10:41:47.702Z"
   },
   {
    "duration": 22,
    "start_time": "2021-11-28T10:41:47.719Z"
   },
   {
    "duration": 24,
    "start_time": "2021-11-28T10:41:47.745Z"
   },
   {
    "duration": 26,
    "start_time": "2021-11-28T10:41:47.772Z"
   },
   {
    "duration": 7,
    "start_time": "2021-11-28T10:41:47.801Z"
   },
   {
    "duration": 72,
    "start_time": "2021-11-28T10:41:47.811Z"
   },
   {
    "duration": 84,
    "start_time": "2021-11-28T10:41:47.885Z"
   },
   {
    "duration": 709,
    "start_time": "2021-11-28T10:41:47.972Z"
   },
   {
    "duration": 25,
    "start_time": "2021-11-28T10:41:48.684Z"
   },
   {
    "duration": 564,
    "start_time": "2021-11-28T10:41:48.767Z"
   },
   {
    "duration": 14,
    "start_time": "2021-11-28T10:41:49.334Z"
   },
   {
    "duration": 34,
    "start_time": "2021-11-28T10:41:49.351Z"
   },
   {
    "duration": 14,
    "start_time": "2021-11-28T10:41:49.388Z"
   },
   {
    "duration": 229,
    "start_time": "2021-11-28T10:41:49.405Z"
   },
   {
    "duration": 14,
    "start_time": "2021-11-28T10:41:49.637Z"
   },
   {
    "duration": 204,
    "start_time": "2021-11-28T10:41:49.668Z"
   },
   {
    "duration": 16,
    "start_time": "2021-11-28T10:41:49.874Z"
   },
   {
    "duration": 375,
    "start_time": "2021-11-28T10:41:49.892Z"
   },
   {
    "duration": 642,
    "start_time": "2021-11-28T10:41:50.271Z"
   },
   {
    "duration": 51,
    "start_time": "2021-11-28T10:41:50.916Z"
   },
   {
    "duration": 423,
    "start_time": "2021-11-28T10:41:50.972Z"
   },
   {
    "duration": 112,
    "start_time": "2021-11-28T10:41:51.398Z"
   },
   {
    "duration": 17,
    "start_time": "2021-11-28T10:41:51.512Z"
   },
   {
    "duration": 38,
    "start_time": "2021-11-28T10:41:51.533Z"
   },
   {
    "duration": 55,
    "start_time": "2021-11-28T10:41:51.575Z"
   },
   {
    "duration": 42,
    "start_time": "2021-11-28T10:41:51.634Z"
   },
   {
    "duration": 23,
    "start_time": "2021-11-28T10:41:51.678Z"
   },
   {
    "duration": 509,
    "start_time": "2021-11-28T10:41:51.703Z"
   },
   {
    "duration": 18,
    "start_time": "2021-11-28T10:41:52.215Z"
   },
   {
    "duration": 41,
    "start_time": "2021-11-28T10:41:52.235Z"
   },
   {
    "duration": 15,
    "start_time": "2021-11-28T10:41:52.279Z"
   },
   {
    "duration": 876,
    "start_time": "2021-11-28T10:41:52.296Z"
   },
   {
    "duration": 1045,
    "start_time": "2021-11-28T10:41:53.174Z"
   },
   {
    "duration": 183,
    "start_time": "2021-11-28T10:42:20.984Z"
   },
   {
    "duration": 15,
    "start_time": "2021-11-28T10:42:39.679Z"
   },
   {
    "duration": 7,
    "start_time": "2021-11-28T10:42:43.301Z"
   },
   {
    "duration": 844,
    "start_time": "2021-11-28T10:42:43.311Z"
   },
   {
    "duration": 12,
    "start_time": "2021-11-28T10:42:44.158Z"
   },
   {
    "duration": 102,
    "start_time": "2021-11-28T10:42:44.173Z"
   },
   {
    "duration": 13,
    "start_time": "2021-11-28T10:42:44.278Z"
   },
   {
    "duration": 6,
    "start_time": "2021-11-28T10:42:44.293Z"
   },
   {
    "duration": 71,
    "start_time": "2021-11-28T10:42:44.302Z"
   },
   {
    "duration": 23,
    "start_time": "2021-11-28T10:42:44.377Z"
   },
   {
    "duration": 6,
    "start_time": "2021-11-28T10:42:44.403Z"
   },
   {
    "duration": 28,
    "start_time": "2021-11-28T10:42:44.468Z"
   },
   {
    "duration": 7,
    "start_time": "2021-11-28T10:42:44.498Z"
   },
   {
    "duration": 70,
    "start_time": "2021-11-28T10:42:44.507Z"
   },
   {
    "duration": 88,
    "start_time": "2021-11-28T10:42:44.580Z"
   },
   {
    "duration": 434,
    "start_time": "2021-11-28T10:42:44.671Z"
   },
   {
    "duration": 19,
    "start_time": "2021-11-28T10:42:45.108Z"
   },
   {
    "duration": 257,
    "start_time": "2021-11-28T10:42:45.130Z"
   },
   {
    "duration": 15,
    "start_time": "2021-11-28T10:42:45.390Z"
   },
   {
    "duration": 16,
    "start_time": "2021-11-28T10:42:45.408Z"
   },
   {
    "duration": 220,
    "start_time": "2021-11-28T10:42:45.426Z"
   },
   {
    "duration": 20,
    "start_time": "2021-11-28T10:42:45.649Z"
   },
   {
    "duration": 428,
    "start_time": "2021-11-28T10:42:45.671Z"
   },
   {
    "duration": 15,
    "start_time": "2021-11-28T10:42:46.102Z"
   },
   {
    "duration": 221,
    "start_time": "2021-11-28T10:42:46.123Z"
   },
   {
    "duration": 456,
    "start_time": "2021-11-28T10:42:46.348Z"
   },
   {
    "duration": 25,
    "start_time": "2021-11-28T10:42:46.807Z"
   },
   {
    "duration": 429,
    "start_time": "2021-11-28T10:42:46.867Z"
   },
   {
    "duration": 101,
    "start_time": "2021-11-28T10:42:47.298Z"
   },
   {
    "duration": 15,
    "start_time": "2021-11-28T10:42:47.402Z"
   },
   {
    "duration": 16,
    "start_time": "2021-11-28T10:42:47.419Z"
   },
   {
    "duration": 66,
    "start_time": "2021-11-28T10:42:47.438Z"
   },
   {
    "duration": 15,
    "start_time": "2021-11-28T10:42:47.506Z"
   },
   {
    "duration": 46,
    "start_time": "2021-11-28T10:42:47.524Z"
   },
   {
    "duration": 498,
    "start_time": "2021-11-28T10:42:47.572Z"
   },
   {
    "duration": 17,
    "start_time": "2021-11-28T10:42:48.073Z"
   },
   {
    "duration": 19,
    "start_time": "2021-11-28T10:42:48.092Z"
   },
   {
    "duration": 15,
    "start_time": "2021-11-28T10:42:48.114Z"
   },
   {
    "duration": 928,
    "start_time": "2021-11-28T10:42:48.131Z"
   },
   {
    "duration": 1233,
    "start_time": "2021-11-28T10:42:49.061Z"
   },
   {
    "duration": 14,
    "start_time": "2021-11-28T10:44:10.521Z"
   },
   {
    "duration": 7,
    "start_time": "2021-11-28T10:44:14.398Z"
   },
   {
    "duration": 880,
    "start_time": "2021-11-28T10:44:14.408Z"
   },
   {
    "duration": 14,
    "start_time": "2021-11-28T10:44:15.292Z"
   },
   {
    "duration": 62,
    "start_time": "2021-11-28T10:44:15.309Z"
   },
   {
    "duration": 15,
    "start_time": "2021-11-28T10:44:15.373Z"
   },
   {
    "duration": 6,
    "start_time": "2021-11-28T10:44:15.390Z"
   },
   {
    "duration": 19,
    "start_time": "2021-11-28T10:44:15.398Z"
   },
   {
    "duration": 52,
    "start_time": "2021-11-28T10:44:15.420Z"
   },
   {
    "duration": 8,
    "start_time": "2021-11-28T10:44:15.476Z"
   },
   {
    "duration": 86,
    "start_time": "2021-11-28T10:44:15.487Z"
   },
   {
    "duration": 6,
    "start_time": "2021-11-28T10:44:15.576Z"
   },
   {
    "duration": 17,
    "start_time": "2021-11-28T10:44:15.585Z"
   },
   {
    "duration": 82,
    "start_time": "2021-11-28T10:44:15.604Z"
   },
   {
    "duration": 479,
    "start_time": "2021-11-28T10:44:15.688Z"
   },
   {
    "duration": 18,
    "start_time": "2021-11-28T10:44:16.170Z"
   },
   {
    "duration": 305,
    "start_time": "2021-11-28T10:44:16.190Z"
   },
   {
    "duration": 13,
    "start_time": "2021-11-28T10:44:16.497Z"
   },
   {
    "duration": 19,
    "start_time": "2021-11-28T10:44:16.512Z"
   },
   {
    "duration": 214,
    "start_time": "2021-11-28T10:44:16.533Z"
   },
   {
    "duration": 26,
    "start_time": "2021-11-28T10:44:16.749Z"
   },
   {
    "duration": 9,
    "start_time": "2021-11-28T10:44:16.778Z"
   },
   {
    "duration": 200,
    "start_time": "2021-11-28T10:44:16.789Z"
   },
   {
    "duration": 15,
    "start_time": "2021-11-28T10:44:16.991Z"
   },
   {
    "duration": 208,
    "start_time": "2021-11-28T10:44:17.009Z"
   },
   {
    "duration": 607,
    "start_time": "2021-11-28T10:44:17.220Z"
   },
   {
    "duration": 44,
    "start_time": "2021-11-28T10:44:17.830Z"
   },
   {
    "duration": 452,
    "start_time": "2021-11-28T10:44:17.880Z"
   },
   {
    "duration": 117,
    "start_time": "2021-11-28T10:44:18.335Z"
   },
   {
    "duration": 21,
    "start_time": "2021-11-28T10:44:18.455Z"
   },
   {
    "duration": 18,
    "start_time": "2021-11-28T10:44:18.479Z"
   },
   {
    "duration": 98,
    "start_time": "2021-11-28T10:44:18.500Z"
   },
   {
    "duration": 15,
    "start_time": "2021-11-28T10:44:18.601Z"
   },
   {
    "duration": 48,
    "start_time": "2021-11-28T10:44:18.619Z"
   },
   {
    "duration": 519,
    "start_time": "2021-11-28T10:44:18.670Z"
   },
   {
    "duration": 17,
    "start_time": "2021-11-28T10:44:19.191Z"
   },
   {
    "duration": 19,
    "start_time": "2021-11-28T10:44:19.211Z"
   },
   {
    "duration": 45,
    "start_time": "2021-11-28T10:44:19.233Z"
   },
   {
    "duration": 886,
    "start_time": "2021-11-28T10:44:19.281Z"
   },
   {
    "duration": 1045,
    "start_time": "2021-11-28T10:44:20.170Z"
   },
   {
    "duration": 184,
    "start_time": "2021-11-28T10:44:45.571Z"
   },
   {
    "duration": 15,
    "start_time": "2021-11-28T10:45:21.751Z"
   },
   {
    "duration": 373,
    "start_time": "2021-11-28T10:45:22.135Z"
   },
   {
    "duration": 19,
    "start_time": "2021-11-28T10:47:17.472Z"
   },
   {
    "duration": 7,
    "start_time": "2021-11-28T10:47:21.733Z"
   },
   {
    "duration": 913,
    "start_time": "2021-11-28T10:47:21.743Z"
   },
   {
    "duration": 12,
    "start_time": "2021-11-28T10:47:22.659Z"
   },
   {
    "duration": 63,
    "start_time": "2021-11-28T10:47:22.674Z"
   },
   {
    "duration": 18,
    "start_time": "2021-11-28T10:47:22.740Z"
   },
   {
    "duration": 11,
    "start_time": "2021-11-28T10:47:22.760Z"
   },
   {
    "duration": 18,
    "start_time": "2021-11-28T10:47:22.773Z"
   },
   {
    "duration": 23,
    "start_time": "2021-11-28T10:47:22.795Z"
   },
   {
    "duration": 7,
    "start_time": "2021-11-28T10:47:22.821Z"
   },
   {
    "duration": 61,
    "start_time": "2021-11-28T10:47:22.830Z"
   },
   {
    "duration": 6,
    "start_time": "2021-11-28T10:47:22.893Z"
   },
   {
    "duration": 19,
    "start_time": "2021-11-28T10:47:22.902Z"
   },
   {
    "duration": 28,
    "start_time": "2021-11-28T10:47:22.923Z"
   },
   {
    "duration": 410,
    "start_time": "2021-11-28T10:47:22.967Z"
   },
   {
    "duration": 20,
    "start_time": "2021-11-28T10:47:23.380Z"
   },
   {
    "duration": 488,
    "start_time": "2021-11-28T10:47:23.402Z"
   },
   {
    "duration": 14,
    "start_time": "2021-11-28T10:47:23.893Z"
   },
   {
    "duration": 22,
    "start_time": "2021-11-28T10:47:23.910Z"
   },
   {
    "duration": 192,
    "start_time": "2021-11-28T10:47:23.967Z"
   },
   {
    "duration": 15,
    "start_time": "2021-11-28T10:47:24.167Z"
   },
   {
    "duration": 203,
    "start_time": "2021-11-28T10:47:24.184Z"
   },
   {
    "duration": 19,
    "start_time": "2021-11-28T10:47:24.390Z"
   },
   {
    "duration": 14,
    "start_time": "2021-11-28T10:47:24.414Z"
   },
   {
    "duration": 217,
    "start_time": "2021-11-28T10:47:24.430Z"
   },
   {
    "duration": 618,
    "start_time": "2021-11-28T10:47:24.649Z"
   },
   {
    "duration": 25,
    "start_time": "2021-11-28T10:47:25.269Z"
   },
   {
    "duration": 448,
    "start_time": "2021-11-28T10:47:25.297Z"
   },
   {
    "duration": 95,
    "start_time": "2021-11-28T10:47:25.748Z"
   },
   {
    "duration": 31,
    "start_time": "2021-11-28T10:47:25.846Z"
   },
   {
    "duration": 11,
    "start_time": "2021-11-28T10:47:25.880Z"
   },
   {
    "duration": 78,
    "start_time": "2021-11-28T10:47:25.895Z"
   },
   {
    "duration": 15,
    "start_time": "2021-11-28T10:47:25.975Z"
   },
   {
    "duration": 23,
    "start_time": "2021-11-28T10:47:25.993Z"
   },
   {
    "duration": 503,
    "start_time": "2021-11-28T10:47:26.019Z"
   },
   {
    "duration": 16,
    "start_time": "2021-11-28T10:47:26.525Z"
   },
   {
    "duration": 39,
    "start_time": "2021-11-28T10:47:26.544Z"
   },
   {
    "duration": 14,
    "start_time": "2021-11-28T10:47:26.585Z"
   },
   {
    "duration": 870,
    "start_time": "2021-11-28T10:47:26.601Z"
   },
   {
    "duration": 1151,
    "start_time": "2021-11-28T10:47:27.473Z"
   },
   {
    "duration": 20,
    "start_time": "2021-11-28T10:47:45.433Z"
   },
   {
    "duration": 372,
    "start_time": "2021-11-28T10:48:03.624Z"
   },
   {
    "duration": 446,
    "start_time": "2021-11-28T10:48:35.164Z"
   },
   {
    "duration": 207,
    "start_time": "2021-11-28T10:49:10.544Z"
   },
   {
    "duration": 201,
    "start_time": "2021-11-28T10:49:13.184Z"
   },
   {
    "duration": 389,
    "start_time": "2021-11-28T10:49:15.192Z"
   },
   {
    "duration": 205,
    "start_time": "2021-11-28T10:49:19.841Z"
   },
   {
    "duration": 211,
    "start_time": "2021-11-28T10:49:36.932Z"
   },
   {
    "duration": 179,
    "start_time": "2021-11-28T10:49:43.416Z"
   },
   {
    "duration": 351,
    "start_time": "2021-11-28T10:54:17.520Z"
   },
   {
    "duration": 175,
    "start_time": "2021-11-28T10:54:20.694Z"
   },
   {
    "duration": 179,
    "start_time": "2021-11-28T10:54:23.125Z"
   },
   {
    "duration": 175,
    "start_time": "2021-11-28T10:54:26.566Z"
   },
   {
    "duration": 7,
    "start_time": "2021-11-28T10:57:59.337Z"
   },
   {
    "duration": 1987,
    "start_time": "2021-11-28T10:57:59.348Z"
   },
   {
    "duration": 13,
    "start_time": "2021-11-28T10:58:01.339Z"
   },
   {
    "duration": 250,
    "start_time": "2021-11-28T10:58:01.355Z"
   },
   {
    "duration": 16,
    "start_time": "2021-11-28T10:58:01.608Z"
   },
   {
    "duration": 11,
    "start_time": "2021-11-28T10:58:01.626Z"
   },
   {
    "duration": 29,
    "start_time": "2021-11-28T10:58:01.639Z"
   },
   {
    "duration": 26,
    "start_time": "2021-11-28T10:58:01.672Z"
   },
   {
    "duration": 8,
    "start_time": "2021-11-28T10:58:01.702Z"
   },
   {
    "duration": 66,
    "start_time": "2021-11-28T10:58:01.715Z"
   },
   {
    "duration": 8,
    "start_time": "2021-11-28T10:58:01.784Z"
   },
   {
    "duration": 25,
    "start_time": "2021-11-28T10:58:01.796Z"
   },
   {
    "duration": 57,
    "start_time": "2021-11-28T10:58:01.824Z"
   },
   {
    "duration": 275,
    "start_time": "2021-11-28T10:58:01.885Z"
   },
   {
    "duration": 19,
    "start_time": "2021-11-28T10:58:02.167Z"
   },
   {
    "duration": 272,
    "start_time": "2021-11-28T10:58:02.190Z"
   },
   {
    "duration": 14,
    "start_time": "2021-11-28T10:58:02.467Z"
   },
   {
    "duration": 30,
    "start_time": "2021-11-28T10:58:02.484Z"
   },
   {
    "duration": 227,
    "start_time": "2021-11-28T10:58:02.517Z"
   },
   {
    "duration": 30,
    "start_time": "2021-11-28T10:58:02.747Z"
   },
   {
    "duration": 439,
    "start_time": "2021-11-28T10:58:02.782Z"
   },
   {
    "duration": 42,
    "start_time": "2021-11-28T10:58:03.224Z"
   },
   {
    "duration": 220,
    "start_time": "2021-11-28T10:58:03.270Z"
   },
   {
    "duration": 515,
    "start_time": "2021-11-28T10:58:03.493Z"
   },
   {
    "duration": 56,
    "start_time": "2021-11-28T10:58:04.011Z"
   },
   {
    "duration": 471,
    "start_time": "2021-11-28T10:58:04.070Z"
   },
   {
    "duration": 103,
    "start_time": "2021-11-28T10:58:04.546Z"
   },
   {
    "duration": 29,
    "start_time": "2021-11-28T10:58:04.653Z"
   },
   {
    "duration": 13,
    "start_time": "2021-11-28T10:58:04.685Z"
   },
   {
    "duration": 89,
    "start_time": "2021-11-28T10:58:04.701Z"
   },
   {
    "duration": 20,
    "start_time": "2021-11-28T10:58:04.793Z"
   },
   {
    "duration": 51,
    "start_time": "2021-11-28T10:58:04.816Z"
   },
   {
    "duration": 552,
    "start_time": "2021-11-28T10:58:04.870Z"
   },
   {
    "duration": 17,
    "start_time": "2021-11-28T10:58:05.426Z"
   },
   {
    "duration": 22,
    "start_time": "2021-11-28T10:58:05.467Z"
   },
   {
    "duration": 17,
    "start_time": "2021-11-28T10:58:05.492Z"
   },
   {
    "duration": 1159,
    "start_time": "2021-11-28T10:58:05.512Z"
   },
   {
    "duration": 1144,
    "start_time": "2021-11-28T10:58:06.674Z"
   },
   {
    "duration": 446,
    "start_time": "2021-11-28T11:12:12.807Z"
   },
   {
    "duration": 280,
    "start_time": "2021-11-28T11:13:27.520Z"
   },
   {
    "duration": 10,
    "start_time": "2021-11-28T11:13:29.808Z"
   },
   {
    "duration": 718,
    "start_time": "2021-11-28T11:13:29.991Z"
   },
   {
    "duration": 838,
    "start_time": "2021-11-28T11:37:58.897Z"
   },
   {
    "duration": 1133,
    "start_time": "2021-11-28T11:38:09.634Z"
   },
   {
    "duration": 2872,
    "start_time": "2021-11-29T13:08:42.029Z"
   },
   {
    "duration": 1455,
    "start_time": "2021-11-29T13:08:44.905Z"
   },
   {
    "duration": 16,
    "start_time": "2021-11-29T13:08:46.364Z"
   },
   {
    "duration": 82,
    "start_time": "2021-11-29T13:08:46.383Z"
   },
   {
    "duration": 28,
    "start_time": "2021-11-29T13:08:46.468Z"
   },
   {
    "duration": 8,
    "start_time": "2021-11-29T13:08:46.499Z"
   },
   {
    "duration": 18,
    "start_time": "2021-11-29T13:08:46.510Z"
   },
   {
    "duration": 58,
    "start_time": "2021-11-29T13:08:46.532Z"
   },
   {
    "duration": 9,
    "start_time": "2021-11-29T13:08:46.596Z"
   },
   {
    "duration": 33,
    "start_time": "2021-11-29T13:08:46.609Z"
   },
   {
    "duration": 38,
    "start_time": "2021-11-29T13:08:46.644Z"
   },
   {
    "duration": 24,
    "start_time": "2021-11-29T13:08:46.685Z"
   },
   {
    "duration": 73,
    "start_time": "2021-11-29T13:08:46.712Z"
   },
   {
    "duration": 350,
    "start_time": "2021-11-29T13:08:46.788Z"
   },
   {
    "duration": 18,
    "start_time": "2021-11-29T13:08:47.140Z"
   },
   {
    "duration": 239,
    "start_time": "2021-11-29T13:08:47.161Z"
   },
   {
    "duration": 13,
    "start_time": "2021-11-29T13:08:47.402Z"
   },
   {
    "duration": 29,
    "start_time": "2021-11-29T13:08:47.418Z"
   },
   {
    "duration": 936,
    "start_time": "2021-11-29T13:08:47.450Z"
   },
   {
    "duration": 16,
    "start_time": "2021-11-29T13:08:48.389Z"
   },
   {
    "duration": 329,
    "start_time": "2021-11-29T13:08:48.408Z"
   },
   {
    "duration": 19,
    "start_time": "2021-11-29T13:08:48.740Z"
   },
   {
    "duration": 224,
    "start_time": "2021-11-29T13:08:48.762Z"
   },
   {
    "duration": 751,
    "start_time": "2021-11-29T13:08:48.988Z"
   },
   {
    "duration": 29292,
    "start_time": "2021-11-29T13:08:20.452Z"
   },
   {
    "duration": 29290,
    "start_time": "2021-11-29T13:08:20.456Z"
   },
   {
    "duration": 29287,
    "start_time": "2021-11-29T13:08:20.461Z"
   },
   {
    "duration": 29285,
    "start_time": "2021-11-29T13:08:20.465Z"
   },
   {
    "duration": 29282,
    "start_time": "2021-11-29T13:08:20.469Z"
   },
   {
    "duration": 29281,
    "start_time": "2021-11-29T13:08:20.472Z"
   },
   {
    "duration": 29280,
    "start_time": "2021-11-29T13:08:20.476Z"
   },
   {
    "duration": 29277,
    "start_time": "2021-11-29T13:08:20.480Z"
   },
   {
    "duration": 29274,
    "start_time": "2021-11-29T13:08:20.484Z"
   },
   {
    "duration": 29273,
    "start_time": "2021-11-29T13:08:20.487Z"
   },
   {
    "duration": 29270,
    "start_time": "2021-11-29T13:08:20.492Z"
   },
   {
    "duration": 29269,
    "start_time": "2021-11-29T13:08:20.495Z"
   },
   {
    "duration": 29269,
    "start_time": "2021-11-29T13:08:20.499Z"
   },
   {
    "duration": 29240,
    "start_time": "2021-11-29T13:08:20.531Z"
   },
   {
    "duration": 6,
    "start_time": "2021-11-29T13:09:03.840Z"
   },
   {
    "duration": 870,
    "start_time": "2021-11-29T13:09:03.849Z"
   },
   {
    "duration": 12,
    "start_time": "2021-11-29T13:09:04.722Z"
   },
   {
    "duration": 57,
    "start_time": "2021-11-29T13:09:04.736Z"
   },
   {
    "duration": 34,
    "start_time": "2021-11-29T13:09:04.795Z"
   },
   {
    "duration": 5,
    "start_time": "2021-11-29T13:09:04.832Z"
   },
   {
    "duration": 21,
    "start_time": "2021-11-29T13:09:04.840Z"
   },
   {
    "duration": 32,
    "start_time": "2021-11-29T13:09:04.864Z"
   },
   {
    "duration": 6,
    "start_time": "2021-11-29T13:09:04.900Z"
   },
   {
    "duration": 26,
    "start_time": "2021-11-29T13:09:04.909Z"
   },
   {
    "duration": 6,
    "start_time": "2021-11-29T13:09:04.938Z"
   },
   {
    "duration": 49,
    "start_time": "2021-11-29T13:09:04.946Z"
   },
   {
    "duration": 28,
    "start_time": "2021-11-29T13:09:04.998Z"
   },
   {
    "duration": 263,
    "start_time": "2021-11-29T13:09:05.029Z"
   },
   {
    "duration": 18,
    "start_time": "2021-11-29T13:09:05.295Z"
   },
   {
    "duration": 453,
    "start_time": "2021-11-29T13:09:05.315Z"
   },
   {
    "duration": 25,
    "start_time": "2021-11-29T13:09:05.771Z"
   },
   {
    "duration": 46,
    "start_time": "2021-11-29T13:09:05.799Z"
   },
   {
    "duration": 506,
    "start_time": "2021-11-29T13:09:05.848Z"
   },
   {
    "duration": 33,
    "start_time": "2021-11-29T13:09:06.357Z"
   },
   {
    "duration": 213,
    "start_time": "2021-11-29T13:09:06.393Z"
   },
   {
    "duration": 29,
    "start_time": "2021-11-29T13:09:06.609Z"
   },
   {
    "duration": 301,
    "start_time": "2021-11-29T13:09:06.640Z"
   },
   {
    "duration": 394,
    "start_time": "2021-11-29T13:09:06.945Z"
   },
   {
    "duration": 32605,
    "start_time": "2021-11-29T13:08:34.737Z"
   },
   {
    "duration": 32597,
    "start_time": "2021-11-29T13:08:34.747Z"
   },
   {
    "duration": 32589,
    "start_time": "2021-11-29T13:08:34.756Z"
   },
   {
    "duration": 32583,
    "start_time": "2021-11-29T13:08:34.763Z"
   },
   {
    "duration": 32577,
    "start_time": "2021-11-29T13:08:34.770Z"
   },
   {
    "duration": 32572,
    "start_time": "2021-11-29T13:08:34.777Z"
   },
   {
    "duration": 32568,
    "start_time": "2021-11-29T13:08:34.783Z"
   },
   {
    "duration": 32563,
    "start_time": "2021-11-29T13:08:34.789Z"
   },
   {
    "duration": 32558,
    "start_time": "2021-11-29T13:08:34.795Z"
   },
   {
    "duration": 32556,
    "start_time": "2021-11-29T13:08:34.799Z"
   },
   {
    "duration": 32552,
    "start_time": "2021-11-29T13:08:34.804Z"
   },
   {
    "duration": 32550,
    "start_time": "2021-11-29T13:08:34.807Z"
   },
   {
    "duration": 32541,
    "start_time": "2021-11-29T13:08:34.818Z"
   },
   {
    "duration": 32539,
    "start_time": "2021-11-29T13:08:34.821Z"
   },
   {
    "duration": 596,
    "start_time": "2021-11-29T13:11:09.826Z"
   },
   {
    "duration": 541,
    "start_time": "2021-11-29T13:11:22.988Z"
   },
   {
    "duration": 54,
    "start_time": "2021-11-29T13:11:23.532Z"
   },
   {
    "duration": 479,
    "start_time": "2021-11-29T13:11:23.590Z"
   },
   {
    "duration": 110,
    "start_time": "2021-11-29T13:11:24.072Z"
   },
   {
    "duration": 16,
    "start_time": "2021-11-29T13:11:24.184Z"
   },
   {
    "duration": 15,
    "start_time": "2021-11-29T13:11:24.203Z"
   },
   {
    "duration": 100,
    "start_time": "2021-11-29T13:11:24.221Z"
   },
   {
    "duration": 17,
    "start_time": "2021-11-29T13:11:24.325Z"
   },
   {
    "duration": 50,
    "start_time": "2021-11-29T13:11:24.346Z"
   },
   {
    "duration": 487,
    "start_time": "2021-11-29T13:11:24.399Z"
   },
   {
    "duration": 21,
    "start_time": "2021-11-29T13:11:24.889Z"
   },
   {
    "duration": 20,
    "start_time": "2021-11-29T13:11:24.913Z"
   },
   {
    "duration": 46,
    "start_time": "2021-11-29T13:11:24.936Z"
   },
   {
    "duration": 1017,
    "start_time": "2021-11-29T13:11:24.985Z"
   },
   {
    "duration": 1114,
    "start_time": "2021-11-29T13:11:26.005Z"
   },
   {
    "duration": 963,
    "start_time": "2021-11-29T13:16:56.354Z"
   },
   {
    "duration": 16,
    "start_time": "2021-11-29T13:16:57.321Z"
   },
   {
    "duration": 122,
    "start_time": "2021-11-29T13:45:49.942Z"
   },
   {
    "duration": 36,
    "start_time": "2021-11-29T13:48:08.981Z"
   },
   {
    "duration": 17,
    "start_time": "2021-11-29T13:48:19.002Z"
   },
   {
    "duration": 2134,
    "start_time": "2021-11-29T13:54:46.179Z"
   },
   {
    "duration": 1028,
    "start_time": "2021-11-29T13:55:08.943Z"
   },
   {
    "duration": 2220,
    "start_time": "2021-11-29T17:15:03.344Z"
   },
   {
    "duration": 508,
    "start_time": "2021-11-29T17:15:05.567Z"
   },
   {
    "duration": -1232,
    "start_time": "2021-11-29T17:15:07.312Z"
   },
   {
    "duration": -1233,
    "start_time": "2021-11-29T17:15:07.314Z"
   },
   {
    "duration": -1234,
    "start_time": "2021-11-29T17:15:07.318Z"
   },
   {
    "duration": -1234,
    "start_time": "2021-11-29T17:15:07.320Z"
   },
   {
    "duration": -1236,
    "start_time": "2021-11-29T17:15:07.325Z"
   },
   {
    "duration": -1235,
    "start_time": "2021-11-29T17:15:07.326Z"
   },
   {
    "duration": -1235,
    "start_time": "2021-11-29T17:15:07.328Z"
   },
   {
    "duration": -1236,
    "start_time": "2021-11-29T17:15:07.331Z"
   },
   {
    "duration": -1241,
    "start_time": "2021-11-29T17:15:07.338Z"
   },
   {
    "duration": -1240,
    "start_time": "2021-11-29T17:15:07.340Z"
   },
   {
    "duration": -1239,
    "start_time": "2021-11-29T17:15:07.341Z"
   },
   {
    "duration": -1290,
    "start_time": "2021-11-29T17:15:07.394Z"
   },
   {
    "duration": -1290,
    "start_time": "2021-11-29T17:15:07.396Z"
   },
   {
    "duration": -1292,
    "start_time": "2021-11-29T17:15:07.400Z"
   },
   {
    "duration": -1293,
    "start_time": "2021-11-29T17:15:07.403Z"
   },
   {
    "duration": -1294,
    "start_time": "2021-11-29T17:15:07.407Z"
   },
   {
    "duration": -1305,
    "start_time": "2021-11-29T17:15:07.420Z"
   },
   {
    "duration": -1314,
    "start_time": "2021-11-29T17:15:07.431Z"
   },
   {
    "duration": -1313,
    "start_time": "2021-11-29T17:15:07.432Z"
   },
   {
    "duration": -1267,
    "start_time": "2021-11-29T17:15:07.434Z"
   },
   {
    "duration": -1279,
    "start_time": "2021-11-29T17:15:07.449Z"
   },
   {
    "duration": -1278,
    "start_time": "2021-11-29T17:15:07.450Z"
   },
   {
    "duration": -1277,
    "start_time": "2021-11-29T17:15:07.452Z"
   },
   {
    "duration": -1277,
    "start_time": "2021-11-29T17:15:07.453Z"
   },
   {
    "duration": -1276,
    "start_time": "2021-11-29T17:15:07.454Z"
   },
   {
    "duration": -1278,
    "start_time": "2021-11-29T17:15:07.458Z"
   },
   {
    "duration": -1283,
    "start_time": "2021-11-29T17:15:07.466Z"
   },
   {
    "duration": -1283,
    "start_time": "2021-11-29T17:15:07.468Z"
   },
   {
    "duration": -1283,
    "start_time": "2021-11-29T17:15:07.470Z"
   },
   {
    "duration": -1303,
    "start_time": "2021-11-29T17:15:07.492Z"
   },
   {
    "duration": -1304,
    "start_time": "2021-11-29T17:15:07.495Z"
   },
   {
    "duration": -1312,
    "start_time": "2021-11-29T17:15:07.506Z"
   },
   {
    "duration": -1312,
    "start_time": "2021-11-29T17:15:07.508Z"
   },
   {
    "duration": 15,
    "start_time": "2021-11-29T17:15:11.963Z"
   },
   {
    "duration": 272,
    "start_time": "2021-11-29T17:15:11.981Z"
   },
   {
    "duration": -1230,
    "start_time": "2021-11-29T17:15:13.487Z"
   },
   {
    "duration": -1232,
    "start_time": "2021-11-29T17:15:13.490Z"
   },
   {
    "duration": -1232,
    "start_time": "2021-11-29T17:15:13.492Z"
   },
   {
    "duration": -1234,
    "start_time": "2021-11-29T17:15:13.495Z"
   },
   {
    "duration": -1237,
    "start_time": "2021-11-29T17:15:13.500Z"
   },
   {
    "duration": -1235,
    "start_time": "2021-11-29T17:15:13.501Z"
   },
   {
    "duration": -1237,
    "start_time": "2021-11-29T17:15:13.505Z"
   },
   {
    "duration": -1239,
    "start_time": "2021-11-29T17:15:13.509Z"
   },
   {
    "duration": -1241,
    "start_time": "2021-11-29T17:15:13.513Z"
   },
   {
    "duration": -1241,
    "start_time": "2021-11-29T17:15:13.515Z"
   },
   {
    "duration": -1244,
    "start_time": "2021-11-29T17:15:13.519Z"
   },
   {
    "duration": -1244,
    "start_time": "2021-11-29T17:15:13.521Z"
   },
   {
    "duration": -1246,
    "start_time": "2021-11-29T17:15:13.525Z"
   },
   {
    "duration": -1248,
    "start_time": "2021-11-29T17:15:13.529Z"
   },
   {
    "duration": -1250,
    "start_time": "2021-11-29T17:15:13.533Z"
   },
   {
    "duration": -1250,
    "start_time": "2021-11-29T17:15:13.535Z"
   },
   {
    "duration": -1304,
    "start_time": "2021-11-29T17:15:13.591Z"
   },
   {
    "duration": -1316,
    "start_time": "2021-11-29T17:15:13.605Z"
   },
   {
    "duration": -1315,
    "start_time": "2021-11-29T17:15:13.607Z"
   },
   {
    "duration": -1315,
    "start_time": "2021-11-29T17:15:13.608Z"
   },
   {
    "duration": -1322,
    "start_time": "2021-11-29T17:15:13.618Z"
   },
   {
    "duration": -1321,
    "start_time": "2021-11-29T17:15:13.619Z"
   },
   {
    "duration": -1321,
    "start_time": "2021-11-29T17:15:13.621Z"
   },
   {
    "duration": -1322,
    "start_time": "2021-11-29T17:15:13.624Z"
   },
   {
    "duration": -1322,
    "start_time": "2021-11-29T17:15:13.626Z"
   },
   {
    "duration": -1329,
    "start_time": "2021-11-29T17:15:13.635Z"
   },
   {
    "duration": -1329,
    "start_time": "2021-11-29T17:15:13.637Z"
   },
   {
    "duration": -1328,
    "start_time": "2021-11-29T17:15:13.638Z"
   },
   {
    "duration": -1328,
    "start_time": "2021-11-29T17:15:13.639Z"
   },
   {
    "duration": -1274,
    "start_time": "2021-11-29T17:15:13.642Z"
   },
   {
    "duration": -1274,
    "start_time": "2021-11-29T17:15:13.644Z"
   },
   {
    "duration": -1273,
    "start_time": "2021-11-29T17:15:13.645Z"
   },
   {
    "duration": -1277,
    "start_time": "2021-11-29T17:15:13.651Z"
   },
   {
    "duration": 61,
    "start_time": "2021-11-29T17:16:02.432Z"
   },
   {
    "duration": 18,
    "start_time": "2021-11-29T17:16:03.193Z"
   },
   {
    "duration": 7,
    "start_time": "2021-11-29T17:17:00.902Z"
   },
   {
    "duration": 90,
    "start_time": "2021-11-29T17:17:00.912Z"
   },
   {
    "duration": 17,
    "start_time": "2021-11-29T17:17:01.005Z"
   },
   {
    "duration": 1170,
    "start_time": "2021-11-29T17:17:01.025Z"
   },
   {
    "duration": 12,
    "start_time": "2021-11-29T17:17:02.198Z"
   },
   {
    "duration": 17,
    "start_time": "2021-11-29T17:17:02.213Z"
   },
   {
    "duration": 36,
    "start_time": "2021-11-29T17:17:02.233Z"
   },
   {
    "duration": 7,
    "start_time": "2021-11-29T17:17:02.272Z"
   },
   {
    "duration": 38,
    "start_time": "2021-11-29T17:17:02.286Z"
   },
   {
    "duration": 8,
    "start_time": "2021-11-29T17:17:02.328Z"
   },
   {
    "duration": 23,
    "start_time": "2021-11-29T17:17:02.368Z"
   },
   {
    "duration": 30,
    "start_time": "2021-11-29T17:17:02.394Z"
   },
   {
    "duration": 268,
    "start_time": "2021-11-29T17:17:02.428Z"
   },
   {
    "duration": 18,
    "start_time": "2021-11-29T17:17:02.699Z"
   },
   {
    "duration": 266,
    "start_time": "2021-11-29T17:17:02.721Z"
   },
   {
    "duration": 18,
    "start_time": "2021-11-29T17:17:02.989Z"
   },
   {
    "duration": 1044,
    "start_time": "2021-11-29T17:17:03.010Z"
   },
   {
    "duration": 23,
    "start_time": "2021-11-29T17:17:04.056Z"
   },
   {
    "duration": 348,
    "start_time": "2021-11-29T17:17:04.082Z"
   },
   {
    "duration": 37,
    "start_time": "2021-11-29T17:17:04.432Z"
   },
   {
    "duration": 206,
    "start_time": "2021-11-29T17:17:04.471Z"
   },
   {
    "duration": 611,
    "start_time": "2021-11-29T17:17:04.680Z"
   },
   {
    "duration": 26,
    "start_time": "2021-11-29T17:17:05.294Z"
   },
   {
    "duration": 473,
    "start_time": "2021-11-29T17:17:05.323Z"
   },
   {
    "duration": 105,
    "start_time": "2021-11-29T17:17:05.799Z"
   },
   {
    "duration": 15,
    "start_time": "2021-11-29T17:17:05.907Z"
   },
   {
    "duration": 42,
    "start_time": "2021-11-29T17:17:05.927Z"
   },
   {
    "duration": 58,
    "start_time": "2021-11-29T17:17:05.972Z"
   },
   {
    "duration": 42,
    "start_time": "2021-11-29T17:17:06.034Z"
   },
   {
    "duration": 24,
    "start_time": "2021-11-29T17:17:06.079Z"
   },
   {
    "duration": 518,
    "start_time": "2021-11-29T17:17:06.106Z"
   },
   {
    "duration": 20,
    "start_time": "2021-11-29T17:17:06.626Z"
   },
   {
    "duration": 26,
    "start_time": "2021-11-29T17:17:06.669Z"
   },
   {
    "duration": 15,
    "start_time": "2021-11-29T17:17:06.698Z"
   },
   {
    "duration": 914,
    "start_time": "2021-11-29T17:17:06.716Z"
   },
   {
    "duration": 1040,
    "start_time": "2021-11-29T17:17:07.633Z"
   },
   {
    "duration": 926,
    "start_time": "2021-11-29T17:18:24.715Z"
   },
   {
    "duration": 363,
    "start_time": "2021-11-29T17:18:50.330Z"
   },
   {
    "duration": 20,
    "start_time": "2021-11-29T17:18:58.675Z"
   },
   {
    "duration": 7,
    "start_time": "2021-11-29T17:19:03.223Z"
   },
   {
    "duration": 70,
    "start_time": "2021-11-29T17:19:03.234Z"
   },
   {
    "duration": 15,
    "start_time": "2021-11-29T17:19:03.309Z"
   },
   {
    "duration": 750,
    "start_time": "2021-11-29T17:19:03.328Z"
   },
   {
    "duration": 15,
    "start_time": "2021-11-29T17:19:04.081Z"
   },
   {
    "duration": 74,
    "start_time": "2021-11-29T17:19:04.100Z"
   },
   {
    "duration": 32,
    "start_time": "2021-11-29T17:19:04.177Z"
   },
   {
    "duration": 61,
    "start_time": "2021-11-29T17:19:04.212Z"
   },
   {
    "duration": 90,
    "start_time": "2021-11-29T17:19:04.279Z"
   },
   {
    "duration": 11,
    "start_time": "2021-11-29T17:19:04.374Z"
   },
   {
    "duration": 25,
    "start_time": "2021-11-29T17:19:04.392Z"
   },
   {
    "duration": 99,
    "start_time": "2021-11-29T17:19:04.469Z"
   },
   {
    "duration": 398,
    "start_time": "2021-11-29T17:19:04.574Z"
   },
   {
    "duration": 23,
    "start_time": "2021-11-29T17:19:04.975Z"
   },
   {
    "duration": 288,
    "start_time": "2021-11-29T17:19:05.001Z"
   },
   {
    "duration": 20,
    "start_time": "2021-11-29T17:19:05.292Z"
   },
   {
    "duration": 288,
    "start_time": "2021-11-29T17:19:05.315Z"
   },
   {
    "duration": 17,
    "start_time": "2021-11-29T17:19:05.606Z"
   },
   {
    "duration": 549,
    "start_time": "2021-11-29T17:19:05.627Z"
   },
   {
    "duration": 29,
    "start_time": "2021-11-29T17:19:06.179Z"
   },
   {
    "duration": 326,
    "start_time": "2021-11-29T17:19:06.211Z"
   },
   {
    "duration": 698,
    "start_time": "2021-11-29T17:19:06.540Z"
   },
   {
    "duration": 38,
    "start_time": "2021-11-29T17:19:07.240Z"
   },
   {
    "duration": 593,
    "start_time": "2021-11-29T17:19:07.282Z"
   },
   {
    "duration": 153,
    "start_time": "2021-11-29T17:19:07.879Z"
   },
   {
    "duration": 21,
    "start_time": "2021-11-29T17:19:08.037Z"
   },
   {
    "duration": 17,
    "start_time": "2021-11-29T17:19:08.072Z"
   },
   {
    "duration": 102,
    "start_time": "2021-11-29T17:19:08.093Z"
   },
   {
    "duration": 19,
    "start_time": "2021-11-29T17:19:08.199Z"
   },
   {
    "duration": 53,
    "start_time": "2021-11-29T17:19:08.220Z"
   },
   {
    "duration": 546,
    "start_time": "2021-11-29T17:19:08.276Z"
   },
   {
    "duration": 25,
    "start_time": "2021-11-29T17:19:08.825Z"
   },
   {
    "duration": 41,
    "start_time": "2021-11-29T17:19:08.853Z"
   },
   {
    "duration": 22,
    "start_time": "2021-11-29T17:19:08.897Z"
   },
   {
    "duration": 895,
    "start_time": "2021-11-29T17:19:08.922Z"
   },
   {
    "duration": 1273,
    "start_time": "2021-11-29T17:19:09.820Z"
   },
   {
    "duration": 1570,
    "start_time": "2021-11-30T06:50:09.399Z"
   },
   {
    "duration": 49,
    "start_time": "2021-11-30T06:50:10.972Z"
   },
   {
    "duration": 13,
    "start_time": "2021-11-30T06:50:11.024Z"
   },
   {
    "duration": 1389,
    "start_time": "2021-11-30T06:50:11.040Z"
   },
   {
    "duration": 8,
    "start_time": "2021-11-30T06:50:12.431Z"
   },
   {
    "duration": 19,
    "start_time": "2021-11-30T06:50:12.441Z"
   },
   {
    "duration": 16,
    "start_time": "2021-11-30T06:50:12.462Z"
   },
   {
    "duration": 6,
    "start_time": "2021-11-30T06:50:12.480Z"
   },
   {
    "duration": 19,
    "start_time": "2021-11-30T06:50:12.490Z"
   },
   {
    "duration": 6,
    "start_time": "2021-11-30T06:50:12.512Z"
   },
   {
    "duration": 17,
    "start_time": "2021-11-30T06:50:12.519Z"
   },
   {
    "duration": 22,
    "start_time": "2021-11-30T06:50:12.564Z"
   },
   {
    "duration": 150,
    "start_time": "2021-11-30T06:50:12.588Z"
   },
   {
    "duration": 27,
    "start_time": "2021-11-30T06:50:12.740Z"
   },
   {
    "duration": 137,
    "start_time": "2021-11-30T06:50:12.769Z"
   },
   {
    "duration": 10,
    "start_time": "2021-11-30T06:50:12.908Z"
   },
   {
    "duration": 952,
    "start_time": "2021-11-30T06:50:12.920Z"
   },
   {
    "duration": 15,
    "start_time": "2021-11-30T06:50:13.874Z"
   },
   {
    "duration": 394,
    "start_time": "2021-11-30T06:50:13.891Z"
   },
   {
    "duration": 20,
    "start_time": "2021-11-30T06:50:14.287Z"
   },
   {
    "duration": 128,
    "start_time": "2021-11-30T06:50:14.364Z"
   },
   {
    "duration": 416,
    "start_time": "2021-11-30T06:50:14.494Z"
   },
   {
    "duration": 16,
    "start_time": "2021-11-30T06:50:14.912Z"
   },
   {
    "duration": 271,
    "start_time": "2021-11-30T06:50:14.930Z"
   },
   {
    "duration": 64,
    "start_time": "2021-11-30T06:50:15.203Z"
   },
   {
    "duration": 10,
    "start_time": "2021-11-30T06:50:15.269Z"
   },
   {
    "duration": 9,
    "start_time": "2021-11-30T06:50:15.283Z"
   },
   {
    "duration": 41,
    "start_time": "2021-11-30T06:50:15.295Z"
   },
   {
    "duration": 13,
    "start_time": "2021-11-30T06:50:15.364Z"
   },
   {
    "duration": 15,
    "start_time": "2021-11-30T06:50:15.379Z"
   },
   {
    "duration": 290,
    "start_time": "2021-11-30T06:50:15.395Z"
   },
   {
    "duration": 12,
    "start_time": "2021-11-30T06:50:15.687Z"
   },
   {
    "duration": 15,
    "start_time": "2021-11-30T06:50:15.701Z"
   },
   {
    "duration": 10,
    "start_time": "2021-11-30T06:50:15.718Z"
   },
   {
    "duration": 509,
    "start_time": "2021-11-30T06:50:15.730Z"
   },
   {
    "duration": 611,
    "start_time": "2021-11-30T06:50:16.241Z"
   },
   {
    "duration": 327,
    "start_time": "2021-11-30T07:29:55.425Z"
   },
   {
    "duration": 406,
    "start_time": "2021-11-30T07:30:17.230Z"
   },
   {
    "duration": 300,
    "start_time": "2021-11-30T07:30:22.821Z"
   },
   {
    "duration": 4,
    "start_time": "2021-11-30T08:00:25.559Z"
   },
   {
    "duration": 56,
    "start_time": "2021-11-30T08:00:25.565Z"
   },
   {
    "duration": 9,
    "start_time": "2021-11-30T08:00:25.624Z"
   },
   {
    "duration": 1279,
    "start_time": "2021-11-30T08:00:25.635Z"
   },
   {
    "duration": 7,
    "start_time": "2021-11-30T08:00:26.916Z"
   },
   {
    "duration": 18,
    "start_time": "2021-11-30T08:00:26.925Z"
   },
   {
    "duration": 19,
    "start_time": "2021-11-30T08:00:26.945Z"
   },
   {
    "duration": 10,
    "start_time": "2021-11-30T08:00:26.965Z"
   },
   {
    "duration": 19,
    "start_time": "2021-11-30T08:00:26.978Z"
   },
   {
    "duration": 6,
    "start_time": "2021-11-30T08:00:26.999Z"
   },
   {
    "duration": 24,
    "start_time": "2021-11-30T08:00:27.006Z"
   },
   {
    "duration": 32,
    "start_time": "2021-11-30T08:00:27.032Z"
   },
   {
    "duration": 145,
    "start_time": "2021-11-30T08:00:27.066Z"
   },
   {
    "duration": 13,
    "start_time": "2021-11-30T08:00:27.213Z"
   },
   {
    "duration": 148,
    "start_time": "2021-11-30T08:00:27.228Z"
   },
   {
    "duration": 11,
    "start_time": "2021-11-30T08:00:27.377Z"
   },
   {
    "duration": 333,
    "start_time": "2021-11-30T08:00:27.390Z"
   },
   {
    "duration": 12,
    "start_time": "2021-11-30T08:00:27.725Z"
   },
   {
    "duration": 142,
    "start_time": "2021-11-30T08:00:27.739Z"
   },
   {
    "duration": 14,
    "start_time": "2021-11-30T08:00:27.883Z"
   },
   {
    "duration": 136,
    "start_time": "2021-11-30T08:00:27.899Z"
   },
   {
    "duration": 299,
    "start_time": "2021-11-30T08:00:28.037Z"
   },
   {
    "duration": 29,
    "start_time": "2021-11-30T08:00:28.339Z"
   },
   {
    "duration": 262,
    "start_time": "2021-11-30T08:00:28.370Z"
   },
   {
    "duration": 281,
    "start_time": "2021-11-30T08:00:28.634Z"
   },
   {
    "duration": 10,
    "start_time": "2021-11-30T08:00:28.917Z"
   },
   {
    "duration": 10,
    "start_time": "2021-11-30T08:00:28.931Z"
   },
   {
    "duration": 39,
    "start_time": "2021-11-30T08:00:28.964Z"
   },
   {
    "duration": 14,
    "start_time": "2021-11-30T08:00:29.005Z"
   },
   {
    "duration": 28,
    "start_time": "2021-11-30T08:00:29.021Z"
   },
   {
    "duration": 291,
    "start_time": "2021-11-30T08:00:29.051Z"
   },
   {
    "duration": 23,
    "start_time": "2021-11-30T08:00:29.344Z"
   },
   {
    "duration": 15,
    "start_time": "2021-11-30T08:00:29.369Z"
   },
   {
    "duration": 13,
    "start_time": "2021-11-30T08:00:29.386Z"
   },
   {
    "duration": 537,
    "start_time": "2021-11-30T08:00:29.401Z"
   },
   {
    "duration": 641,
    "start_time": "2021-11-30T08:00:29.940Z"
   },
   {
    "duration": 1867,
    "start_time": "2021-11-30T20:42:20.117Z"
   },
   {
    "duration": 45,
    "start_time": "2021-11-30T20:42:21.986Z"
   },
   {
    "duration": 12,
    "start_time": "2021-11-30T20:42:22.033Z"
   },
   {
    "duration": 1742,
    "start_time": "2021-11-30T20:42:22.046Z"
   },
   {
    "duration": 8,
    "start_time": "2021-11-30T20:42:23.789Z"
   },
   {
    "duration": 11,
    "start_time": "2021-11-30T20:42:23.798Z"
   },
   {
    "duration": 14,
    "start_time": "2021-11-30T20:42:23.811Z"
   },
   {
    "duration": 5,
    "start_time": "2021-11-30T20:42:23.826Z"
   },
   {
    "duration": 17,
    "start_time": "2021-11-30T20:42:23.833Z"
   },
   {
    "duration": 4,
    "start_time": "2021-11-30T20:42:23.852Z"
   },
   {
    "duration": 12,
    "start_time": "2021-11-30T20:42:23.892Z"
   },
   {
    "duration": 19,
    "start_time": "2021-11-30T20:42:23.905Z"
   },
   {
    "duration": 162,
    "start_time": "2021-11-30T20:42:23.925Z"
   },
   {
    "duration": 12,
    "start_time": "2021-11-30T20:42:24.088Z"
   },
   {
    "duration": 145,
    "start_time": "2021-11-30T20:42:24.102Z"
   },
   {
    "duration": 10,
    "start_time": "2021-11-30T20:42:24.249Z"
   },
   {
    "duration": 650,
    "start_time": "2021-11-30T20:42:24.261Z"
   },
   {
    "duration": 10,
    "start_time": "2021-11-30T20:42:24.913Z"
   },
   {
    "duration": 219,
    "start_time": "2021-11-30T20:42:24.925Z"
   },
   {
    "duration": 12,
    "start_time": "2021-11-30T20:42:25.146Z"
   },
   {
    "duration": 143,
    "start_time": "2021-11-30T20:42:25.160Z"
   },
   {
    "duration": 420,
    "start_time": "2021-11-30T20:42:25.304Z"
   },
   {
    "duration": 15,
    "start_time": "2021-11-30T20:42:25.726Z"
   },
   {
    "duration": 294,
    "start_time": "2021-11-30T20:42:25.742Z"
   },
   {
    "duration": 67,
    "start_time": "2021-11-30T20:42:26.038Z"
   },
   {
    "duration": 11,
    "start_time": "2021-11-30T20:42:26.107Z"
   },
   {
    "duration": 19,
    "start_time": "2021-11-30T20:42:26.121Z"
   },
   {
    "duration": 68,
    "start_time": "2021-11-30T20:42:26.141Z"
   },
   {
    "duration": 10,
    "start_time": "2021-11-30T20:42:26.211Z"
   },
   {
    "duration": 22,
    "start_time": "2021-11-30T20:42:26.222Z"
   },
   {
    "duration": 291,
    "start_time": "2021-11-30T20:42:26.246Z"
   },
   {
    "duration": 14,
    "start_time": "2021-11-30T20:42:26.538Z"
   },
   {
    "duration": 20,
    "start_time": "2021-11-30T20:42:26.554Z"
   },
   {
    "duration": 18,
    "start_time": "2021-11-30T20:42:26.576Z"
   },
   {
    "duration": 535,
    "start_time": "2021-11-30T20:42:26.595Z"
   },
   {
    "duration": 654,
    "start_time": "2021-11-30T20:42:27.132Z"
   },
   {
    "duration": 225,
    "start_time": "2021-12-01T11:17:54.105Z"
   },
   {
    "duration": 1749,
    "start_time": "2021-12-01T11:17:56.752Z"
   },
   {
    "duration": 45,
    "start_time": "2021-12-01T11:17:58.504Z"
   },
   {
    "duration": 11,
    "start_time": "2021-12-01T11:17:58.551Z"
   },
   {
    "duration": 1607,
    "start_time": "2021-12-01T11:17:58.564Z"
   },
   {
    "duration": 8,
    "start_time": "2021-12-01T11:18:00.173Z"
   },
   {
    "duration": 37,
    "start_time": "2021-12-01T11:18:00.182Z"
   },
   {
    "duration": 56,
    "start_time": "2021-12-01T11:18:00.221Z"
   },
   {
    "duration": 11,
    "start_time": "2021-12-01T11:18:00.279Z"
   },
   {
    "duration": 43,
    "start_time": "2021-12-01T11:18:00.294Z"
   },
   {
    "duration": 16,
    "start_time": "2021-12-01T11:18:00.339Z"
   },
   {
    "duration": 26,
    "start_time": "2021-12-01T11:18:00.356Z"
   },
   {
    "duration": 43,
    "start_time": "2021-12-01T11:18:00.384Z"
   },
   {
    "duration": 31,
    "start_time": "2021-12-01T11:18:00.429Z"
   },
   {
    "duration": 167,
    "start_time": "2021-12-01T11:18:00.462Z"
   },
   {
    "duration": 14,
    "start_time": "2021-12-01T11:18:00.631Z"
   },
   {
    "duration": 160,
    "start_time": "2021-12-01T11:18:00.646Z"
   },
   {
    "duration": 15,
    "start_time": "2021-12-01T11:18:00.809Z"
   },
   {
    "duration": 653,
    "start_time": "2021-12-01T11:18:00.826Z"
   },
   {
    "duration": 14,
    "start_time": "2021-12-01T11:18:01.492Z"
   },
   {
    "duration": 240,
    "start_time": "2021-12-01T11:18:01.508Z"
   },
   {
    "duration": 12,
    "start_time": "2021-12-01T11:18:01.750Z"
   },
   {
    "duration": 147,
    "start_time": "2021-12-01T11:18:01.764Z"
   },
   {
    "duration": 416,
    "start_time": "2021-12-01T11:18:01.913Z"
   },
   {
    "duration": 15,
    "start_time": "2021-12-01T11:18:02.331Z"
   },
   {
    "duration": 283,
    "start_time": "2021-12-01T11:18:02.347Z"
   },
   {
    "duration": 67,
    "start_time": "2021-12-01T11:18:02.632Z"
   },
   {
    "duration": 10,
    "start_time": "2021-12-01T11:18:02.703Z"
   },
   {
    "duration": 32,
    "start_time": "2021-12-01T11:18:02.715Z"
   },
   {
    "duration": 43,
    "start_time": "2021-12-01T11:18:02.748Z"
   },
   {
    "duration": 15,
    "start_time": "2021-12-01T11:18:02.794Z"
   },
   {
    "duration": 23,
    "start_time": "2021-12-01T11:18:02.810Z"
   },
   {
    "duration": 287,
    "start_time": "2021-12-01T11:18:02.834Z"
   },
   {
    "duration": 13,
    "start_time": "2021-12-01T11:18:03.123Z"
   },
   {
    "duration": 31,
    "start_time": "2021-12-01T11:18:03.137Z"
   },
   {
    "duration": 19,
    "start_time": "2021-12-01T11:18:03.170Z"
   },
   {
    "duration": 548,
    "start_time": "2021-12-01T11:18:03.191Z"
   },
   {
    "duration": 672,
    "start_time": "2021-12-01T11:18:03.740Z"
   },
   {
    "duration": 10,
    "start_time": "2021-12-01T11:18:04.414Z"
   },
   {
    "duration": 16,
    "start_time": "2021-12-01T11:18:13.678Z"
   },
   {
    "duration": 19,
    "start_time": "2021-12-01T11:18:34.413Z"
   },
   {
    "duration": 14,
    "start_time": "2021-12-01T11:18:35.929Z"
   },
   {
    "duration": 354,
    "start_time": "2021-12-01T11:27:45.903Z"
   },
   {
    "duration": 16,
    "start_time": "2021-12-01T11:27:50.946Z"
   },
   {
    "duration": 6,
    "start_time": "2021-12-01T11:27:54.166Z"
   },
   {
    "duration": 54,
    "start_time": "2021-12-01T11:27:54.175Z"
   },
   {
    "duration": 9,
    "start_time": "2021-12-01T11:27:54.231Z"
   },
   {
    "duration": 1736,
    "start_time": "2021-12-01T11:27:54.242Z"
   },
   {
    "duration": 10,
    "start_time": "2021-12-01T11:27:55.981Z"
   },
   {
    "duration": 14,
    "start_time": "2021-12-01T11:27:55.993Z"
   },
   {
    "duration": 16,
    "start_time": "2021-12-01T11:27:56.010Z"
   },
   {
    "duration": 6,
    "start_time": "2021-12-01T11:27:56.027Z"
   },
   {
    "duration": 24,
    "start_time": "2021-12-01T11:27:56.035Z"
   },
   {
    "duration": 24,
    "start_time": "2021-12-01T11:27:56.069Z"
   },
   {
    "duration": 20,
    "start_time": "2021-12-01T11:27:56.096Z"
   },
   {
    "duration": 11,
    "start_time": "2021-12-01T11:27:56.118Z"
   },
   {
    "duration": 20,
    "start_time": "2021-12-01T11:27:56.131Z"
   },
   {
    "duration": 183,
    "start_time": "2021-12-01T11:27:56.153Z"
   },
   {
    "duration": 12,
    "start_time": "2021-12-01T11:27:56.337Z"
   },
   {
    "duration": 178,
    "start_time": "2021-12-01T11:27:56.351Z"
   },
   {
    "duration": 11,
    "start_time": "2021-12-01T11:27:56.531Z"
   },
   {
    "duration": 131,
    "start_time": "2021-12-01T11:27:56.544Z"
   },
   {
    "duration": 20,
    "start_time": "2021-12-01T11:27:56.676Z"
   },
   {
    "duration": 283,
    "start_time": "2021-12-01T11:27:56.699Z"
   },
   {
    "duration": 17,
    "start_time": "2021-12-01T11:27:56.984Z"
   },
   {
    "duration": 133,
    "start_time": "2021-12-01T11:27:57.003Z"
   },
   {
    "duration": 11,
    "start_time": "2021-12-01T11:27:57.138Z"
   },
   {
    "duration": 298,
    "start_time": "2021-12-01T11:27:57.150Z"
   },
   {
    "duration": 15,
    "start_time": "2021-12-01T11:27:57.450Z"
   },
   {
    "duration": 294,
    "start_time": "2021-12-01T11:27:57.466Z"
   },
   {
    "duration": 66,
    "start_time": "2021-12-01T11:27:57.763Z"
   },
   {
    "duration": 9,
    "start_time": "2021-12-01T11:27:57.831Z"
   },
   {
    "duration": 12,
    "start_time": "2021-12-01T11:27:57.841Z"
   },
   {
    "duration": 61,
    "start_time": "2021-12-01T11:27:57.855Z"
   },
   {
    "duration": 11,
    "start_time": "2021-12-01T11:27:57.917Z"
   },
   {
    "duration": 15,
    "start_time": "2021-12-01T11:27:57.929Z"
   },
   {
    "duration": 307,
    "start_time": "2021-12-01T11:27:57.946Z"
   },
   {
    "duration": 12,
    "start_time": "2021-12-01T11:27:58.255Z"
   },
   {
    "duration": 25,
    "start_time": "2021-12-01T11:27:58.269Z"
   },
   {
    "duration": 13,
    "start_time": "2021-12-01T11:27:58.297Z"
   },
   {
    "duration": 581,
    "start_time": "2021-12-01T11:27:58.312Z"
   },
   {
    "duration": 844,
    "start_time": "2021-12-01T11:27:58.895Z"
   },
   {
    "duration": 10,
    "start_time": "2021-12-01T11:30:52.542Z"
   },
   {
    "duration": 106,
    "start_time": "2021-12-01T11:31:35.540Z"
   },
   {
    "duration": 58,
    "start_time": "2021-12-01T11:31:38.790Z"
   },
   {
    "duration": 7,
    "start_time": "2021-12-01T11:31:45.151Z"
   },
   {
    "duration": 197,
    "start_time": "2021-12-01T11:31:49.043Z"
   },
   {
    "duration": 16,
    "start_time": "2021-12-01T11:31:52.099Z"
   },
   {
    "duration": 18,
    "start_time": "2021-12-01T11:32:08.044Z"
   },
   {
    "duration": 7,
    "start_time": "2021-12-01T11:32:15.521Z"
   },
   {
    "duration": 57,
    "start_time": "2021-12-01T11:32:15.531Z"
   },
   {
    "duration": 8,
    "start_time": "2021-12-01T11:32:15.590Z"
   },
   {
    "duration": 1119,
    "start_time": "2021-12-01T11:32:15.600Z"
   },
   {
    "duration": 9,
    "start_time": "2021-12-01T11:32:16.721Z"
   },
   {
    "duration": 10,
    "start_time": "2021-12-01T11:32:16.732Z"
   },
   {
    "duration": 17,
    "start_time": "2021-12-01T11:32:16.744Z"
   },
   {
    "duration": 5,
    "start_time": "2021-12-01T11:32:16.762Z"
   },
   {
    "duration": 29,
    "start_time": "2021-12-01T11:32:16.770Z"
   },
   {
    "duration": 4,
    "start_time": "2021-12-01T11:32:16.802Z"
   },
   {
    "duration": 15,
    "start_time": "2021-12-01T11:32:16.807Z"
   },
   {
    "duration": 11,
    "start_time": "2021-12-01T11:32:16.824Z"
   },
   {
    "duration": 19,
    "start_time": "2021-12-01T11:32:16.837Z"
   },
   {
    "duration": 269,
    "start_time": "2021-12-01T11:32:16.858Z"
   },
   {
    "duration": 64,
    "start_time": "2021-12-01T11:32:17.129Z"
   },
   {
    "duration": 224,
    "start_time": "2021-12-01T11:32:17.195Z"
   },
   {
    "duration": 10,
    "start_time": "2021-12-01T11:32:17.421Z"
   },
   {
    "duration": 129,
    "start_time": "2021-12-01T11:32:17.433Z"
   },
   {
    "duration": 9,
    "start_time": "2021-12-01T11:32:17.564Z"
   },
   {
    "duration": 126,
    "start_time": "2021-12-01T11:32:17.575Z"
   },
   {
    "duration": 12,
    "start_time": "2021-12-01T11:32:17.702Z"
   },
   {
    "duration": 4699,
    "start_time": "2021-12-01T11:32:17.716Z"
   },
   {
    "duration": 503,
    "start_time": "2021-12-01T11:32:21.914Z"
   },
   {
    "duration": 502,
    "start_time": "2021-12-01T11:32:21.916Z"
   },
   {
    "duration": 502,
    "start_time": "2021-12-01T11:32:21.917Z"
   },
   {
    "duration": 502,
    "start_time": "2021-12-01T11:32:21.919Z"
   },
   {
    "duration": 501,
    "start_time": "2021-12-01T11:32:21.921Z"
   },
   {
    "duration": 500,
    "start_time": "2021-12-01T11:32:21.922Z"
   },
   {
    "duration": 499,
    "start_time": "2021-12-01T11:32:21.924Z"
   },
   {
    "duration": 499,
    "start_time": "2021-12-01T11:32:21.925Z"
   },
   {
    "duration": 499,
    "start_time": "2021-12-01T11:32:21.926Z"
   },
   {
    "duration": 498,
    "start_time": "2021-12-01T11:32:21.928Z"
   },
   {
    "duration": 498,
    "start_time": "2021-12-01T11:32:21.929Z"
   },
   {
    "duration": 497,
    "start_time": "2021-12-01T11:32:21.931Z"
   },
   {
    "duration": 497,
    "start_time": "2021-12-01T11:32:21.932Z"
   },
   {
    "duration": 493,
    "start_time": "2021-12-01T11:32:21.937Z"
   },
   {
    "duration": 492,
    "start_time": "2021-12-01T11:32:21.939Z"
   },
   {
    "duration": 493,
    "start_time": "2021-12-01T11:32:21.940Z"
   },
   {
    "duration": 492,
    "start_time": "2021-12-01T11:32:21.942Z"
   },
   {
    "duration": 116,
    "start_time": "2021-12-01T11:32:31.534Z"
   },
   {
    "duration": 10,
    "start_time": "2021-12-01T11:32:33.476Z"
   },
   {
    "duration": 11,
    "start_time": "2021-12-01T11:32:33.816Z"
   },
   {
    "duration": 10,
    "start_time": "2021-12-01T11:32:39.031Z"
   },
   {
    "duration": 5,
    "start_time": "2021-12-01T11:32:40.920Z"
   },
   {
    "duration": 62,
    "start_time": "2021-12-01T11:32:40.927Z"
   },
   {
    "duration": 8,
    "start_time": "2021-12-01T11:32:40.992Z"
   },
   {
    "duration": 958,
    "start_time": "2021-12-01T11:32:41.003Z"
   },
   {
    "duration": 8,
    "start_time": "2021-12-01T11:32:41.963Z"
   },
   {
    "duration": 22,
    "start_time": "2021-12-01T11:32:41.972Z"
   },
   {
    "duration": 20,
    "start_time": "2021-12-01T11:32:41.996Z"
   },
   {
    "duration": 4,
    "start_time": "2021-12-01T11:32:42.018Z"
   },
   {
    "duration": 18,
    "start_time": "2021-12-01T11:32:42.025Z"
   },
   {
    "duration": 4,
    "start_time": "2021-12-01T11:32:42.046Z"
   },
   {
    "duration": 13,
    "start_time": "2021-12-01T11:32:42.052Z"
   },
   {
    "duration": 33,
    "start_time": "2021-12-01T11:32:42.067Z"
   },
   {
    "duration": 19,
    "start_time": "2021-12-01T11:32:42.101Z"
   },
   {
    "duration": 216,
    "start_time": "2021-12-01T11:32:42.121Z"
   },
   {
    "duration": 62,
    "start_time": "2021-12-01T11:32:42.339Z"
   },
   {
    "duration": 244,
    "start_time": "2021-12-01T11:32:42.403Z"
   },
   {
    "duration": 45,
    "start_time": "2021-12-01T11:32:42.648Z"
   },
   {
    "duration": 266,
    "start_time": "2021-12-01T11:32:42.694Z"
   },
   {
    "duration": 10,
    "start_time": "2021-12-01T11:32:42.962Z"
   },
   {
    "duration": 131,
    "start_time": "2021-12-01T11:32:42.973Z"
   },
   {
    "duration": 13,
    "start_time": "2021-12-01T11:32:43.106Z"
   },
   {
    "duration": 128,
    "start_time": "2021-12-01T11:32:43.120Z"
   },
   {
    "duration": 10,
    "start_time": "2021-12-01T11:32:43.250Z"
   },
   {
    "duration": 9,
    "start_time": "2021-12-01T11:32:43.262Z"
   },
   {
    "duration": 402,
    "start_time": "2021-12-01T11:32:43.292Z"
   },
   {
    "duration": 18,
    "start_time": "2021-12-01T11:32:43.696Z"
   },
   {
    "duration": 279,
    "start_time": "2021-12-01T11:32:43.718Z"
   },
   {
    "duration": 55,
    "start_time": "2021-12-01T11:32:43.999Z"
   },
   {
    "duration": 10,
    "start_time": "2021-12-01T11:32:44.056Z"
   },
   {
    "duration": 28,
    "start_time": "2021-12-01T11:32:44.068Z"
   },
   {
    "duration": 49,
    "start_time": "2021-12-01T11:32:44.098Z"
   },
   {
    "duration": 12,
    "start_time": "2021-12-01T11:32:44.149Z"
   },
   {
    "duration": 31,
    "start_time": "2021-12-01T11:32:44.163Z"
   },
   {
    "duration": 297,
    "start_time": "2021-12-01T11:32:44.197Z"
   },
   {
    "duration": 13,
    "start_time": "2021-12-01T11:32:44.496Z"
   },
   {
    "duration": 13,
    "start_time": "2021-12-01T11:32:44.511Z"
   },
   {
    "duration": 16,
    "start_time": "2021-12-01T11:32:44.526Z"
   },
   {
    "duration": 531,
    "start_time": "2021-12-01T11:32:44.543Z"
   },
   {
    "duration": 625,
    "start_time": "2021-12-01T11:32:45.075Z"
   },
   {
    "duration": 502,
    "start_time": "2021-12-01T11:36:32.929Z"
   },
   {
    "duration": 13,
    "start_time": "2021-12-01T11:36:35.854Z"
   },
   {
    "duration": 9,
    "start_time": "2021-12-01T11:36:37.932Z"
   },
   {
    "duration": 69,
    "start_time": "2021-12-01T11:36:37.945Z"
   },
   {
    "duration": 9,
    "start_time": "2021-12-01T11:36:38.017Z"
   },
   {
    "duration": 1208,
    "start_time": "2021-12-01T11:36:38.028Z"
   },
   {
    "duration": 8,
    "start_time": "2021-12-01T11:36:39.238Z"
   },
   {
    "duration": 11,
    "start_time": "2021-12-01T11:36:39.249Z"
   },
   {
    "duration": 17,
    "start_time": "2021-12-01T11:36:39.262Z"
   },
   {
    "duration": 6,
    "start_time": "2021-12-01T11:36:39.282Z"
   },
   {
    "duration": 20,
    "start_time": "2021-12-01T11:36:39.293Z"
   },
   {
    "duration": 6,
    "start_time": "2021-12-01T11:36:39.316Z"
   },
   {
    "duration": 17,
    "start_time": "2021-12-01T11:36:39.324Z"
   },
   {
    "duration": 14,
    "start_time": "2021-12-01T11:36:39.343Z"
   },
   {
    "duration": 23,
    "start_time": "2021-12-01T11:36:39.392Z"
   },
   {
    "duration": 175,
    "start_time": "2021-12-01T11:36:39.416Z"
   },
   {
    "duration": 19,
    "start_time": "2021-12-01T11:36:39.594Z"
   },
   {
    "duration": 169,
    "start_time": "2021-12-01T11:36:39.615Z"
   },
   {
    "duration": 13,
    "start_time": "2021-12-01T11:36:39.791Z"
   },
   {
    "duration": 138,
    "start_time": "2021-12-01T11:36:39.807Z"
   },
   {
    "duration": 13,
    "start_time": "2021-12-01T11:36:39.948Z"
   },
   {
    "duration": 162,
    "start_time": "2021-12-01T11:36:39.963Z"
   },
   {
    "duration": 14,
    "start_time": "2021-12-01T11:36:40.127Z"
   },
   {
    "duration": 326,
    "start_time": "2021-12-01T11:36:40.143Z"
   },
   {
    "duration": 10,
    "start_time": "2021-12-01T11:36:40.471Z"
   },
   {
    "duration": 11,
    "start_time": "2021-12-01T11:36:40.492Z"
   },
   {
    "duration": 268,
    "start_time": "2021-12-01T11:36:40.505Z"
   },
   {
    "duration": 24,
    "start_time": "2021-12-01T11:36:40.774Z"
   },
   {
    "duration": 296,
    "start_time": "2021-12-01T11:36:40.801Z"
   },
   {
    "duration": 53,
    "start_time": "2021-12-01T11:36:41.099Z"
   },
   {
    "duration": 10,
    "start_time": "2021-12-01T11:36:41.153Z"
   },
   {
    "duration": 37,
    "start_time": "2021-12-01T11:36:41.165Z"
   },
   {
    "duration": 50,
    "start_time": "2021-12-01T11:36:41.204Z"
   },
   {
    "duration": 11,
    "start_time": "2021-12-01T11:36:41.256Z"
   },
   {
    "duration": 19,
    "start_time": "2021-12-01T11:36:41.269Z"
   },
   {
    "duration": 284,
    "start_time": "2021-12-01T11:36:41.290Z"
   },
   {
    "duration": 22,
    "start_time": "2021-12-01T11:36:41.575Z"
   },
   {
    "duration": 18,
    "start_time": "2021-12-01T11:36:41.599Z"
   },
   {
    "duration": 12,
    "start_time": "2021-12-01T11:36:41.619Z"
   },
   {
    "duration": 532,
    "start_time": "2021-12-01T11:36:41.632Z"
   },
   {
    "duration": 628,
    "start_time": "2021-12-01T11:36:42.166Z"
   },
   {
    "duration": 21,
    "start_time": "2021-12-01T11:37:29.398Z"
   },
   {
    "duration": 7,
    "start_time": "2021-12-01T11:37:32.938Z"
   },
   {
    "duration": 57,
    "start_time": "2021-12-01T11:37:32.947Z"
   },
   {
    "duration": 9,
    "start_time": "2021-12-01T11:37:33.006Z"
   },
   {
    "duration": 1167,
    "start_time": "2021-12-01T11:37:33.017Z"
   },
   {
    "duration": 11,
    "start_time": "2021-12-01T11:37:34.187Z"
   },
   {
    "duration": 14,
    "start_time": "2021-12-01T11:37:34.200Z"
   },
   {
    "duration": 20,
    "start_time": "2021-12-01T11:37:34.216Z"
   },
   {
    "duration": 5,
    "start_time": "2021-12-01T11:37:34.239Z"
   },
   {
    "duration": 52,
    "start_time": "2021-12-01T11:37:34.246Z"
   },
   {
    "duration": 6,
    "start_time": "2021-12-01T11:37:34.299Z"
   },
   {
    "duration": 17,
    "start_time": "2021-12-01T11:37:34.307Z"
   },
   {
    "duration": 16,
    "start_time": "2021-12-01T11:37:34.326Z"
   },
   {
    "duration": 55,
    "start_time": "2021-12-01T11:37:34.344Z"
   },
   {
    "duration": 153,
    "start_time": "2021-12-01T11:37:34.400Z"
   },
   {
    "duration": 12,
    "start_time": "2021-12-01T11:37:34.555Z"
   },
   {
    "duration": 159,
    "start_time": "2021-12-01T11:37:34.569Z"
   },
   {
    "duration": 11,
    "start_time": "2021-12-01T11:37:34.729Z"
   },
   {
    "duration": 299,
    "start_time": "2021-12-01T11:37:34.742Z"
   },
   {
    "duration": 11,
    "start_time": "2021-12-01T11:37:35.042Z"
   },
   {
    "duration": 144,
    "start_time": "2021-12-01T11:37:35.054Z"
   },
   {
    "duration": 13,
    "start_time": "2021-12-01T11:37:35.200Z"
   },
   {
    "duration": 131,
    "start_time": "2021-12-01T11:37:35.214Z"
   },
   {
    "duration": 15,
    "start_time": "2021-12-01T11:37:35.348Z"
   },
   {
    "duration": 421,
    "start_time": "2021-12-01T11:37:35.365Z"
   },
   {
    "duration": 14,
    "start_time": "2021-12-01T11:37:35.791Z"
   },
   {
    "duration": 271,
    "start_time": "2021-12-01T11:37:35.807Z"
   },
   {
    "duration": 59,
    "start_time": "2021-12-01T11:37:36.080Z"
   },
   {
    "duration": 9,
    "start_time": "2021-12-01T11:37:36.141Z"
   },
   {
    "duration": 9,
    "start_time": "2021-12-01T11:37:36.152Z"
   },
   {
    "duration": 55,
    "start_time": "2021-12-01T11:37:36.162Z"
   },
   {
    "duration": 11,
    "start_time": "2021-12-01T11:37:36.219Z"
   },
   {
    "duration": 15,
    "start_time": "2021-12-01T11:37:36.231Z"
   },
   {
    "duration": 294,
    "start_time": "2021-12-01T11:37:36.247Z"
   },
   {
    "duration": 12,
    "start_time": "2021-12-01T11:37:36.543Z"
   },
   {
    "duration": 26,
    "start_time": "2021-12-01T11:37:36.556Z"
   },
   {
    "duration": 13,
    "start_time": "2021-12-01T11:37:36.584Z"
   },
   {
    "duration": 527,
    "start_time": "2021-12-01T11:37:36.599Z"
   },
   {
    "duration": 635,
    "start_time": "2021-12-01T11:37:37.128Z"
   },
   {
    "duration": 15,
    "start_time": "2021-12-01T11:38:58.242Z"
   },
   {
    "duration": 114,
    "start_time": "2021-12-01T11:38:59.048Z"
   },
   {
    "duration": 127,
    "start_time": "2021-12-01T11:39:17.769Z"
   },
   {
    "duration": 144,
    "start_time": "2021-12-01T11:40:25.853Z"
   },
   {
    "duration": 328,
    "start_time": "2021-12-01T11:40:30.135Z"
   },
   {
    "duration": 114,
    "start_time": "2021-12-01T11:40:44.300Z"
   },
   {
    "duration": 116,
    "start_time": "2021-12-01T11:40:48.421Z"
   },
   {
    "duration": 108,
    "start_time": "2021-12-01T11:40:52.115Z"
   },
   {
    "duration": 22,
    "start_time": "2021-12-01T11:42:04.350Z"
   },
   {
    "duration": 22,
    "start_time": "2021-12-01T11:42:13.271Z"
   },
   {
    "duration": 279,
    "start_time": "2021-12-01T11:42:14.666Z"
   },
   {
    "duration": 184,
    "start_time": "2021-12-01T11:50:14.383Z"
   },
   {
    "duration": 192,
    "start_time": "2021-12-01T11:50:20.199Z"
   },
   {
    "duration": 6,
    "start_time": "2021-12-01T11:50:28.391Z"
   },
   {
    "duration": 53,
    "start_time": "2021-12-01T11:50:28.399Z"
   },
   {
    "duration": 39,
    "start_time": "2021-12-01T11:50:28.454Z"
   },
   {
    "duration": 1601,
    "start_time": "2021-12-01T11:50:28.495Z"
   },
   {
    "duration": 10,
    "start_time": "2021-12-01T11:50:30.097Z"
   },
   {
    "duration": 12,
    "start_time": "2021-12-01T11:50:30.109Z"
   },
   {
    "duration": 14,
    "start_time": "2021-12-01T11:50:30.123Z"
   },
   {
    "duration": 5,
    "start_time": "2021-12-01T11:50:30.139Z"
   },
   {
    "duration": 57,
    "start_time": "2021-12-01T11:50:30.146Z"
   },
   {
    "duration": 5,
    "start_time": "2021-12-01T11:50:30.205Z"
   },
   {
    "duration": 15,
    "start_time": "2021-12-01T11:50:30.212Z"
   },
   {
    "duration": 13,
    "start_time": "2021-12-01T11:50:30.229Z"
   },
   {
    "duration": 57,
    "start_time": "2021-12-01T11:50:30.244Z"
   },
   {
    "duration": 190,
    "start_time": "2021-12-01T11:50:30.302Z"
   },
   {
    "duration": 13,
    "start_time": "2021-12-01T11:50:30.494Z"
   },
   {
    "duration": 157,
    "start_time": "2021-12-01T11:50:30.509Z"
   },
   {
    "duration": 11,
    "start_time": "2021-12-01T11:50:30.667Z"
   },
   {
    "duration": 114,
    "start_time": "2021-12-01T11:50:30.679Z"
   },
   {
    "duration": 10,
    "start_time": "2021-12-01T11:50:30.795Z"
   },
   {
    "duration": 119,
    "start_time": "2021-12-01T11:50:30.807Z"
   },
   {
    "duration": 13,
    "start_time": "2021-12-01T11:50:30.928Z"
   },
   {
    "duration": 122,
    "start_time": "2021-12-01T11:50:30.943Z"
   },
   {
    "duration": 16,
    "start_time": "2021-12-01T11:50:31.068Z"
   },
   {
    "duration": 121,
    "start_time": "2021-12-01T11:50:31.086Z"
   },
   {
    "duration": 532,
    "start_time": "2021-12-01T11:50:31.209Z"
   },
   {
    "duration": 190,
    "start_time": "2021-12-01T11:50:31.743Z"
   },
   {
    "duration": 280,
    "start_time": "2021-12-01T11:50:31.655Z"
   },
   {
    "duration": 280,
    "start_time": "2021-12-01T11:50:31.656Z"
   },
   {
    "duration": 279,
    "start_time": "2021-12-01T11:50:31.658Z"
   },
   {
    "duration": 268,
    "start_time": "2021-12-01T11:50:31.670Z"
   },
   {
    "duration": 267,
    "start_time": "2021-12-01T11:50:31.672Z"
   },
   {
    "duration": 267,
    "start_time": "2021-12-01T11:50:31.673Z"
   },
   {
    "duration": 267,
    "start_time": "2021-12-01T11:50:31.674Z"
   },
   {
    "duration": 266,
    "start_time": "2021-12-01T11:50:31.676Z"
   },
   {
    "duration": 265,
    "start_time": "2021-12-01T11:50:31.678Z"
   },
   {
    "duration": 265,
    "start_time": "2021-12-01T11:50:31.679Z"
   },
   {
    "duration": 266,
    "start_time": "2021-12-01T11:50:31.680Z"
   },
   {
    "duration": 257,
    "start_time": "2021-12-01T11:50:31.689Z"
   },
   {
    "duration": 257,
    "start_time": "2021-12-01T11:50:31.690Z"
   },
   {
    "duration": 256,
    "start_time": "2021-12-01T11:50:31.692Z"
   },
   {
    "duration": 185,
    "start_time": "2021-12-01T11:51:05.775Z"
   },
   {
    "duration": 10,
    "start_time": "2021-12-01T11:51:14.914Z"
   },
   {
    "duration": 13,
    "start_time": "2021-12-01T11:51:25.165Z"
   },
   {
    "duration": 6,
    "start_time": "2021-12-01T11:53:20.603Z"
   },
   {
    "duration": 52,
    "start_time": "2021-12-01T11:53:20.611Z"
   },
   {
    "duration": 9,
    "start_time": "2021-12-01T11:53:20.665Z"
   },
   {
    "duration": 1091,
    "start_time": "2021-12-01T11:53:20.676Z"
   },
   {
    "duration": 28,
    "start_time": "2021-12-01T11:53:21.769Z"
   },
   {
    "duration": 13,
    "start_time": "2021-12-01T11:53:21.799Z"
   },
   {
    "duration": 14,
    "start_time": "2021-12-01T11:53:21.814Z"
   },
   {
    "duration": 4,
    "start_time": "2021-12-01T11:53:21.830Z"
   },
   {
    "duration": 67,
    "start_time": "2021-12-01T11:53:21.836Z"
   },
   {
    "duration": 4,
    "start_time": "2021-12-01T11:53:21.905Z"
   },
   {
    "duration": 14,
    "start_time": "2021-12-01T11:53:21.911Z"
   },
   {
    "duration": 69,
    "start_time": "2021-12-01T11:53:21.926Z"
   },
   {
    "duration": 20,
    "start_time": "2021-12-01T11:53:21.997Z"
   },
   {
    "duration": 252,
    "start_time": "2021-12-01T11:53:22.018Z"
   },
   {
    "duration": 24,
    "start_time": "2021-12-01T11:53:22.272Z"
   },
   {
    "duration": 150,
    "start_time": "2021-12-01T11:53:22.298Z"
   },
   {
    "duration": 11,
    "start_time": "2021-12-01T11:53:22.450Z"
   },
   {
    "duration": 131,
    "start_time": "2021-12-01T11:53:22.463Z"
   },
   {
    "duration": 12,
    "start_time": "2021-12-01T11:53:22.596Z"
   },
   {
    "duration": 150,
    "start_time": "2021-12-01T11:53:22.610Z"
   },
   {
    "duration": 30,
    "start_time": "2021-12-01T11:53:22.762Z"
   },
   {
    "duration": 269,
    "start_time": "2021-12-01T11:53:22.794Z"
   },
   {
    "duration": 30,
    "start_time": "2021-12-01T11:53:23.066Z"
   },
   {
    "duration": 186,
    "start_time": "2021-12-01T11:53:23.098Z"
   },
   {
    "duration": 316,
    "start_time": "2021-12-01T11:53:23.286Z"
   },
   {
    "duration": 14,
    "start_time": "2021-12-01T11:53:23.604Z"
   },
   {
    "duration": 22,
    "start_time": "2021-12-01T11:53:23.620Z"
   },
   {
    "duration": 302,
    "start_time": "2021-12-01T11:53:23.644Z"
   },
   {
    "duration": 211,
    "start_time": "2021-12-01T11:53:23.948Z"
   },
   {
    "duration": 9,
    "start_time": "2021-12-01T11:53:24.160Z"
   },
   {
    "duration": 27,
    "start_time": "2021-12-01T11:53:24.171Z"
   },
   {
    "duration": 35,
    "start_time": "2021-12-01T11:53:24.200Z"
   },
   {
    "duration": 11,
    "start_time": "2021-12-01T11:53:24.236Z"
   },
   {
    "duration": 48,
    "start_time": "2021-12-01T11:53:24.249Z"
   },
   {
    "duration": 289,
    "start_time": "2021-12-01T11:53:24.299Z"
   },
   {
    "duration": 13,
    "start_time": "2021-12-01T11:53:24.590Z"
   },
   {
    "duration": 12,
    "start_time": "2021-12-01T11:53:24.605Z"
   },
   {
    "duration": 10,
    "start_time": "2021-12-01T11:53:24.619Z"
   },
   {
    "duration": 565,
    "start_time": "2021-12-01T11:53:24.630Z"
   },
   {
    "duration": 652,
    "start_time": "2021-12-01T11:53:25.197Z"
   },
   {
    "duration": 262,
    "start_time": "2021-12-01T11:55:37.780Z"
   },
   {
    "duration": 251,
    "start_time": "2021-12-01T11:55:42.736Z"
   },
   {
    "duration": 242,
    "start_time": "2021-12-01T11:55:58.708Z"
   },
   {
    "duration": 240,
    "start_time": "2021-12-01T11:58:39.260Z"
   },
   {
    "duration": 12,
    "start_time": "2021-12-01T11:58:44.134Z"
   },
   {
    "duration": 248,
    "start_time": "2021-12-01T11:58:56.712Z"
   },
   {
    "duration": 299,
    "start_time": "2021-12-01T11:59:24.150Z"
   },
   {
    "duration": 254,
    "start_time": "2021-12-01T11:59:37.456Z"
   },
   {
    "duration": 258,
    "start_time": "2021-12-01T12:01:01.478Z"
   },
   {
    "duration": 294,
    "start_time": "2021-12-01T12:16:34.360Z"
   },
   {
    "duration": 460,
    "start_time": "2021-12-01T12:17:49.919Z"
   },
   {
    "duration": 318,
    "start_time": "2021-12-01T12:17:54.990Z"
   },
   {
    "duration": 109,
    "start_time": "2021-12-01T12:18:06.504Z"
   },
   {
    "duration": 111,
    "start_time": "2021-12-01T12:20:54.324Z"
   },
   {
    "duration": 437,
    "start_time": "2021-12-01T12:21:37.107Z"
   },
   {
    "duration": 427,
    "start_time": "2021-12-01T12:22:22.912Z"
   },
   {
    "duration": 245,
    "start_time": "2021-12-01T12:23:13.025Z"
   },
   {
    "duration": 1911,
    "start_time": "2021-12-04T10:57:39.648Z"
   },
   {
    "duration": 49,
    "start_time": "2021-12-04T10:57:41.561Z"
   },
   {
    "duration": 12,
    "start_time": "2021-12-04T10:57:41.612Z"
   },
   {
    "duration": 994,
    "start_time": "2021-12-04T10:57:41.627Z"
   },
   {
    "duration": 9,
    "start_time": "2021-12-04T10:57:42.623Z"
   },
   {
    "duration": 11,
    "start_time": "2021-12-04T10:57:42.634Z"
   },
   {
    "duration": 17,
    "start_time": "2021-12-04T10:57:42.648Z"
   },
   {
    "duration": 6,
    "start_time": "2021-12-04T10:57:42.668Z"
   },
   {
    "duration": 21,
    "start_time": "2021-12-04T10:57:42.705Z"
   },
   {
    "duration": 6,
    "start_time": "2021-12-04T10:57:42.728Z"
   },
   {
    "duration": 15,
    "start_time": "2021-12-04T10:57:42.736Z"
   },
   {
    "duration": 12,
    "start_time": "2021-12-04T10:57:42.753Z"
   },
   {
    "duration": 57,
    "start_time": "2021-12-04T10:57:42.766Z"
   },
   {
    "duration": 152,
    "start_time": "2021-12-04T10:57:42.825Z"
   },
   {
    "duration": 12,
    "start_time": "2021-12-04T10:57:42.979Z"
   },
   {
    "duration": 148,
    "start_time": "2021-12-04T10:57:42.992Z"
   },
   {
    "duration": 11,
    "start_time": "2021-12-04T10:57:43.143Z"
   },
   {
    "duration": 632,
    "start_time": "2021-12-04T10:57:43.155Z"
   },
   {
    "duration": 26,
    "start_time": "2021-12-04T10:57:43.788Z"
   },
   {
    "duration": 241,
    "start_time": "2021-12-04T10:57:43.816Z"
   },
   {
    "duration": 19,
    "start_time": "2021-12-04T10:57:44.059Z"
   },
   {
    "duration": 226,
    "start_time": "2021-12-04T10:57:44.080Z"
   },
   {
    "duration": 24,
    "start_time": "2021-12-04T10:57:44.311Z"
   },
   {
    "duration": 137,
    "start_time": "2021-12-04T10:57:44.338Z"
   },
   {
    "duration": 400,
    "start_time": "2021-12-04T10:57:44.476Z"
   },
   {
    "duration": 14,
    "start_time": "2021-12-04T10:57:44.877Z"
   },
   {
    "duration": 16,
    "start_time": "2021-12-04T10:57:44.907Z"
   },
   {
    "duration": 271,
    "start_time": "2021-12-04T10:57:44.925Z"
   },
   {
    "duration": 55,
    "start_time": "2021-12-04T10:57:45.206Z"
   },
   {
    "duration": 9,
    "start_time": "2021-12-04T10:57:45.263Z"
   },
   {
    "duration": 9,
    "start_time": "2021-12-04T10:57:45.274Z"
   },
   {
    "duration": 57,
    "start_time": "2021-12-04T10:57:45.284Z"
   },
   {
    "duration": 11,
    "start_time": "2021-12-04T10:57:45.343Z"
   },
   {
    "duration": 14,
    "start_time": "2021-12-04T10:57:45.356Z"
   },
   {
    "duration": 787,
    "start_time": "2021-12-04T10:57:45.372Z"
   },
   {
    "duration": 13,
    "start_time": "2021-12-04T10:57:46.161Z"
   },
   {
    "duration": 13,
    "start_time": "2021-12-04T10:57:46.177Z"
   },
   {
    "duration": 11,
    "start_time": "2021-12-04T10:57:46.192Z"
   },
   {
    "duration": 525,
    "start_time": "2021-12-04T10:57:46.205Z"
   },
   {
    "duration": 613,
    "start_time": "2021-12-04T10:57:46.731Z"
   },
   {
    "duration": 423,
    "start_time": "2021-12-04T10:57:52.591Z"
   },
   {
    "duration": 3312,
    "start_time": "2021-12-04T10:57:56.877Z"
   },
   {
    "duration": 642,
    "start_time": "2021-12-04T10:58:14.347Z"
   },
   {
    "duration": 991,
    "start_time": "2021-12-04T10:58:35.482Z"
   },
   {
    "duration": 819,
    "start_time": "2021-12-04T11:00:06.583Z"
   },
   {
    "duration": 588,
    "start_time": "2021-12-04T11:01:39.470Z"
   },
   {
    "duration": 406,
    "start_time": "2021-12-04T11:01:43.538Z"
   },
   {
    "duration": 115,
    "start_time": "2021-12-04T11:03:57.107Z"
   },
   {
    "duration": 248,
    "start_time": "2021-12-04T11:04:26.258Z"
   },
   {
    "duration": 396,
    "start_time": "2021-12-04T11:04:33.342Z"
   },
   {
    "duration": 252,
    "start_time": "2021-12-04T11:04:41.899Z"
   },
   {
    "duration": 400,
    "start_time": "2021-12-04T11:04:46.068Z"
   },
   {
    "duration": 310,
    "start_time": "2021-12-04T11:04:51.321Z"
   },
   {
    "duration": 113,
    "start_time": "2021-12-04T11:05:21.710Z"
   },
   {
    "duration": 281,
    "start_time": "2021-12-04T11:05:39.090Z"
   },
   {
    "duration": 118,
    "start_time": "2021-12-04T11:06:01.941Z"
   },
   {
    "duration": 117,
    "start_time": "2021-12-04T11:06:12.994Z"
   },
   {
    "duration": 405,
    "start_time": "2021-12-04T11:11:48.847Z"
   },
   {
    "duration": 243,
    "start_time": "2021-12-04T11:13:37.852Z"
   },
   {
    "duration": 1467,
    "start_time": "2022-06-10T09:10:28.390Z"
   },
   {
    "duration": 121,
    "start_time": "2022-06-10T09:10:29.859Z"
   },
   {
    "duration": 12,
    "start_time": "2022-06-10T09:10:29.981Z"
   },
   {
    "duration": 1190,
    "start_time": "2022-06-10T09:10:29.997Z"
   },
   {
    "duration": 18,
    "start_time": "2022-06-10T09:10:31.189Z"
   },
   {
    "duration": 24,
    "start_time": "2022-06-10T09:10:31.210Z"
   },
   {
    "duration": 13,
    "start_time": "2022-06-10T09:10:31.236Z"
   },
   {
    "duration": 4,
    "start_time": "2022-06-10T09:10:31.250Z"
   },
   {
    "duration": 22,
    "start_time": "2022-06-10T09:10:31.255Z"
   },
   {
    "duration": 5,
    "start_time": "2022-06-10T09:10:31.279Z"
   },
   {
    "duration": 19,
    "start_time": "2022-06-10T09:10:31.305Z"
   },
   {
    "duration": 14,
    "start_time": "2022-06-10T09:10:31.325Z"
   },
   {
    "duration": 23,
    "start_time": "2022-06-10T09:10:31.341Z"
   },
   {
    "duration": 129,
    "start_time": "2022-06-10T09:10:31.367Z"
   },
   {
    "duration": 18,
    "start_time": "2022-06-10T09:10:31.499Z"
   },
   {
    "duration": 113,
    "start_time": "2022-06-10T09:10:31.520Z"
   },
   {
    "duration": 8,
    "start_time": "2022-06-10T09:10:31.635Z"
   },
   {
    "duration": 177,
    "start_time": "2022-06-10T09:10:31.645Z"
   },
   {
    "duration": 13,
    "start_time": "2022-06-10T09:10:31.824Z"
   },
   {
    "duration": 16,
    "start_time": "2022-06-10T09:10:31.839Z"
   },
   {
    "duration": 64,
    "start_time": "2022-06-10T09:10:31.857Z"
   },
   {
    "duration": 28,
    "start_time": "2022-06-10T09:10:31.924Z"
   },
   {
    "duration": 71,
    "start_time": "2022-06-10T09:10:31.954Z"
   },
   {
    "duration": 17,
    "start_time": "2022-06-10T09:10:32.027Z"
   },
   {
    "duration": 337,
    "start_time": "2022-06-10T09:10:32.045Z"
   },
   {
    "duration": 22,
    "start_time": "2022-06-10T09:10:32.384Z"
   },
   {
    "duration": 29,
    "start_time": "2022-06-10T09:10:32.408Z"
   },
   {
    "duration": 377,
    "start_time": "2022-06-10T09:10:32.439Z"
   },
   {
    "duration": 54,
    "start_time": "2022-06-10T09:10:32.818Z"
   },
   {
    "duration": 9,
    "start_time": "2022-06-10T09:10:32.873Z"
   },
   {
    "duration": 16,
    "start_time": "2022-06-10T09:10:32.894Z"
   },
   {
    "duration": 40,
    "start_time": "2022-06-10T09:10:32.911Z"
   },
   {
    "duration": 9,
    "start_time": "2022-06-10T09:10:32.953Z"
   },
   {
    "duration": 34,
    "start_time": "2022-06-10T09:10:32.964Z"
   },
   {
    "duration": 391,
    "start_time": "2022-06-10T09:10:33.001Z"
   },
   {
    "duration": 16,
    "start_time": "2022-06-10T09:10:33.394Z"
   },
   {
    "duration": 21,
    "start_time": "2022-06-10T09:10:33.412Z"
   },
   {
    "duration": 11,
    "start_time": "2022-06-10T09:10:33.435Z"
   },
   {
    "duration": 415,
    "start_time": "2022-06-10T09:10:33.447Z"
   },
   {
    "duration": 513,
    "start_time": "2022-06-10T09:10:33.864Z"
   }
  ],
  "kernelspec": {
   "display_name": "Python 3",
   "language": "python",
   "name": "python3"
  },
  "language_info": {
   "codemirror_mode": {
    "name": "ipython",
    "version": 3
   },
   "file_extension": ".py",
   "mimetype": "text/x-python",
   "name": "python",
   "nbconvert_exporter": "python",
   "pygments_lexer": "ipython3",
   "version": "3.8.8"
  },
  "toc": {
   "base_numbering": 1,
   "nav_menu": {
    "height": "268px",
    "width": "264px"
   },
   "number_sections": true,
   "sideBar": true,
   "skip_h1_title": true,
   "title_cell": "Table of Contents",
   "title_sidebar": "Contents",
   "toc_cell": false,
   "toc_position": {
    "height": "calc(100% - 180px)",
    "left": "10px",
    "top": "150px",
    "width": "292.375px"
   },
   "toc_section_display": true,
   "toc_window_display": true
  }
 },
 "nbformat": 4,
 "nbformat_minor": 2
}
