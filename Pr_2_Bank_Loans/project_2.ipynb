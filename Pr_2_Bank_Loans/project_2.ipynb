{
 "cells": [
  {
   "cell_type": "markdown",
   "metadata": {},
   "source": [
    "# Исследование надёжности заёмщиков\n",
    "\n",
    "Заказчик — кредитный отдел банка. Нужно разобраться, влияет ли семейное положение и количество детей клиента на факт погашения кредита в срок. Входные данные от банка — статистика о платёжеспособности клиентов.\n",
    "\n",
    "Результаты исследования будут учтены при построении модели **кредитного скоринга** — специальной системы, которая оценивает способность потенциального заёмщика вернуть кредит банку."
   ]
  },
  {
   "cell_type": "markdown",
   "metadata": {},
   "source": [
    "**Последовательность выполнения шагов**\n",
    "* Загрузка файлов, их изучение и подготовка к дальнейшему анализу\n",
    "* Предобработка данных (обработка пропусков, дубликатов, аномалий)\n",
    "* Разделение клиентов по их уровню дохода\n",
    "* Выделение основных целей кредитов с помощью лемматизации\n",
    "* Ответы на вопросы исследования:\n",
    "    1. Есть ли зависимость между количеством детей и возвратом кредита в срок?\n",
    "    2. Есть ли зависимость между семейным положением и возвратом кредита в срок?\n",
    "    3. Есть ли зависимость между уровнем дохода и возвратом кредита в срок?\n",
    "    4. Как разные цели кредита влияют на его возврат в срок?\n",
    "* Выводы по исследованию"
   ]
  },
  {
   "cell_type": "markdown",
   "metadata": {},
   "source": [
    "## Загрузка и обзор файлов из данных"
   ]
  },
  {
   "cell_type": "code",
   "execution_count": 2,
   "metadata": {
    "scrolled": true
   },
   "outputs": [
    {
     "data": {
      "text/html": [
       "<div>\n",
       "<style scoped>\n",
       "    .dataframe tbody tr th:only-of-type {\n",
       "        vertical-align: middle;\n",
       "    }\n",
       "\n",
       "    .dataframe tbody tr th {\n",
       "        vertical-align: top;\n",
       "    }\n",
       "\n",
       "    .dataframe thead th {\n",
       "        text-align: right;\n",
       "    }\n",
       "</style>\n",
       "<table border=\"1\" class=\"dataframe\">\n",
       "  <thead>\n",
       "    <tr style=\"text-align: right;\">\n",
       "      <th></th>\n",
       "      <th>children</th>\n",
       "      <th>days_employed</th>\n",
       "      <th>dob_years</th>\n",
       "      <th>education</th>\n",
       "      <th>education_id</th>\n",
       "      <th>family_status</th>\n",
       "      <th>family_status_id</th>\n",
       "      <th>gender</th>\n",
       "      <th>income_type</th>\n",
       "      <th>debt</th>\n",
       "      <th>total_income</th>\n",
       "      <th>purpose</th>\n",
       "    </tr>\n",
       "  </thead>\n",
       "  <tbody>\n",
       "    <tr>\n",
       "      <td>0</td>\n",
       "      <td>1</td>\n",
       "      <td>-8437.673028</td>\n",
       "      <td>42</td>\n",
       "      <td>высшее</td>\n",
       "      <td>0</td>\n",
       "      <td>женат / замужем</td>\n",
       "      <td>0</td>\n",
       "      <td>F</td>\n",
       "      <td>сотрудник</td>\n",
       "      <td>0</td>\n",
       "      <td>253875.639453</td>\n",
       "      <td>покупка жилья</td>\n",
       "    </tr>\n",
       "    <tr>\n",
       "      <td>1</td>\n",
       "      <td>1</td>\n",
       "      <td>-4024.803754</td>\n",
       "      <td>36</td>\n",
       "      <td>среднее</td>\n",
       "      <td>1</td>\n",
       "      <td>женат / замужем</td>\n",
       "      <td>0</td>\n",
       "      <td>F</td>\n",
       "      <td>сотрудник</td>\n",
       "      <td>0</td>\n",
       "      <td>112080.014102</td>\n",
       "      <td>приобретение автомобиля</td>\n",
       "    </tr>\n",
       "    <tr>\n",
       "      <td>2</td>\n",
       "      <td>0</td>\n",
       "      <td>-5623.422610</td>\n",
       "      <td>33</td>\n",
       "      <td>Среднее</td>\n",
       "      <td>1</td>\n",
       "      <td>женат / замужем</td>\n",
       "      <td>0</td>\n",
       "      <td>M</td>\n",
       "      <td>сотрудник</td>\n",
       "      <td>0</td>\n",
       "      <td>145885.952297</td>\n",
       "      <td>покупка жилья</td>\n",
       "    </tr>\n",
       "    <tr>\n",
       "      <td>3</td>\n",
       "      <td>3</td>\n",
       "      <td>-4124.747207</td>\n",
       "      <td>32</td>\n",
       "      <td>среднее</td>\n",
       "      <td>1</td>\n",
       "      <td>женат / замужем</td>\n",
       "      <td>0</td>\n",
       "      <td>M</td>\n",
       "      <td>сотрудник</td>\n",
       "      <td>0</td>\n",
       "      <td>267628.550329</td>\n",
       "      <td>дополнительное образование</td>\n",
       "    </tr>\n",
       "    <tr>\n",
       "      <td>4</td>\n",
       "      <td>0</td>\n",
       "      <td>340266.072047</td>\n",
       "      <td>53</td>\n",
       "      <td>среднее</td>\n",
       "      <td>1</td>\n",
       "      <td>гражданский брак</td>\n",
       "      <td>1</td>\n",
       "      <td>F</td>\n",
       "      <td>пенсионер</td>\n",
       "      <td>0</td>\n",
       "      <td>158616.077870</td>\n",
       "      <td>сыграть свадьбу</td>\n",
       "    </tr>\n",
       "  </tbody>\n",
       "</table>\n",
       "</div>"
      ],
      "text/plain": [
       "   children  days_employed  dob_years education  education_id  \\\n",
       "0         1   -8437.673028         42    высшее             0   \n",
       "1         1   -4024.803754         36   среднее             1   \n",
       "2         0   -5623.422610         33   Среднее             1   \n",
       "3         3   -4124.747207         32   среднее             1   \n",
       "4         0  340266.072047         53   среднее             1   \n",
       "\n",
       "      family_status  family_status_id gender income_type  debt   total_income  \\\n",
       "0   женат / замужем                 0      F   сотрудник     0  253875.639453   \n",
       "1   женат / замужем                 0      F   сотрудник     0  112080.014102   \n",
       "2   женат / замужем                 0      M   сотрудник     0  145885.952297   \n",
       "3   женат / замужем                 0      M   сотрудник     0  267628.550329   \n",
       "4  гражданский брак                 1      F   пенсионер     0  158616.077870   \n",
       "\n",
       "                      purpose  \n",
       "0               покупка жилья  \n",
       "1     приобретение автомобиля  \n",
       "2               покупка жилья  \n",
       "3  дополнительное образование  \n",
       "4             сыграть свадьбу  "
      ]
     },
     "execution_count": 2,
     "metadata": {},
     "output_type": "execute_result"
    }
   ],
   "source": [
    "import pandas as pd \n",
    "import warnings\n",
    "warnings.filterwarnings('ignore')\n",
    "warnings.simplefilter('ignore')\n",
    " \n",
    "df = pd.read_csv('/datasets/data.csv') \n",
    "df.head(5) #посмотирм первые 5 строк датасета"
   ]
  },
  {
   "cell_type": "markdown",
   "metadata": {},
   "source": [
    "Сразу можем заметить, что имеются артефакты в столбце `days_employed` - значения трудового стажа не может быть отрицательным. \n",
    "\n",
    "Кроме того, видно наличие верхнего и нижнего регистра в столбце `education`. \n",
    "\n",
    "Пол заёмщиков указан на английском языке, что не соответствует общему стилю таблице на русском.\n",
    "\n",
    "В дальнейшем это исправим."
   ]
  },
  {
   "cell_type": "code",
   "execution_count": 4,
   "metadata": {
    "scrolled": false
   },
   "outputs": [
    {
     "name": "stdout",
     "output_type": "stream",
     "text": [
      "<class 'pandas.core.frame.DataFrame'>\n",
      "RangeIndex: 21525 entries, 0 to 21524\n",
      "Data columns (total 12 columns):\n",
      "children            21525 non-null int64\n",
      "days_employed       19351 non-null float64\n",
      "dob_years           21525 non-null int64\n",
      "education           21525 non-null object\n",
      "education_id        21525 non-null int64\n",
      "family_status       21525 non-null object\n",
      "family_status_id    21525 non-null int64\n",
      "gender              21525 non-null object\n",
      "income_type         21525 non-null object\n",
      "debt                21525 non-null int64\n",
      "total_income        19351 non-null float64\n",
      "purpose             21525 non-null object\n",
      "dtypes: float64(2), int64(5), object(5)\n",
      "memory usage: 2.0+ MB\n"
     ]
    }
   ],
   "source": [
    "df.info() #получаем общую информации о таблице"
   ]
  },
  {
   "cell_type": "code",
   "execution_count": 5,
   "metadata": {},
   "outputs": [
    {
     "data": {
      "text/plain": [
       "Index(['children', 'days_employed', 'dob_years', 'education', 'education_id',\n",
       "       'family_status', 'family_status_id', 'gender', 'income_type', 'debt',\n",
       "       'total_income', 'purpose'],\n",
       "      dtype='object')"
      ]
     },
     "execution_count": 5,
     "metadata": {},
     "output_type": "execute_result"
    }
   ],
   "source": [
    "df.columns #посмотрим названия колонок"
   ]
  },
  {
   "cell_type": "markdown",
   "metadata": {},
   "source": [
    "В таблице находятся 12 столбцов. \n",
    "\n",
    "Имеется 2 колонки типа `float64`, 5 колонок типа `int64` и 5 колонок типа `object`.\n",
    "\n",
    "Согласно документации к данным:\n",
    "* `children` — количество детей в семье\n",
    "* `days_employed` — общий трудовой стаж в днях\n",
    "* `dob_years` — возраст клиента в годах\n",
    "* `education` — уровень образования клиента\n",
    "* `education_id` — идентификатор уровня образования\n",
    "* `family_status` — семейное положение\n",
    "* `family_status_id` — идентификатор семейного положения\n",
    "* `gender` — пол клиента\n",
    "* `income_type` — тип занятости\n",
    "* `debt` — имел ли задолженность по возврату кредитов\n",
    "* `total_income` — ежемесячный доход\n",
    "* `purpose` — цель получения кредита\n"
   ]
  },
  {
   "cell_type": "markdown",
   "metadata": {},
   "source": [
    "**Вывод**\n",
    "\n",
    "Количество значений в столбцах различаются, что означает наличие пропусков в данных.\n",
    "\n",
    "Написание столбцов соответствуют регистру Snake case.\n",
    "\n",
    "Для дальнейшей работы с данными необходимо устранить проблемы в данных."
   ]
  },
  {
   "cell_type": "markdown",
   "metadata": {},
   "source": [
    "## Предобработка данных"
   ]
  },
  {
   "cell_type": "markdown",
   "metadata": {},
   "source": [
    "### Стиль заголовков"
   ]
  },
  {
   "cell_type": "markdown",
   "metadata": {},
   "source": [
    "Для удобства переименуем столбец `dob_years` на `deb_years`. Сокращение ведь от слова debtor, так будет правильней. "
   ]
  },
  {
   "cell_type": "code",
   "execution_count": 6,
   "metadata": {},
   "outputs": [
    {
     "data": {
      "text/plain": [
       "Index(['children', 'days_employed', 'deb_years', 'education', 'education_id',\n",
       "       'family_status', 'family_status_id', 'gender', 'income_type', 'debt',\n",
       "       'total_income', 'purpose'],\n",
       "      dtype='object')"
      ]
     },
     "execution_count": 6,
     "metadata": {},
     "output_type": "execute_result"
    }
   ],
   "source": [
    "df = df.rename(columns={'dob_years':'deb_years'}) #переименование столбца\n",
    "df.columns #проверка названий столбцов"
   ]
  },
  {
   "cell_type": "markdown",
   "metadata": {},
   "source": [
    "**Вывод**\n",
    "\n",
    "Название столбца изменили, всё работает."
   ]
  },
  {
   "cell_type": "markdown",
   "metadata": {},
   "source": [
    "### Обработка пропусков"
   ]
  },
  {
   "cell_type": "code",
   "execution_count": 7,
   "metadata": {
    "scrolled": true
   },
   "outputs": [
    {
     "data": {
      "text/plain": [
       "children               0\n",
       "days_employed       2174\n",
       "deb_years              0\n",
       "education              0\n",
       "education_id           0\n",
       "family_status          0\n",
       "family_status_id       0\n",
       "gender                 0\n",
       "income_type            0\n",
       "debt                   0\n",
       "total_income        2174\n",
       "purpose                0\n",
       "dtype: int64"
      ]
     },
     "execution_count": 7,
     "metadata": {},
     "output_type": "execute_result"
    }
   ],
   "source": [
    "df.isna().sum() # посмотрим количество пропусков по столбцам"
   ]
  },
  {
   "cell_type": "code",
   "execution_count": 8,
   "metadata": {
    "scrolled": true
   },
   "outputs": [
    {
     "data": {
      "text/html": [
       "<div>\n",
       "<style scoped>\n",
       "    .dataframe tbody tr th:only-of-type {\n",
       "        vertical-align: middle;\n",
       "    }\n",
       "\n",
       "    .dataframe tbody tr th {\n",
       "        vertical-align: top;\n",
       "    }\n",
       "\n",
       "    .dataframe thead th {\n",
       "        text-align: right;\n",
       "    }\n",
       "</style>\n",
       "<table border=\"1\" class=\"dataframe\">\n",
       "  <thead>\n",
       "    <tr style=\"text-align: right;\">\n",
       "      <th></th>\n",
       "      <th>children</th>\n",
       "      <th>days_employed</th>\n",
       "      <th>deb_years</th>\n",
       "      <th>education</th>\n",
       "      <th>education_id</th>\n",
       "      <th>family_status</th>\n",
       "      <th>family_status_id</th>\n",
       "      <th>gender</th>\n",
       "      <th>income_type</th>\n",
       "      <th>debt</th>\n",
       "      <th>total_income</th>\n",
       "      <th>purpose</th>\n",
       "    </tr>\n",
       "  </thead>\n",
       "  <tbody>\n",
       "    <tr>\n",
       "      <td>12</td>\n",
       "      <td>0</td>\n",
       "      <td>NaN</td>\n",
       "      <td>65</td>\n",
       "      <td>среднее</td>\n",
       "      <td>1</td>\n",
       "      <td>гражданский брак</td>\n",
       "      <td>1</td>\n",
       "      <td>M</td>\n",
       "      <td>пенсионер</td>\n",
       "      <td>0</td>\n",
       "      <td>NaN</td>\n",
       "      <td>сыграть свадьбу</td>\n",
       "    </tr>\n",
       "    <tr>\n",
       "      <td>26</td>\n",
       "      <td>0</td>\n",
       "      <td>NaN</td>\n",
       "      <td>41</td>\n",
       "      <td>среднее</td>\n",
       "      <td>1</td>\n",
       "      <td>женат / замужем</td>\n",
       "      <td>0</td>\n",
       "      <td>M</td>\n",
       "      <td>госслужащий</td>\n",
       "      <td>0</td>\n",
       "      <td>NaN</td>\n",
       "      <td>образование</td>\n",
       "    </tr>\n",
       "    <tr>\n",
       "      <td>29</td>\n",
       "      <td>0</td>\n",
       "      <td>NaN</td>\n",
       "      <td>63</td>\n",
       "      <td>среднее</td>\n",
       "      <td>1</td>\n",
       "      <td>Не женат / не замужем</td>\n",
       "      <td>4</td>\n",
       "      <td>F</td>\n",
       "      <td>пенсионер</td>\n",
       "      <td>0</td>\n",
       "      <td>NaN</td>\n",
       "      <td>строительство жилой недвижимости</td>\n",
       "    </tr>\n",
       "    <tr>\n",
       "      <td>41</td>\n",
       "      <td>0</td>\n",
       "      <td>NaN</td>\n",
       "      <td>50</td>\n",
       "      <td>среднее</td>\n",
       "      <td>1</td>\n",
       "      <td>женат / замужем</td>\n",
       "      <td>0</td>\n",
       "      <td>F</td>\n",
       "      <td>госслужащий</td>\n",
       "      <td>0</td>\n",
       "      <td>NaN</td>\n",
       "      <td>сделка с подержанным автомобилем</td>\n",
       "    </tr>\n",
       "    <tr>\n",
       "      <td>55</td>\n",
       "      <td>0</td>\n",
       "      <td>NaN</td>\n",
       "      <td>54</td>\n",
       "      <td>среднее</td>\n",
       "      <td>1</td>\n",
       "      <td>гражданский брак</td>\n",
       "      <td>1</td>\n",
       "      <td>F</td>\n",
       "      <td>пенсионер</td>\n",
       "      <td>1</td>\n",
       "      <td>NaN</td>\n",
       "      <td>сыграть свадьбу</td>\n",
       "    </tr>\n",
       "  </tbody>\n",
       "</table>\n",
       "</div>"
      ],
      "text/plain": [
       "    children  days_employed  deb_years education  education_id  \\\n",
       "12         0            NaN         65   среднее             1   \n",
       "26         0            NaN         41   среднее             1   \n",
       "29         0            NaN         63   среднее             1   \n",
       "41         0            NaN         50   среднее             1   \n",
       "55         0            NaN         54   среднее             1   \n",
       "\n",
       "            family_status  family_status_id gender  income_type  debt  \\\n",
       "12       гражданский брак                 1      M    пенсионер     0   \n",
       "26        женат / замужем                 0      M  госслужащий     0   \n",
       "29  Не женат / не замужем                 4      F    пенсионер     0   \n",
       "41        женат / замужем                 0      F  госслужащий     0   \n",
       "55       гражданский брак                 1      F    пенсионер     1   \n",
       "\n",
       "    total_income                           purpose  \n",
       "12           NaN                   сыграть свадьбу  \n",
       "26           NaN                       образование  \n",
       "29           NaN  строительство жилой недвижимости  \n",
       "41           NaN  сделка с подержанным автомобилем  \n",
       "55           NaN                   сыграть свадьбу  "
      ]
     },
     "metadata": {},
     "output_type": "display_data"
    }
   ],
   "source": [
    "display(df[df['days_employed'].isna()].head(5)) # посмотрим какие именно пропуски присутствуют в колонке days_employed"
   ]
  },
  {
   "cell_type": "markdown",
   "metadata": {},
   "source": [
    "**Вывод**\n",
    "\n",
    "Можно заметить, что и в столбце `days_employed`, и в столбце `total_income` присутствуют пропущенные значения типа NaN. Причём каждому пропуску в одном из этих столбцов соответствует пропуск в другом.\n",
    "\n",
    "Причиной их появления мог быть сбой в системе сбора данных заёмщиков."
   ]
  },
  {
   "cell_type": "markdown",
   "metadata": {},
   "source": [
    "Пропуски присутствуют в таких колонках, как `days_employed` и `total_income`. Если удалить строки, в которых присутствуют эти пропуски, то это может сказаться на всём исследовании. Будем заменять пропуски медианным значениями по этим столбцам. Заменяем именно медианным значениями, так как в столбцах присутствуют значения, которые сильно выделяются среди других.\n",
    "\n",
    "Создадим переменную, в которой запишем медианное значение по столбцу `days_employed`, всплеск медианных значений в этом случае не является критическим, так как этот столбец не является важным для дальнейшего исследования. Затем присвоим эти значения строкам с пропусками. \n",
    "\n",
    "Для работы с пропусками столбца `total_income` создадим 9 переменных, в которых будут медианные значения по этому столбцу в зависимости от условий, где-то это будет условие по типу образования и занятости, а где-то только по образованию. После этого создадим функцию, которая будет возвращать значения наших раннее созданных переменных в зависимости от образования и типа занятости, если значение в столбце отсутствует, и возвращать само значение, если оно присутствует. Затем используем функцию fillna(), где её аргументом будет ранее созданная нами функция."
   ]
  },
  {
   "cell_type": "code",
   "execution_count": 9,
   "metadata": {},
   "outputs": [
    {
     "data": {
      "text/plain": [
       "среднее                1540\n",
       "высшее                  544\n",
       "неоконченное высшее      69\n",
       "начальное                21\n",
       "Name: education, dtype: int64"
      ]
     },
     "metadata": {},
     "output_type": "display_data"
    },
    {
     "data": {
      "text/plain": [
       "сотрудник          1105\n",
       "компаньон           508\n",
       "пенсионер           413\n",
       "госслужащий         147\n",
       "предприниматель       1\n",
       "Name: income_type, dtype: int64"
      ]
     },
     "execution_count": 9,
     "metadata": {},
     "output_type": "execute_result"
    }
   ],
   "source": [
    "df['education'] = df['education'].str.lower() #сразу приведём столбец education к нижнему регистру для будущей функции\n",
    "display(df[df['total_income'].isna()]['education'].value_counts()) #посмотрим, для каких значений образования и\n",
    "df[(df['total_income'].isna())]['income_type'].value_counts() #типа занятости будем создавать переменные медианных значений"
   ]
  },
  {
   "cell_type": "code",
   "execution_count": 10,
   "metadata": {},
   "outputs": [
    {
     "data": {
      "text/plain": [
       "136585.186586    898\n",
       "114842.854099    345\n",
       "159070.690289    300\n",
       "167170.112319    299\n",
       "201785.400018    188\n",
       "160115.398644     70\n",
       "144240.768611     57\n",
       "117137.352825     22\n",
       "499163.144947      2\n",
       "126589.160240      1\n",
       "Name: total_income, dtype: int64"
      ]
     },
     "metadata": {},
     "output_type": "display_data"
    },
    {
     "data": {
      "text/plain": [
       "children            0\n",
       "days_employed       0\n",
       "deb_years           0\n",
       "education           0\n",
       "education_id        0\n",
       "family_status       0\n",
       "family_status_id    0\n",
       "gender              0\n",
       "income_type         0\n",
       "debt                0\n",
       "total_income        0\n",
       "purpose             0\n",
       "dtype: int64"
      ]
     },
     "execution_count": 10,
     "metadata": {},
     "output_type": "execute_result"
    }
   ],
   "source": [
    "days_employed_median = df['days_employed'].median() #переменная для столбца days_employed\n",
    "\n",
    "#медиана зарплаты пенсионеров со средним образованием\n",
    "pensioner_education_middle_median = df[(df['income_type'] == 'пенсионер') & \n",
    "                                       (df['education'] == 'среднее')]['total_income'].median() \n",
    "\n",
    "#медиана зарплаты пенсионеров с высшим образованием\n",
    "pensioner_education_uni_median = df[(df['income_type'] == 'пенсионер') &\n",
    "                                    (df['education'] == 'высшее')]['total_income'].median()\n",
    "\n",
    "#сотрудник и госслужащий похожи по значениям зарплаты, поэтому их можно объединить в одну переменную\n",
    "#в данном случае условием будет среднее образование\n",
    "employee_education_middle_median = df[((df['income_type'] == 'сотрудник') | (df['income_type'] == 'госслужащий')) &\n",
    "                                      (df['education'] == 'среднее')]['total_income'].median()\n",
    "\n",
    "#то же самое, что и выше, только для высшего образования\n",
    "employee_education_uni_median = df[((df['income_type'] == 'сотрудник') | (df['income_type'] == 'госслужащий')) &\n",
    "                                    (df['education'] == 'высшее')]['total_income'].median()\n",
    "\n",
    "#берём отдельно медианное значение для предпринимателя, так как значения зарплаты сильно отличаются от других типов занятости\n",
    "businessman_median = df[(df['income_type'] == 'предприниматель')]['total_income'].median()\n",
    "\n",
    "#медиана зарплаты с типом занятости - компаньон, образование среднее\n",
    "companion_education_middle_median = df[(df['income_type'] == 'компаньон') &\n",
    "                                       (df['education'] == 'среднее')]['total_income'].median()\n",
    "\n",
    "#что и выше, только образование высшее\n",
    "companion_education_uni_median = df[(df['income_type'] == 'компаньон') &\n",
    "                                    (df['education'] == 'высшее')]['total_income'].median()\n",
    "\n",
    "#так как все группы с начальным образованием имеют приблизительно равные значения зарплаты, то\n",
    "#возьмём медианные значения по всем типам занятости с начальным образованием, не разбивая их по типам занятости\n",
    "all_education_elementary = df[df['education'] == 'начальное']['total_income'].median() \n",
    "\n",
    "#что и выше, только для неоконченного высшего образования\n",
    "all_education_not_finished = df[df['education'] == 'неоконченное высшее']['total_income'].median() \n",
    "\n",
    "\n",
    "def na_replace_median(row): #функция для замены пропущенных значений столбца total_income\n",
    "    \n",
    "    total = row['total_income']\n",
    "    typpe = row['income_type']\n",
    "    edu = row['education']\n",
    "    \n",
    "    if total > 0: #если значение зарплаты присутствует, то возвращаем само значение\n",
    "        return(total)\n",
    "    else: #иначе обрабатываем пропуски с учётом наших логических условий и возвразем соответствующим медианы зарплаты\n",
    "        if typpe == 'пенсионер':\n",
    "            if edu == 'среднее':\n",
    "                return(pensioner_education_middle_median)\n",
    "            elif edu == 'высшее':\n",
    "                return(pensioner_education_uni_median)\n",
    "            \n",
    "        elif typpe == 'сотрудник' or typpe =='госслужащий':\n",
    "            if edu == 'среднее':\n",
    "                return(employee_education_middle_median)\n",
    "            elif edu == 'высшее':\n",
    "                return(employee_education_uni_median)\n",
    "        \n",
    "        elif typpe == 'предприниматель':\n",
    "            return(businessman_median)\n",
    "        \n",
    "        elif typpe == 'компаньон':\n",
    "            if edu == 'среднее':\n",
    "                return(companion_education_middle_median )\n",
    "            elif edu == 'высшее':\n",
    "                return(companion_education_uni_median)\n",
    "                       \n",
    "        if edu == 'начальное':\n",
    "            return(all_education_elementary)\n",
    "        elif edu == 'неоконченное высшее':\n",
    "            return(all_education_not_finished)           \n",
    "    \n",
    "    \n",
    "df['days_employed'] = df['days_employed'].fillna(days_employed_median) # заменяем пустые значениями переменных\n",
    "df['total_income'] = df.apply(na_replace_median, axis=1) #применяем нашу функцию на датафрейм\n",
    "display(df['total_income'].value_counts().head(10)) #проверим, как сработала наша функция\n",
    "df.isna().sum() # проверим количество пропусков"
   ]
  },
  {
   "cell_type": "markdown",
   "metadata": {},
   "source": [
    "**Вывод**\n",
    "\n",
    "Таким образом, мы разорбрались со всеми пропусками в данных, заменив их медианными значениями по столбцам."
   ]
  },
  {
   "cell_type": "markdown",
   "metadata": {},
   "source": [
    "### Обработка артефактов"
   ]
  },
  {
   "cell_type": "code",
   "execution_count": 16,
   "metadata": {},
   "outputs": [
    {
     "data": {
      "text/plain": [
       "1203.369529    2175\n",
       "986.927316        1\n",
       "1893.222792       1\n",
       "4236.274243       1\n",
       "6620.396473       1\n",
       "               ... \n",
       "2849.351119       1\n",
       "5619.328204       1\n",
       "448.829898        1\n",
       "1687.038672       1\n",
       "582.538413        1\n",
       "Name: days_employed, Length: 19351, dtype: int64"
      ]
     },
     "execution_count": 16,
     "metadata": {},
     "output_type": "execute_result"
    }
   ],
   "source": [
    "df['days_employed'] = df['days_employed'].abs() #применим функцию модуля к столбцу days_employed, чтобы поменять знак у отрицательных значений\n",
    "df.head()\n",
    "df['children'] = df['children'].abs() #функция модуля для столбца children\n",
    "df['children'] = df['children'].replace (20, 2) #изменение значения с 20 на 2\n",
    "df['deb_years'] = df['deb_years'].replace (0, 18) #изменение значения с 0 на 18\n",
    "df['days_employed'].value_counts() #проверка столбца days_employed"
   ]
  },
  {
   "cell_type": "markdown",
   "metadata": {},
   "source": [
    "### Замена типа данных"
   ]
  },
  {
   "cell_type": "code",
   "execution_count": 17,
   "metadata": {},
   "outputs": [
    {
     "name": "stdout",
     "output_type": "stream",
     "text": [
      "<class 'pandas.core.frame.DataFrame'>\n",
      "RangeIndex: 21525 entries, 0 to 21524\n",
      "Data columns (total 12 columns):\n",
      "children            21525 non-null int64\n",
      "days_employed       21525 non-null int64\n",
      "deb_years           21525 non-null int64\n",
      "education           21525 non-null object\n",
      "education_id        21525 non-null int64\n",
      "family_status       21525 non-null object\n",
      "family_status_id    21525 non-null int64\n",
      "gender              21525 non-null object\n",
      "income_type         21525 non-null object\n",
      "debt                21525 non-null int64\n",
      "total_income        21525 non-null int64\n",
      "purpose             21525 non-null object\n",
      "dtypes: int64(7), object(5)\n",
      "memory usage: 2.0+ MB\n"
     ]
    }
   ],
   "source": [
    "df['days_employed'] = df['days_employed'].astype('int64') # заменям тип данных в столбце days_employed на int64\n",
    "df['total_income'] = df['total_income'].astype('int64') # в столбце total_income\n",
    "df.info() # проверка типов данных"
   ]
  },
  {
   "cell_type": "markdown",
   "metadata": {},
   "source": [
    "**Вывод**\n",
    "\n",
    "Мы заменили тип данных в двух столбцах методом `astype()`. Использовали мы его так как он позволяет перевести тип чисел с плавающей точкой в целочисленный тип, чего не позволяет делать метод `to_numeric`.\n",
    "\n",
    "Таким образом, в нашей таблице остались только два типа данных: `int64` и `object`"
   ]
  },
  {
   "cell_type": "markdown",
   "metadata": {},
   "source": [
    "### Обработка дубликатов"
   ]
  },
  {
   "cell_type": "code",
   "execution_count": 18,
   "metadata": {
    "scrolled": true
   },
   "outputs": [
    {
     "data": {
      "text/plain": [
       "71"
      ]
     },
     "metadata": {},
     "output_type": "display_data"
    },
    {
     "data": {
      "text/plain": [
       "71"
      ]
     },
     "metadata": {},
     "output_type": "display_data"
    },
    {
     "data": {
      "text/plain": [
       "0"
      ]
     },
     "metadata": {},
     "output_type": "display_data"
    }
   ],
   "source": [
    "display(df.duplicated().sum()) #посмотрим количество дубликатов в датафрейме\n",
    "display(df.duplicated().sum()) #проверим, не изменилось ли количество дубликатов\n",
    "df = df.drop_duplicates().reset_index(drop=True)  #удалим дубликаты из таблицы\n",
    "display(df.duplicated().sum()) #снова проверяем на наличие дубликатов"
   ]
  },
  {
   "cell_type": "markdown",
   "metadata": {},
   "source": [
    "**Вывод**\n",
    "\n",
    "Мы посмотрели количество дубликатов в таблице, привели столбец `education` к нижнему регистру, а затем успешно от избавились от дубликатов методом `drop_duplicates()`. \n",
    "\n",
    "Причиной появления дубликатов мог быть сбой в системе сбора данных заёмщиков."
   ]
  },
  {
   "cell_type": "markdown",
   "metadata": {},
   "source": [
    "### Лемматизация"
   ]
  },
  {
   "cell_type": "code",
   "execution_count": 19,
   "metadata": {},
   "outputs": [
    {
     "data": {
      "text/plain": [
       "[автомобиль, \\n]                         972\n",
       "[свадьба, \\n]                            791\n",
       "[на,  , проведение,  , свадьба, \\n]      768\n",
       "[сыграть,  , свадьба, \\n]                765\n",
       "[операция,  , с,  , недвижимость, \\n]    675\n",
       "Name: lemmas, dtype: int64"
      ]
     },
     "execution_count": 19,
     "metadata": {},
     "output_type": "execute_result"
    }
   ],
   "source": [
    "from pymystem3 import Mystem #импорт инструмента для лемматизации\n",
    "m = Mystem() \n",
    "\n",
    "df['lemmas'] = df['purpose'].apply(m.lemmatize) #применение функции лемматизации для столбца 'purpose'\n",
    "df['lemmas'].value_counts().head() #посмотрим результат работы функции"
   ]
  },
  {
   "cell_type": "markdown",
   "metadata": {},
   "source": [
    "**Вывод**\n",
    "\n",
    "Мы лемматизировали строки столбца `purpose` и сохранили результат в новом столбце `lemmas`. \n",
    "\n",
    "Можно сразу увидеть, что основными целями кредита являются покупка автомобиля, свадьба, недвижимость и образование.\n",
    "\n",
    "В дальнейшем используем этот столбец для категоризации данных в зависимости от целей кредита."
   ]
  },
  {
   "cell_type": "markdown",
   "metadata": {},
   "source": [
    "### Категоризация данных"
   ]
  },
  {
   "cell_type": "code",
   "execution_count": 20,
   "metadata": {},
   "outputs": [
    {
     "data": {
      "text/html": [
       "<div>\n",
       "<style scoped>\n",
       "    .dataframe tbody tr th:only-of-type {\n",
       "        vertical-align: middle;\n",
       "    }\n",
       "\n",
       "    .dataframe tbody tr th {\n",
       "        vertical-align: top;\n",
       "    }\n",
       "\n",
       "    .dataframe thead th {\n",
       "        text-align: right;\n",
       "    }\n",
       "</style>\n",
       "<table border=\"1\" class=\"dataframe\">\n",
       "  <thead>\n",
       "    <tr style=\"text-align: right;\">\n",
       "      <th></th>\n",
       "      <th>children</th>\n",
       "      <th>debt</th>\n",
       "      <th>children_group</th>\n",
       "    </tr>\n",
       "  </thead>\n",
       "  <tbody>\n",
       "    <tr>\n",
       "      <td>0</td>\n",
       "      <td>1</td>\n",
       "      <td>0</td>\n",
       "      <td>один ребёнок</td>\n",
       "    </tr>\n",
       "    <tr>\n",
       "      <td>1</td>\n",
       "      <td>1</td>\n",
       "      <td>0</td>\n",
       "      <td>один ребёнок</td>\n",
       "    </tr>\n",
       "    <tr>\n",
       "      <td>2</td>\n",
       "      <td>0</td>\n",
       "      <td>0</td>\n",
       "      <td>нет детей</td>\n",
       "    </tr>\n",
       "    <tr>\n",
       "      <td>3</td>\n",
       "      <td>3</td>\n",
       "      <td>0</td>\n",
       "      <td>больше одного ребёнка</td>\n",
       "    </tr>\n",
       "    <tr>\n",
       "      <td>4</td>\n",
       "      <td>0</td>\n",
       "      <td>0</td>\n",
       "      <td>нет детей</td>\n",
       "    </tr>\n",
       "  </tbody>\n",
       "</table>\n",
       "</div>"
      ],
      "text/plain": [
       "   children  debt         children_group\n",
       "0         1     0           один ребёнок\n",
       "1         1     0           один ребёнок\n",
       "2         0     0              нет детей\n",
       "3         3     0  больше одного ребёнка\n",
       "4         0     0              нет детей"
      ]
     },
     "execution_count": 20,
     "metadata": {},
     "output_type": "execute_result"
    }
   ],
   "source": [
    "children_df = df[['children', 'debt']] #наш новый датафрейм для категоризации по количеству детей\n",
    "\n",
    "def child_group(child): #создаём функцию для категоризации по количеству детей\n",
    "    \n",
    "    if child == 0:\n",
    "        return 'нет детей'\n",
    "    elif child == 1:\n",
    "        return 'один ребёнок'\n",
    "    elif child > 1:\n",
    "        return 'больше одного ребёнка'\n",
    "\n",
    "children_df['children_group'] = children_df['children'].apply(child_group) #применяем функцию на датафрейм \n",
    "children_df.head() #проверяем результат"
   ]
  },
  {
   "cell_type": "code",
   "execution_count": 21,
   "metadata": {},
   "outputs": [
    {
     "data": {
      "text/html": [
       "<div>\n",
       "<style scoped>\n",
       "    .dataframe tbody tr th:only-of-type {\n",
       "        vertical-align: middle;\n",
       "    }\n",
       "\n",
       "    .dataframe tbody tr th {\n",
       "        vertical-align: top;\n",
       "    }\n",
       "\n",
       "    .dataframe thead th {\n",
       "        text-align: right;\n",
       "    }\n",
       "</style>\n",
       "<table border=\"1\" class=\"dataframe\">\n",
       "  <thead>\n",
       "    <tr style=\"text-align: right;\">\n",
       "      <th></th>\n",
       "      <th>total_income</th>\n",
       "      <th>debt</th>\n",
       "      <th>income_group</th>\n",
       "    </tr>\n",
       "  </thead>\n",
       "  <tbody>\n",
       "    <tr>\n",
       "      <td>0</td>\n",
       "      <td>253875</td>\n",
       "      <td>0</td>\n",
       "      <td>высокий доход</td>\n",
       "    </tr>\n",
       "    <tr>\n",
       "      <td>1</td>\n",
       "      <td>112080</td>\n",
       "      <td>0</td>\n",
       "      <td>доход ниже среднего</td>\n",
       "    </tr>\n",
       "    <tr>\n",
       "      <td>2</td>\n",
       "      <td>145885</td>\n",
       "      <td>0</td>\n",
       "      <td>средний доход</td>\n",
       "    </tr>\n",
       "    <tr>\n",
       "      <td>3</td>\n",
       "      <td>267628</td>\n",
       "      <td>0</td>\n",
       "      <td>высокий доход</td>\n",
       "    </tr>\n",
       "    <tr>\n",
       "      <td>4</td>\n",
       "      <td>158616</td>\n",
       "      <td>0</td>\n",
       "      <td>средний доход</td>\n",
       "    </tr>\n",
       "  </tbody>\n",
       "</table>\n",
       "</div>"
      ],
      "text/plain": [
       "   total_income  debt         income_group\n",
       "0        253875     0        высокий доход\n",
       "1        112080     0  доход ниже среднего\n",
       "2        145885     0        средний доход\n",
       "3        267628     0        высокий доход\n",
       "4        158616     0        средний доход"
      ]
     },
     "execution_count": 21,
     "metadata": {},
     "output_type": "execute_result"
    }
   ],
   "source": [
    "income_df = df[['total_income', 'debt']] #новый датафрейм для категоризации по доходу\n",
    "\n",
    "#для случая дохода возьмём интервал медианных значений с верхним и нижним пределом, которые сохраним в двух переменных \n",
    "income_median_bottom = (df['total_income'].median() * 0.825) #переменная, в которой сохраним верхний предел \n",
    "income_median_top = (df['total_income'].median() * 1.175) #нижний\n",
    "\n",
    "def income_group(income): #функция для категоризации по доходу\n",
    "    \n",
    "    if income <= income_median_bottom:\n",
    "        return 'доход ниже среднего'\n",
    "    elif (income_median_bottom < income < income_median_top):\n",
    "        return 'средний доход'\n",
    "    elif income >= income_median_top:\n",
    "        return 'высокий доход'\n",
    "    \n",
    "income_df['income_group'] = income_df['total_income'].apply(income_group) #применяем функцию на датафрейм     \n",
    "income_df.head() #проверяем результат"
   ]
  },
  {
   "cell_type": "code",
   "execution_count": 24,
   "metadata": {},
   "outputs": [
    {
     "data": {
      "text/html": [
       "<div>\n",
       "<style scoped>\n",
       "    .dataframe tbody tr th:only-of-type {\n",
       "        vertical-align: middle;\n",
       "    }\n",
       "\n",
       "    .dataframe tbody tr th {\n",
       "        vertical-align: top;\n",
       "    }\n",
       "\n",
       "    .dataframe thead th {\n",
       "        text-align: right;\n",
       "    }\n",
       "</style>\n",
       "<table border=\"1\" class=\"dataframe\">\n",
       "  <thead>\n",
       "    <tr style=\"text-align: right;\">\n",
       "      <th></th>\n",
       "      <th>lemmas</th>\n",
       "      <th>debt</th>\n",
       "      <th>purpose_group</th>\n",
       "    </tr>\n",
       "  </thead>\n",
       "  <tbody>\n",
       "    <tr>\n",
       "      <td>0</td>\n",
       "      <td>[покупка,  , жилье, \\n]</td>\n",
       "      <td>0</td>\n",
       "      <td>недвижимость</td>\n",
       "    </tr>\n",
       "    <tr>\n",
       "      <td>1</td>\n",
       "      <td>[приобретение,  , автомобиль, \\n]</td>\n",
       "      <td>0</td>\n",
       "      <td>автомобиль</td>\n",
       "    </tr>\n",
       "    <tr>\n",
       "      <td>2</td>\n",
       "      <td>[покупка,  , жилье, \\n]</td>\n",
       "      <td>0</td>\n",
       "      <td>недвижимость</td>\n",
       "    </tr>\n",
       "    <tr>\n",
       "      <td>3</td>\n",
       "      <td>[дополнительный,  , образование, \\n]</td>\n",
       "      <td>0</td>\n",
       "      <td>образование</td>\n",
       "    </tr>\n",
       "    <tr>\n",
       "      <td>4</td>\n",
       "      <td>[сыграть,  , свадьба, \\n]</td>\n",
       "      <td>0</td>\n",
       "      <td>свадьба</td>\n",
       "    </tr>\n",
       "  </tbody>\n",
       "</table>\n",
       "</div>"
      ],
      "text/plain": [
       "                                 lemmas  debt purpose_group\n",
       "0               [покупка,  , жилье, \\n]     0  недвижимость\n",
       "1     [приобретение,  , автомобиль, \\n]     0    автомобиль\n",
       "2               [покупка,  , жилье, \\n]     0  недвижимость\n",
       "3  [дополнительный,  , образование, \\n]     0   образование\n",
       "4             [сыграть,  , свадьба, \\n]     0       свадьба"
      ]
     },
     "execution_count": 24,
     "metadata": {},
     "output_type": "execute_result"
    }
   ],
   "source": [
    "purpose_df = df[['lemmas', 'debt']] #новый датафрейм для категоризации по целям кредита\n",
    "\n",
    "def purpose_group(purpose): #функция для категоризации по целям кредита\n",
    "    \n",
    "    if 'автомобиль' in purpose:\n",
    "        return('автомобиль')\n",
    "    elif 'свадьба' in purpose:\n",
    "        return('свадьба')\n",
    "    elif 'образование' in purpose:\n",
    "        return('образование')\n",
    "    else:\n",
    "        return('недвижимость')\n",
    "        \n",
    "purpose_df['purpose_group'] = purpose_df['lemmas'].apply(purpose_group) #применяем функцию на датафрейм    \n",
    "purpose_df.head() #проверяем результат"
   ]
  },
  {
   "cell_type": "markdown",
   "metadata": {},
   "source": [
    "**Вывод**\n",
    "\n",
    "Мы категоризировали данные по определённым столбцам трёх новых датафреймов с помощью трёх функций. Получившийся результат добавили в наши датафреймы в виде новых столбцов. Теперь мы можем наглядно посмотреть к какой группе в зависимости от дохода, семейного положения или наличия детей принадлежит клиент банка"
   ]
  },
  {
   "cell_type": "markdown",
   "metadata": {},
   "source": [
    "## Исследовательский анализ данных"
   ]
  },
  {
   "cell_type": "markdown",
   "metadata": {},
   "source": [
    "### Есть ли зависимость между наличием детей и возвратом кредита в срок?"
   ]
  },
  {
   "cell_type": "code",
   "execution_count": 25,
   "metadata": {
    "scrolled": false
   },
   "outputs": [
    {
     "name": "stdout",
     "output_type": "stream",
     "text": [
      "процент должников без детей: 7.5%\n",
      "процент должников с одним ребёнком: 9.2%\n",
      "процент должников, где больше одного ребёнка: 9.3%\n"
     ]
    }
   ],
   "source": [
    "#с помощью трёх переменных посмотрим процент должников в зависимости от количества детей\n",
    "#в этих переменных введём условие, чтобы у клиента банка был долг и чтобы он принадлежал к одной из категоризированных групп\n",
    "#найдя количество должников, разделим его на общее количество представителей группы и умножим на 100 для получения процентного значения\n",
    "#затем округлим получившееся значения до одного знака после запятой\n",
    "\n",
    "child_0 = children_df[(children_df['debt'] == 1) & \n",
    "                      (children_df['children_group'] == 'нет детей')]['debt'].count() / (children_df[children_df['children_group'] == 'нет детей']['debt'].count()) * 100\n",
    "child_0 = child_0.round(1)\n",
    "print(f'процент должников без детей: {child_0}%')\n",
    "\n",
    "child_1 = children_df[(children_df['debt'] == 1) &\n",
    "                      (children_df['children_group'] == 'один ребёнок')]['debt'].count() / (children_df[children_df['children_group'] == 'один ребёнок']['debt'].count()) * 100\n",
    "child_1 = child_1.round(1)\n",
    "print(f'процент должников с одним ребёнком: {child_1}%')\n",
    "\n",
    "child_2 = children_df[(children_df['debt'] == 1) &\n",
    "                      (children_df['children_group'] == 'больше одного ребёнка')]['debt'].count() / (children_df[children_df['children_group'] == 'больше одного ребёнка']['debt'].count()) * 100\n",
    "child_2 = child_2.round(1)\n",
    "print(f'процент должников, где больше одного ребёнка: {child_2}%')"
   ]
  },
  {
   "cell_type": "markdown",
   "metadata": {},
   "source": [
    "**Вывод**\n",
    "\n",
    "Можем сразу заметить, что процент должников по кредиту увеличивается сразу, как в семье появляется хотя бы один ребёнок.\n",
    "\n",
    "Это неудивительно, так как доход начинает уходить на ребёнка, а на возвращение кредита в срок дохода может уже не хватить.\n",
    "\n",
    "При этом процент должников с повышением количества детей незначительно увеличивается.\n",
    "\n",
    "Таким образом, наличие детей негативно влияет на возврат кредита в срок."
   ]
  },
  {
   "cell_type": "markdown",
   "metadata": {},
   "source": [
    "### Есть ли зависимость между семейным положением и возвратом кредита в срок?"
   ]
  },
  {
   "cell_type": "code",
   "execution_count": 33,
   "metadata": {
    "scrolled": false
   },
   "outputs": [
    {
     "name": "stdout",
     "output_type": "stream",
     "text": [
      "процент должников, находящихся в браке: 7.5%\n",
      "процент должников, находящихся в гражданском браке : 9.3%\n",
      "процент должников, не находящихся в браке: 9.8%\n",
      "процент должников, находящихся в разводе: 7.1%\n",
      "процент должников, потерявших супруга(супругу): 6.6%\n"
     ]
    }
   ],
   "source": [
    "#Аналогично предыдущему случаю посмотрим процент должников в зависимости от семейного положения\n",
    "\n",
    "family_0 = df[(df['debt'] == 1) & (df['family_status'] == 'женат / замужем')]['debt'].count() / (df[df['family_status'] == 'женат / замужем']['debt'].count()) * 100\n",
    "family_0 = family_0.round(1)\n",
    "print(f'процент должников, находящихся в браке: {family_0}%')\n",
    "\n",
    "family_1 = df[(df['debt'] == 1) & (df['family_status'] == 'гражданский брак')]['debt'].count() / (df[df['family_status'] == 'гражданский брак']['debt'].count()) * 100\n",
    "family_1 = family_1.round(1)\n",
    "print(f'процент должников, находящихся в гражданском браке : {family_1}%')\n",
    "\n",
    "family_2 = df[(df['debt'] == 1) & (df['family_status'] == 'Не женат / не замужем')]['debt'].count() / (df[df['family_status'] == 'Не женат / не замужем']['debt'].count()) * 100\n",
    "family_2 = family_2.round(1)\n",
    "print(f'процент должников, не находящихся в браке: {family_2}%')\n",
    "\n",
    "family_3 = df[(df['debt'] == 1) & (df['family_status'] == 'в разводе')]['debt'].count() / (df[df['family_status'] == 'в разводе']['debt'].count()) * 100\n",
    "family_3 = family_3.round(1)\n",
    "print(f'процент должников, находящихся в разводе: {family_3}%')\n",
    "\n",
    "family_4 = df[(df['debt'] == 1) & (df['family_status'] == 'вдовец / вдова')]['debt'].count() / (df[df['family_status'] == 'вдовец / вдова']['debt'].count()) * 100\n",
    "family_4 = family_4.round(1)\n",
    "print(f'процент должников, потерявших супруга(супругу): {family_4}%')"
   ]
  },
  {
   "cell_type": "markdown",
   "metadata": {},
   "source": [
    "**Вывод**\n",
    "\n",
    "Здесь мы можем заметить, что самый большой процент должников у группы не находящихся в браке и у группы находящихся в гражданском браке. Самый низкий у группы утерявших партнёра.\n",
    "\n",
    "Семейное положение влияет на возврат кредита в срок, и выше мы можем это наглядно увидеть."
   ]
  },
  {
   "cell_type": "markdown",
   "metadata": {},
   "source": [
    "### Есть ли зависимость между уровнем дохода и возвратом кредита в срок?"
   ]
  },
  {
   "cell_type": "code",
   "execution_count": 36,
   "metadata": {},
   "outputs": [
    {
     "name": "stdout",
     "output_type": "stream",
     "text": [
      "процент должников с доходом ниже среднего: 8.2%\n",
      "процент должников со средним доходом: 8.7%\n",
      "процент должников доходом выше среднего: 7.5%\n"
     ]
    }
   ],
   "source": [
    "#Аналогично случаю выше посмотрим процент должников в зависимости от дохода\n",
    "\n",
    "income_0 = income_df[(income_df['debt'] == 1) &\n",
    "                     (income_df['income_group'] == 'доход ниже среднего')]['debt'].count() / (income_df[income_df['income_group'] == 'доход ниже среднего']['debt'].count()) * 100\n",
    "income_0 = (income_0).round(1)\n",
    "print(f'процент должников с доходом ниже среднего: {income_0}%')\n",
    "\n",
    "income_1 = income_df[(income_df['debt'] == 1) &\n",
    "                     (income_df['income_group'] == 'средний доход')]['debt'].count() / (income_df[income_df['income_group'] == 'средний доход']['debt'].count()) * 100\n",
    "income_1 = income_1.round(1)\n",
    "print(f'процент должников со средним доходом: {income_1}%')\n",
    "\n",
    "income_2 = income_df[(income_df['debt'] == 1) &\n",
    "                     (income_df['income_group'] == 'высокий доход')]['debt'].count() / (income_df[income_df['income_group'] == 'высокий доход']['debt'].count()) * 100\n",
    "income_2 = income_2.round(1)\n",
    "print(f'процент должников доходом выше среднего: {income_2}%')"
   ]
  },
  {
   "cell_type": "markdown",
   "metadata": {},
   "source": [
    "**Вывод**\n",
    "\n",
    "Здесь мы можем наблюдать, что наибольший процент должников находится в группе со средним доходом. А наименьший в группе с доходом выше среднего.\n",
    "\n",
    "Тогда уровень дохода так же влияет на возврат кредита в срок. "
   ]
  },
  {
   "cell_type": "markdown",
   "metadata": {},
   "source": [
    "### Как разные цели кредита влияют на его возврат в срок?"
   ]
  },
  {
   "cell_type": "code",
   "execution_count": 39,
   "metadata": {},
   "outputs": [
    {
     "name": "stdout",
     "output_type": "stream",
     "text": [
      "процент должников, которые берут кредит для для недвижимости: 7.2%\n",
      "процент должников, которые берут кредит для для автомобиля: 9.4%\n",
      "процент должников, которые берут кредит для для образования: 9.2%\n",
      "процент должников, которые берут кредит для для свадьбы: 8.0%\n"
     ]
    }
   ],
   "source": [
    "#Аналогично случаю выше посмотрим процент должников в зависимости от цели кредита\n",
    "purpose_0 = purpose_df[(purpose_df['debt'] == 1) &\n",
    "                       (purpose_df['purpose_group'] == 'недвижимость')]['debt'].count() / (purpose_df[purpose_df['purpose_group'] == 'недвижимость']['debt'].count()) * 100\n",
    "purpose_0 = purpose_0.round(1)\n",
    "print(f'процент должников, которые берут кредит для для недвижимости: {purpose_0}%')\n",
    "\n",
    "purpose_1 = purpose_df[(purpose_df['debt'] == 1) &\n",
    "                       (purpose_df['purpose_group'] == 'автомобиль')]['debt'].count() / (purpose_df[purpose_df['purpose_group'] == 'автомобиль']['debt'].count()) * 100\n",
    "purpose_1 = purpose_1.round(1)\n",
    "print(f'процент должников, которые берут кредит для для автомобиля: {purpose_1}%')\n",
    "\n",
    "purpose_2 = purpose_df[(purpose_df['debt'] == 1) &\n",
    "                       (purpose_df['purpose_group'] == 'образование')]['debt'].count() / (purpose_df[purpose_df['purpose_group'] == 'образование']['debt'].count()) * 100\n",
    "purpose_2 = purpose_2.round(1)\n",
    "print(f'процент должников, которые берут кредит для для образования: {purpose_2}%')\n",
    "\n",
    "purpose_3 = purpose_df[(purpose_df['debt'] == 1) &\n",
    "                       (purpose_df['purpose_group'] == 'свадьба')]['debt'].count() / (purpose_df[purpose_df['purpose_group'] == 'свадьба']['debt'].count()) * 100\n",
    "purpose_3 = purpose_3.round(1)\n",
    "print(f'процент должников, которые берут кредит для для свадьбы: {purpose_3}%')"
   ]
  },
  {
   "cell_type": "markdown",
   "metadata": {},
   "source": [
    "**Вывод**\n",
    "\n",
    "Здесь мы можем видеть, что процент должников выше в группах, целью кредита которой является автомобиль или образование.\n",
    "\n",
    "Данные показывают, что цель кредита влияет на его возврат в срок."
   ]
  },
  {
   "cell_type": "markdown",
   "metadata": {},
   "source": [
    "## Общие выводы"
   ]
  },
  {
   "cell_type": "markdown",
   "metadata": {},
   "source": [
    "Мы посмотрели, как наличие детей, семейное положение, уровень дохода, а так же цели кредита влияют на возврат кредита в срок.\n",
    "\n",
    "Если брать результаты исследования по группам, то:\n",
    "\n",
    "В группе по наличию детей - самые надёжные клиенты это те, у которых нет детей (`7.5%` невозврата в срок); ненадёжные - клиенты с одним ребёнком (`9.2%` невозврата в срок) или более (`9.3%` невозврата в срок).\n",
    "\n",
    "В группе по семейному положению - самые надёжные - клиенты с семейным положением вдовы / вдовца (`6.6%` невозврата в срок), а также те, кто в браке (`7.5%` невозврата в срок); ненадёжные - находящиеся в гражданском браке (`9.3%` невозврата в срок) и не находящиеся в браке (`9.8%` невозврата в срок).\n",
    "\n",
    "В группе по доходу - самые надёжные клиенты это те, у кого доход выше среднего (`7.5%` невозврата в срок); ненадёжные - у кого средний доход (`8.7%` невозврата в срок).\n",
    "\n",
    "В группе по цели кредита - самые надёжные клиенты это те, кто берут кредита для недвижимости (`7.2%` невозврата в срок); ненадёжные - кто берут кредит для образования (`9.2%` невозврата в срок) или автомобиля (`9.4%` невозврата в срок)."
   ]
  }
 ],
 "metadata": {
  "ExecuteTimeLog": [
   {
    "duration": 2949,
    "start_time": "2021-09-10T15:53:35.150Z"
   },
   {
    "duration": -1282,
    "start_time": "2021-09-10T15:53:39.384Z"
   },
   {
    "duration": -1284,
    "start_time": "2021-09-10T15:53:39.388Z"
   },
   {
    "duration": -1284,
    "start_time": "2021-09-10T15:53:39.390Z"
   },
   {
    "duration": -1284,
    "start_time": "2021-09-10T15:53:39.391Z"
   },
   {
    "duration": -1285,
    "start_time": "2021-09-10T15:53:39.393Z"
   },
   {
    "duration": -1284,
    "start_time": "2021-09-10T15:53:39.394Z"
   },
   {
    "duration": -1285,
    "start_time": "2021-09-10T15:53:39.396Z"
   },
   {
    "duration": -1285,
    "start_time": "2021-09-10T15:53:39.397Z"
   },
   {
    "duration": -1285,
    "start_time": "2021-09-10T15:53:39.399Z"
   },
   {
    "duration": -1285,
    "start_time": "2021-09-10T15:53:39.400Z"
   },
   {
    "duration": -1286,
    "start_time": "2021-09-10T15:53:39.402Z"
   },
   {
    "duration": -1292,
    "start_time": "2021-09-10T15:53:39.409Z"
   },
   {
    "duration": -1291,
    "start_time": "2021-09-10T15:53:39.410Z"
   },
   {
    "duration": -1292,
    "start_time": "2021-09-10T15:53:39.412Z"
   },
   {
    "duration": -1295,
    "start_time": "2021-09-10T15:53:39.417Z"
   },
   {
    "duration": 698,
    "start_time": "2021-09-10T17:46:30.442Z"
   },
   {
    "duration": 17,
    "start_time": "2021-09-10T17:46:31.142Z"
   },
   {
    "duration": 5,
    "start_time": "2021-09-10T17:46:31.162Z"
   },
   {
    "duration": 16,
    "start_time": "2021-09-10T17:46:31.169Z"
   },
   {
    "duration": 12,
    "start_time": "2021-09-10T17:46:31.187Z"
   },
   {
    "duration": 52,
    "start_time": "2021-09-10T17:46:31.201Z"
   },
   {
    "duration": 14,
    "start_time": "2021-09-10T17:46:31.255Z"
   },
   {
    "duration": 22,
    "start_time": "2021-09-10T17:46:31.271Z"
   },
   {
    "duration": 13,
    "start_time": "2021-09-10T17:46:31.296Z"
   },
   {
    "duration": 95,
    "start_time": "2021-09-10T17:46:31.311Z"
   },
   {
    "duration": 3772,
    "start_time": "2021-09-10T17:46:31.408Z"
   },
   {
    "duration": 71,
    "start_time": "2021-09-10T17:46:35.182Z"
   },
   {
    "duration": 32,
    "start_time": "2021-09-10T17:46:35.255Z"
   },
   {
    "duration": 63,
    "start_time": "2021-09-10T17:46:35.289Z"
   },
   {
    "duration": 29,
    "start_time": "2021-09-10T17:46:35.354Z"
   },
   {
    "duration": 31,
    "start_time": "2021-09-10T17:46:35.385Z"
   },
   {
    "duration": 22,
    "start_time": "2021-09-10T17:47:06.139Z"
   },
   {
    "duration": 369,
    "start_time": "2021-09-10T18:21:31.357Z"
   },
   {
    "duration": 22,
    "start_time": "2021-09-10T18:21:44.889Z"
   },
   {
    "duration": 21,
    "start_time": "2021-09-10T18:21:54.044Z"
   },
   {
    "duration": 23,
    "start_time": "2021-09-10T18:22:36.990Z"
   },
   {
    "duration": 24,
    "start_time": "2021-09-10T18:22:45.319Z"
   },
   {
    "duration": 24,
    "start_time": "2021-09-10T18:23:33.226Z"
   },
   {
    "duration": 23,
    "start_time": "2021-09-10T18:23:37.971Z"
   },
   {
    "duration": 22,
    "start_time": "2021-09-10T18:23:42.506Z"
   },
   {
    "duration": 23,
    "start_time": "2021-09-10T18:23:46.408Z"
   },
   {
    "duration": 26,
    "start_time": "2021-09-10T18:23:51.278Z"
   },
   {
    "duration": 22,
    "start_time": "2021-09-10T18:23:57.659Z"
   },
   {
    "duration": 22,
    "start_time": "2021-09-10T18:24:01.873Z"
   },
   {
    "duration": 23,
    "start_time": "2021-09-10T18:24:04.470Z"
   },
   {
    "duration": 23,
    "start_time": "2021-09-10T18:24:09.172Z"
   },
   {
    "duration": 22,
    "start_time": "2021-09-10T18:24:33.971Z"
   },
   {
    "duration": 22,
    "start_time": "2021-09-10T18:24:36.618Z"
   },
   {
    "duration": 23,
    "start_time": "2021-09-10T18:24:39.155Z"
   },
   {
    "duration": 26,
    "start_time": "2021-09-10T18:47:50.575Z"
   },
   {
    "duration": 24,
    "start_time": "2021-09-10T18:48:29.797Z"
   },
   {
    "duration": 20,
    "start_time": "2021-09-10T18:49:47.751Z"
   },
   {
    "duration": 22,
    "start_time": "2021-09-10T18:49:52.379Z"
   },
   {
    "duration": 22,
    "start_time": "2021-09-10T18:49:58.678Z"
   },
   {
    "duration": 25,
    "start_time": "2021-09-10T18:52:53.132Z"
   },
   {
    "duration": 28,
    "start_time": "2021-09-10T18:55:08.016Z"
   },
   {
    "duration": 27,
    "start_time": "2021-09-10T18:55:22.091Z"
   },
   {
    "duration": 290,
    "start_time": "2021-09-10T18:57:46.181Z"
   },
   {
    "duration": 27,
    "start_time": "2021-09-10T18:57:55.469Z"
   },
   {
    "duration": 28,
    "start_time": "2021-09-10T18:58:00.073Z"
   },
   {
    "duration": 29,
    "start_time": "2021-09-10T18:58:05.519Z"
   },
   {
    "duration": 28,
    "start_time": "2021-09-10T18:58:08.345Z"
   },
   {
    "duration": 28,
    "start_time": "2021-09-10T18:58:11.372Z"
   },
   {
    "duration": 27,
    "start_time": "2021-09-10T18:58:14.652Z"
   },
   {
    "duration": 26,
    "start_time": "2021-09-10T18:58:19.078Z"
   },
   {
    "duration": 27,
    "start_time": "2021-09-10T18:58:22.301Z"
   },
   {
    "duration": 28,
    "start_time": "2021-09-10T18:58:25.979Z"
   },
   {
    "duration": 27,
    "start_time": "2021-09-10T18:58:29.278Z"
   },
   {
    "duration": 28,
    "start_time": "2021-09-10T18:58:31.646Z"
   },
   {
    "duration": 26,
    "start_time": "2021-09-10T18:58:34.211Z"
   },
   {
    "duration": 27,
    "start_time": "2021-09-10T18:58:36.970Z"
   },
   {
    "duration": 27,
    "start_time": "2021-09-10T18:58:44.874Z"
   },
   {
    "duration": 42,
    "start_time": "2021-09-10T19:00:52.870Z"
   },
   {
    "duration": 26,
    "start_time": "2021-09-10T19:01:05.533Z"
   },
   {
    "duration": 31,
    "start_time": "2021-09-10T19:06:40.560Z"
   },
   {
    "duration": 33,
    "start_time": "2021-09-10T19:06:57.707Z"
   },
   {
    "duration": 40,
    "start_time": "2021-09-10T19:07:23.596Z"
   },
   {
    "duration": 38,
    "start_time": "2021-09-10T19:07:27.750Z"
   },
   {
    "duration": 37,
    "start_time": "2021-09-10T19:07:57.036Z"
   },
   {
    "duration": 40,
    "start_time": "2021-09-10T19:08:03.387Z"
   },
   {
    "duration": 39,
    "start_time": "2021-09-10T19:08:09.117Z"
   },
   {
    "duration": 38,
    "start_time": "2021-09-10T19:08:13.356Z"
   },
   {
    "duration": 44,
    "start_time": "2021-09-10T19:08:15.960Z"
   },
   {
    "duration": 39,
    "start_time": "2021-09-10T19:08:23.398Z"
   },
   {
    "duration": 34,
    "start_time": "2021-09-10T19:09:02.248Z"
   },
   {
    "duration": 39,
    "start_time": "2021-09-10T19:09:09.205Z"
   },
   {
    "duration": 37,
    "start_time": "2021-09-10T19:09:27.879Z"
   },
   {
    "duration": 34,
    "start_time": "2021-09-10T19:09:37.188Z"
   },
   {
    "duration": 9,
    "start_time": "2021-09-10T19:10:38.438Z"
   },
   {
    "duration": 9,
    "start_time": "2021-09-10T19:10:57.677Z"
   },
   {
    "duration": 63,
    "start_time": "2021-09-10T19:11:01.224Z"
   },
   {
    "duration": 12,
    "start_time": "2021-09-10T19:11:01.289Z"
   },
   {
    "duration": 17,
    "start_time": "2021-09-10T19:11:01.303Z"
   },
   {
    "duration": 23,
    "start_time": "2021-09-10T19:11:01.322Z"
   },
   {
    "duration": 17,
    "start_time": "2021-09-10T19:11:01.347Z"
   },
   {
    "duration": 30,
    "start_time": "2021-09-10T19:11:01.366Z"
   },
   {
    "duration": 28,
    "start_time": "2021-09-10T19:11:01.397Z"
   },
   {
    "duration": 30,
    "start_time": "2021-09-10T19:11:01.427Z"
   },
   {
    "duration": 302,
    "start_time": "2021-09-10T19:11:01.458Z"
   },
   {
    "duration": -783,
    "start_time": "2021-09-10T19:11:02.545Z"
   },
   {
    "duration": -788,
    "start_time": "2021-09-10T19:11:02.551Z"
   },
   {
    "duration": -788,
    "start_time": "2021-09-10T19:11:02.552Z"
   },
   {
    "duration": -788,
    "start_time": "2021-09-10T19:11:02.553Z"
   },
   {
    "duration": -789,
    "start_time": "2021-09-10T19:11:02.555Z"
   },
   {
    "duration": -790,
    "start_time": "2021-09-10T19:11:02.556Z"
   },
   {
    "duration": -792,
    "start_time": "2021-09-10T19:11:02.559Z"
   },
   {
    "duration": 9,
    "start_time": "2021-09-10T19:11:32.085Z"
   },
   {
    "duration": 63,
    "start_time": "2021-09-10T19:11:34.634Z"
   },
   {
    "duration": 12,
    "start_time": "2021-09-10T19:11:34.699Z"
   },
   {
    "duration": 5,
    "start_time": "2021-09-10T19:11:34.713Z"
   },
   {
    "duration": 25,
    "start_time": "2021-09-10T19:11:34.720Z"
   },
   {
    "duration": 10,
    "start_time": "2021-09-10T19:11:34.746Z"
   },
   {
    "duration": 11,
    "start_time": "2021-09-10T19:11:34.757Z"
   },
   {
    "duration": 29,
    "start_time": "2021-09-10T19:11:34.770Z"
   },
   {
    "duration": 52,
    "start_time": "2021-09-10T19:11:34.801Z"
   },
   {
    "duration": 325,
    "start_time": "2021-09-10T19:11:34.855Z"
   },
   {
    "duration": -789,
    "start_time": "2021-09-10T19:11:35.971Z"
   },
   {
    "duration": -792,
    "start_time": "2021-09-10T19:11:35.976Z"
   },
   {
    "duration": -793,
    "start_time": "2021-09-10T19:11:35.978Z"
   },
   {
    "duration": -796,
    "start_time": "2021-09-10T19:11:35.983Z"
   },
   {
    "duration": -796,
    "start_time": "2021-09-10T19:11:35.984Z"
   },
   {
    "duration": -800,
    "start_time": "2021-09-10T19:11:35.989Z"
   },
   {
    "duration": -802,
    "start_time": "2021-09-10T19:11:35.992Z"
   },
   {
    "duration": 13,
    "start_time": "2021-09-10T19:11:53.887Z"
   },
   {
    "duration": 8,
    "start_time": "2021-09-10T19:12:03.785Z"
   },
   {
    "duration": 9,
    "start_time": "2021-09-10T19:12:06.843Z"
   },
   {
    "duration": 7,
    "start_time": "2021-09-10T19:12:33.533Z"
   },
   {
    "duration": 9,
    "start_time": "2021-09-10T19:12:48.173Z"
   },
   {
    "duration": 9,
    "start_time": "2021-09-10T19:12:53.971Z"
   },
   {
    "duration": 35,
    "start_time": "2021-09-10T19:19:31.637Z"
   },
   {
    "duration": 35,
    "start_time": "2021-09-10T19:19:39.249Z"
   },
   {
    "duration": 36,
    "start_time": "2021-09-10T19:19:42.181Z"
   },
   {
    "duration": 35,
    "start_time": "2021-09-10T19:19:44.993Z"
   },
   {
    "duration": 35,
    "start_time": "2021-09-10T19:19:48.496Z"
   },
   {
    "duration": 39,
    "start_time": "2021-09-10T19:20:56.980Z"
   },
   {
    "duration": 37,
    "start_time": "2021-09-10T19:21:01.484Z"
   },
   {
    "duration": 37,
    "start_time": "2021-09-10T19:21:43.524Z"
   },
   {
    "duration": 39,
    "start_time": "2021-09-10T19:21:52.705Z"
   },
   {
    "duration": 39,
    "start_time": "2021-09-10T19:22:01.958Z"
   },
   {
    "duration": 39,
    "start_time": "2021-09-10T19:22:17.269Z"
   },
   {
    "duration": 39,
    "start_time": "2021-09-10T19:22:22.646Z"
   },
   {
    "duration": 39,
    "start_time": "2021-09-10T19:22:48.936Z"
   },
   {
    "duration": 37,
    "start_time": "2021-09-10T19:23:06.441Z"
   },
   {
    "duration": 44,
    "start_time": "2021-09-10T19:23:12.327Z"
   },
   {
    "duration": 36,
    "start_time": "2021-09-10T19:23:16.336Z"
   },
   {
    "duration": 9,
    "start_time": "2021-09-10T19:23:30.501Z"
   },
   {
    "duration": 19,
    "start_time": "2021-09-10T19:25:46.914Z"
   },
   {
    "duration": 29,
    "start_time": "2021-09-10T19:26:25.747Z"
   },
   {
    "duration": 20,
    "start_time": "2021-09-10T19:26:42.520Z"
   },
   {
    "duration": -779,
    "start_time": "2021-09-10T19:28:28.680Z"
   },
   {
    "duration": 28,
    "start_time": "2021-09-10T19:28:29.520Z"
   },
   {
    "duration": 33,
    "start_time": "2021-09-10T19:28:48.825Z"
   },
   {
    "duration": 25,
    "start_time": "2021-09-10T19:29:24.735Z"
   },
   {
    "duration": 99,
    "start_time": "2021-09-10T19:31:52.335Z"
   },
   {
    "duration": 60,
    "start_time": "2021-09-10T19:32:19.684Z"
   },
   {
    "duration": 10,
    "start_time": "2021-09-10T19:32:19.746Z"
   },
   {
    "duration": 8,
    "start_time": "2021-09-10T19:32:19.758Z"
   },
   {
    "duration": 11,
    "start_time": "2021-09-10T19:32:19.768Z"
   },
   {
    "duration": 15,
    "start_time": "2021-09-10T19:32:19.781Z"
   },
   {
    "duration": 44,
    "start_time": "2021-09-10T19:32:19.798Z"
   },
   {
    "duration": 94,
    "start_time": "2021-09-10T19:32:19.844Z"
   },
   {
    "duration": -773,
    "start_time": "2021-09-10T19:32:20.713Z"
   },
   {
    "duration": -780,
    "start_time": "2021-09-10T19:32:20.721Z"
   },
   {
    "duration": -782,
    "start_time": "2021-09-10T19:32:20.724Z"
   },
   {
    "duration": -781,
    "start_time": "2021-09-10T19:32:20.725Z"
   },
   {
    "duration": -781,
    "start_time": "2021-09-10T19:32:20.726Z"
   },
   {
    "duration": -782,
    "start_time": "2021-09-10T19:32:20.728Z"
   },
   {
    "duration": -783,
    "start_time": "2021-09-10T19:32:20.731Z"
   },
   {
    "duration": -783,
    "start_time": "2021-09-10T19:32:20.732Z"
   },
   {
    "duration": -784,
    "start_time": "2021-09-10T19:32:20.734Z"
   },
   {
    "duration": 94,
    "start_time": "2021-09-10T19:32:39.901Z"
   },
   {
    "duration": 51,
    "start_time": "2021-09-10T19:33:13.922Z"
   },
   {
    "duration": 90,
    "start_time": "2021-09-10T19:33:17.729Z"
   },
   {
    "duration": 51,
    "start_time": "2021-09-10T19:33:24.652Z"
   },
   {
    "duration": 46,
    "start_time": "2021-09-10T19:33:47.826Z"
   },
   {
    "duration": 48,
    "start_time": "2021-09-10T19:33:57.770Z"
   },
   {
    "duration": 50,
    "start_time": "2021-09-10T19:34:01.856Z"
   },
   {
    "duration": 54,
    "start_time": "2021-09-10T19:35:31.520Z"
   },
   {
    "duration": 62,
    "start_time": "2021-09-10T19:38:27.332Z"
   },
   {
    "duration": 68,
    "start_time": "2021-09-10T19:45:22.660Z"
   },
   {
    "duration": 61,
    "start_time": "2021-09-10T19:45:30.991Z"
   },
   {
    "duration": 11,
    "start_time": "2021-09-10T19:45:31.054Z"
   },
   {
    "duration": 11,
    "start_time": "2021-09-10T19:45:31.067Z"
   },
   {
    "duration": 24,
    "start_time": "2021-09-10T19:45:31.080Z"
   },
   {
    "duration": 16,
    "start_time": "2021-09-10T19:45:31.105Z"
   },
   {
    "duration": 29,
    "start_time": "2021-09-10T19:45:31.123Z"
   },
   {
    "duration": 65,
    "start_time": "2021-09-10T19:45:31.154Z"
   },
   {
    "duration": 38,
    "start_time": "2021-09-10T19:45:31.222Z"
   },
   {
    "duration": 277,
    "start_time": "2021-09-10T19:45:31.262Z"
   },
   {
    "duration": -784,
    "start_time": "2021-09-10T19:45:32.325Z"
   },
   {
    "duration": -785,
    "start_time": "2021-09-10T19:45:32.327Z"
   },
   {
    "duration": -784,
    "start_time": "2021-09-10T19:45:32.328Z"
   },
   {
    "duration": -784,
    "start_time": "2021-09-10T19:45:32.329Z"
   },
   {
    "duration": -785,
    "start_time": "2021-09-10T19:45:32.331Z"
   },
   {
    "duration": -785,
    "start_time": "2021-09-10T19:45:32.332Z"
   },
   {
    "duration": -789,
    "start_time": "2021-09-10T19:45:32.337Z"
   },
   {
    "duration": 62,
    "start_time": "2021-09-10T19:53:13.583Z"
   },
   {
    "duration": 64,
    "start_time": "2021-09-10T20:09:21.818Z"
   },
   {
    "duration": 70,
    "start_time": "2021-09-10T20:09:33.628Z"
   },
   {
    "duration": 64,
    "start_time": "2021-09-10T20:09:36.384Z"
   },
   {
    "duration": 11,
    "start_time": "2021-09-10T20:09:36.449Z"
   },
   {
    "duration": 5,
    "start_time": "2021-09-10T20:09:36.462Z"
   },
   {
    "duration": 8,
    "start_time": "2021-09-10T20:09:36.469Z"
   },
   {
    "duration": 11,
    "start_time": "2021-09-10T20:09:36.479Z"
   },
   {
    "duration": 20,
    "start_time": "2021-09-10T20:09:36.492Z"
   },
   {
    "duration": 99,
    "start_time": "2021-09-10T20:09:36.514Z"
   },
   {
    "duration": 42,
    "start_time": "2021-09-10T20:09:36.615Z"
   },
   {
    "duration": 311,
    "start_time": "2021-09-10T20:09:36.660Z"
   },
   {
    "duration": -786,
    "start_time": "2021-09-10T20:09:37.760Z"
   },
   {
    "duration": -787,
    "start_time": "2021-09-10T20:09:37.762Z"
   },
   {
    "duration": -789,
    "start_time": "2021-09-10T20:09:37.766Z"
   },
   {
    "duration": -788,
    "start_time": "2021-09-10T20:09:37.767Z"
   },
   {
    "duration": -789,
    "start_time": "2021-09-10T20:09:37.769Z"
   },
   {
    "duration": -791,
    "start_time": "2021-09-10T20:09:37.773Z"
   },
   {
    "duration": -792,
    "start_time": "2021-09-10T20:09:37.775Z"
   },
   {
    "duration": 63,
    "start_time": "2021-09-10T20:10:39.064Z"
   },
   {
    "duration": 69,
    "start_time": "2021-09-10T20:10:51.007Z"
   },
   {
    "duration": 70,
    "start_time": "2021-09-10T20:11:21.225Z"
   },
   {
    "duration": 70,
    "start_time": "2021-09-10T20:19:01.745Z"
   },
   {
    "duration": 322,
    "start_time": "2021-09-11T11:37:36.422Z"
   },
   {
    "duration": 877,
    "start_time": "2021-09-11T11:37:39.198Z"
   },
   {
    "duration": 14,
    "start_time": "2021-09-11T11:37:40.078Z"
   },
   {
    "duration": 7,
    "start_time": "2021-09-11T11:37:40.095Z"
   },
   {
    "duration": 17,
    "start_time": "2021-09-11T11:37:40.105Z"
   },
   {
    "duration": 41,
    "start_time": "2021-09-11T11:37:40.124Z"
   },
   {
    "duration": 29,
    "start_time": "2021-09-11T11:37:40.167Z"
   },
   {
    "duration": 95,
    "start_time": "2021-09-11T11:37:40.199Z"
   },
   {
    "duration": -747,
    "start_time": "2021-09-11T11:37:41.044Z"
   },
   {
    "duration": -748,
    "start_time": "2021-09-11T11:37:41.047Z"
   },
   {
    "duration": -749,
    "start_time": "2021-09-11T11:37:41.049Z"
   },
   {
    "duration": -749,
    "start_time": "2021-09-11T11:37:41.051Z"
   },
   {
    "duration": -752,
    "start_time": "2021-09-11T11:37:41.055Z"
   },
   {
    "duration": -752,
    "start_time": "2021-09-11T11:37:41.056Z"
   },
   {
    "duration": -752,
    "start_time": "2021-09-11T11:37:41.058Z"
   },
   {
    "duration": -754,
    "start_time": "2021-09-11T11:37:41.061Z"
   },
   {
    "duration": -755,
    "start_time": "2021-09-11T11:37:41.063Z"
   },
   {
    "duration": 61,
    "start_time": "2021-09-11T11:38:11.221Z"
   },
   {
    "duration": 62,
    "start_time": "2021-09-11T11:38:16.598Z"
   },
   {
    "duration": 62,
    "start_time": "2021-09-11T11:38:21.590Z"
   },
   {
    "duration": 28,
    "start_time": "2021-09-11T11:39:28.875Z"
   },
   {
    "duration": 59,
    "start_time": "2021-09-11T11:39:42.638Z"
   },
   {
    "duration": 59,
    "start_time": "2021-09-11T11:39:50.579Z"
   },
   {
    "duration": 62,
    "start_time": "2021-09-11T11:39:55.869Z"
   },
   {
    "duration": 59,
    "start_time": "2021-09-11T11:40:07.336Z"
   },
   {
    "duration": 63,
    "start_time": "2021-09-11T11:40:34.290Z"
   },
   {
    "duration": 62,
    "start_time": "2021-09-11T11:41:04.451Z"
   },
   {
    "duration": 61,
    "start_time": "2021-09-11T11:41:10.568Z"
   },
   {
    "duration": 59,
    "start_time": "2021-09-11T11:41:15.948Z"
   },
   {
    "duration": 61,
    "start_time": "2021-09-11T11:41:20.956Z"
   },
   {
    "duration": 42,
    "start_time": "2021-09-11T11:44:55.456Z"
   },
   {
    "duration": 74,
    "start_time": "2021-09-11T11:44:58.679Z"
   },
   {
    "duration": 16,
    "start_time": "2021-09-11T11:44:58.757Z"
   },
   {
    "duration": 13,
    "start_time": "2021-09-11T11:44:58.776Z"
   },
   {
    "duration": 13,
    "start_time": "2021-09-11T11:44:58.792Z"
   },
   {
    "duration": 13,
    "start_time": "2021-09-11T11:44:58.807Z"
   },
   {
    "duration": 33,
    "start_time": "2021-09-11T11:44:58.854Z"
   },
   {
    "duration": 98,
    "start_time": "2021-09-11T11:44:58.890Z"
   },
   {
    "duration": 34,
    "start_time": "2021-09-11T11:44:58.991Z"
   },
   {
    "duration": 350,
    "start_time": "2021-09-11T11:44:59.028Z"
   },
   {
    "duration": -759,
    "start_time": "2021-09-11T11:45:00.140Z"
   },
   {
    "duration": -762,
    "start_time": "2021-09-11T11:45:00.144Z"
   },
   {
    "duration": -762,
    "start_time": "2021-09-11T11:45:00.146Z"
   },
   {
    "duration": -762,
    "start_time": "2021-09-11T11:45:00.147Z"
   },
   {
    "duration": -764,
    "start_time": "2021-09-11T11:45:00.151Z"
   },
   {
    "duration": -765,
    "start_time": "2021-09-11T11:45:00.153Z"
   },
   {
    "duration": -765,
    "start_time": "2021-09-11T11:45:00.154Z"
   },
   {
    "duration": 7218,
    "start_time": "2021-09-11T11:45:24.065Z"
   },
   {
    "duration": 37,
    "start_time": "2021-09-11T11:45:34.687Z"
   },
   {
    "duration": 358,
    "start_time": "2021-09-11T11:45:46.137Z"
   },
   {
    "duration": 38,
    "start_time": "2021-09-11T11:49:32.947Z"
   },
   {
    "duration": 103,
    "start_time": "2021-09-11T11:51:10.004Z"
   },
   {
    "duration": 88,
    "start_time": "2021-09-11T11:51:14.384Z"
   },
   {
    "duration": 110,
    "start_time": "2021-09-11T11:51:53.247Z"
   },
   {
    "duration": 76,
    "start_time": "2021-09-11T11:51:55.641Z"
   },
   {
    "duration": 81,
    "start_time": "2021-09-11T11:52:00.611Z"
   },
   {
    "duration": 88,
    "start_time": "2021-09-11T11:53:00.328Z"
   },
   {
    "duration": 352,
    "start_time": "2021-09-11T11:54:12.817Z"
   },
   {
    "duration": 367,
    "start_time": "2021-09-11T11:54:18.469Z"
   },
   {
    "duration": 102,
    "start_time": "2021-09-11T11:54:43.257Z"
   },
   {
    "duration": 78,
    "start_time": "2021-09-11T11:55:27.633Z"
   },
   {
    "duration": 80,
    "start_time": "2021-09-11T11:55:30.222Z"
   },
   {
    "duration": 80,
    "start_time": "2021-09-11T11:55:33.877Z"
   },
   {
    "duration": 78,
    "start_time": "2021-09-11T11:55:41.118Z"
   },
   {
    "duration": 351,
    "start_time": "2021-09-11T11:55:56.766Z"
   },
   {
    "duration": 100,
    "start_time": "2021-09-11T11:56:08.843Z"
   },
   {
    "duration": 77,
    "start_time": "2021-09-11T11:56:34.344Z"
   },
   {
    "duration": 79,
    "start_time": "2021-09-11T11:56:38.632Z"
   },
   {
    "duration": 26,
    "start_time": "2021-09-11T11:56:48.934Z"
   },
   {
    "duration": 83,
    "start_time": "2021-09-11T12:01:50.148Z"
   },
   {
    "duration": 81,
    "start_time": "2021-09-11T12:01:58.158Z"
   },
   {
    "duration": 101,
    "start_time": "2021-09-11T12:02:30.755Z"
   },
   {
    "duration": 98,
    "start_time": "2021-09-11T12:07:17.624Z"
   },
   {
    "duration": 4150,
    "start_time": "2021-09-11T12:07:43.244Z"
   },
   {
    "duration": 7447,
    "start_time": "2021-09-11T12:08:46.377Z"
   },
   {
    "duration": 782,
    "start_time": "2021-09-11T12:12:00.208Z"
   },
   {
    "duration": 16,
    "start_time": "2021-09-11T12:12:00.994Z"
   },
   {
    "duration": 46,
    "start_time": "2021-09-11T12:12:01.014Z"
   },
   {
    "duration": 45,
    "start_time": "2021-09-11T12:12:01.063Z"
   },
   {
    "duration": 45,
    "start_time": "2021-09-11T12:12:01.110Z"
   },
   {
    "duration": 63,
    "start_time": "2021-09-11T12:12:01.157Z"
   },
   {
    "duration": 4457,
    "start_time": "2021-09-11T12:12:01.223Z"
   },
   {
    "duration": -757,
    "start_time": "2021-09-11T12:12:06.442Z"
   },
   {
    "duration": -757,
    "start_time": "2021-09-11T12:12:06.444Z"
   },
   {
    "duration": -760,
    "start_time": "2021-09-11T12:12:06.449Z"
   },
   {
    "duration": -758,
    "start_time": "2021-09-11T12:12:06.450Z"
   },
   {
    "duration": -760,
    "start_time": "2021-09-11T12:12:06.454Z"
   },
   {
    "duration": -760,
    "start_time": "2021-09-11T12:12:06.456Z"
   },
   {
    "duration": -758,
    "start_time": "2021-09-11T12:12:06.457Z"
   },
   {
    "duration": -757,
    "start_time": "2021-09-11T12:12:06.458Z"
   },
   {
    "duration": -756,
    "start_time": "2021-09-11T12:12:06.460Z"
   },
   {
    "duration": 810,
    "start_time": "2021-09-11T12:13:00.474Z"
   },
   {
    "duration": 15,
    "start_time": "2021-09-11T12:13:01.286Z"
   },
   {
    "duration": 13,
    "start_time": "2021-09-11T12:13:01.304Z"
   },
   {
    "duration": 36,
    "start_time": "2021-09-11T12:13:01.320Z"
   },
   {
    "duration": 14,
    "start_time": "2021-09-11T12:13:01.359Z"
   },
   {
    "duration": 33,
    "start_time": "2021-09-11T12:13:01.376Z"
   },
   {
    "duration": 838,
    "start_time": "2021-09-11T12:15:27.133Z"
   },
   {
    "duration": 16,
    "start_time": "2021-09-11T12:15:27.973Z"
   },
   {
    "duration": 6,
    "start_time": "2021-09-11T12:15:27.996Z"
   },
   {
    "duration": 16,
    "start_time": "2021-09-11T12:15:28.005Z"
   },
   {
    "duration": 12,
    "start_time": "2021-09-11T12:15:28.055Z"
   },
   {
    "duration": 25,
    "start_time": "2021-09-11T12:15:28.070Z"
   },
   {
    "duration": 113,
    "start_time": "2021-09-11T12:15:28.098Z"
   },
   {
    "duration": 49,
    "start_time": "2021-09-11T12:15:28.214Z"
   },
   {
    "duration": 384,
    "start_time": "2021-09-11T12:15:28.266Z"
   },
   {
    "duration": -755,
    "start_time": "2021-09-11T12:15:29.408Z"
   },
   {
    "duration": -756,
    "start_time": "2021-09-11T12:15:29.410Z"
   },
   {
    "duration": -759,
    "start_time": "2021-09-11T12:15:29.415Z"
   },
   {
    "duration": -759,
    "start_time": "2021-09-11T12:15:29.416Z"
   },
   {
    "duration": -758,
    "start_time": "2021-09-11T12:15:29.417Z"
   },
   {
    "duration": -758,
    "start_time": "2021-09-11T12:15:29.418Z"
   },
   {
    "duration": -759,
    "start_time": "2021-09-11T12:15:29.420Z"
   },
   {
    "duration": 4083,
    "start_time": "2021-09-11T12:17:26.800Z"
   },
   {
    "duration": 800,
    "start_time": "2021-09-11T12:18:24.448Z"
   },
   {
    "duration": 17,
    "start_time": "2021-09-11T12:18:25.251Z"
   },
   {
    "duration": 25,
    "start_time": "2021-09-11T12:18:25.272Z"
   },
   {
    "duration": 25,
    "start_time": "2021-09-11T12:18:25.301Z"
   },
   {
    "duration": 27,
    "start_time": "2021-09-11T12:18:25.329Z"
   },
   {
    "duration": 31,
    "start_time": "2021-09-11T12:18:25.359Z"
   },
   {
    "duration": 4311,
    "start_time": "2021-09-11T12:18:25.392Z"
   },
   {
    "duration": -763,
    "start_time": "2021-09-11T12:18:30.469Z"
   },
   {
    "duration": -762,
    "start_time": "2021-09-11T12:18:30.470Z"
   },
   {
    "duration": -762,
    "start_time": "2021-09-11T12:18:30.472Z"
   },
   {
    "duration": -762,
    "start_time": "2021-09-11T12:18:30.473Z"
   },
   {
    "duration": -762,
    "start_time": "2021-09-11T12:18:30.475Z"
   },
   {
    "duration": -764,
    "start_time": "2021-09-11T12:18:30.478Z"
   },
   {
    "duration": -764,
    "start_time": "2021-09-11T12:18:30.480Z"
   },
   {
    "duration": -764,
    "start_time": "2021-09-11T12:18:30.481Z"
   },
   {
    "duration": -764,
    "start_time": "2021-09-11T12:18:30.482Z"
   },
   {
    "duration": 3711,
    "start_time": "2021-09-11T12:18:47.531Z"
   },
   {
    "duration": 4426,
    "start_time": "2021-09-11T12:18:58.486Z"
   },
   {
    "duration": 4088,
    "start_time": "2021-09-11T12:19:11.040Z"
   },
   {
    "duration": 3931,
    "start_time": "2021-09-11T12:21:02.908Z"
   },
   {
    "duration": 4171,
    "start_time": "2021-09-11T12:21:30.651Z"
   },
   {
    "duration": 3756,
    "start_time": "2021-09-11T12:22:54.802Z"
   },
   {
    "duration": 112,
    "start_time": "2021-09-11T12:29:49.934Z"
   },
   {
    "duration": 4745,
    "start_time": "2021-09-11T12:44:08.283Z"
   },
   {
    "duration": 3805,
    "start_time": "2021-09-11T12:46:23.187Z"
   },
   {
    "duration": 1405,
    "start_time": "2021-09-11T12:48:24.551Z"
   },
   {
    "duration": 831,
    "start_time": "2021-09-11T12:50:37.421Z"
   },
   {
    "duration": 14,
    "start_time": "2021-09-11T12:50:38.255Z"
   },
   {
    "duration": 14,
    "start_time": "2021-09-11T12:50:38.272Z"
   },
   {
    "duration": 32,
    "start_time": "2021-09-11T12:50:38.289Z"
   },
   {
    "duration": 26,
    "start_time": "2021-09-11T12:50:38.323Z"
   },
   {
    "duration": 40,
    "start_time": "2021-09-11T12:50:38.352Z"
   },
   {
    "duration": 97,
    "start_time": "2021-09-11T12:50:38.394Z"
   },
   {
    "duration": 35,
    "start_time": "2021-09-11T12:50:38.495Z"
   },
   {
    "duration": 399,
    "start_time": "2021-09-11T12:50:38.533Z"
   },
   {
    "duration": -759,
    "start_time": "2021-09-11T12:50:39.694Z"
   },
   {
    "duration": -758,
    "start_time": "2021-09-11T12:50:39.695Z"
   },
   {
    "duration": -760,
    "start_time": "2021-09-11T12:50:39.700Z"
   },
   {
    "duration": -765,
    "start_time": "2021-09-11T12:50:39.707Z"
   },
   {
    "duration": -764,
    "start_time": "2021-09-11T12:50:39.708Z"
   },
   {
    "duration": -763,
    "start_time": "2021-09-11T12:50:39.710Z"
   },
   {
    "duration": -766,
    "start_time": "2021-09-11T12:50:39.715Z"
   },
   {
    "duration": 91,
    "start_time": "2021-09-11T12:50:48.816Z"
   },
   {
    "duration": 106,
    "start_time": "2021-09-11T12:50:57.541Z"
   },
   {
    "duration": 107,
    "start_time": "2021-09-11T12:51:08.996Z"
   },
   {
    "duration": 885,
    "start_time": "2021-09-11T14:08:15.401Z"
   },
   {
    "duration": 80,
    "start_time": "2021-09-11T14:08:53.248Z"
   },
   {
    "duration": 28,
    "start_time": "2021-09-11T14:08:53.332Z"
   },
   {
    "duration": 14,
    "start_time": "2021-09-11T14:08:53.363Z"
   },
   {
    "duration": 32,
    "start_time": "2021-09-11T14:08:53.380Z"
   },
   {
    "duration": 26,
    "start_time": "2021-09-11T14:08:53.415Z"
   },
   {
    "duration": 38,
    "start_time": "2021-09-11T14:08:53.443Z"
   },
   {
    "duration": 877,
    "start_time": "2021-09-11T14:08:53.483Z"
   },
   {
    "duration": 34,
    "start_time": "2021-09-11T14:08:54.363Z"
   },
   {
    "duration": 323,
    "start_time": "2021-09-11T14:08:54.401Z"
   },
   {
    "duration": -767,
    "start_time": "2021-09-11T14:08:55.493Z"
   },
   {
    "duration": -767,
    "start_time": "2021-09-11T14:08:55.495Z"
   },
   {
    "duration": -767,
    "start_time": "2021-09-11T14:08:55.497Z"
   },
   {
    "duration": -767,
    "start_time": "2021-09-11T14:08:55.498Z"
   },
   {
    "duration": -770,
    "start_time": "2021-09-11T14:08:55.502Z"
   },
   {
    "duration": -770,
    "start_time": "2021-09-11T14:08:55.504Z"
   },
   {
    "duration": -770,
    "start_time": "2021-09-11T14:08:55.505Z"
   },
   {
    "duration": 868,
    "start_time": "2021-09-11T14:11:06.513Z"
   },
   {
    "duration": 142,
    "start_time": "2021-09-11T14:14:34.045Z"
   },
   {
    "duration": 839,
    "start_time": "2021-09-11T14:14:44.338Z"
   },
   {
    "duration": 842,
    "start_time": "2021-09-11T14:15:01.918Z"
   },
   {
    "duration": 851,
    "start_time": "2021-09-11T14:15:25.539Z"
   },
   {
    "duration": 875,
    "start_time": "2021-09-11T14:16:12.661Z"
   },
   {
    "duration": 822,
    "start_time": "2021-09-11T14:16:21.921Z"
   },
   {
    "duration": 833,
    "start_time": "2021-09-11T14:16:36.320Z"
   },
   {
    "duration": 823,
    "start_time": "2021-09-11T14:16:50.409Z"
   },
   {
    "duration": 838,
    "start_time": "2021-09-11T14:17:16.684Z"
   },
   {
    "duration": 824,
    "start_time": "2021-09-11T14:18:11.533Z"
   },
   {
    "duration": 851,
    "start_time": "2021-09-11T14:19:57.909Z"
   },
   {
    "duration": 76,
    "start_time": "2021-09-11T14:20:00.221Z"
   },
   {
    "duration": 13,
    "start_time": "2021-09-11T14:20:00.300Z"
   },
   {
    "duration": 24,
    "start_time": "2021-09-11T14:20:00.316Z"
   },
   {
    "duration": 30,
    "start_time": "2021-09-11T14:20:00.344Z"
   },
   {
    "duration": 28,
    "start_time": "2021-09-11T14:20:00.376Z"
   },
   {
    "duration": 59,
    "start_time": "2021-09-11T14:20:00.407Z"
   },
   {
    "duration": 950,
    "start_time": "2021-09-11T14:20:00.469Z"
   },
   {
    "duration": 49,
    "start_time": "2021-09-11T14:20:01.422Z"
   },
   {
    "duration": 18,
    "start_time": "2021-09-11T14:20:01.476Z"
   },
   {
    "duration": 125,
    "start_time": "2021-09-11T14:20:01.497Z"
   },
   {
    "duration": 4440,
    "start_time": "2021-09-11T14:20:01.625Z"
   },
   {
    "duration": 110,
    "start_time": "2021-09-11T14:20:06.068Z"
   },
   {
    "duration": 42,
    "start_time": "2021-09-11T14:20:06.181Z"
   },
   {
    "duration": 156,
    "start_time": "2021-09-11T14:20:06.225Z"
   },
   {
    "duration": 38,
    "start_time": "2021-09-11T14:20:06.383Z"
   },
   {
    "duration": 68,
    "start_time": "2021-09-11T14:20:06.423Z"
   },
   {
    "duration": 871,
    "start_time": "2021-09-11T14:20:23.017Z"
   },
   {
    "duration": 852,
    "start_time": "2021-09-11T14:20:27.420Z"
   },
   {
    "duration": 4458,
    "start_time": "2021-09-11T14:22:00.421Z"
   },
   {
    "duration": 90,
    "start_time": "2021-09-11T14:22:21.782Z"
   },
   {
    "duration": 17,
    "start_time": "2021-09-11T14:22:21.875Z"
   },
   {
    "duration": 15,
    "start_time": "2021-09-11T14:22:21.896Z"
   },
   {
    "duration": 40,
    "start_time": "2021-09-11T14:22:21.914Z"
   },
   {
    "duration": 16,
    "start_time": "2021-09-11T14:22:21.956Z"
   },
   {
    "duration": 31,
    "start_time": "2021-09-11T14:22:21.975Z"
   },
   {
    "duration": 872,
    "start_time": "2021-09-11T14:22:22.008Z"
   },
   {
    "duration": 37,
    "start_time": "2021-09-11T14:22:22.883Z"
   },
   {
    "duration": 38,
    "start_time": "2021-09-11T14:22:22.923Z"
   },
   {
    "duration": 117,
    "start_time": "2021-09-11T14:22:22.964Z"
   },
   {
    "duration": 4560,
    "start_time": "2021-09-11T14:22:23.084Z"
   },
   {
    "duration": 110,
    "start_time": "2021-09-11T14:22:27.646Z"
   },
   {
    "duration": 45,
    "start_time": "2021-09-11T14:22:27.758Z"
   },
   {
    "duration": 78,
    "start_time": "2021-09-11T14:22:27.806Z"
   },
   {
    "duration": 37,
    "start_time": "2021-09-11T14:22:27.887Z"
   },
   {
    "duration": 66,
    "start_time": "2021-09-11T14:22:27.927Z"
   },
   {
    "duration": 74,
    "start_time": "2021-09-11T14:23:32.094Z"
   },
   {
    "duration": 102,
    "start_time": "2021-09-11T14:23:47.435Z"
   },
   {
    "duration": 37,
    "start_time": "2021-09-11T14:26:00.477Z"
   },
   {
    "duration": 36,
    "start_time": "2021-09-11T14:26:38.226Z"
   },
   {
    "duration": 37,
    "start_time": "2021-09-11T14:27:37.980Z"
   },
   {
    "duration": 80,
    "start_time": "2021-09-11T14:28:08.793Z"
   },
   {
    "duration": 14,
    "start_time": "2021-09-11T14:28:08.876Z"
   },
   {
    "duration": 20,
    "start_time": "2021-09-11T14:28:08.893Z"
   },
   {
    "duration": 30,
    "start_time": "2021-09-11T14:28:08.915Z"
   },
   {
    "duration": 26,
    "start_time": "2021-09-11T14:28:08.948Z"
   },
   {
    "duration": 30,
    "start_time": "2021-09-11T14:28:08.977Z"
   },
   {
    "duration": 859,
    "start_time": "2021-09-11T14:28:09.009Z"
   },
   {
    "duration": 34,
    "start_time": "2021-09-11T14:28:09.870Z"
   },
   {
    "duration": 47,
    "start_time": "2021-09-11T14:28:09.908Z"
   },
   {
    "duration": 123,
    "start_time": "2021-09-11T14:28:09.958Z"
   },
   {
    "duration": 4500,
    "start_time": "2021-09-11T14:28:10.084Z"
   },
   {
    "duration": 106,
    "start_time": "2021-09-11T14:28:14.586Z"
   },
   {
    "duration": 41,
    "start_time": "2021-09-11T14:28:14.695Z"
   },
   {
    "duration": 62,
    "start_time": "2021-09-11T14:28:14.739Z"
   },
   {
    "duration": 64,
    "start_time": "2021-09-11T14:28:14.803Z"
   },
   {
    "duration": 44,
    "start_time": "2021-09-11T14:28:14.870Z"
   },
   {
    "duration": 100,
    "start_time": "2021-09-11T14:31:58.144Z"
   },
   {
    "duration": 76,
    "start_time": "2021-09-11T14:32:01.486Z"
   },
   {
    "duration": 15,
    "start_time": "2021-09-11T14:32:01.565Z"
   },
   {
    "duration": 6,
    "start_time": "2021-09-11T14:32:01.584Z"
   },
   {
    "duration": 29,
    "start_time": "2021-09-11T14:32:01.593Z"
   },
   {
    "duration": 31,
    "start_time": "2021-09-11T14:32:01.625Z"
   },
   {
    "duration": 41,
    "start_time": "2021-09-11T14:32:01.659Z"
   },
   {
    "duration": 842,
    "start_time": "2021-09-11T14:32:01.703Z"
   },
   {
    "duration": 51,
    "start_time": "2021-09-11T14:32:02.548Z"
   },
   {
    "duration": 19,
    "start_time": "2021-09-11T14:32:02.602Z"
   },
   {
    "duration": 117,
    "start_time": "2021-09-11T14:32:02.623Z"
   },
   {
    "duration": 4611,
    "start_time": "2021-09-11T14:32:02.743Z"
   },
   {
    "duration": 112,
    "start_time": "2021-09-11T14:32:07.356Z"
   },
   {
    "duration": 43,
    "start_time": "2021-09-11T14:32:07.471Z"
   },
   {
    "duration": 67,
    "start_time": "2021-09-11T14:32:07.516Z"
   },
   {
    "duration": 36,
    "start_time": "2021-09-11T14:32:07.586Z"
   },
   {
    "duration": 69,
    "start_time": "2021-09-11T14:32:07.624Z"
   },
   {
    "duration": 95,
    "start_time": "2021-09-11T14:39:36.388Z"
   },
   {
    "duration": 77,
    "start_time": "2021-09-11T14:39:39.730Z"
   },
   {
    "duration": 14,
    "start_time": "2021-09-11T14:39:39.809Z"
   },
   {
    "duration": 8,
    "start_time": "2021-09-11T14:39:39.827Z"
   },
   {
    "duration": 25,
    "start_time": "2021-09-11T14:39:39.837Z"
   },
   {
    "duration": 12,
    "start_time": "2021-09-11T14:39:39.864Z"
   },
   {
    "duration": 37,
    "start_time": "2021-09-11T14:39:39.879Z"
   },
   {
    "duration": 843,
    "start_time": "2021-09-11T14:39:39.918Z"
   },
   {
    "duration": 35,
    "start_time": "2021-09-11T14:39:40.763Z"
   },
   {
    "duration": 18,
    "start_time": "2021-09-11T14:39:40.801Z"
   },
   {
    "duration": 116,
    "start_time": "2021-09-11T14:39:40.822Z"
   },
   {
    "duration": 4490,
    "start_time": "2021-09-11T14:39:40.954Z"
   },
   {
    "duration": 110,
    "start_time": "2021-09-11T14:39:45.447Z"
   },
   {
    "duration": 44,
    "start_time": "2021-09-11T14:39:45.561Z"
   },
   {
    "duration": 76,
    "start_time": "2021-09-11T14:39:45.607Z"
   },
   {
    "duration": 36,
    "start_time": "2021-09-11T14:39:45.685Z"
   },
   {
    "duration": 72,
    "start_time": "2021-09-11T14:39:45.724Z"
   },
   {
    "duration": 37,
    "start_time": "2021-09-11T14:40:07.603Z"
   },
   {
    "duration": 32,
    "start_time": "2021-09-11T14:40:11.315Z"
   },
   {
    "duration": 81,
    "start_time": "2021-09-11T14:40:47.755Z"
   },
   {
    "duration": 82,
    "start_time": "2021-09-11T14:42:41.186Z"
   },
   {
    "duration": 83,
    "start_time": "2021-09-11T14:43:54.441Z"
   },
   {
    "duration": 86,
    "start_time": "2021-09-11T14:44:12.171Z"
   },
   {
    "duration": 83,
    "start_time": "2021-09-11T14:44:42.921Z"
   },
   {
    "duration": 86,
    "start_time": "2021-09-11T14:44:58.320Z"
   },
   {
    "duration": 84,
    "start_time": "2021-09-11T14:47:42.128Z"
   },
   {
    "duration": 88,
    "start_time": "2021-09-11T14:47:54.806Z"
   },
   {
    "duration": 88,
    "start_time": "2021-09-11T14:48:07.422Z"
   },
   {
    "duration": 90,
    "start_time": "2021-09-11T14:48:20.750Z"
   },
   {
    "duration": 81,
    "start_time": "2021-09-11T14:48:25.817Z"
   },
   {
    "duration": 15,
    "start_time": "2021-09-11T14:48:25.901Z"
   },
   {
    "duration": 6,
    "start_time": "2021-09-11T14:48:25.919Z"
   },
   {
    "duration": 38,
    "start_time": "2021-09-11T14:48:25.927Z"
   },
   {
    "duration": 16,
    "start_time": "2021-09-11T14:48:25.968Z"
   },
   {
    "duration": 30,
    "start_time": "2021-09-11T14:48:25.986Z"
   },
   {
    "duration": 864,
    "start_time": "2021-09-11T14:48:26.019Z"
   },
   {
    "duration": 34,
    "start_time": "2021-09-11T14:48:26.887Z"
   },
   {
    "duration": 41,
    "start_time": "2021-09-11T14:48:26.924Z"
   },
   {
    "duration": 103,
    "start_time": "2021-09-11T14:48:26.967Z"
   },
   {
    "duration": 4488,
    "start_time": "2021-09-11T14:48:27.072Z"
   },
   {
    "duration": 100,
    "start_time": "2021-09-11T14:48:31.563Z"
   },
   {
    "duration": 43,
    "start_time": "2021-09-11T14:48:31.666Z"
   },
   {
    "duration": 67,
    "start_time": "2021-09-11T14:48:31.711Z"
   },
   {
    "duration": 34,
    "start_time": "2021-09-11T14:48:31.780Z"
   },
   {
    "duration": 67,
    "start_time": "2021-09-11T14:48:31.816Z"
   },
   {
    "duration": 81,
    "start_time": "2021-09-11T14:48:48.619Z"
   },
   {
    "duration": 14,
    "start_time": "2021-09-11T14:48:48.703Z"
   },
   {
    "duration": 30,
    "start_time": "2021-09-11T14:48:48.720Z"
   },
   {
    "duration": 22,
    "start_time": "2021-09-11T14:48:48.753Z"
   },
   {
    "duration": 34,
    "start_time": "2021-09-11T14:48:48.777Z"
   },
   {
    "duration": 59,
    "start_time": "2021-09-11T14:48:48.813Z"
   },
   {
    "duration": 942,
    "start_time": "2021-09-11T14:48:48.875Z"
   },
   {
    "duration": 50,
    "start_time": "2021-09-11T14:48:49.821Z"
   },
   {
    "duration": 17,
    "start_time": "2021-09-11T14:48:49.874Z"
   },
   {
    "duration": 119,
    "start_time": "2021-09-11T14:48:49.894Z"
   },
   {
    "duration": 4505,
    "start_time": "2021-09-11T14:48:50.015Z"
   },
   {
    "duration": 111,
    "start_time": "2021-09-11T14:48:54.523Z"
   },
   {
    "duration": 53,
    "start_time": "2021-09-11T14:48:54.637Z"
   },
   {
    "duration": 82,
    "start_time": "2021-09-11T14:48:54.693Z"
   },
   {
    "duration": 39,
    "start_time": "2021-09-11T14:48:54.777Z"
   },
   {
    "duration": 71,
    "start_time": "2021-09-11T14:48:54.819Z"
   },
   {
    "duration": 83,
    "start_time": "2021-09-11T14:49:12.066Z"
   },
   {
    "duration": 83,
    "start_time": "2021-09-11T14:49:15.272Z"
   },
   {
    "duration": 15,
    "start_time": "2021-09-11T14:49:15.358Z"
   },
   {
    "duration": 12,
    "start_time": "2021-09-11T14:49:15.376Z"
   },
   {
    "duration": 24,
    "start_time": "2021-09-11T14:49:15.391Z"
   },
   {
    "duration": 17,
    "start_time": "2021-09-11T14:49:15.417Z"
   },
   {
    "duration": 53,
    "start_time": "2021-09-11T14:49:15.436Z"
   },
   {
    "duration": 841,
    "start_time": "2021-09-11T14:49:15.491Z"
   },
   {
    "duration": 40,
    "start_time": "2021-09-11T14:49:16.335Z"
   },
   {
    "duration": 18,
    "start_time": "2021-09-11T14:49:16.379Z"
   },
   {
    "duration": 112,
    "start_time": "2021-09-11T14:49:16.400Z"
   },
   {
    "duration": 4498,
    "start_time": "2021-09-11T14:49:16.515Z"
   },
   {
    "duration": 101,
    "start_time": "2021-09-11T14:49:21.015Z"
   },
   {
    "duration": 54,
    "start_time": "2021-09-11T14:49:21.118Z"
   },
   {
    "duration": 52,
    "start_time": "2021-09-11T14:49:21.175Z"
   },
   {
    "duration": 53,
    "start_time": "2021-09-11T14:49:21.229Z"
   },
   {
    "duration": 49,
    "start_time": "2021-09-11T14:49:21.284Z"
   },
   {
    "duration": 80,
    "start_time": "2021-09-11T14:49:45.904Z"
   },
   {
    "duration": 13,
    "start_time": "2021-09-11T14:49:45.987Z"
   },
   {
    "duration": 9,
    "start_time": "2021-09-11T14:49:46.003Z"
   },
   {
    "duration": 18,
    "start_time": "2021-09-11T14:49:46.015Z"
   },
   {
    "duration": 12,
    "start_time": "2021-09-11T14:49:46.054Z"
   },
   {
    "duration": 25,
    "start_time": "2021-09-11T14:49:46.069Z"
   },
   {
    "duration": 851,
    "start_time": "2021-09-11T14:49:46.097Z"
   },
   {
    "duration": 34,
    "start_time": "2021-09-11T14:49:46.952Z"
   },
   {
    "duration": 18,
    "start_time": "2021-09-11T14:49:46.988Z"
   },
   {
    "duration": 126,
    "start_time": "2021-09-11T14:49:47.009Z"
   },
   {
    "duration": 4468,
    "start_time": "2021-09-11T14:49:47.137Z"
   },
   {
    "duration": 95,
    "start_time": "2021-09-11T14:49:51.608Z"
   },
   {
    "duration": 54,
    "start_time": "2021-09-11T14:49:51.706Z"
   },
   {
    "duration": 52,
    "start_time": "2021-09-11T14:49:51.763Z"
   },
   {
    "duration": 57,
    "start_time": "2021-09-11T14:49:51.817Z"
   },
   {
    "duration": 43,
    "start_time": "2021-09-11T14:49:51.876Z"
   },
   {
    "duration": 89,
    "start_time": "2021-09-11T14:50:32.762Z"
   },
   {
    "duration": 35,
    "start_time": "2021-09-11T14:50:33.690Z"
   },
   {
    "duration": 50,
    "start_time": "2021-09-11T14:50:35.151Z"
   },
   {
    "duration": 36,
    "start_time": "2021-09-11T14:50:35.991Z"
   },
   {
    "duration": 88,
    "start_time": "2021-09-11T14:51:11.107Z"
   },
   {
    "duration": 38,
    "start_time": "2021-09-11T14:51:11.971Z"
   },
   {
    "duration": 54,
    "start_time": "2021-09-11T14:51:13.329Z"
   },
   {
    "duration": 89,
    "start_time": "2021-09-11T14:51:19.756Z"
   },
   {
    "duration": 37,
    "start_time": "2021-09-11T14:51:20.660Z"
   },
   {
    "duration": 51,
    "start_time": "2021-09-11T14:51:21.195Z"
   },
   {
    "duration": 36,
    "start_time": "2021-09-11T14:51:22.406Z"
   },
   {
    "duration": 86,
    "start_time": "2021-09-11T14:51:53.858Z"
   },
   {
    "duration": 35,
    "start_time": "2021-09-11T14:51:54.749Z"
   },
   {
    "duration": 52,
    "start_time": "2021-09-11T14:51:55.284Z"
   },
   {
    "duration": 36,
    "start_time": "2021-09-11T14:51:56.258Z"
   },
   {
    "duration": 88,
    "start_time": "2021-09-11T14:52:20.323Z"
   },
   {
    "duration": 37,
    "start_time": "2021-09-11T14:52:22.809Z"
   },
   {
    "duration": 53,
    "start_time": "2021-09-11T14:52:23.814Z"
   },
   {
    "duration": 40,
    "start_time": "2021-09-11T14:52:25.240Z"
   },
   {
    "duration": 88,
    "start_time": "2021-09-11T14:53:17.789Z"
   },
   {
    "duration": 35,
    "start_time": "2021-09-11T14:53:34.375Z"
   },
   {
    "duration": 51,
    "start_time": "2021-09-11T14:53:34.869Z"
   },
   {
    "duration": 38,
    "start_time": "2021-09-11T14:53:35.793Z"
   },
   {
    "duration": 85,
    "start_time": "2021-09-11T14:54:01.023Z"
   },
   {
    "duration": 35,
    "start_time": "2021-09-11T14:54:02.118Z"
   },
   {
    "duration": 51,
    "start_time": "2021-09-11T14:54:02.792Z"
   },
   {
    "duration": 38,
    "start_time": "2021-09-11T14:54:04.887Z"
   },
   {
    "duration": 89,
    "start_time": "2021-09-11T14:55:08.374Z"
   },
   {
    "duration": 34,
    "start_time": "2021-09-11T14:55:10.487Z"
   },
   {
    "duration": 49,
    "start_time": "2021-09-11T14:55:11.644Z"
   },
   {
    "duration": 38,
    "start_time": "2021-09-11T14:55:13.111Z"
   },
   {
    "duration": 89,
    "start_time": "2021-09-11T14:55:46.953Z"
   },
   {
    "duration": 35,
    "start_time": "2021-09-11T14:55:49.208Z"
   },
   {
    "duration": 51,
    "start_time": "2021-09-11T14:55:50.366Z"
   },
   {
    "duration": 37,
    "start_time": "2021-09-11T14:55:51.766Z"
   },
   {
    "duration": 85,
    "start_time": "2021-09-11T14:56:09.985Z"
   },
   {
    "duration": 36,
    "start_time": "2021-09-11T14:56:10.894Z"
   },
   {
    "duration": 51,
    "start_time": "2021-09-11T14:56:11.586Z"
   },
   {
    "duration": 35,
    "start_time": "2021-09-11T14:56:12.924Z"
   },
   {
    "duration": 336,
    "start_time": "2021-09-12T09:03:12.718Z"
   },
   {
    "duration": 731,
    "start_time": "2021-09-12T09:03:15.420Z"
   },
   {
    "duration": 14,
    "start_time": "2021-09-12T09:03:16.153Z"
   },
   {
    "duration": 13,
    "start_time": "2021-09-12T09:03:16.170Z"
   },
   {
    "duration": 10,
    "start_time": "2021-09-12T09:03:16.186Z"
   },
   {
    "duration": 11,
    "start_time": "2021-09-12T09:03:16.199Z"
   },
   {
    "duration": 28,
    "start_time": "2021-09-12T09:03:16.212Z"
   },
   {
    "duration": 873,
    "start_time": "2021-09-12T09:03:16.243Z"
   },
   {
    "duration": 32,
    "start_time": "2021-09-12T09:03:17.119Z"
   },
   {
    "duration": 34,
    "start_time": "2021-09-12T09:03:17.155Z"
   },
   {
    "duration": 103,
    "start_time": "2021-09-12T09:03:17.192Z"
   },
   {
    "duration": 4452,
    "start_time": "2021-09-12T09:03:17.298Z"
   },
   {
    "duration": 85,
    "start_time": "2021-09-12T09:03:21.753Z"
   },
   {
    "duration": 52,
    "start_time": "2021-09-12T09:03:21.840Z"
   },
   {
    "duration": 50,
    "start_time": "2021-09-12T09:03:21.894Z"
   },
   {
    "duration": 53,
    "start_time": "2021-09-12T09:03:21.947Z"
   },
   {
    "duration": 169,
    "start_time": "2021-09-12T09:03:22.003Z"
   },
   {
    "duration": 35,
    "start_time": "2021-09-12T09:03:36.724Z"
   },
   {
    "duration": 14,
    "start_time": "2021-09-12T09:03:45.774Z"
   },
   {
    "duration": 70,
    "start_time": "2021-09-12T09:03:50.736Z"
   },
   {
    "duration": 13,
    "start_time": "2021-09-12T09:03:50.808Z"
   },
   {
    "duration": 5,
    "start_time": "2021-09-12T09:03:50.825Z"
   },
   {
    "duration": 12,
    "start_time": "2021-09-12T09:03:50.833Z"
   },
   {
    "duration": 46,
    "start_time": "2021-09-12T09:03:50.847Z"
   },
   {
    "duration": 22,
    "start_time": "2021-09-12T09:03:50.895Z"
   },
   {
    "duration": 819,
    "start_time": "2021-09-12T09:03:50.920Z"
   },
   {
    "duration": 44,
    "start_time": "2021-09-12T09:03:51.742Z"
   },
   {
    "duration": 335,
    "start_time": "2021-09-12T09:03:51.789Z"
   },
   {
    "duration": -1365,
    "start_time": "2021-09-12T09:03:53.491Z"
   },
   {
    "duration": -1367,
    "start_time": "2021-09-12T09:03:53.495Z"
   },
   {
    "duration": -1367,
    "start_time": "2021-09-12T09:03:53.497Z"
   },
   {
    "duration": -1367,
    "start_time": "2021-09-12T09:03:53.498Z"
   },
   {
    "duration": -1367,
    "start_time": "2021-09-12T09:03:53.500Z"
   },
   {
    "duration": -1368,
    "start_time": "2021-09-12T09:03:53.502Z"
   },
   {
    "duration": -1367,
    "start_time": "2021-09-12T09:03:53.503Z"
   },
   {
    "duration": 29,
    "start_time": "2021-09-12T09:04:44.932Z"
   },
   {
    "duration": 27,
    "start_time": "2021-09-12T09:06:10.868Z"
   },
   {
    "duration": 28,
    "start_time": "2021-09-12T09:06:19.511Z"
   },
   {
    "duration": 816,
    "start_time": "2021-09-12T09:09:43.606Z"
   },
   {
    "duration": 800,
    "start_time": "2021-09-12T09:19:28.685Z"
   },
   {
    "duration": 71,
    "start_time": "2021-09-12T09:21:05.130Z"
   },
   {
    "duration": 13,
    "start_time": "2021-09-12T09:21:05.204Z"
   },
   {
    "duration": 5,
    "start_time": "2021-09-12T09:21:05.220Z"
   },
   {
    "duration": 10,
    "start_time": "2021-09-12T09:21:05.228Z"
   },
   {
    "duration": 44,
    "start_time": "2021-09-12T09:21:05.240Z"
   },
   {
    "duration": 19,
    "start_time": "2021-09-12T09:21:05.287Z"
   },
   {
    "duration": 28,
    "start_time": "2021-09-12T09:21:05.309Z"
   },
   {
    "duration": 832,
    "start_time": "2021-09-12T09:21:05.339Z"
   },
   {
    "duration": 34,
    "start_time": "2021-09-12T09:21:06.174Z"
   },
   {
    "duration": 16,
    "start_time": "2021-09-12T09:21:06.210Z"
   },
   {
    "duration": 131,
    "start_time": "2021-09-12T09:21:06.228Z"
   },
   {
    "duration": 4292,
    "start_time": "2021-09-12T09:21:06.361Z"
   },
   {
    "duration": 87,
    "start_time": "2021-09-12T09:21:10.656Z"
   },
   {
    "duration": 53,
    "start_time": "2021-09-12T09:21:10.745Z"
   },
   {
    "duration": 46,
    "start_time": "2021-09-12T09:21:10.800Z"
   },
   {
    "duration": 53,
    "start_time": "2021-09-12T09:21:10.848Z"
   },
   {
    "duration": 37,
    "start_time": "2021-09-12T09:21:10.903Z"
   },
   {
    "duration": 16,
    "start_time": "2021-09-12T09:36:05.255Z"
   },
   {
    "duration": 15,
    "start_time": "2021-09-12T09:36:24.400Z"
   },
   {
    "duration": 15,
    "start_time": "2021-09-12T09:36:32.208Z"
   },
   {
    "duration": 2759,
    "start_time": "2021-09-12T09:36:39.537Z"
   },
   {
    "duration": 15,
    "start_time": "2021-09-12T09:36:43.780Z"
   },
   {
    "duration": 16,
    "start_time": "2021-09-12T09:36:52.280Z"
   },
   {
    "duration": 9,
    "start_time": "2021-09-12T09:37:09.313Z"
   },
   {
    "duration": 8,
    "start_time": "2021-09-12T09:37:28.816Z"
   },
   {
    "duration": 12,
    "start_time": "2021-09-12T09:37:37.906Z"
   },
   {
    "duration": 16,
    "start_time": "2021-09-12T09:37:47.147Z"
   },
   {
    "duration": 15,
    "start_time": "2021-09-12T09:38:00.510Z"
   },
   {
    "duration": -1373,
    "start_time": "2021-09-12T09:38:49.574Z"
   },
   {
    "duration": -1376,
    "start_time": "2021-09-12T09:38:49.578Z"
   },
   {
    "duration": -1376,
    "start_time": "2021-09-12T09:38:49.579Z"
   },
   {
    "duration": -1376,
    "start_time": "2021-09-12T09:38:49.581Z"
   },
   {
    "duration": -1376,
    "start_time": "2021-09-12T09:38:49.582Z"
   },
   {
    "duration": -1375,
    "start_time": "2021-09-12T09:38:49.583Z"
   },
   {
    "duration": -1375,
    "start_time": "2021-09-12T09:38:49.584Z"
   },
   {
    "duration": -1378,
    "start_time": "2021-09-12T09:38:49.588Z"
   },
   {
    "duration": -1377,
    "start_time": "2021-09-12T09:38:49.589Z"
   },
   {
    "duration": -1377,
    "start_time": "2021-09-12T09:38:49.590Z"
   },
   {
    "duration": -1378,
    "start_time": "2021-09-12T09:38:49.592Z"
   },
   {
    "duration": -1377,
    "start_time": "2021-09-12T09:38:49.593Z"
   },
   {
    "duration": -1378,
    "start_time": "2021-09-12T09:38:49.595Z"
   },
   {
    "duration": -1377,
    "start_time": "2021-09-12T09:38:49.596Z"
   },
   {
    "duration": -1377,
    "start_time": "2021-09-12T09:38:49.597Z"
   },
   {
    "duration": -1378,
    "start_time": "2021-09-12T09:38:49.599Z"
   },
   {
    "duration": -1380,
    "start_time": "2021-09-12T09:38:49.602Z"
   },
   {
    "duration": 69,
    "start_time": "2021-09-12T09:39:10.339Z"
   },
   {
    "duration": 13,
    "start_time": "2021-09-12T09:39:10.410Z"
   },
   {
    "duration": 5,
    "start_time": "2021-09-12T09:39:10.426Z"
   },
   {
    "duration": 12,
    "start_time": "2021-09-12T09:39:10.433Z"
   },
   {
    "duration": 42,
    "start_time": "2021-09-12T09:39:10.448Z"
   },
   {
    "duration": 19,
    "start_time": "2021-09-12T09:39:10.492Z"
   },
   {
    "duration": 28,
    "start_time": "2021-09-12T09:39:10.514Z"
   },
   {
    "duration": 853,
    "start_time": "2021-09-12T09:39:10.544Z"
   },
   {
    "duration": 16,
    "start_time": "2021-09-12T09:39:11.400Z"
   },
   {
    "duration": 18,
    "start_time": "2021-09-12T09:39:11.418Z"
   },
   {
    "duration": 104,
    "start_time": "2021-09-12T09:39:11.439Z"
   },
   {
    "duration": 4276,
    "start_time": "2021-09-12T09:39:11.545Z"
   },
   {
    "duration": 90,
    "start_time": "2021-09-12T09:39:15.824Z"
   },
   {
    "duration": 42,
    "start_time": "2021-09-12T09:39:15.917Z"
   },
   {
    "duration": 68,
    "start_time": "2021-09-12T09:39:15.962Z"
   },
   {
    "duration": 61,
    "start_time": "2021-09-12T09:39:16.033Z"
   },
   {
    "duration": 43,
    "start_time": "2021-09-12T09:39:16.097Z"
   },
   {
    "duration": 21,
    "start_time": "2021-09-12T09:43:48.121Z"
   },
   {
    "duration": 70,
    "start_time": "2021-09-12T09:43:54.248Z"
   },
   {
    "duration": 34,
    "start_time": "2021-09-12T09:43:55.222Z"
   },
   {
    "duration": 22,
    "start_time": "2021-09-12T09:43:56.588Z"
   },
   {
    "duration": 73,
    "start_time": "2021-09-12T09:44:00.717Z"
   },
   {
    "duration": 15,
    "start_time": "2021-09-12T09:44:00.793Z"
   },
   {
    "duration": 8,
    "start_time": "2021-09-12T09:44:00.811Z"
   },
   {
    "duration": 17,
    "start_time": "2021-09-12T09:44:00.822Z"
   },
   {
    "duration": 42,
    "start_time": "2021-09-12T09:44:00.842Z"
   },
   {
    "duration": 21,
    "start_time": "2021-09-12T09:44:00.887Z"
   },
   {
    "duration": 31,
    "start_time": "2021-09-12T09:44:00.911Z"
   },
   {
    "duration": 917,
    "start_time": "2021-09-12T09:44:00.945Z"
   },
   {
    "duration": 22,
    "start_time": "2021-09-12T09:44:01.865Z"
   },
   {
    "duration": 17,
    "start_time": "2021-09-12T09:44:01.889Z"
   },
   {
    "duration": 100,
    "start_time": "2021-09-12T09:44:01.908Z"
   },
   {
    "duration": 4318,
    "start_time": "2021-09-12T09:44:02.010Z"
   },
   {
    "duration": 79,
    "start_time": "2021-09-12T09:44:06.330Z"
   },
   {
    "duration": 39,
    "start_time": "2021-09-12T09:44:06.411Z"
   },
   {
    "duration": 51,
    "start_time": "2021-09-12T09:44:06.452Z"
   },
   {
    "duration": 6267,
    "start_time": "2021-09-12T09:44:06.506Z"
   },
   {
    "duration": -1379,
    "start_time": "2021-09-12T09:44:14.155Z"
   },
   {
    "duration": -1379,
    "start_time": "2021-09-12T09:44:14.156Z"
   },
   {
    "duration": 9,
    "start_time": "2021-09-12T09:45:55.078Z"
   },
   {
    "duration": 6254,
    "start_time": "2021-09-12T09:47:04.615Z"
   },
   {
    "duration": 3200,
    "start_time": "2021-09-12T09:47:16.036Z"
   },
   {
    "duration": 7,
    "start_time": "2021-09-12T09:47:22.357Z"
   },
   {
    "duration": 11,
    "start_time": "2021-09-12T09:47:31.568Z"
   },
   {
    "duration": 20,
    "start_time": "2021-09-12T09:51:43.848Z"
   },
   {
    "duration": 7,
    "start_time": "2021-09-12T09:51:58.400Z"
   },
   {
    "duration": 9,
    "start_time": "2021-09-12T09:52:01.373Z"
   },
   {
    "duration": 50,
    "start_time": "2021-09-12T09:54:16.605Z"
   },
   {
    "duration": 68,
    "start_time": "2021-09-12T09:54:42.843Z"
   },
   {
    "duration": 13,
    "start_time": "2021-09-12T09:54:42.913Z"
   },
   {
    "duration": 8,
    "start_time": "2021-09-12T09:54:42.929Z"
   },
   {
    "duration": 12,
    "start_time": "2021-09-12T09:54:42.939Z"
   },
   {
    "duration": 12,
    "start_time": "2021-09-12T09:54:42.981Z"
   },
   {
    "duration": 20,
    "start_time": "2021-09-12T09:54:42.995Z"
   },
   {
    "duration": 26,
    "start_time": "2021-09-12T09:54:43.018Z"
   },
   {
    "duration": 866,
    "start_time": "2021-09-12T09:54:43.047Z"
   },
   {
    "duration": 15,
    "start_time": "2021-09-12T09:54:43.916Z"
   },
   {
    "duration": 17,
    "start_time": "2021-09-12T09:54:43.933Z"
   },
   {
    "duration": 108,
    "start_time": "2021-09-12T09:54:43.952Z"
   },
   {
    "duration": 4142,
    "start_time": "2021-09-12T09:54:44.062Z"
   },
   {
    "duration": 82,
    "start_time": "2021-09-12T09:54:48.207Z"
   },
   {
    "duration": 40,
    "start_time": "2021-09-12T09:54:48.291Z"
   },
   {
    "duration": 12,
    "start_time": "2021-09-12T09:54:48.334Z"
   },
   {
    "duration": 78,
    "start_time": "2021-09-12T09:54:48.348Z"
   },
   {
    "duration": 33,
    "start_time": "2021-09-12T09:54:48.428Z"
   },
   {
    "duration": 38,
    "start_time": "2021-09-12T09:54:48.483Z"
   },
   {
    "duration": 20,
    "start_time": "2021-09-12T09:58:37.575Z"
   },
   {
    "duration": -1365,
    "start_time": "2021-09-12T10:28:28.644Z"
   },
   {
    "duration": 13,
    "start_time": "2021-09-12T10:28:35.410Z"
   },
   {
    "duration": -1368,
    "start_time": "2021-09-12T10:28:46.582Z"
   },
   {
    "duration": 10,
    "start_time": "2021-09-12T10:28:50.320Z"
   },
   {
    "duration": 14,
    "start_time": "2021-09-12T10:30:22.490Z"
   },
   {
    "duration": 17,
    "start_time": "2021-09-12T10:30:32.319Z"
   },
   {
    "duration": 30,
    "start_time": "2021-09-12T10:30:43.515Z"
   },
   {
    "duration": 87,
    "start_time": "2021-09-12T10:31:16.398Z"
   },
   {
    "duration": 17,
    "start_time": "2021-09-12T10:31:16.488Z"
   },
   {
    "duration": 5,
    "start_time": "2021-09-12T10:31:16.508Z"
   },
   {
    "duration": 13,
    "start_time": "2021-09-12T10:31:16.517Z"
   },
   {
    "duration": 56,
    "start_time": "2021-09-12T10:31:16.533Z"
   },
   {
    "duration": 23,
    "start_time": "2021-09-12T10:31:16.592Z"
   },
   {
    "duration": 71,
    "start_time": "2021-09-12T10:31:16.619Z"
   },
   {
    "duration": 972,
    "start_time": "2021-09-12T10:31:16.695Z"
   },
   {
    "duration": 29,
    "start_time": "2021-09-12T10:31:17.670Z"
   },
   {
    "duration": 25,
    "start_time": "2021-09-12T10:31:17.702Z"
   },
   {
    "duration": 130,
    "start_time": "2021-09-12T10:31:17.730Z"
   },
   {
    "duration": 5372,
    "start_time": "2021-09-12T10:31:17.862Z"
   },
   {
    "duration": 24,
    "start_time": "2021-09-12T10:31:23.237Z"
   },
   {
    "duration": 102,
    "start_time": "2021-09-12T10:31:23.263Z"
   },
   {
    "duration": 55,
    "start_time": "2021-09-12T10:31:23.367Z"
   },
   {
    "duration": 22,
    "start_time": "2021-09-12T10:31:23.425Z"
   },
   {
    "duration": 36,
    "start_time": "2021-09-12T10:31:23.450Z"
   },
   {
    "duration": 51,
    "start_time": "2021-09-12T10:31:23.489Z"
   },
   {
    "duration": 73,
    "start_time": "2021-09-12T10:31:23.542Z"
   },
   {
    "duration": 42,
    "start_time": "2021-09-12T10:31:23.618Z"
   },
   {
    "duration": 12,
    "start_time": "2021-09-12T10:33:14.603Z"
   },
   {
    "duration": 41,
    "start_time": "2021-09-12T10:34:39.835Z"
   },
   {
    "duration": 52,
    "start_time": "2021-09-12T10:37:14.696Z"
   },
   {
    "duration": -1367,
    "start_time": "2021-09-12T10:38:05.227Z"
   },
   {
    "duration": 30,
    "start_time": "2021-09-12T10:38:23.856Z"
   },
   {
    "duration": 425,
    "start_time": "2021-09-12T10:43:58.550Z"
   },
   {
    "duration": 4954,
    "start_time": "2021-09-12T10:44:07.416Z"
   },
   {
    "duration": 497,
    "start_time": "2021-09-12T10:44:39.550Z"
   },
   {
    "duration": 716,
    "start_time": "2021-09-12T10:45:38.665Z"
   },
   {
    "duration": 555,
    "start_time": "2021-09-12T10:45:51.078Z"
   },
   {
    "duration": 533,
    "start_time": "2021-09-12T10:48:21.521Z"
   },
   {
    "duration": 533,
    "start_time": "2021-09-12T10:48:24.173Z"
   },
   {
    "duration": 561,
    "start_time": "2021-09-12T10:49:01.947Z"
   },
   {
    "duration": 615,
    "start_time": "2021-09-12T10:49:23.048Z"
   },
   {
    "duration": 565,
    "start_time": "2021-09-12T10:49:42.149Z"
   },
   {
    "duration": 104,
    "start_time": "2021-09-12T10:49:55.234Z"
   },
   {
    "duration": 579,
    "start_time": "2021-09-12T10:50:11.955Z"
   },
   {
    "duration": 559,
    "start_time": "2021-09-12T10:51:28.129Z"
   },
   {
    "duration": 589,
    "start_time": "2021-09-12T10:51:34.348Z"
   },
   {
    "duration": 98,
    "start_time": "2021-09-12T10:53:48.102Z"
   },
   {
    "duration": 34,
    "start_time": "2021-09-12T10:54:10.625Z"
   },
   {
    "duration": 31,
    "start_time": "2021-09-12T10:55:51.884Z"
   },
   {
    "duration": 29,
    "start_time": "2021-09-12T10:57:02.853Z"
   },
   {
    "duration": 30,
    "start_time": "2021-09-12T10:58:52.830Z"
   },
   {
    "duration": 39,
    "start_time": "2021-09-12T11:00:35.034Z"
   },
   {
    "duration": 74,
    "start_time": "2021-09-12T11:00:39.539Z"
   },
   {
    "duration": 12,
    "start_time": "2021-09-12T11:00:39.616Z"
   },
   {
    "duration": 17,
    "start_time": "2021-09-12T11:00:39.631Z"
   },
   {
    "duration": 16,
    "start_time": "2021-09-12T11:00:39.651Z"
   },
   {
    "duration": 12,
    "start_time": "2021-09-12T11:00:39.669Z"
   },
   {
    "duration": 18,
    "start_time": "2021-09-12T11:00:39.683Z"
   },
   {
    "duration": 29,
    "start_time": "2021-09-12T11:00:39.704Z"
   },
   {
    "duration": 894,
    "start_time": "2021-09-12T11:00:39.736Z"
   },
   {
    "duration": 14,
    "start_time": "2021-09-12T11:00:40.634Z"
   },
   {
    "duration": 40,
    "start_time": "2021-09-12T11:00:40.651Z"
   },
   {
    "duration": 91,
    "start_time": "2021-09-12T11:00:40.693Z"
   },
   {
    "duration": 4169,
    "start_time": "2021-09-12T11:00:40.787Z"
   },
   {
    "duration": 35,
    "start_time": "2021-09-12T11:00:44.958Z"
   },
   {
    "duration": 41,
    "start_time": "2021-09-12T11:00:44.996Z"
   },
   {
    "duration": 54,
    "start_time": "2021-09-12T11:00:45.040Z"
   },
   {
    "duration": 30,
    "start_time": "2021-09-12T11:00:45.096Z"
   },
   {
    "duration": 72,
    "start_time": "2021-09-12T11:00:45.128Z"
   },
   {
    "duration": 30,
    "start_time": "2021-09-12T11:00:45.202Z"
   },
   {
    "duration": 61,
    "start_time": "2021-09-12T11:00:45.234Z"
   },
   {
    "duration": 18,
    "start_time": "2021-09-12T11:06:54.956Z"
   },
   {
    "duration": 30,
    "start_time": "2021-09-12T11:17:04.816Z"
   },
   {
    "duration": 334,
    "start_time": "2021-09-12T19:52:43.191Z"
   },
   {
    "duration": 563,
    "start_time": "2021-09-12T19:52:42.965Z"
   },
   {
    "duration": 268,
    "start_time": "2021-09-12T19:52:43.637Z"
   },
   {
    "duration": 816,
    "start_time": "2021-09-12T19:52:45.660Z"
   },
   {
    "duration": 14,
    "start_time": "2021-09-12T19:52:46.479Z"
   },
   {
    "duration": 10,
    "start_time": "2021-09-12T19:52:46.496Z"
   },
   {
    "duration": 14,
    "start_time": "2021-09-12T19:52:46.509Z"
   },
   {
    "duration": 42,
    "start_time": "2021-09-12T19:52:46.525Z"
   },
   {
    "duration": 20,
    "start_time": "2021-09-12T19:52:46.569Z"
   },
   {
    "duration": 29,
    "start_time": "2021-09-12T19:52:46.592Z"
   },
   {
    "duration": 887,
    "start_time": "2021-09-12T19:52:46.625Z"
   },
   {
    "duration": 15,
    "start_time": "2021-09-12T19:52:47.515Z"
   },
   {
    "duration": 40,
    "start_time": "2021-09-12T19:52:47.533Z"
   },
   {
    "duration": 103,
    "start_time": "2021-09-12T19:52:47.576Z"
   },
   {
    "duration": 4446,
    "start_time": "2021-09-12T19:52:47.682Z"
   },
   {
    "duration": 38,
    "start_time": "2021-09-12T19:52:52.131Z"
   },
   {
    "duration": 42,
    "start_time": "2021-09-12T19:52:52.171Z"
   },
   {
    "duration": 49,
    "start_time": "2021-09-12T19:52:52.216Z"
   },
   {
    "duration": 32,
    "start_time": "2021-09-12T19:52:52.268Z"
   },
   {
    "duration": 83,
    "start_time": "2021-09-12T19:52:52.303Z"
   },
   {
    "duration": 33,
    "start_time": "2021-09-12T19:52:52.389Z"
   },
   {
    "duration": 62,
    "start_time": "2021-09-12T19:52:52.424Z"
   },
   {
    "duration": 826,
    "start_time": "2021-09-12T19:53:59.771Z"
   },
   {
    "duration": 16,
    "start_time": "2021-09-12T19:54:00.600Z"
   },
   {
    "duration": 21,
    "start_time": "2021-09-12T19:54:00.619Z"
   },
   {
    "duration": 33,
    "start_time": "2021-09-12T19:54:00.644Z"
   },
   {
    "duration": 24,
    "start_time": "2021-09-12T19:54:00.679Z"
   },
   {
    "duration": 38,
    "start_time": "2021-09-12T19:54:00.705Z"
   },
   {
    "duration": 53,
    "start_time": "2021-09-12T19:54:00.746Z"
   },
   {
    "duration": 870,
    "start_time": "2021-09-12T19:54:00.804Z"
   },
   {
    "duration": 16,
    "start_time": "2021-09-12T19:54:01.677Z"
   },
   {
    "duration": 18,
    "start_time": "2021-09-12T19:54:01.696Z"
   },
   {
    "duration": 113,
    "start_time": "2021-09-12T19:54:01.716Z"
   },
   {
    "duration": 4515,
    "start_time": "2021-09-12T19:54:01.831Z"
   },
   {
    "duration": 34,
    "start_time": "2021-09-12T19:54:06.349Z"
   },
   {
    "duration": 42,
    "start_time": "2021-09-12T19:54:06.385Z"
   },
   {
    "duration": 57,
    "start_time": "2021-09-12T19:54:06.429Z"
   },
   {
    "duration": 31,
    "start_time": "2021-09-12T19:54:06.488Z"
   },
   {
    "duration": 77,
    "start_time": "2021-09-12T19:54:06.522Z"
   },
   {
    "duration": 33,
    "start_time": "2021-09-12T19:54:06.601Z"
   },
   {
    "duration": 61,
    "start_time": "2021-09-12T19:54:06.636Z"
   },
   {
    "duration": 347,
    "start_time": "2021-09-13T11:54:51.238Z"
   },
   {
    "duration": 845,
    "start_time": "2021-09-13T11:54:55.626Z"
   },
   {
    "duration": 258,
    "start_time": "2021-09-13T11:54:58.007Z"
   },
   {
    "duration": 78,
    "start_time": "2021-09-13T11:55:08.532Z"
   },
   {
    "duration": 182,
    "start_time": "2021-09-13T11:55:08.613Z"
   },
   {
    "duration": 14,
    "start_time": "2021-09-13T11:55:08.798Z"
   },
   {
    "duration": 6,
    "start_time": "2021-09-13T11:55:08.815Z"
   },
   {
    "duration": 31,
    "start_time": "2021-09-13T11:55:08.824Z"
   },
   {
    "duration": 12,
    "start_time": "2021-09-13T11:55:08.858Z"
   },
   {
    "duration": 28,
    "start_time": "2021-09-13T11:55:08.872Z"
   },
   {
    "duration": 53,
    "start_time": "2021-09-13T11:55:08.904Z"
   },
   {
    "duration": 1037,
    "start_time": "2021-09-13T11:55:08.960Z"
   },
   {
    "duration": 17,
    "start_time": "2021-09-13T11:55:09.999Z"
   },
   {
    "duration": 43,
    "start_time": "2021-09-13T11:55:10.018Z"
   },
   {
    "duration": 92,
    "start_time": "2021-09-13T11:55:10.064Z"
   },
   {
    "duration": 4438,
    "start_time": "2021-09-13T11:55:10.158Z"
   },
   {
    "duration": 25,
    "start_time": "2021-09-13T11:55:14.598Z"
   },
   {
    "duration": 62,
    "start_time": "2021-09-13T11:55:14.625Z"
   },
   {
    "duration": 29,
    "start_time": "2021-09-13T11:55:14.690Z"
   },
   {
    "duration": 50,
    "start_time": "2021-09-13T11:55:14.722Z"
   },
   {
    "duration": 47,
    "start_time": "2021-09-13T11:55:14.775Z"
   },
   {
    "duration": 51,
    "start_time": "2021-09-13T11:55:14.824Z"
   },
   {
    "duration": 39,
    "start_time": "2021-09-13T11:55:14.877Z"
   },
   {
    "duration": 43,
    "start_time": "2021-09-13T12:34:49.317Z"
   },
   {
    "duration": 31,
    "start_time": "2021-09-13T12:35:12.625Z"
   },
   {
    "duration": 6,
    "start_time": "2021-09-13T12:35:18.592Z"
   },
   {
    "duration": 5,
    "start_time": "2021-09-13T12:35:23.776Z"
   },
   {
    "duration": 7150,
    "start_time": "2021-09-13T12:35:29.630Z"
   },
   {
    "duration": 52,
    "start_time": "2021-09-13T12:36:07.874Z"
   },
   {
    "duration": 365,
    "start_time": "2021-09-13T12:38:28.178Z"
   },
   {
    "duration": 20,
    "start_time": "2021-09-13T12:38:32.608Z"
   },
   {
    "duration": 15,
    "start_time": "2021-09-13T12:38:42.407Z"
   },
   {
    "duration": 32,
    "start_time": "2021-09-13T12:38:53.277Z"
   },
   {
    "duration": 313,
    "start_time": "2021-09-13T13:03:39.400Z"
   },
   {
    "duration": 89,
    "start_time": "2021-09-13T13:03:43.078Z"
   },
   {
    "duration": 256,
    "start_time": "2021-09-13T13:03:43.170Z"
   },
   {
    "duration": 27,
    "start_time": "2021-09-13T13:03:43.429Z"
   },
   {
    "duration": 5,
    "start_time": "2021-09-13T13:03:43.459Z"
   },
   {
    "duration": 13,
    "start_time": "2021-09-13T13:03:43.466Z"
   },
   {
    "duration": 12,
    "start_time": "2021-09-13T13:03:43.481Z"
   },
   {
    "duration": 19,
    "start_time": "2021-09-13T13:03:43.496Z"
   },
   {
    "duration": 30,
    "start_time": "2021-09-13T13:03:43.555Z"
   },
   {
    "duration": 869,
    "start_time": "2021-09-13T13:03:43.589Z"
   },
   {
    "duration": 41,
    "start_time": "2021-09-13T13:03:44.460Z"
   },
   {
    "duration": 57,
    "start_time": "2021-09-13T13:03:44.504Z"
   },
   {
    "duration": 6,
    "start_time": "2021-09-13T13:03:44.564Z"
   },
   {
    "duration": 20,
    "start_time": "2021-09-13T13:03:44.573Z"
   },
   {
    "duration": 7259,
    "start_time": "2021-09-13T13:03:44.596Z"
   },
   {
    "duration": 7017,
    "start_time": "2021-09-13T13:03:51.858Z"
   },
   {
    "duration": 7082,
    "start_time": "2021-09-13T13:03:58.878Z"
   },
   {
    "duration": 56,
    "start_time": "2021-09-13T13:04:05.963Z"
   },
   {
    "duration": 35,
    "start_time": "2021-09-13T13:04:06.021Z"
   },
   {
    "duration": 18,
    "start_time": "2021-09-13T13:04:06.058Z"
   },
   {
    "duration": 106,
    "start_time": "2021-09-13T13:04:06.078Z"
   },
   {
    "duration": 4504,
    "start_time": "2021-09-13T13:04:06.186Z"
   },
   {
    "duration": 24,
    "start_time": "2021-09-13T13:04:10.692Z"
   },
   {
    "duration": 66,
    "start_time": "2021-09-13T13:04:10.721Z"
   },
   {
    "duration": 18,
    "start_time": "2021-09-13T13:04:10.790Z"
   },
   {
    "duration": 27,
    "start_time": "2021-09-13T13:04:10.810Z"
   },
   {
    "duration": 31,
    "start_time": "2021-09-13T13:04:10.855Z"
   },
   {
    "duration": 41,
    "start_time": "2021-09-13T13:04:10.889Z"
   },
   {
    "duration": 297,
    "start_time": "2021-09-13T13:04:10.932Z"
   },
   {
    "duration": -433,
    "start_time": "2021-09-13T13:04:11.667Z"
   },
   {
    "duration": -444,
    "start_time": "2021-09-13T13:04:11.680Z"
   },
   {
    "duration": -445,
    "start_time": "2021-09-13T13:04:11.682Z"
   },
   {
    "duration": -446,
    "start_time": "2021-09-13T13:04:11.685Z"
   },
   {
    "duration": -452,
    "start_time": "2021-09-13T13:04:11.692Z"
   },
   {
    "duration": -452,
    "start_time": "2021-09-13T13:04:11.693Z"
   },
   {
    "duration": -453,
    "start_time": "2021-09-13T13:04:11.695Z"
   },
   {
    "duration": -453,
    "start_time": "2021-09-13T13:04:11.697Z"
   },
   {
    "duration": -455,
    "start_time": "2021-09-13T13:04:11.700Z"
   },
   {
    "duration": 65,
    "start_time": "2021-09-13T13:04:31.518Z"
   },
   {
    "duration": 228,
    "start_time": "2021-09-13T13:04:31.586Z"
   },
   {
    "duration": 15,
    "start_time": "2021-09-13T13:04:31.817Z"
   },
   {
    "duration": 26,
    "start_time": "2021-09-13T13:04:31.835Z"
   },
   {
    "duration": 32,
    "start_time": "2021-09-13T13:04:31.863Z"
   },
   {
    "duration": 18,
    "start_time": "2021-09-13T13:04:31.898Z"
   },
   {
    "duration": 38,
    "start_time": "2021-09-13T13:04:31.919Z"
   },
   {
    "duration": 30,
    "start_time": "2021-09-13T13:04:31.960Z"
   },
   {
    "duration": 896,
    "start_time": "2021-09-13T13:04:31.993Z"
   },
   {
    "duration": 43,
    "start_time": "2021-09-13T13:04:37.857Z"
   },
   {
    "duration": 29,
    "start_time": "2021-09-13T13:04:38.452Z"
   },
   {
    "duration": 7,
    "start_time": "2021-09-13T13:04:38.790Z"
   },
   {
    "duration": 5,
    "start_time": "2021-09-13T13:04:39.776Z"
   },
   {
    "duration": 8003,
    "start_time": "2021-09-13T13:04:42.305Z"
   },
   {
    "duration": 16,
    "start_time": "2021-09-13T13:04:50.312Z"
   },
   {
    "duration": 39,
    "start_time": "2021-09-13T13:04:50.330Z"
   },
   {
    "duration": 95,
    "start_time": "2021-09-13T13:04:50.371Z"
   },
   {
    "duration": 4563,
    "start_time": "2021-09-13T13:04:50.469Z"
   },
   {
    "duration": 39,
    "start_time": "2021-09-13T13:04:55.035Z"
   },
   {
    "duration": 46,
    "start_time": "2021-09-13T13:04:55.077Z"
   },
   {
    "duration": 42,
    "start_time": "2021-09-13T13:04:55.126Z"
   },
   {
    "duration": 15,
    "start_time": "2021-09-13T13:04:55.171Z"
   },
   {
    "duration": 38,
    "start_time": "2021-09-13T13:04:55.188Z"
   },
   {
    "duration": 53,
    "start_time": "2021-09-13T13:04:55.228Z"
   },
   {
    "duration": 876,
    "start_time": "2021-09-13T13:04:55.283Z"
   },
   {
    "duration": -433,
    "start_time": "2021-09-13T13:04:56.595Z"
   },
   {
    "duration": -435,
    "start_time": "2021-09-13T13:04:56.598Z"
   },
   {
    "duration": -436,
    "start_time": "2021-09-13T13:04:56.601Z"
   },
   {
    "duration": 288,
    "start_time": "2021-09-13T13:05:07.712Z"
   },
   {
    "duration": 20,
    "start_time": "2021-09-13T13:05:10.518Z"
   },
   {
    "duration": 19,
    "start_time": "2021-09-13T13:05:16.233Z"
   },
   {
    "duration": 19,
    "start_time": "2021-09-13T13:05:25.476Z"
   },
   {
    "duration": 13,
    "start_time": "2021-09-13T13:06:38.548Z"
   },
   {
    "duration": 25,
    "start_time": "2021-09-13T13:06:55.655Z"
   },
   {
    "duration": 50,
    "start_time": "2021-09-13T13:07:12.463Z"
   },
   {
    "duration": 12,
    "start_time": "2021-09-13T13:07:32.196Z"
   },
   {
    "duration": 46,
    "start_time": "2021-09-13T13:07:53.260Z"
   },
   {
    "duration": 31,
    "start_time": "2021-09-13T13:08:06.114Z"
   },
   {
    "duration": 289,
    "start_time": "2021-09-13T13:08:48.776Z"
   },
   {
    "duration": 32,
    "start_time": "2021-09-13T13:08:54.282Z"
   },
   {
    "duration": 41,
    "start_time": "2021-09-13T13:09:15.092Z"
   }
  ],
  "kernelspec": {
   "display_name": "Python 3",
   "language": "python",
   "name": "python3"
  },
  "language_info": {
   "codemirror_mode": {
    "name": "ipython",
    "version": 3
   },
   "file_extension": ".py",
   "mimetype": "text/x-python",
   "name": "python",
   "nbconvert_exporter": "python",
   "pygments_lexer": "ipython3",
   "version": "3.8.8"
  },
  "toc": {
   "base_numbering": 1,
   "nav_menu": {
    "height": "458px",
    "width": "396px"
   },
   "number_sections": true,
   "sideBar": true,
   "skip_h1_title": true,
   "title_cell": "Table of Contents",
   "title_sidebar": "Contents",
   "toc_cell": false,
   "toc_position": {},
   "toc_section_display": true,
   "toc_window_display": false
  }
 },
 "nbformat": 4,
 "nbformat_minor": 2
}
