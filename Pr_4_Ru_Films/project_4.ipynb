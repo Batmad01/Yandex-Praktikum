{
 "cells": [
  {
   "cell_type": "markdown",
   "metadata": {
    "id": "sIfNaMOxgFyK"
   },
   "source": [
    "# Исследование данных о российском кинопрокате"
   ]
  },
  {
   "cell_type": "markdown",
   "metadata": {},
   "source": [
    "**Описание проекта**\n",
    "\n",
    "\n",
    "Заказчик этого исследования — Министерство культуры Российской Федерации.\n",
    "Вам нужно изучить рынок российского кинопроката и выявить текущие тренды. Уделите внимание фильмам, которые получили государственную поддержку. Попробуйте ответить на вопрос, насколько такие фильмы интересны зрителю.\n",
    "Вы будете работать с данными, опубликованными на портале открытых данных Министерства культуры. Набор данных содержит информацию о прокатных удостоверениях, сборах и государственной поддержке фильмов, а также информацию с сайта КиноПоиск."
   ]
  },
  {
   "cell_type": "markdown",
   "metadata": {},
   "source": [
    "**Последовательность выполнения проекта**\n",
    "\n",
    "* Открытие файлов с данными и объединение их в один датафрейм\n",
    "* Предобработка данных (обработка пропусков и дубликатов, изменение типов колонок). Добавление новых столбцов: \n",
    "    1. Столбец с информацией о годе проката;\n",
    "    2. Два столбца: с именем и фамилией главного режиссёра и основным жанром фильма;\n",
    "    3. Посчитать, какую долю от общего бюджета фильма составляет государственная поддержка.\n",
    "* Проведение исследовательского анализа данных:\n",
    "    1. Посмотреть, сколько фильмов выходило в прокат каждый год. Посчитать, какую долю составляют фильмы с указанной информацией о прокате в кинотеатрах. Проанализировать, как эта доля менялась по годам. Сделать вывод о том, какой период полнее всего представлен в данных.\n",
    "    2. Изучить, как менялась динамика проката по годам.\n",
    "    3. С помощью сводной таблицы посчитать среднюю и медианную сумму сборов для каждого года. Сравнить значения и сделать выводы. \n",
    "    4. Определить, влияет ли возрастное ограничение аудитории («6+», «12+», «16+», «18+» и т. д.) на сборы фильма в прокате в период с 2015 по 2019 год? Фильмы с каким возрастным ограничением собрали больше всего денег в прокате? Меняется ли картина в зависимости от года? Если да, предположить, с чем это может быть связано.\n",
    "* Исследование фильмов, получивших государственную поддержку\n",
    "* Подведение выводов по исследованию"
   ]
  },
  {
   "cell_type": "markdown",
   "metadata": {
    "id": "3bSlkCsbgFyL"
   },
   "source": [
    "## Изучение данных из файлов и объединение датафреймов \n",
    "Объединим данные таким образом, чтобы все объекты из датасета `mkrf_movies` обязательно вошли в получившийся датафрейм. "
   ]
  },
  {
   "cell_type": "markdown",
   "metadata": {},
   "source": [
    "Для начала импортируем нужные библиотеки"
   ]
  },
  {
   "cell_type": "code",
   "execution_count": 1,
   "metadata": {
    "id": "dw87FlzMgFyM"
   },
   "outputs": [],
   "source": [
    "#импорт нужных библиотек\n",
    "import pandas as pd\n",
    "from IPython.display import display\n",
    "import warnings\n",
    "import datetime\n",
    "import matplotlib.pyplot as plt\n",
    "\n",
    "#отключение уведомлений об ошибке при замене исходного набора данных\n",
    "warnings.filterwarnings('ignore')\n",
    "warnings.simplefilter('ignore')\n",
    "\n",
    "#показ всех колонок датафрейма\n",
    "pd.options.display.max_columns = None\n",
    "pd.options.display.float_format = '{:,.2f}'.format"
   ]
  },
  {
   "cell_type": "markdown",
   "metadata": {},
   "source": [
    "Сохраним данные в два датафрейма"
   ]
  },
  {
   "cell_type": "code",
   "execution_count": 2,
   "metadata": {},
   "outputs": [],
   "source": [
    "df = pd.read_csv('D:/Datasets/mkrf_movies.csv')\n",
    "df_0 = pd.read_csv('D:/Datasets/mkrf_shows.csv')"
   ]
  },
  {
   "cell_type": "markdown",
   "metadata": {},
   "source": [
    "Выведем информацию о них, чтобы понимать, какие типы данных находятся в столбцах"
   ]
  },
  {
   "cell_type": "code",
   "execution_count": 3,
   "metadata": {
    "scrolled": true
   },
   "outputs": [
    {
     "name": "stdout",
     "output_type": "stream",
     "text": [
      "<class 'pandas.core.frame.DataFrame'>\n",
      "RangeIndex: 7486 entries, 0 to 7485\n",
      "Data columns (total 15 columns):\n",
      " #   Column                 Non-Null Count  Dtype  \n",
      "---  ------                 --------------  -----  \n",
      " 0   title                  7486 non-null   object \n",
      " 1   puNumber               7486 non-null   object \n",
      " 2   show_start_date        7486 non-null   object \n",
      " 3   type                   7486 non-null   object \n",
      " 4   film_studio            7468 non-null   object \n",
      " 5   production_country     7484 non-null   object \n",
      " 6   director               7477 non-null   object \n",
      " 7   producer               6918 non-null   object \n",
      " 8   age_restriction        7486 non-null   object \n",
      " 9   refundable_support     332 non-null    float64\n",
      " 10  nonrefundable_support  332 non-null    float64\n",
      " 11  budget                 332 non-null    float64\n",
      " 12  financing_source       332 non-null    object \n",
      " 13  ratings                6519 non-null   object \n",
      " 14  genres                 6510 non-null   object \n",
      "dtypes: float64(3), object(12)\n",
      "memory usage: 877.4+ KB\n"
     ]
    }
   ],
   "source": [
    "df.info()"
   ]
  },
  {
   "cell_type": "code",
   "execution_count": 4,
   "metadata": {
    "scrolled": false
   },
   "outputs": [
    {
     "name": "stdout",
     "output_type": "stream",
     "text": [
      "<class 'pandas.core.frame.DataFrame'>\n",
      "RangeIndex: 3158 entries, 0 to 3157\n",
      "Data columns (total 2 columns):\n",
      " #   Column      Non-Null Count  Dtype  \n",
      "---  ------      --------------  -----  \n",
      " 0   puNumber    3158 non-null   int64  \n",
      " 1   box_office  3158 non-null   float64\n",
      "dtypes: float64(1), int64(1)\n",
      "memory usage: 49.5 KB\n"
     ]
    }
   ],
   "source": [
    "df_0.info()"
   ]
  },
  {
   "cell_type": "markdown",
   "metadata": {},
   "source": [
    "Можно заметить, что в некоторых столбцах основного датафрейма находятся пропуски. Количество строк первого и второго датафрейма отличаются, первый больше. Кроме того многие столбцы первого датафрейма имеют тип `object`, в том числе и столбец `puNumber`, по которому мы будем объединять датафреймы. Исправим тип этого столбца. Всё остальное исправим в следующих пунктах."
   ]
  },
  {
   "cell_type": "code",
   "execution_count": 5,
   "metadata": {
    "scrolled": true
   },
   "outputs": [
    {
     "data": {
      "text/html": [
       "<div>\n",
       "<style scoped>\n",
       "    .dataframe tbody tr th:only-of-type {\n",
       "        vertical-align: middle;\n",
       "    }\n",
       "\n",
       "    .dataframe tbody tr th {\n",
       "        vertical-align: top;\n",
       "    }\n",
       "\n",
       "    .dataframe thead th {\n",
       "        text-align: right;\n",
       "    }\n",
       "</style>\n",
       "<table border=\"1\" class=\"dataframe\">\n",
       "  <thead>\n",
       "    <tr style=\"text-align: right;\">\n",
       "      <th></th>\n",
       "      <th>title</th>\n",
       "      <th>puNumber</th>\n",
       "      <th>show_start_date</th>\n",
       "      <th>type</th>\n",
       "      <th>film_studio</th>\n",
       "      <th>production_country</th>\n",
       "      <th>director</th>\n",
       "      <th>producer</th>\n",
       "      <th>age_restriction</th>\n",
       "      <th>refundable_support</th>\n",
       "      <th>nonrefundable_support</th>\n",
       "      <th>budget</th>\n",
       "      <th>financing_source</th>\n",
       "      <th>ratings</th>\n",
       "      <th>genres</th>\n",
       "      <th>box_office</th>\n",
       "    </tr>\n",
       "  </thead>\n",
       "  <tbody>\n",
       "    <tr>\n",
       "      <th>0</th>\n",
       "      <td>Открытый простор</td>\n",
       "      <td>221048915</td>\n",
       "      <td>2015-11-27T12:00:00.000Z</td>\n",
       "      <td>Художественный</td>\n",
       "      <td>Тачстоун Пикчерз, Кобальт Пикчерз, Бикон Пикче...</td>\n",
       "      <td>США</td>\n",
       "      <td>Кевин Костнер</td>\n",
       "      <td>Дэвид Валдес, Кевин Костнер, Джейк Эбертс</td>\n",
       "      <td>«18+» - запрещено для детей</td>\n",
       "      <td>NaN</td>\n",
       "      <td>NaN</td>\n",
       "      <td>NaN</td>\n",
       "      <td>NaN</td>\n",
       "      <td>7.2</td>\n",
       "      <td>боевик,драма,мелодрама</td>\n",
       "      <td>NaN</td>\n",
       "    </tr>\n",
       "    <tr>\n",
       "      <th>1</th>\n",
       "      <td>Особо важное задание</td>\n",
       "      <td>111013716</td>\n",
       "      <td>2016-09-13T12:00:00.000Z</td>\n",
       "      <td>Художественный</td>\n",
       "      <td>Киностудия \"Мосфильм\"</td>\n",
       "      <td>СССР</td>\n",
       "      <td>Е.Матвеев</td>\n",
       "      <td>NaN</td>\n",
       "      <td>«6+» - для детей старше 6 лет</td>\n",
       "      <td>NaN</td>\n",
       "      <td>NaN</td>\n",
       "      <td>NaN</td>\n",
       "      <td>NaN</td>\n",
       "      <td>6.6</td>\n",
       "      <td>драма,военный</td>\n",
       "      <td>NaN</td>\n",
       "    </tr>\n",
       "    <tr>\n",
       "      <th>2</th>\n",
       "      <td>Особо опасен</td>\n",
       "      <td>221038416</td>\n",
       "      <td>2016-10-10T12:00:00.000Z</td>\n",
       "      <td>Художественный</td>\n",
       "      <td>Юниверсал Пикчерз, Кикстарт Продакшнз, Марк Пл...</td>\n",
       "      <td>США</td>\n",
       "      <td>Тимур Бекмамбетов</td>\n",
       "      <td>Джим Лемли, Джейсон Нетер, Марк Е.Платт, Яйн Смит</td>\n",
       "      <td>«18+» - запрещено для детей</td>\n",
       "      <td>NaN</td>\n",
       "      <td>NaN</td>\n",
       "      <td>NaN</td>\n",
       "      <td>NaN</td>\n",
       "      <td>6.8</td>\n",
       "      <td>фантастика,боевик,триллер</td>\n",
       "      <td>NaN</td>\n",
       "    </tr>\n",
       "    <tr>\n",
       "      <th>3</th>\n",
       "      <td>Особо опасен</td>\n",
       "      <td>221026916</td>\n",
       "      <td>2016-06-10T12:00:00.000Z</td>\n",
       "      <td>Художественный</td>\n",
       "      <td>Юниверсал Пикчерз, Кикстарт Продакшнз, Марк Пл...</td>\n",
       "      <td>США</td>\n",
       "      <td>Тимур Бекмамбетов</td>\n",
       "      <td>Джим Лемли, Джейсон Нетер, Марк Е.Платт, Яйн Смит</td>\n",
       "      <td>«18+» - запрещено для детей</td>\n",
       "      <td>NaN</td>\n",
       "      <td>NaN</td>\n",
       "      <td>NaN</td>\n",
       "      <td>NaN</td>\n",
       "      <td>6.8</td>\n",
       "      <td>фантастика,боевик,триллер</td>\n",
       "      <td>NaN</td>\n",
       "    </tr>\n",
       "    <tr>\n",
       "      <th>4</th>\n",
       "      <td>Особо опасен</td>\n",
       "      <td>221030815</td>\n",
       "      <td>2015-07-29T12:00:00.000Z</td>\n",
       "      <td>Художественный</td>\n",
       "      <td>Юниверсал Пикчерз, Кикстарт Продакшнз, Марк Пл...</td>\n",
       "      <td>США</td>\n",
       "      <td>Тимур Бекмамбетов</td>\n",
       "      <td>Джим Лемли, Джейсон Нетер, Марк Е.Платт, Яйн Смит</td>\n",
       "      <td>«18+» - запрещено для детей</td>\n",
       "      <td>NaN</td>\n",
       "      <td>NaN</td>\n",
       "      <td>NaN</td>\n",
       "      <td>NaN</td>\n",
       "      <td>6.8</td>\n",
       "      <td>фантастика,боевик,триллер</td>\n",
       "      <td>NaN</td>\n",
       "    </tr>\n",
       "  </tbody>\n",
       "</table>\n",
       "</div>"
      ],
      "text/plain": [
       "                  title   puNumber           show_start_date            type  \\\n",
       "0      Открытый простор  221048915  2015-11-27T12:00:00.000Z  Художественный   \n",
       "1  Особо важное задание  111013716  2016-09-13T12:00:00.000Z  Художественный   \n",
       "2          Особо опасен  221038416  2016-10-10T12:00:00.000Z  Художественный   \n",
       "3          Особо опасен  221026916  2016-06-10T12:00:00.000Z  Художественный   \n",
       "4          Особо опасен  221030815  2015-07-29T12:00:00.000Z  Художественный   \n",
       "\n",
       "                                         film_studio production_country  \\\n",
       "0  Тачстоун Пикчерз, Кобальт Пикчерз, Бикон Пикче...                США   \n",
       "1                              Киностудия \"Мосфильм\"               СССР   \n",
       "2  Юниверсал Пикчерз, Кикстарт Продакшнз, Марк Пл...                США   \n",
       "3  Юниверсал Пикчерз, Кикстарт Продакшнз, Марк Пл...                США   \n",
       "4  Юниверсал Пикчерз, Кикстарт Продакшнз, Марк Пл...                США   \n",
       "\n",
       "            director                                           producer  \\\n",
       "0      Кевин Костнер          Дэвид Валдес, Кевин Костнер, Джейк Эбертс   \n",
       "1          Е.Матвеев                                                NaN   \n",
       "2  Тимур Бекмамбетов  Джим Лемли, Джейсон Нетер, Марк Е.Платт, Яйн Смит   \n",
       "3  Тимур Бекмамбетов  Джим Лемли, Джейсон Нетер, Марк Е.Платт, Яйн Смит   \n",
       "4  Тимур Бекмамбетов  Джим Лемли, Джейсон Нетер, Марк Е.Платт, Яйн Смит   \n",
       "\n",
       "                 age_restriction  refundable_support  nonrefundable_support  \\\n",
       "0    «18+» - запрещено для детей                 NaN                    NaN   \n",
       "1  «6+» - для детей старше 6 лет                 NaN                    NaN   \n",
       "2    «18+» - запрещено для детей                 NaN                    NaN   \n",
       "3    «18+» - запрещено для детей                 NaN                    NaN   \n",
       "4    «18+» - запрещено для детей                 NaN                    NaN   \n",
       "\n",
       "   budget financing_source ratings                     genres  box_office  \n",
       "0     NaN              NaN     7.2     боевик,драма,мелодрама         NaN  \n",
       "1     NaN              NaN     6.6              драма,военный         NaN  \n",
       "2     NaN              NaN     6.8  фантастика,боевик,триллер         NaN  \n",
       "3     NaN              NaN     6.8  фантастика,боевик,триллер         NaN  \n",
       "4     NaN              NaN     6.8  фантастика,боевик,триллер         NaN  "
      ]
     },
     "execution_count": 5,
     "metadata": {},
     "output_type": "execute_result"
    }
   ],
   "source": [
    "df['puNumber'] = df['puNumber'].replace('нет', '0') #заменим одно артефактное значение, чтобы merge сработал\n",
    "\n",
    "df['puNumber'] = df['puNumber'].astype('int64')\n",
    "df = df.merge(df_0, on='puNumber', how='left') #затем объединяем таблицы\n",
    "\n",
    "df.head() "
   ]
  },
  {
   "cell_type": "markdown",
   "metadata": {},
   "source": [
    "Всё сработало, теперь узнаем об обновлённом датафрейме побольше"
   ]
  },
  {
   "cell_type": "code",
   "execution_count": 6,
   "metadata": {
    "scrolled": false
   },
   "outputs": [
    {
     "name": "stdout",
     "output_type": "stream",
     "text": [
      "<class 'pandas.core.frame.DataFrame'>\n",
      "Int64Index: 7486 entries, 0 to 7485\n",
      "Data columns (total 16 columns):\n",
      " #   Column                 Non-Null Count  Dtype  \n",
      "---  ------                 --------------  -----  \n",
      " 0   title                  7486 non-null   object \n",
      " 1   puNumber               7486 non-null   int64  \n",
      " 2   show_start_date        7486 non-null   object \n",
      " 3   type                   7486 non-null   object \n",
      " 4   film_studio            7468 non-null   object \n",
      " 5   production_country     7484 non-null   object \n",
      " 6   director               7477 non-null   object \n",
      " 7   producer               6918 non-null   object \n",
      " 8   age_restriction        7486 non-null   object \n",
      " 9   refundable_support     332 non-null    float64\n",
      " 10  nonrefundable_support  332 non-null    float64\n",
      " 11  budget                 332 non-null    float64\n",
      " 12  financing_source       332 non-null    object \n",
      " 13  ratings                6519 non-null   object \n",
      " 14  genres                 6510 non-null   object \n",
      " 15  box_office             3158 non-null   float64\n",
      "dtypes: float64(4), int64(1), object(11)\n",
      "memory usage: 994.2+ KB\n"
     ]
    }
   ],
   "source": [
    "df.info()"
   ]
  },
  {
   "cell_type": "markdown",
   "metadata": {},
   "source": [
    "Всего в таблице 16 столбцов\n",
    "\n",
    "4 столбца типа `float64`, 1 столбцец типа `int64` и 11 столбцов типа `object`\n",
    "\n",
    "Согласно документации к данным:\n",
    "\n",
    "* title — название фильма;\n",
    "* puNumber — номер прокатного удостоверения;\n",
    "* show_start_date — дата премьеры фильма;\n",
    "* type — тип фильма;\n",
    "* film_studio — студия-производитель;\n",
    "* production_country — страна-производитель;\n",
    "* director — режиссёр;\n",
    "* producer — продюсер;\n",
    "* age_restriction — возрастная категория;\n",
    "* refundable_support — объём возвратных средств государственной поддержки;\n",
    "* nonrefundable_support — объём невозвратных средств государственной поддержки;\n",
    "* financing_source — источник государственного финансирования;\n",
    "* budget — общий бюджет фильма;\n",
    "* ratings — рейтинг фильма на КиноПоиске;\n",
    "* genres — жанр фильма;\n",
    "* box_office — сборы в рублях."
   ]
  },
  {
   "cell_type": "code",
   "execution_count": 7,
   "metadata": {
    "scrolled": true
   },
   "outputs": [
    {
     "data": {
      "text/html": [
       "<div>\n",
       "<style scoped>\n",
       "    .dataframe tbody tr th:only-of-type {\n",
       "        vertical-align: middle;\n",
       "    }\n",
       "\n",
       "    .dataframe tbody tr th {\n",
       "        vertical-align: top;\n",
       "    }\n",
       "\n",
       "    .dataframe thead th {\n",
       "        text-align: right;\n",
       "    }\n",
       "</style>\n",
       "<table border=\"1\" class=\"dataframe\">\n",
       "  <thead>\n",
       "    <tr style=\"text-align: right;\">\n",
       "      <th></th>\n",
       "      <th>count</th>\n",
       "      <th>mean</th>\n",
       "      <th>std</th>\n",
       "      <th>min</th>\n",
       "      <th>25%</th>\n",
       "      <th>50%</th>\n",
       "      <th>75%</th>\n",
       "      <th>max</th>\n",
       "    </tr>\n",
       "  </thead>\n",
       "  <tbody>\n",
       "    <tr>\n",
       "      <th>puNumber</th>\n",
       "      <td>7,486.00</td>\n",
       "      <td>135,178,527.64</td>\n",
       "      <td>38,382,177.41</td>\n",
       "      <td>0.00</td>\n",
       "      <td>112,025,043.00</td>\n",
       "      <td>121,015,464.50</td>\n",
       "      <td>124,003,313.75</td>\n",
       "      <td>231,001,111.00</td>\n",
       "    </tr>\n",
       "    <tr>\n",
       "      <th>refundable_support</th>\n",
       "      <td>332.00</td>\n",
       "      <td>11,864,457.83</td>\n",
       "      <td>24,916,555.26</td>\n",
       "      <td>0.00</td>\n",
       "      <td>0.00</td>\n",
       "      <td>0.00</td>\n",
       "      <td>15,000,000.00</td>\n",
       "      <td>180,000,000.00</td>\n",
       "    </tr>\n",
       "    <tr>\n",
       "      <th>nonrefundable_support</th>\n",
       "      <td>332.00</td>\n",
       "      <td>48,980,988.89</td>\n",
       "      <td>59,980,117.92</td>\n",
       "      <td>0.00</td>\n",
       "      <td>25,000,000.00</td>\n",
       "      <td>30,000,000.00</td>\n",
       "      <td>40,375,000.00</td>\n",
       "      <td>400,000,000.00</td>\n",
       "    </tr>\n",
       "    <tr>\n",
       "      <th>budget</th>\n",
       "      <td>332.00</td>\n",
       "      <td>127,229,716.68</td>\n",
       "      <td>188,588,333.12</td>\n",
       "      <td>0.00</td>\n",
       "      <td>42,000,000.00</td>\n",
       "      <td>68,649,916.00</td>\n",
       "      <td>141,985,319.50</td>\n",
       "      <td>2,305,074,303.00</td>\n",
       "    </tr>\n",
       "    <tr>\n",
       "      <th>box_office</th>\n",
       "      <td>3,158.00</td>\n",
       "      <td>76,478,696.16</td>\n",
       "      <td>240,353,122.82</td>\n",
       "      <td>0.00</td>\n",
       "      <td>86,239.00</td>\n",
       "      <td>2,327,987.55</td>\n",
       "      <td>23,979,671.02</td>\n",
       "      <td>3,073,568,690.79</td>\n",
       "    </tr>\n",
       "  </tbody>\n",
       "</table>\n",
       "</div>"
      ],
      "text/plain": [
       "                         count           mean            std  min  \\\n",
       "puNumber              7,486.00 135,178,527.64  38,382,177.41 0.00   \n",
       "refundable_support      332.00  11,864,457.83  24,916,555.26 0.00   \n",
       "nonrefundable_support   332.00  48,980,988.89  59,980,117.92 0.00   \n",
       "budget                  332.00 127,229,716.68 188,588,333.12 0.00   \n",
       "box_office            3,158.00  76,478,696.16 240,353,122.82 0.00   \n",
       "\n",
       "                                 25%            50%            75%  \\\n",
       "puNumber              112,025,043.00 121,015,464.50 124,003,313.75   \n",
       "refundable_support              0.00           0.00  15,000,000.00   \n",
       "nonrefundable_support  25,000,000.00  30,000,000.00  40,375,000.00   \n",
       "budget                 42,000,000.00  68,649,916.00 141,985,319.50   \n",
       "box_office                 86,239.00   2,327,987.55  23,979,671.02   \n",
       "\n",
       "                                   max  \n",
       "puNumber                231,001,111.00  \n",
       "refundable_support      180,000,000.00  \n",
       "nonrefundable_support   400,000,000.00  \n",
       "budget                2,305,074,303.00  \n",
       "box_office            3,073,568,690.79  "
      ]
     },
     "execution_count": 7,
     "metadata": {},
     "output_type": "execute_result"
    }
   ],
   "source": [
    "df.describe().T"
   ]
  },
  {
   "cell_type": "markdown",
   "metadata": {},
   "source": [
    "Описание датафрейма даёт нам понимание, что во всех числовых столбцах есть минимальное значение, равное 0. В случае номера прокатного удостоверения это тот нолик, который мы сами и вставили ранее. В случае столбцов с бюджетом и со сборами - это янвые артефакты, в будущем с ними разберёмся."
   ]
  },
  {
   "cell_type": "markdown",
   "metadata": {
    "id": "KLDGpPG0gFyM"
   },
   "source": [
    "## Предобработка данных"
   ]
  },
  {
   "cell_type": "markdown",
   "metadata": {},
   "source": [
    "### Работа с пропусками"
   ]
  },
  {
   "cell_type": "code",
   "execution_count": 8,
   "metadata": {
    "scrolled": true
   },
   "outputs": [
    {
     "data": {
      "text/plain": [
       "title                       0\n",
       "puNumber                    0\n",
       "show_start_date             0\n",
       "type                        0\n",
       "film_studio                18\n",
       "production_country          2\n",
       "director                    9\n",
       "producer                  568\n",
       "age_restriction             0\n",
       "refundable_support       7154\n",
       "nonrefundable_support    7154\n",
       "budget                   7154\n",
       "financing_source         7154\n",
       "ratings                   967\n",
       "genres                    976\n",
       "box_office               4328\n",
       "dtype: int64"
      ]
     },
     "execution_count": 8,
     "metadata": {},
     "output_type": "execute_result"
    }
   ],
   "source": [
    "df.isna().sum()"
   ]
  },
  {
   "cell_type": "markdown",
   "metadata": {},
   "source": [
    "Выбросим пропуски столбцов `production_country` и `film_studio`, так как их не так много, можем ими принебречь\n",
    "\n",
    "Остальные пропуски не буду трогать, так как их не получиться адекватно обработать"
   ]
  },
  {
   "cell_type": "code",
   "execution_count": 9,
   "metadata": {},
   "outputs": [],
   "source": [
    "df['production_country'] = df['production_country'].dropna() \n",
    "df['film_studio'] = df['film_studio'].dropna() "
   ]
  },
  {
   "cell_type": "markdown",
   "metadata": {
    "id": "ssWwKXsxgFyO"
   },
   "source": [
    "### Изменение типов данных"
   ]
  },
  {
   "cell_type": "code",
   "execution_count": 10,
   "metadata": {
    "id": "kVGSplJOgFyO",
    "scrolled": false
   },
   "outputs": [
    {
     "name": "stdout",
     "output_type": "stream",
     "text": [
      "<class 'pandas.core.frame.DataFrame'>\n",
      "Int64Index: 7486 entries, 0 to 7485\n",
      "Data columns (total 16 columns):\n",
      " #   Column                 Non-Null Count  Dtype  \n",
      "---  ------                 --------------  -----  \n",
      " 0   title                  7486 non-null   object \n",
      " 1   puNumber               7486 non-null   int64  \n",
      " 2   show_start_date        7486 non-null   object \n",
      " 3   type                   7486 non-null   object \n",
      " 4   film_studio            7468 non-null   object \n",
      " 5   production_country     7484 non-null   object \n",
      " 6   director               7477 non-null   object \n",
      " 7   producer               6918 non-null   object \n",
      " 8   age_restriction        7486 non-null   object \n",
      " 9   refundable_support     332 non-null    float64\n",
      " 10  nonrefundable_support  332 non-null    float64\n",
      " 11  budget                 332 non-null    float64\n",
      " 12  financing_source       332 non-null    object \n",
      " 13  ratings                6519 non-null   object \n",
      " 14  genres                 6510 non-null   object \n",
      " 15  box_office             3158 non-null   float64\n",
      "dtypes: float64(4), int64(1), object(11)\n",
      "memory usage: 994.2+ KB\n"
     ]
    }
   ],
   "source": [
    "df.info()"
   ]
  },
  {
   "cell_type": "markdown",
   "metadata": {},
   "source": [
    "Сразу бросается тип столбца с рейтингом - он строчный. Посмотрим его получше"
   ]
  },
  {
   "cell_type": "code",
   "execution_count": 11,
   "metadata": {
    "scrolled": false
   },
   "outputs": [
    {
     "data": {
      "text/plain": [
       "99%    4\n",
       "98%    2\n",
       "97%    3\n",
       "94%    3\n",
       "91%    3\n",
       "90%    1\n",
       "9.2    1\n",
       "9.1    1\n",
       "9.0    2\n",
       "89%    1\n",
       "Name: ratings, dtype: int64"
      ]
     },
     "execution_count": 11,
     "metadata": {},
     "output_type": "execute_result"
    }
   ],
   "source": [
    "df['ratings'].value_counts().sort_index(ascending=False).head(10)"
   ]
  },
  {
   "cell_type": "markdown",
   "metadata": {},
   "source": [
    "Есть значения с процентами, их не так много. Разберёмся с ними"
   ]
  },
  {
   "cell_type": "code",
   "execution_count": 12,
   "metadata": {},
   "outputs": [],
   "source": [
    "df['ratings'] = df['ratings'].str.replace('%','')\n",
    "\n",
    "df['ratings'] = df['ratings'].astype('float64') #замена типа данных для заполнения пропусков"
   ]
  },
  {
   "cell_type": "markdown",
   "metadata": {},
   "source": [
    "Теперь исправим полученные рейтинги в 99, 98 и тд"
   ]
  },
  {
   "cell_type": "code",
   "execution_count": 13,
   "metadata": {
    "scrolled": false
   },
   "outputs": [
    {
     "data": {
      "text/plain": [
       "9.90    4\n",
       "9.80    2\n",
       "9.70    3\n",
       "9.40    3\n",
       "9.20    1\n",
       "Name: ratings, dtype: int64"
      ]
     },
     "execution_count": 13,
     "metadata": {},
     "output_type": "execute_result"
    }
   ],
   "source": [
    "def ratings_func(row):\n",
    "    rating = row['ratings']\n",
    "    \n",
    "    if rating > 10:\n",
    "        return(rating / 10)\n",
    "    else:\n",
    "        return(rating)\n",
    "    \n",
    "df['ratings'] = df.apply(ratings_func, axis=1)\n",
    "df['ratings'].value_counts().sort_index(ascending=False).head()"
   ]
  },
  {
   "cell_type": "markdown",
   "metadata": {},
   "source": [
    "Теперь заменим категориальные значения столбца `age_restriction` на количественные для нашего же удобства"
   ]
  },
  {
   "cell_type": "code",
   "execution_count": 14,
   "metadata": {
    "scrolled": true
   },
   "outputs": [],
   "source": [
    "df['age_restriction'].replace(\n",
    "    to_replace = ['«18+» - запрещено для детей', '«16+» - для детей старше 16 лет', '«12+» - для детей старше 12 лет', '«6+» - для детей старше 6 лет','«0+» - для любой зрительской аудитории'],\n",
    "    value = ['18','16','12','6','0'],\n",
    "    inplace = True\n",
    ")\n",
    "\n",
    "df['age_restriction'] = df['age_restriction'].astype('int64')"
   ]
  },
  {
   "cell_type": "markdown",
   "metadata": {},
   "source": [
    "Поработаем немного с типами других столбцов для экономии памяти"
   ]
  },
  {
   "cell_type": "code",
   "execution_count": 15,
   "metadata": {
    "scrolled": true
   },
   "outputs": [
    {
     "name": "stdout",
     "output_type": "stream",
     "text": [
      "<class 'pandas.core.frame.DataFrame'>\n",
      "Int64Index: 7486 entries, 0 to 7485\n",
      "Data columns (total 16 columns):\n",
      " #   Column                 Non-Null Count  Dtype              \n",
      "---  ------                 --------------  -----              \n",
      " 0   title                  7486 non-null   object             \n",
      " 1   puNumber               7486 non-null   int64              \n",
      " 2   show_start_date        7486 non-null   datetime64[ns, UTC]\n",
      " 3   type                   7486 non-null   category           \n",
      " 4   film_studio            7468 non-null   object             \n",
      " 5   production_country     7484 non-null   object             \n",
      " 6   director               7477 non-null   object             \n",
      " 7   producer               6918 non-null   object             \n",
      " 8   age_restriction        7486 non-null   int64              \n",
      " 9   refundable_support     332 non-null    float64            \n",
      " 10  nonrefundable_support  332 non-null    float64            \n",
      " 11  budget                 332 non-null    float64            \n",
      " 12  financing_source       332 non-null    category           \n",
      " 13  ratings                6519 non-null   float64            \n",
      " 14  genres                 6510 non-null   object             \n",
      " 15  box_office             3158 non-null   float64            \n",
      "dtypes: category(2), datetime64[ns, UTC](1), float64(5), int64(2), object(6)\n",
      "memory usage: 892.4+ KB\n"
     ]
    }
   ],
   "source": [
    "df['show_start_date'] = pd.to_datetime(df['show_start_date'], format='%Y-%m-%dT')\n",
    "df['type'] = df['type'].astype('category')\n",
    "df['financing_source'] = df['financing_source'].astype('category')\n",
    "df.info()"
   ]
  },
  {
   "cell_type": "markdown",
   "metadata": {
    "id": "4c6k1t9ygFyQ"
   },
   "source": [
    "### Дубликаты"
   ]
  },
  {
   "cell_type": "markdown",
   "metadata": {},
   "source": [
    "Проверим данные на явные и неявные дубликаты"
   ]
  },
  {
   "cell_type": "code",
   "execution_count": 16,
   "metadata": {
    "scrolled": true
   },
   "outputs": [
    {
     "data": {
      "text/plain": [
       "0"
      ]
     },
     "execution_count": 16,
     "metadata": {},
     "output_type": "execute_result"
    }
   ],
   "source": [
    "df.duplicated().sum()"
   ]
  },
  {
   "cell_type": "code",
   "execution_count": 17,
   "metadata": {},
   "outputs": [
    {
     "data": {
      "text/plain": [
       "0"
      ]
     },
     "execution_count": 17,
     "metadata": {},
     "output_type": "execute_result"
    }
   ],
   "source": [
    "df = df.query('title != \"Анализируй то!\"') #фильтр по одному из фильмов\n",
    "df['puNumber'] = df['puNumber'].drop_duplicates()\n",
    "df['puNumber'].duplicated().sum()"
   ]
  },
  {
   "cell_type": "markdown",
   "metadata": {},
   "source": [
    "**Выводы**\n",
    "\n",
    "Явные дубликаты не обнаружены, а неявные были удалены"
   ]
  },
  {
   "cell_type": "markdown",
   "metadata": {
    "id": "52fOPrEBgFyQ"
   },
   "source": [
    "### Изучение категориальных значений"
   ]
  },
  {
   "cell_type": "markdown",
   "metadata": {},
   "source": [
    "Поработаем с названиями фильмов"
   ]
  },
  {
   "cell_type": "code",
   "execution_count": 18,
   "metadata": {
    "scrolled": true
   },
   "outputs": [],
   "source": [
    "df['title'] = df['title'].str.lower() #все названия к нижнему регистру\n",
    "\n",
    "replaced_titles = df['title'].str.endswith(('.')) #убираем точки в конце названий\n",
    "df.loc[replaced_titles, 'title'] = df.loc[replaced_titles, 'title'].str.replace('.','')"
   ]
  },
  {
   "cell_type": "code",
   "execution_count": 19,
   "metadata": {
    "scrolled": false
   },
   "outputs": [
    {
     "data": {
      "text/plain": [
       "['Художественный', 'Анимационный', 'Прочие', 'Документальный', 'Научно-популярный', ' Художественный', ' Анимационный', 'Музыкально-развлекательный']\n",
       "Categories (8, object): ['Художественный', 'Анимационный', 'Прочие', 'Документальный', 'Научно-популярный', ' Художественный', ' Анимационный', 'Музыкально-развлекательный']"
      ]
     },
     "execution_count": 19,
     "metadata": {},
     "output_type": "execute_result"
    }
   ],
   "source": [
    "df['type'].unique()"
   ]
  },
  {
   "cell_type": "markdown",
   "metadata": {},
   "source": [
    "В столбце `type` можно заметить пробелы в начале строки. Исправим это."
   ]
  },
  {
   "cell_type": "code",
   "execution_count": 20,
   "metadata": {},
   "outputs": [
    {
     "data": {
      "text/plain": [
       "array(['Художественный', 'Анимационный', 'Прочие', 'Документальный',\n",
       "       'Научно-популярный', 'Музыкально-развлекательный'], dtype=object)"
      ]
     },
     "execution_count": 20,
     "metadata": {},
     "output_type": "execute_result"
    }
   ],
   "source": [
    "df['type'] = df['type'].str.strip()\n",
    "df['type'].unique()"
   ]
  },
  {
   "cell_type": "markdown",
   "metadata": {},
   "source": [
    "Теперь уберём пробелы и в других столбцах"
   ]
  },
  {
   "cell_type": "code",
   "execution_count": 21,
   "metadata": {},
   "outputs": [],
   "source": [
    "df['production_country'] = df['production_country'].str.strip()\n",
    "df['director'] = df['director'].str.strip()\n",
    "df['film_studio'] = df['film_studio'].str.strip()"
   ]
  },
  {
   "cell_type": "markdown",
   "metadata": {
    "id": "XFSN5lrEgFyR"
   },
   "source": [
    "### Проверка количественных значений"
   ]
  },
  {
   "cell_type": "markdown",
   "metadata": {},
   "source": [
    "Есть нули в колонке `budget`, разберёмся с ними вручную с помощью функции"
   ]
  },
  {
   "cell_type": "code",
   "execution_count": 22,
   "metadata": {},
   "outputs": [
    {
     "data": {
      "text/plain": [
       "0"
      ]
     },
     "execution_count": 22,
     "metadata": {},
     "output_type": "execute_result"
    }
   ],
   "source": [
    "def budget_fill_nulls(row):\n",
    "    title = row['title']\n",
    "    budget = row['budget']\n",
    "    \n",
    "    if budget > 0:\n",
    "        return(budget)\n",
    "    else:\n",
    "        if title == '14+':\n",
    "            return(35849750.0)\n",
    "        elif title == 'дуxless 2':\n",
    "            return(286798000)\n",
    "        elif title == 'воин (2015)':\n",
    "            return(107549250)\n",
    "        elif title == 'бармен':\n",
    "            return(60000000)\n",
    "        elif title == 'савва. сердце воина':\n",
    "            return(1000000000)\n",
    "        elif title == 'тряпичный союз':\n",
    "            return(1900000)\n",
    "        elif title == 'срочно выйду замуж':\n",
    "            return(100379300)\n",
    "        elif title == 'помню - не помню!':\n",
    "            return(93209350)\n",
    "        elif title == 'любовь с ограничениями':\n",
    "            return(110000000)\n",
    "        elif title == 'притяжение (2016)':\n",
    "            return(380000000)\n",
    "        elif title == 'чудо-юдо':\n",
    "            return(172078800)\n",
    "        elif title == 'мифы':\n",
    "            return(70000000)\n",
    "        elif title == 'селфи':\n",
    "            return(143399000)\n",
    "        elif title == 'два хвоста':\n",
    "            return(110000000)\n",
    "        elif title == 'принцесса и дракон':\n",
    "            return(116000000)\n",
    "        elif title == 'баба яга':\n",
    "            return(220000000)\n",
    "        elif title == 'большое путешествие':\n",
    "            return(60000000)\n",
    "        \n",
    "df['budget'] = df.apply(budget_fill_nulls, axis=1)\n",
    "len(df[df['budget'] == 0])"
   ]
  },
  {
   "cell_type": "markdown",
   "metadata": {},
   "source": [
    "Таким образом, все артефактные нули столбца `budget` были побеждены"
   ]
  },
  {
   "cell_type": "code",
   "execution_count": 23,
   "metadata": {},
   "outputs": [],
   "source": [
    "df = df.query('box_office != 0')"
   ]
  },
  {
   "cell_type": "markdown",
   "metadata": {},
   "source": [
    "Разобрались и с нулевыми сборами, которыми можно пренебречь, так как их не так много"
   ]
  },
  {
   "cell_type": "markdown",
   "metadata": {
    "id": "Eu6oWp2CgFyS"
   },
   "source": [
    "### Новые столбцы"
   ]
  },
  {
   "cell_type": "markdown",
   "metadata": {},
   "source": [
    "Добавляем год проката"
   ]
  },
  {
   "cell_type": "code",
   "execution_count": 24,
   "metadata": {
    "id": "I-yd1DkWgFyT"
   },
   "outputs": [],
   "source": [
    "df['year'] = df['show_start_date'].dt.year"
   ]
  },
  {
   "cell_type": "markdown",
   "metadata": {},
   "source": [
    "Добавляем столбец с главным режиссёром и основным жанром"
   ]
  },
  {
   "cell_type": "code",
   "execution_count": 25,
   "metadata": {
    "id": "LSbRZKbMgFyU"
   },
   "outputs": [],
   "source": [
    "df['main_producer'] = df['producer'].str.partition(',')[0]\n",
    "df['main_genre'] = df['genres'].str.partition(',')[0]"
   ]
  },
  {
   "cell_type": "markdown",
   "metadata": {
    "id": "1FsCXHwdgFyU"
   },
   "source": [
    "Посчитаем, какую долю от общего бюджета фильма составляет государственная поддержка."
   ]
  },
  {
   "cell_type": "code",
   "execution_count": 26,
   "metadata": {
    "id": "LV6qFuZLgFyV",
    "scrolled": true
   },
   "outputs": [
    {
     "data": {
      "text/html": [
       "<div>\n",
       "<style scoped>\n",
       "    .dataframe tbody tr th:only-of-type {\n",
       "        vertical-align: middle;\n",
       "    }\n",
       "\n",
       "    .dataframe tbody tr th {\n",
       "        vertical-align: top;\n",
       "    }\n",
       "\n",
       "    .dataframe thead th {\n",
       "        text-align: right;\n",
       "    }\n",
       "</style>\n",
       "<table border=\"1\" class=\"dataframe\">\n",
       "  <thead>\n",
       "    <tr style=\"text-align: right;\">\n",
       "      <th></th>\n",
       "      <th>title</th>\n",
       "      <th>puNumber</th>\n",
       "      <th>show_start_date</th>\n",
       "      <th>type</th>\n",
       "      <th>film_studio</th>\n",
       "      <th>production_country</th>\n",
       "      <th>director</th>\n",
       "      <th>producer</th>\n",
       "      <th>age_restriction</th>\n",
       "      <th>refundable_support</th>\n",
       "      <th>nonrefundable_support</th>\n",
       "      <th>budget</th>\n",
       "      <th>financing_source</th>\n",
       "      <th>ratings</th>\n",
       "      <th>genres</th>\n",
       "      <th>box_office</th>\n",
       "      <th>year</th>\n",
       "      <th>main_producer</th>\n",
       "      <th>main_genre</th>\n",
       "      <th>gov_budget_ratio</th>\n",
       "    </tr>\n",
       "  </thead>\n",
       "  <tbody>\n",
       "    <tr>\n",
       "      <th>1281</th>\n",
       "      <td>пока еще жива</td>\n",
       "      <td>111,005,313.00</td>\n",
       "      <td>2013-10-11 12:00:00+00:00</td>\n",
       "      <td>Художественный</td>\n",
       "      <td>АНО содействия развитию кинематографии \"Ангел-...</td>\n",
       "      <td>Россия</td>\n",
       "      <td>А.Атанесян</td>\n",
       "      <td>А.Атанесян, М.Бабаханов, Р.Бутко</td>\n",
       "      <td>16</td>\n",
       "      <td>0.00</td>\n",
       "      <td>26,500,000.00</td>\n",
       "      <td>79,411,900.00</td>\n",
       "      <td>Министерство культуры</td>\n",
       "      <td>8.10</td>\n",
       "      <td>драма,мелодрама</td>\n",
       "      <td>365,353.60</td>\n",
       "      <td>2013</td>\n",
       "      <td>А.Атанесян</td>\n",
       "      <td>драма</td>\n",
       "      <td>0.33</td>\n",
       "    </tr>\n",
       "    <tr>\n",
       "      <th>1448</th>\n",
       "      <td>бесславные придурки</td>\n",
       "      <td>111,003,314.00</td>\n",
       "      <td>2014-03-28 12:00:00+00:00</td>\n",
       "      <td>Художественный</td>\n",
       "      <td>ООО \"Компания \"АТК-Студио\"</td>\n",
       "      <td>Россия</td>\n",
       "      <td>А.Якимчук</td>\n",
       "      <td>А.Тютрюмов</td>\n",
       "      <td>12</td>\n",
       "      <td>0.00</td>\n",
       "      <td>26,000,000.00</td>\n",
       "      <td>37,142,857.00</td>\n",
       "      <td>Министерство культуры</td>\n",
       "      <td>NaN</td>\n",
       "      <td>NaN</td>\n",
       "      <td>28,140.00</td>\n",
       "      <td>2014</td>\n",
       "      <td>А.Тютрюмов</td>\n",
       "      <td>NaN</td>\n",
       "      <td>0.70</td>\n",
       "    </tr>\n",
       "    <tr>\n",
       "      <th>1498</th>\n",
       "      <td>невидимки</td>\n",
       "      <td>111,004,213.00</td>\n",
       "      <td>2013-09-10 12:00:00+00:00</td>\n",
       "      <td>Художественный</td>\n",
       "      <td>ООО \"Компания \"РЕАЛ-ДАКОТА\"</td>\n",
       "      <td>Россия</td>\n",
       "      <td>Р.Давлетьяров, С.Комаров</td>\n",
       "      <td>Р.Давлетьяров, А.Котелевский, А.Олейников</td>\n",
       "      <td>12</td>\n",
       "      <td>0.00</td>\n",
       "      <td>107,847,945.00</td>\n",
       "      <td>176,023,490.00</td>\n",
       "      <td>Фонд кино</td>\n",
       "      <td>5.30</td>\n",
       "      <td>комедия,фантастика</td>\n",
       "      <td>19,957,031.50</td>\n",
       "      <td>2013</td>\n",
       "      <td>Р.Давлетьяров</td>\n",
       "      <td>комедия</td>\n",
       "      <td>0.61</td>\n",
       "    </tr>\n",
       "    <tr>\n",
       "      <th>1524</th>\n",
       "      <td>берцы</td>\n",
       "      <td>111,004,314.00</td>\n",
       "      <td>2014-05-05 12:00:00+00:00</td>\n",
       "      <td>Художественный</td>\n",
       "      <td>ООО \"Студия \"Пассажир\"</td>\n",
       "      <td>Россия</td>\n",
       "      <td>Е.Миндадзе (псевдоним Катя Шагалова)</td>\n",
       "      <td>Л.Антонова</td>\n",
       "      <td>16</td>\n",
       "      <td>0.00</td>\n",
       "      <td>28,000,000.00</td>\n",
       "      <td>40,574,140.00</td>\n",
       "      <td>Министерство культуры</td>\n",
       "      <td>4.20</td>\n",
       "      <td>драма</td>\n",
       "      <td>55,917.50</td>\n",
       "      <td>2014</td>\n",
       "      <td>Л.Антонова</td>\n",
       "      <td>драма</td>\n",
       "      <td>0.69</td>\n",
       "    </tr>\n",
       "    <tr>\n",
       "      <th>1792</th>\n",
       "      <td>братья ч</td>\n",
       "      <td>111,004,414.00</td>\n",
       "      <td>2014-04-23 12:00:00+00:00</td>\n",
       "      <td>Художественный</td>\n",
       "      <td>ООО \"Студия \"Пассажир\"</td>\n",
       "      <td>Россия</td>\n",
       "      <td>М.Угаров</td>\n",
       "      <td>А.Миндадзе, Л.Антонова</td>\n",
       "      <td>16</td>\n",
       "      <td>0.00</td>\n",
       "      <td>25,000,000.00</td>\n",
       "      <td>40,015,122.00</td>\n",
       "      <td>Министерство культуры</td>\n",
       "      <td>6.40</td>\n",
       "      <td>драма</td>\n",
       "      <td>232,100.00</td>\n",
       "      <td>2014</td>\n",
       "      <td>А.Миндадзе</td>\n",
       "      <td>драма</td>\n",
       "      <td>0.62</td>\n",
       "    </tr>\n",
       "  </tbody>\n",
       "</table>\n",
       "</div>"
      ],
      "text/plain": [
       "                    title       puNumber           show_start_date  \\\n",
       "1281        пока еще жива 111,005,313.00 2013-10-11 12:00:00+00:00   \n",
       "1448  бесславные придурки 111,003,314.00 2014-03-28 12:00:00+00:00   \n",
       "1498            невидимки 111,004,213.00 2013-09-10 12:00:00+00:00   \n",
       "1524                берцы 111,004,314.00 2014-05-05 12:00:00+00:00   \n",
       "1792             братья ч 111,004,414.00 2014-04-23 12:00:00+00:00   \n",
       "\n",
       "                type                                        film_studio  \\\n",
       "1281  Художественный  АНО содействия развитию кинематографии \"Ангел-...   \n",
       "1448  Художественный                         ООО \"Компания \"АТК-Студио\"   \n",
       "1498  Художественный                        ООО \"Компания \"РЕАЛ-ДАКОТА\"   \n",
       "1524  Художественный                             ООО \"Студия \"Пассажир\"   \n",
       "1792  Художественный                             ООО \"Студия \"Пассажир\"   \n",
       "\n",
       "     production_country                              director  \\\n",
       "1281             Россия                            А.Атанесян   \n",
       "1448             Россия                             А.Якимчук   \n",
       "1498             Россия              Р.Давлетьяров, С.Комаров   \n",
       "1524             Россия  Е.Миндадзе (псевдоним Катя Шагалова)   \n",
       "1792             Россия                              М.Угаров   \n",
       "\n",
       "                                       producer  age_restriction  \\\n",
       "1281           А.Атанесян, М.Бабаханов, Р.Бутко               16   \n",
       "1448                                 А.Тютрюмов               12   \n",
       "1498  Р.Давлетьяров, А.Котелевский, А.Олейников               12   \n",
       "1524                                 Л.Антонова               16   \n",
       "1792                     А.Миндадзе, Л.Антонова               16   \n",
       "\n",
       "      refundable_support  nonrefundable_support         budget  \\\n",
       "1281                0.00          26,500,000.00  79,411,900.00   \n",
       "1448                0.00          26,000,000.00  37,142,857.00   \n",
       "1498                0.00         107,847,945.00 176,023,490.00   \n",
       "1524                0.00          28,000,000.00  40,574,140.00   \n",
       "1792                0.00          25,000,000.00  40,015,122.00   \n",
       "\n",
       "           financing_source  ratings              genres    box_office  year  \\\n",
       "1281  Министерство культуры     8.10     драма,мелодрама    365,353.60  2013   \n",
       "1448  Министерство культуры      NaN                 NaN     28,140.00  2014   \n",
       "1498              Фонд кино     5.30  комедия,фантастика 19,957,031.50  2013   \n",
       "1524  Министерство культуры     4.20               драма     55,917.50  2014   \n",
       "1792  Министерство культуры     6.40               драма    232,100.00  2014   \n",
       "\n",
       "      main_producer main_genre  gov_budget_ratio  \n",
       "1281     А.Атанесян      драма              0.33  \n",
       "1448     А.Тютрюмов        NaN              0.70  \n",
       "1498  Р.Давлетьяров    комедия              0.61  \n",
       "1524     Л.Антонова      драма              0.69  \n",
       "1792     А.Миндадзе      драма              0.62  "
      ]
     },
     "execution_count": 26,
     "metadata": {},
     "output_type": "execute_result"
    }
   ],
   "source": [
    "df['gov_budget_ratio'] = (df['nonrefundable_support'] + df['refundable_support']) / (df['budget'])\n",
    "df[df['budget'].notna()].head()"
   ]
  },
  {
   "cell_type": "markdown",
   "metadata": {},
   "source": [
    "Всё нужное добавили, идём дальше"
   ]
  },
  {
   "cell_type": "markdown",
   "metadata": {
    "id": "6t4EukPLgFyV"
   },
   "source": [
    "## Исследовательский анализ данных\n"
   ]
  },
  {
   "cell_type": "markdown",
   "metadata": {
    "id": "vAH8WCzugFyV"
   },
   "source": [
    "### Динамика ежегодного выхода фильмов"
   ]
  },
  {
   "cell_type": "code",
   "execution_count": 27,
   "metadata": {
    "id": "ABeV47y7gFyW",
    "scrolled": true
   },
   "outputs": [
    {
     "data": {
      "text/plain": [
       "2010    980\n",
       "2011    622\n",
       "2012    588\n",
       "2013    625\n",
       "2014    801\n",
       "2015    702\n",
       "2016    817\n",
       "2017    505\n",
       "2018    891\n",
       "2019    930\n",
       "Name: year, dtype: int64"
      ]
     },
     "execution_count": 27,
     "metadata": {},
     "output_type": "execute_result"
    }
   ],
   "source": [
    "#датафрейм для дальнейшего анализа \n",
    "df_res = df.query('box_office > 0') #фильмы, имеющие информацию о сборах\n",
    "df_films_by_year = df['year'].value_counts().sort_index()\n",
    "df_res_films_by_year = df_res['year'].value_counts().sort_index()\n",
    "df['year'].value_counts().sort_index()"
   ]
  },
  {
   "cell_type": "markdown",
   "metadata": {},
   "source": [
    "Больше всего фильмов вышло в 2010 году. Меньше всего - в 2017. В целом динамика выхода новых фильмов достаточно неоднородна."
   ]
  },
  {
   "cell_type": "code",
   "execution_count": 28,
   "metadata": {
    "scrolled": false
   },
   "outputs": [
    {
     "data": {
      "text/plain": [
       "2010    101\n",
       "2011    109\n",
       "2012    123\n",
       "2013    179\n",
       "2014    273\n",
       "2015    462\n",
       "2016    525\n",
       "2017    357\n",
       "2018    475\n",
       "2019    530\n",
       "Name: year, dtype: int64"
      ]
     },
     "execution_count": 28,
     "metadata": {},
     "output_type": "execute_result"
    }
   ],
   "source": [
    "df_res_films_by_year"
   ]
  },
  {
   "cell_type": "markdown",
   "metadata": {},
   "source": [
    "Если рассматривать фильмы, которые имеют информацию о сборах, то можно заметить, что общая динамика выхода фильмов является положительной. В 17 году заметен небольшой спад, затем снова рост."
   ]
  },
  {
   "cell_type": "markdown",
   "metadata": {},
   "source": [
    "Рассмотрим фильмы, у которых известны данные о сборах"
   ]
  },
  {
   "cell_type": "code",
   "execution_count": 29,
   "metadata": {
    "scrolled": true
   },
   "outputs": [
    {
     "data": {
      "text/plain": [
       "42.01"
      ]
     },
     "execution_count": 29,
     "metadata": {},
     "output_type": "execute_result"
    }
   ],
   "source": [
    "round((len(df_res) / len(df)) * 100, 2)"
   ]
  },
  {
   "cell_type": "markdown",
   "metadata": {},
   "source": [
    "Можем заметить, что всего около `42` процентов фильмов имеют данные о кассовых сборах"
   ]
  },
  {
   "cell_type": "markdown",
   "metadata": {},
   "source": [
    "Теперь посмотрим, как менялось это соотношение в зависимости от года"
   ]
  },
  {
   "cell_type": "code",
   "execution_count": 30,
   "metadata": {
    "scrolled": false
   },
   "outputs": [
    {
     "data": {
      "text/html": [
       "<div>\n",
       "<style scoped>\n",
       "    .dataframe tbody tr th:only-of-type {\n",
       "        vertical-align: middle;\n",
       "    }\n",
       "\n",
       "    .dataframe tbody tr th {\n",
       "        vertical-align: top;\n",
       "    }\n",
       "\n",
       "    .dataframe thead th {\n",
       "        text-align: right;\n",
       "    }\n",
       "</style>\n",
       "<table border=\"1\" class=\"dataframe\">\n",
       "  <thead>\n",
       "    <tr style=\"text-align: right;\">\n",
       "      <th></th>\n",
       "      <th>all_films</th>\n",
       "      <th>box_films</th>\n",
       "      <th>box_films_percent</th>\n",
       "    </tr>\n",
       "  </thead>\n",
       "  <tbody>\n",
       "    <tr>\n",
       "      <th>2010</th>\n",
       "      <td>980</td>\n",
       "      <td>101</td>\n",
       "      <td>10.30</td>\n",
       "    </tr>\n",
       "    <tr>\n",
       "      <th>2011</th>\n",
       "      <td>622</td>\n",
       "      <td>109</td>\n",
       "      <td>17.50</td>\n",
       "    </tr>\n",
       "    <tr>\n",
       "      <th>2012</th>\n",
       "      <td>588</td>\n",
       "      <td>123</td>\n",
       "      <td>20.90</td>\n",
       "    </tr>\n",
       "    <tr>\n",
       "      <th>2013</th>\n",
       "      <td>625</td>\n",
       "      <td>179</td>\n",
       "      <td>28.60</td>\n",
       "    </tr>\n",
       "    <tr>\n",
       "      <th>2014</th>\n",
       "      <td>801</td>\n",
       "      <td>273</td>\n",
       "      <td>34.10</td>\n",
       "    </tr>\n",
       "    <tr>\n",
       "      <th>2015</th>\n",
       "      <td>702</td>\n",
       "      <td>462</td>\n",
       "      <td>65.80</td>\n",
       "    </tr>\n",
       "    <tr>\n",
       "      <th>2016</th>\n",
       "      <td>817</td>\n",
       "      <td>525</td>\n",
       "      <td>64.30</td>\n",
       "    </tr>\n",
       "    <tr>\n",
       "      <th>2017</th>\n",
       "      <td>505</td>\n",
       "      <td>357</td>\n",
       "      <td>70.70</td>\n",
       "    </tr>\n",
       "    <tr>\n",
       "      <th>2018</th>\n",
       "      <td>891</td>\n",
       "      <td>475</td>\n",
       "      <td>53.30</td>\n",
       "    </tr>\n",
       "    <tr>\n",
       "      <th>2019</th>\n",
       "      <td>930</td>\n",
       "      <td>530</td>\n",
       "      <td>57.00</td>\n",
       "    </tr>\n",
       "  </tbody>\n",
       "</table>\n",
       "</div>"
      ],
      "text/plain": [
       "      all_films  box_films  box_films_percent\n",
       "2010        980        101              10.30\n",
       "2011        622        109              17.50\n",
       "2012        588        123              20.90\n",
       "2013        625        179              28.60\n",
       "2014        801        273              34.10\n",
       "2015        702        462              65.80\n",
       "2016        817        525              64.30\n",
       "2017        505        357              70.70\n",
       "2018        891        475              53.30\n",
       "2019        930        530              57.00"
      ]
     },
     "execution_count": 30,
     "metadata": {},
     "output_type": "execute_result"
    }
   ],
   "source": [
    "df_joined_films_by_year = (\n",
    "    pd.DataFrame(df_films_by_year)  \n",
    "    .join(pd.DataFrame(df_res_films_by_year),\n",
    "    lsuffix='_l', rsuffix='_r')\n",
    ")\n",
    "df_joined_films_by_year.columns = ['all_films', 'box_films']\n",
    "df_joined_films_by_year['box_films_percent'] = round((df_joined_films_by_year['box_films'] / df_joined_films_by_year['all_films'])*100, 1)\n",
    "df_joined_films_by_year"
   ]
  },
  {
   "cell_type": "markdown",
   "metadata": {},
   "source": [
    "Строим гистограммы, на которых покажем процент фильмов, которые имеют данные о сборах в зависимости от года"
   ]
  },
  {
   "cell_type": "code",
   "execution_count": 31,
   "metadata": {},
   "outputs": [
    {
     "data": {
      "image/png": "[encoded data removed]",
      "text/plain": [
       "<Figure size 504x360 with 1 Axes>"
      ]
     },
     "metadata": {
      "needs_background": "light"
     },
     "output_type": "display_data"
    }
   ],
   "source": [
    "df_joined_films_by_year.plot.bar(y='box_films_percent', figsize=(7,5))\n",
    "plt.title('Процент фильмов, имеющих данные о сборах, в зависимости от года')\n",
    "plt.xlabel('Год')\n",
    "plt.ylabel('Процент')\n",
    "plt.show()"
   ]
  },
  {
   "cell_type": "markdown",
   "metadata": {
    "id": "BEOdcIrIgFyW"
   },
   "source": [
    "Изучим, как менялась динамика проката по годам"
   ]
  },
  {
   "cell_type": "code",
   "execution_count": 32,
   "metadata": {
    "scrolled": false
   },
   "outputs": [
    {
     "data": {
      "text/html": [
       "<div>\n",
       "<style scoped>\n",
       "    .dataframe tbody tr th:only-of-type {\n",
       "        vertical-align: middle;\n",
       "    }\n",
       "\n",
       "    .dataframe tbody tr th {\n",
       "        vertical-align: top;\n",
       "    }\n",
       "\n",
       "    .dataframe thead th {\n",
       "        text-align: right;\n",
       "    }\n",
       "</style>\n",
       "<table border=\"1\" class=\"dataframe\">\n",
       "  <thead>\n",
       "    <tr style=\"text-align: right;\">\n",
       "      <th></th>\n",
       "      <th>box_office</th>\n",
       "    </tr>\n",
       "    <tr>\n",
       "      <th>year</th>\n",
       "      <th></th>\n",
       "    </tr>\n",
       "  </thead>\n",
       "  <tbody>\n",
       "    <tr>\n",
       "      <th>2010</th>\n",
       "      <td>2,428,654.00</td>\n",
       "    </tr>\n",
       "    <tr>\n",
       "      <th>2011</th>\n",
       "      <td>14,102,765.00</td>\n",
       "    </tr>\n",
       "    <tr>\n",
       "      <th>2012</th>\n",
       "      <td>6,955,423.00</td>\n",
       "    </tr>\n",
       "    <tr>\n",
       "      <th>2013</th>\n",
       "      <td>29,799,706.20</td>\n",
       "    </tr>\n",
       "    <tr>\n",
       "      <th>2014</th>\n",
       "      <td>7,444,951,859.20</td>\n",
       "    </tr>\n",
       "    <tr>\n",
       "      <th>2015</th>\n",
       "      <td>39,497,365,196.40</td>\n",
       "    </tr>\n",
       "    <tr>\n",
       "      <th>2016</th>\n",
       "      <td>47,866,299,741.91</td>\n",
       "    </tr>\n",
       "    <tr>\n",
       "      <th>2017</th>\n",
       "      <td>48,563,707,217.51</td>\n",
       "    </tr>\n",
       "    <tr>\n",
       "      <th>2018</th>\n",
       "      <td>49,668,403,134.32</td>\n",
       "    </tr>\n",
       "    <tr>\n",
       "      <th>2019</th>\n",
       "      <td>48,425,708,779.59</td>\n",
       "    </tr>\n",
       "  </tbody>\n",
       "</table>\n",
       "</div>"
      ],
      "text/plain": [
       "            box_office\n",
       "year                  \n",
       "2010      2,428,654.00\n",
       "2011     14,102,765.00\n",
       "2012      6,955,423.00\n",
       "2013     29,799,706.20\n",
       "2014  7,444,951,859.20\n",
       "2015 39,497,365,196.40\n",
       "2016 47,866,299,741.91\n",
       "2017 48,563,707,217.51\n",
       "2018 49,668,403,134.32\n",
       "2019 48,425,708,779.59"
      ]
     },
     "execution_count": 32,
     "metadata": {},
     "output_type": "execute_result"
    }
   ],
   "source": [
    "year_box_pivot = df_res.pivot_table(index='year', values='box_office', aggfunc='sum')\n",
    "year_box_pivot"
   ]
  },
  {
   "cell_type": "markdown",
   "metadata": {},
   "source": [
    "**Выводы**\n",
    "\n",
    "Минимальные сборы были в 2010. Но там и фильмов выходило меньше (101 фильм), дальше идёт 12 год (123 фильма).\n",
    "\n",
    "\n",
    "В 18 было больше всего сборов. Сборы в 16, 17 и 19 годах чуть поменьше. Так же в 17 выходило меньше всего фильмов, соответственно можем сделать вывод, что в этот фильм выходило больше кассовых картин."
   ]
  },
  {
   "cell_type": "markdown",
   "metadata": {},
   "source": [
    "**Построим распределение сборов фильмов в зависимости от года**"
   ]
  },
  {
   "cell_type": "code",
   "execution_count": 33,
   "metadata": {},
   "outputs": [
    {
     "data": {
      "image/png": "[encoded data removed]",
      "text/plain": [
       "<Figure size 504x360 with 1 Axes>"
      ]
     },
     "metadata": {
      "needs_background": "light"
     },
     "output_type": "display_data"
    }
   ],
   "source": [
    "year_box_pivot.plot.bar(y='box_office', figsize=(7,5))\n",
    "plt.title('Сборы фильмов в зависимости от года')\n",
    "plt.xlabel('Год')\n",
    "plt.ylabel('Сборы, руб')\n",
    "plt.show()"
   ]
  },
  {
   "cell_type": "markdown",
   "metadata": {},
   "source": [
    "**Выводы**\n",
    "\n",
    "Графики наглядно показывают картину по сборам. \n",
    "\n",
    "Сборами до 14 года в принципе можно принебречь. В 14 было намного меньше сборов, чем в последующие года. В 15 сборы сильно выросли. С 16 года наблюдаются примерно одинаковые значения по сборам."
   ]
  },
  {
   "cell_type": "markdown",
   "metadata": {
    "id": "G-7qS-N-gFyY"
   },
   "source": [
    "### Расчет средней и медианной суммы сборов для каждого года"
   ]
  },
  {
   "cell_type": "code",
   "execution_count": 34,
   "metadata": {},
   "outputs": [
    {
     "data": {
      "text/html": [
       "<div>\n",
       "<style scoped>\n",
       "    .dataframe tbody tr th:only-of-type {\n",
       "        vertical-align: middle;\n",
       "    }\n",
       "\n",
       "    .dataframe tbody tr th {\n",
       "        vertical-align: top;\n",
       "    }\n",
       "\n",
       "    .dataframe thead th {\n",
       "        text-align: right;\n",
       "    }\n",
       "</style>\n",
       "<table border=\"1\" class=\"dataframe\">\n",
       "  <thead>\n",
       "    <tr style=\"text-align: right;\">\n",
       "      <th></th>\n",
       "      <th>mean</th>\n",
       "      <th>median</th>\n",
       "      <th>std</th>\n",
       "      <th>median_mean_ratio</th>\n",
       "    </tr>\n",
       "    <tr>\n",
       "      <th>year</th>\n",
       "      <th></th>\n",
       "      <th></th>\n",
       "      <th></th>\n",
       "      <th></th>\n",
       "    </tr>\n",
       "  </thead>\n",
       "  <tbody>\n",
       "    <tr>\n",
       "      <th>2010</th>\n",
       "      <td>24,046.08</td>\n",
       "      <td>1,710.00</td>\n",
       "      <td>146,138.69</td>\n",
       "      <td>0.07</td>\n",
       "    </tr>\n",
       "    <tr>\n",
       "      <th>2011</th>\n",
       "      <td>129,383.17</td>\n",
       "      <td>3,000.00</td>\n",
       "      <td>1,114,446.84</td>\n",
       "      <td>0.02</td>\n",
       "    </tr>\n",
       "    <tr>\n",
       "      <th>2012</th>\n",
       "      <td>56,548.15</td>\n",
       "      <td>6,220.00</td>\n",
       "      <td>233,666.75</td>\n",
       "      <td>0.11</td>\n",
       "    </tr>\n",
       "    <tr>\n",
       "      <th>2013</th>\n",
       "      <td>166,478.81</td>\n",
       "      <td>3,580.00</td>\n",
       "      <td>1,525,589.55</td>\n",
       "      <td>0.02</td>\n",
       "    </tr>\n",
       "    <tr>\n",
       "      <th>2014</th>\n",
       "      <td>27,270,885.93</td>\n",
       "      <td>20,400.00</td>\n",
       "      <td>122,324,726.96</td>\n",
       "      <td>0.00</td>\n",
       "    </tr>\n",
       "    <tr>\n",
       "      <th>2015</th>\n",
       "      <td>85,492,132.46</td>\n",
       "      <td>5,003,450.15</td>\n",
       "      <td>220,771,366.20</td>\n",
       "      <td>0.06</td>\n",
       "    </tr>\n",
       "    <tr>\n",
       "      <th>2016</th>\n",
       "      <td>91,173,904.27</td>\n",
       "      <td>3,915,041.02</td>\n",
       "      <td>251,252,220.88</td>\n",
       "      <td>0.04</td>\n",
       "    </tr>\n",
       "    <tr>\n",
       "      <th>2017</th>\n",
       "      <td>136,032,793.33</td>\n",
       "      <td>9,968,340.00</td>\n",
       "      <td>323,251,440.97</td>\n",
       "      <td>0.07</td>\n",
       "    </tr>\n",
       "    <tr>\n",
       "      <th>2018</th>\n",
       "      <td>104,565,059.23</td>\n",
       "      <td>8,891,102.21</td>\n",
       "      <td>272,079,011.97</td>\n",
       "      <td>0.09</td>\n",
       "    </tr>\n",
       "    <tr>\n",
       "      <th>2019</th>\n",
       "      <td>91,369,261.85</td>\n",
       "      <td>4,627,798.34</td>\n",
       "      <td>290,931,159.54</td>\n",
       "      <td>0.05</td>\n",
       "    </tr>\n",
       "  </tbody>\n",
       "</table>\n",
       "</div>"
      ],
      "text/plain": [
       "               mean       median            std  median_mean_ratio\n",
       "year                                                              \n",
       "2010      24,046.08     1,710.00     146,138.69               0.07\n",
       "2011     129,383.17     3,000.00   1,114,446.84               0.02\n",
       "2012      56,548.15     6,220.00     233,666.75               0.11\n",
       "2013     166,478.81     3,580.00   1,525,589.55               0.02\n",
       "2014  27,270,885.93    20,400.00 122,324,726.96               0.00\n",
       "2015  85,492,132.46 5,003,450.15 220,771,366.20               0.06\n",
       "2016  91,173,904.27 3,915,041.02 251,252,220.88               0.04\n",
       "2017 136,032,793.33 9,968,340.00 323,251,440.97               0.07\n",
       "2018 104,565,059.23 8,891,102.21 272,079,011.97               0.09\n",
       "2019  91,369,261.85 4,627,798.34 290,931,159.54               0.05"
      ]
     },
     "execution_count": 34,
     "metadata": {},
     "output_type": "execute_result"
    }
   ],
   "source": [
    "df_res_mean_median_std = df_res.groupby('year').agg({'box_office':['mean', 'median', 'std']})\n",
    "df_res_mean_median_std.columns = ['mean', 'median', 'std']\n",
    "df_res_mean_median_std['median_mean_ratio'] = df_res_mean_median_std['median'] / df_res_mean_median_std['mean']\n",
    "df_res_mean_median_std"
   ]
  },
  {
   "cell_type": "markdown",
   "metadata": {},
   "source": [
    "Средние и медианные значения ооочень сильно отличаются почти во всех годах. \n",
    "Это значит, что во все эти годы выходили фильмы, кассовые сборы которых довольно сильно отличались от медианных сборов за год"
   ]
  },
  {
   "cell_type": "markdown",
   "metadata": {
    "id": "Ok89WFwJgFyZ"
   },
   "source": [
    "### Определение влияния возрастного рейтинга на сборы"
   ]
  },
  {
   "cell_type": "code",
   "execution_count": 35,
   "metadata": {
    "id": "jsSbEqfjgFya",
    "scrolled": true
   },
   "outputs": [
    {
     "data": {
      "text/html": [
       "<div>\n",
       "<style scoped>\n",
       "    .dataframe tbody tr th:only-of-type {\n",
       "        vertical-align: middle;\n",
       "    }\n",
       "\n",
       "    .dataframe tbody tr th {\n",
       "        vertical-align: top;\n",
       "    }\n",
       "\n",
       "    .dataframe thead th {\n",
       "        text-align: right;\n",
       "    }\n",
       "</style>\n",
       "<table border=\"1\" class=\"dataframe\">\n",
       "  <thead>\n",
       "    <tr style=\"text-align: right;\">\n",
       "      <th>age_restriction</th>\n",
       "      <th>0</th>\n",
       "      <th>6</th>\n",
       "      <th>12</th>\n",
       "      <th>16</th>\n",
       "      <th>18</th>\n",
       "    </tr>\n",
       "    <tr>\n",
       "      <th>year</th>\n",
       "      <th></th>\n",
       "      <th></th>\n",
       "      <th></th>\n",
       "      <th></th>\n",
       "      <th></th>\n",
       "    </tr>\n",
       "  </thead>\n",
       "  <tbody>\n",
       "    <tr>\n",
       "      <th>2015</th>\n",
       "      <td>2,949,808.55</td>\n",
       "      <td>20,380,982.20</td>\n",
       "      <td>15,959,668.30</td>\n",
       "      <td>4,784,781.50</td>\n",
       "      <td>4,616,614.70</td>\n",
       "    </tr>\n",
       "    <tr>\n",
       "      <th>2016</th>\n",
       "      <td>2,571,294.10</td>\n",
       "      <td>3,026,256.15</td>\n",
       "      <td>4,690,635.25</td>\n",
       "      <td>5,180,850.50</td>\n",
       "      <td>6,107,001.74</td>\n",
       "    </tr>\n",
       "    <tr>\n",
       "      <th>2017</th>\n",
       "      <td>22,178,956.00</td>\n",
       "      <td>51,992,103.00</td>\n",
       "      <td>9,010,548.00</td>\n",
       "      <td>9,702,077.00</td>\n",
       "      <td>8,212,677.00</td>\n",
       "    </tr>\n",
       "    <tr>\n",
       "      <th>2018</th>\n",
       "      <td>3,616,937.28</td>\n",
       "      <td>14,688,850.32</td>\n",
       "      <td>8,931,965.66</td>\n",
       "      <td>9,010,638.62</td>\n",
       "      <td>7,179,466.00</td>\n",
       "    </tr>\n",
       "    <tr>\n",
       "      <th>2019</th>\n",
       "      <td>3,885,434.50</td>\n",
       "      <td>12,875,350.34</td>\n",
       "      <td>3,405,545.76</td>\n",
       "      <td>3,210,717.81</td>\n",
       "      <td>5,603,216.55</td>\n",
       "    </tr>\n",
       "  </tbody>\n",
       "</table>\n",
       "</div>"
      ],
      "text/plain": [
       "age_restriction            0             6             12           16  \\\n",
       "year                                                                     \n",
       "2015             2,949,808.55 20,380,982.20 15,959,668.30 4,784,781.50   \n",
       "2016             2,571,294.10  3,026,256.15  4,690,635.25 5,180,850.50   \n",
       "2017            22,178,956.00 51,992,103.00  9,010,548.00 9,702,077.00   \n",
       "2018             3,616,937.28 14,688,850.32  8,931,965.66 9,010,638.62   \n",
       "2019             3,885,434.50 12,875,350.34  3,405,545.76 3,210,717.81   \n",
       "\n",
       "age_restriction           18  \n",
       "year                          \n",
       "2015            4,616,614.70  \n",
       "2016            6,107,001.74  \n",
       "2017            8,212,677.00  \n",
       "2018            7,179,466.00  \n",
       "2019            5,603,216.55  "
      ]
     },
     "execution_count": 35,
     "metadata": {},
     "output_type": "execute_result"
    }
   ],
   "source": [
    "df_res = df_res.query('year > 2014') #фильтр для года\n",
    "df_res_year_age = df_res.pivot_table(index='year', columns='age_restriction', values='box_office', aggfunc='median')\n",
    "df_res_year_age"
   ]
  },
  {
   "cell_type": "markdown",
   "metadata": {},
   "source": [
    "По сводной таблице видно, что возрастное ограничение довольно значительно влияет на общие сборы в прокате. И в зависимости от года ситуация так же изменяется.\n",
    "\n",
    "Можно выделить общую тенденцию в возрастном ограничении в 6+, тут фильмы зарабатывают больше, чем в других группах. Это неудивительно, так как ограничение в 6+ захватывает бОльшую часть аудитории кинотеатров - и детей и взрослых, а соответственно и сборы будут выше."
   ]
  },
  {
   "cell_type": "code",
   "execution_count": 36,
   "metadata": {
    "scrolled": false
   },
   "outputs": [
    {
     "data": {
      "image/png": "[encoded data removed]",
      "text/plain": [
       "<Figure size 864x432 with 1 Axes>"
      ]
     },
     "metadata": {
      "needs_background": "light"
     },
     "output_type": "display_data"
    }
   ],
   "source": [
    "ax = df_res_year_age.plot.bar(figsize=(12,6))\n",
    "plt.title('Сборы фильмов в зависимости от года и возрастного ограничения')\n",
    "plt.xlabel('Год')\n",
    "plt.ylabel('Сборы, руб')\n",
    "plt.show()"
   ]
  },
  {
   "cell_type": "markdown",
   "metadata": {
    "id": "l_Kg6Ku4gFya"
   },
   "source": [
    "## Исследование фильмов, которые получили государственную поддержку"
   ]
  },
  {
   "cell_type": "markdown",
   "metadata": {},
   "source": [
    "### Окупаемость по жанрам"
   ]
  },
  {
   "cell_type": "markdown",
   "metadata": {},
   "source": [
    "Создадим функцию для определения окупаемости фильма, где \n",
    "\n",
    "1 - фильм окупился\n",
    "\n",
    "0 - не окупился"
   ]
  },
  {
   "cell_type": "code",
   "execution_count": 37,
   "metadata": {},
   "outputs": [],
   "source": [
    "df_res = df_res.query('budget > 0')\n",
    "\n",
    "def payback(row):\n",
    "    box = row['box_office']\n",
    "    budget = row['budget']\n",
    "    \n",
    "    if box > budget:\n",
    "        return(1)\n",
    "    else:\n",
    "        return(0)\n",
    "    \n",
    "df_res['payback'] = df_res.apply(payback, axis=1) "
   ]
  },
  {
   "cell_type": "markdown",
   "metadata": {},
   "source": [
    "Теперь сделаем сводную таблицу окупаемости по жанрам, где будут три столбца: \n",
    "\n",
    "* Общее количество фильмов по жанрам\n",
    "\n",
    "* Количество окупившихся фильмов по жанрам (сумма единичек и будет количеством окупившихся фильмов)\n",
    "\n",
    "* Соотношение окупившихся фильмов к общему\n",
    "\n"
   ]
  },
  {
   "cell_type": "code",
   "execution_count": 38,
   "metadata": {
    "scrolled": false
   },
   "outputs": [
    {
     "data": {
      "text/html": [
       "<div>\n",
       "<style scoped>\n",
       "    .dataframe tbody tr th:only-of-type {\n",
       "        vertical-align: middle;\n",
       "    }\n",
       "\n",
       "    .dataframe tbody tr th {\n",
       "        vertical-align: top;\n",
       "    }\n",
       "\n",
       "    .dataframe thead th {\n",
       "        text-align: right;\n",
       "    }\n",
       "</style>\n",
       "<table border=\"1\" class=\"dataframe\">\n",
       "  <thead>\n",
       "    <tr style=\"text-align: right;\">\n",
       "      <th></th>\n",
       "      <th>payback_count</th>\n",
       "      <th>payback_sum</th>\n",
       "      <th>payback_ratio</th>\n",
       "    </tr>\n",
       "    <tr>\n",
       "      <th>main_genre</th>\n",
       "      <th></th>\n",
       "      <th></th>\n",
       "      <th></th>\n",
       "    </tr>\n",
       "  </thead>\n",
       "  <tbody>\n",
       "    <tr>\n",
       "      <th>спорт</th>\n",
       "      <td>3</td>\n",
       "      <td>2</td>\n",
       "      <td>0.67</td>\n",
       "    </tr>\n",
       "    <tr>\n",
       "      <th>семейный</th>\n",
       "      <td>4</td>\n",
       "      <td>2</td>\n",
       "      <td>0.50</td>\n",
       "    </tr>\n",
       "    <tr>\n",
       "      <th>комедия</th>\n",
       "      <td>70</td>\n",
       "      <td>27</td>\n",
       "      <td>0.39</td>\n",
       "    </tr>\n",
       "    <tr>\n",
       "      <th>биография</th>\n",
       "      <td>3</td>\n",
       "      <td>1</td>\n",
       "      <td>0.33</td>\n",
       "    </tr>\n",
       "    <tr>\n",
       "      <th>военный</th>\n",
       "      <td>9</td>\n",
       "      <td>3</td>\n",
       "      <td>0.33</td>\n",
       "    </tr>\n",
       "    <tr>\n",
       "      <th>боевик</th>\n",
       "      <td>6</td>\n",
       "      <td>2</td>\n",
       "      <td>0.33</td>\n",
       "    </tr>\n",
       "    <tr>\n",
       "      <th>ужасы</th>\n",
       "      <td>10</td>\n",
       "      <td>3</td>\n",
       "      <td>0.30</td>\n",
       "    </tr>\n",
       "    <tr>\n",
       "      <th>мультфильм</th>\n",
       "      <td>29</td>\n",
       "      <td>8</td>\n",
       "      <td>0.28</td>\n",
       "    </tr>\n",
       "    <tr>\n",
       "      <th>история</th>\n",
       "      <td>4</td>\n",
       "      <td>1</td>\n",
       "      <td>0.25</td>\n",
       "    </tr>\n",
       "    <tr>\n",
       "      <th>фантастика</th>\n",
       "      <td>9</td>\n",
       "      <td>2</td>\n",
       "      <td>0.22</td>\n",
       "    </tr>\n",
       "    <tr>\n",
       "      <th>драма</th>\n",
       "      <td>79</td>\n",
       "      <td>14</td>\n",
       "      <td>0.18</td>\n",
       "    </tr>\n",
       "    <tr>\n",
       "      <th>приключения</th>\n",
       "      <td>6</td>\n",
       "      <td>1</td>\n",
       "      <td>0.17</td>\n",
       "    </tr>\n",
       "    <tr>\n",
       "      <th>триллер</th>\n",
       "      <td>15</td>\n",
       "      <td>2</td>\n",
       "      <td>0.13</td>\n",
       "    </tr>\n",
       "    <tr>\n",
       "      <th>фэнтези</th>\n",
       "      <td>11</td>\n",
       "      <td>1</td>\n",
       "      <td>0.09</td>\n",
       "    </tr>\n",
       "    <tr>\n",
       "      <th>криминал</th>\n",
       "      <td>3</td>\n",
       "      <td>0</td>\n",
       "      <td>0.00</td>\n",
       "    </tr>\n",
       "    <tr>\n",
       "      <th>мелодрама</th>\n",
       "      <td>12</td>\n",
       "      <td>0</td>\n",
       "      <td>0.00</td>\n",
       "    </tr>\n",
       "    <tr>\n",
       "      <th>мюзикл</th>\n",
       "      <td>4</td>\n",
       "      <td>0</td>\n",
       "      <td>0.00</td>\n",
       "    </tr>\n",
       "    <tr>\n",
       "      <th>реальное ТВ</th>\n",
       "      <td>1</td>\n",
       "      <td>0</td>\n",
       "      <td>0.00</td>\n",
       "    </tr>\n",
       "    <tr>\n",
       "      <th>детский</th>\n",
       "      <td>3</td>\n",
       "      <td>0</td>\n",
       "      <td>0.00</td>\n",
       "    </tr>\n",
       "    <tr>\n",
       "      <th>детектив</th>\n",
       "      <td>5</td>\n",
       "      <td>0</td>\n",
       "      <td>0.00</td>\n",
       "    </tr>\n",
       "  </tbody>\n",
       "</table>\n",
       "</div>"
      ],
      "text/plain": [
       "             payback_count  payback_sum  payback_ratio\n",
       "main_genre                                            \n",
       "спорт                    3            2           0.67\n",
       "семейный                 4            2           0.50\n",
       "комедия                 70           27           0.39\n",
       "биография                3            1           0.33\n",
       "военный                  9            3           0.33\n",
       "боевик                   6            2           0.33\n",
       "ужасы                   10            3           0.30\n",
       "мультфильм              29            8           0.28\n",
       "история                  4            1           0.25\n",
       "фантастика               9            2           0.22\n",
       "драма                   79           14           0.18\n",
       "приключения              6            1           0.17\n",
       "триллер                 15            2           0.13\n",
       "фэнтези                 11            1           0.09\n",
       "криминал                 3            0           0.00\n",
       "мелодрама               12            0           0.00\n",
       "мюзикл                   4            0           0.00\n",
       "реальное ТВ              1            0           0.00\n",
       "детский                  3            0           0.00\n",
       "детектив                 5            0           0.00"
      ]
     },
     "execution_count": 38,
     "metadata": {},
     "output_type": "execute_result"
    }
   ],
   "source": [
    "genres_pivot = df_res.pivot_table(index='main_genre', values='payback', aggfunc=['count','sum'])\n",
    "genres_pivot.columns = ['payback_count', 'payback_sum']\n",
    "genres_pivot['payback_ratio'] = (genres_pivot['payback_sum'] / df_res['main_genre'].value_counts()).round(2)\n",
    "genres_pivot.sort_values(by='payback_ratio', ascending=False)"
   ]
  },
  {
   "cell_type": "markdown",
   "metadata": {},
   "source": [
    "Посмотрим ещё на круговые диаграммы"
   ]
  },
  {
   "cell_type": "code",
   "execution_count": 39,
   "metadata": {},
   "outputs": [
    {
     "data": {
      "image/png": "[encoded data removed]",
      "text/plain": [
       "<Figure size 576x720 with 1 Axes>"
      ]
     },
     "metadata": {},
     "output_type": "display_data"
    },
    {
     "data": {
      "image/png": "[encoded data removed]",
      "text/plain": [
       "<Figure size 576x720 with 1 Axes>"
      ]
     },
     "metadata": {},
     "output_type": "display_data"
    }
   ],
   "source": [
    "genres_pivot['payback_count'].plot(kind='pie', legend=False, figsize=(8,10))\n",
    "\n",
    "plt.title('Круговая диаграмма жанров (общее количество)')\n",
    "plt.ylabel('')\n",
    "plt.show()\n",
    "\n",
    "genres_pivot['payback_sum'].plot(kind='pie', legend=False, figsize=(8,10))\n",
    "\n",
    "plt.title('Круговая диаграмма жанров (окупившиеся)')\n",
    "plt.ylabel('')\n",
    "plt.show()"
   ]
  },
  {
   "cell_type": "markdown",
   "metadata": {},
   "source": [
    "**Выводы**\n",
    "\n",
    "Диаграммы получились не очень наглядные, так как часть жанров в принципе пропали. Но некоторые выводы с этого всего всё же можно сделать:\n",
    "\n",
    "* Если брать из всех жанров, то топ 3 по окупаемости - это жанры спорт (0.67), семейный (0.5), комедия (0.39)\n",
    "\n",
    "* Средняя окупаемость у жанров военный (0.33), биография 0.33, боевик (0.33), ужасы (0.3) и мульфильм (0.28)\n",
    "\n",
    "* При этом если общее количество фильмов жанров комедия и драма одинаково, то окупаемость комедий более чем в 2 раза выше\n",
    "\n",
    "* Топ провалов по окупаемости среди жанров - это мелодрама (0), фэнтези (0.09) и триллер (0.13). Детективы, детские, мюзиклы и криминальные фильмы так же не окупаются (0)"
   ]
  },
  {
   "cell_type": "markdown",
   "metadata": {},
   "source": [
    "### Окупаемость по возрастному ограничению"
   ]
  },
  {
   "cell_type": "code",
   "execution_count": 40,
   "metadata": {
    "scrolled": true
   },
   "outputs": [
    {
     "data": {
      "text/html": [
       "<div>\n",
       "<style scoped>\n",
       "    .dataframe tbody tr th:only-of-type {\n",
       "        vertical-align: middle;\n",
       "    }\n",
       "\n",
       "    .dataframe tbody tr th {\n",
       "        vertical-align: top;\n",
       "    }\n",
       "\n",
       "    .dataframe thead th {\n",
       "        text-align: right;\n",
       "    }\n",
       "</style>\n",
       "<table border=\"1\" class=\"dataframe\">\n",
       "  <thead>\n",
       "    <tr style=\"text-align: right;\">\n",
       "      <th></th>\n",
       "      <th>payback_count</th>\n",
       "      <th>payback_sum</th>\n",
       "      <th>payback_ratio</th>\n",
       "    </tr>\n",
       "    <tr>\n",
       "      <th>age_restriction</th>\n",
       "      <th></th>\n",
       "      <th></th>\n",
       "      <th></th>\n",
       "    </tr>\n",
       "  </thead>\n",
       "  <tbody>\n",
       "    <tr>\n",
       "      <th>12</th>\n",
       "      <td>94</td>\n",
       "      <td>28</td>\n",
       "      <td>0.30</td>\n",
       "    </tr>\n",
       "    <tr>\n",
       "      <th>6</th>\n",
       "      <td>64</td>\n",
       "      <td>17</td>\n",
       "      <td>0.27</td>\n",
       "    </tr>\n",
       "    <tr>\n",
       "      <th>16</th>\n",
       "      <td>113</td>\n",
       "      <td>22</td>\n",
       "      <td>0.19</td>\n",
       "    </tr>\n",
       "    <tr>\n",
       "      <th>18</th>\n",
       "      <td>26</td>\n",
       "      <td>3</td>\n",
       "      <td>0.12</td>\n",
       "    </tr>\n",
       "    <tr>\n",
       "      <th>0</th>\n",
       "      <td>3</td>\n",
       "      <td>0</td>\n",
       "      <td>0.00</td>\n",
       "    </tr>\n",
       "  </tbody>\n",
       "</table>\n",
       "</div>"
      ],
      "text/plain": [
       "                 payback_count  payback_sum  payback_ratio\n",
       "age_restriction                                           \n",
       "12                          94           28           0.30\n",
       "6                           64           17           0.27\n",
       "16                         113           22           0.19\n",
       "18                          26            3           0.12\n",
       "0                            3            0           0.00"
      ]
     },
     "execution_count": 40,
     "metadata": {},
     "output_type": "execute_result"
    }
   ],
   "source": [
    "age_restr_pivot = df_res.pivot_table(index='age_restriction', values='payback', aggfunc=['count','sum'])\n",
    "age_restr_pivot.columns = ['payback_count', 'payback_sum']\n",
    "age_restr_pivot['payback_ratio'] = (age_restr_pivot['payback_sum'] / df_res['age_restriction'].value_counts()).round(2)\n",
    "age_restr_pivot.sort_values(by='payback_ratio', ascending=False)"
   ]
  },
  {
   "cell_type": "markdown",
   "metadata": {},
   "source": [
    "**Выводы**\n",
    "\n",
    "* Больше всего окупаются фильмы в категории 12+ (0.3) и 6+ (0.27)\n",
    "\n",
    "* Фильмы в категории 18+ практически не окупаются (0.12)"
   ]
  },
  {
   "cell_type": "markdown",
   "metadata": {},
   "source": [
    "### Оценки в зависимости от наличия гос.финансирования"
   ]
  },
  {
   "cell_type": "markdown",
   "metadata": {},
   "source": [
    "Построим гистограммы рейтингов фильмов, которые получили гос.финансирование, и которые его не получили"
   ]
  },
  {
   "cell_type": "code",
   "execution_count": 41,
   "metadata": {
    "scrolled": false
   },
   "outputs": [
    {
     "data": {
      "image/png": "[encoded data removed]",
      "text/plain": [
       "<Figure size 432x288 with 1 Axes>"
      ]
     },
     "metadata": {
      "needs_background": "light"
     },
     "output_type": "display_data"
    },
    {
     "data": {
      "image/png": "[encoded data removed]",
      "text/plain": [
       "<Figure size 432x288 with 1 Axes>"
      ]
     },
     "metadata": {
      "needs_background": "light"
     },
     "output_type": "display_data"
    }
   ],
   "source": [
    "have_gov_budget = df.query('budget > 0')\n",
    "have_gov_budget['ratings'].hist(bins=20)\n",
    "plt.title('Распределение рейтингов (есть гос.финансирование)')\n",
    "plt.xlabel('Рейтинг')\n",
    "plt.ylabel('Частотность')\n",
    "plt.show()\n",
    "\n",
    "dont_have_gov_budget = df.query('budget > 0')\n",
    "dont_have_gov_budget['ratings'].hist(bins=20)\n",
    "plt.title('Распределение рейтингов (нет гос.финансирования)')\n",
    "plt.xlabel('Рейтинг')\n",
    "plt.ylabel('Частотность')\n",
    "plt.show()"
   ]
  },
  {
   "cell_type": "markdown",
   "metadata": {},
   "source": [
    "Так же сделаем описание столбца рейтинга"
   ]
  },
  {
   "cell_type": "code",
   "execution_count": 42,
   "metadata": {
    "scrolled": true
   },
   "outputs": [
    {
     "data": {
      "text/plain": [
       "count   316.00\n",
       "mean      6.02\n",
       "std       1.15\n",
       "min       1.00\n",
       "25%       5.30\n",
       "50%       6.20\n",
       "75%       6.70\n",
       "max       9.40\n",
       "Name: ratings, dtype: float64"
      ]
     },
     "execution_count": 42,
     "metadata": {},
     "output_type": "execute_result"
    }
   ],
   "source": [
    "have_gov_budget['ratings'].describe()"
   ]
  },
  {
   "cell_type": "code",
   "execution_count": 43,
   "metadata": {
    "scrolled": true
   },
   "outputs": [
    {
     "data": {
      "text/plain": [
       "count   316.00\n",
       "mean      6.02\n",
       "std       1.15\n",
       "min       1.00\n",
       "25%       5.30\n",
       "50%       6.20\n",
       "75%       6.70\n",
       "max       9.40\n",
       "Name: ratings, dtype: float64"
      ]
     },
     "execution_count": 43,
     "metadata": {},
     "output_type": "execute_result"
    }
   ],
   "source": [
    "dont_have_gov_budget['ratings'].describe()"
   ]
  },
  {
   "cell_type": "markdown",
   "metadata": {},
   "source": [
    "**Выводы**\n",
    "\n",
    "Наблюдаем такую картину - рейтинги фильмов без гос.финансирования выше как по среднему, так и по медианному значению (примерно на 0.5 балла)"
   ]
  },
  {
   "cell_type": "markdown",
   "metadata": {},
   "source": [
    "### Влияние количества бюджетных средств"
   ]
  },
  {
   "cell_type": "markdown",
   "metadata": {},
   "source": [
    "Построим матрицу корреляции по 4 параметрам"
   ]
  },
  {
   "cell_type": "code",
   "execution_count": 44,
   "metadata": {
    "scrolled": false
   },
   "outputs": [
    {
     "data": {
      "image/png": "[encoded data removed]",
      "text/plain": [
       "<Figure size 576x576 with 4 Axes>"
      ]
     },
     "metadata": {
      "needs_background": "light"
     },
     "output_type": "display_data"
    }
   ],
   "source": [
    "df_res = df_res.query('gov_budget_ratio < 1')\n",
    "factors = df_res[\n",
    "    ['box_office', 'gov_budget_ratio']]\n",
    "pd.plotting.scatter_matrix(factors, figsize=(8,8))\n",
    "plt.show()"
   ]
  },
  {
   "cell_type": "markdown",
   "metadata": {},
   "source": [
    "Добавим к этому таблицу корреляции по кассовым сборам"
   ]
  },
  {
   "cell_type": "code",
   "execution_count": 45,
   "metadata": {
    "scrolled": true
   },
   "outputs": [
    {
     "data": {
      "text/plain": [
       "gov_budget_ratio   -0.10\n",
       "box_office          1.00\n",
       "Name: box_office, dtype: float64"
      ]
     },
     "execution_count": 45,
     "metadata": {},
     "output_type": "execute_result"
    }
   ],
   "source": [
    "factors.corr()['box_office'].sort_values()"
   ]
  },
  {
   "cell_type": "markdown",
   "metadata": {},
   "source": [
    "**Выводы**\n",
    "\n",
    "Самый главный вывод это то, что размер государственного финансирования практически не влияет на сборы и соответственно интерес зрителя. "
   ]
  },
  {
   "cell_type": "markdown",
   "metadata": {
    "id": "V2gYwMcPgFyd"
   },
   "source": [
    "## Общий вывод"
   ]
  },
  {
   "cell_type": "markdown",
   "metadata": {},
   "source": [
    "Возвращаясь к первоначальному вопросу \"Какие фильмы интересны зрителю?\" можно сказать, что это фильмы жанров спорт, семейный и комедия в возрастной категории 6+ и 12+.\n",
    "\n",
    "Наименее интересными жанрами являются мелодрама, фэнтези и триллер. Фильмы в жанре детективы, детские, мюзиклы и криминальные  так же не окупаются.\n",
    "\n",
    "Кроме того, мы увидели, что размер государственного финансирования мало влияет на окупаемость фильма, а соответственно и на интерес зрителя."
   ]
  }
 ],
 "metadata": {
  "ExecuteTimeLog": [
   {
    "duration": 537,
    "start_time": "2021-07-07T10:12:08.634Z"
   },
   {
    "duration": 206,
    "start_time": "2021-07-07T10:12:30.191Z"
   },
   {
    "duration": 227,
    "start_time": "2021-07-07T10:12:33.078Z"
   },
   {
    "duration": 153,
    "start_time": "2021-07-07T10:13:42.146Z"
   },
   {
    "duration": 233,
    "start_time": "2021-07-07T10:30:09.252Z"
   },
   {
    "duration": 19,
    "start_time": "2021-07-07T10:30:15.577Z"
   },
   {
    "duration": 18,
    "start_time": "2021-07-07T10:30:57.348Z"
   },
   {
    "duration": 19,
    "start_time": "2021-07-07T10:31:17.452Z"
   },
   {
    "duration": 21,
    "start_time": "2021-07-07T10:31:32.227Z"
   },
   {
    "duration": 27,
    "start_time": "2021-07-07T10:32:06.588Z"
   },
   {
    "duration": 23,
    "start_time": "2021-07-07T10:32:43.645Z"
   },
   {
    "duration": 24,
    "start_time": "2021-07-07T10:33:06.948Z"
   },
   {
    "duration": 7,
    "start_time": "2021-07-07T10:33:28.558Z"
   },
   {
    "duration": 23,
    "start_time": "2021-07-07T10:33:43.761Z"
   },
   {
    "duration": 28,
    "start_time": "2021-07-07T10:34:13.466Z"
   },
   {
    "duration": 23,
    "start_time": "2021-07-07T10:35:56.187Z"
   },
   {
    "duration": 6,
    "start_time": "2021-07-07T10:36:48.182Z"
   },
   {
    "duration": 14,
    "start_time": "2021-07-07T10:37:49.641Z"
   },
   {
    "duration": 6,
    "start_time": "2021-07-07T10:38:06.694Z"
   },
   {
    "duration": 6,
    "start_time": "2021-07-07T10:38:13.493Z"
   },
   {
    "duration": 19,
    "start_time": "2021-07-07T10:38:44.056Z"
   },
   {
    "duration": 186,
    "start_time": "2021-07-07T10:48:35.618Z"
   },
   {
    "duration": 24,
    "start_time": "2021-07-07T10:48:51.498Z"
   },
   {
    "duration": 20,
    "start_time": "2021-07-07T10:48:59.415Z"
   },
   {
    "duration": 20,
    "start_time": "2021-07-07T10:53:02.195Z"
   },
   {
    "duration": 188,
    "start_time": "2021-07-07T10:54:40.486Z"
   },
   {
    "duration": 115,
    "start_time": "2021-07-07T10:54:52.552Z"
   },
   {
    "duration": 214,
    "start_time": "2021-07-07T10:54:56.354Z"
   },
   {
    "duration": 47,
    "start_time": "2021-07-07T10:54:58.282Z"
   },
   {
    "duration": 217,
    "start_time": "2021-07-07T10:59:16.075Z"
   },
   {
    "duration": 51,
    "start_time": "2021-07-07T10:59:16.243Z"
   },
   {
    "duration": 578,
    "start_time": "2021-07-07T10:59:18.774Z"
   },
   {
    "duration": 161,
    "start_time": "2021-07-07T10:59:21.238Z"
   },
   {
    "duration": 59,
    "start_time": "2021-07-07T10:59:21.453Z"
   },
   {
    "duration": 3,
    "start_time": "2021-07-07T11:02:10.786Z"
   },
   {
    "duration": 13,
    "start_time": "2021-07-07T11:07:07.722Z"
   },
   {
    "duration": 26,
    "start_time": "2021-07-07T11:07:17.958Z"
   },
   {
    "duration": 22,
    "start_time": "2021-07-07T11:08:17.939Z"
   },
   {
    "duration": 212,
    "start_time": "2021-07-07T11:08:19.665Z"
   },
   {
    "duration": 21,
    "start_time": "2021-07-07T11:08:29.945Z"
   },
   {
    "duration": 31,
    "start_time": "2021-07-07T11:08:38.899Z"
   },
   {
    "duration": 23,
    "start_time": "2021-07-07T11:08:54.527Z"
   },
   {
    "duration": 8,
    "start_time": "2021-07-07T11:18:55.974Z"
   },
   {
    "duration": 7,
    "start_time": "2021-07-07T11:19:03.639Z"
   },
   {
    "duration": 7,
    "start_time": "2021-07-07T11:19:06.444Z"
   },
   {
    "duration": 578,
    "start_time": "2021-07-07T12:09:59.576Z"
   },
   {
    "duration": 195,
    "start_time": "2021-07-07T12:10:00.156Z"
   },
   {
    "duration": 115,
    "start_time": "2021-07-07T12:10:00.353Z"
   },
   {
    "duration": 3,
    "start_time": "2021-07-07T12:10:00.470Z"
   },
   {
    "duration": 32,
    "start_time": "2021-07-07T12:10:00.474Z"
   },
   {
    "duration": 23,
    "start_time": "2021-07-07T12:10:00.508Z"
   },
   {
    "duration": 19,
    "start_time": "2021-07-07T12:10:00.533Z"
   },
   {
    "duration": 44,
    "start_time": "2021-07-07T12:10:00.553Z"
   },
   {
    "duration": 7,
    "start_time": "2021-07-07T12:10:00.600Z"
   },
   {
    "duration": 7,
    "start_time": "2021-07-07T12:19:45.761Z"
   },
   {
    "duration": 21,
    "start_time": "2021-07-07T12:21:35.482Z"
   },
   {
    "duration": 21,
    "start_time": "2021-07-07T12:29:23.569Z"
   },
   {
    "duration": 525,
    "start_time": "2021-07-07T12:29:44.542Z"
   },
   {
    "duration": 214,
    "start_time": "2021-07-07T12:29:45.069Z"
   },
   {
    "duration": 92,
    "start_time": "2021-07-07T12:29:45.285Z"
   },
   {
    "duration": 3,
    "start_time": "2021-07-07T12:29:45.379Z"
   },
   {
    "duration": 28,
    "start_time": "2021-07-07T12:29:45.384Z"
   },
   {
    "duration": 23,
    "start_time": "2021-07-07T12:29:45.413Z"
   },
   {
    "duration": 21,
    "start_time": "2021-07-07T12:29:45.437Z"
   },
   {
    "duration": 41,
    "start_time": "2021-07-07T12:29:45.460Z"
   },
   {
    "duration": 7,
    "start_time": "2021-07-07T12:29:45.502Z"
   },
   {
    "duration": 20,
    "start_time": "2021-07-07T12:29:45.511Z"
   },
   {
    "duration": 12,
    "start_time": "2021-07-07T12:34:02.800Z"
   },
   {
    "duration": 7,
    "start_time": "2021-07-07T12:35:10.479Z"
   },
   {
    "duration": 8,
    "start_time": "2021-07-07T12:35:22.440Z"
   },
   {
    "duration": 6,
    "start_time": "2021-07-07T12:35:35.649Z"
   },
   {
    "duration": 6,
    "start_time": "2021-07-07T12:35:43.107Z"
   },
   {
    "duration": 22,
    "start_time": "2021-07-07T12:38:03.029Z"
   },
   {
    "duration": 10,
    "start_time": "2021-07-07T12:38:06.592Z"
   },
   {
    "duration": 563,
    "start_time": "2021-07-07T12:38:46.493Z"
   },
   {
    "duration": 265,
    "start_time": "2021-07-07T12:38:47.058Z"
   },
   {
    "duration": 94,
    "start_time": "2021-07-07T12:38:47.325Z"
   },
   {
    "duration": 3,
    "start_time": "2021-07-07T12:38:47.422Z"
   },
   {
    "duration": 30,
    "start_time": "2021-07-07T12:38:47.427Z"
   },
   {
    "duration": 16,
    "start_time": "2021-07-07T12:38:53.305Z"
   },
   {
    "duration": 10,
    "start_time": "2021-07-07T12:38:53.499Z"
   },
   {
    "duration": 8,
    "start_time": "2021-07-07T12:39:48.161Z"
   },
   {
    "duration": 27,
    "start_time": "2021-07-07T12:41:17.629Z"
   },
   {
    "duration": 17,
    "start_time": "2021-07-07T12:41:17.867Z"
   },
   {
    "duration": 21,
    "start_time": "2021-07-07T12:41:19.310Z"
   },
   {
    "duration": 7,
    "start_time": "2021-07-07T12:41:19.544Z"
   },
   {
    "duration": 20,
    "start_time": "2021-07-07T12:41:20.504Z"
   },
   {
    "duration": 554,
    "start_time": "2021-07-07T12:56:23.696Z"
   },
   {
    "duration": 200,
    "start_time": "2021-07-07T12:56:25.234Z"
   },
   {
    "duration": 119,
    "start_time": "2021-07-07T12:56:25.480Z"
   },
   {
    "duration": 4,
    "start_time": "2021-07-07T12:56:25.762Z"
   },
   {
    "duration": 26,
    "start_time": "2021-07-07T12:56:27.172Z"
   },
   {
    "duration": 12,
    "start_time": "2021-07-07T12:56:29.051Z"
   },
   {
    "duration": 10,
    "start_time": "2021-07-07T12:56:29.291Z"
   },
   {
    "duration": 8,
    "start_time": "2021-07-07T12:56:29.623Z"
   },
   {
    "duration": 28,
    "start_time": "2021-07-07T12:56:32.137Z"
   },
   {
    "duration": 19,
    "start_time": "2021-07-07T12:56:39.785Z"
   },
   {
    "duration": 20,
    "start_time": "2021-07-07T12:56:44.297Z"
   },
   {
    "duration": 7,
    "start_time": "2021-07-07T12:56:45.392Z"
   },
   {
    "duration": 23,
    "start_time": "2021-07-07T12:56:46.615Z"
   },
   {
    "duration": 4,
    "start_time": "2021-07-07T12:57:06.625Z"
   },
   {
    "duration": 32,
    "start_time": "2021-07-07T12:57:36.690Z"
   },
   {
    "duration": 18,
    "start_time": "2021-07-07T12:58:00.149Z"
   },
   {
    "duration": 15,
    "start_time": "2021-07-07T12:59:16.793Z"
   },
   {
    "duration": 7,
    "start_time": "2021-07-07T13:19:22.624Z"
   },
   {
    "duration": 6,
    "start_time": "2021-07-07T14:17:33.527Z"
   },
   {
    "duration": 9,
    "start_time": "2021-07-07T14:17:48.409Z"
   },
   {
    "duration": 8,
    "start_time": "2021-07-07T14:20:13.060Z"
   },
   {
    "duration": 8,
    "start_time": "2021-07-07T14:20:37.957Z"
   },
   {
    "duration": 8,
    "start_time": "2021-07-07T14:20:47.470Z"
   },
   {
    "duration": 9,
    "start_time": "2021-07-07T14:20:54.503Z"
   },
   {
    "duration": 10,
    "start_time": "2021-07-07T14:28:57.763Z"
   },
   {
    "duration": 3,
    "start_time": "2021-07-07T14:30:23.377Z"
   },
   {
    "duration": 3,
    "start_time": "2021-07-07T14:30:36.489Z"
   },
   {
    "duration": 103,
    "start_time": "2021-07-07T14:30:52.351Z"
   },
   {
    "duration": 8,
    "start_time": "2021-07-07T14:30:54.763Z"
   },
   {
    "duration": 8,
    "start_time": "2021-07-07T14:31:29.301Z"
   },
   {
    "duration": 13,
    "start_time": "2021-07-07T14:31:44.516Z"
   },
   {
    "duration": 7,
    "start_time": "2021-07-07T14:33:10.972Z"
   },
   {
    "duration": 11,
    "start_time": "2021-07-07T14:33:27.780Z"
   },
   {
    "duration": 8,
    "start_time": "2021-07-07T14:34:44.588Z"
   },
   {
    "duration": 57,
    "start_time": "2021-07-07T14:35:59.042Z"
   },
   {
    "duration": 3,
    "start_time": "2021-07-07T14:36:28.168Z"
   },
   {
    "duration": 5,
    "start_time": "2021-07-07T14:36:46.254Z"
   },
   {
    "duration": 4,
    "start_time": "2021-07-07T14:36:52.714Z"
   },
   {
    "duration": 3,
    "start_time": "2021-07-07T14:36:56.612Z"
   },
   {
    "duration": 4,
    "start_time": "2021-07-07T14:36:57.049Z"
   },
   {
    "duration": 3,
    "start_time": "2021-07-07T14:39:21.214Z"
   },
   {
    "duration": 7,
    "start_time": "2021-07-07T14:39:52.406Z"
   },
   {
    "duration": 11,
    "start_time": "2021-07-07T14:39:58.576Z"
   },
   {
    "duration": 9,
    "start_time": "2021-07-07T14:40:26.301Z"
   },
   {
    "duration": 10,
    "start_time": "2021-07-07T14:40:31.704Z"
   },
   {
    "duration": 11,
    "start_time": "2021-07-07T14:40:36.249Z"
   },
   {
    "duration": 10,
    "start_time": "2021-07-07T14:40:39.783Z"
   },
   {
    "duration": 9,
    "start_time": "2021-07-07T14:40:48.558Z"
   },
   {
    "duration": 10,
    "start_time": "2021-07-07T14:40:57.143Z"
   },
   {
    "duration": 9,
    "start_time": "2021-07-07T14:41:06.074Z"
   },
   {
    "duration": 4324,
    "start_time": "2021-07-07T14:41:22.004Z"
   },
   {
    "duration": 11,
    "start_time": "2021-07-07T14:41:33.392Z"
   },
   {
    "duration": 9,
    "start_time": "2021-07-07T14:41:39.288Z"
   },
   {
    "duration": 569,
    "start_time": "2021-07-07T14:42:14.387Z"
   },
   {
    "duration": 197,
    "start_time": "2021-07-07T14:42:14.959Z"
   },
   {
    "duration": 84,
    "start_time": "2021-07-07T14:42:16.052Z"
   },
   {
    "duration": 4,
    "start_time": "2021-07-07T14:42:16.900Z"
   },
   {
    "duration": 27,
    "start_time": "2021-07-07T14:42:19.898Z"
   },
   {
    "duration": 12,
    "start_time": "2021-07-07T14:42:21.577Z"
   },
   {
    "duration": 9,
    "start_time": "2021-07-07T14:42:21.813Z"
   },
   {
    "duration": 9,
    "start_time": "2021-07-07T14:42:22.569Z"
   },
   {
    "duration": 29,
    "start_time": "2021-07-07T14:42:25.837Z"
   },
   {
    "duration": 20,
    "start_time": "2021-07-07T14:42:27.003Z"
   },
   {
    "duration": 21,
    "start_time": "2021-07-07T14:42:28.767Z"
   },
   {
    "duration": 7,
    "start_time": "2021-07-07T14:42:29.838Z"
   },
   {
    "duration": 4,
    "start_time": "2021-07-07T14:43:25.493Z"
   },
   {
    "duration": 7,
    "start_time": "2021-07-07T14:43:26.573Z"
   },
   {
    "duration": 10,
    "start_time": "2021-07-07T14:43:31.639Z"
   },
   {
    "duration": 9,
    "start_time": "2021-07-07T14:43:32.046Z"
   },
   {
    "duration": 10,
    "start_time": "2021-07-07T14:43:33.301Z"
   },
   {
    "duration": 12,
    "start_time": "2021-07-07T14:43:33.658Z"
   },
   {
    "duration": 8,
    "start_time": "2021-07-07T14:43:34.552Z"
   },
   {
    "duration": 9,
    "start_time": "2021-07-07T14:43:35.058Z"
   },
   {
    "duration": 12,
    "start_time": "2021-07-07T14:43:35.914Z"
   },
   {
    "duration": 17,
    "start_time": "2021-07-07T14:45:34.368Z"
   },
   {
    "duration": 512,
    "start_time": "2021-07-07T14:51:58.236Z"
   },
   {
    "duration": 223,
    "start_time": "2021-07-07T14:51:58.750Z"
   },
   {
    "duration": 93,
    "start_time": "2021-07-07T14:51:58.977Z"
   },
   {
    "duration": 4,
    "start_time": "2021-07-07T14:51:59.071Z"
   },
   {
    "duration": 37,
    "start_time": "2021-07-07T14:51:59.077Z"
   },
   {
    "duration": 18,
    "start_time": "2021-07-07T14:51:59.116Z"
   },
   {
    "duration": 10,
    "start_time": "2021-07-07T14:51:59.137Z"
   },
   {
    "duration": 8,
    "start_time": "2021-07-07T14:51:59.149Z"
   },
   {
    "duration": 54,
    "start_time": "2021-07-07T14:51:59.158Z"
   },
   {
    "duration": 18,
    "start_time": "2021-07-07T14:51:59.213Z"
   },
   {
    "duration": 22,
    "start_time": "2021-07-07T14:51:59.232Z"
   },
   {
    "duration": 36,
    "start_time": "2021-07-07T14:51:59.255Z"
   },
   {
    "duration": 7,
    "start_time": "2021-07-07T14:51:59.293Z"
   },
   {
    "duration": 10,
    "start_time": "2021-07-07T14:51:59.302Z"
   },
   {
    "duration": 9,
    "start_time": "2021-07-07T14:51:59.313Z"
   },
   {
    "duration": 11,
    "start_time": "2021-07-07T14:51:59.324Z"
   },
   {
    "duration": 8,
    "start_time": "2021-07-07T14:51:59.337Z"
   },
   {
    "duration": 46,
    "start_time": "2021-07-07T14:51:59.347Z"
   },
   {
    "duration": 22,
    "start_time": "2021-07-07T14:51:59.395Z"
   },
   {
    "duration": 24,
    "start_time": "2021-07-07T14:57:32.911Z"
   },
   {
    "duration": 7,
    "start_time": "2021-07-07T14:58:22.070Z"
   },
   {
    "duration": 4,
    "start_time": "2021-07-07T14:59:11.239Z"
   },
   {
    "duration": 25,
    "start_time": "2021-07-07T15:07:22.208Z"
   },
   {
    "duration": 16,
    "start_time": "2021-07-07T15:08:25.560Z"
   },
   {
    "duration": 15,
    "start_time": "2021-07-07T15:08:40.647Z"
   },
   {
    "duration": 14,
    "start_time": "2021-07-07T15:08:46.669Z"
   },
   {
    "duration": 533,
    "start_time": "2021-07-07T15:18:07.440Z"
   },
   {
    "duration": 173,
    "start_time": "2021-07-07T15:18:07.974Z"
   },
   {
    "duration": 84,
    "start_time": "2021-07-07T15:18:08.149Z"
   },
   {
    "duration": 3,
    "start_time": "2021-07-07T15:18:08.235Z"
   },
   {
    "duration": 30,
    "start_time": "2021-07-07T15:18:08.240Z"
   },
   {
    "duration": 22,
    "start_time": "2021-07-07T15:18:08.272Z"
   },
   {
    "duration": 11,
    "start_time": "2021-07-07T15:18:08.295Z"
   },
   {
    "duration": 11,
    "start_time": "2021-07-07T15:18:08.309Z"
   },
   {
    "duration": 40,
    "start_time": "2021-07-07T15:18:08.322Z"
   },
   {
    "duration": 42,
    "start_time": "2021-07-07T15:18:08.364Z"
   },
   {
    "duration": 22,
    "start_time": "2021-07-07T15:18:08.408Z"
   },
   {
    "duration": 5,
    "start_time": "2021-07-07T15:18:08.432Z"
   },
   {
    "duration": 13,
    "start_time": "2021-07-07T15:18:08.439Z"
   },
   {
    "duration": 9,
    "start_time": "2021-07-07T15:18:08.454Z"
   },
   {
    "duration": 32,
    "start_time": "2021-07-07T15:18:08.465Z"
   },
   {
    "duration": 10,
    "start_time": "2021-07-07T15:18:08.501Z"
   },
   {
    "duration": 7,
    "start_time": "2021-07-07T15:18:08.513Z"
   },
   {
    "duration": 11,
    "start_time": "2021-07-07T15:18:08.521Z"
   },
   {
    "duration": 17,
    "start_time": "2021-07-07T15:18:08.534Z"
   },
   {
    "duration": 44,
    "start_time": "2021-07-07T15:18:08.553Z"
   },
   {
    "duration": 22,
    "start_time": "2021-07-07T15:18:08.599Z"
   },
   {
    "duration": 61,
    "start_time": "2021-07-07T15:18:08.622Z"
   },
   {
    "duration": 7,
    "start_time": "2021-07-07T15:18:39.457Z"
   },
   {
    "duration": 5,
    "start_time": "2021-07-07T16:05:17.020Z"
   },
   {
    "duration": 5,
    "start_time": "2021-07-07T16:51:28.794Z"
   },
   {
    "duration": 546,
    "start_time": "2021-07-07T16:52:26.306Z"
   },
   {
    "duration": 203,
    "start_time": "2021-07-07T16:52:27.523Z"
   },
   {
    "duration": 85,
    "start_time": "2021-07-07T16:52:27.736Z"
   },
   {
    "duration": 4,
    "start_time": "2021-07-07T16:52:27.899Z"
   },
   {
    "duration": 25,
    "start_time": "2021-07-07T16:52:28.674Z"
   },
   {
    "duration": 8,
    "start_time": "2021-07-07T16:52:32.956Z"
   },
   {
    "duration": 18,
    "start_time": "2021-07-07T16:52:35.616Z"
   },
   {
    "duration": 6,
    "start_time": "2021-07-07T16:52:36.913Z"
   },
   {
    "duration": 11,
    "start_time": "2021-07-07T16:52:40.258Z"
   },
   {
    "duration": 10,
    "start_time": "2021-07-07T16:52:46.251Z"
   },
   {
    "duration": 8,
    "start_time": "2021-07-07T16:52:47.182Z"
   },
   {
    "duration": 27,
    "start_time": "2021-07-07T16:53:20.391Z"
   },
   {
    "duration": 20,
    "start_time": "2021-07-07T16:53:22.022Z"
   },
   {
    "duration": 23,
    "start_time": "2021-07-07T16:53:23.690Z"
   },
   {
    "duration": 8,
    "start_time": "2021-07-07T16:53:24.261Z"
   },
   {
    "duration": 4,
    "start_time": "2021-07-07T16:53:38.733Z"
   },
   {
    "duration": 7,
    "start_time": "2021-07-07T16:53:40.445Z"
   },
   {
    "duration": 11,
    "start_time": "2021-07-07T16:53:41.348Z"
   },
   {
    "duration": 13,
    "start_time": "2021-07-07T16:53:45.250Z"
   },
   {
    "duration": 12,
    "start_time": "2021-07-07T16:53:45.467Z"
   },
   {
    "duration": 4,
    "start_time": "2021-07-07T16:55:32.704Z"
   },
   {
    "duration": 12,
    "start_time": "2021-07-07T16:55:49.012Z"
   },
   {
    "duration": 18,
    "start_time": "2021-07-07T16:55:49.547Z"
   },
   {
    "duration": 611,
    "start_time": "2021-07-07T16:58:35.156Z"
   },
   {
    "duration": 200,
    "start_time": "2021-07-07T16:58:35.770Z"
   },
   {
    "duration": 86,
    "start_time": "2021-07-07T16:58:35.972Z"
   },
   {
    "duration": 3,
    "start_time": "2021-07-07T16:58:36.060Z"
   },
   {
    "duration": 27,
    "start_time": "2021-07-07T16:58:36.065Z"
   },
   {
    "duration": 8,
    "start_time": "2021-07-07T16:58:36.094Z"
   },
   {
    "duration": 17,
    "start_time": "2021-07-07T16:58:36.103Z"
   },
   {
    "duration": 5,
    "start_time": "2021-07-07T16:58:36.123Z"
   },
   {
    "duration": 11,
    "start_time": "2021-07-07T16:58:36.130Z"
   },
   {
    "duration": 7,
    "start_time": "2021-07-07T16:58:36.143Z"
   },
   {
    "duration": 37,
    "start_time": "2021-07-07T16:58:36.152Z"
   },
   {
    "duration": 27,
    "start_time": "2021-07-07T16:58:36.191Z"
   },
   {
    "duration": 19,
    "start_time": "2021-07-07T16:58:36.219Z"
   },
   {
    "duration": 49,
    "start_time": "2021-07-07T16:58:36.240Z"
   },
   {
    "duration": 6,
    "start_time": "2021-07-07T16:58:36.291Z"
   },
   {
    "duration": 3,
    "start_time": "2021-07-07T16:58:36.299Z"
   },
   {
    "duration": 13,
    "start_time": "2021-07-07T16:58:36.304Z"
   },
   {
    "duration": 10,
    "start_time": "2021-07-07T16:58:36.319Z"
   },
   {
    "duration": 10,
    "start_time": "2021-07-07T16:58:36.331Z"
   },
   {
    "duration": 44,
    "start_time": "2021-07-07T16:58:36.343Z"
   },
   {
    "duration": 4,
    "start_time": "2021-07-07T16:58:36.388Z"
   },
   {
    "duration": 13,
    "start_time": "2021-07-07T16:58:36.394Z"
   },
   {
    "duration": 16,
    "start_time": "2021-07-07T16:58:36.410Z"
   },
   {
    "duration": 8,
    "start_time": "2021-07-07T17:02:31.629Z"
   },
   {
    "duration": 8,
    "start_time": "2021-07-07T17:02:34.308Z"
   },
   {
    "duration": 6,
    "start_time": "2021-07-07T17:05:13.483Z"
   },
   {
    "duration": 17,
    "start_time": "2021-07-07T17:05:20.606Z"
   },
   {
    "duration": 7,
    "start_time": "2021-07-07T17:05:34.638Z"
   },
   {
    "duration": 3,
    "start_time": "2021-07-07T17:06:31.883Z"
   },
   {
    "duration": 570,
    "start_time": "2021-07-07T17:06:37.165Z"
   },
   {
    "duration": 174,
    "start_time": "2021-07-07T17:06:37.737Z"
   },
   {
    "duration": 47,
    "start_time": "2021-07-07T17:06:37.913Z"
   },
   {
    "duration": 3,
    "start_time": "2021-07-07T17:06:37.962Z"
   },
   {
    "duration": 27,
    "start_time": "2021-07-07T17:06:37.967Z"
   },
   {
    "duration": 7,
    "start_time": "2021-07-07T17:06:37.996Z"
   },
   {
    "duration": 16,
    "start_time": "2021-07-07T17:06:38.005Z"
   },
   {
    "duration": 6,
    "start_time": "2021-07-07T17:06:38.024Z"
   },
   {
    "duration": 12,
    "start_time": "2021-07-07T17:06:38.031Z"
   },
   {
    "duration": 41,
    "start_time": "2021-07-07T17:06:38.045Z"
   },
   {
    "duration": 8,
    "start_time": "2021-07-07T17:06:38.088Z"
   },
   {
    "duration": 26,
    "start_time": "2021-07-07T17:06:38.098Z"
   },
   {
    "duration": 17,
    "start_time": "2021-07-07T17:06:38.126Z"
   },
   {
    "duration": 43,
    "start_time": "2021-07-07T17:06:38.144Z"
   },
   {
    "duration": 6,
    "start_time": "2021-07-07T17:06:38.188Z"
   },
   {
    "duration": 5,
    "start_time": "2021-07-07T17:06:38.195Z"
   },
   {
    "duration": 9,
    "start_time": "2021-07-07T17:06:38.201Z"
   },
   {
    "duration": 12,
    "start_time": "2021-07-07T17:06:38.212Z"
   },
   {
    "duration": 11,
    "start_time": "2021-07-07T17:06:38.226Z"
   },
   {
    "duration": 47,
    "start_time": "2021-07-07T17:06:38.239Z"
   },
   {
    "duration": 4,
    "start_time": "2021-07-07T17:06:38.288Z"
   },
   {
    "duration": 13,
    "start_time": "2021-07-07T17:06:38.293Z"
   },
   {
    "duration": 5,
    "start_time": "2021-07-07T17:06:38.309Z"
   },
   {
    "duration": 18,
    "start_time": "2021-07-07T17:06:38.325Z"
   },
   {
    "duration": 20,
    "start_time": "2021-07-07T17:07:02.805Z"
   },
   {
    "duration": 19,
    "start_time": "2021-07-07T17:07:08.527Z"
   },
   {
    "duration": 19,
    "start_time": "2021-07-07T17:07:12.758Z"
   },
   {
    "duration": 22,
    "start_time": "2021-07-07T17:07:17.497Z"
   },
   {
    "duration": 19,
    "start_time": "2021-07-07T17:07:19.645Z"
   },
   {
    "duration": 10,
    "start_time": "2021-07-07T17:07:34.239Z"
   },
   {
    "duration": 17,
    "start_time": "2021-07-07T17:07:54.144Z"
   },
   {
    "duration": 14,
    "start_time": "2021-07-07T17:08:14.357Z"
   },
   {
    "duration": 616,
    "start_time": "2021-07-07T17:08:45.254Z"
   },
   {
    "duration": 178,
    "start_time": "2021-07-07T17:08:45.872Z"
   },
   {
    "duration": 60,
    "start_time": "2021-07-07T17:08:46.054Z"
   },
   {
    "duration": 3,
    "start_time": "2021-07-07T17:08:46.116Z"
   },
   {
    "duration": 26,
    "start_time": "2021-07-07T17:08:46.121Z"
   },
   {
    "duration": 7,
    "start_time": "2021-07-07T17:08:46.149Z"
   },
   {
    "duration": 17,
    "start_time": "2021-07-07T17:08:46.158Z"
   },
   {
    "duration": 14,
    "start_time": "2021-07-07T17:08:46.176Z"
   },
   {
    "duration": 17,
    "start_time": "2021-07-07T17:08:46.193Z"
   },
   {
    "duration": 9,
    "start_time": "2021-07-07T17:08:46.211Z"
   },
   {
    "duration": 21,
    "start_time": "2021-07-07T17:08:46.221Z"
   },
   {
    "duration": 49,
    "start_time": "2021-07-07T17:08:46.244Z"
   },
   {
    "duration": 24,
    "start_time": "2021-07-07T17:08:46.295Z"
   },
   {
    "duration": 22,
    "start_time": "2021-07-07T17:08:46.321Z"
   },
   {
    "duration": 6,
    "start_time": "2021-07-07T17:08:46.345Z"
   },
   {
    "duration": 5,
    "start_time": "2021-07-07T17:08:46.353Z"
   },
   {
    "duration": 13,
    "start_time": "2021-07-07T17:08:46.386Z"
   },
   {
    "duration": 12,
    "start_time": "2021-07-07T17:08:46.402Z"
   },
   {
    "duration": 10,
    "start_time": "2021-07-07T17:08:46.415Z"
   },
   {
    "duration": 7,
    "start_time": "2021-07-07T17:08:46.427Z"
   },
   {
    "duration": 8,
    "start_time": "2021-07-07T17:08:46.435Z"
   },
   {
    "duration": 68,
    "start_time": "2021-07-07T17:08:46.446Z"
   },
   {
    "duration": 13,
    "start_time": "2021-07-07T17:08:46.516Z"
   },
   {
    "duration": 78,
    "start_time": "2021-07-07T17:08:46.530Z"
   },
   {
    "duration": 40,
    "start_time": "2021-07-07T17:09:08.185Z"
   },
   {
    "duration": 16,
    "start_time": "2021-07-07T17:09:19.324Z"
   },
   {
    "duration": 21,
    "start_time": "2021-07-07T17:09:23.290Z"
   },
   {
    "duration": 13,
    "start_time": "2021-07-07T17:09:54.812Z"
   },
   {
    "duration": 13,
    "start_time": "2021-07-07T17:10:02.039Z"
   },
   {
    "duration": 10,
    "start_time": "2021-07-07T17:10:29.632Z"
   },
   {
    "duration": 13,
    "start_time": "2021-07-07T17:10:52.372Z"
   },
   {
    "duration": 13,
    "start_time": "2021-07-07T17:11:17.270Z"
   },
   {
    "duration": 13,
    "start_time": "2021-07-07T17:14:59.284Z"
   },
   {
    "duration": 547,
    "start_time": "2021-07-07T17:18:52.403Z"
   },
   {
    "duration": 163,
    "start_time": "2021-07-07T17:18:52.952Z"
   },
   {
    "duration": 44,
    "start_time": "2021-07-07T17:18:53.117Z"
   },
   {
    "duration": 3,
    "start_time": "2021-07-07T17:18:53.162Z"
   },
   {
    "duration": 26,
    "start_time": "2021-07-07T17:18:53.167Z"
   },
   {
    "duration": 6,
    "start_time": "2021-07-07T17:18:53.195Z"
   },
   {
    "duration": 15,
    "start_time": "2021-07-07T17:18:53.203Z"
   },
   {
    "duration": 5,
    "start_time": "2021-07-07T17:18:53.220Z"
   },
   {
    "duration": 11,
    "start_time": "2021-07-07T17:18:53.228Z"
   },
   {
    "duration": 9,
    "start_time": "2021-07-07T17:18:53.241Z"
   },
   {
    "duration": 41,
    "start_time": "2021-07-07T17:18:53.252Z"
   },
   {
    "duration": 33,
    "start_time": "2021-07-07T17:18:53.295Z"
   },
   {
    "duration": 19,
    "start_time": "2021-07-07T17:18:53.330Z"
   },
   {
    "duration": 49,
    "start_time": "2021-07-07T17:18:53.350Z"
   },
   {
    "duration": 5,
    "start_time": "2021-07-07T17:18:53.401Z"
   },
   {
    "duration": 5,
    "start_time": "2021-07-07T17:18:53.408Z"
   },
   {
    "duration": 11,
    "start_time": "2021-07-07T17:18:53.414Z"
   },
   {
    "duration": 9,
    "start_time": "2021-07-07T17:18:53.427Z"
   },
   {
    "duration": 10,
    "start_time": "2021-07-07T17:18:53.437Z"
   },
   {
    "duration": 39,
    "start_time": "2021-07-07T17:18:53.448Z"
   },
   {
    "duration": 26,
    "start_time": "2021-07-07T17:18:55.799Z"
   },
   {
    "duration": 598,
    "start_time": "2021-07-07T17:20:17.862Z"
   },
   {
    "duration": 161,
    "start_time": "2021-07-07T17:20:18.462Z"
   },
   {
    "duration": 45,
    "start_time": "2021-07-07T17:20:18.626Z"
   },
   {
    "duration": 4,
    "start_time": "2021-07-07T17:20:18.673Z"
   },
   {
    "duration": 38,
    "start_time": "2021-07-07T17:20:26.877Z"
   },
   {
    "duration": 7,
    "start_time": "2021-07-07T17:20:37.405Z"
   },
   {
    "duration": 19,
    "start_time": "2021-07-07T17:20:51.534Z"
   },
   {
    "duration": 5,
    "start_time": "2021-07-07T17:20:57.228Z"
   },
   {
    "duration": 7,
    "start_time": "2021-07-07T17:21:08.235Z"
   },
   {
    "duration": 19,
    "start_time": "2021-07-07T17:21:42.158Z"
   },
   {
    "duration": 14,
    "start_time": "2021-07-07T17:21:50.225Z"
   },
   {
    "duration": 22,
    "start_time": "2021-07-07T17:22:54.104Z"
   },
   {
    "duration": 5,
    "start_time": "2021-07-07T17:22:56.371Z"
   },
   {
    "duration": 14,
    "start_time": "2021-07-07T17:22:58.316Z"
   },
   {
    "duration": 5,
    "start_time": "2021-07-07T17:22:58.493Z"
   },
   {
    "duration": 35,
    "start_time": "2021-07-07T17:22:59.666Z"
   },
   {
    "duration": 6,
    "start_time": "2021-07-07T17:23:02.410Z"
   },
   {
    "duration": 611,
    "start_time": "2021-07-07T17:24:59.664Z"
   },
   {
    "duration": 178,
    "start_time": "2021-07-07T17:25:01.945Z"
   },
   {
    "duration": 47,
    "start_time": "2021-07-07T17:25:02.125Z"
   },
   {
    "duration": 2,
    "start_time": "2021-07-07T17:25:07.903Z"
   },
   {
    "duration": 254,
    "start_time": "2021-07-07T17:25:08.232Z"
   },
   {
    "duration": 182,
    "start_time": "2021-07-07T17:25:08.671Z"
   },
   {
    "duration": 6,
    "start_time": "2021-07-07T17:25:13.104Z"
   },
   {
    "duration": 36,
    "start_time": "2021-07-07T17:25:13.662Z"
   },
   {
    "duration": 7,
    "start_time": "2021-07-07T17:25:14.528Z"
   },
   {
    "duration": 24,
    "start_time": "2021-07-07T17:25:27.982Z"
   },
   {
    "duration": 3,
    "start_time": "2021-07-07T17:25:48.982Z"
   },
   {
    "duration": 165,
    "start_time": "2021-07-07T17:25:48.987Z"
   },
   {
    "duration": 50,
    "start_time": "2021-07-07T17:25:49.154Z"
   },
   {
    "duration": 4,
    "start_time": "2021-07-07T17:25:49.206Z"
   },
   {
    "duration": 26,
    "start_time": "2021-07-07T17:25:49.212Z"
   },
   {
    "duration": 7,
    "start_time": "2021-07-07T17:25:49.240Z"
   },
   {
    "duration": 16,
    "start_time": "2021-07-07T17:25:49.249Z"
   },
   {
    "duration": 22,
    "start_time": "2021-07-07T17:25:49.266Z"
   },
   {
    "duration": 16,
    "start_time": "2021-07-07T17:25:49.291Z"
   },
   {
    "duration": 9,
    "start_time": "2021-07-07T17:25:49.309Z"
   },
   {
    "duration": 7,
    "start_time": "2021-07-07T17:25:49.319Z"
   },
   {
    "duration": 28,
    "start_time": "2021-07-07T17:25:49.328Z"
   },
   {
    "duration": 44,
    "start_time": "2021-07-07T17:25:49.357Z"
   },
   {
    "duration": 22,
    "start_time": "2021-07-07T17:25:49.403Z"
   },
   {
    "duration": 7,
    "start_time": "2021-07-07T17:25:49.427Z"
   },
   {
    "duration": 3,
    "start_time": "2021-07-07T17:25:49.436Z"
   },
   {
    "duration": 44,
    "start_time": "2021-07-07T17:25:49.441Z"
   },
   {
    "duration": 12,
    "start_time": "2021-07-07T17:25:49.488Z"
   },
   {
    "duration": 13,
    "start_time": "2021-07-07T17:25:49.502Z"
   },
   {
    "duration": 10,
    "start_time": "2021-07-07T17:25:49.516Z"
   },
   {
    "duration": 62,
    "start_time": "2021-07-07T17:25:49.527Z"
   },
   {
    "duration": 26,
    "start_time": "2021-07-07T17:26:51.809Z"
   },
   {
    "duration": 26,
    "start_time": "2021-07-07T17:26:55.759Z"
   },
   {
    "duration": 26,
    "start_time": "2021-07-07T17:27:04.501Z"
   },
   {
    "duration": 25,
    "start_time": "2021-07-07T17:28:24.859Z"
   },
   {
    "duration": 21,
    "start_time": "2021-07-07T17:28:55.250Z"
   },
   {
    "duration": 21,
    "start_time": "2021-07-07T17:28:58.885Z"
   },
   {
    "duration": 7,
    "start_time": "2021-07-07T17:45:40.972Z"
   },
   {
    "duration": 13,
    "start_time": "2021-07-07T17:45:42.529Z"
   },
   {
    "duration": 27,
    "start_time": "2021-07-07T17:45:51.026Z"
   },
   {
    "duration": 518,
    "start_time": "2021-07-07T17:46:15.532Z"
   },
   {
    "duration": 235,
    "start_time": "2021-07-07T17:46:16.053Z"
   },
   {
    "duration": 80,
    "start_time": "2021-07-07T17:46:16.292Z"
   },
   {
    "duration": 5,
    "start_time": "2021-07-07T17:46:16.373Z"
   },
   {
    "duration": 26,
    "start_time": "2021-07-07T17:46:16.380Z"
   },
   {
    "duration": 7,
    "start_time": "2021-07-07T17:46:16.408Z"
   },
   {
    "duration": 16,
    "start_time": "2021-07-07T17:46:16.418Z"
   },
   {
    "duration": 5,
    "start_time": "2021-07-07T17:46:16.436Z"
   },
   {
    "duration": 13,
    "start_time": "2021-07-07T17:46:16.442Z"
   },
   {
    "duration": 35,
    "start_time": "2021-07-07T17:46:16.456Z"
   },
   {
    "duration": 8,
    "start_time": "2021-07-07T17:46:16.493Z"
   },
   {
    "duration": 28,
    "start_time": "2021-07-07T17:46:16.502Z"
   },
   {
    "duration": 17,
    "start_time": "2021-07-07T17:46:16.532Z"
   },
   {
    "duration": 44,
    "start_time": "2021-07-07T17:46:16.551Z"
   },
   {
    "duration": 6,
    "start_time": "2021-07-07T17:46:16.597Z"
   },
   {
    "duration": 4,
    "start_time": "2021-07-07T17:46:16.605Z"
   },
   {
    "duration": 9,
    "start_time": "2021-07-07T17:46:16.610Z"
   },
   {
    "duration": 9,
    "start_time": "2021-07-07T17:46:16.621Z"
   },
   {
    "duration": 10,
    "start_time": "2021-07-07T17:46:16.632Z"
   },
   {
    "duration": 43,
    "start_time": "2021-07-07T17:46:16.644Z"
   },
   {
    "duration": 26,
    "start_time": "2021-07-07T17:46:16.689Z"
   },
   {
    "duration": 19,
    "start_time": "2021-07-07T17:46:16.718Z"
   },
   {
    "duration": 8,
    "start_time": "2021-07-07T17:46:16.738Z"
   },
   {
    "duration": 43,
    "start_time": "2021-07-07T17:46:16.747Z"
   },
   {
    "duration": 19,
    "start_time": "2021-07-07T17:46:16.791Z"
   },
   {
    "duration": 9,
    "start_time": "2021-07-07T17:46:16.812Z"
   },
   {
    "duration": 60,
    "start_time": "2021-07-07T17:46:16.822Z"
   },
   {
    "duration": -8,
    "start_time": "2021-07-07T17:46:16.892Z"
   },
   {
    "duration": 12,
    "start_time": "2021-07-07T17:48:47.707Z"
   },
   {
    "duration": 553,
    "start_time": "2021-07-07T18:10:09.350Z"
   },
   {
    "duration": 230,
    "start_time": "2021-07-07T18:10:09.905Z"
   },
   {
    "duration": 97,
    "start_time": "2021-07-07T18:10:10.137Z"
   },
   {
    "duration": 5,
    "start_time": "2021-07-07T18:10:10.236Z"
   },
   {
    "duration": 29,
    "start_time": "2021-07-07T18:10:10.242Z"
   },
   {
    "duration": 7,
    "start_time": "2021-07-07T18:10:10.272Z"
   },
   {
    "duration": 15,
    "start_time": "2021-07-07T18:10:10.281Z"
   },
   {
    "duration": 4,
    "start_time": "2021-07-07T18:10:10.299Z"
   },
   {
    "duration": 14,
    "start_time": "2021-07-07T18:10:10.305Z"
   },
   {
    "duration": 8,
    "start_time": "2021-07-07T18:10:10.321Z"
   },
   {
    "duration": 8,
    "start_time": "2021-07-07T18:10:10.331Z"
   },
   {
    "duration": 56,
    "start_time": "2021-07-07T18:10:10.341Z"
   },
   {
    "duration": 19,
    "start_time": "2021-07-07T18:10:10.399Z"
   },
   {
    "duration": 23,
    "start_time": "2021-07-07T18:10:10.419Z"
   },
   {
    "duration": 6,
    "start_time": "2021-07-07T18:10:10.444Z"
   },
   {
    "duration": 9,
    "start_time": "2021-07-07T18:10:10.451Z"
   },
   {
    "duration": 30,
    "start_time": "2021-07-07T18:10:10.462Z"
   },
   {
    "duration": 9,
    "start_time": "2021-07-07T18:10:10.494Z"
   },
   {
    "duration": 14,
    "start_time": "2021-07-07T18:10:10.505Z"
   },
   {
    "duration": 7,
    "start_time": "2021-07-07T18:10:10.521Z"
   },
   {
    "duration": 26,
    "start_time": "2021-07-07T18:10:10.530Z"
   },
   {
    "duration": 44,
    "start_time": "2021-07-07T18:10:10.558Z"
   },
   {
    "duration": 7,
    "start_time": "2021-07-07T18:10:10.605Z"
   },
   {
    "duration": 11,
    "start_time": "2021-07-07T18:10:10.614Z"
   },
   {
    "duration": 19,
    "start_time": "2021-07-07T18:10:10.626Z"
   },
   {
    "duration": 44,
    "start_time": "2021-07-07T18:10:10.646Z"
   },
   {
    "duration": 516,
    "start_time": "2021-07-07T18:14:00.826Z"
   },
   {
    "duration": 230,
    "start_time": "2021-07-07T18:14:01.344Z"
   },
   {
    "duration": 105,
    "start_time": "2021-07-07T18:14:01.576Z"
   },
   {
    "duration": 5,
    "start_time": "2021-07-07T18:14:01.683Z"
   },
   {
    "duration": 46,
    "start_time": "2021-07-07T18:14:01.690Z"
   },
   {
    "duration": 7,
    "start_time": "2021-07-07T18:14:01.738Z"
   },
   {
    "duration": 20,
    "start_time": "2021-07-07T18:14:01.747Z"
   },
   {
    "duration": 16,
    "start_time": "2021-07-07T18:14:01.769Z"
   },
   {
    "duration": 14,
    "start_time": "2021-07-07T18:14:01.787Z"
   },
   {
    "duration": 15,
    "start_time": "2021-07-07T18:14:01.803Z"
   },
   {
    "duration": 12,
    "start_time": "2021-07-07T18:14:01.820Z"
   },
   {
    "duration": 35,
    "start_time": "2021-07-07T18:14:01.833Z"
   },
   {
    "duration": 31,
    "start_time": "2021-07-07T18:14:01.869Z"
   },
   {
    "duration": 37,
    "start_time": "2021-07-07T18:14:01.902Z"
   },
   {
    "duration": 8,
    "start_time": "2021-07-07T18:14:01.942Z"
   },
   {
    "duration": 16,
    "start_time": "2021-07-07T18:14:01.952Z"
   },
   {
    "duration": 13,
    "start_time": "2021-07-07T18:14:01.970Z"
   },
   {
    "duration": 32,
    "start_time": "2021-07-07T18:14:01.985Z"
   },
   {
    "duration": 11,
    "start_time": "2021-07-07T18:14:02.019Z"
   },
   {
    "duration": 22,
    "start_time": "2021-07-07T18:14:02.031Z"
   },
   {
    "duration": 27,
    "start_time": "2021-07-07T18:14:02.055Z"
   },
   {
    "duration": 18,
    "start_time": "2021-07-07T18:14:02.084Z"
   },
   {
    "duration": 18,
    "start_time": "2021-07-07T18:14:02.106Z"
   },
   {
    "duration": 11,
    "start_time": "2021-07-07T18:14:02.126Z"
   },
   {
    "duration": 21,
    "start_time": "2021-07-07T18:14:02.138Z"
   },
   {
    "duration": 32,
    "start_time": "2021-07-07T18:14:02.161Z"
   },
   {
    "duration": 28,
    "start_time": "2021-07-07T18:14:44.295Z"
   },
   {
    "duration": 6,
    "start_time": "2021-07-07T18:15:05.834Z"
   },
   {
    "duration": 511,
    "start_time": "2021-07-07T18:15:41.541Z"
   },
   {
    "duration": 183,
    "start_time": "2021-07-07T18:15:42.054Z"
   },
   {
    "duration": 50,
    "start_time": "2021-07-07T18:15:42.239Z"
   },
   {
    "duration": 5,
    "start_time": "2021-07-07T18:15:42.291Z"
   },
   {
    "duration": 48,
    "start_time": "2021-07-07T18:15:42.297Z"
   },
   {
    "duration": 8,
    "start_time": "2021-07-07T18:15:42.346Z"
   },
   {
    "duration": 17,
    "start_time": "2021-07-07T18:15:42.356Z"
   },
   {
    "duration": 15,
    "start_time": "2021-07-07T18:15:42.375Z"
   },
   {
    "duration": 12,
    "start_time": "2021-07-07T18:15:42.392Z"
   },
   {
    "duration": 7,
    "start_time": "2021-07-07T18:15:42.406Z"
   },
   {
    "duration": 7,
    "start_time": "2021-07-07T18:15:42.415Z"
   },
   {
    "duration": 29,
    "start_time": "2021-07-07T18:15:42.423Z"
   },
   {
    "duration": 43,
    "start_time": "2021-07-07T18:15:42.453Z"
   },
   {
    "duration": 18,
    "start_time": "2021-07-07T18:15:42.497Z"
   },
   {
    "duration": 6,
    "start_time": "2021-07-07T18:15:42.516Z"
   },
   {
    "duration": 3,
    "start_time": "2021-07-07T18:15:42.523Z"
   },
   {
    "duration": 18,
    "start_time": "2021-07-07T18:15:42.528Z"
   },
   {
    "duration": 10,
    "start_time": "2021-07-07T18:15:42.547Z"
   },
   {
    "duration": 36,
    "start_time": "2021-07-07T18:15:42.559Z"
   },
   {
    "duration": 8,
    "start_time": "2021-07-07T18:15:42.597Z"
   },
   {
    "duration": 28,
    "start_time": "2021-07-07T18:15:42.606Z"
   },
   {
    "duration": 52,
    "start_time": "2021-07-07T18:15:42.635Z"
   },
   {
    "duration": 7,
    "start_time": "2021-07-07T18:15:42.690Z"
   },
   {
    "duration": 10,
    "start_time": "2021-07-07T18:15:42.699Z"
   },
   {
    "duration": 19,
    "start_time": "2021-07-07T18:15:42.711Z"
   },
   {
    "duration": 9,
    "start_time": "2021-07-07T18:15:42.732Z"
   },
   {
    "duration": 5,
    "start_time": "2021-07-07T18:15:42.743Z"
   },
   {
    "duration": 1450,
    "start_time": "2021-07-07T18:15:51.984Z"
   },
   {
    "duration": 161,
    "start_time": "2021-07-07T18:15:53.435Z"
   },
   {
    "duration": 124,
    "start_time": "2021-07-07T18:15:53.598Z"
   },
   {
    "duration": 5,
    "start_time": "2021-07-07T18:15:53.724Z"
   },
   {
    "duration": 34,
    "start_time": "2021-07-07T18:15:53.730Z"
   },
   {
    "duration": 7,
    "start_time": "2021-07-07T18:15:53.765Z"
   },
   {
    "duration": 15,
    "start_time": "2021-07-07T18:15:53.773Z"
   },
   {
    "duration": 5,
    "start_time": "2021-07-07T18:15:53.791Z"
   },
   {
    "duration": 19,
    "start_time": "2021-07-07T18:15:53.798Z"
   },
   {
    "duration": 9,
    "start_time": "2021-07-07T18:15:53.818Z"
   },
   {
    "duration": 19,
    "start_time": "2021-07-07T18:15:53.828Z"
   },
   {
    "duration": 27,
    "start_time": "2021-07-07T18:15:53.848Z"
   },
   {
    "duration": 16,
    "start_time": "2021-07-07T18:15:53.884Z"
   },
   {
    "duration": 29,
    "start_time": "2021-07-07T18:15:53.901Z"
   },
   {
    "duration": 5,
    "start_time": "2021-07-07T18:15:53.932Z"
   },
   {
    "duration": 15,
    "start_time": "2021-07-07T18:15:53.939Z"
   },
   {
    "duration": 13,
    "start_time": "2021-07-07T18:15:53.956Z"
   },
   {
    "duration": 20,
    "start_time": "2021-07-07T18:15:53.971Z"
   },
   {
    "duration": 14,
    "start_time": "2021-07-07T18:15:53.992Z"
   },
   {
    "duration": 9,
    "start_time": "2021-07-07T18:15:54.009Z"
   },
   {
    "duration": 28,
    "start_time": "2021-07-07T18:15:54.020Z"
   },
   {
    "duration": 50,
    "start_time": "2021-07-07T18:15:54.051Z"
   },
   {
    "duration": 8,
    "start_time": "2021-07-07T18:15:54.105Z"
   },
   {
    "duration": 11,
    "start_time": "2021-07-07T18:15:54.115Z"
   },
   {
    "duration": 20,
    "start_time": "2021-07-07T18:15:54.128Z"
   },
   {
    "duration": 13,
    "start_time": "2021-07-07T18:15:54.184Z"
   },
   {
    "duration": 7,
    "start_time": "2021-07-07T18:15:54.199Z"
   },
   {
    "duration": 7,
    "start_time": "2021-07-07T18:17:08.042Z"
   },
   {
    "duration": 8,
    "start_time": "2021-07-07T18:17:21.008Z"
   },
   {
    "duration": 7,
    "start_time": "2021-07-07T18:17:29.003Z"
   },
   {
    "duration": 8,
    "start_time": "2021-07-07T18:17:32.492Z"
   },
   {
    "duration": 9,
    "start_time": "2021-07-07T18:17:41.758Z"
   },
   {
    "duration": 255,
    "start_time": "2021-07-07T18:20:20.897Z"
   },
   {
    "duration": 173,
    "start_time": "2021-07-07T18:20:26.636Z"
   },
   {
    "duration": 7,
    "start_time": "2021-07-07T18:21:47.164Z"
   },
   {
    "duration": 254,
    "start_time": "2021-07-07T18:23:08.703Z"
   },
   {
    "duration": 21,
    "start_time": "2021-07-07T18:23:22.506Z"
   },
   {
    "duration": 315,
    "start_time": "2021-07-07T18:25:54.801Z"
   },
   {
    "duration": 34,
    "start_time": "2021-07-07T18:26:51.817Z"
   },
   {
    "duration": 327,
    "start_time": "2021-07-07T18:26:56.147Z"
   },
   {
    "duration": 342,
    "start_time": "2021-07-07T18:27:15.887Z"
   },
   {
    "duration": 302,
    "start_time": "2021-07-07T18:28:18.569Z"
   },
   {
    "duration": 226,
    "start_time": "2021-07-07T18:29:20.879Z"
   },
   {
    "duration": 207,
    "start_time": "2021-07-07T18:29:58.114Z"
   },
   {
    "duration": 140,
    "start_time": "2021-07-07T18:32:04.372Z"
   },
   {
    "duration": 158,
    "start_time": "2021-07-07T18:32:32.508Z"
   },
   {
    "duration": 145,
    "start_time": "2021-07-07T18:32:41.365Z"
   },
   {
    "duration": 132,
    "start_time": "2021-07-07T18:32:45.199Z"
   },
   {
    "duration": 11,
    "start_time": "2021-07-07T18:35:24.679Z"
   },
   {
    "duration": 268,
    "start_time": "2021-07-07T18:36:16.145Z"
   },
   {
    "duration": 227,
    "start_time": "2021-07-07T18:37:04.918Z"
   },
   {
    "duration": 3,
    "start_time": "2021-07-07T18:37:33.012Z"
   },
   {
    "duration": 671,
    "start_time": "2021-07-07T18:37:38.295Z"
   },
   {
    "duration": 54,
    "start_time": "2021-07-07T18:37:53.406Z"
   },
   {
    "duration": 631,
    "start_time": "2021-07-07T18:37:56.463Z"
   },
   {
    "duration": 19,
    "start_time": "2021-07-07T18:39:40.535Z"
   },
   {
    "duration": 20,
    "start_time": "2021-07-07T18:40:12.236Z"
   },
   {
    "duration": 633,
    "start_time": "2021-07-07T18:42:00.398Z"
   },
   {
    "duration": 218,
    "start_time": "2021-07-07T18:42:01.033Z"
   },
   {
    "duration": 49,
    "start_time": "2021-07-07T18:42:01.253Z"
   },
   {
    "duration": 5,
    "start_time": "2021-07-07T18:42:01.303Z"
   },
   {
    "duration": 27,
    "start_time": "2021-07-07T18:42:01.310Z"
   },
   {
    "duration": 8,
    "start_time": "2021-07-07T18:42:01.339Z"
   },
   {
    "duration": 20,
    "start_time": "2021-07-07T18:42:01.348Z"
   },
   {
    "duration": 6,
    "start_time": "2021-07-07T18:42:01.386Z"
   },
   {
    "duration": 16,
    "start_time": "2021-07-07T18:42:01.394Z"
   },
   {
    "duration": 9,
    "start_time": "2021-07-07T18:42:01.411Z"
   },
   {
    "duration": 11,
    "start_time": "2021-07-07T18:42:01.421Z"
   },
   {
    "duration": 31,
    "start_time": "2021-07-07T18:42:01.434Z"
   },
   {
    "duration": 18,
    "start_time": "2021-07-07T18:42:01.485Z"
   },
   {
    "duration": 23,
    "start_time": "2021-07-07T18:42:01.505Z"
   },
   {
    "duration": 6,
    "start_time": "2021-07-07T18:42:01.530Z"
   },
   {
    "duration": 10,
    "start_time": "2021-07-07T18:42:01.538Z"
   },
   {
    "duration": 13,
    "start_time": "2021-07-07T18:42:01.550Z"
   },
   {
    "duration": 24,
    "start_time": "2021-07-07T18:42:01.564Z"
   },
   {
    "duration": 20,
    "start_time": "2021-07-07T18:42:01.590Z"
   },
   {
    "duration": 8,
    "start_time": "2021-07-07T18:42:01.611Z"
   },
   {
    "duration": 31,
    "start_time": "2021-07-07T18:42:01.620Z"
   },
   {
    "duration": 39,
    "start_time": "2021-07-07T18:42:01.653Z"
   },
   {
    "duration": 8,
    "start_time": "2021-07-07T18:42:01.696Z"
   },
   {
    "duration": 13,
    "start_time": "2021-07-07T18:42:01.705Z"
   },
   {
    "duration": 20,
    "start_time": "2021-07-07T18:42:01.720Z"
   },
   {
    "duration": 12,
    "start_time": "2021-07-07T18:42:01.741Z"
   },
   {
    "duration": 35,
    "start_time": "2021-07-07T18:42:01.755Z"
   },
   {
    "duration": 14,
    "start_time": "2021-07-07T18:42:01.792Z"
   },
   {
    "duration": 188,
    "start_time": "2021-07-07T18:42:01.808Z"
   },
   {
    "duration": 19,
    "start_time": "2021-07-07T18:42:01.998Z"
   },
   {
    "duration": 175,
    "start_time": "2021-07-07T18:42:02.019Z"
   },
   {
    "duration": 134,
    "start_time": "2021-07-07T18:42:02.196Z"
   },
   {
    "duration": 10,
    "start_time": "2021-07-07T18:42:02.331Z"
   },
   {
    "duration": 19,
    "start_time": "2021-07-07T18:42:02.343Z"
   },
   {
    "duration": 628,
    "start_time": "2021-07-07T18:46:30.701Z"
   },
   {
    "duration": 183,
    "start_time": "2021-07-07T18:46:31.331Z"
   },
   {
    "duration": 48,
    "start_time": "2021-07-07T18:46:31.516Z"
   },
   {
    "duration": 5,
    "start_time": "2021-07-07T18:46:31.566Z"
   },
   {
    "duration": 28,
    "start_time": "2021-07-07T18:46:31.572Z"
   },
   {
    "duration": 8,
    "start_time": "2021-07-07T18:46:31.602Z"
   },
   {
    "duration": 19,
    "start_time": "2021-07-07T18:46:31.611Z"
   },
   {
    "duration": 6,
    "start_time": "2021-07-07T18:46:31.633Z"
   },
   {
    "duration": 17,
    "start_time": "2021-07-07T18:46:31.642Z"
   },
   {
    "duration": 10,
    "start_time": "2021-07-07T18:46:31.684Z"
   },
   {
    "duration": 9,
    "start_time": "2021-07-07T18:46:31.695Z"
   },
   {
    "duration": 28,
    "start_time": "2021-07-07T18:46:31.705Z"
   },
   {
    "duration": 18,
    "start_time": "2021-07-07T18:46:31.735Z"
   },
   {
    "duration": 48,
    "start_time": "2021-07-07T18:46:31.755Z"
   },
   {
    "duration": 6,
    "start_time": "2021-07-07T18:46:31.804Z"
   },
   {
    "duration": 4,
    "start_time": "2021-07-07T18:46:31.812Z"
   },
   {
    "duration": 9,
    "start_time": "2021-07-07T18:46:31.817Z"
   },
   {
    "duration": 10,
    "start_time": "2021-07-07T18:46:31.827Z"
   },
   {
    "duration": 12,
    "start_time": "2021-07-07T18:46:31.838Z"
   },
   {
    "duration": 39,
    "start_time": "2021-07-07T18:46:31.851Z"
   },
   {
    "duration": 24,
    "start_time": "2021-07-07T18:46:31.892Z"
   },
   {
    "duration": 15,
    "start_time": "2021-07-07T18:46:31.918Z"
   },
   {
    "duration": 7,
    "start_time": "2021-07-07T18:46:31.936Z"
   },
   {
    "duration": 8,
    "start_time": "2021-07-07T18:46:31.944Z"
   },
   {
    "duration": 19,
    "start_time": "2021-07-07T18:46:31.984Z"
   },
   {
    "duration": 10,
    "start_time": "2021-07-07T18:46:32.004Z"
   },
   {
    "duration": 5,
    "start_time": "2021-07-07T18:46:32.016Z"
   },
   {
    "duration": 9,
    "start_time": "2021-07-07T18:46:32.023Z"
   },
   {
    "duration": 199,
    "start_time": "2021-07-07T18:46:32.033Z"
   },
   {
    "duration": 19,
    "start_time": "2021-07-07T18:46:32.234Z"
   },
   {
    "duration": 159,
    "start_time": "2021-07-07T18:46:32.255Z"
   },
   {
    "duration": 134,
    "start_time": "2021-07-07T18:46:32.416Z"
   },
   {
    "duration": 10,
    "start_time": "2021-07-07T18:46:32.552Z"
   },
   {
    "duration": 34,
    "start_time": "2021-07-07T18:46:32.563Z"
   },
   {
    "duration": 1039,
    "start_time": "2021-07-08T08:41:09.419Z"
   },
   {
    "duration": 333,
    "start_time": "2021-07-08T08:41:10.459Z"
   },
   {
    "duration": 173,
    "start_time": "2021-07-08T08:41:10.794Z"
   },
   {
    "duration": 5,
    "start_time": "2021-07-08T08:41:10.968Z"
   },
   {
    "duration": 25,
    "start_time": "2021-07-08T08:41:10.975Z"
   },
   {
    "duration": 9,
    "start_time": "2021-07-08T08:41:11.002Z"
   },
   {
    "duration": 18,
    "start_time": "2021-07-08T08:41:11.013Z"
   },
   {
    "duration": 6,
    "start_time": "2021-07-08T08:41:11.033Z"
   },
   {
    "duration": 44,
    "start_time": "2021-07-08T08:41:11.042Z"
   },
   {
    "duration": 10,
    "start_time": "2021-07-08T08:41:11.088Z"
   },
   {
    "duration": 9,
    "start_time": "2021-07-08T08:41:11.100Z"
   },
   {
    "duration": 27,
    "start_time": "2021-07-08T08:41:11.111Z"
   },
   {
    "duration": 46,
    "start_time": "2021-07-08T08:41:11.140Z"
   },
   {
    "duration": 17,
    "start_time": "2021-07-08T08:41:11.187Z"
   },
   {
    "duration": 6,
    "start_time": "2021-07-08T08:41:11.206Z"
   },
   {
    "duration": 5,
    "start_time": "2021-07-08T08:41:11.213Z"
   },
   {
    "duration": 10,
    "start_time": "2021-07-08T08:41:11.219Z"
   },
   {
    "duration": 9,
    "start_time": "2021-07-08T08:41:11.230Z"
   },
   {
    "duration": 45,
    "start_time": "2021-07-08T08:41:11.241Z"
   },
   {
    "duration": 7,
    "start_time": "2021-07-08T08:41:11.287Z"
   },
   {
    "duration": 24,
    "start_time": "2021-07-08T08:41:11.296Z"
   },
   {
    "duration": 16,
    "start_time": "2021-07-08T08:41:11.322Z"
   },
   {
    "duration": 7,
    "start_time": "2021-07-08T08:41:11.341Z"
   },
   {
    "duration": 41,
    "start_time": "2021-07-08T08:41:11.349Z"
   },
   {
    "duration": 17,
    "start_time": "2021-07-08T08:41:11.391Z"
   },
   {
    "duration": 9,
    "start_time": "2021-07-08T08:41:11.410Z"
   },
   {
    "duration": 5,
    "start_time": "2021-07-08T08:41:11.421Z"
   },
   {
    "duration": 6,
    "start_time": "2021-07-08T08:41:11.428Z"
   },
   {
    "duration": 198,
    "start_time": "2021-07-08T08:41:11.435Z"
   },
   {
    "duration": 18,
    "start_time": "2021-07-08T08:41:11.635Z"
   },
   {
    "duration": 155,
    "start_time": "2021-07-08T08:41:11.655Z"
   },
   {
    "duration": 138,
    "start_time": "2021-07-08T08:41:11.811Z"
   },
   {
    "duration": 10,
    "start_time": "2021-07-08T08:41:11.950Z"
   },
   {
    "duration": 29,
    "start_time": "2021-07-08T08:41:11.961Z"
   },
   {
    "duration": 171,
    "start_time": "2021-07-08T08:47:44.522Z"
   },
   {
    "duration": 124,
    "start_time": "2021-07-08T08:47:46.872Z"
   },
   {
    "duration": 191,
    "start_time": "2021-07-08T08:47:58.148Z"
   },
   {
    "duration": 191,
    "start_time": "2021-07-08T08:48:07.412Z"
   },
   {
    "duration": 261,
    "start_time": "2021-07-08T08:48:10.385Z"
   },
   {
    "duration": 255,
    "start_time": "2021-07-08T08:48:14.494Z"
   },
   {
    "duration": 219,
    "start_time": "2021-07-08T08:48:22.752Z"
   },
   {
    "duration": 173,
    "start_time": "2021-07-08T08:49:06.395Z"
   },
   {
    "duration": 180,
    "start_time": "2021-07-08T08:49:21.011Z"
   },
   {
    "duration": 6,
    "start_time": "2021-07-08T08:50:31.697Z"
   },
   {
    "duration": 10,
    "start_time": "2021-07-08T08:50:47.394Z"
   },
   {
    "duration": 11,
    "start_time": "2021-07-08T08:53:49.332Z"
   },
   {
    "duration": 171,
    "start_time": "2021-07-08T08:54:28.408Z"
   },
   {
    "duration": 636,
    "start_time": "2021-07-08T09:02:48.385Z"
   },
   {
    "duration": 227,
    "start_time": "2021-07-08T09:02:49.023Z"
   },
   {
    "duration": 104,
    "start_time": "2021-07-08T09:02:49.252Z"
   },
   {
    "duration": 5,
    "start_time": "2021-07-08T09:02:49.358Z"
   },
   {
    "duration": 27,
    "start_time": "2021-07-08T09:02:49.365Z"
   },
   {
    "duration": 8,
    "start_time": "2021-07-08T09:02:49.394Z"
   },
   {
    "duration": 18,
    "start_time": "2021-07-08T09:02:49.404Z"
   },
   {
    "duration": 6,
    "start_time": "2021-07-08T09:02:49.424Z"
   },
   {
    "duration": 11,
    "start_time": "2021-07-08T09:02:49.433Z"
   },
   {
    "duration": 13,
    "start_time": "2021-07-08T09:02:49.485Z"
   },
   {
    "duration": 9,
    "start_time": "2021-07-08T09:02:49.500Z"
   },
   {
    "duration": 38,
    "start_time": "2021-07-08T09:02:49.511Z"
   },
   {
    "duration": 42,
    "start_time": "2021-07-08T09:02:49.551Z"
   },
   {
    "duration": 21,
    "start_time": "2021-07-08T09:02:49.594Z"
   },
   {
    "duration": 6,
    "start_time": "2021-07-08T09:02:49.616Z"
   },
   {
    "duration": 3,
    "start_time": "2021-07-08T09:02:49.623Z"
   },
   {
    "duration": 9,
    "start_time": "2021-07-08T09:02:49.628Z"
   },
   {
    "duration": 52,
    "start_time": "2021-07-08T09:02:49.638Z"
   },
   {
    "duration": 11,
    "start_time": "2021-07-08T09:02:49.692Z"
   },
   {
    "duration": 8,
    "start_time": "2021-07-08T09:02:49.704Z"
   },
   {
    "duration": 27,
    "start_time": "2021-07-08T09:02:49.713Z"
   },
   {
    "duration": 59,
    "start_time": "2021-07-08T09:02:49.741Z"
   },
   {
    "duration": 8,
    "start_time": "2021-07-08T09:02:49.803Z"
   },
   {
    "duration": 14,
    "start_time": "2021-07-08T09:02:49.813Z"
   },
   {
    "duration": 20,
    "start_time": "2021-07-08T09:02:49.829Z"
   },
   {
    "duration": 44,
    "start_time": "2021-07-08T09:02:49.851Z"
   },
   {
    "duration": 14,
    "start_time": "2021-07-08T09:02:49.896Z"
   },
   {
    "duration": 221,
    "start_time": "2021-07-08T09:02:49.912Z"
   },
   {
    "duration": 6,
    "start_time": "2021-07-08T09:02:50.134Z"
   },
   {
    "duration": 206,
    "start_time": "2021-07-08T09:02:50.142Z"
   },
   {
    "duration": 19,
    "start_time": "2021-07-08T09:02:50.350Z"
   },
   {
    "duration": 21,
    "start_time": "2021-07-08T09:02:50.370Z"
   },
   {
    "duration": 20,
    "start_time": "2021-07-08T09:02:50.393Z"
   },
   {
    "duration": 5,
    "start_time": "2021-07-08T09:02:50.414Z"
   },
   {
    "duration": 5,
    "start_time": "2021-07-08T09:03:34.173Z"
   },
   {
    "duration": 6,
    "start_time": "2021-07-08T09:04:49.062Z"
   },
   {
    "duration": 9,
    "start_time": "2021-07-08T09:04:50.118Z"
   },
   {
    "duration": 14,
    "start_time": "2021-07-08T09:04:58.512Z"
   },
   {
    "duration": 9,
    "start_time": "2021-07-08T09:05:10.988Z"
   },
   {
    "duration": 11,
    "start_time": "2021-07-08T09:05:11.743Z"
   },
   {
    "duration": 7,
    "start_time": "2021-07-08T09:05:25.677Z"
   },
   {
    "duration": 13,
    "start_time": "2021-07-08T09:05:47.189Z"
   },
   {
    "duration": 13,
    "start_time": "2021-07-08T09:05:54.755Z"
   },
   {
    "duration": 4,
    "start_time": "2021-07-08T09:06:29.189Z"
   },
   {
    "duration": 244,
    "start_time": "2021-07-08T09:06:29.195Z"
   },
   {
    "duration": 91,
    "start_time": "2021-07-08T09:06:29.441Z"
   },
   {
    "duration": 4,
    "start_time": "2021-07-08T09:06:29.534Z"
   },
   {
    "duration": 28,
    "start_time": "2021-07-08T09:06:29.540Z"
   },
   {
    "duration": 6,
    "start_time": "2021-07-08T09:06:29.570Z"
   },
   {
    "duration": 18,
    "start_time": "2021-07-08T09:06:29.578Z"
   },
   {
    "duration": 5,
    "start_time": "2021-07-08T09:06:29.597Z"
   },
   {
    "duration": 13,
    "start_time": "2021-07-08T09:06:29.605Z"
   },
   {
    "duration": 8,
    "start_time": "2021-07-08T09:06:29.620Z"
   },
   {
    "duration": 7,
    "start_time": "2021-07-08T09:06:29.630Z"
   },
   {
    "duration": 63,
    "start_time": "2021-07-08T09:06:29.639Z"
   },
   {
    "duration": 17,
    "start_time": "2021-07-08T09:06:29.704Z"
   },
   {
    "duration": 20,
    "start_time": "2021-07-08T09:06:29.723Z"
   },
   {
    "duration": 6,
    "start_time": "2021-07-08T09:06:29.745Z"
   },
   {
    "duration": 3,
    "start_time": "2021-07-08T09:06:29.752Z"
   },
   {
    "duration": 7,
    "start_time": "2021-07-08T09:06:29.785Z"
   },
   {
    "duration": 11,
    "start_time": "2021-07-08T09:06:29.794Z"
   },
   {
    "duration": 15,
    "start_time": "2021-07-08T09:06:29.807Z"
   },
   {
    "duration": 8,
    "start_time": "2021-07-08T09:06:29.823Z"
   },
   {
    "duration": 70,
    "start_time": "2021-07-08T09:06:29.832Z"
   },
   {
    "duration": 17,
    "start_time": "2021-07-08T09:06:29.903Z"
   },
   {
    "duration": 9,
    "start_time": "2021-07-08T09:06:29.921Z"
   },
   {
    "duration": 9,
    "start_time": "2021-07-08T09:06:29.932Z"
   },
   {
    "duration": 57,
    "start_time": "2021-07-08T09:06:29.942Z"
   },
   {
    "duration": 11,
    "start_time": "2021-07-08T09:06:30.001Z"
   },
   {
    "duration": 19,
    "start_time": "2021-07-08T09:06:30.016Z"
   },
   {
    "duration": 217,
    "start_time": "2021-07-08T09:06:30.037Z"
   },
   {
    "duration": 6,
    "start_time": "2021-07-08T09:06:30.255Z"
   },
   {
    "duration": 205,
    "start_time": "2021-07-08T09:06:30.263Z"
   },
   {
    "duration": 27,
    "start_time": "2021-07-08T09:06:30.470Z"
   },
   {
    "duration": 11,
    "start_time": "2021-07-08T09:06:30.500Z"
   },
   {
    "duration": 31,
    "start_time": "2021-07-08T09:06:30.513Z"
   },
   {
    "duration": 18,
    "start_time": "2021-07-08T09:06:30.546Z"
   },
   {
    "duration": 11,
    "start_time": "2021-07-08T09:06:30.566Z"
   },
   {
    "duration": 19,
    "start_time": "2021-07-08T09:06:30.579Z"
   },
   {
    "duration": 20,
    "start_time": "2021-07-08T09:06:49.466Z"
   },
   {
    "duration": 9,
    "start_time": "2021-07-08T09:06:51.994Z"
   },
   {
    "duration": 20,
    "start_time": "2021-07-08T09:06:52.273Z"
   },
   {
    "duration": 246,
    "start_time": "2021-07-08T09:10:21.272Z"
   },
   {
    "duration": 84,
    "start_time": "2021-07-08T09:10:21.436Z"
   },
   {
    "duration": 7,
    "start_time": "2021-07-08T09:10:37.608Z"
   },
   {
    "duration": 189,
    "start_time": "2021-07-08T09:10:38.573Z"
   },
   {
    "duration": 185,
    "start_time": "2021-07-08T09:10:53.181Z"
   },
   {
    "duration": 11,
    "start_time": "2021-07-08T09:10:59.549Z"
   },
   {
    "duration": 42,
    "start_time": "2021-07-08T09:10:59.709Z"
   },
   {
    "duration": 12,
    "start_time": "2021-07-08T09:11:02.857Z"
   },
   {
    "duration": 28,
    "start_time": "2021-07-08T09:11:10.062Z"
   },
   {
    "duration": 249,
    "start_time": "2021-07-08T09:11:37.388Z"
   },
   {
    "duration": 232,
    "start_time": "2021-07-08T09:11:49.485Z"
   },
   {
    "duration": 453,
    "start_time": "2021-07-08T09:12:01.546Z"
   },
   {
    "duration": 440,
    "start_time": "2021-07-08T09:12:12.347Z"
   },
   {
    "duration": 213,
    "start_time": "2021-07-08T09:13:32.196Z"
   },
   {
    "duration": 172,
    "start_time": "2021-07-08T09:14:07.400Z"
   },
   {
    "duration": 185,
    "start_time": "2021-07-08T09:14:14.905Z"
   },
   {
    "duration": 209,
    "start_time": "2021-07-08T09:14:40.109Z"
   },
   {
    "duration": 201,
    "start_time": "2021-07-08T09:14:54.506Z"
   },
   {
    "duration": 622,
    "start_time": "2021-07-08T09:18:14.497Z"
   },
   {
    "duration": 220,
    "start_time": "2021-07-08T09:18:15.121Z"
   },
   {
    "duration": 79,
    "start_time": "2021-07-08T09:18:15.343Z"
   },
   {
    "duration": 4,
    "start_time": "2021-07-08T09:18:15.425Z"
   },
   {
    "duration": 24,
    "start_time": "2021-07-08T09:18:15.431Z"
   },
   {
    "duration": 8,
    "start_time": "2021-07-08T09:18:15.457Z"
   },
   {
    "duration": 16,
    "start_time": "2021-07-08T09:18:15.466Z"
   },
   {
    "duration": 5,
    "start_time": "2021-07-08T09:18:15.484Z"
   },
   {
    "duration": 10,
    "start_time": "2021-07-08T09:18:15.493Z"
   },
   {
    "duration": 8,
    "start_time": "2021-07-08T09:18:15.504Z"
   },
   {
    "duration": 7,
    "start_time": "2021-07-08T09:18:15.513Z"
   },
   {
    "duration": 26,
    "start_time": "2021-07-08T09:18:15.522Z"
   },
   {
    "duration": 49,
    "start_time": "2021-07-08T09:18:15.550Z"
   },
   {
    "duration": 21,
    "start_time": "2021-07-08T09:18:15.601Z"
   },
   {
    "duration": 8,
    "start_time": "2021-07-08T09:18:15.624Z"
   },
   {
    "duration": 3,
    "start_time": "2021-07-08T09:18:15.634Z"
   },
   {
    "duration": 8,
    "start_time": "2021-07-08T09:18:15.639Z"
   },
   {
    "duration": 45,
    "start_time": "2021-07-08T09:18:15.649Z"
   },
   {
    "duration": 13,
    "start_time": "2021-07-08T09:18:15.696Z"
   },
   {
    "duration": 10,
    "start_time": "2021-07-08T09:18:15.711Z"
   },
   {
    "duration": 64,
    "start_time": "2021-07-08T09:18:15.722Z"
   },
   {
    "duration": 19,
    "start_time": "2021-07-08T09:18:15.788Z"
   },
   {
    "duration": 9,
    "start_time": "2021-07-08T09:18:15.809Z"
   },
   {
    "duration": 9,
    "start_time": "2021-07-08T09:18:15.820Z"
   },
   {
    "duration": 18,
    "start_time": "2021-07-08T09:18:15.831Z"
   },
   {
    "duration": 43,
    "start_time": "2021-07-08T09:18:15.851Z"
   },
   {
    "duration": 12,
    "start_time": "2021-07-08T09:18:15.897Z"
   },
   {
    "duration": 219,
    "start_time": "2021-07-08T09:18:15.911Z"
   },
   {
    "duration": 8,
    "start_time": "2021-07-08T09:18:16.132Z"
   },
   {
    "duration": 199,
    "start_time": "2021-07-08T09:18:16.141Z"
   },
   {
    "duration": 18,
    "start_time": "2021-07-08T09:18:16.341Z"
   },
   {
    "duration": 24,
    "start_time": "2021-07-08T09:18:16.361Z"
   },
   {
    "duration": 24,
    "start_time": "2021-07-08T09:18:16.387Z"
   },
   {
    "duration": 211,
    "start_time": "2021-07-08T09:18:16.413Z"
   },
   {
    "duration": 18,
    "start_time": "2021-07-08T09:18:16.626Z"
   },
   {
    "duration": 596,
    "start_time": "2021-07-08T10:06:33.623Z"
   },
   {
    "duration": 181,
    "start_time": "2021-07-08T10:06:34.221Z"
   },
   {
    "duration": 176,
    "start_time": "2021-07-08T10:06:34.635Z"
   },
   {
    "duration": 239,
    "start_time": "2021-07-08T10:06:55.572Z"
   },
   {
    "duration": 6,
    "start_time": "2021-07-08T10:06:57.687Z"
   },
   {
    "duration": 4,
    "start_time": "2021-07-08T10:07:03.956Z"
   },
   {
    "duration": 4,
    "start_time": "2021-07-08T10:07:10.376Z"
   },
   {
    "duration": 4,
    "start_time": "2021-07-08T10:17:19.889Z"
   },
   {
    "duration": 3,
    "start_time": "2021-07-08T10:19:19.407Z"
   },
   {
    "duration": 197,
    "start_time": "2021-07-08T10:19:19.412Z"
   },
   {
    "duration": 127,
    "start_time": "2021-07-08T10:19:19.611Z"
   },
   {
    "duration": 4,
    "start_time": "2021-07-08T10:19:19.740Z"
   },
   {
    "duration": 27,
    "start_time": "2021-07-08T10:19:19.746Z"
   },
   {
    "duration": 7,
    "start_time": "2021-07-08T10:19:19.775Z"
   },
   {
    "duration": 30,
    "start_time": "2021-07-08T10:19:19.784Z"
   },
   {
    "duration": 7,
    "start_time": "2021-07-08T10:19:19.817Z"
   },
   {
    "duration": 26,
    "start_time": "2021-07-08T10:19:19.826Z"
   },
   {
    "duration": 18,
    "start_time": "2021-07-08T10:19:19.854Z"
   },
   {
    "duration": 14,
    "start_time": "2021-07-08T10:19:19.874Z"
   },
   {
    "duration": 48,
    "start_time": "2021-07-08T10:19:19.890Z"
   },
   {
    "duration": 17,
    "start_time": "2021-07-08T10:19:19.940Z"
   },
   {
    "duration": 38,
    "start_time": "2021-07-08T10:19:19.959Z"
   },
   {
    "duration": 8,
    "start_time": "2021-07-08T10:19:19.999Z"
   },
   {
    "duration": 15,
    "start_time": "2021-07-08T10:19:20.009Z"
   },
   {
    "duration": 22,
    "start_time": "2021-07-08T10:19:20.026Z"
   },
   {
    "duration": 10,
    "start_time": "2021-07-08T10:19:20.050Z"
   },
   {
    "duration": 10,
    "start_time": "2021-07-08T10:19:20.062Z"
   },
   {
    "duration": 20,
    "start_time": "2021-07-08T10:19:20.073Z"
   },
   {
    "duration": 29,
    "start_time": "2021-07-08T10:19:20.095Z"
   },
   {
    "duration": 17,
    "start_time": "2021-07-08T10:19:20.126Z"
   },
   {
    "duration": 40,
    "start_time": "2021-07-08T10:19:20.146Z"
   },
   {
    "duration": 15,
    "start_time": "2021-07-08T10:19:20.189Z"
   },
   {
    "duration": 19,
    "start_time": "2021-07-08T10:19:20.206Z"
   },
   {
    "duration": 10,
    "start_time": "2021-07-08T10:19:20.226Z"
   },
   {
    "duration": 11,
    "start_time": "2021-07-08T10:19:20.238Z"
   },
   {
    "duration": 297,
    "start_time": "2021-07-08T10:19:20.250Z"
   },
   {
    "duration": 6,
    "start_time": "2021-07-08T10:19:20.549Z"
   },
   {
    "duration": 191,
    "start_time": "2021-07-08T10:19:20.557Z"
   },
   {
    "duration": 19,
    "start_time": "2021-07-08T10:19:20.750Z"
   },
   {
    "duration": 20,
    "start_time": "2021-07-08T10:19:20.771Z"
   },
   {
    "duration": 15,
    "start_time": "2021-07-08T10:19:20.793Z"
   },
   {
    "duration": 222,
    "start_time": "2021-07-08T10:19:20.809Z"
   },
   {
    "duration": 20,
    "start_time": "2021-07-08T10:19:21.033Z"
   },
   {
    "duration": 27,
    "start_time": "2021-07-08T10:45:04.055Z"
   },
   {
    "duration": 8,
    "start_time": "2021-07-08T10:45:08.478Z"
   },
   {
    "duration": 8,
    "start_time": "2021-07-08T10:45:31.982Z"
   },
   {
    "duration": 10,
    "start_time": "2021-07-08T10:46:01.221Z"
   },
   {
    "duration": 17,
    "start_time": "2021-07-08T10:46:40.011Z"
   },
   {
    "duration": 193,
    "start_time": "2021-07-08T10:48:19.471Z"
   },
   {
    "duration": 225,
    "start_time": "2021-07-08T10:49:26.480Z"
   },
   {
    "duration": 204,
    "start_time": "2021-07-08T10:49:59.992Z"
   },
   {
    "duration": 435,
    "start_time": "2021-07-08T10:50:06.779Z"
   },
   {
    "duration": 199,
    "start_time": "2021-07-08T10:50:14.891Z"
   },
   {
    "duration": 204,
    "start_time": "2021-07-08T10:50:18.501Z"
   },
   {
    "duration": 244,
    "start_time": "2021-07-08T10:50:23.359Z"
   },
   {
    "duration": 192,
    "start_time": "2021-07-08T10:50:29.135Z"
   },
   {
    "duration": 218,
    "start_time": "2021-07-08T10:50:33.092Z"
   },
   {
    "duration": 207,
    "start_time": "2021-07-08T10:52:45.381Z"
   },
   {
    "duration": 5,
    "start_time": "2021-07-08T10:53:34.641Z"
   },
   {
    "duration": 196,
    "start_time": "2021-07-08T10:53:41.478Z"
   },
   {
    "duration": 43,
    "start_time": "2021-07-08T10:53:50.335Z"
   },
   {
    "duration": 32,
    "start_time": "2021-07-08T10:53:55.294Z"
   },
   {
    "duration": 55,
    "start_time": "2021-07-08T10:54:09.675Z"
   },
   {
    "duration": 16,
    "start_time": "2021-07-08T10:54:12.260Z"
   },
   {
    "duration": 15,
    "start_time": "2021-07-08T10:54:49.150Z"
   },
   {
    "duration": 20,
    "start_time": "2021-07-08T10:56:07.596Z"
   },
   {
    "duration": 16,
    "start_time": "2021-07-08T10:58:26.276Z"
   },
   {
    "duration": 22,
    "start_time": "2021-07-08T10:59:00.486Z"
   },
   {
    "duration": 18,
    "start_time": "2021-07-08T11:02:09.653Z"
   },
   {
    "duration": 10,
    "start_time": "2021-07-08T11:03:44.331Z"
   },
   {
    "duration": 10,
    "start_time": "2021-07-08T11:03:54.055Z"
   },
   {
    "duration": 12,
    "start_time": "2021-07-08T11:04:41.967Z"
   },
   {
    "duration": 24,
    "start_time": "2021-07-08T11:07:30.732Z"
   },
   {
    "duration": 6,
    "start_time": "2021-07-08T11:07:37.364Z"
   },
   {
    "duration": 16,
    "start_time": "2021-07-08T11:08:01.819Z"
   },
   {
    "duration": 17,
    "start_time": "2021-07-08T11:09:47.488Z"
   },
   {
    "duration": 246,
    "start_time": "2021-07-08T11:10:00.830Z"
   },
   {
    "duration": 18,
    "start_time": "2021-07-08T11:13:55.195Z"
   },
   {
    "duration": 204,
    "start_time": "2021-07-08T11:14:04.951Z"
   },
   {
    "duration": 19,
    "start_time": "2021-07-08T11:15:10.613Z"
   },
   {
    "duration": 680,
    "start_time": "2021-07-08T11:16:25.793Z"
   },
   {
    "duration": 451,
    "start_time": "2021-07-08T11:16:40.313Z"
   },
   {
    "duration": 469,
    "start_time": "2021-07-08T11:17:21.286Z"
   },
   {
    "duration": 20,
    "start_time": "2021-07-08T11:19:12.554Z"
   },
   {
    "duration": 35,
    "start_time": "2021-07-08T11:20:05.484Z"
   },
   {
    "duration": 53,
    "start_time": "2021-07-08T11:21:40.050Z"
   },
   {
    "duration": 13,
    "start_time": "2021-07-08T11:22:26.059Z"
   },
   {
    "duration": 19,
    "start_time": "2021-07-08T11:22:47.419Z"
   },
   {
    "duration": 25,
    "start_time": "2021-07-08T11:23:19.958Z"
   },
   {
    "duration": 29,
    "start_time": "2021-07-08T11:23:25.415Z"
   },
   {
    "duration": 10,
    "start_time": "2021-07-08T11:24:45.138Z"
   },
   {
    "duration": 19,
    "start_time": "2021-07-08T11:24:54.498Z"
   },
   {
    "duration": 12,
    "start_time": "2021-07-08T11:25:32.225Z"
   },
   {
    "duration": 19,
    "start_time": "2021-07-08T11:25:37.092Z"
   },
   {
    "duration": 17,
    "start_time": "2021-07-08T11:25:58.116Z"
   },
   {
    "duration": 15,
    "start_time": "2021-07-08T11:26:02.258Z"
   },
   {
    "duration": 8,
    "start_time": "2021-07-08T11:26:59.682Z"
   },
   {
    "duration": 184,
    "start_time": "2021-07-08T11:27:21.894Z"
   },
   {
    "duration": 8,
    "start_time": "2021-07-08T11:27:23.824Z"
   },
   {
    "duration": 202,
    "start_time": "2021-07-08T11:27:23.962Z"
   },
   {
    "duration": 360,
    "start_time": "2021-07-08T11:28:33.215Z"
   },
   {
    "duration": 231,
    "start_time": "2021-07-08T11:32:05.542Z"
   },
   {
    "duration": 607,
    "start_time": "2021-07-08T11:36:27.854Z"
   },
   {
    "duration": 241,
    "start_time": "2021-07-08T11:36:28.463Z"
   },
   {
    "duration": 67,
    "start_time": "2021-07-08T11:36:28.709Z"
   },
   {
    "duration": 5,
    "start_time": "2021-07-08T11:36:28.778Z"
   },
   {
    "duration": 32,
    "start_time": "2021-07-08T11:36:28.784Z"
   },
   {
    "duration": 11,
    "start_time": "2021-07-08T11:36:28.819Z"
   },
   {
    "duration": 20,
    "start_time": "2021-07-08T11:36:28.834Z"
   },
   {
    "duration": 36,
    "start_time": "2021-07-08T11:36:28.857Z"
   },
   {
    "duration": 16,
    "start_time": "2021-07-08T11:36:28.895Z"
   },
   {
    "duration": 14,
    "start_time": "2021-07-08T11:36:28.913Z"
   },
   {
    "duration": 9,
    "start_time": "2021-07-08T11:36:28.930Z"
   },
   {
    "duration": 55,
    "start_time": "2021-07-08T11:36:28.941Z"
   },
   {
    "duration": 27,
    "start_time": "2021-07-08T11:36:28.999Z"
   },
   {
    "duration": 30,
    "start_time": "2021-07-08T11:36:29.028Z"
   },
   {
    "duration": 31,
    "start_time": "2021-07-08T11:36:29.060Z"
   },
   {
    "duration": 3,
    "start_time": "2021-07-08T11:36:29.093Z"
   },
   {
    "duration": 12,
    "start_time": "2021-07-08T11:36:29.099Z"
   },
   {
    "duration": 11,
    "start_time": "2021-07-08T11:36:29.112Z"
   },
   {
    "duration": 12,
    "start_time": "2021-07-08T11:36:29.125Z"
   },
   {
    "duration": 9,
    "start_time": "2021-07-08T11:36:29.139Z"
   },
   {
    "duration": 31,
    "start_time": "2021-07-08T11:36:29.191Z"
   },
   {
    "duration": 17,
    "start_time": "2021-07-08T11:36:29.226Z"
   },
   {
    "duration": 7,
    "start_time": "2021-07-08T11:36:29.245Z"
   },
   {
    "duration": 10,
    "start_time": "2021-07-08T11:36:29.254Z"
   },
   {
    "duration": 30,
    "start_time": "2021-07-08T11:36:29.292Z"
   },
   {
    "duration": 11,
    "start_time": "2021-07-08T11:36:29.324Z"
   },
   {
    "duration": 11,
    "start_time": "2021-07-08T11:36:29.337Z"
   },
   {
    "duration": 230,
    "start_time": "2021-07-08T11:36:29.349Z"
   },
   {
    "duration": 13,
    "start_time": "2021-07-08T11:36:29.588Z"
   },
   {
    "duration": 205,
    "start_time": "2021-07-08T11:36:29.603Z"
   },
   {
    "duration": 20,
    "start_time": "2021-07-08T11:36:29.810Z"
   },
   {
    "duration": 9,
    "start_time": "2021-07-08T11:36:29.832Z"
   },
   {
    "duration": 16,
    "start_time": "2021-07-08T11:36:29.843Z"
   },
   {
    "duration": 283,
    "start_time": "2021-07-08T11:36:29.861Z"
   },
   {
    "duration": 50,
    "start_time": "2021-07-08T11:36:30.146Z"
   },
   {
    "duration": 14,
    "start_time": "2021-07-08T11:36:30.198Z"
   },
   {
    "duration": 11,
    "start_time": "2021-07-08T11:36:30.214Z"
   },
   {
    "duration": 245,
    "start_time": "2021-07-08T11:36:30.227Z"
   },
   {
    "duration": 439,
    "start_time": "2021-07-08T11:36:30.474Z"
   },
   {
    "duration": 210,
    "start_time": "2021-07-08T11:36:30.915Z"
   },
   {
    "duration": 15,
    "start_time": "2021-07-08T11:36:31.127Z"
   },
   {
    "duration": 17,
    "start_time": "2021-07-08T11:38:20.451Z"
   },
   {
    "duration": 642,
    "start_time": "2021-07-08T11:46:17.881Z"
   },
   {
    "duration": 210,
    "start_time": "2021-07-08T11:46:18.525Z"
   },
   {
    "duration": 104,
    "start_time": "2021-07-08T11:46:18.741Z"
   },
   {
    "duration": 8,
    "start_time": "2021-07-08T11:46:18.847Z"
   },
   {
    "duration": 25,
    "start_time": "2021-07-08T11:46:18.857Z"
   },
   {
    "duration": 14,
    "start_time": "2021-07-08T11:46:18.884Z"
   },
   {
    "duration": 22,
    "start_time": "2021-07-08T11:46:18.900Z"
   },
   {
    "duration": 5,
    "start_time": "2021-07-08T11:46:18.924Z"
   },
   {
    "duration": 13,
    "start_time": "2021-07-08T11:46:18.931Z"
   },
   {
    "duration": 45,
    "start_time": "2021-07-08T11:46:18.946Z"
   },
   {
    "duration": 12,
    "start_time": "2021-07-08T11:46:18.993Z"
   },
   {
    "duration": 38,
    "start_time": "2021-07-08T11:46:19.006Z"
   },
   {
    "duration": 50,
    "start_time": "2021-07-08T11:46:19.046Z"
   },
   {
    "duration": 29,
    "start_time": "2021-07-08T11:46:19.099Z"
   },
   {
    "duration": 7,
    "start_time": "2021-07-08T11:46:19.130Z"
   },
   {
    "duration": 3,
    "start_time": "2021-07-08T11:46:19.139Z"
   },
   {
    "duration": 11,
    "start_time": "2021-07-08T11:46:19.144Z"
   },
   {
    "duration": 40,
    "start_time": "2021-07-08T11:46:19.157Z"
   },
   {
    "duration": 15,
    "start_time": "2021-07-08T11:46:19.199Z"
   },
   {
    "duration": 10,
    "start_time": "2021-07-08T11:46:19.217Z"
   },
   {
    "duration": 68,
    "start_time": "2021-07-08T11:46:19.230Z"
   },
   {
    "duration": 17,
    "start_time": "2021-07-08T11:46:19.301Z"
   },
   {
    "duration": 7,
    "start_time": "2021-07-08T11:46:19.321Z"
   },
   {
    "duration": 11,
    "start_time": "2021-07-08T11:46:19.330Z"
   },
   {
    "duration": 59,
    "start_time": "2021-07-08T11:46:19.343Z"
   },
   {
    "duration": 17,
    "start_time": "2021-07-08T11:46:19.405Z"
   },
   {
    "duration": 16,
    "start_time": "2021-07-08T11:46:19.424Z"
   },
   {
    "duration": 252,
    "start_time": "2021-07-08T11:46:19.443Z"
   },
   {
    "duration": 9,
    "start_time": "2021-07-08T11:46:19.697Z"
   },
   {
    "duration": 224,
    "start_time": "2021-07-08T11:46:19.708Z"
   },
   {
    "duration": 21,
    "start_time": "2021-07-08T11:46:19.934Z"
   },
   {
    "duration": 9,
    "start_time": "2021-07-08T11:46:19.956Z"
   },
   {
    "duration": 32,
    "start_time": "2021-07-08T11:46:19.967Z"
   },
   {
    "duration": 288,
    "start_time": "2021-07-08T11:46:20.004Z"
   },
   {
    "duration": 23,
    "start_time": "2021-07-08T11:46:20.300Z"
   },
   {
    "duration": 11,
    "start_time": "2021-07-08T11:46:20.325Z"
   },
   {
    "duration": 11,
    "start_time": "2021-07-08T11:46:20.339Z"
   },
   {
    "duration": 259,
    "start_time": "2021-07-08T11:46:20.352Z"
   },
   {
    "duration": 438,
    "start_time": "2021-07-08T11:46:20.613Z"
   },
   {
    "duration": 207,
    "start_time": "2021-07-08T11:46:21.054Z"
   },
   {
    "duration": 27,
    "start_time": "2021-07-08T11:46:21.262Z"
   },
   {
    "duration": 19,
    "start_time": "2021-07-08T11:46:21.291Z"
   },
   {
    "duration": 820,
    "start_time": "2021-07-08T11:49:01.655Z"
   },
   {
    "duration": 372,
    "start_time": "2021-07-08T11:49:02.478Z"
   },
   {
    "duration": 98,
    "start_time": "2021-07-08T11:49:02.853Z"
   },
   {
    "duration": 6,
    "start_time": "2021-07-08T11:49:02.953Z"
   },
   {
    "duration": 39,
    "start_time": "2021-07-08T11:49:02.960Z"
   },
   {
    "duration": 9,
    "start_time": "2021-07-08T11:49:03.003Z"
   },
   {
    "duration": 23,
    "start_time": "2021-07-08T11:49:03.014Z"
   },
   {
    "duration": 6,
    "start_time": "2021-07-08T11:49:03.041Z"
   },
   {
    "duration": 20,
    "start_time": "2021-07-08T11:49:03.049Z"
   },
   {
    "duration": 18,
    "start_time": "2021-07-08T11:49:03.084Z"
   },
   {
    "duration": 14,
    "start_time": "2021-07-08T11:49:03.104Z"
   },
   {
    "duration": 39,
    "start_time": "2021-07-08T11:49:03.119Z"
   },
   {
    "duration": 38,
    "start_time": "2021-07-08T11:49:03.160Z"
   },
   {
    "duration": 26,
    "start_time": "2021-07-08T11:49:03.200Z"
   },
   {
    "duration": 7,
    "start_time": "2021-07-08T11:49:03.227Z"
   },
   {
    "duration": 4,
    "start_time": "2021-07-08T11:49:03.236Z"
   },
   {
    "duration": 15,
    "start_time": "2021-07-08T11:49:03.243Z"
   },
   {
    "duration": 21,
    "start_time": "2021-07-08T11:49:03.285Z"
   },
   {
    "duration": 17,
    "start_time": "2021-07-08T11:49:03.309Z"
   },
   {
    "duration": 10,
    "start_time": "2021-07-08T11:49:03.328Z"
   },
   {
    "duration": 65,
    "start_time": "2021-07-08T11:49:03.340Z"
   },
   {
    "duration": 18,
    "start_time": "2021-07-08T11:49:03.407Z"
   },
   {
    "duration": 8,
    "start_time": "2021-07-08T11:49:03.428Z"
   },
   {
    "duration": 15,
    "start_time": "2021-07-08T11:49:03.438Z"
   },
   {
    "duration": 40,
    "start_time": "2021-07-08T11:49:03.455Z"
   },
   {
    "duration": 12,
    "start_time": "2021-07-08T11:49:03.497Z"
   },
   {
    "duration": 29,
    "start_time": "2021-07-08T11:49:03.511Z"
   },
   {
    "duration": 285,
    "start_time": "2021-07-08T11:49:03.542Z"
   },
   {
    "duration": 8,
    "start_time": "2021-07-08T11:49:03.829Z"
   },
   {
    "duration": 227,
    "start_time": "2021-07-08T11:49:03.838Z"
   },
   {
    "duration": 40,
    "start_time": "2021-07-08T11:49:04.066Z"
   },
   {
    "duration": 10,
    "start_time": "2021-07-08T11:49:04.108Z"
   },
   {
    "duration": 26,
    "start_time": "2021-07-08T11:49:04.121Z"
   },
   {
    "duration": 290,
    "start_time": "2021-07-08T11:49:04.149Z"
   },
   {
    "duration": 26,
    "start_time": "2021-07-08T11:49:04.441Z"
   },
   {
    "duration": 31,
    "start_time": "2021-07-08T11:49:04.470Z"
   },
   {
    "duration": 14,
    "start_time": "2021-07-08T11:49:04.503Z"
   },
   {
    "duration": 259,
    "start_time": "2021-07-08T11:49:04.521Z"
   },
   {
    "duration": 480,
    "start_time": "2021-07-08T11:49:04.782Z"
   },
   {
    "duration": 225,
    "start_time": "2021-07-08T11:49:05.264Z"
   },
   {
    "duration": 22,
    "start_time": "2021-07-08T11:49:05.491Z"
   },
   {
    "duration": 24,
    "start_time": "2021-07-08T11:49:05.515Z"
   },
   {
    "duration": 634,
    "start_time": "2021-07-08T11:52:24.960Z"
   },
   {
    "duration": 199,
    "start_time": "2021-07-08T11:52:25.599Z"
   },
   {
    "duration": 106,
    "start_time": "2021-07-08T11:52:25.803Z"
   },
   {
    "duration": 7,
    "start_time": "2021-07-08T11:52:25.911Z"
   },
   {
    "duration": 29,
    "start_time": "2021-07-08T11:52:25.920Z"
   },
   {
    "duration": 7,
    "start_time": "2021-07-08T11:52:25.951Z"
   },
   {
    "duration": 26,
    "start_time": "2021-07-08T11:52:25.961Z"
   },
   {
    "duration": 11,
    "start_time": "2021-07-08T11:52:25.990Z"
   },
   {
    "duration": 29,
    "start_time": "2021-07-08T11:52:26.005Z"
   },
   {
    "duration": 9,
    "start_time": "2021-07-08T11:52:26.036Z"
   },
   {
    "duration": 8,
    "start_time": "2021-07-08T11:52:26.047Z"
   },
   {
    "duration": 63,
    "start_time": "2021-07-08T11:52:26.057Z"
   },
   {
    "duration": 17,
    "start_time": "2021-07-08T11:52:26.122Z"
   },
   {
    "duration": 43,
    "start_time": "2021-07-08T11:52:26.142Z"
   },
   {
    "duration": 17,
    "start_time": "2021-07-08T11:52:26.187Z"
   },
   {
    "duration": 5,
    "start_time": "2021-07-08T11:52:26.206Z"
   },
   {
    "duration": 12,
    "start_time": "2021-07-08T11:52:26.212Z"
   },
   {
    "duration": 11,
    "start_time": "2021-07-08T11:52:26.226Z"
   },
   {
    "duration": 12,
    "start_time": "2021-07-08T11:52:26.238Z"
   },
   {
    "duration": 38,
    "start_time": "2021-07-08T11:52:26.252Z"
   },
   {
    "duration": 40,
    "start_time": "2021-07-08T11:52:26.292Z"
   },
   {
    "duration": 17,
    "start_time": "2021-07-08T11:52:26.336Z"
   },
   {
    "duration": 39,
    "start_time": "2021-07-08T11:52:26.355Z"
   },
   {
    "duration": 11,
    "start_time": "2021-07-08T11:52:26.395Z"
   },
   {
    "duration": 23,
    "start_time": "2021-07-08T11:52:26.408Z"
   },
   {
    "duration": 12,
    "start_time": "2021-07-08T11:52:26.432Z"
   },
   {
    "duration": 41,
    "start_time": "2021-07-08T11:52:26.446Z"
   },
   {
    "duration": 215,
    "start_time": "2021-07-08T11:52:26.493Z"
   },
   {
    "duration": 8,
    "start_time": "2021-07-08T11:52:26.710Z"
   },
   {
    "duration": 228,
    "start_time": "2021-07-08T11:52:26.720Z"
   },
   {
    "duration": 18,
    "start_time": "2021-07-08T11:52:26.950Z"
   },
   {
    "duration": 35,
    "start_time": "2021-07-08T11:52:26.969Z"
   },
   {
    "duration": 23,
    "start_time": "2021-07-08T11:52:27.006Z"
   },
   {
    "duration": 258,
    "start_time": "2021-07-08T11:52:27.030Z"
   },
   {
    "duration": 24,
    "start_time": "2021-07-08T11:52:27.290Z"
   },
   {
    "duration": 12,
    "start_time": "2021-07-08T11:52:27.316Z"
   },
   {
    "duration": 10,
    "start_time": "2021-07-08T11:52:27.329Z"
   },
   {
    "duration": 298,
    "start_time": "2021-07-08T11:52:27.341Z"
   },
   {
    "duration": 436,
    "start_time": "2021-07-08T11:52:27.641Z"
   },
   {
    "duration": 216,
    "start_time": "2021-07-08T11:52:28.079Z"
   },
   {
    "duration": 20,
    "start_time": "2021-07-08T11:52:28.297Z"
   },
   {
    "duration": 17,
    "start_time": "2021-07-08T11:52:28.319Z"
   },
   {
    "duration": 771,
    "start_time": "2021-10-09T12:37:49.707Z"
   },
   {
    "duration": 132,
    "start_time": "2021-10-09T12:37:50.480Z"
   },
   {
    "duration": 35,
    "start_time": "2021-10-09T12:37:50.615Z"
   },
   {
    "duration": 10,
    "start_time": "2021-10-09T12:37:50.653Z"
   },
   {
    "duration": 16,
    "start_time": "2021-10-09T12:38:01.936Z"
   },
   {
    "duration": 19,
    "start_time": "2021-10-09T12:38:03.743Z"
   },
   {
    "duration": 14,
    "start_time": "2021-10-09T12:38:05.890Z"
   },
   {
    "duration": 7,
    "start_time": "2021-10-09T12:38:11.085Z"
   },
   {
    "duration": 22,
    "start_time": "2021-10-09T12:38:26.541Z"
   },
   {
    "duration": 14,
    "start_time": "2021-10-09T12:39:44.500Z"
   },
   {
    "duration": 152,
    "start_time": "2021-10-09T12:40:50.443Z"
   },
   {
    "duration": 140,
    "start_time": "2021-10-09T12:40:50.598Z"
   },
   {
    "duration": 18,
    "start_time": "2021-10-09T12:40:50.742Z"
   },
   {
    "duration": 26,
    "start_time": "2021-10-09T12:40:50.762Z"
   },
   {
    "duration": 12,
    "start_time": "2021-10-09T12:40:50.790Z"
   },
   {
    "duration": 5,
    "start_time": "2021-10-09T12:44:25.873Z"
   },
   {
    "duration": 118,
    "start_time": "2021-10-09T12:44:25.881Z"
   },
   {
    "duration": 15,
    "start_time": "2021-10-09T12:44:26.002Z"
   },
   {
    "duration": 23,
    "start_time": "2021-10-09T12:44:26.020Z"
   },
   {
    "duration": 10,
    "start_time": "2021-10-09T12:44:26.047Z"
   },
   {
    "duration": 6,
    "start_time": "2021-10-09T12:44:26.060Z"
   },
   {
    "duration": 438,
    "start_time": "2021-10-09T12:45:41.077Z"
   },
   {
    "duration": -1765,
    "start_time": "2021-10-09T12:45:43.284Z"
   },
   {
    "duration": 5,
    "start_time": "2021-10-09T12:45:45.214Z"
   },
   {
    "duration": 118,
    "start_time": "2021-10-09T12:45:45.221Z"
   },
   {
    "duration": 16,
    "start_time": "2021-10-09T12:45:45.342Z"
   },
   {
    "duration": 24,
    "start_time": "2021-10-09T12:45:45.362Z"
   },
   {
    "duration": 16,
    "start_time": "2021-10-09T12:45:45.388Z"
   },
   {
    "duration": 1339,
    "start_time": "2021-10-09T12:45:45.407Z"
   },
   {
    "duration": -1776,
    "start_time": "2021-10-09T12:45:48.525Z"
   },
   {
    "duration": 7,
    "start_time": "2021-10-09T12:46:22.710Z"
   },
   {
    "duration": 14,
    "start_time": "2021-10-09T12:46:32.069Z"
   },
   {
    "duration": 1984,
    "start_time": "2021-10-09T12:47:28.893Z"
   },
   {
    "duration": 2208,
    "start_time": "2021-10-09T12:47:37.679Z"
   },
   {
    "duration": 22,
    "start_time": "2021-10-09T12:48:05.168Z"
   },
   {
    "duration": 15,
    "start_time": "2021-10-09T12:48:12.997Z"
   },
   {
    "duration": 6,
    "start_time": "2021-10-09T12:48:46.712Z"
   },
   {
    "duration": 381,
    "start_time": "2021-10-09T12:48:48.963Z"
   },
   {
    "duration": 5,
    "start_time": "2021-10-09T12:48:56.923Z"
   },
   {
    "duration": 112,
    "start_time": "2021-10-09T12:48:56.931Z"
   },
   {
    "duration": 15,
    "start_time": "2021-10-09T12:48:57.046Z"
   },
   {
    "duration": 25,
    "start_time": "2021-10-09T12:48:57.064Z"
   },
   {
    "duration": 11,
    "start_time": "2021-10-09T12:48:57.092Z"
   },
   {
    "duration": 12,
    "start_time": "2021-10-09T12:48:57.106Z"
   },
   {
    "duration": 344,
    "start_time": "2021-10-09T12:48:57.121Z"
   },
   {
    "duration": 11,
    "start_time": "2021-10-09T12:49:30.375Z"
   },
   {
    "duration": 1211,
    "start_time": "2021-10-09T12:50:23.410Z"
   },
   {
    "duration": 16,
    "start_time": "2021-10-09T12:51:19.491Z"
   },
   {
    "duration": 15,
    "start_time": "2021-10-09T12:51:25.797Z"
   },
   {
    "duration": 9,
    "start_time": "2021-10-09T12:51:37.085Z"
   },
   {
    "duration": 329,
    "start_time": "2021-10-09T12:51:38.555Z"
   },
   {
    "duration": 45,
    "start_time": "2021-10-09T12:52:38.307Z"
   },
   {
    "duration": 350,
    "start_time": "2021-10-09T12:52:59.479Z"
   },
   {
    "duration": 22,
    "start_time": "2021-10-09T12:54:04.924Z"
   },
   {
    "duration": 21,
    "start_time": "2021-10-09T12:56:17.489Z"
   },
   {
    "duration": 5,
    "start_time": "2021-10-09T12:56:21.109Z"
   },
   {
    "duration": 5,
    "start_time": "2021-10-09T12:56:25.771Z"
   },
   {
    "duration": 120,
    "start_time": "2021-10-09T12:56:25.778Z"
   },
   {
    "duration": 14,
    "start_time": "2021-10-09T12:56:25.902Z"
   },
   {
    "duration": 26,
    "start_time": "2021-10-09T12:56:25.919Z"
   },
   {
    "duration": 8,
    "start_time": "2021-10-09T12:56:25.948Z"
   },
   {
    "duration": 7,
    "start_time": "2021-10-09T12:56:25.958Z"
   },
   {
    "duration": 9,
    "start_time": "2021-10-09T12:56:25.968Z"
   },
   {
    "duration": 44,
    "start_time": "2021-10-09T12:56:25.979Z"
   },
   {
    "duration": 483,
    "start_time": "2021-10-09T12:56:33.623Z"
   },
   {
    "duration": 43,
    "start_time": "2021-10-09T12:57:00.129Z"
   },
   {
    "duration": 41,
    "start_time": "2021-10-09T12:57:16.623Z"
   },
   {
    "duration": 390,
    "start_time": "2021-10-09T12:57:43.543Z"
   },
   {
    "duration": 460,
    "start_time": "2021-10-09T12:57:58.760Z"
   },
   {
    "duration": 333,
    "start_time": "2021-10-09T12:58:02.412Z"
   },
   {
    "duration": 338,
    "start_time": "2021-10-09T12:58:32.391Z"
   },
   {
    "duration": 14,
    "start_time": "2021-10-09T12:59:18.828Z"
   },
   {
    "duration": 5,
    "start_time": "2021-10-09T12:59:24.045Z"
   },
   {
    "duration": 121,
    "start_time": "2021-10-09T12:59:24.052Z"
   },
   {
    "duration": 13,
    "start_time": "2021-10-09T12:59:24.176Z"
   },
   {
    "duration": 26,
    "start_time": "2021-10-09T12:59:24.192Z"
   },
   {
    "duration": 9,
    "start_time": "2021-10-09T12:59:24.221Z"
   },
   {
    "duration": 9,
    "start_time": "2021-10-09T12:59:24.232Z"
   },
   {
    "duration": 19,
    "start_time": "2021-10-09T12:59:24.243Z"
   },
   {
    "duration": 45,
    "start_time": "2021-10-09T12:59:24.265Z"
   },
   {
    "duration": 14,
    "start_time": "2021-10-09T12:59:24.313Z"
   },
   {
    "duration": 12,
    "start_time": "2021-10-09T12:59:32.733Z"
   },
   {
    "duration": 18,
    "start_time": "2021-10-09T12:59:34.799Z"
   },
   {
    "duration": 5,
    "start_time": "2021-10-09T13:00:55.017Z"
   },
   {
    "duration": 331,
    "start_time": "2021-10-09T13:00:55.243Z"
   },
   {
    "duration": -1773,
    "start_time": "2021-10-09T13:00:57.350Z"
   },
   {
    "duration": 5,
    "start_time": "2021-10-09T13:01:03.818Z"
   },
   {
    "duration": 118,
    "start_time": "2021-10-09T13:01:03.827Z"
   },
   {
    "duration": 17,
    "start_time": "2021-10-09T13:01:03.949Z"
   },
   {
    "duration": 25,
    "start_time": "2021-10-09T13:01:03.970Z"
   },
   {
    "duration": 25,
    "start_time": "2021-10-09T13:01:03.998Z"
   },
   {
    "duration": 20,
    "start_time": "2021-10-09T13:01:04.026Z"
   },
   {
    "duration": 7,
    "start_time": "2021-10-09T13:01:04.058Z"
   },
   {
    "duration": 338,
    "start_time": "2021-10-09T13:01:04.067Z"
   },
   {
    "duration": -1772,
    "start_time": "2021-10-09T13:01:06.181Z"
   },
   {
    "duration": 8,
    "start_time": "2021-10-09T13:02:26.785Z"
   },
   {
    "duration": 6,
    "start_time": "2021-10-09T13:02:29.009Z"
   },
   {
    "duration": 140,
    "start_time": "2021-10-09T13:02:29.018Z"
   },
   {
    "duration": 20,
    "start_time": "2021-10-09T13:02:29.162Z"
   },
   {
    "duration": 30,
    "start_time": "2021-10-09T13:02:29.185Z"
   },
   {
    "duration": 9,
    "start_time": "2021-10-09T13:02:29.218Z"
   },
   {
    "duration": 5,
    "start_time": "2021-10-09T13:02:29.259Z"
   },
   {
    "duration": 14,
    "start_time": "2021-10-09T13:02:29.266Z"
   },
   {
    "duration": 13,
    "start_time": "2021-10-09T13:02:29.283Z"
   },
   {
    "duration": 17,
    "start_time": "2021-10-09T13:02:29.300Z"
   },
   {
    "duration": 338,
    "start_time": "2021-10-09T13:03:13.218Z"
   },
   {
    "duration": -1772,
    "start_time": "2021-10-09T13:03:15.332Z"
   },
   {
    "duration": 6,
    "start_time": "2021-10-09T13:03:23.997Z"
   },
   {
    "duration": 116,
    "start_time": "2021-10-09T13:03:24.007Z"
   },
   {
    "duration": 15,
    "start_time": "2021-10-09T13:03:24.127Z"
   },
   {
    "duration": 23,
    "start_time": "2021-10-09T13:03:24.145Z"
   },
   {
    "duration": 9,
    "start_time": "2021-10-09T13:03:24.171Z"
   },
   {
    "duration": 8,
    "start_time": "2021-10-09T13:03:24.183Z"
   },
   {
    "duration": 10,
    "start_time": "2021-10-09T13:03:24.193Z"
   },
   {
    "duration": 61,
    "start_time": "2021-10-09T13:03:24.206Z"
   },
   {
    "duration": 18,
    "start_time": "2021-10-09T13:03:24.270Z"
   },
   {
    "duration": 15,
    "start_time": "2021-10-09T13:03:43.980Z"
   },
   {
    "duration": 13,
    "start_time": "2021-10-09T13:03:44.386Z"
   },
   {
    "duration": 14,
    "start_time": "2021-10-09T13:03:53.346Z"
   },
   {
    "duration": 15,
    "start_time": "2021-10-09T13:03:53.570Z"
   },
   {
    "duration": 5,
    "start_time": "2021-10-09T13:04:00.490Z"
   },
   {
    "duration": 116,
    "start_time": "2021-10-09T13:04:00.498Z"
   },
   {
    "duration": 15,
    "start_time": "2021-10-09T13:04:00.617Z"
   },
   {
    "duration": 31,
    "start_time": "2021-10-09T13:04:00.635Z"
   },
   {
    "duration": 17,
    "start_time": "2021-10-09T13:04:00.669Z"
   },
   {
    "duration": 14,
    "start_time": "2021-10-09T13:04:00.688Z"
   },
   {
    "duration": 14,
    "start_time": "2021-10-09T13:04:00.705Z"
   },
   {
    "duration": 30,
    "start_time": "2021-10-09T13:04:00.721Z"
   },
   {
    "duration": 19,
    "start_time": "2021-10-09T13:04:00.755Z"
   },
   {
    "duration": 23,
    "start_time": "2021-10-09T13:04:19.603Z"
   },
   {
    "duration": 44,
    "start_time": "2021-10-09T13:05:12.725Z"
   },
   {
    "duration": 31,
    "start_time": "2021-10-09T13:06:05.999Z"
   },
   {
    "duration": 55,
    "start_time": "2021-10-09T13:06:58.709Z"
   },
   {
    "duration": 52,
    "start_time": "2021-10-09T13:07:03.751Z"
   },
   {
    "duration": 42,
    "start_time": "2021-10-09T13:07:11.857Z"
   },
   {
    "duration": 8679,
    "start_time": "2021-10-09T13:10:59.421Z"
   },
   {
    "duration": 32,
    "start_time": "2021-10-09T13:14:03.796Z"
   },
   {
    "duration": 39,
    "start_time": "2021-10-09T13:15:34.479Z"
   },
   {
    "duration": 330,
    "start_time": "2021-10-09T13:16:14.296Z"
   },
   {
    "duration": 7894,
    "start_time": "2021-10-09T13:16:47.020Z"
   },
   {
    "duration": 19,
    "start_time": "2021-10-09T13:17:08.357Z"
   },
   {
    "duration": 45,
    "start_time": "2021-10-09T13:17:49.828Z"
   },
   {
    "duration": 6,
    "start_time": "2021-10-09T13:18:47.083Z"
   },
   {
    "duration": 114,
    "start_time": "2021-10-09T13:18:47.093Z"
   },
   {
    "duration": 17,
    "start_time": "2021-10-09T13:18:47.211Z"
   },
   {
    "duration": 10,
    "start_time": "2021-10-09T13:18:47.231Z"
   },
   {
    "duration": 24,
    "start_time": "2021-10-09T13:18:47.244Z"
   },
   {
    "duration": 41,
    "start_time": "2021-10-09T13:18:47.271Z"
   },
   {
    "duration": 64,
    "start_time": "2021-10-09T13:18:47.315Z"
   },
   {
    "duration": 42,
    "start_time": "2021-10-09T13:33:55.616Z"
   },
   {
    "duration": 41,
    "start_time": "2021-10-09T13:41:16.829Z"
   },
   {
    "duration": 50,
    "start_time": "2021-10-09T13:42:35.450Z"
   },
   {
    "duration": 5,
    "start_time": "2021-10-09T13:42:49.205Z"
   },
   {
    "duration": 129,
    "start_time": "2021-10-09T13:42:49.212Z"
   },
   {
    "duration": 14,
    "start_time": "2021-10-09T13:42:49.344Z"
   },
   {
    "duration": 25,
    "start_time": "2021-10-09T13:42:49.360Z"
   },
   {
    "duration": 51,
    "start_time": "2021-10-09T13:42:49.388Z"
   },
   {
    "duration": 36,
    "start_time": "2021-10-09T13:42:49.441Z"
   },
   {
    "duration": 39,
    "start_time": "2021-10-09T13:42:49.480Z"
   },
   {
    "duration": 28,
    "start_time": "2021-10-09T13:43:30.554Z"
   },
   {
    "duration": 35,
    "start_time": "2021-10-09T13:43:44.386Z"
   },
   {
    "duration": 136,
    "start_time": "2021-10-09T13:45:47.801Z"
   },
   {
    "duration": 110,
    "start_time": "2021-10-09T13:45:51.323Z"
   },
   {
    "duration": 36,
    "start_time": "2021-10-09T13:46:06.770Z"
   },
   {
    "duration": 37,
    "start_time": "2021-10-09T13:46:37.586Z"
   },
   {
    "duration": 38,
    "start_time": "2021-10-09T13:46:41.814Z"
   },
   {
    "duration": 4,
    "start_time": "2021-10-09T13:47:38.649Z"
   },
   {
    "duration": 112,
    "start_time": "2021-10-09T13:47:38.656Z"
   },
   {
    "duration": 15,
    "start_time": "2021-10-09T13:47:38.771Z"
   },
   {
    "duration": 13,
    "start_time": "2021-10-09T13:47:38.788Z"
   },
   {
    "duration": 42,
    "start_time": "2021-10-09T13:47:38.803Z"
   },
   {
    "duration": 42,
    "start_time": "2021-10-09T13:47:38.858Z"
   },
   {
    "duration": 66,
    "start_time": "2021-10-09T13:47:38.902Z"
   },
   {
    "duration": 39,
    "start_time": "2021-10-09T13:49:23.913Z"
   },
   {
    "duration": 5,
    "start_time": "2021-10-09T13:49:35.673Z"
   },
   {
    "duration": 113,
    "start_time": "2021-10-09T13:49:35.680Z"
   },
   {
    "duration": 14,
    "start_time": "2021-10-09T13:49:35.796Z"
   },
   {
    "duration": 7,
    "start_time": "2021-10-09T13:49:35.813Z"
   },
   {
    "duration": 49,
    "start_time": "2021-10-09T13:49:35.822Z"
   },
   {
    "duration": 40,
    "start_time": "2021-10-09T13:49:35.873Z"
   },
   {
    "duration": 63,
    "start_time": "2021-10-09T13:49:35.915Z"
   },
   {
    "duration": 35,
    "start_time": "2021-10-09T13:49:45.075Z"
   },
   {
    "duration": 13,
    "start_time": "2021-10-09T13:56:42.278Z"
   },
   {
    "duration": 264,
    "start_time": "2021-10-10T08:34:14.112Z"
   },
   {
    "duration": 702,
    "start_time": "2021-10-10T08:34:16.510Z"
   },
   {
    "duration": 241,
    "start_time": "2021-10-10T08:34:17.214Z"
   },
   {
    "duration": 11,
    "start_time": "2021-10-10T08:34:17.457Z"
   },
   {
    "duration": 12,
    "start_time": "2021-10-10T08:34:17.470Z"
   },
   {
    "duration": 36,
    "start_time": "2021-10-10T08:34:17.484Z"
   },
   {
    "duration": 28,
    "start_time": "2021-10-10T08:34:17.521Z"
   },
   {
    "duration": 27,
    "start_time": "2021-10-10T08:34:17.551Z"
   },
   {
    "duration": 10,
    "start_time": "2021-10-10T08:34:17.580Z"
   },
   {
    "duration": 15,
    "start_time": "2021-10-10T08:34:55.464Z"
   },
   {
    "duration": 21,
    "start_time": "2021-10-10T08:36:05.344Z"
   },
   {
    "duration": 21,
    "start_time": "2021-10-10T08:36:12.655Z"
   },
   {
    "duration": 16,
    "start_time": "2021-10-10T08:36:19.608Z"
   },
   {
    "duration": 9,
    "start_time": "2021-10-10T08:36:28.978Z"
   },
   {
    "duration": 18,
    "start_time": "2021-10-10T08:36:33.801Z"
   },
   {
    "duration": 17,
    "start_time": "2021-10-10T08:38:39.877Z"
   },
   {
    "duration": 18,
    "start_time": "2021-10-10T08:38:47.386Z"
   },
   {
    "duration": 5,
    "start_time": "2021-10-10T08:44:00.722Z"
   },
   {
    "duration": 57,
    "start_time": "2021-10-10T08:46:48.078Z"
   },
   {
    "duration": 15,
    "start_time": "2021-10-10T08:46:55.633Z"
   },
   {
    "duration": 3,
    "start_time": "2021-10-10T08:46:58.935Z"
   },
   {
    "duration": 100,
    "start_time": "2021-10-10T08:46:58.941Z"
   },
   {
    "duration": 11,
    "start_time": "2021-10-10T08:46:59.044Z"
   },
   {
    "duration": 15,
    "start_time": "2021-10-10T08:46:59.057Z"
   },
   {
    "duration": 37,
    "start_time": "2021-10-10T08:46:59.074Z"
   },
   {
    "duration": 25,
    "start_time": "2021-10-10T08:46:59.113Z"
   },
   {
    "duration": 44,
    "start_time": "2021-10-10T08:46:59.140Z"
   },
   {
    "duration": 29,
    "start_time": "2021-10-10T08:46:59.186Z"
   },
   {
    "duration": 8,
    "start_time": "2021-10-10T08:46:59.218Z"
   },
   {
    "duration": 27,
    "start_time": "2021-10-10T08:46:59.228Z"
   },
   {
    "duration": 54,
    "start_time": "2021-10-10T08:46:59.257Z"
   },
   {
    "duration": 13,
    "start_time": "2021-10-10T08:47:14.580Z"
   },
   {
    "duration": 3,
    "start_time": "2021-10-10T08:47:17.081Z"
   },
   {
    "duration": 114,
    "start_time": "2021-10-10T08:47:17.086Z"
   },
   {
    "duration": 12,
    "start_time": "2021-10-10T08:47:17.203Z"
   },
   {
    "duration": 7,
    "start_time": "2021-10-10T08:47:17.218Z"
   },
   {
    "duration": 33,
    "start_time": "2021-10-10T08:47:17.227Z"
   },
   {
    "duration": 14,
    "start_time": "2021-10-10T08:47:17.262Z"
   },
   {
    "duration": 28,
    "start_time": "2021-10-10T08:47:17.278Z"
   },
   {
    "duration": 11,
    "start_time": "2021-10-10T08:47:17.308Z"
   },
   {
    "duration": 5,
    "start_time": "2021-10-10T08:47:17.350Z"
   },
   {
    "duration": 17,
    "start_time": "2021-10-10T08:47:17.357Z"
   },
   {
    "duration": 48,
    "start_time": "2021-10-10T08:47:17.376Z"
   },
   {
    "duration": 12,
    "start_time": "2021-10-10T08:47:50.281Z"
   },
   {
    "duration": 11,
    "start_time": "2021-10-10T08:47:53.485Z"
   },
   {
    "duration": 3,
    "start_time": "2021-10-10T08:47:54.966Z"
   },
   {
    "duration": 102,
    "start_time": "2021-10-10T08:47:54.971Z"
   },
   {
    "duration": 11,
    "start_time": "2021-10-10T08:47:55.075Z"
   },
   {
    "duration": 6,
    "start_time": "2021-10-10T08:47:55.088Z"
   },
   {
    "duration": 32,
    "start_time": "2021-10-10T08:47:55.095Z"
   },
   {
    "duration": 13,
    "start_time": "2021-10-10T08:47:55.128Z"
   },
   {
    "duration": 31,
    "start_time": "2021-10-10T08:47:55.143Z"
   },
   {
    "duration": 10,
    "start_time": "2021-10-10T08:47:55.176Z"
   },
   {
    "duration": 5,
    "start_time": "2021-10-10T08:47:55.188Z"
   },
   {
    "duration": 20,
    "start_time": "2021-10-10T08:47:55.194Z"
   },
   {
    "duration": 47,
    "start_time": "2021-10-10T08:47:55.216Z"
   },
   {
    "duration": 15,
    "start_time": "2021-10-10T08:48:02.833Z"
   },
   {
    "duration": 4,
    "start_time": "2021-10-10T08:48:06.294Z"
   },
   {
    "duration": 102,
    "start_time": "2021-10-10T08:48:06.300Z"
   },
   {
    "duration": 11,
    "start_time": "2021-10-10T08:48:06.404Z"
   },
   {
    "duration": 6,
    "start_time": "2021-10-10T08:48:06.417Z"
   },
   {
    "duration": 28,
    "start_time": "2021-10-10T08:48:06.424Z"
   },
   {
    "duration": 13,
    "start_time": "2021-10-10T08:48:06.453Z"
   },
   {
    "duration": 26,
    "start_time": "2021-10-10T08:48:06.468Z"
   },
   {
    "duration": 10,
    "start_time": "2021-10-10T08:48:06.496Z"
   },
   {
    "duration": 4,
    "start_time": "2021-10-10T08:48:06.509Z"
   },
   {
    "duration": 47,
    "start_time": "2021-10-10T08:48:06.515Z"
   },
   {
    "duration": 17,
    "start_time": "2021-10-10T08:48:06.564Z"
   },
   {
    "duration": 17,
    "start_time": "2021-10-10T08:48:52.776Z"
   },
   {
    "duration": 23,
    "start_time": "2021-10-10T08:49:11.053Z"
   },
   {
    "duration": 15,
    "start_time": "2021-10-10T08:49:20.992Z"
   },
   {
    "duration": 3,
    "start_time": "2021-10-10T08:49:23.238Z"
   },
   {
    "duration": 102,
    "start_time": "2021-10-10T08:49:23.243Z"
   },
   {
    "duration": 13,
    "start_time": "2021-10-10T08:49:23.347Z"
   },
   {
    "duration": 7,
    "start_time": "2021-10-10T08:49:23.363Z"
   },
   {
    "duration": 34,
    "start_time": "2021-10-10T08:49:23.372Z"
   },
   {
    "duration": 40,
    "start_time": "2021-10-10T08:49:23.409Z"
   },
   {
    "duration": 29,
    "start_time": "2021-10-10T08:49:23.452Z"
   },
   {
    "duration": 12,
    "start_time": "2021-10-10T08:49:23.483Z"
   },
   {
    "duration": 6,
    "start_time": "2021-10-10T08:49:23.498Z"
   },
   {
    "duration": 48,
    "start_time": "2021-10-10T08:49:23.507Z"
   },
   {
    "duration": 21,
    "start_time": "2021-10-10T08:49:23.558Z"
   },
   {
    "duration": 5,
    "start_time": "2021-10-10T08:50:21.202Z"
   },
   {
    "duration": 17,
    "start_time": "2021-10-10T08:50:33.847Z"
   },
   {
    "duration": 270,
    "start_time": "2021-10-10T08:51:25.226Z"
   },
   {
    "duration": 16,
    "start_time": "2021-10-10T08:51:31.380Z"
   },
   {
    "duration": 230,
    "start_time": "2021-10-10T09:02:49.105Z"
   },
   {
    "duration": 14,
    "start_time": "2021-10-10T09:02:52.708Z"
   },
   {
    "duration": 228,
    "start_time": "2021-10-10T09:04:20.907Z"
   },
   {
    "duration": 66,
    "start_time": "2021-10-10T09:04:50.967Z"
   },
   {
    "duration": 14,
    "start_time": "2021-10-10T09:04:52.727Z"
   },
   {
    "duration": 36,
    "start_time": "2021-10-10T09:05:12.297Z"
   },
   {
    "duration": 26,
    "start_time": "2021-10-10T09:05:27.738Z"
   },
   {
    "duration": 5,
    "start_time": "2021-10-10T09:05:39.616Z"
   },
   {
    "duration": 8,
    "start_time": "2021-10-10T09:05:57.986Z"
   },
   {
    "duration": 210,
    "start_time": "2021-10-10T09:06:05.913Z"
   },
   {
    "duration": 8,
    "start_time": "2021-10-10T09:06:29.108Z"
   },
   {
    "duration": 9,
    "start_time": "2021-10-10T09:06:41.280Z"
   },
   {
    "duration": 7,
    "start_time": "2021-10-10T09:06:46.444Z"
   },
   {
    "duration": 847,
    "start_time": "2021-10-10T09:10:12.171Z"
   },
   {
    "duration": 881,
    "start_time": "2021-10-10T09:10:26.097Z"
   },
   {
    "duration": 357,
    "start_time": "2021-10-10T09:19:08.891Z"
   },
   {
    "duration": 218,
    "start_time": "2021-10-10T09:22:00.966Z"
   },
   {
    "duration": 8,
    "start_time": "2021-10-10T09:22:14.759Z"
   },
   {
    "duration": 6,
    "start_time": "2021-10-10T09:22:34.614Z"
   },
   {
    "duration": 4,
    "start_time": "2021-10-10T09:22:40.006Z"
   },
   {
    "duration": 3,
    "start_time": "2021-10-10T09:22:43.343Z"
   },
   {
    "duration": 101,
    "start_time": "2021-10-10T09:22:43.348Z"
   },
   {
    "duration": 11,
    "start_time": "2021-10-10T09:22:43.451Z"
   },
   {
    "duration": 11,
    "start_time": "2021-10-10T09:22:43.464Z"
   },
   {
    "duration": 36,
    "start_time": "2021-10-10T09:22:43.477Z"
   },
   {
    "duration": 12,
    "start_time": "2021-10-10T09:22:43.515Z"
   },
   {
    "duration": 45,
    "start_time": "2021-10-10T09:22:43.529Z"
   },
   {
    "duration": 4,
    "start_time": "2021-10-10T09:22:43.575Z"
   },
   {
    "duration": 13,
    "start_time": "2021-10-10T09:22:43.581Z"
   },
   {
    "duration": 6,
    "start_time": "2021-10-10T09:22:43.596Z"
   },
   {
    "duration": 47,
    "start_time": "2021-10-10T09:22:43.604Z"
   },
   {
    "duration": 218,
    "start_time": "2021-10-10T09:22:43.653Z"
   },
   {
    "duration": 586,
    "start_time": "2021-10-10T09:22:43.288Z"
   },
   {
    "duration": 581,
    "start_time": "2021-10-10T09:22:43.294Z"
   },
   {
    "duration": 3,
    "start_time": "2021-10-10T09:22:54.660Z"
   },
   {
    "duration": 221,
    "start_time": "2021-10-10T09:22:55.561Z"
   },
   {
    "duration": 5029,
    "start_time": "2021-10-10T09:25:11.692Z"
   },
   {
    "duration": 9,
    "start_time": "2021-10-10T09:25:37.462Z"
   },
   {
    "duration": 3,
    "start_time": "2021-10-10T09:26:07.462Z"
   },
   {
    "duration": 11,
    "start_time": "2021-10-10T09:26:07.922Z"
   },
   {
    "duration": 6,
    "start_time": "2021-10-10T09:26:08.173Z"
   },
   {
    "duration": 16,
    "start_time": "2021-10-10T09:26:08.712Z"
   },
   {
    "duration": 216,
    "start_time": "2021-10-10T09:26:08.974Z"
   },
   {
    "duration": 10,
    "start_time": "2021-10-10T09:26:09.302Z"
   },
   {
    "duration": 2,
    "start_time": "2021-10-10T09:26:29.774Z"
   },
   {
    "duration": 10,
    "start_time": "2021-10-10T09:26:30.053Z"
   },
   {
    "duration": 5,
    "start_time": "2021-10-10T09:26:43.961Z"
   },
   {
    "duration": 110,
    "start_time": "2021-10-10T09:26:43.968Z"
   },
   {
    "duration": 11,
    "start_time": "2021-10-10T09:26:44.080Z"
   },
   {
    "duration": 6,
    "start_time": "2021-10-10T09:26:44.093Z"
   },
   {
    "duration": 32,
    "start_time": "2021-10-10T09:26:44.101Z"
   },
   {
    "duration": 15,
    "start_time": "2021-10-10T09:26:44.135Z"
   },
   {
    "duration": 27,
    "start_time": "2021-10-10T09:26:44.152Z"
   },
   {
    "duration": 2,
    "start_time": "2021-10-10T09:26:44.180Z"
   },
   {
    "duration": 13,
    "start_time": "2021-10-10T09:26:44.185Z"
   },
   {
    "duration": 4,
    "start_time": "2021-10-10T09:26:44.200Z"
   },
   {
    "duration": 45,
    "start_time": "2021-10-10T09:26:44.206Z"
   },
   {
    "duration": 6,
    "start_time": "2021-10-10T09:26:44.253Z"
   },
   {
    "duration": 12,
    "start_time": "2021-10-10T09:26:44.261Z"
   },
   {
    "duration": 24,
    "start_time": "2021-10-10T09:26:44.275Z"
   },
   {
    "duration": 8,
    "start_time": "2021-10-10T09:26:50.750Z"
   },
   {
    "duration": 5,
    "start_time": "2021-10-10T09:27:25.476Z"
   },
   {
    "duration": 11,
    "start_time": "2021-10-10T09:27:26.156Z"
   },
   {
    "duration": 5,
    "start_time": "2021-10-10T09:27:26.357Z"
   },
   {
    "duration": 20,
    "start_time": "2021-10-10T09:27:26.700Z"
   },
   {
    "duration": 9,
    "start_time": "2021-10-10T09:27:27.076Z"
   },
   {
    "duration": 8,
    "start_time": "2021-10-10T09:27:27.462Z"
   },
   {
    "duration": 15,
    "start_time": "2021-10-10T09:27:27.969Z"
   },
   {
    "duration": 9,
    "start_time": "2021-10-10T09:27:38.769Z"
   },
   {
    "duration": 9,
    "start_time": "2021-10-10T09:27:45.551Z"
   },
   {
    "duration": 15,
    "start_time": "2021-10-10T09:27:45.953Z"
   },
   {
    "duration": 7,
    "start_time": "2021-10-10T09:27:59.985Z"
   },
   {
    "duration": 16,
    "start_time": "2021-10-10T09:28:43.556Z"
   },
   {
    "duration": 31,
    "start_time": "2021-10-10T09:29:34.633Z"
   },
   {
    "duration": 10,
    "start_time": "2021-10-10T09:29:40.820Z"
   },
   {
    "duration": 8,
    "start_time": "2021-10-10T09:33:26.061Z"
   },
   {
    "duration": 8,
    "start_time": "2021-10-10T09:33:29.147Z"
   },
   {
    "duration": 7,
    "start_time": "2021-10-10T09:33:30.834Z"
   },
   {
    "duration": 8,
    "start_time": "2021-10-10T09:33:32.809Z"
   },
   {
    "duration": 8,
    "start_time": "2021-10-10T09:33:34.208Z"
   },
   {
    "duration": 8,
    "start_time": "2021-10-10T09:33:36.333Z"
   },
   {
    "duration": 8,
    "start_time": "2021-10-10T09:33:37.562Z"
   },
   {
    "duration": 8,
    "start_time": "2021-10-10T09:33:38.909Z"
   },
   {
    "duration": 8,
    "start_time": "2021-10-10T09:33:42.420Z"
   },
   {
    "duration": 8,
    "start_time": "2021-10-10T09:33:44.775Z"
   },
   {
    "duration": 9,
    "start_time": "2021-10-10T09:36:38.496Z"
   },
   {
    "duration": 589,
    "start_time": "2021-10-10T09:37:21.569Z"
   },
   {
    "duration": 568,
    "start_time": "2021-10-10T09:37:33.427Z"
   },
   {
    "duration": 7,
    "start_time": "2021-10-10T09:37:54.068Z"
   },
   {
    "duration": 4,
    "start_time": "2021-10-10T09:37:56.739Z"
   },
   {
    "duration": 99,
    "start_time": "2021-10-10T09:37:56.745Z"
   },
   {
    "duration": 11,
    "start_time": "2021-10-10T09:37:56.846Z"
   },
   {
    "duration": 8,
    "start_time": "2021-10-10T09:37:56.860Z"
   },
   {
    "duration": 32,
    "start_time": "2021-10-10T09:37:56.870Z"
   },
   {
    "duration": 12,
    "start_time": "2021-10-10T09:37:56.903Z"
   },
   {
    "duration": 27,
    "start_time": "2021-10-10T09:37:56.950Z"
   },
   {
    "duration": 4,
    "start_time": "2021-10-10T09:37:56.978Z"
   },
   {
    "duration": 18,
    "start_time": "2021-10-10T09:37:56.984Z"
   },
   {
    "duration": 6,
    "start_time": "2021-10-10T09:37:57.004Z"
   },
   {
    "duration": 49,
    "start_time": "2021-10-10T09:37:57.011Z"
   },
   {
    "duration": 9,
    "start_time": "2021-10-10T09:37:57.062Z"
   },
   {
    "duration": 8,
    "start_time": "2021-10-10T09:37:57.080Z"
   },
   {
    "duration": 367,
    "start_time": "2021-10-10T09:37:57.090Z"
   },
   {
    "duration": 583,
    "start_time": "2021-10-10T09:37:56.877Z"
   },
   {
    "duration": 5,
    "start_time": "2021-10-10T09:38:17.510Z"
   },
   {
    "duration": 98,
    "start_time": "2021-10-10T09:38:17.517Z"
   },
   {
    "duration": 11,
    "start_time": "2021-10-10T09:38:17.617Z"
   },
   {
    "duration": 5,
    "start_time": "2021-10-10T09:38:17.630Z"
   },
   {
    "duration": 29,
    "start_time": "2021-10-10T09:38:17.637Z"
   },
   {
    "duration": 13,
    "start_time": "2021-10-10T09:38:17.668Z"
   },
   {
    "duration": 27,
    "start_time": "2021-10-10T09:38:17.682Z"
   },
   {
    "duration": 3,
    "start_time": "2021-10-10T09:38:17.711Z"
   },
   {
    "duration": 34,
    "start_time": "2021-10-10T09:38:17.716Z"
   },
   {
    "duration": 5,
    "start_time": "2021-10-10T09:38:17.752Z"
   },
   {
    "duration": 17,
    "start_time": "2021-10-10T09:38:17.758Z"
   },
   {
    "duration": 9,
    "start_time": "2021-10-10T09:38:17.777Z"
   },
   {
    "duration": 13,
    "start_time": "2021-10-10T09:38:17.787Z"
   },
   {
    "duration": 379,
    "start_time": "2021-10-10T09:38:17.802Z"
   },
   {
    "duration": 578,
    "start_time": "2021-10-10T09:38:17.605Z"
   },
   {
    "duration": 3,
    "start_time": "2021-10-10T09:38:23.632Z"
   },
   {
    "duration": 9,
    "start_time": "2021-10-10T09:38:24.085Z"
   },
   {
    "duration": 545,
    "start_time": "2021-10-10T09:38:24.505Z"
   },
   {
    "duration": 13,
    "start_time": "2021-10-10T09:38:43.259Z"
   },
   {
    "duration": 15,
    "start_time": "2021-10-10T09:38:59.233Z"
   },
   {
    "duration": 80,
    "start_time": "2021-10-10T09:39:00.889Z"
   },
   {
    "duration": 7,
    "start_time": "2021-10-10T09:39:10.830Z"
   },
   {
    "duration": 3,
    "start_time": "2021-10-10T09:39:16.274Z"
   },
   {
    "duration": 109,
    "start_time": "2021-10-10T09:39:16.280Z"
   },
   {
    "duration": 12,
    "start_time": "2021-10-10T09:39:16.391Z"
   },
   {
    "duration": 11,
    "start_time": "2021-10-10T09:39:16.405Z"
   },
   {
    "duration": 36,
    "start_time": "2021-10-10T09:39:16.418Z"
   },
   {
    "duration": 12,
    "start_time": "2021-10-10T09:39:16.456Z"
   },
   {
    "duration": 27,
    "start_time": "2021-10-10T09:39:16.470Z"
   },
   {
    "duration": 8,
    "start_time": "2021-10-10T09:39:16.499Z"
   },
   {
    "duration": 19,
    "start_time": "2021-10-10T09:39:16.509Z"
   },
   {
    "duration": 22,
    "start_time": "2021-10-10T09:39:16.530Z"
   },
   {
    "duration": 31,
    "start_time": "2021-10-10T09:39:16.553Z"
   },
   {
    "duration": 34,
    "start_time": "2021-10-10T09:39:16.585Z"
   },
   {
    "duration": 44,
    "start_time": "2021-10-10T09:39:16.621Z"
   },
   {
    "duration": 87,
    "start_time": "2021-10-10T09:39:16.666Z"
   },
   {
    "duration": 22,
    "start_time": "2021-10-10T09:39:16.755Z"
   },
   {
    "duration": 536,
    "start_time": "2021-10-10T09:39:24.825Z"
   },
   {
    "duration": 7,
    "start_time": "2021-10-10T09:39:32.571Z"
   },
   {
    "duration": 101,
    "start_time": "2021-10-10T09:39:32.581Z"
   },
   {
    "duration": 12,
    "start_time": "2021-10-10T09:39:32.685Z"
   },
   {
    "duration": 8,
    "start_time": "2021-10-10T09:39:32.699Z"
   },
   {
    "duration": 31,
    "start_time": "2021-10-10T09:39:32.709Z"
   },
   {
    "duration": 13,
    "start_time": "2021-10-10T09:39:32.742Z"
   },
   {
    "duration": 28,
    "start_time": "2021-10-10T09:39:32.757Z"
   },
   {
    "duration": 4,
    "start_time": "2021-10-10T09:39:32.787Z"
   },
   {
    "duration": 13,
    "start_time": "2021-10-10T09:39:32.794Z"
   },
   {
    "duration": 7,
    "start_time": "2021-10-10T09:39:32.809Z"
   },
   {
    "duration": 16,
    "start_time": "2021-10-10T09:39:32.850Z"
   },
   {
    "duration": 10,
    "start_time": "2021-10-10T09:39:32.868Z"
   },
   {
    "duration": 15,
    "start_time": "2021-10-10T09:39:32.880Z"
   },
   {
    "duration": 158,
    "start_time": "2021-10-10T09:39:32.897Z"
   },
   {
    "duration": 4,
    "start_time": "2021-10-10T09:39:33.969Z"
   },
   {
    "duration": 105,
    "start_time": "2021-10-10T09:39:33.975Z"
   },
   {
    "duration": 11,
    "start_time": "2021-10-10T09:39:34.082Z"
   },
   {
    "duration": 12,
    "start_time": "2021-10-10T09:39:34.095Z"
   },
   {
    "duration": 31,
    "start_time": "2021-10-10T09:39:34.109Z"
   },
   {
    "duration": 14,
    "start_time": "2021-10-10T09:39:34.143Z"
   },
   {
    "duration": 28,
    "start_time": "2021-10-10T09:39:34.159Z"
   },
   {
    "duration": 5,
    "start_time": "2021-10-10T09:39:34.190Z"
   },
   {
    "duration": 13,
    "start_time": "2021-10-10T09:39:34.198Z"
   },
   {
    "duration": 36,
    "start_time": "2021-10-10T09:39:34.213Z"
   },
   {
    "duration": 15,
    "start_time": "2021-10-10T09:39:34.252Z"
   },
   {
    "duration": 9,
    "start_time": "2021-10-10T09:39:34.270Z"
   },
   {
    "duration": 13,
    "start_time": "2021-10-10T09:39:34.281Z"
   },
   {
    "duration": 120,
    "start_time": "2021-10-10T09:39:34.296Z"
   },
   {
    "duration": 31,
    "start_time": "2021-10-10T09:39:34.418Z"
   },
   {
    "duration": 8,
    "start_time": "2021-10-10T09:42:21.793Z"
   },
   {
    "duration": 219,
    "start_time": "2021-10-10T09:42:22.177Z"
   },
   {
    "duration": 516,
    "start_time": "2021-10-10T09:42:22.453Z"
   },
   {
    "duration": 4,
    "start_time": "2021-10-10T09:42:24.323Z"
   },
   {
    "duration": 100,
    "start_time": "2021-10-10T09:42:24.328Z"
   },
   {
    "duration": 10,
    "start_time": "2021-10-10T09:42:24.430Z"
   },
   {
    "duration": 9,
    "start_time": "2021-10-10T09:42:24.442Z"
   },
   {
    "duration": 28,
    "start_time": "2021-10-10T09:42:24.453Z"
   },
   {
    "duration": 12,
    "start_time": "2021-10-10T09:42:24.482Z"
   },
   {
    "duration": 26,
    "start_time": "2021-10-10T09:42:24.496Z"
   },
   {
    "duration": 29,
    "start_time": "2021-10-10T09:42:24.523Z"
   },
   {
    "duration": 14,
    "start_time": "2021-10-10T09:42:24.555Z"
   },
   {
    "duration": 5,
    "start_time": "2021-10-10T09:42:24.571Z"
   },
   {
    "duration": 16,
    "start_time": "2021-10-10T09:42:24.577Z"
   },
   {
    "duration": 10,
    "start_time": "2021-10-10T09:42:24.595Z"
   },
   {
    "duration": 11,
    "start_time": "2021-10-10T09:42:24.607Z"
   },
   {
    "duration": 87,
    "start_time": "2021-10-10T09:42:24.649Z"
   },
   {
    "duration": 30,
    "start_time": "2021-10-10T09:42:24.738Z"
   },
   {
    "duration": 8,
    "start_time": "2021-10-10T09:42:55.772Z"
   },
   {
    "duration": 4,
    "start_time": "2021-10-10T09:43:09.996Z"
   },
   {
    "duration": 6,
    "start_time": "2021-10-10T09:44:58.816Z"
   },
   {
    "duration": 6,
    "start_time": "2021-10-10T09:45:09.093Z"
   },
   {
    "duration": 5,
    "start_time": "2021-10-10T10:18:29.369Z"
   },
   {
    "duration": 72,
    "start_time": "2021-10-10T10:19:47.987Z"
   },
   {
    "duration": 370,
    "start_time": "2021-10-10T10:20:28.369Z"
   },
   {
    "duration": 448,
    "start_time": "2021-10-10T10:21:09.638Z"
   },
   {
    "duration": 469,
    "start_time": "2021-10-10T10:24:58.639Z"
   },
   {
    "duration": 209,
    "start_time": "2021-10-10T10:25:03.838Z"
   },
   {
    "duration": 3,
    "start_time": "2021-10-10T10:25:13.209Z"
   },
   {
    "duration": 110,
    "start_time": "2021-10-10T10:25:13.214Z"
   },
   {
    "duration": 11,
    "start_time": "2021-10-10T10:25:13.326Z"
   },
   {
    "duration": 14,
    "start_time": "2021-10-10T10:25:13.339Z"
   },
   {
    "duration": 39,
    "start_time": "2021-10-10T10:25:13.355Z"
   },
   {
    "duration": 13,
    "start_time": "2021-10-10T10:25:13.396Z"
   },
   {
    "duration": 38,
    "start_time": "2021-10-10T10:25:13.411Z"
   },
   {
    "duration": 5,
    "start_time": "2021-10-10T10:25:13.451Z"
   },
   {
    "duration": 13,
    "start_time": "2021-10-10T10:25:13.458Z"
   },
   {
    "duration": 15,
    "start_time": "2021-10-10T10:25:13.473Z"
   },
   {
    "duration": 9,
    "start_time": "2021-10-10T10:25:13.490Z"
   },
   {
    "duration": 12,
    "start_time": "2021-10-10T10:25:13.501Z"
   },
   {
    "duration": 122,
    "start_time": "2021-10-10T10:25:13.515Z"
   },
   {
    "duration": 11,
    "start_time": "2021-10-10T10:25:13.639Z"
   },
   {
    "duration": 23,
    "start_time": "2021-10-10T10:25:13.651Z"
   },
   {
    "duration": 28,
    "start_time": "2021-10-10T10:25:13.675Z"
   },
   {
    "duration": 216,
    "start_time": "2021-10-10T10:25:38.695Z"
   },
   {
    "duration": 3,
    "start_time": "2021-10-10T10:25:41.819Z"
   },
   {
    "duration": 102,
    "start_time": "2021-10-10T10:25:41.824Z"
   },
   {
    "duration": 12,
    "start_time": "2021-10-10T10:25:41.928Z"
   },
   {
    "duration": 7,
    "start_time": "2021-10-10T10:25:41.942Z"
   },
   {
    "duration": 33,
    "start_time": "2021-10-10T10:25:41.951Z"
   },
   {
    "duration": 13,
    "start_time": "2021-10-10T10:25:41.986Z"
   },
   {
    "duration": 26,
    "start_time": "2021-10-10T10:25:42.001Z"
   },
   {
    "duration": 4,
    "start_time": "2021-10-10T10:25:42.051Z"
   },
   {
    "duration": 14,
    "start_time": "2021-10-10T10:25:42.057Z"
   },
   {
    "duration": 18,
    "start_time": "2021-10-10T10:25:42.073Z"
   },
   {
    "duration": 19,
    "start_time": "2021-10-10T10:25:42.093Z"
   },
   {
    "duration": 21,
    "start_time": "2021-10-10T10:25:42.114Z"
   },
   {
    "duration": 106,
    "start_time": "2021-10-10T10:25:42.137Z"
   },
   {
    "duration": 6,
    "start_time": "2021-10-10T10:25:42.245Z"
   },
   {
    "duration": 17,
    "start_time": "2021-10-10T10:25:42.252Z"
   },
   {
    "duration": 23,
    "start_time": "2021-10-10T10:25:42.271Z"
   },
   {
    "duration": 244,
    "start_time": "2021-10-10T10:26:22.675Z"
   },
   {
    "duration": 4,
    "start_time": "2021-10-10T10:26:25.967Z"
   },
   {
    "duration": 99,
    "start_time": "2021-10-10T10:26:25.973Z"
   },
   {
    "duration": 12,
    "start_time": "2021-10-10T10:26:26.074Z"
   },
   {
    "duration": 11,
    "start_time": "2021-10-10T10:26:26.089Z"
   },
   {
    "duration": 34,
    "start_time": "2021-10-10T10:26:26.102Z"
   },
   {
    "duration": 14,
    "start_time": "2021-10-10T10:26:26.139Z"
   },
   {
    "duration": 28,
    "start_time": "2021-10-10T10:26:26.155Z"
   },
   {
    "duration": 4,
    "start_time": "2021-10-10T10:26:26.185Z"
   },
   {
    "duration": 24,
    "start_time": "2021-10-10T10:26:26.192Z"
   },
   {
    "duration": 36,
    "start_time": "2021-10-10T10:26:26.218Z"
   },
   {
    "duration": 11,
    "start_time": "2021-10-10T10:26:26.256Z"
   },
   {
    "duration": 13,
    "start_time": "2021-10-10T10:26:26.270Z"
   },
   {
    "duration": 117,
    "start_time": "2021-10-10T10:26:26.285Z"
   },
   {
    "duration": 6,
    "start_time": "2021-10-10T10:26:26.405Z"
   },
   {
    "duration": 14,
    "start_time": "2021-10-10T10:26:26.413Z"
   },
   {
    "duration": 43,
    "start_time": "2021-10-10T10:26:26.429Z"
   },
   {
    "duration": 212,
    "start_time": "2021-10-10T10:26:34.138Z"
   },
   {
    "duration": 7,
    "start_time": "2021-10-10T10:26:43.126Z"
   },
   {
    "duration": 219,
    "start_time": "2021-10-10T10:26:43.834Z"
   },
   {
    "duration": 16,
    "start_time": "2021-10-10T10:26:44.557Z"
   },
   {
    "duration": 4,
    "start_time": "2021-10-10T10:26:47.115Z"
   },
   {
    "duration": 107,
    "start_time": "2021-10-10T10:26:47.121Z"
   },
   {
    "duration": 12,
    "start_time": "2021-10-10T10:26:47.230Z"
   },
   {
    "duration": 7,
    "start_time": "2021-10-10T10:26:47.244Z"
   },
   {
    "duration": 33,
    "start_time": "2021-10-10T10:26:47.252Z"
   },
   {
    "duration": 17,
    "start_time": "2021-10-10T10:26:47.287Z"
   },
   {
    "duration": 53,
    "start_time": "2021-10-10T10:26:47.306Z"
   },
   {
    "duration": 4,
    "start_time": "2021-10-10T10:26:47.361Z"
   },
   {
    "duration": 17,
    "start_time": "2021-10-10T10:26:47.367Z"
   },
   {
    "duration": 14,
    "start_time": "2021-10-10T10:26:47.386Z"
   },
   {
    "duration": 10,
    "start_time": "2021-10-10T10:26:47.402Z"
   },
   {
    "duration": 36,
    "start_time": "2021-10-10T10:26:47.413Z"
   },
   {
    "duration": 91,
    "start_time": "2021-10-10T10:26:47.451Z"
   },
   {
    "duration": 5,
    "start_time": "2021-10-10T10:26:47.549Z"
   },
   {
    "duration": 14,
    "start_time": "2021-10-10T10:26:47.555Z"
   },
   {
    "duration": 22,
    "start_time": "2021-10-10T10:26:47.571Z"
   },
   {
    "duration": 595,
    "start_time": "2021-10-10T10:27:11.718Z"
   },
   {
    "duration": 6,
    "start_time": "2021-10-10T10:27:12.995Z"
   },
   {
    "duration": 217,
    "start_time": "2021-10-10T10:27:13.480Z"
   },
   {
    "duration": 223,
    "start_time": "2021-10-10T10:28:13.933Z"
   },
   {
    "duration": 4,
    "start_time": "2021-10-10T10:28:19.403Z"
   },
   {
    "duration": 99,
    "start_time": "2021-10-10T10:28:19.409Z"
   },
   {
    "duration": 12,
    "start_time": "2021-10-10T10:28:19.511Z"
   },
   {
    "duration": 9,
    "start_time": "2021-10-10T10:28:19.525Z"
   },
   {
    "duration": 32,
    "start_time": "2021-10-10T10:28:19.536Z"
   },
   {
    "duration": 12,
    "start_time": "2021-10-10T10:28:19.570Z"
   },
   {
    "duration": 26,
    "start_time": "2021-10-10T10:28:19.583Z"
   },
   {
    "duration": 3,
    "start_time": "2021-10-10T10:28:19.611Z"
   },
   {
    "duration": 33,
    "start_time": "2021-10-10T10:28:19.617Z"
   },
   {
    "duration": 17,
    "start_time": "2021-10-10T10:28:19.653Z"
   },
   {
    "duration": 8,
    "start_time": "2021-10-10T10:28:19.672Z"
   },
   {
    "duration": 13,
    "start_time": "2021-10-10T10:28:19.681Z"
   },
   {
    "duration": 114,
    "start_time": "2021-10-10T10:28:19.695Z"
   },
   {
    "duration": 4,
    "start_time": "2021-10-10T10:28:19.811Z"
   },
   {
    "duration": 11,
    "start_time": "2021-10-10T10:28:19.817Z"
   },
   {
    "duration": 40,
    "start_time": "2021-10-10T10:28:19.830Z"
   },
   {
    "duration": 210,
    "start_time": "2021-10-10T10:28:29.754Z"
   },
   {
    "duration": 221,
    "start_time": "2021-10-10T10:28:43.599Z"
   },
   {
    "duration": 238,
    "start_time": "2021-10-10T10:28:59.011Z"
   },
   {
    "duration": 209,
    "start_time": "2021-10-10T10:29:09.610Z"
   },
   {
    "duration": 217,
    "start_time": "2021-10-10T10:29:45.747Z"
   },
   {
    "duration": 211,
    "start_time": "2021-10-10T10:29:58.115Z"
   },
   {
    "duration": 4,
    "start_time": "2021-10-10T10:30:09.294Z"
   },
   {
    "duration": 106,
    "start_time": "2021-10-10T10:30:09.301Z"
   },
   {
    "duration": 11,
    "start_time": "2021-10-10T10:30:09.410Z"
   },
   {
    "duration": 7,
    "start_time": "2021-10-10T10:30:09.424Z"
   },
   {
    "duration": 33,
    "start_time": "2021-10-10T10:30:09.433Z"
   },
   {
    "duration": 12,
    "start_time": "2021-10-10T10:30:09.468Z"
   },
   {
    "duration": 26,
    "start_time": "2021-10-10T10:30:09.482Z"
   },
   {
    "duration": 5,
    "start_time": "2021-10-10T10:30:09.510Z"
   },
   {
    "duration": 36,
    "start_time": "2021-10-10T10:30:09.518Z"
   },
   {
    "duration": 14,
    "start_time": "2021-10-10T10:30:09.556Z"
   },
   {
    "duration": 7,
    "start_time": "2021-10-10T10:30:09.573Z"
   },
   {
    "duration": 11,
    "start_time": "2021-10-10T10:30:09.582Z"
   },
   {
    "duration": 123,
    "start_time": "2021-10-10T10:30:09.594Z"
   },
   {
    "duration": 5,
    "start_time": "2021-10-10T10:30:09.718Z"
   },
   {
    "duration": 26,
    "start_time": "2021-10-10T10:30:09.725Z"
   },
   {
    "duration": 25,
    "start_time": "2021-10-10T10:30:09.753Z"
   },
   {
    "duration": 273,
    "start_time": "2021-10-10T10:30:19.849Z"
   },
   {
    "duration": 4,
    "start_time": "2021-10-10T10:30:23.309Z"
   },
   {
    "duration": 101,
    "start_time": "2021-10-10T10:30:23.316Z"
   },
   {
    "duration": 11,
    "start_time": "2021-10-10T10:30:23.420Z"
   },
   {
    "duration": 8,
    "start_time": "2021-10-10T10:30:23.433Z"
   },
   {
    "duration": 27,
    "start_time": "2021-10-10T10:30:23.443Z"
   },
   {
    "duration": 12,
    "start_time": "2021-10-10T10:30:23.472Z"
   },
   {
    "duration": 27,
    "start_time": "2021-10-10T10:30:23.486Z"
   },
   {
    "duration": 4,
    "start_time": "2021-10-10T10:30:23.515Z"
   },
   {
    "duration": 35,
    "start_time": "2021-10-10T10:30:23.521Z"
   },
   {
    "duration": 15,
    "start_time": "2021-10-10T10:30:23.558Z"
   },
   {
    "duration": 9,
    "start_time": "2021-10-10T10:30:23.574Z"
   },
   {
    "duration": 11,
    "start_time": "2021-10-10T10:30:23.585Z"
   },
   {
    "duration": 117,
    "start_time": "2021-10-10T10:30:23.598Z"
   },
   {
    "duration": 5,
    "start_time": "2021-10-10T10:30:23.716Z"
   },
   {
    "duration": 13,
    "start_time": "2021-10-10T10:30:23.723Z"
   },
   {
    "duration": 23,
    "start_time": "2021-10-10T10:30:23.750Z"
   },
   {
    "duration": 211,
    "start_time": "2021-10-10T10:37:11.598Z"
   },
   {
    "duration": 220,
    "start_time": "2021-10-10T10:37:29.095Z"
   },
   {
    "duration": 4,
    "start_time": "2021-10-10T10:37:35.520Z"
   },
   {
    "duration": 128,
    "start_time": "2021-10-10T10:37:35.527Z"
   },
   {
    "duration": 11,
    "start_time": "2021-10-10T10:37:35.658Z"
   },
   {
    "duration": 14,
    "start_time": "2021-10-10T10:37:35.671Z"
   },
   {
    "duration": 45,
    "start_time": "2021-10-10T10:37:35.687Z"
   },
   {
    "duration": 12,
    "start_time": "2021-10-10T10:37:35.734Z"
   },
   {
    "duration": 29,
    "start_time": "2021-10-10T10:37:35.749Z"
   },
   {
    "duration": 4,
    "start_time": "2021-10-10T10:37:35.780Z"
   },
   {
    "duration": 30,
    "start_time": "2021-10-10T10:37:35.787Z"
   },
   {
    "duration": 22,
    "start_time": "2021-10-10T10:37:35.819Z"
   },
   {
    "duration": 22,
    "start_time": "2021-10-10T10:37:35.843Z"
   },
   {
    "duration": 19,
    "start_time": "2021-10-10T10:37:35.867Z"
   },
   {
    "duration": 117,
    "start_time": "2021-10-10T10:37:35.888Z"
   },
   {
    "duration": 4,
    "start_time": "2021-10-10T10:37:36.007Z"
   },
   {
    "duration": 18,
    "start_time": "2021-10-10T10:37:36.013Z"
   },
   {
    "duration": 35,
    "start_time": "2021-10-10T10:37:36.032Z"
   },
   {
    "duration": 11,
    "start_time": "2021-10-10T10:37:36.069Z"
   },
   {
    "duration": 251,
    "start_time": "2021-10-10T10:37:51.399Z"
   },
   {
    "duration": 4,
    "start_time": "2021-10-10T10:37:53.256Z"
   },
   {
    "duration": 103,
    "start_time": "2021-10-10T10:37:53.262Z"
   },
   {
    "duration": 12,
    "start_time": "2021-10-10T10:37:53.368Z"
   },
   {
    "duration": 6,
    "start_time": "2021-10-10T10:37:53.382Z"
   },
   {
    "duration": 30,
    "start_time": "2021-10-10T10:37:53.390Z"
   },
   {
    "duration": 12,
    "start_time": "2021-10-10T10:37:53.422Z"
   },
   {
    "duration": 28,
    "start_time": "2021-10-10T10:37:53.450Z"
   },
   {
    "duration": 4,
    "start_time": "2021-10-10T10:37:53.480Z"
   },
   {
    "duration": 17,
    "start_time": "2021-10-10T10:37:53.486Z"
   },
   {
    "duration": 16,
    "start_time": "2021-10-10T10:37:53.505Z"
   },
   {
    "duration": 33,
    "start_time": "2021-10-10T10:37:53.523Z"
   },
   {
    "duration": 12,
    "start_time": "2021-10-10T10:37:53.557Z"
   },
   {
    "duration": 113,
    "start_time": "2021-10-10T10:37:53.571Z"
   },
   {
    "duration": 4,
    "start_time": "2021-10-10T10:37:53.686Z"
   },
   {
    "duration": 14,
    "start_time": "2021-10-10T10:37:53.692Z"
   },
   {
    "duration": 43,
    "start_time": "2021-10-10T10:37:53.708Z"
   },
   {
    "duration": 215,
    "start_time": "2021-10-10T10:37:53.753Z"
   },
   {
    "duration": 208,
    "start_time": "2021-10-10T10:38:25.866Z"
   },
   {
    "duration": 307,
    "start_time": "2021-10-10T10:38:48.063Z"
   },
   {
    "duration": 247,
    "start_time": "2021-10-10T10:41:52.845Z"
   },
   {
    "duration": 4,
    "start_time": "2021-10-10T10:42:09.762Z"
   },
   {
    "duration": 105,
    "start_time": "2021-10-10T10:42:09.768Z"
   },
   {
    "duration": 12,
    "start_time": "2021-10-10T10:42:09.875Z"
   },
   {
    "duration": 8,
    "start_time": "2021-10-10T10:42:09.889Z"
   },
   {
    "duration": 32,
    "start_time": "2021-10-10T10:42:09.899Z"
   },
   {
    "duration": 16,
    "start_time": "2021-10-10T10:42:09.933Z"
   },
   {
    "duration": 27,
    "start_time": "2021-10-10T10:42:09.951Z"
   },
   {
    "duration": 4,
    "start_time": "2021-10-10T10:42:09.979Z"
   },
   {
    "duration": 12,
    "start_time": "2021-10-10T10:42:09.986Z"
   },
   {
    "duration": 19,
    "start_time": "2021-10-10T10:42:10.000Z"
   },
   {
    "duration": 9,
    "start_time": "2021-10-10T10:42:10.050Z"
   },
   {
    "duration": 13,
    "start_time": "2021-10-10T10:42:10.061Z"
   },
   {
    "duration": 106,
    "start_time": "2021-10-10T10:42:10.076Z"
   },
   {
    "duration": 4,
    "start_time": "2021-10-10T10:42:10.184Z"
   },
   {
    "duration": 15,
    "start_time": "2021-10-10T10:42:10.190Z"
   },
   {
    "duration": 45,
    "start_time": "2021-10-10T10:42:10.207Z"
   },
   {
    "duration": 7,
    "start_time": "2021-10-10T10:42:10.254Z"
   },
   {
    "duration": 8,
    "start_time": "2021-10-10T10:42:26.520Z"
   },
   {
    "duration": 8,
    "start_time": "2021-10-10T10:42:28.764Z"
   },
   {
    "duration": 4,
    "start_time": "2021-10-10T10:42:30.601Z"
   },
   {
    "duration": 115,
    "start_time": "2021-10-10T10:42:30.607Z"
   },
   {
    "duration": 12,
    "start_time": "2021-10-10T10:42:30.724Z"
   },
   {
    "duration": 20,
    "start_time": "2021-10-10T10:42:30.738Z"
   },
   {
    "duration": 41,
    "start_time": "2021-10-10T10:42:30.760Z"
   },
   {
    "duration": 14,
    "start_time": "2021-10-10T10:42:30.803Z"
   },
   {
    "duration": 33,
    "start_time": "2021-10-10T10:42:30.818Z"
   },
   {
    "duration": 4,
    "start_time": "2021-10-10T10:42:30.853Z"
   },
   {
    "duration": 21,
    "start_time": "2021-10-10T10:42:30.860Z"
   },
   {
    "duration": 30,
    "start_time": "2021-10-10T10:42:30.883Z"
   },
   {
    "duration": 19,
    "start_time": "2021-10-10T10:42:30.915Z"
   },
   {
    "duration": 22,
    "start_time": "2021-10-10T10:42:30.936Z"
   },
   {
    "duration": 101,
    "start_time": "2021-10-10T10:42:30.960Z"
   },
   {
    "duration": 5,
    "start_time": "2021-10-10T10:42:31.063Z"
   },
   {
    "duration": 17,
    "start_time": "2021-10-10T10:42:31.070Z"
   },
   {
    "duration": 42,
    "start_time": "2021-10-10T10:42:31.089Z"
   },
   {
    "duration": 230,
    "start_time": "2021-10-10T10:42:31.133Z"
   },
   {
    "duration": 225,
    "start_time": "2021-10-10T10:42:33.481Z"
   },
   {
    "duration": 219,
    "start_time": "2021-10-10T10:42:41.020Z"
   },
   {
    "duration": 3,
    "start_time": "2021-10-10T10:42:42.733Z"
   },
   {
    "duration": 123,
    "start_time": "2021-10-10T10:42:42.738Z"
   },
   {
    "duration": 11,
    "start_time": "2021-10-10T10:42:42.863Z"
   },
   {
    "duration": 6,
    "start_time": "2021-10-10T10:42:42.877Z"
   },
   {
    "duration": 30,
    "start_time": "2021-10-10T10:42:42.885Z"
   },
   {
    "duration": 14,
    "start_time": "2021-10-10T10:42:42.917Z"
   },
   {
    "duration": 43,
    "start_time": "2021-10-10T10:42:42.933Z"
   },
   {
    "duration": 4,
    "start_time": "2021-10-10T10:42:42.977Z"
   },
   {
    "duration": 19,
    "start_time": "2021-10-10T10:42:42.983Z"
   },
   {
    "duration": 16,
    "start_time": "2021-10-10T10:42:43.005Z"
   },
   {
    "duration": 31,
    "start_time": "2021-10-10T10:42:43.023Z"
   },
   {
    "duration": 13,
    "start_time": "2021-10-10T10:42:43.056Z"
   },
   {
    "duration": 111,
    "start_time": "2021-10-10T10:42:43.071Z"
   },
   {
    "duration": 4,
    "start_time": "2021-10-10T10:42:43.184Z"
   },
   {
    "duration": 15,
    "start_time": "2021-10-10T10:42:43.190Z"
   },
   {
    "duration": 26,
    "start_time": "2021-10-10T10:42:43.207Z"
   },
   {
    "duration": 227,
    "start_time": "2021-10-10T10:42:43.235Z"
   },
   {
    "duration": 212,
    "start_time": "2021-10-10T10:42:45.393Z"
   },
   {
    "duration": 4,
    "start_time": "2021-10-10T10:42:51.207Z"
   },
   {
    "duration": 100,
    "start_time": "2021-10-10T10:42:51.212Z"
   },
   {
    "duration": 12,
    "start_time": "2021-10-10T10:42:51.315Z"
   },
   {
    "duration": 8,
    "start_time": "2021-10-10T10:42:51.329Z"
   },
   {
    "duration": 30,
    "start_time": "2021-10-10T10:42:51.338Z"
   },
   {
    "duration": 13,
    "start_time": "2021-10-10T10:42:51.370Z"
   },
   {
    "duration": 27,
    "start_time": "2021-10-10T10:42:51.384Z"
   },
   {
    "duration": 4,
    "start_time": "2021-10-10T10:42:51.412Z"
   },
   {
    "duration": 34,
    "start_time": "2021-10-10T10:42:51.418Z"
   },
   {
    "duration": 18,
    "start_time": "2021-10-10T10:42:51.453Z"
   },
   {
    "duration": 8,
    "start_time": "2021-10-10T10:42:51.473Z"
   },
   {
    "duration": 14,
    "start_time": "2021-10-10T10:42:51.483Z"
   },
   {
    "duration": 110,
    "start_time": "2021-10-10T10:42:51.498Z"
   },
   {
    "duration": 5,
    "start_time": "2021-10-10T10:42:51.609Z"
   },
   {
    "duration": 13,
    "start_time": "2021-10-10T10:42:51.615Z"
   },
   {
    "duration": 39,
    "start_time": "2021-10-10T10:42:51.629Z"
   },
   {
    "duration": 221,
    "start_time": "2021-10-10T10:42:51.670Z"
   },
   {
    "duration": 18,
    "start_time": "2021-10-10T10:43:02.526Z"
   },
   {
    "duration": 251,
    "start_time": "2021-10-10T10:43:32.181Z"
   },
   {
    "duration": 4,
    "start_time": "2021-10-10T10:43:37.455Z"
   },
   {
    "duration": 116,
    "start_time": "2021-10-10T10:43:37.462Z"
   },
   {
    "duration": 12,
    "start_time": "2021-10-10T10:43:37.580Z"
   },
   {
    "duration": 23,
    "start_time": "2021-10-10T10:43:37.593Z"
   },
   {
    "duration": 47,
    "start_time": "2021-10-10T10:43:37.618Z"
   },
   {
    "duration": 17,
    "start_time": "2021-10-10T10:43:37.667Z"
   },
   {
    "duration": 26,
    "start_time": "2021-10-10T10:43:37.685Z"
   },
   {
    "duration": 4,
    "start_time": "2021-10-10T10:43:37.713Z"
   },
   {
    "duration": 30,
    "start_time": "2021-10-10T10:43:37.719Z"
   },
   {
    "duration": 26,
    "start_time": "2021-10-10T10:43:37.752Z"
   },
   {
    "duration": 31,
    "start_time": "2021-10-10T10:43:37.780Z"
   },
   {
    "duration": 30,
    "start_time": "2021-10-10T10:43:37.812Z"
   },
   {
    "duration": 104,
    "start_time": "2021-10-10T10:43:37.844Z"
   },
   {
    "duration": 5,
    "start_time": "2021-10-10T10:43:37.950Z"
   },
   {
    "duration": 25,
    "start_time": "2021-10-10T10:43:37.956Z"
   },
   {
    "duration": 38,
    "start_time": "2021-10-10T10:43:37.982Z"
   },
   {
    "duration": 13,
    "start_time": "2021-10-10T10:43:38.021Z"
   },
   {
    "duration": 7,
    "start_time": "2021-10-10T10:43:39.722Z"
   },
   {
    "duration": 9,
    "start_time": "2021-10-10T10:43:40.917Z"
   },
   {
    "duration": 7,
    "start_time": "2021-10-10T10:43:42.407Z"
   },
   {
    "duration": 9,
    "start_time": "2021-10-10T10:44:03.311Z"
   },
   {
    "duration": 13,
    "start_time": "2021-10-10T10:44:03.891Z"
   },
   {
    "duration": 4,
    "start_time": "2021-10-10T10:44:10.160Z"
   },
   {
    "duration": 105,
    "start_time": "2021-10-10T10:44:10.166Z"
   },
   {
    "duration": 11,
    "start_time": "2021-10-10T10:44:10.273Z"
   },
   {
    "duration": 6,
    "start_time": "2021-10-10T10:44:10.286Z"
   },
   {
    "duration": 30,
    "start_time": "2021-10-10T10:44:10.293Z"
   },
   {
    "duration": 14,
    "start_time": "2021-10-10T10:44:10.325Z"
   },
   {
    "duration": 38,
    "start_time": "2021-10-10T10:44:10.341Z"
   },
   {
    "duration": 4,
    "start_time": "2021-10-10T10:44:10.380Z"
   },
   {
    "duration": 14,
    "start_time": "2021-10-10T10:44:10.386Z"
   },
   {
    "duration": 15,
    "start_time": "2021-10-10T10:44:10.402Z"
   },
   {
    "duration": 40,
    "start_time": "2021-10-10T10:44:10.419Z"
   },
   {
    "duration": 15,
    "start_time": "2021-10-10T10:44:10.461Z"
   },
   {
    "duration": 100,
    "start_time": "2021-10-10T10:44:10.477Z"
   },
   {
    "duration": 5,
    "start_time": "2021-10-10T10:44:10.580Z"
   },
   {
    "duration": 12,
    "start_time": "2021-10-10T10:44:10.588Z"
   },
   {
    "duration": 51,
    "start_time": "2021-10-10T10:44:10.602Z"
   },
   {
    "duration": 233,
    "start_time": "2021-10-10T10:44:10.655Z"
   },
   {
    "duration": 215,
    "start_time": "2021-10-10T10:44:55.508Z"
   },
   {
    "duration": 4,
    "start_time": "2021-10-10T10:44:59.324Z"
   },
   {
    "duration": 102,
    "start_time": "2021-10-10T10:44:59.330Z"
   },
   {
    "duration": 11,
    "start_time": "2021-10-10T10:44:59.434Z"
   },
   {
    "duration": 7,
    "start_time": "2021-10-10T10:44:59.446Z"
   },
   {
    "duration": 33,
    "start_time": "2021-10-10T10:44:59.454Z"
   },
   {
    "duration": 13,
    "start_time": "2021-10-10T10:44:59.489Z"
   },
   {
    "duration": 28,
    "start_time": "2021-10-10T10:44:59.503Z"
   },
   {
    "duration": 4,
    "start_time": "2021-10-10T10:44:59.549Z"
   },
   {
    "duration": 15,
    "start_time": "2021-10-10T10:44:59.556Z"
   },
   {
    "duration": 16,
    "start_time": "2021-10-10T10:44:59.573Z"
   },
   {
    "duration": 13,
    "start_time": "2021-10-10T10:44:59.591Z"
   },
   {
    "duration": 13,
    "start_time": "2021-10-10T10:44:59.606Z"
   },
   {
    "duration": 115,
    "start_time": "2021-10-10T10:44:59.621Z"
   },
   {
    "duration": 13,
    "start_time": "2021-10-10T10:44:59.737Z"
   },
   {
    "duration": 14,
    "start_time": "2021-10-10T10:44:59.752Z"
   },
   {
    "duration": 22,
    "start_time": "2021-10-10T10:44:59.767Z"
   },
   {
    "duration": 9,
    "start_time": "2021-10-10T10:45:12.267Z"
   },
   {
    "duration": 9,
    "start_time": "2021-10-10T10:45:17.439Z"
   },
   {
    "duration": 14,
    "start_time": "2021-10-10T10:45:17.752Z"
   },
   {
    "duration": 220,
    "start_time": "2021-10-10T10:45:26.515Z"
   },
   {
    "duration": 15,
    "start_time": "2021-10-10T10:45:26.777Z"
   },
   {
    "duration": 5,
    "start_time": "2021-10-10T10:45:29.372Z"
   },
   {
    "duration": 102,
    "start_time": "2021-10-10T10:45:29.379Z"
   },
   {
    "duration": 12,
    "start_time": "2021-10-10T10:45:29.483Z"
   },
   {
    "duration": 7,
    "start_time": "2021-10-10T10:45:29.497Z"
   },
   {
    "duration": 31,
    "start_time": "2021-10-10T10:45:29.506Z"
   },
   {
    "duration": 13,
    "start_time": "2021-10-10T10:45:29.539Z"
   },
   {
    "duration": 30,
    "start_time": "2021-10-10T10:45:29.554Z"
   },
   {
    "duration": 4,
    "start_time": "2021-10-10T10:45:29.585Z"
   },
   {
    "duration": 16,
    "start_time": "2021-10-10T10:45:29.591Z"
   },
   {
    "duration": 39,
    "start_time": "2021-10-10T10:45:29.610Z"
   },
   {
    "duration": 8,
    "start_time": "2021-10-10T10:45:29.651Z"
   },
   {
    "duration": 13,
    "start_time": "2021-10-10T10:45:29.661Z"
   },
   {
    "duration": 107,
    "start_time": "2021-10-10T10:45:29.676Z"
   },
   {
    "duration": 5,
    "start_time": "2021-10-10T10:45:29.785Z"
   },
   {
    "duration": 13,
    "start_time": "2021-10-10T10:45:29.791Z"
   },
   {
    "duration": 43,
    "start_time": "2021-10-10T10:45:29.806Z"
   },
   {
    "duration": 226,
    "start_time": "2021-10-10T10:46:10.192Z"
   },
   {
    "duration": 4,
    "start_time": "2021-10-10T10:46:14.151Z"
   },
   {
    "duration": 105,
    "start_time": "2021-10-10T10:46:14.157Z"
   },
   {
    "duration": 11,
    "start_time": "2021-10-10T10:46:14.264Z"
   },
   {
    "duration": 6,
    "start_time": "2021-10-10T10:46:14.277Z"
   },
   {
    "duration": 31,
    "start_time": "2021-10-10T10:46:14.285Z"
   },
   {
    "duration": 32,
    "start_time": "2021-10-10T10:46:14.318Z"
   },
   {
    "duration": 28,
    "start_time": "2021-10-10T10:46:14.352Z"
   },
   {
    "duration": 3,
    "start_time": "2021-10-10T10:46:14.382Z"
   },
   {
    "duration": 15,
    "start_time": "2021-10-10T10:46:14.388Z"
   },
   {
    "duration": 16,
    "start_time": "2021-10-10T10:46:14.405Z"
   },
   {
    "duration": 33,
    "start_time": "2021-10-10T10:46:14.422Z"
   },
   {
    "duration": 13,
    "start_time": "2021-10-10T10:46:14.457Z"
   },
   {
    "duration": 103,
    "start_time": "2021-10-10T10:46:14.471Z"
   },
   {
    "duration": 5,
    "start_time": "2021-10-10T10:46:14.575Z"
   },
   {
    "duration": 12,
    "start_time": "2021-10-10T10:46:14.581Z"
   },
   {
    "duration": 27,
    "start_time": "2021-10-10T10:46:14.595Z"
   },
   {
    "duration": 687,
    "start_time": "2021-10-10T10:46:16.639Z"
   },
   {
    "duration": 2261,
    "start_time": "2021-10-10T10:46:25.728Z"
   },
   {
    "duration": 997,
    "start_time": "2021-10-10T10:46:32.304Z"
   },
   {
    "duration": 210,
    "start_time": "2021-10-10T10:49:13.644Z"
   },
   {
    "duration": 218,
    "start_time": "2021-10-10T10:49:54.960Z"
   },
   {
    "duration": 5,
    "start_time": "2021-10-10T10:49:57.928Z"
   },
   {
    "duration": 209,
    "start_time": "2021-10-10T10:49:59.375Z"
   },
   {
    "duration": 15,
    "start_time": "2021-10-10T10:50:00.615Z"
   },
   {
    "duration": 3,
    "start_time": "2021-10-10T10:50:14.534Z"
   },
   {
    "duration": 18,
    "start_time": "2021-10-10T10:50:28.505Z"
   },
   {
    "duration": 228,
    "start_time": "2021-10-10T10:50:35.856Z"
   },
   {
    "duration": 276,
    "start_time": "2021-10-10T10:50:37.794Z"
   },
   {
    "duration": 4,
    "start_time": "2021-10-10T10:50:45.040Z"
   },
   {
    "duration": 100,
    "start_time": "2021-10-10T10:50:45.046Z"
   },
   {
    "duration": 11,
    "start_time": "2021-10-10T10:50:45.149Z"
   },
   {
    "duration": 7,
    "start_time": "2021-10-10T10:50:45.162Z"
   },
   {
    "duration": 29,
    "start_time": "2021-10-10T10:50:45.171Z"
   },
   {
    "duration": 12,
    "start_time": "2021-10-10T10:50:45.202Z"
   },
   {
    "duration": 54,
    "start_time": "2021-10-10T10:50:45.216Z"
   },
   {
    "duration": 4,
    "start_time": "2021-10-10T10:50:45.272Z"
   },
   {
    "duration": 17,
    "start_time": "2021-10-10T10:50:45.278Z"
   },
   {
    "duration": 16,
    "start_time": "2021-10-10T10:50:45.297Z"
   },
   {
    "duration": 9,
    "start_time": "2021-10-10T10:50:45.315Z"
   },
   {
    "duration": 12,
    "start_time": "2021-10-10T10:50:45.349Z"
   },
   {
    "duration": 106,
    "start_time": "2021-10-10T10:50:45.364Z"
   },
   {
    "duration": 5,
    "start_time": "2021-10-10T10:50:45.472Z"
   },
   {
    "duration": 5,
    "start_time": "2021-10-10T10:50:45.479Z"
   },
   {
    "duration": 25,
    "start_time": "2021-10-10T10:50:45.486Z"
   },
   {
    "duration": 4,
    "start_time": "2021-10-10T10:50:58.777Z"
   },
   {
    "duration": 102,
    "start_time": "2021-10-10T10:50:58.783Z"
   },
   {
    "duration": 11,
    "start_time": "2021-10-10T10:50:58.887Z"
   },
   {
    "duration": 8,
    "start_time": "2021-10-10T10:50:58.900Z"
   },
   {
    "duration": 29,
    "start_time": "2021-10-10T10:50:58.909Z"
   },
   {
    "duration": 12,
    "start_time": "2021-10-10T10:50:58.940Z"
   },
   {
    "duration": 29,
    "start_time": "2021-10-10T10:50:58.953Z"
   },
   {
    "duration": 4,
    "start_time": "2021-10-10T10:50:58.985Z"
   },
   {
    "duration": 13,
    "start_time": "2021-10-10T10:50:58.991Z"
   },
   {
    "duration": 15,
    "start_time": "2021-10-10T10:50:59.006Z"
   },
   {
    "duration": 30,
    "start_time": "2021-10-10T10:50:59.022Z"
   },
   {
    "duration": 10,
    "start_time": "2021-10-10T10:50:59.054Z"
   },
   {
    "duration": 116,
    "start_time": "2021-10-10T10:50:59.066Z"
   },
   {
    "duration": 4,
    "start_time": "2021-10-10T10:50:59.184Z"
   },
   {
    "duration": 8,
    "start_time": "2021-10-10T10:50:59.190Z"
   },
   {
    "duration": 29,
    "start_time": "2021-10-10T10:50:59.200Z"
   },
   {
    "duration": 4,
    "start_time": "2021-10-10T10:51:33.195Z"
   },
   {
    "duration": 101,
    "start_time": "2021-10-10T10:51:33.202Z"
   },
   {
    "duration": 11,
    "start_time": "2021-10-10T10:51:33.306Z"
   },
   {
    "duration": 11,
    "start_time": "2021-10-10T10:51:33.319Z"
   },
   {
    "duration": 30,
    "start_time": "2021-10-10T10:51:33.332Z"
   },
   {
    "duration": 12,
    "start_time": "2021-10-10T10:51:33.364Z"
   },
   {
    "duration": 28,
    "start_time": "2021-10-10T10:51:33.378Z"
   },
   {
    "duration": 5,
    "start_time": "2021-10-10T10:51:33.407Z"
   },
   {
    "duration": 40,
    "start_time": "2021-10-10T10:51:33.414Z"
   },
   {
    "duration": 16,
    "start_time": "2021-10-10T10:51:33.456Z"
   },
   {
    "duration": 30,
    "start_time": "2021-10-10T10:51:33.474Z"
   },
   {
    "duration": 17,
    "start_time": "2021-10-10T10:51:33.506Z"
   },
   {
    "duration": 113,
    "start_time": "2021-10-10T10:51:33.525Z"
   },
   {
    "duration": 10,
    "start_time": "2021-10-10T10:51:33.640Z"
   },
   {
    "duration": 36,
    "start_time": "2021-10-10T10:51:33.652Z"
   },
   {
    "duration": 41,
    "start_time": "2021-10-10T10:51:33.689Z"
   },
   {
    "duration": 217,
    "start_time": "2021-10-10T10:54:13.203Z"
   },
   {
    "duration": 18,
    "start_time": "2021-10-10T10:54:23.886Z"
   },
   {
    "duration": 4,
    "start_time": "2021-10-10T10:54:32.116Z"
   },
   {
    "duration": 125,
    "start_time": "2021-10-10T10:54:32.121Z"
   },
   {
    "duration": 11,
    "start_time": "2021-10-10T10:54:32.248Z"
   },
   {
    "duration": 18,
    "start_time": "2021-10-10T10:54:32.261Z"
   },
   {
    "duration": 38,
    "start_time": "2021-10-10T10:54:32.281Z"
   },
   {
    "duration": 13,
    "start_time": "2021-10-10T10:54:32.320Z"
   },
   {
    "duration": 36,
    "start_time": "2021-10-10T10:54:32.335Z"
   },
   {
    "duration": 4,
    "start_time": "2021-10-10T10:54:32.374Z"
   },
   {
    "duration": 17,
    "start_time": "2021-10-10T10:54:32.380Z"
   },
   {
    "duration": 22,
    "start_time": "2021-10-10T10:54:32.399Z"
   },
   {
    "duration": 28,
    "start_time": "2021-10-10T10:54:32.423Z"
   },
   {
    "duration": 14,
    "start_time": "2021-10-10T10:54:32.453Z"
   },
   {
    "duration": 103,
    "start_time": "2021-10-10T10:54:32.469Z"
   },
   {
    "duration": 5,
    "start_time": "2021-10-10T10:54:32.573Z"
   },
   {
    "duration": 19,
    "start_time": "2021-10-10T10:54:32.579Z"
   },
   {
    "duration": 27,
    "start_time": "2021-10-10T10:54:32.600Z"
   },
   {
    "duration": 36,
    "start_time": "2021-10-10T10:54:32.628Z"
   },
   {
    "duration": 12,
    "start_time": "2021-10-10T10:54:54.314Z"
   },
   {
    "duration": 11,
    "start_time": "2021-10-10T10:55:24.077Z"
   },
   {
    "duration": 10,
    "start_time": "2021-10-10T10:55:39.239Z"
   },
   {
    "duration": 23,
    "start_time": "2021-10-10T10:55:51.629Z"
   },
   {
    "duration": 18,
    "start_time": "2021-10-10T10:56:17.643Z"
   },
   {
    "duration": 20,
    "start_time": "2021-10-10T10:56:39.894Z"
   },
   {
    "duration": 20,
    "start_time": "2021-10-10T10:56:51.884Z"
   },
   {
    "duration": 6,
    "start_time": "2021-10-10T10:57:33.266Z"
   },
   {
    "duration": 15,
    "start_time": "2021-10-10T10:58:07.094Z"
   },
   {
    "duration": 4,
    "start_time": "2021-10-10T10:58:11.418Z"
   },
   {
    "duration": 101,
    "start_time": "2021-10-10T10:58:11.424Z"
   },
   {
    "duration": 14,
    "start_time": "2021-10-10T10:58:11.527Z"
   },
   {
    "duration": 8,
    "start_time": "2021-10-10T10:58:11.544Z"
   },
   {
    "duration": 45,
    "start_time": "2021-10-10T10:58:11.554Z"
   },
   {
    "duration": 19,
    "start_time": "2021-10-10T10:58:11.601Z"
   },
   {
    "duration": 44,
    "start_time": "2021-10-10T10:58:11.622Z"
   },
   {
    "duration": 4,
    "start_time": "2021-10-10T10:58:11.668Z"
   },
   {
    "duration": 14,
    "start_time": "2021-10-10T10:58:11.674Z"
   },
   {
    "duration": 14,
    "start_time": "2021-10-10T10:58:11.690Z"
   },
   {
    "duration": 13,
    "start_time": "2021-10-10T10:58:11.706Z"
   },
   {
    "duration": 33,
    "start_time": "2021-10-10T10:58:11.720Z"
   },
   {
    "duration": 103,
    "start_time": "2021-10-10T10:58:11.755Z"
   },
   {
    "duration": 4,
    "start_time": "2021-10-10T10:58:11.860Z"
   },
   {
    "duration": 16,
    "start_time": "2021-10-10T10:58:11.866Z"
   },
   {
    "duration": 17,
    "start_time": "2021-10-10T10:58:11.884Z"
   },
   {
    "duration": 24,
    "start_time": "2021-10-10T10:58:11.903Z"
   },
   {
    "duration": 26,
    "start_time": "2021-10-10T10:58:11.928Z"
   },
   {
    "duration": 15,
    "start_time": "2021-10-10T10:58:11.955Z"
   },
   {
    "duration": 18,
    "start_time": "2021-10-10T10:58:16.906Z"
   },
   {
    "duration": 20,
    "start_time": "2021-10-10T10:58:44.361Z"
   },
   {
    "duration": 18,
    "start_time": "2021-10-10T10:58:57.902Z"
   },
   {
    "duration": 8,
    "start_time": "2021-10-10T11:00:57.044Z"
   },
   {
    "duration": 5,
    "start_time": "2021-10-10T11:01:09.524Z"
   },
   {
    "duration": 24,
    "start_time": "2021-10-10T11:01:18.546Z"
   },
   {
    "duration": 8,
    "start_time": "2021-10-10T11:03:15.005Z"
   },
   {
    "duration": 19,
    "start_time": "2021-10-10T11:03:31.225Z"
   },
   {
    "duration": 8,
    "start_time": "2021-10-10T11:04:26.867Z"
   },
   {
    "duration": 8,
    "start_time": "2021-10-10T11:04:40.005Z"
   },
   {
    "duration": 6,
    "start_time": "2021-10-10T11:05:15.419Z"
   },
   {
    "duration": 12,
    "start_time": "2021-10-10T11:05:17.280Z"
   },
   {
    "duration": 14,
    "start_time": "2021-10-10T11:05:34.717Z"
   },
   {
    "duration": 4,
    "start_time": "2021-10-10T11:05:55.189Z"
   },
   {
    "duration": 101,
    "start_time": "2021-10-10T11:05:55.195Z"
   },
   {
    "duration": 13,
    "start_time": "2021-10-10T11:05:55.298Z"
   },
   {
    "duration": 7,
    "start_time": "2021-10-10T11:05:55.313Z"
   },
   {
    "duration": 35,
    "start_time": "2021-10-10T11:05:55.321Z"
   },
   {
    "duration": 12,
    "start_time": "2021-10-10T11:05:55.358Z"
   },
   {
    "duration": 36,
    "start_time": "2021-10-10T11:05:55.372Z"
   },
   {
    "duration": 13,
    "start_time": "2021-10-10T11:05:55.410Z"
   },
   {
    "duration": 11,
    "start_time": "2021-10-10T11:05:55.450Z"
   },
   {
    "duration": 14,
    "start_time": "2021-10-10T11:05:55.464Z"
   },
   {
    "duration": 10,
    "start_time": "2021-10-10T11:05:55.479Z"
   },
   {
    "duration": 13,
    "start_time": "2021-10-10T11:05:55.490Z"
   },
   {
    "duration": 114,
    "start_time": "2021-10-10T11:05:55.505Z"
   },
   {
    "duration": 5,
    "start_time": "2021-10-10T11:05:55.621Z"
   },
   {
    "duration": 24,
    "start_time": "2021-10-10T11:05:55.628Z"
   },
   {
    "duration": 21,
    "start_time": "2021-10-10T11:05:55.654Z"
   },
   {
    "duration": 25,
    "start_time": "2021-10-10T11:05:55.677Z"
   },
   {
    "duration": 7,
    "start_time": "2021-10-10T11:06:47.064Z"
   },
   {
    "duration": 10,
    "start_time": "2021-10-10T11:06:49.543Z"
   },
   {
    "duration": 17,
    "start_time": "2021-10-10T11:06:49.709Z"
   },
   {
    "duration": 7,
    "start_time": "2021-10-10T11:06:49.917Z"
   },
   {
    "duration": 233,
    "start_time": "2021-10-10T11:06:50.114Z"
   },
   {
    "duration": 578,
    "start_time": "2021-10-10T11:06:49.771Z"
   },
   {
    "duration": 4,
    "start_time": "2021-10-10T11:06:50.531Z"
   },
   {
    "duration": 209,
    "start_time": "2021-10-10T11:06:50.781Z"
   },
   {
    "duration": 4,
    "start_time": "2021-10-10T11:06:53.067Z"
   },
   {
    "duration": 102,
    "start_time": "2021-10-10T11:06:53.073Z"
   },
   {
    "duration": 12,
    "start_time": "2021-10-10T11:06:53.177Z"
   },
   {
    "duration": 5,
    "start_time": "2021-10-10T11:06:53.191Z"
   },
   {
    "duration": 33,
    "start_time": "2021-10-10T11:06:53.198Z"
   },
   {
    "duration": 13,
    "start_time": "2021-10-10T11:06:53.233Z"
   },
   {
    "duration": 27,
    "start_time": "2021-10-10T11:06:53.248Z"
   },
   {
    "duration": 5,
    "start_time": "2021-10-10T11:06:53.277Z"
   },
   {
    "duration": 10,
    "start_time": "2021-10-10T11:06:53.285Z"
   },
   {
    "duration": 15,
    "start_time": "2021-10-10T11:06:53.297Z"
   },
   {
    "duration": 38,
    "start_time": "2021-10-10T11:06:53.314Z"
   },
   {
    "duration": 12,
    "start_time": "2021-10-10T11:06:53.354Z"
   },
   {
    "duration": 102,
    "start_time": "2021-10-10T11:06:53.368Z"
   },
   {
    "duration": 5,
    "start_time": "2021-10-10T11:06:53.472Z"
   },
   {
    "duration": 15,
    "start_time": "2021-10-10T11:06:53.478Z"
   },
   {
    "duration": 27,
    "start_time": "2021-10-10T11:06:53.495Z"
   },
   {
    "duration": 34,
    "start_time": "2021-10-10T11:06:53.524Z"
   },
   {
    "duration": 13,
    "start_time": "2021-10-10T11:07:07.047Z"
   },
   {
    "duration": 3,
    "start_time": "2021-10-10T11:07:08.651Z"
   },
   {
    "duration": 100,
    "start_time": "2021-10-10T11:07:08.656Z"
   },
   {
    "duration": 10,
    "start_time": "2021-10-10T11:07:08.759Z"
   },
   {
    "duration": 5,
    "start_time": "2021-10-10T11:07:08.771Z"
   },
   {
    "duration": 29,
    "start_time": "2021-10-10T11:07:08.778Z"
   },
   {
    "duration": 13,
    "start_time": "2021-10-10T11:07:08.809Z"
   },
   {
    "duration": 45,
    "start_time": "2021-10-10T11:07:08.824Z"
   },
   {
    "duration": 6,
    "start_time": "2021-10-10T11:07:08.870Z"
   },
   {
    "duration": 25,
    "start_time": "2021-10-10T11:07:08.878Z"
   },
   {
    "duration": 20,
    "start_time": "2021-10-10T11:07:08.905Z"
   },
   {
    "duration": 29,
    "start_time": "2021-10-10T11:07:08.926Z"
   },
   {
    "duration": 27,
    "start_time": "2021-10-10T11:07:08.957Z"
   },
   {
    "duration": 112,
    "start_time": "2021-10-10T11:07:08.985Z"
   },
   {
    "duration": 4,
    "start_time": "2021-10-10T11:07:09.099Z"
   },
   {
    "duration": 19,
    "start_time": "2021-10-10T11:07:09.105Z"
   },
   {
    "duration": 25,
    "start_time": "2021-10-10T11:07:09.126Z"
   },
   {
    "duration": 45,
    "start_time": "2021-10-10T11:07:09.152Z"
   },
   {
    "duration": 8,
    "start_time": "2021-10-10T11:07:31.131Z"
   },
   {
    "duration": 8,
    "start_time": "2021-10-10T11:07:47.844Z"
   },
   {
    "duration": 8,
    "start_time": "2021-10-10T11:08:03.986Z"
   },
   {
    "duration": 8,
    "start_time": "2021-10-10T11:08:10.213Z"
   },
   {
    "duration": 18,
    "start_time": "2021-10-10T11:10:26.179Z"
   },
   {
    "duration": 8,
    "start_time": "2021-10-10T11:10:27.463Z"
   },
   {
    "duration": 227,
    "start_time": "2021-10-10T11:10:52.554Z"
   },
   {
    "duration": 205,
    "start_time": "2021-10-10T11:14:31.774Z"
   },
   {
    "duration": 20,
    "start_time": "2021-10-10T11:14:41.145Z"
   },
   {
    "duration": 16,
    "start_time": "2021-10-10T11:14:43.086Z"
   },
   {
    "duration": 4,
    "start_time": "2021-10-10T11:14:47.266Z"
   },
   {
    "duration": 99,
    "start_time": "2021-10-10T11:14:47.272Z"
   },
   {
    "duration": 11,
    "start_time": "2021-10-10T11:14:47.373Z"
   },
   {
    "duration": 8,
    "start_time": "2021-10-10T11:14:47.386Z"
   },
   {
    "duration": 31,
    "start_time": "2021-10-10T11:14:47.396Z"
   },
   {
    "duration": 12,
    "start_time": "2021-10-10T11:14:47.429Z"
   },
   {
    "duration": 25,
    "start_time": "2021-10-10T11:14:47.449Z"
   },
   {
    "duration": 5,
    "start_time": "2021-10-10T11:14:47.477Z"
   },
   {
    "duration": 15,
    "start_time": "2021-10-10T11:14:47.484Z"
   },
   {
    "duration": 15,
    "start_time": "2021-10-10T11:14:47.501Z"
   },
   {
    "duration": 34,
    "start_time": "2021-10-10T11:14:47.518Z"
   },
   {
    "duration": 10,
    "start_time": "2021-10-10T11:14:47.554Z"
   },
   {
    "duration": 100,
    "start_time": "2021-10-10T11:14:47.565Z"
   },
   {
    "duration": 5,
    "start_time": "2021-10-10T11:14:47.666Z"
   },
   {
    "duration": 12,
    "start_time": "2021-10-10T11:14:47.673Z"
   },
   {
    "duration": 15,
    "start_time": "2021-10-10T11:14:47.687Z"
   },
   {
    "duration": 54,
    "start_time": "2021-10-10T11:14:47.703Z"
   },
   {
    "duration": 34,
    "start_time": "2021-10-10T11:14:47.759Z"
   },
   {
    "duration": 23,
    "start_time": "2021-10-10T11:14:55.136Z"
   },
   {
    "duration": 7,
    "start_time": "2021-10-10T11:14:55.938Z"
   },
   {
    "duration": 4,
    "start_time": "2021-10-10T11:14:58.170Z"
   },
   {
    "duration": 101,
    "start_time": "2021-10-10T11:14:58.176Z"
   },
   {
    "duration": 11,
    "start_time": "2021-10-10T11:14:58.279Z"
   },
   {
    "duration": 8,
    "start_time": "2021-10-10T11:14:58.292Z"
   },
   {
    "duration": 29,
    "start_time": "2021-10-10T11:14:58.302Z"
   },
   {
    "duration": 14,
    "start_time": "2021-10-10T11:14:58.333Z"
   },
   {
    "duration": 28,
    "start_time": "2021-10-10T11:14:58.349Z"
   },
   {
    "duration": 8,
    "start_time": "2021-10-10T11:14:58.379Z"
   },
   {
    "duration": 11,
    "start_time": "2021-10-10T11:14:58.390Z"
   },
   {
    "duration": 18,
    "start_time": "2021-10-10T11:14:58.403Z"
   },
   {
    "duration": 33,
    "start_time": "2021-10-10T11:14:58.423Z"
   },
   {
    "duration": 14,
    "start_time": "2021-10-10T11:14:58.457Z"
   },
   {
    "duration": 105,
    "start_time": "2021-10-10T11:14:58.473Z"
   },
   {
    "duration": 5,
    "start_time": "2021-10-10T11:14:58.580Z"
   },
   {
    "duration": 13,
    "start_time": "2021-10-10T11:14:58.586Z"
   },
   {
    "duration": 16,
    "start_time": "2021-10-10T11:14:58.601Z"
   },
   {
    "duration": 243,
    "start_time": "2021-10-10T11:14:58.619Z"
   },
   {
    "duration": 586,
    "start_time": "2021-10-10T11:14:58.278Z"
   },
   {
    "duration": 4,
    "start_time": "2021-10-10T11:15:04.800Z"
   },
   {
    "duration": 104,
    "start_time": "2021-10-10T11:15:04.806Z"
   },
   {
    "duration": 11,
    "start_time": "2021-10-10T11:15:04.912Z"
   },
   {
    "duration": 5,
    "start_time": "2021-10-10T11:15:04.925Z"
   },
   {
    "duration": 31,
    "start_time": "2021-10-10T11:15:04.931Z"
   },
   {
    "duration": 13,
    "start_time": "2021-10-10T11:15:04.964Z"
   },
   {
    "duration": 27,
    "start_time": "2021-10-10T11:15:04.979Z"
   },
   {
    "duration": 6,
    "start_time": "2021-10-10T11:15:05.007Z"
   },
   {
    "duration": 14,
    "start_time": "2021-10-10T11:15:05.015Z"
   },
   {
    "duration": 16,
    "start_time": "2021-10-10T11:15:05.050Z"
   },
   {
    "duration": 10,
    "start_time": "2021-10-10T11:15:05.068Z"
   },
   {
    "duration": 12,
    "start_time": "2021-10-10T11:15:05.080Z"
   },
   {
    "duration": 120,
    "start_time": "2021-10-10T11:15:05.093Z"
   },
   {
    "duration": 5,
    "start_time": "2021-10-10T11:15:05.215Z"
   },
   {
    "duration": 12,
    "start_time": "2021-10-10T11:15:05.221Z"
   },
   {
    "duration": 16,
    "start_time": "2021-10-10T11:15:05.250Z"
   },
   {
    "duration": 231,
    "start_time": "2021-10-10T11:15:05.268Z"
   },
   {
    "duration": 580,
    "start_time": "2021-10-10T11:15:04.921Z"
   },
   {
    "duration": 33,
    "start_time": "2021-10-10T11:15:09.307Z"
   },
   {
    "duration": 51,
    "start_time": "2021-10-10T11:15:10.962Z"
   },
   {
    "duration": 22,
    "start_time": "2021-10-10T11:16:02.770Z"
   },
   {
    "duration": 6,
    "start_time": "2021-10-10T11:16:03.349Z"
   },
   {
    "duration": 3,
    "start_time": "2021-10-10T11:16:05.270Z"
   },
   {
    "duration": 101,
    "start_time": "2021-10-10T11:16:05.275Z"
   },
   {
    "duration": 12,
    "start_time": "2021-10-10T11:16:05.378Z"
   },
   {
    "duration": 7,
    "start_time": "2021-10-10T11:16:05.392Z"
   },
   {
    "duration": 30,
    "start_time": "2021-10-10T11:16:05.400Z"
   },
   {
    "duration": 11,
    "start_time": "2021-10-10T11:16:05.432Z"
   },
   {
    "duration": 27,
    "start_time": "2021-10-10T11:16:05.445Z"
   },
   {
    "duration": 6,
    "start_time": "2021-10-10T11:16:05.474Z"
   },
   {
    "duration": 22,
    "start_time": "2021-10-10T11:16:05.482Z"
   },
   {
    "duration": 19,
    "start_time": "2021-10-10T11:16:05.506Z"
   },
   {
    "duration": 25,
    "start_time": "2021-10-10T11:16:05.527Z"
   },
   {
    "duration": 15,
    "start_time": "2021-10-10T11:16:05.553Z"
   },
   {
    "duration": 101,
    "start_time": "2021-10-10T11:16:05.570Z"
   },
   {
    "duration": 4,
    "start_time": "2021-10-10T11:16:05.673Z"
   },
   {
    "duration": 15,
    "start_time": "2021-10-10T11:16:05.679Z"
   },
   {
    "duration": 38,
    "start_time": "2021-10-10T11:16:05.695Z"
   },
   {
    "duration": 243,
    "start_time": "2021-10-10T11:16:05.735Z"
   },
   {
    "duration": 576,
    "start_time": "2021-10-10T11:16:05.404Z"
   },
   {
    "duration": 1324,
    "start_time": "2021-10-10T11:16:25.322Z"
   },
   {
    "duration": 95,
    "start_time": "2021-10-10T11:17:00.158Z"
   },
   {
    "duration": 8,
    "start_time": "2021-10-10T11:17:01.219Z"
   },
   {
    "duration": 26,
    "start_time": "2021-10-10T11:17:09.839Z"
   },
   {
    "duration": 8,
    "start_time": "2021-10-10T11:17:10.807Z"
   },
   {
    "duration": 4,
    "start_time": "2021-10-10T11:17:14.788Z"
   },
   {
    "duration": 104,
    "start_time": "2021-10-10T11:17:14.795Z"
   },
   {
    "duration": 13,
    "start_time": "2021-10-10T11:17:14.901Z"
   },
   {
    "duration": 6,
    "start_time": "2021-10-10T11:17:14.916Z"
   },
   {
    "duration": 33,
    "start_time": "2021-10-10T11:17:14.923Z"
   },
   {
    "duration": 14,
    "start_time": "2021-10-10T11:17:14.958Z"
   },
   {
    "duration": 31,
    "start_time": "2021-10-10T11:17:14.975Z"
   },
   {
    "duration": 7,
    "start_time": "2021-10-10T11:17:15.008Z"
   },
   {
    "duration": 41,
    "start_time": "2021-10-10T11:17:15.017Z"
   },
   {
    "duration": 18,
    "start_time": "2021-10-10T11:17:15.060Z"
   },
   {
    "duration": 10,
    "start_time": "2021-10-10T11:17:15.080Z"
   },
   {
    "duration": 15,
    "start_time": "2021-10-10T11:17:15.092Z"
   },
   {
    "duration": 107,
    "start_time": "2021-10-10T11:17:15.108Z"
   },
   {
    "duration": 5,
    "start_time": "2021-10-10T11:17:15.216Z"
   },
   {
    "duration": 16,
    "start_time": "2021-10-10T11:17:15.222Z"
   },
   {
    "duration": 25,
    "start_time": "2021-10-10T11:17:15.239Z"
   },
   {
    "duration": 44,
    "start_time": "2021-10-10T11:17:15.265Z"
   },
   {
    "duration": 8,
    "start_time": "2021-10-10T11:17:15.311Z"
   },
   {
    "duration": 3,
    "start_time": "2021-10-10T11:17:26.786Z"
   },
   {
    "duration": 109,
    "start_time": "2021-10-10T11:17:26.792Z"
   },
   {
    "duration": 13,
    "start_time": "2021-10-10T11:17:26.903Z"
   },
   {
    "duration": 16,
    "start_time": "2021-10-10T11:17:26.919Z"
   },
   {
    "duration": 46,
    "start_time": "2021-10-10T11:17:26.937Z"
   },
   {
    "duration": 16,
    "start_time": "2021-10-10T11:17:26.985Z"
   },
   {
    "duration": 28,
    "start_time": "2021-10-10T11:17:27.003Z"
   },
   {
    "duration": 21,
    "start_time": "2021-10-10T11:17:27.032Z"
   },
   {
    "duration": 18,
    "start_time": "2021-10-10T11:17:27.056Z"
   },
   {
    "duration": 19,
    "start_time": "2021-10-10T11:17:27.076Z"
   },
   {
    "duration": 9,
    "start_time": "2021-10-10T11:17:27.097Z"
   },
   {
    "duration": 11,
    "start_time": "2021-10-10T11:17:27.108Z"
   },
   {
    "duration": 120,
    "start_time": "2021-10-10T11:17:27.121Z"
   },
   {
    "duration": 10,
    "start_time": "2021-10-10T11:17:27.243Z"
   },
   {
    "duration": 12,
    "start_time": "2021-10-10T11:17:27.255Z"
   },
   {
    "duration": 18,
    "start_time": "2021-10-10T11:17:27.270Z"
   },
   {
    "duration": 67,
    "start_time": "2021-10-10T11:17:27.291Z"
   },
   {
    "duration": 8,
    "start_time": "2021-10-10T11:17:27.361Z"
   },
   {
    "duration": 236,
    "start_time": "2021-10-10T11:17:44.694Z"
   },
   {
    "duration": 23,
    "start_time": "2021-10-10T11:17:58.846Z"
   },
   {
    "duration": 7,
    "start_time": "2021-10-10T11:17:59.396Z"
   },
   {
    "duration": 3,
    "start_time": "2021-10-10T11:18:02.549Z"
   },
   {
    "duration": 102,
    "start_time": "2021-10-10T11:18:02.554Z"
   },
   {
    "duration": 11,
    "start_time": "2021-10-10T11:18:02.659Z"
   },
   {
    "duration": 9,
    "start_time": "2021-10-10T11:18:02.672Z"
   },
   {
    "duration": 35,
    "start_time": "2021-10-10T11:18:02.683Z"
   },
   {
    "duration": 13,
    "start_time": "2021-10-10T11:18:02.720Z"
   },
   {
    "duration": 28,
    "start_time": "2021-10-10T11:18:02.749Z"
   },
   {
    "duration": 7,
    "start_time": "2021-10-10T11:18:02.779Z"
   },
   {
    "duration": 18,
    "start_time": "2021-10-10T11:18:02.788Z"
   },
   {
    "duration": 41,
    "start_time": "2021-10-10T11:18:02.809Z"
   },
   {
    "duration": 8,
    "start_time": "2021-10-10T11:18:02.852Z"
   },
   {
    "duration": 20,
    "start_time": "2021-10-10T11:18:02.861Z"
   },
   {
    "duration": 105,
    "start_time": "2021-10-10T11:18:02.882Z"
   },
   {
    "duration": 6,
    "start_time": "2021-10-10T11:18:02.990Z"
   },
   {
    "duration": 22,
    "start_time": "2021-10-10T11:18:02.998Z"
   },
   {
    "duration": 18,
    "start_time": "2021-10-10T11:18:03.021Z"
   },
   {
    "duration": 31,
    "start_time": "2021-10-10T11:18:03.049Z"
   },
   {
    "duration": 7,
    "start_time": "2021-10-10T11:18:03.082Z"
   },
   {
    "duration": 26,
    "start_time": "2021-10-10T11:18:31.330Z"
   },
   {
    "duration": 4,
    "start_time": "2021-10-10T11:18:32.538Z"
   },
   {
    "duration": 104,
    "start_time": "2021-10-10T11:18:32.545Z"
   },
   {
    "duration": 11,
    "start_time": "2021-10-10T11:18:32.652Z"
   },
   {
    "duration": 6,
    "start_time": "2021-10-10T11:18:32.666Z"
   },
   {
    "duration": 32,
    "start_time": "2021-10-10T11:18:32.674Z"
   },
   {
    "duration": 12,
    "start_time": "2021-10-10T11:18:32.708Z"
   },
   {
    "duration": 52,
    "start_time": "2021-10-10T11:18:32.722Z"
   },
   {
    "duration": 6,
    "start_time": "2021-10-10T11:18:32.776Z"
   },
   {
    "duration": 13,
    "start_time": "2021-10-10T11:18:32.785Z"
   },
   {
    "duration": 16,
    "start_time": "2021-10-10T11:18:32.800Z"
   },
   {
    "duration": 37,
    "start_time": "2021-10-10T11:18:32.818Z"
   },
   {
    "duration": 12,
    "start_time": "2021-10-10T11:18:32.857Z"
   },
   {
    "duration": 108,
    "start_time": "2021-10-10T11:18:32.871Z"
   },
   {
    "duration": 5,
    "start_time": "2021-10-10T11:18:32.981Z"
   },
   {
    "duration": 10,
    "start_time": "2021-10-10T11:18:32.988Z"
   },
   {
    "duration": 18,
    "start_time": "2021-10-10T11:18:32.999Z"
   },
   {
    "duration": 54,
    "start_time": "2021-10-10T11:18:33.019Z"
   },
   {
    "duration": 7,
    "start_time": "2021-10-10T11:18:33.075Z"
   },
   {
    "duration": 25,
    "start_time": "2021-10-10T11:18:42.497Z"
   },
   {
    "duration": 10,
    "start_time": "2021-10-10T11:18:42.739Z"
   },
   {
    "duration": 34,
    "start_time": "2021-10-10T11:18:53.175Z"
   },
   {
    "duration": 7,
    "start_time": "2021-10-10T11:18:53.678Z"
   },
   {
    "duration": 41,
    "start_time": "2021-10-10T11:19:08.161Z"
   },
   {
    "duration": 8,
    "start_time": "2021-10-10T11:19:08.694Z"
   },
   {
    "duration": 36,
    "start_time": "2021-10-10T11:19:19.741Z"
   },
   {
    "duration": 8,
    "start_time": "2021-10-10T11:19:20.103Z"
   },
   {
    "duration": 4,
    "start_time": "2021-10-10T11:19:22.511Z"
   },
   {
    "duration": 104,
    "start_time": "2021-10-10T11:19:22.517Z"
   },
   {
    "duration": 12,
    "start_time": "2021-10-10T11:19:22.623Z"
   },
   {
    "duration": 6,
    "start_time": "2021-10-10T11:19:22.637Z"
   },
   {
    "duration": 36,
    "start_time": "2021-10-10T11:19:22.645Z"
   },
   {
    "duration": 13,
    "start_time": "2021-10-10T11:19:22.683Z"
   },
   {
    "duration": 28,
    "start_time": "2021-10-10T11:19:22.698Z"
   },
   {
    "duration": 23,
    "start_time": "2021-10-10T11:19:22.728Z"
   },
   {
    "duration": 15,
    "start_time": "2021-10-10T11:19:22.754Z"
   },
   {
    "duration": 22,
    "start_time": "2021-10-10T11:19:22.771Z"
   },
   {
    "duration": 18,
    "start_time": "2021-10-10T11:19:22.795Z"
   },
   {
    "duration": 14,
    "start_time": "2021-10-10T11:19:22.815Z"
   },
   {
    "duration": 104,
    "start_time": "2021-10-10T11:19:22.830Z"
   },
   {
    "duration": 5,
    "start_time": "2021-10-10T11:19:22.935Z"
   },
   {
    "duration": 18,
    "start_time": "2021-10-10T11:19:22.941Z"
   },
   {
    "duration": 18,
    "start_time": "2021-10-10T11:19:22.961Z"
   },
   {
    "duration": 43,
    "start_time": "2021-10-10T11:19:22.980Z"
   },
   {
    "duration": 28,
    "start_time": "2021-10-10T11:19:23.025Z"
   },
   {
    "duration": 8,
    "start_time": "2021-10-10T11:19:41.816Z"
   },
   {
    "duration": 4,
    "start_time": "2021-10-10T11:19:43.377Z"
   },
   {
    "duration": 103,
    "start_time": "2021-10-10T11:19:43.382Z"
   },
   {
    "duration": 11,
    "start_time": "2021-10-10T11:19:43.487Z"
   },
   {
    "duration": 5,
    "start_time": "2021-10-10T11:19:43.500Z"
   },
   {
    "duration": 31,
    "start_time": "2021-10-10T11:19:43.507Z"
   },
   {
    "duration": 12,
    "start_time": "2021-10-10T11:19:43.540Z"
   },
   {
    "duration": 26,
    "start_time": "2021-10-10T11:19:43.554Z"
   },
   {
    "duration": 5,
    "start_time": "2021-10-10T11:19:43.582Z"
   },
   {
    "duration": 11,
    "start_time": "2021-10-10T11:19:43.590Z"
   },
   {
    "duration": 16,
    "start_time": "2021-10-10T11:19:43.603Z"
   },
   {
    "duration": 8,
    "start_time": "2021-10-10T11:19:43.649Z"
   },
   {
    "duration": 14,
    "start_time": "2021-10-10T11:19:43.659Z"
   },
   {
    "duration": 103,
    "start_time": "2021-10-10T11:19:43.675Z"
   },
   {
    "duration": 4,
    "start_time": "2021-10-10T11:19:43.780Z"
   },
   {
    "duration": 13,
    "start_time": "2021-10-10T11:19:43.786Z"
   },
   {
    "duration": 18,
    "start_time": "2021-10-10T11:19:43.801Z"
   },
   {
    "duration": 29,
    "start_time": "2021-10-10T11:19:43.821Z"
   },
   {
    "duration": 51,
    "start_time": "2021-10-10T11:19:43.852Z"
   },
   {
    "duration": 8,
    "start_time": "2021-10-10T11:19:43.905Z"
   },
   {
    "duration": 4,
    "start_time": "2021-10-10T11:20:47.962Z"
   },
   {
    "duration": 99,
    "start_time": "2021-10-10T11:20:47.968Z"
   },
   {
    "duration": 11,
    "start_time": "2021-10-10T11:20:48.069Z"
   },
   {
    "duration": 8,
    "start_time": "2021-10-10T11:20:48.082Z"
   },
   {
    "duration": 30,
    "start_time": "2021-10-10T11:20:48.092Z"
   },
   {
    "duration": 12,
    "start_time": "2021-10-10T11:20:48.124Z"
   },
   {
    "duration": 36,
    "start_time": "2021-10-10T11:20:48.137Z"
   },
   {
    "duration": 5,
    "start_time": "2021-10-10T11:20:48.175Z"
   },
   {
    "duration": 15,
    "start_time": "2021-10-10T11:20:48.183Z"
   },
   {
    "duration": 14,
    "start_time": "2021-10-10T11:20:48.200Z"
   },
   {
    "duration": 9,
    "start_time": "2021-10-10T11:20:48.215Z"
   },
   {
    "duration": 12,
    "start_time": "2021-10-10T11:20:48.248Z"
   },
   {
    "duration": 99,
    "start_time": "2021-10-10T11:20:48.262Z"
   },
   {
    "duration": 4,
    "start_time": "2021-10-10T11:20:48.363Z"
   },
   {
    "duration": 17,
    "start_time": "2021-10-10T11:20:48.368Z"
   },
   {
    "duration": 15,
    "start_time": "2021-10-10T11:20:48.387Z"
   },
   {
    "duration": 64,
    "start_time": "2021-10-10T11:20:48.404Z"
   },
   {
    "duration": 6,
    "start_time": "2021-10-10T11:20:48.470Z"
   },
   {
    "duration": 7,
    "start_time": "2021-10-10T11:21:14.851Z"
   },
   {
    "duration": 7,
    "start_time": "2021-10-10T11:21:40.927Z"
   },
   {
    "duration": 7,
    "start_time": "2021-10-10T11:21:59.531Z"
   },
   {
    "duration": 7,
    "start_time": "2021-10-10T11:22:17.057Z"
   },
   {
    "duration": 3,
    "start_time": "2021-10-10T11:23:00.358Z"
   },
   {
    "duration": 107,
    "start_time": "2021-10-10T11:23:00.363Z"
   },
   {
    "duration": 12,
    "start_time": "2021-10-10T11:23:00.473Z"
   },
   {
    "duration": 16,
    "start_time": "2021-10-10T11:23:00.487Z"
   },
   {
    "duration": 32,
    "start_time": "2021-10-10T11:23:00.505Z"
   },
   {
    "duration": 12,
    "start_time": "2021-10-10T11:23:00.539Z"
   },
   {
    "duration": 28,
    "start_time": "2021-10-10T11:23:00.553Z"
   },
   {
    "duration": 6,
    "start_time": "2021-10-10T11:23:00.582Z"
   },
   {
    "duration": 13,
    "start_time": "2021-10-10T11:23:00.591Z"
   },
   {
    "duration": 25,
    "start_time": "2021-10-10T11:23:00.606Z"
   },
   {
    "duration": 10,
    "start_time": "2021-10-10T11:23:00.650Z"
   },
   {
    "duration": 28,
    "start_time": "2021-10-10T11:23:00.662Z"
   },
   {
    "duration": 112,
    "start_time": "2021-10-10T11:23:00.692Z"
   },
   {
    "duration": 5,
    "start_time": "2021-10-10T11:23:00.806Z"
   },
   {
    "duration": 40,
    "start_time": "2021-10-10T11:23:00.813Z"
   },
   {
    "duration": 45,
    "start_time": "2021-10-10T11:23:00.855Z"
   },
   {
    "duration": 69,
    "start_time": "2021-10-10T11:23:00.902Z"
   },
   {
    "duration": 7,
    "start_time": "2021-10-10T11:23:00.973Z"
   },
   {
    "duration": 3,
    "start_time": "2021-10-10T11:23:17.572Z"
   },
   {
    "duration": 102,
    "start_time": "2021-10-10T11:23:17.578Z"
   },
   {
    "duration": 11,
    "start_time": "2021-10-10T11:23:17.682Z"
   },
   {
    "duration": 9,
    "start_time": "2021-10-10T11:23:17.694Z"
   },
   {
    "duration": 29,
    "start_time": "2021-10-10T11:23:17.705Z"
   },
   {
    "duration": 14,
    "start_time": "2021-10-10T11:23:17.735Z"
   },
   {
    "duration": 27,
    "start_time": "2021-10-10T11:23:17.750Z"
   },
   {
    "duration": 7,
    "start_time": "2021-10-10T11:23:17.779Z"
   },
   {
    "duration": 17,
    "start_time": "2021-10-10T11:23:17.790Z"
   },
   {
    "duration": 15,
    "start_time": "2021-10-10T11:23:17.809Z"
   },
   {
    "duration": 8,
    "start_time": "2021-10-10T11:23:17.850Z"
   },
   {
    "duration": 14,
    "start_time": "2021-10-10T11:23:17.859Z"
   },
   {
    "duration": 104,
    "start_time": "2021-10-10T11:23:17.875Z"
   },
   {
    "duration": 4,
    "start_time": "2021-10-10T11:23:17.981Z"
   },
   {
    "duration": 18,
    "start_time": "2021-10-10T11:23:17.987Z"
   },
   {
    "duration": 18,
    "start_time": "2021-10-10T11:23:18.007Z"
   },
   {
    "duration": 64,
    "start_time": "2021-10-10T11:23:18.027Z"
   },
   {
    "duration": 7,
    "start_time": "2021-10-10T11:23:18.093Z"
   },
   {
    "duration": 8,
    "start_time": "2021-10-10T11:23:29.108Z"
   },
   {
    "duration": 9,
    "start_time": "2021-10-10T11:25:52.626Z"
   },
   {
    "duration": 25,
    "start_time": "2021-10-10T11:26:01.531Z"
   },
   {
    "duration": 9,
    "start_time": "2021-10-10T11:26:02.060Z"
   },
   {
    "duration": 4,
    "start_time": "2021-10-10T11:26:04.621Z"
   },
   {
    "duration": 103,
    "start_time": "2021-10-10T11:26:04.627Z"
   },
   {
    "duration": 13,
    "start_time": "2021-10-10T11:26:04.732Z"
   },
   {
    "duration": 6,
    "start_time": "2021-10-10T11:26:04.748Z"
   },
   {
    "duration": 31,
    "start_time": "2021-10-10T11:26:04.756Z"
   },
   {
    "duration": 12,
    "start_time": "2021-10-10T11:26:04.789Z"
   },
   {
    "duration": 47,
    "start_time": "2021-10-10T11:26:04.803Z"
   },
   {
    "duration": 7,
    "start_time": "2021-10-10T11:26:04.852Z"
   },
   {
    "duration": 11,
    "start_time": "2021-10-10T11:26:04.861Z"
   },
   {
    "duration": 16,
    "start_time": "2021-10-10T11:26:04.874Z"
   },
   {
    "duration": 9,
    "start_time": "2021-10-10T11:26:04.892Z"
   },
   {
    "duration": 14,
    "start_time": "2021-10-10T11:26:04.902Z"
   },
   {
    "duration": 118,
    "start_time": "2021-10-10T11:26:04.918Z"
   },
   {
    "duration": 13,
    "start_time": "2021-10-10T11:26:05.038Z"
   },
   {
    "duration": 11,
    "start_time": "2021-10-10T11:26:05.053Z"
   },
   {
    "duration": 17,
    "start_time": "2021-10-10T11:26:05.066Z"
   },
   {
    "duration": 37,
    "start_time": "2021-10-10T11:26:05.085Z"
   },
   {
    "duration": 31,
    "start_time": "2021-10-10T11:26:05.124Z"
   },
   {
    "duration": 12,
    "start_time": "2021-10-10T11:26:05.156Z"
   },
   {
    "duration": 225,
    "start_time": "2021-10-10T11:26:13.272Z"
   },
   {
    "duration": 8,
    "start_time": "2021-10-10T11:26:13.615Z"
   },
   {
    "duration": 3,
    "start_time": "2021-10-10T11:26:18.197Z"
   },
   {
    "duration": 105,
    "start_time": "2021-10-10T11:26:18.202Z"
   },
   {
    "duration": 11,
    "start_time": "2021-10-10T11:26:18.310Z"
   },
   {
    "duration": 7,
    "start_time": "2021-10-10T11:26:18.323Z"
   },
   {
    "duration": 30,
    "start_time": "2021-10-10T11:26:18.332Z"
   },
   {
    "duration": 13,
    "start_time": "2021-10-10T11:26:18.364Z"
   },
   {
    "duration": 28,
    "start_time": "2021-10-10T11:26:18.379Z"
   },
   {
    "duration": 6,
    "start_time": "2021-10-10T11:26:18.409Z"
   },
   {
    "duration": 40,
    "start_time": "2021-10-10T11:26:18.417Z"
   },
   {
    "duration": 15,
    "start_time": "2021-10-10T11:26:18.460Z"
   },
   {
    "duration": 9,
    "start_time": "2021-10-10T11:26:18.477Z"
   },
   {
    "duration": 11,
    "start_time": "2021-10-10T11:26:18.488Z"
   },
   {
    "duration": 125,
    "start_time": "2021-10-10T11:26:18.501Z"
   },
   {
    "duration": 6,
    "start_time": "2021-10-10T11:26:18.629Z"
   },
   {
    "duration": 22,
    "start_time": "2021-10-10T11:26:18.637Z"
   },
   {
    "duration": 17,
    "start_time": "2021-10-10T11:26:18.661Z"
   },
   {
    "duration": 47,
    "start_time": "2021-10-10T11:26:18.680Z"
   },
   {
    "duration": 8,
    "start_time": "2021-10-10T11:26:18.750Z"
   },
   {
    "duration": 11,
    "start_time": "2021-10-10T11:26:18.760Z"
   },
   {
    "duration": 3,
    "start_time": "2021-10-10T11:26:29.768Z"
   },
   {
    "duration": 116,
    "start_time": "2021-10-10T11:26:29.774Z"
   },
   {
    "duration": 11,
    "start_time": "2021-10-10T11:26:29.893Z"
   },
   {
    "duration": 7,
    "start_time": "2021-10-10T11:26:29.906Z"
   },
   {
    "duration": 34,
    "start_time": "2021-10-10T11:26:29.914Z"
   },
   {
    "duration": 13,
    "start_time": "2021-10-10T11:26:29.950Z"
   },
   {
    "duration": 28,
    "start_time": "2021-10-10T11:26:29.965Z"
   },
   {
    "duration": 6,
    "start_time": "2021-10-10T11:26:29.995Z"
   },
   {
    "duration": 31,
    "start_time": "2021-10-10T11:26:30.005Z"
   },
   {
    "duration": 16,
    "start_time": "2021-10-10T11:26:30.049Z"
   },
   {
    "duration": 12,
    "start_time": "2021-10-10T11:26:30.067Z"
   },
   {
    "duration": 22,
    "start_time": "2021-10-10T11:26:30.080Z"
   },
   {
    "duration": 103,
    "start_time": "2021-10-10T11:26:30.104Z"
   },
   {
    "duration": 4,
    "start_time": "2021-10-10T11:26:30.209Z"
   },
   {
    "duration": 21,
    "start_time": "2021-10-10T11:26:30.215Z"
   },
   {
    "duration": 25,
    "start_time": "2021-10-10T11:26:30.238Z"
   },
   {
    "duration": 3153,
    "start_time": "2021-10-10T11:26:30.265Z"
   },
   {
    "duration": 564,
    "start_time": "2021-10-10T11:26:32.857Z"
   },
   {
    "duration": 565,
    "start_time": "2021-10-10T11:26:32.857Z"
   },
   {
    "duration": 24,
    "start_time": "2021-10-10T11:28:42.297Z"
   },
   {
    "duration": 6,
    "start_time": "2021-10-10T11:28:43.397Z"
   },
   {
    "duration": 4,
    "start_time": "2021-10-10T11:28:45.210Z"
   },
   {
    "duration": 111,
    "start_time": "2021-10-10T11:28:45.216Z"
   },
   {
    "duration": 12,
    "start_time": "2021-10-10T11:28:45.329Z"
   },
   {
    "duration": 6,
    "start_time": "2021-10-10T11:28:45.343Z"
   },
   {
    "duration": 32,
    "start_time": "2021-10-10T11:28:45.351Z"
   },
   {
    "duration": 14,
    "start_time": "2021-10-10T11:28:45.384Z"
   },
   {
    "duration": 51,
    "start_time": "2021-10-10T11:28:45.400Z"
   },
   {
    "duration": 8,
    "start_time": "2021-10-10T11:28:45.453Z"
   },
   {
    "duration": 15,
    "start_time": "2021-10-10T11:28:45.464Z"
   },
   {
    "duration": 16,
    "start_time": "2021-10-10T11:28:45.482Z"
   },
   {
    "duration": 10,
    "start_time": "2021-10-10T11:28:45.501Z"
   },
   {
    "duration": 45,
    "start_time": "2021-10-10T11:28:45.513Z"
   },
   {
    "duration": 98,
    "start_time": "2021-10-10T11:28:45.560Z"
   },
   {
    "duration": 5,
    "start_time": "2021-10-10T11:28:45.659Z"
   },
   {
    "duration": 12,
    "start_time": "2021-10-10T11:28:45.666Z"
   },
   {
    "duration": 15,
    "start_time": "2021-10-10T11:28:45.679Z"
   },
   {
    "duration": 57,
    "start_time": "2021-10-10T11:28:45.696Z"
   },
   {
    "duration": 39,
    "start_time": "2021-10-10T11:28:45.755Z"
   },
   {
    "duration": 12,
    "start_time": "2021-10-10T11:28:45.796Z"
   },
   {
    "duration": 484,
    "start_time": "2021-10-10T11:29:00.437Z"
   },
   {
    "duration": 8,
    "start_time": "2021-10-10T11:29:00.946Z"
   },
   {
    "duration": 262,
    "start_time": "2021-10-10T11:29:16.206Z"
   },
   {
    "duration": 219,
    "start_time": "2021-10-10T11:30:01.032Z"
   },
   {
    "duration": 569,
    "start_time": "2021-10-10T11:30:00.684Z"
   },
   {
    "duration": 4,
    "start_time": "2021-10-10T11:30:03.269Z"
   },
   {
    "duration": 120,
    "start_time": "2021-10-10T11:30:03.275Z"
   },
   {
    "duration": 12,
    "start_time": "2021-10-10T11:30:03.397Z"
   },
   {
    "duration": 22,
    "start_time": "2021-10-10T11:30:03.411Z"
   },
   {
    "duration": 72,
    "start_time": "2021-10-10T11:30:03.434Z"
   },
   {
    "duration": 16,
    "start_time": "2021-10-10T11:30:03.508Z"
   },
   {
    "duration": 44,
    "start_time": "2021-10-10T11:30:03.526Z"
   },
   {
    "duration": 6,
    "start_time": "2021-10-10T11:30:03.572Z"
   },
   {
    "duration": 23,
    "start_time": "2021-10-10T11:30:03.580Z"
   },
   {
    "duration": 37,
    "start_time": "2021-10-10T11:30:03.605Z"
   },
   {
    "duration": 19,
    "start_time": "2021-10-10T11:30:03.644Z"
   },
   {
    "duration": 28,
    "start_time": "2021-10-10T11:30:03.665Z"
   },
   {
    "duration": 122,
    "start_time": "2021-10-10T11:30:03.695Z"
   },
   {
    "duration": 4,
    "start_time": "2021-10-10T11:30:03.819Z"
   },
   {
    "duration": 31,
    "start_time": "2021-10-10T11:30:03.825Z"
   },
   {
    "duration": 34,
    "start_time": "2021-10-10T11:30:03.858Z"
   },
   {
    "duration": 38,
    "start_time": "2021-10-10T11:30:03.893Z"
   },
   {
    "duration": 40,
    "start_time": "2021-10-10T11:30:03.932Z"
   },
   {
    "duration": 22,
    "start_time": "2021-10-10T11:30:03.973Z"
   },
   {
    "duration": 20,
    "start_time": "2021-10-10T11:30:12.600Z"
   },
   {
    "duration": 256,
    "start_time": "2021-10-10T11:30:52.194Z"
   },
   {
    "duration": 13,
    "start_time": "2021-10-10T11:30:53.408Z"
   },
   {
    "duration": 4,
    "start_time": "2021-10-10T11:30:57.025Z"
   },
   {
    "duration": 108,
    "start_time": "2021-10-10T11:30:57.031Z"
   },
   {
    "duration": 12,
    "start_time": "2021-10-10T11:30:57.142Z"
   },
   {
    "duration": 8,
    "start_time": "2021-10-10T11:30:57.156Z"
   },
   {
    "duration": 32,
    "start_time": "2021-10-10T11:30:57.166Z"
   },
   {
    "duration": 14,
    "start_time": "2021-10-10T11:30:57.200Z"
   },
   {
    "duration": 54,
    "start_time": "2021-10-10T11:30:57.215Z"
   },
   {
    "duration": 6,
    "start_time": "2021-10-10T11:30:57.271Z"
   },
   {
    "duration": 11,
    "start_time": "2021-10-10T11:30:57.280Z"
   },
   {
    "duration": 16,
    "start_time": "2021-10-10T11:30:57.294Z"
   },
   {
    "duration": 39,
    "start_time": "2021-10-10T11:30:57.312Z"
   },
   {
    "duration": 11,
    "start_time": "2021-10-10T11:30:57.353Z"
   },
   {
    "duration": 109,
    "start_time": "2021-10-10T11:30:57.366Z"
   },
   {
    "duration": 5,
    "start_time": "2021-10-10T11:30:57.477Z"
   },
   {
    "duration": 11,
    "start_time": "2021-10-10T11:30:57.483Z"
   },
   {
    "duration": 17,
    "start_time": "2021-10-10T11:30:57.496Z"
   },
   {
    "duration": 245,
    "start_time": "2021-10-10T11:31:35.769Z"
   },
   {
    "duration": 416,
    "start_time": "2021-10-10T11:31:35.600Z"
   },
   {
    "duration": 677,
    "start_time": "2021-10-10T11:31:37.208Z"
   },
   {
    "duration": 240,
    "start_time": "2021-10-10T11:31:37.887Z"
   },
   {
    "duration": 13,
    "start_time": "2021-10-10T11:31:38.129Z"
   },
   {
    "duration": 14,
    "start_time": "2021-10-10T11:31:38.144Z"
   },
   {
    "duration": 42,
    "start_time": "2021-10-10T11:31:38.160Z"
   },
   {
    "duration": 14,
    "start_time": "2021-10-10T11:31:38.204Z"
   },
   {
    "duration": 102,
    "start_time": "2021-10-10T11:31:38.220Z"
   },
   {
    "duration": 7,
    "start_time": "2021-10-10T11:31:38.324Z"
   },
   {
    "duration": 16,
    "start_time": "2021-10-10T11:31:38.333Z"
   },
   {
    "duration": 18,
    "start_time": "2021-10-10T11:31:38.351Z"
   },
   {
    "duration": 13,
    "start_time": "2021-10-10T11:31:38.371Z"
   },
   {
    "duration": 16,
    "start_time": "2021-10-10T11:31:38.385Z"
   },
   {
    "duration": 112,
    "start_time": "2021-10-10T11:31:38.403Z"
   },
   {
    "duration": 4,
    "start_time": "2021-10-10T11:31:38.517Z"
   },
   {
    "duration": 15,
    "start_time": "2021-10-10T11:31:38.522Z"
   },
   {
    "duration": 23,
    "start_time": "2021-10-10T11:31:38.539Z"
   },
   {
    "duration": 654,
    "start_time": "2021-10-10T11:31:38.564Z"
   },
   {
    "duration": 41,
    "start_time": "2021-10-10T11:31:39.220Z"
   },
   {
    "duration": 54,
    "start_time": "2021-10-10T11:31:39.263Z"
   },
   {
    "duration": 5,
    "start_time": "2021-10-10T11:31:53.415Z"
   },
   {
    "duration": 100,
    "start_time": "2021-10-10T11:31:53.433Z"
   },
   {
    "duration": 11,
    "start_time": "2021-10-10T11:31:53.535Z"
   },
   {
    "duration": 8,
    "start_time": "2021-10-10T11:31:53.548Z"
   },
   {
    "duration": 71,
    "start_time": "2021-10-10T11:31:53.558Z"
   },
   {
    "duration": 42,
    "start_time": "2021-10-10T11:31:53.630Z"
   },
   {
    "duration": 36,
    "start_time": "2021-10-10T11:31:53.674Z"
   },
   {
    "duration": 6,
    "start_time": "2021-10-10T11:31:53.712Z"
   },
   {
    "duration": 29,
    "start_time": "2021-10-10T11:31:53.721Z"
   },
   {
    "duration": 16,
    "start_time": "2021-10-10T11:31:53.752Z"
   },
   {
    "duration": 19,
    "start_time": "2021-10-10T11:31:53.770Z"
   },
   {
    "duration": 14,
    "start_time": "2021-10-10T11:31:53.791Z"
   },
   {
    "duration": 103,
    "start_time": "2021-10-10T11:31:53.807Z"
   },
   {
    "duration": 5,
    "start_time": "2021-10-10T11:31:53.912Z"
   },
   {
    "duration": 22,
    "start_time": "2021-10-10T11:31:53.919Z"
   },
   {
    "duration": 16,
    "start_time": "2021-10-10T11:31:53.949Z"
   },
   {
    "duration": 43,
    "start_time": "2021-10-10T11:31:53.967Z"
   },
   {
    "duration": 45,
    "start_time": "2021-10-10T11:31:54.012Z"
   },
   {
    "duration": 32,
    "start_time": "2021-10-10T11:31:54.059Z"
   },
   {
    "duration": 3,
    "start_time": "2021-10-10T11:32:10.144Z"
   },
   {
    "duration": 105,
    "start_time": "2021-10-10T11:32:10.149Z"
   },
   {
    "duration": 12,
    "start_time": "2021-10-10T11:32:10.257Z"
   },
   {
    "duration": 14,
    "start_time": "2021-10-10T11:32:10.271Z"
   },
   {
    "duration": 44,
    "start_time": "2021-10-10T11:32:10.287Z"
   },
   {
    "duration": 13,
    "start_time": "2021-10-10T11:32:10.332Z"
   },
   {
    "duration": 27,
    "start_time": "2021-10-10T11:32:10.347Z"
   },
   {
    "duration": 6,
    "start_time": "2021-10-10T11:32:10.377Z"
   },
   {
    "duration": 18,
    "start_time": "2021-10-10T11:32:10.384Z"
   },
   {
    "duration": 47,
    "start_time": "2021-10-10T11:32:10.404Z"
   },
   {
    "duration": 11,
    "start_time": "2021-10-10T11:32:10.452Z"
   },
   {
    "duration": 16,
    "start_time": "2021-10-10T11:32:10.464Z"
   },
   {
    "duration": 96,
    "start_time": "2021-10-10T11:32:10.482Z"
   },
   {
    "duration": 6,
    "start_time": "2021-10-10T11:32:10.580Z"
   },
   {
    "duration": 13,
    "start_time": "2021-10-10T11:32:10.587Z"
   },
   {
    "duration": 26,
    "start_time": "2021-10-10T11:32:10.602Z"
   },
   {
    "duration": 59,
    "start_time": "2021-10-10T11:32:10.630Z"
   },
   {
    "duration": 7,
    "start_time": "2021-10-10T11:32:10.691Z"
   },
   {
    "duration": 24,
    "start_time": "2021-10-10T11:32:10.700Z"
   },
   {
    "duration": 89,
    "start_time": "2021-10-10T11:32:32.152Z"
   },
   {
    "duration": 37,
    "start_time": "2021-10-10T11:33:02.919Z"
   },
   {
    "duration": 31,
    "start_time": "2021-10-10T11:33:03.692Z"
   },
   {
    "duration": 4,
    "start_time": "2021-10-10T11:33:05.837Z"
   },
   {
    "duration": 103,
    "start_time": "2021-10-10T11:33:05.842Z"
   },
   {
    "duration": 13,
    "start_time": "2021-10-10T11:33:05.948Z"
   },
   {
    "duration": 5,
    "start_time": "2021-10-10T11:33:05.963Z"
   },
   {
    "duration": 30,
    "start_time": "2021-10-10T11:33:05.970Z"
   },
   {
    "duration": 12,
    "start_time": "2021-10-10T11:33:06.002Z"
   },
   {
    "duration": 49,
    "start_time": "2021-10-10T11:33:06.016Z"
   },
   {
    "duration": 5,
    "start_time": "2021-10-10T11:33:06.067Z"
   },
   {
    "duration": 13,
    "start_time": "2021-10-10T11:33:06.075Z"
   },
   {
    "duration": 15,
    "start_time": "2021-10-10T11:33:06.090Z"
   },
   {
    "duration": 10,
    "start_time": "2021-10-10T11:33:06.106Z"
   },
   {
    "duration": 39,
    "start_time": "2021-10-10T11:33:06.118Z"
   },
   {
    "duration": 98,
    "start_time": "2021-10-10T11:33:06.159Z"
   },
   {
    "duration": 5,
    "start_time": "2021-10-10T11:33:06.258Z"
   },
   {
    "duration": 14,
    "start_time": "2021-10-10T11:33:06.264Z"
   },
   {
    "duration": 17,
    "start_time": "2021-10-10T11:33:06.280Z"
   },
   {
    "duration": 69,
    "start_time": "2021-10-10T11:33:06.298Z"
   },
   {
    "duration": 31,
    "start_time": "2021-10-10T11:33:06.369Z"
   },
   {
    "duration": 8,
    "start_time": "2021-10-10T11:33:18.029Z"
   },
   {
    "duration": 8,
    "start_time": "2021-10-10T11:33:22.726Z"
   },
   {
    "duration": 4,
    "start_time": "2021-10-10T11:34:02.306Z"
   },
   {
    "duration": 123,
    "start_time": "2021-10-10T11:34:02.312Z"
   },
   {
    "duration": 11,
    "start_time": "2021-10-10T11:34:02.438Z"
   },
   {
    "duration": 13,
    "start_time": "2021-10-10T11:34:02.451Z"
   },
   {
    "duration": 40,
    "start_time": "2021-10-10T11:34:02.466Z"
   },
   {
    "duration": 13,
    "start_time": "2021-10-10T11:34:02.508Z"
   },
   {
    "duration": 40,
    "start_time": "2021-10-10T11:34:02.522Z"
   },
   {
    "duration": 7,
    "start_time": "2021-10-10T11:34:02.563Z"
   },
   {
    "duration": 17,
    "start_time": "2021-10-10T11:34:02.573Z"
   },
   {
    "duration": 19,
    "start_time": "2021-10-10T11:34:02.592Z"
   },
   {
    "duration": 10,
    "start_time": "2021-10-10T11:34:02.613Z"
   },
   {
    "duration": 33,
    "start_time": "2021-10-10T11:34:02.625Z"
   },
   {
    "duration": 104,
    "start_time": "2021-10-10T11:34:02.660Z"
   },
   {
    "duration": 5,
    "start_time": "2021-10-10T11:34:02.766Z"
   },
   {
    "duration": 11,
    "start_time": "2021-10-10T11:34:02.773Z"
   },
   {
    "duration": 21,
    "start_time": "2021-10-10T11:34:02.786Z"
   },
   {
    "duration": 66,
    "start_time": "2021-10-10T11:34:02.809Z"
   },
   {
    "duration": 8,
    "start_time": "2021-10-10T11:34:02.877Z"
   },
   {
    "duration": 35,
    "start_time": "2021-10-10T11:34:02.887Z"
   },
   {
    "duration": 15,
    "start_time": "2021-10-10T11:34:07.890Z"
   },
   {
    "duration": 5,
    "start_time": "2021-10-10T11:34:09.649Z"
   },
   {
    "duration": 118,
    "start_time": "2021-10-10T11:34:09.656Z"
   },
   {
    "duration": 14,
    "start_time": "2021-10-10T11:34:09.777Z"
   },
   {
    "duration": 7,
    "start_time": "2021-10-10T11:34:09.793Z"
   },
   {
    "duration": 43,
    "start_time": "2021-10-10T11:34:09.802Z"
   },
   {
    "duration": 15,
    "start_time": "2021-10-10T11:34:09.847Z"
   },
   {
    "duration": 28,
    "start_time": "2021-10-10T11:34:09.864Z"
   },
   {
    "duration": 8,
    "start_time": "2021-10-10T11:34:09.894Z"
   },
   {
    "duration": 43,
    "start_time": "2021-10-10T11:34:09.906Z"
   },
   {
    "duration": 17,
    "start_time": "2021-10-10T11:34:09.951Z"
   },
   {
    "duration": 20,
    "start_time": "2021-10-10T11:34:09.971Z"
   },
   {
    "duration": 18,
    "start_time": "2021-10-10T11:34:09.993Z"
   },
   {
    "duration": 110,
    "start_time": "2021-10-10T11:34:10.013Z"
   },
   {
    "duration": 6,
    "start_time": "2021-10-10T11:34:10.125Z"
   },
   {
    "duration": 24,
    "start_time": "2021-10-10T11:34:10.133Z"
   },
   {
    "duration": 27,
    "start_time": "2021-10-10T11:34:10.159Z"
   },
   {
    "duration": 23,
    "start_time": "2021-10-10T11:34:10.188Z"
   },
   {
    "duration": 9,
    "start_time": "2021-10-10T11:34:10.213Z"
   },
   {
    "duration": 53,
    "start_time": "2021-10-10T11:34:10.223Z"
   },
   {
    "duration": 6,
    "start_time": "2021-10-10T11:35:14.439Z"
   },
   {
    "duration": 109,
    "start_time": "2021-10-10T11:35:14.447Z"
   },
   {
    "duration": 13,
    "start_time": "2021-10-10T11:35:14.558Z"
   },
   {
    "duration": 11,
    "start_time": "2021-10-10T11:35:14.573Z"
   },
   {
    "duration": 52,
    "start_time": "2021-10-10T11:35:14.586Z"
   },
   {
    "duration": 13,
    "start_time": "2021-10-10T11:35:14.640Z"
   },
   {
    "duration": 38,
    "start_time": "2021-10-10T11:35:14.655Z"
   },
   {
    "duration": 6,
    "start_time": "2021-10-10T11:35:14.695Z"
   },
   {
    "duration": 25,
    "start_time": "2021-10-10T11:35:14.704Z"
   },
   {
    "duration": 31,
    "start_time": "2021-10-10T11:35:14.731Z"
   },
   {
    "duration": 13,
    "start_time": "2021-10-10T11:35:14.765Z"
   },
   {
    "duration": 36,
    "start_time": "2021-10-10T11:35:14.780Z"
   },
   {
    "duration": 119,
    "start_time": "2021-10-10T11:35:14.818Z"
   },
   {
    "duration": 11,
    "start_time": "2021-10-10T11:35:14.939Z"
   },
   {
    "duration": 18,
    "start_time": "2021-10-10T11:35:14.952Z"
   },
   {
    "duration": 23,
    "start_time": "2021-10-10T11:35:14.972Z"
   },
   {
    "duration": 38,
    "start_time": "2021-10-10T11:35:14.997Z"
   },
   {
    "duration": 12,
    "start_time": "2021-10-10T11:35:15.037Z"
   },
   {
    "duration": 44,
    "start_time": "2021-10-10T11:35:15.051Z"
   },
   {
    "duration": 4,
    "start_time": "2021-10-10T11:35:26.247Z"
   },
   {
    "duration": 111,
    "start_time": "2021-10-10T11:35:26.254Z"
   },
   {
    "duration": 12,
    "start_time": "2021-10-10T11:35:26.368Z"
   },
   {
    "duration": 15,
    "start_time": "2021-10-10T11:35:26.383Z"
   },
   {
    "duration": 42,
    "start_time": "2021-10-10T11:35:26.400Z"
   },
   {
    "duration": 12,
    "start_time": "2021-10-10T11:35:26.444Z"
   },
   {
    "duration": 32,
    "start_time": "2021-10-10T11:35:26.458Z"
   },
   {
    "duration": 6,
    "start_time": "2021-10-10T11:35:26.492Z"
   },
   {
    "duration": 24,
    "start_time": "2021-10-10T11:35:26.501Z"
   },
   {
    "duration": 22,
    "start_time": "2021-10-10T11:35:26.528Z"
   },
   {
    "duration": 8,
    "start_time": "2021-10-10T11:35:26.552Z"
   },
   {
    "duration": 23,
    "start_time": "2021-10-10T11:35:26.562Z"
   },
   {
    "duration": 98,
    "start_time": "2021-10-10T11:35:26.587Z"
   },
   {
    "duration": 4,
    "start_time": "2021-10-10T11:35:26.687Z"
   },
   {
    "duration": 15,
    "start_time": "2021-10-10T11:35:26.693Z"
   },
   {
    "duration": 18,
    "start_time": "2021-10-10T11:35:26.710Z"
   },
   {
    "duration": 38,
    "start_time": "2021-10-10T11:35:26.730Z"
   },
   {
    "duration": 7,
    "start_time": "2021-10-10T11:35:26.770Z"
   },
   {
    "duration": 34,
    "start_time": "2021-10-10T11:35:26.779Z"
   },
   {
    "duration": 556,
    "start_time": "2021-10-11T10:27:32.148Z"
   },
   {
    "duration": 99,
    "start_time": "2021-10-11T10:27:32.706Z"
   },
   {
    "duration": 10,
    "start_time": "2021-10-11T10:27:32.807Z"
   },
   {
    "duration": 5,
    "start_time": "2021-10-11T10:27:32.820Z"
   },
   {
    "duration": 31,
    "start_time": "2021-10-11T10:27:32.826Z"
   },
   {
    "duration": 11,
    "start_time": "2021-10-11T10:27:32.858Z"
   },
   {
    "duration": 54,
    "start_time": "2021-10-11T10:27:32.870Z"
   },
   {
    "duration": 5,
    "start_time": "2021-10-11T10:27:32.925Z"
   },
   {
    "duration": 12,
    "start_time": "2021-10-11T10:27:32.932Z"
   },
   {
    "duration": 13,
    "start_time": "2021-10-11T10:27:32.946Z"
   },
   {
    "duration": 9,
    "start_time": "2021-10-11T10:27:32.960Z"
   },
   {
    "duration": 34,
    "start_time": "2021-10-11T10:27:32.971Z"
   },
   {
    "duration": 93,
    "start_time": "2021-10-11T10:27:33.007Z"
   },
   {
    "duration": 4,
    "start_time": "2021-10-11T10:27:33.102Z"
   },
   {
    "duration": 11,
    "start_time": "2021-10-11T10:27:33.107Z"
   },
   {
    "duration": 18,
    "start_time": "2021-10-11T10:27:33.119Z"
   },
   {
    "duration": 27,
    "start_time": "2021-10-11T10:27:33.138Z"
   },
   {
    "duration": 27,
    "start_time": "2021-10-11T10:27:51.637Z"
   },
   {
    "duration": 32,
    "start_time": "2021-10-11T10:31:34.088Z"
   },
   {
    "duration": 28,
    "start_time": "2021-10-11T10:32:45.306Z"
   },
   {
    "duration": 20,
    "start_time": "2021-10-11T10:33:15.946Z"
   },
   {
    "duration": 4,
    "start_time": "2021-10-11T10:33:20.214Z"
   },
   {
    "duration": 101,
    "start_time": "2021-10-11T10:33:20.219Z"
   },
   {
    "duration": 9,
    "start_time": "2021-10-11T10:33:20.322Z"
   },
   {
    "duration": 14,
    "start_time": "2021-10-11T10:33:20.333Z"
   },
   {
    "duration": 31,
    "start_time": "2021-10-11T10:33:20.348Z"
   },
   {
    "duration": 11,
    "start_time": "2021-10-11T10:33:20.380Z"
   },
   {
    "duration": 34,
    "start_time": "2021-10-11T10:33:20.392Z"
   },
   {
    "duration": 5,
    "start_time": "2021-10-11T10:33:20.427Z"
   },
   {
    "duration": 19,
    "start_time": "2021-10-11T10:33:20.434Z"
   },
   {
    "duration": 24,
    "start_time": "2021-10-11T10:33:20.455Z"
   },
   {
    "duration": 18,
    "start_time": "2021-10-11T10:33:20.481Z"
   },
   {
    "duration": 16,
    "start_time": "2021-10-11T10:33:20.501Z"
   },
   {
    "duration": 102,
    "start_time": "2021-10-11T10:33:20.519Z"
   },
   {
    "duration": 5,
    "start_time": "2021-10-11T10:33:20.623Z"
   },
   {
    "duration": 24,
    "start_time": "2021-10-11T10:33:20.630Z"
   },
   {
    "duration": 28,
    "start_time": "2021-10-11T10:33:20.656Z"
   },
   {
    "duration": 41,
    "start_time": "2021-10-11T10:33:20.686Z"
   },
   {
    "duration": 23,
    "start_time": "2021-10-11T10:33:20.730Z"
   },
   {
    "duration": 7,
    "start_time": "2021-10-11T10:33:56.195Z"
   },
   {
    "duration": 7,
    "start_time": "2021-10-11T10:34:26.105Z"
   },
   {
    "duration": 5,
    "start_time": "2021-10-11T10:37:06.125Z"
   },
   {
    "duration": 8,
    "start_time": "2021-10-11T10:37:13.304Z"
   },
   {
    "duration": 223,
    "start_time": "2021-10-11T10:37:31.866Z"
   },
   {
    "duration": 6,
    "start_time": "2021-10-11T10:38:02.985Z"
   },
   {
    "duration": 6,
    "start_time": "2021-10-11T10:38:15.265Z"
   },
   {
    "duration": 7,
    "start_time": "2021-10-11T10:38:18.545Z"
   },
   {
    "duration": 9,
    "start_time": "2021-10-11T10:38:33.068Z"
   },
   {
    "duration": 3,
    "start_time": "2021-10-11T10:38:37.156Z"
   },
   {
    "duration": 124,
    "start_time": "2021-10-11T10:38:37.161Z"
   },
   {
    "duration": 10,
    "start_time": "2021-10-11T10:38:37.288Z"
   },
   {
    "duration": 5,
    "start_time": "2021-10-11T10:38:37.300Z"
   },
   {
    "duration": 27,
    "start_time": "2021-10-11T10:38:37.306Z"
   },
   {
    "duration": 11,
    "start_time": "2021-10-11T10:38:37.335Z"
   },
   {
    "duration": 25,
    "start_time": "2021-10-11T10:38:37.348Z"
   },
   {
    "duration": 28,
    "start_time": "2021-10-11T10:38:37.374Z"
   },
   {
    "duration": 9,
    "start_time": "2021-10-11T10:38:37.405Z"
   },
   {
    "duration": 16,
    "start_time": "2021-10-11T10:38:37.415Z"
   },
   {
    "duration": 7,
    "start_time": "2021-10-11T10:38:37.433Z"
   },
   {
    "duration": 11,
    "start_time": "2021-10-11T10:38:37.441Z"
   },
   {
    "duration": 115,
    "start_time": "2021-10-11T10:38:37.454Z"
   },
   {
    "duration": 4,
    "start_time": "2021-10-11T10:38:37.571Z"
   },
   {
    "duration": 8,
    "start_time": "2021-10-11T10:38:37.577Z"
   },
   {
    "duration": 17,
    "start_time": "2021-10-11T10:38:37.599Z"
   },
   {
    "duration": 67,
    "start_time": "2021-10-11T10:38:37.617Z"
   },
   {
    "duration": 18,
    "start_time": "2021-10-11T10:38:37.700Z"
   },
   {
    "duration": 8,
    "start_time": "2021-10-11T10:38:37.719Z"
   },
   {
    "duration": 6,
    "start_time": "2021-10-11T10:38:37.729Z"
   },
   {
    "duration": 4,
    "start_time": "2021-10-11T10:39:00.385Z"
   },
   {
    "duration": 8,
    "start_time": "2021-10-11T10:39:01.246Z"
   },
   {
    "duration": 5,
    "start_time": "2021-10-11T10:40:23.398Z"
   },
   {
    "duration": 4,
    "start_time": "2021-10-11T10:40:58.896Z"
   },
   {
    "duration": 104,
    "start_time": "2021-10-11T10:40:58.908Z"
   },
   {
    "duration": 10,
    "start_time": "2021-10-11T10:40:59.014Z"
   },
   {
    "duration": 5,
    "start_time": "2021-10-11T10:40:59.026Z"
   },
   {
    "duration": 28,
    "start_time": "2021-10-11T10:40:59.033Z"
   },
   {
    "duration": 11,
    "start_time": "2021-10-11T10:40:59.063Z"
   },
   {
    "duration": 46,
    "start_time": "2021-10-11T10:40:59.076Z"
   },
   {
    "duration": 6,
    "start_time": "2021-10-11T10:40:59.124Z"
   },
   {
    "duration": 17,
    "start_time": "2021-10-11T10:40:59.133Z"
   },
   {
    "duration": 14,
    "start_time": "2021-10-11T10:40:59.152Z"
   },
   {
    "duration": 33,
    "start_time": "2021-10-11T10:40:59.168Z"
   },
   {
    "duration": 10,
    "start_time": "2021-10-11T10:40:59.203Z"
   },
   {
    "duration": 99,
    "start_time": "2021-10-11T10:40:59.214Z"
   },
   {
    "duration": 4,
    "start_time": "2021-10-11T10:40:59.314Z"
   },
   {
    "duration": 10,
    "start_time": "2021-10-11T10:40:59.319Z"
   },
   {
    "duration": 19,
    "start_time": "2021-10-11T10:40:59.330Z"
   },
   {
    "duration": 52,
    "start_time": "2021-10-11T10:40:59.351Z"
   },
   {
    "duration": 18,
    "start_time": "2021-10-11T10:40:59.405Z"
   },
   {
    "duration": 4,
    "start_time": "2021-10-11T10:40:59.424Z"
   },
   {
    "duration": 7,
    "start_time": "2021-10-11T10:40:59.430Z"
   },
   {
    "duration": 7,
    "start_time": "2021-10-11T10:40:59.438Z"
   },
   {
    "duration": 5,
    "start_time": "2021-10-11T10:40:59.446Z"
   },
   {
    "duration": 5,
    "start_time": "2021-10-11T10:42:39.511Z"
   },
   {
    "duration": 8,
    "start_time": "2021-10-11T10:42:39.723Z"
   },
   {
    "duration": 4,
    "start_time": "2021-10-11T10:42:44.862Z"
   },
   {
    "duration": 101,
    "start_time": "2021-10-11T10:42:44.868Z"
   },
   {
    "duration": 10,
    "start_time": "2021-10-11T10:42:44.971Z"
   },
   {
    "duration": 6,
    "start_time": "2021-10-11T10:42:45.049Z"
   },
   {
    "duration": 28,
    "start_time": "2021-10-11T10:42:45.057Z"
   },
   {
    "duration": 11,
    "start_time": "2021-10-11T10:42:45.087Z"
   },
   {
    "duration": 34,
    "start_time": "2021-10-11T10:42:45.100Z"
   },
   {
    "duration": 5,
    "start_time": "2021-10-11T10:42:45.136Z"
   },
   {
    "duration": 14,
    "start_time": "2021-10-11T10:42:45.143Z"
   },
   {
    "duration": 17,
    "start_time": "2021-10-11T10:42:45.159Z"
   },
   {
    "duration": 9,
    "start_time": "2021-10-11T10:42:45.178Z"
   },
   {
    "duration": 19,
    "start_time": "2021-10-11T10:42:45.189Z"
   },
   {
    "duration": 106,
    "start_time": "2021-10-11T10:42:45.211Z"
   },
   {
    "duration": 4,
    "start_time": "2021-10-11T10:42:45.319Z"
   },
   {
    "duration": 9,
    "start_time": "2021-10-11T10:42:45.325Z"
   },
   {
    "duration": 17,
    "start_time": "2021-10-11T10:42:45.335Z"
   },
   {
    "duration": 50,
    "start_time": "2021-10-11T10:42:45.354Z"
   },
   {
    "duration": 17,
    "start_time": "2021-10-11T10:42:45.406Z"
   },
   {
    "duration": 4,
    "start_time": "2021-10-11T10:42:45.425Z"
   },
   {
    "duration": 9,
    "start_time": "2021-10-11T10:42:45.430Z"
   },
   {
    "duration": 4,
    "start_time": "2021-10-11T10:42:45.440Z"
   },
   {
    "duration": 9,
    "start_time": "2021-10-11T10:42:45.445Z"
   },
   {
    "duration": 8,
    "start_time": "2021-10-11T10:42:45.455Z"
   },
   {
    "duration": 6,
    "start_time": "2021-10-11T10:42:45.464Z"
   },
   {
    "duration": 6,
    "start_time": "2021-10-11T10:45:48.864Z"
   },
   {
    "duration": 7,
    "start_time": "2021-10-11T10:45:49.137Z"
   },
   {
    "duration": 3,
    "start_time": "2021-10-11T11:54:14.768Z"
   },
   {
    "duration": 101,
    "start_time": "2021-10-11T11:54:14.773Z"
   },
   {
    "duration": 10,
    "start_time": "2021-10-11T11:54:14.876Z"
   },
   {
    "duration": 11,
    "start_time": "2021-10-11T11:54:14.888Z"
   },
   {
    "duration": 30,
    "start_time": "2021-10-11T11:54:14.900Z"
   },
   {
    "duration": 12,
    "start_time": "2021-10-11T11:54:14.932Z"
   },
   {
    "duration": 26,
    "start_time": "2021-10-11T11:54:14.945Z"
   },
   {
    "duration": 27,
    "start_time": "2021-10-11T11:54:14.973Z"
   },
   {
    "duration": 14,
    "start_time": "2021-10-11T11:54:15.004Z"
   },
   {
    "duration": 31,
    "start_time": "2021-10-11T11:54:15.020Z"
   },
   {
    "duration": 10,
    "start_time": "2021-10-11T11:54:15.053Z"
   },
   {
    "duration": 12,
    "start_time": "2021-10-11T11:54:15.065Z"
   },
   {
    "duration": 99,
    "start_time": "2021-10-11T11:54:15.079Z"
   },
   {
    "duration": 5,
    "start_time": "2021-10-11T11:54:15.180Z"
   },
   {
    "duration": 22,
    "start_time": "2021-10-11T11:54:15.186Z"
   },
   {
    "duration": 19,
    "start_time": "2021-10-11T11:54:15.210Z"
   },
   {
    "duration": 30,
    "start_time": "2021-10-11T11:54:15.231Z"
   },
   {
    "duration": 45,
    "start_time": "2021-10-11T11:54:15.262Z"
   },
   {
    "duration": 4,
    "start_time": "2021-10-11T11:54:15.308Z"
   },
   {
    "duration": 10,
    "start_time": "2021-10-11T11:54:15.313Z"
   },
   {
    "duration": 9,
    "start_time": "2021-10-11T11:54:15.325Z"
   },
   {
    "duration": 8,
    "start_time": "2021-10-11T11:54:15.336Z"
   },
   {
    "duration": 142,
    "start_time": "2021-10-11T11:54:15.346Z"
   },
   {
    "duration": 17435,
    "start_time": "2021-10-11T11:53:58.054Z"
   },
   {
    "duration": 17431,
    "start_time": "2021-10-11T11:53:58.059Z"
   },
   {
    "duration": 5,
    "start_time": "2021-10-11T11:55:41.039Z"
   },
   {
    "duration": 9,
    "start_time": "2021-10-11T11:55:41.349Z"
   },
   {
    "duration": 6,
    "start_time": "2021-10-11T11:55:41.799Z"
   },
   {
    "duration": 4,
    "start_time": "2021-10-11T11:56:03.520Z"
   },
   {
    "duration": 115,
    "start_time": "2021-10-11T11:56:03.526Z"
   },
   {
    "duration": 11,
    "start_time": "2021-10-11T11:56:03.644Z"
   },
   {
    "duration": 7,
    "start_time": "2021-10-11T11:56:03.657Z"
   },
   {
    "duration": 29,
    "start_time": "2021-10-11T11:56:03.665Z"
   },
   {
    "duration": 11,
    "start_time": "2021-10-11T11:56:03.696Z"
   },
   {
    "duration": 26,
    "start_time": "2021-10-11T11:56:03.708Z"
   },
   {
    "duration": 5,
    "start_time": "2021-10-11T11:56:03.735Z"
   },
   {
    "duration": 11,
    "start_time": "2021-10-11T11:56:03.743Z"
   },
   {
    "duration": 15,
    "start_time": "2021-10-11T11:56:03.756Z"
   },
   {
    "duration": 31,
    "start_time": "2021-10-11T11:56:03.773Z"
   },
   {
    "duration": 10,
    "start_time": "2021-10-11T11:56:03.806Z"
   },
   {
    "duration": 100,
    "start_time": "2021-10-11T11:56:03.817Z"
   },
   {
    "duration": 5,
    "start_time": "2021-10-11T11:56:03.918Z"
   },
   {
    "duration": 11,
    "start_time": "2021-10-11T11:56:03.924Z"
   },
   {
    "duration": 17,
    "start_time": "2021-10-11T11:56:03.937Z"
   },
   {
    "duration": 54,
    "start_time": "2021-10-11T11:56:03.955Z"
   },
   {
    "duration": 19,
    "start_time": "2021-10-11T11:56:04.011Z"
   },
   {
    "duration": 4,
    "start_time": "2021-10-11T11:56:04.031Z"
   },
   {
    "duration": 8,
    "start_time": "2021-10-11T11:56:04.037Z"
   },
   {
    "duration": 6,
    "start_time": "2021-10-11T11:56:04.046Z"
   },
   {
    "duration": 14,
    "start_time": "2021-10-11T11:56:04.053Z"
   },
   {
    "duration": 35,
    "start_time": "2021-10-11T11:56:04.069Z"
   },
   {
    "duration": 10,
    "start_time": "2021-10-11T11:56:04.105Z"
   },
   {
    "duration": 5,
    "start_time": "2021-10-11T11:56:04.117Z"
   },
   {
    "duration": 6,
    "start_time": "2021-10-11T11:56:04.124Z"
   },
   {
    "duration": 14,
    "start_time": "2021-10-11T12:08:40.668Z"
   },
   {
    "duration": 4115,
    "start_time": "2021-10-11T12:08:47.918Z"
   },
   {
    "duration": 3,
    "start_time": "2021-10-11T12:12:13.572Z"
   },
   {
    "duration": 4682,
    "start_time": "2021-10-11T12:13:13.052Z"
   },
   {
    "duration": 3,
    "start_time": "2021-10-11T12:13:28.292Z"
   },
   {
    "duration": 102,
    "start_time": "2021-10-11T12:13:28.298Z"
   },
   {
    "duration": 10,
    "start_time": "2021-10-11T12:13:28.402Z"
   },
   {
    "duration": 7,
    "start_time": "2021-10-11T12:13:28.414Z"
   },
   {
    "duration": 33,
    "start_time": "2021-10-11T12:13:28.422Z"
   },
   {
    "duration": 11,
    "start_time": "2021-10-11T12:13:28.457Z"
   },
   {
    "duration": 49,
    "start_time": "2021-10-11T12:13:28.469Z"
   },
   {
    "duration": 5,
    "start_time": "2021-10-11T12:13:28.520Z"
   },
   {
    "duration": 11,
    "start_time": "2021-10-11T12:13:28.527Z"
   },
   {
    "duration": 13,
    "start_time": "2021-10-11T12:13:28.540Z"
   },
   {
    "duration": 7,
    "start_time": "2021-10-11T12:13:28.555Z"
   },
   {
    "duration": 36,
    "start_time": "2021-10-11T12:13:28.564Z"
   },
   {
    "duration": 92,
    "start_time": "2021-10-11T12:13:28.601Z"
   },
   {
    "duration": 4,
    "start_time": "2021-10-11T12:13:28.700Z"
   },
   {
    "duration": 9,
    "start_time": "2021-10-11T12:13:28.705Z"
   },
   {
    "duration": 20,
    "start_time": "2021-10-11T12:13:28.716Z"
   },
   {
    "duration": 29,
    "start_time": "2021-10-11T12:13:28.738Z"
   },
   {
    "duration": 47,
    "start_time": "2021-10-11T12:13:28.768Z"
   },
   {
    "duration": 6,
    "start_time": "2021-10-11T12:13:28.816Z"
   },
   {
    "duration": 6,
    "start_time": "2021-10-11T12:13:28.824Z"
   },
   {
    "duration": 4745,
    "start_time": "2021-10-11T12:13:28.831Z"
   },
   {
    "duration": 3,
    "start_time": "2021-10-11T12:14:41.533Z"
   },
   {
    "duration": 98,
    "start_time": "2021-10-11T12:14:41.538Z"
   },
   {
    "duration": 10,
    "start_time": "2021-10-11T12:14:41.638Z"
   },
   {
    "duration": 5,
    "start_time": "2021-10-11T12:14:41.650Z"
   },
   {
    "duration": 26,
    "start_time": "2021-10-11T12:14:41.657Z"
   },
   {
    "duration": 9,
    "start_time": "2021-10-11T12:14:41.685Z"
   },
   {
    "duration": 24,
    "start_time": "2021-10-11T12:14:41.696Z"
   },
   {
    "duration": 5,
    "start_time": "2021-10-11T12:14:41.721Z"
   },
   {
    "duration": 11,
    "start_time": "2021-10-11T12:14:41.891Z"
   },
   {
    "duration": 24,
    "start_time": "2021-10-11T12:14:41.904Z"
   },
   {
    "duration": 10,
    "start_time": "2021-10-11T12:14:41.930Z"
   },
   {
    "duration": 22,
    "start_time": "2021-10-11T12:14:41.942Z"
   },
   {
    "duration": 95,
    "start_time": "2021-10-11T12:14:41.966Z"
   },
   {
    "duration": 4,
    "start_time": "2021-10-11T12:14:42.063Z"
   },
   {
    "duration": 9,
    "start_time": "2021-10-11T12:14:42.069Z"
   },
   {
    "duration": 18,
    "start_time": "2021-10-11T12:14:42.240Z"
   },
   {
    "duration": 29,
    "start_time": "2021-10-11T12:14:42.260Z"
   },
   {
    "duration": 19,
    "start_time": "2021-10-11T12:14:42.295Z"
   },
   {
    "duration": 4,
    "start_time": "2021-10-11T12:14:42.315Z"
   },
   {
    "duration": 22,
    "start_time": "2021-10-11T12:14:42.321Z"
   },
   {
    "duration": 5,
    "start_time": "2021-10-11T12:14:42.345Z"
   },
   {
    "duration": 20,
    "start_time": "2021-10-11T12:14:42.351Z"
   },
   {
    "duration": 16,
    "start_time": "2021-10-11T12:14:42.372Z"
   },
   {
    "duration": 4752,
    "start_time": "2021-10-11T12:14:42.390Z"
   },
   {
    "duration": 2013,
    "start_time": "2021-10-11T12:14:47.145Z"
   },
   {
    "duration": 16598,
    "start_time": "2021-10-11T12:14:32.561Z"
   },
   {
    "duration": 16593,
    "start_time": "2021-10-11T12:14:32.567Z"
   },
   {
    "duration": 924,
    "start_time": "2021-10-11T12:15:19.612Z"
   },
   {
    "duration": 144,
    "start_time": "2021-10-11T12:16:14.372Z"
   },
   {
    "duration": 3,
    "start_time": "2021-10-11T12:16:23.653Z"
   },
   {
    "duration": 104,
    "start_time": "2021-10-11T12:16:23.658Z"
   },
   {
    "duration": 11,
    "start_time": "2021-10-11T12:16:23.764Z"
   },
   {
    "duration": 5,
    "start_time": "2021-10-11T12:16:23.777Z"
   },
   {
    "duration": 28,
    "start_time": "2021-10-11T12:16:23.784Z"
   },
   {
    "duration": 12,
    "start_time": "2021-10-11T12:16:23.813Z"
   },
   {
    "duration": 28,
    "start_time": "2021-10-11T12:16:23.827Z"
   },
   {
    "duration": 6,
    "start_time": "2021-10-11T12:16:23.856Z"
   },
   {
    "duration": 36,
    "start_time": "2021-10-11T12:16:23.864Z"
   },
   {
    "duration": 15,
    "start_time": "2021-10-11T12:16:23.901Z"
   },
   {
    "duration": 8,
    "start_time": "2021-10-11T12:16:23.918Z"
   },
   {
    "duration": 10,
    "start_time": "2021-10-11T12:16:23.927Z"
   },
   {
    "duration": 109,
    "start_time": "2021-10-11T12:16:23.938Z"
   },
   {
    "duration": 4,
    "start_time": "2021-10-11T12:16:24.049Z"
   },
   {
    "duration": 11,
    "start_time": "2021-10-11T12:16:24.055Z"
   },
   {
    "duration": 39,
    "start_time": "2021-10-11T12:16:24.068Z"
   },
   {
    "duration": 30,
    "start_time": "2021-10-11T12:16:24.109Z"
   },
   {
    "duration": 19,
    "start_time": "2021-10-11T12:16:24.141Z"
   },
   {
    "duration": 5,
    "start_time": "2021-10-11T12:16:24.162Z"
   },
   {
    "duration": 5,
    "start_time": "2021-10-11T12:16:24.199Z"
   },
   {
    "duration": 7,
    "start_time": "2021-10-11T12:16:24.206Z"
   },
   {
    "duration": 8,
    "start_time": "2021-10-11T12:16:24.215Z"
   },
   {
    "duration": 8,
    "start_time": "2021-10-11T12:16:24.224Z"
   },
   {
    "duration": 4377,
    "start_time": "2021-10-11T12:16:24.233Z"
   },
   {
    "duration": 17388,
    "start_time": "2021-10-11T12:16:11.224Z"
   },
   {
    "duration": 17381,
    "start_time": "2021-10-11T12:16:11.232Z"
   },
   {
    "duration": 17378,
    "start_time": "2021-10-11T12:16:11.237Z"
   },
   {
    "duration": 159,
    "start_time": "2021-10-11T12:16:51.972Z"
   },
   {
    "duration": 305,
    "start_time": "2021-10-11T12:22:17.030Z"
   },
   {
    "duration": 322,
    "start_time": "2021-10-11T12:24:39.085Z"
   },
   {
    "duration": 154,
    "start_time": "2021-10-11T12:25:19.786Z"
   },
   {
    "duration": 25,
    "start_time": "2021-10-11T12:29:47.996Z"
   },
   {
    "duration": 22,
    "start_time": "2021-10-11T12:30:09.696Z"
   },
   {
    "duration": 25,
    "start_time": "2021-10-11T12:30:43.983Z"
   },
   {
    "duration": 26,
    "start_time": "2021-10-11T12:30:54.472Z"
   },
   {
    "duration": 3,
    "start_time": "2021-10-11T12:31:15.436Z"
   },
   {
    "duration": 91,
    "start_time": "2021-10-11T12:31:15.441Z"
   },
   {
    "duration": 10,
    "start_time": "2021-10-11T12:31:15.534Z"
   },
   {
    "duration": 5,
    "start_time": "2021-10-11T12:31:15.546Z"
   },
   {
    "duration": 26,
    "start_time": "2021-10-11T12:31:15.552Z"
   },
   {
    "duration": 11,
    "start_time": "2021-10-11T12:31:15.580Z"
   },
   {
    "duration": 29,
    "start_time": "2021-10-11T12:31:15.592Z"
   },
   {
    "duration": 4,
    "start_time": "2021-10-11T12:31:15.623Z"
   },
   {
    "duration": 12,
    "start_time": "2021-10-11T12:31:15.630Z"
   },
   {
    "duration": 13,
    "start_time": "2021-10-11T12:31:15.644Z"
   },
   {
    "duration": 10,
    "start_time": "2021-10-11T12:31:15.658Z"
   },
   {
    "duration": 29,
    "start_time": "2021-10-11T12:31:15.670Z"
   },
   {
    "duration": 84,
    "start_time": "2021-10-11T12:31:15.701Z"
   },
   {
    "duration": 14,
    "start_time": "2021-10-11T12:31:15.786Z"
   },
   {
    "duration": 11,
    "start_time": "2021-10-11T12:31:15.801Z"
   },
   {
    "duration": 18,
    "start_time": "2021-10-11T12:31:15.814Z"
   },
   {
    "duration": 32,
    "start_time": "2021-10-11T12:31:15.834Z"
   },
   {
    "duration": 48,
    "start_time": "2021-10-11T12:31:15.867Z"
   },
   {
    "duration": 7,
    "start_time": "2021-10-11T12:31:15.916Z"
   },
   {
    "duration": 7,
    "start_time": "2021-10-11T12:31:15.925Z"
   },
   {
    "duration": 8,
    "start_time": "2021-10-11T12:31:15.934Z"
   },
   {
    "duration": 6,
    "start_time": "2021-10-11T12:31:15.944Z"
   },
   {
    "duration": 8,
    "start_time": "2021-10-11T12:31:15.951Z"
   },
   {
    "duration": 59,
    "start_time": "2021-10-11T12:31:15.960Z"
   },
   {
    "duration": 3,
    "start_time": "2021-10-11T12:31:29.208Z"
   },
   {
    "duration": 94,
    "start_time": "2021-10-11T12:31:29.213Z"
   },
   {
    "duration": 10,
    "start_time": "2021-10-11T12:31:29.309Z"
   },
   {
    "duration": 5,
    "start_time": "2021-10-11T12:31:29.321Z"
   },
   {
    "duration": 28,
    "start_time": "2021-10-11T12:31:29.328Z"
   },
   {
    "duration": 10,
    "start_time": "2021-10-11T12:31:29.357Z"
   },
   {
    "duration": 49,
    "start_time": "2021-10-11T12:31:29.368Z"
   },
   {
    "duration": 4,
    "start_time": "2021-10-11T12:31:29.419Z"
   },
   {
    "duration": 10,
    "start_time": "2021-10-11T12:31:29.426Z"
   },
   {
    "duration": 14,
    "start_time": "2021-10-11T12:31:29.438Z"
   },
   {
    "duration": 8,
    "start_time": "2021-10-11T12:31:29.453Z"
   },
   {
    "duration": 12,
    "start_time": "2021-10-11T12:31:29.463Z"
   },
   {
    "duration": 110,
    "start_time": "2021-10-11T12:31:29.476Z"
   },
   {
    "duration": 12,
    "start_time": "2021-10-11T12:31:29.588Z"
   },
   {
    "duration": 8,
    "start_time": "2021-10-11T12:31:29.602Z"
   },
   {
    "duration": 22,
    "start_time": "2021-10-11T12:31:29.612Z"
   },
   {
    "duration": 31,
    "start_time": "2021-10-11T12:31:29.636Z"
   },
   {
    "duration": 43,
    "start_time": "2021-10-11T12:31:29.669Z"
   },
   {
    "duration": 5,
    "start_time": "2021-10-11T12:31:29.714Z"
   },
   {
    "duration": 7,
    "start_time": "2021-10-11T12:31:29.721Z"
   },
   {
    "duration": 25,
    "start_time": "2021-10-11T12:31:29.729Z"
   },
   {
    "duration": 32,
    "start_time": "2021-10-11T12:34:11.601Z"
   },
   {
    "duration": 33,
    "start_time": "2021-10-11T12:35:01.334Z"
   },
   {
    "duration": 29,
    "start_time": "2021-10-11T12:35:21.310Z"
   },
   {
    "duration": 13,
    "start_time": "2021-10-11T12:38:18.236Z"
   },
   {
    "duration": 28,
    "start_time": "2021-10-11T12:42:48.227Z"
   },
   {
    "duration": 23,
    "start_time": "2021-10-11T12:43:08.641Z"
   },
   {
    "duration": 4925,
    "start_time": "2021-10-11T13:44:03.008Z"
   },
   {
    "duration": 573,
    "start_time": "2021-10-11T13:45:51.427Z"
   },
   {
    "duration": 11,
    "start_time": "2021-10-11T13:46:03.157Z"
   },
   {
    "duration": 3,
    "start_time": "2021-10-11T13:46:07.808Z"
   },
   {
    "duration": 126,
    "start_time": "2021-10-11T13:46:07.813Z"
   },
   {
    "duration": 11,
    "start_time": "2021-10-11T13:46:07.941Z"
   },
   {
    "duration": 5,
    "start_time": "2021-10-11T13:46:07.954Z"
   },
   {
    "duration": 26,
    "start_time": "2021-10-11T13:46:07.961Z"
   },
   {
    "duration": 13,
    "start_time": "2021-10-11T13:46:07.989Z"
   },
   {
    "duration": 26,
    "start_time": "2021-10-11T13:46:08.003Z"
   },
   {
    "duration": 5,
    "start_time": "2021-10-11T13:46:08.031Z"
   },
   {
    "duration": 10,
    "start_time": "2021-10-11T13:46:08.039Z"
   },
   {
    "duration": 14,
    "start_time": "2021-10-11T13:46:08.050Z"
   },
   {
    "duration": 36,
    "start_time": "2021-10-11T13:46:08.066Z"
   },
   {
    "duration": 10,
    "start_time": "2021-10-11T13:46:08.104Z"
   },
   {
    "duration": 99,
    "start_time": "2021-10-11T13:46:08.115Z"
   },
   {
    "duration": 4,
    "start_time": "2021-10-11T13:46:08.215Z"
   },
   {
    "duration": 10,
    "start_time": "2021-10-11T13:46:08.221Z"
   },
   {
    "duration": 18,
    "start_time": "2021-10-11T13:46:08.232Z"
   },
   {
    "duration": 57,
    "start_time": "2021-10-11T13:46:08.252Z"
   },
   {
    "duration": 21,
    "start_time": "2021-10-11T13:46:08.311Z"
   },
   {
    "duration": 7,
    "start_time": "2021-10-11T13:46:08.334Z"
   },
   {
    "duration": 25,
    "start_time": "2021-10-11T13:46:08.342Z"
   },
   {
    "duration": 38,
    "start_time": "2021-10-11T13:46:08.369Z"
   },
   {
    "duration": 24,
    "start_time": "2021-10-11T13:46:08.408Z"
   },
   {
    "duration": 592,
    "start_time": "2021-10-11T13:46:08.434Z"
   },
   {
    "duration": 11,
    "start_time": "2021-10-11T13:46:09.028Z"
   },
   {
    "duration": 48,
    "start_time": "2021-10-11T13:46:21.837Z"
   },
   {
    "duration": 30,
    "start_time": "2021-10-11T13:46:28.557Z"
   },
   {
    "duration": 29,
    "start_time": "2021-10-11T13:46:38.917Z"
   },
   {
    "duration": 31,
    "start_time": "2021-10-11T13:48:04.223Z"
   },
   {
    "duration": 47,
    "start_time": "2021-10-11T13:48:24.461Z"
   },
   {
    "duration": 30,
    "start_time": "2021-10-11T13:48:34.442Z"
   },
   {
    "duration": 618,
    "start_time": "2021-10-11T13:50:42.566Z"
   },
   {
    "duration": 31,
    "start_time": "2021-10-11T13:54:01.086Z"
   },
   {
    "duration": 13,
    "start_time": "2021-10-11T13:54:11.766Z"
   },
   {
    "duration": 4,
    "start_time": "2021-10-11T13:54:16.209Z"
   },
   {
    "duration": 109,
    "start_time": "2021-10-11T13:54:16.216Z"
   },
   {
    "duration": 12,
    "start_time": "2021-10-11T13:54:16.327Z"
   },
   {
    "duration": 5,
    "start_time": "2021-10-11T13:54:16.341Z"
   },
   {
    "duration": 37,
    "start_time": "2021-10-11T13:54:16.348Z"
   },
   {
    "duration": 12,
    "start_time": "2021-10-11T13:54:16.387Z"
   },
   {
    "duration": 26,
    "start_time": "2021-10-11T13:54:16.401Z"
   },
   {
    "duration": 6,
    "start_time": "2021-10-11T13:54:16.429Z"
   },
   {
    "duration": 19,
    "start_time": "2021-10-11T13:54:16.436Z"
   },
   {
    "duration": 15,
    "start_time": "2021-10-11T13:54:16.675Z"
   },
   {
    "duration": 17,
    "start_time": "2021-10-11T13:54:16.691Z"
   },
   {
    "duration": 13,
    "start_time": "2021-10-11T13:54:16.710Z"
   },
   {
    "duration": 86,
    "start_time": "2021-10-11T13:54:16.725Z"
   },
   {
    "duration": 4,
    "start_time": "2021-10-11T13:54:16.813Z"
   },
   {
    "duration": 10,
    "start_time": "2021-10-11T13:54:16.818Z"
   },
   {
    "duration": 18,
    "start_time": "2021-10-11T13:54:17.094Z"
   },
   {
    "duration": 29,
    "start_time": "2021-10-11T13:54:17.114Z"
   },
   {
    "duration": 20,
    "start_time": "2021-10-11T13:54:17.275Z"
   },
   {
    "duration": 5,
    "start_time": "2021-10-11T13:54:17.297Z"
   },
   {
    "duration": 12,
    "start_time": "2021-10-11T13:54:17.304Z"
   },
   {
    "duration": 29,
    "start_time": "2021-10-11T13:54:17.317Z"
   },
   {
    "duration": 12,
    "start_time": "2021-10-11T13:54:17.348Z"
   },
   {
    "duration": 50,
    "start_time": "2021-10-11T13:54:17.362Z"
   },
   {
    "duration": 579,
    "start_time": "2021-10-11T13:54:17.414Z"
   },
   {
    "duration": 151,
    "start_time": "2021-10-11T13:55:50.486Z"
   },
   {
    "duration": 12,
    "start_time": "2021-10-11T13:55:57.015Z"
   },
   {
    "duration": 25,
    "start_time": "2021-10-11T13:58:04.413Z"
   },
   {
    "duration": 6,
    "start_time": "2021-10-11T14:04:39.160Z"
   },
   {
    "duration": 2614,
    "start_time": "2021-10-11T14:04:52.410Z"
   },
   {
    "duration": 14,
    "start_time": "2021-10-11T14:06:50.320Z"
   },
   {
    "duration": 150,
    "start_time": "2021-10-11T14:07:07.239Z"
   },
   {
    "duration": 31,
    "start_time": "2021-10-11T14:07:11.279Z"
   },
   {
    "duration": 3,
    "start_time": "2021-10-11T14:07:19.281Z"
   },
   {
    "duration": 103,
    "start_time": "2021-10-11T14:07:19.286Z"
   },
   {
    "duration": 12,
    "start_time": "2021-10-11T14:07:19.391Z"
   },
   {
    "duration": 5,
    "start_time": "2021-10-11T14:07:19.405Z"
   },
   {
    "duration": 28,
    "start_time": "2021-10-11T14:07:19.411Z"
   },
   {
    "duration": 12,
    "start_time": "2021-10-11T14:07:19.441Z"
   },
   {
    "duration": 48,
    "start_time": "2021-10-11T14:07:19.455Z"
   },
   {
    "duration": 5,
    "start_time": "2021-10-11T14:07:19.505Z"
   },
   {
    "duration": 10,
    "start_time": "2021-10-11T14:07:19.512Z"
   },
   {
    "duration": 13,
    "start_time": "2021-10-11T14:07:19.524Z"
   },
   {
    "duration": 7,
    "start_time": "2021-10-11T14:07:19.539Z"
   },
   {
    "duration": 9,
    "start_time": "2021-10-11T14:07:19.547Z"
   },
   {
    "duration": 113,
    "start_time": "2021-10-11T14:07:19.557Z"
   },
   {
    "duration": 4,
    "start_time": "2021-10-11T14:07:19.672Z"
   },
   {
    "duration": 23,
    "start_time": "2021-10-11T14:07:19.677Z"
   },
   {
    "duration": 17,
    "start_time": "2021-10-11T14:07:19.701Z"
   },
   {
    "duration": 27,
    "start_time": "2021-10-11T14:07:19.719Z"
   },
   {
    "duration": 18,
    "start_time": "2021-10-11T14:07:19.748Z"
   },
   {
    "duration": 37,
    "start_time": "2021-10-11T14:07:19.768Z"
   },
   {
    "duration": 11,
    "start_time": "2021-10-11T14:07:19.806Z"
   },
   {
    "duration": 8,
    "start_time": "2021-10-11T14:07:19.818Z"
   },
   {
    "duration": 26,
    "start_time": "2021-10-11T14:07:19.828Z"
   },
   {
    "duration": 53,
    "start_time": "2021-10-11T14:07:19.855Z"
   },
   {
    "duration": 630,
    "start_time": "2021-10-11T14:07:19.909Z"
   },
   {
    "duration": 629,
    "start_time": "2021-10-11T14:08:41.522Z"
   },
   {
    "duration": 4,
    "start_time": "2021-10-11T14:09:09.162Z"
   },
   {
    "duration": 106,
    "start_time": "2021-10-11T14:09:09.167Z"
   },
   {
    "duration": 10,
    "start_time": "2021-10-11T14:09:09.275Z"
   },
   {
    "duration": 6,
    "start_time": "2021-10-11T14:09:09.287Z"
   },
   {
    "duration": 28,
    "start_time": "2021-10-11T14:09:09.294Z"
   },
   {
    "duration": 12,
    "start_time": "2021-10-11T14:09:09.323Z"
   },
   {
    "duration": 25,
    "start_time": "2021-10-11T14:09:09.336Z"
   },
   {
    "duration": 5,
    "start_time": "2021-10-11T14:09:09.363Z"
   },
   {
    "duration": 38,
    "start_time": "2021-10-11T14:09:09.370Z"
   },
   {
    "duration": 16,
    "start_time": "2021-10-11T14:09:09.409Z"
   },
   {
    "duration": 13,
    "start_time": "2021-10-11T14:09:09.426Z"
   },
   {
    "duration": 15,
    "start_time": "2021-10-11T14:09:09.440Z"
   },
   {
    "duration": 116,
    "start_time": "2021-10-11T14:09:09.456Z"
   },
   {
    "duration": 5,
    "start_time": "2021-10-11T14:09:09.573Z"
   },
   {
    "duration": 26,
    "start_time": "2021-10-11T14:09:09.579Z"
   },
   {
    "duration": 17,
    "start_time": "2021-10-11T14:09:09.606Z"
   },
   {
    "duration": 30,
    "start_time": "2021-10-11T14:09:09.626Z"
   },
   {
    "duration": 54,
    "start_time": "2021-10-11T14:09:09.658Z"
   },
   {
    "duration": 16,
    "start_time": "2021-10-11T14:09:09.714Z"
   },
   {
    "duration": 11,
    "start_time": "2021-10-11T14:09:09.732Z"
   },
   {
    "duration": 8,
    "start_time": "2021-10-11T14:09:09.745Z"
   },
   {
    "duration": 59,
    "start_time": "2021-10-11T14:09:09.754Z"
   },
   {
    "duration": 25,
    "start_time": "2021-10-11T14:09:09.814Z"
   },
   {
    "duration": 607,
    "start_time": "2021-10-11T14:09:09.841Z"
   },
   {
    "duration": 4,
    "start_time": "2021-10-11T14:15:11.951Z"
   },
   {
    "duration": 18,
    "start_time": "2021-10-11T14:15:24.190Z"
   },
   {
    "duration": 29,
    "start_time": "2021-10-11T14:17:04.243Z"
   },
   {
    "duration": 42,
    "start_time": "2021-10-11T14:17:16.214Z"
   },
   {
    "duration": 3,
    "start_time": "2021-10-11T14:17:28.184Z"
   },
   {
    "duration": 107,
    "start_time": "2021-10-11T14:17:28.189Z"
   },
   {
    "duration": 10,
    "start_time": "2021-10-11T14:17:28.298Z"
   },
   {
    "duration": 17,
    "start_time": "2021-10-11T14:17:28.310Z"
   },
   {
    "duration": 51,
    "start_time": "2021-10-11T14:17:28.329Z"
   },
   {
    "duration": 13,
    "start_time": "2021-10-11T14:17:28.382Z"
   },
   {
    "duration": 32,
    "start_time": "2021-10-11T14:17:28.397Z"
   },
   {
    "duration": 6,
    "start_time": "2021-10-11T14:17:28.430Z"
   },
   {
    "duration": 20,
    "start_time": "2021-10-11T14:17:28.438Z"
   },
   {
    "duration": 24,
    "start_time": "2021-10-11T14:17:28.460Z"
   },
   {
    "duration": 12,
    "start_time": "2021-10-11T14:17:28.485Z"
   },
   {
    "duration": 20,
    "start_time": "2021-10-11T14:17:28.498Z"
   },
   {
    "duration": 92,
    "start_time": "2021-10-11T14:17:28.520Z"
   },
   {
    "duration": 5,
    "start_time": "2021-10-11T14:17:28.613Z"
   },
   {
    "duration": 20,
    "start_time": "2021-10-11T14:17:28.619Z"
   },
   {
    "duration": 39,
    "start_time": "2021-10-11T14:17:28.640Z"
   },
   {
    "duration": 17,
    "start_time": "2021-10-11T14:17:28.681Z"
   },
   {
    "duration": 14,
    "start_time": "2021-10-11T14:17:28.700Z"
   },
   {
    "duration": 21,
    "start_time": "2021-10-11T14:17:28.715Z"
   },
   {
    "duration": 17,
    "start_time": "2021-10-11T14:17:28.738Z"
   },
   {
    "duration": 37,
    "start_time": "2021-10-11T14:17:28.756Z"
   },
   {
    "duration": 22,
    "start_time": "2021-10-11T14:17:28.794Z"
   },
   {
    "duration": 624,
    "start_time": "2021-10-11T14:17:28.818Z"
   },
   {
    "duration": 15,
    "start_time": "2021-10-11T14:17:29.443Z"
   },
   {
    "duration": 10,
    "start_time": "2021-10-11T14:17:29.460Z"
   },
   {
    "duration": 51,
    "start_time": "2021-10-11T14:17:29.472Z"
   },
   {
    "duration": 46,
    "start_time": "2021-10-11T14:18:49.423Z"
   },
   {
    "duration": 42,
    "start_time": "2021-10-11T14:20:41.516Z"
   },
   {
    "duration": 21,
    "start_time": "2021-10-11T14:26:18.786Z"
   },
   {
    "duration": 23,
    "start_time": "2021-10-11T14:26:42.976Z"
   },
   {
    "duration": 29,
    "start_time": "2021-10-11T14:27:02.877Z"
   },
   {
    "duration": 22,
    "start_time": "2021-10-11T14:29:14.636Z"
   },
   {
    "duration": 27,
    "start_time": "2021-10-11T14:37:13.081Z"
   },
   {
    "duration": 4,
    "start_time": "2021-10-11T14:37:21.601Z"
   },
   {
    "duration": 4,
    "start_time": "2021-10-11T14:37:27.131Z"
   },
   {
    "duration": 4,
    "start_time": "2021-10-11T14:38:04.653Z"
   },
   {
    "duration": 130,
    "start_time": "2021-10-11T14:38:04.659Z"
   },
   {
    "duration": 12,
    "start_time": "2021-10-11T14:38:04.791Z"
   },
   {
    "duration": 13,
    "start_time": "2021-10-11T14:38:04.805Z"
   },
   {
    "duration": 29,
    "start_time": "2021-10-11T14:38:04.820Z"
   },
   {
    "duration": 13,
    "start_time": "2021-10-11T14:38:04.851Z"
   },
   {
    "duration": 50,
    "start_time": "2021-10-11T14:38:04.866Z"
   },
   {
    "duration": 6,
    "start_time": "2021-10-11T14:38:04.918Z"
   },
   {
    "duration": 10,
    "start_time": "2021-10-11T14:38:04.928Z"
   },
   {
    "duration": 15,
    "start_time": "2021-10-11T14:38:04.940Z"
   },
   {
    "duration": 8,
    "start_time": "2021-10-11T14:38:04.957Z"
   },
   {
    "duration": 44,
    "start_time": "2021-10-11T14:38:04.966Z"
   },
   {
    "duration": 109,
    "start_time": "2021-10-11T14:38:05.011Z"
   },
   {
    "duration": 5,
    "start_time": "2021-10-11T14:38:05.123Z"
   },
   {
    "duration": 11,
    "start_time": "2021-10-11T14:38:05.130Z"
   },
   {
    "duration": 20,
    "start_time": "2021-10-11T14:38:05.142Z"
   },
   {
    "duration": 48,
    "start_time": "2021-10-11T14:38:05.164Z"
   },
   {
    "duration": 15,
    "start_time": "2021-10-11T14:38:05.214Z"
   },
   {
    "duration": 9,
    "start_time": "2021-10-11T14:38:05.231Z"
   },
   {
    "duration": 6,
    "start_time": "2021-10-11T14:38:05.241Z"
   },
   {
    "duration": 57,
    "start_time": "2021-10-11T14:38:05.249Z"
   },
   {
    "duration": 21,
    "start_time": "2021-10-11T14:38:05.308Z"
   },
   {
    "duration": 638,
    "start_time": "2021-10-11T14:38:05.331Z"
   },
   {
    "duration": 4,
    "start_time": "2021-10-11T14:38:05.971Z"
   },
   {
    "duration": 46,
    "start_time": "2021-10-11T14:38:05.978Z"
   },
   {
    "duration": 4,
    "start_time": "2021-10-11T14:38:06.026Z"
   },
   {
    "duration": 20,
    "start_time": "2021-10-11T14:38:06.033Z"
   },
   {
    "duration": 3,
    "start_time": "2021-10-11T14:38:06.055Z"
   },
   {
    "duration": 61,
    "start_time": "2021-10-11T14:38:06.060Z"
   },
   {
    "duration": 25,
    "start_time": "2021-10-11T14:38:06.123Z"
   },
   {
    "duration": 658,
    "start_time": "2021-10-11T14:38:32.998Z"
   },
   {
    "duration": 17032,
    "start_time": "2021-10-11T14:38:16.627Z"
   },
   {
    "duration": 12,
    "start_time": "2021-10-11T14:38:56.028Z"
   },
   {
    "duration": 4,
    "start_time": "2021-10-11T14:39:05.352Z"
   },
   {
    "duration": 112,
    "start_time": "2021-10-11T14:39:05.358Z"
   },
   {
    "duration": 12,
    "start_time": "2021-10-11T14:39:05.472Z"
   },
   {
    "duration": 6,
    "start_time": "2021-10-11T14:39:05.486Z"
   },
   {
    "duration": 28,
    "start_time": "2021-10-11T14:39:05.494Z"
   },
   {
    "duration": 14,
    "start_time": "2021-10-11T14:39:05.524Z"
   },
   {
    "duration": 60,
    "start_time": "2021-10-11T14:39:05.540Z"
   },
   {
    "duration": 7,
    "start_time": "2021-10-11T14:39:05.601Z"
   },
   {
    "duration": 12,
    "start_time": "2021-10-11T14:39:05.610Z"
   },
   {
    "duration": 15,
    "start_time": "2021-10-11T14:39:05.624Z"
   },
   {
    "duration": 8,
    "start_time": "2021-10-11T14:39:05.641Z"
   },
   {
    "duration": 10,
    "start_time": "2021-10-11T14:39:05.652Z"
   },
   {
    "duration": 116,
    "start_time": "2021-10-11T14:39:05.665Z"
   },
   {
    "duration": 17,
    "start_time": "2021-10-11T14:39:05.784Z"
   },
   {
    "duration": 11,
    "start_time": "2021-10-11T14:39:05.803Z"
   },
   {
    "duration": 21,
    "start_time": "2021-10-11T14:39:05.816Z"
   },
   {
    "duration": 18,
    "start_time": "2021-10-11T14:39:05.839Z"
   },
   {
    "duration": 42,
    "start_time": "2021-10-11T14:39:05.858Z"
   },
   {
    "duration": 6,
    "start_time": "2021-10-11T14:39:05.902Z"
   },
   {
    "duration": 8,
    "start_time": "2021-10-11T14:39:05.909Z"
   },
   {
    "duration": 26,
    "start_time": "2021-10-11T14:39:05.919Z"
   },
   {
    "duration": 61,
    "start_time": "2021-10-11T14:39:05.946Z"
   },
   {
    "duration": 603,
    "start_time": "2021-10-11T14:39:06.009Z"
   },
   {
    "duration": 3,
    "start_time": "2021-10-11T14:39:06.614Z"
   },
   {
    "duration": 12,
    "start_time": "2021-10-11T14:39:06.619Z"
   },
   {
    "duration": 6,
    "start_time": "2021-10-11T14:39:06.633Z"
   },
   {
    "duration": 5,
    "start_time": "2021-10-11T14:39:06.642Z"
   },
   {
    "duration": 21,
    "start_time": "2021-10-11T14:39:06.649Z"
   },
   {
    "duration": 32,
    "start_time": "2021-10-11T14:39:06.671Z"
   },
   {
    "duration": 41,
    "start_time": "2021-10-11T14:39:06.704Z"
   },
   {
    "duration": 23,
    "start_time": "2021-10-11T14:39:06.747Z"
   },
   {
    "duration": 7,
    "start_time": "2021-10-11T14:39:14.851Z"
   },
   {
    "duration": 7,
    "start_time": "2021-10-11T14:39:14.860Z"
   },
   {
    "duration": 8,
    "start_time": "2021-10-11T14:40:49.631Z"
   },
   {
    "duration": 4,
    "start_time": "2021-10-11T14:40:49.961Z"
   },
   {
    "duration": 8,
    "start_time": "2021-10-11T14:41:02.001Z"
   },
   {
    "duration": 3,
    "start_time": "2021-10-11T14:41:02.552Z"
   },
   {
    "duration": 3,
    "start_time": "2021-10-11T14:41:06.468Z"
   },
   {
    "duration": 102,
    "start_time": "2021-10-11T14:41:06.473Z"
   },
   {
    "duration": 11,
    "start_time": "2021-10-11T14:41:06.577Z"
   },
   {
    "duration": 10,
    "start_time": "2021-10-11T14:41:06.590Z"
   },
   {
    "duration": 35,
    "start_time": "2021-10-11T14:41:06.602Z"
   },
   {
    "duration": 12,
    "start_time": "2021-10-11T14:41:06.638Z"
   },
   {
    "duration": 48,
    "start_time": "2021-10-11T14:41:06.652Z"
   },
   {
    "duration": 6,
    "start_time": "2021-10-11T14:41:06.702Z"
   },
   {
    "duration": 11,
    "start_time": "2021-10-11T14:41:06.710Z"
   },
   {
    "duration": 14,
    "start_time": "2021-10-11T14:41:06.723Z"
   },
   {
    "duration": 9,
    "start_time": "2021-10-11T14:41:06.738Z"
   },
   {
    "duration": 13,
    "start_time": "2021-10-11T14:41:06.748Z"
   },
   {
    "duration": 116,
    "start_time": "2021-10-11T14:41:06.763Z"
   },
   {
    "duration": 4,
    "start_time": "2021-10-11T14:41:06.881Z"
   },
   {
    "duration": 21,
    "start_time": "2021-10-11T14:41:06.887Z"
   },
   {
    "duration": 20,
    "start_time": "2021-10-11T14:41:06.910Z"
   },
   {
    "duration": 16,
    "start_time": "2021-10-11T14:41:06.932Z"
   },
   {
    "duration": 12,
    "start_time": "2021-10-11T14:41:06.950Z"
   },
   {
    "duration": 7,
    "start_time": "2021-10-11T14:41:06.964Z"
   },
   {
    "duration": 6,
    "start_time": "2021-10-11T14:41:07.000Z"
   },
   {
    "duration": 26,
    "start_time": "2021-10-11T14:41:07.008Z"
   },
   {
    "duration": 22,
    "start_time": "2021-10-11T14:41:07.035Z"
   },
   {
    "duration": 599,
    "start_time": "2021-10-11T14:41:07.059Z"
   },
   {
    "duration": 3,
    "start_time": "2021-10-11T14:41:07.659Z"
   },
   {
    "duration": 8,
    "start_time": "2021-10-11T14:41:07.664Z"
   },
   {
    "duration": 17,
    "start_time": "2021-10-11T14:41:07.673Z"
   },
   {
    "duration": 26,
    "start_time": "2021-10-11T14:41:07.693Z"
   },
   {
    "duration": 4,
    "start_time": "2021-10-11T14:41:07.721Z"
   },
   {
    "duration": 102,
    "start_time": "2021-10-11T14:41:07.727Z"
   },
   {
    "duration": 23,
    "start_time": "2021-10-11T14:41:07.830Z"
   },
   {
    "duration": 13,
    "start_time": "2021-10-11T14:41:47.852Z"
   },
   {
    "duration": 676,
    "start_time": "2021-10-13T11:55:39.461Z"
   },
   {
    "duration": 97,
    "start_time": "2021-10-13T11:55:40.139Z"
   },
   {
    "duration": 12,
    "start_time": "2021-10-13T11:55:40.238Z"
   },
   {
    "duration": 5,
    "start_time": "2021-10-13T11:55:40.252Z"
   },
   {
    "duration": 34,
    "start_time": "2021-10-13T11:55:40.259Z"
   },
   {
    "duration": 13,
    "start_time": "2021-10-13T11:55:40.295Z"
   },
   {
    "duration": 55,
    "start_time": "2021-10-13T11:55:40.310Z"
   },
   {
    "duration": 6,
    "start_time": "2021-10-13T11:55:40.367Z"
   },
   {
    "duration": 12,
    "start_time": "2021-10-13T11:55:40.376Z"
   },
   {
    "duration": 14,
    "start_time": "2021-10-13T11:55:40.390Z"
   },
   {
    "duration": 7,
    "start_time": "2021-10-13T11:55:40.407Z"
   },
   {
    "duration": 40,
    "start_time": "2021-10-13T11:55:40.415Z"
   },
   {
    "duration": 94,
    "start_time": "2021-10-13T11:55:40.457Z"
   },
   {
    "duration": 5,
    "start_time": "2021-10-13T11:55:40.553Z"
   },
   {
    "duration": 11,
    "start_time": "2021-10-13T11:55:40.559Z"
   },
   {
    "duration": 24,
    "start_time": "2021-10-13T11:55:40.572Z"
   },
   {
    "duration": 20,
    "start_time": "2021-10-13T11:55:40.598Z"
   },
   {
    "duration": 16,
    "start_time": "2021-10-13T11:55:40.650Z"
   },
   {
    "duration": 10,
    "start_time": "2021-10-13T11:55:40.668Z"
   },
   {
    "duration": 7,
    "start_time": "2021-10-13T11:55:40.680Z"
   },
   {
    "duration": 70,
    "start_time": "2021-10-13T11:55:40.689Z"
   },
   {
    "duration": 24,
    "start_time": "2021-10-13T11:55:40.761Z"
   },
   {
    "duration": 607,
    "start_time": "2021-10-13T11:55:40.787Z"
   },
   {
    "duration": 3,
    "start_time": "2021-10-13T11:55:41.396Z"
   },
   {
    "duration": 28,
    "start_time": "2021-10-13T11:55:41.401Z"
   },
   {
    "duration": 3,
    "start_time": "2021-10-13T11:55:41.431Z"
   },
   {
    "duration": 15,
    "start_time": "2021-10-13T11:55:41.437Z"
   },
   {
    "duration": 16,
    "start_time": "2021-10-13T11:55:41.453Z"
   },
   {
    "duration": 7,
    "start_time": "2021-10-13T11:55:41.471Z"
   },
   {
    "duration": 112,
    "start_time": "2021-10-13T11:55:41.480Z"
   },
   {
    "duration": 25,
    "start_time": "2021-10-13T11:55:41.593Z"
   },
   {
    "duration": 6,
    "start_time": "2021-10-13T11:58:55.710Z"
   },
   {
    "duration": 7,
    "start_time": "2021-10-13T11:59:07.041Z"
   },
   {
    "duration": 7,
    "start_time": "2021-10-13T11:59:11.560Z"
   },
   {
    "duration": 7,
    "start_time": "2021-10-13T11:59:20.681Z"
   },
   {
    "duration": 14,
    "start_time": "2021-10-13T12:01:23.580Z"
   },
   {
    "duration": 11,
    "start_time": "2021-10-13T12:11:11.038Z"
   },
   {
    "duration": 8,
    "start_time": "2021-10-13T12:11:16.551Z"
   },
   {
    "duration": 10,
    "start_time": "2021-10-13T12:11:51.637Z"
   },
   {
    "duration": 10,
    "start_time": "2021-10-13T12:11:56.887Z"
   },
   {
    "duration": 5,
    "start_time": "2021-10-13T12:12:49.505Z"
   },
   {
    "duration": 4,
    "start_time": "2021-10-13T12:13:08.315Z"
   },
   {
    "duration": 316,
    "start_time": "2021-10-13T12:13:23.682Z"
   },
   {
    "duration": 4,
    "start_time": "2021-10-13T12:13:33.714Z"
   },
   {
    "duration": 223,
    "start_time": "2021-10-13T12:14:05.835Z"
   },
   {
    "duration": 76,
    "start_time": "2021-10-13T12:14:11.084Z"
   },
   {
    "duration": 213,
    "start_time": "2021-10-13T12:14:23.164Z"
   },
   {
    "duration": 4,
    "start_time": "2021-10-13T12:14:32.675Z"
   },
   {
    "duration": 5,
    "start_time": "2021-10-13T12:15:38.394Z"
   },
   {
    "duration": 4,
    "start_time": "2021-10-13T12:15:57.641Z"
   },
   {
    "duration": 4,
    "start_time": "2021-10-13T12:16:03.581Z"
   },
   {
    "duration": 4,
    "start_time": "2021-10-13T12:16:15.407Z"
   },
   {
    "duration": 4,
    "start_time": "2021-10-13T12:16:22.496Z"
   },
   {
    "duration": 5,
    "start_time": "2021-10-13T12:16:56.566Z"
   },
   {
    "duration": 4,
    "start_time": "2021-10-13T12:17:28.510Z"
   },
   {
    "duration": 188,
    "start_time": "2021-10-13T12:21:09.287Z"
   },
   {
    "duration": 22,
    "start_time": "2021-10-13T12:23:11.127Z"
   },
   {
    "duration": 14,
    "start_time": "2021-10-13T12:23:45.287Z"
   },
   {
    "duration": 22,
    "start_time": "2021-10-13T12:28:50.949Z"
   },
   {
    "duration": 19,
    "start_time": "2021-10-13T12:29:41.149Z"
   },
   {
    "duration": 17,
    "start_time": "2021-10-13T12:30:26.120Z"
   },
   {
    "duration": 27,
    "start_time": "2021-10-13T12:30:32.840Z"
   },
   {
    "duration": 30,
    "start_time": "2021-10-13T12:30:52.094Z"
   },
   {
    "duration": 16,
    "start_time": "2021-10-13T12:31:20.930Z"
   },
   {
    "duration": 21,
    "start_time": "2021-10-13T12:31:25.649Z"
   },
   {
    "duration": 34,
    "start_time": "2021-10-13T12:31:49.309Z"
   },
   {
    "duration": 1055,
    "start_time": "2021-10-13T12:32:40.540Z"
   },
   {
    "duration": 19,
    "start_time": "2021-10-13T12:32:46.440Z"
   },
   {
    "duration": 3,
    "start_time": "2021-10-13T12:38:58.430Z"
   },
   {
    "duration": 4,
    "start_time": "2021-10-13T12:39:17.730Z"
   },
   {
    "duration": 9,
    "start_time": "2021-10-13T12:42:06.537Z"
   },
   {
    "duration": 97,
    "start_time": "2021-10-13T12:42:14.789Z"
   },
   {
    "duration": 14,
    "start_time": "2021-10-13T12:42:22.229Z"
   },
   {
    "duration": 14,
    "start_time": "2021-10-13T12:42:31.830Z"
   },
   {
    "duration": 1085,
    "start_time": "2021-10-13T12:42:38.510Z"
   },
   {
    "duration": 20,
    "start_time": "2021-10-13T12:42:43.669Z"
   },
   {
    "duration": 1115,
    "start_time": "2021-10-13T12:43:12.279Z"
   },
   {
    "duration": 14,
    "start_time": "2021-10-13T12:43:21.269Z"
   },
   {
    "duration": 10,
    "start_time": "2021-10-13T12:52:19.229Z"
   },
   {
    "duration": 15,
    "start_time": "2021-10-13T12:52:24.592Z"
   },
   {
    "duration": 17,
    "start_time": "2021-10-13T12:53:11.430Z"
   },
   {
    "duration": 16,
    "start_time": "2021-10-13T12:54:40.798Z"
   },
   {
    "duration": 15,
    "start_time": "2021-10-13T12:54:55.998Z"
   },
   {
    "duration": 6,
    "start_time": "2021-10-13T12:58:57.349Z"
   },
   {
    "duration": 224,
    "start_time": "2021-10-13T13:01:33.339Z"
   },
   {
    "duration": 209,
    "start_time": "2021-10-13T13:01:58.249Z"
   },
   {
    "duration": 210,
    "start_time": "2021-10-13T13:02:15.239Z"
   },
   {
    "duration": 215,
    "start_time": "2021-10-13T13:02:20.758Z"
   },
   {
    "duration": 3,
    "start_time": "2021-10-13T13:02:25.349Z"
   },
   {
    "duration": 96,
    "start_time": "2021-10-13T13:02:25.354Z"
   },
   {
    "duration": 10,
    "start_time": "2021-10-13T13:02:25.452Z"
   },
   {
    "duration": 7,
    "start_time": "2021-10-13T13:02:25.464Z"
   },
   {
    "duration": 28,
    "start_time": "2021-10-13T13:02:25.473Z"
   },
   {
    "duration": 13,
    "start_time": "2021-10-13T13:02:25.503Z"
   },
   {
    "duration": 46,
    "start_time": "2021-10-13T13:02:25.517Z"
   },
   {
    "duration": 5,
    "start_time": "2021-10-13T13:02:25.565Z"
   },
   {
    "duration": 14,
    "start_time": "2021-10-13T13:02:25.572Z"
   },
   {
    "duration": 14,
    "start_time": "2021-10-13T13:02:25.588Z"
   },
   {
    "duration": 10,
    "start_time": "2021-10-13T13:02:25.604Z"
   },
   {
    "duration": 40,
    "start_time": "2021-10-13T13:02:25.616Z"
   },
   {
    "duration": 94,
    "start_time": "2021-10-13T13:02:25.658Z"
   },
   {
    "duration": 5,
    "start_time": "2021-10-13T13:02:25.754Z"
   },
   {
    "duration": 10,
    "start_time": "2021-10-13T13:02:25.761Z"
   },
   {
    "duration": 19,
    "start_time": "2021-10-13T13:02:25.772Z"
   },
   {
    "duration": 16,
    "start_time": "2021-10-13T13:02:25.793Z"
   },
   {
    "duration": 43,
    "start_time": "2021-10-13T13:02:25.810Z"
   },
   {
    "duration": 8,
    "start_time": "2021-10-13T13:02:25.855Z"
   },
   {
    "duration": 6,
    "start_time": "2021-10-13T13:02:25.864Z"
   },
   {
    "duration": 27,
    "start_time": "2021-10-13T13:02:25.872Z"
   },
   {
    "duration": 60,
    "start_time": "2021-10-13T13:02:25.900Z"
   },
   {
    "duration": 638,
    "start_time": "2021-10-13T13:02:25.961Z"
   },
   {
    "duration": 5,
    "start_time": "2021-10-13T13:02:26.601Z"
   },
   {
    "duration": 9,
    "start_time": "2021-10-13T13:02:26.608Z"
   },
   {
    "duration": 3,
    "start_time": "2021-10-13T13:02:26.619Z"
   },
   {
    "duration": 31,
    "start_time": "2021-10-13T13:02:26.625Z"
   },
   {
    "duration": 18,
    "start_time": "2021-10-13T13:02:26.658Z"
   },
   {
    "duration": 5,
    "start_time": "2021-10-13T13:02:26.679Z"
   },
   {
    "duration": 79,
    "start_time": "2021-10-13T13:02:26.686Z"
   },
   {
    "duration": 28,
    "start_time": "2021-10-13T13:02:26.767Z"
   },
   {
    "duration": 12,
    "start_time": "2021-10-13T13:02:26.797Z"
   },
   {
    "duration": 8,
    "start_time": "2021-10-13T13:02:26.811Z"
   },
   {
    "duration": 39,
    "start_time": "2021-10-13T13:02:26.821Z"
   },
   {
    "duration": 17,
    "start_time": "2021-10-13T13:02:26.862Z"
   },
   {
    "duration": 197,
    "start_time": "2021-10-13T13:02:26.881Z"
   },
   {
    "duration": 17890,
    "start_time": "2021-10-13T13:02:09.190Z"
   },
   {
    "duration": 19,
    "start_time": "2021-10-13T13:02:35.460Z"
   },
   {
    "duration": 220,
    "start_time": "2021-10-13T13:02:42.854Z"
   },
   {
    "duration": 22,
    "start_time": "2021-10-13T13:05:54.458Z"
   },
   {
    "duration": 206,
    "start_time": "2021-10-13T13:10:26.199Z"
   },
   {
    "duration": 200,
    "start_time": "2021-10-13T13:10:35.802Z"
   },
   {
    "duration": 458,
    "start_time": "2021-10-13T13:10:43.919Z"
   },
   {
    "duration": 737,
    "start_time": "2021-10-13T13:11:12.179Z"
   },
   {
    "duration": 981,
    "start_time": "2021-10-13T13:11:18.889Z"
   },
   {
    "duration": 5458,
    "start_time": "2021-10-13T13:14:10.778Z"
   },
   {
    "duration": 7,
    "start_time": "2021-10-13T13:14:29.109Z"
   },
   {
    "duration": 755,
    "start_time": "2021-10-16T12:20:32.865Z"
   },
   {
    "duration": 92,
    "start_time": "2021-10-16T12:20:33.621Z"
   },
   {
    "duration": 10,
    "start_time": "2021-10-16T12:20:33.715Z"
   },
   {
    "duration": 5,
    "start_time": "2021-10-16T12:20:33.727Z"
   },
   {
    "duration": 26,
    "start_time": "2021-10-16T12:20:33.734Z"
   },
   {
    "duration": 11,
    "start_time": "2021-10-16T12:20:33.762Z"
   },
   {
    "duration": 23,
    "start_time": "2021-10-16T12:20:33.775Z"
   },
   {
    "duration": 5,
    "start_time": "2021-10-16T12:20:33.800Z"
   },
   {
    "duration": 11,
    "start_time": "2021-10-16T12:20:33.807Z"
   },
   {
    "duration": 13,
    "start_time": "2021-10-16T12:20:33.819Z"
   },
   {
    "duration": 6,
    "start_time": "2021-10-16T12:20:33.833Z"
   },
   {
    "duration": 35,
    "start_time": "2021-10-16T12:20:33.841Z"
   },
   {
    "duration": 83,
    "start_time": "2021-10-16T12:20:33.878Z"
   },
   {
    "duration": 4,
    "start_time": "2021-10-16T12:20:33.962Z"
   },
   {
    "duration": 9,
    "start_time": "2021-10-16T12:20:33.976Z"
   },
   {
    "duration": 24,
    "start_time": "2021-10-16T12:20:33.986Z"
   },
   {
    "duration": 16,
    "start_time": "2021-10-16T12:20:34.011Z"
   },
   {
    "duration": 12,
    "start_time": "2021-10-16T12:20:34.028Z"
   },
   {
    "duration": 7,
    "start_time": "2021-10-16T12:20:34.042Z"
   },
   {
    "duration": 29,
    "start_time": "2021-10-16T12:20:34.050Z"
   },
   {
    "duration": 24,
    "start_time": "2021-10-16T12:20:34.080Z"
   },
   {
    "duration": 21,
    "start_time": "2021-10-16T12:20:34.105Z"
   },
   {
    "duration": 587,
    "start_time": "2021-10-16T12:20:34.129Z"
   },
   {
    "duration": 3,
    "start_time": "2021-10-16T12:20:34.718Z"
   },
   {
    "duration": 12,
    "start_time": "2021-10-16T12:20:34.722Z"
   },
   {
    "duration": 3,
    "start_time": "2021-10-16T12:20:34.735Z"
   },
   {
    "duration": 10,
    "start_time": "2021-10-16T12:20:34.739Z"
   },
   {
    "duration": 28,
    "start_time": "2021-10-16T12:20:34.750Z"
   },
   {
    "duration": 8,
    "start_time": "2021-10-16T12:20:34.779Z"
   },
   {
    "duration": 82,
    "start_time": "2021-10-16T12:20:34.788Z"
   },
   {
    "duration": 23,
    "start_time": "2021-10-16T12:20:34.872Z"
   },
   {
    "duration": 8,
    "start_time": "2021-10-16T12:20:34.896Z"
   },
   {
    "duration": 6,
    "start_time": "2021-10-16T12:20:34.906Z"
   },
   {
    "duration": 15,
    "start_time": "2021-10-16T12:20:34.913Z"
   },
   {
    "duration": 16,
    "start_time": "2021-10-16T12:20:34.930Z"
   },
   {
    "duration": 40,
    "start_time": "2021-10-16T12:20:34.948Z"
   },
   {
    "duration": 745,
    "start_time": "2021-10-16T12:20:34.990Z"
   },
   {
    "duration": 719,
    "start_time": "2021-10-16T12:21:11.814Z"
   },
   {
    "duration": 21,
    "start_time": "2021-10-16T12:24:19.520Z"
   },
   {
    "duration": 24,
    "start_time": "2021-10-16T12:24:27.514Z"
   },
   {
    "duration": 22,
    "start_time": "2021-10-16T12:34:36.962Z"
   },
   {
    "duration": 125,
    "start_time": "2021-10-16T12:35:20.425Z"
   },
   {
    "duration": 121,
    "start_time": "2021-10-16T12:35:23.264Z"
   },
   {
    "duration": 18,
    "start_time": "2021-10-16T12:35:25.538Z"
   },
   {
    "duration": 1251,
    "start_time": "2021-10-16T12:44:00.382Z"
   },
   {
    "duration": 10,
    "start_time": "2021-10-16T12:47:13.770Z"
   },
   {
    "duration": 3,
    "start_time": "2021-10-16T12:47:15.044Z"
   },
   {
    "duration": 3,
    "start_time": "2021-10-16T12:47:18.304Z"
   },
   {
    "duration": 105,
    "start_time": "2021-10-16T12:47:18.308Z"
   },
   {
    "duration": 10,
    "start_time": "2021-10-16T12:47:18.415Z"
   },
   {
    "duration": 6,
    "start_time": "2021-10-16T12:47:18.427Z"
   },
   {
    "duration": 26,
    "start_time": "2021-10-16T12:47:18.434Z"
   },
   {
    "duration": 12,
    "start_time": "2021-10-16T12:47:18.462Z"
   },
   {
    "duration": 23,
    "start_time": "2021-10-16T12:47:18.476Z"
   },
   {
    "duration": 5,
    "start_time": "2021-10-16T12:47:18.501Z"
   },
   {
    "duration": 10,
    "start_time": "2021-10-16T12:47:18.508Z"
   },
   {
    "duration": 14,
    "start_time": "2021-10-16T12:47:18.520Z"
   },
   {
    "duration": 8,
    "start_time": "2021-10-16T12:47:18.536Z"
   },
   {
    "duration": 34,
    "start_time": "2021-10-16T12:47:18.546Z"
   },
   {
    "duration": 100,
    "start_time": "2021-10-16T12:47:18.582Z"
   },
   {
    "duration": 3,
    "start_time": "2021-10-16T12:47:18.684Z"
   },
   {
    "duration": 16,
    "start_time": "2021-10-16T12:47:18.689Z"
   },
   {
    "duration": 35,
    "start_time": "2021-10-16T12:47:18.706Z"
   },
   {
    "duration": 16,
    "start_time": "2021-10-16T12:47:18.743Z"
   },
   {
    "duration": 18,
    "start_time": "2021-10-16T12:47:18.760Z"
   },
   {
    "duration": 19,
    "start_time": "2021-10-16T12:47:18.780Z"
   },
   {
    "duration": 7,
    "start_time": "2021-10-16T12:47:18.801Z"
   },
   {
    "duration": 37,
    "start_time": "2021-10-16T12:47:18.810Z"
   },
   {
    "duration": 30,
    "start_time": "2021-10-16T12:47:18.849Z"
   },
   {
    "duration": 603,
    "start_time": "2021-10-16T12:47:18.882Z"
   },
   {
    "duration": 3,
    "start_time": "2021-10-16T12:47:19.488Z"
   },
   {
    "duration": 8,
    "start_time": "2021-10-16T12:47:19.493Z"
   },
   {
    "duration": 4,
    "start_time": "2021-10-16T12:47:19.503Z"
   },
   {
    "duration": 10,
    "start_time": "2021-10-16T12:47:19.509Z"
   },
   {
    "duration": 15,
    "start_time": "2021-10-16T12:47:19.521Z"
   },
   {
    "duration": 38,
    "start_time": "2021-10-16T12:47:19.538Z"
   },
   {
    "duration": 46,
    "start_time": "2021-10-16T12:47:19.578Z"
   },
   {
    "duration": 21,
    "start_time": "2021-10-16T12:47:19.626Z"
   },
   {
    "duration": 10,
    "start_time": "2021-10-16T12:47:19.649Z"
   },
   {
    "duration": 22,
    "start_time": "2021-10-16T12:47:19.660Z"
   },
   {
    "duration": 16,
    "start_time": "2021-10-16T12:47:19.683Z"
   },
   {
    "duration": 13,
    "start_time": "2021-10-16T12:47:19.701Z"
   },
   {
    "duration": 35,
    "start_time": "2021-10-16T12:47:19.716Z"
   },
   {
    "duration": 43,
    "start_time": "2021-10-16T12:47:19.752Z"
   },
   {
    "duration": 26,
    "start_time": "2021-10-16T12:47:19.797Z"
   },
   {
    "duration": 16,
    "start_time": "2021-10-16T12:47:19.825Z"
   },
   {
    "duration": 8,
    "start_time": "2021-10-16T12:47:26.618Z"
   },
   {
    "duration": 3,
    "start_time": "2021-10-16T12:47:27.141Z"
   },
   {
    "duration": 169,
    "start_time": "2021-10-16T12:48:29.827Z"
   },
   {
    "duration": 179,
    "start_time": "2021-10-16T12:49:09.353Z"
   },
   {
    "duration": 18,
    "start_time": "2021-10-16T12:50:28.719Z"
   },
   {
    "duration": 237,
    "start_time": "2021-10-16T12:51:15.076Z"
   },
   {
    "duration": 184,
    "start_time": "2021-10-16T12:52:57.125Z"
   },
   {
    "duration": 258,
    "start_time": "2021-10-16T12:53:02.563Z"
   },
   {
    "duration": 3,
    "start_time": "2021-10-16T12:54:02.692Z"
   },
   {
    "duration": 106,
    "start_time": "2021-10-16T12:54:02.697Z"
   },
   {
    "duration": 11,
    "start_time": "2021-10-16T12:54:02.805Z"
   },
   {
    "duration": 5,
    "start_time": "2021-10-16T12:54:02.818Z"
   },
   {
    "duration": 35,
    "start_time": "2021-10-16T12:54:02.825Z"
   },
   {
    "duration": 10,
    "start_time": "2021-10-16T12:54:02.861Z"
   },
   {
    "duration": 22,
    "start_time": "2021-10-16T12:54:02.873Z"
   },
   {
    "duration": 4,
    "start_time": "2021-10-16T12:54:02.897Z"
   },
   {
    "duration": 12,
    "start_time": "2021-10-16T12:54:02.904Z"
   },
   {
    "duration": 13,
    "start_time": "2021-10-16T12:54:02.918Z"
   },
   {
    "duration": 6,
    "start_time": "2021-10-16T12:54:02.933Z"
   },
   {
    "duration": 9,
    "start_time": "2021-10-16T12:54:02.941Z"
   },
   {
    "duration": 85,
    "start_time": "2021-10-16T12:54:02.976Z"
   },
   {
    "duration": 14,
    "start_time": "2021-10-16T12:54:03.063Z"
   },
   {
    "duration": 8,
    "start_time": "2021-10-16T12:54:03.079Z"
   },
   {
    "duration": 27,
    "start_time": "2021-10-16T12:54:03.088Z"
   },
   {
    "duration": 16,
    "start_time": "2021-10-16T12:54:03.116Z"
   },
   {
    "duration": 13,
    "start_time": "2021-10-16T12:54:03.134Z"
   },
   {
    "duration": 33,
    "start_time": "2021-10-16T12:54:03.149Z"
   },
   {
    "duration": 6,
    "start_time": "2021-10-16T12:54:03.184Z"
   },
   {
    "duration": 29,
    "start_time": "2021-10-16T12:54:03.191Z"
   },
   {
    "duration": 23,
    "start_time": "2021-10-16T12:54:03.222Z"
   },
   {
    "duration": 603,
    "start_time": "2021-10-16T12:54:03.277Z"
   },
   {
    "duration": 3,
    "start_time": "2021-10-16T12:54:03.882Z"
   },
   {
    "duration": 14,
    "start_time": "2021-10-16T12:54:03.886Z"
   },
   {
    "duration": 3,
    "start_time": "2021-10-16T12:54:03.902Z"
   },
   {
    "duration": 13,
    "start_time": "2021-10-16T12:54:03.909Z"
   },
   {
    "duration": 15,
    "start_time": "2021-10-16T12:54:03.924Z"
   },
   {
    "duration": 36,
    "start_time": "2021-10-16T12:54:03.941Z"
   },
   {
    "duration": 42,
    "start_time": "2021-10-16T12:54:03.979Z"
   },
   {
    "duration": 27,
    "start_time": "2021-10-16T12:54:04.022Z"
   },
   {
    "duration": 38,
    "start_time": "2021-10-16T12:54:04.051Z"
   },
   {
    "duration": 10,
    "start_time": "2021-10-16T12:54:04.090Z"
   },
   {
    "duration": 4,
    "start_time": "2021-10-16T12:54:04.101Z"
   },
   {
    "duration": 14,
    "start_time": "2021-10-16T12:54:04.106Z"
   },
   {
    "duration": 15,
    "start_time": "2021-10-16T12:54:04.122Z"
   },
   {
    "duration": 44,
    "start_time": "2021-10-16T12:54:04.138Z"
   },
   {
    "duration": 21,
    "start_time": "2021-10-16T12:54:04.183Z"
   },
   {
    "duration": 199,
    "start_time": "2021-10-16T12:54:04.205Z"
   },
   {
    "duration": 1370,
    "start_time": "2021-10-16T12:54:04.406Z"
   },
   {
    "duration": 184,
    "start_time": "2021-10-16T12:54:05.777Z"
   },
   {
    "duration": 21,
    "start_time": "2021-10-16T12:54:05.962Z"
   },
   {
    "duration": 1142,
    "start_time": "2021-10-16T12:54:24.146Z"
   },
   {
    "duration": 9,
    "start_time": "2021-10-16T12:55:22.659Z"
   },
   {
    "duration": 415,
    "start_time": "2021-10-16T12:55:36.924Z"
   },
   {
    "duration": 6,
    "start_time": "2021-10-16T12:55:50.838Z"
   },
   {
    "duration": 1183,
    "start_time": "2021-10-16T12:57:08.544Z"
   },
   {
    "duration": 6,
    "start_time": "2021-10-16T12:57:15.351Z"
   },
   {
    "duration": 17,
    "start_time": "2021-10-16T12:59:27.690Z"
   },
   {
    "duration": 655,
    "start_time": "2021-10-16T13:03:12.448Z"
   },
   {
    "duration": 5,
    "start_time": "2021-10-16T13:03:41.420Z"
   },
   {
    "duration": 585,
    "start_time": "2021-10-16T13:05:58.051Z"
   },
   {
    "duration": 634,
    "start_time": "2021-10-16T13:06:15.372Z"
   },
   {
    "duration": 32,
    "start_time": "2021-10-16T13:06:54.640Z"
   },
   {
    "duration": 46,
    "start_time": "2021-10-16T13:06:59.908Z"
   },
   {
    "duration": 46,
    "start_time": "2021-10-16T13:07:06.926Z"
   },
   {
    "duration": 29,
    "start_time": "2021-10-16T13:07:16.678Z"
   },
   {
    "duration": 6,
    "start_time": "2021-10-16T13:07:31.182Z"
   },
   {
    "duration": 168,
    "start_time": "2021-10-16T13:08:37.990Z"
   },
   {
    "duration": 32,
    "start_time": "2021-10-16T13:10:03.675Z"
   },
   {
    "duration": 9,
    "start_time": "2021-10-16T13:10:24.259Z"
   },
   {
    "duration": 6,
    "start_time": "2021-10-16T13:10:39.198Z"
   },
   {
    "duration": 8,
    "start_time": "2021-10-16T13:10:53.934Z"
   },
   {
    "duration": 9,
    "start_time": "2021-10-16T13:11:00.188Z"
   },
   {
    "duration": 4,
    "start_time": "2021-10-16T13:14:41.559Z"
   },
   {
    "duration": 6,
    "start_time": "2021-10-16T13:14:45.844Z"
   },
   {
    "duration": 4,
    "start_time": "2021-10-16T13:14:48.221Z"
   },
   {
    "duration": 6,
    "start_time": "2021-10-16T13:15:09.832Z"
   },
   {
    "duration": 5,
    "start_time": "2021-10-16T13:16:11.551Z"
   },
   {
    "duration": 5,
    "start_time": "2021-10-16T13:16:32.859Z"
   },
   {
    "duration": 6,
    "start_time": "2021-10-16T13:16:37.500Z"
   },
   {
    "duration": 5,
    "start_time": "2021-10-16T13:16:44.068Z"
   },
   {
    "duration": 6,
    "start_time": "2021-10-16T13:16:49.804Z"
   },
   {
    "duration": 5,
    "start_time": "2021-10-16T13:16:56.547Z"
   },
   {
    "duration": 6,
    "start_time": "2021-10-16T13:17:15.164Z"
   },
   {
    "duration": 6,
    "start_time": "2021-10-16T13:17:58.133Z"
   },
   {
    "duration": 6,
    "start_time": "2021-10-16T13:18:08.554Z"
   },
   {
    "duration": 366,
    "start_time": "2021-10-16T13:22:19.044Z"
   },
   {
    "duration": 398,
    "start_time": "2021-10-16T13:22:53.441Z"
   },
   {
    "duration": 382,
    "start_time": "2021-10-16T13:23:08.833Z"
   },
   {
    "duration": 123,
    "start_time": "2021-10-16T13:24:04.803Z"
   },
   {
    "duration": 124,
    "start_time": "2021-10-16T13:25:21.412Z"
   },
   {
    "duration": 3,
    "start_time": "2021-10-16T13:25:53.022Z"
   },
   {
    "duration": 4,
    "start_time": "2021-10-16T13:26:00.510Z"
   },
   {
    "duration": 5,
    "start_time": "2021-10-16T13:26:03.615Z"
   },
   {
    "duration": 436,
    "start_time": "2021-10-16T13:26:16.942Z"
   },
   {
    "duration": 5,
    "start_time": "2021-10-16T13:26:58.959Z"
   },
   {
    "duration": 4,
    "start_time": "2021-10-16T13:27:22.108Z"
   },
   {
    "duration": 31,
    "start_time": "2021-10-16T13:27:22.779Z"
   },
   {
    "duration": 6,
    "start_time": "2021-10-16T13:27:23.005Z"
   },
   {
    "duration": 6,
    "start_time": "2021-10-16T13:27:45.422Z"
   },
   {
    "duration": 7,
    "start_time": "2021-10-16T13:27:49.118Z"
   },
   {
    "duration": 364,
    "start_time": "2021-10-16T13:30:17.957Z"
   },
   {
    "duration": 5,
    "start_time": "2021-10-16T13:30:58.972Z"
   },
   {
    "duration": 5,
    "start_time": "2021-10-16T13:31:17.171Z"
   },
   {
    "duration": 5,
    "start_time": "2021-10-16T13:31:24.706Z"
   },
   {
    "duration": -10,
    "start_time": "2021-10-16T13:31:33.848Z"
   },
   {
    "duration": -12,
    "start_time": "2021-10-16T13:31:33.851Z"
   },
   {
    "duration": -14,
    "start_time": "2021-10-16T13:31:33.853Z"
   },
   {
    "duration": -16,
    "start_time": "2021-10-16T13:31:33.856Z"
   },
   {
    "duration": -17,
    "start_time": "2021-10-16T13:31:33.858Z"
   },
   {
    "duration": -20,
    "start_time": "2021-10-16T13:31:33.862Z"
   },
   {
    "duration": -22,
    "start_time": "2021-10-16T13:31:33.864Z"
   },
   {
    "duration": -22,
    "start_time": "2021-10-16T13:31:33.865Z"
   },
   {
    "duration": -25,
    "start_time": "2021-10-16T13:31:33.869Z"
   },
   {
    "duration": -26,
    "start_time": "2021-10-16T13:31:33.871Z"
   },
   {
    "duration": -26,
    "start_time": "2021-10-16T13:31:33.872Z"
   },
   {
    "duration": -27,
    "start_time": "2021-10-16T13:31:33.874Z"
   },
   {
    "duration": -30,
    "start_time": "2021-10-16T13:31:33.878Z"
   },
   {
    "duration": -31,
    "start_time": "2021-10-16T13:31:33.880Z"
   },
   {
    "duration": -31,
    "start_time": "2021-10-16T13:31:33.881Z"
   },
   {
    "duration": -33,
    "start_time": "2021-10-16T13:31:33.885Z"
   },
   {
    "duration": -34,
    "start_time": "2021-10-16T13:31:33.887Z"
   },
   {
    "duration": -34,
    "start_time": "2021-10-16T13:31:33.888Z"
   },
   {
    "duration": -33,
    "start_time": "2021-10-16T13:31:33.889Z"
   },
   {
    "duration": -35,
    "start_time": "2021-10-16T13:31:33.893Z"
   },
   {
    "duration": -35,
    "start_time": "2021-10-16T13:31:33.894Z"
   },
   {
    "duration": -35,
    "start_time": "2021-10-16T13:31:33.896Z"
   },
   {
    "duration": -35,
    "start_time": "2021-10-16T13:31:33.897Z"
   },
   {
    "duration": -36,
    "start_time": "2021-10-16T13:31:33.900Z"
   },
   {
    "duration": -37,
    "start_time": "2021-10-16T13:31:33.902Z"
   },
   {
    "duration": -37,
    "start_time": "2021-10-16T13:31:33.903Z"
   },
   {
    "duration": -36,
    "start_time": "2021-10-16T13:31:33.904Z"
   },
   {
    "duration": -36,
    "start_time": "2021-10-16T13:31:33.905Z"
   },
   {
    "duration": -37,
    "start_time": "2021-10-16T13:31:33.907Z"
   },
   {
    "duration": -36,
    "start_time": "2021-10-16T13:31:33.908Z"
   },
   {
    "duration": -36,
    "start_time": "2021-10-16T13:31:33.909Z"
   },
   {
    "duration": -40,
    "start_time": "2021-10-16T13:31:33.914Z"
   },
   {
    "duration": -39,
    "start_time": "2021-10-16T13:31:33.915Z"
   },
   {
    "duration": -39,
    "start_time": "2021-10-16T13:31:33.916Z"
   },
   {
    "duration": -39,
    "start_time": "2021-10-16T13:31:33.917Z"
   },
   {
    "duration": -39,
    "start_time": "2021-10-16T13:31:33.919Z"
   },
   {
    "duration": -39,
    "start_time": "2021-10-16T13:31:33.920Z"
   },
   {
    "duration": -38,
    "start_time": "2021-10-16T13:31:33.921Z"
   },
   {
    "duration": -39,
    "start_time": "2021-10-16T13:31:33.923Z"
   },
   {
    "duration": -39,
    "start_time": "2021-10-16T13:31:33.924Z"
   },
   {
    "duration": -38,
    "start_time": "2021-10-16T13:31:33.925Z"
   },
   {
    "duration": -39,
    "start_time": "2021-10-16T13:31:33.927Z"
   },
   {
    "duration": -42,
    "start_time": "2021-10-16T13:31:33.931Z"
   },
   {
    "duration": -41,
    "start_time": "2021-10-16T13:31:33.932Z"
   },
   {
    "duration": -42,
    "start_time": "2021-10-16T13:31:33.934Z"
   },
   {
    "duration": -43,
    "start_time": "2021-10-16T13:31:33.936Z"
   },
   {
    "duration": 4,
    "start_time": "2021-10-16T13:31:45.345Z"
   },
   {
    "duration": 99,
    "start_time": "2021-10-16T13:31:45.350Z"
   },
   {
    "duration": 10,
    "start_time": "2021-10-16T13:31:45.451Z"
   },
   {
    "duration": 5,
    "start_time": "2021-10-16T13:31:45.463Z"
   },
   {
    "duration": 26,
    "start_time": "2021-10-16T13:31:45.469Z"
   },
   {
    "duration": 11,
    "start_time": "2021-10-16T13:31:45.496Z"
   },
   {
    "duration": 24,
    "start_time": "2021-10-16T13:31:45.508Z"
   },
   {
    "duration": 5,
    "start_time": "2021-10-16T13:31:45.534Z"
   },
   {
    "duration": 13,
    "start_time": "2021-10-16T13:31:45.541Z"
   },
   {
    "duration": 13,
    "start_time": "2021-10-16T13:31:45.576Z"
   },
   {
    "duration": 10,
    "start_time": "2021-10-16T13:31:45.591Z"
   },
   {
    "duration": 8,
    "start_time": "2021-10-16T13:31:45.603Z"
   },
   {
    "duration": 102,
    "start_time": "2021-10-16T13:31:45.613Z"
   },
   {
    "duration": 4,
    "start_time": "2021-10-16T13:31:45.717Z"
   },
   {
    "duration": 8,
    "start_time": "2021-10-16T13:31:45.723Z"
   },
   {
    "duration": 17,
    "start_time": "2021-10-16T13:31:45.732Z"
   },
   {
    "duration": 33,
    "start_time": "2021-10-16T13:31:45.750Z"
   },
   {
    "duration": 13,
    "start_time": "2021-10-16T13:31:45.784Z"
   },
   {
    "duration": 6,
    "start_time": "2021-10-16T13:31:45.798Z"
   },
   {
    "duration": 6,
    "start_time": "2021-10-16T13:31:45.805Z"
   },
   {
    "duration": 23,
    "start_time": "2021-10-16T13:31:45.813Z"
   },
   {
    "duration": 60,
    "start_time": "2021-10-16T13:31:45.837Z"
   },
   {
    "duration": 573,
    "start_time": "2021-10-16T13:31:45.898Z"
   },
   {
    "duration": 3,
    "start_time": "2021-10-16T13:31:46.476Z"
   },
   {
    "duration": 8,
    "start_time": "2021-10-16T13:31:46.481Z"
   },
   {
    "duration": 4,
    "start_time": "2021-10-16T13:31:46.491Z"
   },
   {
    "duration": 9,
    "start_time": "2021-10-16T13:31:46.499Z"
   },
   {
    "duration": 14,
    "start_time": "2021-10-16T13:31:46.509Z"
   },
   {
    "duration": 5,
    "start_time": "2021-10-16T13:31:46.525Z"
   },
   {
    "duration": 68,
    "start_time": "2021-10-16T13:31:46.532Z"
   },
   {
    "duration": 21,
    "start_time": "2021-10-16T13:31:46.602Z"
   },
   {
    "duration": 17,
    "start_time": "2021-10-16T13:31:46.625Z"
   },
   {
    "duration": 12,
    "start_time": "2021-10-16T13:31:46.643Z"
   },
   {
    "duration": 4,
    "start_time": "2021-10-16T13:31:46.677Z"
   },
   {
    "duration": 11,
    "start_time": "2021-10-16T13:31:46.682Z"
   },
   {
    "duration": 12,
    "start_time": "2021-10-16T13:31:46.695Z"
   },
   {
    "duration": 20,
    "start_time": "2021-10-16T13:31:46.709Z"
   },
   {
    "duration": 17,
    "start_time": "2021-10-16T13:31:46.730Z"
   },
   {
    "duration": 7,
    "start_time": "2021-10-16T13:31:46.776Z"
   },
   {
    "duration": 31,
    "start_time": "2021-10-16T13:31:46.785Z"
   },
   {
    "duration": 10,
    "start_time": "2021-10-16T13:31:46.817Z"
   },
   {
    "duration": 4,
    "start_time": "2021-10-16T13:31:46.829Z"
   },
   {
    "duration": 1237,
    "start_time": "2021-10-16T13:31:46.834Z"
   },
   {
    "duration": 7,
    "start_time": "2021-10-16T13:31:48.076Z"
   },
   {
    "duration": 176,
    "start_time": "2021-10-16T13:31:48.084Z"
   },
   {
    "duration": 22,
    "start_time": "2021-10-16T13:31:48.261Z"
   },
   {
    "duration": 33,
    "start_time": "2021-10-16T13:37:26.885Z"
   },
   {
    "duration": 5,
    "start_time": "2021-10-16T13:37:45.686Z"
   },
   {
    "duration": 174,
    "start_time": "2021-10-16T13:38:24.122Z"
   },
   {
    "duration": 164,
    "start_time": "2021-10-16T13:38:29.254Z"
   },
   {
    "duration": 162,
    "start_time": "2021-10-16T13:38:47.338Z"
   },
   {
    "duration": 160,
    "start_time": "2021-10-16T13:39:55.048Z"
   },
   {
    "duration": 356,
    "start_time": "2021-10-16T13:40:04.704Z"
   },
   {
    "duration": 4,
    "start_time": "2021-10-16T13:40:26.752Z"
   },
   {
    "duration": 130,
    "start_time": "2021-10-16T13:40:26.757Z"
   },
   {
    "duration": 9,
    "start_time": "2021-10-16T13:40:26.889Z"
   },
   {
    "duration": 11,
    "start_time": "2021-10-16T13:40:26.900Z"
   },
   {
    "duration": 25,
    "start_time": "2021-10-16T13:40:26.913Z"
   },
   {
    "duration": 10,
    "start_time": "2021-10-16T13:40:26.940Z"
   },
   {
    "duration": 118,
    "start_time": "2021-10-16T13:40:26.951Z"
   },
   {
    "duration": 7,
    "start_time": "2021-10-16T13:40:27.071Z"
   },
   {
    "duration": 13,
    "start_time": "2021-10-16T13:40:27.080Z"
   },
   {
    "duration": 16,
    "start_time": "2021-10-16T13:40:27.095Z"
   },
   {
    "duration": 8,
    "start_time": "2021-10-16T13:40:27.113Z"
   },
   {
    "duration": 12,
    "start_time": "2021-10-16T13:40:27.122Z"
   },
   {
    "duration": 104,
    "start_time": "2021-10-16T13:40:27.135Z"
   },
   {
    "duration": 5,
    "start_time": "2021-10-16T13:40:27.241Z"
   },
   {
    "duration": 10,
    "start_time": "2021-10-16T13:40:27.247Z"
   },
   {
    "duration": 18,
    "start_time": "2021-10-16T13:40:27.277Z"
   },
   {
    "duration": 19,
    "start_time": "2021-10-16T13:40:27.296Z"
   },
   {
    "duration": 14,
    "start_time": "2021-10-16T13:40:27.316Z"
   },
   {
    "duration": 7,
    "start_time": "2021-10-16T13:40:27.332Z"
   },
   {
    "duration": 6,
    "start_time": "2021-10-16T13:40:27.341Z"
   },
   {
    "duration": 51,
    "start_time": "2021-10-16T13:40:27.348Z"
   },
   {
    "duration": 24,
    "start_time": "2021-10-16T13:40:27.401Z"
   },
   {
    "duration": 591,
    "start_time": "2021-10-16T13:40:27.428Z"
   },
   {
    "duration": 3,
    "start_time": "2021-10-16T13:40:28.021Z"
   },
   {
    "duration": 10,
    "start_time": "2021-10-16T13:40:28.026Z"
   },
   {
    "duration": 11,
    "start_time": "2021-10-16T13:40:28.038Z"
   },
   {
    "duration": 13,
    "start_time": "2021-10-16T13:40:28.051Z"
   },
   {
    "duration": 24,
    "start_time": "2021-10-16T13:40:28.065Z"
   },
   {
    "duration": 5,
    "start_time": "2021-10-16T13:40:28.090Z"
   },
   {
    "duration": 40,
    "start_time": "2021-10-16T13:40:28.097Z"
   },
   {
    "duration": 47,
    "start_time": "2021-10-16T13:40:28.138Z"
   },
   {
    "duration": 16,
    "start_time": "2021-10-16T13:40:28.187Z"
   },
   {
    "duration": 9,
    "start_time": "2021-10-16T13:40:28.205Z"
   },
   {
    "duration": 4,
    "start_time": "2021-10-16T13:40:28.216Z"
   },
   {
    "duration": 12,
    "start_time": "2021-10-16T13:40:28.222Z"
   },
   {
    "duration": 42,
    "start_time": "2021-10-16T13:40:28.235Z"
   },
   {
    "duration": 21,
    "start_time": "2021-10-16T13:40:28.279Z"
   },
   {
    "duration": 16,
    "start_time": "2021-10-16T13:40:28.302Z"
   },
   {
    "duration": 7,
    "start_time": "2021-10-16T13:40:28.320Z"
   },
   {
    "duration": 50,
    "start_time": "2021-10-16T13:40:28.329Z"
   },
   {
    "duration": 8,
    "start_time": "2021-10-16T13:40:28.381Z"
   },
   {
    "duration": 6,
    "start_time": "2021-10-16T13:40:28.391Z"
   },
   {
    "duration": 185,
    "start_time": "2021-10-16T13:40:28.399Z"
   },
   {
    "duration": 6,
    "start_time": "2021-10-16T13:40:28.586Z"
   },
   {
    "duration": 172,
    "start_time": "2021-10-16T13:40:28.593Z"
   },
   {
    "duration": 1349,
    "start_time": "2021-10-16T13:40:28.766Z"
   },
   {
    "duration": 6,
    "start_time": "2021-10-16T13:40:30.117Z"
   },
   {
    "duration": 185,
    "start_time": "2021-10-16T13:40:30.124Z"
   },
   {
    "duration": 20,
    "start_time": "2021-10-16T13:40:30.311Z"
   },
   {
    "duration": 9,
    "start_time": "2021-10-16T13:40:40.125Z"
   },
   {
    "duration": 5,
    "start_time": "2021-10-16T13:43:18.163Z"
   },
   {
    "duration": 7,
    "start_time": "2021-10-16T13:43:21.863Z"
   },
   {
    "duration": 1454,
    "start_time": "2021-10-16T13:43:59.254Z"
   },
   {
    "duration": 1398,
    "start_time": "2021-10-16T13:44:32.325Z"
   },
   {
    "duration": 7,
    "start_time": "2021-10-16T13:46:39.220Z"
   },
   {
    "duration": 6,
    "start_time": "2021-10-16T13:46:39.427Z"
   },
   {
    "duration": 799,
    "start_time": "2021-10-16T13:49:54.516Z"
   },
   {
    "duration": 11,
    "start_time": "2021-10-16T13:49:57.974Z"
   },
   {
    "duration": 350,
    "start_time": "2021-10-16T13:50:11.865Z"
   },
   {
    "duration": 15,
    "start_time": "2021-10-16T13:50:48.015Z"
   },
   {
    "duration": 12,
    "start_time": "2021-10-16T13:50:55.632Z"
   },
   {
    "duration": 11,
    "start_time": "2021-10-16T13:53:15.962Z"
   },
   {
    "duration": 16,
    "start_time": "2021-10-16T13:53:24.897Z"
   },
   {
    "duration": 3,
    "start_time": "2021-10-16T13:53:41.249Z"
   },
   {
    "duration": 113,
    "start_time": "2021-10-16T13:53:41.253Z"
   },
   {
    "duration": 10,
    "start_time": "2021-10-16T13:53:41.368Z"
   },
   {
    "duration": 7,
    "start_time": "2021-10-16T13:53:41.379Z"
   },
   {
    "duration": 30,
    "start_time": "2021-10-16T13:53:41.388Z"
   },
   {
    "duration": 12,
    "start_time": "2021-10-16T13:53:41.419Z"
   },
   {
    "duration": 47,
    "start_time": "2021-10-16T13:53:41.433Z"
   },
   {
    "duration": 5,
    "start_time": "2021-10-16T13:53:41.482Z"
   },
   {
    "duration": 17,
    "start_time": "2021-10-16T13:53:41.490Z"
   },
   {
    "duration": 29,
    "start_time": "2021-10-16T13:53:41.509Z"
   },
   {
    "duration": 20,
    "start_time": "2021-10-16T13:53:41.540Z"
   },
   {
    "duration": 34,
    "start_time": "2021-10-16T13:53:41.562Z"
   },
   {
    "duration": 102,
    "start_time": "2021-10-16T13:53:41.598Z"
   },
   {
    "duration": 4,
    "start_time": "2021-10-16T13:53:41.702Z"
   },
   {
    "duration": 33,
    "start_time": "2021-10-16T13:53:41.707Z"
   },
   {
    "duration": 39,
    "start_time": "2021-10-16T13:53:41.742Z"
   },
   {
    "duration": 16,
    "start_time": "2021-10-16T13:53:41.782Z"
   },
   {
    "duration": 13,
    "start_time": "2021-10-16T13:53:41.799Z"
   },
   {
    "duration": 19,
    "start_time": "2021-10-16T13:53:41.813Z"
   },
   {
    "duration": 13,
    "start_time": "2021-10-16T13:53:41.833Z"
   },
   {
    "duration": 42,
    "start_time": "2021-10-16T13:53:41.847Z"
   },
   {
    "duration": 22,
    "start_time": "2021-10-16T13:53:41.890Z"
   },
   {
    "duration": 599,
    "start_time": "2021-10-16T13:53:41.914Z"
   },
   {
    "duration": 4,
    "start_time": "2021-10-16T13:53:42.515Z"
   },
   {
    "duration": 23,
    "start_time": "2021-10-16T13:53:42.520Z"
   },
   {
    "duration": 26,
    "start_time": "2021-10-16T13:53:42.545Z"
   },
   {
    "duration": 17,
    "start_time": "2021-10-16T13:53:42.575Z"
   },
   {
    "duration": 27,
    "start_time": "2021-10-16T13:53:42.594Z"
   },
   {
    "duration": 25,
    "start_time": "2021-10-16T13:53:42.623Z"
   },
   {
    "duration": 61,
    "start_time": "2021-10-16T13:53:42.650Z"
   },
   {
    "duration": 22,
    "start_time": "2021-10-16T13:53:42.712Z"
   },
   {
    "duration": 17,
    "start_time": "2021-10-16T13:53:42.735Z"
   },
   {
    "duration": 31,
    "start_time": "2021-10-16T13:53:42.754Z"
   },
   {
    "duration": 27,
    "start_time": "2021-10-16T13:53:42.787Z"
   },
   {
    "duration": 29,
    "start_time": "2021-10-16T13:53:42.815Z"
   },
   {
    "duration": 40,
    "start_time": "2021-10-16T13:53:42.845Z"
   },
   {
    "duration": 30,
    "start_time": "2021-10-16T13:53:42.887Z"
   },
   {
    "duration": 32,
    "start_time": "2021-10-16T13:53:42.918Z"
   },
   {
    "duration": 63,
    "start_time": "2021-10-16T13:53:42.952Z"
   },
   {
    "duration": 31,
    "start_time": "2021-10-16T13:53:43.017Z"
   },
   {
    "duration": 20,
    "start_time": "2021-10-16T13:53:43.049Z"
   },
   {
    "duration": 17,
    "start_time": "2021-10-16T13:53:43.071Z"
   },
   {
    "duration": 191,
    "start_time": "2021-10-16T13:53:43.090Z"
   },
   {
    "duration": 7,
    "start_time": "2021-10-16T13:53:43.283Z"
   },
   {
    "duration": 277,
    "start_time": "2021-10-16T13:53:43.292Z"
   },
   {
    "duration": 11,
    "start_time": "2021-10-16T13:53:43.572Z"
   },
   {
    "duration": 1523,
    "start_time": "2021-10-16T13:53:43.585Z"
   },
   {
    "duration": 7,
    "start_time": "2021-10-16T13:53:45.109Z"
   },
   {
    "duration": 199,
    "start_time": "2021-10-16T13:53:45.117Z"
   },
   {
    "duration": 20,
    "start_time": "2021-10-16T13:53:45.318Z"
   },
   {
    "duration": 12,
    "start_time": "2021-10-16T13:54:09.042Z"
   },
   {
    "duration": 8,
    "start_time": "2021-10-16T13:54:09.853Z"
   },
   {
    "duration": 3,
    "start_time": "2021-10-16T13:54:11.756Z"
   },
   {
    "duration": 108,
    "start_time": "2021-10-16T13:54:11.761Z"
   },
   {
    "duration": 10,
    "start_time": "2021-10-16T13:54:11.870Z"
   },
   {
    "duration": 6,
    "start_time": "2021-10-16T13:54:11.882Z"
   },
   {
    "duration": 35,
    "start_time": "2021-10-16T13:54:11.889Z"
   },
   {
    "duration": 11,
    "start_time": "2021-10-16T13:54:11.925Z"
   },
   {
    "duration": 29,
    "start_time": "2021-10-16T13:54:11.938Z"
   },
   {
    "duration": 9,
    "start_time": "2021-10-16T13:54:11.970Z"
   },
   {
    "duration": 23,
    "start_time": "2021-10-16T13:54:11.981Z"
   },
   {
    "duration": 26,
    "start_time": "2021-10-16T13:54:12.005Z"
   },
   {
    "duration": 17,
    "start_time": "2021-10-16T13:54:12.032Z"
   },
   {
    "duration": 20,
    "start_time": "2021-10-16T13:54:12.051Z"
   },
   {
    "duration": 100,
    "start_time": "2021-10-16T13:54:12.073Z"
   },
   {
    "duration": 3,
    "start_time": "2021-10-16T13:54:12.175Z"
   },
   {
    "duration": 16,
    "start_time": "2021-10-16T13:54:12.180Z"
   },
   {
    "duration": 25,
    "start_time": "2021-10-16T13:54:12.197Z"
   },
   {
    "duration": 16,
    "start_time": "2021-10-16T13:54:12.223Z"
   },
   {
    "duration": 12,
    "start_time": "2021-10-16T13:54:12.241Z"
   },
   {
    "duration": 24,
    "start_time": "2021-10-16T13:54:12.255Z"
   },
   {
    "duration": 11,
    "start_time": "2021-10-16T13:54:12.281Z"
   },
   {
    "duration": 36,
    "start_time": "2021-10-16T13:54:12.294Z"
   },
   {
    "duration": 46,
    "start_time": "2021-10-16T13:54:12.332Z"
   },
   {
    "duration": 582,
    "start_time": "2021-10-16T13:54:12.383Z"
   },
   {
    "duration": 10,
    "start_time": "2021-10-16T13:54:12.967Z"
   },
   {
    "duration": 17,
    "start_time": "2021-10-16T13:54:12.979Z"
   },
   {
    "duration": 20,
    "start_time": "2021-10-16T13:54:12.998Z"
   },
   {
    "duration": 20,
    "start_time": "2021-10-16T13:54:13.020Z"
   },
   {
    "duration": 27,
    "start_time": "2021-10-16T13:54:13.042Z"
   },
   {
    "duration": 24,
    "start_time": "2021-10-16T13:54:13.071Z"
   },
   {
    "duration": 50,
    "start_time": "2021-10-16T13:54:13.097Z"
   },
   {
    "duration": 23,
    "start_time": "2021-10-16T13:54:13.149Z"
   },
   {
    "duration": 16,
    "start_time": "2021-10-16T13:54:13.174Z"
   },
   {
    "duration": 10,
    "start_time": "2021-10-16T13:54:13.192Z"
   },
   {
    "duration": 13,
    "start_time": "2021-10-16T13:54:13.203Z"
   },
   {
    "duration": 26,
    "start_time": "2021-10-16T13:54:13.217Z"
   },
   {
    "duration": 21,
    "start_time": "2021-10-16T13:54:13.244Z"
   },
   {
    "duration": 40,
    "start_time": "2021-10-16T13:54:13.267Z"
   },
   {
    "duration": 16,
    "start_time": "2021-10-16T13:54:13.309Z"
   },
   {
    "duration": 31,
    "start_time": "2021-10-16T13:54:13.327Z"
   },
   {
    "duration": 12,
    "start_time": "2021-10-16T13:54:13.359Z"
   },
   {
    "duration": 9,
    "start_time": "2021-10-16T13:54:13.376Z"
   },
   {
    "duration": 25,
    "start_time": "2021-10-16T13:54:13.386Z"
   },
   {
    "duration": 164,
    "start_time": "2021-10-16T13:54:13.413Z"
   },
   {
    "duration": 7,
    "start_time": "2021-10-16T13:54:13.578Z"
   },
   {
    "duration": 266,
    "start_time": "2021-10-16T13:54:13.586Z"
   },
   {
    "duration": 6,
    "start_time": "2021-10-16T13:54:13.854Z"
   },
   {
    "duration": 1288,
    "start_time": "2021-10-16T13:54:13.862Z"
   },
   {
    "duration": 6,
    "start_time": "2021-10-16T13:54:15.151Z"
   },
   {
    "duration": 183,
    "start_time": "2021-10-16T13:54:15.158Z"
   },
   {
    "duration": 18,
    "start_time": "2021-10-16T13:54:15.342Z"
   },
   {
    "duration": 13,
    "start_time": "2021-10-16T13:54:33.915Z"
   },
   {
    "duration": 16,
    "start_time": "2021-10-16T13:54:37.796Z"
   },
   {
    "duration": 17,
    "start_time": "2021-10-16T13:54:47.314Z"
   },
   {
    "duration": 17,
    "start_time": "2021-10-16T13:55:05.250Z"
   },
   {
    "duration": 15,
    "start_time": "2021-10-16T13:55:12.183Z"
   },
   {
    "duration": 19,
    "start_time": "2021-10-16T13:55:46.762Z"
   },
   {
    "duration": 9,
    "start_time": "2021-10-16T13:55:56.465Z"
   },
   {
    "duration": 8,
    "start_time": "2021-10-16T13:56:15.184Z"
   },
   {
    "duration": 6,
    "start_time": "2021-10-16T13:56:54.946Z"
   },
   {
    "duration": 9442,
    "start_time": "2021-10-16T13:57:26.575Z"
   },
   {
    "duration": 9608,
    "start_time": "2021-10-16T13:57:38.632Z"
   },
   {
    "duration": 20,
    "start_time": "2021-10-16T13:58:15.043Z"
   },
   {
    "duration": 20,
    "start_time": "2021-10-16T13:59:02.416Z"
   },
   {
    "duration": 23,
    "start_time": "2021-10-16T13:59:40.917Z"
   },
   {
    "duration": 117,
    "start_time": "2021-10-16T14:00:08.741Z"
   },
   {
    "duration": 23,
    "start_time": "2021-10-16T14:00:12.874Z"
   },
   {
    "duration": 32,
    "start_time": "2021-10-16T14:00:27.551Z"
   },
   {
    "duration": 126,
    "start_time": "2021-10-16T14:01:07.604Z"
   },
   {
    "duration": 434,
    "start_time": "2021-10-16T14:01:14.532Z"
   },
   {
    "duration": 19,
    "start_time": "2021-10-16T14:01:18.403Z"
   },
   {
    "duration": 21,
    "start_time": "2021-10-16T14:01:37.056Z"
   },
   {
    "duration": 17,
    "start_time": "2021-10-16T14:03:14.565Z"
   },
   {
    "duration": 20,
    "start_time": "2021-10-16T14:03:34.520Z"
   },
   {
    "duration": 21,
    "start_time": "2021-10-16T14:03:49.295Z"
   },
   {
    "duration": 24,
    "start_time": "2021-10-16T14:05:03.174Z"
   },
   {
    "duration": 7,
    "start_time": "2021-10-16T14:05:23.056Z"
   },
   {
    "duration": 3,
    "start_time": "2021-10-16T14:05:34.429Z"
   },
   {
    "duration": 11,
    "start_time": "2021-10-16T14:06:08.029Z"
   },
   {
    "duration": 4,
    "start_time": "2021-10-16T14:06:11.764Z"
   },
   {
    "duration": 103,
    "start_time": "2021-10-16T14:06:11.769Z"
   },
   {
    "duration": 10,
    "start_time": "2021-10-16T14:06:11.873Z"
   },
   {
    "duration": 5,
    "start_time": "2021-10-16T14:06:11.885Z"
   },
   {
    "duration": 26,
    "start_time": "2021-10-16T14:06:11.892Z"
   },
   {
    "duration": 11,
    "start_time": "2021-10-16T14:06:11.920Z"
   },
   {
    "duration": 48,
    "start_time": "2021-10-16T14:06:11.933Z"
   },
   {
    "duration": 5,
    "start_time": "2021-10-16T14:06:11.983Z"
   },
   {
    "duration": 12,
    "start_time": "2021-10-16T14:06:11.990Z"
   },
   {
    "duration": 13,
    "start_time": "2021-10-16T14:06:12.005Z"
   },
   {
    "duration": 9,
    "start_time": "2021-10-16T14:06:12.019Z"
   },
   {
    "duration": 14,
    "start_time": "2021-10-16T14:06:12.029Z"
   },
   {
    "duration": 106,
    "start_time": "2021-10-16T14:06:12.044Z"
   },
   {
    "duration": 4,
    "start_time": "2021-10-16T14:06:12.151Z"
   },
   {
    "duration": 20,
    "start_time": "2021-10-16T14:06:12.157Z"
   },
   {
    "duration": 18,
    "start_time": "2021-10-16T14:06:12.179Z"
   },
   {
    "duration": 16,
    "start_time": "2021-10-16T14:06:12.199Z"
   },
   {
    "duration": 13,
    "start_time": "2021-10-16T14:06:12.216Z"
   },
   {
    "duration": 6,
    "start_time": "2021-10-16T14:06:12.230Z"
   },
   {
    "duration": 7,
    "start_time": "2021-10-16T14:06:12.238Z"
   },
   {
    "duration": 56,
    "start_time": "2021-10-16T14:06:12.246Z"
   },
   {
    "duration": 21,
    "start_time": "2021-10-16T14:06:12.304Z"
   },
   {
    "duration": 595,
    "start_time": "2021-10-16T14:06:12.326Z"
   },
   {
    "duration": 3,
    "start_time": "2021-10-16T14:06:12.922Z"
   },
   {
    "duration": 9,
    "start_time": "2021-10-16T14:06:12.926Z"
   },
   {
    "duration": 6,
    "start_time": "2021-10-16T14:06:12.936Z"
   },
   {
    "duration": 9,
    "start_time": "2021-10-16T14:06:12.945Z"
   },
   {
    "duration": 32,
    "start_time": "2021-10-16T14:06:12.956Z"
   },
   {
    "duration": 8,
    "start_time": "2021-10-16T14:06:12.989Z"
   },
   {
    "duration": 122,
    "start_time": "2021-10-16T14:06:12.999Z"
   },
   {
    "duration": 22,
    "start_time": "2021-10-16T14:06:13.122Z"
   },
   {
    "duration": 35,
    "start_time": "2021-10-16T14:06:13.145Z"
   },
   {
    "duration": 15,
    "start_time": "2021-10-16T14:06:13.181Z"
   },
   {
    "duration": 3,
    "start_time": "2021-10-16T14:06:13.198Z"
   },
   {
    "duration": 13,
    "start_time": "2021-10-16T14:06:13.202Z"
   },
   {
    "duration": 19,
    "start_time": "2021-10-16T14:06:13.216Z"
   },
   {
    "duration": 40,
    "start_time": "2021-10-16T14:06:13.236Z"
   },
   {
    "duration": 16,
    "start_time": "2021-10-16T14:06:13.278Z"
   },
   {
    "duration": 24,
    "start_time": "2021-10-16T14:06:13.295Z"
   },
   {
    "duration": 29,
    "start_time": "2021-10-16T14:06:13.320Z"
   },
   {
    "duration": 42,
    "start_time": "2021-10-16T14:06:13.350Z"
   },
   {
    "duration": 6,
    "start_time": "2021-10-16T14:06:13.393Z"
   },
   {
    "duration": 8,
    "start_time": "2021-10-16T14:06:13.401Z"
   },
   {
    "duration": 6,
    "start_time": "2021-10-16T14:06:13.411Z"
   },
   {
    "duration": 189,
    "start_time": "2021-10-16T14:06:13.419Z"
   },
   {
    "duration": 8,
    "start_time": "2021-10-16T14:06:13.610Z"
   },
   {
    "duration": 193,
    "start_time": "2021-10-16T14:06:13.620Z"
   },
   {
    "duration": 7,
    "start_time": "2021-10-16T14:06:13.815Z"
   },
   {
    "duration": 1231,
    "start_time": "2021-10-16T14:06:13.824Z"
   },
   {
    "duration": 7,
    "start_time": "2021-10-16T14:06:15.057Z"
   },
   {
    "duration": 168,
    "start_time": "2021-10-16T14:06:15.077Z"
   },
   {
    "duration": 30,
    "start_time": "2021-10-16T14:06:15.247Z"
   },
   {
    "duration": 643,
    "start_time": "2021-10-16T14:13:15.359Z"
   },
   {
    "duration": 547,
    "start_time": "2021-10-16T14:13:25.282Z"
   },
   {
    "duration": 368,
    "start_time": "2021-10-16T14:14:02.471Z"
   },
   {
    "duration": 421,
    "start_time": "2021-10-16T14:14:18.699Z"
   },
   {
    "duration": 474,
    "start_time": "2021-10-16T14:14:28.168Z"
   },
   {
    "duration": 483,
    "start_time": "2021-10-16T14:14:35.896Z"
   },
   {
    "duration": 632,
    "start_time": "2021-10-16T14:14:44.407Z"
   },
   {
    "duration": 548,
    "start_time": "2021-10-16T14:14:48.679Z"
   },
   {
    "duration": 332,
    "start_time": "2021-10-16T14:16:06.819Z"
   },
   {
    "duration": 351,
    "start_time": "2021-10-16T14:16:15.211Z"
   },
   {
    "duration": 338,
    "start_time": "2021-10-16T14:16:23.478Z"
   },
   {
    "duration": 376,
    "start_time": "2021-10-16T14:22:29.409Z"
   },
   {
    "duration": 443,
    "start_time": "2021-10-16T14:22:34.376Z"
   },
   {
    "duration": 489,
    "start_time": "2021-10-16T14:22:40.464Z"
   },
   {
    "duration": 265,
    "start_time": "2021-10-16T14:22:45.230Z"
   },
   {
    "duration": 460,
    "start_time": "2021-10-16T14:22:47.929Z"
   },
   {
    "duration": 370,
    "start_time": "2021-10-16T14:22:57.415Z"
   },
   {
    "duration": 471,
    "start_time": "2021-10-16T14:23:21.968Z"
   },
   {
    "duration": 431,
    "start_time": "2021-10-16T14:23:31.769Z"
   },
   {
    "duration": 394,
    "start_time": "2021-10-16T14:23:37.532Z"
   },
   {
    "duration": 642,
    "start_time": "2021-10-16T14:23:41.966Z"
   },
   {
    "duration": 428,
    "start_time": "2021-10-16T14:23:46.922Z"
   },
   {
    "duration": 912,
    "start_time": "2021-10-17T13:17:39.984Z"
   },
   {
    "duration": 122,
    "start_time": "2021-10-17T13:17:40.899Z"
   },
   {
    "duration": 20,
    "start_time": "2021-10-17T13:17:41.025Z"
   },
   {
    "duration": 15,
    "start_time": "2021-10-17T13:17:41.048Z"
   },
   {
    "duration": 81,
    "start_time": "2021-10-17T13:17:41.066Z"
   },
   {
    "duration": 17,
    "start_time": "2021-10-17T13:17:41.150Z"
   },
   {
    "duration": 65,
    "start_time": "2021-10-17T13:17:41.169Z"
   },
   {
    "duration": 7,
    "start_time": "2021-10-17T13:17:41.238Z"
   },
   {
    "duration": 14,
    "start_time": "2021-10-17T13:17:41.248Z"
   },
   {
    "duration": 23,
    "start_time": "2021-10-17T13:17:41.265Z"
   },
   {
    "duration": 40,
    "start_time": "2021-10-17T13:17:41.290Z"
   },
   {
    "duration": 17,
    "start_time": "2021-10-17T13:17:41.334Z"
   },
   {
    "duration": 177,
    "start_time": "2021-10-17T13:17:41.353Z"
   },
   {
    "duration": 5,
    "start_time": "2021-10-17T13:17:41.533Z"
   },
   {
    "duration": 12,
    "start_time": "2021-10-17T13:17:41.541Z"
   },
   {
    "duration": 28,
    "start_time": "2021-10-17T13:17:41.555Z"
   },
   {
    "duration": 57,
    "start_time": "2021-10-17T13:17:41.585Z"
   },
   {
    "duration": 19,
    "start_time": "2021-10-17T13:17:41.644Z"
   },
   {
    "duration": 10,
    "start_time": "2021-10-17T13:17:41.666Z"
   },
   {
    "duration": 13,
    "start_time": "2021-10-17T13:17:41.679Z"
   },
   {
    "duration": 40,
    "start_time": "2021-10-17T13:17:41.724Z"
   },
   {
    "duration": 70,
    "start_time": "2021-10-17T13:17:41.766Z"
   },
   {
    "duration": 1220,
    "start_time": "2021-10-17T13:17:41.842Z"
   },
   {
    "duration": 4,
    "start_time": "2021-10-17T13:17:43.066Z"
   },
   {
    "duration": 17,
    "start_time": "2021-10-17T13:17:43.072Z"
   },
   {
    "duration": 32,
    "start_time": "2021-10-17T13:17:43.091Z"
   },
   {
    "duration": 14,
    "start_time": "2021-10-17T13:17:43.125Z"
   },
   {
    "duration": 29,
    "start_time": "2021-10-17T13:17:43.141Z"
   },
   {
    "duration": 8,
    "start_time": "2021-10-17T13:17:43.172Z"
   },
   {
    "duration": 156,
    "start_time": "2021-10-17T13:17:43.182Z"
   },
   {
    "duration": 38,
    "start_time": "2021-10-17T13:17:43.340Z"
   },
   {
    "duration": 53,
    "start_time": "2021-10-17T13:17:43.382Z"
   },
   {
    "duration": 38,
    "start_time": "2021-10-17T13:17:43.437Z"
   },
   {
    "duration": 34,
    "start_time": "2021-10-17T13:17:43.478Z"
   },
   {
    "duration": 52,
    "start_time": "2021-10-17T13:17:43.514Z"
   },
   {
    "duration": 21,
    "start_time": "2021-10-17T13:17:43.568Z"
   },
   {
    "duration": 35,
    "start_time": "2021-10-17T13:17:43.592Z"
   },
   {
    "duration": 56,
    "start_time": "2021-10-17T13:17:43.629Z"
   },
   {
    "duration": 56,
    "start_time": "2021-10-17T13:17:43.688Z"
   },
   {
    "duration": 767,
    "start_time": "2021-10-17T13:17:43.747Z"
   },
   {
    "duration": 312,
    "start_time": "2021-10-17T13:17:44.516Z"
   },
   {
    "duration": 11,
    "start_time": "2021-10-17T13:17:44.831Z"
   },
   {
    "duration": 341,
    "start_time": "2021-10-17T13:17:44.845Z"
   },
   {
    "duration": 15,
    "start_time": "2021-10-17T13:17:45.189Z"
   },
   {
    "duration": 3066,
    "start_time": "2021-10-17T13:17:45.224Z"
   },
   {
    "duration": 12,
    "start_time": "2021-10-17T13:17:48.293Z"
   },
   {
    "duration": 392,
    "start_time": "2021-10-17T13:17:48.308Z"
   },
   {
    "duration": 13,
    "start_time": "2021-10-17T13:22:02.170Z"
   },
   {
    "duration": 5,
    "start_time": "2021-10-17T13:22:07.807Z"
   },
   {
    "duration": 128,
    "start_time": "2021-10-17T13:22:07.815Z"
   },
   {
    "duration": 15,
    "start_time": "2021-10-17T13:22:07.946Z"
   },
   {
    "duration": 8,
    "start_time": "2021-10-17T13:22:07.963Z"
   },
   {
    "duration": 49,
    "start_time": "2021-10-17T13:22:07.973Z"
   },
   {
    "duration": 16,
    "start_time": "2021-10-17T13:22:08.024Z"
   },
   {
    "duration": 40,
    "start_time": "2021-10-17T13:22:08.042Z"
   },
   {
    "duration": 38,
    "start_time": "2021-10-17T13:22:08.084Z"
   },
   {
    "duration": 9,
    "start_time": "2021-10-17T13:22:08.129Z"
   },
   {
    "duration": 37,
    "start_time": "2021-10-17T13:22:08.142Z"
   },
   {
    "duration": 40,
    "start_time": "2021-10-17T13:22:08.182Z"
   },
   {
    "duration": 15,
    "start_time": "2021-10-17T13:22:08.224Z"
   },
   {
    "duration": 34,
    "start_time": "2021-10-17T13:22:08.241Z"
   },
   {
    "duration": 155,
    "start_time": "2021-10-17T13:22:08.278Z"
   },
   {
    "duration": 6,
    "start_time": "2021-10-17T13:22:08.435Z"
   },
   {
    "duration": 35,
    "start_time": "2021-10-17T13:22:08.443Z"
   },
   {
    "duration": 43,
    "start_time": "2021-10-17T13:22:08.480Z"
   },
   {
    "duration": 25,
    "start_time": "2021-10-17T13:22:08.525Z"
   },
   {
    "duration": 21,
    "start_time": "2021-10-17T13:22:08.553Z"
   },
   {
    "duration": 14,
    "start_time": "2021-10-17T13:22:08.577Z"
   },
   {
    "duration": 35,
    "start_time": "2021-10-17T13:22:08.594Z"
   },
   {
    "duration": 48,
    "start_time": "2021-10-17T13:22:08.633Z"
   },
   {
    "duration": 38,
    "start_time": "2021-10-17T13:22:08.724Z"
   },
   {
    "duration": 1172,
    "start_time": "2021-10-17T13:22:08.766Z"
   },
   {
    "duration": 5,
    "start_time": "2021-10-17T13:22:09.940Z"
   },
   {
    "duration": 23,
    "start_time": "2021-10-17T13:22:09.947Z"
   },
   {
    "duration": 19,
    "start_time": "2021-10-17T13:22:09.975Z"
   },
   {
    "duration": 22,
    "start_time": "2021-10-17T13:22:09.998Z"
   },
   {
    "duration": 40,
    "start_time": "2021-10-17T13:22:10.023Z"
   },
   {
    "duration": 8,
    "start_time": "2021-10-17T13:22:10.066Z"
   },
   {
    "duration": 79,
    "start_time": "2021-10-17T13:22:10.076Z"
   },
   {
    "duration": 34,
    "start_time": "2021-10-17T13:22:10.157Z"
   },
   {
    "duration": 40,
    "start_time": "2021-10-17T13:22:10.193Z"
   },
   {
    "duration": 19,
    "start_time": "2021-10-17T13:22:10.235Z"
   },
   {
    "duration": 29,
    "start_time": "2021-10-17T13:22:10.256Z"
   },
   {
    "duration": 28,
    "start_time": "2021-10-17T13:22:10.288Z"
   },
   {
    "duration": 38,
    "start_time": "2021-10-17T13:22:10.322Z"
   },
   {
    "duration": 67,
    "start_time": "2021-10-17T13:22:10.362Z"
   },
   {
    "duration": 37,
    "start_time": "2021-10-17T13:22:10.432Z"
   },
   {
    "duration": 824,
    "start_time": "2021-10-17T13:22:10.472Z"
   },
   {
    "duration": 324,
    "start_time": "2021-10-17T13:22:11.298Z"
   },
   {
    "duration": 11,
    "start_time": "2021-10-17T13:22:11.624Z"
   },
   {
    "duration": 344,
    "start_time": "2021-10-17T13:22:11.637Z"
   },
   {
    "duration": 11,
    "start_time": "2021-10-17T13:22:11.983Z"
   },
   {
    "duration": 3449,
    "start_time": "2021-10-17T13:22:11.996Z"
   },
   {
    "duration": 8,
    "start_time": "2021-10-17T13:22:15.447Z"
   },
   {
    "duration": 314,
    "start_time": "2021-10-17T13:22:15.457Z"
   },
   {
    "duration": 390,
    "start_time": "2021-10-17T13:26:58.581Z"
   },
   {
    "duration": 34,
    "start_time": "2021-10-17T13:27:30.137Z"
   },
   {
    "duration": 5,
    "start_time": "2021-10-17T13:27:32.140Z"
   },
   {
    "duration": 124,
    "start_time": "2021-10-17T13:27:32.147Z"
   },
   {
    "duration": 15,
    "start_time": "2021-10-17T13:27:32.274Z"
   },
   {
    "duration": 7,
    "start_time": "2021-10-17T13:27:32.292Z"
   },
   {
    "duration": 43,
    "start_time": "2021-10-17T13:27:32.301Z"
   },
   {
    "duration": 16,
    "start_time": "2021-10-17T13:27:32.346Z"
   },
   {
    "duration": 59,
    "start_time": "2021-10-17T13:27:32.364Z"
   },
   {
    "duration": 13,
    "start_time": "2021-10-17T13:27:32.425Z"
   },
   {
    "duration": 292,
    "start_time": "2021-10-17T13:27:32.442Z"
   },
   {
    "duration": -121,
    "start_time": "2021-10-17T13:27:32.860Z"
   },
   {
    "duration": -121,
    "start_time": "2021-10-17T13:27:32.862Z"
   },
   {
    "duration": -119,
    "start_time": "2021-10-17T13:27:32.863Z"
   },
   {
    "duration": -121,
    "start_time": "2021-10-17T13:27:32.867Z"
   },
   {
    "duration": -121,
    "start_time": "2021-10-17T13:27:32.869Z"
   },
   {
    "duration": -121,
    "start_time": "2021-10-17T13:27:32.871Z"
   },
   {
    "duration": -122,
    "start_time": "2021-10-17T13:27:32.875Z"
   },
   {
    "duration": -121,
    "start_time": "2021-10-17T13:27:32.877Z"
   },
   {
    "duration": -123,
    "start_time": "2021-10-17T13:27:32.881Z"
   },
   {
    "duration": -123,
    "start_time": "2021-10-17T13:27:32.883Z"
   },
   {
    "duration": -123,
    "start_time": "2021-10-17T13:27:32.885Z"
   },
   {
    "duration": -162,
    "start_time": "2021-10-17T13:27:32.926Z"
   },
   {
    "duration": -163,
    "start_time": "2021-10-17T13:27:32.929Z"
   },
   {
    "duration": -164,
    "start_time": "2021-10-17T13:27:32.933Z"
   },
   {
    "duration": -167,
    "start_time": "2021-10-17T13:27:32.938Z"
   },
   {
    "duration": -119,
    "start_time": "2021-10-17T13:27:32.942Z"
   },
   {
    "duration": -121,
    "start_time": "2021-10-17T13:27:32.946Z"
   },
   {
    "duration": -121,
    "start_time": "2021-10-17T13:27:32.948Z"
   },
   {
    "duration": -125,
    "start_time": "2021-10-17T13:27:32.954Z"
   },
   {
    "duration": -125,
    "start_time": "2021-10-17T13:27:32.956Z"
   },
   {
    "duration": -123,
    "start_time": "2021-10-17T13:27:32.957Z"
   },
   {
    "duration": -131,
    "start_time": "2021-10-17T13:27:32.967Z"
   },
   {
    "duration": -140,
    "start_time": "2021-10-17T13:27:32.978Z"
   },
   {
    "duration": -139,
    "start_time": "2021-10-17T13:27:32.979Z"
   },
   {
    "duration": -137,
    "start_time": "2021-10-17T13:27:32.980Z"
   },
   {
    "duration": -183,
    "start_time": "2021-10-17T13:27:33.028Z"
   },
   {
    "duration": -190,
    "start_time": "2021-10-17T13:27:33.037Z"
   },
   {
    "duration": -190,
    "start_time": "2021-10-17T13:27:33.039Z"
   },
   {
    "duration": -190,
    "start_time": "2021-10-17T13:27:33.042Z"
   },
   {
    "duration": -193,
    "start_time": "2021-10-17T13:27:33.047Z"
   },
   {
    "duration": -192,
    "start_time": "2021-10-17T13:27:33.048Z"
   },
   {
    "duration": -193,
    "start_time": "2021-10-17T13:27:33.051Z"
   },
   {
    "duration": -131,
    "start_time": "2021-10-17T13:27:33.052Z"
   },
   {
    "duration": -130,
    "start_time": "2021-10-17T13:27:33.054Z"
   },
   {
    "duration": -132,
    "start_time": "2021-10-17T13:27:33.059Z"
   },
   {
    "duration": -131,
    "start_time": "2021-10-17T13:27:33.060Z"
   },
   {
    "duration": -131,
    "start_time": "2021-10-17T13:27:33.062Z"
   },
   {
    "duration": -131,
    "start_time": "2021-10-17T13:27:33.064Z"
   },
   {
    "duration": 6,
    "start_time": "2021-10-17T13:27:38.220Z"
   },
   {
    "duration": 143,
    "start_time": "2021-10-17T13:27:38.228Z"
   },
   {
    "duration": 15,
    "start_time": "2021-10-17T13:27:38.374Z"
   },
   {
    "duration": 7,
    "start_time": "2021-10-17T13:27:38.392Z"
   },
   {
    "duration": 44,
    "start_time": "2021-10-17T13:27:38.401Z"
   },
   {
    "duration": 16,
    "start_time": "2021-10-17T13:27:38.447Z"
   },
   {
    "duration": 62,
    "start_time": "2021-10-17T13:27:38.466Z"
   },
   {
    "duration": 12,
    "start_time": "2021-10-17T13:27:38.531Z"
   },
   {
    "duration": 434,
    "start_time": "2021-10-17T13:27:38.546Z"
   },
   {
    "duration": -123,
    "start_time": "2021-10-17T13:27:39.107Z"
   },
   {
    "duration": -124,
    "start_time": "2021-10-17T13:27:39.109Z"
   },
   {
    "duration": -123,
    "start_time": "2021-10-17T13:27:39.110Z"
   },
   {
    "duration": -122,
    "start_time": "2021-10-17T13:27:39.111Z"
   },
   {
    "duration": -123,
    "start_time": "2021-10-17T13:27:39.113Z"
   },
   {
    "duration": -123,
    "start_time": "2021-10-17T13:27:39.114Z"
   },
   {
    "duration": -123,
    "start_time": "2021-10-17T13:27:39.116Z"
   },
   {
    "duration": -123,
    "start_time": "2021-10-17T13:27:39.117Z"
   },
   {
    "duration": -124,
    "start_time": "2021-10-17T13:27:39.119Z"
   },
   {
    "duration": -126,
    "start_time": "2021-10-17T13:27:39.123Z"
   },
   {
    "duration": -127,
    "start_time": "2021-10-17T13:27:39.125Z"
   },
   {
    "duration": -126,
    "start_time": "2021-10-17T13:27:39.126Z"
   },
   {
    "duration": -126,
    "start_time": "2021-10-17T13:27:39.127Z"
   },
   {
    "duration": -126,
    "start_time": "2021-10-17T13:27:39.129Z"
   },
   {
    "duration": -126,
    "start_time": "2021-10-17T13:27:39.130Z"
   },
   {
    "duration": -125,
    "start_time": "2021-10-17T13:27:39.131Z"
   },
   {
    "duration": -128,
    "start_time": "2021-10-17T13:27:39.135Z"
   },
   {
    "duration": -128,
    "start_time": "2021-10-17T13:27:39.137Z"
   },
   {
    "duration": -128,
    "start_time": "2021-10-17T13:27:39.138Z"
   },
   {
    "duration": -129,
    "start_time": "2021-10-17T13:27:39.140Z"
   },
   {
    "duration": -132,
    "start_time": "2021-10-17T13:27:39.144Z"
   },
   {
    "duration": -131,
    "start_time": "2021-10-17T13:27:39.145Z"
   },
   {
    "duration": -131,
    "start_time": "2021-10-17T13:27:39.147Z"
   },
   {
    "duration": -131,
    "start_time": "2021-10-17T13:27:39.148Z"
   },
   {
    "duration": -127,
    "start_time": "2021-10-17T13:27:39.149Z"
   },
   {
    "duration": -130,
    "start_time": "2021-10-17T13:27:39.153Z"
   },
   {
    "duration": -129,
    "start_time": "2021-10-17T13:27:39.154Z"
   },
   {
    "duration": -130,
    "start_time": "2021-10-17T13:27:39.156Z"
   },
   {
    "duration": -130,
    "start_time": "2021-10-17T13:27:39.157Z"
   },
   {
    "duration": -132,
    "start_time": "2021-10-17T13:27:39.161Z"
   },
   {
    "duration": -133,
    "start_time": "2021-10-17T13:27:39.163Z"
   },
   {
    "duration": -133,
    "start_time": "2021-10-17T13:27:39.164Z"
   },
   {
    "duration": -136,
    "start_time": "2021-10-17T13:27:39.168Z"
   },
   {
    "duration": -135,
    "start_time": "2021-10-17T13:27:39.169Z"
   },
   {
    "duration": -136,
    "start_time": "2021-10-17T13:27:39.171Z"
   },
   {
    "duration": -137,
    "start_time": "2021-10-17T13:27:39.173Z"
   },
   {
    "duration": -136,
    "start_time": "2021-10-17T13:27:39.174Z"
   },
   {
    "duration": -136,
    "start_time": "2021-10-17T13:27:39.175Z"
   },
   {
    "duration": 311,
    "start_time": "2021-10-17T13:29:02.850Z"
   },
   {
    "duration": 6,
    "start_time": "2021-10-17T13:29:36.448Z"
   },
   {
    "duration": 293,
    "start_time": "2021-10-17T13:29:44.595Z"
   },
   {
    "duration": 6,
    "start_time": "2021-10-17T13:29:48.272Z"
   },
   {
    "duration": 117,
    "start_time": "2021-10-17T13:29:48.280Z"
   },
   {
    "duration": 14,
    "start_time": "2021-10-17T13:29:48.400Z"
   },
   {
    "duration": 9,
    "start_time": "2021-10-17T13:29:48.416Z"
   },
   {
    "duration": 49,
    "start_time": "2021-10-17T13:29:48.428Z"
   },
   {
    "duration": 16,
    "start_time": "2021-10-17T13:29:48.479Z"
   },
   {
    "duration": 71,
    "start_time": "2021-10-17T13:29:48.498Z"
   },
   {
    "duration": 12,
    "start_time": "2021-10-17T13:29:48.572Z"
   },
   {
    "duration": 16,
    "start_time": "2021-10-17T13:29:48.588Z"
   },
   {
    "duration": 16,
    "start_time": "2021-10-17T13:29:48.624Z"
   },
   {
    "duration": 39,
    "start_time": "2021-10-17T13:29:48.644Z"
   },
   {
    "duration": 29,
    "start_time": "2021-10-17T13:29:48.686Z"
   },
   {
    "duration": 300,
    "start_time": "2021-10-17T13:29:48.718Z"
   },
   {
    "duration": -499,
    "start_time": "2021-10-17T13:29:49.520Z"
   },
   {
    "duration": -498,
    "start_time": "2021-10-17T13:29:49.521Z"
   },
   {
    "duration": -498,
    "start_time": "2021-10-17T13:29:49.523Z"
   },
   {
    "duration": -497,
    "start_time": "2021-10-17T13:29:49.524Z"
   },
   {
    "duration": -496,
    "start_time": "2021-10-17T13:29:49.525Z"
   },
   {
    "duration": -496,
    "start_time": "2021-10-17T13:29:49.527Z"
   },
   {
    "duration": -495,
    "start_time": "2021-10-17T13:29:49.528Z"
   },
   {
    "duration": -495,
    "start_time": "2021-10-17T13:29:49.530Z"
   },
   {
    "duration": -497,
    "start_time": "2021-10-17T13:29:49.534Z"
   },
   {
    "duration": -497,
    "start_time": "2021-10-17T13:29:49.536Z"
   },
   {
    "duration": -499,
    "start_time": "2021-10-17T13:29:49.539Z"
   },
   {
    "duration": -497,
    "start_time": "2021-10-17T13:29:49.541Z"
   },
   {
    "duration": -497,
    "start_time": "2021-10-17T13:29:49.542Z"
   },
   {
    "duration": -500,
    "start_time": "2021-10-17T13:29:49.546Z"
   },
   {
    "duration": -500,
    "start_time": "2021-10-17T13:29:49.547Z"
   },
   {
    "duration": -503,
    "start_time": "2021-10-17T13:29:49.551Z"
   },
   {
    "duration": -502,
    "start_time": "2021-10-17T13:29:49.552Z"
   },
   {
    "duration": -504,
    "start_time": "2021-10-17T13:29:49.555Z"
   },
   {
    "duration": -507,
    "start_time": "2021-10-17T13:29:49.559Z"
   },
   {
    "duration": -507,
    "start_time": "2021-10-17T13:29:49.560Z"
   },
   {
    "duration": -507,
    "start_time": "2021-10-17T13:29:49.562Z"
   },
   {
    "duration": -510,
    "start_time": "2021-10-17T13:29:49.566Z"
   },
   {
    "duration": -511,
    "start_time": "2021-10-17T13:29:49.568Z"
   },
   {
    "duration": -511,
    "start_time": "2021-10-17T13:29:49.569Z"
   },
   {
    "duration": -511,
    "start_time": "2021-10-17T13:29:49.570Z"
   },
   {
    "duration": -512,
    "start_time": "2021-10-17T13:29:49.572Z"
   },
   {
    "duration": -511,
    "start_time": "2021-10-17T13:29:49.573Z"
   },
   {
    "duration": -511,
    "start_time": "2021-10-17T13:29:49.574Z"
   },
   {
    "duration": -513,
    "start_time": "2021-10-17T13:29:49.578Z"
   },
   {
    "duration": -456,
    "start_time": "2021-10-17T13:29:49.579Z"
   },
   {
    "duration": -456,
    "start_time": "2021-10-17T13:29:49.581Z"
   },
   {
    "duration": -455,
    "start_time": "2021-10-17T13:29:49.582Z"
   },
   {
    "duration": -458,
    "start_time": "2021-10-17T13:29:49.586Z"
   },
   {
    "duration": -457,
    "start_time": "2021-10-17T13:29:49.587Z"
   },
   {
    "duration": -457,
    "start_time": "2021-10-17T13:29:49.589Z"
   },
   {
    "duration": 7,
    "start_time": "2021-10-17T13:32:15.225Z"
   },
   {
    "duration": 1946,
    "start_time": "2021-10-17T13:32:17.452Z"
   },
   {
    "duration": 11,
    "start_time": "2021-10-17T13:33:23.009Z"
   },
   {
    "duration": 352,
    "start_time": "2021-10-17T13:33:31.518Z"
   },
   {
    "duration": 292,
    "start_time": "2021-10-17T13:34:17.640Z"
   },
   {
    "duration": 4,
    "start_time": "2021-10-17T13:34:20.074Z"
   },
   {
    "duration": 121,
    "start_time": "2021-10-17T13:34:20.081Z"
   },
   {
    "duration": 15,
    "start_time": "2021-10-17T13:34:20.205Z"
   },
   {
    "duration": 32,
    "start_time": "2021-10-17T13:34:20.223Z"
   },
   {
    "duration": 54,
    "start_time": "2021-10-17T13:34:20.257Z"
   },
   {
    "duration": 19,
    "start_time": "2021-10-17T13:34:20.313Z"
   },
   {
    "duration": 41,
    "start_time": "2021-10-17T13:34:20.335Z"
   },
   {
    "duration": 13,
    "start_time": "2021-10-17T13:34:20.378Z"
   },
   {
    "duration": 7,
    "start_time": "2021-10-17T13:34:20.421Z"
   },
   {
    "duration": 25,
    "start_time": "2021-10-17T13:34:20.432Z"
   },
   {
    "duration": 22,
    "start_time": "2021-10-17T13:34:20.459Z"
   },
   {
    "duration": 46,
    "start_time": "2021-10-17T13:34:20.484Z"
   },
   {
    "duration": 40,
    "start_time": "2021-10-17T13:34:20.533Z"
   },
   {
    "duration": 176,
    "start_time": "2021-10-17T13:34:20.576Z"
   },
   {
    "duration": 127,
    "start_time": "2021-10-17T13:34:20.756Z"
   },
   {
    "duration": 44,
    "start_time": "2021-10-17T13:34:20.885Z"
   },
   {
    "duration": 17,
    "start_time": "2021-10-17T13:34:20.933Z"
   },
   {
    "duration": 88,
    "start_time": "2021-10-17T13:34:20.953Z"
   },
   {
    "duration": 82,
    "start_time": "2021-10-17T13:34:21.045Z"
   },
   {
    "duration": 26,
    "start_time": "2021-10-17T13:34:21.130Z"
   },
   {
    "duration": 63,
    "start_time": "2021-10-17T13:34:21.159Z"
   },
   {
    "duration": 10,
    "start_time": "2021-10-17T13:34:21.225Z"
   },
   {
    "duration": 100,
    "start_time": "2021-10-17T13:34:21.238Z"
   },
   {
    "duration": 95,
    "start_time": "2021-10-17T13:34:21.342Z"
   },
   {
    "duration": 1644,
    "start_time": "2021-10-17T13:34:21.441Z"
   },
   {
    "duration": 5,
    "start_time": "2021-10-17T13:34:23.087Z"
   },
   {
    "duration": 32,
    "start_time": "2021-10-17T13:34:23.097Z"
   },
   {
    "duration": 23,
    "start_time": "2021-10-17T13:34:23.133Z"
   },
   {
    "duration": 40,
    "start_time": "2021-10-17T13:34:23.158Z"
   },
   {
    "duration": 34,
    "start_time": "2021-10-17T13:34:23.200Z"
   },
   {
    "duration": 23,
    "start_time": "2021-10-17T13:34:23.237Z"
   },
   {
    "duration": 54,
    "start_time": "2021-10-17T13:34:23.263Z"
   },
   {
    "duration": 44,
    "start_time": "2021-10-17T13:34:23.321Z"
   },
   {
    "duration": 19,
    "start_time": "2021-10-17T13:34:23.368Z"
   },
   {
    "duration": 36,
    "start_time": "2021-10-17T13:34:23.390Z"
   },
   {
    "duration": 41,
    "start_time": "2021-10-17T13:34:23.430Z"
   },
   {
    "duration": 46,
    "start_time": "2021-10-17T13:34:23.474Z"
   },
   {
    "duration": 39,
    "start_time": "2021-10-17T13:34:23.522Z"
   },
   {
    "duration": 82,
    "start_time": "2021-10-17T13:34:23.564Z"
   },
   {
    "duration": 38,
    "start_time": "2021-10-17T13:34:23.648Z"
   },
   {
    "duration": 840,
    "start_time": "2021-10-17T13:34:23.689Z"
   },
   {
    "duration": 464,
    "start_time": "2021-10-17T13:34:24.532Z"
   },
   {
    "duration": 27,
    "start_time": "2021-10-17T13:34:24.999Z"
   },
   {
    "duration": 431,
    "start_time": "2021-10-17T13:34:25.029Z"
   },
   {
    "duration": 10,
    "start_time": "2021-10-17T13:34:25.462Z"
   },
   {
    "duration": 2661,
    "start_time": "2021-10-17T13:34:25.474Z"
   },
   {
    "duration": 10,
    "start_time": "2021-10-17T13:34:28.138Z"
   },
   {
    "duration": 429,
    "start_time": "2021-10-17T13:34:28.150Z"
   },
   {
    "duration": 284,
    "start_time": "2021-10-17T13:37:44.412Z"
   },
   {
    "duration": 5,
    "start_time": "2021-10-17T13:37:51.589Z"
   },
   {
    "duration": 147,
    "start_time": "2021-10-17T13:37:51.596Z"
   },
   {
    "duration": 14,
    "start_time": "2021-10-17T13:37:51.746Z"
   },
   {
    "duration": 29,
    "start_time": "2021-10-17T13:37:51.763Z"
   },
   {
    "duration": 71,
    "start_time": "2021-10-17T13:37:51.795Z"
   },
   {
    "duration": 15,
    "start_time": "2021-10-17T13:37:51.869Z"
   },
   {
    "duration": 66,
    "start_time": "2021-10-17T13:37:51.887Z"
   },
   {
    "duration": 14,
    "start_time": "2021-10-17T13:37:51.956Z"
   },
   {
    "duration": 11,
    "start_time": "2021-10-17T13:37:51.973Z"
   },
   {
    "duration": 47,
    "start_time": "2021-10-17T13:37:51.987Z"
   },
   {
    "duration": 38,
    "start_time": "2021-10-17T13:37:52.037Z"
   },
   {
    "duration": 27,
    "start_time": "2021-10-17T13:37:52.077Z"
   },
   {
    "duration": 61,
    "start_time": "2021-10-17T13:37:52.106Z"
   },
   {
    "duration": 159,
    "start_time": "2021-10-17T13:37:52.169Z"
   },
   {
    "duration": 36,
    "start_time": "2021-10-17T13:37:52.330Z"
   },
   {
    "duration": 10,
    "start_time": "2021-10-17T13:37:52.369Z"
   },
   {
    "duration": 43,
    "start_time": "2021-10-17T13:37:52.381Z"
   },
   {
    "duration": 39,
    "start_time": "2021-10-17T13:37:52.427Z"
   },
   {
    "duration": 74,
    "start_time": "2021-10-17T13:37:52.468Z"
   },
   {
    "duration": 21,
    "start_time": "2021-10-17T13:37:52.545Z"
   },
   {
    "duration": 10,
    "start_time": "2021-10-17T13:37:52.622Z"
   },
   {
    "duration": 39,
    "start_time": "2021-10-17T13:37:52.635Z"
   },
   {
    "duration": 143,
    "start_time": "2021-10-17T13:37:52.679Z"
   },
   {
    "duration": 106,
    "start_time": "2021-10-17T13:37:52.827Z"
   },
   {
    "duration": 1511,
    "start_time": "2021-10-17T13:37:52.936Z"
   },
   {
    "duration": 5,
    "start_time": "2021-10-17T13:37:54.449Z"
   },
   {
    "duration": 12,
    "start_time": "2021-10-17T13:37:54.457Z"
   },
   {
    "duration": 9,
    "start_time": "2021-10-17T13:37:54.472Z"
   },
   {
    "duration": 45,
    "start_time": "2021-10-17T13:37:54.483Z"
   },
   {
    "duration": 8,
    "start_time": "2021-10-17T13:37:54.531Z"
   },
   {
    "duration": 47,
    "start_time": "2021-10-17T13:37:54.542Z"
   },
   {
    "duration": 68,
    "start_time": "2021-10-17T13:37:54.591Z"
   },
   {
    "duration": 18,
    "start_time": "2021-10-17T13:37:54.662Z"
   },
   {
    "duration": 7,
    "start_time": "2021-10-17T13:37:54.683Z"
   },
   {
    "duration": 51,
    "start_time": "2021-10-17T13:37:54.692Z"
   },
   {
    "duration": 21,
    "start_time": "2021-10-17T13:37:54.747Z"
   },
   {
    "duration": 60,
    "start_time": "2021-10-17T13:37:54.771Z"
   },
   {
    "duration": 56,
    "start_time": "2021-10-17T13:37:54.834Z"
   },
   {
    "duration": 57,
    "start_time": "2021-10-17T13:37:54.893Z"
   },
   {
    "duration": 788,
    "start_time": "2021-10-17T13:37:54.952Z"
   },
   {
    "duration": 407,
    "start_time": "2021-10-17T13:37:55.742Z"
   },
   {
    "duration": 10,
    "start_time": "2021-10-17T13:37:56.151Z"
   },
   {
    "duration": 310,
    "start_time": "2021-10-17T13:37:56.164Z"
   },
   {
    "duration": 10,
    "start_time": "2021-10-17T13:37:56.477Z"
   },
   {
    "duration": 2400,
    "start_time": "2021-10-17T13:37:56.490Z"
   },
   {
    "duration": 10,
    "start_time": "2021-10-17T13:37:58.892Z"
   },
   {
    "duration": 326,
    "start_time": "2021-10-17T13:37:58.904Z"
   },
   {
    "duration": 9,
    "start_time": "2021-10-17T13:46:40.052Z"
   },
   {
    "duration": 10,
    "start_time": "2021-10-17T13:49:07.561Z"
   },
   {
    "duration": 6,
    "start_time": "2021-10-17T13:49:11.110Z"
   },
   {
    "duration": 164,
    "start_time": "2021-10-17T13:49:11.118Z"
   },
   {
    "duration": 14,
    "start_time": "2021-10-17T13:49:11.285Z"
   },
   {
    "duration": 53,
    "start_time": "2021-10-17T13:49:11.302Z"
   },
   {
    "duration": 56,
    "start_time": "2021-10-17T13:49:11.358Z"
   },
   {
    "duration": 26,
    "start_time": "2021-10-17T13:49:11.417Z"
   },
   {
    "duration": 67,
    "start_time": "2021-10-17T13:49:11.446Z"
   },
   {
    "duration": 15,
    "start_time": "2021-10-17T13:49:11.518Z"
   },
   {
    "duration": 44,
    "start_time": "2021-10-17T13:49:11.537Z"
   },
   {
    "duration": 40,
    "start_time": "2021-10-17T13:49:11.584Z"
   },
   {
    "duration": 37,
    "start_time": "2021-10-17T13:49:11.627Z"
   },
   {
    "duration": 71,
    "start_time": "2021-10-17T13:49:11.667Z"
   },
   {
    "duration": 159,
    "start_time": "2021-10-17T13:49:11.740Z"
   },
   {
    "duration": 31,
    "start_time": "2021-10-17T13:49:11.901Z"
   },
   {
    "duration": 46,
    "start_time": "2021-10-17T13:49:11.935Z"
   },
   {
    "duration": 51,
    "start_time": "2021-10-17T13:49:11.983Z"
   },
   {
    "duration": 55,
    "start_time": "2021-10-17T13:49:12.036Z"
   },
   {
    "duration": 52,
    "start_time": "2021-10-17T13:49:12.094Z"
   },
   {
    "duration": 80,
    "start_time": "2021-10-17T13:49:12.149Z"
   },
   {
    "duration": 62,
    "start_time": "2021-10-17T13:49:12.231Z"
   },
   {
    "duration": 37,
    "start_time": "2021-10-17T13:49:12.323Z"
   },
   {
    "duration": 92,
    "start_time": "2021-10-17T13:49:12.363Z"
   },
   {
    "duration": 95,
    "start_time": "2021-10-17T13:49:12.460Z"
   },
   {
    "duration": 1393,
    "start_time": "2021-10-17T13:49:12.559Z"
   },
   {
    "duration": 5,
    "start_time": "2021-10-17T13:49:13.955Z"
   },
   {
    "duration": 76,
    "start_time": "2021-10-17T13:49:13.962Z"
   },
   {
    "duration": 82,
    "start_time": "2021-10-17T13:49:14.041Z"
   },
   {
    "duration": 57,
    "start_time": "2021-10-17T13:49:14.125Z"
   },
   {
    "duration": 39,
    "start_time": "2021-10-17T13:49:14.185Z"
   },
   {
    "duration": 81,
    "start_time": "2021-10-17T13:49:14.226Z"
   },
   {
    "duration": 47,
    "start_time": "2021-10-17T13:49:14.309Z"
   },
   {
    "duration": 23,
    "start_time": "2021-10-17T13:49:14.358Z"
   },
   {
    "duration": 48,
    "start_time": "2021-10-17T13:49:14.383Z"
   },
   {
    "duration": 51,
    "start_time": "2021-10-17T13:49:14.433Z"
   },
   {
    "duration": 70,
    "start_time": "2021-10-17T13:49:14.487Z"
   },
   {
    "duration": 56,
    "start_time": "2021-10-17T13:49:14.560Z"
   },
   {
    "duration": 69,
    "start_time": "2021-10-17T13:49:14.618Z"
   },
   {
    "duration": 64,
    "start_time": "2021-10-17T13:49:14.689Z"
   },
   {
    "duration": 788,
    "start_time": "2021-10-17T13:49:14.756Z"
   },
   {
    "duration": 320,
    "start_time": "2021-10-17T13:49:15.546Z"
   },
   {
    "duration": 11,
    "start_time": "2021-10-17T13:49:15.868Z"
   },
   {
    "duration": 356,
    "start_time": "2021-10-17T13:49:15.882Z"
   },
   {
    "duration": 11,
    "start_time": "2021-10-17T13:49:16.241Z"
   },
   {
    "duration": 2090,
    "start_time": "2021-10-17T13:49:16.255Z"
   },
   {
    "duration": 10,
    "start_time": "2021-10-17T13:49:18.347Z"
   },
   {
    "duration": 339,
    "start_time": "2021-10-17T13:49:18.359Z"
   },
   {
    "duration": 10,
    "start_time": "2021-10-17T13:49:27.896Z"
   },
   {
    "duration": 9,
    "start_time": "2021-10-17T13:49:54.444Z"
   },
   {
    "duration": 5,
    "start_time": "2021-10-17T13:50:00.565Z"
   },
   {
    "duration": 138,
    "start_time": "2021-10-17T13:50:00.572Z"
   },
   {
    "duration": 19,
    "start_time": "2021-10-17T13:50:00.714Z"
   },
   {
    "duration": 21,
    "start_time": "2021-10-17T13:50:00.736Z"
   },
   {
    "duration": 76,
    "start_time": "2021-10-17T13:50:00.759Z"
   },
   {
    "duration": 18,
    "start_time": "2021-10-17T13:50:00.838Z"
   },
   {
    "duration": 68,
    "start_time": "2021-10-17T13:50:00.859Z"
   },
   {
    "duration": 17,
    "start_time": "2021-10-17T13:50:00.930Z"
   },
   {
    "duration": 23,
    "start_time": "2021-10-17T13:50:00.953Z"
   },
   {
    "duration": 27,
    "start_time": "2021-10-17T13:50:00.980Z"
   },
   {
    "duration": 18,
    "start_time": "2021-10-17T13:50:01.023Z"
   },
   {
    "duration": 90,
    "start_time": "2021-10-17T13:50:01.044Z"
   },
   {
    "duration": 175,
    "start_time": "2021-10-17T13:50:01.136Z"
   },
   {
    "duration": 42,
    "start_time": "2021-10-17T13:50:01.314Z"
   },
   {
    "duration": 39,
    "start_time": "2021-10-17T13:50:01.359Z"
   },
   {
    "duration": 62,
    "start_time": "2021-10-17T13:50:01.401Z"
   },
   {
    "duration": 82,
    "start_time": "2021-10-17T13:50:01.466Z"
   },
   {
    "duration": 94,
    "start_time": "2021-10-17T13:50:01.552Z"
   },
   {
    "duration": 77,
    "start_time": "2021-10-17T13:50:01.649Z"
   },
   {
    "duration": 106,
    "start_time": "2021-10-17T13:50:01.730Z"
   },
   {
    "duration": 87,
    "start_time": "2021-10-17T13:50:01.839Z"
   },
   {
    "duration": 135,
    "start_time": "2021-10-17T13:50:01.929Z"
   },
   {
    "duration": 93,
    "start_time": "2021-10-17T13:50:02.066Z"
   },
   {
    "duration": 1283,
    "start_time": "2021-10-17T13:50:02.162Z"
   },
   {
    "duration": 5,
    "start_time": "2021-10-17T13:50:03.448Z"
   },
   {
    "duration": 24,
    "start_time": "2021-10-17T13:50:03.455Z"
   },
   {
    "duration": 18,
    "start_time": "2021-10-17T13:50:03.484Z"
   },
   {
    "duration": 41,
    "start_time": "2021-10-17T13:50:03.505Z"
   },
   {
    "duration": 7,
    "start_time": "2021-10-17T13:50:03.549Z"
   },
   {
    "duration": 60,
    "start_time": "2021-10-17T13:50:03.558Z"
   },
   {
    "duration": 38,
    "start_time": "2021-10-17T13:50:03.621Z"
   },
   {
    "duration": 20,
    "start_time": "2021-10-17T13:50:03.662Z"
   },
   {
    "duration": 11,
    "start_time": "2021-10-17T13:50:03.685Z"
   },
   {
    "duration": 33,
    "start_time": "2021-10-17T13:50:03.723Z"
   },
   {
    "duration": 24,
    "start_time": "2021-10-17T13:50:03.758Z"
   },
   {
    "duration": 55,
    "start_time": "2021-10-17T13:50:03.784Z"
   },
   {
    "duration": 62,
    "start_time": "2021-10-17T13:50:03.841Z"
   },
   {
    "duration": 55,
    "start_time": "2021-10-17T13:50:03.905Z"
   },
   {
    "duration": 878,
    "start_time": "2021-10-17T13:50:03.962Z"
   },
   {
    "duration": 351,
    "start_time": "2021-10-17T13:50:04.843Z"
   },
   {
    "duration": 11,
    "start_time": "2021-10-17T13:50:05.197Z"
   },
   {
    "duration": 418,
    "start_time": "2021-10-17T13:50:05.222Z"
   },
   {
    "duration": 12,
    "start_time": "2021-10-17T13:50:05.643Z"
   },
   {
    "duration": 2270,
    "start_time": "2021-10-17T13:50:05.658Z"
   },
   {
    "duration": 13,
    "start_time": "2021-10-17T13:50:07.930Z"
   },
   {
    "duration": 346,
    "start_time": "2021-10-17T13:50:07.945Z"
   },
   {
    "duration": 281,
    "start_time": "2021-10-17T13:51:14.710Z"
   },
   {
    "duration": 10,
    "start_time": "2021-10-17T13:51:17.944Z"
   },
   {
    "duration": 136,
    "start_time": "2021-10-17T13:51:17.957Z"
   },
   {
    "duration": 15,
    "start_time": "2021-10-17T13:51:18.096Z"
   },
   {
    "duration": 23,
    "start_time": "2021-10-17T13:51:18.114Z"
   },
   {
    "duration": 42,
    "start_time": "2021-10-17T13:51:18.140Z"
   },
   {
    "duration": 15,
    "start_time": "2021-10-17T13:51:18.185Z"
   },
   {
    "duration": 70,
    "start_time": "2021-10-17T13:51:18.202Z"
   },
   {
    "duration": 12,
    "start_time": "2021-10-17T13:51:18.274Z"
   },
   {
    "duration": 35,
    "start_time": "2021-10-17T13:51:18.290Z"
   },
   {
    "duration": 26,
    "start_time": "2021-10-17T13:51:18.328Z"
   },
   {
    "duration": 14,
    "start_time": "2021-10-17T13:51:18.358Z"
   },
   {
    "duration": 61,
    "start_time": "2021-10-17T13:51:18.375Z"
   },
   {
    "duration": 168,
    "start_time": "2021-10-17T13:51:18.439Z"
   },
   {
    "duration": 39,
    "start_time": "2021-10-17T13:51:18.609Z"
   },
   {
    "duration": 12,
    "start_time": "2021-10-17T13:51:18.650Z"
   },
   {
    "duration": 17,
    "start_time": "2021-10-17T13:51:18.665Z"
   },
   {
    "duration": 53,
    "start_time": "2021-10-17T13:51:18.684Z"
   },
   {
    "duration": 28,
    "start_time": "2021-10-17T13:51:18.740Z"
   },
   {
    "duration": 24,
    "start_time": "2021-10-17T13:51:18.771Z"
   },
   {
    "duration": 33,
    "start_time": "2021-10-17T13:51:18.797Z"
   },
   {
    "duration": 9,
    "start_time": "2021-10-17T13:51:18.833Z"
   },
   {
    "duration": 87,
    "start_time": "2021-10-17T13:51:18.845Z"
   },
   {
    "duration": 41,
    "start_time": "2021-10-17T13:51:18.934Z"
   },
   {
    "duration": 1882,
    "start_time": "2021-10-17T13:51:18.978Z"
   },
   {
    "duration": 6,
    "start_time": "2021-10-17T13:51:20.864Z"
   },
   {
    "duration": 23,
    "start_time": "2021-10-17T13:51:20.873Z"
   },
   {
    "duration": 22,
    "start_time": "2021-10-17T13:51:20.902Z"
   },
   {
    "duration": 32,
    "start_time": "2021-10-17T13:51:20.928Z"
   },
   {
    "duration": 5,
    "start_time": "2021-10-17T13:51:20.963Z"
   },
   {
    "duration": 66,
    "start_time": "2021-10-17T13:51:20.970Z"
   },
   {
    "duration": 37,
    "start_time": "2021-10-17T13:51:21.040Z"
   },
   {
    "duration": 44,
    "start_time": "2021-10-17T13:51:21.080Z"
   },
   {
    "duration": 30,
    "start_time": "2021-10-17T13:51:21.127Z"
   },
   {
    "duration": 45,
    "start_time": "2021-10-17T13:51:21.160Z"
   },
   {
    "duration": 30,
    "start_time": "2021-10-17T13:51:21.208Z"
   },
   {
    "duration": 36,
    "start_time": "2021-10-17T13:51:21.240Z"
   },
   {
    "duration": 86,
    "start_time": "2021-10-17T13:51:21.279Z"
   },
   {
    "duration": 37,
    "start_time": "2021-10-17T13:51:21.367Z"
   },
   {
    "duration": 775,
    "start_time": "2021-10-17T13:51:21.423Z"
   },
   {
    "duration": 326,
    "start_time": "2021-10-17T13:51:22.200Z"
   },
   {
    "duration": 13,
    "start_time": "2021-10-17T13:51:22.528Z"
   },
   {
    "duration": 346,
    "start_time": "2021-10-17T13:51:22.544Z"
   },
   {
    "duration": 29,
    "start_time": "2021-10-17T13:51:22.893Z"
   },
   {
    "duration": 2334,
    "start_time": "2021-10-17T13:51:22.925Z"
   },
   {
    "duration": 9,
    "start_time": "2021-10-17T13:51:25.261Z"
   },
   {
    "duration": 320,
    "start_time": "2021-10-17T13:51:25.272Z"
   },
   {
    "duration": 6,
    "start_time": "2021-10-17T13:52:37.147Z"
   },
   {
    "duration": 128,
    "start_time": "2021-10-17T13:52:37.156Z"
   },
   {
    "duration": 16,
    "start_time": "2021-10-17T13:52:37.286Z"
   },
   {
    "duration": 8,
    "start_time": "2021-10-17T13:52:37.305Z"
   },
   {
    "duration": 48,
    "start_time": "2021-10-17T13:52:37.316Z"
   },
   {
    "duration": 16,
    "start_time": "2021-10-17T13:52:37.366Z"
   },
   {
    "duration": 69,
    "start_time": "2021-10-17T13:52:37.385Z"
   },
   {
    "duration": 15,
    "start_time": "2021-10-17T13:52:37.458Z"
   },
   {
    "duration": 9,
    "start_time": "2021-10-17T13:52:37.476Z"
   },
   {
    "duration": 49,
    "start_time": "2021-10-17T13:52:37.488Z"
   },
   {
    "duration": 10,
    "start_time": "2021-10-17T13:52:37.541Z"
   },
   {
    "duration": 13,
    "start_time": "2021-10-17T13:52:37.553Z"
   },
   {
    "duration": 177,
    "start_time": "2021-10-17T13:52:37.568Z"
   },
   {
    "duration": 35,
    "start_time": "2021-10-17T13:52:37.747Z"
   },
   {
    "duration": 5,
    "start_time": "2021-10-17T13:52:37.784Z"
   },
   {
    "duration": 44,
    "start_time": "2021-10-17T13:52:37.791Z"
   },
   {
    "duration": 31,
    "start_time": "2021-10-17T13:52:37.838Z"
   },
   {
    "duration": 68,
    "start_time": "2021-10-17T13:52:37.872Z"
   },
   {
    "duration": 24,
    "start_time": "2021-10-17T13:52:37.943Z"
   },
   {
    "duration": 7,
    "start_time": "2021-10-17T13:52:37.970Z"
   },
   {
    "duration": 10,
    "start_time": "2021-10-17T13:52:37.980Z"
   },
   {
    "duration": 77,
    "start_time": "2021-10-17T13:52:37.992Z"
   },
   {
    "duration": 75,
    "start_time": "2021-10-17T13:52:38.075Z"
   },
   {
    "duration": 1711,
    "start_time": "2021-10-17T13:52:38.153Z"
   },
   {
    "duration": 6,
    "start_time": "2021-10-17T13:52:39.866Z"
   },
   {
    "duration": 19,
    "start_time": "2021-10-17T13:52:39.874Z"
   },
   {
    "duration": 26,
    "start_time": "2021-10-17T13:52:39.896Z"
   },
   {
    "duration": 18,
    "start_time": "2021-10-17T13:52:39.925Z"
   },
   {
    "duration": 19,
    "start_time": "2021-10-17T13:52:39.946Z"
   },
   {
    "duration": 66,
    "start_time": "2021-10-17T13:52:39.967Z"
   },
   {
    "duration": 39,
    "start_time": "2021-10-17T13:52:40.036Z"
   },
   {
    "duration": 19,
    "start_time": "2021-10-17T13:52:40.078Z"
   },
   {
    "duration": 7,
    "start_time": "2021-10-17T13:52:40.124Z"
   },
   {
    "duration": 41,
    "start_time": "2021-10-17T13:52:40.134Z"
   },
   {
    "duration": 30,
    "start_time": "2021-10-17T13:52:40.177Z"
   },
   {
    "duration": 44,
    "start_time": "2021-10-17T13:52:40.209Z"
   },
   {
    "duration": 85,
    "start_time": "2021-10-17T13:52:40.255Z"
   },
   {
    "duration": 39,
    "start_time": "2021-10-17T13:52:40.342Z"
   },
   {
    "duration": 845,
    "start_time": "2021-10-17T13:52:40.384Z"
   },
   {
    "duration": 338,
    "start_time": "2021-10-17T13:52:41.232Z"
   },
   {
    "duration": 10,
    "start_time": "2021-10-17T13:52:41.573Z"
   },
   {
    "duration": 322,
    "start_time": "2021-10-17T13:52:41.585Z"
   },
   {
    "duration": 21,
    "start_time": "2021-10-17T13:52:41.909Z"
   },
   {
    "duration": 2290,
    "start_time": "2021-10-17T13:52:41.932Z"
   },
   {
    "duration": 10,
    "start_time": "2021-10-17T13:52:44.225Z"
   },
   {
    "duration": 328,
    "start_time": "2021-10-17T13:52:44.238Z"
   },
   {
    "duration": 34,
    "start_time": "2021-10-17T13:53:50.465Z"
   },
   {
    "duration": 5,
    "start_time": "2021-10-17T13:53:53.229Z"
   },
   {
    "duration": 143,
    "start_time": "2021-10-17T13:53:53.238Z"
   },
   {
    "duration": 15,
    "start_time": "2021-10-17T13:53:53.384Z"
   },
   {
    "duration": 14,
    "start_time": "2021-10-17T13:53:53.402Z"
   },
   {
    "duration": 48,
    "start_time": "2021-10-17T13:53:53.418Z"
   },
   {
    "duration": 17,
    "start_time": "2021-10-17T13:53:53.468Z"
   },
   {
    "duration": 65,
    "start_time": "2021-10-17T13:53:53.487Z"
   },
   {
    "duration": 13,
    "start_time": "2021-10-17T13:53:53.555Z"
   },
   {
    "duration": 10,
    "start_time": "2021-10-17T13:53:53.572Z"
   },
   {
    "duration": 47,
    "start_time": "2021-10-17T13:53:53.585Z"
   },
   {
    "duration": 12,
    "start_time": "2021-10-17T13:53:53.635Z"
   },
   {
    "duration": 16,
    "start_time": "2021-10-17T13:53:53.650Z"
   },
   {
    "duration": 184,
    "start_time": "2021-10-17T13:53:53.668Z"
   },
   {
    "duration": 39,
    "start_time": "2021-10-17T13:53:53.854Z"
   },
   {
    "duration": 28,
    "start_time": "2021-10-17T13:53:53.896Z"
   },
   {
    "duration": 16,
    "start_time": "2021-10-17T13:53:53.927Z"
   },
   {
    "duration": 29,
    "start_time": "2021-10-17T13:53:53.946Z"
   },
   {
    "duration": 66,
    "start_time": "2021-10-17T13:53:53.977Z"
   },
   {
    "duration": 30,
    "start_time": "2021-10-17T13:53:54.046Z"
   },
   {
    "duration": 9,
    "start_time": "2021-10-17T13:53:54.079Z"
   },
   {
    "duration": 37,
    "start_time": "2021-10-17T13:53:54.091Z"
   },
   {
    "duration": 46,
    "start_time": "2021-10-17T13:53:54.131Z"
   },
   {
    "duration": 75,
    "start_time": "2021-10-17T13:53:54.179Z"
   },
   {
    "duration": 1725,
    "start_time": "2021-10-17T13:53:54.257Z"
   },
   {
    "duration": 14,
    "start_time": "2021-10-17T13:53:55.985Z"
   },
   {
    "duration": 25,
    "start_time": "2021-10-17T13:53:56.002Z"
   },
   {
    "duration": 8,
    "start_time": "2021-10-17T13:53:56.035Z"
   },
   {
    "duration": 32,
    "start_time": "2021-10-17T13:53:56.047Z"
   },
   {
    "duration": 14,
    "start_time": "2021-10-17T13:53:56.082Z"
   },
   {
    "duration": 160,
    "start_time": "2021-10-17T13:53:56.098Z"
   },
   {
    "duration": 60,
    "start_time": "2021-10-17T13:53:56.262Z"
   },
   {
    "duration": 22,
    "start_time": "2021-10-17T13:53:56.325Z"
   },
   {
    "duration": 7,
    "start_time": "2021-10-17T13:53:56.350Z"
   },
   {
    "duration": 37,
    "start_time": "2021-10-17T13:53:56.360Z"
   },
   {
    "duration": 42,
    "start_time": "2021-10-17T13:53:56.400Z"
   },
   {
    "duration": 36,
    "start_time": "2021-10-17T13:53:56.445Z"
   },
   {
    "duration": 101,
    "start_time": "2021-10-17T13:53:56.483Z"
   },
   {
    "duration": 59,
    "start_time": "2021-10-17T13:53:56.587Z"
   },
   {
    "duration": 797,
    "start_time": "2021-10-17T13:53:56.649Z"
   },
   {
    "duration": 346,
    "start_time": "2021-10-17T13:53:57.449Z"
   },
   {
    "duration": 11,
    "start_time": "2021-10-17T13:53:57.797Z"
   },
   {
    "duration": 372,
    "start_time": "2021-10-17T13:53:57.823Z"
   },
   {
    "duration": 27,
    "start_time": "2021-10-17T13:53:58.199Z"
   },
   {
    "duration": 2872,
    "start_time": "2021-10-17T13:53:58.229Z"
   },
   {
    "duration": 23,
    "start_time": "2021-10-17T13:54:01.104Z"
   },
   {
    "duration": 326,
    "start_time": "2021-10-17T13:54:01.129Z"
   },
   {
    "duration": 138,
    "start_time": "2021-10-17T13:54:16.666Z"
   },
   {
    "duration": 64,
    "start_time": "2021-10-17T13:55:01.426Z"
   },
   {
    "duration": 47,
    "start_time": "2021-10-17T13:55:09.596Z"
   },
   {
    "duration": 117,
    "start_time": "2021-10-17T13:55:32.969Z"
   },
   {
    "duration": 5,
    "start_time": "2021-10-17T13:56:46.557Z"
   },
   {
    "duration": 121,
    "start_time": "2021-10-17T13:56:46.564Z"
   },
   {
    "duration": 16,
    "start_time": "2021-10-17T13:56:46.688Z"
   },
   {
    "duration": 7,
    "start_time": "2021-10-17T13:56:46.706Z"
   },
   {
    "duration": 49,
    "start_time": "2021-10-17T13:56:46.716Z"
   },
   {
    "duration": 17,
    "start_time": "2021-10-17T13:56:46.767Z"
   },
   {
    "duration": 70,
    "start_time": "2021-10-17T13:56:46.786Z"
   },
   {
    "duration": 15,
    "start_time": "2021-10-17T13:56:46.860Z"
   },
   {
    "duration": 14,
    "start_time": "2021-10-17T13:56:46.878Z"
   },
   {
    "duration": 39,
    "start_time": "2021-10-17T13:56:46.894Z"
   },
   {
    "duration": 10,
    "start_time": "2021-10-17T13:56:46.940Z"
   },
   {
    "duration": 13,
    "start_time": "2021-10-17T13:56:46.952Z"
   },
   {
    "duration": 183,
    "start_time": "2021-10-17T13:56:46.968Z"
   },
   {
    "duration": 6,
    "start_time": "2021-10-17T13:56:47.153Z"
   },
   {
    "duration": 18,
    "start_time": "2021-10-17T13:56:47.162Z"
   },
   {
    "duration": 56,
    "start_time": "2021-10-17T13:56:47.183Z"
   },
   {
    "duration": 27,
    "start_time": "2021-10-17T13:56:47.241Z"
   },
   {
    "duration": 21,
    "start_time": "2021-10-17T13:56:47.270Z"
   },
   {
    "duration": 31,
    "start_time": "2021-10-17T13:56:47.293Z"
   },
   {
    "duration": 13,
    "start_time": "2021-10-17T13:56:47.327Z"
   },
   {
    "duration": 83,
    "start_time": "2021-10-17T13:56:47.343Z"
   },
   {
    "duration": 41,
    "start_time": "2021-10-17T13:56:47.428Z"
   },
   {
    "duration": 1295,
    "start_time": "2021-10-17T13:56:47.474Z"
   },
   {
    "duration": 4,
    "start_time": "2021-10-17T13:56:48.772Z"
   },
   {
    "duration": 25,
    "start_time": "2021-10-17T13:56:48.779Z"
   },
   {
    "duration": 23,
    "start_time": "2021-10-17T13:56:48.807Z"
   },
   {
    "duration": 50,
    "start_time": "2021-10-17T13:56:48.832Z"
   },
   {
    "duration": 18,
    "start_time": "2021-10-17T13:56:48.885Z"
   },
   {
    "duration": 95,
    "start_time": "2021-10-17T13:56:48.905Z"
   },
   {
    "duration": 54,
    "start_time": "2021-10-17T13:56:49.004Z"
   },
   {
    "duration": 43,
    "start_time": "2021-10-17T13:56:49.061Z"
   },
   {
    "duration": 26,
    "start_time": "2021-10-17T13:56:49.106Z"
   },
   {
    "duration": 25,
    "start_time": "2021-10-17T13:56:49.135Z"
   },
   {
    "duration": 37,
    "start_time": "2021-10-17T13:56:49.163Z"
   },
   {
    "duration": 48,
    "start_time": "2021-10-17T13:56:49.202Z"
   },
   {
    "duration": 58,
    "start_time": "2021-10-17T13:56:49.252Z"
   },
   {
    "duration": 50,
    "start_time": "2021-10-17T13:56:49.312Z"
   },
   {
    "duration": 822,
    "start_time": "2021-10-17T13:56:49.364Z"
   },
   {
    "duration": 338,
    "start_time": "2021-10-17T13:56:50.189Z"
   },
   {
    "duration": 13,
    "start_time": "2021-10-17T13:56:50.530Z"
   },
   {
    "duration": 326,
    "start_time": "2021-10-17T13:56:50.545Z"
   },
   {
    "duration": 12,
    "start_time": "2021-10-17T13:56:50.873Z"
   },
   {
    "duration": 2150,
    "start_time": "2021-10-17T13:56:50.887Z"
   },
   {
    "duration": 12,
    "start_time": "2021-10-17T13:56:53.040Z"
   },
   {
    "duration": 325,
    "start_time": "2021-10-17T13:56:53.055Z"
   },
   {
    "duration": 276,
    "start_time": "2021-10-17T14:01:01.746Z"
   },
   {
    "duration": 6,
    "start_time": "2021-10-17T14:01:09.051Z"
   },
   {
    "duration": 149,
    "start_time": "2021-10-17T14:01:09.060Z"
   },
   {
    "duration": 15,
    "start_time": "2021-10-17T14:01:09.213Z"
   },
   {
    "duration": 10,
    "start_time": "2021-10-17T14:01:09.232Z"
   },
   {
    "duration": 79,
    "start_time": "2021-10-17T14:01:09.245Z"
   },
   {
    "duration": 20,
    "start_time": "2021-10-17T14:01:09.327Z"
   },
   {
    "duration": 41,
    "start_time": "2021-10-17T14:01:09.350Z"
   },
   {
    "duration": 40,
    "start_time": "2021-10-17T14:01:09.394Z"
   },
   {
    "duration": 10,
    "start_time": "2021-10-17T14:01:09.440Z"
   },
   {
    "duration": 16,
    "start_time": "2021-10-17T14:01:09.453Z"
   },
   {
    "duration": 10,
    "start_time": "2021-10-17T14:01:09.471Z"
   },
   {
    "duration": 11,
    "start_time": "2021-10-17T14:01:09.522Z"
   },
   {
    "duration": 166,
    "start_time": "2021-10-17T14:01:09.535Z"
   },
   {
    "duration": 19,
    "start_time": "2021-10-17T14:01:09.703Z"
   },
   {
    "duration": 29,
    "start_time": "2021-10-17T14:01:09.724Z"
   },
   {
    "duration": 27,
    "start_time": "2021-10-17T14:01:09.756Z"
   },
   {
    "duration": 54,
    "start_time": "2021-10-17T14:01:09.785Z"
   },
   {
    "duration": 11,
    "start_time": "2021-10-17T14:01:09.842Z"
   },
   {
    "duration": 8,
    "start_time": "2021-10-17T14:01:09.856Z"
   },
   {
    "duration": 93,
    "start_time": "2021-10-17T14:01:09.867Z"
   },
   {
    "duration": 96,
    "start_time": "2021-10-17T14:01:09.962Z"
   },
   {
    "duration": 2088,
    "start_time": "2021-10-17T14:01:10.060Z"
   },
   {
    "duration": 6,
    "start_time": "2021-10-17T14:01:12.151Z"
   },
   {
    "duration": 46,
    "start_time": "2021-10-17T14:01:12.160Z"
   },
   {
    "duration": 26,
    "start_time": "2021-10-17T14:01:12.209Z"
   },
   {
    "duration": 28,
    "start_time": "2021-10-17T14:01:12.237Z"
   },
   {
    "duration": 23,
    "start_time": "2021-10-17T14:01:12.275Z"
   },
   {
    "duration": 187,
    "start_time": "2021-10-17T14:01:12.302Z"
   },
   {
    "duration": 50,
    "start_time": "2021-10-17T14:01:12.492Z"
   },
   {
    "duration": 21,
    "start_time": "2021-10-17T14:01:12.544Z"
   },
   {
    "duration": 29,
    "start_time": "2021-10-17T14:01:12.567Z"
   },
   {
    "duration": 54,
    "start_time": "2021-10-17T14:01:12.599Z"
   },
   {
    "duration": 30,
    "start_time": "2021-10-17T14:01:12.656Z"
   },
   {
    "duration": 63,
    "start_time": "2021-10-17T14:01:12.689Z"
   },
   {
    "duration": 108,
    "start_time": "2021-10-17T14:01:12.755Z"
   },
   {
    "duration": 66,
    "start_time": "2021-10-17T14:01:12.866Z"
   },
   {
    "duration": 833,
    "start_time": "2021-10-17T14:01:12.936Z"
   },
   {
    "duration": 433,
    "start_time": "2021-10-17T14:01:13.772Z"
   },
   {
    "duration": 20,
    "start_time": "2021-10-17T14:01:14.208Z"
   },
   {
    "duration": 294,
    "start_time": "2021-10-17T14:01:14.231Z"
   },
   {
    "duration": 10,
    "start_time": "2021-10-17T14:01:14.528Z"
   },
   {
    "duration": 1895,
    "start_time": "2021-10-17T14:01:14.541Z"
   },
   {
    "duration": 9,
    "start_time": "2021-10-17T14:01:16.439Z"
   },
   {
    "duration": 319,
    "start_time": "2021-10-17T14:01:16.450Z"
   },
   {
    "duration": 29,
    "start_time": "2021-10-17T14:03:55.138Z"
   },
   {
    "duration": 20,
    "start_time": "2021-10-17T14:04:22.606Z"
   },
   {
    "duration": 17,
    "start_time": "2021-10-17T14:06:21.049Z"
   },
   {
    "duration": 136,
    "start_time": "2021-10-17T14:07:51.692Z"
   },
   {
    "duration": 22,
    "start_time": "2021-10-17T14:09:39.157Z"
   },
   {
    "duration": 39,
    "start_time": "2021-10-17T14:16:58.877Z"
   },
   {
    "duration": 35,
    "start_time": "2021-10-17T14:17:51.794Z"
   },
   {
    "duration": 303,
    "start_time": "2021-10-17T14:31:20.214Z"
   },
   {
    "duration": 17,
    "start_time": "2021-10-17T14:31:34.130Z"
   },
   {
    "duration": 58,
    "start_time": "2021-10-17T14:31:54.333Z"
   },
   {
    "duration": 302,
    "start_time": "2021-10-17T14:32:39.963Z"
   },
   {
    "duration": 5,
    "start_time": "2021-10-17T14:32:46.753Z"
   },
   {
    "duration": 113,
    "start_time": "2021-10-17T14:32:46.760Z"
   },
   {
    "duration": 16,
    "start_time": "2021-10-17T14:32:46.876Z"
   },
   {
    "duration": 15,
    "start_time": "2021-10-17T14:32:46.894Z"
   },
   {
    "duration": 55,
    "start_time": "2021-10-17T14:32:46.912Z"
   },
   {
    "duration": 17,
    "start_time": "2021-10-17T14:32:46.969Z"
   },
   {
    "duration": 56,
    "start_time": "2021-10-17T14:32:46.988Z"
   },
   {
    "duration": 13,
    "start_time": "2021-10-17T14:32:47.048Z"
   },
   {
    "duration": 23,
    "start_time": "2021-10-17T14:32:47.064Z"
   },
   {
    "duration": 17,
    "start_time": "2021-10-17T14:32:47.089Z"
   },
   {
    "duration": 21,
    "start_time": "2021-10-17T14:32:47.109Z"
   },
   {
    "duration": 18,
    "start_time": "2021-10-17T14:32:47.132Z"
   },
   {
    "duration": 157,
    "start_time": "2021-10-17T14:32:47.152Z"
   },
   {
    "duration": 15,
    "start_time": "2021-10-17T14:32:47.312Z"
   },
   {
    "duration": 34,
    "start_time": "2021-10-17T14:32:47.329Z"
   },
   {
    "duration": 28,
    "start_time": "2021-10-17T14:32:47.366Z"
   },
   {
    "duration": 38,
    "start_time": "2021-10-17T14:32:47.396Z"
   },
   {
    "duration": 13,
    "start_time": "2021-10-17T14:32:47.436Z"
   },
   {
    "duration": 11,
    "start_time": "2021-10-17T14:32:47.452Z"
   },
   {
    "duration": 18,
    "start_time": "2021-10-17T14:32:47.465Z"
   },
   {
    "duration": 1580,
    "start_time": "2021-10-17T14:32:47.486Z"
   },
   {
    "duration": 9,
    "start_time": "2021-10-17T14:32:49.069Z"
   },
   {
    "duration": 5,
    "start_time": "2021-10-17T14:32:49.083Z"
   },
   {
    "duration": 69,
    "start_time": "2021-10-17T14:32:49.092Z"
   },
   {
    "duration": 35,
    "start_time": "2021-10-17T14:32:49.164Z"
   },
   {
    "duration": 38,
    "start_time": "2021-10-17T14:32:49.201Z"
   },
   {
    "duration": 6,
    "start_time": "2021-10-17T14:32:49.241Z"
   },
   {
    "duration": 30,
    "start_time": "2021-10-17T14:32:49.249Z"
   },
   {
    "duration": 44,
    "start_time": "2021-10-17T14:32:49.282Z"
   },
   {
    "duration": 33,
    "start_time": "2021-10-17T14:32:49.328Z"
   },
   {
    "duration": 79,
    "start_time": "2021-10-17T14:32:49.363Z"
   },
   {
    "duration": 39,
    "start_time": "2021-10-17T14:32:49.444Z"
   },
   {
    "duration": 752,
    "start_time": "2021-10-17T14:32:49.485Z"
   },
   {
    "duration": 322,
    "start_time": "2021-10-17T14:32:50.239Z"
   },
   {
    "duration": 10,
    "start_time": "2021-10-17T14:32:50.564Z"
   },
   {
    "duration": 378,
    "start_time": "2021-10-17T14:32:50.576Z"
   },
   {
    "duration": 11,
    "start_time": "2021-10-17T14:32:50.956Z"
   },
   {
    "duration": 511,
    "start_time": "2021-10-17T14:32:50.970Z"
   },
   {
    "duration": -119,
    "start_time": "2021-10-17T14:32:51.603Z"
   },
   {
    "duration": -118,
    "start_time": "2021-10-17T14:32:51.605Z"
   },
   {
    "duration": -121,
    "start_time": "2021-10-17T14:32:51.610Z"
   },
   {
    "duration": -121,
    "start_time": "2021-10-17T14:32:51.612Z"
   },
   {
    "duration": 313,
    "start_time": "2021-10-17T14:32:55.383Z"
   },
   {
    "duration": 11,
    "start_time": "2021-10-17T14:33:08.904Z"
   },
   {
    "duration": 299,
    "start_time": "2021-10-17T14:33:21.596Z"
   },
   {
    "duration": 11,
    "start_time": "2021-10-17T14:33:29.168Z"
   },
   {
    "duration": 10,
    "start_time": "2021-10-17T14:33:34.081Z"
   },
   {
    "duration": 257,
    "start_time": "2021-10-17T14:33:44.733Z"
   },
   {
    "duration": 6,
    "start_time": "2021-10-17T14:33:46.807Z"
   },
   {
    "duration": 304,
    "start_time": "2021-10-17T14:34:01.791Z"
   },
   {
    "duration": 11,
    "start_time": "2021-10-17T14:34:03.829Z"
   },
   {
    "duration": 5,
    "start_time": "2021-10-17T14:34:32.038Z"
   },
   {
    "duration": 321,
    "start_time": "2021-10-17T14:35:04.691Z"
   },
   {
    "duration": 17,
    "start_time": "2021-10-17T14:35:05.014Z"
   },
   {
    "duration": 5,
    "start_time": "2021-10-17T14:35:07.100Z"
   },
   {
    "duration": 295,
    "start_time": "2021-10-17T14:37:07.140Z"
   },
   {
    "duration": 265,
    "start_time": "2021-10-17T14:37:26.977Z"
   },
   {
    "duration": 297,
    "start_time": "2021-10-17T14:37:30.134Z"
   },
   {
    "duration": 10,
    "start_time": "2021-10-17T14:37:30.460Z"
   },
   {
    "duration": 303,
    "start_time": "2021-10-17T14:38:16.938Z"
   },
   {
    "duration": 10,
    "start_time": "2021-10-17T14:38:17.897Z"
   },
   {
    "duration": 10,
    "start_time": "2021-10-17T14:38:22.454Z"
   },
   {
    "duration": 5,
    "start_time": "2021-10-17T14:38:24.393Z"
   },
   {
    "duration": 124,
    "start_time": "2021-10-17T14:38:24.400Z"
   },
   {
    "duration": 22,
    "start_time": "2021-10-17T14:38:24.528Z"
   },
   {
    "duration": 12,
    "start_time": "2021-10-17T14:38:24.553Z"
   },
   {
    "duration": 70,
    "start_time": "2021-10-17T14:38:24.567Z"
   },
   {
    "duration": 16,
    "start_time": "2021-10-17T14:38:24.640Z"
   },
   {
    "duration": 42,
    "start_time": "2021-10-17T14:38:24.658Z"
   },
   {
    "duration": 15,
    "start_time": "2021-10-17T14:38:24.723Z"
   },
   {
    "duration": 8,
    "start_time": "2021-10-17T14:38:24.743Z"
   },
   {
    "duration": 15,
    "start_time": "2021-10-17T14:38:24.754Z"
   },
   {
    "duration": 9,
    "start_time": "2021-10-17T14:38:24.772Z"
   },
   {
    "duration": 11,
    "start_time": "2021-10-17T14:38:24.823Z"
   },
   {
    "duration": 158,
    "start_time": "2021-10-17T14:38:24.837Z"
   },
   {
    "duration": 9,
    "start_time": "2021-10-17T14:38:24.998Z"
   },
   {
    "duration": 38,
    "start_time": "2021-10-17T14:38:25.009Z"
   },
   {
    "duration": 28,
    "start_time": "2021-10-17T14:38:25.049Z"
   },
   {
    "duration": 48,
    "start_time": "2021-10-17T14:38:25.080Z"
   },
   {
    "duration": 9,
    "start_time": "2021-10-17T14:38:25.130Z"
   },
   {
    "duration": 16,
    "start_time": "2021-10-17T14:38:25.141Z"
   },
   {
    "duration": 18,
    "start_time": "2021-10-17T14:38:25.159Z"
   },
   {
    "duration": 1354,
    "start_time": "2021-10-17T14:38:25.179Z"
   },
   {
    "duration": 9,
    "start_time": "2021-10-17T14:38:26.536Z"
   },
   {
    "duration": 8,
    "start_time": "2021-10-17T14:38:26.548Z"
   },
   {
    "duration": 135,
    "start_time": "2021-10-17T14:38:26.559Z"
   },
   {
    "duration": 44,
    "start_time": "2021-10-17T14:38:26.696Z"
   },
   {
    "duration": 20,
    "start_time": "2021-10-17T14:38:26.742Z"
   },
   {
    "duration": 8,
    "start_time": "2021-10-17T14:38:26.767Z"
   },
   {
    "duration": 23,
    "start_time": "2021-10-17T14:38:26.778Z"
   },
   {
    "duration": 31,
    "start_time": "2021-10-17T14:38:26.804Z"
   },
   {
    "duration": 35,
    "start_time": "2021-10-17T14:38:26.837Z"
   },
   {
    "duration": 94,
    "start_time": "2021-10-17T14:38:26.874Z"
   },
   {
    "duration": 40,
    "start_time": "2021-10-17T14:38:27.024Z"
   },
   {
    "duration": 956,
    "start_time": "2021-10-17T14:38:27.066Z"
   },
   {
    "duration": 401,
    "start_time": "2021-10-17T14:38:28.024Z"
   },
   {
    "duration": 11,
    "start_time": "2021-10-17T14:38:28.427Z"
   },
   {
    "duration": 319,
    "start_time": "2021-10-17T14:38:28.440Z"
   },
   {
    "duration": 10,
    "start_time": "2021-10-17T14:38:28.761Z"
   },
   {
    "duration": 2270,
    "start_time": "2021-10-17T14:38:28.773Z"
   },
   {
    "duration": 10,
    "start_time": "2021-10-17T14:38:31.045Z"
   },
   {
    "duration": 415,
    "start_time": "2021-10-17T14:38:31.058Z"
   },
   {
    "duration": 592,
    "start_time": "2021-10-17T15:20:17.871Z"
   },
   {
    "duration": 2127,
    "start_time": "2021-10-17T15:20:38.704Z"
   },
   {
    "duration": 10,
    "start_time": "2021-10-17T15:20:45.023Z"
   },
   {
    "duration": 627,
    "start_time": "2021-10-17T15:39:24.355Z"
   },
   {
    "duration": 749,
    "start_time": "2021-10-17T15:40:07.600Z"
   },
   {
    "duration": 763,
    "start_time": "2021-10-17T15:40:11.683Z"
   },
   {
    "duration": 6,
    "start_time": "2021-10-17T15:49:39.833Z"
   },
   {
    "duration": 136,
    "start_time": "2021-10-17T15:49:39.842Z"
   },
   {
    "duration": 17,
    "start_time": "2021-10-17T15:49:39.982Z"
   },
   {
    "duration": 11,
    "start_time": "2021-10-17T15:49:40.002Z"
   },
   {
    "duration": 58,
    "start_time": "2021-10-17T15:49:40.016Z"
   },
   {
    "duration": 113,
    "start_time": "2021-10-17T15:49:40.077Z"
   },
   {
    "duration": 54,
    "start_time": "2021-10-17T15:49:40.194Z"
   },
   {
    "duration": 13,
    "start_time": "2021-10-17T15:49:40.250Z"
   },
   {
    "duration": 14,
    "start_time": "2021-10-17T15:49:40.267Z"
   },
   {
    "duration": 40,
    "start_time": "2021-10-17T15:49:40.284Z"
   },
   {
    "duration": 10,
    "start_time": "2021-10-17T15:49:40.326Z"
   },
   {
    "duration": 17,
    "start_time": "2021-10-17T15:49:40.338Z"
   },
   {
    "duration": 183,
    "start_time": "2021-10-17T15:49:40.358Z"
   },
   {
    "duration": 11,
    "start_time": "2021-10-17T15:49:40.543Z"
   },
   {
    "duration": 77,
    "start_time": "2021-10-17T15:49:40.557Z"
   },
   {
    "duration": 94,
    "start_time": "2021-10-17T15:49:40.637Z"
   },
   {
    "duration": 31,
    "start_time": "2021-10-17T15:49:40.734Z"
   },
   {
    "duration": 63,
    "start_time": "2021-10-17T15:49:40.768Z"
   },
   {
    "duration": 15,
    "start_time": "2021-10-17T15:49:40.833Z"
   },
   {
    "duration": 74,
    "start_time": "2021-10-17T15:49:40.850Z"
   },
   {
    "duration": 1653,
    "start_time": "2021-10-17T15:49:40.927Z"
   },
   {
    "duration": 11,
    "start_time": "2021-10-17T15:49:42.583Z"
   },
   {
    "duration": 34,
    "start_time": "2021-10-17T15:49:42.596Z"
   },
   {
    "duration": 48,
    "start_time": "2021-10-17T15:49:42.633Z"
   },
   {
    "duration": 47,
    "start_time": "2021-10-17T15:49:42.683Z"
   },
   {
    "duration": 21,
    "start_time": "2021-10-17T15:49:42.733Z"
   },
   {
    "duration": 10,
    "start_time": "2021-10-17T15:49:42.760Z"
   },
   {
    "duration": 57,
    "start_time": "2021-10-17T15:49:42.773Z"
   },
   {
    "duration": 23,
    "start_time": "2021-10-17T15:49:42.834Z"
   },
   {
    "duration": 64,
    "start_time": "2021-10-17T15:49:42.860Z"
   },
   {
    "duration": 57,
    "start_time": "2021-10-17T15:49:42.926Z"
   },
   {
    "duration": 58,
    "start_time": "2021-10-17T15:49:42.985Z"
   },
   {
    "duration": 768,
    "start_time": "2021-10-17T15:49:43.045Z"
   },
   {
    "duration": 666,
    "start_time": "2021-10-17T15:49:43.815Z"
   },
   {
    "duration": 11,
    "start_time": "2021-10-17T15:49:44.483Z"
   },
   {
    "duration": 39,
    "start_time": "2021-10-17T15:49:44.496Z"
   },
   {
    "duration": 2265,
    "start_time": "2021-10-17T15:49:44.538Z"
   },
   {
    "duration": 23,
    "start_time": "2021-10-17T15:49:46.805Z"
   },
   {
    "duration": 1079,
    "start_time": "2021-10-17T16:06:37.561Z"
   },
   {
    "duration": 1424,
    "start_time": "2021-10-17T16:06:53.162Z"
   },
   {
    "duration": 1243,
    "start_time": "2021-10-17T16:07:01.685Z"
   },
   {
    "duration": 39,
    "start_time": "2021-10-17T16:07:23.774Z"
   },
   {
    "duration": 64,
    "start_time": "2021-10-17T16:07:28.818Z"
   },
   {
    "duration": 39,
    "start_time": "2021-10-17T16:07:55.715Z"
   },
   {
    "duration": 38,
    "start_time": "2021-10-17T16:08:28.410Z"
   },
   {
    "duration": 36,
    "start_time": "2021-10-17T16:08:49.418Z"
   },
   {
    "duration": 56,
    "start_time": "2021-10-17T16:09:42.009Z"
   },
   {
    "duration": 11,
    "start_time": "2021-10-17T16:11:24.351Z"
   },
   {
    "duration": 13,
    "start_time": "2021-10-17T16:11:28.067Z"
   },
   {
    "duration": 156,
    "start_time": "2021-10-17T16:11:28.088Z"
   },
   {
    "duration": 17,
    "start_time": "2021-10-17T16:11:28.247Z"
   },
   {
    "duration": 8,
    "start_time": "2021-10-17T16:11:28.267Z"
   },
   {
    "duration": 72,
    "start_time": "2021-10-17T16:11:28.277Z"
   },
   {
    "duration": 19,
    "start_time": "2021-10-17T16:11:28.352Z"
   },
   {
    "duration": 61,
    "start_time": "2021-10-17T16:11:28.373Z"
   },
   {
    "duration": 14,
    "start_time": "2021-10-17T16:11:28.437Z"
   },
   {
    "duration": 11,
    "start_time": "2021-10-17T16:11:28.456Z"
   },
   {
    "duration": 53,
    "start_time": "2021-10-17T16:11:28.471Z"
   },
   {
    "duration": 12,
    "start_time": "2021-10-17T16:11:28.527Z"
   },
   {
    "duration": 17,
    "start_time": "2021-10-17T16:11:28.543Z"
   },
   {
    "duration": 173,
    "start_time": "2021-10-17T16:11:28.563Z"
   },
   {
    "duration": 9,
    "start_time": "2021-10-17T16:11:28.739Z"
   },
   {
    "duration": 27,
    "start_time": "2021-10-17T16:11:28.751Z"
   },
   {
    "duration": 57,
    "start_time": "2021-10-17T16:11:28.781Z"
   },
   {
    "duration": 21,
    "start_time": "2021-10-17T16:11:28.841Z"
   },
   {
    "duration": 9,
    "start_time": "2021-10-17T16:11:28.865Z"
   },
   {
    "duration": 46,
    "start_time": "2021-10-17T16:11:28.876Z"
   },
   {
    "duration": 16,
    "start_time": "2021-10-17T16:11:28.925Z"
   },
   {
    "duration": 1614,
    "start_time": "2021-10-17T16:11:28.944Z"
   },
   {
    "duration": 9,
    "start_time": "2021-10-17T16:11:30.560Z"
   },
   {
    "duration": 13,
    "start_time": "2021-10-17T16:11:30.572Z"
   },
   {
    "duration": 58,
    "start_time": "2021-10-17T16:11:30.588Z"
   },
   {
    "duration": 37,
    "start_time": "2021-10-17T16:11:30.648Z"
   },
   {
    "duration": 43,
    "start_time": "2021-10-17T16:11:30.687Z"
   },
   {
    "duration": 23,
    "start_time": "2021-10-17T16:11:30.735Z"
   },
   {
    "duration": 25,
    "start_time": "2021-10-17T16:11:30.761Z"
   },
   {
    "duration": 35,
    "start_time": "2021-10-17T16:11:30.788Z"
   },
   {
    "duration": 35,
    "start_time": "2021-10-17T16:11:30.826Z"
   },
   {
    "duration": 101,
    "start_time": "2021-10-17T16:11:30.864Z"
   },
   {
    "duration": 61,
    "start_time": "2021-10-17T16:11:30.968Z"
   },
   {
    "duration": 1202,
    "start_time": "2021-10-17T16:11:31.032Z"
   },
   {
    "duration": 19,
    "start_time": "2021-10-17T16:11:32.236Z"
   },
   {
    "duration": 74,
    "start_time": "2021-10-17T16:11:32.258Z"
   },
   {
    "duration": 915,
    "start_time": "2021-10-17T16:11:32.334Z"
   },
   {
    "duration": 13,
    "start_time": "2021-10-17T16:11:33.252Z"
   },
   {
    "duration": 12,
    "start_time": "2021-10-17T16:11:33.267Z"
   },
   {
    "duration": 2386,
    "start_time": "2021-10-17T16:11:33.281Z"
   },
   {
    "duration": 9,
    "start_time": "2021-10-17T16:11:35.669Z"
   },
   {
    "duration": 528,
    "start_time": "2021-10-17T16:19:42.794Z"
   },
   {
    "duration": 492,
    "start_time": "2021-10-17T16:19:48.098Z"
   },
   {
    "duration": 487,
    "start_time": "2021-10-17T16:20:01.624Z"
   },
   {
    "duration": 694,
    "start_time": "2021-10-17T16:20:06.506Z"
   },
   {
    "duration": 498,
    "start_time": "2021-10-17T16:20:11.128Z"
   },
   {
    "duration": 523,
    "start_time": "2021-10-17T16:20:13.942Z"
   },
   {
    "duration": 510,
    "start_time": "2021-10-17T16:20:17.881Z"
   },
   {
    "duration": 379,
    "start_time": "2021-10-17T16:20:19.456Z"
   },
   {
    "duration": 388,
    "start_time": "2021-10-17T16:20:44.166Z"
   },
   {
    "duration": 794,
    "start_time": "2021-10-17T16:20:59.703Z"
   },
   {
    "duration": 468,
    "start_time": "2021-10-17T16:21:10.730Z"
   },
   {
    "duration": 592,
    "start_time": "2021-10-17T16:21:22.382Z"
   },
   {
    "duration": 641,
    "start_time": "2021-10-17T16:21:53.581Z"
   },
   {
    "duration": 499,
    "start_time": "2021-10-17T16:22:01.851Z"
   },
   {
    "duration": 513,
    "start_time": "2021-10-17T16:22:08.159Z"
   },
   {
    "duration": 583,
    "start_time": "2021-10-17T16:22:15.697Z"
   },
   {
    "duration": 609,
    "start_time": "2021-10-17T16:22:20.354Z"
   },
   {
    "duration": 756,
    "start_time": "2021-10-17T16:22:28.152Z"
   },
   {
    "duration": 710,
    "start_time": "2021-10-17T16:22:33.589Z"
   },
   {
    "duration": 580,
    "start_time": "2021-10-17T16:22:36.647Z"
   },
   {
    "duration": 6,
    "start_time": "2021-10-17T16:26:58.684Z"
   },
   {
    "duration": 130,
    "start_time": "2021-10-17T16:26:58.693Z"
   },
   {
    "duration": 20,
    "start_time": "2021-10-17T16:26:58.826Z"
   },
   {
    "duration": 8,
    "start_time": "2021-10-17T16:26:58.850Z"
   },
   {
    "duration": 80,
    "start_time": "2021-10-17T16:26:58.861Z"
   },
   {
    "duration": 20,
    "start_time": "2021-10-17T16:26:58.944Z"
   },
   {
    "duration": 74,
    "start_time": "2021-10-17T16:26:58.967Z"
   },
   {
    "duration": 16,
    "start_time": "2021-10-17T16:26:59.045Z"
   },
   {
    "duration": 10,
    "start_time": "2021-10-17T16:26:59.066Z"
   },
   {
    "duration": 50,
    "start_time": "2021-10-17T16:26:59.080Z"
   },
   {
    "duration": 12,
    "start_time": "2021-10-17T16:26:59.133Z"
   },
   {
    "duration": 13,
    "start_time": "2021-10-17T16:26:59.148Z"
   },
   {
    "duration": 169,
    "start_time": "2021-10-17T16:26:59.163Z"
   },
   {
    "duration": 10,
    "start_time": "2021-10-17T16:26:59.334Z"
   },
   {
    "duration": 58,
    "start_time": "2021-10-17T16:26:59.346Z"
   },
   {
    "duration": 27,
    "start_time": "2021-10-17T16:26:59.406Z"
   },
   {
    "duration": 21,
    "start_time": "2021-10-17T16:26:59.435Z"
   },
   {
    "duration": 21,
    "start_time": "2021-10-17T16:26:59.458Z"
   },
   {
    "duration": 22,
    "start_time": "2021-10-17T16:26:59.482Z"
   },
   {
    "duration": 41,
    "start_time": "2021-10-17T16:26:59.507Z"
   },
   {
    "duration": 1361,
    "start_time": "2021-10-17T16:26:59.551Z"
   },
   {
    "duration": 15,
    "start_time": "2021-10-17T16:27:00.914Z"
   },
   {
    "duration": 17,
    "start_time": "2021-10-17T16:27:00.931Z"
   },
   {
    "duration": 75,
    "start_time": "2021-10-17T16:27:00.951Z"
   },
   {
    "duration": 36,
    "start_time": "2021-10-17T16:27:01.028Z"
   },
   {
    "duration": 27,
    "start_time": "2021-10-17T16:27:01.066Z"
   },
   {
    "duration": 29,
    "start_time": "2021-10-17T16:27:01.121Z"
   },
   {
    "duration": 85,
    "start_time": "2021-10-17T16:27:01.152Z"
   },
   {
    "duration": 101,
    "start_time": "2021-10-17T16:27:01.240Z"
   },
   {
    "duration": 98,
    "start_time": "2021-10-17T16:27:01.344Z"
   },
   {
    "duration": 185,
    "start_time": "2021-10-17T16:27:01.444Z"
   },
   {
    "duration": 109,
    "start_time": "2021-10-17T16:27:01.632Z"
   },
   {
    "duration": 689,
    "start_time": "2021-10-17T16:27:01.744Z"
   },
   {
    "duration": 14,
    "start_time": "2021-10-17T16:27:02.435Z"
   },
   {
    "duration": 43,
    "start_time": "2021-10-17T16:27:02.452Z"
   },
   {
    "duration": 1761,
    "start_time": "2021-10-17T16:27:02.498Z"
   },
   {
    "duration": 63,
    "start_time": "2021-10-17T16:27:04.262Z"
   },
   {
    "duration": 24,
    "start_time": "2021-10-17T16:27:04.328Z"
   },
   {
    "duration": 3126,
    "start_time": "2021-10-17T16:27:04.355Z"
   },
   {
    "duration": 9,
    "start_time": "2021-10-17T16:27:07.483Z"
   },
   {
    "duration": 18,
    "start_time": "2021-10-17T16:27:29.415Z"
   },
   {
    "duration": 17,
    "start_time": "2021-10-17T16:27:33.574Z"
   },
   {
    "duration": 30,
    "start_time": "2021-10-17T16:27:42.727Z"
   },
   {
    "duration": 858,
    "start_time": "2021-10-18T11:25:01.150Z"
   },
   {
    "duration": 116,
    "start_time": "2021-10-18T11:25:02.011Z"
   },
   {
    "duration": 15,
    "start_time": "2021-10-18T11:25:02.130Z"
   },
   {
    "duration": 75,
    "start_time": "2021-10-18T11:25:02.148Z"
   },
   {
    "duration": 63,
    "start_time": "2021-10-18T11:25:02.226Z"
   },
   {
    "duration": 35,
    "start_time": "2021-10-18T11:25:02.291Z"
   },
   {
    "duration": 65,
    "start_time": "2021-10-18T11:25:02.328Z"
   },
   {
    "duration": 13,
    "start_time": "2021-10-18T11:25:02.395Z"
   },
   {
    "duration": 39,
    "start_time": "2021-10-18T11:25:02.412Z"
   },
   {
    "duration": 33,
    "start_time": "2021-10-18T11:25:02.455Z"
   },
   {
    "duration": 30,
    "start_time": "2021-10-18T11:25:02.491Z"
   },
   {
    "duration": 33,
    "start_time": "2021-10-18T11:25:02.524Z"
   },
   {
    "duration": 197,
    "start_time": "2021-10-18T11:25:02.559Z"
   },
   {
    "duration": 12,
    "start_time": "2021-10-18T11:25:02.759Z"
   },
   {
    "duration": 63,
    "start_time": "2021-10-18T11:25:02.774Z"
   },
   {
    "duration": 36,
    "start_time": "2021-10-18T11:25:02.840Z"
   },
   {
    "duration": 49,
    "start_time": "2021-10-18T11:25:02.879Z"
   },
   {
    "duration": 12,
    "start_time": "2021-10-18T11:25:02.931Z"
   },
   {
    "duration": 13,
    "start_time": "2021-10-18T11:25:02.946Z"
   },
   {
    "duration": 17,
    "start_time": "2021-10-18T11:25:02.961Z"
   },
   {
    "duration": 1589,
    "start_time": "2021-10-18T11:25:02.980Z"
   },
   {
    "duration": 16,
    "start_time": "2021-10-18T11:25:04.571Z"
   },
   {
    "duration": 6,
    "start_time": "2021-10-18T11:25:04.589Z"
   },
   {
    "duration": 111,
    "start_time": "2021-10-18T11:25:04.598Z"
   },
   {
    "duration": 44,
    "start_time": "2021-10-18T11:25:04.711Z"
   },
   {
    "duration": 19,
    "start_time": "2021-10-18T11:25:04.758Z"
   },
   {
    "duration": 14,
    "start_time": "2021-10-18T11:25:04.783Z"
   },
   {
    "duration": 19,
    "start_time": "2021-10-18T11:25:04.823Z"
   },
   {
    "duration": 39,
    "start_time": "2021-10-18T11:25:04.845Z"
   },
   {
    "duration": 48,
    "start_time": "2021-10-18T11:25:04.886Z"
   },
   {
    "duration": 69,
    "start_time": "2021-10-18T11:25:04.936Z"
   },
   {
    "duration": 41,
    "start_time": "2021-10-18T11:25:05.008Z"
   },
   {
    "duration": 596,
    "start_time": "2021-10-18T11:25:05.051Z"
   },
   {
    "duration": 13,
    "start_time": "2021-10-18T11:25:05.649Z"
   },
   {
    "duration": 94,
    "start_time": "2021-10-18T11:25:05.665Z"
   },
   {
    "duration": 685,
    "start_time": "2021-10-18T11:25:05.761Z"
   },
   {
    "duration": -14134,
    "start_time": "2021-10-18T11:25:20.583Z"
   },
   {
    "duration": -14136,
    "start_time": "2021-10-18T11:25:20.586Z"
   },
   {
    "duration": -14136,
    "start_time": "2021-10-18T11:25:20.588Z"
   },
   {
    "duration": -14136,
    "start_time": "2021-10-18T11:25:20.590Z"
   },
   {
    "duration": 15,
    "start_time": "2021-10-18T11:37:53.089Z"
   },
   {
    "duration": 18,
    "start_time": "2021-10-18T11:38:06.019Z"
   },
   {
    "duration": 11,
    "start_time": "2021-10-18T11:55:06.301Z"
   },
   {
    "duration": 11,
    "start_time": "2021-10-18T11:55:06.844Z"
   },
   {
    "duration": 1915,
    "start_time": "2021-10-18T11:55:08.171Z"
   },
   {
    "duration": 10,
    "start_time": "2021-10-18T11:55:10.088Z"
   },
   {
    "duration": 1188,
    "start_time": "2021-10-18T14:18:36.965Z"
   },
   {
    "duration": 1180,
    "start_time": "2021-10-18T14:18:41.278Z"
   },
   {
    "duration": 122,
    "start_time": "2021-10-18T14:18:42.461Z"
   },
   {
    "duration": 30,
    "start_time": "2021-10-18T14:18:42.589Z"
   },
   {
    "duration": 9,
    "start_time": "2021-10-18T14:18:42.622Z"
   },
   {
    "duration": 65,
    "start_time": "2021-10-18T14:18:42.634Z"
   },
   {
    "duration": 17,
    "start_time": "2021-10-18T14:18:42.704Z"
   },
   {
    "duration": 71,
    "start_time": "2021-10-18T14:18:42.723Z"
   },
   {
    "duration": 15,
    "start_time": "2021-10-18T14:18:42.799Z"
   },
   {
    "duration": 18,
    "start_time": "2021-10-18T14:18:42.817Z"
   },
   {
    "duration": 37,
    "start_time": "2021-10-18T14:18:42.839Z"
   },
   {
    "duration": 14,
    "start_time": "2021-10-18T14:18:42.878Z"
   },
   {
    "duration": 16,
    "start_time": "2021-10-18T14:18:42.895Z"
   },
   {
    "duration": 197,
    "start_time": "2021-10-18T14:18:42.914Z"
   },
   {
    "duration": 9,
    "start_time": "2021-10-18T14:18:43.114Z"
   },
   {
    "duration": 53,
    "start_time": "2021-10-18T14:18:43.126Z"
   },
   {
    "duration": 34,
    "start_time": "2021-10-18T14:18:43.182Z"
   },
   {
    "duration": 350,
    "start_time": "2021-10-18T14:18:43.219Z"
   },
   {
    "duration": 19086,
    "start_time": "2021-10-18T14:18:24.487Z"
   },
   {
    "duration": 19034,
    "start_time": "2021-10-18T14:18:24.541Z"
   },
   {
    "duration": 19022,
    "start_time": "2021-10-18T14:18:24.555Z"
   },
   {
    "duration": 19009,
    "start_time": "2021-10-18T14:18:24.570Z"
   },
   {
    "duration": 19002,
    "start_time": "2021-10-18T14:18:24.584Z"
   },
   {
    "duration": 18994,
    "start_time": "2021-10-18T14:18:24.594Z"
   },
   {
    "duration": 18983,
    "start_time": "2021-10-18T14:18:24.608Z"
   },
   {
    "duration": 18962,
    "start_time": "2021-10-18T14:18:24.631Z"
   },
   {
    "duration": 18957,
    "start_time": "2021-10-18T14:18:24.638Z"
   },
   {
    "duration": 18954,
    "start_time": "2021-10-18T14:18:24.644Z"
   },
   {
    "duration": 18949,
    "start_time": "2021-10-18T14:18:24.651Z"
   },
   {
    "duration": 18947,
    "start_time": "2021-10-18T14:18:24.658Z"
   },
   {
    "duration": 18943,
    "start_time": "2021-10-18T14:18:24.665Z"
   },
   {
    "duration": 18938,
    "start_time": "2021-10-18T14:18:24.672Z"
   },
   {
    "duration": 18932,
    "start_time": "2021-10-18T14:18:24.680Z"
   },
   {
    "duration": 18928,
    "start_time": "2021-10-18T14:18:24.686Z"
   },
   {
    "duration": 18923,
    "start_time": "2021-10-18T14:18:24.693Z"
   },
   {
    "duration": 18918,
    "start_time": "2021-10-18T14:18:24.699Z"
   },
   {
    "duration": 18911,
    "start_time": "2021-10-18T14:18:24.707Z"
   },
   {
    "duration": 18906,
    "start_time": "2021-10-18T14:18:24.713Z"
   },
   {
    "duration": 18902,
    "start_time": "2021-10-18T14:18:24.718Z"
   },
   {
    "duration": 18899,
    "start_time": "2021-10-18T14:18:24.722Z"
   },
   {
    "duration": 18941,
    "start_time": "2021-10-18T14:18:24.727Z"
   },
   {
    "duration": 18931,
    "start_time": "2021-10-18T14:18:24.739Z"
   },
   {
    "duration": 7,
    "start_time": "2021-10-18T14:18:50.305Z"
   },
   {
    "duration": 9,
    "start_time": "2021-10-18T14:19:07.865Z"
   },
   {
    "duration": 44,
    "start_time": "2021-10-18T14:20:54.766Z"
   },
   {
    "duration": 5,
    "start_time": "2021-10-18T14:21:21.141Z"
   },
   {
    "duration": 133,
    "start_time": "2021-10-18T14:21:21.149Z"
   },
   {
    "duration": 23,
    "start_time": "2021-10-18T14:21:21.286Z"
   },
   {
    "duration": 7,
    "start_time": "2021-10-18T14:21:21.313Z"
   },
   {
    "duration": 71,
    "start_time": "2021-10-18T14:21:21.323Z"
   },
   {
    "duration": 20,
    "start_time": "2021-10-18T14:21:21.396Z"
   },
   {
    "duration": 80,
    "start_time": "2021-10-18T14:21:21.418Z"
   },
   {
    "duration": 13,
    "start_time": "2021-10-18T14:21:21.500Z"
   },
   {
    "duration": 8,
    "start_time": "2021-10-18T14:21:21.517Z"
   },
   {
    "duration": 15,
    "start_time": "2021-10-18T14:21:21.529Z"
   },
   {
    "duration": 15,
    "start_time": "2021-10-18T14:21:21.573Z"
   },
   {
    "duration": 16,
    "start_time": "2021-10-18T14:21:21.590Z"
   },
   {
    "duration": 198,
    "start_time": "2021-10-18T14:21:21.608Z"
   },
   {
    "duration": 9,
    "start_time": "2021-10-18T14:21:21.809Z"
   },
   {
    "duration": 50,
    "start_time": "2021-10-18T14:21:21.821Z"
   },
   {
    "duration": 37,
    "start_time": "2021-10-18T14:21:21.877Z"
   },
   {
    "duration": 28,
    "start_time": "2021-10-18T14:21:21.916Z"
   },
   {
    "duration": 48,
    "start_time": "2021-10-18T14:21:21.947Z"
   },
   {
    "duration": 7,
    "start_time": "2021-10-18T14:21:22.000Z"
   },
   {
    "duration": 10,
    "start_time": "2021-10-18T14:21:22.010Z"
   },
   {
    "duration": 18,
    "start_time": "2021-10-18T14:21:22.022Z"
   },
   {
    "duration": 2168,
    "start_time": "2021-10-18T14:21:22.043Z"
   },
   {
    "duration": 12,
    "start_time": "2021-10-18T14:21:24.214Z"
   },
   {
    "duration": 8,
    "start_time": "2021-10-18T14:21:24.228Z"
   },
   {
    "duration": 127,
    "start_time": "2021-10-18T14:21:24.239Z"
   },
   {
    "duration": 44,
    "start_time": "2021-10-18T14:21:24.369Z"
   },
   {
    "duration": 20,
    "start_time": "2021-10-18T14:21:24.418Z"
   },
   {
    "duration": 50,
    "start_time": "2021-10-18T14:21:24.441Z"
   },
   {
    "duration": 28,
    "start_time": "2021-10-18T14:21:24.493Z"
   },
   {
    "duration": 25,
    "start_time": "2021-10-18T14:21:24.525Z"
   },
   {
    "duration": 54,
    "start_time": "2021-10-18T14:21:24.553Z"
   },
   {
    "duration": 88,
    "start_time": "2021-10-18T14:21:24.610Z"
   },
   {
    "duration": 40,
    "start_time": "2021-10-18T14:21:24.703Z"
   },
   {
    "duration": 840,
    "start_time": "2021-10-18T14:21:24.745Z"
   },
   {
    "duration": 16,
    "start_time": "2021-10-18T14:21:25.588Z"
   },
   {
    "duration": 71,
    "start_time": "2021-10-18T14:21:25.606Z"
   },
   {
    "duration": 596,
    "start_time": "2021-10-18T14:21:25.680Z"
   },
   {
    "duration": 19391,
    "start_time": "2021-10-18T14:21:06.889Z"
   },
   {
    "duration": 19381,
    "start_time": "2021-10-18T14:21:06.901Z"
   },
   {
    "duration": 19373,
    "start_time": "2021-10-18T14:21:06.911Z"
   },
   {
    "duration": 19364,
    "start_time": "2021-10-18T14:21:06.922Z"
   },
   {
    "duration": 79,
    "start_time": "2021-10-18T14:23:17.428Z"
   },
   {
    "duration": 24,
    "start_time": "2021-10-18T14:23:28.925Z"
   },
   {
    "duration": 36,
    "start_time": "2021-10-18T14:23:36.817Z"
   },
   {
    "duration": 6,
    "start_time": "2021-10-18T14:23:40.698Z"
   },
   {
    "duration": 119,
    "start_time": "2021-10-18T14:23:40.707Z"
   },
   {
    "duration": 16,
    "start_time": "2021-10-18T14:23:40.830Z"
   },
   {
    "duration": 28,
    "start_time": "2021-10-18T14:23:40.849Z"
   },
   {
    "duration": 51,
    "start_time": "2021-10-18T14:23:40.880Z"
   },
   {
    "duration": 42,
    "start_time": "2021-10-18T14:23:40.934Z"
   },
   {
    "duration": 49,
    "start_time": "2021-10-18T14:23:40.981Z"
   },
   {
    "duration": 12,
    "start_time": "2021-10-18T14:23:41.033Z"
   },
   {
    "duration": 11,
    "start_time": "2021-10-18T14:23:41.071Z"
   },
   {
    "duration": 26,
    "start_time": "2021-10-18T14:23:41.089Z"
   },
   {
    "duration": 11,
    "start_time": "2021-10-18T14:23:41.117Z"
   },
   {
    "duration": 61,
    "start_time": "2021-10-18T14:23:41.130Z"
   },
   {
    "duration": 274,
    "start_time": "2021-10-18T14:23:41.193Z"
   },
   {
    "duration": 25,
    "start_time": "2021-10-18T14:23:41.469Z"
   },
   {
    "duration": 33,
    "start_time": "2021-10-18T14:23:41.500Z"
   },
   {
    "duration": 60,
    "start_time": "2021-10-18T14:23:41.535Z"
   },
   {
    "duration": 53,
    "start_time": "2021-10-18T14:23:41.602Z"
   },
   {
    "duration": 42,
    "start_time": "2021-10-18T14:23:41.657Z"
   },
   {
    "duration": 31,
    "start_time": "2021-10-18T14:23:41.702Z"
   },
   {
    "duration": 45,
    "start_time": "2021-10-18T14:23:41.736Z"
   },
   {
    "duration": 19,
    "start_time": "2021-10-18T14:23:41.790Z"
   },
   {
    "duration": 17,
    "start_time": "2021-10-18T14:23:41.812Z"
   },
   {
    "duration": 1956,
    "start_time": "2021-10-18T14:23:41.832Z"
   },
   {
    "duration": 13,
    "start_time": "2021-10-18T14:23:43.793Z"
   },
   {
    "duration": 7,
    "start_time": "2021-10-18T14:23:43.808Z"
   },
   {
    "duration": 76,
    "start_time": "2021-10-18T14:23:43.817Z"
   },
   {
    "duration": 37,
    "start_time": "2021-10-18T14:23:43.902Z"
   },
   {
    "duration": 39,
    "start_time": "2021-10-18T14:23:43.943Z"
   },
   {
    "duration": 15,
    "start_time": "2021-10-18T14:23:43.984Z"
   },
   {
    "duration": 26,
    "start_time": "2021-10-18T14:23:44.002Z"
   },
   {
    "duration": 65,
    "start_time": "2021-10-18T14:23:44.031Z"
   },
   {
    "duration": 37,
    "start_time": "2021-10-18T14:23:44.099Z"
   },
   {
    "duration": 69,
    "start_time": "2021-10-18T14:23:44.139Z"
   },
   {
    "duration": 57,
    "start_time": "2021-10-18T14:23:44.211Z"
   },
   {
    "duration": 681,
    "start_time": "2021-10-18T14:23:44.276Z"
   },
   {
    "duration": 17,
    "start_time": "2021-10-18T14:23:44.967Z"
   },
   {
    "duration": 42,
    "start_time": "2021-10-18T14:23:44.987Z"
   },
   {
    "duration": 767,
    "start_time": "2021-10-18T14:23:45.032Z"
   },
   {
    "duration": 19293,
    "start_time": "2021-10-18T14:23:26.509Z"
   },
   {
    "duration": 19284,
    "start_time": "2021-10-18T14:23:26.519Z"
   },
   {
    "duration": 19262,
    "start_time": "2021-10-18T14:23:26.543Z"
   },
   {
    "duration": 19254,
    "start_time": "2021-10-18T14:23:26.553Z"
   },
   {
    "duration": 37,
    "start_time": "2021-10-18T14:23:48.479Z"
   },
   {
    "duration": 5,
    "start_time": "2021-10-18T14:23:52.817Z"
   },
   {
    "duration": 121,
    "start_time": "2021-10-18T14:23:52.825Z"
   },
   {
    "duration": 16,
    "start_time": "2021-10-18T14:23:52.949Z"
   },
   {
    "duration": 9,
    "start_time": "2021-10-18T14:23:52.971Z"
   },
   {
    "duration": 52,
    "start_time": "2021-10-18T14:23:52.984Z"
   },
   {
    "duration": 51,
    "start_time": "2021-10-18T14:23:53.038Z"
   },
   {
    "duration": 124,
    "start_time": "2021-10-18T14:23:53.092Z"
   },
   {
    "duration": 13,
    "start_time": "2021-10-18T14:23:53.219Z"
   },
   {
    "duration": 37,
    "start_time": "2021-10-18T14:23:53.238Z"
   },
   {
    "duration": 27,
    "start_time": "2021-10-18T14:23:53.280Z"
   },
   {
    "duration": 16,
    "start_time": "2021-10-18T14:23:53.309Z"
   },
   {
    "duration": 12,
    "start_time": "2021-10-18T14:23:53.327Z"
   },
   {
    "duration": 197,
    "start_time": "2021-10-18T14:23:53.342Z"
   },
   {
    "duration": 26,
    "start_time": "2021-10-18T14:23:53.542Z"
   },
   {
    "duration": 34,
    "start_time": "2021-10-18T14:23:53.580Z"
   },
   {
    "duration": 29,
    "start_time": "2021-10-18T14:23:53.616Z"
   },
   {
    "duration": 49,
    "start_time": "2021-10-18T14:23:53.647Z"
   },
   {
    "duration": 30,
    "start_time": "2021-10-18T14:23:53.698Z"
   },
   {
    "duration": 58,
    "start_time": "2021-10-18T14:23:53.730Z"
   },
   {
    "duration": 15,
    "start_time": "2021-10-18T14:23:53.790Z"
   },
   {
    "duration": 10,
    "start_time": "2021-10-18T14:23:53.808Z"
   },
   {
    "duration": 55,
    "start_time": "2021-10-18T14:23:53.821Z"
   },
   {
    "duration": 1932,
    "start_time": "2021-10-18T14:23:53.882Z"
   },
   {
    "duration": 13,
    "start_time": "2021-10-18T14:23:55.816Z"
   },
   {
    "duration": 7,
    "start_time": "2021-10-18T14:23:55.832Z"
   },
   {
    "duration": 83,
    "start_time": "2021-10-18T14:23:55.842Z"
   },
   {
    "duration": 48,
    "start_time": "2021-10-18T14:23:55.930Z"
   },
   {
    "duration": 24,
    "start_time": "2021-10-18T14:23:55.981Z"
   },
   {
    "duration": 5,
    "start_time": "2021-10-18T14:23:56.007Z"
   },
   {
    "duration": 21,
    "start_time": "2021-10-18T14:23:56.014Z"
   },
   {
    "duration": 58,
    "start_time": "2021-10-18T14:23:56.039Z"
   },
   {
    "duration": 94,
    "start_time": "2021-10-18T14:23:56.099Z"
   },
   {
    "duration": 60,
    "start_time": "2021-10-18T14:23:56.199Z"
   },
   {
    "duration": 58,
    "start_time": "2021-10-18T14:23:56.262Z"
   },
   {
    "duration": 648,
    "start_time": "2021-10-18T14:23:56.323Z"
   },
   {
    "duration": 20,
    "start_time": "2021-10-18T14:23:56.973Z"
   },
   {
    "duration": 40,
    "start_time": "2021-10-18T14:23:56.995Z"
   },
   {
    "duration": 650,
    "start_time": "2021-10-18T14:23:57.038Z"
   },
   {
    "duration": 19300,
    "start_time": "2021-10-18T14:23:38.391Z"
   },
   {
    "duration": 19290,
    "start_time": "2021-10-18T14:23:38.403Z"
   },
   {
    "duration": 19282,
    "start_time": "2021-10-18T14:23:38.413Z"
   },
   {
    "duration": 19274,
    "start_time": "2021-10-18T14:23:38.424Z"
   },
   {
    "duration": 5,
    "start_time": "2021-10-18T14:25:19.260Z"
   },
   {
    "duration": 158,
    "start_time": "2021-10-18T14:25:19.267Z"
   },
   {
    "duration": 22,
    "start_time": "2021-10-18T14:25:19.428Z"
   },
   {
    "duration": 11,
    "start_time": "2021-10-18T14:25:19.453Z"
   },
   {
    "duration": 56,
    "start_time": "2021-10-18T14:25:19.466Z"
   },
   {
    "duration": 17,
    "start_time": "2021-10-18T14:25:19.524Z"
   },
   {
    "duration": 70,
    "start_time": "2021-10-18T14:25:19.543Z"
   },
   {
    "duration": 19,
    "start_time": "2021-10-18T14:25:19.615Z"
   },
   {
    "duration": 38,
    "start_time": "2021-10-18T14:25:19.639Z"
   },
   {
    "duration": 21,
    "start_time": "2021-10-18T14:25:19.683Z"
   },
   {
    "duration": 13,
    "start_time": "2021-10-18T14:25:19.707Z"
   },
   {
    "duration": 61,
    "start_time": "2021-10-18T14:25:19.722Z"
   },
   {
    "duration": 162,
    "start_time": "2021-10-18T14:25:19.786Z"
   },
   {
    "duration": 19,
    "start_time": "2021-10-18T14:25:19.951Z"
   },
   {
    "duration": 38,
    "start_time": "2021-10-18T14:25:19.974Z"
   },
   {
    "duration": 28,
    "start_time": "2021-10-18T14:25:20.014Z"
   },
   {
    "duration": 41,
    "start_time": "2021-10-18T14:25:20.078Z"
   },
   {
    "duration": 35,
    "start_time": "2021-10-18T14:25:20.122Z"
   },
   {
    "duration": 31,
    "start_time": "2021-10-18T14:25:20.160Z"
   },
   {
    "duration": 14,
    "start_time": "2021-10-18T14:25:20.194Z"
   },
   {
    "duration": 9,
    "start_time": "2021-10-18T14:25:20.210Z"
   },
   {
    "duration": 64,
    "start_time": "2021-10-18T14:25:20.221Z"
   },
   {
    "duration": 1317,
    "start_time": "2021-10-18T14:25:20.290Z"
   },
   {
    "duration": 10,
    "start_time": "2021-10-18T14:25:21.609Z"
   },
   {
    "duration": 15,
    "start_time": "2021-10-18T14:25:21.621Z"
   },
   {
    "duration": 146,
    "start_time": "2021-10-18T14:25:21.638Z"
   },
   {
    "duration": 40,
    "start_time": "2021-10-18T14:25:21.795Z"
   },
   {
    "duration": 43,
    "start_time": "2021-10-18T14:25:21.837Z"
   },
   {
    "duration": 5,
    "start_time": "2021-10-18T14:25:21.882Z"
   },
   {
    "duration": 31,
    "start_time": "2021-10-18T14:25:21.891Z"
   },
   {
    "duration": 23,
    "start_time": "2021-10-18T14:25:21.925Z"
   },
   {
    "duration": 61,
    "start_time": "2021-10-18T14:25:21.950Z"
   },
   {
    "duration": 85,
    "start_time": "2021-10-18T14:25:22.014Z"
   },
   {
    "duration": 43,
    "start_time": "2021-10-18T14:25:22.102Z"
   },
   {
    "duration": 960,
    "start_time": "2021-10-18T14:25:22.148Z"
   },
   {
    "duration": 85,
    "start_time": "2021-10-18T14:25:23.110Z"
   },
   {
    "duration": 110,
    "start_time": "2021-10-18T14:25:23.198Z"
   },
   {
    "duration": 695,
    "start_time": "2021-10-18T14:25:23.311Z"
   },
   {
    "duration": 19391,
    "start_time": "2021-10-18T14:25:04.617Z"
   },
   {
    "duration": 19383,
    "start_time": "2021-10-18T14:25:04.627Z"
   },
   {
    "duration": 19373,
    "start_time": "2021-10-18T14:25:04.639Z"
   },
   {
    "duration": 19364,
    "start_time": "2021-10-18T14:25:04.649Z"
   },
   {
    "duration": 40,
    "start_time": "2021-10-18T14:26:02.218Z"
   },
   {
    "duration": 5,
    "start_time": "2021-10-18T14:26:13.418Z"
   },
   {
    "duration": 113,
    "start_time": "2021-10-18T14:26:13.426Z"
   },
   {
    "duration": 16,
    "start_time": "2021-10-18T14:26:13.542Z"
   },
   {
    "duration": 13,
    "start_time": "2021-10-18T14:26:13.561Z"
   },
   {
    "duration": 61,
    "start_time": "2021-10-18T14:26:13.578Z"
   },
   {
    "duration": 44,
    "start_time": "2021-10-18T14:26:13.643Z"
   },
   {
    "duration": 46,
    "start_time": "2021-10-18T14:26:13.689Z"
   },
   {
    "duration": 59,
    "start_time": "2021-10-18T14:26:13.737Z"
   },
   {
    "duration": 11,
    "start_time": "2021-10-18T14:26:13.800Z"
   },
   {
    "duration": 18,
    "start_time": "2021-10-18T14:26:13.815Z"
   },
   {
    "duration": 10,
    "start_time": "2021-10-18T14:26:13.835Z"
   },
   {
    "duration": 22,
    "start_time": "2021-10-18T14:26:13.872Z"
   },
   {
    "duration": 166,
    "start_time": "2021-10-18T14:26:13.903Z"
   },
   {
    "duration": 18,
    "start_time": "2021-10-18T14:26:14.075Z"
   },
   {
    "duration": 38,
    "start_time": "2021-10-18T14:26:14.098Z"
   },
   {
    "duration": 64,
    "start_time": "2021-10-18T14:26:14.138Z"
   },
   {
    "duration": 28,
    "start_time": "2021-10-18T14:26:14.205Z"
   },
   {
    "duration": 66,
    "start_time": "2021-10-18T14:26:14.235Z"
   },
   {
    "duration": 21,
    "start_time": "2021-10-18T14:26:14.303Z"
   },
   {
    "duration": 11,
    "start_time": "2021-10-18T14:26:14.327Z"
   },
   {
    "duration": 39,
    "start_time": "2021-10-18T14:26:14.341Z"
   },
   {
    "duration": 30,
    "start_time": "2021-10-18T14:26:14.384Z"
   },
   {
    "duration": 1322,
    "start_time": "2021-10-18T14:26:14.417Z"
   },
   {
    "duration": 10,
    "start_time": "2021-10-18T14:26:15.742Z"
   },
   {
    "duration": 32,
    "start_time": "2021-10-18T14:26:15.755Z"
   },
   {
    "duration": 55,
    "start_time": "2021-10-18T14:26:15.790Z"
   },
   {
    "duration": 50,
    "start_time": "2021-10-18T14:26:15.852Z"
   },
   {
    "duration": 23,
    "start_time": "2021-10-18T14:26:15.905Z"
   },
   {
    "duration": 4,
    "start_time": "2021-10-18T14:26:15.931Z"
   },
   {
    "duration": 44,
    "start_time": "2021-10-18T14:26:15.938Z"
   },
   {
    "duration": 29,
    "start_time": "2021-10-18T14:26:15.984Z"
   },
   {
    "duration": 76,
    "start_time": "2021-10-18T14:26:16.016Z"
   },
   {
    "duration": 168,
    "start_time": "2021-10-18T14:26:16.103Z"
   },
   {
    "duration": 94,
    "start_time": "2021-10-18T14:26:16.278Z"
   },
   {
    "duration": 1050,
    "start_time": "2021-10-18T14:26:16.375Z"
   },
   {
    "duration": 17,
    "start_time": "2021-10-18T14:26:17.428Z"
   },
   {
    "duration": 65,
    "start_time": "2021-10-18T14:26:17.448Z"
   },
   {
    "duration": 659,
    "start_time": "2021-10-18T14:26:17.515Z"
   },
   {
    "duration": 19352,
    "start_time": "2021-10-18T14:25:58.825Z"
   },
   {
    "duration": 19329,
    "start_time": "2021-10-18T14:25:58.851Z"
   },
   {
    "duration": 19321,
    "start_time": "2021-10-18T14:25:58.863Z"
   },
   {
    "duration": 19311,
    "start_time": "2021-10-18T14:25:58.876Z"
   },
   {
    "duration": 52,
    "start_time": "2021-10-18T14:27:38.257Z"
   },
   {
    "duration": 35,
    "start_time": "2021-10-18T14:27:59.257Z"
   },
   {
    "duration": 6,
    "start_time": "2021-10-18T14:28:03.259Z"
   },
   {
    "duration": 119,
    "start_time": "2021-10-18T14:28:03.268Z"
   },
   {
    "duration": 20,
    "start_time": "2021-10-18T14:28:03.394Z"
   },
   {
    "duration": 10,
    "start_time": "2021-10-18T14:28:03.417Z"
   },
   {
    "duration": 84,
    "start_time": "2021-10-18T14:28:03.430Z"
   },
   {
    "duration": 26,
    "start_time": "2021-10-18T14:28:03.517Z"
   },
   {
    "duration": 67,
    "start_time": "2021-10-18T14:28:03.545Z"
   },
   {
    "duration": 15,
    "start_time": "2021-10-18T14:28:03.615Z"
   },
   {
    "duration": 39,
    "start_time": "2021-10-18T14:28:03.634Z"
   },
   {
    "duration": 24,
    "start_time": "2021-10-18T14:28:03.679Z"
   },
   {
    "duration": 10,
    "start_time": "2021-10-18T14:28:03.705Z"
   },
   {
    "duration": 14,
    "start_time": "2021-10-18T14:28:03.717Z"
   },
   {
    "duration": 206,
    "start_time": "2021-10-18T14:28:03.733Z"
   },
   {
    "duration": 10,
    "start_time": "2021-10-18T14:28:03.941Z"
   },
   {
    "duration": 53,
    "start_time": "2021-10-18T14:28:03.953Z"
   },
   {
    "duration": 27,
    "start_time": "2021-10-18T14:28:04.009Z"
   },
   {
    "duration": 62,
    "start_time": "2021-10-18T14:28:04.038Z"
   },
   {
    "duration": 25,
    "start_time": "2021-10-18T14:28:04.102Z"
   },
   {
    "duration": 47,
    "start_time": "2021-10-18T14:28:04.130Z"
   },
   {
    "duration": 17,
    "start_time": "2021-10-18T14:28:04.180Z"
   },
   {
    "duration": 10,
    "start_time": "2021-10-18T14:28:04.200Z"
   },
   {
    "duration": 20,
    "start_time": "2021-10-18T14:28:04.213Z"
   },
   {
    "duration": 1410,
    "start_time": "2021-10-18T14:28:04.236Z"
   },
   {
    "duration": 24,
    "start_time": "2021-10-18T14:28:05.649Z"
   },
   {
    "duration": 12,
    "start_time": "2021-10-18T14:28:05.675Z"
   },
   {
    "duration": 99,
    "start_time": "2021-10-18T14:28:05.690Z"
   },
   {
    "duration": 78,
    "start_time": "2021-10-18T14:28:05.795Z"
   },
   {
    "duration": 24,
    "start_time": "2021-10-18T14:28:05.879Z"
   },
   {
    "duration": 12,
    "start_time": "2021-10-18T14:28:05.905Z"
   },
   {
    "duration": 61,
    "start_time": "2021-10-18T14:28:05.919Z"
   },
   {
    "duration": 29,
    "start_time": "2021-10-18T14:28:05.983Z"
   },
   {
    "duration": 97,
    "start_time": "2021-10-18T14:28:06.014Z"
   },
   {
    "duration": 183,
    "start_time": "2021-10-18T14:28:06.113Z"
   },
   {
    "duration": 99,
    "start_time": "2021-10-18T14:28:06.299Z"
   },
   {
    "duration": 931,
    "start_time": "2021-10-18T14:28:06.403Z"
   },
   {
    "duration": 14,
    "start_time": "2021-10-18T14:28:07.336Z"
   },
   {
    "duration": 66,
    "start_time": "2021-10-18T14:28:07.352Z"
   },
   {
    "duration": 600,
    "start_time": "2021-10-18T14:28:07.421Z"
   },
   {
    "duration": 19358,
    "start_time": "2021-10-18T14:27:48.665Z"
   },
   {
    "duration": 19337,
    "start_time": "2021-10-18T14:27:48.688Z"
   },
   {
    "duration": 19320,
    "start_time": "2021-10-18T14:27:48.706Z"
   },
   {
    "duration": 19308,
    "start_time": "2021-10-18T14:27:48.720Z"
   },
   {
    "duration": 37,
    "start_time": "2021-10-18T14:28:11.306Z"
   },
   {
    "duration": 322,
    "start_time": "2021-10-18T14:30:08.778Z"
   },
   {
    "duration": 529,
    "start_time": "2021-10-18T14:30:22.606Z"
   },
   {
    "duration": 7,
    "start_time": "2021-10-18T14:31:37.777Z"
   },
   {
    "duration": 3,
    "start_time": "2021-10-18T14:31:40.717Z"
   },
   {
    "duration": 274,
    "start_time": "2021-10-18T14:31:54.777Z"
   },
   {
    "duration": 462,
    "start_time": "2021-10-18T14:32:02.177Z"
   },
   {
    "duration": 328,
    "start_time": "2021-10-18T14:32:34.388Z"
   },
   {
    "duration": 527,
    "start_time": "2021-10-18T14:32:45.248Z"
   },
   {
    "duration": 272,
    "start_time": "2021-10-18T14:33:16.135Z"
   },
   {
    "duration": 9,
    "start_time": "2021-10-18T14:33:25.781Z"
   },
   {
    "duration": 117,
    "start_time": "2021-10-18T14:33:25.793Z"
   },
   {
    "duration": 16,
    "start_time": "2021-10-18T14:33:25.913Z"
   },
   {
    "duration": 7,
    "start_time": "2021-10-18T14:33:25.932Z"
   },
   {
    "duration": 71,
    "start_time": "2021-10-18T14:33:25.942Z"
   },
   {
    "duration": 17,
    "start_time": "2021-10-18T14:33:26.016Z"
   },
   {
    "duration": 73,
    "start_time": "2021-10-18T14:33:26.036Z"
   },
   {
    "duration": 18,
    "start_time": "2021-10-18T14:33:26.111Z"
   },
   {
    "duration": 36,
    "start_time": "2021-10-18T14:33:26.135Z"
   },
   {
    "duration": 23,
    "start_time": "2021-10-18T14:33:26.174Z"
   },
   {
    "duration": 10,
    "start_time": "2021-10-18T14:33:26.199Z"
   },
   {
    "duration": 11,
    "start_time": "2021-10-18T14:33:26.212Z"
   },
   {
    "duration": 234,
    "start_time": "2021-10-18T14:33:26.226Z"
   },
   {
    "duration": 15,
    "start_time": "2021-10-18T14:33:26.473Z"
   },
   {
    "duration": 31,
    "start_time": "2021-10-18T14:33:26.491Z"
   },
   {
    "duration": 69,
    "start_time": "2021-10-18T14:33:26.525Z"
   },
   {
    "duration": 30,
    "start_time": "2021-10-18T14:33:26.597Z"
   },
   {
    "duration": 10,
    "start_time": "2021-10-18T14:33:26.630Z"
   },
   {
    "duration": 50,
    "start_time": "2021-10-18T14:33:26.643Z"
   },
   {
    "duration": 8,
    "start_time": "2021-10-18T14:33:26.696Z"
   },
   {
    "duration": 20,
    "start_time": "2021-10-18T14:33:26.708Z"
   },
   {
    "duration": 52,
    "start_time": "2021-10-18T14:33:26.730Z"
   },
   {
    "duration": 2195,
    "start_time": "2021-10-18T14:33:26.785Z"
   },
   {
    "duration": 11,
    "start_time": "2021-10-18T14:33:28.984Z"
   },
   {
    "duration": 14,
    "start_time": "2021-10-18T14:33:28.997Z"
   },
   {
    "duration": 87,
    "start_time": "2021-10-18T14:33:29.014Z"
   },
   {
    "duration": 37,
    "start_time": "2021-10-18T14:33:29.106Z"
   },
   {
    "duration": 37,
    "start_time": "2021-10-18T14:33:29.146Z"
   },
   {
    "duration": 19,
    "start_time": "2021-10-18T14:33:29.185Z"
   },
   {
    "duration": 20,
    "start_time": "2021-10-18T14:33:29.207Z"
   },
   {
    "duration": 61,
    "start_time": "2021-10-18T14:33:29.230Z"
   },
   {
    "duration": 35,
    "start_time": "2021-10-18T14:33:29.294Z"
   },
   {
    "duration": 116,
    "start_time": "2021-10-18T14:33:29.332Z"
   },
   {
    "duration": 57,
    "start_time": "2021-10-18T14:33:29.451Z"
   },
   {
    "duration": 727,
    "start_time": "2021-10-18T14:33:29.511Z"
   },
   {
    "duration": 35,
    "start_time": "2021-10-18T14:33:30.241Z"
   },
   {
    "duration": 42,
    "start_time": "2021-10-18T14:33:30.278Z"
   },
   {
    "duration": 759,
    "start_time": "2021-10-18T14:33:30.323Z"
   },
   {
    "duration": 19415,
    "start_time": "2021-10-18T14:33:11.670Z"
   },
   {
    "duration": 19394,
    "start_time": "2021-10-18T14:33:11.694Z"
   },
   {
    "duration": 19388,
    "start_time": "2021-10-18T14:33:11.703Z"
   },
   {
    "duration": 19381,
    "start_time": "2021-10-18T14:33:11.712Z"
   },
   {
    "duration": 50,
    "start_time": "2021-10-18T14:33:41.539Z"
   },
   {
    "duration": 10,
    "start_time": "2021-10-18T14:36:07.737Z"
   },
   {
    "duration": 20,
    "start_time": "2021-10-18T14:36:14.997Z"
   },
   {
    "duration": 18,
    "start_time": "2021-10-18T14:36:56.047Z"
   },
   {
    "duration": 6,
    "start_time": "2021-10-18T14:36:59.874Z"
   },
   {
    "duration": 128,
    "start_time": "2021-10-18T14:36:59.883Z"
   },
   {
    "duration": 20,
    "start_time": "2021-10-18T14:37:00.015Z"
   },
   {
    "duration": 11,
    "start_time": "2021-10-18T14:37:00.038Z"
   },
   {
    "duration": 83,
    "start_time": "2021-10-18T14:37:00.052Z"
   },
   {
    "duration": 49,
    "start_time": "2021-10-18T14:37:00.138Z"
   },
   {
    "duration": 87,
    "start_time": "2021-10-18T14:37:00.190Z"
   },
   {
    "duration": 19,
    "start_time": "2021-10-18T14:37:00.280Z"
   },
   {
    "duration": 13,
    "start_time": "2021-10-18T14:37:00.306Z"
   },
   {
    "duration": 43,
    "start_time": "2021-10-18T14:37:00.324Z"
   },
   {
    "duration": 14,
    "start_time": "2021-10-18T14:37:00.370Z"
   },
   {
    "duration": 34,
    "start_time": "2021-10-18T14:37:00.387Z"
   },
   {
    "duration": 174,
    "start_time": "2021-10-18T14:37:00.424Z"
   },
   {
    "duration": 11,
    "start_time": "2021-10-18T14:37:00.601Z"
   },
   {
    "duration": 40,
    "start_time": "2021-10-18T14:37:00.614Z"
   },
   {
    "duration": 42,
    "start_time": "2021-10-18T14:37:00.656Z"
   },
   {
    "duration": 33,
    "start_time": "2021-10-18T14:37:00.701Z"
   },
   {
    "duration": 38,
    "start_time": "2021-10-18T14:37:00.772Z"
   },
   {
    "duration": 24,
    "start_time": "2021-10-18T14:37:00.813Z"
   },
   {
    "duration": 28,
    "start_time": "2021-10-18T14:37:00.839Z"
   },
   {
    "duration": 25,
    "start_time": "2021-10-18T14:37:00.870Z"
   },
   {
    "duration": 36,
    "start_time": "2021-10-18T14:37:00.898Z"
   },
   {
    "duration": 1578,
    "start_time": "2021-10-18T14:37:00.937Z"
   },
   {
    "duration": 10,
    "start_time": "2021-10-18T14:37:02.517Z"
   },
   {
    "duration": 7,
    "start_time": "2021-10-18T14:37:02.530Z"
   },
   {
    "duration": 54,
    "start_time": "2021-10-18T14:37:02.546Z"
   },
   {
    "duration": 38,
    "start_time": "2021-10-18T14:37:02.605Z"
   },
   {
    "duration": 35,
    "start_time": "2021-10-18T14:37:02.646Z"
   },
   {
    "duration": 15,
    "start_time": "2021-10-18T14:37:02.684Z"
   },
   {
    "duration": 34,
    "start_time": "2021-10-18T14:37:02.702Z"
   },
   {
    "duration": 35,
    "start_time": "2021-10-18T14:37:02.739Z"
   },
   {
    "duration": 100,
    "start_time": "2021-10-18T14:37:02.777Z"
   },
   {
    "duration": 114,
    "start_time": "2021-10-18T14:37:02.880Z"
   },
   {
    "duration": 92,
    "start_time": "2021-10-18T14:37:02.996Z"
   },
   {
    "duration": 863,
    "start_time": "2021-10-18T14:37:03.095Z"
   },
   {
    "duration": 20,
    "start_time": "2021-10-18T14:37:03.960Z"
   },
   {
    "duration": 40,
    "start_time": "2021-10-18T14:37:03.982Z"
   },
   {
    "duration": 747,
    "start_time": "2021-10-18T14:37:04.025Z"
   },
   {
    "duration": 18574,
    "start_time": "2021-10-18T14:36:46.202Z"
   },
   {
    "duration": 18570,
    "start_time": "2021-10-18T14:36:46.207Z"
   },
   {
    "duration": 18567,
    "start_time": "2021-10-18T14:36:46.212Z"
   },
   {
    "duration": 18566,
    "start_time": "2021-10-18T14:36:46.215Z"
   },
   {
    "duration": 21,
    "start_time": "2021-10-18T14:40:54.221Z"
   },
   {
    "duration": 22,
    "start_time": "2021-10-18T14:41:10.483Z"
   },
   {
    "duration": 22,
    "start_time": "2021-10-18T14:42:14.950Z"
   },
   {
    "duration": 24,
    "start_time": "2021-10-18T14:43:08.972Z"
   },
   {
    "duration": 98,
    "start_time": "2021-10-18T14:46:00.493Z"
   },
   {
    "duration": 12,
    "start_time": "2021-10-18T14:46:23.473Z"
   },
   {
    "duration": 9,
    "start_time": "2021-10-18T14:47:16.776Z"
   },
   {
    "duration": 47,
    "start_time": "2021-10-18T14:51:53.064Z"
   },
   {
    "duration": 9,
    "start_time": "2021-10-18T14:52:32.052Z"
   },
   {
    "duration": 21,
    "start_time": "2021-10-18T14:52:43.585Z"
   },
   {
    "duration": 8,
    "start_time": "2021-10-18T14:53:02.820Z"
   },
   {
    "duration": 19,
    "start_time": "2021-10-18T14:53:12.712Z"
   },
   {
    "duration": 36,
    "start_time": "2021-10-18T14:53:27.981Z"
   },
   {
    "duration": 27,
    "start_time": "2021-10-18T14:54:18.437Z"
   },
   {
    "duration": 247,
    "start_time": "2021-10-18T14:56:28.851Z"
   },
   {
    "duration": 409,
    "start_time": "2021-10-18T16:47:02.070Z"
   },
   {
    "duration": 897,
    "start_time": "2021-10-18T16:47:05.084Z"
   },
   {
    "duration": 134,
    "start_time": "2021-10-18T16:47:05.984Z"
   },
   {
    "duration": 15,
    "start_time": "2021-10-18T16:47:06.122Z"
   },
   {
    "duration": 8,
    "start_time": "2021-10-18T16:47:06.141Z"
   },
   {
    "duration": 45,
    "start_time": "2021-10-18T16:47:06.151Z"
   },
   {
    "duration": 72,
    "start_time": "2021-10-18T16:47:06.198Z"
   },
   {
    "duration": 98,
    "start_time": "2021-10-18T16:47:06.273Z"
   },
   {
    "duration": 13,
    "start_time": "2021-10-18T16:47:06.373Z"
   },
   {
    "duration": 9,
    "start_time": "2021-10-18T16:47:06.390Z"
   },
   {
    "duration": 71,
    "start_time": "2021-10-18T16:47:06.402Z"
   },
   {
    "duration": 14,
    "start_time": "2021-10-18T16:47:06.476Z"
   },
   {
    "duration": 68,
    "start_time": "2021-10-18T16:47:06.493Z"
   },
   {
    "duration": 419,
    "start_time": "2021-10-18T16:47:06.564Z"
   },
   {
    "duration": 9,
    "start_time": "2021-10-18T16:47:06.986Z"
   },
   {
    "duration": 81,
    "start_time": "2021-10-18T16:47:06.997Z"
   },
   {
    "duration": 24,
    "start_time": "2021-10-18T16:47:07.081Z"
   },
   {
    "duration": 22,
    "start_time": "2021-10-18T16:47:07.158Z"
   },
   {
    "duration": 21,
    "start_time": "2021-10-18T16:47:07.182Z"
   },
   {
    "duration": 8,
    "start_time": "2021-10-18T16:47:07.205Z"
   },
   {
    "duration": 43,
    "start_time": "2021-10-18T16:47:07.216Z"
   },
   {
    "duration": 16,
    "start_time": "2021-10-18T16:47:07.262Z"
   },
   {
    "duration": 1194,
    "start_time": "2021-10-18T16:47:07.280Z"
   },
   {
    "duration": 9,
    "start_time": "2021-10-18T16:47:08.477Z"
   },
   {
    "duration": 7,
    "start_time": "2021-10-18T16:47:08.488Z"
   },
   {
    "duration": 107,
    "start_time": "2021-10-18T16:47:08.497Z"
   },
   {
    "duration": 37,
    "start_time": "2021-10-18T16:47:08.606Z"
   },
   {
    "duration": 26,
    "start_time": "2021-10-18T16:47:08.662Z"
   },
   {
    "duration": 9,
    "start_time": "2021-10-18T16:47:08.691Z"
   },
   {
    "duration": 490,
    "start_time": "2021-10-18T16:47:08.702Z"
   },
   {
    "duration": 682,
    "start_time": "2021-10-18T16:47:08.512Z"
   },
   {
    "duration": 680,
    "start_time": "2021-10-18T16:47:08.515Z"
   },
   {
    "duration": 680,
    "start_time": "2021-10-18T16:47:08.517Z"
   },
   {
    "duration": 677,
    "start_time": "2021-10-18T16:47:08.521Z"
   },
   {
    "duration": 677,
    "start_time": "2021-10-18T16:47:08.523Z"
   },
   {
    "duration": 676,
    "start_time": "2021-10-18T16:47:08.525Z"
   },
   {
    "duration": 673,
    "start_time": "2021-10-18T16:47:08.529Z"
   },
   {
    "duration": 672,
    "start_time": "2021-10-18T16:47:08.531Z"
   },
   {
    "duration": 673,
    "start_time": "2021-10-18T16:47:08.532Z"
   },
   {
    "duration": 670,
    "start_time": "2021-10-18T16:47:08.536Z"
   },
   {
    "duration": 669,
    "start_time": "2021-10-18T16:47:08.538Z"
   },
   {
    "duration": 668,
    "start_time": "2021-10-18T16:47:08.540Z"
   },
   {
    "duration": 667,
    "start_time": "2021-10-18T16:47:08.543Z"
   },
   {
    "duration": 666,
    "start_time": "2021-10-18T16:47:08.545Z"
   },
   {
    "duration": 665,
    "start_time": "2021-10-18T16:47:08.547Z"
   },
   {
    "duration": 431,
    "start_time": "2021-10-18T16:50:17.433Z"
   },
   {
    "duration": 349,
    "start_time": "2021-10-18T16:51:10.673Z"
   },
   {
    "duration": 7,
    "start_time": "2021-10-18T16:52:16.985Z"
   },
   {
    "duration": 22,
    "start_time": "2021-10-18T16:52:18.131Z"
   },
   {
    "duration": 122,
    "start_time": "2021-10-18T16:53:21.186Z"
   },
   {
    "duration": 116,
    "start_time": "2021-10-18T16:53:29.980Z"
   },
   {
    "duration": 115,
    "start_time": "2021-10-18T16:53:48.253Z"
   },
   {
    "duration": 7,
    "start_time": "2021-10-18T16:54:37.682Z"
   },
   {
    "duration": 12,
    "start_time": "2021-10-18T16:54:41.697Z"
   },
   {
    "duration": 7,
    "start_time": "2021-10-18T16:55:44.199Z"
   },
   {
    "duration": 14,
    "start_time": "2021-10-18T16:55:48.530Z"
   },
   {
    "duration": 391,
    "start_time": "2021-10-18T16:56:23.323Z"
   },
   {
    "duration": 14,
    "start_time": "2021-10-18T16:56:30.503Z"
   },
   {
    "duration": 27,
    "start_time": "2021-10-18T16:56:55.014Z"
   },
   {
    "duration": 7,
    "start_time": "2021-10-18T16:56:55.545Z"
   },
   {
    "duration": 14,
    "start_time": "2021-10-18T16:56:56.251Z"
   },
   {
    "duration": 6,
    "start_time": "2021-10-18T16:56:56.633Z"
   },
   {
    "duration": 4,
    "start_time": "2021-10-18T16:57:00.248Z"
   },
   {
    "duration": 182,
    "start_time": "2021-10-18T16:57:00.255Z"
   },
   {
    "duration": 15,
    "start_time": "2021-10-18T16:57:00.440Z"
   },
   {
    "duration": 30,
    "start_time": "2021-10-18T16:57:00.458Z"
   },
   {
    "duration": 47,
    "start_time": "2021-10-18T16:57:00.490Z"
   },
   {
    "duration": 21,
    "start_time": "2021-10-18T16:57:00.539Z"
   },
   {
    "duration": 40,
    "start_time": "2021-10-18T16:57:00.563Z"
   },
   {
    "duration": 12,
    "start_time": "2021-10-18T16:57:00.607Z"
   },
   {
    "duration": 40,
    "start_time": "2021-10-18T16:57:00.622Z"
   },
   {
    "duration": 21,
    "start_time": "2021-10-18T16:57:00.665Z"
   },
   {
    "duration": 15,
    "start_time": "2021-10-18T16:57:00.688Z"
   },
   {
    "duration": 34,
    "start_time": "2021-10-18T16:57:00.706Z"
   },
   {
    "duration": 179,
    "start_time": "2021-10-18T16:57:00.743Z"
   },
   {
    "duration": 11,
    "start_time": "2021-10-18T16:57:00.924Z"
   },
   {
    "duration": 51,
    "start_time": "2021-10-18T16:57:00.938Z"
   },
   {
    "duration": 41,
    "start_time": "2021-10-18T16:57:00.991Z"
   },
   {
    "duration": 47,
    "start_time": "2021-10-18T16:57:01.034Z"
   },
   {
    "duration": 22,
    "start_time": "2021-10-18T16:57:01.084Z"
   },
   {
    "duration": 37,
    "start_time": "2021-10-18T16:57:01.108Z"
   },
   {
    "duration": 27,
    "start_time": "2021-10-18T16:57:01.147Z"
   },
   {
    "duration": 54,
    "start_time": "2021-10-18T16:57:01.177Z"
   },
   {
    "duration": 2025,
    "start_time": "2021-10-18T16:57:01.234Z"
   },
   {
    "duration": 10,
    "start_time": "2021-10-18T16:57:03.267Z"
   },
   {
    "duration": 21,
    "start_time": "2021-10-18T16:57:03.280Z"
   },
   {
    "duration": 62,
    "start_time": "2021-10-18T16:57:03.303Z"
   },
   {
    "duration": 38,
    "start_time": "2021-10-18T16:57:03.368Z"
   },
   {
    "duration": 50,
    "start_time": "2021-10-18T16:57:03.408Z"
   },
   {
    "duration": 6,
    "start_time": "2021-10-18T16:57:03.460Z"
   },
   {
    "duration": 27,
    "start_time": "2021-10-18T16:57:03.468Z"
   },
   {
    "duration": 6,
    "start_time": "2021-10-18T16:57:03.497Z"
   },
   {
    "duration": 399,
    "start_time": "2021-10-18T16:57:03.506Z"
   },
   {
    "duration": 681,
    "start_time": "2021-10-18T16:57:03.226Z"
   },
   {
    "duration": 680,
    "start_time": "2021-10-18T16:57:03.228Z"
   },
   {
    "duration": 680,
    "start_time": "2021-10-18T16:57:03.230Z"
   },
   {
    "duration": 680,
    "start_time": "2021-10-18T16:57:03.232Z"
   },
   {
    "duration": 680,
    "start_time": "2021-10-18T16:57:03.233Z"
   },
   {
    "duration": 676,
    "start_time": "2021-10-18T16:57:03.238Z"
   },
   {
    "duration": 675,
    "start_time": "2021-10-18T16:57:03.240Z"
   },
   {
    "duration": 676,
    "start_time": "2021-10-18T16:57:03.241Z"
   },
   {
    "duration": 673,
    "start_time": "2021-10-18T16:57:03.246Z"
   },
   {
    "duration": 673,
    "start_time": "2021-10-18T16:57:03.247Z"
   },
   {
    "duration": 673,
    "start_time": "2021-10-18T16:57:03.249Z"
   },
   {
    "duration": 672,
    "start_time": "2021-10-18T16:57:03.251Z"
   },
   {
    "duration": 669,
    "start_time": "2021-10-18T16:57:03.255Z"
   },
   {
    "duration": 27,
    "start_time": "2021-10-18T16:57:27.767Z"
   },
   {
    "duration": 5,
    "start_time": "2021-10-18T16:57:30.938Z"
   },
   {
    "duration": 155,
    "start_time": "2021-10-18T16:57:30.945Z"
   },
   {
    "duration": 15,
    "start_time": "2021-10-18T16:57:31.102Z"
   },
   {
    "duration": 26,
    "start_time": "2021-10-18T16:57:31.120Z"
   },
   {
    "duration": 64,
    "start_time": "2021-10-18T16:57:31.148Z"
   },
   {
    "duration": 18,
    "start_time": "2021-10-18T16:57:31.214Z"
   },
   {
    "duration": 48,
    "start_time": "2021-10-18T16:57:31.235Z"
   },
   {
    "duration": 12,
    "start_time": "2021-10-18T16:57:31.287Z"
   },
   {
    "duration": 9,
    "start_time": "2021-10-18T16:57:31.302Z"
   },
   {
    "duration": 45,
    "start_time": "2021-10-18T16:57:31.313Z"
   },
   {
    "duration": 10,
    "start_time": "2021-10-18T16:57:31.361Z"
   },
   {
    "duration": 20,
    "start_time": "2021-10-18T16:57:31.373Z"
   },
   {
    "duration": 157,
    "start_time": "2021-10-18T16:57:31.395Z"
   },
   {
    "duration": 10,
    "start_time": "2021-10-18T16:57:31.555Z"
   },
   {
    "duration": 33,
    "start_time": "2021-10-18T16:57:31.567Z"
   },
   {
    "duration": 25,
    "start_time": "2021-10-18T16:57:31.603Z"
   },
   {
    "duration": 41,
    "start_time": "2021-10-18T16:57:31.630Z"
   },
   {
    "duration": 20,
    "start_time": "2021-10-18T16:57:31.674Z"
   },
   {
    "duration": 12,
    "start_time": "2021-10-18T16:57:31.697Z"
   },
   {
    "duration": 9,
    "start_time": "2021-10-18T16:57:31.711Z"
   },
   {
    "duration": 52,
    "start_time": "2021-10-18T16:57:31.722Z"
   },
   {
    "duration": 1889,
    "start_time": "2021-10-18T16:57:31.776Z"
   },
   {
    "duration": 8,
    "start_time": "2021-10-18T16:57:33.671Z"
   },
   {
    "duration": 6,
    "start_time": "2021-10-18T16:57:33.682Z"
   },
   {
    "duration": 69,
    "start_time": "2021-10-18T16:57:33.690Z"
   },
   {
    "duration": 34,
    "start_time": "2021-10-18T16:57:33.762Z"
   },
   {
    "duration": 27,
    "start_time": "2021-10-18T16:57:33.799Z"
   },
   {
    "duration": 31,
    "start_time": "2021-10-18T16:57:33.828Z"
   },
   {
    "duration": 12,
    "start_time": "2021-10-18T16:57:33.862Z"
   },
   {
    "duration": 5,
    "start_time": "2021-10-18T16:57:33.877Z"
   },
   {
    "duration": 346,
    "start_time": "2021-10-18T16:57:33.884Z"
   },
   {
    "duration": 683,
    "start_time": "2021-10-18T16:57:33.550Z"
   },
   {
    "duration": 683,
    "start_time": "2021-10-18T16:57:33.552Z"
   },
   {
    "duration": 679,
    "start_time": "2021-10-18T16:57:33.557Z"
   },
   {
    "duration": 679,
    "start_time": "2021-10-18T16:57:33.559Z"
   },
   {
    "duration": 678,
    "start_time": "2021-10-18T16:57:33.561Z"
   },
   {
    "duration": 678,
    "start_time": "2021-10-18T16:57:33.562Z"
   },
   {
    "duration": 675,
    "start_time": "2021-10-18T16:57:33.567Z"
   },
   {
    "duration": 675,
    "start_time": "2021-10-18T16:57:33.568Z"
   },
   {
    "duration": 675,
    "start_time": "2021-10-18T16:57:33.570Z"
   },
   {
    "duration": 675,
    "start_time": "2021-10-18T16:57:33.571Z"
   },
   {
    "duration": 674,
    "start_time": "2021-10-18T16:57:33.573Z"
   },
   {
    "duration": 672,
    "start_time": "2021-10-18T16:57:33.577Z"
   },
   {
    "duration": 670,
    "start_time": "2021-10-18T16:57:33.580Z"
   },
   {
    "duration": 51,
    "start_time": "2021-10-18T16:58:11.837Z"
   },
   {
    "duration": 27,
    "start_time": "2021-10-18T16:58:28.063Z"
   },
   {
    "duration": 5,
    "start_time": "2021-10-18T16:58:31.494Z"
   },
   {
    "duration": 134,
    "start_time": "2021-10-18T16:58:31.501Z"
   },
   {
    "duration": 17,
    "start_time": "2021-10-18T16:58:31.638Z"
   },
   {
    "duration": 8,
    "start_time": "2021-10-18T16:58:31.658Z"
   },
   {
    "duration": 48,
    "start_time": "2021-10-18T16:58:31.669Z"
   },
   {
    "duration": 43,
    "start_time": "2021-10-18T16:58:31.721Z"
   },
   {
    "duration": 42,
    "start_time": "2021-10-18T16:58:31.767Z"
   },
   {
    "duration": 13,
    "start_time": "2021-10-18T16:58:31.814Z"
   },
   {
    "duration": 11,
    "start_time": "2021-10-18T16:58:31.860Z"
   },
   {
    "duration": 16,
    "start_time": "2021-10-18T16:58:31.874Z"
   },
   {
    "duration": 10,
    "start_time": "2021-10-18T16:58:31.893Z"
   },
   {
    "duration": 59,
    "start_time": "2021-10-18T16:58:31.906Z"
   },
   {
    "duration": 162,
    "start_time": "2021-10-18T16:58:31.968Z"
   },
   {
    "duration": 11,
    "start_time": "2021-10-18T16:58:32.132Z"
   },
   {
    "duration": 36,
    "start_time": "2021-10-18T16:58:32.145Z"
   },
   {
    "duration": 26,
    "start_time": "2021-10-18T16:58:32.183Z"
   },
   {
    "duration": 49,
    "start_time": "2021-10-18T16:58:32.212Z"
   },
   {
    "duration": 25,
    "start_time": "2021-10-18T16:58:32.263Z"
   },
   {
    "duration": 69,
    "start_time": "2021-10-18T16:58:32.290Z"
   },
   {
    "duration": 8,
    "start_time": "2021-10-18T16:58:32.361Z"
   },
   {
    "duration": 18,
    "start_time": "2021-10-18T16:58:32.371Z"
   },
   {
    "duration": 1597,
    "start_time": "2021-10-18T16:58:32.392Z"
   },
   {
    "duration": 10,
    "start_time": "2021-10-18T16:58:33.994Z"
   },
   {
    "duration": 6,
    "start_time": "2021-10-18T16:58:34.007Z"
   },
   {
    "duration": 69,
    "start_time": "2021-10-18T16:58:34.015Z"
   },
   {
    "duration": 36,
    "start_time": "2021-10-18T16:58:34.087Z"
   },
   {
    "duration": 47,
    "start_time": "2021-10-18T16:58:34.126Z"
   },
   {
    "duration": 6,
    "start_time": "2021-10-18T16:58:34.175Z"
   },
   {
    "duration": 17,
    "start_time": "2021-10-18T16:58:34.184Z"
   },
   {
    "duration": 7,
    "start_time": "2021-10-18T16:58:34.204Z"
   },
   {
    "duration": 361,
    "start_time": "2021-10-18T16:58:34.213Z"
   },
   {
    "duration": 684,
    "start_time": "2021-10-18T16:58:33.894Z"
   },
   {
    "duration": 683,
    "start_time": "2021-10-18T16:58:33.896Z"
   },
   {
    "duration": 682,
    "start_time": "2021-10-18T16:58:33.898Z"
   },
   {
    "duration": 679,
    "start_time": "2021-10-18T16:58:33.902Z"
   },
   {
    "duration": 679,
    "start_time": "2021-10-18T16:58:33.904Z"
   },
   {
    "duration": 679,
    "start_time": "2021-10-18T16:58:33.905Z"
   },
   {
    "duration": 678,
    "start_time": "2021-10-18T16:58:33.907Z"
   },
   {
    "duration": 676,
    "start_time": "2021-10-18T16:58:33.911Z"
   },
   {
    "duration": 675,
    "start_time": "2021-10-18T16:58:33.913Z"
   },
   {
    "duration": 675,
    "start_time": "2021-10-18T16:58:33.915Z"
   },
   {
    "duration": 675,
    "start_time": "2021-10-18T16:58:33.916Z"
   },
   {
    "duration": 671,
    "start_time": "2021-10-18T16:58:33.921Z"
   },
   {
    "duration": 670,
    "start_time": "2021-10-18T16:58:33.923Z"
   },
   {
    "duration": 13,
    "start_time": "2021-10-18T16:58:43.390Z"
   },
   {
    "duration": 12,
    "start_time": "2021-10-18T16:58:51.819Z"
   },
   {
    "duration": 21,
    "start_time": "2021-10-18T16:59:01.419Z"
   },
   {
    "duration": 27,
    "start_time": "2021-10-18T16:59:20.892Z"
   },
   {
    "duration": 6,
    "start_time": "2021-10-18T16:59:21.381Z"
   },
   {
    "duration": 12,
    "start_time": "2021-10-18T16:59:22.166Z"
   },
   {
    "duration": 13826,
    "start_time": "2021-10-18T16:59:57.642Z"
   },
   {
    "duration": 16,
    "start_time": "2021-10-18T17:00:42.121Z"
   },
   {
    "duration": 16,
    "start_time": "2021-10-18T17:01:17.155Z"
   },
   {
    "duration": 15,
    "start_time": "2021-10-18T17:02:05.185Z"
   },
   {
    "duration": 317,
    "start_time": "2021-10-18T17:03:30.397Z"
   },
   {
    "duration": 272,
    "start_time": "2021-10-18T17:03:40.738Z"
   },
   {
    "duration": 272,
    "start_time": "2021-10-18T17:03:49.251Z"
   },
   {
    "duration": 243,
    "start_time": "2021-10-18T17:03:56.632Z"
   },
   {
    "duration": 6,
    "start_time": "2021-10-18T17:04:10.062Z"
   },
   {
    "duration": 158,
    "start_time": "2021-10-18T17:04:10.071Z"
   },
   {
    "duration": 15,
    "start_time": "2021-10-18T17:04:10.233Z"
   },
   {
    "duration": 20,
    "start_time": "2021-10-18T17:04:10.251Z"
   },
   {
    "duration": 75,
    "start_time": "2021-10-18T17:04:10.274Z"
   },
   {
    "duration": 16,
    "start_time": "2021-10-18T17:04:10.351Z"
   },
   {
    "duration": 43,
    "start_time": "2021-10-18T17:04:10.369Z"
   },
   {
    "duration": 14,
    "start_time": "2021-10-18T17:04:10.416Z"
   },
   {
    "duration": 27,
    "start_time": "2021-10-18T17:04:10.433Z"
   },
   {
    "duration": 28,
    "start_time": "2021-10-18T17:04:10.462Z"
   },
   {
    "duration": 9,
    "start_time": "2021-10-18T17:04:10.493Z"
   },
   {
    "duration": 22,
    "start_time": "2021-10-18T17:04:10.504Z"
   },
   {
    "duration": 155,
    "start_time": "2021-10-18T17:04:10.528Z"
   },
   {
    "duration": 9,
    "start_time": "2021-10-18T17:04:10.686Z"
   },
   {
    "duration": 38,
    "start_time": "2021-10-18T17:04:10.697Z"
   },
   {
    "duration": 44,
    "start_time": "2021-10-18T17:04:10.738Z"
   },
   {
    "duration": 19,
    "start_time": "2021-10-18T17:04:10.785Z"
   },
   {
    "duration": 23,
    "start_time": "2021-10-18T17:04:10.807Z"
   },
   {
    "duration": 26,
    "start_time": "2021-10-18T17:04:10.859Z"
   },
   {
    "duration": 12,
    "start_time": "2021-10-18T17:04:10.887Z"
   },
   {
    "duration": 24,
    "start_time": "2021-10-18T17:04:10.901Z"
   },
   {
    "duration": 1549,
    "start_time": "2021-10-18T17:04:10.927Z"
   },
   {
    "duration": 10,
    "start_time": "2021-10-18T17:04:12.483Z"
   },
   {
    "duration": 9,
    "start_time": "2021-10-18T17:04:12.497Z"
   },
   {
    "duration": 71,
    "start_time": "2021-10-18T17:04:12.509Z"
   },
   {
    "duration": 43,
    "start_time": "2021-10-18T17:04:12.583Z"
   },
   {
    "duration": 44,
    "start_time": "2021-10-18T17:04:12.628Z"
   },
   {
    "duration": 5,
    "start_time": "2021-10-18T17:04:12.674Z"
   },
   {
    "duration": 8,
    "start_time": "2021-10-18T17:04:12.681Z"
   },
   {
    "duration": 305,
    "start_time": "2021-10-18T17:04:12.691Z"
   },
   {
    "duration": 20,
    "start_time": "2021-10-18T17:04:12.998Z"
   },
   {
    "duration": 39,
    "start_time": "2021-10-18T17:04:13.020Z"
   },
   {
    "duration": 107,
    "start_time": "2021-10-18T17:04:13.061Z"
   },
   {
    "duration": 67,
    "start_time": "2021-10-18T17:04:13.171Z"
   },
   {
    "duration": 43,
    "start_time": "2021-10-18T17:04:13.241Z"
   },
   {
    "duration": 588,
    "start_time": "2021-10-18T17:04:13.287Z"
   },
   {
    "duration": 13,
    "start_time": "2021-10-18T17:04:13.877Z"
   },
   {
    "duration": 64,
    "start_time": "2021-10-18T17:04:13.893Z"
   },
   {
    "duration": 677,
    "start_time": "2021-10-18T17:04:13.960Z"
   },
   {
    "duration": 684,
    "start_time": "2021-10-18T17:04:13.955Z"
   },
   {
    "duration": 684,
    "start_time": "2021-10-18T17:04:13.957Z"
   },
   {
    "duration": 683,
    "start_time": "2021-10-18T17:04:13.959Z"
   },
   {
    "duration": 683,
    "start_time": "2021-10-18T17:04:13.960Z"
   },
   {
    "duration": 528,
    "start_time": "2021-10-18T17:05:41.723Z"
   },
   {
    "duration": 316,
    "start_time": "2021-10-18T17:05:51.276Z"
   },
   {
    "duration": 372,
    "start_time": "2021-10-18T17:06:18.249Z"
   },
   {
    "duration": 399,
    "start_time": "2021-10-18T17:06:23.125Z"
   },
   {
    "duration": 355,
    "start_time": "2021-10-18T17:06:27.615Z"
   },
   {
    "duration": 328,
    "start_time": "2021-10-18T17:06:33.980Z"
   },
   {
    "duration": 316,
    "start_time": "2021-10-18T17:06:46.785Z"
   },
   {
    "duration": 398,
    "start_time": "2021-10-18T17:07:18.467Z"
   },
   {
    "duration": 433,
    "start_time": "2021-10-18T17:07:25.138Z"
   },
   {
    "duration": 315,
    "start_time": "2021-10-18T17:07:32.503Z"
   },
   {
    "duration": 312,
    "start_time": "2021-10-18T17:07:58.273Z"
   },
   {
    "duration": 16,
    "start_time": "2021-10-18T17:10:31.101Z"
   },
   {
    "duration": 305,
    "start_time": "2021-10-18T17:10:35.774Z"
   },
   {
    "duration": 16,
    "start_time": "2021-10-18T17:10:51.828Z"
   },
   {
    "duration": 14,
    "start_time": "2021-10-18T17:13:34.173Z"
   },
   {
    "duration": 19,
    "start_time": "2021-10-18T17:13:36.155Z"
   },
   {
    "duration": 6,
    "start_time": "2021-10-18T17:13:49.640Z"
   },
   {
    "duration": 152,
    "start_time": "2021-10-18T17:13:49.649Z"
   },
   {
    "duration": 16,
    "start_time": "2021-10-18T17:13:49.804Z"
   },
   {
    "duration": 8,
    "start_time": "2021-10-18T17:13:49.823Z"
   },
   {
    "duration": 50,
    "start_time": "2021-10-18T17:13:49.835Z"
   },
   {
    "duration": 16,
    "start_time": "2021-10-18T17:13:49.888Z"
   },
   {
    "duration": 69,
    "start_time": "2021-10-18T17:13:49.907Z"
   },
   {
    "duration": 14,
    "start_time": "2021-10-18T17:13:49.982Z"
   },
   {
    "duration": 11,
    "start_time": "2021-10-18T17:13:50.000Z"
   },
   {
    "duration": 51,
    "start_time": "2021-10-18T17:13:50.013Z"
   },
   {
    "duration": 9,
    "start_time": "2021-10-18T17:13:50.067Z"
   },
   {
    "duration": 19,
    "start_time": "2021-10-18T17:13:50.078Z"
   },
   {
    "duration": 162,
    "start_time": "2021-10-18T17:13:50.100Z"
   },
   {
    "duration": 9,
    "start_time": "2021-10-18T17:13:50.265Z"
   },
   {
    "duration": 45,
    "start_time": "2021-10-18T17:13:50.277Z"
   },
   {
    "duration": 41,
    "start_time": "2021-10-18T17:13:50.325Z"
   },
   {
    "duration": 17,
    "start_time": "2021-10-18T17:13:50.369Z"
   },
   {
    "duration": 22,
    "start_time": "2021-10-18T17:13:50.389Z"
   },
   {
    "duration": 48,
    "start_time": "2021-10-18T17:13:50.414Z"
   },
   {
    "duration": 16,
    "start_time": "2021-10-18T17:13:50.464Z"
   },
   {
    "duration": 31,
    "start_time": "2021-10-18T17:13:50.483Z"
   },
   {
    "duration": 1857,
    "start_time": "2021-10-18T17:13:50.517Z"
   },
   {
    "duration": 10,
    "start_time": "2021-10-18T17:13:52.380Z"
   },
   {
    "duration": 6,
    "start_time": "2021-10-18T17:13:52.394Z"
   },
   {
    "duration": 84,
    "start_time": "2021-10-18T17:13:52.402Z"
   },
   {
    "duration": 35,
    "start_time": "2021-10-18T17:13:52.489Z"
   },
   {
    "duration": 49,
    "start_time": "2021-10-18T17:13:52.526Z"
   },
   {
    "duration": 8,
    "start_time": "2021-10-18T17:13:52.578Z"
   },
   {
    "duration": 8,
    "start_time": "2021-10-18T17:13:52.589Z"
   },
   {
    "duration": 26,
    "start_time": "2021-10-18T17:13:52.600Z"
   },
   {
    "duration": 11742,
    "start_time": "2021-10-18T17:13:52.657Z"
   },
   {
    "duration": 582,
    "start_time": "2021-10-18T17:14:03.820Z"
   },
   {
    "duration": 582,
    "start_time": "2021-10-18T17:14:03.822Z"
   },
   {
    "duration": 578,
    "start_time": "2021-10-18T17:14:03.827Z"
   },
   {
    "duration": 577,
    "start_time": "2021-10-18T17:14:03.830Z"
   },
   {
    "duration": 573,
    "start_time": "2021-10-18T17:14:03.835Z"
   },
   {
    "duration": 568,
    "start_time": "2021-10-18T17:14:03.841Z"
   },
   {
    "duration": 567,
    "start_time": "2021-10-18T17:14:03.843Z"
   },
   {
    "duration": 564,
    "start_time": "2021-10-18T17:14:03.848Z"
   },
   {
    "duration": 559,
    "start_time": "2021-10-18T17:14:03.854Z"
   },
   {
    "duration": 546,
    "start_time": "2021-10-18T17:14:03.868Z"
   },
   {
    "duration": 545,
    "start_time": "2021-10-18T17:14:03.871Z"
   },
   {
    "duration": 541,
    "start_time": "2021-10-18T17:14:03.876Z"
   },
   {
    "duration": 536,
    "start_time": "2021-10-18T17:14:03.882Z"
   },
   {
    "duration": 300,
    "start_time": "2021-10-18T17:14:14.294Z"
   },
   {
    "duration": 5,
    "start_time": "2021-10-18T17:14:17.985Z"
   },
   {
    "duration": 126,
    "start_time": "2021-10-18T17:14:17.993Z"
   },
   {
    "duration": 16,
    "start_time": "2021-10-18T17:14:18.122Z"
   },
   {
    "duration": 8,
    "start_time": "2021-10-18T17:14:18.142Z"
   },
   {
    "duration": 42,
    "start_time": "2021-10-18T17:14:18.153Z"
   },
   {
    "duration": 19,
    "start_time": "2021-10-18T17:14:18.198Z"
   },
   {
    "duration": 139,
    "start_time": "2021-10-18T17:14:18.220Z"
   },
   {
    "duration": 13,
    "start_time": "2021-10-18T17:14:18.363Z"
   },
   {
    "duration": 25,
    "start_time": "2021-10-18T17:14:18.379Z"
   },
   {
    "duration": 31,
    "start_time": "2021-10-18T17:14:18.406Z"
   },
   {
    "duration": 27,
    "start_time": "2021-10-18T17:14:18.439Z"
   },
   {
    "duration": 27,
    "start_time": "2021-10-18T17:14:18.469Z"
   },
   {
    "duration": 152,
    "start_time": "2021-10-18T17:14:18.498Z"
   },
   {
    "duration": 10,
    "start_time": "2021-10-18T17:14:18.653Z"
   },
   {
    "duration": 48,
    "start_time": "2021-10-18T17:14:18.666Z"
   },
   {
    "duration": 46,
    "start_time": "2021-10-18T17:14:18.717Z"
   },
   {
    "duration": 16,
    "start_time": "2021-10-18T17:14:18.765Z"
   },
   {
    "duration": 83,
    "start_time": "2021-10-18T17:14:18.783Z"
   },
   {
    "duration": 33,
    "start_time": "2021-10-18T17:14:18.869Z"
   },
   {
    "duration": 55,
    "start_time": "2021-10-18T17:14:18.904Z"
   },
   {
    "duration": 34,
    "start_time": "2021-10-18T17:14:18.961Z"
   },
   {
    "duration": 1900,
    "start_time": "2021-10-18T17:14:18.998Z"
   },
   {
    "duration": 9,
    "start_time": "2021-10-18T17:14:20.903Z"
   },
   {
    "duration": 9,
    "start_time": "2021-10-18T17:14:20.915Z"
   },
   {
    "duration": 74,
    "start_time": "2021-10-18T17:14:20.927Z"
   },
   {
    "duration": 38,
    "start_time": "2021-10-18T17:14:21.004Z"
   },
   {
    "duration": 38,
    "start_time": "2021-10-18T17:14:21.044Z"
   },
   {
    "duration": 20,
    "start_time": "2021-10-18T17:14:21.085Z"
   },
   {
    "duration": 19,
    "start_time": "2021-10-18T17:14:21.107Z"
   },
   {
    "duration": 32,
    "start_time": "2021-10-18T17:14:21.128Z"
   },
   {
    "duration": 316,
    "start_time": "2021-10-18T17:14:21.162Z"
   },
   {
    "duration": 19,
    "start_time": "2021-10-18T17:14:21.480Z"
   },
   {
    "duration": 28,
    "start_time": "2021-10-18T17:14:21.501Z"
   },
   {
    "duration": 61,
    "start_time": "2021-10-18T17:14:21.531Z"
   },
   {
    "duration": 89,
    "start_time": "2021-10-18T17:14:21.594Z"
   },
   {
    "duration": 38,
    "start_time": "2021-10-18T17:14:21.685Z"
   },
   {
    "duration": 591,
    "start_time": "2021-10-18T17:14:21.726Z"
   },
   {
    "duration": 13,
    "start_time": "2021-10-18T17:14:22.319Z"
   },
   {
    "duration": 57,
    "start_time": "2021-10-18T17:14:22.334Z"
   },
   {
    "duration": 701,
    "start_time": "2021-10-18T17:14:22.393Z"
   },
   {
    "duration": 682,
    "start_time": "2021-10-18T17:14:22.415Z"
   },
   {
    "duration": 678,
    "start_time": "2021-10-18T17:14:22.420Z"
   },
   {
    "duration": 678,
    "start_time": "2021-10-18T17:14:22.422Z"
   },
   {
    "duration": 678,
    "start_time": "2021-10-18T17:14:22.424Z"
   },
   {
    "duration": 4,
    "start_time": "2021-10-18T17:16:24.296Z"
   },
   {
    "duration": 5,
    "start_time": "2021-10-18T17:16:26.911Z"
   },
   {
    "duration": 123,
    "start_time": "2021-10-18T17:16:26.919Z"
   },
   {
    "duration": 15,
    "start_time": "2021-10-18T17:16:27.044Z"
   },
   {
    "duration": 19,
    "start_time": "2021-10-18T17:16:27.062Z"
   },
   {
    "duration": 51,
    "start_time": "2021-10-18T17:16:27.083Z"
   },
   {
    "duration": 20,
    "start_time": "2021-10-18T17:16:27.137Z"
   },
   {
    "duration": 43,
    "start_time": "2021-10-18T17:16:27.160Z"
   },
   {
    "duration": 13,
    "start_time": "2021-10-18T17:16:27.206Z"
   },
   {
    "duration": 40,
    "start_time": "2021-10-18T17:16:27.223Z"
   },
   {
    "duration": 16,
    "start_time": "2021-10-18T17:16:27.266Z"
   },
   {
    "duration": 21,
    "start_time": "2021-10-18T17:16:27.284Z"
   },
   {
    "duration": 20,
    "start_time": "2021-10-18T17:16:27.307Z"
   },
   {
    "duration": 166,
    "start_time": "2021-10-18T17:16:27.330Z"
   },
   {
    "duration": 13,
    "start_time": "2021-10-18T17:16:27.498Z"
   },
   {
    "duration": 55,
    "start_time": "2021-10-18T17:16:27.514Z"
   },
   {
    "duration": 34,
    "start_time": "2021-10-18T17:16:27.572Z"
   },
   {
    "duration": 49,
    "start_time": "2021-10-18T17:16:27.609Z"
   },
   {
    "duration": 34,
    "start_time": "2021-10-18T17:16:27.661Z"
   },
   {
    "duration": 10,
    "start_time": "2021-10-18T17:16:27.698Z"
   },
   {
    "duration": 11,
    "start_time": "2021-10-18T17:16:27.711Z"
   },
   {
    "duration": 17,
    "start_time": "2021-10-18T17:16:27.758Z"
   },
   {
    "duration": 1564,
    "start_time": "2021-10-18T17:16:27.777Z"
   },
   {
    "duration": 18,
    "start_time": "2021-10-18T17:16:29.346Z"
   },
   {
    "duration": 16,
    "start_time": "2021-10-18T17:16:29.367Z"
   },
   {
    "duration": 112,
    "start_time": "2021-10-18T17:16:29.385Z"
   },
   {
    "duration": 30,
    "start_time": "2021-10-18T17:16:29.500Z"
   },
   {
    "duration": 46,
    "start_time": "2021-10-18T17:16:29.533Z"
   },
   {
    "duration": 17,
    "start_time": "2021-10-18T17:16:29.582Z"
   },
   {
    "duration": 17,
    "start_time": "2021-10-18T17:16:29.601Z"
   },
   {
    "duration": 31,
    "start_time": "2021-10-18T17:16:29.620Z"
   },
   {
    "duration": 308,
    "start_time": "2021-10-18T17:16:29.653Z"
   },
   {
    "duration": 19,
    "start_time": "2021-10-18T17:16:29.964Z"
   },
   {
    "duration": 354,
    "start_time": "2021-10-18T17:16:29.985Z"
   },
   {
    "duration": 34,
    "start_time": "2021-10-18T17:16:30.342Z"
   },
   {
    "duration": 48,
    "start_time": "2021-10-18T17:16:30.379Z"
   },
   {
    "duration": 113,
    "start_time": "2021-10-18T17:16:30.431Z"
   },
   {
    "duration": 62,
    "start_time": "2021-10-18T17:16:30.547Z"
   },
   {
    "duration": 593,
    "start_time": "2021-10-18T17:16:30.611Z"
   },
   {
    "duration": 12,
    "start_time": "2021-10-18T17:16:31.207Z"
   },
   {
    "duration": 56,
    "start_time": "2021-10-18T17:16:31.222Z"
   },
   {
    "duration": 705,
    "start_time": "2021-10-18T17:16:31.281Z"
   },
   {
    "duration": 680,
    "start_time": "2021-10-18T17:16:31.309Z"
   },
   {
    "duration": 675,
    "start_time": "2021-10-18T17:16:31.315Z"
   },
   {
    "duration": 674,
    "start_time": "2021-10-18T17:16:31.317Z"
   },
   {
    "duration": 671,
    "start_time": "2021-10-18T17:16:31.322Z"
   },
   {
    "duration": 295,
    "start_time": "2021-10-18T17:18:08.665Z"
   },
   {
    "duration": 329,
    "start_time": "2021-10-18T17:18:18.324Z"
   },
   {
    "duration": 145,
    "start_time": "2021-10-18T17:18:21.809Z"
   },
   {
    "duration": 302,
    "start_time": "2021-10-18T17:18:53.048Z"
   },
   {
    "duration": 298,
    "start_time": "2021-10-18T17:19:04.359Z"
   },
   {
    "duration": 315,
    "start_time": "2021-10-18T17:19:12.568Z"
   },
   {
    "duration": 378,
    "start_time": "2021-10-18T17:19:15.758Z"
   },
   {
    "duration": 318,
    "start_time": "2021-10-18T17:19:20.306Z"
   },
   {
    "duration": 291,
    "start_time": "2021-10-18T17:19:28.217Z"
   },
   {
    "duration": 291,
    "start_time": "2021-10-18T17:20:36.955Z"
   },
   {
    "duration": 293,
    "start_time": "2021-10-18T17:20:51.911Z"
   },
   {
    "duration": 375,
    "start_time": "2021-10-18T17:24:57.222Z"
   },
   {
    "duration": 418,
    "start_time": "2021-10-18T17:25:43.610Z"
   },
   {
    "duration": 584,
    "start_time": "2021-10-18T17:25:56.609Z"
   },
   {
    "duration": 523,
    "start_time": "2021-10-18T17:26:04.914Z"
   },
   {
    "duration": 503,
    "start_time": "2021-10-18T17:26:08.164Z"
   },
   {
    "duration": 576,
    "start_time": "2021-10-18T17:26:14.211Z"
   },
   {
    "duration": 616,
    "start_time": "2021-10-18T17:26:21.418Z"
   },
   {
    "duration": 487,
    "start_time": "2021-10-18T17:26:27.570Z"
   },
   {
    "duration": 488,
    "start_time": "2021-10-18T17:26:31.660Z"
   },
   {
    "duration": 448,
    "start_time": "2021-10-18T17:26:38.833Z"
   },
   {
    "duration": 540,
    "start_time": "2021-10-18T17:26:41.926Z"
   },
   {
    "duration": 414,
    "start_time": "2021-10-18T17:26:45.825Z"
   },
   {
    "duration": 446,
    "start_time": "2021-10-18T17:26:48.906Z"
   },
   {
    "duration": 482,
    "start_time": "2021-10-18T17:26:51.642Z"
   },
   {
    "duration": 429,
    "start_time": "2021-10-18T17:26:54.461Z"
   },
   {
    "duration": 637,
    "start_time": "2021-10-18T17:27:49.471Z"
   },
   {
    "duration": 11,
    "start_time": "2021-10-18T17:28:06.328Z"
   },
   {
    "duration": 13,
    "start_time": "2021-10-18T17:28:06.666Z"
   },
   {
    "duration": 584,
    "start_time": "2021-10-18T17:30:45.099Z"
   },
   {
    "duration": 464,
    "start_time": "2021-10-18T17:30:55.910Z"
   },
   {
    "duration": 16,
    "start_time": "2021-10-18T17:33:54.173Z"
   },
   {
    "duration": 296,
    "start_time": "2021-10-18T17:33:58.711Z"
   },
   {
    "duration": 53,
    "start_time": "2021-10-18T17:34:44.852Z"
   },
   {
    "duration": 12,
    "start_time": "2021-10-18T17:36:21.855Z"
   },
   {
    "duration": 754,
    "start_time": "2021-10-19T19:25:31.683Z"
   },
   {
    "duration": 103,
    "start_time": "2021-10-19T19:25:32.439Z"
   },
   {
    "duration": 13,
    "start_time": "2021-10-19T19:25:32.544Z"
   },
   {
    "duration": 9,
    "start_time": "2021-10-19T19:25:32.559Z"
   },
   {
    "duration": 36,
    "start_time": "2021-10-19T19:25:32.570Z"
   },
   {
    "duration": 13,
    "start_time": "2021-10-19T19:25:32.608Z"
   },
   {
    "duration": 45,
    "start_time": "2021-10-19T19:25:32.623Z"
   },
   {
    "duration": 13,
    "start_time": "2021-10-19T19:25:32.671Z"
   },
   {
    "duration": 8,
    "start_time": "2021-10-19T19:25:32.686Z"
   },
   {
    "duration": 12,
    "start_time": "2021-10-19T19:25:32.695Z"
   },
   {
    "duration": 8,
    "start_time": "2021-10-19T19:25:32.709Z"
   },
   {
    "duration": 10,
    "start_time": "2021-10-19T19:25:32.719Z"
   },
   {
    "duration": 126,
    "start_time": "2021-10-19T19:25:32.731Z"
   },
   {
    "duration": 10,
    "start_time": "2021-10-19T19:25:32.864Z"
   },
   {
    "duration": 25,
    "start_time": "2021-10-19T19:25:32.875Z"
   },
   {
    "duration": 18,
    "start_time": "2021-10-19T19:25:32.902Z"
   },
   {
    "duration": 22,
    "start_time": "2021-10-19T19:25:32.922Z"
   },
   {
    "duration": 33,
    "start_time": "2021-10-19T19:25:32.946Z"
   },
   {
    "duration": 9,
    "start_time": "2021-10-19T19:25:32.981Z"
   },
   {
    "duration": 8,
    "start_time": "2021-10-19T19:25:32.991Z"
   },
   {
    "duration": 12,
    "start_time": "2021-10-19T19:25:33.001Z"
   },
   {
    "duration": 636,
    "start_time": "2021-10-19T19:25:33.015Z"
   },
   {
    "duration": 13,
    "start_time": "2021-10-19T19:25:33.654Z"
   },
   {
    "duration": 4,
    "start_time": "2021-10-19T19:25:33.670Z"
   },
   {
    "duration": 90,
    "start_time": "2021-10-19T19:25:33.676Z"
   },
   {
    "duration": 23,
    "start_time": "2021-10-19T19:25:33.768Z"
   },
   {
    "duration": 19,
    "start_time": "2021-10-19T19:25:33.793Z"
   },
   {
    "duration": 4,
    "start_time": "2021-10-19T19:25:33.814Z"
   },
   {
    "duration": 6,
    "start_time": "2021-10-19T19:25:33.819Z"
   },
   {
    "duration": 45,
    "start_time": "2021-10-19T19:25:33.827Z"
   },
   {
    "duration": 211,
    "start_time": "2021-10-19T19:25:33.874Z"
   },
   {
    "duration": 13,
    "start_time": "2021-10-19T19:25:34.087Z"
   },
   {
    "duration": 208,
    "start_time": "2021-10-19T19:25:34.102Z"
   },
   {
    "duration": 14,
    "start_time": "2021-10-19T19:25:34.312Z"
   },
   {
    "duration": 36,
    "start_time": "2021-10-19T19:25:34.328Z"
   },
   {
    "duration": 396,
    "start_time": "2021-10-19T19:25:34.366Z"
   },
   {
    "duration": 32,
    "start_time": "2021-10-19T19:25:34.764Z"
   },
   {
    "duration": 28,
    "start_time": "2021-10-19T19:25:34.798Z"
   },
   {
    "duration": 405,
    "start_time": "2021-10-19T19:25:34.828Z"
   },
   {
    "duration": 10,
    "start_time": "2021-10-19T19:25:35.235Z"
   },
   {
    "duration": 45,
    "start_time": "2021-10-19T19:25:35.247Z"
   },
   {
    "duration": 534,
    "start_time": "2021-10-19T19:25:35.294Z"
   },
   {
    "duration": 7,
    "start_time": "2021-10-19T19:25:35.830Z"
   },
   {
    "duration": 25,
    "start_time": "2021-10-19T19:25:35.839Z"
   },
   {
    "duration": 562,
    "start_time": "2021-10-19T19:25:35.866Z"
   },
   {
    "duration": 6,
    "start_time": "2021-10-19T19:25:36.430Z"
   },
   {
    "duration": 17,
    "start_time": "2021-10-19T19:28:10.714Z"
   },
   {
    "duration": 4,
    "start_time": "2021-10-19T19:32:12.737Z"
   },
   {
    "duration": 130,
    "start_time": "2021-10-19T19:32:12.743Z"
   },
   {
    "duration": 12,
    "start_time": "2021-10-19T19:32:12.876Z"
   },
   {
    "duration": 9,
    "start_time": "2021-10-19T19:32:12.891Z"
   },
   {
    "duration": 30,
    "start_time": "2021-10-19T19:32:12.902Z"
   },
   {
    "duration": 13,
    "start_time": "2021-10-19T19:32:12.933Z"
   },
   {
    "duration": 27,
    "start_time": "2021-10-19T19:32:12.968Z"
   },
   {
    "duration": 10,
    "start_time": "2021-10-19T19:32:12.996Z"
   },
   {
    "duration": 9,
    "start_time": "2021-10-19T19:32:13.009Z"
   },
   {
    "duration": 11,
    "start_time": "2021-10-19T19:32:13.020Z"
   },
   {
    "duration": 33,
    "start_time": "2021-10-19T19:32:13.032Z"
   },
   {
    "duration": 11,
    "start_time": "2021-10-19T19:32:13.068Z"
   },
   {
    "duration": 123,
    "start_time": "2021-10-19T19:32:13.082Z"
   },
   {
    "duration": 7,
    "start_time": "2021-10-19T19:32:13.206Z"
   },
   {
    "duration": 26,
    "start_time": "2021-10-19T19:32:13.215Z"
   },
   {
    "duration": 43,
    "start_time": "2021-10-19T19:32:13.242Z"
   },
   {
    "duration": 13,
    "start_time": "2021-10-19T19:32:13.287Z"
   },
   {
    "duration": 14,
    "start_time": "2021-10-19T19:32:13.301Z"
   },
   {
    "duration": 8,
    "start_time": "2021-10-19T19:32:13.317Z"
   },
   {
    "duration": 7,
    "start_time": "2021-10-19T19:32:13.327Z"
   },
   {
    "duration": 39,
    "start_time": "2021-10-19T19:32:13.336Z"
   },
   {
    "duration": 718,
    "start_time": "2021-10-19T19:32:13.377Z"
   },
   {
    "duration": 8,
    "start_time": "2021-10-19T19:32:14.097Z"
   },
   {
    "duration": 4,
    "start_time": "2021-10-19T19:32:14.107Z"
   },
   {
    "duration": 30,
    "start_time": "2021-10-19T19:32:14.113Z"
   },
   {
    "duration": 48,
    "start_time": "2021-10-19T19:32:14.145Z"
   },
   {
    "duration": 20,
    "start_time": "2021-10-19T19:32:14.196Z"
   },
   {
    "duration": 4,
    "start_time": "2021-10-19T19:32:14.218Z"
   },
   {
    "duration": 6,
    "start_time": "2021-10-19T19:32:14.224Z"
   },
   {
    "duration": 41,
    "start_time": "2021-10-19T19:32:14.231Z"
   },
   {
    "duration": 205,
    "start_time": "2021-10-19T19:32:14.274Z"
   },
   {
    "duration": 13,
    "start_time": "2021-10-19T19:32:14.481Z"
   },
   {
    "duration": 206,
    "start_time": "2021-10-19T19:32:14.495Z"
   },
   {
    "duration": 14,
    "start_time": "2021-10-19T19:32:14.703Z"
   },
   {
    "duration": 21,
    "start_time": "2021-10-19T19:32:14.719Z"
   },
   {
    "duration": 333,
    "start_time": "2021-10-19T19:32:14.742Z"
   },
   {
    "duration": 30,
    "start_time": "2021-10-19T19:32:15.077Z"
   },
   {
    "duration": 31,
    "start_time": "2021-10-19T19:32:15.109Z"
   },
   {
    "duration": 395,
    "start_time": "2021-10-19T19:32:15.141Z"
   },
   {
    "duration": 8,
    "start_time": "2021-10-19T19:32:15.538Z"
   },
   {
    "duration": 40,
    "start_time": "2021-10-19T19:32:15.547Z"
   },
   {
    "duration": 419,
    "start_time": "2021-10-19T19:32:15.588Z"
   },
   {
    "duration": 9,
    "start_time": "2021-10-19T19:32:16.009Z"
   },
   {
    "duration": 8,
    "start_time": "2021-10-19T19:32:16.019Z"
   },
   {
    "duration": 641,
    "start_time": "2021-10-19T19:32:16.029Z"
   },
   {
    "duration": 8,
    "start_time": "2021-10-19T19:32:16.673Z"
   },
   {
    "duration": 374,
    "start_time": "2021-10-20T13:38:56.396Z"
   },
   {
    "duration": 875,
    "start_time": "2021-10-20T13:39:01.262Z"
   },
   {
    "duration": 123,
    "start_time": "2021-10-20T13:39:02.140Z"
   },
   {
    "duration": 14,
    "start_time": "2021-10-20T13:39:02.266Z"
   },
   {
    "duration": 11,
    "start_time": "2021-10-20T13:39:02.283Z"
   },
   {
    "duration": 67,
    "start_time": "2021-10-20T13:39:02.296Z"
   },
   {
    "duration": 17,
    "start_time": "2021-10-20T13:39:02.366Z"
   },
   {
    "duration": 35,
    "start_time": "2021-10-20T13:39:02.386Z"
   },
   {
    "duration": 42,
    "start_time": "2021-10-20T13:39:02.425Z"
   },
   {
    "duration": 10,
    "start_time": "2021-10-20T13:39:02.471Z"
   },
   {
    "duration": 20,
    "start_time": "2021-10-20T13:39:02.484Z"
   },
   {
    "duration": 28,
    "start_time": "2021-10-20T13:39:02.507Z"
   },
   {
    "duration": 10,
    "start_time": "2021-10-20T13:39:02.563Z"
   },
   {
    "duration": 175,
    "start_time": "2021-10-20T13:39:02.576Z"
   },
   {
    "duration": 14,
    "start_time": "2021-10-20T13:39:02.753Z"
   },
   {
    "duration": 33,
    "start_time": "2021-10-20T13:39:02.769Z"
   },
   {
    "duration": 25,
    "start_time": "2021-10-20T13:39:02.804Z"
   },
   {
    "duration": 37,
    "start_time": "2021-10-20T13:39:02.831Z"
   },
   {
    "duration": 19,
    "start_time": "2021-10-20T13:39:02.870Z"
   },
   {
    "duration": 10,
    "start_time": "2021-10-20T13:39:02.891Z"
   },
   {
    "duration": 10,
    "start_time": "2021-10-20T13:39:02.904Z"
   },
   {
    "duration": 53,
    "start_time": "2021-10-20T13:39:02.917Z"
   },
   {
    "duration": 1576,
    "start_time": "2021-10-20T13:39:02.973Z"
   },
   {
    "duration": 9,
    "start_time": "2021-10-20T13:39:04.562Z"
   },
   {
    "duration": 12,
    "start_time": "2021-10-20T13:39:04.574Z"
   },
   {
    "duration": 93,
    "start_time": "2021-10-20T13:39:04.589Z"
   },
   {
    "duration": 32,
    "start_time": "2021-10-20T13:39:04.685Z"
   },
   {
    "duration": 53,
    "start_time": "2021-10-20T13:39:04.720Z"
   },
   {
    "duration": 5,
    "start_time": "2021-10-20T13:39:04.775Z"
   },
   {
    "duration": 9,
    "start_time": "2021-10-20T13:39:04.782Z"
   },
   {
    "duration": 17,
    "start_time": "2021-10-20T13:39:04.793Z"
   },
   {
    "duration": 338,
    "start_time": "2021-10-20T13:39:04.813Z"
   },
   {
    "duration": 22,
    "start_time": "2021-10-20T13:39:05.154Z"
   },
   {
    "duration": 328,
    "start_time": "2021-10-20T13:39:05.179Z"
   },
   {
    "duration": 22,
    "start_time": "2021-10-20T13:39:05.510Z"
   },
   {
    "duration": 56,
    "start_time": "2021-10-20T13:39:05.535Z"
   },
   {
    "duration": 446,
    "start_time": "2021-10-20T13:39:05.594Z"
   },
   {
    "duration": 63,
    "start_time": "2021-10-20T13:39:06.042Z"
   },
   {
    "duration": 54,
    "start_time": "2021-10-20T13:39:06.108Z"
   },
   {
    "duration": 610,
    "start_time": "2021-10-20T13:39:06.164Z"
   },
   {
    "duration": 12,
    "start_time": "2021-10-20T13:39:06.776Z"
   },
   {
    "duration": 36,
    "start_time": "2021-10-20T13:39:06.790Z"
   },
   {
    "duration": 719,
    "start_time": "2021-10-20T13:39:06.829Z"
   },
   {
    "duration": 19,
    "start_time": "2021-10-20T13:39:07.551Z"
   },
   {
    "duration": 10,
    "start_time": "2021-10-20T13:39:07.572Z"
   },
   {
    "duration": 981,
    "start_time": "2021-10-20T13:39:07.585Z"
   },
   {
    "duration": 8,
    "start_time": "2021-10-20T13:39:08.569Z"
   },
   {
    "duration": 479,
    "start_time": "2021-10-20T13:39:43.076Z"
   },
   {
    "duration": 945,
    "start_time": "2021-10-20T14:17:23.042Z"
   },
   {
    "duration": 112,
    "start_time": "2021-10-20T14:17:23.989Z"
   },
   {
    "duration": 24,
    "start_time": "2021-10-20T14:17:24.106Z"
   },
   {
    "duration": 10,
    "start_time": "2021-10-20T14:17:24.134Z"
   },
   {
    "duration": 49,
    "start_time": "2021-10-20T14:17:24.147Z"
   },
   {
    "duration": 17,
    "start_time": "2021-10-20T14:17:24.199Z"
   },
   {
    "duration": 56,
    "start_time": "2021-10-20T14:17:24.218Z"
   },
   {
    "duration": 11,
    "start_time": "2021-10-20T14:17:24.276Z"
   },
   {
    "duration": 8,
    "start_time": "2021-10-20T14:17:24.291Z"
   },
   {
    "duration": 19,
    "start_time": "2021-10-20T14:17:24.302Z"
   },
   {
    "duration": 47,
    "start_time": "2021-10-20T14:17:24.323Z"
   },
   {
    "duration": 15,
    "start_time": "2021-10-20T14:17:24.373Z"
   },
   {
    "duration": 162,
    "start_time": "2021-10-20T14:17:24.391Z"
   },
   {
    "duration": 14,
    "start_time": "2021-10-20T14:17:24.556Z"
   },
   {
    "duration": 33,
    "start_time": "2021-10-20T14:17:24.572Z"
   },
   {
    "duration": 26,
    "start_time": "2021-10-20T14:17:24.607Z"
   },
   {
    "duration": 35,
    "start_time": "2021-10-20T14:17:24.636Z"
   },
   {
    "duration": 21,
    "start_time": "2021-10-20T14:17:24.673Z"
   },
   {
    "duration": 21,
    "start_time": "2021-10-20T14:17:24.696Z"
   },
   {
    "duration": 9,
    "start_time": "2021-10-20T14:17:24.719Z"
   },
   {
    "duration": 47,
    "start_time": "2021-10-20T14:17:24.730Z"
   },
   {
    "duration": 1641,
    "start_time": "2021-10-20T14:17:24.779Z"
   },
   {
    "duration": 9,
    "start_time": "2021-10-20T14:17:26.422Z"
   },
   {
    "duration": 7,
    "start_time": "2021-10-20T14:17:26.433Z"
   },
   {
    "duration": 120,
    "start_time": "2021-10-20T14:17:26.442Z"
   },
   {
    "duration": 32,
    "start_time": "2021-10-20T14:17:26.564Z"
   },
   {
    "duration": 28,
    "start_time": "2021-10-20T14:17:26.602Z"
   },
   {
    "duration": 33,
    "start_time": "2021-10-20T14:17:26.633Z"
   },
   {
    "duration": 6,
    "start_time": "2021-10-20T14:17:26.668Z"
   },
   {
    "duration": 16,
    "start_time": "2021-10-20T14:17:26.677Z"
   },
   {
    "duration": 341,
    "start_time": "2021-10-20T14:17:26.695Z"
   },
   {
    "duration": 31,
    "start_time": "2021-10-20T14:17:27.038Z"
   },
   {
    "duration": 472,
    "start_time": "2021-10-20T14:17:27.073Z"
   },
   {
    "duration": 36,
    "start_time": "2021-10-20T14:17:27.548Z"
   },
   {
    "duration": 61,
    "start_time": "2021-10-20T14:17:27.587Z"
   },
   {
    "duration": 583,
    "start_time": "2021-10-20T14:17:27.663Z"
   },
   {
    "duration": 62,
    "start_time": "2021-10-20T14:17:28.248Z"
   },
   {
    "duration": 54,
    "start_time": "2021-10-20T14:17:28.312Z"
   },
   {
    "duration": 599,
    "start_time": "2021-10-20T14:17:28.368Z"
   },
   {
    "duration": 12,
    "start_time": "2021-10-20T14:17:28.969Z"
   },
   {
    "duration": 49,
    "start_time": "2021-10-20T14:17:28.984Z"
   },
   {
    "duration": 808,
    "start_time": "2021-10-20T14:17:29.036Z"
   },
   {
    "duration": 25,
    "start_time": "2021-10-20T14:17:29.848Z"
   },
   {
    "duration": 22,
    "start_time": "2021-10-20T14:17:29.876Z"
   },
   {
    "duration": 1365,
    "start_time": "2021-10-20T14:17:29.901Z"
   },
   {
    "duration": 11,
    "start_time": "2021-10-20T14:17:31.269Z"
   },
   {
    "duration": 29,
    "start_time": "2021-10-20T14:17:39.952Z"
   },
   {
    "duration": 6,
    "start_time": "2021-10-20T14:17:41.032Z"
   },
   {
    "duration": 5,
    "start_time": "2021-10-20T14:17:42.073Z"
   },
   {
    "duration": 15,
    "start_time": "2021-10-20T14:20:14.488Z"
   },
   {
    "duration": 314,
    "start_time": "2021-10-20T14:20:15.778Z"
   },
   {
    "duration": 418,
    "start_time": "2021-10-20T14:21:56.188Z"
   },
   {
    "duration": 5,
    "start_time": "2021-10-20T14:23:19.188Z"
   },
   {
    "duration": 141,
    "start_time": "2021-10-20T14:23:19.196Z"
   },
   {
    "duration": 15,
    "start_time": "2021-10-20T14:23:19.340Z"
   },
   {
    "duration": 13,
    "start_time": "2021-10-20T14:23:19.359Z"
   },
   {
    "duration": 59,
    "start_time": "2021-10-20T14:23:19.375Z"
   },
   {
    "duration": 41,
    "start_time": "2021-10-20T14:23:19.437Z"
   },
   {
    "duration": 54,
    "start_time": "2021-10-20T14:23:19.481Z"
   },
   {
    "duration": 38,
    "start_time": "2021-10-20T14:23:19.538Z"
   },
   {
    "duration": 10,
    "start_time": "2021-10-20T14:23:19.581Z"
   },
   {
    "duration": 18,
    "start_time": "2021-10-20T14:23:19.594Z"
   },
   {
    "duration": 51,
    "start_time": "2021-10-20T14:23:19.614Z"
   },
   {
    "duration": 12,
    "start_time": "2021-10-20T14:23:19.667Z"
   },
   {
    "duration": 175,
    "start_time": "2021-10-20T14:23:19.682Z"
   },
   {
    "duration": 9,
    "start_time": "2021-10-20T14:23:19.860Z"
   },
   {
    "duration": 35,
    "start_time": "2021-10-20T14:23:19.872Z"
   },
   {
    "duration": 27,
    "start_time": "2021-10-20T14:23:19.909Z"
   },
   {
    "duration": 18,
    "start_time": "2021-10-20T14:23:19.962Z"
   },
   {
    "duration": 20,
    "start_time": "2021-10-20T14:23:19.982Z"
   },
   {
    "duration": 12,
    "start_time": "2021-10-20T14:23:20.005Z"
   },
   {
    "duration": 15,
    "start_time": "2021-10-20T14:23:20.019Z"
   },
   {
    "duration": 21,
    "start_time": "2021-10-20T14:23:20.063Z"
   },
   {
    "duration": 1277,
    "start_time": "2021-10-20T14:23:20.086Z"
   },
   {
    "duration": 10,
    "start_time": "2021-10-20T14:23:21.365Z"
   },
   {
    "duration": 7,
    "start_time": "2021-10-20T14:23:21.377Z"
   },
   {
    "duration": 75,
    "start_time": "2021-10-20T14:23:21.387Z"
   },
   {
    "duration": 34,
    "start_time": "2021-10-20T14:23:21.464Z"
   },
   {
    "duration": 30,
    "start_time": "2021-10-20T14:23:21.503Z"
   },
   {
    "duration": 30,
    "start_time": "2021-10-20T14:23:21.536Z"
   },
   {
    "duration": 8,
    "start_time": "2021-10-20T14:23:21.568Z"
   },
   {
    "duration": 21,
    "start_time": "2021-10-20T14:23:21.578Z"
   },
   {
    "duration": 351,
    "start_time": "2021-10-20T14:23:21.601Z"
   },
   {
    "duration": 23,
    "start_time": "2021-10-20T14:23:21.955Z"
   },
   {
    "duration": 391,
    "start_time": "2021-10-20T14:23:21.980Z"
   },
   {
    "duration": 20,
    "start_time": "2021-10-20T14:23:22.374Z"
   },
   {
    "duration": 33,
    "start_time": "2021-10-20T14:23:22.396Z"
   },
   {
    "duration": 504,
    "start_time": "2021-10-20T14:23:22.432Z"
   },
   {
    "duration": 401,
    "start_time": "2021-10-20T14:23:22.938Z"
   },
   {
    "duration": 46,
    "start_time": "2021-10-20T14:23:23.342Z"
   },
   {
    "duration": 1071,
    "start_time": "2021-10-20T14:23:23.391Z"
   },
   {
    "duration": 14,
    "start_time": "2021-10-20T14:23:24.465Z"
   },
   {
    "duration": 115,
    "start_time": "2021-10-20T14:23:24.482Z"
   },
   {
    "duration": 1051,
    "start_time": "2021-10-20T14:23:24.600Z"
   },
   {
    "duration": 20,
    "start_time": "2021-10-20T14:23:25.654Z"
   },
   {
    "duration": 18,
    "start_time": "2021-10-20T14:23:25.677Z"
   },
   {
    "duration": 1276,
    "start_time": "2021-10-20T14:23:25.698Z"
   },
   {
    "duration": 12,
    "start_time": "2021-10-20T14:23:26.977Z"
   },
   {
    "duration": 344,
    "start_time": "2021-10-20T14:24:25.707Z"
   },
   {
    "duration": 324,
    "start_time": "2021-10-20T14:24:31.808Z"
   },
   {
    "duration": 318,
    "start_time": "2021-10-20T14:24:39.047Z"
   },
   {
    "duration": 352,
    "start_time": "2021-10-20T14:24:52.689Z"
   },
   {
    "duration": 15,
    "start_time": "2021-10-20T14:25:53.853Z"
   },
   {
    "duration": 278,
    "start_time": "2021-10-20T14:25:58.409Z"
   },
   {
    "duration": 22,
    "start_time": "2021-10-20T14:27:09.207Z"
   },
   {
    "duration": 57,
    "start_time": "2021-10-20T14:28:08.370Z"
   },
   {
    "duration": 8,
    "start_time": "2021-10-20T14:28:10.068Z"
   },
   {
    "duration": 7,
    "start_time": "2021-10-20T14:28:11.170Z"
   },
   {
    "duration": 27,
    "start_time": "2021-10-20T14:28:12.100Z"
   },
   {
    "duration": 365,
    "start_time": "2021-10-20T14:28:12.301Z"
   },
   {
    "duration": 20,
    "start_time": "2021-10-20T14:28:14.782Z"
   },
   {
    "duration": 10,
    "start_time": "2021-10-20T14:28:16.661Z"
   },
   {
    "duration": 11,
    "start_time": "2021-10-20T14:31:10.243Z"
   },
   {
    "duration": 460,
    "start_time": "2021-10-20T14:31:10.723Z"
   },
   {
    "duration": 5,
    "start_time": "2021-10-20T14:31:16.124Z"
   },
   {
    "duration": 133,
    "start_time": "2021-10-20T14:31:16.132Z"
   },
   {
    "duration": 21,
    "start_time": "2021-10-20T14:31:16.269Z"
   },
   {
    "duration": 9,
    "start_time": "2021-10-20T14:31:16.292Z"
   },
   {
    "duration": 87,
    "start_time": "2021-10-20T14:31:16.303Z"
   },
   {
    "duration": 17,
    "start_time": "2021-10-20T14:31:16.393Z"
   },
   {
    "duration": 69,
    "start_time": "2021-10-20T14:31:16.413Z"
   },
   {
    "duration": 15,
    "start_time": "2021-10-20T14:31:16.485Z"
   },
   {
    "duration": 10,
    "start_time": "2021-10-20T14:31:16.504Z"
   },
   {
    "duration": 57,
    "start_time": "2021-10-20T14:31:16.517Z"
   },
   {
    "duration": 10,
    "start_time": "2021-10-20T14:31:16.577Z"
   },
   {
    "duration": 16,
    "start_time": "2021-10-20T14:31:16.589Z"
   },
   {
    "duration": 189,
    "start_time": "2021-10-20T14:31:16.608Z"
   },
   {
    "duration": 10,
    "start_time": "2021-10-20T14:31:16.800Z"
   },
   {
    "duration": 57,
    "start_time": "2021-10-20T14:31:16.813Z"
   },
   {
    "duration": 35,
    "start_time": "2021-10-20T14:31:16.873Z"
   },
   {
    "duration": 25,
    "start_time": "2021-10-20T14:31:16.911Z"
   },
   {
    "duration": 30,
    "start_time": "2021-10-20T14:31:16.962Z"
   },
   {
    "duration": 8,
    "start_time": "2021-10-20T14:31:16.995Z"
   },
   {
    "duration": 8,
    "start_time": "2021-10-20T14:31:17.005Z"
   },
   {
    "duration": 55,
    "start_time": "2021-10-20T14:31:17.015Z"
   },
   {
    "duration": 1426,
    "start_time": "2021-10-20T14:31:17.073Z"
   },
   {
    "duration": 63,
    "start_time": "2021-10-20T14:31:18.502Z"
   },
   {
    "duration": 7,
    "start_time": "2021-10-20T14:31:18.569Z"
   },
   {
    "duration": 99,
    "start_time": "2021-10-20T14:31:18.578Z"
   },
   {
    "duration": 82,
    "start_time": "2021-10-20T14:31:18.680Z"
   },
   {
    "duration": 27,
    "start_time": "2021-10-20T14:31:18.769Z"
   },
   {
    "duration": 5,
    "start_time": "2021-10-20T14:31:18.799Z"
   },
   {
    "duration": 61,
    "start_time": "2021-10-20T14:31:18.806Z"
   },
   {
    "duration": 17,
    "start_time": "2021-10-20T14:31:18.870Z"
   },
   {
    "duration": 573,
    "start_time": "2021-10-20T14:31:18.891Z"
   },
   {
    "duration": 23,
    "start_time": "2021-10-20T14:31:19.467Z"
   },
   {
    "duration": 11,
    "start_time": "2021-10-20T14:31:19.492Z"
   },
   {
    "duration": 368,
    "start_time": "2021-10-20T14:31:19.505Z"
   },
   {
    "duration": 21,
    "start_time": "2021-10-20T14:31:19.875Z"
   },
   {
    "duration": 30,
    "start_time": "2021-10-20T14:31:19.898Z"
   },
   {
    "duration": 494,
    "start_time": "2021-10-20T14:31:19.930Z"
   },
   {
    "duration": 399,
    "start_time": "2021-10-20T14:31:20.427Z"
   },
   {
    "duration": 53,
    "start_time": "2021-10-20T14:31:20.828Z"
   },
   {
    "duration": 752,
    "start_time": "2021-10-20T14:31:20.884Z"
   },
   {
    "duration": 26,
    "start_time": "2021-10-20T14:31:21.638Z"
   },
   {
    "duration": 34,
    "start_time": "2021-10-20T14:31:21.667Z"
   },
   {
    "duration": 725,
    "start_time": "2021-10-20T14:31:21.703Z"
   },
   {
    "duration": 12,
    "start_time": "2021-10-20T14:31:22.430Z"
   },
   {
    "duration": 641,
    "start_time": "2021-10-20T14:31:22.463Z"
   },
   {
    "duration": 893,
    "start_time": "2021-10-20T14:31:23.106Z"
   },
   {
    "duration": 9,
    "start_time": "2021-10-20T14:31:24.002Z"
   },
   {
    "duration": 456,
    "start_time": "2021-10-20T14:39:07.429Z"
   },
   {
    "duration": 430,
    "start_time": "2021-10-20T14:39:49.020Z"
   },
   {
    "duration": 6,
    "start_time": "2021-10-20T14:39:53.983Z"
   },
   {
    "duration": 147,
    "start_time": "2021-10-20T14:39:53.992Z"
   },
   {
    "duration": 18,
    "start_time": "2021-10-20T14:39:54.143Z"
   },
   {
    "duration": 8,
    "start_time": "2021-10-20T14:39:54.165Z"
   },
   {
    "duration": 51,
    "start_time": "2021-10-20T14:39:54.176Z"
   },
   {
    "duration": 19,
    "start_time": "2021-10-20T14:39:54.230Z"
   },
   {
    "duration": 61,
    "start_time": "2021-10-20T14:39:54.252Z"
   },
   {
    "duration": 13,
    "start_time": "2021-10-20T14:39:54.315Z"
   },
   {
    "duration": 7,
    "start_time": "2021-10-20T14:39:54.332Z"
   },
   {
    "duration": 42,
    "start_time": "2021-10-20T14:39:54.342Z"
   },
   {
    "duration": 10,
    "start_time": "2021-10-20T14:39:54.387Z"
   },
   {
    "duration": 11,
    "start_time": "2021-10-20T14:39:54.399Z"
   },
   {
    "duration": 184,
    "start_time": "2021-10-20T14:39:54.413Z"
   },
   {
    "duration": 10,
    "start_time": "2021-10-20T14:39:54.599Z"
   },
   {
    "duration": 27,
    "start_time": "2021-10-20T14:39:54.612Z"
   },
   {
    "duration": 61,
    "start_time": "2021-10-20T14:39:54.642Z"
   },
   {
    "duration": 21,
    "start_time": "2021-10-20T14:39:54.705Z"
   },
   {
    "duration": 57,
    "start_time": "2021-10-20T14:39:54.729Z"
   },
   {
    "duration": 9,
    "start_time": "2021-10-20T14:39:54.789Z"
   },
   {
    "duration": 8,
    "start_time": "2021-10-20T14:39:54.801Z"
   },
   {
    "duration": 21,
    "start_time": "2021-10-20T14:39:54.812Z"
   },
   {
    "duration": 2150,
    "start_time": "2021-10-20T14:39:54.836Z"
   },
   {
    "duration": 11,
    "start_time": "2021-10-20T14:39:56.992Z"
   },
   {
    "duration": 6,
    "start_time": "2021-10-20T14:39:57.007Z"
   },
   {
    "duration": 76,
    "start_time": "2021-10-20T14:39:57.015Z"
   },
   {
    "duration": 35,
    "start_time": "2021-10-20T14:39:57.095Z"
   },
   {
    "duration": 25,
    "start_time": "2021-10-20T14:39:57.132Z"
   },
   {
    "duration": 10,
    "start_time": "2021-10-20T14:39:57.183Z"
   },
   {
    "duration": 7,
    "start_time": "2021-10-20T14:39:57.197Z"
   },
   {
    "duration": 15,
    "start_time": "2021-10-20T14:39:57.206Z"
   },
   {
    "duration": 447,
    "start_time": "2021-10-20T14:39:57.224Z"
   },
   {
    "duration": 28,
    "start_time": "2021-10-20T14:39:57.674Z"
   },
   {
    "duration": 9,
    "start_time": "2021-10-20T14:39:57.704Z"
   },
   {
    "duration": 366,
    "start_time": "2021-10-20T14:39:57.715Z"
   },
   {
    "duration": 25,
    "start_time": "2021-10-20T14:39:58.084Z"
   },
   {
    "duration": 32,
    "start_time": "2021-10-20T14:39:58.111Z"
   },
   {
    "duration": 490,
    "start_time": "2021-10-20T14:39:58.145Z"
   },
   {
    "duration": 399,
    "start_time": "2021-10-20T14:39:58.637Z"
   },
   {
    "duration": 318,
    "start_time": "2021-10-20T14:39:59.039Z"
   },
   {
    "duration": 19587,
    "start_time": "2021-10-20T14:39:39.774Z"
   },
   {
    "duration": 19577,
    "start_time": "2021-10-20T14:39:39.786Z"
   },
   {
    "duration": 19567,
    "start_time": "2021-10-20T14:39:39.798Z"
   },
   {
    "duration": 19558,
    "start_time": "2021-10-20T14:39:39.809Z"
   },
   {
    "duration": 19537,
    "start_time": "2021-10-20T14:39:39.832Z"
   },
   {
    "duration": 19527,
    "start_time": "2021-10-20T14:39:39.844Z"
   },
   {
    "duration": 19520,
    "start_time": "2021-10-20T14:39:39.854Z"
   },
   {
    "duration": 19511,
    "start_time": "2021-10-20T14:39:39.865Z"
   },
   {
    "duration": 41,
    "start_time": "2021-10-20T14:40:22.115Z"
   },
   {
    "duration": 79,
    "start_time": "2021-10-20T14:40:42.100Z"
   },
   {
    "duration": 38,
    "start_time": "2021-10-20T14:40:42.740Z"
   },
   {
    "duration": 8,
    "start_time": "2021-10-20T14:40:48.591Z"
   },
   {
    "duration": 133,
    "start_time": "2021-10-20T14:40:48.601Z"
   },
   {
    "duration": 17,
    "start_time": "2021-10-20T14:40:48.737Z"
   },
   {
    "duration": 9,
    "start_time": "2021-10-20T14:40:48.854Z"
   },
   {
    "duration": 53,
    "start_time": "2021-10-20T14:40:48.867Z"
   },
   {
    "duration": 17,
    "start_time": "2021-10-20T14:40:48.923Z"
   },
   {
    "duration": 64,
    "start_time": "2021-10-20T14:40:48.943Z"
   },
   {
    "duration": 14,
    "start_time": "2021-10-20T14:40:49.010Z"
   },
   {
    "duration": 8,
    "start_time": "2021-10-20T14:40:49.027Z"
   },
   {
    "duration": 48,
    "start_time": "2021-10-20T14:40:49.038Z"
   },
   {
    "duration": 11,
    "start_time": "2021-10-20T14:40:49.089Z"
   },
   {
    "duration": 11,
    "start_time": "2021-10-20T14:40:49.104Z"
   },
   {
    "duration": 183,
    "start_time": "2021-10-20T14:40:49.118Z"
   },
   {
    "duration": 9,
    "start_time": "2021-10-20T14:40:49.304Z"
   },
   {
    "duration": 31,
    "start_time": "2021-10-20T14:40:49.316Z"
   },
   {
    "duration": 53,
    "start_time": "2021-10-20T14:40:49.349Z"
   },
   {
    "duration": 18,
    "start_time": "2021-10-20T14:40:49.404Z"
   },
   {
    "duration": 21,
    "start_time": "2021-10-20T14:40:49.425Z"
   },
   {
    "duration": 40,
    "start_time": "2021-10-20T14:40:49.448Z"
   },
   {
    "duration": 10,
    "start_time": "2021-10-20T14:40:49.492Z"
   },
   {
    "duration": 16,
    "start_time": "2021-10-20T14:40:49.505Z"
   },
   {
    "duration": 1609,
    "start_time": "2021-10-20T14:40:49.524Z"
   },
   {
    "duration": 13,
    "start_time": "2021-10-20T14:40:51.183Z"
   },
   {
    "duration": 15,
    "start_time": "2021-10-20T14:40:51.198Z"
   },
   {
    "duration": 90,
    "start_time": "2021-10-20T14:40:51.216Z"
   },
   {
    "duration": 91,
    "start_time": "2021-10-20T14:40:51.309Z"
   },
   {
    "duration": 26,
    "start_time": "2021-10-20T14:40:51.403Z"
   },
   {
    "duration": 6,
    "start_time": "2021-10-20T14:40:51.432Z"
   },
   {
    "duration": 5,
    "start_time": "2021-10-20T14:40:51.441Z"
   },
   {
    "duration": 21,
    "start_time": "2021-10-20T14:40:51.492Z"
   },
   {
    "duration": 388,
    "start_time": "2021-10-20T14:40:51.516Z"
   },
   {
    "duration": 19,
    "start_time": "2021-10-20T14:40:51.906Z"
   },
   {
    "duration": 16,
    "start_time": "2021-10-20T14:40:51.927Z"
   },
   {
    "duration": 358,
    "start_time": "2021-10-20T14:40:51.945Z"
   },
   {
    "duration": 20,
    "start_time": "2021-10-20T14:40:52.306Z"
   },
   {
    "duration": 58,
    "start_time": "2021-10-20T14:40:52.328Z"
   },
   {
    "duration": 481,
    "start_time": "2021-10-20T14:40:52.389Z"
   },
   {
    "duration": 160,
    "start_time": "2021-10-20T14:40:52.873Z"
   },
   {
    "duration": 49,
    "start_time": "2021-10-20T14:40:53.035Z"
   },
   {
    "duration": 631,
    "start_time": "2021-10-20T14:40:53.088Z"
   },
   {
    "duration": 13,
    "start_time": "2021-10-20T14:40:53.722Z"
   },
   {
    "duration": 69,
    "start_time": "2021-10-20T14:40:53.738Z"
   },
   {
    "duration": 708,
    "start_time": "2021-10-20T14:40:53.809Z"
   },
   {
    "duration": 10,
    "start_time": "2021-10-20T14:40:54.520Z"
   },
   {
    "duration": 24,
    "start_time": "2021-10-20T14:40:54.533Z"
   },
   {
    "duration": 928,
    "start_time": "2021-10-20T14:40:54.559Z"
   },
   {
    "duration": 8,
    "start_time": "2021-10-20T14:40:55.490Z"
   },
   {
    "duration": 41,
    "start_time": "2021-10-20T14:41:30.947Z"
   },
   {
    "duration": 38,
    "start_time": "2021-10-20T14:41:33.788Z"
   },
   {
    "duration": 55,
    "start_time": "2021-10-20T14:44:49.592Z"
   },
   {
    "duration": 755,
    "start_time": "2021-10-20T18:42:17.157Z"
   },
   {
    "duration": 111,
    "start_time": "2021-10-20T18:42:17.914Z"
   },
   {
    "duration": 13,
    "start_time": "2021-10-20T18:42:18.027Z"
   },
   {
    "duration": 15,
    "start_time": "2021-10-20T18:42:18.042Z"
   },
   {
    "duration": 28,
    "start_time": "2021-10-20T18:42:18.061Z"
   },
   {
    "duration": 11,
    "start_time": "2021-10-20T18:42:18.090Z"
   },
   {
    "duration": 52,
    "start_time": "2021-10-20T18:42:18.103Z"
   },
   {
    "duration": 10,
    "start_time": "2021-10-20T18:42:18.159Z"
   },
   {
    "duration": 7,
    "start_time": "2021-10-20T18:42:18.171Z"
   },
   {
    "duration": 11,
    "start_time": "2021-10-20T18:42:18.179Z"
   },
   {
    "duration": 7,
    "start_time": "2021-10-20T18:42:18.191Z"
   },
   {
    "duration": 46,
    "start_time": "2021-10-20T18:42:18.200Z"
   },
   {
    "duration": 110,
    "start_time": "2021-10-20T18:42:18.250Z"
   },
   {
    "duration": 10,
    "start_time": "2021-10-20T18:42:18.362Z"
   },
   {
    "duration": 18,
    "start_time": "2021-10-20T18:42:18.374Z"
   },
   {
    "duration": 17,
    "start_time": "2021-10-20T18:42:18.393Z"
   },
   {
    "duration": 39,
    "start_time": "2021-10-20T18:42:18.412Z"
   },
   {
    "duration": 19,
    "start_time": "2021-10-20T18:42:18.453Z"
   },
   {
    "duration": 9,
    "start_time": "2021-10-20T18:42:18.473Z"
   },
   {
    "duration": 8,
    "start_time": "2021-10-20T18:42:18.483Z"
   },
   {
    "duration": 11,
    "start_time": "2021-10-20T18:42:18.493Z"
   },
   {
    "duration": 755,
    "start_time": "2021-10-20T18:42:18.505Z"
   },
   {
    "duration": 8,
    "start_time": "2021-10-20T18:42:19.264Z"
   },
   {
    "duration": 5,
    "start_time": "2021-10-20T18:42:19.274Z"
   },
   {
    "duration": 167,
    "start_time": "2021-10-20T18:42:19.281Z"
   },
   {
    "duration": 29,
    "start_time": "2021-10-20T18:42:19.450Z"
   },
   {
    "duration": 71,
    "start_time": "2021-10-20T18:42:19.481Z"
   },
   {
    "duration": 5,
    "start_time": "2021-10-20T18:42:19.554Z"
   },
   {
    "duration": 5,
    "start_time": "2021-10-20T18:42:19.561Z"
   },
   {
    "duration": 10,
    "start_time": "2021-10-20T18:42:19.568Z"
   },
   {
    "duration": 422,
    "start_time": "2021-10-20T18:42:19.580Z"
   },
   {
    "duration": 12,
    "start_time": "2021-10-20T18:42:20.004Z"
   },
   {
    "duration": 9,
    "start_time": "2021-10-20T18:42:20.018Z"
   },
   {
    "duration": 219,
    "start_time": "2021-10-20T18:42:20.028Z"
   },
   {
    "duration": 15,
    "start_time": "2021-10-20T18:42:20.249Z"
   },
   {
    "duration": 24,
    "start_time": "2021-10-20T18:42:20.266Z"
   },
   {
    "duration": 300,
    "start_time": "2021-10-20T18:42:20.292Z"
   },
   {
    "duration": 32,
    "start_time": "2021-10-20T18:42:20.594Z"
   },
   {
    "duration": 41,
    "start_time": "2021-10-20T18:42:20.627Z"
   },
   {
    "duration": 386,
    "start_time": "2021-10-20T18:42:20.670Z"
   },
   {
    "duration": 10,
    "start_time": "2021-10-20T18:42:21.059Z"
   },
   {
    "duration": 28,
    "start_time": "2021-10-20T18:42:21.070Z"
   },
   {
    "duration": 431,
    "start_time": "2021-10-20T18:42:21.099Z"
   },
   {
    "duration": 15,
    "start_time": "2021-10-20T18:42:21.531Z"
   },
   {
    "duration": 12,
    "start_time": "2021-10-20T18:42:21.549Z"
   },
   {
    "duration": 622,
    "start_time": "2021-10-20T18:42:21.564Z"
   },
   {
    "duration": 6,
    "start_time": "2021-10-20T18:42:22.188Z"
   },
   {
    "duration": 4,
    "start_time": "2021-10-20T18:52:12.039Z"
   },
   {
    "duration": 108,
    "start_time": "2021-10-20T18:52:12.045Z"
   },
   {
    "duration": 12,
    "start_time": "2021-10-20T18:52:12.156Z"
   },
   {
    "duration": 5,
    "start_time": "2021-10-20T18:52:12.170Z"
   },
   {
    "duration": 30,
    "start_time": "2021-10-20T18:52:12.176Z"
   },
   {
    "duration": 11,
    "start_time": "2021-10-20T18:52:12.207Z"
   },
   {
    "duration": 21,
    "start_time": "2021-10-20T18:52:12.219Z"
   },
   {
    "duration": 16,
    "start_time": "2021-10-20T18:52:12.241Z"
   },
   {
    "duration": 8,
    "start_time": "2021-10-20T18:52:12.262Z"
   },
   {
    "duration": 15,
    "start_time": "2021-10-20T18:52:12.272Z"
   },
   {
    "duration": 6,
    "start_time": "2021-10-20T18:52:12.288Z"
   },
   {
    "duration": 12,
    "start_time": "2021-10-20T18:52:12.296Z"
   },
   {
    "duration": 102,
    "start_time": "2021-10-20T18:52:12.309Z"
   },
   {
    "duration": 7,
    "start_time": "2021-10-20T18:52:12.412Z"
   },
   {
    "duration": 17,
    "start_time": "2021-10-20T18:52:12.421Z"
   },
   {
    "duration": 26,
    "start_time": "2021-10-20T18:52:12.439Z"
   },
   {
    "duration": 11,
    "start_time": "2021-10-20T18:52:12.467Z"
   },
   {
    "duration": 13,
    "start_time": "2021-10-20T18:52:12.480Z"
   },
   {
    "duration": 11,
    "start_time": "2021-10-20T18:52:12.494Z"
   },
   {
    "duration": 6,
    "start_time": "2021-10-20T18:52:12.507Z"
   },
   {
    "duration": 13,
    "start_time": "2021-10-20T18:52:12.514Z"
   },
   {
    "duration": 1066,
    "start_time": "2021-10-20T18:52:12.528Z"
   },
   {
    "duration": 8,
    "start_time": "2021-10-20T18:52:13.595Z"
   },
   {
    "duration": 4,
    "start_time": "2021-10-20T18:52:13.604Z"
   },
   {
    "duration": 42,
    "start_time": "2021-10-20T18:52:13.609Z"
   },
   {
    "duration": 27,
    "start_time": "2021-10-20T18:52:13.652Z"
   },
   {
    "duration": 12,
    "start_time": "2021-10-20T18:52:13.683Z"
   },
   {
    "duration": 3,
    "start_time": "2021-10-20T18:52:13.697Z"
   },
   {
    "duration": 4,
    "start_time": "2021-10-20T18:52:13.702Z"
   },
   {
    "duration": 14,
    "start_time": "2021-10-20T18:52:13.708Z"
   },
   {
    "duration": 203,
    "start_time": "2021-10-20T18:52:13.745Z"
   },
   {
    "duration": 16,
    "start_time": "2021-10-20T18:52:13.950Z"
   },
   {
    "duration": 5,
    "start_time": "2021-10-20T18:52:13.968Z"
   },
   {
    "duration": 202,
    "start_time": "2021-10-20T18:52:13.975Z"
   },
   {
    "duration": 13,
    "start_time": "2021-10-20T18:52:14.180Z"
   },
   {
    "duration": 23,
    "start_time": "2021-10-20T18:52:14.196Z"
   },
   {
    "duration": 295,
    "start_time": "2021-10-20T18:52:14.221Z"
   },
   {
    "duration": 44,
    "start_time": "2021-10-20T18:52:14.518Z"
   },
   {
    "duration": 24,
    "start_time": "2021-10-20T18:52:14.564Z"
   },
   {
    "duration": 380,
    "start_time": "2021-10-20T18:52:14.590Z"
   },
   {
    "duration": 8,
    "start_time": "2021-10-20T18:52:14.972Z"
   },
   {
    "duration": 23,
    "start_time": "2021-10-20T18:52:14.981Z"
   },
   {
    "duration": 412,
    "start_time": "2021-10-20T18:52:15.005Z"
   },
   {
    "duration": 7,
    "start_time": "2021-10-20T18:52:15.419Z"
   },
   {
    "duration": 20,
    "start_time": "2021-10-20T18:52:15.428Z"
   },
   {
    "duration": 678,
    "start_time": "2021-10-20T18:52:15.451Z"
   },
   {
    "duration": 6,
    "start_time": "2021-10-20T18:52:16.130Z"
   },
   {
    "duration": 22,
    "start_time": "2021-10-20T18:53:12.388Z"
   },
   {
    "duration": 29,
    "start_time": "2021-10-20T18:53:14.337Z"
   },
   {
    "duration": 4,
    "start_time": "2021-10-20T18:53:34.934Z"
   },
   {
    "duration": 101,
    "start_time": "2021-10-20T18:53:34.940Z"
   },
   {
    "duration": 21,
    "start_time": "2021-10-20T18:53:35.043Z"
   },
   {
    "duration": 6,
    "start_time": "2021-10-20T18:53:35.066Z"
   },
   {
    "duration": 31,
    "start_time": "2021-10-20T18:53:35.074Z"
   },
   {
    "duration": 11,
    "start_time": "2021-10-20T18:53:35.107Z"
   },
   {
    "duration": 49,
    "start_time": "2021-10-20T18:53:35.119Z"
   },
   {
    "duration": 10,
    "start_time": "2021-10-20T18:53:35.171Z"
   },
   {
    "duration": 10,
    "start_time": "2021-10-20T18:53:35.182Z"
   },
   {
    "duration": 11,
    "start_time": "2021-10-20T18:53:35.194Z"
   },
   {
    "duration": 9,
    "start_time": "2021-10-20T18:53:35.206Z"
   },
   {
    "duration": 30,
    "start_time": "2021-10-20T18:53:35.216Z"
   },
   {
    "duration": 99,
    "start_time": "2021-10-20T18:53:35.249Z"
   },
   {
    "duration": 12,
    "start_time": "2021-10-20T18:53:35.350Z"
   },
   {
    "duration": 21,
    "start_time": "2021-10-20T18:53:35.364Z"
   },
   {
    "duration": 18,
    "start_time": "2021-10-20T18:53:35.387Z"
   },
   {
    "duration": 42,
    "start_time": "2021-10-20T18:53:35.406Z"
   },
   {
    "duration": 17,
    "start_time": "2021-10-20T18:53:35.452Z"
   },
   {
    "duration": 19,
    "start_time": "2021-10-20T18:53:35.471Z"
   },
   {
    "duration": 9,
    "start_time": "2021-10-20T18:53:35.492Z"
   },
   {
    "duration": 19,
    "start_time": "2021-10-20T18:53:35.502Z"
   },
   {
    "duration": 615,
    "start_time": "2021-10-20T18:53:35.523Z"
   },
   {
    "duration": 10,
    "start_time": "2021-10-20T18:53:36.141Z"
   },
   {
    "duration": 6,
    "start_time": "2021-10-20T18:53:36.154Z"
   },
   {
    "duration": 34,
    "start_time": "2021-10-20T18:53:36.162Z"
   },
   {
    "duration": 54,
    "start_time": "2021-10-20T18:53:36.198Z"
   },
   {
    "duration": 14,
    "start_time": "2021-10-20T18:53:36.254Z"
   },
   {
    "duration": 7,
    "start_time": "2021-10-20T18:53:36.270Z"
   },
   {
    "duration": 6,
    "start_time": "2021-10-20T18:53:36.278Z"
   },
   {
    "duration": 17,
    "start_time": "2021-10-20T18:53:36.286Z"
   },
   {
    "duration": 219,
    "start_time": "2021-10-20T18:53:36.304Z"
   },
   {
    "duration": 23,
    "start_time": "2021-10-20T18:53:36.524Z"
   },
   {
    "duration": 11,
    "start_time": "2021-10-20T18:53:36.549Z"
   },
   {
    "duration": 224,
    "start_time": "2021-10-20T18:53:36.562Z"
   },
   {
    "duration": 64,
    "start_time": "2021-10-20T18:53:36.787Z"
   },
   {
    "duration": 21,
    "start_time": "2021-10-20T18:53:36.853Z"
   },
   {
    "duration": 483,
    "start_time": "2021-10-20T18:53:36.876Z"
   },
   {
    "duration": 33,
    "start_time": "2021-10-20T18:53:37.361Z"
   },
   {
    "duration": 22,
    "start_time": "2021-10-20T18:53:37.396Z"
   },
   {
    "duration": 383,
    "start_time": "2021-10-20T18:53:37.419Z"
   },
   {
    "duration": 9,
    "start_time": "2021-10-20T18:53:37.804Z"
   },
   {
    "duration": 39,
    "start_time": "2021-10-20T18:53:37.814Z"
   },
   {
    "duration": 465,
    "start_time": "2021-10-20T18:53:37.857Z"
   },
   {
    "duration": 7,
    "start_time": "2021-10-20T18:53:38.324Z"
   },
   {
    "duration": 19,
    "start_time": "2021-10-20T18:53:38.332Z"
   },
   {
    "duration": 529,
    "start_time": "2021-10-20T18:53:38.354Z"
   },
   {
    "duration": 5,
    "start_time": "2021-10-20T18:53:38.885Z"
   },
   {
    "duration": 4,
    "start_time": "2021-10-20T18:53:54.965Z"
   },
   {
    "duration": 97,
    "start_time": "2021-10-20T18:53:54.971Z"
   },
   {
    "duration": 11,
    "start_time": "2021-10-20T18:53:55.070Z"
   },
   {
    "duration": 5,
    "start_time": "2021-10-20T18:53:55.083Z"
   },
   {
    "duration": 25,
    "start_time": "2021-10-20T18:53:55.090Z"
   },
   {
    "duration": 11,
    "start_time": "2021-10-20T18:53:55.116Z"
   },
   {
    "duration": 39,
    "start_time": "2021-10-20T18:53:55.128Z"
   },
   {
    "duration": 9,
    "start_time": "2021-10-20T18:53:55.169Z"
   },
   {
    "duration": 6,
    "start_time": "2021-10-20T18:53:55.180Z"
   },
   {
    "duration": 12,
    "start_time": "2021-10-20T18:53:55.187Z"
   },
   {
    "duration": 6,
    "start_time": "2021-10-20T18:53:55.200Z"
   },
   {
    "duration": 37,
    "start_time": "2021-10-20T18:53:55.207Z"
   },
   {
    "duration": 101,
    "start_time": "2021-10-20T18:53:55.247Z"
   },
   {
    "duration": 8,
    "start_time": "2021-10-20T18:53:55.350Z"
   },
   {
    "duration": 27,
    "start_time": "2021-10-20T18:53:55.359Z"
   },
   {
    "duration": 16,
    "start_time": "2021-10-20T18:53:55.388Z"
   },
   {
    "duration": 12,
    "start_time": "2021-10-20T18:53:55.405Z"
   },
   {
    "duration": 32,
    "start_time": "2021-10-20T18:53:55.419Z"
   },
   {
    "duration": 8,
    "start_time": "2021-10-20T18:53:55.454Z"
   },
   {
    "duration": 7,
    "start_time": "2021-10-20T18:53:55.463Z"
   },
   {
    "duration": 12,
    "start_time": "2021-10-20T18:53:55.471Z"
   },
   {
    "duration": 631,
    "start_time": "2021-10-20T18:53:55.485Z"
   },
   {
    "duration": 8,
    "start_time": "2021-10-20T18:53:56.120Z"
   },
   {
    "duration": 19,
    "start_time": "2021-10-20T18:53:56.130Z"
   },
   {
    "duration": 38,
    "start_time": "2021-10-20T18:53:56.152Z"
   },
   {
    "duration": 22,
    "start_time": "2021-10-20T18:53:56.192Z"
   },
   {
    "duration": 13,
    "start_time": "2021-10-20T18:53:56.216Z"
   },
   {
    "duration": 9,
    "start_time": "2021-10-20T18:53:56.245Z"
   },
   {
    "duration": 5,
    "start_time": "2021-10-20T18:53:56.257Z"
   },
   {
    "duration": 11,
    "start_time": "2021-10-20T18:53:56.264Z"
   },
   {
    "duration": 222,
    "start_time": "2021-10-20T18:53:56.276Z"
   },
   {
    "duration": 14,
    "start_time": "2021-10-20T18:53:56.499Z"
   },
   {
    "duration": 11,
    "start_time": "2021-10-20T18:53:56.515Z"
   },
   {
    "duration": 205,
    "start_time": "2021-10-20T18:53:56.528Z"
   },
   {
    "duration": 26,
    "start_time": "2021-10-20T18:53:56.735Z"
   },
   {
    "duration": 22,
    "start_time": "2021-10-20T18:53:56.763Z"
   },
   {
    "duration": 364,
    "start_time": "2021-10-20T18:53:56.787Z"
   },
   {
    "duration": 36,
    "start_time": "2021-10-20T18:53:57.154Z"
   },
   {
    "duration": 28,
    "start_time": "2021-10-20T18:53:57.192Z"
   },
   {
    "duration": 378,
    "start_time": "2021-10-20T18:53:57.221Z"
   },
   {
    "duration": 7,
    "start_time": "2021-10-20T18:53:57.601Z"
   },
   {
    "duration": 35,
    "start_time": "2021-10-20T18:53:57.609Z"
   },
   {
    "duration": 382,
    "start_time": "2021-10-20T18:53:57.647Z"
   },
   {
    "duration": 15,
    "start_time": "2021-10-20T18:53:58.030Z"
   },
   {
    "duration": 17,
    "start_time": "2021-10-20T18:53:58.047Z"
   },
   {
    "duration": 566,
    "start_time": "2021-10-20T18:53:58.066Z"
   },
   {
    "duration": 11,
    "start_time": "2021-10-20T18:53:58.634Z"
   },
   {
    "duration": 28,
    "start_time": "2021-10-20T18:57:22.598Z"
   },
   {
    "duration": 4,
    "start_time": "2021-10-20T18:57:25.212Z"
   },
   {
    "duration": 103,
    "start_time": "2021-10-20T18:57:25.217Z"
   },
   {
    "duration": 12,
    "start_time": "2021-10-20T18:57:25.323Z"
   },
   {
    "duration": 5,
    "start_time": "2021-10-20T18:57:25.337Z"
   },
   {
    "duration": 31,
    "start_time": "2021-10-20T18:57:25.344Z"
   },
   {
    "duration": 10,
    "start_time": "2021-10-20T18:57:25.377Z"
   },
   {
    "duration": 21,
    "start_time": "2021-10-20T18:57:25.390Z"
   },
   {
    "duration": 35,
    "start_time": "2021-10-20T18:57:25.413Z"
   },
   {
    "duration": 11,
    "start_time": "2021-10-20T18:57:25.450Z"
   },
   {
    "duration": 19,
    "start_time": "2021-10-20T18:57:25.462Z"
   },
   {
    "duration": 10,
    "start_time": "2021-10-20T18:57:25.483Z"
   },
   {
    "duration": 11,
    "start_time": "2021-10-20T18:57:25.495Z"
   },
   {
    "duration": 109,
    "start_time": "2021-10-20T18:57:25.508Z"
   },
   {
    "duration": 7,
    "start_time": "2021-10-20T18:57:25.618Z"
   },
   {
    "duration": 29,
    "start_time": "2021-10-20T18:57:25.627Z"
   },
   {
    "duration": 23,
    "start_time": "2021-10-20T18:57:25.658Z"
   },
   {
    "duration": 11,
    "start_time": "2021-10-20T18:57:25.682Z"
   },
   {
    "duration": 15,
    "start_time": "2021-10-20T18:57:25.694Z"
   },
   {
    "duration": 9,
    "start_time": "2021-10-20T18:57:25.711Z"
   },
   {
    "duration": 28,
    "start_time": "2021-10-20T18:57:25.722Z"
   },
   {
    "duration": 20,
    "start_time": "2021-10-20T18:57:25.751Z"
   },
   {
    "duration": 992,
    "start_time": "2021-10-20T18:57:25.773Z"
   },
   {
    "duration": 7,
    "start_time": "2021-10-20T18:57:26.767Z"
   },
   {
    "duration": 4,
    "start_time": "2021-10-20T18:57:26.776Z"
   },
   {
    "duration": 96,
    "start_time": "2021-10-20T18:57:26.782Z"
   },
   {
    "duration": 24,
    "start_time": "2021-10-20T18:57:26.880Z"
   },
   {
    "duration": 11,
    "start_time": "2021-10-20T18:57:26.906Z"
   },
   {
    "duration": 27,
    "start_time": "2021-10-20T18:57:26.919Z"
   },
   {
    "duration": 13,
    "start_time": "2021-10-20T18:57:26.949Z"
   },
   {
    "duration": 12,
    "start_time": "2021-10-20T18:57:26.964Z"
   },
   {
    "duration": 222,
    "start_time": "2021-10-20T18:57:26.977Z"
   },
   {
    "duration": 12,
    "start_time": "2021-10-20T18:57:27.201Z"
   },
   {
    "duration": 8,
    "start_time": "2021-10-20T18:57:27.215Z"
   },
   {
    "duration": 213,
    "start_time": "2021-10-20T18:57:27.225Z"
   },
   {
    "duration": 21,
    "start_time": "2021-10-20T18:57:27.440Z"
   },
   {
    "duration": 21,
    "start_time": "2021-10-20T18:57:27.463Z"
   },
   {
    "duration": 315,
    "start_time": "2021-10-20T18:57:27.485Z"
   },
   {
    "duration": 32,
    "start_time": "2021-10-20T18:57:27.802Z"
   },
   {
    "duration": 38,
    "start_time": "2021-10-20T18:57:27.836Z"
   },
   {
    "duration": 351,
    "start_time": "2021-10-20T18:57:27.875Z"
   },
   {
    "duration": 35,
    "start_time": "2021-10-20T18:57:28.227Z"
   },
   {
    "duration": 393,
    "start_time": "2021-10-20T18:57:28.264Z"
   },
   {
    "duration": 7,
    "start_time": "2021-10-20T18:57:28.659Z"
   },
   {
    "duration": 26,
    "start_time": "2021-10-20T18:57:28.668Z"
   },
   {
    "duration": 556,
    "start_time": "2021-10-20T18:57:28.696Z"
   },
   {
    "duration": 8,
    "start_time": "2021-10-20T18:57:29.254Z"
   },
   {
    "duration": 5,
    "start_time": "2021-10-20T18:57:55.352Z"
   },
   {
    "duration": 4,
    "start_time": "2021-10-20T18:58:02.016Z"
   },
   {
    "duration": 3,
    "start_time": "2021-10-20T18:58:05.914Z"
   },
   {
    "duration": 391,
    "start_time": "2021-10-20T18:58:34.506Z"
   },
   {
    "duration": 31,
    "start_time": "2021-10-20T18:58:41.834Z"
   },
   {
    "duration": 3,
    "start_time": "2021-10-20T18:58:48.111Z"
   },
   {
    "duration": 113,
    "start_time": "2021-10-20T18:58:48.116Z"
   },
   {
    "duration": 13,
    "start_time": "2021-10-20T18:58:48.231Z"
   },
   {
    "duration": 10,
    "start_time": "2021-10-20T18:58:48.247Z"
   },
   {
    "duration": 31,
    "start_time": "2021-10-20T18:58:48.259Z"
   },
   {
    "duration": 10,
    "start_time": "2021-10-20T18:58:48.292Z"
   },
   {
    "duration": 21,
    "start_time": "2021-10-20T18:58:48.304Z"
   },
   {
    "duration": 15,
    "start_time": "2021-10-20T18:58:48.344Z"
   },
   {
    "duration": 6,
    "start_time": "2021-10-20T18:58:48.361Z"
   },
   {
    "duration": 13,
    "start_time": "2021-10-20T18:58:48.369Z"
   },
   {
    "duration": 18,
    "start_time": "2021-10-20T18:58:48.384Z"
   },
   {
    "duration": 21,
    "start_time": "2021-10-20T18:58:48.404Z"
   },
   {
    "duration": 105,
    "start_time": "2021-10-20T18:58:48.426Z"
   },
   {
    "duration": 13,
    "start_time": "2021-10-20T18:58:48.533Z"
   },
   {
    "duration": 35,
    "start_time": "2021-10-20T18:58:48.549Z"
   },
   {
    "duration": 28,
    "start_time": "2021-10-20T18:58:48.585Z"
   },
   {
    "duration": 12,
    "start_time": "2021-10-20T18:58:48.615Z"
   },
   {
    "duration": 31,
    "start_time": "2021-10-20T18:58:48.628Z"
   },
   {
    "duration": 4,
    "start_time": "2021-10-20T18:58:48.663Z"
   },
   {
    "duration": 21,
    "start_time": "2021-10-20T18:58:48.669Z"
   },
   {
    "duration": 13,
    "start_time": "2021-10-20T18:58:48.692Z"
   },
   {
    "duration": 688,
    "start_time": "2021-10-20T18:58:48.707Z"
   },
   {
    "duration": 7,
    "start_time": "2021-10-20T18:58:49.397Z"
   },
   {
    "duration": 13,
    "start_time": "2021-10-20T18:58:49.405Z"
   },
   {
    "duration": 47,
    "start_time": "2021-10-20T18:58:49.419Z"
   },
   {
    "duration": 22,
    "start_time": "2021-10-20T18:58:49.468Z"
   },
   {
    "duration": 12,
    "start_time": "2021-10-20T18:58:49.492Z"
   },
   {
    "duration": 5,
    "start_time": "2021-10-20T18:58:49.545Z"
   },
   {
    "duration": 15,
    "start_time": "2021-10-20T18:58:49.552Z"
   },
   {
    "duration": 16,
    "start_time": "2021-10-20T18:58:49.569Z"
   },
   {
    "duration": 465,
    "start_time": "2021-10-20T18:58:49.587Z"
   },
   {
    "duration": 15,
    "start_time": "2021-10-20T18:58:50.055Z"
   },
   {
    "duration": 16,
    "start_time": "2021-10-20T18:58:50.072Z"
   },
   {
    "duration": 209,
    "start_time": "2021-10-20T18:58:50.090Z"
   },
   {
    "duration": 13,
    "start_time": "2021-10-20T18:58:50.301Z"
   },
   {
    "duration": 37,
    "start_time": "2021-10-20T18:58:50.316Z"
   },
   {
    "duration": 278,
    "start_time": "2021-10-20T18:58:50.356Z"
   },
   {
    "duration": 43,
    "start_time": "2021-10-20T18:58:50.636Z"
   },
   {
    "duration": 22,
    "start_time": "2021-10-20T18:58:50.681Z"
   },
   {
    "duration": 383,
    "start_time": "2021-10-20T18:58:50.705Z"
   },
   {
    "duration": 22,
    "start_time": "2021-10-20T18:58:51.090Z"
   },
   {
    "duration": 431,
    "start_time": "2021-10-20T18:58:51.113Z"
   },
   {
    "duration": 9,
    "start_time": "2021-10-20T18:58:51.546Z"
   },
   {
    "duration": 12,
    "start_time": "2021-10-20T18:58:51.557Z"
   },
   {
    "duration": 651,
    "start_time": "2021-10-20T18:58:51.571Z"
   },
   {
    "duration": 6,
    "start_time": "2021-10-20T18:58:52.223Z"
   },
   {
    "duration": 23,
    "start_time": "2021-10-20T18:58:54.916Z"
   },
   {
    "duration": 24,
    "start_time": "2021-10-20T18:58:58.896Z"
   },
   {
    "duration": 33,
    "start_time": "2021-10-20T18:59:02.350Z"
   },
   {
    "duration": 25,
    "start_time": "2021-10-20T18:59:05.075Z"
   },
   {
    "duration": 30,
    "start_time": "2021-10-20T18:59:09.737Z"
   },
   {
    "duration": 3,
    "start_time": "2021-10-20T18:59:11.621Z"
   },
   {
    "duration": 116,
    "start_time": "2021-10-20T18:59:11.626Z"
   },
   {
    "duration": 20,
    "start_time": "2021-10-20T18:59:11.744Z"
   },
   {
    "duration": 9,
    "start_time": "2021-10-20T18:59:11.766Z"
   },
   {
    "duration": 44,
    "start_time": "2021-10-20T18:59:11.776Z"
   },
   {
    "duration": 12,
    "start_time": "2021-10-20T18:59:11.821Z"
   },
   {
    "duration": 35,
    "start_time": "2021-10-20T18:59:11.836Z"
   },
   {
    "duration": 13,
    "start_time": "2021-10-20T18:59:11.873Z"
   },
   {
    "duration": 15,
    "start_time": "2021-10-20T18:59:11.887Z"
   },
   {
    "duration": 17,
    "start_time": "2021-10-20T18:59:11.903Z"
   },
   {
    "duration": 13,
    "start_time": "2021-10-20T18:59:11.922Z"
   },
   {
    "duration": 26,
    "start_time": "2021-10-20T18:59:11.937Z"
   },
   {
    "duration": 94,
    "start_time": "2021-10-20T18:59:11.965Z"
   },
   {
    "duration": 8,
    "start_time": "2021-10-20T18:59:12.061Z"
   },
   {
    "duration": 37,
    "start_time": "2021-10-20T18:59:12.071Z"
   },
   {
    "duration": 26,
    "start_time": "2021-10-20T18:59:12.111Z"
   },
   {
    "duration": 16,
    "start_time": "2021-10-20T18:59:12.138Z"
   },
   {
    "duration": 17,
    "start_time": "2021-10-20T18:59:12.157Z"
   },
   {
    "duration": 14,
    "start_time": "2021-10-20T18:59:12.177Z"
   },
   {
    "duration": 14,
    "start_time": "2021-10-20T18:59:12.193Z"
   },
   {
    "duration": 22,
    "start_time": "2021-10-20T18:59:12.209Z"
   },
   {
    "duration": 1148,
    "start_time": "2021-10-20T18:59:12.232Z"
   },
   {
    "duration": 6,
    "start_time": "2021-10-20T18:59:13.382Z"
   },
   {
    "duration": 21,
    "start_time": "2021-10-20T18:59:13.390Z"
   },
   {
    "duration": 66,
    "start_time": "2021-10-20T18:59:13.413Z"
   },
   {
    "duration": 20,
    "start_time": "2021-10-20T18:59:13.480Z"
   },
   {
    "duration": 28,
    "start_time": "2021-10-20T18:59:13.502Z"
   },
   {
    "duration": 36,
    "start_time": "2021-10-20T18:59:13.531Z"
   },
   {
    "duration": 26,
    "start_time": "2021-10-20T18:59:13.568Z"
   },
   {
    "duration": 25,
    "start_time": "2021-10-20T18:59:13.596Z"
   },
   {
    "duration": 243,
    "start_time": "2021-10-20T18:59:13.622Z"
   },
   {
    "duration": 13,
    "start_time": "2021-10-20T18:59:13.867Z"
   },
   {
    "duration": 27,
    "start_time": "2021-10-20T18:59:13.881Z"
   },
   {
    "duration": 194,
    "start_time": "2021-10-20T18:59:13.910Z"
   },
   {
    "duration": 14,
    "start_time": "2021-10-20T18:59:14.106Z"
   },
   {
    "duration": 37,
    "start_time": "2021-10-20T18:59:14.121Z"
   },
   {
    "duration": 268,
    "start_time": "2021-10-20T18:59:14.160Z"
   },
   {
    "duration": 46,
    "start_time": "2021-10-20T18:59:14.430Z"
   },
   {
    "duration": 28,
    "start_time": "2021-10-20T18:59:14.478Z"
   },
   {
    "duration": 370,
    "start_time": "2021-10-20T18:59:14.508Z"
   },
   {
    "duration": 20,
    "start_time": "2021-10-20T18:59:14.880Z"
   },
   {
    "duration": 470,
    "start_time": "2021-10-20T18:59:14.902Z"
   },
   {
    "duration": 8,
    "start_time": "2021-10-20T18:59:15.373Z"
   },
   {
    "duration": 10,
    "start_time": "2021-10-20T18:59:15.383Z"
   },
   {
    "duration": 573,
    "start_time": "2021-10-20T18:59:15.395Z"
   },
   {
    "duration": 6,
    "start_time": "2021-10-20T18:59:15.970Z"
   },
   {
    "duration": 15,
    "start_time": "2021-10-20T19:02:53.558Z"
   },
   {
    "duration": 14,
    "start_time": "2021-10-20T19:02:55.770Z"
   },
   {
    "duration": 14,
    "start_time": "2021-10-20T19:02:57.770Z"
   },
   {
    "duration": 3,
    "start_time": "2021-10-20T19:03:16.536Z"
   },
   {
    "duration": 117,
    "start_time": "2021-10-20T19:03:16.540Z"
   },
   {
    "duration": 12,
    "start_time": "2021-10-20T19:03:16.658Z"
   },
   {
    "duration": 8,
    "start_time": "2021-10-20T19:03:16.672Z"
   },
   {
    "duration": 30,
    "start_time": "2021-10-20T19:03:16.682Z"
   },
   {
    "duration": 12,
    "start_time": "2021-10-20T19:03:16.714Z"
   },
   {
    "duration": 34,
    "start_time": "2021-10-20T19:03:16.728Z"
   },
   {
    "duration": 16,
    "start_time": "2021-10-20T19:03:16.765Z"
   },
   {
    "duration": 10,
    "start_time": "2021-10-20T19:03:16.783Z"
   },
   {
    "duration": 18,
    "start_time": "2021-10-20T19:03:16.795Z"
   },
   {
    "duration": 15,
    "start_time": "2021-10-20T19:03:16.815Z"
   },
   {
    "duration": 26,
    "start_time": "2021-10-20T19:03:16.831Z"
   },
   {
    "duration": 106,
    "start_time": "2021-10-20T19:03:16.858Z"
   },
   {
    "duration": 8,
    "start_time": "2021-10-20T19:03:16.965Z"
   },
   {
    "duration": 32,
    "start_time": "2021-10-20T19:03:16.974Z"
   },
   {
    "duration": 29,
    "start_time": "2021-10-20T19:03:17.008Z"
   },
   {
    "duration": 16,
    "start_time": "2021-10-20T19:03:17.038Z"
   },
   {
    "duration": 22,
    "start_time": "2021-10-20T19:03:17.056Z"
   },
   {
    "duration": 19,
    "start_time": "2021-10-20T19:03:17.081Z"
   },
   {
    "duration": 25,
    "start_time": "2021-10-20T19:03:17.101Z"
   },
   {
    "duration": 14,
    "start_time": "2021-10-20T19:03:17.128Z"
   },
   {
    "duration": 584,
    "start_time": "2021-10-20T19:03:17.144Z"
   },
   {
    "duration": 17,
    "start_time": "2021-10-20T19:03:17.730Z"
   },
   {
    "duration": 10,
    "start_time": "2021-10-20T19:03:17.748Z"
   },
   {
    "duration": 51,
    "start_time": "2021-10-20T19:03:17.760Z"
   },
   {
    "duration": 20,
    "start_time": "2021-10-20T19:03:17.813Z"
   },
   {
    "duration": 14,
    "start_time": "2021-10-20T19:03:17.835Z"
   },
   {
    "duration": 11,
    "start_time": "2021-10-20T19:03:17.851Z"
   },
   {
    "duration": 17,
    "start_time": "2021-10-20T19:03:17.864Z"
   },
   {
    "duration": 21,
    "start_time": "2021-10-20T19:03:17.882Z"
   },
   {
    "duration": 555,
    "start_time": "2021-10-20T19:03:17.904Z"
   },
   {
    "duration": 18,
    "start_time": "2021-10-20T19:03:18.461Z"
   },
   {
    "duration": 13,
    "start_time": "2021-10-20T19:03:18.481Z"
   },
   {
    "duration": 243,
    "start_time": "2021-10-20T19:03:18.545Z"
   },
   {
    "duration": 14,
    "start_time": "2021-10-20T19:03:18.790Z"
   },
   {
    "duration": 39,
    "start_time": "2021-10-20T19:03:18.805Z"
   },
   {
    "duration": 258,
    "start_time": "2021-10-20T19:03:18.846Z"
   },
   {
    "duration": 100,
    "start_time": "2021-10-20T19:03:19.106Z"
   },
   {
    "duration": 26,
    "start_time": "2021-10-20T19:03:19.208Z"
   },
   {
    "duration": 348,
    "start_time": "2021-10-20T19:03:19.244Z"
   },
   {
    "duration": 23,
    "start_time": "2021-10-20T19:03:19.593Z"
   },
   {
    "duration": 377,
    "start_time": "2021-10-20T19:03:19.617Z"
   },
   {
    "duration": 8,
    "start_time": "2021-10-20T19:03:19.996Z"
   },
   {
    "duration": 10,
    "start_time": "2021-10-20T19:03:20.006Z"
   },
   {
    "duration": 525,
    "start_time": "2021-10-20T19:03:20.018Z"
   },
   {
    "duration": 6,
    "start_time": "2021-10-20T19:03:20.545Z"
   },
   {
    "duration": 4,
    "start_time": "2021-10-20T19:04:16.532Z"
   },
   {
    "duration": 104,
    "start_time": "2021-10-20T19:04:16.538Z"
   },
   {
    "duration": 19,
    "start_time": "2021-10-20T19:04:16.645Z"
   },
   {
    "duration": 9,
    "start_time": "2021-10-20T19:04:16.666Z"
   },
   {
    "duration": 38,
    "start_time": "2021-10-20T19:04:16.676Z"
   },
   {
    "duration": 11,
    "start_time": "2021-10-20T19:04:16.716Z"
   },
   {
    "duration": 24,
    "start_time": "2021-10-20T19:04:16.745Z"
   },
   {
    "duration": 10,
    "start_time": "2021-10-20T19:04:16.773Z"
   },
   {
    "duration": 7,
    "start_time": "2021-10-20T19:04:16.785Z"
   },
   {
    "duration": 11,
    "start_time": "2021-10-20T19:04:16.794Z"
   },
   {
    "duration": 44,
    "start_time": "2021-10-20T19:04:16.807Z"
   },
   {
    "duration": 32,
    "start_time": "2021-10-20T19:04:16.853Z"
   },
   {
    "duration": 149,
    "start_time": "2021-10-20T19:04:16.887Z"
   },
   {
    "duration": 9,
    "start_time": "2021-10-20T19:04:17.038Z"
   },
   {
    "duration": 46,
    "start_time": "2021-10-20T19:04:17.049Z"
   },
   {
    "duration": 21,
    "start_time": "2021-10-20T19:04:17.097Z"
   },
   {
    "duration": 13,
    "start_time": "2021-10-20T19:04:17.120Z"
   },
   {
    "duration": 24,
    "start_time": "2021-10-20T19:04:17.134Z"
   },
   {
    "duration": 8,
    "start_time": "2021-10-20T19:04:17.160Z"
   },
   {
    "duration": 7,
    "start_time": "2021-10-20T19:04:17.170Z"
   },
   {
    "duration": 18,
    "start_time": "2021-10-20T19:04:17.179Z"
   },
   {
    "duration": 1446,
    "start_time": "2021-10-20T19:04:17.199Z"
   },
   {
    "duration": 9,
    "start_time": "2021-10-20T19:04:18.650Z"
   },
   {
    "duration": 5,
    "start_time": "2021-10-20T19:04:18.662Z"
   },
   {
    "duration": 49,
    "start_time": "2021-10-20T19:04:18.669Z"
   },
   {
    "duration": 54,
    "start_time": "2021-10-20T19:04:18.720Z"
   },
   {
    "duration": 12,
    "start_time": "2021-10-20T19:04:18.777Z"
   },
   {
    "duration": 4,
    "start_time": "2021-10-20T19:04:18.791Z"
   },
   {
    "duration": 7,
    "start_time": "2021-10-20T19:04:18.796Z"
   },
   {
    "duration": 42,
    "start_time": "2021-10-20T19:04:18.804Z"
   },
   {
    "duration": 200,
    "start_time": "2021-10-20T19:04:18.847Z"
   },
   {
    "duration": 16,
    "start_time": "2021-10-20T19:04:19.049Z"
   },
   {
    "duration": 377,
    "start_time": "2021-10-20T19:04:19.067Z"
   },
   {
    "duration": 13,
    "start_time": "2021-10-20T19:04:19.446Z"
   },
   {
    "duration": 28,
    "start_time": "2021-10-20T19:04:19.461Z"
   },
   {
    "duration": 286,
    "start_time": "2021-10-20T19:04:19.491Z"
   },
   {
    "duration": 34,
    "start_time": "2021-10-20T19:04:19.779Z"
   },
   {
    "duration": 38,
    "start_time": "2021-10-20T19:04:19.815Z"
   },
   {
    "duration": 359,
    "start_time": "2021-10-20T19:04:19.855Z"
   },
   {
    "duration": 29,
    "start_time": "2021-10-20T19:04:20.216Z"
   },
   {
    "duration": 397,
    "start_time": "2021-10-20T19:04:20.247Z"
   },
   {
    "duration": 8,
    "start_time": "2021-10-20T19:04:20.646Z"
   },
   {
    "duration": 14,
    "start_time": "2021-10-20T19:04:20.656Z"
   },
   {
    "duration": 559,
    "start_time": "2021-10-20T19:04:20.671Z"
   },
   {
    "duration": 6,
    "start_time": "2021-10-20T19:04:21.232Z"
   },
   {
    "duration": 902,
    "start_time": "2021-10-20T19:04:34.054Z"
   },
   {
    "duration": 120,
    "start_time": "2021-10-20T19:04:34.959Z"
   },
   {
    "duration": 10,
    "start_time": "2021-10-20T19:04:35.081Z"
   },
   {
    "duration": 10,
    "start_time": "2021-10-20T19:04:35.093Z"
   },
   {
    "duration": 31,
    "start_time": "2021-10-20T19:04:35.104Z"
   },
   {
    "duration": 13,
    "start_time": "2021-10-20T19:04:35.136Z"
   },
   {
    "duration": 21,
    "start_time": "2021-10-20T19:04:35.150Z"
   },
   {
    "duration": 8,
    "start_time": "2021-10-20T19:04:35.173Z"
   },
   {
    "duration": 6,
    "start_time": "2021-10-20T19:04:35.183Z"
   },
   {
    "duration": 12,
    "start_time": "2021-10-20T19:04:35.190Z"
   },
   {
    "duration": 6,
    "start_time": "2021-10-20T19:04:35.204Z"
   },
   {
    "duration": 38,
    "start_time": "2021-10-20T19:04:35.212Z"
   },
   {
    "duration": 93,
    "start_time": "2021-10-20T19:04:35.252Z"
   },
   {
    "duration": 7,
    "start_time": "2021-10-20T19:04:35.347Z"
   },
   {
    "duration": 29,
    "start_time": "2021-10-20T19:04:35.355Z"
   },
   {
    "duration": 25,
    "start_time": "2021-10-20T19:04:35.385Z"
   },
   {
    "duration": 17,
    "start_time": "2021-10-20T19:04:35.412Z"
   },
   {
    "duration": 23,
    "start_time": "2021-10-20T19:04:35.430Z"
   },
   {
    "duration": 10,
    "start_time": "2021-10-20T19:04:35.455Z"
   },
   {
    "duration": 25,
    "start_time": "2021-10-20T19:04:35.466Z"
   },
   {
    "duration": 26,
    "start_time": "2021-10-20T19:04:35.493Z"
   },
   {
    "duration": 602,
    "start_time": "2021-10-20T19:04:35.521Z"
   },
   {
    "duration": 17,
    "start_time": "2021-10-20T19:04:36.127Z"
   },
   {
    "duration": 5,
    "start_time": "2021-10-20T19:04:36.146Z"
   },
   {
    "duration": 69,
    "start_time": "2021-10-20T19:04:36.153Z"
   },
   {
    "duration": 38,
    "start_time": "2021-10-20T19:04:36.224Z"
   },
   {
    "duration": 15,
    "start_time": "2021-10-20T19:04:36.263Z"
   },
   {
    "duration": 4,
    "start_time": "2021-10-20T19:04:36.280Z"
   },
   {
    "duration": 6,
    "start_time": "2021-10-20T19:04:36.286Z"
   },
   {
    "duration": 13,
    "start_time": "2021-10-20T19:04:36.294Z"
   },
   {
    "duration": 231,
    "start_time": "2021-10-20T19:04:36.309Z"
   },
   {
    "duration": 13,
    "start_time": "2021-10-20T19:04:36.545Z"
   },
   {
    "duration": 202,
    "start_time": "2021-10-20T19:04:36.560Z"
   },
   {
    "duration": 13,
    "start_time": "2021-10-20T19:04:36.765Z"
   },
   {
    "duration": 20,
    "start_time": "2021-10-20T19:04:36.779Z"
   },
   {
    "duration": 280,
    "start_time": "2021-10-20T19:04:36.800Z"
   },
   {
    "duration": 32,
    "start_time": "2021-10-20T19:04:37.081Z"
   },
   {
    "duration": 36,
    "start_time": "2021-10-20T19:04:37.115Z"
   },
   {
    "duration": 362,
    "start_time": "2021-10-20T19:04:37.153Z"
   },
   {
    "duration": 32,
    "start_time": "2021-10-20T19:04:37.517Z"
   },
   {
    "duration": 381,
    "start_time": "2021-10-20T19:04:37.551Z"
   },
   {
    "duration": 14,
    "start_time": "2021-10-20T19:04:37.934Z"
   },
   {
    "duration": 11,
    "start_time": "2021-10-20T19:04:37.950Z"
   },
   {
    "duration": 540,
    "start_time": "2021-10-20T19:04:37.962Z"
   },
   {
    "duration": 6,
    "start_time": "2021-10-20T19:04:38.504Z"
   },
   {
    "duration": 34,
    "start_time": "2021-10-20T19:05:40.539Z"
   },
   {
    "duration": 31,
    "start_time": "2021-10-20T19:05:42.437Z"
   },
   {
    "duration": 5,
    "start_time": "2021-10-20T19:05:44.388Z"
   },
   {
    "duration": 129,
    "start_time": "2021-10-20T19:05:44.395Z"
   },
   {
    "duration": 16,
    "start_time": "2021-10-20T19:05:44.527Z"
   },
   {
    "duration": 25,
    "start_time": "2021-10-20T19:05:44.545Z"
   },
   {
    "duration": 55,
    "start_time": "2021-10-20T19:05:44.572Z"
   },
   {
    "duration": 20,
    "start_time": "2021-10-20T19:05:44.629Z"
   },
   {
    "duration": 43,
    "start_time": "2021-10-20T19:05:44.652Z"
   },
   {
    "duration": 14,
    "start_time": "2021-10-20T19:05:44.698Z"
   },
   {
    "duration": 32,
    "start_time": "2021-10-20T19:05:44.714Z"
   },
   {
    "duration": 38,
    "start_time": "2021-10-20T19:05:44.748Z"
   },
   {
    "duration": 32,
    "start_time": "2021-10-20T19:05:44.788Z"
   },
   {
    "duration": 38,
    "start_time": "2021-10-20T19:05:44.821Z"
   },
   {
    "duration": 97,
    "start_time": "2021-10-20T19:05:44.861Z"
   },
   {
    "duration": 7,
    "start_time": "2021-10-20T19:05:44.959Z"
   },
   {
    "duration": 29,
    "start_time": "2021-10-20T19:05:44.968Z"
   },
   {
    "duration": 17,
    "start_time": "2021-10-20T19:05:44.999Z"
   },
   {
    "duration": 27,
    "start_time": "2021-10-20T19:05:45.017Z"
   },
   {
    "duration": 16,
    "start_time": "2021-10-20T19:05:45.046Z"
   },
   {
    "duration": 20,
    "start_time": "2021-10-20T19:05:45.064Z"
   },
   {
    "duration": 10,
    "start_time": "2021-10-20T19:05:45.085Z"
   },
   {
    "duration": 16,
    "start_time": "2021-10-20T19:05:45.096Z"
   },
   {
    "duration": 646,
    "start_time": "2021-10-20T19:05:45.114Z"
   },
   {
    "duration": 7,
    "start_time": "2021-10-20T19:05:45.765Z"
   },
   {
    "duration": 15,
    "start_time": "2021-10-20T19:05:45.774Z"
   },
   {
    "duration": 38,
    "start_time": "2021-10-20T19:05:45.790Z"
   },
   {
    "duration": 25,
    "start_time": "2021-10-20T19:05:45.830Z"
   },
   {
    "duration": 13,
    "start_time": "2021-10-20T19:05:45.856Z"
   },
   {
    "duration": 5,
    "start_time": "2021-10-20T19:05:45.871Z"
   },
   {
    "duration": 8,
    "start_time": "2021-10-20T19:05:45.877Z"
   },
   {
    "duration": 21,
    "start_time": "2021-10-20T19:05:45.887Z"
   },
   {
    "duration": 216,
    "start_time": "2021-10-20T19:05:45.910Z"
   },
   {
    "duration": 23,
    "start_time": "2021-10-20T19:05:46.128Z"
   },
   {
    "duration": 205,
    "start_time": "2021-10-20T19:05:46.153Z"
   },
   {
    "duration": 13,
    "start_time": "2021-10-20T19:05:46.360Z"
   },
   {
    "duration": 19,
    "start_time": "2021-10-20T19:05:46.375Z"
   },
   {
    "duration": 281,
    "start_time": "2021-10-20T19:05:46.396Z"
   },
   {
    "duration": 35,
    "start_time": "2021-10-20T19:05:46.679Z"
   },
   {
    "duration": 38,
    "start_time": "2021-10-20T19:05:46.716Z"
   },
   {
    "duration": 359,
    "start_time": "2021-10-20T19:05:46.756Z"
   },
   {
    "duration": 33,
    "start_time": "2021-10-20T19:05:47.117Z"
   },
   {
    "duration": 595,
    "start_time": "2021-10-20T19:05:47.152Z"
   },
   {
    "duration": 10,
    "start_time": "2021-10-20T19:05:47.749Z"
   },
   {
    "duration": 25,
    "start_time": "2021-10-20T19:05:47.761Z"
   },
   {
    "duration": 839,
    "start_time": "2021-10-20T19:05:47.788Z"
   },
   {
    "duration": 7,
    "start_time": "2021-10-20T19:05:48.629Z"
   },
   {
    "duration": 34,
    "start_time": "2021-10-20T19:06:19.579Z"
   },
   {
    "duration": 24,
    "start_time": "2021-10-20T19:06:20.103Z"
   },
   {
    "duration": 442,
    "start_time": "2021-10-20T19:06:21.494Z"
   },
   {
    "duration": 33,
    "start_time": "2021-10-20T19:06:22.704Z"
   },
   {
    "duration": 4,
    "start_time": "2021-10-20T19:06:25.157Z"
   },
   {
    "duration": 127,
    "start_time": "2021-10-20T19:06:25.163Z"
   },
   {
    "duration": 16,
    "start_time": "2021-10-20T19:06:25.294Z"
   },
   {
    "duration": 12,
    "start_time": "2021-10-20T19:06:25.313Z"
   },
   {
    "duration": 43,
    "start_time": "2021-10-20T19:06:25.328Z"
   },
   {
    "duration": 17,
    "start_time": "2021-10-20T19:06:25.372Z"
   },
   {
    "duration": 34,
    "start_time": "2021-10-20T19:06:25.392Z"
   },
   {
    "duration": 24,
    "start_time": "2021-10-20T19:06:25.430Z"
   },
   {
    "duration": 7,
    "start_time": "2021-10-20T19:06:25.457Z"
   },
   {
    "duration": 19,
    "start_time": "2021-10-20T19:06:25.465Z"
   },
   {
    "duration": 9,
    "start_time": "2021-10-20T19:06:25.486Z"
   },
   {
    "duration": 10,
    "start_time": "2021-10-20T19:06:25.497Z"
   },
   {
    "duration": 180,
    "start_time": "2021-10-20T19:06:25.510Z"
   },
   {
    "duration": 10,
    "start_time": "2021-10-20T19:06:25.692Z"
   },
   {
    "duration": 42,
    "start_time": "2021-10-20T19:06:25.704Z"
   },
   {
    "duration": 135,
    "start_time": "2021-10-20T19:06:25.748Z"
   },
   {
    "duration": 19,
    "start_time": "2021-10-20T19:06:25.885Z"
   },
   {
    "duration": 36,
    "start_time": "2021-10-20T19:06:25.906Z"
   },
   {
    "duration": 11,
    "start_time": "2021-10-20T19:06:25.945Z"
   },
   {
    "duration": 9,
    "start_time": "2021-10-20T19:06:25.959Z"
   },
   {
    "duration": 20,
    "start_time": "2021-10-20T19:06:25.970Z"
   },
   {
    "duration": 1074,
    "start_time": "2021-10-20T19:06:25.992Z"
   },
   {
    "duration": 10,
    "start_time": "2021-10-20T19:06:27.071Z"
   },
   {
    "duration": 6,
    "start_time": "2021-10-20T19:06:27.084Z"
   },
   {
    "duration": 52,
    "start_time": "2021-10-20T19:06:27.092Z"
   },
   {
    "duration": 23,
    "start_time": "2021-10-20T19:06:27.146Z"
   },
   {
    "duration": 14,
    "start_time": "2021-10-20T19:06:27.171Z"
   },
   {
    "duration": 5,
    "start_time": "2021-10-20T19:06:27.187Z"
   },
   {
    "duration": 5,
    "start_time": "2021-10-20T19:06:27.194Z"
   },
   {
    "duration": 58,
    "start_time": "2021-10-20T19:06:27.201Z"
   },
   {
    "duration": 340,
    "start_time": "2021-10-20T19:06:27.261Z"
   },
   {
    "duration": 15,
    "start_time": "2021-10-20T19:06:27.603Z"
   },
   {
    "duration": 350,
    "start_time": "2021-10-20T19:06:27.620Z"
   },
   {
    "duration": 20,
    "start_time": "2021-10-20T19:06:27.972Z"
   },
   {
    "duration": 26,
    "start_time": "2021-10-20T19:06:27.994Z"
   },
   {
    "duration": 375,
    "start_time": "2021-10-20T19:06:28.022Z"
   },
   {
    "duration": 46,
    "start_time": "2021-10-20T19:06:28.399Z"
   },
   {
    "duration": 39,
    "start_time": "2021-10-20T19:06:28.447Z"
   },
   {
    "duration": 652,
    "start_time": "2021-10-20T19:06:28.488Z"
   },
   {
    "duration": 36,
    "start_time": "2021-10-20T19:06:29.145Z"
   },
   {
    "duration": 615,
    "start_time": "2021-10-20T19:06:29.184Z"
   },
   {
    "duration": 11,
    "start_time": "2021-10-20T19:06:29.801Z"
   },
   {
    "duration": 30,
    "start_time": "2021-10-20T19:06:29.814Z"
   },
   {
    "duration": 717,
    "start_time": "2021-10-20T19:06:29.847Z"
   },
   {
    "duration": 9,
    "start_time": "2021-10-20T19:06:30.567Z"
   },
   {
    "duration": 776,
    "start_time": "2021-12-13T08:11:48.923Z"
   },
   {
    "duration": 94,
    "start_time": "2021-12-13T08:11:49.700Z"
   },
   {
    "duration": 11,
    "start_time": "2021-12-13T08:11:49.796Z"
   },
   {
    "duration": 5,
    "start_time": "2021-12-13T08:11:49.809Z"
   },
   {
    "duration": 26,
    "start_time": "2021-12-13T08:11:49.815Z"
   },
   {
    "duration": 11,
    "start_time": "2021-12-13T08:11:49.842Z"
   },
   {
    "duration": 40,
    "start_time": "2021-12-13T08:11:49.855Z"
   },
   {
    "duration": 8,
    "start_time": "2021-12-13T08:11:49.897Z"
   },
   {
    "duration": 11,
    "start_time": "2021-12-13T08:11:49.907Z"
   },
   {
    "duration": 11,
    "start_time": "2021-12-13T08:11:49.919Z"
   },
   {
    "duration": 10,
    "start_time": "2021-12-13T08:11:49.931Z"
   },
   {
    "duration": 8,
    "start_time": "2021-12-13T08:11:49.942Z"
   },
   {
    "duration": 102,
    "start_time": "2021-12-13T08:11:49.952Z"
   },
   {
    "duration": 8,
    "start_time": "2021-12-13T08:11:50.055Z"
   },
   {
    "duration": 16,
    "start_time": "2021-12-13T08:11:50.087Z"
   },
   {
    "duration": 15,
    "start_time": "2021-12-13T08:11:50.105Z"
   },
   {
    "duration": 66,
    "start_time": "2021-12-13T08:11:50.122Z"
   },
   {
    "duration": 14,
    "start_time": "2021-12-13T08:11:50.189Z"
   },
   {
    "duration": 5,
    "start_time": "2021-12-13T08:11:50.204Z"
   },
   {
    "duration": 11,
    "start_time": "2021-12-13T08:11:50.211Z"
   },
   {
    "duration": 20,
    "start_time": "2021-12-13T08:11:50.223Z"
   },
   {
    "duration": 676,
    "start_time": "2021-12-13T08:11:50.289Z"
   },
   {
    "duration": 6,
    "start_time": "2021-12-13T08:11:50.968Z"
   },
   {
    "duration": 13,
    "start_time": "2021-12-13T08:11:50.976Z"
   },
   {
    "duration": 60,
    "start_time": "2021-12-13T08:11:50.991Z"
   },
   {
    "duration": 37,
    "start_time": "2021-12-13T08:11:51.052Z"
   },
   {
    "duration": 12,
    "start_time": "2021-12-13T08:11:51.091Z"
   },
   {
    "duration": 8,
    "start_time": "2021-12-13T08:11:51.104Z"
   },
   {
    "duration": 7,
    "start_time": "2021-12-13T08:11:51.113Z"
   },
   {
    "duration": 28,
    "start_time": "2021-12-13T08:11:51.122Z"
   },
   {
    "duration": 206,
    "start_time": "2021-12-13T08:11:51.152Z"
   },
   {
    "duration": 12,
    "start_time": "2021-12-13T08:11:51.360Z"
   },
   {
    "duration": 193,
    "start_time": "2021-12-13T08:11:51.373Z"
   },
   {
    "duration": 22,
    "start_time": "2021-12-13T08:11:51.568Z"
   },
   {
    "duration": 19,
    "start_time": "2021-12-13T08:11:51.591Z"
   },
   {
    "duration": 253,
    "start_time": "2021-12-13T08:11:51.611Z"
   },
   {
    "duration": 41,
    "start_time": "2021-12-13T08:11:51.866Z"
   },
   {
    "duration": 20,
    "start_time": "2021-12-13T08:11:51.909Z"
   },
   {
    "duration": 341,
    "start_time": "2021-12-13T08:11:51.931Z"
   },
   {
    "duration": 25,
    "start_time": "2021-12-13T08:11:52.274Z"
   },
   {
    "duration": 362,
    "start_time": "2021-12-13T08:11:52.300Z"
   },
   {
    "duration": 6,
    "start_time": "2021-12-13T08:11:52.664Z"
   },
   {
    "duration": 19,
    "start_time": "2021-12-13T08:11:52.672Z"
   },
   {
    "duration": 486,
    "start_time": "2021-12-13T08:11:52.693Z"
   },
   {
    "duration": 9,
    "start_time": "2021-12-13T08:11:53.181Z"
   },
   {
    "duration": 6,
    "start_time": "2021-12-13T08:12:37.820Z"
   },
   {
    "duration": 6,
    "start_time": "2021-12-13T08:12:51.024Z"
   },
   {
    "duration": 5,
    "start_time": "2021-12-13T08:12:55.342Z"
   },
   {
    "duration": 6,
    "start_time": "2021-12-13T08:13:15.121Z"
   },
   {
    "duration": 7,
    "start_time": "2021-12-13T08:13:22.945Z"
   },
   {
    "duration": 3,
    "start_time": "2021-12-13T08:13:25.450Z"
   },
   {
    "duration": 97,
    "start_time": "2021-12-13T08:13:25.455Z"
   },
   {
    "duration": 10,
    "start_time": "2021-12-13T08:13:25.553Z"
   },
   {
    "duration": 7,
    "start_time": "2021-12-13T08:13:25.565Z"
   },
   {
    "duration": 25,
    "start_time": "2021-12-13T08:13:25.573Z"
   },
   {
    "duration": 11,
    "start_time": "2021-12-13T08:13:25.600Z"
   },
   {
    "duration": 22,
    "start_time": "2021-12-13T08:13:25.613Z"
   },
   {
    "duration": 8,
    "start_time": "2021-12-13T08:13:25.637Z"
   },
   {
    "duration": 5,
    "start_time": "2021-12-13T08:13:25.647Z"
   },
   {
    "duration": 38,
    "start_time": "2021-12-13T08:13:25.654Z"
   },
   {
    "duration": 6,
    "start_time": "2021-12-13T08:13:25.693Z"
   },
   {
    "duration": 9,
    "start_time": "2021-12-13T08:13:25.701Z"
   },
   {
    "duration": 97,
    "start_time": "2021-12-13T08:13:25.712Z"
   },
   {
    "duration": 6,
    "start_time": "2021-12-13T08:13:25.811Z"
   },
   {
    "duration": 19,
    "start_time": "2021-12-13T08:13:25.818Z"
   },
   {
    "duration": 15,
    "start_time": "2021-12-13T08:13:25.839Z"
   },
   {
    "duration": 11,
    "start_time": "2021-12-13T08:13:25.855Z"
   },
   {
    "duration": 15,
    "start_time": "2021-12-13T08:13:25.888Z"
   },
   {
    "duration": 6,
    "start_time": "2021-12-13T08:13:25.907Z"
   },
   {
    "duration": 5,
    "start_time": "2021-12-13T08:13:25.916Z"
   },
   {
    "duration": 10,
    "start_time": "2021-12-13T08:13:25.923Z"
   },
   {
    "duration": 872,
    "start_time": "2021-12-13T08:13:25.935Z"
   },
   {
    "duration": 6,
    "start_time": "2021-12-13T08:13:26.809Z"
   },
   {
    "duration": 6,
    "start_time": "2021-12-13T08:13:26.816Z"
   },
   {
    "duration": 77,
    "start_time": "2021-12-13T08:13:26.823Z"
   },
   {
    "duration": 20,
    "start_time": "2021-12-13T08:13:26.901Z"
   },
   {
    "duration": 11,
    "start_time": "2021-12-13T08:13:26.923Z"
   },
   {
    "duration": 4,
    "start_time": "2021-12-13T08:13:26.936Z"
   },
   {
    "duration": 7,
    "start_time": "2021-12-13T08:13:26.942Z"
   },
   {
    "duration": 38,
    "start_time": "2021-12-13T08:13:26.951Z"
   },
   {
    "duration": 197,
    "start_time": "2021-12-13T08:13:26.991Z"
   },
   {
    "duration": 7,
    "start_time": "2021-12-13T08:13:27.189Z"
   },
   {
    "duration": 12,
    "start_time": "2021-12-13T08:13:27.198Z"
   },
   {
    "duration": 490,
    "start_time": "2021-12-13T08:13:27.212Z"
   },
   {
    "duration": 17,
    "start_time": "2021-12-13T08:13:27.704Z"
   },
   {
    "duration": 70,
    "start_time": "2021-12-13T08:13:27.723Z"
   },
   {
    "duration": 512,
    "start_time": "2021-12-13T08:13:27.795Z"
   },
   {
    "duration": 82,
    "start_time": "2021-12-13T08:13:28.309Z"
   },
   {
    "duration": 24,
    "start_time": "2021-12-13T08:13:28.392Z"
   },
   {
    "duration": 781,
    "start_time": "2021-12-13T08:13:28.418Z"
   },
   {
    "duration": 24,
    "start_time": "2021-12-13T08:13:29.201Z"
   },
   {
    "duration": 370,
    "start_time": "2021-12-13T08:13:29.227Z"
   },
   {
    "duration": 7,
    "start_time": "2021-12-13T08:13:29.598Z"
   },
   {
    "duration": 7,
    "start_time": "2021-12-13T08:13:29.607Z"
   },
   {
    "duration": 586,
    "start_time": "2021-12-13T08:13:29.615Z"
   },
   {
    "duration": 5,
    "start_time": "2021-12-13T08:13:30.203Z"
   },
   {
    "duration": 8,
    "start_time": "2021-12-13T08:13:46.667Z"
   },
   {
    "duration": 9,
    "start_time": "2021-12-13T08:13:53.222Z"
   }
  ],
  "colab": {
   "name": "DA+. Сборный проект 1. Шаблон (1).ipynb",
   "provenance": []
  },
  "kernelspec": {
   "display_name": "Python 3",
   "language": "python",
   "name": "python3"
  },
  "language_info": {
   "codemirror_mode": {
    "name": "ipython",
    "version": 3
   },
   "file_extension": ".py",
   "mimetype": "text/x-python",
   "name": "python",
   "nbconvert_exporter": "python",
   "pygments_lexer": "ipython3",
   "version": "3.8.8"
  },
  "toc": {
   "base_numbering": 1,
   "nav_menu": {},
   "number_sections": true,
   "sideBar": true,
   "skip_h1_title": true,
   "title_cell": "Table of Contents",
   "title_sidebar": "Contents",
   "toc_cell": false,
   "toc_position": {
    "height": "calc(100% - 180px)",
    "left": "10px",
    "top": "150px",
    "width": "375px"
   },
   "toc_section_display": true,
   "toc_window_display": true
  }
 },
 "nbformat": 4,
 "nbformat_minor": 1
}
